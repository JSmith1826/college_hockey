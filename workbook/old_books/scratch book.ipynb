{
 "cells": [
  {
   "cell_type": "code",
   "execution_count": 1,
   "metadata": {},
   "outputs": [
    {
     "name": "stdout",
     "output_type": "stream",
     "text": [
      "https://www.hockey-reference.com//box/final/20221001/won/prv/\n",
      "https://www.hockey-reference.com//box/final/20221001/lss/mtu/\n",
      "https://www.hockey-reference.com//box/final/20221001/tor/qui/\n",
      "https://www.hockey-reference.com//box/final/20221001/clg/ren/\n",
      "https://www.hockey-reference.com//box/final/20221001/sac/uma/\n",
      "https://www.hockey-reference.com//box/final/20221001/u18/msu/\n",
      "https://www.hockey-reference.com//box/final/20221001/win/mic/\n",
      "https://www.hockey-reference.com//box/final/20221001/ott/clk/\n",
      "https://www.hockey-reference.com//box/final/20221001/pei/mne/\n",
      "https://www.hockey-reference.com//box/final/20221001/mns/uno/\n",
      "https://www.hockey-reference.com//box/final/20221001/mtb/ndk/\n",
      "https://www.hockey-reference.com//box/final/20221001/bc_/hcr/\n"
     ]
    }
   ],
   "source": [
    "import pandas as pd\n",
    "import numpy as np\n",
    "\n",
    "\n",
    "box_list = ['/box/final/20221001/won/prv/',\n",
    "            '/box/final/20221001/lss/mtu/',\n",
    "            '/box/final/20221001/tor/qui/',\n",
    "            '/box/final/20221001/clg/ren/',\n",
    "            '/box/final/20221001/sac/uma/',\n",
    "            '/box/final/20221001/u18/msu/',\n",
    "            '/box/final/20221001/win/mic/',\n",
    "            '/box/final/20221001/ott/clk/',\n",
    "            '/box/final/20221001/pei/mne/',\n",
    "            '/box/final/20221001/mns/uno/',\n",
    "            '/box/final/20221001/mtb/ndk/',\n",
    "            '/box/final/20221001/bc_/hcr/']\n",
    "\n",
    "base_url = 'https://www.hockey-reference.com/'\n",
    "\n",
    "# loop to get all the box scores\n",
    "for url in box_list:\n",
    "    game_url = base_url + url\n",
    "    print(game_url)"
   ]
  }
 ],
 "metadata": {
  "kernelspec": {
   "display_name": "data_viz",
   "language": "python",
   "name": "python3"
  },
  "language_info": {
   "codemirror_mode": {
    "name": "ipython",
    "version": 3
   },
   "file_extension": ".py",
   "mimetype": "text/x-python",
   "name": "python",
   "nbconvert_exporter": "python",
   "pygments_lexer": "ipython3",
   "version": "3.9.18"
  },
  "orig_nbformat": 4
 },
 "nbformat": 4,
 "nbformat_minor": 2
}
