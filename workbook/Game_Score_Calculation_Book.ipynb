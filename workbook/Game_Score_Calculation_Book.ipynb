{
 "cells": [
  {
   "cell_type": "markdown",
   "metadata": {},
   "source": [
    "# Game Score Notebook"
   ]
  },
  {
   "cell_type": "markdown",
   "metadata": {},
   "source": [
    "## References and Links\n",
    "\n",
    "### All of these metrics were created and scaled to approximate a corilation to Points in a game. \n",
    "Inspired by this article I found about a metric that was developed in 2016, Dom Luszczyszyn which is intended to provide a single number that approximates a player’s performance in a given game. In that original story, he included the formula for the metric and how he arrived at it, so it’s inspired various adaptations since then.\n",
    "https://hockey-graphs.com/2016/07/13/measuring-single-game-productivity-an-introduction-to-game-score/\n",
    "\n",
    "The stats I used are goals, primary assists, secondary assists, shots on goal, blocked shots, penalty differential, faceoffs, 5-on-5 corsi differential, 5-on-5 goal differential.\n",
    "\n",
    "Player Game Score = (0.75 * G) + (0.7 * A1) + (0.55 * A2) + (0.075 * SOG) + (0.05 * BLK) + (0.15 * PD) – (0.15 * PT) + (0.01 * FOW) – (0.01 * FOL) + (0.05 * CF) – (0.05 * CA) + (0.15 * GF) – (0.15* GA)\n",
    "\n"
   ]
  },
  {
   "cell_type": "markdown",
   "metadata": {},
   "source": [
    "## Adjusted / Simplified\n",
    "- found on the blog frshice.substack.com\n",
    "- Bailey Johnson created her simplified version to work on college hockey data because not all of the factors (specifically the defensive portion of the Corsi Metric) is not track or is not available for NCAA games\n",
    "\n",
    "### Original\n",
    "For clarity’s sake, this was my original formula after removing stats I didn’t have access to from Dom’s: Player Game Score = (0.75*G)+(0.7*A1)+(0.55*A2)+(0.075*SOG)+(0.05*BLK)+(0.01*FOW)–(0.01*FOL)+(0.15*GF)–(0.15*GA)\n",
    "\n",
    "### Bailey Final\n",
    "- I also followed Shawn’s method from his NWHL game score work and used league-wide power-play percentage to weight the impact of taking a penalty.\n",
    "\n",
    "- Dom scaled his formula down 75% to make the game scores roughly equivalent to points so people would be familiar with what the game score represented, and I kept to that methodology here because I used some of the same weights he did. Also keep in mind that the goals for and goals against are just goals scored at even strength — it does not include special teams, empty-net or extra-attacker goals.\n",
    "\n",
    "Player Game Score = (G*0.75)+(A1*0.715)+(A2*0.555)+(SOG*0.075)+(BLK*0.05)+(FOW*0.01)-(FOL*0.01)+(GF*0.15)-(GA*0.15)-(PNT*0.138)\n",
    "\n",
    "### PNT*.138\n",
    "- FROM SOURCE: I took the frequency of powerplay goals to penalties, otherwise known as PP%. (https://hockey-graphs.com/2018/03/22/an-introduction-to-nwhl-game-score/)\n",
    "- this is her attempt to account for penalties - CHN NCAA stats don't include penalties drawn \n",
    "- PNT is penalties taken so I will want to grab the penalty incidents, not the minutes. \n",
    "- The 0.138 factor come from the league's power play percentage \n",
    "    - Want to use a static figure like overall average PP % for entire NCAA \n",
    "        - could update it to be dynamic and create a new average every time the data is called\n",
    "\n",
    "        - IDEA: Could create a custom factor for each team in each game \n",
    "            - teams power play effectiveness can vary greatly, as can a teams PK%\n",
    "            - Take the each teams previous success on PP or even on both PP and PK\n",
    "            - Compare to NCAA wide average\n",
    "            - get a factor that could be used and could scale the danger of taking a penalty based on how good the opponent is on PP or how poor your team is on PP\n"
   ]
  },
  {
   "cell_type": "code",
   "execution_count": 95,
   "metadata": {},
   "outputs": [],
   "source": [
    "## Blocking out the Game Score formula\n",
    "\n",
    "#### METRIC Formula\n",
    "# \n",
    "# METRIC = SCORE [ (Goals*0.75) + (Assist1*0.715) + (Assist2*0.555) ] \n",
    "#               + SHOTS [ (Shot_On_Net*0.075) + (Shots_Off_Net*0.075) - (Shots_Blocked*0.075) ]\n",
    "#               + FACEOFFS [ (Faceoff_Wins*0.01) - (Faceoff_Losses*0.01) ]\n",
    "#               + TEAM [ (Goals_For_Team*0.15) + (Goals_Against_Team*0.15) ]\n",
    "#               -  [ (Penalties_Taken * Overall_PP_Success_Rate) ]"
   ]
  },
  {
   "cell_type": "markdown",
   "metadata": {},
   "source": [
    "# Map to each factor in the Game_Stats Database\n",
    "\n",
    "## Calculating a Game Score for each player on each team for each game\n",
    "Each Game has a unique Game_ID column in every relevant table\n",
    "\n",
    "scoring_summary table\n",
    "    Goals - in scoring_summary - count of player's name in Player Column\n",
    "    Assist1 - scoring_summary - Count in Assist1\n",
    "    Assist2 - scoring_summary - Count in Assist2\n",
    "\n",
    "\n",
    "abdvanced_metrics_combined table\n",
    "    Shots_On_Net -  - EVEN_Saved + EVEN_Goals\n",
    "    Shots_Off_Net = EVENE_Miss\n",
    "    Shots_Blocked = EVEN_Block\n",
    "\n",
    "    Defensive_Blocks = D_Blocks\n",
    "\n",
    "player_stats\n",
    "    Faceoff_Wins = FO_W\n",
    "    Faceoff_Loses = FO_L\n",
    "\n",
    "### This takes into account team goals for and goals against but only counts Even strength goals in close games (+/- 1)\n",
    "- can get it from the advanced metrics combined\n",
    "\n",
    "advanced_metrics_\n",
    "    Goals_For_Team = SUM of CLOSE_Goals grouped by Team -NOTE\n",
    "#### NOTE- need to filter out any rows in the advanced_metrics_combined with player = 'TOTAL'\n",
    "    Goals_Against_Team - do the same but for the opposing team - if Game_ID matches and Team =/= the player's team\n",
    "\n",
    "penalty_summary\n",
    "    Penalties_Taken = Count of Player's name in \n",
    "\n"
   ]
  },
  {
   "cell_type": "code",
   "execution_count": 96,
   "metadata": {},
   "outputs": [],
   "source": [
    "\n",
    "import sqlite3\n",
    "import pandas as pd\n",
    "import numpy as np\n",
    "\n",
    "import sqlite3\n",
    "###########################\n",
    "##   CURRENT SEASON - 2023 ###\n",
    "\n",
    "# db_path ='../data/2023_YTD_Game_Stats.db'\n",
    "\n",
    "\n",
    "##############################\n",
    "##   SET SEASON TO PULL   ###`\n",
    "# \n",
    "db_path ='../data/db/NOV_11_YTD_Game_Stats.db'\n",
    "#\n",
    "##############################\n",
    "\n",
    "conn = sqlite3.connect(db_path)\n",
    "\n",
    "# Connect to the provided database\n",
    "\n",
    "cursor = conn.cursor()\n",
    "\n",
    "# Retrieve the list of tables in the database\n",
    "tables = cursor.execute(\"SELECT name FROM sqlite_master WHERE type='table';\").fetchall()\n",
    "tables = [table[0] for table in tables]\n",
    "\n",
    "# Retrieve the columns from each table to get a better understanding of the data structure\n",
    "table_columns = {}\n",
    "for table in tables:\n",
    "    columns = cursor.execute(f\"PRAGMA table_info({table});\").fetchall()\n",
    "    table_columns[table] = [column[1] for column in columns]\n",
    "\n",
    "# table_columns\n",
    "\n",
    "\n",
    "# Create an empty dataframe to store the data\n",
    "compiled_df = pd.DataFrame()"
   ]
  },
  {
   "cell_type": "code",
   "execution_count": null,
   "metadata": {},
   "outputs": [],
   "source": []
  },
  {
   "cell_type": "markdown",
   "metadata": {},
   "source": [
    "## Get Shot Data"
   ]
  },
  {
   "cell_type": "code",
   "execution_count": 97,
   "metadata": {},
   "outputs": [
    {
     "data": {
      "text/html": [
       "<div>\n",
       "<style scoped>\n",
       "    .dataframe tbody tr th:only-of-type {\n",
       "        vertical-align: middle;\n",
       "    }\n",
       "\n",
       "    .dataframe tbody tr th {\n",
       "        vertical-align: top;\n",
       "    }\n",
       "\n",
       "    .dataframe thead th {\n",
       "        text-align: right;\n",
       "    }\n",
       "</style>\n",
       "<table border=\"1\" class=\"dataframe\">\n",
       "  <thead>\n",
       "    <tr style=\"text-align: right;\">\n",
       "      <th></th>\n",
       "      <th>Player</th>\n",
       "      <th>Team</th>\n",
       "      <th>Shots_On_Net</th>\n",
       "      <th>Shots_Off_Net</th>\n",
       "      <th>Shots_Blocked</th>\n",
       "      <th>Defensive_Blocks</th>\n",
       "      <th>Game_ID</th>\n",
       "    </tr>\n",
       "  </thead>\n",
       "  <tbody>\n",
       "    <tr>\n",
       "      <th>0</th>\n",
       "      <td>Harrison Roy</td>\n",
       "      <td>Lake Superior</td>\n",
       "      <td>1</td>\n",
       "      <td>2</td>\n",
       "      <td>1</td>\n",
       "      <td>0</td>\n",
       "      <td>2023-10-07-Lake Superior-Michigan State</td>\n",
       "    </tr>\n",
       "    <tr>\n",
       "      <th>1</th>\n",
       "      <td>Tyler Williams</td>\n",
       "      <td>Lake Superior</td>\n",
       "      <td>4</td>\n",
       "      <td>0</td>\n",
       "      <td>0</td>\n",
       "      <td>0</td>\n",
       "      <td>2023-10-07-Lake Superior-Michigan State</td>\n",
       "    </tr>\n",
       "    <tr>\n",
       "      <th>2</th>\n",
       "      <td>Artyom Borshyov</td>\n",
       "      <td>Lake Superior</td>\n",
       "      <td>2</td>\n",
       "      <td>1</td>\n",
       "      <td>1</td>\n",
       "      <td>0</td>\n",
       "      <td>2023-10-07-Lake Superior-Michigan State</td>\n",
       "    </tr>\n",
       "    <tr>\n",
       "      <th>3</th>\n",
       "      <td>John Herrington</td>\n",
       "      <td>Lake Superior</td>\n",
       "      <td>4</td>\n",
       "      <td>0</td>\n",
       "      <td>0</td>\n",
       "      <td>0</td>\n",
       "      <td>2023-10-07-Lake Superior-Michigan State</td>\n",
       "    </tr>\n",
       "    <tr>\n",
       "      <th>4</th>\n",
       "      <td>Sasha Teleguine</td>\n",
       "      <td>Lake Superior</td>\n",
       "      <td>0</td>\n",
       "      <td>1</td>\n",
       "      <td>2</td>\n",
       "      <td>2</td>\n",
       "      <td>2023-10-07-Lake Superior-Michigan State</td>\n",
       "    </tr>\n",
       "    <tr>\n",
       "      <th>5</th>\n",
       "      <td>Grant Hindman</td>\n",
       "      <td>Lake Superior</td>\n",
       "      <td>2</td>\n",
       "      <td>1</td>\n",
       "      <td>0</td>\n",
       "      <td>2</td>\n",
       "      <td>2023-10-07-Lake Superior-Michigan State</td>\n",
       "    </tr>\n",
       "    <tr>\n",
       "      <th>6</th>\n",
       "      <td>Nate Schweitzer</td>\n",
       "      <td>Lake Superior</td>\n",
       "      <td>3</td>\n",
       "      <td>0</td>\n",
       "      <td>0</td>\n",
       "      <td>0</td>\n",
       "      <td>2023-10-07-Lake Superior-Michigan State</td>\n",
       "    </tr>\n",
       "    <tr>\n",
       "      <th>7</th>\n",
       "      <td>Reagan Milburn</td>\n",
       "      <td>Lake Superior</td>\n",
       "      <td>1</td>\n",
       "      <td>1</td>\n",
       "      <td>0</td>\n",
       "      <td>0</td>\n",
       "      <td>2023-10-07-Lake Superior-Michigan State</td>\n",
       "    </tr>\n",
       "    <tr>\n",
       "      <th>8</th>\n",
       "      <td>Carter Batchelder</td>\n",
       "      <td>Lake Superior</td>\n",
       "      <td>2</td>\n",
       "      <td>0</td>\n",
       "      <td>0</td>\n",
       "      <td>1</td>\n",
       "      <td>2023-10-07-Lake Superior-Michigan State</td>\n",
       "    </tr>\n",
       "    <tr>\n",
       "      <th>9</th>\n",
       "      <td>Evan Bushy</td>\n",
       "      <td>Lake Superior</td>\n",
       "      <td>2</td>\n",
       "      <td>0</td>\n",
       "      <td>0</td>\n",
       "      <td>0</td>\n",
       "      <td>2023-10-07-Lake Superior-Michigan State</td>\n",
       "    </tr>\n",
       "    <tr>\n",
       "      <th>10</th>\n",
       "      <td>Dawson Tritt</td>\n",
       "      <td>Lake Superior</td>\n",
       "      <td>1</td>\n",
       "      <td>0</td>\n",
       "      <td>0</td>\n",
       "      <td>1</td>\n",
       "      <td>2023-10-07-Lake Superior-Michigan State</td>\n",
       "    </tr>\n",
       "    <tr>\n",
       "      <th>11</th>\n",
       "      <td>Connor Milburn</td>\n",
       "      <td>Lake Superior</td>\n",
       "      <td>1</td>\n",
       "      <td>0</td>\n",
       "      <td>0</td>\n",
       "      <td>0</td>\n",
       "      <td>2023-10-07-Lake Superior-Michigan State</td>\n",
       "    </tr>\n",
       "    <tr>\n",
       "      <th>12</th>\n",
       "      <td>Jordan Venegoni</td>\n",
       "      <td>Lake Superior</td>\n",
       "      <td>1</td>\n",
       "      <td>0</td>\n",
       "      <td>0</td>\n",
       "      <td>1</td>\n",
       "      <td>2023-10-07-Lake Superior-Michigan State</td>\n",
       "    </tr>\n",
       "    <tr>\n",
       "      <th>13</th>\n",
       "      <td>Timo Bakos</td>\n",
       "      <td>Lake Superior</td>\n",
       "      <td>1</td>\n",
       "      <td>0</td>\n",
       "      <td>0</td>\n",
       "      <td>1</td>\n",
       "      <td>2023-10-07-Lake Superior-Michigan State</td>\n",
       "    </tr>\n",
       "    <tr>\n",
       "      <th>14</th>\n",
       "      <td>Bryan Huggins</td>\n",
       "      <td>Lake Superior</td>\n",
       "      <td>1</td>\n",
       "      <td>0</td>\n",
       "      <td>0</td>\n",
       "      <td>0</td>\n",
       "      <td>2023-10-07-Lake Superior-Michigan State</td>\n",
       "    </tr>\n",
       "    <tr>\n",
       "      <th>15</th>\n",
       "      <td>Benito Posa</td>\n",
       "      <td>Lake Superior</td>\n",
       "      <td>0</td>\n",
       "      <td>0</td>\n",
       "      <td>0</td>\n",
       "      <td>0</td>\n",
       "      <td>2023-10-07-Lake Superior-Michigan State</td>\n",
       "    </tr>\n",
       "    <tr>\n",
       "      <th>16</th>\n",
       "      <td>Cam Kungle</td>\n",
       "      <td>Lake Superior</td>\n",
       "      <td>1</td>\n",
       "      <td>0</td>\n",
       "      <td>0</td>\n",
       "      <td>0</td>\n",
       "      <td>2023-10-07-Lake Superior-Michigan State</td>\n",
       "    </tr>\n",
       "    <tr>\n",
       "      <th>17</th>\n",
       "      <td>Jared Westcott</td>\n",
       "      <td>Lake Superior</td>\n",
       "      <td>1</td>\n",
       "      <td>0</td>\n",
       "      <td>0</td>\n",
       "      <td>0</td>\n",
       "      <td>2023-10-07-Lake Superior-Michigan State</td>\n",
       "    </tr>\n",
       "    <tr>\n",
       "      <th>18</th>\n",
       "      <td>Ross Roloson</td>\n",
       "      <td>Lake Superior</td>\n",
       "      <td>0</td>\n",
       "      <td>0</td>\n",
       "      <td>0</td>\n",
       "      <td>1</td>\n",
       "      <td>2023-10-07-Lake Superior-Michigan State</td>\n",
       "    </tr>\n",
       "    <tr>\n",
       "      <th>19</th>\n",
       "      <td>Nicolas Muller</td>\n",
       "      <td>Michigan State</td>\n",
       "      <td>4</td>\n",
       "      <td>2</td>\n",
       "      <td>1</td>\n",
       "      <td>0</td>\n",
       "      <td>2023-10-07-Lake Superior-Michigan State</td>\n",
       "    </tr>\n",
       "    <tr>\n",
       "      <th>20</th>\n",
       "      <td>Maxim Štrbák</td>\n",
       "      <td>Michigan State</td>\n",
       "      <td>3</td>\n",
       "      <td>1</td>\n",
       "      <td>2</td>\n",
       "      <td>1</td>\n",
       "      <td>2023-10-07-Lake Superior-Michigan State</td>\n",
       "    </tr>\n",
       "    <tr>\n",
       "      <th>21</th>\n",
       "      <td>Artyom Levshunov</td>\n",
       "      <td>Michigan State</td>\n",
       "      <td>4</td>\n",
       "      <td>0</td>\n",
       "      <td>1</td>\n",
       "      <td>0</td>\n",
       "      <td>2023-10-07-Lake Superior-Michigan State</td>\n",
       "    </tr>\n",
       "    <tr>\n",
       "      <th>22</th>\n",
       "      <td>Reed Lebster</td>\n",
       "      <td>Michigan State</td>\n",
       "      <td>1</td>\n",
       "      <td>2</td>\n",
       "      <td>0</td>\n",
       "      <td>0</td>\n",
       "      <td>2023-10-07-Lake Superior-Michigan State</td>\n",
       "    </tr>\n",
       "    <tr>\n",
       "      <th>23</th>\n",
       "      <td>Karsen Dorwart</td>\n",
       "      <td>Michigan State</td>\n",
       "      <td>1</td>\n",
       "      <td>1</td>\n",
       "      <td>1</td>\n",
       "      <td>1</td>\n",
       "      <td>2023-10-07-Lake Superior-Michigan State</td>\n",
       "    </tr>\n",
       "    <tr>\n",
       "      <th>24</th>\n",
       "      <td>Nash Nienhuis</td>\n",
       "      <td>Michigan State</td>\n",
       "      <td>2</td>\n",
       "      <td>1</td>\n",
       "      <td>1</td>\n",
       "      <td>1</td>\n",
       "      <td>2023-10-07-Lake Superior-Michigan State</td>\n",
       "    </tr>\n",
       "    <tr>\n",
       "      <th>25</th>\n",
       "      <td>Viktor Hurtig</td>\n",
       "      <td>Michigan State</td>\n",
       "      <td>4</td>\n",
       "      <td>0</td>\n",
       "      <td>0</td>\n",
       "      <td>0</td>\n",
       "      <td>2023-10-07-Lake Superior-Michigan State</td>\n",
       "    </tr>\n",
       "    <tr>\n",
       "      <th>26</th>\n",
       "      <td>Tommi Männistö</td>\n",
       "      <td>Michigan State</td>\n",
       "      <td>2</td>\n",
       "      <td>1</td>\n",
       "      <td>1</td>\n",
       "      <td>0</td>\n",
       "      <td>2023-10-07-Lake Superior-Michigan State</td>\n",
       "    </tr>\n",
       "    <tr>\n",
       "      <th>27</th>\n",
       "      <td>Isaac Howard</td>\n",
       "      <td>Michigan State</td>\n",
       "      <td>2</td>\n",
       "      <td>1</td>\n",
       "      <td>0</td>\n",
       "      <td>0</td>\n",
       "      <td>2023-10-07-Lake Superior-Michigan State</td>\n",
       "    </tr>\n",
       "    <tr>\n",
       "      <th>28</th>\n",
       "      <td>Red Savage</td>\n",
       "      <td>Michigan State</td>\n",
       "      <td>2</td>\n",
       "      <td>0</td>\n",
       "      <td>0</td>\n",
       "      <td>0</td>\n",
       "      <td>2023-10-07-Lake Superior-Michigan State</td>\n",
       "    </tr>\n",
       "    <tr>\n",
       "      <th>29</th>\n",
       "      <td>Tanner Kelly</td>\n",
       "      <td>Michigan State</td>\n",
       "      <td>2</td>\n",
       "      <td>0</td>\n",
       "      <td>0</td>\n",
       "      <td>0</td>\n",
       "      <td>2023-10-07-Lake Superior-Michigan State</td>\n",
       "    </tr>\n",
       "    <tr>\n",
       "      <th>30</th>\n",
       "      <td>Daniel Russell</td>\n",
       "      <td>Michigan State</td>\n",
       "      <td>0</td>\n",
       "      <td>1</td>\n",
       "      <td>0</td>\n",
       "      <td>0</td>\n",
       "      <td>2023-10-07-Lake Superior-Michigan State</td>\n",
       "    </tr>\n",
       "    <tr>\n",
       "      <th>31</th>\n",
       "      <td>Gavin O'Connell</td>\n",
       "      <td>Michigan State</td>\n",
       "      <td>1</td>\n",
       "      <td>1</td>\n",
       "      <td>0</td>\n",
       "      <td>0</td>\n",
       "      <td>2023-10-07-Lake Superior-Michigan State</td>\n",
       "    </tr>\n",
       "    <tr>\n",
       "      <th>32</th>\n",
       "      <td>David Gucciardi</td>\n",
       "      <td>Michigan State</td>\n",
       "      <td>1</td>\n",
       "      <td>0</td>\n",
       "      <td>1</td>\n",
       "      <td>0</td>\n",
       "      <td>2023-10-07-Lake Superior-Michigan State</td>\n",
       "    </tr>\n",
       "    <tr>\n",
       "      <th>33</th>\n",
       "      <td>Tiernan Shoudy</td>\n",
       "      <td>Michigan State</td>\n",
       "      <td>1</td>\n",
       "      <td>0</td>\n",
       "      <td>0</td>\n",
       "      <td>1</td>\n",
       "      <td>2023-10-07-Lake Superior-Michigan State</td>\n",
       "    </tr>\n",
       "    <tr>\n",
       "      <th>34</th>\n",
       "      <td>Joey Larson</td>\n",
       "      <td>Michigan State</td>\n",
       "      <td>0</td>\n",
       "      <td>0</td>\n",
       "      <td>0</td>\n",
       "      <td>0</td>\n",
       "      <td>2023-10-07-Lake Superior-Michigan State</td>\n",
       "    </tr>\n",
       "    <tr>\n",
       "      <th>35</th>\n",
       "      <td>Jeremy Davidson</td>\n",
       "      <td>Michigan State</td>\n",
       "      <td>0</td>\n",
       "      <td>1</td>\n",
       "      <td>0</td>\n",
       "      <td>0</td>\n",
       "      <td>2023-10-07-Lake Superior-Michigan State</td>\n",
       "    </tr>\n",
       "    <tr>\n",
       "      <th>36</th>\n",
       "      <td>Matt Basgall</td>\n",
       "      <td>Michigan State</td>\n",
       "      <td>0</td>\n",
       "      <td>0</td>\n",
       "      <td>1</td>\n",
       "      <td>0</td>\n",
       "      <td>2023-10-07-Lake Superior-Michigan State</td>\n",
       "    </tr>\n",
       "    <tr>\n",
       "      <th>37</th>\n",
       "      <td>Patrick Geary</td>\n",
       "      <td>Michigan State</td>\n",
       "      <td>0</td>\n",
       "      <td>0</td>\n",
       "      <td>0</td>\n",
       "      <td>0</td>\n",
       "      <td>2023-10-07-Lake Superior-Michigan State</td>\n",
       "    </tr>\n",
       "    <tr>\n",
       "      <th>38</th>\n",
       "      <td>Anthony Romano</td>\n",
       "      <td>Clarkson</td>\n",
       "      <td>3</td>\n",
       "      <td>2</td>\n",
       "      <td>1</td>\n",
       "      <td>1</td>\n",
       "      <td>2023-10-07-Clarkson-Notre Dame</td>\n",
       "    </tr>\n",
       "    <tr>\n",
       "      <th>39</th>\n",
       "      <td>Eric Ciccolini</td>\n",
       "      <td>Clarkson</td>\n",
       "      <td>4</td>\n",
       "      <td>0</td>\n",
       "      <td>0</td>\n",
       "      <td>1</td>\n",
       "      <td>2023-10-07-Clarkson-Notre Dame</td>\n",
       "    </tr>\n",
       "    <tr>\n",
       "      <th>40</th>\n",
       "      <td>Tristan Sarsland</td>\n",
       "      <td>Clarkson</td>\n",
       "      <td>2</td>\n",
       "      <td>0</td>\n",
       "      <td>2</td>\n",
       "      <td>1</td>\n",
       "      <td>2023-10-07-Clarkson-Notre Dame</td>\n",
       "    </tr>\n",
       "    <tr>\n",
       "      <th>41</th>\n",
       "      <td>Noah Beck</td>\n",
       "      <td>Clarkson</td>\n",
       "      <td>0</td>\n",
       "      <td>2</td>\n",
       "      <td>1</td>\n",
       "      <td>0</td>\n",
       "      <td>2023-10-07-Clarkson-Notre Dame</td>\n",
       "    </tr>\n",
       "    <tr>\n",
       "      <th>42</th>\n",
       "      <td>Cody Monds</td>\n",
       "      <td>Clarkson</td>\n",
       "      <td>2</td>\n",
       "      <td>2</td>\n",
       "      <td>0</td>\n",
       "      <td>0</td>\n",
       "      <td>2023-10-07-Clarkson-Notre Dame</td>\n",
       "    </tr>\n",
       "    <tr>\n",
       "      <th>43</th>\n",
       "      <td>Ryan Taylor</td>\n",
       "      <td>Clarkson</td>\n",
       "      <td>1</td>\n",
       "      <td>2</td>\n",
       "      <td>1</td>\n",
       "      <td>0</td>\n",
       "      <td>2023-10-07-Clarkson-Notre Dame</td>\n",
       "    </tr>\n",
       "    <tr>\n",
       "      <th>44</th>\n",
       "      <td>Ellis Rickwood</td>\n",
       "      <td>Clarkson</td>\n",
       "      <td>0</td>\n",
       "      <td>1</td>\n",
       "      <td>1</td>\n",
       "      <td>0</td>\n",
       "      <td>2023-10-07-Clarkson-Notre Dame</td>\n",
       "    </tr>\n",
       "  </tbody>\n",
       "</table>\n",
       "</div>"
      ],
      "text/plain": [
       "               Player            Team  Shots_On_Net  Shots_Off_Net  \\\n",
       "0        Harrison Roy   Lake Superior             1              2   \n",
       "1      Tyler Williams   Lake Superior             4              0   \n",
       "2     Artyom Borshyov   Lake Superior             2              1   \n",
       "3     John Herrington   Lake Superior             4              0   \n",
       "4     Sasha Teleguine   Lake Superior             0              1   \n",
       "5       Grant Hindman   Lake Superior             2              1   \n",
       "6     Nate Schweitzer   Lake Superior             3              0   \n",
       "7      Reagan Milburn   Lake Superior             1              1   \n",
       "8   Carter Batchelder   Lake Superior             2              0   \n",
       "9          Evan Bushy   Lake Superior             2              0   \n",
       "10       Dawson Tritt   Lake Superior             1              0   \n",
       "11     Connor Milburn   Lake Superior             1              0   \n",
       "12    Jordan Venegoni   Lake Superior             1              0   \n",
       "13         Timo Bakos   Lake Superior             1              0   \n",
       "14      Bryan Huggins   Lake Superior             1              0   \n",
       "15        Benito Posa   Lake Superior             0              0   \n",
       "16         Cam Kungle   Lake Superior             1              0   \n",
       "17     Jared Westcott   Lake Superior             1              0   \n",
       "18       Ross Roloson   Lake Superior             0              0   \n",
       "19     Nicolas Muller  Michigan State             4              2   \n",
       "20       Maxim Štrbák  Michigan State             3              1   \n",
       "21   Artyom Levshunov  Michigan State             4              0   \n",
       "22       Reed Lebster  Michigan State             1              2   \n",
       "23     Karsen Dorwart  Michigan State             1              1   \n",
       "24      Nash Nienhuis  Michigan State             2              1   \n",
       "25      Viktor Hurtig  Michigan State             4              0   \n",
       "26     Tommi Männistö  Michigan State             2              1   \n",
       "27       Isaac Howard  Michigan State             2              1   \n",
       "28         Red Savage  Michigan State             2              0   \n",
       "29       Tanner Kelly  Michigan State             2              0   \n",
       "30     Daniel Russell  Michigan State             0              1   \n",
       "31    Gavin O'Connell  Michigan State             1              1   \n",
       "32    David Gucciardi  Michigan State             1              0   \n",
       "33     Tiernan Shoudy  Michigan State             1              0   \n",
       "34        Joey Larson  Michigan State             0              0   \n",
       "35    Jeremy Davidson  Michigan State             0              1   \n",
       "36       Matt Basgall  Michigan State             0              0   \n",
       "37      Patrick Geary  Michigan State             0              0   \n",
       "38     Anthony Romano        Clarkson             3              2   \n",
       "39     Eric Ciccolini        Clarkson             4              0   \n",
       "40   Tristan Sarsland        Clarkson             2              0   \n",
       "41          Noah Beck        Clarkson             0              2   \n",
       "42         Cody Monds        Clarkson             2              2   \n",
       "43        Ryan Taylor        Clarkson             1              2   \n",
       "44     Ellis Rickwood        Clarkson             0              1   \n",
       "\n",
       "    Shots_Blocked  Defensive_Blocks                                  Game_ID  \n",
       "0               1                 0  2023-10-07-Lake Superior-Michigan State  \n",
       "1               0                 0  2023-10-07-Lake Superior-Michigan State  \n",
       "2               1                 0  2023-10-07-Lake Superior-Michigan State  \n",
       "3               0                 0  2023-10-07-Lake Superior-Michigan State  \n",
       "4               2                 2  2023-10-07-Lake Superior-Michigan State  \n",
       "5               0                 2  2023-10-07-Lake Superior-Michigan State  \n",
       "6               0                 0  2023-10-07-Lake Superior-Michigan State  \n",
       "7               0                 0  2023-10-07-Lake Superior-Michigan State  \n",
       "8               0                 1  2023-10-07-Lake Superior-Michigan State  \n",
       "9               0                 0  2023-10-07-Lake Superior-Michigan State  \n",
       "10              0                 1  2023-10-07-Lake Superior-Michigan State  \n",
       "11              0                 0  2023-10-07-Lake Superior-Michigan State  \n",
       "12              0                 1  2023-10-07-Lake Superior-Michigan State  \n",
       "13              0                 1  2023-10-07-Lake Superior-Michigan State  \n",
       "14              0                 0  2023-10-07-Lake Superior-Michigan State  \n",
       "15              0                 0  2023-10-07-Lake Superior-Michigan State  \n",
       "16              0                 0  2023-10-07-Lake Superior-Michigan State  \n",
       "17              0                 0  2023-10-07-Lake Superior-Michigan State  \n",
       "18              0                 1  2023-10-07-Lake Superior-Michigan State  \n",
       "19              1                 0  2023-10-07-Lake Superior-Michigan State  \n",
       "20              2                 1  2023-10-07-Lake Superior-Michigan State  \n",
       "21              1                 0  2023-10-07-Lake Superior-Michigan State  \n",
       "22              0                 0  2023-10-07-Lake Superior-Michigan State  \n",
       "23              1                 1  2023-10-07-Lake Superior-Michigan State  \n",
       "24              1                 1  2023-10-07-Lake Superior-Michigan State  \n",
       "25              0                 0  2023-10-07-Lake Superior-Michigan State  \n",
       "26              1                 0  2023-10-07-Lake Superior-Michigan State  \n",
       "27              0                 0  2023-10-07-Lake Superior-Michigan State  \n",
       "28              0                 0  2023-10-07-Lake Superior-Michigan State  \n",
       "29              0                 0  2023-10-07-Lake Superior-Michigan State  \n",
       "30              0                 0  2023-10-07-Lake Superior-Michigan State  \n",
       "31              0                 0  2023-10-07-Lake Superior-Michigan State  \n",
       "32              1                 0  2023-10-07-Lake Superior-Michigan State  \n",
       "33              0                 1  2023-10-07-Lake Superior-Michigan State  \n",
       "34              0                 0  2023-10-07-Lake Superior-Michigan State  \n",
       "35              0                 0  2023-10-07-Lake Superior-Michigan State  \n",
       "36              1                 0  2023-10-07-Lake Superior-Michigan State  \n",
       "37              0                 0  2023-10-07-Lake Superior-Michigan State  \n",
       "38              1                 1           2023-10-07-Clarkson-Notre Dame  \n",
       "39              0                 1           2023-10-07-Clarkson-Notre Dame  \n",
       "40              2                 1           2023-10-07-Clarkson-Notre Dame  \n",
       "41              1                 0           2023-10-07-Clarkson-Notre Dame  \n",
       "42              0                 0           2023-10-07-Clarkson-Notre Dame  \n",
       "43              1                 0           2023-10-07-Clarkson-Notre Dame  \n",
       "44              1                 0           2023-10-07-Clarkson-Notre Dame  "
      ]
     },
     "execution_count": 97,
     "metadata": {},
     "output_type": "execute_result"
    }
   ],
   "source": [
    "# Update the code to clean the 'advanced_metrics_combined' table by removing 'TOTAL' rows\n",
    "\n",
    "# Load the 'advanced_metrics_combined' table into a DataFrame excluding 'TOTAL' rows\n",
    "df_amc = pd.read_sql(\"SELECT * FROM advanced_metrics WHERE player != 'TOTAL'\", conn)\n",
    "\n",
    "# Convert columns to numeric for calculations (replacing empty strings with 0)\n",
    "columns_to_convert = ['EVEN_Saved', 'EVEN_Goals', 'EVEN_Miss', 'EVEN_Block', 'D_Blocks']\n",
    "for col in columns_to_convert:\n",
    "    df_amc[col] = pd.to_numeric(df_amc[col].replace('', '0'))\n",
    "\n",
    "# Calculate required columns\n",
    "df_amc['Shots_On_Net'] = df_amc['EVEN_Saved'] + df_amc['EVEN_Goals']\n",
    "df_amc['Shots_Off_Net'] = df_amc['EVEN_Miss']\n",
    "df_amc['Shots_Blocked'] = df_amc['EVEN_Block']\n",
    "df_amc['Defensive_Blocks'] = df_amc['D_Blocks']\n",
    "\n",
    "# Create a DataFrame with only the desired columns\n",
    "# shots_df = df_amc[['Player', 'Team', 'Shots_On_Net', 'Shots_Off_Net', 'Shots_Blocked', 'Defensive_Blocks', 'Game_ID']]\n",
    "\n",
    "# Create a DataFrame with only the desired columns - LEAVE OFF TEAM AND TRY TO ADD IT LATER\n",
    "shots_df = df_amc[['Player', 'Team', 'Shots_On_Net', 'Shots_Off_Net', 'Shots_Blocked', 'Defensive_Blocks', 'Game_ID']]\n",
    "\n",
    "# Display the column names of the shots_df\n",
    "shots_df.columns\n",
    "\n",
    "shots_df.head(25)\n",
    "\n",
    "# Merge into the compiled_df\n",
    "compiled_df = shots_df.copy()\n",
    "\n",
    "# # Team Name Split\n",
    "# team_name_split = compiled_df['Game_ID'].str.split('-').str[-2:]\n",
    "# compiled_df['Temp_Team_1'] = team_name_split.str[0]\n",
    "# compiled_df['Temp_Team_2'] = team_name_split.str[1]\n",
    "\n",
    "# # If Home/Away is Away Then Team is Temp_Team_1\n",
    "# # If Home/Away is Home Then Team is Temp_Team_2\n",
    "# compiled_df['Team'] = np.where(compiled_df['Home/Away'] == 'Away', compiled_df['Temp_Team_1'], compiled_df['Temp_Team_2'])\n",
    "\n",
    "# # Drop Temp Columns\n",
    "# compiled_df.drop(['Temp_Team_1', 'Temp_Team_2'], axis=1, inplace=True)\n",
    "\n",
    "\n",
    "compiled_df.head(45)\n",
    "\n",
    "## Output a CSV of the compiled_df for manual check\n",
    "# compiled_df.to_csv('../TEMP/compiled_df_1.csv', index=False)\n"
   ]
  },
  {
   "cell_type": "markdown",
   "metadata": {},
   "source": [
    "# Use Master_Roster To Get Player to Team Mapping"
   ]
  },
  {
   "cell_type": "code",
   "execution_count": 98,
   "metadata": {},
   "outputs": [],
   "source": [
    "# ## See column names from master_roster table\n",
    "# cursor.execute(\"SELECT * FROM master_roster\")\n",
    "# col_names = [description[0] for description in cursor.description]\n",
    "# col_names"
   ]
  },
  {
   "cell_type": "code",
   "execution_count": 99,
   "metadata": {},
   "outputs": [],
   "source": [
    "# # Extracting all the player names from the master_roster table\n",
    "# all_player_names_master_roster = set(pd.read_sql(\"SELECT Clean_Name FROM master_roster\", conn)['Clean_Name'])\n",
    "\n",
    "# # Finding the intersection of player names between compiled_df and master_roster\n",
    "# common_names = set(compiled_df['Player']).intersection(all_player_names_master_roster)\n",
    "\n",
    "# # Take out those annoying character if there are any\n",
    "# # Replace non-breaking spaces with regular spaces in the player names\n",
    "# compiled_df['Player'] = compiled_df['Player'].str.replace(u'\\xa0', u' ')\n",
    "\n",
    "\n",
    "# # Finding names in compiled_df that are not in master_roster\n",
    "# missing_names = set(compiled_df['Player']) - all_player_names_master_roster\n",
    "\n",
    "# len(common_names), len(missing_names), list(missing_names)[:10]  # Displaying the first 10 missing names\n"
   ]
  },
  {
   "cell_type": "code",
   "execution_count": 100,
   "metadata": {},
   "outputs": [],
   "source": [
    "# # Create a DataFrame with the missing names\n",
    "# missing_names_df = compiled_df[compiled_df['Player'].isin(missing_names)]\n",
    "\n",
    "# missing_names_df.head(25)\n",
    "\n",
    "# ## unique Game_IDs in the missing_names_df\n",
    "# missing_names_df['Game_ID'].nunique()"
   ]
  },
  {
   "cell_type": "code",
   "execution_count": null,
   "metadata": {},
   "outputs": [],
   "source": []
  },
  {
   "cell_type": "code",
   "execution_count": 101,
   "metadata": {},
   "outputs": [
    {
     "data": {
      "text/plain": [
       "0"
      ]
     },
     "execution_count": 101,
     "metadata": {},
     "output_type": "execute_result"
    }
   ],
   "source": [
    "## How many Nan Values are there in the Team Column?\n",
    "compiled_df['Team'].isna().sum()\n",
    "\n",
    "# Value Count of the Team Column\n",
    "# compiled_df['Team'].value_counts()"
   ]
  },
  {
   "cell_type": "markdown",
   "metadata": {},
   "source": [
    "# Get Goal, Assist1 and Assist2\n",
    "- Working"
   ]
  },
  {
   "cell_type": "code",
   "execution_count": 102,
   "metadata": {},
   "outputs": [
    {
     "name": "stdout",
     "output_type": "stream",
     "text": [
      "<class 'pandas.core.frame.DataFrame'>\n",
      "RangeIndex: 11335 entries, 0 to 11334\n",
      "Data columns (total 7 columns):\n",
      " #   Column            Non-Null Count  Dtype \n",
      "---  ------            --------------  ----- \n",
      " 0   Player            11335 non-null  object\n",
      " 1   Team              11335 non-null  object\n",
      " 2   Shots_On_Net      11335 non-null  int64 \n",
      " 3   Shots_Off_Net     11335 non-null  int64 \n",
      " 4   Shots_Blocked     11335 non-null  int64 \n",
      " 5   Defensive_Blocks  11335 non-null  int64 \n",
      " 6   Game_ID           11335 non-null  object\n",
      "dtypes: int64(4), object(3)\n",
      "memory usage: 620.0+ KB\n"
     ]
    }
   ],
   "source": [
    "# Separately calculate Goals, Assist1, and Assist2\n",
    "\n",
    "# Goals\n",
    "goals_df = pd.read_sql(\"\"\"\n",
    "SELECT \n",
    "    Player,\n",
    "    Game_ID,\n",
    "    COUNT(Player) AS Goals\n",
    "FROM \n",
    "    scoring_summary\n",
    "GROUP BY \n",
    "    Player, Game_ID;\n",
    "\"\"\", conn)\n",
    "\n",
    "# Assist1\n",
    "assist1_df = pd.read_sql(\"\"\"\n",
    "SELECT \n",
    "    Assist1 AS Player,\n",
    "    Game_ID,\n",
    "    COUNT(Assist1) AS Assist1\n",
    "FROM \n",
    "    scoring_summary\n",
    "WHERE \n",
    "    Assist1 IS NOT NULL AND Assist1 != ''\n",
    "GROUP BY \n",
    "    Assist1, Game_ID;\n",
    "\"\"\", conn)\n",
    "\n",
    "# Assist2\n",
    "assist2_df = pd.read_sql(\"\"\"\n",
    "SELECT \n",
    "    Assist2 AS Player,\n",
    "    Game_ID,\n",
    "    COUNT(Assist2) AS Assist2\n",
    "FROM \n",
    "    scoring_summary\n",
    "WHERE \n",
    "    Assist2 IS NOT NULL AND Assist2 != ''\n",
    "GROUP BY \n",
    "    Assist2, Game_ID;\n",
    "\"\"\", conn)\n",
    "\n",
    "\n",
    "# goals_df.head(25)\n",
    "# Merge the dataframes together\n",
    "merged_df = goals_df.merge(assist1_df, on=['Player', 'Game_ID'], how='outer')\n",
    "merged_df = merged_df.merge(assist2_df, on=['Player', 'Game_ID'], how='outer')\n",
    "\n",
    "# Fill NaN values with 0\n",
    "merged_df = merged_df.fillna(0)\n",
    "\n",
    "# Convert columns to int\n",
    "merged_df['Goals'] = merged_df['Goals'].astype(int)\n",
    "merged_df['Assist1'] = merged_df['Assist1'].astype(int)\n",
    "merged_df['Assist2'] = merged_df['Assist2'].astype(int)\n",
    "\n",
    "# # Sort by Player\n",
    "goal_assist_df = merged_df.sort_values(by=['Player'])\n",
    "\n",
    "# # Display the first few rows\n",
    "goal_assist_df.head(20)\n",
    "\n",
    "\n",
    "\n",
    "# # Merge the Goal and Assist info into the compiled_df join left\n",
    "# compiled_df = pd.merge(compiled_df, goal_assist_df, on=['Player', 'Game_ID'], how='outer')\n",
    "\n",
    "\n",
    "compiled_df.sample(10)\n",
    "compiled_df.info()\n",
    "\n",
    "\n",
    "\n",
    "# # Histogram of the compiled_df\n",
    "# compiled_df.hist()\n",
    "\n",
    "compiled_df.to_csv('../TEMP/compiled_df_2.csv', index=False)"
   ]
  },
  {
   "cell_type": "code",
   "execution_count": 103,
   "metadata": {},
   "outputs": [
    {
     "data": {
      "text/plain": [
       "0"
      ]
     },
     "execution_count": 103,
     "metadata": {},
     "output_type": "execute_result"
    }
   ],
   "source": [
    "## Value count of Teams\n",
    "compiled_df['Team'].value_counts()\n",
    "\n",
    "# How many Nan Values are there in the Team Column?\n",
    "compiled_df['Team'].isna().sum()"
   ]
  },
  {
   "cell_type": "code",
   "execution_count": 104,
   "metadata": {},
   "outputs": [
    {
     "name": "stdout",
     "output_type": "stream",
     "text": [
      "<class 'pandas.core.frame.DataFrame'>\n",
      "RangeIndex: 11335 entries, 0 to 11334\n",
      "Data columns (total 10 columns):\n",
      " #   Column            Non-Null Count  Dtype \n",
      "---  ------            --------------  ----- \n",
      " 0   Player            11335 non-null  object\n",
      " 1   Team              11335 non-null  object\n",
      " 2   Shots_On_Net      11335 non-null  int64 \n",
      " 3   Shots_Off_Net     11335 non-null  int64 \n",
      " 4   Shots_Blocked     11335 non-null  int64 \n",
      " 5   Defensive_Blocks  11335 non-null  int64 \n",
      " 6   Game_ID           11335 non-null  object\n",
      " 7   Goals             11335 non-null  int32 \n",
      " 8   Assist1           11335 non-null  int32 \n",
      " 9   Assist2           11335 non-null  int32 \n",
      "dtypes: int32(3), int64(4), object(3)\n",
      "memory usage: 752.8+ KB\n"
     ]
    }
   ],
   "source": [
    "# Replace non-breaking spaces with regular spaces in the Player column of compiled_df\n",
    "compiled_df['Player'] = compiled_df['Player'].str.replace('\\xa0', ' ')\n",
    "\n",
    "# Merge the dataframes again\n",
    "new_merged_df = pd.merge(compiled_df, goal_assist_df, on=['Player', 'Game_ID'], how='left')\n",
    "\n",
    "# Fill NaN values with 0 for the Goals, Assist1, and Assist2 columns\n",
    "new_merged_df[['Goals', 'Assist1', 'Assist2']] = new_merged_df[['Goals', 'Assist1', 'Assist2']].fillna(0).astype(int)\n",
    "\n",
    "# Display the first few rows of the merged dataframe\n",
    "merged_df.head()\n",
    "\n",
    "new_merged_df.info()\n",
    "\n",
    "# RENAME BACK TO COMPILED_DF FOR USE LATER\n",
    "compiled_df = new_merged_df.copy()\n",
    "\n",
    "# compiled_df.to_csv('../TEMP/compiled_df_3.csv', index=False)"
   ]
  },
  {
   "cell_type": "code",
   "execution_count": 105,
   "metadata": {},
   "outputs": [
    {
     "data": {
      "text/html": [
       "<div>\n",
       "<style scoped>\n",
       "    .dataframe tbody tr th:only-of-type {\n",
       "        vertical-align: middle;\n",
       "    }\n",
       "\n",
       "    .dataframe tbody tr th {\n",
       "        vertical-align: top;\n",
       "    }\n",
       "\n",
       "    .dataframe thead th {\n",
       "        text-align: right;\n",
       "    }\n",
       "</style>\n",
       "<table border=\"1\" class=\"dataframe\">\n",
       "  <thead>\n",
       "    <tr style=\"text-align: right;\">\n",
       "      <th></th>\n",
       "      <th>Player</th>\n",
       "      <th>Team</th>\n",
       "      <th>Shots_On_Net</th>\n",
       "      <th>Shots_Off_Net</th>\n",
       "      <th>Shots_Blocked</th>\n",
       "      <th>Defensive_Blocks</th>\n",
       "      <th>Game_ID</th>\n",
       "      <th>Goals</th>\n",
       "      <th>Assist1</th>\n",
       "      <th>Assist2</th>\n",
       "    </tr>\n",
       "  </thead>\n",
       "  <tbody>\n",
       "    <tr>\n",
       "      <th>0</th>\n",
       "      <td>Harrison Roy</td>\n",
       "      <td>Lake Superior</td>\n",
       "      <td>1</td>\n",
       "      <td>2</td>\n",
       "      <td>1</td>\n",
       "      <td>0</td>\n",
       "      <td>2023-10-07-Lake Superior-Michigan State</td>\n",
       "      <td>1</td>\n",
       "      <td>0</td>\n",
       "      <td>0</td>\n",
       "    </tr>\n",
       "    <tr>\n",
       "      <th>1</th>\n",
       "      <td>Tyler Williams</td>\n",
       "      <td>Lake Superior</td>\n",
       "      <td>4</td>\n",
       "      <td>0</td>\n",
       "      <td>0</td>\n",
       "      <td>0</td>\n",
       "      <td>2023-10-07-Lake Superior-Michigan State</td>\n",
       "      <td>1</td>\n",
       "      <td>0</td>\n",
       "      <td>0</td>\n",
       "    </tr>\n",
       "    <tr>\n",
       "      <th>2</th>\n",
       "      <td>Artyom Borshyov</td>\n",
       "      <td>Lake Superior</td>\n",
       "      <td>2</td>\n",
       "      <td>1</td>\n",
       "      <td>1</td>\n",
       "      <td>0</td>\n",
       "      <td>2023-10-07-Lake Superior-Michigan State</td>\n",
       "      <td>0</td>\n",
       "      <td>0</td>\n",
       "      <td>0</td>\n",
       "    </tr>\n",
       "    <tr>\n",
       "      <th>3</th>\n",
       "      <td>John Herrington</td>\n",
       "      <td>Lake Superior</td>\n",
       "      <td>4</td>\n",
       "      <td>0</td>\n",
       "      <td>0</td>\n",
       "      <td>0</td>\n",
       "      <td>2023-10-07-Lake Superior-Michigan State</td>\n",
       "      <td>0</td>\n",
       "      <td>0</td>\n",
       "      <td>0</td>\n",
       "    </tr>\n",
       "    <tr>\n",
       "      <th>4</th>\n",
       "      <td>Sasha Teleguine</td>\n",
       "      <td>Lake Superior</td>\n",
       "      <td>0</td>\n",
       "      <td>1</td>\n",
       "      <td>2</td>\n",
       "      <td>2</td>\n",
       "      <td>2023-10-07-Lake Superior-Michigan State</td>\n",
       "      <td>0</td>\n",
       "      <td>0</td>\n",
       "      <td>0</td>\n",
       "    </tr>\n",
       "    <tr>\n",
       "      <th>5</th>\n",
       "      <td>Grant Hindman</td>\n",
       "      <td>Lake Superior</td>\n",
       "      <td>2</td>\n",
       "      <td>1</td>\n",
       "      <td>0</td>\n",
       "      <td>2</td>\n",
       "      <td>2023-10-07-Lake Superior-Michigan State</td>\n",
       "      <td>0</td>\n",
       "      <td>0</td>\n",
       "      <td>0</td>\n",
       "    </tr>\n",
       "    <tr>\n",
       "      <th>6</th>\n",
       "      <td>Nate Schweitzer</td>\n",
       "      <td>Lake Superior</td>\n",
       "      <td>3</td>\n",
       "      <td>0</td>\n",
       "      <td>0</td>\n",
       "      <td>0</td>\n",
       "      <td>2023-10-07-Lake Superior-Michigan State</td>\n",
       "      <td>0</td>\n",
       "      <td>0</td>\n",
       "      <td>0</td>\n",
       "    </tr>\n",
       "    <tr>\n",
       "      <th>7</th>\n",
       "      <td>Reagan Milburn</td>\n",
       "      <td>Lake Superior</td>\n",
       "      <td>1</td>\n",
       "      <td>1</td>\n",
       "      <td>0</td>\n",
       "      <td>0</td>\n",
       "      <td>2023-10-07-Lake Superior-Michigan State</td>\n",
       "      <td>0</td>\n",
       "      <td>0</td>\n",
       "      <td>0</td>\n",
       "    </tr>\n",
       "    <tr>\n",
       "      <th>8</th>\n",
       "      <td>Carter Batchelder</td>\n",
       "      <td>Lake Superior</td>\n",
       "      <td>2</td>\n",
       "      <td>0</td>\n",
       "      <td>0</td>\n",
       "      <td>1</td>\n",
       "      <td>2023-10-07-Lake Superior-Michigan State</td>\n",
       "      <td>0</td>\n",
       "      <td>0</td>\n",
       "      <td>1</td>\n",
       "    </tr>\n",
       "    <tr>\n",
       "      <th>9</th>\n",
       "      <td>Evan Bushy</td>\n",
       "      <td>Lake Superior</td>\n",
       "      <td>2</td>\n",
       "      <td>0</td>\n",
       "      <td>0</td>\n",
       "      <td>0</td>\n",
       "      <td>2023-10-07-Lake Superior-Michigan State</td>\n",
       "      <td>0</td>\n",
       "      <td>0</td>\n",
       "      <td>0</td>\n",
       "    </tr>\n",
       "    <tr>\n",
       "      <th>10</th>\n",
       "      <td>Dawson Tritt</td>\n",
       "      <td>Lake Superior</td>\n",
       "      <td>1</td>\n",
       "      <td>0</td>\n",
       "      <td>0</td>\n",
       "      <td>1</td>\n",
       "      <td>2023-10-07-Lake Superior-Michigan State</td>\n",
       "      <td>0</td>\n",
       "      <td>0</td>\n",
       "      <td>0</td>\n",
       "    </tr>\n",
       "    <tr>\n",
       "      <th>11</th>\n",
       "      <td>Connor Milburn</td>\n",
       "      <td>Lake Superior</td>\n",
       "      <td>1</td>\n",
       "      <td>0</td>\n",
       "      <td>0</td>\n",
       "      <td>0</td>\n",
       "      <td>2023-10-07-Lake Superior-Michigan State</td>\n",
       "      <td>0</td>\n",
       "      <td>0</td>\n",
       "      <td>0</td>\n",
       "    </tr>\n",
       "    <tr>\n",
       "      <th>12</th>\n",
       "      <td>Jordan Venegoni</td>\n",
       "      <td>Lake Superior</td>\n",
       "      <td>1</td>\n",
       "      <td>0</td>\n",
       "      <td>0</td>\n",
       "      <td>1</td>\n",
       "      <td>2023-10-07-Lake Superior-Michigan State</td>\n",
       "      <td>0</td>\n",
       "      <td>0</td>\n",
       "      <td>0</td>\n",
       "    </tr>\n",
       "    <tr>\n",
       "      <th>13</th>\n",
       "      <td>Timo Bakos</td>\n",
       "      <td>Lake Superior</td>\n",
       "      <td>1</td>\n",
       "      <td>0</td>\n",
       "      <td>0</td>\n",
       "      <td>1</td>\n",
       "      <td>2023-10-07-Lake Superior-Michigan State</td>\n",
       "      <td>0</td>\n",
       "      <td>1</td>\n",
       "      <td>0</td>\n",
       "    </tr>\n",
       "    <tr>\n",
       "      <th>14</th>\n",
       "      <td>Bryan Huggins</td>\n",
       "      <td>Lake Superior</td>\n",
       "      <td>1</td>\n",
       "      <td>0</td>\n",
       "      <td>0</td>\n",
       "      <td>0</td>\n",
       "      <td>2023-10-07-Lake Superior-Michigan State</td>\n",
       "      <td>0</td>\n",
       "      <td>0</td>\n",
       "      <td>0</td>\n",
       "    </tr>\n",
       "    <tr>\n",
       "      <th>15</th>\n",
       "      <td>Benito Posa</td>\n",
       "      <td>Lake Superior</td>\n",
       "      <td>0</td>\n",
       "      <td>0</td>\n",
       "      <td>0</td>\n",
       "      <td>0</td>\n",
       "      <td>2023-10-07-Lake Superior-Michigan State</td>\n",
       "      <td>0</td>\n",
       "      <td>0</td>\n",
       "      <td>0</td>\n",
       "    </tr>\n",
       "    <tr>\n",
       "      <th>16</th>\n",
       "      <td>Cam Kungle</td>\n",
       "      <td>Lake Superior</td>\n",
       "      <td>1</td>\n",
       "      <td>0</td>\n",
       "      <td>0</td>\n",
       "      <td>0</td>\n",
       "      <td>2023-10-07-Lake Superior-Michigan State</td>\n",
       "      <td>0</td>\n",
       "      <td>0</td>\n",
       "      <td>0</td>\n",
       "    </tr>\n",
       "    <tr>\n",
       "      <th>17</th>\n",
       "      <td>Jared Westcott</td>\n",
       "      <td>Lake Superior</td>\n",
       "      <td>1</td>\n",
       "      <td>0</td>\n",
       "      <td>0</td>\n",
       "      <td>0</td>\n",
       "      <td>2023-10-07-Lake Superior-Michigan State</td>\n",
       "      <td>0</td>\n",
       "      <td>0</td>\n",
       "      <td>0</td>\n",
       "    </tr>\n",
       "    <tr>\n",
       "      <th>18</th>\n",
       "      <td>Ross Roloson</td>\n",
       "      <td>Lake Superior</td>\n",
       "      <td>0</td>\n",
       "      <td>0</td>\n",
       "      <td>0</td>\n",
       "      <td>1</td>\n",
       "      <td>2023-10-07-Lake Superior-Michigan State</td>\n",
       "      <td>0</td>\n",
       "      <td>0</td>\n",
       "      <td>0</td>\n",
       "    </tr>\n",
       "    <tr>\n",
       "      <th>19</th>\n",
       "      <td>Nicolas Muller</td>\n",
       "      <td>Michigan State</td>\n",
       "      <td>4</td>\n",
       "      <td>2</td>\n",
       "      <td>1</td>\n",
       "      <td>0</td>\n",
       "      <td>2023-10-07-Lake Superior-Michigan State</td>\n",
       "      <td>1</td>\n",
       "      <td>1</td>\n",
       "      <td>0</td>\n",
       "    </tr>\n",
       "  </tbody>\n",
       "</table>\n",
       "</div>"
      ],
      "text/plain": [
       "               Player            Team  Shots_On_Net  Shots_Off_Net  \\\n",
       "0        Harrison Roy   Lake Superior             1              2   \n",
       "1      Tyler Williams   Lake Superior             4              0   \n",
       "2     Artyom Borshyov   Lake Superior             2              1   \n",
       "3     John Herrington   Lake Superior             4              0   \n",
       "4     Sasha Teleguine   Lake Superior             0              1   \n",
       "5       Grant Hindman   Lake Superior             2              1   \n",
       "6     Nate Schweitzer   Lake Superior             3              0   \n",
       "7      Reagan Milburn   Lake Superior             1              1   \n",
       "8   Carter Batchelder   Lake Superior             2              0   \n",
       "9          Evan Bushy   Lake Superior             2              0   \n",
       "10       Dawson Tritt   Lake Superior             1              0   \n",
       "11     Connor Milburn   Lake Superior             1              0   \n",
       "12    Jordan Venegoni   Lake Superior             1              0   \n",
       "13         Timo Bakos   Lake Superior             1              0   \n",
       "14      Bryan Huggins   Lake Superior             1              0   \n",
       "15        Benito Posa   Lake Superior             0              0   \n",
       "16         Cam Kungle   Lake Superior             1              0   \n",
       "17     Jared Westcott   Lake Superior             1              0   \n",
       "18       Ross Roloson   Lake Superior             0              0   \n",
       "19     Nicolas Muller  Michigan State             4              2   \n",
       "\n",
       "    Shots_Blocked  Defensive_Blocks                                  Game_ID  \\\n",
       "0               1                 0  2023-10-07-Lake Superior-Michigan State   \n",
       "1               0                 0  2023-10-07-Lake Superior-Michigan State   \n",
       "2               1                 0  2023-10-07-Lake Superior-Michigan State   \n",
       "3               0                 0  2023-10-07-Lake Superior-Michigan State   \n",
       "4               2                 2  2023-10-07-Lake Superior-Michigan State   \n",
       "5               0                 2  2023-10-07-Lake Superior-Michigan State   \n",
       "6               0                 0  2023-10-07-Lake Superior-Michigan State   \n",
       "7               0                 0  2023-10-07-Lake Superior-Michigan State   \n",
       "8               0                 1  2023-10-07-Lake Superior-Michigan State   \n",
       "9               0                 0  2023-10-07-Lake Superior-Michigan State   \n",
       "10              0                 1  2023-10-07-Lake Superior-Michigan State   \n",
       "11              0                 0  2023-10-07-Lake Superior-Michigan State   \n",
       "12              0                 1  2023-10-07-Lake Superior-Michigan State   \n",
       "13              0                 1  2023-10-07-Lake Superior-Michigan State   \n",
       "14              0                 0  2023-10-07-Lake Superior-Michigan State   \n",
       "15              0                 0  2023-10-07-Lake Superior-Michigan State   \n",
       "16              0                 0  2023-10-07-Lake Superior-Michigan State   \n",
       "17              0                 0  2023-10-07-Lake Superior-Michigan State   \n",
       "18              0                 1  2023-10-07-Lake Superior-Michigan State   \n",
       "19              1                 0  2023-10-07-Lake Superior-Michigan State   \n",
       "\n",
       "    Goals  Assist1  Assist2  \n",
       "0       1        0        0  \n",
       "1       1        0        0  \n",
       "2       0        0        0  \n",
       "3       0        0        0  \n",
       "4       0        0        0  \n",
       "5       0        0        0  \n",
       "6       0        0        0  \n",
       "7       0        0        0  \n",
       "8       0        0        1  \n",
       "9       0        0        0  \n",
       "10      0        0        0  \n",
       "11      0        0        0  \n",
       "12      0        0        0  \n",
       "13      0        1        0  \n",
       "14      0        0        0  \n",
       "15      0        0        0  \n",
       "16      0        0        0  \n",
       "17      0        0        0  \n",
       "18      0        0        0  \n",
       "19      1        1        0  "
      ]
     },
     "execution_count": 105,
     "metadata": {},
     "output_type": "execute_result"
    }
   ],
   "source": [
    "# new_merged_df['Goals'].hist()\n",
    "\n",
    "new_merged_df.head(20)\n",
    "\n",
    "compiled_df.head(20)\n",
    "# Value Counts of Teams\n",
    "# compiled_df['Team'].value_counts()\n",
    "\n",
    "# How many Nan values are in the Team column?\n",
    "# compiled_df['Team'].isna().sum()\n",
    "\n",
    "# "
   ]
  },
  {
   "cell_type": "code",
   "execution_count": 106,
   "metadata": {},
   "outputs": [],
   "source": [
    "### OUTPUT CSVS\n",
    "\n",
    "# # Save the compiled_df to a csv\n",
    "compiled_df.to_csv('../TEMP/PRELIM_compiled_df.csv', index=False)\n",
    "\n",
    "# # Save the goal_assist_df to a csv\n",
    "# goal_assist_df.to_csv('../TEMP/PRELIM_goal_assist_df.csv', index=False)"
   ]
  },
  {
   "cell_type": "code",
   "execution_count": 107,
   "metadata": {},
   "outputs": [
    {
     "name": "stdout",
     "output_type": "stream",
     "text": [
      "<class 'pandas.core.frame.DataFrame'>\n",
      "RangeIndex: 11991 entries, 0 to 11990\n",
      "Data columns (total 13 columns):\n",
      " #   Column            Non-Null Count  Dtype   \n",
      "---  ------            --------------  -----   \n",
      " 0   Player            11991 non-null  object  \n",
      " 1   Team              11335 non-null  object  \n",
      " 2   Shots_On_Net      11335 non-null  float64 \n",
      " 3   Shots_Off_Net     11335 non-null  float64 \n",
      " 4   Shots_Blocked     11335 non-null  float64 \n",
      " 5   Defensive_Blocks  11335 non-null  float64 \n",
      " 6   Game_ID           11991 non-null  object  \n",
      " 7   Goals             11335 non-null  float64 \n",
      " 8   Assist1           11335 non-null  float64 \n",
      " 9   Assist2           11335 non-null  float64 \n",
      " 10  Faceoff_Wins      3606 non-null   float64 \n",
      " 11  Faceoff_Losses    3606 non-null   float64 \n",
      " 12  _merge            11991 non-null  category\n",
      "dtypes: category(1), float64(9), object(3)\n",
      "memory usage: 1.1+ MB\n"
     ]
    },
    {
     "data": {
      "image/png": "[encoded data removed]",
      "text/plain": [
       "<Figure size 640x480 with 9 Axes>"
      ]
     },
     "metadata": {},
     "output_type": "display_data"
    }
   ],
   "source": [
    "# Calculate Faceoff Metrics for each player in each game\n",
    "\n",
    "query_faceoff_metrics = \"\"\"\n",
    "SELECT \n",
    "    Player,\n",
    "    Game_ID,\n",
    "    FOW AS Faceoff_Wins,\n",
    "    FOL AS Faceoff_Losses\n",
    "FROM \n",
    "    player_stats;\n",
    "\"\"\"\n",
    "\n",
    "# Create a DataFrame with the results\n",
    "\n",
    "\n",
    "\n",
    "faceoff_metrics_data = cursor.execute(query_faceoff_metrics).fetchall()\n",
    "\n",
    "# Preview the first few rows of the result\n",
    "faceoff_metrics_data[:5]\n",
    "\n",
    "# Create DataFrame with the results\n",
    "faceoff_metrics_df = pd.DataFrame(faceoff_metrics_data, columns=['Player', 'Game_ID', 'Faceoff_Wins', 'Faceoff_Losses'])\n",
    "\n",
    "# Take out those annoying character if there are any\n",
    "# Replace non-breaking spaces with regular spaces in the Player column of compiled_df\n",
    "faceoff_metrics_df['Player'] = faceoff_metrics_df['Player'].str.replace('\\xa0', ' ')\n",
    "\n",
    "# Replace non-breaking spaces with regular spaces in the Player column of compiled_df\n",
    "compiled_df['Team'] = compiled_df['Team'].str.replace('\\xa0', ' ')\n",
    "\n",
    "# Drop old indicator column to make way for new one\n",
    "# compiled_df = compiled_df.drop(columns=['_merge'])\n",
    "compiled_df = compiled_df.merge(faceoff_metrics_df, on=['Player', 'Game_ID'], how='outer', indicator=True)\n",
    "\n",
    "# Histogram of the compiled_df\n",
    "compiled_df.hist()\n",
    "\n",
    "compiled_df.info()\n",
    "compiled_df.head(25)\n",
    "\n",
    "# compiled_df.columns\n",
    "\n",
    "compiled_df['Team'].value_counts()\n",
    "\n",
    "compiled_df.to_csv('../TEMP/compiled_df_4.csv', index=False)\n",
    "\n",
    "# compiled_df['Team'].isna().sum()"
   ]
  },
  {
   "cell_type": "markdown",
   "metadata": {},
   "source": [
    "### Overall PP Success"
   ]
  },
  {
   "cell_type": "code",
   "execution_count": 108,
   "metadata": {},
   "outputs": [
    {
     "data": {
      "text/plain": [
       "0.2549945513984744"
      ]
     },
     "execution_count": 108,
     "metadata": {},
     "output_type": "execute_result"
    }
   ],
   "source": [
    "### Find the Overall Power Play Success rate for the entire database\n",
    "\n",
    "# Count the total number of Power Play (PP) goals from the scoring_summary table.\n",
    "pp_goals_count = cursor.execute(\"SELECT COUNT(*) FROM scoring_summary WHERE PP != '';\").fetchone()[0]\n",
    "\n",
    "# Count the total number of Power Plays from the penalty_summary table.\n",
    "total_pp_count = cursor.execute(\"SELECT COUNT(*) FROM penalty_summary;\").fetchone()[0]\n",
    "\n",
    "# Calculate the Power Play success rate.\n",
    "pp_success_rate = pp_goals_count / total_pp_count\n",
    "\n",
    "\n",
    "## OVERALL NCAA WIDE POWER PLAY SUCCESS RATE TO USE IN FACTOR\n",
    "pp_success_rate\n"
   ]
  },
  {
   "cell_type": "code",
   "execution_count": 109,
   "metadata": {},
   "outputs": [
    {
     "data": {
      "text/plain": [
       "656"
      ]
     },
     "execution_count": 109,
     "metadata": {},
     "output_type": "execute_result"
    }
   ],
   "source": [
    "# even_strength_goals_refined_df.shape\n",
    "\n",
    "# Drop indicator column before new merge\n",
    "compiled_df = compiled_df.drop(columns=['_merge'])\n",
    "\n",
    "\n",
    "\n",
    "\n",
    "\n",
    "# # Save the compiled_df to a csv\n",
    "# compiled_df.to_csv('../TEMP/NEW_PRELIM_compiled_df.csv', index=False)\n",
    "\n",
    "compiled_df['Team'].value_counts()\n",
    "\n",
    "compiled_df['Team'].isna().sum()\n",
    "\n",
    "# compiled_df.sample(20)"
   ]
  },
  {
   "cell_type": "markdown",
   "metadata": {},
   "source": [
    "# Team Goals Component"
   ]
  },
  {
   "cell_type": "markdown",
   "metadata": {},
   "source": []
  },
  {
   "cell_type": "code",
   "execution_count": 110,
   "metadata": {},
   "outputs": [
    {
     "data": {
      "text/html": [
       "<div>\n",
       "<style scoped>\n",
       "    .dataframe tbody tr th:only-of-type {\n",
       "        vertical-align: middle;\n",
       "    }\n",
       "\n",
       "    .dataframe tbody tr th {\n",
       "        vertical-align: top;\n",
       "    }\n",
       "\n",
       "    .dataframe thead th {\n",
       "        text-align: right;\n",
       "    }\n",
       "</style>\n",
       "<table border=\"1\" class=\"dataframe\">\n",
       "  <thead>\n",
       "    <tr style=\"text-align: right;\">\n",
       "      <th></th>\n",
       "      <th>Game_ID</th>\n",
       "      <th>Team</th>\n",
       "      <th>Goals_For_Team</th>\n",
       "      <th>Goals_Against_Team</th>\n",
       "    </tr>\n",
       "  </thead>\n",
       "  <tbody>\n",
       "    <tr>\n",
       "      <th>487</th>\n",
       "      <td>2023-10-27-Vermont-Providence</td>\n",
       "      <td>Vermont</td>\n",
       "      <td>3</td>\n",
       "      <td>1</td>\n",
       "    </tr>\n",
       "    <tr>\n",
       "      <th>25</th>\n",
       "      <td>2023-10-07-Lake Superior-Michigan State</td>\n",
       "      <td>Michigan State</td>\n",
       "      <td>4</td>\n",
       "      <td>1</td>\n",
       "    </tr>\n",
       "    <tr>\n",
       "      <th>491</th>\n",
       "      <td>2023-10-27-Wisconsin-Minnesota</td>\n",
       "      <td>Wisconsin</td>\n",
       "      <td>2</td>\n",
       "      <td>2</td>\n",
       "    </tr>\n",
       "    <tr>\n",
       "      <th>287</th>\n",
       "      <td>2023-10-20-Lindenwood-St. Thomas</td>\n",
       "      <td>St. Thomas</td>\n",
       "      <td>3</td>\n",
       "      <td>4</td>\n",
       "    </tr>\n",
       "    <tr>\n",
       "      <th>312</th>\n",
       "      <td>2023-10-20-Quinnipiac-New Hampshire</td>\n",
       "      <td>New Hampshire</td>\n",
       "      <td>4</td>\n",
       "      <td>2</td>\n",
       "    </tr>\n",
       "    <tr>\n",
       "      <th>41</th>\n",
       "      <td>2023-10-07-Michigan Tech-Minnesota-Duluth</td>\n",
       "      <td>Duluth</td>\n",
       "      <td>2</td>\n",
       "      <td>2</td>\n",
       "    </tr>\n",
       "    <tr>\n",
       "      <th>210</th>\n",
       "      <td>2023-10-14-Long Island-Stonehill</td>\n",
       "      <td>Long Island</td>\n",
       "      <td>4</td>\n",
       "      <td>3</td>\n",
       "    </tr>\n",
       "    <tr>\n",
       "      <th>562</th>\n",
       "      <td>2023-11-03-Air Force-Niagara</td>\n",
       "      <td>Niagara</td>\n",
       "      <td>1</td>\n",
       "      <td>2</td>\n",
       "    </tr>\n",
       "    <tr>\n",
       "      <th>842</th>\n",
       "      <td>2023-11-10-Union-St. Lawrence</td>\n",
       "      <td>St. Lawrence</td>\n",
       "      <td>3</td>\n",
       "      <td>2</td>\n",
       "    </tr>\n",
       "    <tr>\n",
       "      <th>33</th>\n",
       "      <td>2023-10-07-Mass.-Lowell-Alaska-Anchorage</td>\n",
       "      <td>Anchorage</td>\n",
       "      <td>1</td>\n",
       "      <td>2</td>\n",
       "    </tr>\n",
       "    <tr>\n",
       "      <th>100</th>\n",
       "      <td>2023-10-12-Michigan State-Air Force</td>\n",
       "      <td>Michigan State</td>\n",
       "      <td>5</td>\n",
       "      <td>2</td>\n",
       "    </tr>\n",
       "    <tr>\n",
       "      <th>29</th>\n",
       "      <td>2023-10-07-Lindenwood-Air Force</td>\n",
       "      <td>Air Force</td>\n",
       "      <td>1</td>\n",
       "      <td>3</td>\n",
       "    </tr>\n",
       "    <tr>\n",
       "      <th>872</th>\n",
       "      <td>2023-11-11-Connecticut-Merrimack</td>\n",
       "      <td>Connecticut</td>\n",
       "      <td>2</td>\n",
       "      <td>2</td>\n",
       "    </tr>\n",
       "    <tr>\n",
       "      <th>37</th>\n",
       "      <td>2023-10-07-Miami-Ferris State</td>\n",
       "      <td>Ferris State</td>\n",
       "      <td>3</td>\n",
       "      <td>3</td>\n",
       "    </tr>\n",
       "    <tr>\n",
       "      <th>64</th>\n",
       "      <td>2023-10-08-Connecticut-Colgate</td>\n",
       "      <td>Connecticut</td>\n",
       "      <td>2</td>\n",
       "      <td>3</td>\n",
       "    </tr>\n",
       "    <tr>\n",
       "      <th>377</th>\n",
       "      <td>2023-10-21-Quinnipiac-New Hampshire</td>\n",
       "      <td>Quinnipiac</td>\n",
       "      <td>3</td>\n",
       "      <td>4</td>\n",
       "    </tr>\n",
       "    <tr>\n",
       "      <th>898</th>\n",
       "      <td>2023-11-11-Michigan Tech-Bemidji State</td>\n",
       "      <td>Michigan Tech</td>\n",
       "      <td>3</td>\n",
       "      <td>3</td>\n",
       "    </tr>\n",
       "    <tr>\n",
       "      <th>264</th>\n",
       "      <td>2023-10-20-American Int'l-Penn State</td>\n",
       "      <td>Penn State</td>\n",
       "      <td>2</td>\n",
       "      <td>1</td>\n",
       "    </tr>\n",
       "    <tr>\n",
       "      <th>881</th>\n",
       "      <td>2023-11-11-Denver-Arizona State</td>\n",
       "      <td>Arizona State</td>\n",
       "      <td>4</td>\n",
       "      <td>2</td>\n",
       "    </tr>\n",
       "    <tr>\n",
       "      <th>44</th>\n",
       "      <td>2023-10-07-Ohio State-Mercyhurst</td>\n",
       "      <td>Ohio State</td>\n",
       "      <td>2</td>\n",
       "      <td>3</td>\n",
       "    </tr>\n",
       "    <tr>\n",
       "      <th>846</th>\n",
       "      <td>2023-11-10-Yale-Princeton</td>\n",
       "      <td>Yale</td>\n",
       "      <td>2</td>\n",
       "      <td>2</td>\n",
       "    </tr>\n",
       "    <tr>\n",
       "      <th>648</th>\n",
       "      <td>2023-11-03-Western Michigan-Omaha</td>\n",
       "      <td>Omaha</td>\n",
       "      <td>3</td>\n",
       "      <td>1</td>\n",
       "    </tr>\n",
       "    <tr>\n",
       "      <th>643</th>\n",
       "      <td>2023-11-03-Stonehill-Arizona State</td>\n",
       "      <td>Stonehill</td>\n",
       "      <td>3</td>\n",
       "      <td>3</td>\n",
       "    </tr>\n",
       "    <tr>\n",
       "      <th>933</th>\n",
       "      <td>2023-11-11-Yale-Quinnipiac</td>\n",
       "      <td>Quinnipiac</td>\n",
       "      <td>1</td>\n",
       "      <td>3</td>\n",
       "    </tr>\n",
       "    <tr>\n",
       "      <th>201</th>\n",
       "      <td>2023-10-14-Colgate-Sacred Heart</td>\n",
       "      <td>Colgate</td>\n",
       "      <td>5</td>\n",
       "      <td>1</td>\n",
       "    </tr>\n",
       "  </tbody>\n",
       "</table>\n",
       "</div>"
      ],
      "text/plain": [
       "                                       Game_ID            Team  \\\n",
       "487              2023-10-27-Vermont-Providence         Vermont   \n",
       "25     2023-10-07-Lake Superior-Michigan State  Michigan State   \n",
       "491             2023-10-27-Wisconsin-Minnesota       Wisconsin   \n",
       "287           2023-10-20-Lindenwood-St. Thomas      St. Thomas   \n",
       "312        2023-10-20-Quinnipiac-New Hampshire   New Hampshire   \n",
       "41   2023-10-07-Michigan Tech-Minnesota-Duluth          Duluth   \n",
       "210           2023-10-14-Long Island-Stonehill     Long Island   \n",
       "562               2023-11-03-Air Force-Niagara         Niagara   \n",
       "842              2023-11-10-Union-St. Lawrence    St. Lawrence   \n",
       "33    2023-10-07-Mass.-Lowell-Alaska-Anchorage       Anchorage   \n",
       "100        2023-10-12-Michigan State-Air Force  Michigan State   \n",
       "29             2023-10-07-Lindenwood-Air Force       Air Force   \n",
       "872           2023-11-11-Connecticut-Merrimack     Connecticut   \n",
       "37               2023-10-07-Miami-Ferris State    Ferris State   \n",
       "64              2023-10-08-Connecticut-Colgate     Connecticut   \n",
       "377        2023-10-21-Quinnipiac-New Hampshire      Quinnipiac   \n",
       "898     2023-11-11-Michigan Tech-Bemidji State   Michigan Tech   \n",
       "264       2023-10-20-American Int'l-Penn State      Penn State   \n",
       "881            2023-11-11-Denver-Arizona State   Arizona State   \n",
       "44            2023-10-07-Ohio State-Mercyhurst      Ohio State   \n",
       "846                  2023-11-10-Yale-Princeton            Yale   \n",
       "648          2023-11-03-Western Michigan-Omaha           Omaha   \n",
       "643         2023-11-03-Stonehill-Arizona State       Stonehill   \n",
       "933                 2023-11-11-Yale-Quinnipiac      Quinnipiac   \n",
       "201            2023-10-14-Colgate-Sacred Heart         Colgate   \n",
       "\n",
       "     Goals_For_Team  Goals_Against_Team  \n",
       "487               3                   1  \n",
       "25                4                   1  \n",
       "491               2                   2  \n",
       "287               3                   4  \n",
       "312               4                   2  \n",
       "41                2                   2  \n",
       "210               4                   3  \n",
       "562               1                   2  \n",
       "842               3                   2  \n",
       "33                1                   2  \n",
       "100               5                   2  \n",
       "29                1                   3  \n",
       "872               2                   2  \n",
       "37                3                   3  \n",
       "64                2                   3  \n",
       "377               3                   4  \n",
       "898               3                   3  \n",
       "264               2                   1  \n",
       "881               4                   2  \n",
       "44                2                   3  \n",
       "846               2                   2  \n",
       "648               3                   1  \n",
       "643               3                   3  \n",
       "933               1                   3  \n",
       "201               5                   1  "
      ]
     },
     "execution_count": 110,
     "metadata": {},
     "output_type": "execute_result"
    }
   ],
   "source": [
    "## Get the Team_Goals_For and Team_Goals_Against for each player in each game\n",
    "## Only include EVEN_STRENGTH goals\n",
    "## Access the EVEN_STRENGTH goals advanced_metrics_combined table from the TOTAL row from each team and apply it to each player in the game\n",
    "## EVEN Strength goals for the team should be stored in 'Goals_For_Team' and the opponent's EVEN Strength goals should be stored in 'Goals_Against_Team'\n",
    "\n",
    "# Extracting EVEN_STRENGTH goals (where PP column is blank) for each team\n",
    "even_strength_goals_query_refined = \"\"\"\n",
    "SELECT \n",
    "    Game_ID,\n",
    "    Team,\n",
    "    COUNT(*) AS Goals_For_Team\n",
    "FROM \n",
    "    scoring_summary\n",
    "WHERE \n",
    "    PP = ''\n",
    "GROUP BY \n",
    "    Game_ID, Team\n",
    "\"\"\"\n",
    "\n",
    "even_strength_goals_refined_df = pd.read_sql(even_strength_goals_query_refined, conn)\n",
    "\n",
    "# Correct the values in the Team column so we can effectively join the dataframes\n",
    "\n",
    "# Create a new column for the row number grouped by Game_ID\n",
    "even_strength_goals_refined_df['row_number'] = even_strength_goals_refined_df.groupby('Game_ID').cumcount() + 1\n",
    "\n",
    "# Function to assign the correct team name based on the row number\n",
    "def assign_team_name(row):\n",
    "    return row['Team_1'] if row['row_number'] == 1 else row['Team_2']\n",
    "\n",
    "# Splitting the Game_ID column again to extract team names\n",
    "team_names_split = even_strength_goals_refined_df['Game_ID'].str.split('-').str[-2:]\n",
    "even_strength_goals_refined_df['Team_1'] = team_names_split.str[0]\n",
    "even_strength_goals_refined_df['Team_2'] = team_names_split.str[1]\n",
    "\n",
    "# Applying the function to assign the correct team name\n",
    "even_strength_goals_refined_df['Team'] = even_strength_goals_refined_df.apply(assign_team_name, axis=1)\n",
    "\n",
    "# Dropping the extra columns again\n",
    "even_strength_goals_refined_df.drop(columns=['Team_1', 'Team_2', 'row_number'], inplace=True)\n",
    "\n",
    "# Creating a new column 'Opponent_Goals' which will be used to determine the goals against each team\n",
    "even_strength_goals_refined_df = even_strength_goals_refined_df.merge(\n",
    "    even_strength_goals_refined_df[['Game_ID', 'Team', 'Goals_For_Team']], \n",
    "    on='Game_ID',\n",
    "    suffixes=('', '_Opponent')\n",
    ")\n",
    "\n",
    "# Filtering out rows where Team is the same as the opponent team\n",
    "even_strength_goals_refined_df = even_strength_goals_refined_df[even_strength_goals_refined_df['Team'] != even_strength_goals_refined_df['Team_Opponent']]\n",
    "\n",
    "# Assigning the 'Goals_For_Team_Opponent' to a new column 'Goals_Against_Team'\n",
    "even_strength_goals_refined_df['Goals_Against_Team'] = even_strength_goals_refined_df['Goals_For_Team_Opponent']\n",
    "\n",
    "# Dropping unnecessary columns\n",
    "even_strength_goals_refined_df.drop(columns=['Team_Opponent', 'Goals_For_Team_Opponent'], inplace=True)\n",
    "\n",
    "even_strength_goals_refined_df.head(25)\n",
    "\n",
    "# Take out those annoying character if there are any\n",
    "# Replace non-breaking spaces with regular spaces in the Player column of compiled_df\n",
    "even_strength_goals_refined_df['Team'] = even_strength_goals_refined_df['Team'].str.replace('\\xa0', ' ')\n",
    "\n",
    "## SAVE A CSV \n",
    "even_strength_goals_refined_df.to_csv('../TEMP/NEW_PRELIM_even_strength_goals_refined_df.csv', index=False)\n",
    "\n",
    "# # Displaying the dataframe with the newly computed 'Goals_Against_Team' values\n",
    "even_strength_goals_refined_df.sample(25)\n",
    "\n",
    "\n",
    "# # print(compiled_df.shape)\n"
   ]
  },
  {
   "cell_type": "code",
   "execution_count": 111,
   "metadata": {},
   "outputs": [],
   "source": [
    "# Merge the dataframes on Game_ID and Team\n",
    "merged_df_new = pd.merge(compiled_df, even_strength_goals_refined_df, on=['Game_ID', 'Team'], how='left')\n",
    "\n",
    "# Display the first few rows of the merged dataframe\n",
    "merged_df_new.head(25)\n",
    "\n",
    "# merged_df_new.info()\n",
    "# Output csv for check\n",
    "merged_df_new.to_csv('../TEMP/11_NEW_PRELIM_merged_df_new.csv', index=False)"
   ]
  },
  {
   "cell_type": "code",
   "execution_count": 112,
   "metadata": {},
   "outputs": [
    {
     "name": "stdout",
     "output_type": "stream",
     "text": [
      "New Shape: (11991, 12)\n"
     ]
    },
    {
     "data": {
      "text/plain": [
       "Team\n",
       "Michigan          227\n",
       "Michigan State    227\n",
       "Connecticut       227\n",
       "St. Thomas        227\n",
       "Air Force         226\n",
       "                 ... \n",
       "Dartmouth         110\n",
       "Harvard            95\n",
       "Yale               93\n",
       "Princeton          76\n",
       "Mass.               2\n",
       "Name: count, Length: 65, dtype: int64"
      ]
     },
     "execution_count": 112,
     "metadata": {},
     "output_type": "execute_result"
    },
    {
     "data": {
      "image/png": "[encoded data removed]",
      "text/plain": [
       "<Figure size 640x480 with 1 Axes>"
      ]
     },
     "metadata": {},
     "output_type": "display_data"
    }
   ],
   "source": [
    "\n",
    "# Convert columns to int\n",
    "int_cols = [ 'Shots_On_Net', 'Shots_Off_Net', 'Shots_Blocked',\n",
    "       'Defensive_Blocks',  'Goals', 'Assist1', 'Assist2',\n",
    "       'Faceoff_Wins', 'Faceoff_Losses', 'Goals_For_Team',\n",
    "       'Goals_Against_Team']\n",
    "\n",
    "# for col in int_cols:\n",
    "#     compiled_df[col] = compiled_df[col].astype(int)\n",
    "\n",
    "\n",
    "\n",
    "print(f'New Shape: {compiled_df.shape}')\n",
    "\n",
    "####\n",
    "# # Merge into the compiled_df\n",
    "compiled_df = compiled_df.merge(even_strength_goals_refined_df, on=['Game_ID', 'Team'], how='outer', indicator=True)\n",
    "\n",
    "compiled_df.columns\n",
    "\n",
    "# compiled_df['Goals'].hist()\n",
    "# compiled_df['Assist1'].hist()\n",
    "compiled_df['Assist2'].hist()\n",
    "\n",
    "compiled_df.sample(25)\n",
    "\n",
    "# Team value count\n",
    "compiled_df['Team'].value_counts()\n",
    "\n"
   ]
  },
  {
   "cell_type": "code",
   "execution_count": 113,
   "metadata": {},
   "outputs": [],
   "source": [
    "# SHow just the rows where the Goals_Against_Team is NaN\n",
    "trouble_df = merged_df_new[merged_df_new['Goals_Against_Team'].isna()]\n",
    "\n",
    "# Value Counts of Teams\n",
    "trouble_df['Team'].value_counts()\n",
    "\n",
    "# I think what is going on is thes are instanced when the player was not on the roster the day of the game?\n",
    "\n",
    "## Do any of these have values in Goals or Assists?\n",
    "trouble_df[trouble_df['Goals'] > 0]\n",
    "\n",
    "trouble_df[trouble_df['Assist1'] > 0]\n",
    "\n",
    "## Could be games when no even strength goals were scored - That must be it. fill with 0\n",
    "merged_df_new['Goals_Against_Team'] = merged_df_new['Goals_Against_Team'].fillna(0)\n",
    "# Same for Goals_For_Team\n",
    "merged_df_new['Goals_For_Team'] = merged_df_new['Goals_For_Team'].fillna(0)"
   ]
  },
  {
   "cell_type": "code",
   "execution_count": 114,
   "metadata": {},
   "outputs": [
    {
     "name": "stdout",
     "output_type": "stream",
     "text": [
      "<class 'pandas.core.frame.DataFrame'>\n",
      "RangeIndex: 11991 entries, 0 to 11990\n",
      "Data columns (total 14 columns):\n",
      " #   Column              Non-Null Count  Dtype  \n",
      "---  ------              --------------  -----  \n",
      " 0   Player              11991 non-null  object \n",
      " 1   Team                11335 non-null  object \n",
      " 2   Shots_On_Net        11335 non-null  float64\n",
      " 3   Shots_Off_Net       11335 non-null  float64\n",
      " 4   Shots_Blocked       11335 non-null  float64\n",
      " 5   Defensive_Blocks    11335 non-null  float64\n",
      " 6   Game_ID             11991 non-null  object \n",
      " 7   Goals               11335 non-null  float64\n",
      " 8   Assist1             11335 non-null  float64\n",
      " 9   Assist2             11335 non-null  float64\n",
      " 10  Faceoff_Wins        3606 non-null   float64\n",
      " 11  Faceoff_Losses      3606 non-null   float64\n",
      " 12  Goals_For_Team      11991 non-null  float64\n",
      " 13  Goals_Against_Team  11991 non-null  float64\n",
      "dtypes: float64(11), object(3)\n",
      "memory usage: 1.3+ MB\n"
     ]
    },
    {
     "data": {
      "image/png": "[encoded data removed]",
      "text/plain": [
       "<Figure size 640x480 with 12 Axes>"
      ]
     },
     "metadata": {},
     "output_type": "display_data"
    }
   ],
   "source": [
    "merged_df_new.hist()\n",
    "\n",
    "merged_df_new.info()\n",
    "\n",
    "# Output csv for check\n",
    "merged_df_new.to_csv('../TEMP/NEW_PRELIM_merged_df_new.csv', index=False)"
   ]
  },
  {
   "cell_type": "code",
   "execution_count": 115,
   "metadata": {},
   "outputs": [],
   "source": [
    "# # Joining the dataframe with itself to compute EVEN_STRENGTH goals against each team\n",
    "# team_goals_refined_df = even_strength_goals_refined_df.merge(\n",
    "#     even_strength_goals_refined_df, on='Game_ID', suffixes=('', '_Opponent')\n",
    "# )\n",
    "\n",
    "# # Filtering out rows where Team is the same as the opponent team\n",
    "# team_goals_refined_df = team_goals_refined_df[team_goals_refined_df['Team'] != team_goals_refined_df['Team_Opponent']]\n",
    "\n",
    "# # Dropping unnecessary columns and renaming for clarity\n",
    "# team_goals_refined_df = team_goals_refined_df[['Game_ID', 'Team', 'Goals_For_Team', 'Goals_For_Team_Opponent']]\n",
    "# team_goals_refined_df = team_goals_refined_df.rename(columns={'Goals_For_Team_Opponent': 'Goals_Against_Team'})\n",
    "\n",
    "# # Joining with advanced_metrics_combined to assign the values to each player\n",
    "# player_goals_refined_df = player_goals_df.merge(team_goals_refined_df, on=['Game_ID', 'Team'], how='left')\n",
    "\n",
    "# # Display the first few rows of the resulting dataframe\n",
    "# player_goals_refined_df[['Player', 'Game_ID', 'Team', 'Goals_For_Team', 'Goals_Against_Team']].head(25)\n"
   ]
  },
  {
   "cell_type": "markdown",
   "metadata": {},
   "source": []
  },
  {
   "cell_type": "code",
   "execution_count": null,
   "metadata": {},
   "outputs": [],
   "source": []
  },
  {
   "cell_type": "markdown",
   "metadata": {},
   "source": [
    "# Penalty Component"
   ]
  },
  {
   "cell_type": "code",
   "execution_count": 116,
   "metadata": {},
   "outputs": [
    {
     "name": "stdout",
     "output_type": "stream",
     "text": [
      "<class 'pandas.core.frame.DataFrame'>\n",
      "RangeIndex: 11991 entries, 0 to 11990\n",
      "Data columns (total 15 columns):\n",
      " #   Column              Non-Null Count  Dtype  \n",
      "---  ------              --------------  -----  \n",
      " 0   Player              11991 non-null  object \n",
      " 1   Team                11335 non-null  object \n",
      " 2   Shots_On_Net        11335 non-null  float64\n",
      " 3   Shots_Off_Net       11335 non-null  float64\n",
      " 4   Shots_Blocked       11335 non-null  float64\n",
      " 5   Defensive_Blocks    11335 non-null  float64\n",
      " 6   Game_ID             11991 non-null  object \n",
      " 7   Goals               11335 non-null  float64\n",
      " 8   Assist1             11335 non-null  float64\n",
      " 9   Assist2             11335 non-null  float64\n",
      " 10  Faceoff_Wins        3606 non-null   float64\n",
      " 11  Faceoff_Losses      3606 non-null   float64\n",
      " 12  Goals_For_Team      11991 non-null  float64\n",
      " 13  Goals_Against_Team  11991 non-null  float64\n",
      " 14  Penalties_Taken     11991 non-null  float64\n",
      "dtypes: float64(12), object(3)\n",
      "memory usage: 1.4+ MB\n"
     ]
    }
   ],
   "source": [
    "## Penalty Component\n",
    "\n",
    "# Count the number of penalties taken by each player in each game\n",
    "penalty_count_query = \"\"\"\n",
    "SELECT\n",
    "    Game_ID,\n",
    "    Player,\n",
    "    COUNT(*) AS Penalties_Taken\n",
    "FROM\n",
    "    penalty_summary\n",
    "WHERE\n",
    "    Player != 'TOTAL'\n",
    "GROUP BY\n",
    "    Game_ID, Player;\n",
    "\"\"\"\n",
    "\n",
    "## Rename the new version of the df back to this name to use later\n",
    "\n",
    "compiled_df = merged_df_new.copy()\n",
    "\n",
    "\n",
    "# Create a DataFrame with the results\n",
    "penalty_count_df = pd.read_sql(penalty_count_query, conn)\n",
    "\n",
    "# Preview the first few rows of the result\n",
    "penalty_count_df.head()\n",
    "\n",
    "# penalty_count_df['Penalties_Taken'].hist()\n",
    "\n",
    "# Convert to int\n",
    "penalty_count_df['Penalties_Taken'] = penalty_count_df['Penalties_Taken'].astype(int)\n",
    "\n",
    "# penalty_count_df.describe()\n",
    "\n",
    "# merge it into the compiled_df\n",
    "compiled_df = compiled_df.merge(penalty_count_df, on=['Player', 'Game_ID'], how='left')\n",
    "\n",
    "# Fill NaN values in 'Penalties_Taken' with 0\n",
    "compiled_df['Penalties_Taken'].fillna(0, inplace=True)\n",
    "\n",
    "# compiled_df.head(25)\n",
    "\n",
    "\n",
    "# compiled_df.hist()\n",
    "\n",
    "compiled_df.columns\n",
    "\n",
    "# Output CSV\n",
    "compiled_df.to_csv('../TEMP/GAME_SCORE_compiled_df.csv', index=False)\n",
    "\n",
    "\n",
    "compiled_df.info()"
   ]
  },
  {
   "cell_type": "code",
   "execution_count": 117,
   "metadata": {},
   "outputs": [],
   "source": [
    "# Fill NaN values in 'Penalties_Taken' with 0\n",
    "compiled_df['Penalties_Taken'].fillna(0, inplace=True)\n",
    "\n",
    "# Calculate each component of the game score formula\n",
    "player_goals_refined_df = compiled_df.copy()\n",
    "\n",
    "# SCORE Component\n",
    "player_goals_refined_df['SCORE'] = (player_goals_refined_df['Goals'] * 0.75) + \\\n",
    "                                  (player_goals_refined_df['Assist1'] * 0.715) + \\\n",
    "                                  (player_goals_refined_df['Assist2'] * 0.555)\n",
    "\n",
    "# SHOTS Component\n",
    "player_goals_refined_df['SHOTS'] = (player_goals_refined_df['Shots_On_Net'] * 0.075) + \\\n",
    "                                  (player_goals_refined_df['Shots_Off_Net'] * 0.075) - \\\n",
    "                                  (player_goals_refined_df['Shots_Blocked'] * 0.075)\n",
    "\n",
    "# FACEOFFS Component\n",
    "player_goals_refined_df['FACEOFFS'] = (player_goals_refined_df['Faceoff_Wins'] * 0.01) - \\\n",
    "                                     (player_goals_refined_df['Faceoff_Losses'] * 0.01)\n",
    "# Fill NaN values in 'Faceoff_Wins' and 'Faceoff_Losses' with 0\n",
    "player_goals_refined_df['FACEOFFS'].fillna(0, inplace=True)\n",
    "\n",
    "\n",
    "# TEAM Component\n",
    "player_goals_refined_df['TEAM'] = (player_goals_refined_df['Goals_For_Team'] * 0.15) - \\\n",
    "                                 (player_goals_refined_df['Goals_Against_Team'] * 0.15)\n",
    "# Fill\n",
    "\n",
    "\n",
    "# PENALTIES Component -  Negative because it is a penalty\n",
    "player_goals_refined_df['PENALTIES'] = (player_goals_refined_df['Penalties_Taken'] * pp_success_rate) * -1\n",
    "\n",
    "## Fill all Nan Values with 0\n",
    "player_goals_refined_df.fillna(0, inplace=True)\n",
    "\n",
    "# Calculate the overall game score\n",
    "player_goals_refined_df['Game_Score'] = player_goals_refined_df['SCORE'] + \\\n",
    "                                       player_goals_refined_df['SHOTS'] + \\\n",
    "                                       player_goals_refined_df['FACEOFFS'] + \\\n",
    "                                       player_goals_refined_df['TEAM'] - \\\n",
    "                                       player_goals_refined_df['PENALTIES']\n",
    "\n",
    "# Display the first few rows of the dataframe with the newly computed 'Game_Score' values\n",
    "player_goals_refined_df[['Player', 'Game_ID', 'Team', 'Game_Score']].head(25)\n",
    "\n",
    "\n",
    "## Drop duplicate Rows\n",
    "player_goals_refined_df = player_goals_refined_df.drop_duplicates()\n",
    "\n",
    "# Save to CSV\n",
    "player_goals_refined_df.to_csv('../TEMP/GAME_SCORE_player_goals_refined_df.csv', index=False)\n"
   ]
  },
  {
   "cell_type": "markdown",
   "metadata": {},
   "source": [
    "# Pivot the big Game Score Table into individual teams"
   ]
  },
  {
   "cell_type": "code",
   "execution_count": 118,
   "metadata": {},
   "outputs": [],
   "source": [
    "# Generate team-specific tables using a pivot table\n",
    "team_tables = {}\n",
    "\n",
    "unique_teams = player_goals_refined_df['Team'].unique()\n",
    "\n",
    "for team in unique_teams:\n",
    "    team_df = player_goals_refined_df[player_goals_refined_df['Team'] == team]\n",
    "    pivot_table = team_df.pivot(index='Player', columns='Game_ID', values='Game_Score')\n",
    "    team_tables[team] = pivot_table\n",
    "\n",
    "\n",
    "# Print List of Teams\n",
    "unique_teams\n",
    "\n",
    "\n",
    "# Fill NaN values with 0\n",
    "for team in unique_teams:\n",
    "    team_tables[team] = team_tables[team].fillna(0)\n",
    "\n",
    "# Display the first team's table as an example\n",
    "# team_tables[unique_teams[21]].head(40)\n",
    "\n",
    "### MSU Is In Index Position 21 in this case outputing csv for MSU\n",
    "# team_tables[unique_teams[21]] = team_tables[unique_teams[21]].fillna(0)\n",
    "# team_tables[unique_teams[21]].to_csv('../data/Nov_2_MSU_GAME_SCORES.csv')\n",
    "\n",
    "\n",
    "# msu_df = team_tables[unique_teams[21]].copy()\n",
    "# msu_df.head()\n",
    "\n"
   ]
  },
  {
   "cell_type": "code",
   "execution_count": 119,
   "metadata": {},
   "outputs": [
    {
     "data": {
      "text/plain": [
       "array(['Lake Superior', 'Michigan State', 'Clarkson', 'Notre Dame', 'RIT',\n",
       "       'St. Lawrence', 'St. Thomas', 'St. Cloud State', 'Providence',\n",
       "       'Michigan', 'Stonehill', 'Northeastern', 'Boston College',\n",
       "       'Quinnipiac', 'Ohio State', 'Mercyhurst', 'Connecticut', 'Colgate',\n",
       "       \"American Int'l\", 'Massachusetts', 'Penn State', 'Long Island',\n",
       "       'Lindenwood', 'Air Force', 'Bowling Green', 'Robert Morris',\n",
       "       'Boston University', 'Bentley', 'Miami', 'Ferris State',\n",
       "       'Augustana', 'Wisconsin', 'Lowell', 'Anchorage', 'Michigan Tech',\n",
       "       'Duluth', 'Denver', 'Alaska', 'Union', 'Army', 'Holy Cross',\n",
       "       'Western Michigan', 'Rensselaer', 'Maine', 'Vermont',\n",
       "       'Sacred Heart', 'Canisius', 'Bemidji State', 'North Dakota',\n",
       "       'Minnesota State', 'Northern Michigan', 'Niagara', 'Omaha',\n",
       "       'Minnesota', 'Colorado College', 'Merrimack', 'Arizona State',\n",
       "       'New Hampshire', 'Harvard', 'Dartmouth', 'Yale', 'Brown',\n",
       "       'Cornell', 'Princeton', 0], dtype=object)"
      ]
     },
     "execution_count": 119,
     "metadata": {},
     "output_type": "execute_result"
    }
   ],
   "source": [
    "## Print Unique Teams\n",
    "unique_teams\n"
   ]
  },
  {
   "cell_type": "code",
   "execution_count": 120,
   "metadata": {},
   "outputs": [],
   "source": [
    "# ### Find The OSU Index Position and Output CSV\n",
    "\n",
    "# osu_df = team_tables[unique_teams[16]]\n",
    "\n",
    "# ## Output CSV\n",
    "# osu_df.to_csv('../data/Nov_2_Ohio_State_GAME_SCORES.csv')"
   ]
  },
  {
   "cell_type": "code",
   "execution_count": 121,
   "metadata": {},
   "outputs": [],
   "source": [
    "# Clean up the column names of all the team tables\n",
    "# Want to remove:\n",
    "# - all digits\n",
    "# - all Dashes\n",
    "# - the teams name\n",
    "\n",
    "# Create a dictionary to store the new column names\n",
    "new_column_names = {}\n",
    "\n",
    "# Loop through each team table\n",
    "for team in unique_teams:\n",
    "    # Create a list to store the new column names\n",
    "    new_column_names[team] = []\n",
    "    \n",
    "    # Loop through each column name\n",
    "    for column_name in team_tables[team].columns:\n",
    "\n",
    "        # Remove all digits from the column name\n",
    "        new_column_name = ''.join([i for i in column_name if not i.isdigit()])\n",
    "        \n",
    "        # Remove all dashes from the column name\n",
    "        new_column_name = new_column_name.replace('-', '')\n",
    "        \n",
    "        # Remove the team name from the column name\n",
    "        new_column_name = new_column_name.replace(str(team), '')\n",
    "        \n",
    "        # Add the new column name to the list\n",
    "        new_column_names[team].append(new_column_name)\n",
    "    \n",
    "    # Assign the new column names to the team table\n",
    "    team_tables[team].columns = new_column_names[team]"
   ]
  },
  {
   "cell_type": "code",
   "execution_count": 122,
   "metadata": {},
   "outputs": [],
   "source": [
    "## Save each table to a csv with the team name and the season\n",
    "\n",
    "## Folder to save to\n",
    "folder_path = '../TEMP/YTD_csv_dump/'\n",
    "\n",
    "## Loop through each team and save the csv\n",
    "for team in unique_teams:\n",
    "    team_tables[team].to_csv(f'{folder_path}{team}_GAME_SCORES.csv')\n",
    "\n",
    "\n",
    "\n"
   ]
  },
  {
   "cell_type": "markdown",
   "metadata": {},
   "source": [
    "# Pivot Tables of Game Scores for Every Player and Every Team should all be stored now if it ran cleanly "
   ]
  },
  {
   "cell_type": "code",
   "execution_count": 123,
   "metadata": {},
   "outputs": [
    {
     "data": {
      "application/vnd.plotly.v1+json": {
       "config": {
        "plotlyServerURL": "https://plot.ly"
       },
       "data": [
        {
         "cells": {
          "align": "left",
          "fill": {
           "color": "lavender"
          },
          "values": [
           [
            0,
            0.555,
            0.065,
            0,
            0,
            0.22499999999999998,
            -0.075,
            0,
            0.075,
            0.7899999999999999,
            0,
            0.075,
            1.2999891027969488,
            0.05499999999999999,
            0,
            -0.03,
            0.075,
            1.2799891027969488,
            0,
            0.01,
            0.9,
            0.15,
            0.945,
            0.075,
            0,
            0
           ],
           [
            0,
            0.49998910279694875,
            0.145,
            0,
            0,
            0.555,
            0,
            0,
            0,
            1.7449945513984744,
            0,
            0.46999455139847435,
            0.5099891027969488,
            0.10499455139847438,
            0.715,
            0.9299945513984743,
            0.2549945513984744,
            -0.15,
            0.065,
            0.2549945513984744,
            -0.01999999999999999,
            0.22499999999999998,
            0.24,
            0.15,
            0,
            0
           ],
           [
            0,
            0.94,
            0.23499999999999996,
            0,
            0,
            0.47999455139847436,
            0.14999999999999997,
            0,
            0.14999999999999997,
            0.22499999999999998,
            0,
            0.47999455139847436,
            0.40499455139847435,
            0.12999999999999998,
            1.0899999999999999,
            0.41499455139847435,
            0.14999999999999997,
            0.20499999999999996,
            0.23499999999999996,
            0.40499455139847435,
            0.18499999999999994,
            1.135,
            0.74,
            1.2299945513984742,
            0,
            0
           ],
           [
            [
             0,
             0
            ],
            [
             0.07500000000000002,
             0.75
            ],
            [
             0.425,
             0.075
            ],
            [
             0,
             0
            ],
            [
             0.865,
             0.555
            ],
            [
             2.885,
             0.79
            ],
            [
             0.9,
             0.075
            ],
            [
             0.15000000000000002,
             0
            ],
            [
             0.6300000000000001,
             0.225
            ],
            [
             1.2000000000000002,
             1.0899999999999999
            ],
            [
             0,
             0
            ],
            [
             2.52,
             1.2799999999999998
            ],
            [
             0,
             0.15
            ],
            [
             0.15000000000000002,
             0.17999455139847437
            ],
            [
             0.975,
             -0.075
            ],
            [
             1.005,
             1.81
            ],
            [
             0,
             0
            ],
            [
             0,
             0
            ],
            [
             0.53,
             0.010000000000000009
            ],
            [
             0.225,
             -0.15
            ],
            [
             0.32,
             0.22499999999999998
            ],
            [
             2.58,
             1.65
            ],
            [
             0.24000000000000002,
             0.075
            ],
            [
             0.4049945513984744,
             -0.075
            ],
            [
             0,
             0
            ],
            [
             0,
             0
            ]
           ],
           [
            [
             0,
             0
            ],
            [
             0.37499999999999994,
             0.2549945513984744
            ],
            [
             0.5849945513984743,
             0
            ],
            [
             0,
             0
            ],
            [
             0.975,
             0.22499999999999998
            ],
            [
             0.9299999999999999,
             0
            ],
            [
             1.9449999999999998,
             0.9
            ],
            [
             0,
             0
            ],
            [
             0.37499999999999994,
             0
            ],
            [
             0.37499999999999994,
             0.5149999999999999
            ],
            [
             0,
             0.705
            ],
            [
             0.7049945513984743,
             0.7999999999999999
            ],
            [
             0.44999999999999996,
             0.065
            ],
            [
             0.21499999999999994,
             0.5099891027969488
            ],
            [
             0.7049945513984743,
             0
            ],
            [
             2.215,
             1.025
            ],
            [
             0,
             0.15
            ],
            [
             0.2899999999999999,
             0
            ],
            [
             1.3199782055938973,
             0
            ],
            [
             0.29999999999999993,
             0.075
            ],
            [
             0.15999999999999992,
             0.2749945513984744
            ],
            [
             0.5349999999999999,
             0.6
            ],
            [
             0.18499999999999994,
             0.105
            ],
            [
             0.6299945513984744,
             0
            ],
            [
             0,
             0
            ],
            [
             0,
             0
            ]
           ],
           [
            [
             0,
             0
            ],
            [
             0.37499999999999994,
             0.2549945513984744
            ],
            [
             0.5849945513984743,
             0
            ],
            [
             0,
             0
            ],
            [
             0.975,
             0.22499999999999998
            ],
            [
             0.9299999999999999,
             0
            ],
            [
             1.9449999999999998,
             0.9
            ],
            [
             0,
             0
            ],
            [
             0.37499999999999994,
             0
            ],
            [
             0.37499999999999994,
             0.5149999999999999
            ],
            [
             0,
             0.705
            ],
            [
             0.7049945513984743,
             0.7999999999999999
            ],
            [
             0.44999999999999996,
             0.065
            ],
            [
             0.21499999999999994,
             0.5099891027969488
            ],
            [
             0.7049945513984743,
             0
            ],
            [
             2.215,
             1.025
            ],
            [
             0,
             0.15
            ],
            [
             0.2899999999999999,
             0
            ],
            [
             1.3199782055938973,
             0
            ],
            [
             0.29999999999999993,
             0.075
            ],
            [
             0.15999999999999992,
             0.2749945513984744
            ],
            [
             0.5349999999999999,
             0.6
            ],
            [
             0.18499999999999994,
             0.105
            ],
            [
             0.6299945513984744,
             0
            ],
            [
             0,
             0
            ],
            [
             0,
             0
            ]
           ],
           [
            [
             0,
             0
            ],
            [
             0.07500000000000002,
             0.75
            ],
            [
             0.425,
             0.075
            ],
            [
             0,
             0
            ],
            [
             0.865,
             0.555
            ],
            [
             2.885,
             0.79
            ],
            [
             0.9,
             0.075
            ],
            [
             0.15000000000000002,
             0
            ],
            [
             0.6300000000000001,
             0.225
            ],
            [
             1.2000000000000002,
             1.0899999999999999
            ],
            [
             0,
             0
            ],
            [
             2.52,
             1.2799999999999998
            ],
            [
             0,
             0.15
            ],
            [
             0.15000000000000002,
             0.17999455139847437
            ],
            [
             0.975,
             -0.075
            ],
            [
             1.005,
             1.81
            ],
            [
             0,
             0
            ],
            [
             0,
             0
            ],
            [
             0.53,
             0.010000000000000009
            ],
            [
             0.225,
             -0.15
            ],
            [
             0.32,
             0.22499999999999998
            ],
            [
             2.58,
             1.65
            ],
            [
             0.24000000000000002,
             0.075
            ],
            [
             0.4049945513984744,
             -0.075
            ],
            [
             0,
             0
            ],
            [
             0,
             0
            ]
           ],
           [
            -0.075,
            0,
            0,
            0,
            0.075,
            0.075,
            0.2549945513984744,
            0,
            0.17999455139847437,
            0.6299945513984744,
            -0.009999999999999998,
            0.955,
            -0.075,
            -0.15,
            -0.075,
            0.04499999999999999,
            0,
            0.725,
            0.815,
            -0.14999999999999997,
            0.07,
            0.14999999999999997,
            0.039999999999999994,
            0,
            0,
            0
           ],
           [
            [
             0.075,
             0
            ],
            [
             0.48999455139847437,
             0.3299945513984744
            ],
            [
             0,
             0
            ],
            [
             0,
             0
            ],
            [
             0.075,
             0.975
            ],
            [
             0.8949945513984744,
             1.12
            ],
            [
             0.63,
             0.075
            ],
            [
             0,
             0
            ],
            [
             0.15,
             0.075
            ],
            [
             0.4049945513984744,
             0.075
            ],
            [
             0,
             0
            ],
            [
             0.9699945513984743,
             2.734994551398474
            ],
            [
             0.5849891027969487,
             0
            ],
            [
             0.3299945513984744,
             0.3299945513984744
            ],
            [
             0.3299945513984744,
             0.63
            ],
            [
             1.34,
             2.255
            ],
            [
             0,
             0
            ],
            [
             0.89,
             0.565
            ],
            [
             0.13,
             0.05
            ],
            [
             0.5849891027969487,
             -0.075
            ],
            [
             0,
             0.24999455139847437
            ],
            [
             0.075,
             0.075
            ],
            [
             0.05500000000000001,
             0.305
            ],
            [
             0,
             0
            ],
            [
             0,
             0
            ],
            [
             0,
             0
            ]
           ],
           [
            [
             0.075,
             0
            ],
            [
             0.48999455139847437,
             0.3299945513984744
            ],
            [
             0,
             0
            ],
            [
             0,
             0
            ],
            [
             0.075,
             0.975
            ],
            [
             0.8949945513984744,
             1.12
            ],
            [
             0.63,
             0.075
            ],
            [
             0,
             0
            ],
            [
             0.15,
             0.075
            ],
            [
             0.4049945513984744,
             0.075
            ],
            [
             0,
             0
            ],
            [
             0.9699945513984743,
             2.734994551398474
            ],
            [
             0.5849891027969487,
             0
            ],
            [
             0.3299945513984744,
             0.3299945513984744
            ],
            [
             0.3299945513984744,
             0.63
            ],
            [
             1.34,
             2.255
            ],
            [
             0,
             0
            ],
            [
             0.89,
             0.565
            ],
            [
             0.13,
             0.05
            ],
            [
             0.5849891027969487,
             -0.075
            ],
            [
             0,
             0.24999455139847437
            ],
            [
             0.075,
             0.075
            ],
            [
             0.05500000000000001,
             0.305
            ],
            [
             0,
             0
            ],
            [
             0,
             0
            ],
            [
             0,
             0
            ]
           ]
          ]
         },
         "header": {
          "align": "left",
          "fill": {
           "color": "paleturquoise"
          },
          "values": [
           "Penn State",
           "Holy Cross",
           "Boston College",
           "Stonehill",
           "Colorado College",
           "Colorado College",
           "Stonehill",
           "Sacred Heart",
           "Omaha",
           "Omaha"
          ]
         },
         "type": "table"
        }
       ],
       "layout": {
        "template": {
         "data": {
          "bar": [
           {
            "error_x": {
             "color": "#2a3f5f"
            },
            "error_y": {
             "color": "#2a3f5f"
            },
            "marker": {
             "line": {
              "color": "#E5ECF6",
              "width": 0.5
             },
             "pattern": {
              "fillmode": "overlay",
              "size": 10,
              "solidity": 0.2
             }
            },
            "type": "bar"
           }
          ],
          "barpolar": [
           {
            "marker": {
             "line": {
              "color": "#E5ECF6",
              "width": 0.5
             },
             "pattern": {
              "fillmode": "overlay",
              "size": 10,
              "solidity": 0.2
             }
            },
            "type": "barpolar"
           }
          ],
          "carpet": [
           {
            "aaxis": {
             "endlinecolor": "#2a3f5f",
             "gridcolor": "white",
             "linecolor": "white",
             "minorgridcolor": "white",
             "startlinecolor": "#2a3f5f"
            },
            "baxis": {
             "endlinecolor": "#2a3f5f",
             "gridcolor": "white",
             "linecolor": "white",
             "minorgridcolor": "white",
             "startlinecolor": "#2a3f5f"
            },
            "type": "carpet"
           }
          ],
          "choropleth": [
           {
            "colorbar": {
             "outlinewidth": 0,
             "ticks": ""
            },
            "type": "choropleth"
           }
          ],
          "contour": [
           {
            "colorbar": {
             "outlinewidth": 0,
             "ticks": ""
            },
            "colorscale": [
             [
              0,
              "#0d0887"
             ],
             [
              0.1111111111111111,
              "#46039f"
             ],
             [
              0.2222222222222222,
              "#7201a8"
             ],
             [
              0.3333333333333333,
              "#9c179e"
             ],
             [
              0.4444444444444444,
              "#bd3786"
             ],
             [
              0.5555555555555556,
              "#d8576b"
             ],
             [
              0.6666666666666666,
              "#ed7953"
             ],
             [
              0.7777777777777778,
              "#fb9f3a"
             ],
             [
              0.8888888888888888,
              "#fdca26"
             ],
             [
              1,
              "#f0f921"
             ]
            ],
            "type": "contour"
           }
          ],
          "contourcarpet": [
           {
            "colorbar": {
             "outlinewidth": 0,
             "ticks": ""
            },
            "type": "contourcarpet"
           }
          ],
          "heatmap": [
           {
            "colorbar": {
             "outlinewidth": 0,
             "ticks": ""
            },
            "colorscale": [
             [
              0,
              "#0d0887"
             ],
             [
              0.1111111111111111,
              "#46039f"
             ],
             [
              0.2222222222222222,
              "#7201a8"
             ],
             [
              0.3333333333333333,
              "#9c179e"
             ],
             [
              0.4444444444444444,
              "#bd3786"
             ],
             [
              0.5555555555555556,
              "#d8576b"
             ],
             [
              0.6666666666666666,
              "#ed7953"
             ],
             [
              0.7777777777777778,
              "#fb9f3a"
             ],
             [
              0.8888888888888888,
              "#fdca26"
             ],
             [
              1,
              "#f0f921"
             ]
            ],
            "type": "heatmap"
           }
          ],
          "heatmapgl": [
           {
            "colorbar": {
             "outlinewidth": 0,
             "ticks": ""
            },
            "colorscale": [
             [
              0,
              "#0d0887"
             ],
             [
              0.1111111111111111,
              "#46039f"
             ],
             [
              0.2222222222222222,
              "#7201a8"
             ],
             [
              0.3333333333333333,
              "#9c179e"
             ],
             [
              0.4444444444444444,
              "#bd3786"
             ],
             [
              0.5555555555555556,
              "#d8576b"
             ],
             [
              0.6666666666666666,
              "#ed7953"
             ],
             [
              0.7777777777777778,
              "#fb9f3a"
             ],
             [
              0.8888888888888888,
              "#fdca26"
             ],
             [
              1,
              "#f0f921"
             ]
            ],
            "type": "heatmapgl"
           }
          ],
          "histogram": [
           {
            "marker": {
             "pattern": {
              "fillmode": "overlay",
              "size": 10,
              "solidity": 0.2
             }
            },
            "type": "histogram"
           }
          ],
          "histogram2d": [
           {
            "colorbar": {
             "outlinewidth": 0,
             "ticks": ""
            },
            "colorscale": [
             [
              0,
              "#0d0887"
             ],
             [
              0.1111111111111111,
              "#46039f"
             ],
             [
              0.2222222222222222,
              "#7201a8"
             ],
             [
              0.3333333333333333,
              "#9c179e"
             ],
             [
              0.4444444444444444,
              "#bd3786"
             ],
             [
              0.5555555555555556,
              "#d8576b"
             ],
             [
              0.6666666666666666,
              "#ed7953"
             ],
             [
              0.7777777777777778,
              "#fb9f3a"
             ],
             [
              0.8888888888888888,
              "#fdca26"
             ],
             [
              1,
              "#f0f921"
             ]
            ],
            "type": "histogram2d"
           }
          ],
          "histogram2dcontour": [
           {
            "colorbar": {
             "outlinewidth": 0,
             "ticks": ""
            },
            "colorscale": [
             [
              0,
              "#0d0887"
             ],
             [
              0.1111111111111111,
              "#46039f"
             ],
             [
              0.2222222222222222,
              "#7201a8"
             ],
             [
              0.3333333333333333,
              "#9c179e"
             ],
             [
              0.4444444444444444,
              "#bd3786"
             ],
             [
              0.5555555555555556,
              "#d8576b"
             ],
             [
              0.6666666666666666,
              "#ed7953"
             ],
             [
              0.7777777777777778,
              "#fb9f3a"
             ],
             [
              0.8888888888888888,
              "#fdca26"
             ],
             [
              1,
              "#f0f921"
             ]
            ],
            "type": "histogram2dcontour"
           }
          ],
          "mesh3d": [
           {
            "colorbar": {
             "outlinewidth": 0,
             "ticks": ""
            },
            "type": "mesh3d"
           }
          ],
          "parcoords": [
           {
            "line": {
             "colorbar": {
              "outlinewidth": 0,
              "ticks": ""
             }
            },
            "type": "parcoords"
           }
          ],
          "pie": [
           {
            "automargin": true,
            "type": "pie"
           }
          ],
          "scatter": [
           {
            "fillpattern": {
             "fillmode": "overlay",
             "size": 10,
             "solidity": 0.2
            },
            "type": "scatter"
           }
          ],
          "scatter3d": [
           {
            "line": {
             "colorbar": {
              "outlinewidth": 0,
              "ticks": ""
             }
            },
            "marker": {
             "colorbar": {
              "outlinewidth": 0,
              "ticks": ""
             }
            },
            "type": "scatter3d"
           }
          ],
          "scattercarpet": [
           {
            "marker": {
             "colorbar": {
              "outlinewidth": 0,
              "ticks": ""
             }
            },
            "type": "scattercarpet"
           }
          ],
          "scattergeo": [
           {
            "marker": {
             "colorbar": {
              "outlinewidth": 0,
              "ticks": ""
             }
            },
            "type": "scattergeo"
           }
          ],
          "scattergl": [
           {
            "marker": {
             "colorbar": {
              "outlinewidth": 0,
              "ticks": ""
             }
            },
            "type": "scattergl"
           }
          ],
          "scattermapbox": [
           {
            "marker": {
             "colorbar": {
              "outlinewidth": 0,
              "ticks": ""
             }
            },
            "type": "scattermapbox"
           }
          ],
          "scatterpolar": [
           {
            "marker": {
             "colorbar": {
              "outlinewidth": 0,
              "ticks": ""
             }
            },
            "type": "scatterpolar"
           }
          ],
          "scatterpolargl": [
           {
            "marker": {
             "colorbar": {
              "outlinewidth": 0,
              "ticks": ""
             }
            },
            "type": "scatterpolargl"
           }
          ],
          "scatterternary": [
           {
            "marker": {
             "colorbar": {
              "outlinewidth": 0,
              "ticks": ""
             }
            },
            "type": "scatterternary"
           }
          ],
          "surface": [
           {
            "colorbar": {
             "outlinewidth": 0,
             "ticks": ""
            },
            "colorscale": [
             [
              0,
              "#0d0887"
             ],
             [
              0.1111111111111111,
              "#46039f"
             ],
             [
              0.2222222222222222,
              "#7201a8"
             ],
             [
              0.3333333333333333,
              "#9c179e"
             ],
             [
              0.4444444444444444,
              "#bd3786"
             ],
             [
              0.5555555555555556,
              "#d8576b"
             ],
             [
              0.6666666666666666,
              "#ed7953"
             ],
             [
              0.7777777777777778,
              "#fb9f3a"
             ],
             [
              0.8888888888888888,
              "#fdca26"
             ],
             [
              1,
              "#f0f921"
             ]
            ],
            "type": "surface"
           }
          ],
          "table": [
           {
            "cells": {
             "fill": {
              "color": "#EBF0F8"
             },
             "line": {
              "color": "white"
             }
            },
            "header": {
             "fill": {
              "color": "#C8D4E3"
             },
             "line": {
              "color": "white"
             }
            },
            "type": "table"
           }
          ]
         },
         "layout": {
          "annotationdefaults": {
           "arrowcolor": "#2a3f5f",
           "arrowhead": 0,
           "arrowwidth": 1
          },
          "autotypenumbers": "strict",
          "coloraxis": {
           "colorbar": {
            "outlinewidth": 0,
            "ticks": ""
           }
          },
          "colorscale": {
           "diverging": [
            [
             0,
             "#8e0152"
            ],
            [
             0.1,
             "#c51b7d"
            ],
            [
             0.2,
             "#de77ae"
            ],
            [
             0.3,
             "#f1b6da"
            ],
            [
             0.4,
             "#fde0ef"
            ],
            [
             0.5,
             "#f7f7f7"
            ],
            [
             0.6,
             "#e6f5d0"
            ],
            [
             0.7,
             "#b8e186"
            ],
            [
             0.8,
             "#7fbc41"
            ],
            [
             0.9,
             "#4d9221"
            ],
            [
             1,
             "#276419"
            ]
           ],
           "sequential": [
            [
             0,
             "#0d0887"
            ],
            [
             0.1111111111111111,
             "#46039f"
            ],
            [
             0.2222222222222222,
             "#7201a8"
            ],
            [
             0.3333333333333333,
             "#9c179e"
            ],
            [
             0.4444444444444444,
             "#bd3786"
            ],
            [
             0.5555555555555556,
             "#d8576b"
            ],
            [
             0.6666666666666666,
             "#ed7953"
            ],
            [
             0.7777777777777778,
             "#fb9f3a"
            ],
            [
             0.8888888888888888,
             "#fdca26"
            ],
            [
             1,
             "#f0f921"
            ]
           ],
           "sequentialminus": [
            [
             0,
             "#0d0887"
            ],
            [
             0.1111111111111111,
             "#46039f"
            ],
            [
             0.2222222222222222,
             "#7201a8"
            ],
            [
             0.3333333333333333,
             "#9c179e"
            ],
            [
             0.4444444444444444,
             "#bd3786"
            ],
            [
             0.5555555555555556,
             "#d8576b"
            ],
            [
             0.6666666666666666,
             "#ed7953"
            ],
            [
             0.7777777777777778,
             "#fb9f3a"
            ],
            [
             0.8888888888888888,
             "#fdca26"
            ],
            [
             1,
             "#f0f921"
            ]
           ]
          },
          "colorway": [
           "#636efa",
           "#EF553B",
           "#00cc96",
           "#ab63fa",
           "#FFA15A",
           "#19d3f3",
           "#FF6692",
           "#B6E880",
           "#FF97FF",
           "#FECB52"
          ],
          "font": {
           "color": "#2a3f5f"
          },
          "geo": {
           "bgcolor": "white",
           "lakecolor": "white",
           "landcolor": "#E5ECF6",
           "showlakes": true,
           "showland": true,
           "subunitcolor": "white"
          },
          "hoverlabel": {
           "align": "left"
          },
          "hovermode": "closest",
          "mapbox": {
           "style": "light"
          },
          "paper_bgcolor": "white",
          "plot_bgcolor": "#E5ECF6",
          "polar": {
           "angularaxis": {
            "gridcolor": "white",
            "linecolor": "white",
            "ticks": ""
           },
           "bgcolor": "#E5ECF6",
           "radialaxis": {
            "gridcolor": "white",
            "linecolor": "white",
            "ticks": ""
           }
          },
          "scene": {
           "xaxis": {
            "backgroundcolor": "#E5ECF6",
            "gridcolor": "white",
            "gridwidth": 2,
            "linecolor": "white",
            "showbackground": true,
            "ticks": "",
            "zerolinecolor": "white"
           },
           "yaxis": {
            "backgroundcolor": "#E5ECF6",
            "gridcolor": "white",
            "gridwidth": 2,
            "linecolor": "white",
            "showbackground": true,
            "ticks": "",
            "zerolinecolor": "white"
           },
           "zaxis": {
            "backgroundcolor": "#E5ECF6",
            "gridcolor": "white",
            "gridwidth": 2,
            "linecolor": "white",
            "showbackground": true,
            "ticks": "",
            "zerolinecolor": "white"
           }
          },
          "shapedefaults": {
           "line": {
            "color": "#2a3f5f"
           }
          },
          "ternary": {
           "aaxis": {
            "gridcolor": "white",
            "linecolor": "white",
            "ticks": ""
           },
           "baxis": {
            "gridcolor": "white",
            "linecolor": "white",
            "ticks": ""
           },
           "bgcolor": "#E5ECF6",
           "caxis": {
            "gridcolor": "white",
            "linecolor": "white",
            "ticks": ""
           }
          },
          "title": {
           "x": 0.05
          },
          "xaxis": {
           "automargin": true,
           "gridcolor": "white",
           "linecolor": "white",
           "ticks": "",
           "title": {
            "standoff": 15
           },
           "zerolinecolor": "white",
           "zerolinewidth": 2
          },
          "yaxis": {
           "automargin": true,
           "gridcolor": "white",
           "linecolor": "white",
           "ticks": "",
           "title": {
            "standoff": 15
           },
           "zerolinecolor": "white",
           "zerolinewidth": 2
          }
         }
        }
       }
      }
     },
     "metadata": {},
     "output_type": "display_data"
    }
   ],
   "source": [
    "import plotly.graph_objects as go\n",
    "\n",
    "## USE MSU AS EXAMPLE\n",
    "### MSU Is In Index Position 21 in this case outputing csv for MSU\n",
    "team_tables[unique_teams[21]] = team_tables[unique_teams[21]].fillna(0)\n",
    "msu_df = team_tables[unique_teams[21]].copy()\n",
    "\n",
    "csv_df = msu_df.copy()\n",
    "\n",
    "# Create a basic table\n",
    "fig = go.Figure(data=[go.Table(\n",
    "    header=dict(values=list(csv_df.columns),\n",
    "                fill_color='paleturquoise',\n",
    "                align='left'),\n",
    "    cells=dict(values=[csv_df[col] for col in csv_df.columns],\n",
    "               fill_color='lavender',\n",
    "               align='left'))\n",
    "])\n",
    "\n",
    "fig.show()\n"
   ]
  },
  {
   "cell_type": "code",
   "execution_count": 124,
   "metadata": {},
   "outputs": [
    {
     "data": {
      "application/vnd.plotly.v1+json": {
       "config": {
        "plotlyServerURL": "https://plot.ly"
       },
       "data": [
        {
         "cells": {
          "align": "left",
          "fill": {
           "color": "lavender"
          },
          "values": [
           [
            "AJ Casperson",
            "Aaron Grounds",
            "Adam Pitters",
            "Atte Lehikoinen",
            "Austin Brimmer",
            "Cade Mason",
            "Chris Pappas",
            "Daniel Baldassarra",
            "Garrett Valk",
            "Grayson Constable",
            "Heath Armstrong",
            "Isaiah Fox",
            "Jack Quinn",
            "John Gormley",
            "Jordan Di Cicco",
            "Josh Zary",
            "Kade Peterson",
            "Noah Kane",
            "Nolan Welsh",
            "Peter Muzyka",
            "Preston Brodziak",
            "Remy Parker",
            "Riley Wallack",
            "Valtteri Piironen",
            "Xan Gurney",
            "Zachary Nazzarett"
           ],
           [
            0,
            0.555,
            0.065,
            0,
            0,
            0.22499999999999998,
            -0.075,
            0,
            0.075,
            0.7899999999999999,
            0,
            0.075,
            1.2999891027969488,
            0.05499999999999999,
            0,
            -0.03,
            0.075,
            1.2799891027969488,
            0,
            0.01,
            0.9,
            0.15,
            0.945,
            0.075,
            0,
            0
           ],
           [
            0,
            0.49998910279694875,
            0.145,
            0,
            0,
            0.555,
            0,
            0,
            0,
            1.7449945513984744,
            0,
            0.46999455139847435,
            0.5099891027969488,
            0.10499455139847438,
            0.715,
            0.9299945513984743,
            0.2549945513984744,
            -0.15,
            0.065,
            0.2549945513984744,
            -0.01999999999999999,
            0.22499999999999998,
            0.24,
            0.15,
            0,
            0
           ],
           [
            0,
            0.94,
            0.23499999999999996,
            0,
            0,
            0.47999455139847436,
            0.14999999999999997,
            0,
            0.14999999999999997,
            0.22499999999999998,
            0,
            0.47999455139847436,
            0.40499455139847435,
            0.12999999999999998,
            1.0899999999999999,
            0.41499455139847435,
            0.14999999999999997,
            0.20499999999999996,
            0.23499999999999996,
            0.40499455139847435,
            0.18499999999999994,
            1.135,
            0.74,
            1.2299945513984742,
            0,
            0
           ],
           [
            [
             0,
             0
            ],
            [
             0.07500000000000002,
             0.75
            ],
            [
             0.425,
             0.075
            ],
            [
             0,
             0
            ],
            [
             0.865,
             0.555
            ],
            [
             2.885,
             0.79
            ],
            [
             0.9,
             0.075
            ],
            [
             0.15000000000000002,
             0
            ],
            [
             0.6300000000000001,
             0.225
            ],
            [
             1.2000000000000002,
             1.0899999999999999
            ],
            [
             0,
             0
            ],
            [
             2.52,
             1.2799999999999998
            ],
            [
             0,
             0.15
            ],
            [
             0.15000000000000002,
             0.17999455139847437
            ],
            [
             0.975,
             -0.075
            ],
            [
             1.005,
             1.81
            ],
            [
             0,
             0
            ],
            [
             0,
             0
            ],
            [
             0.53,
             0.010000000000000009
            ],
            [
             0.225,
             -0.15
            ],
            [
             0.32,
             0.22499999999999998
            ],
            [
             2.58,
             1.65
            ],
            [
             0.24000000000000002,
             0.075
            ],
            [
             0.4049945513984744,
             -0.075
            ],
            [
             0,
             0
            ],
            [
             0,
             0
            ]
           ],
           [
            [
             0,
             0
            ],
            [
             0.37499999999999994,
             0.2549945513984744
            ],
            [
             0.5849945513984743,
             0
            ],
            [
             0,
             0
            ],
            [
             0.975,
             0.22499999999999998
            ],
            [
             0.9299999999999999,
             0
            ],
            [
             1.9449999999999998,
             0.9
            ],
            [
             0,
             0
            ],
            [
             0.37499999999999994,
             0
            ],
            [
             0.37499999999999994,
             0.5149999999999999
            ],
            [
             0,
             0.705
            ],
            [
             0.7049945513984743,
             0.7999999999999999
            ],
            [
             0.44999999999999996,
             0.065
            ],
            [
             0.21499999999999994,
             0.5099891027969488
            ],
            [
             0.7049945513984743,
             0
            ],
            [
             2.215,
             1.025
            ],
            [
             0,
             0.15
            ],
            [
             0.2899999999999999,
             0
            ],
            [
             1.3199782055938973,
             0
            ],
            [
             0.29999999999999993,
             0.075
            ],
            [
             0.15999999999999992,
             0.2749945513984744
            ],
            [
             0.5349999999999999,
             0.6
            ],
            [
             0.18499999999999994,
             0.105
            ],
            [
             0.6299945513984744,
             0
            ],
            [
             0,
             0
            ],
            [
             0,
             0
            ]
           ],
           [
            [
             0,
             0
            ],
            [
             0.37499999999999994,
             0.2549945513984744
            ],
            [
             0.5849945513984743,
             0
            ],
            [
             0,
             0
            ],
            [
             0.975,
             0.22499999999999998
            ],
            [
             0.9299999999999999,
             0
            ],
            [
             1.9449999999999998,
             0.9
            ],
            [
             0,
             0
            ],
            [
             0.37499999999999994,
             0
            ],
            [
             0.37499999999999994,
             0.5149999999999999
            ],
            [
             0,
             0.705
            ],
            [
             0.7049945513984743,
             0.7999999999999999
            ],
            [
             0.44999999999999996,
             0.065
            ],
            [
             0.21499999999999994,
             0.5099891027969488
            ],
            [
             0.7049945513984743,
             0
            ],
            [
             2.215,
             1.025
            ],
            [
             0,
             0.15
            ],
            [
             0.2899999999999999,
             0
            ],
            [
             1.3199782055938973,
             0
            ],
            [
             0.29999999999999993,
             0.075
            ],
            [
             0.15999999999999992,
             0.2749945513984744
            ],
            [
             0.5349999999999999,
             0.6
            ],
            [
             0.18499999999999994,
             0.105
            ],
            [
             0.6299945513984744,
             0
            ],
            [
             0,
             0
            ],
            [
             0,
             0
            ]
           ],
           [
            [
             0,
             0
            ],
            [
             0.07500000000000002,
             0.75
            ],
            [
             0.425,
             0.075
            ],
            [
             0,
             0
            ],
            [
             0.865,
             0.555
            ],
            [
             2.885,
             0.79
            ],
            [
             0.9,
             0.075
            ],
            [
             0.15000000000000002,
             0
            ],
            [
             0.6300000000000001,
             0.225
            ],
            [
             1.2000000000000002,
             1.0899999999999999
            ],
            [
             0,
             0
            ],
            [
             2.52,
             1.2799999999999998
            ],
            [
             0,
             0.15
            ],
            [
             0.15000000000000002,
             0.17999455139847437
            ],
            [
             0.975,
             -0.075
            ],
            [
             1.005,
             1.81
            ],
            [
             0,
             0
            ],
            [
             0,
             0
            ],
            [
             0.53,
             0.010000000000000009
            ],
            [
             0.225,
             -0.15
            ],
            [
             0.32,
             0.22499999999999998
            ],
            [
             2.58,
             1.65
            ],
            [
             0.24000000000000002,
             0.075
            ],
            [
             0.4049945513984744,
             -0.075
            ],
            [
             0,
             0
            ],
            [
             0,
             0
            ]
           ],
           [
            -0.075,
            0,
            0,
            0,
            0.075,
            0.075,
            0.2549945513984744,
            0,
            0.17999455139847437,
            0.6299945513984744,
            -0.009999999999999998,
            0.955,
            -0.075,
            -0.15,
            -0.075,
            0.04499999999999999,
            0,
            0.725,
            0.815,
            -0.14999999999999997,
            0.07,
            0.14999999999999997,
            0.039999999999999994,
            0,
            0,
            0
           ],
           [
            [
             0.075,
             0
            ],
            [
             0.48999455139847437,
             0.3299945513984744
            ],
            [
             0,
             0
            ],
            [
             0,
             0
            ],
            [
             0.075,
             0.975
            ],
            [
             0.8949945513984744,
             1.12
            ],
            [
             0.63,
             0.075
            ],
            [
             0,
             0
            ],
            [
             0.15,
             0.075
            ],
            [
             0.4049945513984744,
             0.075
            ],
            [
             0,
             0
            ],
            [
             0.9699945513984743,
             2.734994551398474
            ],
            [
             0.5849891027969487,
             0
            ],
            [
             0.3299945513984744,
             0.3299945513984744
            ],
            [
             0.3299945513984744,
             0.63
            ],
            [
             1.34,
             2.255
            ],
            [
             0,
             0
            ],
            [
             0.89,
             0.565
            ],
            [
             0.13,
             0.05
            ],
            [
             0.5849891027969487,
             -0.075
            ],
            [
             0,
             0.24999455139847437
            ],
            [
             0.075,
             0.075
            ],
            [
             0.05500000000000001,
             0.305
            ],
            [
             0,
             0
            ],
            [
             0,
             0
            ],
            [
             0,
             0
            ]
           ],
           [
            [
             0.075,
             0
            ],
            [
             0.48999455139847437,
             0.3299945513984744
            ],
            [
             0,
             0
            ],
            [
             0,
             0
            ],
            [
             0.075,
             0.975
            ],
            [
             0.8949945513984744,
             1.12
            ],
            [
             0.63,
             0.075
            ],
            [
             0,
             0
            ],
            [
             0.15,
             0.075
            ],
            [
             0.4049945513984744,
             0.075
            ],
            [
             0,
             0
            ],
            [
             0.9699945513984743,
             2.734994551398474
            ],
            [
             0.5849891027969487,
             0
            ],
            [
             0.3299945513984744,
             0.3299945513984744
            ],
            [
             0.3299945513984744,
             0.63
            ],
            [
             1.34,
             2.255
            ],
            [
             0,
             0
            ],
            [
             0.89,
             0.565
            ],
            [
             0.13,
             0.05
            ],
            [
             0.5849891027969487,
             -0.075
            ],
            [
             0,
             0.24999455139847437
            ],
            [
             0.075,
             0.075
            ],
            [
             0.05500000000000001,
             0.305
            ],
            [
             0,
             0
            ],
            [
             0,
             0
            ],
            [
             0,
             0
            ]
           ]
          ]
         },
         "header": {
          "align": "left",
          "fill": {
           "color": "paleturquoise"
          },
          "values": [
           "Player",
           "Penn State",
           "Holy Cross",
           "Boston College",
           "Stonehill",
           "Colorado College",
           "Colorado College",
           "Stonehill",
           "Sacred Heart",
           "Omaha",
           "Omaha"
          ]
         },
         "type": "table"
        }
       ],
       "layout": {
        "template": {
         "data": {
          "bar": [
           {
            "error_x": {
             "color": "#2a3f5f"
            },
            "error_y": {
             "color": "#2a3f5f"
            },
            "marker": {
             "line": {
              "color": "#E5ECF6",
              "width": 0.5
             },
             "pattern": {
              "fillmode": "overlay",
              "size": 10,
              "solidity": 0.2
             }
            },
            "type": "bar"
           }
          ],
          "barpolar": [
           {
            "marker": {
             "line": {
              "color": "#E5ECF6",
              "width": 0.5
             },
             "pattern": {
              "fillmode": "overlay",
              "size": 10,
              "solidity": 0.2
             }
            },
            "type": "barpolar"
           }
          ],
          "carpet": [
           {
            "aaxis": {
             "endlinecolor": "#2a3f5f",
             "gridcolor": "white",
             "linecolor": "white",
             "minorgridcolor": "white",
             "startlinecolor": "#2a3f5f"
            },
            "baxis": {
             "endlinecolor": "#2a3f5f",
             "gridcolor": "white",
             "linecolor": "white",
             "minorgridcolor": "white",
             "startlinecolor": "#2a3f5f"
            },
            "type": "carpet"
           }
          ],
          "choropleth": [
           {
            "colorbar": {
             "outlinewidth": 0,
             "ticks": ""
            },
            "type": "choropleth"
           }
          ],
          "contour": [
           {
            "colorbar": {
             "outlinewidth": 0,
             "ticks": ""
            },
            "colorscale": [
             [
              0,
              "#0d0887"
             ],
             [
              0.1111111111111111,
              "#46039f"
             ],
             [
              0.2222222222222222,
              "#7201a8"
             ],
             [
              0.3333333333333333,
              "#9c179e"
             ],
             [
              0.4444444444444444,
              "#bd3786"
             ],
             [
              0.5555555555555556,
              "#d8576b"
             ],
             [
              0.6666666666666666,
              "#ed7953"
             ],
             [
              0.7777777777777778,
              "#fb9f3a"
             ],
             [
              0.8888888888888888,
              "#fdca26"
             ],
             [
              1,
              "#f0f921"
             ]
            ],
            "type": "contour"
           }
          ],
          "contourcarpet": [
           {
            "colorbar": {
             "outlinewidth": 0,
             "ticks": ""
            },
            "type": "contourcarpet"
           }
          ],
          "heatmap": [
           {
            "colorbar": {
             "outlinewidth": 0,
             "ticks": ""
            },
            "colorscale": [
             [
              0,
              "#0d0887"
             ],
             [
              0.1111111111111111,
              "#46039f"
             ],
             [
              0.2222222222222222,
              "#7201a8"
             ],
             [
              0.3333333333333333,
              "#9c179e"
             ],
             [
              0.4444444444444444,
              "#bd3786"
             ],
             [
              0.5555555555555556,
              "#d8576b"
             ],
             [
              0.6666666666666666,
              "#ed7953"
             ],
             [
              0.7777777777777778,
              "#fb9f3a"
             ],
             [
              0.8888888888888888,
              "#fdca26"
             ],
             [
              1,
              "#f0f921"
             ]
            ],
            "type": "heatmap"
           }
          ],
          "heatmapgl": [
           {
            "colorbar": {
             "outlinewidth": 0,
             "ticks": ""
            },
            "colorscale": [
             [
              0,
              "#0d0887"
             ],
             [
              0.1111111111111111,
              "#46039f"
             ],
             [
              0.2222222222222222,
              "#7201a8"
             ],
             [
              0.3333333333333333,
              "#9c179e"
             ],
             [
              0.4444444444444444,
              "#bd3786"
             ],
             [
              0.5555555555555556,
              "#d8576b"
             ],
             [
              0.6666666666666666,
              "#ed7953"
             ],
             [
              0.7777777777777778,
              "#fb9f3a"
             ],
             [
              0.8888888888888888,
              "#fdca26"
             ],
             [
              1,
              "#f0f921"
             ]
            ],
            "type": "heatmapgl"
           }
          ],
          "histogram": [
           {
            "marker": {
             "pattern": {
              "fillmode": "overlay",
              "size": 10,
              "solidity": 0.2
             }
            },
            "type": "histogram"
           }
          ],
          "histogram2d": [
           {
            "colorbar": {
             "outlinewidth": 0,
             "ticks": ""
            },
            "colorscale": [
             [
              0,
              "#0d0887"
             ],
             [
              0.1111111111111111,
              "#46039f"
             ],
             [
              0.2222222222222222,
              "#7201a8"
             ],
             [
              0.3333333333333333,
              "#9c179e"
             ],
             [
              0.4444444444444444,
              "#bd3786"
             ],
             [
              0.5555555555555556,
              "#d8576b"
             ],
             [
              0.6666666666666666,
              "#ed7953"
             ],
             [
              0.7777777777777778,
              "#fb9f3a"
             ],
             [
              0.8888888888888888,
              "#fdca26"
             ],
             [
              1,
              "#f0f921"
             ]
            ],
            "type": "histogram2d"
           }
          ],
          "histogram2dcontour": [
           {
            "colorbar": {
             "outlinewidth": 0,
             "ticks": ""
            },
            "colorscale": [
             [
              0,
              "#0d0887"
             ],
             [
              0.1111111111111111,
              "#46039f"
             ],
             [
              0.2222222222222222,
              "#7201a8"
             ],
             [
              0.3333333333333333,
              "#9c179e"
             ],
             [
              0.4444444444444444,
              "#bd3786"
             ],
             [
              0.5555555555555556,
              "#d8576b"
             ],
             [
              0.6666666666666666,
              "#ed7953"
             ],
             [
              0.7777777777777778,
              "#fb9f3a"
             ],
             [
              0.8888888888888888,
              "#fdca26"
             ],
             [
              1,
              "#f0f921"
             ]
            ],
            "type": "histogram2dcontour"
           }
          ],
          "mesh3d": [
           {
            "colorbar": {
             "outlinewidth": 0,
             "ticks": ""
            },
            "type": "mesh3d"
           }
          ],
          "parcoords": [
           {
            "line": {
             "colorbar": {
              "outlinewidth": 0,
              "ticks": ""
             }
            },
            "type": "parcoords"
           }
          ],
          "pie": [
           {
            "automargin": true,
            "type": "pie"
           }
          ],
          "scatter": [
           {
            "fillpattern": {
             "fillmode": "overlay",
             "size": 10,
             "solidity": 0.2
            },
            "type": "scatter"
           }
          ],
          "scatter3d": [
           {
            "line": {
             "colorbar": {
              "outlinewidth": 0,
              "ticks": ""
             }
            },
            "marker": {
             "colorbar": {
              "outlinewidth": 0,
              "ticks": ""
             }
            },
            "type": "scatter3d"
           }
          ],
          "scattercarpet": [
           {
            "marker": {
             "colorbar": {
              "outlinewidth": 0,
              "ticks": ""
             }
            },
            "type": "scattercarpet"
           }
          ],
          "scattergeo": [
           {
            "marker": {
             "colorbar": {
              "outlinewidth": 0,
              "ticks": ""
             }
            },
            "type": "scattergeo"
           }
          ],
          "scattergl": [
           {
            "marker": {
             "colorbar": {
              "outlinewidth": 0,
              "ticks": ""
             }
            },
            "type": "scattergl"
           }
          ],
          "scattermapbox": [
           {
            "marker": {
             "colorbar": {
              "outlinewidth": 0,
              "ticks": ""
             }
            },
            "type": "scattermapbox"
           }
          ],
          "scatterpolar": [
           {
            "marker": {
             "colorbar": {
              "outlinewidth": 0,
              "ticks": ""
             }
            },
            "type": "scatterpolar"
           }
          ],
          "scatterpolargl": [
           {
            "marker": {
             "colorbar": {
              "outlinewidth": 0,
              "ticks": ""
             }
            },
            "type": "scatterpolargl"
           }
          ],
          "scatterternary": [
           {
            "marker": {
             "colorbar": {
              "outlinewidth": 0,
              "ticks": ""
             }
            },
            "type": "scatterternary"
           }
          ],
          "surface": [
           {
            "colorbar": {
             "outlinewidth": 0,
             "ticks": ""
            },
            "colorscale": [
             [
              0,
              "#0d0887"
             ],
             [
              0.1111111111111111,
              "#46039f"
             ],
             [
              0.2222222222222222,
              "#7201a8"
             ],
             [
              0.3333333333333333,
              "#9c179e"
             ],
             [
              0.4444444444444444,
              "#bd3786"
             ],
             [
              0.5555555555555556,
              "#d8576b"
             ],
             [
              0.6666666666666666,
              "#ed7953"
             ],
             [
              0.7777777777777778,
              "#fb9f3a"
             ],
             [
              0.8888888888888888,
              "#fdca26"
             ],
             [
              1,
              "#f0f921"
             ]
            ],
            "type": "surface"
           }
          ],
          "table": [
           {
            "cells": {
             "fill": {
              "color": "#EBF0F8"
             },
             "line": {
              "color": "white"
             }
            },
            "header": {
             "fill": {
              "color": "#C8D4E3"
             },
             "line": {
              "color": "white"
             }
            },
            "type": "table"
           }
          ]
         },
         "layout": {
          "annotationdefaults": {
           "arrowcolor": "#2a3f5f",
           "arrowhead": 0,
           "arrowwidth": 1
          },
          "autotypenumbers": "strict",
          "coloraxis": {
           "colorbar": {
            "outlinewidth": 0,
            "ticks": ""
           }
          },
          "colorscale": {
           "diverging": [
            [
             0,
             "#8e0152"
            ],
            [
             0.1,
             "#c51b7d"
            ],
            [
             0.2,
             "#de77ae"
            ],
            [
             0.3,
             "#f1b6da"
            ],
            [
             0.4,
             "#fde0ef"
            ],
            [
             0.5,
             "#f7f7f7"
            ],
            [
             0.6,
             "#e6f5d0"
            ],
            [
             0.7,
             "#b8e186"
            ],
            [
             0.8,
             "#7fbc41"
            ],
            [
             0.9,
             "#4d9221"
            ],
            [
             1,
             "#276419"
            ]
           ],
           "sequential": [
            [
             0,
             "#0d0887"
            ],
            [
             0.1111111111111111,
             "#46039f"
            ],
            [
             0.2222222222222222,
             "#7201a8"
            ],
            [
             0.3333333333333333,
             "#9c179e"
            ],
            [
             0.4444444444444444,
             "#bd3786"
            ],
            [
             0.5555555555555556,
             "#d8576b"
            ],
            [
             0.6666666666666666,
             "#ed7953"
            ],
            [
             0.7777777777777778,
             "#fb9f3a"
            ],
            [
             0.8888888888888888,
             "#fdca26"
            ],
            [
             1,
             "#f0f921"
            ]
           ],
           "sequentialminus": [
            [
             0,
             "#0d0887"
            ],
            [
             0.1111111111111111,
             "#46039f"
            ],
            [
             0.2222222222222222,
             "#7201a8"
            ],
            [
             0.3333333333333333,
             "#9c179e"
            ],
            [
             0.4444444444444444,
             "#bd3786"
            ],
            [
             0.5555555555555556,
             "#d8576b"
            ],
            [
             0.6666666666666666,
             "#ed7953"
            ],
            [
             0.7777777777777778,
             "#fb9f3a"
            ],
            [
             0.8888888888888888,
             "#fdca26"
            ],
            [
             1,
             "#f0f921"
            ]
           ]
          },
          "colorway": [
           "#636efa",
           "#EF553B",
           "#00cc96",
           "#ab63fa",
           "#FFA15A",
           "#19d3f3",
           "#FF6692",
           "#B6E880",
           "#FF97FF",
           "#FECB52"
          ],
          "font": {
           "color": "#2a3f5f"
          },
          "geo": {
           "bgcolor": "white",
           "lakecolor": "white",
           "landcolor": "#E5ECF6",
           "showlakes": true,
           "showland": true,
           "subunitcolor": "white"
          },
          "hoverlabel": {
           "align": "left"
          },
          "hovermode": "closest",
          "mapbox": {
           "style": "light"
          },
          "paper_bgcolor": "white",
          "plot_bgcolor": "#E5ECF6",
          "polar": {
           "angularaxis": {
            "gridcolor": "white",
            "linecolor": "white",
            "ticks": ""
           },
           "bgcolor": "#E5ECF6",
           "radialaxis": {
            "gridcolor": "white",
            "linecolor": "white",
            "ticks": ""
           }
          },
          "scene": {
           "xaxis": {
            "backgroundcolor": "#E5ECF6",
            "gridcolor": "white",
            "gridwidth": 2,
            "linecolor": "white",
            "showbackground": true,
            "ticks": "",
            "zerolinecolor": "white"
           },
           "yaxis": {
            "backgroundcolor": "#E5ECF6",
            "gridcolor": "white",
            "gridwidth": 2,
            "linecolor": "white",
            "showbackground": true,
            "ticks": "",
            "zerolinecolor": "white"
           },
           "zaxis": {
            "backgroundcolor": "#E5ECF6",
            "gridcolor": "white",
            "gridwidth": 2,
            "linecolor": "white",
            "showbackground": true,
            "ticks": "",
            "zerolinecolor": "white"
           }
          },
          "shapedefaults": {
           "line": {
            "color": "#2a3f5f"
           }
          },
          "ternary": {
           "aaxis": {
            "gridcolor": "white",
            "linecolor": "white",
            "ticks": ""
           },
           "baxis": {
            "gridcolor": "white",
            "linecolor": "white",
            "ticks": ""
           },
           "bgcolor": "#E5ECF6",
           "caxis": {
            "gridcolor": "white",
            "linecolor": "white",
            "ticks": ""
           }
          },
          "title": {
           "x": 0.05
          },
          "xaxis": {
           "automargin": true,
           "gridcolor": "white",
           "linecolor": "white",
           "ticks": "",
           "title": {
            "standoff": 15
           },
           "zerolinecolor": "white",
           "zerolinewidth": 2
          },
          "yaxis": {
           "automargin": true,
           "gridcolor": "white",
           "linecolor": "white",
           "ticks": "",
           "title": {
            "standoff": 15
           },
           "zerolinecolor": "white",
           "zerolinewidth": 2
          }
         }
        }
       }
      }
     },
     "metadata": {},
     "output_type": "display_data"
    }
   ],
   "source": [
    "# Reset the index so that the 'Player' column is included as a regular column\n",
    "csv_df_reset = csv_df.reset_index()\n",
    "\n",
    "# Create the table with the updated DataFrame\n",
    "fig = go.Figure(data=[go.Table(\n",
    "    header=dict(values=list(csv_df_reset.columns),\n",
    "                fill_color='paleturquoise',\n",
    "                align='left'),\n",
    "    cells=dict(values=[csv_df_reset[col] for col in csv_df_reset.columns],\n",
    "               fill_color='lavender',\n",
    "               align='left'))\n",
    "])\n",
    "\n",
    "# Note: We're not displaying the figure here due to the environment limitation, \n",
    "# but you can use this code in your local setup to see the updated table.\n",
    "fig.show()\n",
    "\n",
    "# Return the first few rows of the updated DataFrame for inspection\n",
    "# csv_df_reset.head()\n"
   ]
  },
  {
   "cell_type": "code",
   "execution_count": 125,
   "metadata": {},
   "outputs": [
    {
     "data": {
      "text/html": [
       "<div>\n",
       "<style scoped>\n",
       "    .dataframe tbody tr th:only-of-type {\n",
       "        vertical-align: middle;\n",
       "    }\n",
       "\n",
       "    .dataframe tbody tr th {\n",
       "        vertical-align: top;\n",
       "    }\n",
       "\n",
       "    .dataframe thead th {\n",
       "        text-align: right;\n",
       "    }\n",
       "</style>\n",
       "<table border=\"1\" class=\"dataframe\">\n",
       "  <thead>\n",
       "    <tr style=\"text-align: right;\">\n",
       "      <th></th>\n",
       "      <th>Player</th>\n",
       "      <th>Penn State</th>\n",
       "      <th>Holy Cross</th>\n",
       "      <th>Boston College</th>\n",
       "      <th>Stonehill</th>\n",
       "      <th>Colorado College</th>\n",
       "      <th>Colorado College</th>\n",
       "      <th>Stonehill</th>\n",
       "      <th>Sacred Heart</th>\n",
       "      <th>Omaha</th>\n",
       "      <th>Omaha</th>\n",
       "      <th>Average</th>\n",
       "    </tr>\n",
       "  </thead>\n",
       "  <tbody>\n",
       "    <tr>\n",
       "      <th>15</th>\n",
       "      <td>Josh Zary</td>\n",
       "      <td>-0.030</td>\n",
       "      <td>0.930</td>\n",
       "      <td>0.415</td>\n",
       "      <td>1.005</td>\n",
       "      <td>2.215</td>\n",
       "      <td>1.025</td>\n",
       "      <td>1.81</td>\n",
       "      <td>0.045</td>\n",
       "      <td>1.340</td>\n",
       "      <td>2.255</td>\n",
       "      <td>1.1010</td>\n",
       "    </tr>\n",
       "    <tr>\n",
       "      <th>11</th>\n",
       "      <td>Isaiah Fox</td>\n",
       "      <td>0.075</td>\n",
       "      <td>0.470</td>\n",
       "      <td>0.480</td>\n",
       "      <td>2.520</td>\n",
       "      <td>0.705</td>\n",
       "      <td>0.800</td>\n",
       "      <td>1.28</td>\n",
       "      <td>0.955</td>\n",
       "      <td>0.970</td>\n",
       "      <td>2.735</td>\n",
       "      <td>1.0990</td>\n",
       "    </tr>\n",
       "    <tr>\n",
       "      <th>5</th>\n",
       "      <td>Cade Mason</td>\n",
       "      <td>0.225</td>\n",
       "      <td>0.555</td>\n",
       "      <td>0.480</td>\n",
       "      <td>2.885</td>\n",
       "      <td>0.930</td>\n",
       "      <td>0.000</td>\n",
       "      <td>0.79</td>\n",
       "      <td>0.075</td>\n",
       "      <td>0.895</td>\n",
       "      <td>1.120</td>\n",
       "      <td>0.7955</td>\n",
       "    </tr>\n",
       "    <tr>\n",
       "      <th>21</th>\n",
       "      <td>Remy Parker</td>\n",
       "      <td>0.150</td>\n",
       "      <td>0.225</td>\n",
       "      <td>1.135</td>\n",
       "      <td>2.580</td>\n",
       "      <td>0.535</td>\n",
       "      <td>0.600</td>\n",
       "      <td>1.65</td>\n",
       "      <td>0.150</td>\n",
       "      <td>0.075</td>\n",
       "      <td>0.075</td>\n",
       "      <td>0.7175</td>\n",
       "    </tr>\n",
       "    <tr>\n",
       "      <th>9</th>\n",
       "      <td>Grayson Constable</td>\n",
       "      <td>0.790</td>\n",
       "      <td>1.745</td>\n",
       "      <td>0.225</td>\n",
       "      <td>1.200</td>\n",
       "      <td>0.375</td>\n",
       "      <td>0.515</td>\n",
       "      <td>1.09</td>\n",
       "      <td>0.630</td>\n",
       "      <td>0.405</td>\n",
       "      <td>0.075</td>\n",
       "      <td>0.7050</td>\n",
       "    </tr>\n",
       "  </tbody>\n",
       "</table>\n",
       "</div>"
      ],
      "text/plain": [
       "               Player  Penn State  Holy Cross  Boston College  Stonehill  \\\n",
       "15          Josh Zary      -0.030       0.930           0.415      1.005   \n",
       "11         Isaiah Fox       0.075       0.470           0.480      2.520   \n",
       "5          Cade Mason       0.225       0.555           0.480      2.885   \n",
       "21        Remy Parker       0.150       0.225           1.135      2.580   \n",
       "9   Grayson Constable       0.790       1.745           0.225      1.200   \n",
       "\n",
       "    Colorado College  Colorado College  Stonehill  Sacred Heart  Omaha  Omaha  \\\n",
       "15             2.215             1.025       1.81         0.045  1.340  2.255   \n",
       "11             0.705             0.800       1.28         0.955  0.970  2.735   \n",
       "5              0.930             0.000       0.79         0.075  0.895  1.120   \n",
       "21             0.535             0.600       1.65         0.150  0.075  0.075   \n",
       "9              0.375             0.515       1.09         0.630  0.405  0.075   \n",
       "\n",
       "    Average  \n",
       "15   1.1010  \n",
       "11   1.0990  \n",
       "5    0.7955  \n",
       "21   0.7175  \n",
       "9    0.7050  "
      ]
     },
     "execution_count": 125,
     "metadata": {},
     "output_type": "execute_result"
    }
   ],
   "source": [
    "# 1. Conditional Formatting: Create a color array for the cells\n",
    "color_array = [['#D3D3D3' if val == 0 else 'lavender' for val in row] for row in csv_df_reset.values]\n",
    "\n",
    "# 2. Round Float Values to 3 decimal places\n",
    "csv_df_rounded = csv_df_reset.round(3)\n",
    "\n",
    "# Display the first few rows of the rounded DataFrame for inspection\n",
    "# csv_df_rounded.head()\n",
    "\n",
    "# 3. Add an Average column\n",
    "csv_df_rounded['Average'] = csv_df_rounded.iloc[:, 1:].mean(axis=1)\n",
    "\n",
    "# 4. Sort by Average\n",
    "csv_df_sorted = csv_df_rounded.sort_values(by='Average', ascending=False)\n",
    "\n",
    "# Update the color array to include the new column\n",
    "color_array = [['#D3D3D3' if val == 0 else 'lavender' for val in row] for row in csv_df_sorted.values]\n",
    "\n",
    "# Display the first few rows of the sorted DataFrame for inspection\n",
    "csv_df_sorted.head()\n",
    "\n"
   ]
  },
  {
   "cell_type": "code",
   "execution_count": 126,
   "metadata": {},
   "outputs": [
    {
     "data": {
      "application/vnd.plotly.v1+json": {
       "config": {
        "plotlyServerURL": "https://plot.ly"
       },
       "data": [
        {
         "cells": {
          "align": "left",
          "fill": {
           "color": [
            [
             "lavender",
             "lavender",
             "lavender",
             "lavender",
             "lavender",
             "lavender",
             "lavender",
             "lavender",
             "lavender",
             "lavender",
             "lavender",
             "lavender"
            ],
            [
             "lavender",
             "lavender",
             "lavender",
             "lavender",
             "lavender",
             "lavender",
             "lavender",
             "lavender",
             "lavender",
             "lavender",
             "lavender",
             "lavender"
            ],
            [
             "lavender",
             "lavender",
             "lavender",
             "lavender",
             "lavender",
             "lavender",
             "#D3D3D3",
             "lavender",
             "lavender",
             "lavender",
             "lavender",
             "lavender"
            ],
            [
             "lavender",
             "lavender",
             "lavender",
             "lavender",
             "lavender",
             "lavender",
             "lavender",
             "lavender",
             "lavender",
             "lavender",
             "lavender",
             "lavender"
            ],
            [
             "lavender",
             "lavender",
             "lavender",
             "lavender",
             "lavender",
             "lavender",
             "lavender",
             "lavender",
             "lavender",
             "lavender",
             "lavender",
             "lavender"
            ],
            [
             "lavender",
             "lavender",
             "#D3D3D3",
             "lavender",
             "lavender",
             "lavender",
             "lavender",
             "lavender",
             "lavender",
             "lavender",
             "lavender",
             "lavender"
            ],
            [
             "lavender",
             "#D3D3D3",
             "lavender",
             "lavender",
             "lavender",
             "lavender",
             "#D3D3D3",
             "lavender",
             "lavender",
             "lavender",
             "lavender",
             "lavender"
            ],
            [
             "lavender",
             "lavender",
             "lavender",
             "lavender",
             "lavender",
             "lavender",
             "lavender",
             "lavender",
             "#D3D3D3",
             "lavender",
             "lavender",
             "lavender"
            ],
            [
             "lavender",
             "lavender",
             "lavender",
             "lavender",
             "#D3D3D3",
             "lavender",
             "#D3D3D3",
             "#D3D3D3",
             "lavender",
             "lavender",
             "lavender",
             "lavender"
            ],
            [
             "lavender",
             "#D3D3D3",
             "#D3D3D3",
             "#D3D3D3",
             "lavender",
             "lavender",
             "lavender",
             "lavender",
             "lavender",
             "lavender",
             "lavender",
             "lavender"
            ],
            [
             "lavender",
             "lavender",
             "lavender",
             "lavender",
             "#D3D3D3",
             "lavender",
             "lavender",
             "lavender",
             "lavender",
             "lavender",
             "#D3D3D3",
             "lavender"
            ],
            [
             "lavender",
             "#D3D3D3",
             "lavender",
             "lavender",
             "lavender",
             "lavender",
             "#D3D3D3",
             "lavender",
             "lavender",
             "lavender",
             "lavender",
             "lavender"
            ],
            [
             "lavender",
             "lavender",
             "lavender",
             "lavender",
             "lavender",
             "lavender",
             "lavender",
             "lavender",
             "lavender",
             "lavender",
             "lavender",
             "lavender"
            ],
            [
             "lavender",
             "lavender",
             "lavender",
             "lavender",
             "lavender",
             "lavender",
             "#D3D3D3",
             "lavender",
             "#D3D3D3",
             "#D3D3D3",
             "#D3D3D3",
             "lavender"
            ],
            [
             "lavender",
             "lavender",
             "lavender",
             "lavender",
             "lavender",
             "lavender",
             "lavender",
             "lavender",
             "lavender",
             "#D3D3D3",
             "lavender",
             "lavender"
            ],
            [
             "lavender",
             "lavender",
             "#D3D3D3",
             "lavender",
             "lavender",
             "lavender",
             "#D3D3D3",
             "lavender",
             "lavender",
             "lavender",
             "lavender",
             "lavender"
            ],
            [
             "lavender",
             "lavender",
             "lavender",
             "lavender",
             "lavender",
             "lavender",
             "lavender",
             "lavender",
             "lavender",
             "lavender",
             "lavender",
             "lavender"
            ],
            [
             "lavender",
             "lavender",
             "lavender",
             "lavender",
             "lavender",
             "lavender",
             "#D3D3D3",
             "lavender",
             "#D3D3D3",
             "#D3D3D3",
             "#D3D3D3",
             "lavender"
            ],
            [
             "lavender",
             "lavender",
             "lavender",
             "lavender",
             "lavender",
             "lavender",
             "lavender",
             "lavender",
             "lavender",
             "lavender",
             "lavender",
             "lavender"
            ],
            [
             "lavender",
             "#D3D3D3",
             "#D3D3D3",
             "#D3D3D3",
             "#D3D3D3",
             "#D3D3D3",
             "lavender",
             "#D3D3D3",
             "lavender",
             "#D3D3D3",
             "#D3D3D3",
             "lavender"
            ],
            [
             "lavender",
             "lavender",
             "lavender",
             "lavender",
             "#D3D3D3",
             "#D3D3D3",
             "lavender",
             "#D3D3D3",
             "#D3D3D3",
             "#D3D3D3",
             "#D3D3D3",
             "lavender"
            ],
            [
             "lavender",
             "#D3D3D3",
             "#D3D3D3",
             "#D3D3D3",
             "lavender",
             "#D3D3D3",
             "#D3D3D3",
             "#D3D3D3",
             "#D3D3D3",
             "#D3D3D3",
             "#D3D3D3",
             "lavender"
            ],
            [
             "lavender",
             "#D3D3D3",
             "#D3D3D3",
             "#D3D3D3",
             "#D3D3D3",
             "#D3D3D3",
             "#D3D3D3",
             "#D3D3D3",
             "#D3D3D3",
             "#D3D3D3",
             "#D3D3D3",
             "#D3D3D3"
            ],
            [
             "lavender",
             "#D3D3D3",
             "#D3D3D3",
             "#D3D3D3",
             "#D3D3D3",
             "#D3D3D3",
             "#D3D3D3",
             "#D3D3D3",
             "lavender",
             "lavender",
             "#D3D3D3",
             "#D3D3D3"
            ],
            [
             "lavender",
             "#D3D3D3",
             "#D3D3D3",
             "#D3D3D3",
             "#D3D3D3",
             "#D3D3D3",
             "#D3D3D3",
             "#D3D3D3",
             "#D3D3D3",
             "#D3D3D3",
             "#D3D3D3",
             "#D3D3D3"
            ],
            [
             "lavender",
             "#D3D3D3",
             "#D3D3D3",
             "#D3D3D3",
             "#D3D3D3",
             "#D3D3D3",
             "#D3D3D3",
             "#D3D3D3",
             "#D3D3D3",
             "#D3D3D3",
             "#D3D3D3",
             "#D3D3D3"
            ]
           ]
          },
          "values": [
           [
            "Josh Zary",
            "Isaiah Fox",
            "Cade Mason",
            "Remy Parker",
            "Grayson Constable",
            "Chris Pappas",
            "Jordan Di Cicco",
            "Aaron Grounds",
            "Noah Kane",
            "Austin Brimmer",
            "Jack Quinn",
            "Nolan Welsh",
            "Riley Wallack",
            "Valtteri Piironen",
            "Preston Brodziak",
            "Garrett Valk",
            "John Gormley",
            "Adam Pitters",
            "Peter Muzyka",
            "Heath Armstrong",
            "Kade Peterson",
            "Daniel Baldassarra",
            "Xan Gurney",
            "AJ Casperson",
            "Atte Lehikoinen",
            "Zachary Nazzarett"
           ],
           [
            -0.03,
            0.075,
            0.225,
            0.15,
            0.79,
            -0.075,
            0,
            0.555,
            1.28,
            0,
            1.3,
            0,
            0.945,
            0.075,
            0.9,
            0.075,
            0.055,
            0.065,
            0.01,
            0,
            0.075,
            0,
            0,
            0,
            0,
            0
           ],
           [
            0.93,
            0.47,
            0.555,
            0.225,
            1.745,
            0,
            0.715,
            0.5,
            -0.15,
            0,
            0.51,
            0.065,
            0.24,
            0.15,
            -0.02,
            0,
            0.105,
            0.145,
            0.255,
            0,
            0.255,
            0,
            0,
            0,
            0,
            0
           ],
           [
            0.415,
            0.48,
            0.48,
            1.135,
            0.225,
            0.15,
            1.09,
            0.94,
            0.205,
            0,
            0.405,
            0.235,
            0.74,
            1.23,
            0.185,
            0.15,
            0.13,
            0.235,
            0.405,
            0,
            0.15,
            0,
            0,
            0,
            0,
            0
           ],
           [
            [
             1.005,
             1.81
            ],
            [
             2.52,
             1.28
            ],
            [
             2.885,
             0.79
            ],
            [
             2.58,
             1.65
            ],
            [
             1.2,
             1.09
            ],
            [
             0.9,
             0.075
            ],
            [
             0.975,
             -0.075
            ],
            [
             0.075,
             0.75
            ],
            [
             0,
             0
            ],
            [
             0.865,
             0.555
            ],
            [
             0,
             0.15
            ],
            [
             0.53,
             0.01
            ],
            [
             0.24,
             0.075
            ],
            [
             0.405,
             -0.075
            ],
            [
             0.32,
             0.225
            ],
            [
             0.63,
             0.225
            ],
            [
             0.15,
             0.18
            ],
            [
             0.425,
             0.075
            ],
            [
             0.225,
             -0.15
            ],
            [
             0,
             0
            ],
            [
             0,
             0
            ],
            [
             0.15,
             0
            ],
            [
             0,
             0
            ],
            [
             0,
             0
            ],
            [
             0,
             0
            ],
            [
             0,
             0
            ]
           ],
           [
            [
             2.215,
             1.025
            ],
            [
             0.705,
             0.8
            ],
            [
             0.93,
             0
            ],
            [
             0.535,
             0.6
            ],
            [
             0.375,
             0.515
            ],
            [
             1.945,
             0.9
            ],
            [
             0.705,
             0
            ],
            [
             0.375,
             0.255
            ],
            [
             0.29,
             0
            ],
            [
             0.975,
             0.225
            ],
            [
             0.45,
             0.065
            ],
            [
             1.32,
             0
            ],
            [
             0.185,
             0.105
            ],
            [
             0.63,
             0
            ],
            [
             0.16,
             0.275
            ],
            [
             0.375,
             0
            ],
            [
             0.215,
             0.51
            ],
            [
             0.585,
             0
            ],
            [
             0.3,
             0.075
            ],
            [
             0,
             0.705
            ],
            [
             0,
             0.15
            ],
            [
             0,
             0
            ],
            [
             0,
             0
            ],
            [
             0,
             0
            ],
            [
             0,
             0
            ],
            [
             0,
             0
            ]
           ],
           [
            [
             2.215,
             1.025
            ],
            [
             0.705,
             0.8
            ],
            [
             0.93,
             0
            ],
            [
             0.535,
             0.6
            ],
            [
             0.375,
             0.515
            ],
            [
             1.945,
             0.9
            ],
            [
             0.705,
             0
            ],
            [
             0.375,
             0.255
            ],
            [
             0.29,
             0
            ],
            [
             0.975,
             0.225
            ],
            [
             0.45,
             0.065
            ],
            [
             1.32,
             0
            ],
            [
             0.185,
             0.105
            ],
            [
             0.63,
             0
            ],
            [
             0.16,
             0.275
            ],
            [
             0.375,
             0
            ],
            [
             0.215,
             0.51
            ],
            [
             0.585,
             0
            ],
            [
             0.3,
             0.075
            ],
            [
             0,
             0.705
            ],
            [
             0,
             0.15
            ],
            [
             0,
             0
            ],
            [
             0,
             0
            ],
            [
             0,
             0
            ],
            [
             0,
             0
            ],
            [
             0,
             0
            ]
           ],
           [
            [
             1.005,
             1.81
            ],
            [
             2.52,
             1.28
            ],
            [
             2.885,
             0.79
            ],
            [
             2.58,
             1.65
            ],
            [
             1.2,
             1.09
            ],
            [
             0.9,
             0.075
            ],
            [
             0.975,
             -0.075
            ],
            [
             0.075,
             0.75
            ],
            [
             0,
             0
            ],
            [
             0.865,
             0.555
            ],
            [
             0,
             0.15
            ],
            [
             0.53,
             0.01
            ],
            [
             0.24,
             0.075
            ],
            [
             0.405,
             -0.075
            ],
            [
             0.32,
             0.225
            ],
            [
             0.63,
             0.225
            ],
            [
             0.15,
             0.18
            ],
            [
             0.425,
             0.075
            ],
            [
             0.225,
             -0.15
            ],
            [
             0,
             0
            ],
            [
             0,
             0
            ],
            [
             0.15,
             0
            ],
            [
             0,
             0
            ],
            [
             0,
             0
            ],
            [
             0,
             0
            ],
            [
             0,
             0
            ]
           ],
           [
            0.045,
            0.955,
            0.075,
            0.15,
            0.63,
            0.255,
            -0.075,
            0,
            0.725,
            0.075,
            -0.075,
            0.815,
            0.04,
            0,
            0.07,
            0.18,
            -0.15,
            0,
            -0.15,
            -0.01,
            0,
            0,
            0,
            -0.075,
            0,
            0
           ],
           [
            [
             1.34,
             2.255
            ],
            [
             0.97,
             2.735
            ],
            [
             0.895,
             1.12
            ],
            [
             0.075,
             0.075
            ],
            [
             0.405,
             0.075
            ],
            [
             0.63,
             0.075
            ],
            [
             0.33,
             0.63
            ],
            [
             0.49,
             0.33
            ],
            [
             0.89,
             0.565
            ],
            [
             0.075,
             0.975
            ],
            [
             0.585,
             0
            ],
            [
             0.13,
             0.05
            ],
            [
             0.055,
             0.305
            ],
            [
             0,
             0
            ],
            [
             0,
             0.25
            ],
            [
             0.15,
             0.075
            ],
            [
             0.33,
             0.33
            ],
            [
             0,
             0
            ],
            [
             0.585,
             -0.075
            ],
            [
             0,
             0
            ],
            [
             0,
             0
            ],
            [
             0,
             0
            ],
            [
             0,
             0
            ],
            [
             0.075,
             0
            ],
            [
             0,
             0
            ],
            [
             0,
             0
            ]
           ],
           [
            [
             1.34,
             2.255
            ],
            [
             0.97,
             2.735
            ],
            [
             0.895,
             1.12
            ],
            [
             0.075,
             0.075
            ],
            [
             0.405,
             0.075
            ],
            [
             0.63,
             0.075
            ],
            [
             0.33,
             0.63
            ],
            [
             0.49,
             0.33
            ],
            [
             0.89,
             0.565
            ],
            [
             0.075,
             0.975
            ],
            [
             0.585,
             0
            ],
            [
             0.13,
             0.05
            ],
            [
             0.055,
             0.305
            ],
            [
             0,
             0
            ],
            [
             0,
             0.25
            ],
            [
             0.15,
             0.075
            ],
            [
             0.33,
             0.33
            ],
            [
             0,
             0
            ],
            [
             0.585,
             -0.075
            ],
            [
             0,
             0
            ],
            [
             0,
             0
            ],
            [
             0,
             0
            ],
            [
             0,
             0
            ],
            [
             0.075,
             0
            ],
            [
             0,
             0
            ],
            [
             0,
             0
            ]
           ],
           [
            1.1010000000000002,
            1.099,
            0.7954999999999999,
            0.7175,
            0.705,
            0.48550000000000004,
            0.4295,
            0.42700000000000005,
            0.3805,
            0.37450000000000006,
            0.33899999999999997,
            0.3155,
            0.29300000000000004,
            0.2415,
            0.2365,
            0.186,
            0.18550000000000003,
            0.15299999999999997,
            0.14800000000000002,
            0.06949999999999999,
            0.063,
            0.015,
            0,
            0,
            0,
            0
           ]
          ]
         },
         "header": {
          "align": "left",
          "fill": {
           "color": "paleturquoise"
          },
          "values": [
           "Player",
           "Penn State",
           "Holy Cross",
           "Boston College",
           "Stonehill",
           "Colorado College",
           "Colorado College",
           "Stonehill",
           "Sacred Heart",
           "Omaha",
           "Omaha",
           "Average"
          ]
         },
         "type": "table"
        }
       ],
       "layout": {
        "template": {
         "data": {
          "bar": [
           {
            "error_x": {
             "color": "#2a3f5f"
            },
            "error_y": {
             "color": "#2a3f5f"
            },
            "marker": {
             "line": {
              "color": "#E5ECF6",
              "width": 0.5
             },
             "pattern": {
              "fillmode": "overlay",
              "size": 10,
              "solidity": 0.2
             }
            },
            "type": "bar"
           }
          ],
          "barpolar": [
           {
            "marker": {
             "line": {
              "color": "#E5ECF6",
              "width": 0.5
             },
             "pattern": {
              "fillmode": "overlay",
              "size": 10,
              "solidity": 0.2
             }
            },
            "type": "barpolar"
           }
          ],
          "carpet": [
           {
            "aaxis": {
             "endlinecolor": "#2a3f5f",
             "gridcolor": "white",
             "linecolor": "white",
             "minorgridcolor": "white",
             "startlinecolor": "#2a3f5f"
            },
            "baxis": {
             "endlinecolor": "#2a3f5f",
             "gridcolor": "white",
             "linecolor": "white",
             "minorgridcolor": "white",
             "startlinecolor": "#2a3f5f"
            },
            "type": "carpet"
           }
          ],
          "choropleth": [
           {
            "colorbar": {
             "outlinewidth": 0,
             "ticks": ""
            },
            "type": "choropleth"
           }
          ],
          "contour": [
           {
            "colorbar": {
             "outlinewidth": 0,
             "ticks": ""
            },
            "colorscale": [
             [
              0,
              "#0d0887"
             ],
             [
              0.1111111111111111,
              "#46039f"
             ],
             [
              0.2222222222222222,
              "#7201a8"
             ],
             [
              0.3333333333333333,
              "#9c179e"
             ],
             [
              0.4444444444444444,
              "#bd3786"
             ],
             [
              0.5555555555555556,
              "#d8576b"
             ],
             [
              0.6666666666666666,
              "#ed7953"
             ],
             [
              0.7777777777777778,
              "#fb9f3a"
             ],
             [
              0.8888888888888888,
              "#fdca26"
             ],
             [
              1,
              "#f0f921"
             ]
            ],
            "type": "contour"
           }
          ],
          "contourcarpet": [
           {
            "colorbar": {
             "outlinewidth": 0,
             "ticks": ""
            },
            "type": "contourcarpet"
           }
          ],
          "heatmap": [
           {
            "colorbar": {
             "outlinewidth": 0,
             "ticks": ""
            },
            "colorscale": [
             [
              0,
              "#0d0887"
             ],
             [
              0.1111111111111111,
              "#46039f"
             ],
             [
              0.2222222222222222,
              "#7201a8"
             ],
             [
              0.3333333333333333,
              "#9c179e"
             ],
             [
              0.4444444444444444,
              "#bd3786"
             ],
             [
              0.5555555555555556,
              "#d8576b"
             ],
             [
              0.6666666666666666,
              "#ed7953"
             ],
             [
              0.7777777777777778,
              "#fb9f3a"
             ],
             [
              0.8888888888888888,
              "#fdca26"
             ],
             [
              1,
              "#f0f921"
             ]
            ],
            "type": "heatmap"
           }
          ],
          "heatmapgl": [
           {
            "colorbar": {
             "outlinewidth": 0,
             "ticks": ""
            },
            "colorscale": [
             [
              0,
              "#0d0887"
             ],
             [
              0.1111111111111111,
              "#46039f"
             ],
             [
              0.2222222222222222,
              "#7201a8"
             ],
             [
              0.3333333333333333,
              "#9c179e"
             ],
             [
              0.4444444444444444,
              "#bd3786"
             ],
             [
              0.5555555555555556,
              "#d8576b"
             ],
             [
              0.6666666666666666,
              "#ed7953"
             ],
             [
              0.7777777777777778,
              "#fb9f3a"
             ],
             [
              0.8888888888888888,
              "#fdca26"
             ],
             [
              1,
              "#f0f921"
             ]
            ],
            "type": "heatmapgl"
           }
          ],
          "histogram": [
           {
            "marker": {
             "pattern": {
              "fillmode": "overlay",
              "size": 10,
              "solidity": 0.2
             }
            },
            "type": "histogram"
           }
          ],
          "histogram2d": [
           {
            "colorbar": {
             "outlinewidth": 0,
             "ticks": ""
            },
            "colorscale": [
             [
              0,
              "#0d0887"
             ],
             [
              0.1111111111111111,
              "#46039f"
             ],
             [
              0.2222222222222222,
              "#7201a8"
             ],
             [
              0.3333333333333333,
              "#9c179e"
             ],
             [
              0.4444444444444444,
              "#bd3786"
             ],
             [
              0.5555555555555556,
              "#d8576b"
             ],
             [
              0.6666666666666666,
              "#ed7953"
             ],
             [
              0.7777777777777778,
              "#fb9f3a"
             ],
             [
              0.8888888888888888,
              "#fdca26"
             ],
             [
              1,
              "#f0f921"
             ]
            ],
            "type": "histogram2d"
           }
          ],
          "histogram2dcontour": [
           {
            "colorbar": {
             "outlinewidth": 0,
             "ticks": ""
            },
            "colorscale": [
             [
              0,
              "#0d0887"
             ],
             [
              0.1111111111111111,
              "#46039f"
             ],
             [
              0.2222222222222222,
              "#7201a8"
             ],
             [
              0.3333333333333333,
              "#9c179e"
             ],
             [
              0.4444444444444444,
              "#bd3786"
             ],
             [
              0.5555555555555556,
              "#d8576b"
             ],
             [
              0.6666666666666666,
              "#ed7953"
             ],
             [
              0.7777777777777778,
              "#fb9f3a"
             ],
             [
              0.8888888888888888,
              "#fdca26"
             ],
             [
              1,
              "#f0f921"
             ]
            ],
            "type": "histogram2dcontour"
           }
          ],
          "mesh3d": [
           {
            "colorbar": {
             "outlinewidth": 0,
             "ticks": ""
            },
            "type": "mesh3d"
           }
          ],
          "parcoords": [
           {
            "line": {
             "colorbar": {
              "outlinewidth": 0,
              "ticks": ""
             }
            },
            "type": "parcoords"
           }
          ],
          "pie": [
           {
            "automargin": true,
            "type": "pie"
           }
          ],
          "scatter": [
           {
            "fillpattern": {
             "fillmode": "overlay",
             "size": 10,
             "solidity": 0.2
            },
            "type": "scatter"
           }
          ],
          "scatter3d": [
           {
            "line": {
             "colorbar": {
              "outlinewidth": 0,
              "ticks": ""
             }
            },
            "marker": {
             "colorbar": {
              "outlinewidth": 0,
              "ticks": ""
             }
            },
            "type": "scatter3d"
           }
          ],
          "scattercarpet": [
           {
            "marker": {
             "colorbar": {
              "outlinewidth": 0,
              "ticks": ""
             }
            },
            "type": "scattercarpet"
           }
          ],
          "scattergeo": [
           {
            "marker": {
             "colorbar": {
              "outlinewidth": 0,
              "ticks": ""
             }
            },
            "type": "scattergeo"
           }
          ],
          "scattergl": [
           {
            "marker": {
             "colorbar": {
              "outlinewidth": 0,
              "ticks": ""
             }
            },
            "type": "scattergl"
           }
          ],
          "scattermapbox": [
           {
            "marker": {
             "colorbar": {
              "outlinewidth": 0,
              "ticks": ""
             }
            },
            "type": "scattermapbox"
           }
          ],
          "scatterpolar": [
           {
            "marker": {
             "colorbar": {
              "outlinewidth": 0,
              "ticks": ""
             }
            },
            "type": "scatterpolar"
           }
          ],
          "scatterpolargl": [
           {
            "marker": {
             "colorbar": {
              "outlinewidth": 0,
              "ticks": ""
             }
            },
            "type": "scatterpolargl"
           }
          ],
          "scatterternary": [
           {
            "marker": {
             "colorbar": {
              "outlinewidth": 0,
              "ticks": ""
             }
            },
            "type": "scatterternary"
           }
          ],
          "surface": [
           {
            "colorbar": {
             "outlinewidth": 0,
             "ticks": ""
            },
            "colorscale": [
             [
              0,
              "#0d0887"
             ],
             [
              0.1111111111111111,
              "#46039f"
             ],
             [
              0.2222222222222222,
              "#7201a8"
             ],
             [
              0.3333333333333333,
              "#9c179e"
             ],
             [
              0.4444444444444444,
              "#bd3786"
             ],
             [
              0.5555555555555556,
              "#d8576b"
             ],
             [
              0.6666666666666666,
              "#ed7953"
             ],
             [
              0.7777777777777778,
              "#fb9f3a"
             ],
             [
              0.8888888888888888,
              "#fdca26"
             ],
             [
              1,
              "#f0f921"
             ]
            ],
            "type": "surface"
           }
          ],
          "table": [
           {
            "cells": {
             "fill": {
              "color": "#EBF0F8"
             },
             "line": {
              "color": "white"
             }
            },
            "header": {
             "fill": {
              "color": "#C8D4E3"
             },
             "line": {
              "color": "white"
             }
            },
            "type": "table"
           }
          ]
         },
         "layout": {
          "annotationdefaults": {
           "arrowcolor": "#2a3f5f",
           "arrowhead": 0,
           "arrowwidth": 1
          },
          "autotypenumbers": "strict",
          "coloraxis": {
           "colorbar": {
            "outlinewidth": 0,
            "ticks": ""
           }
          },
          "colorscale": {
           "diverging": [
            [
             0,
             "#8e0152"
            ],
            [
             0.1,
             "#c51b7d"
            ],
            [
             0.2,
             "#de77ae"
            ],
            [
             0.3,
             "#f1b6da"
            ],
            [
             0.4,
             "#fde0ef"
            ],
            [
             0.5,
             "#f7f7f7"
            ],
            [
             0.6,
             "#e6f5d0"
            ],
            [
             0.7,
             "#b8e186"
            ],
            [
             0.8,
             "#7fbc41"
            ],
            [
             0.9,
             "#4d9221"
            ],
            [
             1,
             "#276419"
            ]
           ],
           "sequential": [
            [
             0,
             "#0d0887"
            ],
            [
             0.1111111111111111,
             "#46039f"
            ],
            [
             0.2222222222222222,
             "#7201a8"
            ],
            [
             0.3333333333333333,
             "#9c179e"
            ],
            [
             0.4444444444444444,
             "#bd3786"
            ],
            [
             0.5555555555555556,
             "#d8576b"
            ],
            [
             0.6666666666666666,
             "#ed7953"
            ],
            [
             0.7777777777777778,
             "#fb9f3a"
            ],
            [
             0.8888888888888888,
             "#fdca26"
            ],
            [
             1,
             "#f0f921"
            ]
           ],
           "sequentialminus": [
            [
             0,
             "#0d0887"
            ],
            [
             0.1111111111111111,
             "#46039f"
            ],
            [
             0.2222222222222222,
             "#7201a8"
            ],
            [
             0.3333333333333333,
             "#9c179e"
            ],
            [
             0.4444444444444444,
             "#bd3786"
            ],
            [
             0.5555555555555556,
             "#d8576b"
            ],
            [
             0.6666666666666666,
             "#ed7953"
            ],
            [
             0.7777777777777778,
             "#fb9f3a"
            ],
            [
             0.8888888888888888,
             "#fdca26"
            ],
            [
             1,
             "#f0f921"
            ]
           ]
          },
          "colorway": [
           "#636efa",
           "#EF553B",
           "#00cc96",
           "#ab63fa",
           "#FFA15A",
           "#19d3f3",
           "#FF6692",
           "#B6E880",
           "#FF97FF",
           "#FECB52"
          ],
          "font": {
           "color": "#2a3f5f"
          },
          "geo": {
           "bgcolor": "white",
           "lakecolor": "white",
           "landcolor": "#E5ECF6",
           "showlakes": true,
           "showland": true,
           "subunitcolor": "white"
          },
          "hoverlabel": {
           "align": "left"
          },
          "hovermode": "closest",
          "mapbox": {
           "style": "light"
          },
          "paper_bgcolor": "white",
          "plot_bgcolor": "#E5ECF6",
          "polar": {
           "angularaxis": {
            "gridcolor": "white",
            "linecolor": "white",
            "ticks": ""
           },
           "bgcolor": "#E5ECF6",
           "radialaxis": {
            "gridcolor": "white",
            "linecolor": "white",
            "ticks": ""
           }
          },
          "scene": {
           "xaxis": {
            "backgroundcolor": "#E5ECF6",
            "gridcolor": "white",
            "gridwidth": 2,
            "linecolor": "white",
            "showbackground": true,
            "ticks": "",
            "zerolinecolor": "white"
           },
           "yaxis": {
            "backgroundcolor": "#E5ECF6",
            "gridcolor": "white",
            "gridwidth": 2,
            "linecolor": "white",
            "showbackground": true,
            "ticks": "",
            "zerolinecolor": "white"
           },
           "zaxis": {
            "backgroundcolor": "#E5ECF6",
            "gridcolor": "white",
            "gridwidth": 2,
            "linecolor": "white",
            "showbackground": true,
            "ticks": "",
            "zerolinecolor": "white"
           }
          },
          "shapedefaults": {
           "line": {
            "color": "#2a3f5f"
           }
          },
          "ternary": {
           "aaxis": {
            "gridcolor": "white",
            "linecolor": "white",
            "ticks": ""
           },
           "baxis": {
            "gridcolor": "white",
            "linecolor": "white",
            "ticks": ""
           },
           "bgcolor": "#E5ECF6",
           "caxis": {
            "gridcolor": "white",
            "linecolor": "white",
            "ticks": ""
           }
          },
          "title": {
           "x": 0.05
          },
          "xaxis": {
           "automargin": true,
           "gridcolor": "white",
           "linecolor": "white",
           "ticks": "",
           "title": {
            "standoff": 15
           },
           "zerolinecolor": "white",
           "zerolinewidth": 2
          },
          "yaxis": {
           "automargin": true,
           "gridcolor": "white",
           "linecolor": "white",
           "ticks": "",
           "title": {
            "standoff": 15
           },
           "zerolinecolor": "white",
           "zerolinewidth": 2
          }
         }
        }
       }
      }
     },
     "metadata": {},
     "output_type": "display_data"
    }
   ],
   "source": [
    "fig = go.Figure(data=[go.Table(\n",
    "    header=dict(values=list(csv_df_sorted.columns),\n",
    "                fill_color='paleturquoise',\n",
    "                align='left'),\n",
    "    cells=dict(values=[csv_df_sorted[col] for col in csv_df_sorted.columns],\n",
    "               fill_color=color_array,\n",
    "               align='left'))\n",
    "])\n",
    "fig.show()\n"
   ]
  },
  {
   "cell_type": "code",
   "execution_count": 127,
   "metadata": {},
   "outputs": [],
   "source": [
    "import numpy as np\n",
    "\n",
    "# Function to interpolate between three colors\n",
    "def interpolate_color(value, min_val, max_val):\n",
    "    # Define the colors for low, mid, and high values\n",
    "    low_color = np.array([255, 102, 102])  # subtle red\n",
    "    mid_color = np.array([255, 255, 102])  # yellow\n",
    "    high_color = np.array([102, 255, 178])  # turquoise green\n",
    "    \n",
    "    # Calculate the position of value in the range [min_val, max_val]\n",
    "    position = (value - min_val) / (max_val - min_val)\n",
    "    \n",
    "    # Depending on the position, interpolate between the colors\n",
    "    if position <= 0.5:  # interpolate between red and yellow\n",
    "        interp_color = (1 - 2 * position) * low_color + 2 * position * mid_color\n",
    "    else:  # interpolate between yellow and green\n",
    "        interp_color = (2 - 2 * position) * mid_color + (2 * position - 1) * high_color\n",
    "    \n",
    "    return 'rgb({}, {}, {})'.format(int(interp_color[0]), int(interp_color[1]), int(interp_color[2]))\n",
    "\n",
    "# Get min and max values for the game columns\n",
    "min_val = csv_df_sorted.iloc[:, 1:-1].min().min()\n",
    "max_val = csv_df_sorted.iloc[:, 1:-1].max().max()\n",
    "\n",
    "# Create a color array for the game columns based on the values\n",
    "color_array_games = [[interpolate_color(val, min_val, max_val) for val in row[1:-1]] for _, row in csv_df_sorted.iterrows()]\n",
    "\n",
    "# Combine with the previously defined colors for the Player and Average columns\n",
    "color_array_combined = [['lavender'] + game_colors + ['lavender'] for game_colors in color_array_games]\n",
    "\n",
    "# Display the first few rows of the color array for inspection\n",
    "# color_array_combined[:5]\n",
    "\n",
    "## Save the color array to a csv\n",
    "# np.savetxt('../data/Versiob_1.csv', color_array_combined, delimiter=',', fmt='%s')\n"
   ]
  },
  {
   "cell_type": "code",
   "execution_count": 128,
   "metadata": {},
   "outputs": [
    {
     "data": {
      "application/vnd.plotly.v1+json": {
       "config": {
        "plotlyServerURL": "https://plot.ly"
       },
       "data": [
        {
         "cells": {
          "align": "left",
          "fill": {
           "color": [
            [
             "lavender",
             "rgb(255, 114, 102)",
             "rgb(255, 210, 102)",
             "rgb(255, 158, 102)",
             "rgb(255, 218, 102)",
             "rgb(169, 255, 144)",
             "rgb(255, 220, 102)",
             "rgb(210, 255, 124)",
             "rgb(255, 121, 102)",
             "rgb(255, 252, 102)",
             "rgb(165, 255, 146)",
             "lavender"
            ],
            [
             "lavender",
             "rgb(255, 124, 102)",
             "rgb(254, 164, 102)",
             "rgb(255, 165, 102)",
             "rgb(138, 255, 159)",
             "rgb(255, 188, 102)",
             "rgb(255, 197, 102)",
             "rgb(255, 246, 102)",
             "rgb(255, 213, 102)",
             "rgb(255, 214, 102)",
             "rgb(117, 255, 170)",
             "lavender"
            ],
            [
             "lavender",
             "rgb(255, 139, 102)",
             "rgb(255, 173, 102)",
             "rgb(255, 165, 102)",
             "rgb(102, 255, 178)",
             "rgb(255, 210, 102)",
             "rgb(255, 117, 102)",
             "rgb(255, 196, 102)",
             "rgb(255, 124, 102)",
             "rgb(255, 207, 102)",
             "rgb(255, 230, 102)",
             "lavender"
            ],
            [
             "lavender",
             "rgb(255, 132, 102)",
             "rgb(255, 139, 102)",
             "rgb(255, 231, 102)",
             "rgb(132, 255, 162)",
             "rgb(255, 171, 102)",
             "rgb(255, 177, 102)",
             "rgb(226, 255, 116)",
             "rgb(255, 132, 102)",
             "rgb(255, 124, 102)",
             "rgb(255, 124, 102)",
             "lavender"
            ],
            [
             "lavender",
             "rgb(255, 196, 102)",
             "rgb(216, 255, 120)",
             "rgb(255, 139, 102)",
             "rgb(255, 238, 102)",
             "rgb(255, 154, 102)",
             "rgb(255, 169, 102)",
             "rgb(255, 227, 102)",
             "rgb(255, 180, 102)",
             "rgb(255, 157, 102)",
             "rgb(255, 124, 102)",
             "lavender"
            ],
            [
             "lavender",
             "rgb(255, 109, 102)",
             "rgb(255, 117, 102)",
             "rgb(255, 132, 102)",
             "rgb(255, 207, 102)",
             "rgb(196, 255, 130)",
             "rgb(255, 207, 102)",
             "rgb(255, 124, 102)",
             "rgb(255, 142, 102)",
             "rgb(255, 180, 102)",
             "rgb(255, 124, 102)",
             "lavender"
            ],
            [
             "lavender",
             "rgb(255, 117, 102)",
             "rgb(255, 189, 102)",
             "rgb(255, 227, 102)",
             "rgb(255, 215, 102)",
             "rgb(255, 188, 102)",
             "rgb(255, 117, 102)",
             "rgb(255, 109, 102)",
             "rgb(255, 109, 102)",
             "rgb(255, 150, 102)",
             "rgb(255, 180, 102)",
             "lavender"
            ],
            [
             "lavender",
             "rgb(255, 173, 102)",
             "rgb(255, 167, 102)",
             "rgb(255, 211, 102)",
             "rgb(255, 124, 102)",
             "rgb(255, 154, 102)",
             "rgb(255, 142, 102)",
             "rgb(255, 192, 102)",
             "rgb(255, 117, 102)",
             "rgb(254, 166, 102)",
             "rgb(255, 150, 102)",
             "lavender"
            ],
            [
             "lavender",
             "rgb(255, 246, 102)",
             "rgb(255, 102, 102)",
             "rgb(255, 137, 102)",
             "rgb(255, 117, 102)",
             "rgb(255, 146, 102)",
             "rgb(255, 117, 102)",
             "rgb(255, 117, 102)",
             "rgb(255, 190, 102)",
             "rgb(255, 206, 102)",
             "rgb(255, 174, 102)",
             "lavender"
            ],
            [
             "lavender",
             "rgb(255, 117, 102)",
             "rgb(255, 117, 102)",
             "rgb(255, 117, 102)",
             "rgb(255, 204, 102)",
             "rgb(255, 215, 102)",
             "rgb(255, 139, 102)",
             "rgb(255, 173, 102)",
             "rgb(255, 124, 102)",
             "rgb(255, 124, 102)",
             "rgb(255, 215, 102)",
             "lavender"
            ],
            [
             "lavender",
             "rgb(255, 248, 102)",
             "rgb(255, 168, 102)",
             "rgb(255, 157, 102)",
             "rgb(255, 117, 102)",
             "rgb(255, 162, 102)",
             "rgb(255, 123, 102)",
             "rgb(255, 132, 102)",
             "rgb(255, 109, 102)",
             "rgb(255, 176, 102)",
             "rgb(255, 117, 102)",
             "lavender"
            ],
            [
             "lavender",
             "rgb(255, 117, 102)",
             "rgb(255, 123, 102)",
             "rgb(254, 140, 101)",
             "rgb(255, 170, 102)",
             "rgb(255, 250, 102)",
             "rgb(255, 117, 102)",
             "rgb(255, 118, 102)",
             "rgb(255, 199, 102)",
             "rgb(254, 130, 102)",
             "rgb(255, 122, 102)",
             "lavender"
            ],
            [
             "lavender",
             "rgb(255, 212, 102)",
             "rgb(255, 141, 102)",
             "rgb(255, 191, 102)",
             "rgb(255, 141, 102)",
             "rgb(255, 135, 102)",
             "rgb(255, 127, 102)",
             "rgb(255, 124, 102)",
             "rgb(255, 121, 101)",
             "rgb(255, 122, 102)",
             "rgb(255, 147, 102)",
             "lavender"
            ],
            [
             "lavender",
             "rgb(255, 124, 102)",
             "rgb(255, 132, 102)",
             "rgb(255, 241, 102)",
             "rgb(255, 157, 102)",
             "rgb(255, 180, 102)",
             "rgb(255, 117, 102)",
             "rgb(255, 109, 102)",
             "rgb(255, 117, 102)",
             "rgb(255, 117, 102)",
             "rgb(255, 117, 102)",
             "lavender"
            ],
            [
             "lavender",
             "rgb(255, 207, 102)",
             "rgb(255, 115, 102)",
             "rgb(255, 135, 102)",
             "rgb(255, 149, 102)",
             "rgb(255, 133, 102)",
             "rgb(255, 144, 102)",
             "rgb(255, 139, 102)",
             "rgb(255, 124, 102)",
             "rgb(255, 117, 102)",
             "rgb(255, 142, 102)",
             "lavender"
            ],
            [
             "lavender",
             "rgb(255, 124, 102)",
             "rgb(255, 117, 102)",
             "rgb(255, 132, 102)",
             "rgb(255, 180, 102)",
             "rgb(255, 154, 102)",
             "rgb(255, 117, 102)",
             "rgb(255, 139, 102)",
             "rgb(255, 135, 102)",
             "rgb(255, 132, 102)",
             "rgb(255, 124, 102)",
             "lavender"
            ],
            [
             "lavender",
             "rgb(255, 122, 102)",
             "rgb(255, 127, 102)",
             "rgb(254, 130, 102)",
             "rgb(255, 132, 102)",
             "rgb(255, 138, 102)",
             "rgb(255, 168, 102)",
             "rgb(255, 135, 102)",
             "rgb(255, 102, 102)",
             "rgb(255, 150, 102)",
             "rgb(255, 150, 102)",
             "lavender"
            ],
            [
             "lavender",
             "rgb(255, 123, 102)",
             "rgb(255, 131, 102)",
             "rgb(254, 140, 101)",
             "rgb(255, 159, 102)",
             "rgb(255, 176, 102)",
             "rgb(255, 117, 102)",
             "rgb(255, 124, 102)",
             "rgb(255, 117, 102)",
             "rgb(255, 117, 102)",
             "rgb(255, 117, 102)",
             "lavender"
            ],
            [
             "lavender",
             "rgb(255, 118, 102)",
             "rgb(255, 142, 102)",
             "rgb(255, 157, 102)",
             "rgb(255, 139, 102)",
             "rgb(254, 147, 102)",
             "rgb(255, 124, 102)",
             "rgb(255, 102, 102)",
             "rgb(255, 102, 102)",
             "rgb(255, 176, 102)",
             "rgb(255, 109, 102)",
             "lavender"
            ],
            [
             "lavender",
             "rgb(255, 117, 102)",
             "rgb(255, 117, 102)",
             "rgb(255, 117, 102)",
             "rgb(255, 117, 102)",
             "rgb(255, 117, 102)",
             "rgb(255, 188, 102)",
             "rgb(255, 117, 102)",
             "rgb(255, 116, 102)",
             "rgb(255, 117, 102)",
             "rgb(255, 117, 102)",
             "lavender"
            ],
            [
             "lavender",
             "rgb(255, 124, 102)",
             "rgb(255, 142, 102)",
             "rgb(255, 132, 102)",
             "rgb(255, 117, 102)",
             "rgb(255, 117, 102)",
             "rgb(255, 132, 102)",
             "rgb(255, 117, 102)",
             "rgb(255, 117, 102)",
             "rgb(255, 117, 102)",
             "rgb(255, 117, 102)",
             "lavender"
            ],
            [
             "lavender",
             "rgb(255, 117, 102)",
             "rgb(255, 117, 102)",
             "rgb(255, 117, 102)",
             "rgb(255, 132, 102)",
             "rgb(255, 117, 102)",
             "rgb(255, 117, 102)",
             "rgb(255, 117, 102)",
             "rgb(255, 117, 102)",
             "rgb(255, 117, 102)",
             "rgb(255, 117, 102)",
             "lavender"
            ],
            [
             "lavender",
             "rgb(255, 117, 102)",
             "rgb(255, 117, 102)",
             "rgb(255, 117, 102)",
             "rgb(255, 117, 102)",
             "rgb(255, 117, 102)",
             "rgb(255, 117, 102)",
             "rgb(255, 117, 102)",
             "rgb(255, 117, 102)",
             "rgb(255, 117, 102)",
             "rgb(255, 117, 102)",
             "lavender"
            ],
            [
             "lavender",
             "rgb(255, 117, 102)",
             "rgb(255, 117, 102)",
             "rgb(255, 117, 102)",
             "rgb(255, 117, 102)",
             "rgb(255, 117, 102)",
             "rgb(255, 117, 102)",
             "rgb(255, 117, 102)",
             "rgb(255, 109, 102)",
             "rgb(255, 124, 102)",
             "rgb(255, 117, 102)",
             "lavender"
            ],
            [
             "lavender",
             "rgb(255, 117, 102)",
             "rgb(255, 117, 102)",
             "rgb(255, 117, 102)",
             "rgb(255, 117, 102)",
             "rgb(255, 117, 102)",
             "rgb(255, 117, 102)",
             "rgb(255, 117, 102)",
             "rgb(255, 117, 102)",
             "rgb(255, 117, 102)",
             "rgb(255, 117, 102)",
             "lavender"
            ],
            [
             "lavender",
             "rgb(255, 117, 102)",
             "rgb(255, 117, 102)",
             "rgb(255, 117, 102)",
             "rgb(255, 117, 102)",
             "rgb(255, 117, 102)",
             "rgb(255, 117, 102)",
             "rgb(255, 117, 102)",
             "rgb(255, 117, 102)",
             "rgb(255, 117, 102)",
             "rgb(255, 117, 102)",
             "lavender"
            ]
           ]
          },
          "values": [
           [
            "Josh Zary",
            "Isaiah Fox",
            "Cade Mason",
            "Remy Parker",
            "Grayson Constable",
            "Chris Pappas",
            "Jordan Di Cicco",
            "Aaron Grounds",
            "Noah Kane",
            "Austin Brimmer",
            "Jack Quinn",
            "Nolan Welsh",
            "Riley Wallack",
            "Valtteri Piironen",
            "Preston Brodziak",
            "Garrett Valk",
            "John Gormley",
            "Adam Pitters",
            "Peter Muzyka",
            "Heath Armstrong",
            "Kade Peterson",
            "Daniel Baldassarra",
            "Xan Gurney",
            "AJ Casperson",
            "Atte Lehikoinen",
            "Zachary Nazzarett"
           ],
           [
            -0.03,
            0.075,
            0.225,
            0.15,
            0.79,
            -0.075,
            0,
            0.555,
            1.28,
            0,
            1.3,
            0,
            0.945,
            0.075,
            0.9,
            0.075,
            0.055,
            0.065,
            0.01,
            0,
            0.075,
            0,
            0,
            0,
            0,
            0
           ],
           [
            0.93,
            0.47,
            0.555,
            0.225,
            1.745,
            0,
            0.715,
            0.5,
            -0.15,
            0,
            0.51,
            0.065,
            0.24,
            0.15,
            -0.02,
            0,
            0.105,
            0.145,
            0.255,
            0,
            0.255,
            0,
            0,
            0,
            0,
            0
           ],
           [
            0.415,
            0.48,
            0.48,
            1.135,
            0.225,
            0.15,
            1.09,
            0.94,
            0.205,
            0,
            0.405,
            0.235,
            0.74,
            1.23,
            0.185,
            0.15,
            0.13,
            0.235,
            0.405,
            0,
            0.15,
            0,
            0,
            0,
            0,
            0
           ],
           [
            [
             1.005,
             1.81
            ],
            [
             2.52,
             1.28
            ],
            [
             2.885,
             0.79
            ],
            [
             2.58,
             1.65
            ],
            [
             1.2,
             1.09
            ],
            [
             0.9,
             0.075
            ],
            [
             0.975,
             -0.075
            ],
            [
             0.075,
             0.75
            ],
            [
             0,
             0
            ],
            [
             0.865,
             0.555
            ],
            [
             0,
             0.15
            ],
            [
             0.53,
             0.01
            ],
            [
             0.24,
             0.075
            ],
            [
             0.405,
             -0.075
            ],
            [
             0.32,
             0.225
            ],
            [
             0.63,
             0.225
            ],
            [
             0.15,
             0.18
            ],
            [
             0.425,
             0.075
            ],
            [
             0.225,
             -0.15
            ],
            [
             0,
             0
            ],
            [
             0,
             0
            ],
            [
             0.15,
             0
            ],
            [
             0,
             0
            ],
            [
             0,
             0
            ],
            [
             0,
             0
            ],
            [
             0,
             0
            ]
           ],
           [
            [
             2.215,
             1.025
            ],
            [
             0.705,
             0.8
            ],
            [
             0.93,
             0
            ],
            [
             0.535,
             0.6
            ],
            [
             0.375,
             0.515
            ],
            [
             1.945,
             0.9
            ],
            [
             0.705,
             0
            ],
            [
             0.375,
             0.255
            ],
            [
             0.29,
             0
            ],
            [
             0.975,
             0.225
            ],
            [
             0.45,
             0.065
            ],
            [
             1.32,
             0
            ],
            [
             0.185,
             0.105
            ],
            [
             0.63,
             0
            ],
            [
             0.16,
             0.275
            ],
            [
             0.375,
             0
            ],
            [
             0.215,
             0.51
            ],
            [
             0.585,
             0
            ],
            [
             0.3,
             0.075
            ],
            [
             0,
             0.705
            ],
            [
             0,
             0.15
            ],
            [
             0,
             0
            ],
            [
             0,
             0
            ],
            [
             0,
             0
            ],
            [
             0,
             0
            ],
            [
             0,
             0
            ]
           ],
           [
            [
             2.215,
             1.025
            ],
            [
             0.705,
             0.8
            ],
            [
             0.93,
             0
            ],
            [
             0.535,
             0.6
            ],
            [
             0.375,
             0.515
            ],
            [
             1.945,
             0.9
            ],
            [
             0.705,
             0
            ],
            [
             0.375,
             0.255
            ],
            [
             0.29,
             0
            ],
            [
             0.975,
             0.225
            ],
            [
             0.45,
             0.065
            ],
            [
             1.32,
             0
            ],
            [
             0.185,
             0.105
            ],
            [
             0.63,
             0
            ],
            [
             0.16,
             0.275
            ],
            [
             0.375,
             0
            ],
            [
             0.215,
             0.51
            ],
            [
             0.585,
             0
            ],
            [
             0.3,
             0.075
            ],
            [
             0,
             0.705
            ],
            [
             0,
             0.15
            ],
            [
             0,
             0
            ],
            [
             0,
             0
            ],
            [
             0,
             0
            ],
            [
             0,
             0
            ],
            [
             0,
             0
            ]
           ],
           [
            [
             1.005,
             1.81
            ],
            [
             2.52,
             1.28
            ],
            [
             2.885,
             0.79
            ],
            [
             2.58,
             1.65
            ],
            [
             1.2,
             1.09
            ],
            [
             0.9,
             0.075
            ],
            [
             0.975,
             -0.075
            ],
            [
             0.075,
             0.75
            ],
            [
             0,
             0
            ],
            [
             0.865,
             0.555
            ],
            [
             0,
             0.15
            ],
            [
             0.53,
             0.01
            ],
            [
             0.24,
             0.075
            ],
            [
             0.405,
             -0.075
            ],
            [
             0.32,
             0.225
            ],
            [
             0.63,
             0.225
            ],
            [
             0.15,
             0.18
            ],
            [
             0.425,
             0.075
            ],
            [
             0.225,
             -0.15
            ],
            [
             0,
             0
            ],
            [
             0,
             0
            ],
            [
             0.15,
             0
            ],
            [
             0,
             0
            ],
            [
             0,
             0
            ],
            [
             0,
             0
            ],
            [
             0,
             0
            ]
           ],
           [
            0.045,
            0.955,
            0.075,
            0.15,
            0.63,
            0.255,
            -0.075,
            0,
            0.725,
            0.075,
            -0.075,
            0.815,
            0.04,
            0,
            0.07,
            0.18,
            -0.15,
            0,
            -0.15,
            -0.01,
            0,
            0,
            0,
            -0.075,
            0,
            0
           ],
           [
            [
             1.34,
             2.255
            ],
            [
             0.97,
             2.735
            ],
            [
             0.895,
             1.12
            ],
            [
             0.075,
             0.075
            ],
            [
             0.405,
             0.075
            ],
            [
             0.63,
             0.075
            ],
            [
             0.33,
             0.63
            ],
            [
             0.49,
             0.33
            ],
            [
             0.89,
             0.565
            ],
            [
             0.075,
             0.975
            ],
            [
             0.585,
             0
            ],
            [
             0.13,
             0.05
            ],
            [
             0.055,
             0.305
            ],
            [
             0,
             0
            ],
            [
             0,
             0.25
            ],
            [
             0.15,
             0.075
            ],
            [
             0.33,
             0.33
            ],
            [
             0,
             0
            ],
            [
             0.585,
             -0.075
            ],
            [
             0,
             0
            ],
            [
             0,
             0
            ],
            [
             0,
             0
            ],
            [
             0,
             0
            ],
            [
             0.075,
             0
            ],
            [
             0,
             0
            ],
            [
             0,
             0
            ]
           ],
           [
            [
             1.34,
             2.255
            ],
            [
             0.97,
             2.735
            ],
            [
             0.895,
             1.12
            ],
            [
             0.075,
             0.075
            ],
            [
             0.405,
             0.075
            ],
            [
             0.63,
             0.075
            ],
            [
             0.33,
             0.63
            ],
            [
             0.49,
             0.33
            ],
            [
             0.89,
             0.565
            ],
            [
             0.075,
             0.975
            ],
            [
             0.585,
             0
            ],
            [
             0.13,
             0.05
            ],
            [
             0.055,
             0.305
            ],
            [
             0,
             0
            ],
            [
             0,
             0.25
            ],
            [
             0.15,
             0.075
            ],
            [
             0.33,
             0.33
            ],
            [
             0,
             0
            ],
            [
             0.585,
             -0.075
            ],
            [
             0,
             0
            ],
            [
             0,
             0
            ],
            [
             0,
             0
            ],
            [
             0,
             0
            ],
            [
             0.075,
             0
            ],
            [
             0,
             0
            ],
            [
             0,
             0
            ]
           ],
           [
            1.1010000000000002,
            1.099,
            0.7954999999999999,
            0.7175,
            0.705,
            0.48550000000000004,
            0.4295,
            0.42700000000000005,
            0.3805,
            0.37450000000000006,
            0.33899999999999997,
            0.3155,
            0.29300000000000004,
            0.2415,
            0.2365,
            0.186,
            0.18550000000000003,
            0.15299999999999997,
            0.14800000000000002,
            0.06949999999999999,
            0.063,
            0.015,
            0,
            0,
            0,
            0
           ]
          ]
         },
         "header": {
          "align": "left",
          "fill": {
           "color": "paleturquoise"
          },
          "values": [
           "Player",
           "Penn State",
           "Holy Cross",
           "Boston College",
           "Stonehill",
           "Colorado College",
           "Colorado College",
           "Stonehill",
           "Sacred Heart",
           "Omaha",
           "Omaha",
           "Average"
          ]
         },
         "type": "table"
        }
       ],
       "layout": {
        "template": {
         "data": {
          "bar": [
           {
            "error_x": {
             "color": "#2a3f5f"
            },
            "error_y": {
             "color": "#2a3f5f"
            },
            "marker": {
             "line": {
              "color": "#E5ECF6",
              "width": 0.5
             },
             "pattern": {
              "fillmode": "overlay",
              "size": 10,
              "solidity": 0.2
             }
            },
            "type": "bar"
           }
          ],
          "barpolar": [
           {
            "marker": {
             "line": {
              "color": "#E5ECF6",
              "width": 0.5
             },
             "pattern": {
              "fillmode": "overlay",
              "size": 10,
              "solidity": 0.2
             }
            },
            "type": "barpolar"
           }
          ],
          "carpet": [
           {
            "aaxis": {
             "endlinecolor": "#2a3f5f",
             "gridcolor": "white",
             "linecolor": "white",
             "minorgridcolor": "white",
             "startlinecolor": "#2a3f5f"
            },
            "baxis": {
             "endlinecolor": "#2a3f5f",
             "gridcolor": "white",
             "linecolor": "white",
             "minorgridcolor": "white",
             "startlinecolor": "#2a3f5f"
            },
            "type": "carpet"
           }
          ],
          "choropleth": [
           {
            "colorbar": {
             "outlinewidth": 0,
             "ticks": ""
            },
            "type": "choropleth"
           }
          ],
          "contour": [
           {
            "colorbar": {
             "outlinewidth": 0,
             "ticks": ""
            },
            "colorscale": [
             [
              0,
              "#0d0887"
             ],
             [
              0.1111111111111111,
              "#46039f"
             ],
             [
              0.2222222222222222,
              "#7201a8"
             ],
             [
              0.3333333333333333,
              "#9c179e"
             ],
             [
              0.4444444444444444,
              "#bd3786"
             ],
             [
              0.5555555555555556,
              "#d8576b"
             ],
             [
              0.6666666666666666,
              "#ed7953"
             ],
             [
              0.7777777777777778,
              "#fb9f3a"
             ],
             [
              0.8888888888888888,
              "#fdca26"
             ],
             [
              1,
              "#f0f921"
             ]
            ],
            "type": "contour"
           }
          ],
          "contourcarpet": [
           {
            "colorbar": {
             "outlinewidth": 0,
             "ticks": ""
            },
            "type": "contourcarpet"
           }
          ],
          "heatmap": [
           {
            "colorbar": {
             "outlinewidth": 0,
             "ticks": ""
            },
            "colorscale": [
             [
              0,
              "#0d0887"
             ],
             [
              0.1111111111111111,
              "#46039f"
             ],
             [
              0.2222222222222222,
              "#7201a8"
             ],
             [
              0.3333333333333333,
              "#9c179e"
             ],
             [
              0.4444444444444444,
              "#bd3786"
             ],
             [
              0.5555555555555556,
              "#d8576b"
             ],
             [
              0.6666666666666666,
              "#ed7953"
             ],
             [
              0.7777777777777778,
              "#fb9f3a"
             ],
             [
              0.8888888888888888,
              "#fdca26"
             ],
             [
              1,
              "#f0f921"
             ]
            ],
            "type": "heatmap"
           }
          ],
          "heatmapgl": [
           {
            "colorbar": {
             "outlinewidth": 0,
             "ticks": ""
            },
            "colorscale": [
             [
              0,
              "#0d0887"
             ],
             [
              0.1111111111111111,
              "#46039f"
             ],
             [
              0.2222222222222222,
              "#7201a8"
             ],
             [
              0.3333333333333333,
              "#9c179e"
             ],
             [
              0.4444444444444444,
              "#bd3786"
             ],
             [
              0.5555555555555556,
              "#d8576b"
             ],
             [
              0.6666666666666666,
              "#ed7953"
             ],
             [
              0.7777777777777778,
              "#fb9f3a"
             ],
             [
              0.8888888888888888,
              "#fdca26"
             ],
             [
              1,
              "#f0f921"
             ]
            ],
            "type": "heatmapgl"
           }
          ],
          "histogram": [
           {
            "marker": {
             "pattern": {
              "fillmode": "overlay",
              "size": 10,
              "solidity": 0.2
             }
            },
            "type": "histogram"
           }
          ],
          "histogram2d": [
           {
            "colorbar": {
             "outlinewidth": 0,
             "ticks": ""
            },
            "colorscale": [
             [
              0,
              "#0d0887"
             ],
             [
              0.1111111111111111,
              "#46039f"
             ],
             [
              0.2222222222222222,
              "#7201a8"
             ],
             [
              0.3333333333333333,
              "#9c179e"
             ],
             [
              0.4444444444444444,
              "#bd3786"
             ],
             [
              0.5555555555555556,
              "#d8576b"
             ],
             [
              0.6666666666666666,
              "#ed7953"
             ],
             [
              0.7777777777777778,
              "#fb9f3a"
             ],
             [
              0.8888888888888888,
              "#fdca26"
             ],
             [
              1,
              "#f0f921"
             ]
            ],
            "type": "histogram2d"
           }
          ],
          "histogram2dcontour": [
           {
            "colorbar": {
             "outlinewidth": 0,
             "ticks": ""
            },
            "colorscale": [
             [
              0,
              "#0d0887"
             ],
             [
              0.1111111111111111,
              "#46039f"
             ],
             [
              0.2222222222222222,
              "#7201a8"
             ],
             [
              0.3333333333333333,
              "#9c179e"
             ],
             [
              0.4444444444444444,
              "#bd3786"
             ],
             [
              0.5555555555555556,
              "#d8576b"
             ],
             [
              0.6666666666666666,
              "#ed7953"
             ],
             [
              0.7777777777777778,
              "#fb9f3a"
             ],
             [
              0.8888888888888888,
              "#fdca26"
             ],
             [
              1,
              "#f0f921"
             ]
            ],
            "type": "histogram2dcontour"
           }
          ],
          "mesh3d": [
           {
            "colorbar": {
             "outlinewidth": 0,
             "ticks": ""
            },
            "type": "mesh3d"
           }
          ],
          "parcoords": [
           {
            "line": {
             "colorbar": {
              "outlinewidth": 0,
              "ticks": ""
             }
            },
            "type": "parcoords"
           }
          ],
          "pie": [
           {
            "automargin": true,
            "type": "pie"
           }
          ],
          "scatter": [
           {
            "fillpattern": {
             "fillmode": "overlay",
             "size": 10,
             "solidity": 0.2
            },
            "type": "scatter"
           }
          ],
          "scatter3d": [
           {
            "line": {
             "colorbar": {
              "outlinewidth": 0,
              "ticks": ""
             }
            },
            "marker": {
             "colorbar": {
              "outlinewidth": 0,
              "ticks": ""
             }
            },
            "type": "scatter3d"
           }
          ],
          "scattercarpet": [
           {
            "marker": {
             "colorbar": {
              "outlinewidth": 0,
              "ticks": ""
             }
            },
            "type": "scattercarpet"
           }
          ],
          "scattergeo": [
           {
            "marker": {
             "colorbar": {
              "outlinewidth": 0,
              "ticks": ""
             }
            },
            "type": "scattergeo"
           }
          ],
          "scattergl": [
           {
            "marker": {
             "colorbar": {
              "outlinewidth": 0,
              "ticks": ""
             }
            },
            "type": "scattergl"
           }
          ],
          "scattermapbox": [
           {
            "marker": {
             "colorbar": {
              "outlinewidth": 0,
              "ticks": ""
             }
            },
            "type": "scattermapbox"
           }
          ],
          "scatterpolar": [
           {
            "marker": {
             "colorbar": {
              "outlinewidth": 0,
              "ticks": ""
             }
            },
            "type": "scatterpolar"
           }
          ],
          "scatterpolargl": [
           {
            "marker": {
             "colorbar": {
              "outlinewidth": 0,
              "ticks": ""
             }
            },
            "type": "scatterpolargl"
           }
          ],
          "scatterternary": [
           {
            "marker": {
             "colorbar": {
              "outlinewidth": 0,
              "ticks": ""
             }
            },
            "type": "scatterternary"
           }
          ],
          "surface": [
           {
            "colorbar": {
             "outlinewidth": 0,
             "ticks": ""
            },
            "colorscale": [
             [
              0,
              "#0d0887"
             ],
             [
              0.1111111111111111,
              "#46039f"
             ],
             [
              0.2222222222222222,
              "#7201a8"
             ],
             [
              0.3333333333333333,
              "#9c179e"
             ],
             [
              0.4444444444444444,
              "#bd3786"
             ],
             [
              0.5555555555555556,
              "#d8576b"
             ],
             [
              0.6666666666666666,
              "#ed7953"
             ],
             [
              0.7777777777777778,
              "#fb9f3a"
             ],
             [
              0.8888888888888888,
              "#fdca26"
             ],
             [
              1,
              "#f0f921"
             ]
            ],
            "type": "surface"
           }
          ],
          "table": [
           {
            "cells": {
             "fill": {
              "color": "#EBF0F8"
             },
             "line": {
              "color": "white"
             }
            },
            "header": {
             "fill": {
              "color": "#C8D4E3"
             },
             "line": {
              "color": "white"
             }
            },
            "type": "table"
           }
          ]
         },
         "layout": {
          "annotationdefaults": {
           "arrowcolor": "#2a3f5f",
           "arrowhead": 0,
           "arrowwidth": 1
          },
          "autotypenumbers": "strict",
          "coloraxis": {
           "colorbar": {
            "outlinewidth": 0,
            "ticks": ""
           }
          },
          "colorscale": {
           "diverging": [
            [
             0,
             "#8e0152"
            ],
            [
             0.1,
             "#c51b7d"
            ],
            [
             0.2,
             "#de77ae"
            ],
            [
             0.3,
             "#f1b6da"
            ],
            [
             0.4,
             "#fde0ef"
            ],
            [
             0.5,
             "#f7f7f7"
            ],
            [
             0.6,
             "#e6f5d0"
            ],
            [
             0.7,
             "#b8e186"
            ],
            [
             0.8,
             "#7fbc41"
            ],
            [
             0.9,
             "#4d9221"
            ],
            [
             1,
             "#276419"
            ]
           ],
           "sequential": [
            [
             0,
             "#0d0887"
            ],
            [
             0.1111111111111111,
             "#46039f"
            ],
            [
             0.2222222222222222,
             "#7201a8"
            ],
            [
             0.3333333333333333,
             "#9c179e"
            ],
            [
             0.4444444444444444,
             "#bd3786"
            ],
            [
             0.5555555555555556,
             "#d8576b"
            ],
            [
             0.6666666666666666,
             "#ed7953"
            ],
            [
             0.7777777777777778,
             "#fb9f3a"
            ],
            [
             0.8888888888888888,
             "#fdca26"
            ],
            [
             1,
             "#f0f921"
            ]
           ],
           "sequentialminus": [
            [
             0,
             "#0d0887"
            ],
            [
             0.1111111111111111,
             "#46039f"
            ],
            [
             0.2222222222222222,
             "#7201a8"
            ],
            [
             0.3333333333333333,
             "#9c179e"
            ],
            [
             0.4444444444444444,
             "#bd3786"
            ],
            [
             0.5555555555555556,
             "#d8576b"
            ],
            [
             0.6666666666666666,
             "#ed7953"
            ],
            [
             0.7777777777777778,
             "#fb9f3a"
            ],
            [
             0.8888888888888888,
             "#fdca26"
            ],
            [
             1,
             "#f0f921"
            ]
           ]
          },
          "colorway": [
           "#636efa",
           "#EF553B",
           "#00cc96",
           "#ab63fa",
           "#FFA15A",
           "#19d3f3",
           "#FF6692",
           "#B6E880",
           "#FF97FF",
           "#FECB52"
          ],
          "font": {
           "color": "#2a3f5f"
          },
          "geo": {
           "bgcolor": "white",
           "lakecolor": "white",
           "landcolor": "#E5ECF6",
           "showlakes": true,
           "showland": true,
           "subunitcolor": "white"
          },
          "hoverlabel": {
           "align": "left"
          },
          "hovermode": "closest",
          "mapbox": {
           "style": "light"
          },
          "paper_bgcolor": "white",
          "plot_bgcolor": "#E5ECF6",
          "polar": {
           "angularaxis": {
            "gridcolor": "white",
            "linecolor": "white",
            "ticks": ""
           },
           "bgcolor": "#E5ECF6",
           "radialaxis": {
            "gridcolor": "white",
            "linecolor": "white",
            "ticks": ""
           }
          },
          "scene": {
           "xaxis": {
            "backgroundcolor": "#E5ECF6",
            "gridcolor": "white",
            "gridwidth": 2,
            "linecolor": "white",
            "showbackground": true,
            "ticks": "",
            "zerolinecolor": "white"
           },
           "yaxis": {
            "backgroundcolor": "#E5ECF6",
            "gridcolor": "white",
            "gridwidth": 2,
            "linecolor": "white",
            "showbackground": true,
            "ticks": "",
            "zerolinecolor": "white"
           },
           "zaxis": {
            "backgroundcolor": "#E5ECF6",
            "gridcolor": "white",
            "gridwidth": 2,
            "linecolor": "white",
            "showbackground": true,
            "ticks": "",
            "zerolinecolor": "white"
           }
          },
          "shapedefaults": {
           "line": {
            "color": "#2a3f5f"
           }
          },
          "ternary": {
           "aaxis": {
            "gridcolor": "white",
            "linecolor": "white",
            "ticks": ""
           },
           "baxis": {
            "gridcolor": "white",
            "linecolor": "white",
            "ticks": ""
           },
           "bgcolor": "#E5ECF6",
           "caxis": {
            "gridcolor": "white",
            "linecolor": "white",
            "ticks": ""
           }
          },
          "title": {
           "x": 0.05
          },
          "xaxis": {
           "automargin": true,
           "gridcolor": "white",
           "linecolor": "white",
           "ticks": "",
           "title": {
            "standoff": 15
           },
           "zerolinecolor": "white",
           "zerolinewidth": 2
          },
          "yaxis": {
           "automargin": true,
           "gridcolor": "white",
           "linecolor": "white",
           "ticks": "",
           "title": {
            "standoff": 15
           },
           "zerolinecolor": "white",
           "zerolinewidth": 2
          }
         }
        }
       }
      }
     },
     "metadata": {},
     "output_type": "display_data"
    }
   ],
   "source": [
    "fig = go.Figure(data=[go.Table(\n",
    "    header=dict(values=list(csv_df_sorted.columns),\n",
    "                fill_color='paleturquoise',\n",
    "                align='left'),\n",
    "    cells=dict(values=[csv_df_sorted[col] for col in csv_df_sorted.columns],\n",
    "               fill_color=color_array_combined,\n",
    "               align='left'))\n",
    "])\n",
    "fig.show()\n"
   ]
  },
  {
   "cell_type": "code",
   "execution_count": null,
   "metadata": {},
   "outputs": [],
   "source": []
  },
  {
   "cell_type": "code",
   "execution_count": 129,
   "metadata": {},
   "outputs": [
    {
     "data": {
      "text/plain": [
       "array(['Lake Superior', 'Michigan State', 'Clarkson', 'Notre Dame', 'RIT',\n",
       "       'St. Lawrence', 'St. Thomas', 'St. Cloud State', 'Providence',\n",
       "       'Michigan', 'Stonehill', 'Northeastern', 'Boston College',\n",
       "       'Quinnipiac', 'Ohio State', 'Mercyhurst', 'Connecticut', 'Colgate',\n",
       "       \"American Int'l\", 'Massachusetts', 'Penn State', 'Long Island',\n",
       "       'Lindenwood', 'Air Force', 'Bowling Green', 'Robert Morris',\n",
       "       'Boston University', 'Bentley', 'Miami', 'Ferris State',\n",
       "       'Augustana', 'Wisconsin', 'Lowell', 'Anchorage', 'Michigan Tech',\n",
       "       'Duluth', 'Denver', 'Alaska', 'Union', 'Army', 'Holy Cross',\n",
       "       'Western Michigan', 'Rensselaer', 'Maine', 'Vermont',\n",
       "       'Sacred Heart', 'Canisius', 'Bemidji State', 'North Dakota',\n",
       "       'Minnesota State', 'Northern Michigan', 'Niagara', 'Omaha',\n",
       "       'Minnesota', 'Colorado College', 'Merrimack', 'Arizona State',\n",
       "       'New Hampshire', 'Harvard', 'Dartmouth', 'Yale', 'Brown',\n",
       "       'Cornell', 'Princeton', 0], dtype=object)"
      ]
     },
     "execution_count": 129,
     "metadata": {},
     "output_type": "execute_result"
    }
   ],
   "source": [
    "unique_teams"
   ]
  },
  {
   "cell_type": "code",
   "execution_count": 130,
   "metadata": {},
   "outputs": [
    {
     "data": {
      "text/html": [
       "<div>\n",
       "<style scoped>\n",
       "    .dataframe tbody tr th:only-of-type {\n",
       "        vertical-align: middle;\n",
       "    }\n",
       "\n",
       "    .dataframe tbody tr th {\n",
       "        vertical-align: top;\n",
       "    }\n",
       "\n",
       "    .dataframe thead th {\n",
       "        text-align: right;\n",
       "    }\n",
       "</style>\n",
       "<table border=\"1\" class=\"dataframe\">\n",
       "  <thead>\n",
       "    <tr style=\"text-align: right;\">\n",
       "      <th></th>\n",
       "      <th>St.Thomas</th>\n",
       "      <th>St.Thomas</th>\n",
       "      <th>MinnesotaState</th>\n",
       "      <th>MinnesotaState</th>\n",
       "      <th>Alaska</th>\n",
       "      <th>Alaska</th>\n",
       "      <th>Miami</th>\n",
       "      <th>Miami</th>\n",
       "      <th>WesternMichigan</th>\n",
       "      <th>WesternMichigan</th>\n",
       "    </tr>\n",
       "    <tr>\n",
       "      <th>Player</th>\n",
       "      <th></th>\n",
       "      <th></th>\n",
       "      <th></th>\n",
       "      <th></th>\n",
       "      <th></th>\n",
       "      <th></th>\n",
       "      <th></th>\n",
       "      <th></th>\n",
       "      <th></th>\n",
       "      <th></th>\n",
       "    </tr>\n",
       "  </thead>\n",
       "  <tbody>\n",
       "    <tr>\n",
       "      <th>Adam Ingram</th>\n",
       "      <td>0.694995</td>\n",
       "      <td>1.059995</td>\n",
       "      <td>0.045000</td>\n",
       "      <td>0.555000</td>\n",
       "      <td>2.149995</td>\n",
       "      <td>0.150000</td>\n",
       "      <td>0.375000</td>\n",
       "      <td>1.119995</td>\n",
       "      <td>0.790000</td>\n",
       "      <td>0.480000</td>\n",
       "    </tr>\n",
       "    <tr>\n",
       "      <th>Barrett Hall</th>\n",
       "      <td>0.890000</td>\n",
       "      <td>0.225000</td>\n",
       "      <td>1.030000</td>\n",
       "      <td>0.785000</td>\n",
       "      <td>1.354995</td>\n",
       "      <td>0.074995</td>\n",
       "      <td>0.375000</td>\n",
       "      <td>0.360000</td>\n",
       "      <td>0.965000</td>\n",
       "      <td>-0.020000</td>\n",
       "    </tr>\n",
       "    <tr>\n",
       "      <th>Cooper Wylie</th>\n",
       "      <td>-0.075000</td>\n",
       "      <td>0.000000</td>\n",
       "      <td>-0.150000</td>\n",
       "      <td>0.075000</td>\n",
       "      <td>0.450000</td>\n",
       "      <td>0.150000</td>\n",
       "      <td>0.225000</td>\n",
       "      <td>0.075000</td>\n",
       "      <td>0.150000</td>\n",
       "      <td>-0.075000</td>\n",
       "    </tr>\n",
       "    <tr>\n",
       "      <th>Dylan Anhorn</th>\n",
       "      <td>2.219984</td>\n",
       "      <td>-0.075000</td>\n",
       "      <td>0.884995</td>\n",
       "      <td>0.329995</td>\n",
       "      <td>1.240000</td>\n",
       "      <td>0.884995</td>\n",
       "      <td>1.090000</td>\n",
       "      <td>1.270000</td>\n",
       "      <td>0.404995</td>\n",
       "      <td>1.044995</td>\n",
       "    </tr>\n",
       "    <tr>\n",
       "      <th>Ethan AuCoin</th>\n",
       "      <td>0.000000</td>\n",
       "      <td>-0.075000</td>\n",
       "      <td>0.000000</td>\n",
       "      <td>0.000000</td>\n",
       "      <td>0.000000</td>\n",
       "      <td>0.000000</td>\n",
       "      <td>0.000000</td>\n",
       "      <td>0.000000</td>\n",
       "      <td>0.000000</td>\n",
       "      <td>0.000000</td>\n",
       "    </tr>\n",
       "    <tr>\n",
       "      <th>Grant Ahcan</th>\n",
       "      <td>0.000000</td>\n",
       "      <td>0.000000</td>\n",
       "      <td>0.000000</td>\n",
       "      <td>0.404995</td>\n",
       "      <td>0.780000</td>\n",
       "      <td>-0.075000</td>\n",
       "      <td>0.300000</td>\n",
       "      <td>0.715000</td>\n",
       "      <td>0.150000</td>\n",
       "      <td>0.825000</td>\n",
       "    </tr>\n",
       "    <tr>\n",
       "      <th>Jack Peart</th>\n",
       "      <td>0.940000</td>\n",
       "      <td>-0.075000</td>\n",
       "      <td>0.179995</td>\n",
       "      <td>0.225000</td>\n",
       "      <td>0.884989</td>\n",
       "      <td>0.254995</td>\n",
       "      <td>1.015000</td>\n",
       "      <td>0.900000</td>\n",
       "      <td>0.150000</td>\n",
       "      <td>0.000000</td>\n",
       "    </tr>\n",
       "    <tr>\n",
       "      <th>Jack Reimann</th>\n",
       "      <td>0.205000</td>\n",
       "      <td>0.000000</td>\n",
       "      <td>0.120000</td>\n",
       "      <td>0.000000</td>\n",
       "      <td>0.000000</td>\n",
       "      <td>0.000000</td>\n",
       "      <td>0.375000</td>\n",
       "      <td>0.150000</td>\n",
       "      <td>0.225000</td>\n",
       "      <td>0.000000</td>\n",
       "    </tr>\n",
       "    <tr>\n",
       "      <th>Jack Rogers</th>\n",
       "      <td>0.329995</td>\n",
       "      <td>0.000000</td>\n",
       "      <td>0.000000</td>\n",
       "      <td>0.075000</td>\n",
       "      <td>0.300000</td>\n",
       "      <td>0.584989</td>\n",
       "      <td>0.479995</td>\n",
       "      <td>0.000000</td>\n",
       "      <td>1.530000</td>\n",
       "      <td>0.329995</td>\n",
       "    </tr>\n",
       "    <tr>\n",
       "      <th>Joe Molenaar</th>\n",
       "      <td>0.075000</td>\n",
       "      <td>0.225000</td>\n",
       "      <td>0.825000</td>\n",
       "      <td>0.404995</td>\n",
       "      <td>1.200000</td>\n",
       "      <td>0.150000</td>\n",
       "      <td>1.005000</td>\n",
       "      <td>2.700000</td>\n",
       "      <td>0.225000</td>\n",
       "      <td>1.125000</td>\n",
       "    </tr>\n",
       "    <tr>\n",
       "      <th>Josh Luedtke</th>\n",
       "      <td>0.254995</td>\n",
       "      <td>0.075000</td>\n",
       "      <td>0.565000</td>\n",
       "      <td>0.000000</td>\n",
       "      <td>0.300000</td>\n",
       "      <td>-0.075000</td>\n",
       "      <td>0.705000</td>\n",
       "      <td>0.975000</td>\n",
       "      <td>0.780000</td>\n",
       "      <td>0.329995</td>\n",
       "    </tr>\n",
       "    <tr>\n",
       "      <th>Karl Falk</th>\n",
       "      <td>0.000000</td>\n",
       "      <td>0.075000</td>\n",
       "      <td>0.000000</td>\n",
       "      <td>0.150000</td>\n",
       "      <td>0.375000</td>\n",
       "      <td>0.000000</td>\n",
       "      <td>0.225000</td>\n",
       "      <td>-0.075000</td>\n",
       "      <td>0.150000</td>\n",
       "      <td>0.000000</td>\n",
       "    </tr>\n",
       "    <tr>\n",
       "      <th>Kyler Kupka</th>\n",
       "      <td>0.065000</td>\n",
       "      <td>0.075000</td>\n",
       "      <td>0.075000</td>\n",
       "      <td>1.304995</td>\n",
       "      <td>1.410000</td>\n",
       "      <td>1.125000</td>\n",
       "      <td>0.940000</td>\n",
       "      <td>0.630000</td>\n",
       "      <td>1.240000</td>\n",
       "      <td>-0.075000</td>\n",
       "    </tr>\n",
       "    <tr>\n",
       "      <th>Mason Reiners</th>\n",
       "      <td>0.000000</td>\n",
       "      <td>0.000000</td>\n",
       "      <td>0.329995</td>\n",
       "      <td>0.000000</td>\n",
       "      <td>0.375000</td>\n",
       "      <td>-0.150000</td>\n",
       "      <td>0.075000</td>\n",
       "      <td>0.000000</td>\n",
       "      <td>0.865000</td>\n",
       "      <td>0.254995</td>\n",
       "    </tr>\n",
       "    <tr>\n",
       "      <th>Mason Salquist</th>\n",
       "      <td>0.930000</td>\n",
       "      <td>0.804984</td>\n",
       "      <td>0.150000</td>\n",
       "      <td>0.075000</td>\n",
       "      <td>1.185000</td>\n",
       "      <td>0.370000</td>\n",
       "      <td>1.360000</td>\n",
       "      <td>1.744995</td>\n",
       "      <td>0.045000</td>\n",
       "      <td>0.284995</td>\n",
       "    </tr>\n",
       "    <tr>\n",
       "      <th>Nick Portz</th>\n",
       "      <td>0.555000</td>\n",
       "      <td>0.254995</td>\n",
       "      <td>-0.010000</td>\n",
       "      <td>-0.075000</td>\n",
       "      <td>1.125000</td>\n",
       "      <td>0.254995</td>\n",
       "      <td>0.000000</td>\n",
       "      <td>0.000000</td>\n",
       "      <td>0.000000</td>\n",
       "      <td>0.000000</td>\n",
       "    </tr>\n",
       "    <tr>\n",
       "      <th>Ryan Rosborough</th>\n",
       "      <td>0.000000</td>\n",
       "      <td>0.065000</td>\n",
       "      <td>-0.150000</td>\n",
       "      <td>0.000000</td>\n",
       "      <td>0.000000</td>\n",
       "      <td>0.000000</td>\n",
       "      <td>0.000000</td>\n",
       "      <td>0.000000</td>\n",
       "      <td>0.000000</td>\n",
       "      <td>0.000000</td>\n",
       "    </tr>\n",
       "    <tr>\n",
       "      <th>Tynan Ewart</th>\n",
       "      <td>0.075000</td>\n",
       "      <td>0.000000</td>\n",
       "      <td>0.000000</td>\n",
       "      <td>0.000000</td>\n",
       "      <td>0.000000</td>\n",
       "      <td>0.000000</td>\n",
       "      <td>0.000000</td>\n",
       "      <td>0.075000</td>\n",
       "      <td>0.000000</td>\n",
       "      <td>0.630000</td>\n",
       "    </tr>\n",
       "    <tr>\n",
       "      <th>Tyson Gross</th>\n",
       "      <td>0.000000</td>\n",
       "      <td>0.010000</td>\n",
       "      <td>0.000000</td>\n",
       "      <td>0.000000</td>\n",
       "      <td>0.375000</td>\n",
       "      <td>0.459995</td>\n",
       "      <td>0.310000</td>\n",
       "      <td>0.454995</td>\n",
       "      <td>0.165000</td>\n",
       "      <td>-0.030000</td>\n",
       "    </tr>\n",
       "    <tr>\n",
       "      <th>Veeti Miettinen</th>\n",
       "      <td>2.480000</td>\n",
       "      <td>0.000000</td>\n",
       "      <td>-0.150000</td>\n",
       "      <td>0.225000</td>\n",
       "      <td>1.915000</td>\n",
       "      <td>1.765000</td>\n",
       "      <td>1.050000</td>\n",
       "      <td>1.125000</td>\n",
       "      <td>1.125000</td>\n",
       "      <td>0.525000</td>\n",
       "    </tr>\n",
       "    <tr>\n",
       "      <th>Verner Miettinen</th>\n",
       "      <td>1.054995</td>\n",
       "      <td>0.000000</td>\n",
       "      <td>0.770000</td>\n",
       "      <td>-0.010000</td>\n",
       "      <td>0.480000</td>\n",
       "      <td>0.200000</td>\n",
       "      <td>1.100000</td>\n",
       "      <td>0.210000</td>\n",
       "      <td>0.140000</td>\n",
       "      <td>0.505000</td>\n",
       "    </tr>\n",
       "    <tr>\n",
       "      <th>Warren Clark</th>\n",
       "      <td>-0.075000</td>\n",
       "      <td>0.000000</td>\n",
       "      <td>-0.075000</td>\n",
       "      <td>0.150000</td>\n",
       "      <td>0.629995</td>\n",
       "      <td>0.630000</td>\n",
       "      <td>0.225000</td>\n",
       "      <td>0.000000</td>\n",
       "      <td>0.225000</td>\n",
       "      <td>0.715000</td>\n",
       "    </tr>\n",
       "    <tr>\n",
       "      <th>Zach Okabe</th>\n",
       "      <td>0.685000</td>\n",
       "      <td>-0.085000</td>\n",
       "      <td>0.150000</td>\n",
       "      <td>0.215000</td>\n",
       "      <td>0.460000</td>\n",
       "      <td>0.780000</td>\n",
       "      <td>0.780000</td>\n",
       "      <td>0.170000</td>\n",
       "      <td>0.290000</td>\n",
       "      <td>0.790000</td>\n",
       "    </tr>\n",
       "  </tbody>\n",
       "</table>\n",
       "</div>"
      ],
      "text/plain": [
       "                  St.Thomas  St.Thomas  MinnesotaState  MinnesotaState  \\\n",
       "Player                                                                   \n",
       "Adam Ingram        0.694995   1.059995        0.045000        0.555000   \n",
       "Barrett Hall       0.890000   0.225000        1.030000        0.785000   \n",
       "Cooper Wylie      -0.075000   0.000000       -0.150000        0.075000   \n",
       "Dylan Anhorn       2.219984  -0.075000        0.884995        0.329995   \n",
       "Ethan AuCoin       0.000000  -0.075000        0.000000        0.000000   \n",
       "Grant Ahcan        0.000000   0.000000        0.000000        0.404995   \n",
       "Jack Peart         0.940000  -0.075000        0.179995        0.225000   \n",
       "Jack Reimann       0.205000   0.000000        0.120000        0.000000   \n",
       "Jack Rogers        0.329995   0.000000        0.000000        0.075000   \n",
       "Joe Molenaar       0.075000   0.225000        0.825000        0.404995   \n",
       "Josh Luedtke       0.254995   0.075000        0.565000        0.000000   \n",
       "Karl Falk          0.000000   0.075000        0.000000        0.150000   \n",
       "Kyler Kupka        0.065000   0.075000        0.075000        1.304995   \n",
       "Mason Reiners      0.000000   0.000000        0.329995        0.000000   \n",
       "Mason Salquist     0.930000   0.804984        0.150000        0.075000   \n",
       "Nick Portz         0.555000   0.254995       -0.010000       -0.075000   \n",
       "Ryan Rosborough    0.000000   0.065000       -0.150000        0.000000   \n",
       "Tynan Ewart        0.075000   0.000000        0.000000        0.000000   \n",
       "Tyson Gross        0.000000   0.010000        0.000000        0.000000   \n",
       "Veeti Miettinen    2.480000   0.000000       -0.150000        0.225000   \n",
       "Verner Miettinen   1.054995   0.000000        0.770000       -0.010000   \n",
       "Warren Clark      -0.075000   0.000000       -0.075000        0.150000   \n",
       "Zach Okabe         0.685000  -0.085000        0.150000        0.215000   \n",
       "\n",
       "                    Alaska    Alaska     Miami     Miami  WesternMichigan  \\\n",
       "Player                                                                      \n",
       "Adam Ingram       2.149995  0.150000  0.375000  1.119995         0.790000   \n",
       "Barrett Hall      1.354995  0.074995  0.375000  0.360000         0.965000   \n",
       "Cooper Wylie      0.450000  0.150000  0.225000  0.075000         0.150000   \n",
       "Dylan Anhorn      1.240000  0.884995  1.090000  1.270000         0.404995   \n",
       "Ethan AuCoin      0.000000  0.000000  0.000000  0.000000         0.000000   \n",
       "Grant Ahcan       0.780000 -0.075000  0.300000  0.715000         0.150000   \n",
       "Jack Peart        0.884989  0.254995  1.015000  0.900000         0.150000   \n",
       "Jack Reimann      0.000000  0.000000  0.375000  0.150000         0.225000   \n",
       "Jack Rogers       0.300000  0.584989  0.479995  0.000000         1.530000   \n",
       "Joe Molenaar      1.200000  0.150000  1.005000  2.700000         0.225000   \n",
       "Josh Luedtke      0.300000 -0.075000  0.705000  0.975000         0.780000   \n",
       "Karl Falk         0.375000  0.000000  0.225000 -0.075000         0.150000   \n",
       "Kyler Kupka       1.410000  1.125000  0.940000  0.630000         1.240000   \n",
       "Mason Reiners     0.375000 -0.150000  0.075000  0.000000         0.865000   \n",
       "Mason Salquist    1.185000  0.370000  1.360000  1.744995         0.045000   \n",
       "Nick Portz        1.125000  0.254995  0.000000  0.000000         0.000000   \n",
       "Ryan Rosborough   0.000000  0.000000  0.000000  0.000000         0.000000   \n",
       "Tynan Ewart       0.000000  0.000000  0.000000  0.075000         0.000000   \n",
       "Tyson Gross       0.375000  0.459995  0.310000  0.454995         0.165000   \n",
       "Veeti Miettinen   1.915000  1.765000  1.050000  1.125000         1.125000   \n",
       "Verner Miettinen  0.480000  0.200000  1.100000  0.210000         0.140000   \n",
       "Warren Clark      0.629995  0.630000  0.225000  0.000000         0.225000   \n",
       "Zach Okabe        0.460000  0.780000  0.780000  0.170000         0.290000   \n",
       "\n",
       "                  WesternMichigan  \n",
       "Player                             \n",
       "Adam Ingram              0.480000  \n",
       "Barrett Hall            -0.020000  \n",
       "Cooper Wylie            -0.075000  \n",
       "Dylan Anhorn             1.044995  \n",
       "Ethan AuCoin             0.000000  \n",
       "Grant Ahcan              0.825000  \n",
       "Jack Peart               0.000000  \n",
       "Jack Reimann             0.000000  \n",
       "Jack Rogers              0.329995  \n",
       "Joe Molenaar             1.125000  \n",
       "Josh Luedtke             0.329995  \n",
       "Karl Falk                0.000000  \n",
       "Kyler Kupka             -0.075000  \n",
       "Mason Reiners            0.254995  \n",
       "Mason Salquist           0.284995  \n",
       "Nick Portz               0.000000  \n",
       "Ryan Rosborough          0.000000  \n",
       "Tynan Ewart              0.630000  \n",
       "Tyson Gross             -0.030000  \n",
       "Veeti Miettinen          0.525000  \n",
       "Verner Miettinen         0.505000  \n",
       "Warren Clark             0.715000  \n",
       "Zach Okabe               0.790000  "
      ]
     },
     "execution_count": 130,
     "metadata": {},
     "output_type": "execute_result"
    }
   ],
   "source": [
    "# Display the first team's table as an example\n",
    "team_tables[unique_teams[7]].head(40)\n",
    "\n",
    "ohio_state_df = team_tables[unique_teams[7]].copy()\n",
    "\n",
    "# Clean Column Headers\n",
    "# split on - and take the last 2 elements\n",
    "# ohio_state_df.columns = ohio_state_df.columns.str.split('-').str[-2:]\n",
    "\n",
    "ohio_state_df.head(25)\n",
    "\n",
    "# Get a list of the column names\n",
    "column_names = ohio_state_df.columns.tolist()\n",
    "# Clean up column names by Removing 'Ohio State' and any digits of dashes\n",
    "column_names = [name.replace('Ohio State', '') for name in column_names]\n",
    "column_names = [name.replace('-', '') for name in column_names]\n",
    "column_names = [name.replace(' ', '') for name in column_names]\n",
    "\n",
    "# Use regex to remove any digits\n",
    "import re\n",
    "\n",
    "column_names = [re.sub(r'\\d+', '', name) for name in column_names]\n",
    "\n",
    "\n",
    "\n",
    "# Replace the column names\n",
    "ohio_state_df.columns = column_names\n",
    "\n",
    "ohio_state_df.head(25)\n",
    "\n",
    "# Save to CSV\n",
    "# ohio_state_df.to_csv('../TEMP/GAME_SCORE_OHIO_STATE.csv', index=True)\n",
    "\n",
    "### MSU Is In Index Position 21 in this case outputing csv for MSU\n",
    "# team_tables[unique_teams[21]] = team_tables[unique_teams[21]].fillna(0)\n",
    "# team_tables[unique_teams[21]].to_csv('../data/Nov_2_MSU_GAME_SCORES.csv')\n",
    "\n"
   ]
  },
  {
   "cell_type": "markdown",
   "metadata": {},
   "source": [
    "# One of THe Michigan Games is Absent From The OSU DATA"
   ]
  },
  {
   "cell_type": "code",
   "execution_count": 131,
   "metadata": {},
   "outputs": [
    {
     "data": {
      "text/html": [
       "<div>\n",
       "<style scoped>\n",
       "    .dataframe tbody tr th:only-of-type {\n",
       "        vertical-align: middle;\n",
       "    }\n",
       "\n",
       "    .dataframe tbody tr th {\n",
       "        vertical-align: top;\n",
       "    }\n",
       "\n",
       "    .dataframe thead th {\n",
       "        text-align: right;\n",
       "    }\n",
       "</style>\n",
       "<table border=\"1\" class=\"dataframe\">\n",
       "  <thead>\n",
       "    <tr style=\"text-align: right;\">\n",
       "      <th></th>\n",
       "      <th>St.Thomas</th>\n",
       "      <th>St.Thomas</th>\n",
       "      <th>MinnesotaState</th>\n",
       "      <th>MinnesotaState</th>\n",
       "      <th>Alaska</th>\n",
       "      <th>Alaska</th>\n",
       "      <th>Miami</th>\n",
       "      <th>Miami</th>\n",
       "      <th>WesternMichigan</th>\n",
       "      <th>WesternMichigan</th>\n",
       "    </tr>\n",
       "    <tr>\n",
       "      <th>Player</th>\n",
       "      <th></th>\n",
       "      <th></th>\n",
       "      <th></th>\n",
       "      <th></th>\n",
       "      <th></th>\n",
       "      <th></th>\n",
       "      <th></th>\n",
       "      <th></th>\n",
       "      <th></th>\n",
       "      <th></th>\n",
       "    </tr>\n",
       "  </thead>\n",
       "  <tbody>\n",
       "    <tr>\n",
       "      <th>Adam Ingram</th>\n",
       "      <td>0.694995</td>\n",
       "      <td>1.059995</td>\n",
       "      <td>0.045000</td>\n",
       "      <td>0.555000</td>\n",
       "      <td>2.149995</td>\n",
       "      <td>0.150000</td>\n",
       "      <td>0.375</td>\n",
       "      <td>1.119995</td>\n",
       "      <td>0.790000</td>\n",
       "      <td>0.480000</td>\n",
       "    </tr>\n",
       "    <tr>\n",
       "      <th>Barrett Hall</th>\n",
       "      <td>0.890000</td>\n",
       "      <td>0.225000</td>\n",
       "      <td>1.030000</td>\n",
       "      <td>0.785000</td>\n",
       "      <td>1.354995</td>\n",
       "      <td>0.074995</td>\n",
       "      <td>0.375</td>\n",
       "      <td>0.360000</td>\n",
       "      <td>0.965000</td>\n",
       "      <td>-0.020000</td>\n",
       "    </tr>\n",
       "    <tr>\n",
       "      <th>Cooper Wylie</th>\n",
       "      <td>-0.075000</td>\n",
       "      <td>0.000000</td>\n",
       "      <td>-0.150000</td>\n",
       "      <td>0.075000</td>\n",
       "      <td>0.450000</td>\n",
       "      <td>0.150000</td>\n",
       "      <td>0.225</td>\n",
       "      <td>0.075000</td>\n",
       "      <td>0.150000</td>\n",
       "      <td>-0.075000</td>\n",
       "    </tr>\n",
       "    <tr>\n",
       "      <th>Dylan Anhorn</th>\n",
       "      <td>2.219984</td>\n",
       "      <td>-0.075000</td>\n",
       "      <td>0.884995</td>\n",
       "      <td>0.329995</td>\n",
       "      <td>1.240000</td>\n",
       "      <td>0.884995</td>\n",
       "      <td>1.090</td>\n",
       "      <td>1.270000</td>\n",
       "      <td>0.404995</td>\n",
       "      <td>1.044995</td>\n",
       "    </tr>\n",
       "    <tr>\n",
       "      <th>Ethan AuCoin</th>\n",
       "      <td>0.000000</td>\n",
       "      <td>-0.075000</td>\n",
       "      <td>0.000000</td>\n",
       "      <td>0.000000</td>\n",
       "      <td>0.000000</td>\n",
       "      <td>0.000000</td>\n",
       "      <td>0.000</td>\n",
       "      <td>0.000000</td>\n",
       "      <td>0.000000</td>\n",
       "      <td>0.000000</td>\n",
       "    </tr>\n",
       "  </tbody>\n",
       "</table>\n",
       "</div>"
      ],
      "text/plain": [
       "              St.Thomas  St.Thomas  MinnesotaState  MinnesotaState    Alaska  \\\n",
       "Player                                                                         \n",
       "Adam Ingram    0.694995   1.059995        0.045000        0.555000  2.149995   \n",
       "Barrett Hall   0.890000   0.225000        1.030000        0.785000  1.354995   \n",
       "Cooper Wylie  -0.075000   0.000000       -0.150000        0.075000  0.450000   \n",
       "Dylan Anhorn   2.219984  -0.075000        0.884995        0.329995  1.240000   \n",
       "Ethan AuCoin   0.000000  -0.075000        0.000000        0.000000  0.000000   \n",
       "\n",
       "                Alaska  Miami     Miami  WesternMichigan  WesternMichigan  \n",
       "Player                                                                     \n",
       "Adam Ingram   0.150000  0.375  1.119995         0.790000         0.480000  \n",
       "Barrett Hall  0.074995  0.375  0.360000         0.965000        -0.020000  \n",
       "Cooper Wylie  0.150000  0.225  0.075000         0.150000        -0.075000  \n",
       "Dylan Anhorn  0.884995  1.090  1.270000         0.404995         1.044995  \n",
       "Ethan AuCoin  0.000000  0.000  0.000000         0.000000         0.000000  "
      ]
     },
     "execution_count": 131,
     "metadata": {},
     "output_type": "execute_result"
    }
   ],
   "source": [
    "ohio_state_df.head()"
   ]
  },
  {
   "cell_type": "code",
   "execution_count": 132,
   "metadata": {},
   "outputs": [],
   "source": [
    "# Create a list of dataframes from the team_tables dictionary\n",
    "team_tables_list = [team_tables[team] for team in unique_teams]\n"
   ]
  },
  {
   "cell_type": "code",
   "execution_count": null,
   "metadata": {},
   "outputs": [],
   "source": []
  },
  {
   "cell_type": "markdown",
   "metadata": {},
   "source": [
    "## Save To an Excell File"
   ]
  },
  {
   "cell_type": "code",
   "execution_count": 133,
   "metadata": {},
   "outputs": [
    {
     "ename": "NameError",
     "evalue": "name 'team_tables_dict' is not defined",
     "output_type": "error",
     "traceback": [
      "\u001b[1;31m---------------------------------------------------------------------------\u001b[0m",
      "\u001b[1;31mNameError\u001b[0m                                 Traceback (most recent call last)",
      "\u001b[1;32mc:\\Users\\Justin\\Desktop\\Project\\college_hockey\\workbook\\Game_Score_Calculation_Book.ipynb Cell 60\u001b[0m line \u001b[0;36m7\n\u001b[0;32m      <a href='vscode-notebook-cell:/c%3A/Users/Justin/Desktop/Project/college_hockey/workbook/Game_Score_Calculation_Book.ipynb#Y113sZmlsZQ%3D%3D?line=3'>4</a>\u001b[0m \u001b[39m# Create a workbook and add a worksheet for each team\u001b[39;00m\n\u001b[0;32m      <a href='vscode-notebook-cell:/c%3A/Users/Justin/Desktop/Project/college_hockey/workbook/Game_Score_Calculation_Book.ipynb#Y113sZmlsZQ%3D%3D?line=4'>5</a>\u001b[0m workbook \u001b[39m=\u001b[39m xlsxwriter\u001b[39m.\u001b[39mWorkbook(\u001b[39m'\u001b[39m\u001b[39m../data/Nov_2_GAME_SCORES.xlsx\u001b[39m\u001b[39m'\u001b[39m)\n\u001b[1;32m----> <a href='vscode-notebook-cell:/c%3A/Users/Justin/Desktop/Project/college_hockey/workbook/Game_Score_Calculation_Book.ipynb#Y113sZmlsZQ%3D%3D?line=6'>7</a>\u001b[0m \u001b[39mfor\u001b[39;00m team, table \u001b[39min\u001b[39;00m team_tables_dict\u001b[39m.\u001b[39mitems():\n\u001b[0;32m      <a href='vscode-notebook-cell:/c%3A/Users/Justin/Desktop/Project/college_hockey/workbook/Game_Score_Calculation_Book.ipynb#Y113sZmlsZQ%3D%3D?line=7'>8</a>\u001b[0m     \u001b[39m# Create a new worksheet with the team name\u001b[39;00m\n\u001b[0;32m      <a href='vscode-notebook-cell:/c%3A/Users/Justin/Desktop/Project/college_hockey/workbook/Game_Score_Calculation_Book.ipynb#Y113sZmlsZQ%3D%3D?line=8'>9</a>\u001b[0m     worksheet \u001b[39m=\u001b[39m workbook\u001b[39m.\u001b[39madd_worksheet(team)\n\u001b[0;32m     <a href='vscode-notebook-cell:/c%3A/Users/Justin/Desktop/Project/college_hockey/workbook/Game_Score_Calculation_Book.ipynb#Y113sZmlsZQ%3D%3D?line=10'>11</a>\u001b[0m     \u001b[39m# Write the headers\u001b[39;00m\n",
      "\u001b[1;31mNameError\u001b[0m: name 'team_tables_dict' is not defined"
     ]
    }
   ],
   "source": [
    "# Assuming unique_teams and team_tables are lists and of the same length\n",
    "import xlsxwriter\n",
    "\n",
    "# Create a workbook and add a worksheet for each team\n",
    "workbook = xlsxwriter.Workbook('../data/Nov_2_GAME_SCORES.xlsx')\n",
    "\n",
    "for team, table in team_tables_dict.items():\n",
    "    # Create a new worksheet with the team name\n",
    "    worksheet = workbook.add_worksheet(team)\n",
    "    \n",
    "    # Write the headers\n",
    "    for col_num, column in enumerate(table.columns):\n",
    "        worksheet.write(0, col_num, column)\n",
    "    \n",
    "    # Write the data\n",
    "    for row_num, row_data in enumerate(table.values):\n",
    "        for col_num, cell_data in enumerate(row_data):\n",
    "            worksheet.write(row_num + 1, col_num, cell_data)  # +1 to skip the header\n",
    "\n",
    "workbook.close()\n",
    "\n",
    "# NOTE: The above code is structured to work with the provided mock data. Adjustments might be needed based on actual data.\n"
   ]
  },
  {
   "cell_type": "markdown",
   "metadata": {},
   "source": []
  },
  {
   "cell_type": "code",
   "execution_count": null,
   "metadata": {},
   "outputs": [],
   "source": [
    "# Save the team tables to a dictionary\n",
    "import pickle\n"
   ]
  },
  {
   "cell_type": "code",
   "execution_count": null,
   "metadata": {},
   "outputs": [],
   "source": [
    "## Blocking out the Game Score formula\n",
    "\n",
    "#### METRIC Formula\n",
    "# \n",
    "# METRIC = SCORE [ (Goals*0.75) + (Assist1*0.715) + (Assist2*0.555) ] \n",
    "#               + SHOTS [ (Shot_On_Net*0.075) + (Shots_Off_Net*0.075) - (Shots_Blocked*0.075) ]\n",
    "#               + FACEOFFS [ (Faceoff_Wins*0.01) - (Faceoff_Losses*0.01) ]\n",
    "#               + TEAM [ (Goals_For_Team*0.15) + (Goals_Against_Team*0.15) ]\n",
    "#               -  [ (Penalties_Taken * Overall_PP_Success_Rate) ]"
   ]
  },
  {
   "cell_type": "markdown",
   "metadata": {},
   "source": []
  },
  {
   "cell_type": "markdown",
   "metadata": {},
   "source": [
    "## Where to find these values in my DB\n",
    "scoring_summary\n",
    "    - Goals\n",
    "    -First Assist\n",
    "    -Second Assist\n",
    "\n",
    "player_stats\n",
    "    - Shots on Goal\n",
    "    - FOW\n",
    "    - FOL\n",
    "    - PIM \n",
    "        - (Maybe worth weighting differently based on period and time it was taken)\n",
    "        - Penalty late in a close game hurts a team more than something taken in the first perios\n",
    "        - a penalty that is taken when already short handed hurts much more than one 5-on-5\n",
    "            - I should be able to seperate out these types of occurences in the data from penalty_summary\n",
    "\n",
    "CAN'T Get Penalties Drawn from current data\n",
    "\n",
    "### Formulating the final 3 factors\n",
    "GA & GF should only use even strength goals - need to figure out how to filter those\n",
    "\n",
    "Shots blocked (overall - defensive) can be found in advanced metrics as well as SOG, Offensive shots blocked and shots missed net for each of these situations (total, close, even and PP)\n",
    "\n",
    "\n",
    "\n"
   ]
  },
  {
   "cell_type": "markdown",
   "metadata": {},
   "source": [
    "## Corsi Differnal = Corsi For - Corsi Defence\n",
    "Corsi is an advanced statistic used in the game of ice hockey to measure shot attempt differential while at even strength play. This includes shots on goal, missed shots on goal, and blocked shot attempts towards the opposition's net minus the same shot attempts directed at your own team's net.\n",
    "\n",
    "History\n",
    "The Corsi number was named by Tim Barnes, a financial analyst from Chicago working under the pseudonym Vic Ferrari. He had heard former Buffalo Sabres general manager Darcy Regier talking about shot differential on the radio, and then proceeded to develop a formula to accurately display shot differential. Ferrari originally wanted to name it the Regier number, but he didn't think it sounded right. He then considered calling it the Ruff number after former Buffalo Sabres head coach Lindy Ruff but he didn't think that was appropriate either. Ferrari ended up searching Buffalo Sabres staff, found a picture of Jim Corsi, and chose his name because he liked Corsi's mustache.[1]\n",
    "\n",
    "Formulae\n",
    "Corsi For (CF) = Shot attempts for at even strength: Shots + Blocks + Misses[2]\n",
    "Corsi Against (CA) = Shot attempts against at even strength: Shots + Blocks + Misses\n",
    "Corsi (C) = CF - CA\n",
    "Corsi For % (CF%) = CF / (CF + CA)\n",
    "Corsi For % Relative (CF% Rel) = CF% - CFOff%\n",
    "Corsi Per 60 Minutes at Even Strength (C/60) = (CF - CA) * 60 / TOI\n",
    "Relative Corsi per 60 Minutes at Even Strength (Crel/60) = CF/60 - CFoff/60 = On-Ice Corsi For / 60 Minutes - Off-Ice Corsi For / 60 Minutes"
   ]
  },
  {
   "cell_type": "code",
   "execution_count": null,
   "metadata": {},
   "outputs": [],
   "source": []
  }
 ],
 "metadata": {
  "kernelspec": {
   "display_name": "data_viz",
   "language": "python",
   "name": "python3"
  },
  "language_info": {
   "codemirror_mode": {
    "name": "ipython",
    "version": 3
   },
   "file_extension": ".py",
   "mimetype": "text/x-python",
   "name": "python",
   "nbconvert_exporter": "python",
   "pygments_lexer": "ipython3",
   "version": "3.9.18"
  }
 },
 "nbformat": 4,
 "nbformat_minor": 2
}
