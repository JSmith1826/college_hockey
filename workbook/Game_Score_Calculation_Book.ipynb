{
 "cells": [
  {
   "cell_type": "markdown",
   "metadata": {},
   "source": [
    "# Game Score Notebook"
   ]
  },
  {
   "cell_type": "markdown",
   "metadata": {},
   "source": [
    "## References and Links\n",
    "\n",
    "### All of these metrics were created and scaled to approximate a corilation to Points in a game. \n",
    "Inspired by this article I found about a metric that was developed in 2016, Dom Luszczyszyn which is intended to provide a single number that approximates a player’s performance in a given game. In that original story, he included the formula for the metric and how he arrived at it, so it’s inspired various adaptations since then.\n",
    "https://hockey-graphs.com/2016/07/13/measuring-single-game-productivity-an-introduction-to-game-score/\n",
    "\n",
    "The stats I used are goals, primary assists, secondary assists, shots on goal, blocked shots, penalty differential, faceoffs, 5-on-5 corsi differential, 5-on-5 goal differential.\n",
    "\n",
    "Player Game Score = (0.75 * G) + (0.7 * A1) + (0.55 * A2) + (0.075 * SOG) + (0.05 * BLK) + (0.15 * PD) – (0.15 * PT) + (0.01 * FOW) – (0.01 * FOL) + (0.05 * CF) – (0.05 * CA) + (0.15 * GF) – (0.15* GA)\n",
    "\n"
   ]
  },
  {
   "cell_type": "markdown",
   "metadata": {},
   "source": [
    "## Adjusted / Simplified\n",
    "- found on the blog frshice.substack.com\n",
    "- Bailey Johnson created her simplified version to work on college hockey data because not all of the factors (specifically the defensive portion of the Corsi Metric) is not track or is not available for NCAA games\n",
    "\n",
    "### Original\n",
    "For clarity’s sake, this was my original formula after removing stats I didn’t have access to from Dom’s: Player Game Score = (0.75*G)+(0.7*A1)+(0.55*A2)+(0.075*SOG)+(0.05*BLK)+(0.01*FOW)–(0.01*FOL)+(0.15*GF)–(0.15*GA)\n",
    "\n",
    "### Bailey Final\n",
    "- I also followed Shawn’s method from his NWHL game score work and used league-wide power-play percentage to weight the impact of taking a penalty.\n",
    "\n",
    "- Dom scaled his formula down 75% to make the game scores roughly equivalent to points so people would be familiar with what the game score represented, and I kept to that methodology here because I used some of the same weights he did. Also keep in mind that the goals for and goals against are just goals scored at even strength — it does not include special teams, empty-net or extra-attacker goals.\n",
    "\n",
    "Player Game Score = (G*0.75)+(A1*0.715)+(A2*0.555)+(SOG*0.075)+(BLK*0.05)+(FOW*0.01)-(FOL*0.01)+(GF*0.15)-(GA*0.15)-(PNT*0.138)\n",
    "\n",
    "### PNT*.138\n",
    "- FROM SOURCE: I took the frequency of powerplay goals to penalties, otherwise known as PP%. (https://hockey-graphs.com/2018/03/22/an-introduction-to-nwhl-game-score/)\n",
    "- this is her attempt to account for penalties - CHN NCAA stats don't include penalties drawn \n",
    "- PNT is penalties taken so I will want to grab the penalty incidents, not the minutes. \n",
    "- The 0.138 factor come from the league's power play percentage \n",
    "    - Want to use a static figure like overall average PP % for entire NCAA \n",
    "        - could update it to be dynamic and create a new average every time the data is called\n",
    "\n",
    "        - IDEA: Could create a custom factor for each team in each game \n",
    "            - teams power play effectiveness can vary greatly, as can a teams PK%\n",
    "            - Take the each teams previous success on PP or even on both PP and PK\n",
    "            - Compare to NCAA wide average\n",
    "            - get a factor that could be used and could scale the danger of taking a penalty based on how good the opponent is on PP or how poor your team is on PP\n"
   ]
  },
  {
   "cell_type": "code",
   "execution_count": 134,
   "metadata": {},
   "outputs": [],
   "source": [
    "## Blocking out the Game Score formula\n",
    "\n",
    "#### METRIC Formula\n",
    "# \n",
    "# METRIC = SCORE [ (Goals*0.75) + (Assist1*0.715) + (Assist2*0.555) ] \n",
    "#               + SHOTS [ (Shot_On_Net*0.075) + (Shots_Off_Net*0.075) - (Shots_Blocked*0.075) ]\n",
    "#               + FACEOFFS [ (Faceoff_Wins*0.01) - (Faceoff_Losses*0.01) ]\n",
    "#               + TEAM [ (Goals_For_Team*0.15) + (Goals_Against_Team*0.15) ]\n",
    "#               -  [ (Penalties_Taken * Overall_PP_Success_Rate) ]"
   ]
  },
  {
   "cell_type": "markdown",
   "metadata": {},
   "source": [
    "# Map to each factor in the Game_Stats Database\n",
    "\n",
    "## Calculating a Game Score for each player on each team for each game\n",
    "Each Game has a unique Game_ID column in every relevant table\n",
    "\n",
    "scoring_summary table\n",
    "    Goals - in scoring_summary - count of player's name in Player Column\n",
    "    Assist1 - scoring_summary - Count in Assist1\n",
    "    Assist2 - scoring_summary - Count in Assist2\n",
    "\n",
    "\n",
    "abdvanced_metrics_combined table\n",
    "    Shots_On_Net -  - EVEN_Saved + EVEN_Goals\n",
    "    Shots_Off_Net = EVENE_Miss\n",
    "    Shots_Blocked = EVEN_Block\n",
    "\n",
    "    Defensive_Blocks = D_Blocks\n",
    "\n",
    "player_stats\n",
    "    Faceoff_Wins = FO_W\n",
    "    Faceoff_Loses = FO_L\n",
    "\n",
    "### This takes into account team goals for and goals against but only counts Even strength goals in close games (+/- 1)\n",
    "- can get it from the advanced metrics combined\n",
    "\n",
    "advanced_metrics_\n",
    "    Goals_For_Team = SUM of CLOSE_Goals grouped by Team -NOTE\n",
    "#### NOTE- need to filter out any rows in the advanced_metrics_combined with player = 'TOTAL'\n",
    "    Goals_Against_Team - do the same but for the opposing team - if Game_ID matches and Team =/= the player's team\n",
    "\n",
    "penalty_summary\n",
    "    Penalties_Taken = Count of Player's name in \n",
    "\n"
   ]
  },
  {
   "cell_type": "code",
   "execution_count": 135,
   "metadata": {},
   "outputs": [],
   "source": [
    "\n",
    "import sqlite3\n",
    "import pandas as pd\n",
    "import numpy as np\n",
    "\n",
    "import sqlite3\n",
    "###########################\n",
    "##   CURRENT SEASON - 2023 ###\n",
    "\n",
    "# db_path ='../data/2023_YTD_Game_Stats.db'\n",
    "\n",
    "\n",
    "##############################\n",
    "##   SET SEASON TO PULL   ###`\n",
    "# \n",
    "db_path ='../data/db/2022_Game_stats_Cleaned.db'\n",
    "#\n",
    "##############################\n",
    "\n",
    "conn = sqlite3.connect(db_path)\n",
    "\n",
    "# Connect to the provided database\n",
    "\n",
    "cursor = conn.cursor()\n",
    "\n",
    "# Retrieve the list of tables in the database\n",
    "tables = cursor.execute(\"SELECT name FROM sqlite_master WHERE type='table';\").fetchall()\n",
    "tables = [table[0] for table in tables]\n",
    "\n",
    "# Retrieve the columns from each table to get a better understanding of the data structure\n",
    "table_columns = {}\n",
    "for table in tables:\n",
    "    columns = cursor.execute(f\"PRAGMA table_info({table});\").fetchall()\n",
    "    table_columns[table] = [column[1] for column in columns]\n",
    "\n",
    "# table_columns\n",
    "\n",
    "\n",
    "# Create an empty dataframe to store the data\n",
    "compiled_df = pd.DataFrame()"
   ]
  },
  {
   "cell_type": "code",
   "execution_count": null,
   "metadata": {},
   "outputs": [],
   "source": []
  },
  {
   "cell_type": "markdown",
   "metadata": {},
   "source": [
    "## Get Shot Data"
   ]
  },
  {
   "cell_type": "code",
   "execution_count": 136,
   "metadata": {},
   "outputs": [
    {
     "data": {
      "text/html": [
       "<div>\n",
       "<style scoped>\n",
       "    .dataframe tbody tr th:only-of-type {\n",
       "        vertical-align: middle;\n",
       "    }\n",
       "\n",
       "    .dataframe tbody tr th {\n",
       "        vertical-align: top;\n",
       "    }\n",
       "\n",
       "    .dataframe thead th {\n",
       "        text-align: right;\n",
       "    }\n",
       "</style>\n",
       "<table border=\"1\" class=\"dataframe\">\n",
       "  <thead>\n",
       "    <tr style=\"text-align: right;\">\n",
       "      <th></th>\n",
       "      <th>Player</th>\n",
       "      <th>Team</th>\n",
       "      <th>Shots_On_Net</th>\n",
       "      <th>Shots_Off_Net</th>\n",
       "      <th>Shots_Blocked</th>\n",
       "      <th>Defensive_Blocks</th>\n",
       "      <th>Game_ID</th>\n",
       "    </tr>\n",
       "  </thead>\n",
       "  <tbody>\n",
       "    <tr>\n",
       "      <th>0</th>\n",
       "      <td>Bradley Marek</td>\n",
       "      <td>Ferris State</td>\n",
       "      <td>1</td>\n",
       "      <td>1</td>\n",
       "      <td>4</td>\n",
       "      <td>3</td>\n",
       "      <td>2022-10-01-Ferris State-Miami</td>\n",
       "    </tr>\n",
       "    <tr>\n",
       "      <th>1</th>\n",
       "      <td>Ben Schultheis</td>\n",
       "      <td>Ferris State</td>\n",
       "      <td>1</td>\n",
       "      <td>2</td>\n",
       "      <td>2</td>\n",
       "      <td>1</td>\n",
       "      <td>2022-10-01-Ferris State-Miami</td>\n",
       "    </tr>\n",
       "    <tr>\n",
       "      <th>2</th>\n",
       "      <td>Connor McGrath</td>\n",
       "      <td>Ferris State</td>\n",
       "      <td>1</td>\n",
       "      <td>0</td>\n",
       "      <td>3</td>\n",
       "      <td>3</td>\n",
       "      <td>2022-10-01-Ferris State-Miami</td>\n",
       "    </tr>\n",
       "    <tr>\n",
       "      <th>3</th>\n",
       "      <td>Stepan Pokorny</td>\n",
       "      <td>Ferris State</td>\n",
       "      <td>3</td>\n",
       "      <td>0</td>\n",
       "      <td>1</td>\n",
       "      <td>0</td>\n",
       "      <td>2022-10-01-Ferris State-Miami</td>\n",
       "    </tr>\n",
       "    <tr>\n",
       "      <th>4</th>\n",
       "      <td>Drew Cooper</td>\n",
       "      <td>Ferris State</td>\n",
       "      <td>1</td>\n",
       "      <td>0</td>\n",
       "      <td>2</td>\n",
       "      <td>4</td>\n",
       "      <td>2022-10-01-Ferris State-Miami</td>\n",
       "    </tr>\n",
       "    <tr>\n",
       "      <th>5</th>\n",
       "      <td>Mitch Deelstra</td>\n",
       "      <td>Ferris State</td>\n",
       "      <td>3</td>\n",
       "      <td>1</td>\n",
       "      <td>0</td>\n",
       "      <td>0</td>\n",
       "      <td>2022-10-01-Ferris State-Miami</td>\n",
       "    </tr>\n",
       "    <tr>\n",
       "      <th>6</th>\n",
       "      <td>Jacob Dirks</td>\n",
       "      <td>Ferris State</td>\n",
       "      <td>2</td>\n",
       "      <td>1</td>\n",
       "      <td>0</td>\n",
       "      <td>2</td>\n",
       "      <td>2022-10-01-Ferris State-Miami</td>\n",
       "    </tr>\n",
       "    <tr>\n",
       "      <th>7</th>\n",
       "      <td>Jason Brancheau</td>\n",
       "      <td>Ferris State</td>\n",
       "      <td>1</td>\n",
       "      <td>0</td>\n",
       "      <td>0</td>\n",
       "      <td>3</td>\n",
       "      <td>2022-10-01-Ferris State-Miami</td>\n",
       "    </tr>\n",
       "    <tr>\n",
       "      <th>8</th>\n",
       "      <td>Matt Slick</td>\n",
       "      <td>Ferris State</td>\n",
       "      <td>1</td>\n",
       "      <td>1</td>\n",
       "      <td>0</td>\n",
       "      <td>3</td>\n",
       "      <td>2022-10-01-Ferris State-Miami</td>\n",
       "    </tr>\n",
       "    <tr>\n",
       "      <th>9</th>\n",
       "      <td>Brenden MacLaren</td>\n",
       "      <td>Ferris State</td>\n",
       "      <td>0</td>\n",
       "      <td>0</td>\n",
       "      <td>0</td>\n",
       "      <td>1</td>\n",
       "      <td>2022-10-01-Ferris State-Miami</td>\n",
       "    </tr>\n",
       "    <tr>\n",
       "      <th>10</th>\n",
       "      <td>Kaleb Ergang</td>\n",
       "      <td>Ferris State</td>\n",
       "      <td>1</td>\n",
       "      <td>0</td>\n",
       "      <td>1</td>\n",
       "      <td>0</td>\n",
       "      <td>2022-10-01-Ferris State-Miami</td>\n",
       "    </tr>\n",
       "    <tr>\n",
       "      <th>11</th>\n",
       "      <td>Zach Faremouth</td>\n",
       "      <td>Ferris State</td>\n",
       "      <td>0</td>\n",
       "      <td>0</td>\n",
       "      <td>1</td>\n",
       "      <td>0</td>\n",
       "      <td>2022-10-01-Ferris State-Miami</td>\n",
       "    </tr>\n",
       "    <tr>\n",
       "      <th>12</th>\n",
       "      <td>Blake Evennou</td>\n",
       "      <td>Ferris State</td>\n",
       "      <td>0</td>\n",
       "      <td>0</td>\n",
       "      <td>1</td>\n",
       "      <td>4</td>\n",
       "      <td>2022-10-01-Ferris State-Miami</td>\n",
       "    </tr>\n",
       "    <tr>\n",
       "      <th>13</th>\n",
       "      <td>Brenden Rons</td>\n",
       "      <td>Ferris State</td>\n",
       "      <td>0</td>\n",
       "      <td>0</td>\n",
       "      <td>1</td>\n",
       "      <td>4</td>\n",
       "      <td>2022-10-01-Ferris State-Miami</td>\n",
       "    </tr>\n",
       "    <tr>\n",
       "      <th>14</th>\n",
       "      <td>Tyler Schleppe</td>\n",
       "      <td>Ferris State</td>\n",
       "      <td>1</td>\n",
       "      <td>0</td>\n",
       "      <td>0</td>\n",
       "      <td>2</td>\n",
       "      <td>2022-10-01-Ferris State-Miami</td>\n",
       "    </tr>\n",
       "    <tr>\n",
       "      <th>15</th>\n",
       "      <td>Dallas Tulik</td>\n",
       "      <td>Ferris State</td>\n",
       "      <td>0</td>\n",
       "      <td>0</td>\n",
       "      <td>1</td>\n",
       "      <td>0</td>\n",
       "      <td>2022-10-01-Ferris State-Miami</td>\n",
       "    </tr>\n",
       "    <tr>\n",
       "      <th>16</th>\n",
       "      <td>Cade Kowalski</td>\n",
       "      <td>Ferris State</td>\n",
       "      <td>0</td>\n",
       "      <td>0</td>\n",
       "      <td>0</td>\n",
       "      <td>0</td>\n",
       "      <td>2022-10-01-Ferris State-Miami</td>\n",
       "    </tr>\n",
       "    <tr>\n",
       "      <th>17</th>\n",
       "      <td>Austin McCarthy</td>\n",
       "      <td>Ferris State</td>\n",
       "      <td>0</td>\n",
       "      <td>0</td>\n",
       "      <td>0</td>\n",
       "      <td>0</td>\n",
       "      <td>2022-10-01-Ferris State-Miami</td>\n",
       "    </tr>\n",
       "    <tr>\n",
       "      <th>18</th>\n",
       "      <td>Travis Shoudy</td>\n",
       "      <td>Ferris State</td>\n",
       "      <td>0</td>\n",
       "      <td>0</td>\n",
       "      <td>0</td>\n",
       "      <td>0</td>\n",
       "      <td>2022-10-01-Ferris State-Miami</td>\n",
       "    </tr>\n",
       "    <tr>\n",
       "      <th>19</th>\n",
       "      <td>Red Savage</td>\n",
       "      <td>Miami</td>\n",
       "      <td>3</td>\n",
       "      <td>2</td>\n",
       "      <td>4</td>\n",
       "      <td>1</td>\n",
       "      <td>2022-10-01-Ferris State-Miami</td>\n",
       "    </tr>\n",
       "    <tr>\n",
       "      <th>20</th>\n",
       "      <td>PJ Fletcher</td>\n",
       "      <td>Miami</td>\n",
       "      <td>2</td>\n",
       "      <td>0</td>\n",
       "      <td>6</td>\n",
       "      <td>0</td>\n",
       "      <td>2022-10-01-Ferris State-Miami</td>\n",
       "    </tr>\n",
       "    <tr>\n",
       "      <th>21</th>\n",
       "      <td>Hampus Rydqvist</td>\n",
       "      <td>Miami</td>\n",
       "      <td>2</td>\n",
       "      <td>4</td>\n",
       "      <td>1</td>\n",
       "      <td>1</td>\n",
       "      <td>2022-10-01-Ferris State-Miami</td>\n",
       "    </tr>\n",
       "    <tr>\n",
       "      <th>22</th>\n",
       "      <td>Zane Demsey</td>\n",
       "      <td>Miami</td>\n",
       "      <td>3</td>\n",
       "      <td>1</td>\n",
       "      <td>2</td>\n",
       "      <td>3</td>\n",
       "      <td>2022-10-01-Ferris State-Miami</td>\n",
       "    </tr>\n",
       "    <tr>\n",
       "      <th>23</th>\n",
       "      <td>Ryan Savage</td>\n",
       "      <td>Miami</td>\n",
       "      <td>1</td>\n",
       "      <td>4</td>\n",
       "      <td>2</td>\n",
       "      <td>1</td>\n",
       "      <td>2022-10-01-Ferris State-Miami</td>\n",
       "    </tr>\n",
       "    <tr>\n",
       "      <th>24</th>\n",
       "      <td>Joe Cassetti</td>\n",
       "      <td>Miami</td>\n",
       "      <td>2</td>\n",
       "      <td>1</td>\n",
       "      <td>1</td>\n",
       "      <td>1</td>\n",
       "      <td>2022-10-01-Ferris State-Miami</td>\n",
       "    </tr>\n",
       "    <tr>\n",
       "      <th>25</th>\n",
       "      <td>Dylan Moulton</td>\n",
       "      <td>Miami</td>\n",
       "      <td>0</td>\n",
       "      <td>1</td>\n",
       "      <td>4</td>\n",
       "      <td>1</td>\n",
       "      <td>2022-10-01-Ferris State-Miami</td>\n",
       "    </tr>\n",
       "    <tr>\n",
       "      <th>26</th>\n",
       "      <td>Jack Clement</td>\n",
       "      <td>Miami</td>\n",
       "      <td>2</td>\n",
       "      <td>0</td>\n",
       "      <td>2</td>\n",
       "      <td>4</td>\n",
       "      <td>2022-10-01-Ferris State-Miami</td>\n",
       "    </tr>\n",
       "    <tr>\n",
       "      <th>27</th>\n",
       "      <td>Chase Pletzke</td>\n",
       "      <td>Miami</td>\n",
       "      <td>2</td>\n",
       "      <td>0</td>\n",
       "      <td>2</td>\n",
       "      <td>0</td>\n",
       "      <td>2022-10-01-Ferris State-Miami</td>\n",
       "    </tr>\n",
       "    <tr>\n",
       "      <th>28</th>\n",
       "      <td>Matthew Barbolini</td>\n",
       "      <td>Miami</td>\n",
       "      <td>3</td>\n",
       "      <td>0</td>\n",
       "      <td>0</td>\n",
       "      <td>1</td>\n",
       "      <td>2022-10-01-Ferris State-Miami</td>\n",
       "    </tr>\n",
       "    <tr>\n",
       "      <th>29</th>\n",
       "      <td>Robby Drazner</td>\n",
       "      <td>Miami</td>\n",
       "      <td>2</td>\n",
       "      <td>0</td>\n",
       "      <td>1</td>\n",
       "      <td>2</td>\n",
       "      <td>2022-10-01-Ferris State-Miami</td>\n",
       "    </tr>\n",
       "    <tr>\n",
       "      <th>30</th>\n",
       "      <td>Jack Olmstead</td>\n",
       "      <td>Miami</td>\n",
       "      <td>2</td>\n",
       "      <td>1</td>\n",
       "      <td>0</td>\n",
       "      <td>0</td>\n",
       "      <td>2022-10-01-Ferris State-Miami</td>\n",
       "    </tr>\n",
       "    <tr>\n",
       "      <th>31</th>\n",
       "      <td>Artur Turansky</td>\n",
       "      <td>Miami</td>\n",
       "      <td>0</td>\n",
       "      <td>1</td>\n",
       "      <td>1</td>\n",
       "      <td>1</td>\n",
       "      <td>2022-10-01-Ferris State-Miami</td>\n",
       "    </tr>\n",
       "    <tr>\n",
       "      <th>32</th>\n",
       "      <td>Max Dukovac</td>\n",
       "      <td>Miami</td>\n",
       "      <td>0</td>\n",
       "      <td>0</td>\n",
       "      <td>2</td>\n",
       "      <td>0</td>\n",
       "      <td>2022-10-01-Ferris State-Miami</td>\n",
       "    </tr>\n",
       "    <tr>\n",
       "      <th>33</th>\n",
       "      <td>Michael Feenstra</td>\n",
       "      <td>Miami</td>\n",
       "      <td>1</td>\n",
       "      <td>0</td>\n",
       "      <td>1</td>\n",
       "      <td>0</td>\n",
       "      <td>2022-10-01-Ferris State-Miami</td>\n",
       "    </tr>\n",
       "    <tr>\n",
       "      <th>34</th>\n",
       "      <td>William Hallén</td>\n",
       "      <td>Miami</td>\n",
       "      <td>0</td>\n",
       "      <td>0</td>\n",
       "      <td>1</td>\n",
       "      <td>1</td>\n",
       "      <td>2022-10-01-Ferris State-Miami</td>\n",
       "    </tr>\n",
       "    <tr>\n",
       "      <th>35</th>\n",
       "      <td>Nick Donato</td>\n",
       "      <td>Miami</td>\n",
       "      <td>0</td>\n",
       "      <td>1</td>\n",
       "      <td>0</td>\n",
       "      <td>0</td>\n",
       "      <td>2022-10-01-Ferris State-Miami</td>\n",
       "    </tr>\n",
       "    <tr>\n",
       "      <th>36</th>\n",
       "      <td>Blake Mesenburg</td>\n",
       "      <td>Miami</td>\n",
       "      <td>0</td>\n",
       "      <td>0</td>\n",
       "      <td>0</td>\n",
       "      <td>0</td>\n",
       "      <td>2022-10-01-Ferris State-Miami</td>\n",
       "    </tr>\n",
       "    <tr>\n",
       "      <th>37</th>\n",
       "      <td>Brian Silver</td>\n",
       "      <td>Miami</td>\n",
       "      <td>0</td>\n",
       "      <td>0</td>\n",
       "      <td>0</td>\n",
       "      <td>0</td>\n",
       "      <td>2022-10-01-Ferris State-Miami</td>\n",
       "    </tr>\n",
       "    <tr>\n",
       "      <th>38</th>\n",
       "      <td>Tucker McIntosh</td>\n",
       "      <td>St. Lawrence</td>\n",
       "      <td>2</td>\n",
       "      <td>2</td>\n",
       "      <td>3</td>\n",
       "      <td>1</td>\n",
       "      <td>2022-10-01-St. Lawrence-Mass.-Lowell</td>\n",
       "    </tr>\n",
       "    <tr>\n",
       "      <th>39</th>\n",
       "      <td>Justin Paul</td>\n",
       "      <td>St. Lawrence</td>\n",
       "      <td>2</td>\n",
       "      <td>0</td>\n",
       "      <td>2</td>\n",
       "      <td>1</td>\n",
       "      <td>2022-10-01-St. Lawrence-Mass.-Lowell</td>\n",
       "    </tr>\n",
       "    <tr>\n",
       "      <th>40</th>\n",
       "      <td>Max Dorrington</td>\n",
       "      <td>St. Lawrence</td>\n",
       "      <td>2</td>\n",
       "      <td>2</td>\n",
       "      <td>0</td>\n",
       "      <td>2</td>\n",
       "      <td>2022-10-01-St. Lawrence-Mass.-Lowell</td>\n",
       "    </tr>\n",
       "    <tr>\n",
       "      <th>41</th>\n",
       "      <td>Tim Makowski</td>\n",
       "      <td>St. Lawrence</td>\n",
       "      <td>3</td>\n",
       "      <td>0</td>\n",
       "      <td>1</td>\n",
       "      <td>1</td>\n",
       "      <td>2022-10-01-St. Lawrence-Mass.-Lowell</td>\n",
       "    </tr>\n",
       "    <tr>\n",
       "      <th>42</th>\n",
       "      <td>Luc Salem</td>\n",
       "      <td>St. Lawrence</td>\n",
       "      <td>0</td>\n",
       "      <td>0</td>\n",
       "      <td>3</td>\n",
       "      <td>0</td>\n",
       "      <td>2022-10-01-St. Lawrence-Mass.-Lowell</td>\n",
       "    </tr>\n",
       "    <tr>\n",
       "      <th>43</th>\n",
       "      <td>Drake Burgin</td>\n",
       "      <td>St. Lawrence</td>\n",
       "      <td>0</td>\n",
       "      <td>2</td>\n",
       "      <td>1</td>\n",
       "      <td>0</td>\n",
       "      <td>2022-10-01-St. Lawrence-Mass.-Lowell</td>\n",
       "    </tr>\n",
       "    <tr>\n",
       "      <th>44</th>\n",
       "      <td>Tomáš Mazura</td>\n",
       "      <td>St. Lawrence</td>\n",
       "      <td>0</td>\n",
       "      <td>2</td>\n",
       "      <td>1</td>\n",
       "      <td>0</td>\n",
       "      <td>2022-10-01-St. Lawrence-Mass.-Lowell</td>\n",
       "    </tr>\n",
       "  </tbody>\n",
       "</table>\n",
       "</div>"
      ],
      "text/plain": [
       "               Player          Team  Shots_On_Net  Shots_Off_Net  \\\n",
       "0       Bradley Marek  Ferris State             1              1   \n",
       "1      Ben Schultheis  Ferris State             1              2   \n",
       "2      Connor McGrath  Ferris State             1              0   \n",
       "3      Stepan Pokorny  Ferris State             3              0   \n",
       "4         Drew Cooper  Ferris State             1              0   \n",
       "5      Mitch Deelstra  Ferris State             3              1   \n",
       "6         Jacob Dirks  Ferris State             2              1   \n",
       "7     Jason Brancheau  Ferris State             1              0   \n",
       "8          Matt Slick  Ferris State             1              1   \n",
       "9    Brenden MacLaren  Ferris State             0              0   \n",
       "10       Kaleb Ergang  Ferris State             1              0   \n",
       "11     Zach Faremouth  Ferris State             0              0   \n",
       "12      Blake Evennou  Ferris State             0              0   \n",
       "13       Brenden Rons  Ferris State             0              0   \n",
       "14     Tyler Schleppe  Ferris State             1              0   \n",
       "15       Dallas Tulik  Ferris State             0              0   \n",
       "16      Cade Kowalski  Ferris State             0              0   \n",
       "17    Austin McCarthy  Ferris State             0              0   \n",
       "18      Travis Shoudy  Ferris State             0              0   \n",
       "19         Red Savage         Miami             3              2   \n",
       "20        PJ Fletcher         Miami             2              0   \n",
       "21    Hampus Rydqvist         Miami             2              4   \n",
       "22        Zane Demsey         Miami             3              1   \n",
       "23        Ryan Savage         Miami             1              4   \n",
       "24       Joe Cassetti         Miami             2              1   \n",
       "25      Dylan Moulton         Miami             0              1   \n",
       "26       Jack Clement         Miami             2              0   \n",
       "27      Chase Pletzke         Miami             2              0   \n",
       "28  Matthew Barbolini         Miami             3              0   \n",
       "29      Robby Drazner         Miami             2              0   \n",
       "30      Jack Olmstead         Miami             2              1   \n",
       "31     Artur Turansky         Miami             0              1   \n",
       "32        Max Dukovac         Miami             0              0   \n",
       "33   Michael Feenstra         Miami             1              0   \n",
       "34     William Hallén         Miami             0              0   \n",
       "35        Nick Donato         Miami             0              1   \n",
       "36    Blake Mesenburg         Miami             0              0   \n",
       "37       Brian Silver         Miami             0              0   \n",
       "38    Tucker McIntosh  St. Lawrence             2              2   \n",
       "39        Justin Paul  St. Lawrence             2              0   \n",
       "40     Max Dorrington  St. Lawrence             2              2   \n",
       "41       Tim Makowski  St. Lawrence             3              0   \n",
       "42          Luc Salem  St. Lawrence             0              0   \n",
       "43       Drake Burgin  St. Lawrence             0              2   \n",
       "44       Tomáš Mazura  St. Lawrence             0              2   \n",
       "\n",
       "    Shots_Blocked  Defensive_Blocks                               Game_ID  \n",
       "0               4                 3         2022-10-01-Ferris State-Miami  \n",
       "1               2                 1         2022-10-01-Ferris State-Miami  \n",
       "2               3                 3         2022-10-01-Ferris State-Miami  \n",
       "3               1                 0         2022-10-01-Ferris State-Miami  \n",
       "4               2                 4         2022-10-01-Ferris State-Miami  \n",
       "5               0                 0         2022-10-01-Ferris State-Miami  \n",
       "6               0                 2         2022-10-01-Ferris State-Miami  \n",
       "7               0                 3         2022-10-01-Ferris State-Miami  \n",
       "8               0                 3         2022-10-01-Ferris State-Miami  \n",
       "9               0                 1         2022-10-01-Ferris State-Miami  \n",
       "10              1                 0         2022-10-01-Ferris State-Miami  \n",
       "11              1                 0         2022-10-01-Ferris State-Miami  \n",
       "12              1                 4         2022-10-01-Ferris State-Miami  \n",
       "13              1                 4         2022-10-01-Ferris State-Miami  \n",
       "14              0                 2         2022-10-01-Ferris State-Miami  \n",
       "15              1                 0         2022-10-01-Ferris State-Miami  \n",
       "16              0                 0         2022-10-01-Ferris State-Miami  \n",
       "17              0                 0         2022-10-01-Ferris State-Miami  \n",
       "18              0                 0         2022-10-01-Ferris State-Miami  \n",
       "19              4                 1         2022-10-01-Ferris State-Miami  \n",
       "20              6                 0         2022-10-01-Ferris State-Miami  \n",
       "21              1                 1         2022-10-01-Ferris State-Miami  \n",
       "22              2                 3         2022-10-01-Ferris State-Miami  \n",
       "23              2                 1         2022-10-01-Ferris State-Miami  \n",
       "24              1                 1         2022-10-01-Ferris State-Miami  \n",
       "25              4                 1         2022-10-01-Ferris State-Miami  \n",
       "26              2                 4         2022-10-01-Ferris State-Miami  \n",
       "27              2                 0         2022-10-01-Ferris State-Miami  \n",
       "28              0                 1         2022-10-01-Ferris State-Miami  \n",
       "29              1                 2         2022-10-01-Ferris State-Miami  \n",
       "30              0                 0         2022-10-01-Ferris State-Miami  \n",
       "31              1                 1         2022-10-01-Ferris State-Miami  \n",
       "32              2                 0         2022-10-01-Ferris State-Miami  \n",
       "33              1                 0         2022-10-01-Ferris State-Miami  \n",
       "34              1                 1         2022-10-01-Ferris State-Miami  \n",
       "35              0                 0         2022-10-01-Ferris State-Miami  \n",
       "36              0                 0         2022-10-01-Ferris State-Miami  \n",
       "37              0                 0         2022-10-01-Ferris State-Miami  \n",
       "38              3                 1  2022-10-01-St. Lawrence-Mass.-Lowell  \n",
       "39              2                 1  2022-10-01-St. Lawrence-Mass.-Lowell  \n",
       "40              0                 2  2022-10-01-St. Lawrence-Mass.-Lowell  \n",
       "41              1                 1  2022-10-01-St. Lawrence-Mass.-Lowell  \n",
       "42              3                 0  2022-10-01-St. Lawrence-Mass.-Lowell  \n",
       "43              1                 0  2022-10-01-St. Lawrence-Mass.-Lowell  \n",
       "44              1                 0  2022-10-01-St. Lawrence-Mass.-Lowell  "
      ]
     },
     "execution_count": 136,
     "metadata": {},
     "output_type": "execute_result"
    }
   ],
   "source": [
    "# Update the code to clean the 'advanced_metrics_combined' table by removing 'TOTAL' rows\n",
    "\n",
    "# Load the 'advanced_metrics_combined' table into a DataFrame excluding 'TOTAL' rows\n",
    "df_amc = pd.read_sql(\"SELECT * FROM advanced_metrics WHERE player != 'TOTAL'\", conn)\n",
    "\n",
    "# Convert columns to numeric for calculations (replacing empty strings with 0)\n",
    "columns_to_convert = ['EVEN_Saved', 'EVEN_Goals', 'EVEN_Miss', 'EVEN_Block', 'D_Blocks']\n",
    "for col in columns_to_convert:\n",
    "    df_amc[col] = pd.to_numeric(df_amc[col].replace('', '0'))\n",
    "\n",
    "# Calculate required columns\n",
    "df_amc['Shots_On_Net'] = df_amc['EVEN_Saved'] + df_amc['EVEN_Goals']\n",
    "df_amc['Shots_Off_Net'] = df_amc['EVEN_Miss']\n",
    "df_amc['Shots_Blocked'] = df_amc['EVEN_Block']\n",
    "df_amc['Defensive_Blocks'] = df_amc['D_Blocks']\n",
    "\n",
    "# Create a DataFrame with only the desired columns\n",
    "# shots_df = df_amc[['Player', 'Team', 'Shots_On_Net', 'Shots_Off_Net', 'Shots_Blocked', 'Defensive_Blocks', 'Game_ID']]\n",
    "\n",
    "# Create a DataFrame with only the desired columns - LEAVE OFF TEAM AND TRY TO ADD IT LATER\n",
    "shots_df = df_amc[['Player', 'Team', 'Shots_On_Net', 'Shots_Off_Net', 'Shots_Blocked', 'Defensive_Blocks', 'Game_ID']]\n",
    "\n",
    "# Display the column names of the shots_df\n",
    "shots_df.columns\n",
    "\n",
    "shots_df.head(25)\n",
    "\n",
    "# Merge into the compiled_df\n",
    "compiled_df = shots_df.copy()\n",
    "\n",
    "# # Team Name Split\n",
    "# team_name_split = compiled_df['Game_ID'].str.split('-').str[-2:]\n",
    "# compiled_df['Temp_Team_1'] = team_name_split.str[0]\n",
    "# compiled_df['Temp_Team_2'] = team_name_split.str[1]\n",
    "\n",
    "# # If Home/Away is Away Then Team is Temp_Team_1\n",
    "# # If Home/Away is Home Then Team is Temp_Team_2\n",
    "# compiled_df['Team'] = np.where(compiled_df['Home/Away'] == 'Away', compiled_df['Temp_Team_1'], compiled_df['Temp_Team_2'])\n",
    "\n",
    "# # Drop Temp Columns\n",
    "# compiled_df.drop(['Temp_Team_1', 'Temp_Team_2'], axis=1, inplace=True)\n",
    "\n",
    "\n",
    "compiled_df.head(45)\n",
    "\n",
    "## Output a CSV of the compiled_df for manual check\n",
    "# compiled_df.to_csv('../TEMP/compiled_df_1.csv', index=False)\n"
   ]
  },
  {
   "cell_type": "markdown",
   "metadata": {},
   "source": [
    "# Use Master_Roster To Get Player to Team Mapping"
   ]
  },
  {
   "cell_type": "code",
   "execution_count": 137,
   "metadata": {},
   "outputs": [],
   "source": [
    "# ## See column names from master_roster table\n",
    "# cursor.execute(\"SELECT * FROM master_roster\")\n",
    "# col_names = [description[0] for description in cursor.description]\n",
    "# col_names"
   ]
  },
  {
   "cell_type": "code",
   "execution_count": 138,
   "metadata": {},
   "outputs": [],
   "source": [
    "# # Extracting all the player names from the master_roster table\n",
    "# all_player_names_master_roster = set(pd.read_sql(\"SELECT Clean_Name FROM master_roster\", conn)['Clean_Name'])\n",
    "\n",
    "# # Finding the intersection of player names between compiled_df and master_roster\n",
    "# common_names = set(compiled_df['Player']).intersection(all_player_names_master_roster)\n",
    "\n",
    "# # Take out those annoying character if there are any\n",
    "# # Replace non-breaking spaces with regular spaces in the player names\n",
    "# compiled_df['Player'] = compiled_df['Player'].str.replace(u'\\xa0', u' ')\n",
    "\n",
    "\n",
    "# # Finding names in compiled_df that are not in master_roster\n",
    "# missing_names = set(compiled_df['Player']) - all_player_names_master_roster\n",
    "\n",
    "# len(common_names), len(missing_names), list(missing_names)[:10]  # Displaying the first 10 missing names\n"
   ]
  },
  {
   "cell_type": "code",
   "execution_count": 139,
   "metadata": {},
   "outputs": [],
   "source": [
    "# # Create a DataFrame with the missing names\n",
    "# missing_names_df = compiled_df[compiled_df['Player'].isin(missing_names)]\n",
    "\n",
    "# missing_names_df.head(25)\n",
    "\n",
    "# ## unique Game_IDs in the missing_names_df\n",
    "# missing_names_df['Game_ID'].nunique()"
   ]
  },
  {
   "cell_type": "code",
   "execution_count": null,
   "metadata": {},
   "outputs": [],
   "source": []
  },
  {
   "cell_type": "code",
   "execution_count": 140,
   "metadata": {},
   "outputs": [
    {
     "data": {
      "text/plain": [
       "0"
      ]
     },
     "execution_count": 140,
     "metadata": {},
     "output_type": "execute_result"
    }
   ],
   "source": [
    "## How many Nan Values are there in the Team Column?\n",
    "compiled_df['Team'].isna().sum()\n",
    "\n",
    "# Value Count of the Team Column\n",
    "# compiled_df['Team'].value_counts()"
   ]
  },
  {
   "cell_type": "markdown",
   "metadata": {},
   "source": [
    "# Get Goal, Assist1 and Assist2\n",
    "- Working"
   ]
  },
  {
   "cell_type": "code",
   "execution_count": 141,
   "metadata": {},
   "outputs": [
    {
     "name": "stdout",
     "output_type": "stream",
     "text": [
      "<class 'pandas.core.frame.DataFrame'>\n",
      "RangeIndex: 41795 entries, 0 to 41794\n",
      "Data columns (total 7 columns):\n",
      " #   Column            Non-Null Count  Dtype \n",
      "---  ------            --------------  ----- \n",
      " 0   Player            41795 non-null  object\n",
      " 1   Team              41795 non-null  object\n",
      " 2   Shots_On_Net      41795 non-null  int64 \n",
      " 3   Shots_Off_Net     41795 non-null  int64 \n",
      " 4   Shots_Blocked     41795 non-null  int64 \n",
      " 5   Defensive_Blocks  41795 non-null  int64 \n",
      " 6   Game_ID           41795 non-null  object\n",
      "dtypes: int64(4), object(3)\n",
      "memory usage: 2.2+ MB\n"
     ]
    }
   ],
   "source": [
    "# Separately calculate Goals, Assist1, and Assist2\n",
    "\n",
    "# Goals\n",
    "goals_df = pd.read_sql(\"\"\"\n",
    "SELECT \n",
    "    Player,\n",
    "    Game_ID,\n",
    "    COUNT(Player) AS Goals\n",
    "FROM \n",
    "    scoring_summary\n",
    "GROUP BY \n",
    "    Player, Game_ID;\n",
    "\"\"\", conn)\n",
    "\n",
    "# Assist1\n",
    "assist1_df = pd.read_sql(\"\"\"\n",
    "SELECT \n",
    "    Assist1 AS Player,\n",
    "    Game_ID,\n",
    "    COUNT(Assist1) AS Assist1\n",
    "FROM \n",
    "    scoring_summary\n",
    "WHERE \n",
    "    Assist1 IS NOT NULL AND Assist1 != ''\n",
    "GROUP BY \n",
    "    Assist1, Game_ID;\n",
    "\"\"\", conn)\n",
    "\n",
    "# Assist2\n",
    "assist2_df = pd.read_sql(\"\"\"\n",
    "SELECT \n",
    "    Assist2 AS Player,\n",
    "    Game_ID,\n",
    "    COUNT(Assist2) AS Assist2\n",
    "FROM \n",
    "    scoring_summary\n",
    "WHERE \n",
    "    Assist2 IS NOT NULL AND Assist2 != ''\n",
    "GROUP BY \n",
    "    Assist2, Game_ID;\n",
    "\"\"\", conn)\n",
    "\n",
    "\n",
    "# goals_df.head(25)\n",
    "# Merge the dataframes together\n",
    "merged_df = goals_df.merge(assist1_df, on=['Player', 'Game_ID'], how='outer')\n",
    "merged_df = merged_df.merge(assist2_df, on=['Player', 'Game_ID'], how='outer')\n",
    "\n",
    "# Fill NaN values with 0\n",
    "merged_df = merged_df.fillna(0)\n",
    "\n",
    "# Convert columns to int\n",
    "merged_df['Goals'] = merged_df['Goals'].astype(int)\n",
    "merged_df['Assist1'] = merged_df['Assist1'].astype(int)\n",
    "merged_df['Assist2'] = merged_df['Assist2'].astype(int)\n",
    "\n",
    "# # Sort by Player\n",
    "goal_assist_df = merged_df.sort_values(by=['Player'])\n",
    "\n",
    "# # Display the first few rows\n",
    "goal_assist_df.head(20)\n",
    "\n",
    "\n",
    "\n",
    "# # Merge the Goal and Assist info into the compiled_df join left\n",
    "# compiled_df = pd.merge(compiled_df, goal_assist_df, on=['Player', 'Game_ID'], how='outer')\n",
    "\n",
    "\n",
    "compiled_df.sample(10)\n",
    "compiled_df.info()\n",
    "\n",
    "\n",
    "\n",
    "# # Histogram of the compiled_df\n",
    "# compiled_df.hist()\n",
    "\n",
    "compiled_df.to_csv('../TEMP/compiled_df_2.csv', index=False)"
   ]
  },
  {
   "cell_type": "code",
   "execution_count": 142,
   "metadata": {},
   "outputs": [
    {
     "data": {
      "text/plain": [
       "0"
      ]
     },
     "execution_count": 142,
     "metadata": {},
     "output_type": "execute_result"
    }
   ],
   "source": [
    "## Value count of Teams\n",
    "compiled_df['Team'].value_counts()\n",
    "\n",
    "# How many Nan Values are there in the Team Column?\n",
    "compiled_df['Team'].isna().sum()"
   ]
  },
  {
   "cell_type": "code",
   "execution_count": 143,
   "metadata": {},
   "outputs": [
    {
     "name": "stdout",
     "output_type": "stream",
     "text": [
      "<class 'pandas.core.frame.DataFrame'>\n",
      "RangeIndex: 41795 entries, 0 to 41794\n",
      "Data columns (total 10 columns):\n",
      " #   Column            Non-Null Count  Dtype \n",
      "---  ------            --------------  ----- \n",
      " 0   Player            41795 non-null  object\n",
      " 1   Team              41795 non-null  object\n",
      " 2   Shots_On_Net      41795 non-null  int64 \n",
      " 3   Shots_Off_Net     41795 non-null  int64 \n",
      " 4   Shots_Blocked     41795 non-null  int64 \n",
      " 5   Defensive_Blocks  41795 non-null  int64 \n",
      " 6   Game_ID           41795 non-null  object\n",
      " 7   Goals             41795 non-null  int32 \n",
      " 8   Assist1           41795 non-null  int32 \n",
      " 9   Assist2           41795 non-null  int32 \n",
      "dtypes: int32(3), int64(4), object(3)\n",
      "memory usage: 2.7+ MB\n"
     ]
    }
   ],
   "source": [
    "# Replace non-breaking spaces with regular spaces in the Player column of compiled_df\n",
    "compiled_df['Player'] = compiled_df['Player'].str.replace('\\xa0', ' ')\n",
    "\n",
    "# Merge the dataframes again\n",
    "new_merged_df = pd.merge(compiled_df, goal_assist_df, on=['Player', 'Game_ID'], how='left')\n",
    "\n",
    "# Fill NaN values with 0 for the Goals, Assist1, and Assist2 columns\n",
    "new_merged_df[['Goals', 'Assist1', 'Assist2']] = new_merged_df[['Goals', 'Assist1', 'Assist2']].fillna(0).astype(int)\n",
    "\n",
    "# Display the first few rows of the merged dataframe\n",
    "merged_df.head()\n",
    "\n",
    "new_merged_df.info()\n",
    "\n",
    "# RENAME BACK TO COMPILED_DF FOR USE LATER\n",
    "compiled_df = new_merged_df.copy()\n",
    "\n",
    "# compiled_df.to_csv('../TEMP/compiled_df_3.csv', index=False)"
   ]
  },
  {
   "cell_type": "code",
   "execution_count": 144,
   "metadata": {},
   "outputs": [
    {
     "data": {
      "text/html": [
       "<div>\n",
       "<style scoped>\n",
       "    .dataframe tbody tr th:only-of-type {\n",
       "        vertical-align: middle;\n",
       "    }\n",
       "\n",
       "    .dataframe tbody tr th {\n",
       "        vertical-align: top;\n",
       "    }\n",
       "\n",
       "    .dataframe thead th {\n",
       "        text-align: right;\n",
       "    }\n",
       "</style>\n",
       "<table border=\"1\" class=\"dataframe\">\n",
       "  <thead>\n",
       "    <tr style=\"text-align: right;\">\n",
       "      <th></th>\n",
       "      <th>Player</th>\n",
       "      <th>Team</th>\n",
       "      <th>Shots_On_Net</th>\n",
       "      <th>Shots_Off_Net</th>\n",
       "      <th>Shots_Blocked</th>\n",
       "      <th>Defensive_Blocks</th>\n",
       "      <th>Game_ID</th>\n",
       "      <th>Goals</th>\n",
       "      <th>Assist1</th>\n",
       "      <th>Assist2</th>\n",
       "    </tr>\n",
       "  </thead>\n",
       "  <tbody>\n",
       "    <tr>\n",
       "      <th>0</th>\n",
       "      <td>Bradley Marek</td>\n",
       "      <td>Ferris State</td>\n",
       "      <td>1</td>\n",
       "      <td>1</td>\n",
       "      <td>4</td>\n",
       "      <td>3</td>\n",
       "      <td>2022-10-01-Ferris State-Miami</td>\n",
       "      <td>0</td>\n",
       "      <td>0</td>\n",
       "      <td>1</td>\n",
       "    </tr>\n",
       "    <tr>\n",
       "      <th>1</th>\n",
       "      <td>Ben Schultheis</td>\n",
       "      <td>Ferris State</td>\n",
       "      <td>1</td>\n",
       "      <td>2</td>\n",
       "      <td>2</td>\n",
       "      <td>1</td>\n",
       "      <td>2022-10-01-Ferris State-Miami</td>\n",
       "      <td>0</td>\n",
       "      <td>0</td>\n",
       "      <td>0</td>\n",
       "    </tr>\n",
       "    <tr>\n",
       "      <th>2</th>\n",
       "      <td>Connor McGrath</td>\n",
       "      <td>Ferris State</td>\n",
       "      <td>1</td>\n",
       "      <td>0</td>\n",
       "      <td>3</td>\n",
       "      <td>3</td>\n",
       "      <td>2022-10-01-Ferris State-Miami</td>\n",
       "      <td>0</td>\n",
       "      <td>0</td>\n",
       "      <td>0</td>\n",
       "    </tr>\n",
       "    <tr>\n",
       "      <th>3</th>\n",
       "      <td>Stepan Pokorny</td>\n",
       "      <td>Ferris State</td>\n",
       "      <td>3</td>\n",
       "      <td>0</td>\n",
       "      <td>1</td>\n",
       "      <td>0</td>\n",
       "      <td>2022-10-01-Ferris State-Miami</td>\n",
       "      <td>0</td>\n",
       "      <td>1</td>\n",
       "      <td>0</td>\n",
       "    </tr>\n",
       "    <tr>\n",
       "      <th>4</th>\n",
       "      <td>Drew Cooper</td>\n",
       "      <td>Ferris State</td>\n",
       "      <td>1</td>\n",
       "      <td>0</td>\n",
       "      <td>2</td>\n",
       "      <td>4</td>\n",
       "      <td>2022-10-01-Ferris State-Miami</td>\n",
       "      <td>0</td>\n",
       "      <td>0</td>\n",
       "      <td>0</td>\n",
       "    </tr>\n",
       "    <tr>\n",
       "      <th>5</th>\n",
       "      <td>Mitch Deelstra</td>\n",
       "      <td>Ferris State</td>\n",
       "      <td>3</td>\n",
       "      <td>1</td>\n",
       "      <td>0</td>\n",
       "      <td>0</td>\n",
       "      <td>2022-10-01-Ferris State-Miami</td>\n",
       "      <td>0</td>\n",
       "      <td>0</td>\n",
       "      <td>0</td>\n",
       "    </tr>\n",
       "    <tr>\n",
       "      <th>6</th>\n",
       "      <td>Jacob Dirks</td>\n",
       "      <td>Ferris State</td>\n",
       "      <td>2</td>\n",
       "      <td>1</td>\n",
       "      <td>0</td>\n",
       "      <td>2</td>\n",
       "      <td>2022-10-01-Ferris State-Miami</td>\n",
       "      <td>1</td>\n",
       "      <td>0</td>\n",
       "      <td>0</td>\n",
       "    </tr>\n",
       "    <tr>\n",
       "      <th>7</th>\n",
       "      <td>Jason Brancheau</td>\n",
       "      <td>Ferris State</td>\n",
       "      <td>1</td>\n",
       "      <td>0</td>\n",
       "      <td>0</td>\n",
       "      <td>3</td>\n",
       "      <td>2022-10-01-Ferris State-Miami</td>\n",
       "      <td>1</td>\n",
       "      <td>0</td>\n",
       "      <td>0</td>\n",
       "    </tr>\n",
       "    <tr>\n",
       "      <th>8</th>\n",
       "      <td>Matt Slick</td>\n",
       "      <td>Ferris State</td>\n",
       "      <td>1</td>\n",
       "      <td>1</td>\n",
       "      <td>0</td>\n",
       "      <td>3</td>\n",
       "      <td>2022-10-01-Ferris State-Miami</td>\n",
       "      <td>0</td>\n",
       "      <td>0</td>\n",
       "      <td>0</td>\n",
       "    </tr>\n",
       "    <tr>\n",
       "      <th>9</th>\n",
       "      <td>Brenden MacLaren</td>\n",
       "      <td>Ferris State</td>\n",
       "      <td>0</td>\n",
       "      <td>0</td>\n",
       "      <td>0</td>\n",
       "      <td>1</td>\n",
       "      <td>2022-10-01-Ferris State-Miami</td>\n",
       "      <td>0</td>\n",
       "      <td>1</td>\n",
       "      <td>0</td>\n",
       "    </tr>\n",
       "    <tr>\n",
       "      <th>10</th>\n",
       "      <td>Kaleb Ergang</td>\n",
       "      <td>Ferris State</td>\n",
       "      <td>1</td>\n",
       "      <td>0</td>\n",
       "      <td>1</td>\n",
       "      <td>0</td>\n",
       "      <td>2022-10-01-Ferris State-Miami</td>\n",
       "      <td>0</td>\n",
       "      <td>0</td>\n",
       "      <td>0</td>\n",
       "    </tr>\n",
       "    <tr>\n",
       "      <th>11</th>\n",
       "      <td>Zach Faremouth</td>\n",
       "      <td>Ferris State</td>\n",
       "      <td>0</td>\n",
       "      <td>0</td>\n",
       "      <td>1</td>\n",
       "      <td>0</td>\n",
       "      <td>2022-10-01-Ferris State-Miami</td>\n",
       "      <td>0</td>\n",
       "      <td>0</td>\n",
       "      <td>0</td>\n",
       "    </tr>\n",
       "    <tr>\n",
       "      <th>12</th>\n",
       "      <td>Blake Evennou</td>\n",
       "      <td>Ferris State</td>\n",
       "      <td>0</td>\n",
       "      <td>0</td>\n",
       "      <td>1</td>\n",
       "      <td>4</td>\n",
       "      <td>2022-10-01-Ferris State-Miami</td>\n",
       "      <td>0</td>\n",
       "      <td>0</td>\n",
       "      <td>0</td>\n",
       "    </tr>\n",
       "    <tr>\n",
       "      <th>13</th>\n",
       "      <td>Brenden Rons</td>\n",
       "      <td>Ferris State</td>\n",
       "      <td>0</td>\n",
       "      <td>0</td>\n",
       "      <td>1</td>\n",
       "      <td>4</td>\n",
       "      <td>2022-10-01-Ferris State-Miami</td>\n",
       "      <td>0</td>\n",
       "      <td>0</td>\n",
       "      <td>0</td>\n",
       "    </tr>\n",
       "    <tr>\n",
       "      <th>14</th>\n",
       "      <td>Tyler Schleppe</td>\n",
       "      <td>Ferris State</td>\n",
       "      <td>1</td>\n",
       "      <td>0</td>\n",
       "      <td>0</td>\n",
       "      <td>2</td>\n",
       "      <td>2022-10-01-Ferris State-Miami</td>\n",
       "      <td>0</td>\n",
       "      <td>0</td>\n",
       "      <td>1</td>\n",
       "    </tr>\n",
       "    <tr>\n",
       "      <th>15</th>\n",
       "      <td>Dallas Tulik</td>\n",
       "      <td>Ferris State</td>\n",
       "      <td>0</td>\n",
       "      <td>0</td>\n",
       "      <td>1</td>\n",
       "      <td>0</td>\n",
       "      <td>2022-10-01-Ferris State-Miami</td>\n",
       "      <td>0</td>\n",
       "      <td>0</td>\n",
       "      <td>0</td>\n",
       "    </tr>\n",
       "    <tr>\n",
       "      <th>16</th>\n",
       "      <td>Cade Kowalski</td>\n",
       "      <td>Ferris State</td>\n",
       "      <td>0</td>\n",
       "      <td>0</td>\n",
       "      <td>0</td>\n",
       "      <td>0</td>\n",
       "      <td>2022-10-01-Ferris State-Miami</td>\n",
       "      <td>0</td>\n",
       "      <td>0</td>\n",
       "      <td>0</td>\n",
       "    </tr>\n",
       "    <tr>\n",
       "      <th>17</th>\n",
       "      <td>Austin McCarthy</td>\n",
       "      <td>Ferris State</td>\n",
       "      <td>0</td>\n",
       "      <td>0</td>\n",
       "      <td>0</td>\n",
       "      <td>0</td>\n",
       "      <td>2022-10-01-Ferris State-Miami</td>\n",
       "      <td>0</td>\n",
       "      <td>0</td>\n",
       "      <td>0</td>\n",
       "    </tr>\n",
       "    <tr>\n",
       "      <th>18</th>\n",
       "      <td>Travis Shoudy</td>\n",
       "      <td>Ferris State</td>\n",
       "      <td>0</td>\n",
       "      <td>0</td>\n",
       "      <td>0</td>\n",
       "      <td>0</td>\n",
       "      <td>2022-10-01-Ferris State-Miami</td>\n",
       "      <td>0</td>\n",
       "      <td>0</td>\n",
       "      <td>0</td>\n",
       "    </tr>\n",
       "    <tr>\n",
       "      <th>19</th>\n",
       "      <td>Red Savage</td>\n",
       "      <td>Miami</td>\n",
       "      <td>3</td>\n",
       "      <td>2</td>\n",
       "      <td>4</td>\n",
       "      <td>1</td>\n",
       "      <td>2022-10-01-Ferris State-Miami</td>\n",
       "      <td>0</td>\n",
       "      <td>1</td>\n",
       "      <td>0</td>\n",
       "    </tr>\n",
       "  </tbody>\n",
       "</table>\n",
       "</div>"
      ],
      "text/plain": [
       "              Player          Team  Shots_On_Net  Shots_Off_Net  \\\n",
       "0      Bradley Marek  Ferris State             1              1   \n",
       "1     Ben Schultheis  Ferris State             1              2   \n",
       "2     Connor McGrath  Ferris State             1              0   \n",
       "3     Stepan Pokorny  Ferris State             3              0   \n",
       "4        Drew Cooper  Ferris State             1              0   \n",
       "5     Mitch Deelstra  Ferris State             3              1   \n",
       "6        Jacob Dirks  Ferris State             2              1   \n",
       "7    Jason Brancheau  Ferris State             1              0   \n",
       "8         Matt Slick  Ferris State             1              1   \n",
       "9   Brenden MacLaren  Ferris State             0              0   \n",
       "10      Kaleb Ergang  Ferris State             1              0   \n",
       "11    Zach Faremouth  Ferris State             0              0   \n",
       "12     Blake Evennou  Ferris State             0              0   \n",
       "13      Brenden Rons  Ferris State             0              0   \n",
       "14    Tyler Schleppe  Ferris State             1              0   \n",
       "15      Dallas Tulik  Ferris State             0              0   \n",
       "16     Cade Kowalski  Ferris State             0              0   \n",
       "17   Austin McCarthy  Ferris State             0              0   \n",
       "18     Travis Shoudy  Ferris State             0              0   \n",
       "19        Red Savage         Miami             3              2   \n",
       "\n",
       "    Shots_Blocked  Defensive_Blocks                        Game_ID  Goals  \\\n",
       "0               4                 3  2022-10-01-Ferris State-Miami      0   \n",
       "1               2                 1  2022-10-01-Ferris State-Miami      0   \n",
       "2               3                 3  2022-10-01-Ferris State-Miami      0   \n",
       "3               1                 0  2022-10-01-Ferris State-Miami      0   \n",
       "4               2                 4  2022-10-01-Ferris State-Miami      0   \n",
       "5               0                 0  2022-10-01-Ferris State-Miami      0   \n",
       "6               0                 2  2022-10-01-Ferris State-Miami      1   \n",
       "7               0                 3  2022-10-01-Ferris State-Miami      1   \n",
       "8               0                 3  2022-10-01-Ferris State-Miami      0   \n",
       "9               0                 1  2022-10-01-Ferris State-Miami      0   \n",
       "10              1                 0  2022-10-01-Ferris State-Miami      0   \n",
       "11              1                 0  2022-10-01-Ferris State-Miami      0   \n",
       "12              1                 4  2022-10-01-Ferris State-Miami      0   \n",
       "13              1                 4  2022-10-01-Ferris State-Miami      0   \n",
       "14              0                 2  2022-10-01-Ferris State-Miami      0   \n",
       "15              1                 0  2022-10-01-Ferris State-Miami      0   \n",
       "16              0                 0  2022-10-01-Ferris State-Miami      0   \n",
       "17              0                 0  2022-10-01-Ferris State-Miami      0   \n",
       "18              0                 0  2022-10-01-Ferris State-Miami      0   \n",
       "19              4                 1  2022-10-01-Ferris State-Miami      0   \n",
       "\n",
       "    Assist1  Assist2  \n",
       "0         0        1  \n",
       "1         0        0  \n",
       "2         0        0  \n",
       "3         1        0  \n",
       "4         0        0  \n",
       "5         0        0  \n",
       "6         0        0  \n",
       "7         0        0  \n",
       "8         0        0  \n",
       "9         1        0  \n",
       "10        0        0  \n",
       "11        0        0  \n",
       "12        0        0  \n",
       "13        0        0  \n",
       "14        0        1  \n",
       "15        0        0  \n",
       "16        0        0  \n",
       "17        0        0  \n",
       "18        0        0  \n",
       "19        1        0  "
      ]
     },
     "execution_count": 144,
     "metadata": {},
     "output_type": "execute_result"
    }
   ],
   "source": [
    "# new_merged_df['Goals'].hist()\n",
    "\n",
    "new_merged_df.head(20)\n",
    "\n",
    "compiled_df.head(20)\n",
    "# Value Counts of Teams\n",
    "# compiled_df['Team'].value_counts()\n",
    "\n",
    "# How many Nan values are in the Team column?\n",
    "# compiled_df['Team'].isna().sum()\n",
    "\n",
    "# "
   ]
  },
  {
   "cell_type": "code",
   "execution_count": 145,
   "metadata": {},
   "outputs": [],
   "source": [
    "### OUTPUT CSVS\n",
    "\n",
    "# # Save the compiled_df to a csv\n",
    "compiled_df.to_csv('../TEMP/PRELIM_compiled_df.csv', index=False)\n",
    "\n",
    "# # Save the goal_assist_df to a csv\n",
    "# goal_assist_df.to_csv('../TEMP/PRELIM_goal_assist_df.csv', index=False)"
   ]
  },
  {
   "cell_type": "code",
   "execution_count": 146,
   "metadata": {},
   "outputs": [
    {
     "name": "stdout",
     "output_type": "stream",
     "text": [
      "<class 'pandas.core.frame.DataFrame'>\n",
      "RangeIndex: 44230 entries, 0 to 44229\n",
      "Data columns (total 13 columns):\n",
      " #   Column            Non-Null Count  Dtype   \n",
      "---  ------            --------------  -----   \n",
      " 0   Player            44230 non-null  object  \n",
      " 1   Team              41795 non-null  object  \n",
      " 2   Shots_On_Net      41795 non-null  float64 \n",
      " 3   Shots_Off_Net     41795 non-null  float64 \n",
      " 4   Shots_Blocked     41795 non-null  float64 \n",
      " 5   Defensive_Blocks  41795 non-null  float64 \n",
      " 6   Game_ID           44230 non-null  object  \n",
      " 7   Goals             41795 non-null  float64 \n",
      " 8   Assist1           41795 non-null  float64 \n",
      " 9   Assist2           41795 non-null  float64 \n",
      " 10  Faceoff_Wins      12887 non-null  float64 \n",
      " 11  Faceoff_Losses    12887 non-null  float64 \n",
      " 12  _merge            44230 non-null  category\n",
      "dtypes: category(1), float64(9), object(3)\n",
      "memory usage: 4.1+ MB\n"
     ]
    },
    {
     "data": {
      "image/png": "[encoded data removed]",
      "text/plain": [
       "<Figure size 640x480 with 9 Axes>"
      ]
     },
     "metadata": {},
     "output_type": "display_data"
    }
   ],
   "source": [
    "# Calculate Faceoff Metrics for each player in each game\n",
    "\n",
    "query_faceoff_metrics = \"\"\"\n",
    "SELECT \n",
    "    Player,\n",
    "    Game_ID,\n",
    "    FOW AS Faceoff_Wins,\n",
    "    FOL AS Faceoff_Losses\n",
    "FROM \n",
    "    player_stats;\n",
    "\"\"\"\n",
    "\n",
    "# Create a DataFrame with the results\n",
    "\n",
    "\n",
    "\n",
    "faceoff_metrics_data = cursor.execute(query_faceoff_metrics).fetchall()\n",
    "\n",
    "# Preview the first few rows of the result\n",
    "faceoff_metrics_data[:5]\n",
    "\n",
    "# Create DataFrame with the results\n",
    "faceoff_metrics_df = pd.DataFrame(faceoff_metrics_data, columns=['Player', 'Game_ID', 'Faceoff_Wins', 'Faceoff_Losses'])\n",
    "\n",
    "# Take out those annoying character if there are any\n",
    "# Replace non-breaking spaces with regular spaces in the Player column of compiled_df\n",
    "faceoff_metrics_df['Player'] = faceoff_metrics_df['Player'].str.replace('\\xa0', ' ')\n",
    "\n",
    "# Replace non-breaking spaces with regular spaces in the Player column of compiled_df\n",
    "compiled_df['Team'] = compiled_df['Team'].str.replace('\\xa0', ' ')\n",
    "\n",
    "# Drop old indicator column to make way for new one\n",
    "# compiled_df = compiled_df.drop(columns=['_merge'])\n",
    "compiled_df = compiled_df.merge(faceoff_metrics_df, on=['Player', 'Game_ID'], how='outer', indicator=True)\n",
    "\n",
    "# Histogram of the compiled_df\n",
    "compiled_df.hist()\n",
    "\n",
    "compiled_df.info()\n",
    "compiled_df.head(25)\n",
    "\n",
    "# compiled_df.columns\n",
    "\n",
    "compiled_df['Team'].value_counts()\n",
    "\n",
    "compiled_df.to_csv('../TEMP/compiled_df_4.csv', index=False)\n",
    "\n",
    "# compiled_df['Team'].isna().sum()"
   ]
  },
  {
   "cell_type": "markdown",
   "metadata": {},
   "source": [
    "### Overall PP Success"
   ]
  },
  {
   "cell_type": "code",
   "execution_count": 147,
   "metadata": {},
   "outputs": [
    {
     "data": {
      "text/plain": [
       "0.2516326530612245"
      ]
     },
     "execution_count": 147,
     "metadata": {},
     "output_type": "execute_result"
    }
   ],
   "source": [
    "### Find the Overall Power Play Success rate for the entire database\n",
    "\n",
    "# Count the total number of Power Play (PP) goals from the scoring_summary table.\n",
    "pp_goals_count = cursor.execute(\"SELECT COUNT(*) FROM scoring_summary WHERE PP != '';\").fetchone()[0]\n",
    "\n",
    "# Count the total number of Power Plays from the penalty_summary table.\n",
    "total_pp_count = cursor.execute(\"SELECT COUNT(*) FROM penalty_summary;\").fetchone()[0]\n",
    "\n",
    "# Calculate the Power Play success rate.\n",
    "pp_success_rate = pp_goals_count / total_pp_count\n",
    "\n",
    "\n",
    "## OVERALL NCAA WIDE POWER PLAY SUCCESS RATE TO USE IN FACTOR\n",
    "pp_success_rate\n"
   ]
  },
  {
   "cell_type": "code",
   "execution_count": 148,
   "metadata": {},
   "outputs": [
    {
     "data": {
      "text/plain": [
       "2435"
      ]
     },
     "execution_count": 148,
     "metadata": {},
     "output_type": "execute_result"
    }
   ],
   "source": [
    "# even_strength_goals_refined_df.shape\n",
    "\n",
    "# Drop indicator column before new merge\n",
    "compiled_df = compiled_df.drop(columns=['_merge'])\n",
    "\n",
    "\n",
    "\n",
    "\n",
    "\n",
    "# # Save the compiled_df to a csv\n",
    "# compiled_df.to_csv('../TEMP/NEW_PRELIM_compiled_df.csv', index=False)\n",
    "\n",
    "compiled_df['Team'].value_counts()\n",
    "\n",
    "compiled_df['Team'].isna().sum()\n",
    "\n",
    "# compiled_df.sample(20)"
   ]
  },
  {
   "cell_type": "markdown",
   "metadata": {},
   "source": [
    "# Team Goals Component"
   ]
  },
  {
   "cell_type": "markdown",
   "metadata": {},
   "source": []
  },
  {
   "cell_type": "code",
   "execution_count": 149,
   "metadata": {},
   "outputs": [
    {
     "data": {
      "text/html": [
       "<div>\n",
       "<style scoped>\n",
       "    .dataframe tbody tr th:only-of-type {\n",
       "        vertical-align: middle;\n",
       "    }\n",
       "\n",
       "    .dataframe tbody tr th {\n",
       "        vertical-align: top;\n",
       "    }\n",
       "\n",
       "    .dataframe thead th {\n",
       "        text-align: right;\n",
       "    }\n",
       "</style>\n",
       "<table border=\"1\" class=\"dataframe\">\n",
       "  <thead>\n",
       "    <tr style=\"text-align: right;\">\n",
       "      <th></th>\n",
       "      <th>Game_ID</th>\n",
       "      <th>Team</th>\n",
       "      <th>Goals_For_Team</th>\n",
       "      <th>Goals_Against_Team</th>\n",
       "    </tr>\n",
       "  </thead>\n",
       "  <tbody>\n",
       "    <tr>\n",
       "      <th>2642</th>\n",
       "      <td>2023-02-24-Alaska-Arizona State</td>\n",
       "      <td>Alaska</td>\n",
       "      <td>1</td>\n",
       "      <td>1</td>\n",
       "    </tr>\n",
       "    <tr>\n",
       "      <th>1534</th>\n",
       "      <td>2022-12-30-Merrimack-Dartmouth</td>\n",
       "      <td>Merrimack</td>\n",
       "      <td>2</td>\n",
       "      <td>2</td>\n",
       "    </tr>\n",
       "    <tr>\n",
       "      <th>1751</th>\n",
       "      <td>2023-01-13-Mass.-Lowell-Maine</td>\n",
       "      <td>Lowell</td>\n",
       "      <td>2</td>\n",
       "      <td>1</td>\n",
       "    </tr>\n",
       "    <tr>\n",
       "      <th>2674</th>\n",
       "      <td>2023-02-24-Miami-Minnesota-Duluth</td>\n",
       "      <td>Duluth</td>\n",
       "      <td>2</td>\n",
       "      <td>3</td>\n",
       "    </tr>\n",
       "    <tr>\n",
       "      <th>1689</th>\n",
       "      <td>2023-01-07-Harvard-Quinnipiac</td>\n",
       "      <td>Harvard</td>\n",
       "      <td>1</td>\n",
       "      <td>3</td>\n",
       "    </tr>\n",
       "    <tr>\n",
       "      <th>2657</th>\n",
       "      <td>2023-02-24-Colgate-Yale</td>\n",
       "      <td>Colgate</td>\n",
       "      <td>2</td>\n",
       "      <td>2</td>\n",
       "    </tr>\n",
       "    <tr>\n",
       "      <th>382</th>\n",
       "      <td>2022-10-21-Bentley-Ohio State</td>\n",
       "      <td>Bentley</td>\n",
       "      <td>1</td>\n",
       "      <td>2</td>\n",
       "    </tr>\n",
       "    <tr>\n",
       "      <th>521</th>\n",
       "      <td>2022-10-28-Minnesota-Ohio State</td>\n",
       "      <td>Minnesota</td>\n",
       "      <td>4</td>\n",
       "      <td>5</td>\n",
       "    </tr>\n",
       "    <tr>\n",
       "      <th>900</th>\n",
       "      <td>2022-11-12-St. Thomas-Bowling Green</td>\n",
       "      <td>St. Thomas</td>\n",
       "      <td>2</td>\n",
       "      <td>2</td>\n",
       "    </tr>\n",
       "    <tr>\n",
       "      <th>3026</th>\n",
       "      <td>2023-03-11-Miami-Denver</td>\n",
       "      <td>Denver</td>\n",
       "      <td>1</td>\n",
       "      <td>5</td>\n",
       "    </tr>\n",
       "    <tr>\n",
       "      <th>445</th>\n",
       "      <td>2022-10-22-Long Island-Michigan State</td>\n",
       "      <td>Michigan State</td>\n",
       "      <td>4</td>\n",
       "      <td>3</td>\n",
       "    </tr>\n",
       "    <tr>\n",
       "      <th>549</th>\n",
       "      <td>2022-10-29-Arizona State-North Dakota</td>\n",
       "      <td>North Dakota</td>\n",
       "      <td>1</td>\n",
       "      <td>1</td>\n",
       "    </tr>\n",
       "    <tr>\n",
       "      <th>1327</th>\n",
       "      <td>2022-12-09-Alaska-Anchorage-Alaska</td>\n",
       "      <td>Anchorage</td>\n",
       "      <td>2</td>\n",
       "      <td>2</td>\n",
       "    </tr>\n",
       "    <tr>\n",
       "      <th>1345</th>\n",
       "      <td>2022-12-09-Lake Superior-Bemidji State</td>\n",
       "      <td>Lake Superior</td>\n",
       "      <td>2</td>\n",
       "      <td>1</td>\n",
       "    </tr>\n",
       "    <tr>\n",
       "      <th>202</th>\n",
       "      <td>2022-10-08-Western Michigan-Ferris State</td>\n",
       "      <td>Western Michigan</td>\n",
       "      <td>2</td>\n",
       "      <td>4</td>\n",
       "    </tr>\n",
       "    <tr>\n",
       "      <th>1296</th>\n",
       "      <td>2022-12-03-Ohio State-Penn State</td>\n",
       "      <td>Penn State</td>\n",
       "      <td>1</td>\n",
       "      <td>4</td>\n",
       "    </tr>\n",
       "    <tr>\n",
       "      <th>883</th>\n",
       "      <td>2022-11-12-New Hampshire-Vermont</td>\n",
       "      <td>New Hampshire</td>\n",
       "      <td>1</td>\n",
       "      <td>2</td>\n",
       "    </tr>\n",
       "    <tr>\n",
       "      <th>1436</th>\n",
       "      <td>2022-12-11-Boston University-Connecticut</td>\n",
       "      <td>Connecticut</td>\n",
       "      <td>1</td>\n",
       "      <td>2</td>\n",
       "    </tr>\n",
       "    <tr>\n",
       "      <th>336</th>\n",
       "      <td>2022-10-16-Boston University-Michigan</td>\n",
       "      <td>Boston University</td>\n",
       "      <td>1</td>\n",
       "      <td>1</td>\n",
       "    </tr>\n",
       "    <tr>\n",
       "      <th>2324</th>\n",
       "      <td>2023-02-09-RIT-Niagara</td>\n",
       "      <td>Niagara</td>\n",
       "      <td>2</td>\n",
       "      <td>3</td>\n",
       "    </tr>\n",
       "    <tr>\n",
       "      <th>2418</th>\n",
       "      <td>2023-02-11-Connecticut-New Hampshire</td>\n",
       "      <td>New Hampshire</td>\n",
       "      <td>2</td>\n",
       "      <td>2</td>\n",
       "    </tr>\n",
       "    <tr>\n",
       "      <th>2093</th>\n",
       "      <td>2023-01-27-St. Cloud State-Minnesota-Duluth</td>\n",
       "      <td>Duluth</td>\n",
       "      <td>2</td>\n",
       "      <td>1</td>\n",
       "    </tr>\n",
       "    <tr>\n",
       "      <th>2580</th>\n",
       "      <td>2023-02-18-Long Island-Alaska</td>\n",
       "      <td>Alaska</td>\n",
       "      <td>2</td>\n",
       "      <td>3</td>\n",
       "    </tr>\n",
       "    <tr>\n",
       "      <th>1554</th>\n",
       "      <td>2022-12-30-Quinnipiac-Holy Cross</td>\n",
       "      <td>Holy Cross</td>\n",
       "      <td>2</td>\n",
       "      <td>1</td>\n",
       "    </tr>\n",
       "    <tr>\n",
       "      <th>18</th>\n",
       "      <td>2022-10-01-Connecticut-Vermont</td>\n",
       "      <td>Vermont</td>\n",
       "      <td>1</td>\n",
       "      <td>2</td>\n",
       "    </tr>\n",
       "  </tbody>\n",
       "</table>\n",
       "</div>"
      ],
      "text/plain": [
       "                                          Game_ID               Team  \\\n",
       "2642              2023-02-24-Alaska-Arizona State             Alaska   \n",
       "1534               2022-12-30-Merrimack-Dartmouth          Merrimack   \n",
       "1751                2023-01-13-Mass.-Lowell-Maine             Lowell   \n",
       "2674            2023-02-24-Miami-Minnesota-Duluth             Duluth   \n",
       "1689                2023-01-07-Harvard-Quinnipiac            Harvard   \n",
       "2657                      2023-02-24-Colgate-Yale            Colgate   \n",
       "382                 2022-10-21-Bentley-Ohio State            Bentley   \n",
       "521               2022-10-28-Minnesota-Ohio State          Minnesota   \n",
       "900           2022-11-12-St. Thomas-Bowling Green         St. Thomas   \n",
       "3026                      2023-03-11-Miami-Denver             Denver   \n",
       "445         2022-10-22-Long Island-Michigan State     Michigan State   \n",
       "549         2022-10-29-Arizona State-North Dakota       North Dakota   \n",
       "1327           2022-12-09-Alaska-Anchorage-Alaska          Anchorage   \n",
       "1345       2022-12-09-Lake Superior-Bemidji State      Lake Superior   \n",
       "202      2022-10-08-Western Michigan-Ferris State   Western Michigan   \n",
       "1296             2022-12-03-Ohio State-Penn State         Penn State   \n",
       "883              2022-11-12-New Hampshire-Vermont      New Hampshire   \n",
       "1436     2022-12-11-Boston University-Connecticut        Connecticut   \n",
       "336         2022-10-16-Boston University-Michigan  Boston University   \n",
       "2324                       2023-02-09-RIT-Niagara            Niagara   \n",
       "2418         2023-02-11-Connecticut-New Hampshire      New Hampshire   \n",
       "2093  2023-01-27-St. Cloud State-Minnesota-Duluth             Duluth   \n",
       "2580                2023-02-18-Long Island-Alaska             Alaska   \n",
       "1554             2022-12-30-Quinnipiac-Holy Cross         Holy Cross   \n",
       "18                 2022-10-01-Connecticut-Vermont            Vermont   \n",
       "\n",
       "      Goals_For_Team  Goals_Against_Team  \n",
       "2642               1                   1  \n",
       "1534               2                   2  \n",
       "1751               2                   1  \n",
       "2674               2                   3  \n",
       "1689               1                   3  \n",
       "2657               2                   2  \n",
       "382                1                   2  \n",
       "521                4                   5  \n",
       "900                2                   2  \n",
       "3026               1                   5  \n",
       "445                4                   3  \n",
       "549                1                   1  \n",
       "1327               2                   2  \n",
       "1345               2                   1  \n",
       "202                2                   4  \n",
       "1296               1                   4  \n",
       "883                1                   2  \n",
       "1436               1                   2  \n",
       "336                1                   1  \n",
       "2324               2                   3  \n",
       "2418               2                   2  \n",
       "2093               2                   1  \n",
       "2580               2                   3  \n",
       "1554               2                   1  \n",
       "18                 1                   2  "
      ]
     },
     "execution_count": 149,
     "metadata": {},
     "output_type": "execute_result"
    }
   ],
   "source": [
    "## Get the Team_Goals_For and Team_Goals_Against for each player in each game\n",
    "## Only include EVEN_STRENGTH goals\n",
    "## Access the EVEN_STRENGTH goals advanced_metrics_combined table from the TOTAL row from each team and apply it to each player in the game\n",
    "## EVEN Strength goals for the team should be stored in 'Goals_For_Team' and the opponent's EVEN Strength goals should be stored in 'Goals_Against_Team'\n",
    "\n",
    "# Extracting EVEN_STRENGTH goals (where PP column is blank) for each team\n",
    "even_strength_goals_query_refined = \"\"\"\n",
    "SELECT \n",
    "    Game_ID,\n",
    "    Team,\n",
    "    COUNT(*) AS Goals_For_Team\n",
    "FROM \n",
    "    scoring_summary\n",
    "WHERE \n",
    "    PP = ''\n",
    "GROUP BY \n",
    "    Game_ID, Team\n",
    "\"\"\"\n",
    "\n",
    "even_strength_goals_refined_df = pd.read_sql(even_strength_goals_query_refined, conn)\n",
    "\n",
    "# Correct the values in the Team column so we can effectively join the dataframes\n",
    "\n",
    "# Create a new column for the row number grouped by Game_ID\n",
    "even_strength_goals_refined_df['row_number'] = even_strength_goals_refined_df.groupby('Game_ID').cumcount() + 1\n",
    "\n",
    "# Function to assign the correct team name based on the row number\n",
    "def assign_team_name(row):\n",
    "    return row['Team_1'] if row['row_number'] == 1 else row['Team_2']\n",
    "\n",
    "# Splitting the Game_ID column again to extract team names\n",
    "team_names_split = even_strength_goals_refined_df['Game_ID'].str.split('-').str[-2:]\n",
    "even_strength_goals_refined_df['Team_1'] = team_names_split.str[0]\n",
    "even_strength_goals_refined_df['Team_2'] = team_names_split.str[1]\n",
    "\n",
    "# Applying the function to assign the correct team name\n",
    "even_strength_goals_refined_df['Team'] = even_strength_goals_refined_df.apply(assign_team_name, axis=1)\n",
    "\n",
    "# Dropping the extra columns again\n",
    "even_strength_goals_refined_df.drop(columns=['Team_1', 'Team_2', 'row_number'], inplace=True)\n",
    "\n",
    "# Creating a new column 'Opponent_Goals' which will be used to determine the goals against each team\n",
    "even_strength_goals_refined_df = even_strength_goals_refined_df.merge(\n",
    "    even_strength_goals_refined_df[['Game_ID', 'Team', 'Goals_For_Team']], \n",
    "    on='Game_ID',\n",
    "    suffixes=('', '_Opponent')\n",
    ")\n",
    "\n",
    "# Filtering out rows where Team is the same as the opponent team\n",
    "even_strength_goals_refined_df = even_strength_goals_refined_df[even_strength_goals_refined_df['Team'] != even_strength_goals_refined_df['Team_Opponent']]\n",
    "\n",
    "# Assigning the 'Goals_For_Team_Opponent' to a new column 'Goals_Against_Team'\n",
    "even_strength_goals_refined_df['Goals_Against_Team'] = even_strength_goals_refined_df['Goals_For_Team_Opponent']\n",
    "\n",
    "# Dropping unnecessary columns\n",
    "even_strength_goals_refined_df.drop(columns=['Team_Opponent', 'Goals_For_Team_Opponent'], inplace=True)\n",
    "\n",
    "even_strength_goals_refined_df.head(25)\n",
    "\n",
    "# Take out those annoying character if there are any\n",
    "# Replace non-breaking spaces with regular spaces in the Player column of compiled_df\n",
    "even_strength_goals_refined_df['Team'] = even_strength_goals_refined_df['Team'].str.replace('\\xa0', ' ')\n",
    "\n",
    "## SAVE A CSV \n",
    "even_strength_goals_refined_df.to_csv('../TEMP/NEW_PRELIM_even_strength_goals_refined_df.csv', index=False)\n",
    "\n",
    "# # Displaying the dataframe with the newly computed 'Goals_Against_Team' values\n",
    "even_strength_goals_refined_df.sample(25)\n",
    "\n",
    "\n",
    "# # print(compiled_df.shape)\n"
   ]
  },
  {
   "cell_type": "code",
   "execution_count": 150,
   "metadata": {},
   "outputs": [],
   "source": [
    "# Merge the dataframes on Game_ID and Team\n",
    "merged_df_new = pd.merge(compiled_df, even_strength_goals_refined_df, on=['Game_ID', 'Team'], how='left')\n",
    "\n",
    "# Display the first few rows of the merged dataframe\n",
    "merged_df_new.head(25)\n",
    "\n",
    "# merged_df_new.info()\n",
    "# Output csv for check\n",
    "merged_df_new.to_csv('../TEMP/11_NEW_PRELIM_merged_df_new.csv', index=False)"
   ]
  },
  {
   "cell_type": "code",
   "execution_count": 151,
   "metadata": {},
   "outputs": [
    {
     "name": "stdout",
     "output_type": "stream",
     "text": [
      "New Shape: (44230, 12)\n"
     ]
    },
    {
     "data": {
      "text/plain": [
       "Team\n",
       "Canisius           794\n",
       "St. Cloud State    779\n",
       "Holy Cross         775\n",
       "Quinnipiac         775\n",
       "Minnesota          771\n",
       "                  ... \n",
       "Dartmouth          560\n",
       "Brown              558\n",
       "Lindenwood         529\n",
       "Anchorage          527\n",
       "Mass.               11\n",
       "Name: count, Length: 62, dtype: int64"
      ]
     },
     "execution_count": 151,
     "metadata": {},
     "output_type": "execute_result"
    },
    {
     "data": {
      "image/png": "[encoded data removed]",
      "text/plain": [
       "<Figure size 640x480 with 1 Axes>"
      ]
     },
     "metadata": {},
     "output_type": "display_data"
    }
   ],
   "source": [
    "\n",
    "# Convert columns to int\n",
    "int_cols = [ 'Shots_On_Net', 'Shots_Off_Net', 'Shots_Blocked',\n",
    "       'Defensive_Blocks',  'Goals', 'Assist1', 'Assist2',\n",
    "       'Faceoff_Wins', 'Faceoff_Losses', 'Goals_For_Team',\n",
    "       'Goals_Against_Team']\n",
    "\n",
    "# for col in int_cols:\n",
    "#     compiled_df[col] = compiled_df[col].astype(int)\n",
    "\n",
    "\n",
    "\n",
    "print(f'New Shape: {compiled_df.shape}')\n",
    "\n",
    "####\n",
    "# # Merge into the compiled_df\n",
    "compiled_df = compiled_df.merge(even_strength_goals_refined_df, on=['Game_ID', 'Team'], how='outer', indicator=True)\n",
    "\n",
    "compiled_df.columns\n",
    "\n",
    "# compiled_df['Goals'].hist()\n",
    "# compiled_df['Assist1'].hist()\n",
    "compiled_df['Assist2'].hist()\n",
    "\n",
    "compiled_df.sample(25)\n",
    "\n",
    "# Team value count\n",
    "compiled_df['Team'].value_counts()\n",
    "\n"
   ]
  },
  {
   "cell_type": "code",
   "execution_count": 152,
   "metadata": {},
   "outputs": [],
   "source": [
    "# SHow just the rows where the Goals_Against_Team is NaN\n",
    "trouble_df = merged_df_new[merged_df_new['Goals_Against_Team'].isna()]\n",
    "\n",
    "# Value Counts of Teams\n",
    "trouble_df['Team'].value_counts()\n",
    "\n",
    "# I think what is going on is thes are instanced when the player was not on the roster the day of the game?\n",
    "\n",
    "## Do any of these have values in Goals or Assists?\n",
    "trouble_df[trouble_df['Goals'] > 0]\n",
    "\n",
    "trouble_df[trouble_df['Assist1'] > 0]\n",
    "\n",
    "## Could be games when no even strength goals were scored - That must be it. fill with 0\n",
    "merged_df_new['Goals_Against_Team'] = merged_df_new['Goals_Against_Team'].fillna(0)\n",
    "# Same for Goals_For_Team\n",
    "merged_df_new['Goals_For_Team'] = merged_df_new['Goals_For_Team'].fillna(0)"
   ]
  },
  {
   "cell_type": "code",
   "execution_count": 153,
   "metadata": {},
   "outputs": [
    {
     "name": "stdout",
     "output_type": "stream",
     "text": [
      "<class 'pandas.core.frame.DataFrame'>\n",
      "RangeIndex: 44230 entries, 0 to 44229\n",
      "Data columns (total 14 columns):\n",
      " #   Column              Non-Null Count  Dtype  \n",
      "---  ------              --------------  -----  \n",
      " 0   Player              44230 non-null  object \n",
      " 1   Team                41795 non-null  object \n",
      " 2   Shots_On_Net        41795 non-null  float64\n",
      " 3   Shots_Off_Net       41795 non-null  float64\n",
      " 4   Shots_Blocked       41795 non-null  float64\n",
      " 5   Defensive_Blocks    41795 non-null  float64\n",
      " 6   Game_ID             44230 non-null  object \n",
      " 7   Goals               41795 non-null  float64\n",
      " 8   Assist1             41795 non-null  float64\n",
      " 9   Assist2             41795 non-null  float64\n",
      " 10  Faceoff_Wins        12887 non-null  float64\n",
      " 11  Faceoff_Losses      12887 non-null  float64\n",
      " 12  Goals_For_Team      44230 non-null  float64\n",
      " 13  Goals_Against_Team  44230 non-null  float64\n",
      "dtypes: float64(11), object(3)\n",
      "memory usage: 4.7+ MB\n"
     ]
    },
    {
     "data": {
      "image/png": "[encoded data removed]",
      "text/plain": [
       "<Figure size 640x480 with 12 Axes>"
      ]
     },
     "metadata": {},
     "output_type": "display_data"
    }
   ],
   "source": [
    "merged_df_new.hist()\n",
    "\n",
    "merged_df_new.info()\n",
    "\n",
    "# Output csv for check\n",
    "merged_df_new.to_csv('../TEMP/NEW_PRELIM_merged_df_new.csv', index=False)"
   ]
  },
  {
   "cell_type": "code",
   "execution_count": 154,
   "metadata": {},
   "outputs": [],
   "source": [
    "# # Joining the dataframe with itself to compute EVEN_STRENGTH goals against each team\n",
    "# team_goals_refined_df = even_strength_goals_refined_df.merge(\n",
    "#     even_strength_goals_refined_df, on='Game_ID', suffixes=('', '_Opponent')\n",
    "# )\n",
    "\n",
    "# # Filtering out rows where Team is the same as the opponent team\n",
    "# team_goals_refined_df = team_goals_refined_df[team_goals_refined_df['Team'] != team_goals_refined_df['Team_Opponent']]\n",
    "\n",
    "# # Dropping unnecessary columns and renaming for clarity\n",
    "# team_goals_refined_df = team_goals_refined_df[['Game_ID', 'Team', 'Goals_For_Team', 'Goals_For_Team_Opponent']]\n",
    "# team_goals_refined_df = team_goals_refined_df.rename(columns={'Goals_For_Team_Opponent': 'Goals_Against_Team'})\n",
    "\n",
    "# # Joining with advanced_metrics_combined to assign the values to each player\n",
    "# player_goals_refined_df = player_goals_df.merge(team_goals_refined_df, on=['Game_ID', 'Team'], how='left')\n",
    "\n",
    "# # Display the first few rows of the resulting dataframe\n",
    "# player_goals_refined_df[['Player', 'Game_ID', 'Team', 'Goals_For_Team', 'Goals_Against_Team']].head(25)\n"
   ]
  },
  {
   "cell_type": "markdown",
   "metadata": {},
   "source": []
  },
  {
   "cell_type": "code",
   "execution_count": null,
   "metadata": {},
   "outputs": [],
   "source": []
  },
  {
   "cell_type": "markdown",
   "metadata": {},
   "source": [
    "# Penalty Component"
   ]
  },
  {
   "cell_type": "code",
   "execution_count": 155,
   "metadata": {},
   "outputs": [
    {
     "name": "stdout",
     "output_type": "stream",
     "text": [
      "<class 'pandas.core.frame.DataFrame'>\n",
      "RangeIndex: 44230 entries, 0 to 44229\n",
      "Data columns (total 15 columns):\n",
      " #   Column              Non-Null Count  Dtype  \n",
      "---  ------              --------------  -----  \n",
      " 0   Player              44230 non-null  object \n",
      " 1   Team                41795 non-null  object \n",
      " 2   Shots_On_Net        41795 non-null  float64\n",
      " 3   Shots_Off_Net       41795 non-null  float64\n",
      " 4   Shots_Blocked       41795 non-null  float64\n",
      " 5   Defensive_Blocks    41795 non-null  float64\n",
      " 6   Game_ID             44230 non-null  object \n",
      " 7   Goals               41795 non-null  float64\n",
      " 8   Assist1             41795 non-null  float64\n",
      " 9   Assist2             41795 non-null  float64\n",
      " 10  Faceoff_Wins        12887 non-null  float64\n",
      " 11  Faceoff_Losses      12887 non-null  float64\n",
      " 12  Goals_For_Team      44230 non-null  float64\n",
      " 13  Goals_Against_Team  44230 non-null  float64\n",
      " 14  Penalties_Taken     44230 non-null  float64\n",
      "dtypes: float64(12), object(3)\n",
      "memory usage: 5.1+ MB\n"
     ]
    }
   ],
   "source": [
    "## Penalty Component\n",
    "\n",
    "# Count the number of penalties taken by each player in each game\n",
    "penalty_count_query = \"\"\"\n",
    "SELECT\n",
    "    Game_ID,\n",
    "    Player,\n",
    "    COUNT(*) AS Penalties_Taken\n",
    "FROM\n",
    "    penalty_summary\n",
    "WHERE\n",
    "    Player != 'TOTAL'\n",
    "GROUP BY\n",
    "    Game_ID, Player;\n",
    "\"\"\"\n",
    "\n",
    "## Rename the new version of the df back to this name to use later\n",
    "\n",
    "compiled_df = merged_df_new.copy()\n",
    "\n",
    "\n",
    "# Create a DataFrame with the results\n",
    "penalty_count_df = pd.read_sql(penalty_count_query, conn)\n",
    "\n",
    "# Preview the first few rows of the result\n",
    "penalty_count_df.head()\n",
    "\n",
    "# penalty_count_df['Penalties_Taken'].hist()\n",
    "\n",
    "# Convert to int\n",
    "penalty_count_df['Penalties_Taken'] = penalty_count_df['Penalties_Taken'].astype(int)\n",
    "\n",
    "# penalty_count_df.describe()\n",
    "\n",
    "# merge it into the compiled_df\n",
    "compiled_df = compiled_df.merge(penalty_count_df, on=['Player', 'Game_ID'], how='left')\n",
    "\n",
    "# Fill NaN values in 'Penalties_Taken' with 0\n",
    "compiled_df['Penalties_Taken'].fillna(0, inplace=True)\n",
    "\n",
    "# compiled_df.head(25)\n",
    "\n",
    "\n",
    "# compiled_df.hist()\n",
    "\n",
    "compiled_df.columns\n",
    "\n",
    "# Output CSV\n",
    "compiled_df.to_csv('../TEMP/GAME_SCORE_compiled_df.csv', index=False)\n",
    "\n",
    "\n",
    "compiled_df.info()"
   ]
  },
  {
   "cell_type": "code",
   "execution_count": 156,
   "metadata": {},
   "outputs": [],
   "source": [
    "# Fill NaN values in 'Penalties_Taken' with 0\n",
    "compiled_df['Penalties_Taken'].fillna(0, inplace=True)\n",
    "\n",
    "# Calculate each component of the game score formula\n",
    "player_goals_refined_df = compiled_df.copy()\n",
    "\n",
    "# SCORE Component\n",
    "player_goals_refined_df['SCORE'] = (player_goals_refined_df['Goals'] * 0.75) + \\\n",
    "                                  (player_goals_refined_df['Assist1'] * 0.715) + \\\n",
    "                                  (player_goals_refined_df['Assist2'] * 0.555)\n",
    "\n",
    "# SHOTS Component\n",
    "player_goals_refined_df['SHOTS'] = (player_goals_refined_df['Shots_On_Net'] * 0.075) + \\\n",
    "                                  (player_goals_refined_df['Shots_Off_Net'] * 0.075) - \\\n",
    "                                  (player_goals_refined_df['Shots_Blocked'] * 0.075)\n",
    "\n",
    "# FACEOFFS Component\n",
    "player_goals_refined_df['FACEOFFS'] = (player_goals_refined_df['Faceoff_Wins'] * 0.01) - \\\n",
    "                                     (player_goals_refined_df['Faceoff_Losses'] * 0.01)\n",
    "# Fill NaN values in 'Faceoff_Wins' and 'Faceoff_Losses' with 0\n",
    "player_goals_refined_df['FACEOFFS'].fillna(0, inplace=True)\n",
    "\n",
    "\n",
    "# TEAM Component\n",
    "player_goals_refined_df['TEAM'] = (player_goals_refined_df['Goals_For_Team'] * 0.15) - \\\n",
    "                                 (player_goals_refined_df['Goals_Against_Team'] * 0.15)\n",
    "# Fill\n",
    "\n",
    "\n",
    "# PENALTIES Component -  Negative because it is a penalty\n",
    "player_goals_refined_df['PENALTIES'] = (player_goals_refined_df['Penalties_Taken'] * pp_success_rate) * -1\n",
    "\n",
    "## Fill all Nan Values with 0\n",
    "player_goals_refined_df.fillna(0, inplace=True)\n",
    "\n",
    "# Calculate the overall game score\n",
    "player_goals_refined_df['Game_Score'] = player_goals_refined_df['SCORE'] + \\\n",
    "                                       player_goals_refined_df['SHOTS'] + \\\n",
    "                                       player_goals_refined_df['FACEOFFS'] + \\\n",
    "                                       player_goals_refined_df['TEAM'] - \\\n",
    "                                       player_goals_refined_df['PENALTIES']\n",
    "\n",
    "# Display the first few rows of the dataframe with the newly computed 'Game_Score' values\n",
    "player_goals_refined_df[['Player', 'Game_ID', 'Team', 'Game_Score']].head(25)\n",
    "\n",
    "\n",
    "## Drop duplicate Rows\n",
    "player_goals_refined_df = player_goals_refined_df.drop_duplicates()\n",
    "\n",
    "# Save to CSV\n",
    "player_goals_refined_df.to_csv('../TEMP/GAME_SCORE_player_goals_refined_df.csv', index=False)\n"
   ]
  },
  {
   "cell_type": "markdown",
   "metadata": {},
   "source": [
    "# Pivot the big Game Score Table into individual teams"
   ]
  },
  {
   "cell_type": "code",
   "execution_count": 157,
   "metadata": {},
   "outputs": [],
   "source": [
    "# Generate team-specific tables using a pivot table\n",
    "team_tables = {}\n",
    "\n",
    "unique_teams = player_goals_refined_df['Team'].unique()\n",
    "\n",
    "for team in unique_teams:\n",
    "    team_df = player_goals_refined_df[player_goals_refined_df['Team'] == team]\n",
    "    pivot_table = team_df.pivot(index='Player', columns='Game_ID', values='Game_Score')\n",
    "    team_tables[team] = pivot_table\n",
    "\n",
    "\n",
    "# Print List of Teams\n",
    "unique_teams\n",
    "\n",
    "\n",
    "# Fill NaN values with 0\n",
    "for team in unique_teams:\n",
    "    team_tables[team] = team_tables[team].fillna(0)\n",
    "\n",
    "# Display the first team's table as an example\n",
    "# team_tables[unique_teams[21]].head(40)\n",
    "\n",
    "### MSU Is In Index Position 21 in this case outputing csv for MSU\n",
    "# team_tables[unique_teams[21]] = team_tables[unique_teams[21]].fillna(0)\n",
    "# team_tables[unique_teams[21]].to_csv('../data/Nov_2_MSU_GAME_SCORES.csv')\n",
    "\n",
    "\n",
    "# msu_df = team_tables[unique_teams[21]].copy()\n",
    "# msu_df.head()\n",
    "\n"
   ]
  },
  {
   "cell_type": "code",
   "execution_count": 158,
   "metadata": {},
   "outputs": [
    {
     "data": {
      "text/plain": [
       "array(['Ferris State', 'Miami', 'St. Lawrence', 'Lowell',\n",
       "       'St. Cloud State', 'St. Thomas', 'Arizona State', 'Duluth',\n",
       "       'Bentley', 'Boston University', 'RIT', 'Union', 'Ohio State',\n",
       "       'Mercyhurst', 'Long Island', 'Northeastern', 'Lindenwood',\n",
       "       'Minnesota', 'Western Michigan', 'Anchorage', \"American Int'l\",\n",
       "       'Alaska', 'Bowling Green', 'Northern Michigan', 'Connecticut',\n",
       "       'Vermont', 'Army', 'Wisconsin', 'Michigan State', 'Colgate',\n",
       "       'Quinnipiac', 'Boston College', 'Canisius', 'Penn State',\n",
       "       'Rensselaer', 'Merrimack', 'New Hampshire', 'Clarkson', 'Michigan',\n",
       "       'Sacred Heart', 'Providence', 'Michigan Tech', 'Minnesota State',\n",
       "       'Niagara', 'Omaha', 'Holy Cross', 'North Dakota', 'Bemidji State',\n",
       "       'Colorado College', 'Notre Dame', 'Denver', 'Maine', 'Air Force',\n",
       "       'Massachusetts', 'Lake Superior', 'Dartmouth', 'Harvard',\n",
       "       'Cornell', 'Brown', 'Yale', 'Princeton', 0], dtype=object)"
      ]
     },
     "execution_count": 158,
     "metadata": {},
     "output_type": "execute_result"
    }
   ],
   "source": [
    "## Print Unique Teams\n",
    "unique_teams\n"
   ]
  },
  {
   "cell_type": "code",
   "execution_count": 159,
   "metadata": {},
   "outputs": [],
   "source": [
    "# ### Find The OSU Index Position and Output CSV\n",
    "\n",
    "# osu_df = team_tables[unique_teams[16]]\n",
    "\n",
    "# ## Output CSV\n",
    "# osu_df.to_csv('../data/Nov_2_Ohio_State_GAME_SCORES.csv')"
   ]
  },
  {
   "cell_type": "code",
   "execution_count": 160,
   "metadata": {},
   "outputs": [],
   "source": [
    "# Clean up the column names of all the team tables\n",
    "# Want to remove:\n",
    "# - all digits\n",
    "# - all Dashes\n",
    "# - the teams name\n",
    "\n",
    "# Create a dictionary to store the new column names\n",
    "new_column_names = {}\n",
    "\n",
    "# Loop through each team table\n",
    "for team in unique_teams:\n",
    "    # Create a list to store the new column names\n",
    "    new_column_names[team] = []\n",
    "    \n",
    "    # Loop through each column name\n",
    "    for column_name in team_tables[team].columns:\n",
    "\n",
    "        # Remove all digits from the column name\n",
    "        new_column_name = ''.join([i for i in column_name if not i.isdigit()])\n",
    "        \n",
    "        # Remove all dashes from the column name\n",
    "        new_column_name = new_column_name.replace('-', '')\n",
    "        \n",
    "        # Remove the team name from the column name\n",
    "        new_column_name = new_column_name.replace(str(team), '')\n",
    "        \n",
    "        # Add the new column name to the list\n",
    "        new_column_names[team].append(new_column_name)\n",
    "    \n",
    "    # Assign the new column names to the team table\n",
    "    team_tables[team].columns = new_column_names[team]"
   ]
  },
  {
   "cell_type": "code",
   "execution_count": 161,
   "metadata": {},
   "outputs": [],
   "source": [
    "## Save each table to a csv with the team name and the season\n",
    "\n",
    "## Folder to save to\n",
    "folder_path = '../TEMP/2022_csv_dump/'\n",
    "\n",
    "## Loop through each team and save the csv\n",
    "for team in unique_teams:\n",
    "    team_tables[team].to_csv(f'{folder_path}{team}_GAME_SCORES.csv')\n",
    "\n",
    "\n",
    "\n"
   ]
  },
  {
   "cell_type": "markdown",
   "metadata": {},
   "source": [
    "# Pivot Tables of Game Scores for Every Player and Every Team should all be stored now if it ran cleanly "
   ]
  },
  {
   "cell_type": "code",
   "execution_count": 162,
   "metadata": {},
   "outputs": [
    {
     "data": {
      "application/vnd.plotly.v1+json": {
       "config": {
        "plotlyServerURL": "https://plot.ly"
       },
       "data": [
        {
         "cells": {
          "align": "left",
          "fill": {
           "color": "lavender"
          },
          "values": [
           [
            [
             0.075,
             0.07499999999999998
            ],
            [
             0.075,
             0.4766326530612245
            ],
            [
             0.15,
             -2.7755575615628914e-17
            ],
            [
             0,
             0
            ],
            [
             0.27,
             0.010000000000000009
            ],
            [
             1.0899999999999999,
             0.10163265306122451
            ],
            [
             0.48000000000000004,
             0.5449999999999999
            ],
            [
             -0.15,
             0.33000000000000007
            ],
            [
             0,
             1.05
            ],
            [
             0.3266326530612245,
             0
            ],
            [
             0,
             0
            ],
            [
             0.653265306122449,
             -0.075
            ],
            [
             0.52,
             0.21
            ],
            [
             0.365,
             1.0466326530612244
            ],
            [
             0.1766326530612245,
             -0.15
            ],
            [
             0,
             0.715
            ],
            [
             0.4766326530612245,
             -0.375
            ],
            [
             0.22499999999999998,
             -0.16999999999999998
            ],
            [
             0,
             0
            ],
            [
             0.075,
             -0.065
            ],
            [
             1.05,
             -0.075
            ],
            [
             0.07499999999999998,
             -0.07499999999999998
            ],
            [
             0,
             0
            ],
            [
             0,
             -0.22499999999999998
            ],
            [
             0.045,
             0
            ]
           ],
           [
            [
             0.075,
             0.07499999999999998
            ],
            [
             0.075,
             0.4766326530612245
            ],
            [
             0.15,
             -2.7755575615628914e-17
            ],
            [
             0,
             0
            ],
            [
             0.27,
             0.010000000000000009
            ],
            [
             1.0899999999999999,
             0.10163265306122451
            ],
            [
             0.48000000000000004,
             0.5449999999999999
            ],
            [
             -0.15,
             0.33000000000000007
            ],
            [
             0,
             1.05
            ],
            [
             0.3266326530612245,
             0
            ],
            [
             0,
             0
            ],
            [
             0.653265306122449,
             -0.075
            ],
            [
             0.52,
             0.21
            ],
            [
             0.365,
             1.0466326530612244
            ],
            [
             0.1766326530612245,
             -0.15
            ],
            [
             0,
             0.715
            ],
            [
             0.4766326530612245,
             -0.375
            ],
            [
             0.22499999999999998,
             -0.16999999999999998
            ],
            [
             0,
             0
            ],
            [
             0.075,
             -0.065
            ],
            [
             1.05,
             -0.075
            ],
            [
             0.07499999999999998,
             -0.07499999999999998
            ],
            [
             0,
             0
            ],
            [
             0,
             -0.22499999999999998
            ],
            [
             0.045,
             0
            ]
           ],
           [
            [
             0.14999999999999997,
             -0.15
            ],
            [
             1.5266326530612244,
             0.22499999999999998
            ],
            [
             0.865,
             0.578265306122449
            ],
            [
             0,
             0
            ],
            [
             0.2799999999999999,
             1.9966326530612242
            ],
            [
             0.22499999999999998,
             0.15
            ],
            [
             0,
             0
            ],
            [
             0.22499999999999998,
             0.825
            ],
            [
             0.26499999999999996,
             0.20499999999999996
            ],
            [
             0.29999999999999993,
             0.075
            ],
            [
             0.3816326530612245,
             0
            ],
            [
             0.14999999999999997,
             1.27
            ],
            [
             0.15999999999999998,
             1.0266326530612244
            ],
            [
             1.3566326530612245,
             0.075
            ],
            [
             0.14999999999999997,
             -0.07499999999999998
            ],
            [
             0.865,
             0.3266326530612245
            ],
            [
             0.6266326530612245,
             0.225
            ],
            [
             1.19,
             0.4399999999999999
            ],
            [
             0,
             0
            ],
            [
             0.7050000000000001,
             0.18
            ],
            [
             1.2,
             0.075
            ],
            [
             0.6266326530612245,
             0
            ],
            [
             0,
             0
            ],
            [
             0,
             0
            ],
            [
             0,
             0
            ]
           ],
           [
            [
             0.14999999999999997,
             -0.15
            ],
            [
             1.5266326530612244,
             0.22499999999999998
            ],
            [
             0.865,
             0.578265306122449
            ],
            [
             0,
             0
            ],
            [
             0.2799999999999999,
             1.9966326530612242
            ],
            [
             0.22499999999999998,
             0.15
            ],
            [
             0,
             0
            ],
            [
             0.22499999999999998,
             0.825
            ],
            [
             0.26499999999999996,
             0.20499999999999996
            ],
            [
             0.29999999999999993,
             0.075
            ],
            [
             0.3816326530612245,
             0
            ],
            [
             0.14999999999999997,
             1.27
            ],
            [
             0.15999999999999998,
             1.0266326530612244
            ],
            [
             1.3566326530612245,
             0.075
            ],
            [
             0.14999999999999997,
             -0.07499999999999998
            ],
            [
             0.865,
             0.3266326530612245
            ],
            [
             0.6266326530612245,
             0.225
            ],
            [
             1.19,
             0.4399999999999999
            ],
            [
             0,
             0
            ],
            [
             0.7050000000000001,
             0.18
            ],
            [
             1.2,
             0.075
            ],
            [
             0.6266326530612245,
             0
            ],
            [
             0,
             0
            ],
            [
             0,
             0
            ],
            [
             0,
             0
            ]
           ],
           [
            [
             0,
             0.37499999999999994
            ],
            [
             0,
             0.6
            ],
            [
             0.22499999999999998,
             0.8516326530612245
            ],
            [
             0,
             0
            ],
            [
             0.15999999999999998,
             0.865
            ],
            [
             0,
             0
            ],
            [
             -0.16,
             0.43999999999999995
            ],
            [
             0.075,
             0.5249999999999999
            ],
            [
             0.37,
             1.045
            ],
            [
             0.3,
             0.5249999999999999
            ],
            [
             0,
             0.5299999999999999
            ],
            [
             0.6266326530612245,
             1.39
            ],
            [
             0.049999999999999996,
             1.21
            ],
            [
             0.29,
             0.8916326530612244
            ],
            [
             0.37499999999999994,
             0.44999999999999996
            ],
            [
             0.22499999999999998,
             0.44999999999999996
            ],
            [
             0.4016326530612245,
             0.6
            ],
            [
             0.14999999999999997,
             1.585
            ],
            [
             0,
             0
            ],
            [
             0.21499999999999997,
             0.5349999999999999
            ],
            [
             0.15,
             0.75
            ],
            [
             0.37499999999999994,
             1.2399999999999998
            ],
            [
             0,
             0
            ],
            [
             0,
             0
            ],
            [
             0,
             0
            ]
           ],
           [
            [
             0,
             0.37499999999999994
            ],
            [
             0,
             0.6
            ],
            [
             0.22499999999999998,
             0.8516326530612245
            ],
            [
             0,
             0
            ],
            [
             0.15999999999999998,
             0.865
            ],
            [
             0,
             0
            ],
            [
             -0.16,
             0.43999999999999995
            ],
            [
             0.075,
             0.5249999999999999
            ],
            [
             0.37,
             1.045
            ],
            [
             0.3,
             0.5249999999999999
            ],
            [
             0,
             0.5299999999999999
            ],
            [
             0.6266326530612245,
             1.39
            ],
            [
             0.049999999999999996,
             1.21
            ],
            [
             0.29,
             0.8916326530612244
            ],
            [
             0.37499999999999994,
             0.44999999999999996
            ],
            [
             0.22499999999999998,
             0.44999999999999996
            ],
            [
             0.4016326530612245,
             0.6
            ],
            [
             0.14999999999999997,
             1.585
            ],
            [
             0,
             0
            ],
            [
             0.21499999999999997,
             0.5349999999999999
            ],
            [
             0.15,
             0.75
            ],
            [
             0.37499999999999994,
             1.2399999999999998
            ],
            [
             0,
             0
            ],
            [
             0,
             0
            ],
            [
             0,
             0
            ]
           ],
           [
            [
             0.7050000000000001,
             0.07499999999999998
            ],
            [
             0,
             0.2516326530612245
            ],
            [
             0.3266326530612245,
             0.8816326530612245
            ],
            [
             0,
             0
            ],
            [
             0.89,
             0.878265306122449
            ],
            [
             0.48000000000000004,
             0.2516326530612245
            ],
            [
             0.20499999999999996,
             0.05499999999999999
            ],
            [
             0.22499999999999998,
             0.715
            ],
            [
             0.3466326530612245,
             0.024999999999999994
            ],
            [
             1.2666326530612244,
             0.40163265306122453
            ],
            [
             -0.075,
             0
            ],
            [
             0.225,
             0.63
            ],
            [
             0.7749999999999999,
             0.075
            ],
            [
             2.0566326530612242,
             1.04
            ],
            [
             0.9,
             0.503265306122449
            ],
            [
             0,
             0.075
            ],
            [
             0.8816326530612245,
             0
            ],
            [
             0.4766326530612245,
             0.4766326530612245
            ],
            [
             0,
             0
            ],
            [
             0.235,
             0.845
            ],
            [
             0.075,
             0.075
            ],
            [
             0.07499999999999998,
             1.0766326530612245
            ],
            [
             0,
             0
            ],
            [
             0,
             0
            ],
            [
             0,
             0
            ]
           ],
           [
            [
             0.7050000000000001,
             0.07499999999999998
            ],
            [
             0,
             0.2516326530612245
            ],
            [
             0.3266326530612245,
             0.8816326530612245
            ],
            [
             0,
             0
            ],
            [
             0.89,
             0.878265306122449
            ],
            [
             0.48000000000000004,
             0.2516326530612245
            ],
            [
             0.20499999999999996,
             0.05499999999999999
            ],
            [
             0.22499999999999998,
             0.715
            ],
            [
             0.3466326530612245,
             0.024999999999999994
            ],
            [
             1.2666326530612244,
             0.40163265306122453
            ],
            [
             -0.075,
             0
            ],
            [
             0.225,
             0.63
            ],
            [
             0.7749999999999999,
             0.075
            ],
            [
             2.0566326530612242,
             1.04
            ],
            [
             0.9,
             0.503265306122449
            ],
            [
             0,
             0.075
            ],
            [
             0.8816326530612245,
             0
            ],
            [
             0.4766326530612245,
             0.4766326530612245
            ],
            [
             0,
             0
            ],
            [
             0.235,
             0.845
            ],
            [
             0.075,
             0.075
            ],
            [
             0.07499999999999998,
             1.0766326530612245
            ],
            [
             0,
             0
            ],
            [
             0,
             0
            ],
            [
             0,
             0
            ]
           ],
           [
            [
             0,
             0.1766326530612245
            ],
            [
             0.30000000000000004,
             0.49
            ],
            [
             0.6798979591836736,
             -0.3
            ],
            [
             0,
             0
            ],
            [
             0,
             0.08499999999999998
            ],
            [
             0.075,
             0.075
            ],
            [
             -0.16499999999999998,
             -0.009999999999999998
            ],
            [
             0,
             0.4016326530612245
            ],
            [
             -0.035,
             0.19
            ],
            [
             0,
             -0.15
            ],
            [
             -0.04,
             0
            ],
            [
             0.715,
             1.495
            ],
            [
             0.7816326530612245,
             1.705
            ],
            [
             0.9,
             0.15
            ],
            [
             -0.07499999999999998,
             -0.075
            ],
            [
             0,
             0
            ],
            [
             0.02663265306122453,
             -0.15
            ],
            [
             0.8899999999999999,
             0
            ],
            [
             0,
             0
            ],
            [
             0,
             0.20163265306122452
            ],
            [
             0.22499999999999998,
             0.37499999999999994
            ],
            [
             -0.14999999999999997,
             0.4800000000000001
            ],
            [
             0,
             0
            ],
            [
             0,
             0.075
            ],
            [
             0,
             0
            ]
           ],
           [
            [
             0,
             0.1766326530612245
            ],
            [
             0.30000000000000004,
             0.49
            ],
            [
             0.6798979591836736,
             -0.3
            ],
            [
             0,
             0
            ],
            [
             0,
             0.08499999999999998
            ],
            [
             0.075,
             0.075
            ],
            [
             -0.16499999999999998,
             -0.009999999999999998
            ],
            [
             0,
             0.4016326530612245
            ],
            [
             -0.035,
             0.19
            ],
            [
             0,
             -0.15
            ],
            [
             -0.04,
             0
            ],
            [
             0.715,
             1.495
            ],
            [
             0.7816326530612245,
             1.705
            ],
            [
             0.9,
             0.15
            ],
            [
             -0.07499999999999998,
             -0.075
            ],
            [
             0,
             0
            ],
            [
             0.02663265306122453,
             -0.15
            ],
            [
             0.8899999999999999,
             0
            ],
            [
             0,
             0
            ],
            [
             0,
             0.20163265306122452
            ],
            [
             0.22499999999999998,
             0.37499999999999994
            ],
            [
             -0.14999999999999997,
             0.4800000000000001
            ],
            [
             0,
             0
            ],
            [
             0,
             0.075
            ],
            [
             0,
             0
            ]
           ],
           [
            [
             1.005,
             0.2516326530612245
            ],
            [
             0.5516326530612244,
             0.9
            ],
            [
             1.015,
             0
            ],
            [
             0,
             0
            ],
            [
             0.47663265306122443,
             0.22500000000000003
            ],
            [
             1.2,
             0
            ],
            [
             0.32999999999999996,
             0.10500000000000001
            ],
            [
             0.29999999999999993,
             0.15
            ],
            [
             0.42999999999999994,
             -0.020000000000000004
            ],
            [
             1.005,
             0.8298979591836735
            ],
            [
             0,
             0
            ],
            [
             0.6266326530612245,
             0.825
            ],
            [
             0.2799999999999999,
             -0.05500000000000001
            ],
            [
             0.29999999999999993,
             0.72
            ],
            [
             0.5516326530612244,
             0.075
            ],
            [
             1.9899999999999998,
             0.4766326530612245
            ],
            [
             1.165,
             0.22499999999999998
            ],
            [
             1.275,
             0.1766326530612245
            ],
            [
             0,
             0
            ],
            [
             1.005,
             0.04000000000000001
            ],
            [
             0.37499999999999994,
             0
            ],
            [
             0.5249999999999999,
             0.22499999999999998
            ],
            [
             0,
             0.075
            ],
            [
             0,
             0
            ],
            [
             0,
             0
            ]
           ],
           [
            [
             1.005,
             0.2516326530612245
            ],
            [
             0.5516326530612244,
             0.9
            ],
            [
             1.015,
             0
            ],
            [
             0,
             0
            ],
            [
             0.47663265306122443,
             0.22500000000000003
            ],
            [
             1.2,
             0
            ],
            [
             0.32999999999999996,
             0.10500000000000001
            ],
            [
             0.29999999999999993,
             0.15
            ],
            [
             0.42999999999999994,
             -0.020000000000000004
            ],
            [
             1.005,
             0.8298979591836735
            ],
            [
             0,
             0
            ],
            [
             0.6266326530612245,
             0.825
            ],
            [
             0.2799999999999999,
             -0.05500000000000001
            ],
            [
             0.29999999999999993,
             0.72
            ],
            [
             0.5516326530612244,
             0.075
            ],
            [
             1.9899999999999998,
             0.4766326530612245
            ],
            [
             1.165,
             0.22499999999999998
            ],
            [
             1.275,
             0.1766326530612245
            ],
            [
             0,
             0
            ],
            [
             1.005,
             0.04000000000000001
            ],
            [
             0.37499999999999994,
             0
            ],
            [
             0.5249999999999999,
             0.22499999999999998
            ],
            [
             0,
             0.075
            ],
            [
             0,
             0
            ],
            [
             0,
             0
            ]
           ],
           [
            [
             0.22499999999999998,
             0.2516326530612245
            ],
            [
             0.22499999999999998,
             1.125
            ],
            [
             0.3266326530612245,
             0
            ],
            [
             0.15,
             0
            ],
            [
             0.16,
             0.8066326530612244
            ],
            [
             0,
             0
            ],
            [
             -0.06,
             0
            ],
            [
             0,
             0.14999999999999997
            ],
            [
             0.03499999999999999,
             0.05499999999999999
            ],
            [
             0,
             0.15
            ],
            [
             0,
             0
            ],
            [
             0.07499999999999998,
             0.15000000000000002
            ],
            [
             1.03,
             0.12499999999999999
            ],
            [
             0.715,
             0.15
            ],
            [
             0.2516326530612245,
             0.14999999999999997
            ],
            [
             0,
             0.04
            ],
            [
             0.22499999999999998,
             0.07499999999999998
            ],
            [
             1.5116326530612245,
             0.375
            ],
            [
             0,
             0
            ],
            [
             0.975,
             0.785
            ],
            [
             0,
             0.14999999999999997
            ],
            [
             1.0416326530612245,
             0.14999999999999997
            ],
            [
             0,
             0
            ],
            [
             0,
             0
            ],
            [
             0,
             0.3266326530612245
            ]
           ],
           [
            [
             0.22499999999999998,
             0.2516326530612245
            ],
            [
             0.22499999999999998,
             1.125
            ],
            [
             0.3266326530612245,
             0
            ],
            [
             0.15,
             0
            ],
            [
             0.16,
             0.8066326530612244
            ],
            [
             0,
             0
            ],
            [
             -0.06,
             0
            ],
            [
             0,
             0.14999999999999997
            ],
            [
             0.03499999999999999,
             0.05499999999999999
            ],
            [
             0,
             0.15
            ],
            [
             0,
             0
            ],
            [
             0.07499999999999998,
             0.15000000000000002
            ],
            [
             1.03,
             0.12499999999999999
            ],
            [
             0.715,
             0.15
            ],
            [
             0.2516326530612245,
             0.14999999999999997
            ],
            [
             0,
             0.04
            ],
            [
             0.22499999999999998,
             0.07499999999999998
            ],
            [
             1.5116326530612245,
             0.375
            ],
            [
             0,
             0
            ],
            [
             0.975,
             0.785
            ],
            [
             0,
             0.14999999999999997
            ],
            [
             1.0416326530612245,
             0.14999999999999997
            ],
            [
             0,
             0
            ],
            [
             0,
             0
            ],
            [
             0,
             0.3266326530612245
            ]
           ],
           [
            [
             0,
             0.22499999999999998,
             0.3266326530612245,
             0.14999999999999997,
             1.2666326530612244,
             0
            ],
            [
             0.225,
             0.83,
             0.855,
             0.8816326530612245,
             0.5516326530612244,
             1.05
            ],
            [
             0.4766326530612245,
             0,
             1.1166326530612245,
             0.4766326530612245,
             1.628265306122449,
             0.8066326530612246
            ],
            [
             0,
             0,
             0.075,
             0,
             0.37499999999999994,
             0
            ],
            [
             1.81,
             0.4149999999999999,
             0.3066326530612245,
             -0.18999999999999997,
             1.9899999999999998,
             0.9299999999999999
            ],
            [
             0,
             0,
             0,
             0,
             0,
             0
            ],
            [
             0,
             0,
             0,
             0.08499999999999999,
             0.09499999999999997,
             0.633265306122449
            ],
            [
             0.7899999999999999,
             0.5950000000000001,
             0.675,
             0.8999999999999999,
             0.37499999999999994,
             2.1300000000000003
            ],
            [
             0.835,
             -0.805,
             0.63,
             0.27499999999999997,
             0,
             0
            ],
            [
             0.3266326530612245,
             0.5432653061224489,
             0,
             0.3266326530612245,
             0.4766326530612245,
             -0.075
            ],
            [
             0,
             0,
             0,
             0,
             0,
             0
            ],
            [
             1.4916326530612245,
             -0.525,
             0.3266326530612245,
             0.15,
             1.518265306122449,
             0.15000000000000002
            ],
            [
             1.795,
             -0.4683673469387756,
             0.83,
             0.10500000000000001,
             1.13,
             0.9299999999999999
            ],
            [
             1.345,
             -0.03500000000000003,
             0.75,
             0.3,
             1.6800000000000002,
             0.39163265306122447
            ],
            [
             0,
             0,
             0.5516326530612246,
             0.2516326530612245,
             0.14999999999999997,
             0.428265306122449
            ],
            [
             0.5950000000000001,
             0.9999999999999999,
             -0.01,
             0.05499999999999999,
             0.9099999999999999,
             0.010000000000000009
            ],
            [
             0.15,
             1.8250000000000002,
             -0.15,
             0.2516326530612245,
             0.22499999999999998,
             0.4800000000000001
            ],
            [
             0.22499999999999998,
             -0.975,
             0.40163265306122453,
             0.14999999999999997,
             -2.7755575615628914e-17,
             0.7050000000000001
            ],
            [
             0,
             0,
             0.5516326530612246,
             0,
             0,
             0.22499999999999998
            ],
            [
             0.96,
             0.1449999999999999,
             0.725,
             0.94,
             1.125,
             2.185
            ],
            [
             0,
             -0.07500000000000007,
             0.8999999999999999,
             0.3266326530612245,
             0.22499999999999998,
             0.15
            ],
            [
             0.555,
             -0.75,
             1.7166326530612244,
             0.22499999999999998,
             0.9299999999999999,
             0.15
            ],
            [
             0.63,
             0,
             0,
             0,
             0,
             0
            ],
            [
             0.7050000000000001,
             -0.09336734693877546,
             0.07499999999999998,
             0,
             0,
             -0.075
            ],
            [
             1.04,
             -0.5733673469387756,
             0,
             0,
             0,
             0
            ]
           ],
           [
            [
             0,
             0.22499999999999998,
             0.3266326530612245,
             0.14999999999999997,
             1.2666326530612244,
             0
            ],
            [
             0.225,
             0.83,
             0.855,
             0.8816326530612245,
             0.5516326530612244,
             1.05
            ],
            [
             0.4766326530612245,
             0,
             1.1166326530612245,
             0.4766326530612245,
             1.628265306122449,
             0.8066326530612246
            ],
            [
             0,
             0,
             0.075,
             0,
             0.37499999999999994,
             0
            ],
            [
             1.81,
             0.4149999999999999,
             0.3066326530612245,
             -0.18999999999999997,
             1.9899999999999998,
             0.9299999999999999
            ],
            [
             0,
             0,
             0,
             0,
             0,
             0
            ],
            [
             0,
             0,
             0,
             0.08499999999999999,
             0.09499999999999997,
             0.633265306122449
            ],
            [
             0.7899999999999999,
             0.5950000000000001,
             0.675,
             0.8999999999999999,
             0.37499999999999994,
             2.1300000000000003
            ],
            [
             0.835,
             -0.805,
             0.63,
             0.27499999999999997,
             0,
             0
            ],
            [
             0.3266326530612245,
             0.5432653061224489,
             0,
             0.3266326530612245,
             0.4766326530612245,
             -0.075
            ],
            [
             0,
             0,
             0,
             0,
             0,
             0
            ],
            [
             1.4916326530612245,
             -0.525,
             0.3266326530612245,
             0.15,
             1.518265306122449,
             0.15000000000000002
            ],
            [
             1.795,
             -0.4683673469387756,
             0.83,
             0.10500000000000001,
             1.13,
             0.9299999999999999
            ],
            [
             1.345,
             -0.03500000000000003,
             0.75,
             0.3,
             1.6800000000000002,
             0.39163265306122447
            ],
            [
             0,
             0,
             0.5516326530612246,
             0.2516326530612245,
             0.14999999999999997,
             0.428265306122449
            ],
            [
             0.5950000000000001,
             0.9999999999999999,
             -0.01,
             0.05499999999999999,
             0.9099999999999999,
             0.010000000000000009
            ],
            [
             0.15,
             1.8250000000000002,
             -0.15,
             0.2516326530612245,
             0.22499999999999998,
             0.4800000000000001
            ],
            [
             0.22499999999999998,
             -0.975,
             0.40163265306122453,
             0.14999999999999997,
             -2.7755575615628914e-17,
             0.7050000000000001
            ],
            [
             0,
             0,
             0.5516326530612246,
             0,
             0,
             0.22499999999999998
            ],
            [
             0.96,
             0.1449999999999999,
             0.725,
             0.94,
             1.125,
             2.185
            ],
            [
             0,
             -0.07500000000000007,
             0.8999999999999999,
             0.3266326530612245,
             0.22499999999999998,
             0.15
            ],
            [
             0.555,
             -0.75,
             1.7166326530612244,
             0.22499999999999998,
             0.9299999999999999,
             0.15
            ],
            [
             0.63,
             0,
             0,
             0,
             0,
             0
            ],
            [
             0.7050000000000001,
             -0.09336734693877546,
             0.07499999999999998,
             0,
             0,
             -0.075
            ],
            [
             1.04,
             -0.5733673469387756,
             0,
             0,
             0,
             0
            ]
           ],
           [
            [
             0,
             0.22499999999999998,
             0.3266326530612245,
             0.14999999999999997,
             1.2666326530612244,
             0
            ],
            [
             0.225,
             0.83,
             0.855,
             0.8816326530612245,
             0.5516326530612244,
             1.05
            ],
            [
             0.4766326530612245,
             0,
             1.1166326530612245,
             0.4766326530612245,
             1.628265306122449,
             0.8066326530612246
            ],
            [
             0,
             0,
             0.075,
             0,
             0.37499999999999994,
             0
            ],
            [
             1.81,
             0.4149999999999999,
             0.3066326530612245,
             -0.18999999999999997,
             1.9899999999999998,
             0.9299999999999999
            ],
            [
             0,
             0,
             0,
             0,
             0,
             0
            ],
            [
             0,
             0,
             0,
             0.08499999999999999,
             0.09499999999999997,
             0.633265306122449
            ],
            [
             0.7899999999999999,
             0.5950000000000001,
             0.675,
             0.8999999999999999,
             0.37499999999999994,
             2.1300000000000003
            ],
            [
             0.835,
             -0.805,
             0.63,
             0.27499999999999997,
             0,
             0
            ],
            [
             0.3266326530612245,
             0.5432653061224489,
             0,
             0.3266326530612245,
             0.4766326530612245,
             -0.075
            ],
            [
             0,
             0,
             0,
             0,
             0,
             0
            ],
            [
             1.4916326530612245,
             -0.525,
             0.3266326530612245,
             0.15,
             1.518265306122449,
             0.15000000000000002
            ],
            [
             1.795,
             -0.4683673469387756,
             0.83,
             0.10500000000000001,
             1.13,
             0.9299999999999999
            ],
            [
             1.345,
             -0.03500000000000003,
             0.75,
             0.3,
             1.6800000000000002,
             0.39163265306122447
            ],
            [
             0,
             0,
             0.5516326530612246,
             0.2516326530612245,
             0.14999999999999997,
             0.428265306122449
            ],
            [
             0.5950000000000001,
             0.9999999999999999,
             -0.01,
             0.05499999999999999,
             0.9099999999999999,
             0.010000000000000009
            ],
            [
             0.15,
             1.8250000000000002,
             -0.15,
             0.2516326530612245,
             0.22499999999999998,
             0.4800000000000001
            ],
            [
             0.22499999999999998,
             -0.975,
             0.40163265306122453,
             0.14999999999999997,
             -2.7755575615628914e-17,
             0.7050000000000001
            ],
            [
             0,
             0,
             0.5516326530612246,
             0,
             0,
             0.22499999999999998
            ],
            [
             0.96,
             0.1449999999999999,
             0.725,
             0.94,
             1.125,
             2.185
            ],
            [
             0,
             -0.07500000000000007,
             0.8999999999999999,
             0.3266326530612245,
             0.22499999999999998,
             0.15
            ],
            [
             0.555,
             -0.75,
             1.7166326530612244,
             0.22499999999999998,
             0.9299999999999999,
             0.15
            ],
            [
             0.63,
             0,
             0,
             0,
             0,
             0
            ],
            [
             0.7050000000000001,
             -0.09336734693877546,
             0.07499999999999998,
             0,
             0,
             -0.075
            ],
            [
             1.04,
             -0.5733673469387756,
             0,
             0,
             0,
             0
            ]
           ],
           [
            [
             0,
             0.22499999999999998,
             0.3266326530612245,
             0.14999999999999997,
             1.2666326530612244,
             0
            ],
            [
             0.225,
             0.83,
             0.855,
             0.8816326530612245,
             0.5516326530612244,
             1.05
            ],
            [
             0.4766326530612245,
             0,
             1.1166326530612245,
             0.4766326530612245,
             1.628265306122449,
             0.8066326530612246
            ],
            [
             0,
             0,
             0.075,
             0,
             0.37499999999999994,
             0
            ],
            [
             1.81,
             0.4149999999999999,
             0.3066326530612245,
             -0.18999999999999997,
             1.9899999999999998,
             0.9299999999999999
            ],
            [
             0,
             0,
             0,
             0,
             0,
             0
            ],
            [
             0,
             0,
             0,
             0.08499999999999999,
             0.09499999999999997,
             0.633265306122449
            ],
            [
             0.7899999999999999,
             0.5950000000000001,
             0.675,
             0.8999999999999999,
             0.37499999999999994,
             2.1300000000000003
            ],
            [
             0.835,
             -0.805,
             0.63,
             0.27499999999999997,
             0,
             0
            ],
            [
             0.3266326530612245,
             0.5432653061224489,
             0,
             0.3266326530612245,
             0.4766326530612245,
             -0.075
            ],
            [
             0,
             0,
             0,
             0,
             0,
             0
            ],
            [
             1.4916326530612245,
             -0.525,
             0.3266326530612245,
             0.15,
             1.518265306122449,
             0.15000000000000002
            ],
            [
             1.795,
             -0.4683673469387756,
             0.83,
             0.10500000000000001,
             1.13,
             0.9299999999999999
            ],
            [
             1.345,
             -0.03500000000000003,
             0.75,
             0.3,
             1.6800000000000002,
             0.39163265306122447
            ],
            [
             0,
             0,
             0.5516326530612246,
             0.2516326530612245,
             0.14999999999999997,
             0.428265306122449
            ],
            [
             0.5950000000000001,
             0.9999999999999999,
             -0.01,
             0.05499999999999999,
             0.9099999999999999,
             0.010000000000000009
            ],
            [
             0.15,
             1.8250000000000002,
             -0.15,
             0.2516326530612245,
             0.22499999999999998,
             0.4800000000000001
            ],
            [
             0.22499999999999998,
             -0.975,
             0.40163265306122453,
             0.14999999999999997,
             -2.7755575615628914e-17,
             0.7050000000000001
            ],
            [
             0,
             0,
             0.5516326530612246,
             0,
             0,
             0.22499999999999998
            ],
            [
             0.96,
             0.1449999999999999,
             0.725,
             0.94,
             1.125,
             2.185
            ],
            [
             0,
             -0.07500000000000007,
             0.8999999999999999,
             0.3266326530612245,
             0.22499999999999998,
             0.15
            ],
            [
             0.555,
             -0.75,
             1.7166326530612244,
             0.22499999999999998,
             0.9299999999999999,
             0.15
            ],
            [
             0.63,
             0,
             0,
             0,
             0,
             0
            ],
            [
             0.7050000000000001,
             -0.09336734693877546,
             0.07499999999999998,
             0,
             0,
             -0.075
            ],
            [
             1.04,
             -0.5733673469387756,
             0,
             0,
             0,
             0
            ]
           ],
           [
            [
             0,
             -0.14999999999999997
            ],
            [
             0.22499999999999998,
             0
            ],
            [
             0.5516326530612244,
             -0.3
            ],
            [
             0.7050000000000001,
             0.22499999999999998
            ],
            [
             0.21499999999999997,
             0.13999999999999996
            ],
            [
             0,
             0
            ],
            [
             0,
             0
            ],
            [
             1.875,
             -0.15
            ],
            [
             0.4866326530612245,
             0.4666326530612245
            ],
            [
             0.865,
             0.40163265306122453
            ],
            [
             0,
             0
            ],
            [
             0.1766326530612245,
             0
            ],
            [
             0.31999999999999995,
             0.24499999999999997
            ],
            [
             0.14999999999999997,
             0.3
            ],
            [
             1.2266326530612244,
             0
            ],
            [
             0.5316326530612245,
             0.010000000000000002
            ],
            [
             0.29999999999999993,
             -0.075
            ],
            [
             0.6266326530612245,
             0.22499999999999998
            ],
            [
             0,
             0
            ],
            [
             0.8899999999999999,
             0.31
            ],
            [
             0.37499999999999994,
             0
            ],
            [
             -0.15000000000000002,
             -0.075
            ],
            [
             0.14999999999999997,
             0
            ],
            [
             0.78,
             0
            ],
            [
             0,
             0
            ]
           ],
           [
            [
             0,
             -0.14999999999999997
            ],
            [
             0.22499999999999998,
             0
            ],
            [
             0.5516326530612244,
             -0.3
            ],
            [
             0.7050000000000001,
             0.22499999999999998
            ],
            [
             0.21499999999999997,
             0.13999999999999996
            ],
            [
             0,
             0
            ],
            [
             0,
             0
            ],
            [
             1.875,
             -0.15
            ],
            [
             0.4866326530612245,
             0.4666326530612245
            ],
            [
             0.865,
             0.40163265306122453
            ],
            [
             0,
             0
            ],
            [
             0.1766326530612245,
             0
            ],
            [
             0.31999999999999995,
             0.24499999999999997
            ],
            [
             0.14999999999999997,
             0.3
            ],
            [
             1.2266326530612244,
             0
            ],
            [
             0.5316326530612245,
             0.010000000000000002
            ],
            [
             0.29999999999999993,
             -0.075
            ],
            [
             0.6266326530612245,
             0.22499999999999998
            ],
            [
             0,
             0
            ],
            [
             0.8899999999999999,
             0.31
            ],
            [
             0.37499999999999994,
             0
            ],
            [
             -0.15000000000000002,
             -0.075
            ],
            [
             0.14999999999999997,
             0
            ],
            [
             0.78,
             0
            ],
            [
             0,
             0
            ]
           ],
           [
            [
             0,
             -0.22499999999999998
            ],
            [
             0.6000000000000001,
             0.6300000000000001
            ],
            [
             0.10163265306122451,
             0.25500000000000006
            ],
            [
             0.075,
             -0.07499999999999997
            ],
            [
             1.125,
             0.5549999999999999
            ],
            [
             0,
             0
            ],
            [
             -0.12,
             0.39326530612244903
            ],
            [
             0.075,
             0.565
            ],
            [
             0,
             0
            ],
            [
             -0.07499999999999998,
             -0.07499999999999997
            ],
            [
             0,
             0
            ],
            [
             1.6316326530612246,
             -0.12336734693877544
            ],
            [
             0.065,
             -0.019999999999999962
            ],
            [
             1.455,
             0.17663265306122455
            ],
            [
             0.15,
             0.15000000000000002
            ],
            [
             0.05500000000000001,
             0.006632653061224542
            ],
            [
             0.22499999999999998,
             0.10163265306122454
            ],
            [
             0.07499999999999998,
             0.503265306122449
            ],
            [
             0,
             0
            ],
            [
             0.26,
             1.82
            ],
            [
             0.375,
             0.15000000000000002
            ],
            [
             1.805,
             0.10163265306122454
            ],
            [
             0,
             0
            ],
            [
             0,
             0.17663265306122455
            ],
            [
             0.075,
             0
            ]
           ],
           [
            [
             0,
             -0.22499999999999998
            ],
            [
             0.6000000000000001,
             0.6300000000000001
            ],
            [
             0.10163265306122451,
             0.25500000000000006
            ],
            [
             0.075,
             -0.07499999999999997
            ],
            [
             1.125,
             0.5549999999999999
            ],
            [
             0,
             0
            ],
            [
             -0.12,
             0.39326530612244903
            ],
            [
             0.075,
             0.565
            ],
            [
             0,
             0
            ],
            [
             -0.07499999999999998,
             -0.07499999999999997
            ],
            [
             0,
             0
            ],
            [
             1.6316326530612246,
             -0.12336734693877544
            ],
            [
             0.065,
             -0.019999999999999962
            ],
            [
             1.455,
             0.17663265306122455
            ],
            [
             0.15,
             0.15000000000000002
            ],
            [
             0.05500000000000001,
             0.006632653061224542
            ],
            [
             0.22499999999999998,
             0.10163265306122454
            ],
            [
             0.07499999999999998,
             0.503265306122449
            ],
            [
             0,
             0
            ],
            [
             0.26,
             1.82
            ],
            [
             0.375,
             0.15000000000000002
            ],
            [
             1.805,
             0.10163265306122454
            ],
            [
             0,
             0
            ],
            [
             0,
             0.17663265306122455
            ],
            [
             0.075,
             0
            ]
           ],
           [
            [
             0,
             0.22499999999999998,
             0.3266326530612245,
             0.14999999999999997,
             1.2666326530612244,
             0
            ],
            [
             0.225,
             0.83,
             0.855,
             0.8816326530612245,
             0.5516326530612244,
             1.05
            ],
            [
             0.4766326530612245,
             0,
             1.1166326530612245,
             0.4766326530612245,
             1.628265306122449,
             0.8066326530612246
            ],
            [
             0,
             0,
             0.075,
             0,
             0.37499999999999994,
             0
            ],
            [
             1.81,
             0.4149999999999999,
             0.3066326530612245,
             -0.18999999999999997,
             1.9899999999999998,
             0.9299999999999999
            ],
            [
             0,
             0,
             0,
             0,
             0,
             0
            ],
            [
             0,
             0,
             0,
             0.08499999999999999,
             0.09499999999999997,
             0.633265306122449
            ],
            [
             0.7899999999999999,
             0.5950000000000001,
             0.675,
             0.8999999999999999,
             0.37499999999999994,
             2.1300000000000003
            ],
            [
             0.835,
             -0.805,
             0.63,
             0.27499999999999997,
             0,
             0
            ],
            [
             0.3266326530612245,
             0.5432653061224489,
             0,
             0.3266326530612245,
             0.4766326530612245,
             -0.075
            ],
            [
             0,
             0,
             0,
             0,
             0,
             0
            ],
            [
             1.4916326530612245,
             -0.525,
             0.3266326530612245,
             0.15,
             1.518265306122449,
             0.15000000000000002
            ],
            [
             1.795,
             -0.4683673469387756,
             0.83,
             0.10500000000000001,
             1.13,
             0.9299999999999999
            ],
            [
             1.345,
             -0.03500000000000003,
             0.75,
             0.3,
             1.6800000000000002,
             0.39163265306122447
            ],
            [
             0,
             0,
             0.5516326530612246,
             0.2516326530612245,
             0.14999999999999997,
             0.428265306122449
            ],
            [
             0.5950000000000001,
             0.9999999999999999,
             -0.01,
             0.05499999999999999,
             0.9099999999999999,
             0.010000000000000009
            ],
            [
             0.15,
             1.8250000000000002,
             -0.15,
             0.2516326530612245,
             0.22499999999999998,
             0.4800000000000001
            ],
            [
             0.22499999999999998,
             -0.975,
             0.40163265306122453,
             0.14999999999999997,
             -2.7755575615628914e-17,
             0.7050000000000001
            ],
            [
             0,
             0,
             0.5516326530612246,
             0,
             0,
             0.22499999999999998
            ],
            [
             0.96,
             0.1449999999999999,
             0.725,
             0.94,
             1.125,
             2.185
            ],
            [
             0,
             -0.07500000000000007,
             0.8999999999999999,
             0.3266326530612245,
             0.22499999999999998,
             0.15
            ],
            [
             0.555,
             -0.75,
             1.7166326530612244,
             0.22499999999999998,
             0.9299999999999999,
             0.15
            ],
            [
             0.63,
             0,
             0,
             0,
             0,
             0
            ],
            [
             0.7050000000000001,
             -0.09336734693877546,
             0.07499999999999998,
             0,
             0,
             -0.075
            ],
            [
             1.04,
             -0.5733673469387756,
             0,
             0,
             0,
             0
            ]
           ],
           [
            [
             0,
             0.22499999999999998,
             0.3266326530612245,
             0.14999999999999997,
             1.2666326530612244,
             0
            ],
            [
             0.225,
             0.83,
             0.855,
             0.8816326530612245,
             0.5516326530612244,
             1.05
            ],
            [
             0.4766326530612245,
             0,
             1.1166326530612245,
             0.4766326530612245,
             1.628265306122449,
             0.8066326530612246
            ],
            [
             0,
             0,
             0.075,
             0,
             0.37499999999999994,
             0
            ],
            [
             1.81,
             0.4149999999999999,
             0.3066326530612245,
             -0.18999999999999997,
             1.9899999999999998,
             0.9299999999999999
            ],
            [
             0,
             0,
             0,
             0,
             0,
             0
            ],
            [
             0,
             0,
             0,
             0.08499999999999999,
             0.09499999999999997,
             0.633265306122449
            ],
            [
             0.7899999999999999,
             0.5950000000000001,
             0.675,
             0.8999999999999999,
             0.37499999999999994,
             2.1300000000000003
            ],
            [
             0.835,
             -0.805,
             0.63,
             0.27499999999999997,
             0,
             0
            ],
            [
             0.3266326530612245,
             0.5432653061224489,
             0,
             0.3266326530612245,
             0.4766326530612245,
             -0.075
            ],
            [
             0,
             0,
             0,
             0,
             0,
             0
            ],
            [
             1.4916326530612245,
             -0.525,
             0.3266326530612245,
             0.15,
             1.518265306122449,
             0.15000000000000002
            ],
            [
             1.795,
             -0.4683673469387756,
             0.83,
             0.10500000000000001,
             1.13,
             0.9299999999999999
            ],
            [
             1.345,
             -0.03500000000000003,
             0.75,
             0.3,
             1.6800000000000002,
             0.39163265306122447
            ],
            [
             0,
             0,
             0.5516326530612246,
             0.2516326530612245,
             0.14999999999999997,
             0.428265306122449
            ],
            [
             0.5950000000000001,
             0.9999999999999999,
             -0.01,
             0.05499999999999999,
             0.9099999999999999,
             0.010000000000000009
            ],
            [
             0.15,
             1.8250000000000002,
             -0.15,
             0.2516326530612245,
             0.22499999999999998,
             0.4800000000000001
            ],
            [
             0.22499999999999998,
             -0.975,
             0.40163265306122453,
             0.14999999999999997,
             -2.7755575615628914e-17,
             0.7050000000000001
            ],
            [
             0,
             0,
             0.5516326530612246,
             0,
             0,
             0.22499999999999998
            ],
            [
             0.96,
             0.1449999999999999,
             0.725,
             0.94,
             1.125,
             2.185
            ],
            [
             0,
             -0.07500000000000007,
             0.8999999999999999,
             0.3266326530612245,
             0.22499999999999998,
             0.15
            ],
            [
             0.555,
             -0.75,
             1.7166326530612244,
             0.22499999999999998,
             0.9299999999999999,
             0.15
            ],
            [
             0.63,
             0,
             0,
             0,
             0,
             0
            ],
            [
             0.7050000000000001,
             -0.09336734693877546,
             0.07499999999999998,
             0,
             0,
             -0.075
            ],
            [
             1.04,
             -0.5733673469387756,
             0,
             0,
             0,
             0
            ]
           ],
           [
            [
             0,
             -0.3749999999999999,
             0.15,
             0.7050000000000001
            ],
            [
             0.15,
             -0.29999999999999993,
             0,
             0.94
            ],
            [
             0.1766326530612245,
             1.103265306122449,
             0.15,
             1.1166326530612245
            ],
            [
             0,
             1.315,
             0.075,
             0
            ],
            [
             0.7899999999999999,
             1.725,
             0.5516326530612246,
             0.3
            ],
            [
             1.5300000000000002,
             0,
             0.555,
             0.653265306122449
            ],
            [
             0.065,
             -0.3549999999999999,
             0,
             0
            ],
            [
             0.715,
             0.675,
             0.7899999999999999,
             1.2
            ],
            [
             0,
             0,
             0.155,
             0.835
            ],
            [
             0.2516326530612245,
             -0.19836734693877545,
             0.075,
             1.27
            ],
            [
             0,
             0,
             0,
             0
            ],
            [
             0.15,
             0.5916326530612246,
             0.825,
             1.2266326530612246
            ],
            [
             0.31663265306122446,
             0.4866326530612246,
             0.125,
             0.075
            ],
            [
             0.15,
             0.49,
             1.505,
             -0.07499999999999998
            ],
            [
             0.6266326530612245,
             0.2550000000000001,
             -0.075,
             0
            ],
            [
             0.295,
             0.051632653061224554,
             0.7150000000000001,
             0.18
            ],
            [
             0,
             -0.37499999999999994,
             0,
             0.63
            ],
            [
             0,
             0.2550000000000001,
             0.653265306122449,
             0.075
            ],
            [
             0,
             -0.44999999999999996,
             0,
             0
            ],
            [
             1.04,
             1.4966326530612246,
             2.5599999999999996,
             0.7050000000000001
            ],
            [
             0.1766326530612245,
             0,
             0.14999999999999997,
             2.0516326530612243
            ],
            [
             0,
             -0.29999999999999993,
             0.48000000000000004,
             0.075
            ],
            [
             0,
             0,
             0,
             0
            ],
            [
             0,
             -0.22499999999999992,
             0,
             0
            ],
            [
             0,
             0,
             0,
             0
            ]
           ],
           [
            [
             0,
             -0.3749999999999999,
             0.15,
             0.7050000000000001
            ],
            [
             0.15,
             -0.29999999999999993,
             0,
             0.94
            ],
            [
             0.1766326530612245,
             1.103265306122449,
             0.15,
             1.1166326530612245
            ],
            [
             0,
             1.315,
             0.075,
             0
            ],
            [
             0.7899999999999999,
             1.725,
             0.5516326530612246,
             0.3
            ],
            [
             1.5300000000000002,
             0,
             0.555,
             0.653265306122449
            ],
            [
             0.065,
             -0.3549999999999999,
             0,
             0
            ],
            [
             0.715,
             0.675,
             0.7899999999999999,
             1.2
            ],
            [
             0,
             0,
             0.155,
             0.835
            ],
            [
             0.2516326530612245,
             -0.19836734693877545,
             0.075,
             1.27
            ],
            [
             0,
             0,
             0,
             0
            ],
            [
             0.15,
             0.5916326530612246,
             0.825,
             1.2266326530612246
            ],
            [
             0.31663265306122446,
             0.4866326530612246,
             0.125,
             0.075
            ],
            [
             0.15,
             0.49,
             1.505,
             -0.07499999999999998
            ],
            [
             0.6266326530612245,
             0.2550000000000001,
             -0.075,
             0
            ],
            [
             0.295,
             0.051632653061224554,
             0.7150000000000001,
             0.18
            ],
            [
             0,
             -0.37499999999999994,
             0,
             0.63
            ],
            [
             0,
             0.2550000000000001,
             0.653265306122449,
             0.075
            ],
            [
             0,
             -0.44999999999999996,
             0,
             0
            ],
            [
             1.04,
             1.4966326530612246,
             2.5599999999999996,
             0.7050000000000001
            ],
            [
             0.1766326530612245,
             0,
             0.14999999999999997,
             2.0516326530612243
            ],
            [
             0,
             -0.29999999999999993,
             0.48000000000000004,
             0.075
            ],
            [
             0,
             0,
             0,
             0
            ],
            [
             0,
             -0.22499999999999992,
             0,
             0
            ],
            [
             0,
             0,
             0,
             0
            ]
           ],
           [
            [
             0.78,
             0.63,
             0.075,
             -0.14999999999999997
            ],
            [
             1.6800000000000002,
             -0.07499999999999998,
             1.165,
             0.15000000000000002
            ],
            [
             0.9048979591836736,
             0.3266326530612245,
             -0.14999999999999997,
             0.48000000000000004
            ],
            [
             0.40163265306122453,
             1.478265306122449,
             0.075,
             0.49000000000000005
            ],
            [
             1.2,
             0.21499999999999997,
             0.21499999999999997,
             1.4550000000000003
            ],
            [
             1.368265306122449,
             0.40163265306122453,
             0.22499999999999998,
             -0.07499999999999997
            ],
            [
             0,
             0,
             0,
             0
            ],
            [
             1.1916326530612245,
             0.40163265306122453,
             0.6,
             -0.22499999999999998
            ],
            [
             0.9299999999999999,
             0.875,
             0,
             -0.24999999999999997
            ],
            [
             0.653265306122449,
             0,
             0,
             1.328265306122449
            ],
            [
             0,
             0,
             0,
             0
            ],
            [
             0.6,
             0.353265306122449,
             0.6798979591836736,
             1.3450000000000002
            ],
            [
             0.515,
             0.02500000000000001,
             0.7599999999999999,
             0.9066326530612245
            ],
            [
             0.4766326530612245,
             0.3,
             1.42,
             2.1799999999999997
            ],
            [
             0,
             0.075,
             -0.07499999999999998,
             0.15000000000000002
            ],
            [
             0.8,
             -0.07999999999999999,
             0.15999999999999998,
             0.73
            ],
            [
             0.865,
             0.1766326530612245,
             1.2,
             2.7755575615628914e-17
            ],
            [
             0.9,
             0,
             0.2516326530612245,
             0.865
            ],
            [
             0,
             0,
             0,
             0
            ],
            [
             0.7050000000000001,
             0.095,
             0.68,
             0.845
            ],
            [
             1.2,
             0.15,
             0.8999999999999999,
             0.17663265306122455
            ],
            [
             1.5399999999999998,
             0.15,
             0.15,
             1.12
            ],
            [
             0,
             0,
             0,
             0
            ],
            [
             0.15,
             0,
             0,
             0
            ],
            [
             0,
             0,
             0,
             0
            ]
           ],
           [
            [
             0.78,
             0.63,
             0.075,
             -0.14999999999999997
            ],
            [
             1.6800000000000002,
             -0.07499999999999998,
             1.165,
             0.15000000000000002
            ],
            [
             0.9048979591836736,
             0.3266326530612245,
             -0.14999999999999997,
             0.48000000000000004
            ],
            [
             0.40163265306122453,
             1.478265306122449,
             0.075,
             0.49000000000000005
            ],
            [
             1.2,
             0.21499999999999997,
             0.21499999999999997,
             1.4550000000000003
            ],
            [
             1.368265306122449,
             0.40163265306122453,
             0.22499999999999998,
             -0.07499999999999997
            ],
            [
             0,
             0,
             0,
             0
            ],
            [
             1.1916326530612245,
             0.40163265306122453,
             0.6,
             -0.22499999999999998
            ],
            [
             0.9299999999999999,
             0.875,
             0,
             -0.24999999999999997
            ],
            [
             0.653265306122449,
             0,
             0,
             1.328265306122449
            ],
            [
             0,
             0,
             0,
             0
            ],
            [
             0.6,
             0.353265306122449,
             0.6798979591836736,
             1.3450000000000002
            ],
            [
             0.515,
             0.02500000000000001,
             0.7599999999999999,
             0.9066326530612245
            ],
            [
             0.4766326530612245,
             0.3,
             1.42,
             2.1799999999999997
            ],
            [
             0,
             0.075,
             -0.07499999999999998,
             0.15000000000000002
            ],
            [
             0.8,
             -0.07999999999999999,
             0.15999999999999998,
             0.73
            ],
            [
             0.865,
             0.1766326530612245,
             1.2,
             2.7755575615628914e-17
            ],
            [
             0.9,
             0,
             0.2516326530612245,
             0.865
            ],
            [
             0,
             0,
             0,
             0
            ],
            [
             0.7050000000000001,
             0.095,
             0.68,
             0.845
            ],
            [
             1.2,
             0.15,
             0.8999999999999999,
             0.17663265306122455
            ],
            [
             1.5399999999999998,
             0.15,
             0.15,
             1.12
            ],
            [
             0,
             0,
             0,
             0
            ],
            [
             0.15,
             0,
             0,
             0
            ],
            [
             0,
             0,
             0,
             0
            ]
           ],
           [
            [
             0.78,
             0.63,
             0.075,
             -0.14999999999999997
            ],
            [
             1.6800000000000002,
             -0.07499999999999998,
             1.165,
             0.15000000000000002
            ],
            [
             0.9048979591836736,
             0.3266326530612245,
             -0.14999999999999997,
             0.48000000000000004
            ],
            [
             0.40163265306122453,
             1.478265306122449,
             0.075,
             0.49000000000000005
            ],
            [
             1.2,
             0.21499999999999997,
             0.21499999999999997,
             1.4550000000000003
            ],
            [
             1.368265306122449,
             0.40163265306122453,
             0.22499999999999998,
             -0.07499999999999997
            ],
            [
             0,
             0,
             0,
             0
            ],
            [
             1.1916326530612245,
             0.40163265306122453,
             0.6,
             -0.22499999999999998
            ],
            [
             0.9299999999999999,
             0.875,
             0,
             -0.24999999999999997
            ],
            [
             0.653265306122449,
             0,
             0,
             1.328265306122449
            ],
            [
             0,
             0,
             0,
             0
            ],
            [
             0.6,
             0.353265306122449,
             0.6798979591836736,
             1.3450000000000002
            ],
            [
             0.515,
             0.02500000000000001,
             0.7599999999999999,
             0.9066326530612245
            ],
            [
             0.4766326530612245,
             0.3,
             1.42,
             2.1799999999999997
            ],
            [
             0,
             0.075,
             -0.07499999999999998,
             0.15000000000000002
            ],
            [
             0.8,
             -0.07999999999999999,
             0.15999999999999998,
             0.73
            ],
            [
             0.865,
             0.1766326530612245,
             1.2,
             2.7755575615628914e-17
            ],
            [
             0.9,
             0,
             0.2516326530612245,
             0.865
            ],
            [
             0,
             0,
             0,
             0
            ],
            [
             0.7050000000000001,
             0.095,
             0.68,
             0.845
            ],
            [
             1.2,
             0.15,
             0.8999999999999999,
             0.17663265306122455
            ],
            [
             1.5399999999999998,
             0.15,
             0.15,
             1.12
            ],
            [
             0,
             0,
             0,
             0
            ],
            [
             0.15,
             0,
             0,
             0
            ],
            [
             0,
             0,
             0,
             0
            ]
           ],
           [
            [
             0.78,
             0.63,
             0.075,
             -0.14999999999999997
            ],
            [
             1.6800000000000002,
             -0.07499999999999998,
             1.165,
             0.15000000000000002
            ],
            [
             0.9048979591836736,
             0.3266326530612245,
             -0.14999999999999997,
             0.48000000000000004
            ],
            [
             0.40163265306122453,
             1.478265306122449,
             0.075,
             0.49000000000000005
            ],
            [
             1.2,
             0.21499999999999997,
             0.21499999999999997,
             1.4550000000000003
            ],
            [
             1.368265306122449,
             0.40163265306122453,
             0.22499999999999998,
             -0.07499999999999997
            ],
            [
             0,
             0,
             0,
             0
            ],
            [
             1.1916326530612245,
             0.40163265306122453,
             0.6,
             -0.22499999999999998
            ],
            [
             0.9299999999999999,
             0.875,
             0,
             -0.24999999999999997
            ],
            [
             0.653265306122449,
             0,
             0,
             1.328265306122449
            ],
            [
             0,
             0,
             0,
             0
            ],
            [
             0.6,
             0.353265306122449,
             0.6798979591836736,
             1.3450000000000002
            ],
            [
             0.515,
             0.02500000000000001,
             0.7599999999999999,
             0.9066326530612245
            ],
            [
             0.4766326530612245,
             0.3,
             1.42,
             2.1799999999999997
            ],
            [
             0,
             0.075,
             -0.07499999999999998,
             0.15000000000000002
            ],
            [
             0.8,
             -0.07999999999999999,
             0.15999999999999998,
             0.73
            ],
            [
             0.865,
             0.1766326530612245,
             1.2,
             2.7755575615628914e-17
            ],
            [
             0.9,
             0,
             0.2516326530612245,
             0.865
            ],
            [
             0,
             0,
             0,
             0
            ],
            [
             0.7050000000000001,
             0.095,
             0.68,
             0.845
            ],
            [
             1.2,
             0.15,
             0.8999999999999999,
             0.17663265306122455
            ],
            [
             1.5399999999999998,
             0.15,
             0.15,
             1.12
            ],
            [
             0,
             0,
             0,
             0
            ],
            [
             0.15,
             0,
             0,
             0
            ],
            [
             0,
             0,
             0,
             0
            ]
           ],
           [
            [
             0,
             -0.3749999999999999,
             0.15,
             0.7050000000000001
            ],
            [
             0.15,
             -0.29999999999999993,
             0,
             0.94
            ],
            [
             0.1766326530612245,
             1.103265306122449,
             0.15,
             1.1166326530612245
            ],
            [
             0,
             1.315,
             0.075,
             0
            ],
            [
             0.7899999999999999,
             1.725,
             0.5516326530612246,
             0.3
            ],
            [
             1.5300000000000002,
             0,
             0.555,
             0.653265306122449
            ],
            [
             0.065,
             -0.3549999999999999,
             0,
             0
            ],
            [
             0.715,
             0.675,
             0.7899999999999999,
             1.2
            ],
            [
             0,
             0,
             0.155,
             0.835
            ],
            [
             0.2516326530612245,
             -0.19836734693877545,
             0.075,
             1.27
            ],
            [
             0,
             0,
             0,
             0
            ],
            [
             0.15,
             0.5916326530612246,
             0.825,
             1.2266326530612246
            ],
            [
             0.31663265306122446,
             0.4866326530612246,
             0.125,
             0.075
            ],
            [
             0.15,
             0.49,
             1.505,
             -0.07499999999999998
            ],
            [
             0.6266326530612245,
             0.2550000000000001,
             -0.075,
             0
            ],
            [
             0.295,
             0.051632653061224554,
             0.7150000000000001,
             0.18
            ],
            [
             0,
             -0.37499999999999994,
             0,
             0.63
            ],
            [
             0,
             0.2550000000000001,
             0.653265306122449,
             0.075
            ],
            [
             0,
             -0.44999999999999996,
             0,
             0
            ],
            [
             1.04,
             1.4966326530612246,
             2.5599999999999996,
             0.7050000000000001
            ],
            [
             0.1766326530612245,
             0,
             0.14999999999999997,
             2.0516326530612243
            ],
            [
             0,
             -0.29999999999999993,
             0.48000000000000004,
             0.075
            ],
            [
             0,
             0,
             0,
             0
            ],
            [
             0,
             -0.22499999999999992,
             0,
             0
            ],
            [
             0,
             0,
             0,
             0
            ]
           ],
           [
            [
             0,
             -0.3749999999999999,
             0.15,
             0.7050000000000001
            ],
            [
             0.15,
             -0.29999999999999993,
             0,
             0.94
            ],
            [
             0.1766326530612245,
             1.103265306122449,
             0.15,
             1.1166326530612245
            ],
            [
             0,
             1.315,
             0.075,
             0
            ],
            [
             0.7899999999999999,
             1.725,
             0.5516326530612246,
             0.3
            ],
            [
             1.5300000000000002,
             0,
             0.555,
             0.653265306122449
            ],
            [
             0.065,
             -0.3549999999999999,
             0,
             0
            ],
            [
             0.715,
             0.675,
             0.7899999999999999,
             1.2
            ],
            [
             0,
             0,
             0.155,
             0.835
            ],
            [
             0.2516326530612245,
             -0.19836734693877545,
             0.075,
             1.27
            ],
            [
             0,
             0,
             0,
             0
            ],
            [
             0.15,
             0.5916326530612246,
             0.825,
             1.2266326530612246
            ],
            [
             0.31663265306122446,
             0.4866326530612246,
             0.125,
             0.075
            ],
            [
             0.15,
             0.49,
             1.505,
             -0.07499999999999998
            ],
            [
             0.6266326530612245,
             0.2550000000000001,
             -0.075,
             0
            ],
            [
             0.295,
             0.051632653061224554,
             0.7150000000000001,
             0.18
            ],
            [
             0,
             -0.37499999999999994,
             0,
             0.63
            ],
            [
             0,
             0.2550000000000001,
             0.653265306122449,
             0.075
            ],
            [
             0,
             -0.44999999999999996,
             0,
             0
            ],
            [
             1.04,
             1.4966326530612246,
             2.5599999999999996,
             0.7050000000000001
            ],
            [
             0.1766326530612245,
             0,
             0.14999999999999997,
             2.0516326530612243
            ],
            [
             0,
             -0.29999999999999993,
             0.48000000000000004,
             0.075
            ],
            [
             0,
             0,
             0,
             0
            ],
            [
             0,
             -0.22499999999999992,
             0,
             0
            ],
            [
             0,
             0,
             0,
             0
            ]
           ],
           [
            [
             0.8516326530612246,
             0.48000000000000004
            ],
            [
             0.5916326530612245,
             1.11
            ],
            [
             -0.3,
             0.4766326530612245
            ],
            [
             -0.44999999999999996,
             0.3266326530612245
            ],
            [
             1.315,
             1.8399999999999999
            ],
            [
             -0.29999999999999993,
             2.016632653061224
            ],
            [
             0,
             0
            ],
            [
             -0.5249999999999999,
             1.8399999999999999
            ],
            [
             -0.44999999999999996,
             1.5799999999999998
            ],
            [
             0.02663265306122453,
             1.208265306122449
            ],
            [
             0,
             0
            ],
            [
             0.3566326530612246,
             0.8066326530612246
            ],
            [
             0.8,
             0.455
            ],
            [
             0.9966326530612246,
             1.6149999999999998
            ],
            [
             0.675,
             0.8066326530612246
            ],
            [
             0.28500000000000014,
             1.07
            ],
            [
             -0.22499999999999998,
             1.05
            ],
            [
             -0.37499999999999994,
             1.645
            ],
            [
             0,
             0
            ],
            [
             0.3800000000000001,
             1.3816326530612244
            ],
            [
             0.6399999999999999,
             1.6050000000000002
            ],
            [
             -0.14999999999999997,
             0.865
            ],
            [
             0,
             0
            ],
            [
             0,
             0
            ],
            [
             0,
             0
            ]
           ],
           [
            [
             0.8516326530612246,
             0.48000000000000004
            ],
            [
             0.5916326530612245,
             1.11
            ],
            [
             -0.3,
             0.4766326530612245
            ],
            [
             -0.44999999999999996,
             0.3266326530612245
            ],
            [
             1.315,
             1.8399999999999999
            ],
            [
             -0.29999999999999993,
             2.016632653061224
            ],
            [
             0,
             0
            ],
            [
             -0.5249999999999999,
             1.8399999999999999
            ],
            [
             -0.44999999999999996,
             1.5799999999999998
            ],
            [
             0.02663265306122453,
             1.208265306122449
            ],
            [
             0,
             0
            ],
            [
             0.3566326530612246,
             0.8066326530612246
            ],
            [
             0.8,
             0.455
            ],
            [
             0.9966326530612246,
             1.6149999999999998
            ],
            [
             0.675,
             0.8066326530612246
            ],
            [
             0.28500000000000014,
             1.07
            ],
            [
             -0.22499999999999998,
             1.05
            ],
            [
             -0.37499999999999994,
             1.645
            ],
            [
             0,
             0
            ],
            [
             0.3800000000000001,
             1.3816326530612244
            ],
            [
             0.6399999999999999,
             1.6050000000000002
            ],
            [
             -0.14999999999999997,
             0.865
            ],
            [
             0,
             0
            ],
            [
             0,
             0
            ],
            [
             0,
             0
            ]
           ]
          ]
         },
         "header": {
          "align": "left",
          "fill": {
           "color": "paleturquoise"
          },
          "values": [
           "American Int'l",
           "American Int'l",
           "St. Thomas",
           "St. Thomas",
           "Michigan Tech",
           "Michigan Tech",
           "Omaha",
           "Omaha",
           "Northern Michigan",
           "Northern Michigan",
           "Rensselaer",
           "Rensselaer",
           "Penn State",
           "Penn State",
           "Anchorage",
           "Anchorage",
           "Anchorage",
           "Anchorage",
           "Notre Dame",
           "Notre Dame",
           "Denver",
           "Denver",
           "Anchorage",
           "Anchorage",
           "Arizona State",
           "Arizona State",
           "Long Island",
           "Long Island",
           "Long Island",
           "Long Island",
           "Arizona State",
           "Arizona State",
           "Lindenwood",
           "Lindenwood"
          ]
         },
         "type": "table"
        }
       ],
       "layout": {
        "template": {
         "data": {
          "bar": [
           {
            "error_x": {
             "color": "#2a3f5f"
            },
            "error_y": {
             "color": "#2a3f5f"
            },
            "marker": {
             "line": {
              "color": "#E5ECF6",
              "width": 0.5
             },
             "pattern": {
              "fillmode": "overlay",
              "size": 10,
              "solidity": 0.2
             }
            },
            "type": "bar"
           }
          ],
          "barpolar": [
           {
            "marker": {
             "line": {
              "color": "#E5ECF6",
              "width": 0.5
             },
             "pattern": {
              "fillmode": "overlay",
              "size": 10,
              "solidity": 0.2
             }
            },
            "type": "barpolar"
           }
          ],
          "carpet": [
           {
            "aaxis": {
             "endlinecolor": "#2a3f5f",
             "gridcolor": "white",
             "linecolor": "white",
             "minorgridcolor": "white",
             "startlinecolor": "#2a3f5f"
            },
            "baxis": {
             "endlinecolor": "#2a3f5f",
             "gridcolor": "white",
             "linecolor": "white",
             "minorgridcolor": "white",
             "startlinecolor": "#2a3f5f"
            },
            "type": "carpet"
           }
          ],
          "choropleth": [
           {
            "colorbar": {
             "outlinewidth": 0,
             "ticks": ""
            },
            "type": "choropleth"
           }
          ],
          "contour": [
           {
            "colorbar": {
             "outlinewidth": 0,
             "ticks": ""
            },
            "colorscale": [
             [
              0,
              "#0d0887"
             ],
             [
              0.1111111111111111,
              "#46039f"
             ],
             [
              0.2222222222222222,
              "#7201a8"
             ],
             [
              0.3333333333333333,
              "#9c179e"
             ],
             [
              0.4444444444444444,
              "#bd3786"
             ],
             [
              0.5555555555555556,
              "#d8576b"
             ],
             [
              0.6666666666666666,
              "#ed7953"
             ],
             [
              0.7777777777777778,
              "#fb9f3a"
             ],
             [
              0.8888888888888888,
              "#fdca26"
             ],
             [
              1,
              "#f0f921"
             ]
            ],
            "type": "contour"
           }
          ],
          "contourcarpet": [
           {
            "colorbar": {
             "outlinewidth": 0,
             "ticks": ""
            },
            "type": "contourcarpet"
           }
          ],
          "heatmap": [
           {
            "colorbar": {
             "outlinewidth": 0,
             "ticks": ""
            },
            "colorscale": [
             [
              0,
              "#0d0887"
             ],
             [
              0.1111111111111111,
              "#46039f"
             ],
             [
              0.2222222222222222,
              "#7201a8"
             ],
             [
              0.3333333333333333,
              "#9c179e"
             ],
             [
              0.4444444444444444,
              "#bd3786"
             ],
             [
              0.5555555555555556,
              "#d8576b"
             ],
             [
              0.6666666666666666,
              "#ed7953"
             ],
             [
              0.7777777777777778,
              "#fb9f3a"
             ],
             [
              0.8888888888888888,
              "#fdca26"
             ],
             [
              1,
              "#f0f921"
             ]
            ],
            "type": "heatmap"
           }
          ],
          "heatmapgl": [
           {
            "colorbar": {
             "outlinewidth": 0,
             "ticks": ""
            },
            "colorscale": [
             [
              0,
              "#0d0887"
             ],
             [
              0.1111111111111111,
              "#46039f"
             ],
             [
              0.2222222222222222,
              "#7201a8"
             ],
             [
              0.3333333333333333,
              "#9c179e"
             ],
             [
              0.4444444444444444,
              "#bd3786"
             ],
             [
              0.5555555555555556,
              "#d8576b"
             ],
             [
              0.6666666666666666,
              "#ed7953"
             ],
             [
              0.7777777777777778,
              "#fb9f3a"
             ],
             [
              0.8888888888888888,
              "#fdca26"
             ],
             [
              1,
              "#f0f921"
             ]
            ],
            "type": "heatmapgl"
           }
          ],
          "histogram": [
           {
            "marker": {
             "pattern": {
              "fillmode": "overlay",
              "size": 10,
              "solidity": 0.2
             }
            },
            "type": "histogram"
           }
          ],
          "histogram2d": [
           {
            "colorbar": {
             "outlinewidth": 0,
             "ticks": ""
            },
            "colorscale": [
             [
              0,
              "#0d0887"
             ],
             [
              0.1111111111111111,
              "#46039f"
             ],
             [
              0.2222222222222222,
              "#7201a8"
             ],
             [
              0.3333333333333333,
              "#9c179e"
             ],
             [
              0.4444444444444444,
              "#bd3786"
             ],
             [
              0.5555555555555556,
              "#d8576b"
             ],
             [
              0.6666666666666666,
              "#ed7953"
             ],
             [
              0.7777777777777778,
              "#fb9f3a"
             ],
             [
              0.8888888888888888,
              "#fdca26"
             ],
             [
              1,
              "#f0f921"
             ]
            ],
            "type": "histogram2d"
           }
          ],
          "histogram2dcontour": [
           {
            "colorbar": {
             "outlinewidth": 0,
             "ticks": ""
            },
            "colorscale": [
             [
              0,
              "#0d0887"
             ],
             [
              0.1111111111111111,
              "#46039f"
             ],
             [
              0.2222222222222222,
              "#7201a8"
             ],
             [
              0.3333333333333333,
              "#9c179e"
             ],
             [
              0.4444444444444444,
              "#bd3786"
             ],
             [
              0.5555555555555556,
              "#d8576b"
             ],
             [
              0.6666666666666666,
              "#ed7953"
             ],
             [
              0.7777777777777778,
              "#fb9f3a"
             ],
             [
              0.8888888888888888,
              "#fdca26"
             ],
             [
              1,
              "#f0f921"
             ]
            ],
            "type": "histogram2dcontour"
           }
          ],
          "mesh3d": [
           {
            "colorbar": {
             "outlinewidth": 0,
             "ticks": ""
            },
            "type": "mesh3d"
           }
          ],
          "parcoords": [
           {
            "line": {
             "colorbar": {
              "outlinewidth": 0,
              "ticks": ""
             }
            },
            "type": "parcoords"
           }
          ],
          "pie": [
           {
            "automargin": true,
            "type": "pie"
           }
          ],
          "scatter": [
           {
            "fillpattern": {
             "fillmode": "overlay",
             "size": 10,
             "solidity": 0.2
            },
            "type": "scatter"
           }
          ],
          "scatter3d": [
           {
            "line": {
             "colorbar": {
              "outlinewidth": 0,
              "ticks": ""
             }
            },
            "marker": {
             "colorbar": {
              "outlinewidth": 0,
              "ticks": ""
             }
            },
            "type": "scatter3d"
           }
          ],
          "scattercarpet": [
           {
            "marker": {
             "colorbar": {
              "outlinewidth": 0,
              "ticks": ""
             }
            },
            "type": "scattercarpet"
           }
          ],
          "scattergeo": [
           {
            "marker": {
             "colorbar": {
              "outlinewidth": 0,
              "ticks": ""
             }
            },
            "type": "scattergeo"
           }
          ],
          "scattergl": [
           {
            "marker": {
             "colorbar": {
              "outlinewidth": 0,
              "ticks": ""
             }
            },
            "type": "scattergl"
           }
          ],
          "scattermapbox": [
           {
            "marker": {
             "colorbar": {
              "outlinewidth": 0,
              "ticks": ""
             }
            },
            "type": "scattermapbox"
           }
          ],
          "scatterpolar": [
           {
            "marker": {
             "colorbar": {
              "outlinewidth": 0,
              "ticks": ""
             }
            },
            "type": "scatterpolar"
           }
          ],
          "scatterpolargl": [
           {
            "marker": {
             "colorbar": {
              "outlinewidth": 0,
              "ticks": ""
             }
            },
            "type": "scatterpolargl"
           }
          ],
          "scatterternary": [
           {
            "marker": {
             "colorbar": {
              "outlinewidth": 0,
              "ticks": ""
             }
            },
            "type": "scatterternary"
           }
          ],
          "surface": [
           {
            "colorbar": {
             "outlinewidth": 0,
             "ticks": ""
            },
            "colorscale": [
             [
              0,
              "#0d0887"
             ],
             [
              0.1111111111111111,
              "#46039f"
             ],
             [
              0.2222222222222222,
              "#7201a8"
             ],
             [
              0.3333333333333333,
              "#9c179e"
             ],
             [
              0.4444444444444444,
              "#bd3786"
             ],
             [
              0.5555555555555556,
              "#d8576b"
             ],
             [
              0.6666666666666666,
              "#ed7953"
             ],
             [
              0.7777777777777778,
              "#fb9f3a"
             ],
             [
              0.8888888888888888,
              "#fdca26"
             ],
             [
              1,
              "#f0f921"
             ]
            ],
            "type": "surface"
           }
          ],
          "table": [
           {
            "cells": {
             "fill": {
              "color": "#EBF0F8"
             },
             "line": {
              "color": "white"
             }
            },
            "header": {
             "fill": {
              "color": "#C8D4E3"
             },
             "line": {
              "color": "white"
             }
            },
            "type": "table"
           }
          ]
         },
         "layout": {
          "annotationdefaults": {
           "arrowcolor": "#2a3f5f",
           "arrowhead": 0,
           "arrowwidth": 1
          },
          "autotypenumbers": "strict",
          "coloraxis": {
           "colorbar": {
            "outlinewidth": 0,
            "ticks": ""
           }
          },
          "colorscale": {
           "diverging": [
            [
             0,
             "#8e0152"
            ],
            [
             0.1,
             "#c51b7d"
            ],
            [
             0.2,
             "#de77ae"
            ],
            [
             0.3,
             "#f1b6da"
            ],
            [
             0.4,
             "#fde0ef"
            ],
            [
             0.5,
             "#f7f7f7"
            ],
            [
             0.6,
             "#e6f5d0"
            ],
            [
             0.7,
             "#b8e186"
            ],
            [
             0.8,
             "#7fbc41"
            ],
            [
             0.9,
             "#4d9221"
            ],
            [
             1,
             "#276419"
            ]
           ],
           "sequential": [
            [
             0,
             "#0d0887"
            ],
            [
             0.1111111111111111,
             "#46039f"
            ],
            [
             0.2222222222222222,
             "#7201a8"
            ],
            [
             0.3333333333333333,
             "#9c179e"
            ],
            [
             0.4444444444444444,
             "#bd3786"
            ],
            [
             0.5555555555555556,
             "#d8576b"
            ],
            [
             0.6666666666666666,
             "#ed7953"
            ],
            [
             0.7777777777777778,
             "#fb9f3a"
            ],
            [
             0.8888888888888888,
             "#fdca26"
            ],
            [
             1,
             "#f0f921"
            ]
           ],
           "sequentialminus": [
            [
             0,
             "#0d0887"
            ],
            [
             0.1111111111111111,
             "#46039f"
            ],
            [
             0.2222222222222222,
             "#7201a8"
            ],
            [
             0.3333333333333333,
             "#9c179e"
            ],
            [
             0.4444444444444444,
             "#bd3786"
            ],
            [
             0.5555555555555556,
             "#d8576b"
            ],
            [
             0.6666666666666666,
             "#ed7953"
            ],
            [
             0.7777777777777778,
             "#fb9f3a"
            ],
            [
             0.8888888888888888,
             "#fdca26"
            ],
            [
             1,
             "#f0f921"
            ]
           ]
          },
          "colorway": [
           "#636efa",
           "#EF553B",
           "#00cc96",
           "#ab63fa",
           "#FFA15A",
           "#19d3f3",
           "#FF6692",
           "#B6E880",
           "#FF97FF",
           "#FECB52"
          ],
          "font": {
           "color": "#2a3f5f"
          },
          "geo": {
           "bgcolor": "white",
           "lakecolor": "white",
           "landcolor": "#E5ECF6",
           "showlakes": true,
           "showland": true,
           "subunitcolor": "white"
          },
          "hoverlabel": {
           "align": "left"
          },
          "hovermode": "closest",
          "mapbox": {
           "style": "light"
          },
          "paper_bgcolor": "white",
          "plot_bgcolor": "#E5ECF6",
          "polar": {
           "angularaxis": {
            "gridcolor": "white",
            "linecolor": "white",
            "ticks": ""
           },
           "bgcolor": "#E5ECF6",
           "radialaxis": {
            "gridcolor": "white",
            "linecolor": "white",
            "ticks": ""
           }
          },
          "scene": {
           "xaxis": {
            "backgroundcolor": "#E5ECF6",
            "gridcolor": "white",
            "gridwidth": 2,
            "linecolor": "white",
            "showbackground": true,
            "ticks": "",
            "zerolinecolor": "white"
           },
           "yaxis": {
            "backgroundcolor": "#E5ECF6",
            "gridcolor": "white",
            "gridwidth": 2,
            "linecolor": "white",
            "showbackground": true,
            "ticks": "",
            "zerolinecolor": "white"
           },
           "zaxis": {
            "backgroundcolor": "#E5ECF6",
            "gridcolor": "white",
            "gridwidth": 2,
            "linecolor": "white",
            "showbackground": true,
            "ticks": "",
            "zerolinecolor": "white"
           }
          },
          "shapedefaults": {
           "line": {
            "color": "#2a3f5f"
           }
          },
          "ternary": {
           "aaxis": {
            "gridcolor": "white",
            "linecolor": "white",
            "ticks": ""
           },
           "baxis": {
            "gridcolor": "white",
            "linecolor": "white",
            "ticks": ""
           },
           "bgcolor": "#E5ECF6",
           "caxis": {
            "gridcolor": "white",
            "linecolor": "white",
            "ticks": ""
           }
          },
          "title": {
           "x": 0.05
          },
          "xaxis": {
           "automargin": true,
           "gridcolor": "white",
           "linecolor": "white",
           "ticks": "",
           "title": {
            "standoff": 15
           },
           "zerolinecolor": "white",
           "zerolinewidth": 2
          },
          "yaxis": {
           "automargin": true,
           "gridcolor": "white",
           "linecolor": "white",
           "ticks": "",
           "title": {
            "standoff": 15
           },
           "zerolinecolor": "white",
           "zerolinewidth": 2
          }
         }
        }
       }
      }
     },
     "metadata": {},
     "output_type": "display_data"
    }
   ],
   "source": [
    "import plotly.graph_objects as go\n",
    "\n",
    "## USE MSU AS EXAMPLE\n",
    "### MSU Is In Index Position 21 in this case outputing csv for MSU\n",
    "team_tables[unique_teams[21]] = team_tables[unique_teams[21]].fillna(0)\n",
    "msu_df = team_tables[unique_teams[21]].copy()\n",
    "\n",
    "csv_df = msu_df.copy()\n",
    "\n",
    "# Create a basic table\n",
    "fig = go.Figure(data=[go.Table(\n",
    "    header=dict(values=list(csv_df.columns),\n",
    "                fill_color='paleturquoise',\n",
    "                align='left'),\n",
    "    cells=dict(values=[csv_df[col] for col in csv_df.columns],\n",
    "               fill_color='lavender',\n",
    "               align='left'))\n",
    "])\n",
    "\n",
    "fig.show()\n"
   ]
  },
  {
   "cell_type": "code",
   "execution_count": 163,
   "metadata": {},
   "outputs": [
    {
     "data": {
      "application/vnd.plotly.v1+json": {
       "config": {
        "plotlyServerURL": "https://plot.ly"
       },
       "data": [
        {
         "cells": {
          "align": "left",
          "fill": {
           "color": "lavender"
          },
          "values": [
           [
            "A.J. Macaulay",
            "Anton Rubtsov",
            "Arvils Bergmanis",
            "Braden Birnie",
            "Brady Risk",
            "Brayden Nicholetts",
            "Cade Neilson",
            "Chase Dubois",
            "Colin Doyle",
            "Connor Mylymok",
            "Eriks Zohovs",
            "Garrett Pyke",
            "Harrison Israels",
            "Jonny Sorenson",
            "Karl Falk",
            "Kyle Gaffney",
            "Markuss Komuls",
            "Matt Koethe",
            "Matteo Pecchia",
            "Payton Matsui",
            "Simon Falk",
            "T.J. Lloyd",
            "Will Hilfiker",
            "Xavier Jean-Louis",
            "Zachary Power"
           ],
           [
            [
             0.075,
             0.07499999999999998
            ],
            [
             0.075,
             0.4766326530612245
            ],
            [
             0.15,
             -2.7755575615628914e-17
            ],
            [
             0,
             0
            ],
            [
             0.27,
             0.010000000000000009
            ],
            [
             1.0899999999999999,
             0.10163265306122451
            ],
            [
             0.48000000000000004,
             0.5449999999999999
            ],
            [
             -0.15,
             0.33000000000000007
            ],
            [
             0,
             1.05
            ],
            [
             0.3266326530612245,
             0
            ],
            [
             0,
             0
            ],
            [
             0.653265306122449,
             -0.075
            ],
            [
             0.52,
             0.21
            ],
            [
             0.365,
             1.0466326530612244
            ],
            [
             0.1766326530612245,
             -0.15
            ],
            [
             0,
             0.715
            ],
            [
             0.4766326530612245,
             -0.375
            ],
            [
             0.22499999999999998,
             -0.16999999999999998
            ],
            [
             0,
             0
            ],
            [
             0.075,
             -0.065
            ],
            [
             1.05,
             -0.075
            ],
            [
             0.07499999999999998,
             -0.07499999999999998
            ],
            [
             0,
             0
            ],
            [
             0,
             -0.22499999999999998
            ],
            [
             0.045,
             0
            ]
           ],
           [
            [
             0.075,
             0.07499999999999998
            ],
            [
             0.075,
             0.4766326530612245
            ],
            [
             0.15,
             -2.7755575615628914e-17
            ],
            [
             0,
             0
            ],
            [
             0.27,
             0.010000000000000009
            ],
            [
             1.0899999999999999,
             0.10163265306122451
            ],
            [
             0.48000000000000004,
             0.5449999999999999
            ],
            [
             -0.15,
             0.33000000000000007
            ],
            [
             0,
             1.05
            ],
            [
             0.3266326530612245,
             0
            ],
            [
             0,
             0
            ],
            [
             0.653265306122449,
             -0.075
            ],
            [
             0.52,
             0.21
            ],
            [
             0.365,
             1.0466326530612244
            ],
            [
             0.1766326530612245,
             -0.15
            ],
            [
             0,
             0.715
            ],
            [
             0.4766326530612245,
             -0.375
            ],
            [
             0.22499999999999998,
             -0.16999999999999998
            ],
            [
             0,
             0
            ],
            [
             0.075,
             -0.065
            ],
            [
             1.05,
             -0.075
            ],
            [
             0.07499999999999998,
             -0.07499999999999998
            ],
            [
             0,
             0
            ],
            [
             0,
             -0.22499999999999998
            ],
            [
             0.045,
             0
            ]
           ],
           [
            [
             0.14999999999999997,
             -0.15
            ],
            [
             1.5266326530612244,
             0.22499999999999998
            ],
            [
             0.865,
             0.578265306122449
            ],
            [
             0,
             0
            ],
            [
             0.2799999999999999,
             1.9966326530612242
            ],
            [
             0.22499999999999998,
             0.15
            ],
            [
             0,
             0
            ],
            [
             0.22499999999999998,
             0.825
            ],
            [
             0.26499999999999996,
             0.20499999999999996
            ],
            [
             0.29999999999999993,
             0.075
            ],
            [
             0.3816326530612245,
             0
            ],
            [
             0.14999999999999997,
             1.27
            ],
            [
             0.15999999999999998,
             1.0266326530612244
            ],
            [
             1.3566326530612245,
             0.075
            ],
            [
             0.14999999999999997,
             -0.07499999999999998
            ],
            [
             0.865,
             0.3266326530612245
            ],
            [
             0.6266326530612245,
             0.225
            ],
            [
             1.19,
             0.4399999999999999
            ],
            [
             0,
             0
            ],
            [
             0.7050000000000001,
             0.18
            ],
            [
             1.2,
             0.075
            ],
            [
             0.6266326530612245,
             0
            ],
            [
             0,
             0
            ],
            [
             0,
             0
            ],
            [
             0,
             0
            ]
           ],
           [
            [
             0.14999999999999997,
             -0.15
            ],
            [
             1.5266326530612244,
             0.22499999999999998
            ],
            [
             0.865,
             0.578265306122449
            ],
            [
             0,
             0
            ],
            [
             0.2799999999999999,
             1.9966326530612242
            ],
            [
             0.22499999999999998,
             0.15
            ],
            [
             0,
             0
            ],
            [
             0.22499999999999998,
             0.825
            ],
            [
             0.26499999999999996,
             0.20499999999999996
            ],
            [
             0.29999999999999993,
             0.075
            ],
            [
             0.3816326530612245,
             0
            ],
            [
             0.14999999999999997,
             1.27
            ],
            [
             0.15999999999999998,
             1.0266326530612244
            ],
            [
             1.3566326530612245,
             0.075
            ],
            [
             0.14999999999999997,
             -0.07499999999999998
            ],
            [
             0.865,
             0.3266326530612245
            ],
            [
             0.6266326530612245,
             0.225
            ],
            [
             1.19,
             0.4399999999999999
            ],
            [
             0,
             0
            ],
            [
             0.7050000000000001,
             0.18
            ],
            [
             1.2,
             0.075
            ],
            [
             0.6266326530612245,
             0
            ],
            [
             0,
             0
            ],
            [
             0,
             0
            ],
            [
             0,
             0
            ]
           ],
           [
            [
             0,
             0.37499999999999994
            ],
            [
             0,
             0.6
            ],
            [
             0.22499999999999998,
             0.8516326530612245
            ],
            [
             0,
             0
            ],
            [
             0.15999999999999998,
             0.865
            ],
            [
             0,
             0
            ],
            [
             -0.16,
             0.43999999999999995
            ],
            [
             0.075,
             0.5249999999999999
            ],
            [
             0.37,
             1.045
            ],
            [
             0.3,
             0.5249999999999999
            ],
            [
             0,
             0.5299999999999999
            ],
            [
             0.6266326530612245,
             1.39
            ],
            [
             0.049999999999999996,
             1.21
            ],
            [
             0.29,
             0.8916326530612244
            ],
            [
             0.37499999999999994,
             0.44999999999999996
            ],
            [
             0.22499999999999998,
             0.44999999999999996
            ],
            [
             0.4016326530612245,
             0.6
            ],
            [
             0.14999999999999997,
             1.585
            ],
            [
             0,
             0
            ],
            [
             0.21499999999999997,
             0.5349999999999999
            ],
            [
             0.15,
             0.75
            ],
            [
             0.37499999999999994,
             1.2399999999999998
            ],
            [
             0,
             0
            ],
            [
             0,
             0
            ],
            [
             0,
             0
            ]
           ],
           [
            [
             0,
             0.37499999999999994
            ],
            [
             0,
             0.6
            ],
            [
             0.22499999999999998,
             0.8516326530612245
            ],
            [
             0,
             0
            ],
            [
             0.15999999999999998,
             0.865
            ],
            [
             0,
             0
            ],
            [
             -0.16,
             0.43999999999999995
            ],
            [
             0.075,
             0.5249999999999999
            ],
            [
             0.37,
             1.045
            ],
            [
             0.3,
             0.5249999999999999
            ],
            [
             0,
             0.5299999999999999
            ],
            [
             0.6266326530612245,
             1.39
            ],
            [
             0.049999999999999996,
             1.21
            ],
            [
             0.29,
             0.8916326530612244
            ],
            [
             0.37499999999999994,
             0.44999999999999996
            ],
            [
             0.22499999999999998,
             0.44999999999999996
            ],
            [
             0.4016326530612245,
             0.6
            ],
            [
             0.14999999999999997,
             1.585
            ],
            [
             0,
             0
            ],
            [
             0.21499999999999997,
             0.5349999999999999
            ],
            [
             0.15,
             0.75
            ],
            [
             0.37499999999999994,
             1.2399999999999998
            ],
            [
             0,
             0
            ],
            [
             0,
             0
            ],
            [
             0,
             0
            ]
           ],
           [
            [
             0.7050000000000001,
             0.07499999999999998
            ],
            [
             0,
             0.2516326530612245
            ],
            [
             0.3266326530612245,
             0.8816326530612245
            ],
            [
             0,
             0
            ],
            [
             0.89,
             0.878265306122449
            ],
            [
             0.48000000000000004,
             0.2516326530612245
            ],
            [
             0.20499999999999996,
             0.05499999999999999
            ],
            [
             0.22499999999999998,
             0.715
            ],
            [
             0.3466326530612245,
             0.024999999999999994
            ],
            [
             1.2666326530612244,
             0.40163265306122453
            ],
            [
             -0.075,
             0
            ],
            [
             0.225,
             0.63
            ],
            [
             0.7749999999999999,
             0.075
            ],
            [
             2.0566326530612242,
             1.04
            ],
            [
             0.9,
             0.503265306122449
            ],
            [
             0,
             0.075
            ],
            [
             0.8816326530612245,
             0
            ],
            [
             0.4766326530612245,
             0.4766326530612245
            ],
            [
             0,
             0
            ],
            [
             0.235,
             0.845
            ],
            [
             0.075,
             0.075
            ],
            [
             0.07499999999999998,
             1.0766326530612245
            ],
            [
             0,
             0
            ],
            [
             0,
             0
            ],
            [
             0,
             0
            ]
           ],
           [
            [
             0.7050000000000001,
             0.07499999999999998
            ],
            [
             0,
             0.2516326530612245
            ],
            [
             0.3266326530612245,
             0.8816326530612245
            ],
            [
             0,
             0
            ],
            [
             0.89,
             0.878265306122449
            ],
            [
             0.48000000000000004,
             0.2516326530612245
            ],
            [
             0.20499999999999996,
             0.05499999999999999
            ],
            [
             0.22499999999999998,
             0.715
            ],
            [
             0.3466326530612245,
             0.024999999999999994
            ],
            [
             1.2666326530612244,
             0.40163265306122453
            ],
            [
             -0.075,
             0
            ],
            [
             0.225,
             0.63
            ],
            [
             0.7749999999999999,
             0.075
            ],
            [
             2.0566326530612242,
             1.04
            ],
            [
             0.9,
             0.503265306122449
            ],
            [
             0,
             0.075
            ],
            [
             0.8816326530612245,
             0
            ],
            [
             0.4766326530612245,
             0.4766326530612245
            ],
            [
             0,
             0
            ],
            [
             0.235,
             0.845
            ],
            [
             0.075,
             0.075
            ],
            [
             0.07499999999999998,
             1.0766326530612245
            ],
            [
             0,
             0
            ],
            [
             0,
             0
            ],
            [
             0,
             0
            ]
           ],
           [
            [
             0,
             0.1766326530612245
            ],
            [
             0.30000000000000004,
             0.49
            ],
            [
             0.6798979591836736,
             -0.3
            ],
            [
             0,
             0
            ],
            [
             0,
             0.08499999999999998
            ],
            [
             0.075,
             0.075
            ],
            [
             -0.16499999999999998,
             -0.009999999999999998
            ],
            [
             0,
             0.4016326530612245
            ],
            [
             -0.035,
             0.19
            ],
            [
             0,
             -0.15
            ],
            [
             -0.04,
             0
            ],
            [
             0.715,
             1.495
            ],
            [
             0.7816326530612245,
             1.705
            ],
            [
             0.9,
             0.15
            ],
            [
             -0.07499999999999998,
             -0.075
            ],
            [
             0,
             0
            ],
            [
             0.02663265306122453,
             -0.15
            ],
            [
             0.8899999999999999,
             0
            ],
            [
             0,
             0
            ],
            [
             0,
             0.20163265306122452
            ],
            [
             0.22499999999999998,
             0.37499999999999994
            ],
            [
             -0.14999999999999997,
             0.4800000000000001
            ],
            [
             0,
             0
            ],
            [
             0,
             0.075
            ],
            [
             0,
             0
            ]
           ],
           [
            [
             0,
             0.1766326530612245
            ],
            [
             0.30000000000000004,
             0.49
            ],
            [
             0.6798979591836736,
             -0.3
            ],
            [
             0,
             0
            ],
            [
             0,
             0.08499999999999998
            ],
            [
             0.075,
             0.075
            ],
            [
             -0.16499999999999998,
             -0.009999999999999998
            ],
            [
             0,
             0.4016326530612245
            ],
            [
             -0.035,
             0.19
            ],
            [
             0,
             -0.15
            ],
            [
             -0.04,
             0
            ],
            [
             0.715,
             1.495
            ],
            [
             0.7816326530612245,
             1.705
            ],
            [
             0.9,
             0.15
            ],
            [
             -0.07499999999999998,
             -0.075
            ],
            [
             0,
             0
            ],
            [
             0.02663265306122453,
             -0.15
            ],
            [
             0.8899999999999999,
             0
            ],
            [
             0,
             0
            ],
            [
             0,
             0.20163265306122452
            ],
            [
             0.22499999999999998,
             0.37499999999999994
            ],
            [
             -0.14999999999999997,
             0.4800000000000001
            ],
            [
             0,
             0
            ],
            [
             0,
             0.075
            ],
            [
             0,
             0
            ]
           ],
           [
            [
             1.005,
             0.2516326530612245
            ],
            [
             0.5516326530612244,
             0.9
            ],
            [
             1.015,
             0
            ],
            [
             0,
             0
            ],
            [
             0.47663265306122443,
             0.22500000000000003
            ],
            [
             1.2,
             0
            ],
            [
             0.32999999999999996,
             0.10500000000000001
            ],
            [
             0.29999999999999993,
             0.15
            ],
            [
             0.42999999999999994,
             -0.020000000000000004
            ],
            [
             1.005,
             0.8298979591836735
            ],
            [
             0,
             0
            ],
            [
             0.6266326530612245,
             0.825
            ],
            [
             0.2799999999999999,
             -0.05500000000000001
            ],
            [
             0.29999999999999993,
             0.72
            ],
            [
             0.5516326530612244,
             0.075
            ],
            [
             1.9899999999999998,
             0.4766326530612245
            ],
            [
             1.165,
             0.22499999999999998
            ],
            [
             1.275,
             0.1766326530612245
            ],
            [
             0,
             0
            ],
            [
             1.005,
             0.04000000000000001
            ],
            [
             0.37499999999999994,
             0
            ],
            [
             0.5249999999999999,
             0.22499999999999998
            ],
            [
             0,
             0.075
            ],
            [
             0,
             0
            ],
            [
             0,
             0
            ]
           ],
           [
            [
             1.005,
             0.2516326530612245
            ],
            [
             0.5516326530612244,
             0.9
            ],
            [
             1.015,
             0
            ],
            [
             0,
             0
            ],
            [
             0.47663265306122443,
             0.22500000000000003
            ],
            [
             1.2,
             0
            ],
            [
             0.32999999999999996,
             0.10500000000000001
            ],
            [
             0.29999999999999993,
             0.15
            ],
            [
             0.42999999999999994,
             -0.020000000000000004
            ],
            [
             1.005,
             0.8298979591836735
            ],
            [
             0,
             0
            ],
            [
             0.6266326530612245,
             0.825
            ],
            [
             0.2799999999999999,
             -0.05500000000000001
            ],
            [
             0.29999999999999993,
             0.72
            ],
            [
             0.5516326530612244,
             0.075
            ],
            [
             1.9899999999999998,
             0.4766326530612245
            ],
            [
             1.165,
             0.22499999999999998
            ],
            [
             1.275,
             0.1766326530612245
            ],
            [
             0,
             0
            ],
            [
             1.005,
             0.04000000000000001
            ],
            [
             0.37499999999999994,
             0
            ],
            [
             0.5249999999999999,
             0.22499999999999998
            ],
            [
             0,
             0.075
            ],
            [
             0,
             0
            ],
            [
             0,
             0
            ]
           ],
           [
            [
             0.22499999999999998,
             0.2516326530612245
            ],
            [
             0.22499999999999998,
             1.125
            ],
            [
             0.3266326530612245,
             0
            ],
            [
             0.15,
             0
            ],
            [
             0.16,
             0.8066326530612244
            ],
            [
             0,
             0
            ],
            [
             -0.06,
             0
            ],
            [
             0,
             0.14999999999999997
            ],
            [
             0.03499999999999999,
             0.05499999999999999
            ],
            [
             0,
             0.15
            ],
            [
             0,
             0
            ],
            [
             0.07499999999999998,
             0.15000000000000002
            ],
            [
             1.03,
             0.12499999999999999
            ],
            [
             0.715,
             0.15
            ],
            [
             0.2516326530612245,
             0.14999999999999997
            ],
            [
             0,
             0.04
            ],
            [
             0.22499999999999998,
             0.07499999999999998
            ],
            [
             1.5116326530612245,
             0.375
            ],
            [
             0,
             0
            ],
            [
             0.975,
             0.785
            ],
            [
             0,
             0.14999999999999997
            ],
            [
             1.0416326530612245,
             0.14999999999999997
            ],
            [
             0,
             0
            ],
            [
             0,
             0
            ],
            [
             0,
             0.3266326530612245
            ]
           ],
           [
            [
             0.22499999999999998,
             0.2516326530612245
            ],
            [
             0.22499999999999998,
             1.125
            ],
            [
             0.3266326530612245,
             0
            ],
            [
             0.15,
             0
            ],
            [
             0.16,
             0.8066326530612244
            ],
            [
             0,
             0
            ],
            [
             -0.06,
             0
            ],
            [
             0,
             0.14999999999999997
            ],
            [
             0.03499999999999999,
             0.05499999999999999
            ],
            [
             0,
             0.15
            ],
            [
             0,
             0
            ],
            [
             0.07499999999999998,
             0.15000000000000002
            ],
            [
             1.03,
             0.12499999999999999
            ],
            [
             0.715,
             0.15
            ],
            [
             0.2516326530612245,
             0.14999999999999997
            ],
            [
             0,
             0.04
            ],
            [
             0.22499999999999998,
             0.07499999999999998
            ],
            [
             1.5116326530612245,
             0.375
            ],
            [
             0,
             0
            ],
            [
             0.975,
             0.785
            ],
            [
             0,
             0.14999999999999997
            ],
            [
             1.0416326530612245,
             0.14999999999999997
            ],
            [
             0,
             0
            ],
            [
             0,
             0
            ],
            [
             0,
             0.3266326530612245
            ]
           ],
           [
            [
             0,
             0.22499999999999998,
             0.3266326530612245,
             0.14999999999999997,
             1.2666326530612244,
             0
            ],
            [
             0.225,
             0.83,
             0.855,
             0.8816326530612245,
             0.5516326530612244,
             1.05
            ],
            [
             0.4766326530612245,
             0,
             1.1166326530612245,
             0.4766326530612245,
             1.628265306122449,
             0.8066326530612246
            ],
            [
             0,
             0,
             0.075,
             0,
             0.37499999999999994,
             0
            ],
            [
             1.81,
             0.4149999999999999,
             0.3066326530612245,
             -0.18999999999999997,
             1.9899999999999998,
             0.9299999999999999
            ],
            [
             0,
             0,
             0,
             0,
             0,
             0
            ],
            [
             0,
             0,
             0,
             0.08499999999999999,
             0.09499999999999997,
             0.633265306122449
            ],
            [
             0.7899999999999999,
             0.5950000000000001,
             0.675,
             0.8999999999999999,
             0.37499999999999994,
             2.1300000000000003
            ],
            [
             0.835,
             -0.805,
             0.63,
             0.27499999999999997,
             0,
             0
            ],
            [
             0.3266326530612245,
             0.5432653061224489,
             0,
             0.3266326530612245,
             0.4766326530612245,
             -0.075
            ],
            [
             0,
             0,
             0,
             0,
             0,
             0
            ],
            [
             1.4916326530612245,
             -0.525,
             0.3266326530612245,
             0.15,
             1.518265306122449,
             0.15000000000000002
            ],
            [
             1.795,
             -0.4683673469387756,
             0.83,
             0.10500000000000001,
             1.13,
             0.9299999999999999
            ],
            [
             1.345,
             -0.03500000000000003,
             0.75,
             0.3,
             1.6800000000000002,
             0.39163265306122447
            ],
            [
             0,
             0,
             0.5516326530612246,
             0.2516326530612245,
             0.14999999999999997,
             0.428265306122449
            ],
            [
             0.5950000000000001,
             0.9999999999999999,
             -0.01,
             0.05499999999999999,
             0.9099999999999999,
             0.010000000000000009
            ],
            [
             0.15,
             1.8250000000000002,
             -0.15,
             0.2516326530612245,
             0.22499999999999998,
             0.4800000000000001
            ],
            [
             0.22499999999999998,
             -0.975,
             0.40163265306122453,
             0.14999999999999997,
             -2.7755575615628914e-17,
             0.7050000000000001
            ],
            [
             0,
             0,
             0.5516326530612246,
             0,
             0,
             0.22499999999999998
            ],
            [
             0.96,
             0.1449999999999999,
             0.725,
             0.94,
             1.125,
             2.185
            ],
            [
             0,
             -0.07500000000000007,
             0.8999999999999999,
             0.3266326530612245,
             0.22499999999999998,
             0.15
            ],
            [
             0.555,
             -0.75,
             1.7166326530612244,
             0.22499999999999998,
             0.9299999999999999,
             0.15
            ],
            [
             0.63,
             0,
             0,
             0,
             0,
             0
            ],
            [
             0.7050000000000001,
             -0.09336734693877546,
             0.07499999999999998,
             0,
             0,
             -0.075
            ],
            [
             1.04,
             -0.5733673469387756,
             0,
             0,
             0,
             0
            ]
           ],
           [
            [
             0,
             0.22499999999999998,
             0.3266326530612245,
             0.14999999999999997,
             1.2666326530612244,
             0
            ],
            [
             0.225,
             0.83,
             0.855,
             0.8816326530612245,
             0.5516326530612244,
             1.05
            ],
            [
             0.4766326530612245,
             0,
             1.1166326530612245,
             0.4766326530612245,
             1.628265306122449,
             0.8066326530612246
            ],
            [
             0,
             0,
             0.075,
             0,
             0.37499999999999994,
             0
            ],
            [
             1.81,
             0.4149999999999999,
             0.3066326530612245,
             -0.18999999999999997,
             1.9899999999999998,
             0.9299999999999999
            ],
            [
             0,
             0,
             0,
             0,
             0,
             0
            ],
            [
             0,
             0,
             0,
             0.08499999999999999,
             0.09499999999999997,
             0.633265306122449
            ],
            [
             0.7899999999999999,
             0.5950000000000001,
             0.675,
             0.8999999999999999,
             0.37499999999999994,
             2.1300000000000003
            ],
            [
             0.835,
             -0.805,
             0.63,
             0.27499999999999997,
             0,
             0
            ],
            [
             0.3266326530612245,
             0.5432653061224489,
             0,
             0.3266326530612245,
             0.4766326530612245,
             -0.075
            ],
            [
             0,
             0,
             0,
             0,
             0,
             0
            ],
            [
             1.4916326530612245,
             -0.525,
             0.3266326530612245,
             0.15,
             1.518265306122449,
             0.15000000000000002
            ],
            [
             1.795,
             -0.4683673469387756,
             0.83,
             0.10500000000000001,
             1.13,
             0.9299999999999999
            ],
            [
             1.345,
             -0.03500000000000003,
             0.75,
             0.3,
             1.6800000000000002,
             0.39163265306122447
            ],
            [
             0,
             0,
             0.5516326530612246,
             0.2516326530612245,
             0.14999999999999997,
             0.428265306122449
            ],
            [
             0.5950000000000001,
             0.9999999999999999,
             -0.01,
             0.05499999999999999,
             0.9099999999999999,
             0.010000000000000009
            ],
            [
             0.15,
             1.8250000000000002,
             -0.15,
             0.2516326530612245,
             0.22499999999999998,
             0.4800000000000001
            ],
            [
             0.22499999999999998,
             -0.975,
             0.40163265306122453,
             0.14999999999999997,
             -2.7755575615628914e-17,
             0.7050000000000001
            ],
            [
             0,
             0,
             0.5516326530612246,
             0,
             0,
             0.22499999999999998
            ],
            [
             0.96,
             0.1449999999999999,
             0.725,
             0.94,
             1.125,
             2.185
            ],
            [
             0,
             -0.07500000000000007,
             0.8999999999999999,
             0.3266326530612245,
             0.22499999999999998,
             0.15
            ],
            [
             0.555,
             -0.75,
             1.7166326530612244,
             0.22499999999999998,
             0.9299999999999999,
             0.15
            ],
            [
             0.63,
             0,
             0,
             0,
             0,
             0
            ],
            [
             0.7050000000000001,
             -0.09336734693877546,
             0.07499999999999998,
             0,
             0,
             -0.075
            ],
            [
             1.04,
             -0.5733673469387756,
             0,
             0,
             0,
             0
            ]
           ],
           [
            [
             0,
             0.22499999999999998,
             0.3266326530612245,
             0.14999999999999997,
             1.2666326530612244,
             0
            ],
            [
             0.225,
             0.83,
             0.855,
             0.8816326530612245,
             0.5516326530612244,
             1.05
            ],
            [
             0.4766326530612245,
             0,
             1.1166326530612245,
             0.4766326530612245,
             1.628265306122449,
             0.8066326530612246
            ],
            [
             0,
             0,
             0.075,
             0,
             0.37499999999999994,
             0
            ],
            [
             1.81,
             0.4149999999999999,
             0.3066326530612245,
             -0.18999999999999997,
             1.9899999999999998,
             0.9299999999999999
            ],
            [
             0,
             0,
             0,
             0,
             0,
             0
            ],
            [
             0,
             0,
             0,
             0.08499999999999999,
             0.09499999999999997,
             0.633265306122449
            ],
            [
             0.7899999999999999,
             0.5950000000000001,
             0.675,
             0.8999999999999999,
             0.37499999999999994,
             2.1300000000000003
            ],
            [
             0.835,
             -0.805,
             0.63,
             0.27499999999999997,
             0,
             0
            ],
            [
             0.3266326530612245,
             0.5432653061224489,
             0,
             0.3266326530612245,
             0.4766326530612245,
             -0.075
            ],
            [
             0,
             0,
             0,
             0,
             0,
             0
            ],
            [
             1.4916326530612245,
             -0.525,
             0.3266326530612245,
             0.15,
             1.518265306122449,
             0.15000000000000002
            ],
            [
             1.795,
             -0.4683673469387756,
             0.83,
             0.10500000000000001,
             1.13,
             0.9299999999999999
            ],
            [
             1.345,
             -0.03500000000000003,
             0.75,
             0.3,
             1.6800000000000002,
             0.39163265306122447
            ],
            [
             0,
             0,
             0.5516326530612246,
             0.2516326530612245,
             0.14999999999999997,
             0.428265306122449
            ],
            [
             0.5950000000000001,
             0.9999999999999999,
             -0.01,
             0.05499999999999999,
             0.9099999999999999,
             0.010000000000000009
            ],
            [
             0.15,
             1.8250000000000002,
             -0.15,
             0.2516326530612245,
             0.22499999999999998,
             0.4800000000000001
            ],
            [
             0.22499999999999998,
             -0.975,
             0.40163265306122453,
             0.14999999999999997,
             -2.7755575615628914e-17,
             0.7050000000000001
            ],
            [
             0,
             0,
             0.5516326530612246,
             0,
             0,
             0.22499999999999998
            ],
            [
             0.96,
             0.1449999999999999,
             0.725,
             0.94,
             1.125,
             2.185
            ],
            [
             0,
             -0.07500000000000007,
             0.8999999999999999,
             0.3266326530612245,
             0.22499999999999998,
             0.15
            ],
            [
             0.555,
             -0.75,
             1.7166326530612244,
             0.22499999999999998,
             0.9299999999999999,
             0.15
            ],
            [
             0.63,
             0,
             0,
             0,
             0,
             0
            ],
            [
             0.7050000000000001,
             -0.09336734693877546,
             0.07499999999999998,
             0,
             0,
             -0.075
            ],
            [
             1.04,
             -0.5733673469387756,
             0,
             0,
             0,
             0
            ]
           ],
           [
            [
             0,
             0.22499999999999998,
             0.3266326530612245,
             0.14999999999999997,
             1.2666326530612244,
             0
            ],
            [
             0.225,
             0.83,
             0.855,
             0.8816326530612245,
             0.5516326530612244,
             1.05
            ],
            [
             0.4766326530612245,
             0,
             1.1166326530612245,
             0.4766326530612245,
             1.628265306122449,
             0.8066326530612246
            ],
            [
             0,
             0,
             0.075,
             0,
             0.37499999999999994,
             0
            ],
            [
             1.81,
             0.4149999999999999,
             0.3066326530612245,
             -0.18999999999999997,
             1.9899999999999998,
             0.9299999999999999
            ],
            [
             0,
             0,
             0,
             0,
             0,
             0
            ],
            [
             0,
             0,
             0,
             0.08499999999999999,
             0.09499999999999997,
             0.633265306122449
            ],
            [
             0.7899999999999999,
             0.5950000000000001,
             0.675,
             0.8999999999999999,
             0.37499999999999994,
             2.1300000000000003
            ],
            [
             0.835,
             -0.805,
             0.63,
             0.27499999999999997,
             0,
             0
            ],
            [
             0.3266326530612245,
             0.5432653061224489,
             0,
             0.3266326530612245,
             0.4766326530612245,
             -0.075
            ],
            [
             0,
             0,
             0,
             0,
             0,
             0
            ],
            [
             1.4916326530612245,
             -0.525,
             0.3266326530612245,
             0.15,
             1.518265306122449,
             0.15000000000000002
            ],
            [
             1.795,
             -0.4683673469387756,
             0.83,
             0.10500000000000001,
             1.13,
             0.9299999999999999
            ],
            [
             1.345,
             -0.03500000000000003,
             0.75,
             0.3,
             1.6800000000000002,
             0.39163265306122447
            ],
            [
             0,
             0,
             0.5516326530612246,
             0.2516326530612245,
             0.14999999999999997,
             0.428265306122449
            ],
            [
             0.5950000000000001,
             0.9999999999999999,
             -0.01,
             0.05499999999999999,
             0.9099999999999999,
             0.010000000000000009
            ],
            [
             0.15,
             1.8250000000000002,
             -0.15,
             0.2516326530612245,
             0.22499999999999998,
             0.4800000000000001
            ],
            [
             0.22499999999999998,
             -0.975,
             0.40163265306122453,
             0.14999999999999997,
             -2.7755575615628914e-17,
             0.7050000000000001
            ],
            [
             0,
             0,
             0.5516326530612246,
             0,
             0,
             0.22499999999999998
            ],
            [
             0.96,
             0.1449999999999999,
             0.725,
             0.94,
             1.125,
             2.185
            ],
            [
             0,
             -0.07500000000000007,
             0.8999999999999999,
             0.3266326530612245,
             0.22499999999999998,
             0.15
            ],
            [
             0.555,
             -0.75,
             1.7166326530612244,
             0.22499999999999998,
             0.9299999999999999,
             0.15
            ],
            [
             0.63,
             0,
             0,
             0,
             0,
             0
            ],
            [
             0.7050000000000001,
             -0.09336734693877546,
             0.07499999999999998,
             0,
             0,
             -0.075
            ],
            [
             1.04,
             -0.5733673469387756,
             0,
             0,
             0,
             0
            ]
           ],
           [
            [
             0,
             -0.14999999999999997
            ],
            [
             0.22499999999999998,
             0
            ],
            [
             0.5516326530612244,
             -0.3
            ],
            [
             0.7050000000000001,
             0.22499999999999998
            ],
            [
             0.21499999999999997,
             0.13999999999999996
            ],
            [
             0,
             0
            ],
            [
             0,
             0
            ],
            [
             1.875,
             -0.15
            ],
            [
             0.4866326530612245,
             0.4666326530612245
            ],
            [
             0.865,
             0.40163265306122453
            ],
            [
             0,
             0
            ],
            [
             0.1766326530612245,
             0
            ],
            [
             0.31999999999999995,
             0.24499999999999997
            ],
            [
             0.14999999999999997,
             0.3
            ],
            [
             1.2266326530612244,
             0
            ],
            [
             0.5316326530612245,
             0.010000000000000002
            ],
            [
             0.29999999999999993,
             -0.075
            ],
            [
             0.6266326530612245,
             0.22499999999999998
            ],
            [
             0,
             0
            ],
            [
             0.8899999999999999,
             0.31
            ],
            [
             0.37499999999999994,
             0
            ],
            [
             -0.15000000000000002,
             -0.075
            ],
            [
             0.14999999999999997,
             0
            ],
            [
             0.78,
             0
            ],
            [
             0,
             0
            ]
           ],
           [
            [
             0,
             -0.14999999999999997
            ],
            [
             0.22499999999999998,
             0
            ],
            [
             0.5516326530612244,
             -0.3
            ],
            [
             0.7050000000000001,
             0.22499999999999998
            ],
            [
             0.21499999999999997,
             0.13999999999999996
            ],
            [
             0,
             0
            ],
            [
             0,
             0
            ],
            [
             1.875,
             -0.15
            ],
            [
             0.4866326530612245,
             0.4666326530612245
            ],
            [
             0.865,
             0.40163265306122453
            ],
            [
             0,
             0
            ],
            [
             0.1766326530612245,
             0
            ],
            [
             0.31999999999999995,
             0.24499999999999997
            ],
            [
             0.14999999999999997,
             0.3
            ],
            [
             1.2266326530612244,
             0
            ],
            [
             0.5316326530612245,
             0.010000000000000002
            ],
            [
             0.29999999999999993,
             -0.075
            ],
            [
             0.6266326530612245,
             0.22499999999999998
            ],
            [
             0,
             0
            ],
            [
             0.8899999999999999,
             0.31
            ],
            [
             0.37499999999999994,
             0
            ],
            [
             -0.15000000000000002,
             -0.075
            ],
            [
             0.14999999999999997,
             0
            ],
            [
             0.78,
             0
            ],
            [
             0,
             0
            ]
           ],
           [
            [
             0,
             -0.22499999999999998
            ],
            [
             0.6000000000000001,
             0.6300000000000001
            ],
            [
             0.10163265306122451,
             0.25500000000000006
            ],
            [
             0.075,
             -0.07499999999999997
            ],
            [
             1.125,
             0.5549999999999999
            ],
            [
             0,
             0
            ],
            [
             -0.12,
             0.39326530612244903
            ],
            [
             0.075,
             0.565
            ],
            [
             0,
             0
            ],
            [
             -0.07499999999999998,
             -0.07499999999999997
            ],
            [
             0,
             0
            ],
            [
             1.6316326530612246,
             -0.12336734693877544
            ],
            [
             0.065,
             -0.019999999999999962
            ],
            [
             1.455,
             0.17663265306122455
            ],
            [
             0.15,
             0.15000000000000002
            ],
            [
             0.05500000000000001,
             0.006632653061224542
            ],
            [
             0.22499999999999998,
             0.10163265306122454
            ],
            [
             0.07499999999999998,
             0.503265306122449
            ],
            [
             0,
             0
            ],
            [
             0.26,
             1.82
            ],
            [
             0.375,
             0.15000000000000002
            ],
            [
             1.805,
             0.10163265306122454
            ],
            [
             0,
             0
            ],
            [
             0,
             0.17663265306122455
            ],
            [
             0.075,
             0
            ]
           ],
           [
            [
             0,
             -0.22499999999999998
            ],
            [
             0.6000000000000001,
             0.6300000000000001
            ],
            [
             0.10163265306122451,
             0.25500000000000006
            ],
            [
             0.075,
             -0.07499999999999997
            ],
            [
             1.125,
             0.5549999999999999
            ],
            [
             0,
             0
            ],
            [
             -0.12,
             0.39326530612244903
            ],
            [
             0.075,
             0.565
            ],
            [
             0,
             0
            ],
            [
             -0.07499999999999998,
             -0.07499999999999997
            ],
            [
             0,
             0
            ],
            [
             1.6316326530612246,
             -0.12336734693877544
            ],
            [
             0.065,
             -0.019999999999999962
            ],
            [
             1.455,
             0.17663265306122455
            ],
            [
             0.15,
             0.15000000000000002
            ],
            [
             0.05500000000000001,
             0.006632653061224542
            ],
            [
             0.22499999999999998,
             0.10163265306122454
            ],
            [
             0.07499999999999998,
             0.503265306122449
            ],
            [
             0,
             0
            ],
            [
             0.26,
             1.82
            ],
            [
             0.375,
             0.15000000000000002
            ],
            [
             1.805,
             0.10163265306122454
            ],
            [
             0,
             0
            ],
            [
             0,
             0.17663265306122455
            ],
            [
             0.075,
             0
            ]
           ],
           [
            [
             0,
             0.22499999999999998,
             0.3266326530612245,
             0.14999999999999997,
             1.2666326530612244,
             0
            ],
            [
             0.225,
             0.83,
             0.855,
             0.8816326530612245,
             0.5516326530612244,
             1.05
            ],
            [
             0.4766326530612245,
             0,
             1.1166326530612245,
             0.4766326530612245,
             1.628265306122449,
             0.8066326530612246
            ],
            [
             0,
             0,
             0.075,
             0,
             0.37499999999999994,
             0
            ],
            [
             1.81,
             0.4149999999999999,
             0.3066326530612245,
             -0.18999999999999997,
             1.9899999999999998,
             0.9299999999999999
            ],
            [
             0,
             0,
             0,
             0,
             0,
             0
            ],
            [
             0,
             0,
             0,
             0.08499999999999999,
             0.09499999999999997,
             0.633265306122449
            ],
            [
             0.7899999999999999,
             0.5950000000000001,
             0.675,
             0.8999999999999999,
             0.37499999999999994,
             2.1300000000000003
            ],
            [
             0.835,
             -0.805,
             0.63,
             0.27499999999999997,
             0,
             0
            ],
            [
             0.3266326530612245,
             0.5432653061224489,
             0,
             0.3266326530612245,
             0.4766326530612245,
             -0.075
            ],
            [
             0,
             0,
             0,
             0,
             0,
             0
            ],
            [
             1.4916326530612245,
             -0.525,
             0.3266326530612245,
             0.15,
             1.518265306122449,
             0.15000000000000002
            ],
            [
             1.795,
             -0.4683673469387756,
             0.83,
             0.10500000000000001,
             1.13,
             0.9299999999999999
            ],
            [
             1.345,
             -0.03500000000000003,
             0.75,
             0.3,
             1.6800000000000002,
             0.39163265306122447
            ],
            [
             0,
             0,
             0.5516326530612246,
             0.2516326530612245,
             0.14999999999999997,
             0.428265306122449
            ],
            [
             0.5950000000000001,
             0.9999999999999999,
             -0.01,
             0.05499999999999999,
             0.9099999999999999,
             0.010000000000000009
            ],
            [
             0.15,
             1.8250000000000002,
             -0.15,
             0.2516326530612245,
             0.22499999999999998,
             0.4800000000000001
            ],
            [
             0.22499999999999998,
             -0.975,
             0.40163265306122453,
             0.14999999999999997,
             -2.7755575615628914e-17,
             0.7050000000000001
            ],
            [
             0,
             0,
             0.5516326530612246,
             0,
             0,
             0.22499999999999998
            ],
            [
             0.96,
             0.1449999999999999,
             0.725,
             0.94,
             1.125,
             2.185
            ],
            [
             0,
             -0.07500000000000007,
             0.8999999999999999,
             0.3266326530612245,
             0.22499999999999998,
             0.15
            ],
            [
             0.555,
             -0.75,
             1.7166326530612244,
             0.22499999999999998,
             0.9299999999999999,
             0.15
            ],
            [
             0.63,
             0,
             0,
             0,
             0,
             0
            ],
            [
             0.7050000000000001,
             -0.09336734693877546,
             0.07499999999999998,
             0,
             0,
             -0.075
            ],
            [
             1.04,
             -0.5733673469387756,
             0,
             0,
             0,
             0
            ]
           ],
           [
            [
             0,
             0.22499999999999998,
             0.3266326530612245,
             0.14999999999999997,
             1.2666326530612244,
             0
            ],
            [
             0.225,
             0.83,
             0.855,
             0.8816326530612245,
             0.5516326530612244,
             1.05
            ],
            [
             0.4766326530612245,
             0,
             1.1166326530612245,
             0.4766326530612245,
             1.628265306122449,
             0.8066326530612246
            ],
            [
             0,
             0,
             0.075,
             0,
             0.37499999999999994,
             0
            ],
            [
             1.81,
             0.4149999999999999,
             0.3066326530612245,
             -0.18999999999999997,
             1.9899999999999998,
             0.9299999999999999
            ],
            [
             0,
             0,
             0,
             0,
             0,
             0
            ],
            [
             0,
             0,
             0,
             0.08499999999999999,
             0.09499999999999997,
             0.633265306122449
            ],
            [
             0.7899999999999999,
             0.5950000000000001,
             0.675,
             0.8999999999999999,
             0.37499999999999994,
             2.1300000000000003
            ],
            [
             0.835,
             -0.805,
             0.63,
             0.27499999999999997,
             0,
             0
            ],
            [
             0.3266326530612245,
             0.5432653061224489,
             0,
             0.3266326530612245,
             0.4766326530612245,
             -0.075
            ],
            [
             0,
             0,
             0,
             0,
             0,
             0
            ],
            [
             1.4916326530612245,
             -0.525,
             0.3266326530612245,
             0.15,
             1.518265306122449,
             0.15000000000000002
            ],
            [
             1.795,
             -0.4683673469387756,
             0.83,
             0.10500000000000001,
             1.13,
             0.9299999999999999
            ],
            [
             1.345,
             -0.03500000000000003,
             0.75,
             0.3,
             1.6800000000000002,
             0.39163265306122447
            ],
            [
             0,
             0,
             0.5516326530612246,
             0.2516326530612245,
             0.14999999999999997,
             0.428265306122449
            ],
            [
             0.5950000000000001,
             0.9999999999999999,
             -0.01,
             0.05499999999999999,
             0.9099999999999999,
             0.010000000000000009
            ],
            [
             0.15,
             1.8250000000000002,
             -0.15,
             0.2516326530612245,
             0.22499999999999998,
             0.4800000000000001
            ],
            [
             0.22499999999999998,
             -0.975,
             0.40163265306122453,
             0.14999999999999997,
             -2.7755575615628914e-17,
             0.7050000000000001
            ],
            [
             0,
             0,
             0.5516326530612246,
             0,
             0,
             0.22499999999999998
            ],
            [
             0.96,
             0.1449999999999999,
             0.725,
             0.94,
             1.125,
             2.185
            ],
            [
             0,
             -0.07500000000000007,
             0.8999999999999999,
             0.3266326530612245,
             0.22499999999999998,
             0.15
            ],
            [
             0.555,
             -0.75,
             1.7166326530612244,
             0.22499999999999998,
             0.9299999999999999,
             0.15
            ],
            [
             0.63,
             0,
             0,
             0,
             0,
             0
            ],
            [
             0.7050000000000001,
             -0.09336734693877546,
             0.07499999999999998,
             0,
             0,
             -0.075
            ],
            [
             1.04,
             -0.5733673469387756,
             0,
             0,
             0,
             0
            ]
           ],
           [
            [
             0,
             -0.3749999999999999,
             0.15,
             0.7050000000000001
            ],
            [
             0.15,
             -0.29999999999999993,
             0,
             0.94
            ],
            [
             0.1766326530612245,
             1.103265306122449,
             0.15,
             1.1166326530612245
            ],
            [
             0,
             1.315,
             0.075,
             0
            ],
            [
             0.7899999999999999,
             1.725,
             0.5516326530612246,
             0.3
            ],
            [
             1.5300000000000002,
             0,
             0.555,
             0.653265306122449
            ],
            [
             0.065,
             -0.3549999999999999,
             0,
             0
            ],
            [
             0.715,
             0.675,
             0.7899999999999999,
             1.2
            ],
            [
             0,
             0,
             0.155,
             0.835
            ],
            [
             0.2516326530612245,
             -0.19836734693877545,
             0.075,
             1.27
            ],
            [
             0,
             0,
             0,
             0
            ],
            [
             0.15,
             0.5916326530612246,
             0.825,
             1.2266326530612246
            ],
            [
             0.31663265306122446,
             0.4866326530612246,
             0.125,
             0.075
            ],
            [
             0.15,
             0.49,
             1.505,
             -0.07499999999999998
            ],
            [
             0.6266326530612245,
             0.2550000000000001,
             -0.075,
             0
            ],
            [
             0.295,
             0.051632653061224554,
             0.7150000000000001,
             0.18
            ],
            [
             0,
             -0.37499999999999994,
             0,
             0.63
            ],
            [
             0,
             0.2550000000000001,
             0.653265306122449,
             0.075
            ],
            [
             0,
             -0.44999999999999996,
             0,
             0
            ],
            [
             1.04,
             1.4966326530612246,
             2.5599999999999996,
             0.7050000000000001
            ],
            [
             0.1766326530612245,
             0,
             0.14999999999999997,
             2.0516326530612243
            ],
            [
             0,
             -0.29999999999999993,
             0.48000000000000004,
             0.075
            ],
            [
             0,
             0,
             0,
             0
            ],
            [
             0,
             -0.22499999999999992,
             0,
             0
            ],
            [
             0,
             0,
             0,
             0
            ]
           ],
           [
            [
             0,
             -0.3749999999999999,
             0.15,
             0.7050000000000001
            ],
            [
             0.15,
             -0.29999999999999993,
             0,
             0.94
            ],
            [
             0.1766326530612245,
             1.103265306122449,
             0.15,
             1.1166326530612245
            ],
            [
             0,
             1.315,
             0.075,
             0
            ],
            [
             0.7899999999999999,
             1.725,
             0.5516326530612246,
             0.3
            ],
            [
             1.5300000000000002,
             0,
             0.555,
             0.653265306122449
            ],
            [
             0.065,
             -0.3549999999999999,
             0,
             0
            ],
            [
             0.715,
             0.675,
             0.7899999999999999,
             1.2
            ],
            [
             0,
             0,
             0.155,
             0.835
            ],
            [
             0.2516326530612245,
             -0.19836734693877545,
             0.075,
             1.27
            ],
            [
             0,
             0,
             0,
             0
            ],
            [
             0.15,
             0.5916326530612246,
             0.825,
             1.2266326530612246
            ],
            [
             0.31663265306122446,
             0.4866326530612246,
             0.125,
             0.075
            ],
            [
             0.15,
             0.49,
             1.505,
             -0.07499999999999998
            ],
            [
             0.6266326530612245,
             0.2550000000000001,
             -0.075,
             0
            ],
            [
             0.295,
             0.051632653061224554,
             0.7150000000000001,
             0.18
            ],
            [
             0,
             -0.37499999999999994,
             0,
             0.63
            ],
            [
             0,
             0.2550000000000001,
             0.653265306122449,
             0.075
            ],
            [
             0,
             -0.44999999999999996,
             0,
             0
            ],
            [
             1.04,
             1.4966326530612246,
             2.5599999999999996,
             0.7050000000000001
            ],
            [
             0.1766326530612245,
             0,
             0.14999999999999997,
             2.0516326530612243
            ],
            [
             0,
             -0.29999999999999993,
             0.48000000000000004,
             0.075
            ],
            [
             0,
             0,
             0,
             0
            ],
            [
             0,
             -0.22499999999999992,
             0,
             0
            ],
            [
             0,
             0,
             0,
             0
            ]
           ],
           [
            [
             0.78,
             0.63,
             0.075,
             -0.14999999999999997
            ],
            [
             1.6800000000000002,
             -0.07499999999999998,
             1.165,
             0.15000000000000002
            ],
            [
             0.9048979591836736,
             0.3266326530612245,
             -0.14999999999999997,
             0.48000000000000004
            ],
            [
             0.40163265306122453,
             1.478265306122449,
             0.075,
             0.49000000000000005
            ],
            [
             1.2,
             0.21499999999999997,
             0.21499999999999997,
             1.4550000000000003
            ],
            [
             1.368265306122449,
             0.40163265306122453,
             0.22499999999999998,
             -0.07499999999999997
            ],
            [
             0,
             0,
             0,
             0
            ],
            [
             1.1916326530612245,
             0.40163265306122453,
             0.6,
             -0.22499999999999998
            ],
            [
             0.9299999999999999,
             0.875,
             0,
             -0.24999999999999997
            ],
            [
             0.653265306122449,
             0,
             0,
             1.328265306122449
            ],
            [
             0,
             0,
             0,
             0
            ],
            [
             0.6,
             0.353265306122449,
             0.6798979591836736,
             1.3450000000000002
            ],
            [
             0.515,
             0.02500000000000001,
             0.7599999999999999,
             0.9066326530612245
            ],
            [
             0.4766326530612245,
             0.3,
             1.42,
             2.1799999999999997
            ],
            [
             0,
             0.075,
             -0.07499999999999998,
             0.15000000000000002
            ],
            [
             0.8,
             -0.07999999999999999,
             0.15999999999999998,
             0.73
            ],
            [
             0.865,
             0.1766326530612245,
             1.2,
             2.7755575615628914e-17
            ],
            [
             0.9,
             0,
             0.2516326530612245,
             0.865
            ],
            [
             0,
             0,
             0,
             0
            ],
            [
             0.7050000000000001,
             0.095,
             0.68,
             0.845
            ],
            [
             1.2,
             0.15,
             0.8999999999999999,
             0.17663265306122455
            ],
            [
             1.5399999999999998,
             0.15,
             0.15,
             1.12
            ],
            [
             0,
             0,
             0,
             0
            ],
            [
             0.15,
             0,
             0,
             0
            ],
            [
             0,
             0,
             0,
             0
            ]
           ],
           [
            [
             0.78,
             0.63,
             0.075,
             -0.14999999999999997
            ],
            [
             1.6800000000000002,
             -0.07499999999999998,
             1.165,
             0.15000000000000002
            ],
            [
             0.9048979591836736,
             0.3266326530612245,
             -0.14999999999999997,
             0.48000000000000004
            ],
            [
             0.40163265306122453,
             1.478265306122449,
             0.075,
             0.49000000000000005
            ],
            [
             1.2,
             0.21499999999999997,
             0.21499999999999997,
             1.4550000000000003
            ],
            [
             1.368265306122449,
             0.40163265306122453,
             0.22499999999999998,
             -0.07499999999999997
            ],
            [
             0,
             0,
             0,
             0
            ],
            [
             1.1916326530612245,
             0.40163265306122453,
             0.6,
             -0.22499999999999998
            ],
            [
             0.9299999999999999,
             0.875,
             0,
             -0.24999999999999997
            ],
            [
             0.653265306122449,
             0,
             0,
             1.328265306122449
            ],
            [
             0,
             0,
             0,
             0
            ],
            [
             0.6,
             0.353265306122449,
             0.6798979591836736,
             1.3450000000000002
            ],
            [
             0.515,
             0.02500000000000001,
             0.7599999999999999,
             0.9066326530612245
            ],
            [
             0.4766326530612245,
             0.3,
             1.42,
             2.1799999999999997
            ],
            [
             0,
             0.075,
             -0.07499999999999998,
             0.15000000000000002
            ],
            [
             0.8,
             -0.07999999999999999,
             0.15999999999999998,
             0.73
            ],
            [
             0.865,
             0.1766326530612245,
             1.2,
             2.7755575615628914e-17
            ],
            [
             0.9,
             0,
             0.2516326530612245,
             0.865
            ],
            [
             0,
             0,
             0,
             0
            ],
            [
             0.7050000000000001,
             0.095,
             0.68,
             0.845
            ],
            [
             1.2,
             0.15,
             0.8999999999999999,
             0.17663265306122455
            ],
            [
             1.5399999999999998,
             0.15,
             0.15,
             1.12
            ],
            [
             0,
             0,
             0,
             0
            ],
            [
             0.15,
             0,
             0,
             0
            ],
            [
             0,
             0,
             0,
             0
            ]
           ],
           [
            [
             0.78,
             0.63,
             0.075,
             -0.14999999999999997
            ],
            [
             1.6800000000000002,
             -0.07499999999999998,
             1.165,
             0.15000000000000002
            ],
            [
             0.9048979591836736,
             0.3266326530612245,
             -0.14999999999999997,
             0.48000000000000004
            ],
            [
             0.40163265306122453,
             1.478265306122449,
             0.075,
             0.49000000000000005
            ],
            [
             1.2,
             0.21499999999999997,
             0.21499999999999997,
             1.4550000000000003
            ],
            [
             1.368265306122449,
             0.40163265306122453,
             0.22499999999999998,
             -0.07499999999999997
            ],
            [
             0,
             0,
             0,
             0
            ],
            [
             1.1916326530612245,
             0.40163265306122453,
             0.6,
             -0.22499999999999998
            ],
            [
             0.9299999999999999,
             0.875,
             0,
             -0.24999999999999997
            ],
            [
             0.653265306122449,
             0,
             0,
             1.328265306122449
            ],
            [
             0,
             0,
             0,
             0
            ],
            [
             0.6,
             0.353265306122449,
             0.6798979591836736,
             1.3450000000000002
            ],
            [
             0.515,
             0.02500000000000001,
             0.7599999999999999,
             0.9066326530612245
            ],
            [
             0.4766326530612245,
             0.3,
             1.42,
             2.1799999999999997
            ],
            [
             0,
             0.075,
             -0.07499999999999998,
             0.15000000000000002
            ],
            [
             0.8,
             -0.07999999999999999,
             0.15999999999999998,
             0.73
            ],
            [
             0.865,
             0.1766326530612245,
             1.2,
             2.7755575615628914e-17
            ],
            [
             0.9,
             0,
             0.2516326530612245,
             0.865
            ],
            [
             0,
             0,
             0,
             0
            ],
            [
             0.7050000000000001,
             0.095,
             0.68,
             0.845
            ],
            [
             1.2,
             0.15,
             0.8999999999999999,
             0.17663265306122455
            ],
            [
             1.5399999999999998,
             0.15,
             0.15,
             1.12
            ],
            [
             0,
             0,
             0,
             0
            ],
            [
             0.15,
             0,
             0,
             0
            ],
            [
             0,
             0,
             0,
             0
            ]
           ],
           [
            [
             0.78,
             0.63,
             0.075,
             -0.14999999999999997
            ],
            [
             1.6800000000000002,
             -0.07499999999999998,
             1.165,
             0.15000000000000002
            ],
            [
             0.9048979591836736,
             0.3266326530612245,
             -0.14999999999999997,
             0.48000000000000004
            ],
            [
             0.40163265306122453,
             1.478265306122449,
             0.075,
             0.49000000000000005
            ],
            [
             1.2,
             0.21499999999999997,
             0.21499999999999997,
             1.4550000000000003
            ],
            [
             1.368265306122449,
             0.40163265306122453,
             0.22499999999999998,
             -0.07499999999999997
            ],
            [
             0,
             0,
             0,
             0
            ],
            [
             1.1916326530612245,
             0.40163265306122453,
             0.6,
             -0.22499999999999998
            ],
            [
             0.9299999999999999,
             0.875,
             0,
             -0.24999999999999997
            ],
            [
             0.653265306122449,
             0,
             0,
             1.328265306122449
            ],
            [
             0,
             0,
             0,
             0
            ],
            [
             0.6,
             0.353265306122449,
             0.6798979591836736,
             1.3450000000000002
            ],
            [
             0.515,
             0.02500000000000001,
             0.7599999999999999,
             0.9066326530612245
            ],
            [
             0.4766326530612245,
             0.3,
             1.42,
             2.1799999999999997
            ],
            [
             0,
             0.075,
             -0.07499999999999998,
             0.15000000000000002
            ],
            [
             0.8,
             -0.07999999999999999,
             0.15999999999999998,
             0.73
            ],
            [
             0.865,
             0.1766326530612245,
             1.2,
             2.7755575615628914e-17
            ],
            [
             0.9,
             0,
             0.2516326530612245,
             0.865
            ],
            [
             0,
             0,
             0,
             0
            ],
            [
             0.7050000000000001,
             0.095,
             0.68,
             0.845
            ],
            [
             1.2,
             0.15,
             0.8999999999999999,
             0.17663265306122455
            ],
            [
             1.5399999999999998,
             0.15,
             0.15,
             1.12
            ],
            [
             0,
             0,
             0,
             0
            ],
            [
             0.15,
             0,
             0,
             0
            ],
            [
             0,
             0,
             0,
             0
            ]
           ],
           [
            [
             0,
             -0.3749999999999999,
             0.15,
             0.7050000000000001
            ],
            [
             0.15,
             -0.29999999999999993,
             0,
             0.94
            ],
            [
             0.1766326530612245,
             1.103265306122449,
             0.15,
             1.1166326530612245
            ],
            [
             0,
             1.315,
             0.075,
             0
            ],
            [
             0.7899999999999999,
             1.725,
             0.5516326530612246,
             0.3
            ],
            [
             1.5300000000000002,
             0,
             0.555,
             0.653265306122449
            ],
            [
             0.065,
             -0.3549999999999999,
             0,
             0
            ],
            [
             0.715,
             0.675,
             0.7899999999999999,
             1.2
            ],
            [
             0,
             0,
             0.155,
             0.835
            ],
            [
             0.2516326530612245,
             -0.19836734693877545,
             0.075,
             1.27
            ],
            [
             0,
             0,
             0,
             0
            ],
            [
             0.15,
             0.5916326530612246,
             0.825,
             1.2266326530612246
            ],
            [
             0.31663265306122446,
             0.4866326530612246,
             0.125,
             0.075
            ],
            [
             0.15,
             0.49,
             1.505,
             -0.07499999999999998
            ],
            [
             0.6266326530612245,
             0.2550000000000001,
             -0.075,
             0
            ],
            [
             0.295,
             0.051632653061224554,
             0.7150000000000001,
             0.18
            ],
            [
             0,
             -0.37499999999999994,
             0,
             0.63
            ],
            [
             0,
             0.2550000000000001,
             0.653265306122449,
             0.075
            ],
            [
             0,
             -0.44999999999999996,
             0,
             0
            ],
            [
             1.04,
             1.4966326530612246,
             2.5599999999999996,
             0.7050000000000001
            ],
            [
             0.1766326530612245,
             0,
             0.14999999999999997,
             2.0516326530612243
            ],
            [
             0,
             -0.29999999999999993,
             0.48000000000000004,
             0.075
            ],
            [
             0,
             0,
             0,
             0
            ],
            [
             0,
             -0.22499999999999992,
             0,
             0
            ],
            [
             0,
             0,
             0,
             0
            ]
           ],
           [
            [
             0,
             -0.3749999999999999,
             0.15,
             0.7050000000000001
            ],
            [
             0.15,
             -0.29999999999999993,
             0,
             0.94
            ],
            [
             0.1766326530612245,
             1.103265306122449,
             0.15,
             1.1166326530612245
            ],
            [
             0,
             1.315,
             0.075,
             0
            ],
            [
             0.7899999999999999,
             1.725,
             0.5516326530612246,
             0.3
            ],
            [
             1.5300000000000002,
             0,
             0.555,
             0.653265306122449
            ],
            [
             0.065,
             -0.3549999999999999,
             0,
             0
            ],
            [
             0.715,
             0.675,
             0.7899999999999999,
             1.2
            ],
            [
             0,
             0,
             0.155,
             0.835
            ],
            [
             0.2516326530612245,
             -0.19836734693877545,
             0.075,
             1.27
            ],
            [
             0,
             0,
             0,
             0
            ],
            [
             0.15,
             0.5916326530612246,
             0.825,
             1.2266326530612246
            ],
            [
             0.31663265306122446,
             0.4866326530612246,
             0.125,
             0.075
            ],
            [
             0.15,
             0.49,
             1.505,
             -0.07499999999999998
            ],
            [
             0.6266326530612245,
             0.2550000000000001,
             -0.075,
             0
            ],
            [
             0.295,
             0.051632653061224554,
             0.7150000000000001,
             0.18
            ],
            [
             0,
             -0.37499999999999994,
             0,
             0.63
            ],
            [
             0,
             0.2550000000000001,
             0.653265306122449,
             0.075
            ],
            [
             0,
             -0.44999999999999996,
             0,
             0
            ],
            [
             1.04,
             1.4966326530612246,
             2.5599999999999996,
             0.7050000000000001
            ],
            [
             0.1766326530612245,
             0,
             0.14999999999999997,
             2.0516326530612243
            ],
            [
             0,
             -0.29999999999999993,
             0.48000000000000004,
             0.075
            ],
            [
             0,
             0,
             0,
             0
            ],
            [
             0,
             -0.22499999999999992,
             0,
             0
            ],
            [
             0,
             0,
             0,
             0
            ]
           ],
           [
            [
             0.8516326530612246,
             0.48000000000000004
            ],
            [
             0.5916326530612245,
             1.11
            ],
            [
             -0.3,
             0.4766326530612245
            ],
            [
             -0.44999999999999996,
             0.3266326530612245
            ],
            [
             1.315,
             1.8399999999999999
            ],
            [
             -0.29999999999999993,
             2.016632653061224
            ],
            [
             0,
             0
            ],
            [
             -0.5249999999999999,
             1.8399999999999999
            ],
            [
             -0.44999999999999996,
             1.5799999999999998
            ],
            [
             0.02663265306122453,
             1.208265306122449
            ],
            [
             0,
             0
            ],
            [
             0.3566326530612246,
             0.8066326530612246
            ],
            [
             0.8,
             0.455
            ],
            [
             0.9966326530612246,
             1.6149999999999998
            ],
            [
             0.675,
             0.8066326530612246
            ],
            [
             0.28500000000000014,
             1.07
            ],
            [
             -0.22499999999999998,
             1.05
            ],
            [
             -0.37499999999999994,
             1.645
            ],
            [
             0,
             0
            ],
            [
             0.3800000000000001,
             1.3816326530612244
            ],
            [
             0.6399999999999999,
             1.6050000000000002
            ],
            [
             -0.14999999999999997,
             0.865
            ],
            [
             0,
             0
            ],
            [
             0,
             0
            ],
            [
             0,
             0
            ]
           ],
           [
            [
             0.8516326530612246,
             0.48000000000000004
            ],
            [
             0.5916326530612245,
             1.11
            ],
            [
             -0.3,
             0.4766326530612245
            ],
            [
             -0.44999999999999996,
             0.3266326530612245
            ],
            [
             1.315,
             1.8399999999999999
            ],
            [
             -0.29999999999999993,
             2.016632653061224
            ],
            [
             0,
             0
            ],
            [
             -0.5249999999999999,
             1.8399999999999999
            ],
            [
             -0.44999999999999996,
             1.5799999999999998
            ],
            [
             0.02663265306122453,
             1.208265306122449
            ],
            [
             0,
             0
            ],
            [
             0.3566326530612246,
             0.8066326530612246
            ],
            [
             0.8,
             0.455
            ],
            [
             0.9966326530612246,
             1.6149999999999998
            ],
            [
             0.675,
             0.8066326530612246
            ],
            [
             0.28500000000000014,
             1.07
            ],
            [
             -0.22499999999999998,
             1.05
            ],
            [
             -0.37499999999999994,
             1.645
            ],
            [
             0,
             0
            ],
            [
             0.3800000000000001,
             1.3816326530612244
            ],
            [
             0.6399999999999999,
             1.6050000000000002
            ],
            [
             -0.14999999999999997,
             0.865
            ],
            [
             0,
             0
            ],
            [
             0,
             0
            ],
            [
             0,
             0
            ]
           ]
          ]
         },
         "header": {
          "align": "left",
          "fill": {
           "color": "paleturquoise"
          },
          "values": [
           "Player",
           "American Int'l",
           "American Int'l",
           "St. Thomas",
           "St. Thomas",
           "Michigan Tech",
           "Michigan Tech",
           "Omaha",
           "Omaha",
           "Northern Michigan",
           "Northern Michigan",
           "Rensselaer",
           "Rensselaer",
           "Penn State",
           "Penn State",
           "Anchorage",
           "Anchorage",
           "Anchorage",
           "Anchorage",
           "Notre Dame",
           "Notre Dame",
           "Denver",
           "Denver",
           "Anchorage",
           "Anchorage",
           "Arizona State",
           "Arizona State",
           "Long Island",
           "Long Island",
           "Long Island",
           "Long Island",
           "Arizona State",
           "Arizona State",
           "Lindenwood",
           "Lindenwood"
          ]
         },
         "type": "table"
        }
       ],
       "layout": {
        "template": {
         "data": {
          "bar": [
           {
            "error_x": {
             "color": "#2a3f5f"
            },
            "error_y": {
             "color": "#2a3f5f"
            },
            "marker": {
             "line": {
              "color": "#E5ECF6",
              "width": 0.5
             },
             "pattern": {
              "fillmode": "overlay",
              "size": 10,
              "solidity": 0.2
             }
            },
            "type": "bar"
           }
          ],
          "barpolar": [
           {
            "marker": {
             "line": {
              "color": "#E5ECF6",
              "width": 0.5
             },
             "pattern": {
              "fillmode": "overlay",
              "size": 10,
              "solidity": 0.2
             }
            },
            "type": "barpolar"
           }
          ],
          "carpet": [
           {
            "aaxis": {
             "endlinecolor": "#2a3f5f",
             "gridcolor": "white",
             "linecolor": "white",
             "minorgridcolor": "white",
             "startlinecolor": "#2a3f5f"
            },
            "baxis": {
             "endlinecolor": "#2a3f5f",
             "gridcolor": "white",
             "linecolor": "white",
             "minorgridcolor": "white",
             "startlinecolor": "#2a3f5f"
            },
            "type": "carpet"
           }
          ],
          "choropleth": [
           {
            "colorbar": {
             "outlinewidth": 0,
             "ticks": ""
            },
            "type": "choropleth"
           }
          ],
          "contour": [
           {
            "colorbar": {
             "outlinewidth": 0,
             "ticks": ""
            },
            "colorscale": [
             [
              0,
              "#0d0887"
             ],
             [
              0.1111111111111111,
              "#46039f"
             ],
             [
              0.2222222222222222,
              "#7201a8"
             ],
             [
              0.3333333333333333,
              "#9c179e"
             ],
             [
              0.4444444444444444,
              "#bd3786"
             ],
             [
              0.5555555555555556,
              "#d8576b"
             ],
             [
              0.6666666666666666,
              "#ed7953"
             ],
             [
              0.7777777777777778,
              "#fb9f3a"
             ],
             [
              0.8888888888888888,
              "#fdca26"
             ],
             [
              1,
              "#f0f921"
             ]
            ],
            "type": "contour"
           }
          ],
          "contourcarpet": [
           {
            "colorbar": {
             "outlinewidth": 0,
             "ticks": ""
            },
            "type": "contourcarpet"
           }
          ],
          "heatmap": [
           {
            "colorbar": {
             "outlinewidth": 0,
             "ticks": ""
            },
            "colorscale": [
             [
              0,
              "#0d0887"
             ],
             [
              0.1111111111111111,
              "#46039f"
             ],
             [
              0.2222222222222222,
              "#7201a8"
             ],
             [
              0.3333333333333333,
              "#9c179e"
             ],
             [
              0.4444444444444444,
              "#bd3786"
             ],
             [
              0.5555555555555556,
              "#d8576b"
             ],
             [
              0.6666666666666666,
              "#ed7953"
             ],
             [
              0.7777777777777778,
              "#fb9f3a"
             ],
             [
              0.8888888888888888,
              "#fdca26"
             ],
             [
              1,
              "#f0f921"
             ]
            ],
            "type": "heatmap"
           }
          ],
          "heatmapgl": [
           {
            "colorbar": {
             "outlinewidth": 0,
             "ticks": ""
            },
            "colorscale": [
             [
              0,
              "#0d0887"
             ],
             [
              0.1111111111111111,
              "#46039f"
             ],
             [
              0.2222222222222222,
              "#7201a8"
             ],
             [
              0.3333333333333333,
              "#9c179e"
             ],
             [
              0.4444444444444444,
              "#bd3786"
             ],
             [
              0.5555555555555556,
              "#d8576b"
             ],
             [
              0.6666666666666666,
              "#ed7953"
             ],
             [
              0.7777777777777778,
              "#fb9f3a"
             ],
             [
              0.8888888888888888,
              "#fdca26"
             ],
             [
              1,
              "#f0f921"
             ]
            ],
            "type": "heatmapgl"
           }
          ],
          "histogram": [
           {
            "marker": {
             "pattern": {
              "fillmode": "overlay",
              "size": 10,
              "solidity": 0.2
             }
            },
            "type": "histogram"
           }
          ],
          "histogram2d": [
           {
            "colorbar": {
             "outlinewidth": 0,
             "ticks": ""
            },
            "colorscale": [
             [
              0,
              "#0d0887"
             ],
             [
              0.1111111111111111,
              "#46039f"
             ],
             [
              0.2222222222222222,
              "#7201a8"
             ],
             [
              0.3333333333333333,
              "#9c179e"
             ],
             [
              0.4444444444444444,
              "#bd3786"
             ],
             [
              0.5555555555555556,
              "#d8576b"
             ],
             [
              0.6666666666666666,
              "#ed7953"
             ],
             [
              0.7777777777777778,
              "#fb9f3a"
             ],
             [
              0.8888888888888888,
              "#fdca26"
             ],
             [
              1,
              "#f0f921"
             ]
            ],
            "type": "histogram2d"
           }
          ],
          "histogram2dcontour": [
           {
            "colorbar": {
             "outlinewidth": 0,
             "ticks": ""
            },
            "colorscale": [
             [
              0,
              "#0d0887"
             ],
             [
              0.1111111111111111,
              "#46039f"
             ],
             [
              0.2222222222222222,
              "#7201a8"
             ],
             [
              0.3333333333333333,
              "#9c179e"
             ],
             [
              0.4444444444444444,
              "#bd3786"
             ],
             [
              0.5555555555555556,
              "#d8576b"
             ],
             [
              0.6666666666666666,
              "#ed7953"
             ],
             [
              0.7777777777777778,
              "#fb9f3a"
             ],
             [
              0.8888888888888888,
              "#fdca26"
             ],
             [
              1,
              "#f0f921"
             ]
            ],
            "type": "histogram2dcontour"
           }
          ],
          "mesh3d": [
           {
            "colorbar": {
             "outlinewidth": 0,
             "ticks": ""
            },
            "type": "mesh3d"
           }
          ],
          "parcoords": [
           {
            "line": {
             "colorbar": {
              "outlinewidth": 0,
              "ticks": ""
             }
            },
            "type": "parcoords"
           }
          ],
          "pie": [
           {
            "automargin": true,
            "type": "pie"
           }
          ],
          "scatter": [
           {
            "fillpattern": {
             "fillmode": "overlay",
             "size": 10,
             "solidity": 0.2
            },
            "type": "scatter"
           }
          ],
          "scatter3d": [
           {
            "line": {
             "colorbar": {
              "outlinewidth": 0,
              "ticks": ""
             }
            },
            "marker": {
             "colorbar": {
              "outlinewidth": 0,
              "ticks": ""
             }
            },
            "type": "scatter3d"
           }
          ],
          "scattercarpet": [
           {
            "marker": {
             "colorbar": {
              "outlinewidth": 0,
              "ticks": ""
             }
            },
            "type": "scattercarpet"
           }
          ],
          "scattergeo": [
           {
            "marker": {
             "colorbar": {
              "outlinewidth": 0,
              "ticks": ""
             }
            },
            "type": "scattergeo"
           }
          ],
          "scattergl": [
           {
            "marker": {
             "colorbar": {
              "outlinewidth": 0,
              "ticks": ""
             }
            },
            "type": "scattergl"
           }
          ],
          "scattermapbox": [
           {
            "marker": {
             "colorbar": {
              "outlinewidth": 0,
              "ticks": ""
             }
            },
            "type": "scattermapbox"
           }
          ],
          "scatterpolar": [
           {
            "marker": {
             "colorbar": {
              "outlinewidth": 0,
              "ticks": ""
             }
            },
            "type": "scatterpolar"
           }
          ],
          "scatterpolargl": [
           {
            "marker": {
             "colorbar": {
              "outlinewidth": 0,
              "ticks": ""
             }
            },
            "type": "scatterpolargl"
           }
          ],
          "scatterternary": [
           {
            "marker": {
             "colorbar": {
              "outlinewidth": 0,
              "ticks": ""
             }
            },
            "type": "scatterternary"
           }
          ],
          "surface": [
           {
            "colorbar": {
             "outlinewidth": 0,
             "ticks": ""
            },
            "colorscale": [
             [
              0,
              "#0d0887"
             ],
             [
              0.1111111111111111,
              "#46039f"
             ],
             [
              0.2222222222222222,
              "#7201a8"
             ],
             [
              0.3333333333333333,
              "#9c179e"
             ],
             [
              0.4444444444444444,
              "#bd3786"
             ],
             [
              0.5555555555555556,
              "#d8576b"
             ],
             [
              0.6666666666666666,
              "#ed7953"
             ],
             [
              0.7777777777777778,
              "#fb9f3a"
             ],
             [
              0.8888888888888888,
              "#fdca26"
             ],
             [
              1,
              "#f0f921"
             ]
            ],
            "type": "surface"
           }
          ],
          "table": [
           {
            "cells": {
             "fill": {
              "color": "#EBF0F8"
             },
             "line": {
              "color": "white"
             }
            },
            "header": {
             "fill": {
              "color": "#C8D4E3"
             },
             "line": {
              "color": "white"
             }
            },
            "type": "table"
           }
          ]
         },
         "layout": {
          "annotationdefaults": {
           "arrowcolor": "#2a3f5f",
           "arrowhead": 0,
           "arrowwidth": 1
          },
          "autotypenumbers": "strict",
          "coloraxis": {
           "colorbar": {
            "outlinewidth": 0,
            "ticks": ""
           }
          },
          "colorscale": {
           "diverging": [
            [
             0,
             "#8e0152"
            ],
            [
             0.1,
             "#c51b7d"
            ],
            [
             0.2,
             "#de77ae"
            ],
            [
             0.3,
             "#f1b6da"
            ],
            [
             0.4,
             "#fde0ef"
            ],
            [
             0.5,
             "#f7f7f7"
            ],
            [
             0.6,
             "#e6f5d0"
            ],
            [
             0.7,
             "#b8e186"
            ],
            [
             0.8,
             "#7fbc41"
            ],
            [
             0.9,
             "#4d9221"
            ],
            [
             1,
             "#276419"
            ]
           ],
           "sequential": [
            [
             0,
             "#0d0887"
            ],
            [
             0.1111111111111111,
             "#46039f"
            ],
            [
             0.2222222222222222,
             "#7201a8"
            ],
            [
             0.3333333333333333,
             "#9c179e"
            ],
            [
             0.4444444444444444,
             "#bd3786"
            ],
            [
             0.5555555555555556,
             "#d8576b"
            ],
            [
             0.6666666666666666,
             "#ed7953"
            ],
            [
             0.7777777777777778,
             "#fb9f3a"
            ],
            [
             0.8888888888888888,
             "#fdca26"
            ],
            [
             1,
             "#f0f921"
            ]
           ],
           "sequentialminus": [
            [
             0,
             "#0d0887"
            ],
            [
             0.1111111111111111,
             "#46039f"
            ],
            [
             0.2222222222222222,
             "#7201a8"
            ],
            [
             0.3333333333333333,
             "#9c179e"
            ],
            [
             0.4444444444444444,
             "#bd3786"
            ],
            [
             0.5555555555555556,
             "#d8576b"
            ],
            [
             0.6666666666666666,
             "#ed7953"
            ],
            [
             0.7777777777777778,
             "#fb9f3a"
            ],
            [
             0.8888888888888888,
             "#fdca26"
            ],
            [
             1,
             "#f0f921"
            ]
           ]
          },
          "colorway": [
           "#636efa",
           "#EF553B",
           "#00cc96",
           "#ab63fa",
           "#FFA15A",
           "#19d3f3",
           "#FF6692",
           "#B6E880",
           "#FF97FF",
           "#FECB52"
          ],
          "font": {
           "color": "#2a3f5f"
          },
          "geo": {
           "bgcolor": "white",
           "lakecolor": "white",
           "landcolor": "#E5ECF6",
           "showlakes": true,
           "showland": true,
           "subunitcolor": "white"
          },
          "hoverlabel": {
           "align": "left"
          },
          "hovermode": "closest",
          "mapbox": {
           "style": "light"
          },
          "paper_bgcolor": "white",
          "plot_bgcolor": "#E5ECF6",
          "polar": {
           "angularaxis": {
            "gridcolor": "white",
            "linecolor": "white",
            "ticks": ""
           },
           "bgcolor": "#E5ECF6",
           "radialaxis": {
            "gridcolor": "white",
            "linecolor": "white",
            "ticks": ""
           }
          },
          "scene": {
           "xaxis": {
            "backgroundcolor": "#E5ECF6",
            "gridcolor": "white",
            "gridwidth": 2,
            "linecolor": "white",
            "showbackground": true,
            "ticks": "",
            "zerolinecolor": "white"
           },
           "yaxis": {
            "backgroundcolor": "#E5ECF6",
            "gridcolor": "white",
            "gridwidth": 2,
            "linecolor": "white",
            "showbackground": true,
            "ticks": "",
            "zerolinecolor": "white"
           },
           "zaxis": {
            "backgroundcolor": "#E5ECF6",
            "gridcolor": "white",
            "gridwidth": 2,
            "linecolor": "white",
            "showbackground": true,
            "ticks": "",
            "zerolinecolor": "white"
           }
          },
          "shapedefaults": {
           "line": {
            "color": "#2a3f5f"
           }
          },
          "ternary": {
           "aaxis": {
            "gridcolor": "white",
            "linecolor": "white",
            "ticks": ""
           },
           "baxis": {
            "gridcolor": "white",
            "linecolor": "white",
            "ticks": ""
           },
           "bgcolor": "#E5ECF6",
           "caxis": {
            "gridcolor": "white",
            "linecolor": "white",
            "ticks": ""
           }
          },
          "title": {
           "x": 0.05
          },
          "xaxis": {
           "automargin": true,
           "gridcolor": "white",
           "linecolor": "white",
           "ticks": "",
           "title": {
            "standoff": 15
           },
           "zerolinecolor": "white",
           "zerolinewidth": 2
          },
          "yaxis": {
           "automargin": true,
           "gridcolor": "white",
           "linecolor": "white",
           "ticks": "",
           "title": {
            "standoff": 15
           },
           "zerolinecolor": "white",
           "zerolinewidth": 2
          }
         }
        }
       }
      }
     },
     "metadata": {},
     "output_type": "display_data"
    }
   ],
   "source": [
    "# Reset the index so that the 'Player' column is included as a regular column\n",
    "csv_df_reset = csv_df.reset_index()\n",
    "\n",
    "# Create the table with the updated DataFrame\n",
    "fig = go.Figure(data=[go.Table(\n",
    "    header=dict(values=list(csv_df_reset.columns),\n",
    "                fill_color='paleturquoise',\n",
    "                align='left'),\n",
    "    cells=dict(values=[csv_df_reset[col] for col in csv_df_reset.columns],\n",
    "               fill_color='lavender',\n",
    "               align='left'))\n",
    "])\n",
    "\n",
    "# Note: We're not displaying the figure here due to the environment limitation, \n",
    "# but you can use this code in your local setup to see the updated table.\n",
    "fig.show()\n",
    "\n",
    "# Return the first few rows of the updated DataFrame for inspection\n",
    "# csv_df_reset.head()\n"
   ]
  },
  {
   "cell_type": "code",
   "execution_count": 164,
   "metadata": {},
   "outputs": [
    {
     "data": {
      "text/html": [
       "<div>\n",
       "<style scoped>\n",
       "    .dataframe tbody tr th:only-of-type {\n",
       "        vertical-align: middle;\n",
       "    }\n",
       "\n",
       "    .dataframe tbody tr th {\n",
       "        vertical-align: top;\n",
       "    }\n",
       "\n",
       "    .dataframe thead th {\n",
       "        text-align: right;\n",
       "    }\n",
       "</style>\n",
       "<table border=\"1\" class=\"dataframe\">\n",
       "  <thead>\n",
       "    <tr style=\"text-align: right;\">\n",
       "      <th></th>\n",
       "      <th>Player</th>\n",
       "      <th>American Int'l</th>\n",
       "      <th>American Int'l</th>\n",
       "      <th>St. Thomas</th>\n",
       "      <th>St. Thomas</th>\n",
       "      <th>Michigan Tech</th>\n",
       "      <th>Michigan Tech</th>\n",
       "      <th>Omaha</th>\n",
       "      <th>Omaha</th>\n",
       "      <th>Northern Michigan</th>\n",
       "      <th>...</th>\n",
       "      <th>Arizona State</th>\n",
       "      <th>Long Island</th>\n",
       "      <th>Long Island</th>\n",
       "      <th>Long Island</th>\n",
       "      <th>Long Island</th>\n",
       "      <th>Arizona State</th>\n",
       "      <th>Arizona State</th>\n",
       "      <th>Lindenwood</th>\n",
       "      <th>Lindenwood</th>\n",
       "      <th>Average</th>\n",
       "    </tr>\n",
       "  </thead>\n",
       "  <tbody>\n",
       "    <tr>\n",
       "      <th>13</th>\n",
       "      <td>Jonny Sorenson</td>\n",
       "      <td>0.365</td>\n",
       "      <td>1.047</td>\n",
       "      <td>1.357</td>\n",
       "      <td>0.075</td>\n",
       "      <td>0.290</td>\n",
       "      <td>0.892</td>\n",
       "      <td>2.057</td>\n",
       "      <td>1.040</td>\n",
       "      <td>0.900</td>\n",
       "      <td>...</td>\n",
       "      <td>0.490</td>\n",
       "      <td>0.477</td>\n",
       "      <td>0.300</td>\n",
       "      <td>1.420</td>\n",
       "      <td>2.180</td>\n",
       "      <td>1.505</td>\n",
       "      <td>-0.075</td>\n",
       "      <td>0.997</td>\n",
       "      <td>1.615</td>\n",
       "      <td>0.753853</td>\n",
       "    </tr>\n",
       "    <tr>\n",
       "      <th>19</th>\n",
       "      <td>Payton Matsui</td>\n",
       "      <td>0.075</td>\n",
       "      <td>-0.065</td>\n",
       "      <td>0.705</td>\n",
       "      <td>0.180</td>\n",
       "      <td>0.215</td>\n",
       "      <td>0.535</td>\n",
       "      <td>0.235</td>\n",
       "      <td>0.845</td>\n",
       "      <td>0.000</td>\n",
       "      <td>...</td>\n",
       "      <td>1.497</td>\n",
       "      <td>0.705</td>\n",
       "      <td>0.095</td>\n",
       "      <td>0.680</td>\n",
       "      <td>0.845</td>\n",
       "      <td>2.560</td>\n",
       "      <td>0.705</td>\n",
       "      <td>0.380</td>\n",
       "      <td>1.382</td>\n",
       "      <td>0.734735</td>\n",
       "    </tr>\n",
       "    <tr>\n",
       "      <th>4</th>\n",
       "      <td>Brady Risk</td>\n",
       "      <td>0.270</td>\n",
       "      <td>0.010</td>\n",
       "      <td>0.280</td>\n",
       "      <td>1.997</td>\n",
       "      <td>0.160</td>\n",
       "      <td>0.865</td>\n",
       "      <td>0.890</td>\n",
       "      <td>0.878</td>\n",
       "      <td>0.000</td>\n",
       "      <td>...</td>\n",
       "      <td>1.725</td>\n",
       "      <td>1.200</td>\n",
       "      <td>0.215</td>\n",
       "      <td>0.215</td>\n",
       "      <td>1.455</td>\n",
       "      <td>0.552</td>\n",
       "      <td>0.300</td>\n",
       "      <td>1.315</td>\n",
       "      <td>1.840</td>\n",
       "      <td>0.706118</td>\n",
       "    </tr>\n",
       "    <tr>\n",
       "      <th>11</th>\n",
       "      <td>Garrett Pyke</td>\n",
       "      <td>0.653</td>\n",
       "      <td>-0.075</td>\n",
       "      <td>0.150</td>\n",
       "      <td>1.270</td>\n",
       "      <td>0.627</td>\n",
       "      <td>1.390</td>\n",
       "      <td>0.225</td>\n",
       "      <td>0.630</td>\n",
       "      <td>0.715</td>\n",
       "      <td>...</td>\n",
       "      <td>0.592</td>\n",
       "      <td>0.600</td>\n",
       "      <td>0.353</td>\n",
       "      <td>0.680</td>\n",
       "      <td>1.345</td>\n",
       "      <td>0.825</td>\n",
       "      <td>1.227</td>\n",
       "      <td>0.357</td>\n",
       "      <td>0.807</td>\n",
       "      <td>0.602676</td>\n",
       "    </tr>\n",
       "    <tr>\n",
       "      <th>7</th>\n",
       "      <td>Chase Dubois</td>\n",
       "      <td>-0.150</td>\n",
       "      <td>0.330</td>\n",
       "      <td>0.225</td>\n",
       "      <td>0.825</td>\n",
       "      <td>0.075</td>\n",
       "      <td>0.525</td>\n",
       "      <td>0.225</td>\n",
       "      <td>0.715</td>\n",
       "      <td>0.000</td>\n",
       "      <td>...</td>\n",
       "      <td>0.675</td>\n",
       "      <td>1.192</td>\n",
       "      <td>0.402</td>\n",
       "      <td>0.600</td>\n",
       "      <td>-0.225</td>\n",
       "      <td>0.790</td>\n",
       "      <td>1.200</td>\n",
       "      <td>-0.525</td>\n",
       "      <td>1.840</td>\n",
       "      <td>0.537235</td>\n",
       "    </tr>\n",
       "  </tbody>\n",
       "</table>\n",
       "<p>5 rows × 36 columns</p>\n",
       "</div>"
      ],
      "text/plain": [
       "            Player  American Int'l  American Int'l  St. Thomas  St. Thomas  \\\n",
       "13  Jonny Sorenson           0.365           1.047       1.357       0.075   \n",
       "19   Payton Matsui           0.075          -0.065       0.705       0.180   \n",
       "4       Brady Risk           0.270           0.010       0.280       1.997   \n",
       "11    Garrett Pyke           0.653          -0.075       0.150       1.270   \n",
       "7     Chase Dubois          -0.150           0.330       0.225       0.825   \n",
       "\n",
       "    Michigan Tech  Michigan Tech  Omaha  Omaha  Northern Michigan  ...  \\\n",
       "13          0.290          0.892  2.057  1.040              0.900  ...   \n",
       "19          0.215          0.535  0.235  0.845              0.000  ...   \n",
       "4           0.160          0.865  0.890  0.878              0.000  ...   \n",
       "11          0.627          1.390  0.225  0.630              0.715  ...   \n",
       "7           0.075          0.525  0.225  0.715              0.000  ...   \n",
       "\n",
       "    Arizona State  Long Island  Long Island  Long Island  Long Island  \\\n",
       "13          0.490        0.477        0.300        1.420        2.180   \n",
       "19          1.497        0.705        0.095        0.680        0.845   \n",
       "4           1.725        1.200        0.215        0.215        1.455   \n",
       "11          0.592        0.600        0.353        0.680        1.345   \n",
       "7           0.675        1.192        0.402        0.600       -0.225   \n",
       "\n",
       "    Arizona State  Arizona State  Lindenwood  Lindenwood   Average  \n",
       "13          1.505         -0.075       0.997       1.615  0.753853  \n",
       "19          2.560          0.705       0.380       1.382  0.734735  \n",
       "4           0.552          0.300       1.315       1.840  0.706118  \n",
       "11          0.825          1.227       0.357       0.807  0.602676  \n",
       "7           0.790          1.200      -0.525       1.840  0.537235  \n",
       "\n",
       "[5 rows x 36 columns]"
      ]
     },
     "execution_count": 164,
     "metadata": {},
     "output_type": "execute_result"
    }
   ],
   "source": [
    "# 1. Conditional Formatting: Create a color array for the cells\n",
    "color_array = [['#D3D3D3' if val == 0 else 'lavender' for val in row] for row in csv_df_reset.values]\n",
    "\n",
    "# 2. Round Float Values to 3 decimal places\n",
    "csv_df_rounded = csv_df_reset.round(3)\n",
    "\n",
    "# Display the first few rows of the rounded DataFrame for inspection\n",
    "# csv_df_rounded.head()\n",
    "\n",
    "# 3. Add an Average column\n",
    "csv_df_rounded['Average'] = csv_df_rounded.iloc[:, 1:].mean(axis=1)\n",
    "\n",
    "# 4. Sort by Average\n",
    "csv_df_sorted = csv_df_rounded.sort_values(by='Average', ascending=False)\n",
    "\n",
    "# Update the color array to include the new column\n",
    "color_array = [['#D3D3D3' if val == 0 else 'lavender' for val in row] for row in csv_df_sorted.values]\n",
    "\n",
    "# Display the first few rows of the sorted DataFrame for inspection\n",
    "csv_df_sorted.head()\n",
    "\n"
   ]
  },
  {
   "cell_type": "code",
   "execution_count": 165,
   "metadata": {},
   "outputs": [
    {
     "data": {
      "application/vnd.plotly.v1+json": {
       "config": {
        "plotlyServerURL": "https://plot.ly"
       },
       "data": [
        {
         "cells": {
          "align": "left",
          "fill": {
           "color": [
            [
             "lavender",
             "lavender",
             "lavender",
             "lavender",
             "lavender",
             "lavender",
             "lavender",
             "lavender",
             "lavender",
             "lavender",
             "lavender",
             "lavender",
             "lavender",
             "lavender",
             "lavender",
             "lavender",
             "lavender",
             "lavender",
             "lavender",
             "lavender",
             "lavender",
             "lavender",
             "lavender",
             "lavender",
             "lavender",
             "lavender",
             "lavender",
             "lavender",
             "lavender",
             "lavender",
             "lavender",
             "lavender",
             "lavender",
             "lavender",
             "lavender",
             "lavender"
            ],
            [
             "lavender",
             "lavender",
             "lavender",
             "lavender",
             "lavender",
             "lavender",
             "lavender",
             "lavender",
             "lavender",
             "#D3D3D3",
             "lavender",
             "lavender",
             "lavender",
             "lavender",
             "lavender",
             "lavender",
             "lavender",
             "lavender",
             "lavender",
             "lavender",
             "lavender",
             "lavender",
             "lavender",
             "lavender",
             "lavender",
             "lavender",
             "lavender",
             "lavender",
             "lavender",
             "lavender",
             "lavender",
             "lavender",
             "lavender",
             "lavender",
             "lavender",
             "lavender"
            ],
            [
             "lavender",
             "lavender",
             "lavender",
             "lavender",
             "lavender",
             "lavender",
             "lavender",
             "lavender",
             "lavender",
             "#D3D3D3",
             "lavender",
             "lavender",
             "lavender",
             "lavender",
             "lavender",
             "lavender",
             "lavender",
             "lavender",
             "lavender",
             "lavender",
             "lavender",
             "lavender",
             "lavender",
             "lavender",
             "lavender",
             "lavender",
             "lavender",
             "lavender",
             "lavender",
             "lavender",
             "lavender",
             "lavender",
             "lavender",
             "lavender",
             "lavender",
             "lavender"
            ],
            [
             "lavender",
             "lavender",
             "lavender",
             "lavender",
             "lavender",
             "lavender",
             "lavender",
             "lavender",
             "lavender",
             "lavender",
             "lavender",
             "lavender",
             "lavender",
             "lavender",
             "lavender",
             "lavender",
             "lavender",
             "lavender",
             "lavender",
             "lavender",
             "#D3D3D3",
             "lavender",
             "lavender",
             "lavender",
             "lavender",
             "lavender",
             "lavender",
             "lavender",
             "lavender",
             "lavender",
             "lavender",
             "lavender",
             "lavender",
             "lavender",
             "lavender",
             "lavender"
            ],
            [
             "lavender",
             "lavender",
             "lavender",
             "lavender",
             "lavender",
             "lavender",
             "lavender",
             "lavender",
             "lavender",
             "#D3D3D3",
             "lavender",
             "lavender",
             "lavender",
             "#D3D3D3",
             "lavender",
             "lavender",
             "lavender",
             "lavender",
             "lavender",
             "lavender",
             "lavender",
             "lavender",
             "lavender",
             "lavender",
             "lavender",
             "lavender",
             "lavender",
             "lavender",
             "lavender",
             "lavender",
             "lavender",
             "lavender",
             "lavender",
             "lavender",
             "lavender",
             "lavender"
            ],
            [
             "lavender",
             "lavender",
             "lavender",
             "lavender",
             "lavender",
             "#D3D3D3",
             "lavender",
             "#D3D3D3",
             "lavender",
             "lavender",
             "lavender",
             "lavender",
             "lavender",
             "lavender",
             "lavender",
             "lavender",
             "lavender",
             "lavender",
             "lavender",
             "lavender",
             "#D3D3D3",
             "lavender",
             "lavender",
             "lavender",
             "lavender",
             "lavender",
             "lavender",
             "lavender",
             "lavender",
             "lavender",
             "lavender",
             "#D3D3D3",
             "lavender",
             "lavender",
             "lavender",
             "lavender"
            ],
            [
             "lavender",
             "lavender",
             "lavender",
             "lavender",
             "lavender",
             "lavender",
             "lavender",
             "lavender",
             "lavender",
             "lavender",
             "lavender",
             "lavender",
             "lavender",
             "lavender",
             "lavender",
             "lavender",
             "lavender",
             "lavender",
             "lavender",
             "lavender",
             "lavender",
             "lavender",
             "lavender",
             "lavender",
             "lavender",
             "lavender",
             "lavender",
             "lavender",
             "lavender",
             "lavender",
             "lavender",
             "lavender",
             "lavender",
             "lavender",
             "lavender",
             "lavender"
            ],
            [
             "lavender",
             "lavender",
             "#D3D3D3",
             "lavender",
             "lavender",
             "lavender",
             "lavender",
             "lavender",
             "lavender",
             "lavender",
             "lavender",
             "lavender",
             "#D3D3D3",
             "lavender",
             "#D3D3D3",
             "lavender",
             "#D3D3D3",
             "lavender",
             "lavender",
             "lavender",
             "lavender",
             "lavender",
             "lavender",
             "lavender",
             "lavender",
             "lavender",
             "lavender",
             "lavender",
             "lavender",
             "lavender",
             "lavender",
             "lavender",
             "lavender",
             "lavender",
             "lavender",
             "lavender"
            ],
            [
             "lavender",
             "lavender",
             "lavender",
             "lavender",
             "lavender",
             "lavender",
             "lavender",
             "lavender",
             "lavender",
             "lavender",
             "#D3D3D3",
             "lavender",
             "lavender",
             "lavender",
             "lavender",
             "lavender",
             "lavender",
             "lavender",
             "lavender",
             "lavender",
             "lavender",
             "lavender",
             "lavender",
             "#D3D3D3",
             "lavender",
             "#D3D3D3",
             "lavender",
             "lavender",
             "#D3D3D3",
             "lavender",
             "lavender",
             "lavender",
             "lavender",
             "lavender",
             "lavender",
             "lavender"
            ],
            [
             "lavender",
             "lavender",
             "lavender",
             "lavender",
             "#D3D3D3",
             "lavender",
             "lavender",
             "lavender",
             "lavender",
             "lavender",
             "lavender",
             "lavender",
             "lavender",
             "lavender",
             "lavender",
             "lavender",
             "lavender",
             "lavender",
             "lavender",
             "lavender",
             "lavender",
             "lavender",
             "lavender",
             "lavender",
             "lavender",
             "#D3D3D3",
             "lavender",
             "lavender",
             "lavender",
             "lavender",
             "lavender",
             "lavender",
             "lavender",
             "lavender",
             "lavender",
             "lavender"
            ],
            [
             "lavender",
             "lavender",
             "lavender",
             "lavender",
             "lavender",
             "lavender",
             "lavender",
             "lavender",
             "lavender",
             "lavender",
             "lavender",
             "lavender",
             "#D3D3D3",
             "#D3D3D3",
             "lavender",
             "#D3D3D3",
             "lavender",
             "lavender",
             "lavender",
             "lavender",
             "#D3D3D3",
             "lavender",
             "lavender",
             "lavender",
             "lavender",
             "lavender",
             "#D3D3D3",
             "lavender",
             "lavender",
             "lavender",
             "lavender",
             "lavender",
             "lavender",
             "lavender",
             "lavender",
             "lavender"
            ],
            [
             "lavender",
             "#D3D3D3",
             "lavender",
             "lavender",
             "lavender",
             "lavender",
             "lavender",
             "#D3D3D3",
             "lavender",
             "#D3D3D3",
             "#D3D3D3",
             "lavender",
             "lavender",
             "#D3D3D3",
             "lavender",
             "lavender",
             "lavender",
             "lavender",
             "lavender",
             "lavender",
             "lavender",
             "lavender",
             "lavender",
             "lavender",
             "lavender",
             "lavender",
             "lavender",
             "lavender",
             "lavender",
             "lavender",
             "lavender",
             "lavender",
             "lavender",
             "lavender",
             "lavender",
             "lavender"
            ],
            [
             "lavender",
             "lavender",
             "#D3D3D3",
             "lavender",
             "lavender",
             "lavender",
             "lavender",
             "lavender",
             "lavender",
             "#D3D3D3",
             "lavender",
             "lavender",
             "lavender",
             "#D3D3D3",
             "lavender",
             "lavender",
             "lavender",
             "#D3D3D3",
             "lavender",
             "lavender",
             "lavender",
             "lavender",
             "lavender",
             "lavender",
             "lavender",
             "lavender",
             "lavender",
             "lavender",
             "#D3D3D3",
             "#D3D3D3",
             "lavender",
             "lavender",
             "lavender",
             "lavender",
             "lavender",
             "lavender"
            ],
            [
             "lavender",
             "lavender",
             "lavender",
             "lavender",
             "lavender",
             "lavender",
             "lavender",
             "lavender",
             "#D3D3D3",
             "lavender",
             "lavender",
             "lavender",
             "lavender",
             "lavender",
             "lavender",
             "lavender",
             "lavender",
             "lavender",
             "lavender",
             "lavender",
             "lavender",
             "lavender",
             "lavender",
             "lavender",
             "lavender",
             "#D3D3D3",
             "lavender",
             "lavender",
             "lavender",
             "lavender",
             "#D3D3D3",
             "#D3D3D3",
             "lavender",
             "lavender",
             "lavender",
             "lavender"
            ],
            [
             "lavender",
             "lavender",
             "lavender",
             "lavender",
             "lavender",
             "#D3D3D3",
             "#D3D3D3",
             "lavender",
             "lavender",
             "lavender",
             "lavender",
             "lavender",
             "#D3D3D3",
             "#D3D3D3",
             "#D3D3D3",
             "#D3D3D3",
             "#D3D3D3",
             "#D3D3D3",
             "#D3D3D3",
             "#D3D3D3",
             "#D3D3D3",
             "#D3D3D3",
             "#D3D3D3",
             "#D3D3D3",
             "#D3D3D3",
             "lavender",
             "#D3D3D3",
             "lavender",
             "lavender",
             "lavender",
             "lavender",
             "lavender",
             "lavender",
             "lavender",
             "lavender",
             "lavender"
            ],
            [
             "lavender",
             "#D3D3D3",
             "lavender",
             "lavender",
             "lavender",
             "lavender",
             "lavender",
             "lavender",
             "lavender",
             "lavender",
             "lavender",
             "lavender",
             "lavender",
             "lavender",
             "lavender",
             "lavender",
             "lavender",
             "lavender",
             "lavender",
             "lavender",
             "lavender",
             "#D3D3D3",
             "#D3D3D3",
             "#D3D3D3",
             "#D3D3D3",
             "#D3D3D3",
             "#D3D3D3",
             "lavender",
             "lavender",
             "#D3D3D3",
             "lavender",
             "lavender",
             "lavender",
             "lavender",
             "lavender",
             "lavender"
            ],
            [
             "lavender",
             "lavender",
             "lavender",
             "lavender",
             "lavender",
             "lavender",
             "lavender",
             "lavender",
             "lavender",
             "lavender",
             "lavender",
             "lavender",
             "lavender",
             "lavender",
             "lavender",
             "#D3D3D3",
             "#D3D3D3",
             "lavender",
             "lavender",
             "lavender",
             "#D3D3D3",
             "lavender",
             "lavender",
             "lavender",
             "lavender",
             "lavender",
             "lavender",
             "#D3D3D3",
             "lavender",
             "lavender",
             "lavender",
             "lavender",
             "#D3D3D3",
             "lavender",
             "lavender",
             "lavender"
            ],
            [
             "lavender",
             "lavender",
             "lavender",
             "lavender",
             "lavender",
             "#D3D3D3",
             "lavender",
             "lavender",
             "lavender",
             "#D3D3D3",
             "lavender",
             "lavender",
             "lavender",
             "lavender",
             "lavender",
             "#D3D3D3",
             "lavender",
             "lavender",
             "lavender",
             "#D3D3D3",
             "lavender",
             "#D3D3D3",
             "lavender",
             "lavender",
             "#D3D3D3",
             "#D3D3D3",
             "lavender",
             "lavender",
             "lavender",
             "lavender",
             "lavender",
             "lavender",
             "lavender",
             "lavender",
             "lavender",
             "lavender"
            ],
            [
             "lavender",
             "#D3D3D3",
             "#D3D3D3",
             "#D3D3D3",
             "#D3D3D3",
             "#D3D3D3",
             "#D3D3D3",
             "#D3D3D3",
             "#D3D3D3",
             "#D3D3D3",
             "#D3D3D3",
             "#D3D3D3",
             "#D3D3D3",
             "lavender",
             "#D3D3D3",
             "#D3D3D3",
             "#D3D3D3",
             "lavender",
             "#D3D3D3",
             "lavender",
             "lavender",
             "lavender",
             "lavender",
             "lavender",
             "#D3D3D3",
             "#D3D3D3",
             "lavender",
             "lavender",
             "lavender",
             "lavender",
             "lavender",
             "lavender",
             "#D3D3D3",
             "lavender",
             "lavender",
             "lavender"
            ],
            [
             "lavender",
             "lavender",
             "lavender",
             "#D3D3D3",
             "#D3D3D3",
             "lavender",
             "lavender",
             "lavender",
             "lavender",
             "lavender",
             "lavender",
             "lavender",
             "lavender",
             "lavender",
             "#D3D3D3",
             "#D3D3D3",
             "#D3D3D3",
             "#D3D3D3",
             "lavender",
             "#D3D3D3",
             "#D3D3D3",
             "lavender",
             "lavender",
             "lavender",
             "lavender",
             "lavender",
             "lavender",
             "#D3D3D3",
             "#D3D3D3",
             "#D3D3D3",
             "#D3D3D3",
             "#D3D3D3",
             "#D3D3D3",
             "#D3D3D3",
             "#D3D3D3",
             "lavender"
            ],
            [
             "lavender",
             "#D3D3D3",
             "lavender",
             "#D3D3D3",
             "#D3D3D3",
             "#D3D3D3",
             "#D3D3D3",
             "#D3D3D3",
             "#D3D3D3",
             "#D3D3D3",
             "lavender",
             "#D3D3D3",
             "#D3D3D3",
             "#D3D3D3",
             "#D3D3D3",
             "lavender",
             "lavender",
             "lavender",
             "#D3D3D3",
             "lavender",
             "#D3D3D3",
             "#D3D3D3",
             "lavender",
             "#D3D3D3",
             "lavender",
             "#D3D3D3",
             "lavender",
             "lavender",
             "#D3D3D3",
             "#D3D3D3",
             "#D3D3D3",
             "#D3D3D3",
             "#D3D3D3",
             "#D3D3D3",
             "#D3D3D3",
             "lavender"
            ],
            [
             "lavender",
             "lavender",
             "#D3D3D3",
             "#D3D3D3",
             "#D3D3D3",
             "#D3D3D3",
             "#D3D3D3",
             "#D3D3D3",
             "#D3D3D3",
             "#D3D3D3",
             "#D3D3D3",
             "#D3D3D3",
             "#D3D3D3",
             "#D3D3D3",
             "lavender",
             "lavender",
             "lavender",
             "#D3D3D3",
             "#D3D3D3",
             "#D3D3D3",
             "#D3D3D3",
             "lavender",
             "#D3D3D3",
             "#D3D3D3",
             "#D3D3D3",
             "#D3D3D3",
             "#D3D3D3",
             "#D3D3D3",
             "#D3D3D3",
             "#D3D3D3",
             "#D3D3D3",
             "#D3D3D3",
             "#D3D3D3",
             "#D3D3D3",
             "#D3D3D3",
             "lavender"
            ],
            [
             "lavender",
             "#D3D3D3",
             "#D3D3D3",
             "#D3D3D3",
             "#D3D3D3",
             "#D3D3D3",
             "#D3D3D3",
             "#D3D3D3",
             "#D3D3D3",
             "#D3D3D3",
             "#D3D3D3",
             "#D3D3D3",
             "lavender",
             "#D3D3D3",
             "#D3D3D3",
             "lavender",
             "#D3D3D3",
             "#D3D3D3",
             "#D3D3D3",
             "lavender",
             "#D3D3D3",
             "#D3D3D3",
             "#D3D3D3",
             "#D3D3D3",
             "#D3D3D3",
             "#D3D3D3",
             "#D3D3D3",
             "#D3D3D3",
             "#D3D3D3",
             "#D3D3D3",
             "#D3D3D3",
             "#D3D3D3",
             "#D3D3D3",
             "#D3D3D3",
             "#D3D3D3",
             "lavender"
            ],
            [
             "lavender",
             "#D3D3D3",
             "#D3D3D3",
             "lavender",
             "#D3D3D3",
             "#D3D3D3",
             "lavender",
             "lavender",
             "#D3D3D3",
             "lavender",
             "#D3D3D3",
             "#D3D3D3",
             "#D3D3D3",
             "#D3D3D3",
             "#D3D3D3",
             "#D3D3D3",
             "#D3D3D3",
             "#D3D3D3",
             "#D3D3D3",
             "#D3D3D3",
             "#D3D3D3",
             "#D3D3D3",
             "#D3D3D3",
             "#D3D3D3",
             "#D3D3D3",
             "#D3D3D3",
             "#D3D3D3",
             "#D3D3D3",
             "#D3D3D3",
             "#D3D3D3",
             "#D3D3D3",
             "#D3D3D3",
             "#D3D3D3",
             "#D3D3D3",
             "#D3D3D3",
             "lavender"
            ],
            [
             "lavender",
             "#D3D3D3",
             "#D3D3D3",
             "#D3D3D3",
             "#D3D3D3",
             "#D3D3D3",
             "#D3D3D3",
             "#D3D3D3",
             "#D3D3D3",
             "#D3D3D3",
             "#D3D3D3",
             "#D3D3D3",
             "#D3D3D3",
             "#D3D3D3",
             "#D3D3D3",
             "#D3D3D3",
             "#D3D3D3",
             "lavender",
             "#D3D3D3",
             "#D3D3D3",
             "#D3D3D3",
             "#D3D3D3",
             "#D3D3D3",
             "#D3D3D3",
             "lavender",
             "#D3D3D3",
             "lavender",
             "#D3D3D3",
             "#D3D3D3",
             "#D3D3D3",
             "#D3D3D3",
             "#D3D3D3",
             "#D3D3D3",
             "#D3D3D3",
             "#D3D3D3",
             "lavender"
            ]
           ]
          },
          "values": [
           [
            "Jonny Sorenson",
            "Payton Matsui",
            "Brady Risk",
            "Garrett Pyke",
            "Chase Dubois",
            "Anton Rubtsov",
            "Harrison Israels",
            "Arvils Bergmanis",
            "Matt Koethe",
            "T.J. Lloyd",
            "Simon Falk",
            "Kyle Gaffney",
            "Connor Mylymok",
            "Markuss Komuls",
            "Brayden Nicholetts",
            "Colin Doyle",
            "Karl Falk",
            "A.J. Macaulay",
            "Braden Birnie",
            "Cade Neilson",
            "Xavier Jean-Louis",
            "Zachary Power",
            "Will Hilfiker",
            "Eriks Zohovs",
            "Matteo Pecchia"
           ],
           [
            [
             0.365,
             1.047
            ],
            [
             0.075,
             -0.065
            ],
            [
             0.27,
             0.01
            ],
            [
             0.653,
             -0.075
            ],
            [
             -0.15,
             0.33
            ],
            [
             0.075,
             0.477
            ],
            [
             0.52,
             0.21
            ],
            [
             0.15,
             0
            ],
            [
             0.225,
             -0.17
            ],
            [
             0.075,
             -0.075
            ],
            [
             1.05,
             -0.075
            ],
            [
             0,
             0.715
            ],
            [
             0.327,
             0
            ],
            [
             0.477,
             -0.375
            ],
            [
             1.09,
             0.102
            ],
            [
             0,
             1.05
            ],
            [
             0.177,
             -0.15
            ],
            [
             0.075,
             0.075
            ],
            [
             0,
             0
            ],
            [
             0.48,
             0.545
            ],
            [
             0,
             -0.225
            ],
            [
             0.045,
             0
            ],
            [
             0,
             0
            ],
            [
             0,
             0
            ],
            [
             0,
             0
            ]
           ],
           [
            [
             0.365,
             1.047
            ],
            [
             0.075,
             -0.065
            ],
            [
             0.27,
             0.01
            ],
            [
             0.653,
             -0.075
            ],
            [
             -0.15,
             0.33
            ],
            [
             0.075,
             0.477
            ],
            [
             0.52,
             0.21
            ],
            [
             0.15,
             0
            ],
            [
             0.225,
             -0.17
            ],
            [
             0.075,
             -0.075
            ],
            [
             1.05,
             -0.075
            ],
            [
             0,
             0.715
            ],
            [
             0.327,
             0
            ],
            [
             0.477,
             -0.375
            ],
            [
             1.09,
             0.102
            ],
            [
             0,
             1.05
            ],
            [
             0.177,
             -0.15
            ],
            [
             0.075,
             0.075
            ],
            [
             0,
             0
            ],
            [
             0.48,
             0.545
            ],
            [
             0,
             -0.225
            ],
            [
             0.045,
             0
            ],
            [
             0,
             0
            ],
            [
             0,
             0
            ],
            [
             0,
             0
            ]
           ],
           [
            [
             1.357,
             0.075
            ],
            [
             0.705,
             0.18
            ],
            [
             0.28,
             1.997
            ],
            [
             0.15,
             1.27
            ],
            [
             0.225,
             0.825
            ],
            [
             1.527,
             0.225
            ],
            [
             0.16,
             1.027
            ],
            [
             0.865,
             0.578
            ],
            [
             1.19,
             0.44
            ],
            [
             0.627,
             0
            ],
            [
             1.2,
             0.075
            ],
            [
             0.865,
             0.327
            ],
            [
             0.3,
             0.075
            ],
            [
             0.627,
             0.225
            ],
            [
             0.225,
             0.15
            ],
            [
             0.265,
             0.205
            ],
            [
             0.15,
             -0.075
            ],
            [
             0.15,
             -0.15
            ],
            [
             0,
             0
            ],
            [
             0,
             0
            ],
            [
             0,
             0
            ],
            [
             0,
             0
            ],
            [
             0,
             0
            ],
            [
             0.382,
             0
            ],
            [
             0,
             0
            ]
           ],
           [
            [
             1.357,
             0.075
            ],
            [
             0.705,
             0.18
            ],
            [
             0.28,
             1.997
            ],
            [
             0.15,
             1.27
            ],
            [
             0.225,
             0.825
            ],
            [
             1.527,
             0.225
            ],
            [
             0.16,
             1.027
            ],
            [
             0.865,
             0.578
            ],
            [
             1.19,
             0.44
            ],
            [
             0.627,
             0
            ],
            [
             1.2,
             0.075
            ],
            [
             0.865,
             0.327
            ],
            [
             0.3,
             0.075
            ],
            [
             0.627,
             0.225
            ],
            [
             0.225,
             0.15
            ],
            [
             0.265,
             0.205
            ],
            [
             0.15,
             -0.075
            ],
            [
             0.15,
             -0.15
            ],
            [
             0,
             0
            ],
            [
             0,
             0
            ],
            [
             0,
             0
            ],
            [
             0,
             0
            ],
            [
             0,
             0
            ],
            [
             0.382,
             0
            ],
            [
             0,
             0
            ]
           ],
           [
            [
             0.29,
             0.892
            ],
            [
             0.215,
             0.535
            ],
            [
             0.16,
             0.865
            ],
            [
             0.627,
             1.39
            ],
            [
             0.075,
             0.525
            ],
            [
             0,
             0.6
            ],
            [
             0.05,
             1.21
            ],
            [
             0.225,
             0.852
            ],
            [
             0.15,
             1.585
            ],
            [
             0.375,
             1.24
            ],
            [
             0.15,
             0.75
            ],
            [
             0.225,
             0.45
            ],
            [
             0.3,
             0.525
            ],
            [
             0.402,
             0.6
            ],
            [
             0,
             0
            ],
            [
             0.37,
             1.045
            ],
            [
             0.375,
             0.45
            ],
            [
             0,
             0.375
            ],
            [
             0,
             0
            ],
            [
             -0.16,
             0.44
            ],
            [
             0,
             0
            ],
            [
             0,
             0
            ],
            [
             0,
             0
            ],
            [
             0,
             0.53
            ],
            [
             0,
             0
            ]
           ],
           [
            [
             0.29,
             0.892
            ],
            [
             0.215,
             0.535
            ],
            [
             0.16,
             0.865
            ],
            [
             0.627,
             1.39
            ],
            [
             0.075,
             0.525
            ],
            [
             0,
             0.6
            ],
            [
             0.05,
             1.21
            ],
            [
             0.225,
             0.852
            ],
            [
             0.15,
             1.585
            ],
            [
             0.375,
             1.24
            ],
            [
             0.15,
             0.75
            ],
            [
             0.225,
             0.45
            ],
            [
             0.3,
             0.525
            ],
            [
             0.402,
             0.6
            ],
            [
             0,
             0
            ],
            [
             0.37,
             1.045
            ],
            [
             0.375,
             0.45
            ],
            [
             0,
             0.375
            ],
            [
             0,
             0
            ],
            [
             -0.16,
             0.44
            ],
            [
             0,
             0
            ],
            [
             0,
             0
            ],
            [
             0,
             0
            ],
            [
             0,
             0.53
            ],
            [
             0,
             0
            ]
           ],
           [
            [
             2.057,
             1.04
            ],
            [
             0.235,
             0.845
            ],
            [
             0.89,
             0.878
            ],
            [
             0.225,
             0.63
            ],
            [
             0.225,
             0.715
            ],
            [
             0,
             0.252
            ],
            [
             0.775,
             0.075
            ],
            [
             0.327,
             0.882
            ],
            [
             0.477,
             0.477
            ],
            [
             0.075,
             1.077
            ],
            [
             0.075,
             0.075
            ],
            [
             0,
             0.075
            ],
            [
             1.267,
             0.402
            ],
            [
             0.882,
             0
            ],
            [
             0.48,
             0.252
            ],
            [
             0.347,
             0.025
            ],
            [
             0.9,
             0.503
            ],
            [
             0.705,
             0.075
            ],
            [
             0,
             0
            ],
            [
             0.205,
             0.055
            ],
            [
             0,
             0
            ],
            [
             0,
             0
            ],
            [
             0,
             0
            ],
            [
             -0.075,
             0
            ],
            [
             0,
             0
            ]
           ],
           [
            [
             2.057,
             1.04
            ],
            [
             0.235,
             0.845
            ],
            [
             0.89,
             0.878
            ],
            [
             0.225,
             0.63
            ],
            [
             0.225,
             0.715
            ],
            [
             0,
             0.252
            ],
            [
             0.775,
             0.075
            ],
            [
             0.327,
             0.882
            ],
            [
             0.477,
             0.477
            ],
            [
             0.075,
             1.077
            ],
            [
             0.075,
             0.075
            ],
            [
             0,
             0.075
            ],
            [
             1.267,
             0.402
            ],
            [
             0.882,
             0
            ],
            [
             0.48,
             0.252
            ],
            [
             0.347,
             0.025
            ],
            [
             0.9,
             0.503
            ],
            [
             0.705,
             0.075
            ],
            [
             0,
             0
            ],
            [
             0.205,
             0.055
            ],
            [
             0,
             0
            ],
            [
             0,
             0
            ],
            [
             0,
             0
            ],
            [
             -0.075,
             0
            ],
            [
             0,
             0
            ]
           ],
           [
            [
             0.9,
             0.15
            ],
            [
             0,
             0.202
            ],
            [
             0,
             0.085
            ],
            [
             0.715,
             1.495
            ],
            [
             0,
             0.402
            ],
            [
             0.3,
             0.49
            ],
            [
             0.782,
             1.705
            ],
            [
             0.68,
             -0.3
            ],
            [
             0.89,
             0
            ],
            [
             -0.15,
             0.48
            ],
            [
             0.225,
             0.375
            ],
            [
             0,
             0
            ],
            [
             0,
             -0.15
            ],
            [
             0.027,
             -0.15
            ],
            [
             0.075,
             0.075
            ],
            [
             -0.035,
             0.19
            ],
            [
             -0.075,
             -0.075
            ],
            [
             0,
             0.177
            ],
            [
             0,
             0
            ],
            [
             -0.165,
             -0.01
            ],
            [
             0,
             0.075
            ],
            [
             0,
             0
            ],
            [
             0,
             0
            ],
            [
             -0.04,
             0
            ],
            [
             0,
             0
            ]
           ],
           [
            [
             0.9,
             0.15
            ],
            [
             0,
             0.202
            ],
            [
             0,
             0.085
            ],
            [
             0.715,
             1.495
            ],
            [
             0,
             0.402
            ],
            [
             0.3,
             0.49
            ],
            [
             0.782,
             1.705
            ],
            [
             0.68,
             -0.3
            ],
            [
             0.89,
             0
            ],
            [
             -0.15,
             0.48
            ],
            [
             0.225,
             0.375
            ],
            [
             0,
             0
            ],
            [
             0,
             -0.15
            ],
            [
             0.027,
             -0.15
            ],
            [
             0.075,
             0.075
            ],
            [
             -0.035,
             0.19
            ],
            [
             -0.075,
             -0.075
            ],
            [
             0,
             0.177
            ],
            [
             0,
             0
            ],
            [
             -0.165,
             -0.01
            ],
            [
             0,
             0.075
            ],
            [
             0,
             0
            ],
            [
             0,
             0
            ],
            [
             -0.04,
             0
            ],
            [
             0,
             0
            ]
           ],
           [
            [
             0.3,
             0.72
            ],
            [
             1.005,
             0.04
            ],
            [
             0.477,
             0.225
            ],
            [
             0.627,
             0.825
            ],
            [
             0.3,
             0.15
            ],
            [
             0.552,
             0.9
            ],
            [
             0.28,
             -0.055
            ],
            [
             1.015,
             0
            ],
            [
             1.275,
             0.177
            ],
            [
             0.525,
             0.225
            ],
            [
             0.375,
             0
            ],
            [
             1.99,
             0.477
            ],
            [
             1.005,
             0.83
            ],
            [
             1.165,
             0.225
            ],
            [
             1.2,
             0
            ],
            [
             0.43,
             -0.02
            ],
            [
             0.552,
             0.075
            ],
            [
             1.005,
             0.252
            ],
            [
             0,
             0
            ],
            [
             0.33,
             0.105
            ],
            [
             0,
             0
            ],
            [
             0,
             0
            ],
            [
             0,
             0.075
            ],
            [
             0,
             0
            ],
            [
             0,
             0
            ]
           ],
           [
            [
             0.3,
             0.72
            ],
            [
             1.005,
             0.04
            ],
            [
             0.477,
             0.225
            ],
            [
             0.627,
             0.825
            ],
            [
             0.3,
             0.15
            ],
            [
             0.552,
             0.9
            ],
            [
             0.28,
             -0.055
            ],
            [
             1.015,
             0
            ],
            [
             1.275,
             0.177
            ],
            [
             0.525,
             0.225
            ],
            [
             0.375,
             0
            ],
            [
             1.99,
             0.477
            ],
            [
             1.005,
             0.83
            ],
            [
             1.165,
             0.225
            ],
            [
             1.2,
             0
            ],
            [
             0.43,
             -0.02
            ],
            [
             0.552,
             0.075
            ],
            [
             1.005,
             0.252
            ],
            [
             0,
             0
            ],
            [
             0.33,
             0.105
            ],
            [
             0,
             0
            ],
            [
             0,
             0
            ],
            [
             0,
             0.075
            ],
            [
             0,
             0
            ],
            [
             0,
             0
            ]
           ],
           [
            [
             0.715,
             0.15
            ],
            [
             0.975,
             0.785
            ],
            [
             0.16,
             0.807
            ],
            [
             0.075,
             0.15
            ],
            [
             0,
             0.15
            ],
            [
             0.225,
             1.125
            ],
            [
             1.03,
             0.125
            ],
            [
             0.327,
             0
            ],
            [
             1.512,
             0.375
            ],
            [
             1.042,
             0.15
            ],
            [
             0,
             0.15
            ],
            [
             0,
             0.04
            ],
            [
             0,
             0.15
            ],
            [
             0.225,
             0.075
            ],
            [
             0,
             0
            ],
            [
             0.035,
             0.055
            ],
            [
             0.252,
             0.15
            ],
            [
             0.225,
             0.252
            ],
            [
             0.15,
             0
            ],
            [
             -0.06,
             0
            ],
            [
             0,
             0
            ],
            [
             0,
             0.327
            ],
            [
             0,
             0
            ],
            [
             0,
             0
            ],
            [
             0,
             0
            ]
           ],
           [
            [
             0.715,
             0.15
            ],
            [
             0.975,
             0.785
            ],
            [
             0.16,
             0.807
            ],
            [
             0.075,
             0.15
            ],
            [
             0,
             0.15
            ],
            [
             0.225,
             1.125
            ],
            [
             1.03,
             0.125
            ],
            [
             0.327,
             0
            ],
            [
             1.512,
             0.375
            ],
            [
             1.042,
             0.15
            ],
            [
             0,
             0.15
            ],
            [
             0,
             0.04
            ],
            [
             0,
             0.15
            ],
            [
             0.225,
             0.075
            ],
            [
             0,
             0
            ],
            [
             0.035,
             0.055
            ],
            [
             0.252,
             0.15
            ],
            [
             0.225,
             0.252
            ],
            [
             0.15,
             0
            ],
            [
             -0.06,
             0
            ],
            [
             0,
             0
            ],
            [
             0,
             0.327
            ],
            [
             0,
             0
            ],
            [
             0,
             0
            ],
            [
             0,
             0
            ]
           ],
           [
            [
             1.345,
             -0.035,
             0.75,
             0.3,
             1.68,
             0.392
            ],
            [
             0.96,
             0.145,
             0.725,
             0.94,
             1.125,
             2.185
            ],
            [
             1.81,
             0.415,
             0.307,
             -0.19,
             1.99,
             0.93
            ],
            [
             1.492,
             -0.525,
             0.327,
             0.15,
             1.518,
             0.15
            ],
            [
             0.79,
             0.595,
             0.675,
             0.9,
             0.375,
             2.13
            ],
            [
             0.225,
             0.83,
             0.855,
             0.882,
             0.552,
             1.05
            ],
            [
             1.795,
             -0.468,
             0.83,
             0.105,
             1.13,
             0.93
            ],
            [
             0.477,
             0,
             1.117,
             0.477,
             1.628,
             0.807
            ],
            [
             0.225,
             -0.975,
             0.402,
             0.15,
             0,
             0.705
            ],
            [
             0.555,
             -0.75,
             1.717,
             0.225,
             0.93,
             0.15
            ],
            [
             0,
             -0.075,
             0.9,
             0.327,
             0.225,
             0.15
            ],
            [
             0.595,
             1,
             -0.01,
             0.055,
             0.91,
             0.01
            ],
            [
             0.327,
             0.543,
             0,
             0.327,
             0.477,
             -0.075
            ],
            [
             0.15,
             1.825,
             -0.15,
             0.252,
             0.225,
             0.48
            ],
            [
             0,
             0,
             0,
             0,
             0,
             0
            ],
            [
             0.835,
             -0.805,
             0.63,
             0.275,
             0,
             0
            ],
            [
             0,
             0,
             0.552,
             0.252,
             0.15,
             0.428
            ],
            [
             0,
             0.225,
             0.327,
             0.15,
             1.267,
             0
            ],
            [
             0,
             0,
             0.075,
             0,
             0.375,
             0
            ],
            [
             0,
             0,
             0,
             0.085,
             0.095,
             0.633
            ],
            [
             0.705,
             -0.093,
             0.075,
             0,
             0,
             -0.075
            ],
            [
             1.04,
             -0.573,
             0,
             0,
             0,
             0
            ],
            [
             0.63,
             0,
             0,
             0,
             0,
             0
            ],
            [
             0,
             0,
             0,
             0,
             0,
             0
            ],
            [
             0,
             0,
             0.552,
             0,
             0,
             0.225
            ]
           ],
           [
            [
             1.345,
             -0.035,
             0.75,
             0.3,
             1.68,
             0.392
            ],
            [
             0.96,
             0.145,
             0.725,
             0.94,
             1.125,
             2.185
            ],
            [
             1.81,
             0.415,
             0.307,
             -0.19,
             1.99,
             0.93
            ],
            [
             1.492,
             -0.525,
             0.327,
             0.15,
             1.518,
             0.15
            ],
            [
             0.79,
             0.595,
             0.675,
             0.9,
             0.375,
             2.13
            ],
            [
             0.225,
             0.83,
             0.855,
             0.882,
             0.552,
             1.05
            ],
            [
             1.795,
             -0.468,
             0.83,
             0.105,
             1.13,
             0.93
            ],
            [
             0.477,
             0,
             1.117,
             0.477,
             1.628,
             0.807
            ],
            [
             0.225,
             -0.975,
             0.402,
             0.15,
             0,
             0.705
            ],
            [
             0.555,
             -0.75,
             1.717,
             0.225,
             0.93,
             0.15
            ],
            [
             0,
             -0.075,
             0.9,
             0.327,
             0.225,
             0.15
            ],
            [
             0.595,
             1,
             -0.01,
             0.055,
             0.91,
             0.01
            ],
            [
             0.327,
             0.543,
             0,
             0.327,
             0.477,
             -0.075
            ],
            [
             0.15,
             1.825,
             -0.15,
             0.252,
             0.225,
             0.48
            ],
            [
             0,
             0,
             0,
             0,
             0,
             0
            ],
            [
             0.835,
             -0.805,
             0.63,
             0.275,
             0,
             0
            ],
            [
             0,
             0,
             0.552,
             0.252,
             0.15,
             0.428
            ],
            [
             0,
             0.225,
             0.327,
             0.15,
             1.267,
             0
            ],
            [
             0,
             0,
             0.075,
             0,
             0.375,
             0
            ],
            [
             0,
             0,
             0,
             0.085,
             0.095,
             0.633
            ],
            [
             0.705,
             -0.093,
             0.075,
             0,
             0,
             -0.075
            ],
            [
             1.04,
             -0.573,
             0,
             0,
             0,
             0
            ],
            [
             0.63,
             0,
             0,
             0,
             0,
             0
            ],
            [
             0,
             0,
             0,
             0,
             0,
             0
            ],
            [
             0,
             0,
             0.552,
             0,
             0,
             0.225
            ]
           ],
           [
            [
             1.345,
             -0.035,
             0.75,
             0.3,
             1.68,
             0.392
            ],
            [
             0.96,
             0.145,
             0.725,
             0.94,
             1.125,
             2.185
            ],
            [
             1.81,
             0.415,
             0.307,
             -0.19,
             1.99,
             0.93
            ],
            [
             1.492,
             -0.525,
             0.327,
             0.15,
             1.518,
             0.15
            ],
            [
             0.79,
             0.595,
             0.675,
             0.9,
             0.375,
             2.13
            ],
            [
             0.225,
             0.83,
             0.855,
             0.882,
             0.552,
             1.05
            ],
            [
             1.795,
             -0.468,
             0.83,
             0.105,
             1.13,
             0.93
            ],
            [
             0.477,
             0,
             1.117,
             0.477,
             1.628,
             0.807
            ],
            [
             0.225,
             -0.975,
             0.402,
             0.15,
             0,
             0.705
            ],
            [
             0.555,
             -0.75,
             1.717,
             0.225,
             0.93,
             0.15
            ],
            [
             0,
             -0.075,
             0.9,
             0.327,
             0.225,
             0.15
            ],
            [
             0.595,
             1,
             -0.01,
             0.055,
             0.91,
             0.01
            ],
            [
             0.327,
             0.543,
             0,
             0.327,
             0.477,
             -0.075
            ],
            [
             0.15,
             1.825,
             -0.15,
             0.252,
             0.225,
             0.48
            ],
            [
             0,
             0,
             0,
             0,
             0,
             0
            ],
            [
             0.835,
             -0.805,
             0.63,
             0.275,
             0,
             0
            ],
            [
             0,
             0,
             0.552,
             0.252,
             0.15,
             0.428
            ],
            [
             0,
             0.225,
             0.327,
             0.15,
             1.267,
             0
            ],
            [
             0,
             0,
             0.075,
             0,
             0.375,
             0
            ],
            [
             0,
             0,
             0,
             0.085,
             0.095,
             0.633
            ],
            [
             0.705,
             -0.093,
             0.075,
             0,
             0,
             -0.075
            ],
            [
             1.04,
             -0.573,
             0,
             0,
             0,
             0
            ],
            [
             0.63,
             0,
             0,
             0,
             0,
             0
            ],
            [
             0,
             0,
             0,
             0,
             0,
             0
            ],
            [
             0,
             0,
             0.552,
             0,
             0,
             0.225
            ]
           ],
           [
            [
             1.345,
             -0.035,
             0.75,
             0.3,
             1.68,
             0.392
            ],
            [
             0.96,
             0.145,
             0.725,
             0.94,
             1.125,
             2.185
            ],
            [
             1.81,
             0.415,
             0.307,
             -0.19,
             1.99,
             0.93
            ],
            [
             1.492,
             -0.525,
             0.327,
             0.15,
             1.518,
             0.15
            ],
            [
             0.79,
             0.595,
             0.675,
             0.9,
             0.375,
             2.13
            ],
            [
             0.225,
             0.83,
             0.855,
             0.882,
             0.552,
             1.05
            ],
            [
             1.795,
             -0.468,
             0.83,
             0.105,
             1.13,
             0.93
            ],
            [
             0.477,
             0,
             1.117,
             0.477,
             1.628,
             0.807
            ],
            [
             0.225,
             -0.975,
             0.402,
             0.15,
             0,
             0.705
            ],
            [
             0.555,
             -0.75,
             1.717,
             0.225,
             0.93,
             0.15
            ],
            [
             0,
             -0.075,
             0.9,
             0.327,
             0.225,
             0.15
            ],
            [
             0.595,
             1,
             -0.01,
             0.055,
             0.91,
             0.01
            ],
            [
             0.327,
             0.543,
             0,
             0.327,
             0.477,
             -0.075
            ],
            [
             0.15,
             1.825,
             -0.15,
             0.252,
             0.225,
             0.48
            ],
            [
             0,
             0,
             0,
             0,
             0,
             0
            ],
            [
             0.835,
             -0.805,
             0.63,
             0.275,
             0,
             0
            ],
            [
             0,
             0,
             0.552,
             0.252,
             0.15,
             0.428
            ],
            [
             0,
             0.225,
             0.327,
             0.15,
             1.267,
             0
            ],
            [
             0,
             0,
             0.075,
             0,
             0.375,
             0
            ],
            [
             0,
             0,
             0,
             0.085,
             0.095,
             0.633
            ],
            [
             0.705,
             -0.093,
             0.075,
             0,
             0,
             -0.075
            ],
            [
             1.04,
             -0.573,
             0,
             0,
             0,
             0
            ],
            [
             0.63,
             0,
             0,
             0,
             0,
             0
            ],
            [
             0,
             0,
             0,
             0,
             0,
             0
            ],
            [
             0,
             0,
             0.552,
             0,
             0,
             0.225
            ]
           ],
           [
            [
             0.15,
             0.3
            ],
            [
             0.89,
             0.31
            ],
            [
             0.215,
             0.14
            ],
            [
             0.177,
             0
            ],
            [
             1.875,
             -0.15
            ],
            [
             0.225,
             0
            ],
            [
             0.32,
             0.245
            ],
            [
             0.552,
             -0.3
            ],
            [
             0.627,
             0.225
            ],
            [
             -0.15,
             -0.075
            ],
            [
             0.375,
             0
            ],
            [
             0.532,
             0.01
            ],
            [
             0.865,
             0.402
            ],
            [
             0.3,
             -0.075
            ],
            [
             0,
             0
            ],
            [
             0.487,
             0.467
            ],
            [
             1.227,
             0
            ],
            [
             0,
             -0.15
            ],
            [
             0.705,
             0.225
            ],
            [
             0,
             0
            ],
            [
             0.78,
             0
            ],
            [
             0,
             0
            ],
            [
             0.15,
             0
            ],
            [
             0,
             0
            ],
            [
             0,
             0
            ]
           ],
           [
            [
             0.15,
             0.3
            ],
            [
             0.89,
             0.31
            ],
            [
             0.215,
             0.14
            ],
            [
             0.177,
             0
            ],
            [
             1.875,
             -0.15
            ],
            [
             0.225,
             0
            ],
            [
             0.32,
             0.245
            ],
            [
             0.552,
             -0.3
            ],
            [
             0.627,
             0.225
            ],
            [
             -0.15,
             -0.075
            ],
            [
             0.375,
             0
            ],
            [
             0.532,
             0.01
            ],
            [
             0.865,
             0.402
            ],
            [
             0.3,
             -0.075
            ],
            [
             0,
             0
            ],
            [
             0.487,
             0.467
            ],
            [
             1.227,
             0
            ],
            [
             0,
             -0.15
            ],
            [
             0.705,
             0.225
            ],
            [
             0,
             0
            ],
            [
             0.78,
             0
            ],
            [
             0,
             0
            ],
            [
             0.15,
             0
            ],
            [
             0,
             0
            ],
            [
             0,
             0
            ]
           ],
           [
            [
             1.455,
             0.177
            ],
            [
             0.26,
             1.82
            ],
            [
             1.125,
             0.555
            ],
            [
             1.632,
             -0.123
            ],
            [
             0.075,
             0.565
            ],
            [
             0.6,
             0.63
            ],
            [
             0.065,
             -0.02
            ],
            [
             0.102,
             0.255
            ],
            [
             0.075,
             0.503
            ],
            [
             1.805,
             0.102
            ],
            [
             0.375,
             0.15
            ],
            [
             0.055,
             0.007
            ],
            [
             -0.075,
             -0.075
            ],
            [
             0.225,
             0.102
            ],
            [
             0,
             0
            ],
            [
             0,
             0
            ],
            [
             0.15,
             0.15
            ],
            [
             0,
             -0.225
            ],
            [
             0.075,
             -0.075
            ],
            [
             -0.12,
             0.393
            ],
            [
             0,
             0.177
            ],
            [
             0.075,
             0
            ],
            [
             0,
             0
            ],
            [
             0,
             0
            ],
            [
             0,
             0
            ]
           ],
           [
            [
             1.455,
             0.177
            ],
            [
             0.26,
             1.82
            ],
            [
             1.125,
             0.555
            ],
            [
             1.632,
             -0.123
            ],
            [
             0.075,
             0.565
            ],
            [
             0.6,
             0.63
            ],
            [
             0.065,
             -0.02
            ],
            [
             0.102,
             0.255
            ],
            [
             0.075,
             0.503
            ],
            [
             1.805,
             0.102
            ],
            [
             0.375,
             0.15
            ],
            [
             0.055,
             0.007
            ],
            [
             -0.075,
             -0.075
            ],
            [
             0.225,
             0.102
            ],
            [
             0,
             0
            ],
            [
             0,
             0
            ],
            [
             0.15,
             0.15
            ],
            [
             0,
             -0.225
            ],
            [
             0.075,
             -0.075
            ],
            [
             -0.12,
             0.393
            ],
            [
             0,
             0.177
            ],
            [
             0.075,
             0
            ],
            [
             0,
             0
            ],
            [
             0,
             0
            ],
            [
             0,
             0
            ]
           ],
           [
            [
             1.345,
             -0.035,
             0.75,
             0.3,
             1.68,
             0.392
            ],
            [
             0.96,
             0.145,
             0.725,
             0.94,
             1.125,
             2.185
            ],
            [
             1.81,
             0.415,
             0.307,
             -0.19,
             1.99,
             0.93
            ],
            [
             1.492,
             -0.525,
             0.327,
             0.15,
             1.518,
             0.15
            ],
            [
             0.79,
             0.595,
             0.675,
             0.9,
             0.375,
             2.13
            ],
            [
             0.225,
             0.83,
             0.855,
             0.882,
             0.552,
             1.05
            ],
            [
             1.795,
             -0.468,
             0.83,
             0.105,
             1.13,
             0.93
            ],
            [
             0.477,
             0,
             1.117,
             0.477,
             1.628,
             0.807
            ],
            [
             0.225,
             -0.975,
             0.402,
             0.15,
             0,
             0.705
            ],
            [
             0.555,
             -0.75,
             1.717,
             0.225,
             0.93,
             0.15
            ],
            [
             0,
             -0.075,
             0.9,
             0.327,
             0.225,
             0.15
            ],
            [
             0.595,
             1,
             -0.01,
             0.055,
             0.91,
             0.01
            ],
            [
             0.327,
             0.543,
             0,
             0.327,
             0.477,
             -0.075
            ],
            [
             0.15,
             1.825,
             -0.15,
             0.252,
             0.225,
             0.48
            ],
            [
             0,
             0,
             0,
             0,
             0,
             0
            ],
            [
             0.835,
             -0.805,
             0.63,
             0.275,
             0,
             0
            ],
            [
             0,
             0,
             0.552,
             0.252,
             0.15,
             0.428
            ],
            [
             0,
             0.225,
             0.327,
             0.15,
             1.267,
             0
            ],
            [
             0,
             0,
             0.075,
             0,
             0.375,
             0
            ],
            [
             0,
             0,
             0,
             0.085,
             0.095,
             0.633
            ],
            [
             0.705,
             -0.093,
             0.075,
             0,
             0,
             -0.075
            ],
            [
             1.04,
             -0.573,
             0,
             0,
             0,
             0
            ],
            [
             0.63,
             0,
             0,
             0,
             0,
             0
            ],
            [
             0,
             0,
             0,
             0,
             0,
             0
            ],
            [
             0,
             0,
             0.552,
             0,
             0,
             0.225
            ]
           ],
           [
            [
             1.345,
             -0.035,
             0.75,
             0.3,
             1.68,
             0.392
            ],
            [
             0.96,
             0.145,
             0.725,
             0.94,
             1.125,
             2.185
            ],
            [
             1.81,
             0.415,
             0.307,
             -0.19,
             1.99,
             0.93
            ],
            [
             1.492,
             -0.525,
             0.327,
             0.15,
             1.518,
             0.15
            ],
            [
             0.79,
             0.595,
             0.675,
             0.9,
             0.375,
             2.13
            ],
            [
             0.225,
             0.83,
             0.855,
             0.882,
             0.552,
             1.05
            ],
            [
             1.795,
             -0.468,
             0.83,
             0.105,
             1.13,
             0.93
            ],
            [
             0.477,
             0,
             1.117,
             0.477,
             1.628,
             0.807
            ],
            [
             0.225,
             -0.975,
             0.402,
             0.15,
             0,
             0.705
            ],
            [
             0.555,
             -0.75,
             1.717,
             0.225,
             0.93,
             0.15
            ],
            [
             0,
             -0.075,
             0.9,
             0.327,
             0.225,
             0.15
            ],
            [
             0.595,
             1,
             -0.01,
             0.055,
             0.91,
             0.01
            ],
            [
             0.327,
             0.543,
             0,
             0.327,
             0.477,
             -0.075
            ],
            [
             0.15,
             1.825,
             -0.15,
             0.252,
             0.225,
             0.48
            ],
            [
             0,
             0,
             0,
             0,
             0,
             0
            ],
            [
             0.835,
             -0.805,
             0.63,
             0.275,
             0,
             0
            ],
            [
             0,
             0,
             0.552,
             0.252,
             0.15,
             0.428
            ],
            [
             0,
             0.225,
             0.327,
             0.15,
             1.267,
             0
            ],
            [
             0,
             0,
             0.075,
             0,
             0.375,
             0
            ],
            [
             0,
             0,
             0,
             0.085,
             0.095,
             0.633
            ],
            [
             0.705,
             -0.093,
             0.075,
             0,
             0,
             -0.075
            ],
            [
             1.04,
             -0.573,
             0,
             0,
             0,
             0
            ],
            [
             0.63,
             0,
             0,
             0,
             0,
             0
            ],
            [
             0,
             0,
             0,
             0,
             0,
             0
            ],
            [
             0,
             0,
             0.552,
             0,
             0,
             0.225
            ]
           ],
           [
            [
             0.15,
             0.49,
             1.505,
             -0.075
            ],
            [
             1.04,
             1.497,
             2.56,
             0.705
            ],
            [
             0.79,
             1.725,
             0.552,
             0.3
            ],
            [
             0.15,
             0.592,
             0.825,
             1.227
            ],
            [
             0.715,
             0.675,
             0.79,
             1.2
            ],
            [
             0.15,
             -0.3,
             0,
             0.94
            ],
            [
             0.317,
             0.487,
             0.125,
             0.075
            ],
            [
             0.177,
             1.103,
             0.15,
             1.117
            ],
            [
             0,
             0.255,
             0.653,
             0.075
            ],
            [
             0,
             -0.3,
             0.48,
             0.075
            ],
            [
             0.177,
             0,
             0.15,
             2.052
            ],
            [
             0.295,
             0.052,
             0.715,
             0.18
            ],
            [
             0.252,
             -0.198,
             0.075,
             1.27
            ],
            [
             0,
             -0.375,
             0,
             0.63
            ],
            [
             1.53,
             0,
             0.555,
             0.653
            ],
            [
             0,
             0,
             0.155,
             0.835
            ],
            [
             0.627,
             0.255,
             -0.075,
             0
            ],
            [
             0,
             -0.375,
             0.15,
             0.705
            ],
            [
             0,
             1.315,
             0.075,
             0
            ],
            [
             0.065,
             -0.355,
             0,
             0
            ],
            [
             0,
             -0.225,
             0,
             0
            ],
            [
             0,
             0,
             0,
             0
            ],
            [
             0,
             0,
             0,
             0
            ],
            [
             0,
             0,
             0,
             0
            ],
            [
             0,
             -0.45,
             0,
             0
            ]
           ],
           [
            [
             0.15,
             0.49,
             1.505,
             -0.075
            ],
            [
             1.04,
             1.497,
             2.56,
             0.705
            ],
            [
             0.79,
             1.725,
             0.552,
             0.3
            ],
            [
             0.15,
             0.592,
             0.825,
             1.227
            ],
            [
             0.715,
             0.675,
             0.79,
             1.2
            ],
            [
             0.15,
             -0.3,
             0,
             0.94
            ],
            [
             0.317,
             0.487,
             0.125,
             0.075
            ],
            [
             0.177,
             1.103,
             0.15,
             1.117
            ],
            [
             0,
             0.255,
             0.653,
             0.075
            ],
            [
             0,
             -0.3,
             0.48,
             0.075
            ],
            [
             0.177,
             0,
             0.15,
             2.052
            ],
            [
             0.295,
             0.052,
             0.715,
             0.18
            ],
            [
             0.252,
             -0.198,
             0.075,
             1.27
            ],
            [
             0,
             -0.375,
             0,
             0.63
            ],
            [
             1.53,
             0,
             0.555,
             0.653
            ],
            [
             0,
             0,
             0.155,
             0.835
            ],
            [
             0.627,
             0.255,
             -0.075,
             0
            ],
            [
             0,
             -0.375,
             0.15,
             0.705
            ],
            [
             0,
             1.315,
             0.075,
             0
            ],
            [
             0.065,
             -0.355,
             0,
             0
            ],
            [
             0,
             -0.225,
             0,
             0
            ],
            [
             0,
             0,
             0,
             0
            ],
            [
             0,
             0,
             0,
             0
            ],
            [
             0,
             0,
             0,
             0
            ],
            [
             0,
             -0.45,
             0,
             0
            ]
           ],
           [
            [
             0.477,
             0.3,
             1.42,
             2.18
            ],
            [
             0.705,
             0.095,
             0.68,
             0.845
            ],
            [
             1.2,
             0.215,
             0.215,
             1.455
            ],
            [
             0.6,
             0.353,
             0.68,
             1.345
            ],
            [
             1.192,
             0.402,
             0.6,
             -0.225
            ],
            [
             1.68,
             -0.075,
             1.165,
             0.15
            ],
            [
             0.515,
             0.025,
             0.76,
             0.907
            ],
            [
             0.905,
             0.327,
             -0.15,
             0.48
            ],
            [
             0.9,
             0,
             0.252,
             0.865
            ],
            [
             1.54,
             0.15,
             0.15,
             1.12
            ],
            [
             1.2,
             0.15,
             0.9,
             0.177
            ],
            [
             0.8,
             -0.08,
             0.16,
             0.73
            ],
            [
             0.653,
             0,
             0,
             1.328
            ],
            [
             0.865,
             0.177,
             1.2,
             0
            ],
            [
             1.368,
             0.402,
             0.225,
             -0.075
            ],
            [
             0.93,
             0.875,
             0,
             -0.25
            ],
            [
             0,
             0.075,
             -0.075,
             0.15
            ],
            [
             0.78,
             0.63,
             0.075,
             -0.15
            ],
            [
             0.402,
             1.478,
             0.075,
             0.49
            ],
            [
             0,
             0,
             0,
             0
            ],
            [
             0.15,
             0,
             0,
             0
            ],
            [
             0,
             0,
             0,
             0
            ],
            [
             0,
             0,
             0,
             0
            ],
            [
             0,
             0,
             0,
             0
            ],
            [
             0,
             0,
             0,
             0
            ]
           ],
           [
            [
             0.477,
             0.3,
             1.42,
             2.18
            ],
            [
             0.705,
             0.095,
             0.68,
             0.845
            ],
            [
             1.2,
             0.215,
             0.215,
             1.455
            ],
            [
             0.6,
             0.353,
             0.68,
             1.345
            ],
            [
             1.192,
             0.402,
             0.6,
             -0.225
            ],
            [
             1.68,
             -0.075,
             1.165,
             0.15
            ],
            [
             0.515,
             0.025,
             0.76,
             0.907
            ],
            [
             0.905,
             0.327,
             -0.15,
             0.48
            ],
            [
             0.9,
             0,
             0.252,
             0.865
            ],
            [
             1.54,
             0.15,
             0.15,
             1.12
            ],
            [
             1.2,
             0.15,
             0.9,
             0.177
            ],
            [
             0.8,
             -0.08,
             0.16,
             0.73
            ],
            [
             0.653,
             0,
             0,
             1.328
            ],
            [
             0.865,
             0.177,
             1.2,
             0
            ],
            [
             1.368,
             0.402,
             0.225,
             -0.075
            ],
            [
             0.93,
             0.875,
             0,
             -0.25
            ],
            [
             0,
             0.075,
             -0.075,
             0.15
            ],
            [
             0.78,
             0.63,
             0.075,
             -0.15
            ],
            [
             0.402,
             1.478,
             0.075,
             0.49
            ],
            [
             0,
             0,
             0,
             0
            ],
            [
             0.15,
             0,
             0,
             0
            ],
            [
             0,
             0,
             0,
             0
            ],
            [
             0,
             0,
             0,
             0
            ],
            [
             0,
             0,
             0,
             0
            ],
            [
             0,
             0,
             0,
             0
            ]
           ],
           [
            [
             0.477,
             0.3,
             1.42,
             2.18
            ],
            [
             0.705,
             0.095,
             0.68,
             0.845
            ],
            [
             1.2,
             0.215,
             0.215,
             1.455
            ],
            [
             0.6,
             0.353,
             0.68,
             1.345
            ],
            [
             1.192,
             0.402,
             0.6,
             -0.225
            ],
            [
             1.68,
             -0.075,
             1.165,
             0.15
            ],
            [
             0.515,
             0.025,
             0.76,
             0.907
            ],
            [
             0.905,
             0.327,
             -0.15,
             0.48
            ],
            [
             0.9,
             0,
             0.252,
             0.865
            ],
            [
             1.54,
             0.15,
             0.15,
             1.12
            ],
            [
             1.2,
             0.15,
             0.9,
             0.177
            ],
            [
             0.8,
             -0.08,
             0.16,
             0.73
            ],
            [
             0.653,
             0,
             0,
             1.328
            ],
            [
             0.865,
             0.177,
             1.2,
             0
            ],
            [
             1.368,
             0.402,
             0.225,
             -0.075
            ],
            [
             0.93,
             0.875,
             0,
             -0.25
            ],
            [
             0,
             0.075,
             -0.075,
             0.15
            ],
            [
             0.78,
             0.63,
             0.075,
             -0.15
            ],
            [
             0.402,
             1.478,
             0.075,
             0.49
            ],
            [
             0,
             0,
             0,
             0
            ],
            [
             0.15,
             0,
             0,
             0
            ],
            [
             0,
             0,
             0,
             0
            ],
            [
             0,
             0,
             0,
             0
            ],
            [
             0,
             0,
             0,
             0
            ],
            [
             0,
             0,
             0,
             0
            ]
           ],
           [
            [
             0.477,
             0.3,
             1.42,
             2.18
            ],
            [
             0.705,
             0.095,
             0.68,
             0.845
            ],
            [
             1.2,
             0.215,
             0.215,
             1.455
            ],
            [
             0.6,
             0.353,
             0.68,
             1.345
            ],
            [
             1.192,
             0.402,
             0.6,
             -0.225
            ],
            [
             1.68,
             -0.075,
             1.165,
             0.15
            ],
            [
             0.515,
             0.025,
             0.76,
             0.907
            ],
            [
             0.905,
             0.327,
             -0.15,
             0.48
            ],
            [
             0.9,
             0,
             0.252,
             0.865
            ],
            [
             1.54,
             0.15,
             0.15,
             1.12
            ],
            [
             1.2,
             0.15,
             0.9,
             0.177
            ],
            [
             0.8,
             -0.08,
             0.16,
             0.73
            ],
            [
             0.653,
             0,
             0,
             1.328
            ],
            [
             0.865,
             0.177,
             1.2,
             0
            ],
            [
             1.368,
             0.402,
             0.225,
             -0.075
            ],
            [
             0.93,
             0.875,
             0,
             -0.25
            ],
            [
             0,
             0.075,
             -0.075,
             0.15
            ],
            [
             0.78,
             0.63,
             0.075,
             -0.15
            ],
            [
             0.402,
             1.478,
             0.075,
             0.49
            ],
            [
             0,
             0,
             0,
             0
            ],
            [
             0.15,
             0,
             0,
             0
            ],
            [
             0,
             0,
             0,
             0
            ],
            [
             0,
             0,
             0,
             0
            ],
            [
             0,
             0,
             0,
             0
            ],
            [
             0,
             0,
             0,
             0
            ]
           ],
           [
            [
             0.15,
             0.49,
             1.505,
             -0.075
            ],
            [
             1.04,
             1.497,
             2.56,
             0.705
            ],
            [
             0.79,
             1.725,
             0.552,
             0.3
            ],
            [
             0.15,
             0.592,
             0.825,
             1.227
            ],
            [
             0.715,
             0.675,
             0.79,
             1.2
            ],
            [
             0.15,
             -0.3,
             0,
             0.94
            ],
            [
             0.317,
             0.487,
             0.125,
             0.075
            ],
            [
             0.177,
             1.103,
             0.15,
             1.117
            ],
            [
             0,
             0.255,
             0.653,
             0.075
            ],
            [
             0,
             -0.3,
             0.48,
             0.075
            ],
            [
             0.177,
             0,
             0.15,
             2.052
            ],
            [
             0.295,
             0.052,
             0.715,
             0.18
            ],
            [
             0.252,
             -0.198,
             0.075,
             1.27
            ],
            [
             0,
             -0.375,
             0,
             0.63
            ],
            [
             1.53,
             0,
             0.555,
             0.653
            ],
            [
             0,
             0,
             0.155,
             0.835
            ],
            [
             0.627,
             0.255,
             -0.075,
             0
            ],
            [
             0,
             -0.375,
             0.15,
             0.705
            ],
            [
             0,
             1.315,
             0.075,
             0
            ],
            [
             0.065,
             -0.355,
             0,
             0
            ],
            [
             0,
             -0.225,
             0,
             0
            ],
            [
             0,
             0,
             0,
             0
            ],
            [
             0,
             0,
             0,
             0
            ],
            [
             0,
             0,
             0,
             0
            ],
            [
             0,
             -0.45,
             0,
             0
            ]
           ],
           [
            [
             0.15,
             0.49,
             1.505,
             -0.075
            ],
            [
             1.04,
             1.497,
             2.56,
             0.705
            ],
            [
             0.79,
             1.725,
             0.552,
             0.3
            ],
            [
             0.15,
             0.592,
             0.825,
             1.227
            ],
            [
             0.715,
             0.675,
             0.79,
             1.2
            ],
            [
             0.15,
             -0.3,
             0,
             0.94
            ],
            [
             0.317,
             0.487,
             0.125,
             0.075
            ],
            [
             0.177,
             1.103,
             0.15,
             1.117
            ],
            [
             0,
             0.255,
             0.653,
             0.075
            ],
            [
             0,
             -0.3,
             0.48,
             0.075
            ],
            [
             0.177,
             0,
             0.15,
             2.052
            ],
            [
             0.295,
             0.052,
             0.715,
             0.18
            ],
            [
             0.252,
             -0.198,
             0.075,
             1.27
            ],
            [
             0,
             -0.375,
             0,
             0.63
            ],
            [
             1.53,
             0,
             0.555,
             0.653
            ],
            [
             0,
             0,
             0.155,
             0.835
            ],
            [
             0.627,
             0.255,
             -0.075,
             0
            ],
            [
             0,
             -0.375,
             0.15,
             0.705
            ],
            [
             0,
             1.315,
             0.075,
             0
            ],
            [
             0.065,
             -0.355,
             0,
             0
            ],
            [
             0,
             -0.225,
             0,
             0
            ],
            [
             0,
             0,
             0,
             0
            ],
            [
             0,
             0,
             0,
             0
            ],
            [
             0,
             0,
             0,
             0
            ],
            [
             0,
             -0.45,
             0,
             0
            ]
           ],
           [
            [
             0.997,
             1.615
            ],
            [
             0.38,
             1.382
            ],
            [
             1.315,
             1.84
            ],
            [
             0.357,
             0.807
            ],
            [
             -0.525,
             1.84
            ],
            [
             0.592,
             1.11
            ],
            [
             0.8,
             0.455
            ],
            [
             -0.3,
             0.477
            ],
            [
             -0.375,
             1.645
            ],
            [
             -0.15,
             0.865
            ],
            [
             0.64,
             1.605
            ],
            [
             0.285,
             1.07
            ],
            [
             0.027,
             1.208
            ],
            [
             -0.225,
             1.05
            ],
            [
             -0.3,
             2.017
            ],
            [
             -0.45,
             1.58
            ],
            [
             0.675,
             0.807
            ],
            [
             0.852,
             0.48
            ],
            [
             -0.45,
             0.327
            ],
            [
             0,
             0
            ],
            [
             0,
             0
            ],
            [
             0,
             0
            ],
            [
             0,
             0
            ],
            [
             0,
             0
            ],
            [
             0,
             0
            ]
           ],
           [
            [
             0.997,
             1.615
            ],
            [
             0.38,
             1.382
            ],
            [
             1.315,
             1.84
            ],
            [
             0.357,
             0.807
            ],
            [
             -0.525,
             1.84
            ],
            [
             0.592,
             1.11
            ],
            [
             0.8,
             0.455
            ],
            [
             -0.3,
             0.477
            ],
            [
             -0.375,
             1.645
            ],
            [
             -0.15,
             0.865
            ],
            [
             0.64,
             1.605
            ],
            [
             0.285,
             1.07
            ],
            [
             0.027,
             1.208
            ],
            [
             -0.225,
             1.05
            ],
            [
             -0.3,
             2.017
            ],
            [
             -0.45,
             1.58
            ],
            [
             0.675,
             0.807
            ],
            [
             0.852,
             0.48
            ],
            [
             -0.45,
             0.327
            ],
            [
             0,
             0
            ],
            [
             0,
             0
            ],
            [
             0,
             0
            ],
            [
             0,
             0
            ],
            [
             0,
             0
            ],
            [
             0,
             0
            ]
           ],
           [
            0.7538529411764705,
            0.7347352941176469,
            0.7061176470588237,
            0.6026764705882351,
            0.537235294117647,
            0.5296764705882352,
            0.5085882352941177,
            0.441235294117647,
            0.43558823529411766,
            0.4148529411764706,
            0.4089117647058824,
            0.36867647058823527,
            0.3635882352941176,
            0.3253235294117647,
            0.2948235294117647,
            0.2801764705882353,
            0.2516764705882353,
            0.2340294117647059,
            0.1541764705882353,
            0.07532352941176472,
            0.039529411764705875,
            0.02688235294117647,
            0.02514705882352941,
            0.023441176470588236,
            0.00961764705882353
           ]
          ]
         },
         "header": {
          "align": "left",
          "fill": {
           "color": "paleturquoise"
          },
          "values": [
           "Player",
           "American Int'l",
           "American Int'l",
           "St. Thomas",
           "St. Thomas",
           "Michigan Tech",
           "Michigan Tech",
           "Omaha",
           "Omaha",
           "Northern Michigan",
           "Northern Michigan",
           "Rensselaer",
           "Rensselaer",
           "Penn State",
           "Penn State",
           "Anchorage",
           "Anchorage",
           "Anchorage",
           "Anchorage",
           "Notre Dame",
           "Notre Dame",
           "Denver",
           "Denver",
           "Anchorage",
           "Anchorage",
           "Arizona State",
           "Arizona State",
           "Long Island",
           "Long Island",
           "Long Island",
           "Long Island",
           "Arizona State",
           "Arizona State",
           "Lindenwood",
           "Lindenwood",
           "Average"
          ]
         },
         "type": "table"
        }
       ],
       "layout": {
        "template": {
         "data": {
          "bar": [
           {
            "error_x": {
             "color": "#2a3f5f"
            },
            "error_y": {
             "color": "#2a3f5f"
            },
            "marker": {
             "line": {
              "color": "#E5ECF6",
              "width": 0.5
             },
             "pattern": {
              "fillmode": "overlay",
              "size": 10,
              "solidity": 0.2
             }
            },
            "type": "bar"
           }
          ],
          "barpolar": [
           {
            "marker": {
             "line": {
              "color": "#E5ECF6",
              "width": 0.5
             },
             "pattern": {
              "fillmode": "overlay",
              "size": 10,
              "solidity": 0.2
             }
            },
            "type": "barpolar"
           }
          ],
          "carpet": [
           {
            "aaxis": {
             "endlinecolor": "#2a3f5f",
             "gridcolor": "white",
             "linecolor": "white",
             "minorgridcolor": "white",
             "startlinecolor": "#2a3f5f"
            },
            "baxis": {
             "endlinecolor": "#2a3f5f",
             "gridcolor": "white",
             "linecolor": "white",
             "minorgridcolor": "white",
             "startlinecolor": "#2a3f5f"
            },
            "type": "carpet"
           }
          ],
          "choropleth": [
           {
            "colorbar": {
             "outlinewidth": 0,
             "ticks": ""
            },
            "type": "choropleth"
           }
          ],
          "contour": [
           {
            "colorbar": {
             "outlinewidth": 0,
             "ticks": ""
            },
            "colorscale": [
             [
              0,
              "#0d0887"
             ],
             [
              0.1111111111111111,
              "#46039f"
             ],
             [
              0.2222222222222222,
              "#7201a8"
             ],
             [
              0.3333333333333333,
              "#9c179e"
             ],
             [
              0.4444444444444444,
              "#bd3786"
             ],
             [
              0.5555555555555556,
              "#d8576b"
             ],
             [
              0.6666666666666666,
              "#ed7953"
             ],
             [
              0.7777777777777778,
              "#fb9f3a"
             ],
             [
              0.8888888888888888,
              "#fdca26"
             ],
             [
              1,
              "#f0f921"
             ]
            ],
            "type": "contour"
           }
          ],
          "contourcarpet": [
           {
            "colorbar": {
             "outlinewidth": 0,
             "ticks": ""
            },
            "type": "contourcarpet"
           }
          ],
          "heatmap": [
           {
            "colorbar": {
             "outlinewidth": 0,
             "ticks": ""
            },
            "colorscale": [
             [
              0,
              "#0d0887"
             ],
             [
              0.1111111111111111,
              "#46039f"
             ],
             [
              0.2222222222222222,
              "#7201a8"
             ],
             [
              0.3333333333333333,
              "#9c179e"
             ],
             [
              0.4444444444444444,
              "#bd3786"
             ],
             [
              0.5555555555555556,
              "#d8576b"
             ],
             [
              0.6666666666666666,
              "#ed7953"
             ],
             [
              0.7777777777777778,
              "#fb9f3a"
             ],
             [
              0.8888888888888888,
              "#fdca26"
             ],
             [
              1,
              "#f0f921"
             ]
            ],
            "type": "heatmap"
           }
          ],
          "heatmapgl": [
           {
            "colorbar": {
             "outlinewidth": 0,
             "ticks": ""
            },
            "colorscale": [
             [
              0,
              "#0d0887"
             ],
             [
              0.1111111111111111,
              "#46039f"
             ],
             [
              0.2222222222222222,
              "#7201a8"
             ],
             [
              0.3333333333333333,
              "#9c179e"
             ],
             [
              0.4444444444444444,
              "#bd3786"
             ],
             [
              0.5555555555555556,
              "#d8576b"
             ],
             [
              0.6666666666666666,
              "#ed7953"
             ],
             [
              0.7777777777777778,
              "#fb9f3a"
             ],
             [
              0.8888888888888888,
              "#fdca26"
             ],
             [
              1,
              "#f0f921"
             ]
            ],
            "type": "heatmapgl"
           }
          ],
          "histogram": [
           {
            "marker": {
             "pattern": {
              "fillmode": "overlay",
              "size": 10,
              "solidity": 0.2
             }
            },
            "type": "histogram"
           }
          ],
          "histogram2d": [
           {
            "colorbar": {
             "outlinewidth": 0,
             "ticks": ""
            },
            "colorscale": [
             [
              0,
              "#0d0887"
             ],
             [
              0.1111111111111111,
              "#46039f"
             ],
             [
              0.2222222222222222,
              "#7201a8"
             ],
             [
              0.3333333333333333,
              "#9c179e"
             ],
             [
              0.4444444444444444,
              "#bd3786"
             ],
             [
              0.5555555555555556,
              "#d8576b"
             ],
             [
              0.6666666666666666,
              "#ed7953"
             ],
             [
              0.7777777777777778,
              "#fb9f3a"
             ],
             [
              0.8888888888888888,
              "#fdca26"
             ],
             [
              1,
              "#f0f921"
             ]
            ],
            "type": "histogram2d"
           }
          ],
          "histogram2dcontour": [
           {
            "colorbar": {
             "outlinewidth": 0,
             "ticks": ""
            },
            "colorscale": [
             [
              0,
              "#0d0887"
             ],
             [
              0.1111111111111111,
              "#46039f"
             ],
             [
              0.2222222222222222,
              "#7201a8"
             ],
             [
              0.3333333333333333,
              "#9c179e"
             ],
             [
              0.4444444444444444,
              "#bd3786"
             ],
             [
              0.5555555555555556,
              "#d8576b"
             ],
             [
              0.6666666666666666,
              "#ed7953"
             ],
             [
              0.7777777777777778,
              "#fb9f3a"
             ],
             [
              0.8888888888888888,
              "#fdca26"
             ],
             [
              1,
              "#f0f921"
             ]
            ],
            "type": "histogram2dcontour"
           }
          ],
          "mesh3d": [
           {
            "colorbar": {
             "outlinewidth": 0,
             "ticks": ""
            },
            "type": "mesh3d"
           }
          ],
          "parcoords": [
           {
            "line": {
             "colorbar": {
              "outlinewidth": 0,
              "ticks": ""
             }
            },
            "type": "parcoords"
           }
          ],
          "pie": [
           {
            "automargin": true,
            "type": "pie"
           }
          ],
          "scatter": [
           {
            "fillpattern": {
             "fillmode": "overlay",
             "size": 10,
             "solidity": 0.2
            },
            "type": "scatter"
           }
          ],
          "scatter3d": [
           {
            "line": {
             "colorbar": {
              "outlinewidth": 0,
              "ticks": ""
             }
            },
            "marker": {
             "colorbar": {
              "outlinewidth": 0,
              "ticks": ""
             }
            },
            "type": "scatter3d"
           }
          ],
          "scattercarpet": [
           {
            "marker": {
             "colorbar": {
              "outlinewidth": 0,
              "ticks": ""
             }
            },
            "type": "scattercarpet"
           }
          ],
          "scattergeo": [
           {
            "marker": {
             "colorbar": {
              "outlinewidth": 0,
              "ticks": ""
             }
            },
            "type": "scattergeo"
           }
          ],
          "scattergl": [
           {
            "marker": {
             "colorbar": {
              "outlinewidth": 0,
              "ticks": ""
             }
            },
            "type": "scattergl"
           }
          ],
          "scattermapbox": [
           {
            "marker": {
             "colorbar": {
              "outlinewidth": 0,
              "ticks": ""
             }
            },
            "type": "scattermapbox"
           }
          ],
          "scatterpolar": [
           {
            "marker": {
             "colorbar": {
              "outlinewidth": 0,
              "ticks": ""
             }
            },
            "type": "scatterpolar"
           }
          ],
          "scatterpolargl": [
           {
            "marker": {
             "colorbar": {
              "outlinewidth": 0,
              "ticks": ""
             }
            },
            "type": "scatterpolargl"
           }
          ],
          "scatterternary": [
           {
            "marker": {
             "colorbar": {
              "outlinewidth": 0,
              "ticks": ""
             }
            },
            "type": "scatterternary"
           }
          ],
          "surface": [
           {
            "colorbar": {
             "outlinewidth": 0,
             "ticks": ""
            },
            "colorscale": [
             [
              0,
              "#0d0887"
             ],
             [
              0.1111111111111111,
              "#46039f"
             ],
             [
              0.2222222222222222,
              "#7201a8"
             ],
             [
              0.3333333333333333,
              "#9c179e"
             ],
             [
              0.4444444444444444,
              "#bd3786"
             ],
             [
              0.5555555555555556,
              "#d8576b"
             ],
             [
              0.6666666666666666,
              "#ed7953"
             ],
             [
              0.7777777777777778,
              "#fb9f3a"
             ],
             [
              0.8888888888888888,
              "#fdca26"
             ],
             [
              1,
              "#f0f921"
             ]
            ],
            "type": "surface"
           }
          ],
          "table": [
           {
            "cells": {
             "fill": {
              "color": "#EBF0F8"
             },
             "line": {
              "color": "white"
             }
            },
            "header": {
             "fill": {
              "color": "#C8D4E3"
             },
             "line": {
              "color": "white"
             }
            },
            "type": "table"
           }
          ]
         },
         "layout": {
          "annotationdefaults": {
           "arrowcolor": "#2a3f5f",
           "arrowhead": 0,
           "arrowwidth": 1
          },
          "autotypenumbers": "strict",
          "coloraxis": {
           "colorbar": {
            "outlinewidth": 0,
            "ticks": ""
           }
          },
          "colorscale": {
           "diverging": [
            [
             0,
             "#8e0152"
            ],
            [
             0.1,
             "#c51b7d"
            ],
            [
             0.2,
             "#de77ae"
            ],
            [
             0.3,
             "#f1b6da"
            ],
            [
             0.4,
             "#fde0ef"
            ],
            [
             0.5,
             "#f7f7f7"
            ],
            [
             0.6,
             "#e6f5d0"
            ],
            [
             0.7,
             "#b8e186"
            ],
            [
             0.8,
             "#7fbc41"
            ],
            [
             0.9,
             "#4d9221"
            ],
            [
             1,
             "#276419"
            ]
           ],
           "sequential": [
            [
             0,
             "#0d0887"
            ],
            [
             0.1111111111111111,
             "#46039f"
            ],
            [
             0.2222222222222222,
             "#7201a8"
            ],
            [
             0.3333333333333333,
             "#9c179e"
            ],
            [
             0.4444444444444444,
             "#bd3786"
            ],
            [
             0.5555555555555556,
             "#d8576b"
            ],
            [
             0.6666666666666666,
             "#ed7953"
            ],
            [
             0.7777777777777778,
             "#fb9f3a"
            ],
            [
             0.8888888888888888,
             "#fdca26"
            ],
            [
             1,
             "#f0f921"
            ]
           ],
           "sequentialminus": [
            [
             0,
             "#0d0887"
            ],
            [
             0.1111111111111111,
             "#46039f"
            ],
            [
             0.2222222222222222,
             "#7201a8"
            ],
            [
             0.3333333333333333,
             "#9c179e"
            ],
            [
             0.4444444444444444,
             "#bd3786"
            ],
            [
             0.5555555555555556,
             "#d8576b"
            ],
            [
             0.6666666666666666,
             "#ed7953"
            ],
            [
             0.7777777777777778,
             "#fb9f3a"
            ],
            [
             0.8888888888888888,
             "#fdca26"
            ],
            [
             1,
             "#f0f921"
            ]
           ]
          },
          "colorway": [
           "#636efa",
           "#EF553B",
           "#00cc96",
           "#ab63fa",
           "#FFA15A",
           "#19d3f3",
           "#FF6692",
           "#B6E880",
           "#FF97FF",
           "#FECB52"
          ],
          "font": {
           "color": "#2a3f5f"
          },
          "geo": {
           "bgcolor": "white",
           "lakecolor": "white",
           "landcolor": "#E5ECF6",
           "showlakes": true,
           "showland": true,
           "subunitcolor": "white"
          },
          "hoverlabel": {
           "align": "left"
          },
          "hovermode": "closest",
          "mapbox": {
           "style": "light"
          },
          "paper_bgcolor": "white",
          "plot_bgcolor": "#E5ECF6",
          "polar": {
           "angularaxis": {
            "gridcolor": "white",
            "linecolor": "white",
            "ticks": ""
           },
           "bgcolor": "#E5ECF6",
           "radialaxis": {
            "gridcolor": "white",
            "linecolor": "white",
            "ticks": ""
           }
          },
          "scene": {
           "xaxis": {
            "backgroundcolor": "#E5ECF6",
            "gridcolor": "white",
            "gridwidth": 2,
            "linecolor": "white",
            "showbackground": true,
            "ticks": "",
            "zerolinecolor": "white"
           },
           "yaxis": {
            "backgroundcolor": "#E5ECF6",
            "gridcolor": "white",
            "gridwidth": 2,
            "linecolor": "white",
            "showbackground": true,
            "ticks": "",
            "zerolinecolor": "white"
           },
           "zaxis": {
            "backgroundcolor": "#E5ECF6",
            "gridcolor": "white",
            "gridwidth": 2,
            "linecolor": "white",
            "showbackground": true,
            "ticks": "",
            "zerolinecolor": "white"
           }
          },
          "shapedefaults": {
           "line": {
            "color": "#2a3f5f"
           }
          },
          "ternary": {
           "aaxis": {
            "gridcolor": "white",
            "linecolor": "white",
            "ticks": ""
           },
           "baxis": {
            "gridcolor": "white",
            "linecolor": "white",
            "ticks": ""
           },
           "bgcolor": "#E5ECF6",
           "caxis": {
            "gridcolor": "white",
            "linecolor": "white",
            "ticks": ""
           }
          },
          "title": {
           "x": 0.05
          },
          "xaxis": {
           "automargin": true,
           "gridcolor": "white",
           "linecolor": "white",
           "ticks": "",
           "title": {
            "standoff": 15
           },
           "zerolinecolor": "white",
           "zerolinewidth": 2
          },
          "yaxis": {
           "automargin": true,
           "gridcolor": "white",
           "linecolor": "white",
           "ticks": "",
           "title": {
            "standoff": 15
           },
           "zerolinecolor": "white",
           "zerolinewidth": 2
          }
         }
        }
       }
      }
     },
     "metadata": {},
     "output_type": "display_data"
    }
   ],
   "source": [
    "fig = go.Figure(data=[go.Table(\n",
    "    header=dict(values=list(csv_df_sorted.columns),\n",
    "                fill_color='paleturquoise',\n",
    "                align='left'),\n",
    "    cells=dict(values=[csv_df_sorted[col] for col in csv_df_sorted.columns],\n",
    "               fill_color=color_array,\n",
    "               align='left'))\n",
    "])\n",
    "fig.show()\n"
   ]
  },
  {
   "cell_type": "code",
   "execution_count": 166,
   "metadata": {},
   "outputs": [],
   "source": [
    "import numpy as np\n",
    "\n",
    "# Function to interpolate between three colors\n",
    "def interpolate_color(value, min_val, max_val):\n",
    "    # Define the colors for low, mid, and high values\n",
    "    low_color = np.array([255, 102, 102])  # subtle red\n",
    "    mid_color = np.array([255, 255, 102])  # yellow\n",
    "    high_color = np.array([102, 255, 178])  # turquoise green\n",
    "    \n",
    "    # Calculate the position of value in the range [min_val, max_val]\n",
    "    position = (value - min_val) / (max_val - min_val)\n",
    "    \n",
    "    # Depending on the position, interpolate between the colors\n",
    "    if position <= 0.5:  # interpolate between red and yellow\n",
    "        interp_color = (1 - 2 * position) * low_color + 2 * position * mid_color\n",
    "    else:  # interpolate between yellow and green\n",
    "        interp_color = (2 - 2 * position) * mid_color + (2 * position - 1) * high_color\n",
    "    \n",
    "    return 'rgb({}, {}, {})'.format(int(interp_color[0]), int(interp_color[1]), int(interp_color[2]))\n",
    "\n",
    "# Get min and max values for the game columns\n",
    "min_val = csv_df_sorted.iloc[:, 1:-1].min().min()\n",
    "max_val = csv_df_sorted.iloc[:, 1:-1].max().max()\n",
    "\n",
    "# Create a color array for the game columns based on the values\n",
    "color_array_games = [[interpolate_color(val, min_val, max_val) for val in row[1:-1]] for _, row in csv_df_sorted.iterrows()]\n",
    "\n",
    "# Combine with the previously defined colors for the Player and Average columns\n",
    "color_array_combined = [['lavender'] + game_colors + ['lavender'] for game_colors in color_array_games]\n",
    "\n",
    "# Display the first few rows of the color array for inspection\n",
    "# color_array_combined[:5]\n",
    "\n",
    "## Save the color array to a csv\n",
    "# np.savetxt('../data/Versiob_1.csv', color_array_combined, delimiter=',', fmt='%s')\n"
   ]
  },
  {
   "cell_type": "code",
   "execution_count": 167,
   "metadata": {},
   "outputs": [
    {
     "data": {
      "application/vnd.plotly.v1+json": {
       "config": {
        "plotlyServerURL": "https://plot.ly"
       },
       "data": [
        {
         "cells": {
          "align": "left",
          "fill": {
           "color": [
            [
             "lavender",
             "rgb(255, 217, 102)",
             "rgb(232, 255, 112)",
             "rgb(206, 255, 126)",
             "rgb(255, 192, 102)",
             "rgb(255, 211, 102)",
             "rgb(246, 255, 106)",
             "rgb(145, 255, 156)",
             "rgb(233, 255, 112)",
             "rgb(245, 255, 106)",
             "rgb(255, 199, 102)",
             "rgb(255, 212, 102)",
             "rgb(255, 248, 102)",
             "rgb(255, 248, 102)",
             "rgb(255, 199, 102)",
             "rgb(207, 255, 125)",
             "rgb(255, 183, 102)",
             "rgb(255, 251, 102)",
             "rgb(255, 212, 102)",
             "rgb(255, 199, 102)",
             "rgb(255, 212, 102)",
             "rgb(197, 255, 130)",
             "rgb(255, 201, 102)",
             "rgb(178, 255, 140)",
             "rgb(255, 220, 102)",
             "rgb(255, 199, 102)",
             "rgb(255, 228, 102)",
             "rgb(255, 227, 102)",
             "rgb(255, 212, 102)",
             "rgb(200, 255, 128)",
             "rgb(134, 255, 161)",
             "rgb(193, 255, 132)",
             "rgb(255, 179, 102)",
             "rgb(237, 255, 110)",
             "rgb(183, 255, 137)",
             "lavender"
            ],
            [
             "lavender",
             "rgb(255, 192, 102)",
             "rgb(255, 180, 102)",
             "rgb(255, 247, 102)",
             "rgb(255, 201, 102)",
             "rgb(255, 205, 102)",
             "rgb(255, 232, 102)",
             "rgb(255, 206, 102)",
             "rgb(250, 255, 104)",
             "rgb(255, 186, 102)",
             "rgb(255, 203, 102)",
             "rgb(236, 255, 111)",
             "rgb(255, 189, 102)",
             "rgb(239, 255, 109)",
             "rgb(255, 254, 102)",
             "rgb(240, 255, 109)",
             "rgb(255, 198, 102)",
             "rgb(255, 249, 102)",
             "rgb(242, 255, 108)",
             "rgb(246, 255, 106)",
             "rgb(255, 213, 102)",
             "rgb(255, 208, 102)",
             "rgb(166, 255, 146)",
             "rgb(226, 255, 116)",
             "rgb(134, 255, 161)",
             "rgb(233, 255, 112)",
             "rgb(194, 255, 132)",
             "rgb(255, 247, 102)",
             "rgb(255, 194, 102)",
             "rgb(255, 245, 102)",
             "rgb(250, 255, 104)",
             "rgb(102, 255, 178)",
             "rgb(255, 247, 102)",
             "rgb(255, 219, 102)",
             "rgb(203, 255, 127)",
             "lavender"
            ],
            [
             "lavender",
             "rgb(255, 209, 102)",
             "rgb(255, 187, 102)",
             "rgb(255, 210, 102)",
             "rgb(150, 255, 153)",
             "rgb(255, 200, 102)",
             "rgb(248, 255, 105)",
             "rgb(246, 255, 106)",
             "rgb(247, 255, 105)",
             "rgb(255, 186, 102)",
             "rgb(255, 193, 102)",
             "rgb(255, 227, 102)",
             "rgb(255, 205, 102)",
             "rgb(255, 200, 102)",
             "rgb(253, 255, 102)",
             "rgb(166, 255, 145)",
             "rgb(255, 222, 102)",
             "rgb(255, 212, 102)",
             "rgb(255, 169, 102)",
             "rgb(255, 205, 102)",
             "rgb(255, 198, 102)",
             "rgb(226, 255, 116)",
             "rgb(255, 234, 102)",
             "rgb(151, 255, 153)",
             "rgb(243, 255, 107)",
             "rgb(255, 254, 102)",
             "rgb(174, 255, 142)",
             "rgb(219, 255, 119)",
             "rgb(255, 205, 102)",
             "rgb(255, 205, 102)",
             "rgb(197, 255, 130)",
             "rgb(255, 234, 102)",
             "rgb(255, 212, 102)",
             "rgb(209, 255, 124)",
             "rgb(164, 255, 147)",
             "lavender"
            ],
            [
             "lavender",
             "rgb(255, 242, 102)",
             "rgb(255, 179, 102)",
             "rgb(255, 199, 102)",
             "rgb(213, 255, 122)",
             "rgb(255, 240, 102)",
             "rgb(203, 255, 127)",
             "rgb(255, 205, 102)",
             "rgb(255, 240, 102)",
             "rgb(255, 248, 102)",
             "rgb(194, 255, 132)",
             "rgb(255, 240, 102)",
             "rgb(252, 255, 103)",
             "rgb(255, 192, 102)",
             "rgb(255, 199, 102)",
             "rgb(194, 255, 132)",
             "rgb(255, 140, 102)",
             "rgb(255, 214, 102)",
             "rgb(255, 199, 102)",
             "rgb(255, 201, 102)",
             "rgb(255, 186, 102)",
             "rgb(182, 255, 138)",
             "rgb(255, 175, 102)",
             "rgb(192, 255, 133)",
             "rgb(255, 199, 102)",
             "rgb(255, 199, 102)",
             "rgb(255, 237, 102)",
             "rgb(255, 238, 102)",
             "rgb(255, 216, 102)",
             "rgb(255, 245, 102)",
             "rgb(207, 255, 125)",
             "rgb(252, 255, 103)",
             "rgb(217, 255, 120)",
             "rgb(255, 217, 102)",
             "rgb(253, 255, 102)",
             "lavender"
            ],
            [
             "lavender",
             "rgb(255, 173, 102)",
             "rgb(255, 214, 102)",
             "rgb(255, 205, 102)",
             "rgb(252, 255, 103)",
             "rgb(255, 192, 102)",
             "rgb(255, 231, 102)",
             "rgb(255, 205, 102)",
             "rgb(255, 248, 102)",
             "rgb(255, 186, 102)",
             "rgb(255, 221, 102)",
             "rgb(255, 212, 102)",
             "rgb(255, 199, 102)",
             "rgb(255, 186, 102)",
             "rgb(255, 199, 102)",
             "rgb(255, 254, 102)",
             "rgb(255, 237, 102)",
             "rgb(255, 244, 102)",
             "rgb(245, 255, 106)",
             "rgb(161, 255, 148)",
             "rgb(255, 173, 102)",
             "rgb(255, 192, 102)",
             "rgb(255, 235, 102)",
             "rgb(255, 218, 102)",
             "rgb(139, 255, 159)",
             "rgb(255, 248, 102)",
             "rgb(255, 244, 102)",
             "rgb(220, 255, 119)",
             "rgb(255, 221, 102)",
             "rgb(255, 238, 102)",
             "rgb(255, 166, 102)",
             "rgb(255, 254, 102)",
             "rgb(219, 255, 119)",
             "rgb(255, 140, 102)",
             "rgb(164, 255, 147)",
             "lavender"
            ],
            [
             "lavender",
             "rgb(255, 192, 102)",
             "rgb(255, 227, 102)",
             "rgb(191, 255, 133)",
             "rgb(255, 205, 102)",
             "rgb(255, 186, 102)",
             "rgb(255, 238, 102)",
             "rgb(255, 186, 102)",
             "rgb(255, 208, 102)",
             "rgb(255, 212, 102)",
             "rgb(255, 228, 102)",
             "rgb(255, 234, 102)",
             "rgb(245, 255, 106)",
             "rgb(255, 205, 102)",
             "rgb(226, 255, 116)",
             "rgb(255, 205, 102)",
             "rgb(251, 255, 103)",
             "rgb(249, 255, 104)",
             "rgb(247, 255, 105)",
             "rgb(255, 205, 102)",
             "rgb(255, 186, 102)",
             "rgb(255, 238, 102)",
             "rgb(255, 240, 102)",
             "rgb(255, 234, 102)",
             "rgb(232, 255, 113)",
             "rgb(255, 199, 102)",
             "rgb(254, 160, 102)",
             "rgb(178, 255, 140)",
             "rgb(255, 179, 102)",
             "rgb(222, 255, 118)",
             "rgb(255, 199, 102)",
             "rgb(255, 186, 102)",
             "rgb(242, 255, 108)",
             "rgb(255, 237, 102)",
             "rgb(227, 255, 115)",
             "lavender"
            ],
            [
             "lavender",
             "rgb(255, 231, 102)",
             "rgb(255, 204, 102)",
             "rgb(255, 200, 102)",
             "rgb(234, 255, 112)",
             "rgb(255, 190, 102)",
             "rgb(218, 255, 119)",
             "rgb(255, 253, 102)",
             "rgb(255, 192, 102)",
             "rgb(255, 254, 102)",
             "rgb(176, 255, 141)",
             "rgb(255, 210, 102)",
             "rgb(255, 181, 102)",
             "rgb(234, 255, 112)",
             "rgb(255, 197, 102)",
             "rgb(168, 255, 145)",
             "rgb(255, 145, 102)",
             "rgb(251, 255, 103)",
             "rgb(255, 195, 102)",
             "rgb(255, 214, 102)",
             "rgb(255, 207, 102)",
             "rgb(255, 192, 102)",
             "rgb(255, 184, 102)",
             "rgb(225, 255, 116)",
             "rgb(243, 255, 107)",
             "rgb(255, 213, 102)",
             "rgb(255, 228, 102)",
             "rgb(255, 230, 102)",
             "rgb(255, 188, 102)",
             "rgb(255, 252, 102)",
             "rgb(245, 255, 106)",
             "rgb(255, 197, 102)",
             "rgb(255, 192, 102)",
             "rgb(254, 255, 102)",
             "rgb(255, 225, 102)",
             "lavender"
            ],
            [
             "lavender",
             "rgb(255, 199, 102)",
             "rgb(255, 186, 102)",
             "rgb(248, 255, 105)",
             "rgb(255, 236, 102)",
             "rgb(255, 205, 102)",
             "rgb(249, 255, 104)",
             "rgb(255, 214, 102)",
             "rgb(247, 255, 105)",
             "rgb(255, 245, 102)",
             "rgb(254, 160, 102)",
             "rgb(235, 255, 111)",
             "rgb(255, 186, 102)",
             "rgb(255, 214, 102)",
             "rgb(255, 186, 102)",
             "rgb(255, 227, 102)",
             "rgb(255, 186, 102)",
             "rgb(226, 255, 115)",
             "rgb(255, 227, 102)",
             "rgb(255, 234, 102)",
             "rgb(254, 160, 102)",
             "rgb(255, 195, 102)",
             "rgb(255, 208, 102)",
             "rgb(182, 255, 137)",
             "rgb(253, 255, 102)",
             "rgb(255, 201, 102)",
             "rgb(228, 255, 115)",
             "rgb(245, 255, 106)",
             "rgb(255, 214, 102)",
             "rgb(255, 173, 102)",
             "rgb(255, 227, 102)",
             "rgb(255, 199, 102)",
             "rgb(226, 255, 115)",
             "rgb(254, 160, 102)",
             "rgb(255, 227, 102)",
             "lavender"
            ],
            [
             "lavender",
             "rgb(255, 205, 102)",
             "rgb(255, 171, 102)",
             "rgb(220, 255, 119)",
             "rgb(255, 224, 102)",
             "rgb(255, 199, 102)",
             "rgb(186, 255, 136)",
             "rgb(255, 227, 102)",
             "rgb(255, 227, 102)",
             "rgb(246, 255, 106)",
             "rgb(255, 186, 102)",
             "rgb(213, 255, 122)",
             "rgb(255, 201, 102)",
             "rgb(192, 255, 132)",
             "rgb(255, 218, 102)",
             "rgb(255, 205, 102)",
             "rgb(255, 102, 102)",
             "rgb(255, 221, 102)",
             "rgb(255, 199, 102)",
             "rgb(255, 240, 102)",
             "rgb(255, 205, 102)",
             "rgb(255, 192, 102)",
             "rgb(255, 229, 102)",
             "rgb(255, 186, 102)",
             "rgb(255, 247, 102)",
             "rgb(255, 186, 102)",
             "rgb(255, 208, 102)",
             "rgb(245, 255, 106)",
             "rgb(255, 186, 102)",
             "rgb(255, 208, 102)",
             "rgb(248, 255, 105)",
             "rgb(255, 242, 102)",
             "rgb(255, 192, 102)",
             "rgb(255, 153, 102)",
             "rgb(181, 255, 138)",
             "lavender"
            ],
            [
             "lavender",
             "rgb(255, 192, 102)",
             "rgb(255, 179, 102)",
             "rgb(255, 240, 102)",
             "rgb(255, 186, 102)",
             "rgb(255, 218, 102)",
             "rgb(216, 255, 121)",
             "rgb(255, 192, 102)",
             "rgb(230, 255, 114)",
             "rgb(255, 173, 102)",
             "rgb(255, 227, 102)",
             "rgb(255, 231, 102)",
             "rgb(255, 205, 102)",
             "rgb(233, 255, 112)",
             "rgb(255, 199, 102)",
             "rgb(255, 234, 102)",
             "rgb(255, 121, 102)",
             "rgb(174, 255, 141)",
             "rgb(255, 205, 102)",
             "rgb(255, 173, 102)",
             "rgb(255, 179, 102)",
             "rgb(167, 255, 145)",
             "rgb(255, 195, 102)",
             "rgb(243, 255, 107)",
             "rgb(255, 199, 102)",
             "rgb(255, 186, 102)",
             "rgb(254, 160, 102)",
             "rgb(190, 255, 134)",
             "rgb(255, 199, 102)",
             "rgb(255, 199, 102)",
             "rgb(226, 255, 116)",
             "rgb(255, 227, 102)",
             "rgb(255, 192, 102)",
             "rgb(255, 173, 102)",
             "rgb(248, 255, 105)",
             "lavender"
            ],
            [
             "lavender",
             "rgb(232, 255, 113)",
             "rgb(255, 179, 102)",
             "rgb(219, 255, 119)",
             "rgb(255, 192, 102)",
             "rgb(255, 199, 102)",
             "rgb(255, 251, 102)",
             "rgb(255, 192, 102)",
             "rgb(255, 192, 102)",
             "rgb(255, 205, 102)",
             "rgb(255, 218, 102)",
             "rgb(255, 218, 102)",
             "rgb(255, 186, 102)",
             "rgb(255, 186, 102)",
             "rgb(255, 199, 102)",
             "rgb(255, 186, 102)",
             "rgb(255, 179, 102)",
             "rgb(245, 255, 106)",
             "rgb(255, 214, 102)",
             "rgb(255, 218, 102)",
             "rgb(255, 186, 102)",
             "rgb(255, 218, 102)",
             "rgb(255, 199, 102)",
             "rgb(255, 205, 102)",
             "rgb(255, 199, 102)",
             "rgb(255, 201, 102)",
             "rgb(255, 186, 102)",
             "rgb(219, 255, 119)",
             "rgb(255, 199, 102)",
             "rgb(245, 255, 106)",
             "rgb(255, 201, 102)",
             "rgb(255, 199, 102)",
             "rgb(145, 255, 156)",
             "rgb(255, 241, 102)",
             "rgb(184, 255, 136)",
             "lavender"
            ],
            [
             "lavender",
             "rgb(255, 186, 102)",
             "rgb(255, 248, 102)",
             "rgb(248, 255, 105)",
             "rgb(255, 214, 102)",
             "rgb(255, 205, 102)",
             "rgb(255, 225, 102)",
             "rgb(255, 186, 102)",
             "rgb(255, 192, 102)",
             "rgb(255, 186, 102)",
             "rgb(255, 186, 102)",
             "rgb(151, 255, 153)",
             "rgb(255, 227, 102)",
             "rgb(255, 186, 102)",
             "rgb(255, 189, 102)",
             "rgb(255, 237, 102)",
             "rgb(237, 255, 110)",
             "rgb(255, 185, 102)",
             "rgb(255, 191, 102)",
             "rgb(255, 232, 102)",
             "rgb(255, 187, 102)",
             "rgb(255, 191, 102)",
             "rgb(255, 187, 102)",
             "rgb(244, 255, 107)",
             "rgb(255, 187, 102)",
             "rgb(255, 211, 102)",
             "rgb(255, 190, 102)",
             "rgb(254, 255, 102)",
             "rgb(255, 179, 102)",
             "rgb(255, 200, 102)",
             "rgb(255, 249, 102)",
             "rgb(255, 248, 102)",
             "rgb(255, 201, 102)",
             "rgb(255, 211, 102)",
             "rgb(230, 255, 113)",
             "lavender"
            ],
            [
             "lavender",
             "rgb(255, 214, 102)",
             "rgb(255, 186, 102)",
             "rgb(255, 212, 102)",
             "rgb(255, 192, 102)",
             "rgb(255, 212, 102)",
             "rgb(255, 231, 102)",
             "rgb(213, 255, 122)",
             "rgb(255, 221, 102)",
             "rgb(255, 186, 102)",
             "rgb(255, 173, 102)",
             "rgb(236, 255, 111)",
             "rgb(251, 255, 103)",
             "rgb(255, 186, 102)",
             "rgb(255, 199, 102)",
             "rgb(255, 214, 102)",
             "rgb(255, 233, 102)",
             "rgb(255, 186, 102)",
             "rgb(255, 214, 102)",
             "rgb(248, 255, 105)",
             "rgb(255, 221, 102)",
             "rgb(255, 179, 102)",
             "rgb(255, 179, 102)",
             "rgb(255, 227, 102)",
             "rgb(255, 179, 102)",
             "rgb(255, 208, 102)",
             "rgb(255, 169, 102)",
             "rgb(255, 242, 102)",
             "rgb(255, 186, 102)",
             "rgb(255, 186, 102)",
             "rgb(208, 255, 125)",
             "rgb(255, 192, 102)",
             "rgb(213, 255, 122)",
             "rgb(255, 188, 102)",
             "rgb(219, 255, 119)",
             "lavender"
            ],
            [
             "lavender",
             "rgb(255, 227, 102)",
             "rgb(255, 153, 102)",
             "rgb(255, 240, 102)",
             "rgb(255, 205, 102)",
             "rgb(255, 221, 102)",
             "rgb(255, 238, 102)",
             "rgb(247, 255, 105)",
             "rgb(255, 186, 102)",
             "rgb(255, 188, 102)",
             "rgb(255, 173, 102)",
             "rgb(222, 255, 118)",
             "rgb(255, 205, 102)",
             "rgb(255, 205, 102)",
             "rgb(255, 192, 102)",
             "rgb(255, 199, 102)",
             "rgb(165, 255, 146)",
             "rgb(255, 173, 102)",
             "rgb(255, 208, 102)",
             "rgb(255, 212, 102)",
             "rgb(255, 179, 102)",
             "rgb(255, 205, 102)",
             "rgb(255, 195, 102)",
             "rgb(255, 205, 102)",
             "rgb(255, 227, 102)",
             "rgb(255, 186, 102)",
             "rgb(255, 153, 102)",
             "rgb(248, 255, 105)",
             "rgb(255, 201, 102)",
             "rgb(219, 255, 119)",
             "rgb(255, 186, 102)",
             "rgb(255, 186, 102)",
             "rgb(255, 240, 102)",
             "rgb(255, 166, 102)",
             "rgb(232, 255, 113)",
             "lavender"
            ],
            [
             "lavender",
             "rgb(229, 255, 114)",
             "rgb(255, 195, 102)",
             "rgb(255, 205, 102)",
             "rgb(255, 199, 102)",
             "rgb(255, 186, 102)",
             "rgb(255, 186, 102)",
             "rgb(255, 227, 102)",
             "rgb(255, 208, 102)",
             "rgb(255, 192, 102)",
             "rgb(255, 192, 102)",
             "rgb(219, 255, 119)",
             "rgb(255, 186, 102)",
             "rgb(255, 186, 102)",
             "rgb(255, 186, 102)",
             "rgb(255, 186, 102)",
             "rgb(255, 186, 102)",
             "rgb(255, 186, 102)",
             "rgb(255, 186, 102)",
             "rgb(255, 186, 102)",
             "rgb(255, 186, 102)",
             "rgb(255, 186, 102)",
             "rgb(255, 186, 102)",
             "rgb(255, 186, 102)",
             "rgb(255, 186, 102)",
             "rgb(191, 255, 133)",
             "rgb(255, 186, 102)",
             "rgb(205, 255, 126)",
             "rgb(255, 221, 102)",
             "rgb(255, 205, 102)",
             "rgb(255, 179, 102)",
             "rgb(255, 234, 102)",
             "rgb(255, 242, 102)",
             "rgb(254, 160, 102)",
             "rgb(149, 255, 154)",
             "lavender"
            ],
            [
             "lavender",
             "rgb(255, 186, 102)",
             "rgb(232, 255, 113)",
             "rgb(255, 209, 102)",
             "rgb(255, 204, 102)",
             "rgb(255, 218, 102)",
             "rgb(233, 255, 112)",
             "rgb(255, 216, 102)",
             "rgb(255, 188, 102)",
             "rgb(255, 183, 102)",
             "rgb(255, 202, 102)",
             "rgb(255, 223, 102)",
             "rgb(255, 184, 102)",
             "rgb(255, 189, 102)",
             "rgb(255, 191, 102)",
             "rgb(251, 255, 103)",
             "rgb(255, 116, 101)",
             "rgb(255, 240, 102)",
             "rgb(255, 210, 102)",
             "rgb(255, 228, 102)",
             "rgb(255, 226, 102)",
             "rgb(255, 186, 102)",
             "rgb(255, 186, 102)",
             "rgb(255, 186, 102)",
             "rgb(255, 186, 102)",
             "rgb(255, 186, 102)",
             "rgb(255, 186, 102)",
             "rgb(243, 255, 107)",
             "rgb(247, 255, 105)",
             "rgb(255, 186, 102)",
             "rgb(255, 164, 102)",
             "rgb(255, 199, 102)",
             "rgb(251, 255, 103)",
             "rgb(255, 147, 102)",
             "rgb(186, 255, 135)",
             "lavender"
            ],
            [
             "lavender",
             "rgb(255, 201, 102)",
             "rgb(255, 173, 102)",
             "rgb(255, 199, 102)",
             "rgb(255, 179, 102)",
             "rgb(255, 218, 102)",
             "rgb(255, 225, 102)",
             "rgb(245, 255, 106)",
             "rgb(255, 229, 102)",
             "rgb(255, 179, 102)",
             "rgb(255, 179, 102)",
             "rgb(255, 234, 102)",
             "rgb(255, 192, 102)",
             "rgb(255, 208, 102)",
             "rgb(255, 199, 102)",
             "rgb(255, 186, 102)",
             "rgb(255, 186, 102)",
             "rgb(255, 234, 102)",
             "rgb(255, 208, 102)",
             "rgb(217, 255, 120)",
             "rgb(255, 186, 102)",
             "rgb(255, 199, 102)",
             "rgb(255, 199, 102)",
             "rgb(255, 199, 102)",
             "rgb(255, 223, 102)",
             "rgb(255, 240, 102)",
             "rgb(255, 208, 102)",
             "rgb(255, 186, 102)",
             "rgb(255, 192, 102)",
             "rgb(255, 179, 102)",
             "rgb(255, 199, 102)",
             "rgb(255, 179, 102)",
             "rgb(255, 186, 102)",
             "rgb(255, 244, 102)",
             "rgb(253, 255, 102)",
             "lavender"
            ],
            [
             "lavender",
             "rgb(255, 192, 102)",
             "rgb(255, 192, 102)",
             "rgb(255, 199, 102)",
             "rgb(255, 173, 102)",
             "rgb(255, 186, 102)",
             "rgb(255, 218, 102)",
             "rgb(255, 247, 102)",
             "rgb(255, 192, 102)",
             "rgb(255, 186, 102)",
             "rgb(255, 201, 102)",
             "rgb(236, 255, 111)",
             "rgb(255, 208, 102)",
             "rgb(255, 205, 102)",
             "rgb(255, 208, 102)",
             "rgb(255, 186, 102)",
             "rgb(255, 205, 102)",
             "rgb(255, 214, 102)",
             "rgb(255, 199, 102)",
             "rgb(255, 186, 102)",
             "rgb(255, 173, 102)",
             "rgb(255, 186, 102)",
             "rgb(255, 166, 102)",
             "rgb(213, 255, 122)",
             "rgb(255, 186, 102)",
             "rgb(255, 186, 102)",
             "rgb(255, 153, 102)",
             "rgb(255, 253, 102)",
             "rgb(255, 240, 102)",
             "rgb(255, 192, 102)",
             "rgb(255, 173, 102)",
             "rgb(255, 199, 102)",
             "rgb(255, 247, 102)",
             "rgb(249, 255, 104)",
             "rgb(255, 227, 102)",
             "lavender"
            ],
            [
             "lavender",
             "rgb(255, 186, 102)",
             "rgb(255, 186, 102)",
             "rgb(255, 186, 102)",
             "rgb(255, 186, 102)",
             "rgb(255, 186, 102)",
             "rgb(255, 186, 102)",
             "rgb(255, 186, 102)",
             "rgb(255, 186, 102)",
             "rgb(255, 186, 102)",
             "rgb(255, 186, 102)",
             "rgb(255, 186, 102)",
             "rgb(255, 186, 102)",
             "rgb(255, 199, 102)",
             "rgb(255, 186, 102)",
             "rgb(255, 186, 102)",
             "rgb(255, 186, 102)",
             "rgb(255, 192, 102)",
             "rgb(255, 186, 102)",
             "rgb(255, 247, 102)",
             "rgb(255, 205, 102)",
             "rgb(255, 192, 102)",
             "rgb(255, 179, 102)",
             "rgb(255, 218, 102)",
             "rgb(255, 186, 102)",
             "rgb(255, 186, 102)",
             "rgb(209, 255, 124)",
             "rgb(255, 221, 102)",
             "rgb(195, 255, 131)",
             "rgb(255, 192, 102)",
             "rgb(255, 228, 102)",
             "rgb(255, 192, 102)",
             "rgb(255, 186, 102)",
             "rgb(255, 147, 102)",
             "rgb(255, 214, 102)",
             "lavender"
            ],
            [
             "lavender",
             "rgb(255, 227, 102)",
             "rgb(255, 233, 102)",
             "rgb(255, 186, 102)",
             "rgb(255, 186, 102)",
             "rgb(255, 172, 102)",
             "rgb(255, 224, 102)",
             "rgb(255, 204, 102)",
             "rgb(255, 191, 102)",
             "rgb(255, 172, 102)",
             "rgb(255, 185, 102)",
             "rgb(255, 214, 102)",
             "rgb(255, 195, 102)",
             "rgb(255, 181, 102)",
             "rgb(255, 186, 102)",
             "rgb(255, 186, 102)",
             "rgb(255, 186, 102)",
             "rgb(255, 186, 102)",
             "rgb(255, 193, 102)",
             "rgb(255, 186, 102)",
             "rgb(255, 186, 102)",
             "rgb(254, 176, 102)",
             "rgb(255, 220, 102)",
             "rgb(255, 194, 102)",
             "rgb(255, 241, 102)",
             "rgb(255, 192, 102)",
             "rgb(255, 155, 102)",
             "rgb(255, 186, 102)",
             "rgb(255, 186, 102)",
             "rgb(255, 186, 102)",
             "rgb(255, 186, 102)",
             "rgb(255, 186, 102)",
             "rgb(255, 186, 102)",
             "rgb(255, 186, 102)",
             "rgb(255, 186, 102)",
             "lavender"
            ],
            [
             "lavender",
             "rgb(255, 186, 102)",
             "rgb(255, 166, 102)",
             "rgb(255, 186, 102)",
             "rgb(255, 186, 102)",
             "rgb(255, 186, 102)",
             "rgb(255, 186, 102)",
             "rgb(255, 186, 102)",
             "rgb(255, 186, 102)",
             "rgb(255, 186, 102)",
             "rgb(255, 192, 102)",
             "rgb(255, 186, 102)",
             "rgb(255, 186, 102)",
             "rgb(255, 186, 102)",
             "rgb(255, 186, 102)",
             "rgb(255, 247, 102)",
             "rgb(255, 178, 102)",
             "rgb(255, 192, 102)",
             "rgb(255, 186, 102)",
             "rgb(255, 253, 102)",
             "rgb(255, 186, 102)",
             "rgb(255, 186, 102)",
             "rgb(255, 201, 102)",
             "rgb(255, 186, 102)",
             "rgb(255, 179, 102)",
             "rgb(255, 186, 102)",
             "rgb(255, 166, 102)",
             "rgb(255, 199, 102)",
             "rgb(255, 186, 102)",
             "rgb(255, 186, 102)",
             "rgb(255, 186, 102)",
             "rgb(255, 186, 102)",
             "rgb(255, 186, 102)",
             "rgb(255, 186, 102)",
             "rgb(255, 186, 102)",
             "lavender"
            ],
            [
             "lavender",
             "rgb(255, 190, 102)",
             "rgb(255, 186, 102)",
             "rgb(255, 186, 102)",
             "rgb(255, 186, 102)",
             "rgb(255, 186, 102)",
             "rgb(255, 186, 102)",
             "rgb(255, 186, 102)",
             "rgb(255, 186, 102)",
             "rgb(255, 186, 102)",
             "rgb(255, 186, 102)",
             "rgb(255, 186, 102)",
             "rgb(255, 186, 102)",
             "rgb(255, 186, 102)",
             "rgb(255, 214, 102)",
             "rgb(233, 255, 112)",
             "rgb(255, 136, 102)",
             "rgb(255, 186, 102)",
             "rgb(255, 186, 102)",
             "rgb(255, 186, 102)",
             "rgb(255, 186, 102)",
             "rgb(255, 192, 102)",
             "rgb(255, 186, 102)",
             "rgb(255, 186, 102)",
             "rgb(255, 186, 102)",
             "rgb(255, 186, 102)",
             "rgb(255, 186, 102)",
             "rgb(255, 186, 102)",
             "rgb(255, 186, 102)",
             "rgb(255, 186, 102)",
             "rgb(255, 186, 102)",
             "rgb(255, 186, 102)",
             "rgb(255, 186, 102)",
             "rgb(255, 186, 102)",
             "rgb(255, 186, 102)",
             "lavender"
            ],
            [
             "lavender",
             "rgb(255, 186, 102)",
             "rgb(255, 186, 102)",
             "rgb(255, 186, 102)",
             "rgb(255, 186, 102)",
             "rgb(255, 186, 102)",
             "rgb(255, 186, 102)",
             "rgb(255, 186, 102)",
             "rgb(255, 186, 102)",
             "rgb(255, 186, 102)",
             "rgb(255, 186, 102)",
             "rgb(255, 186, 102)",
             "rgb(255, 192, 102)",
             "rgb(255, 186, 102)",
             "rgb(255, 186, 102)",
             "rgb(255, 240, 102)",
             "rgb(255, 186, 102)",
             "rgb(255, 186, 102)",
             "rgb(255, 186, 102)",
             "rgb(255, 199, 102)",
             "rgb(255, 186, 102)",
             "rgb(255, 186, 102)",
             "rgb(255, 186, 102)",
             "rgb(255, 186, 102)",
             "rgb(255, 186, 102)",
             "rgb(255, 186, 102)",
             "rgb(255, 186, 102)",
             "rgb(255, 186, 102)",
             "rgb(255, 186, 102)",
             "rgb(255, 186, 102)",
             "rgb(255, 186, 102)",
             "rgb(255, 186, 102)",
             "rgb(255, 186, 102)",
             "rgb(255, 186, 102)",
             "rgb(255, 186, 102)",
             "lavender"
            ],
            [
             "lavender",
             "rgb(255, 186, 102)",
             "rgb(255, 186, 102)",
             "rgb(255, 219, 102)",
             "rgb(255, 186, 102)",
             "rgb(255, 186, 102)",
             "rgb(255, 232, 102)",
             "rgb(255, 179, 102)",
             "rgb(255, 186, 102)",
             "rgb(255, 182, 102)",
             "rgb(255, 186, 102)",
             "rgb(255, 186, 102)",
             "rgb(255, 186, 102)",
             "rgb(255, 186, 102)",
             "rgb(255, 186, 102)",
             "rgb(255, 186, 102)",
             "rgb(255, 186, 102)",
             "rgb(255, 186, 102)",
             "rgb(255, 186, 102)",
             "rgb(255, 186, 102)",
             "rgb(255, 186, 102)",
             "rgb(255, 186, 102)",
             "rgb(255, 186, 102)",
             "rgb(255, 186, 102)",
             "rgb(255, 186, 102)",
             "rgb(255, 186, 102)",
             "rgb(255, 186, 102)",
             "rgb(255, 186, 102)",
             "rgb(255, 186, 102)",
             "rgb(255, 186, 102)",
             "rgb(255, 186, 102)",
             "rgb(255, 186, 102)",
             "rgb(255, 186, 102)",
             "rgb(255, 186, 102)",
             "rgb(255, 186, 102)",
             "lavender"
            ],
            [
             "lavender",
             "rgb(255, 186, 102)",
             "rgb(255, 186, 102)",
             "rgb(255, 186, 102)",
             "rgb(255, 186, 102)",
             "rgb(255, 186, 102)",
             "rgb(255, 186, 102)",
             "rgb(255, 186, 102)",
             "rgb(255, 186, 102)",
             "rgb(255, 186, 102)",
             "rgb(255, 186, 102)",
             "rgb(255, 186, 102)",
             "rgb(255, 186, 102)",
             "rgb(255, 186, 102)",
             "rgb(255, 186, 102)",
             "rgb(255, 186, 102)",
             "rgb(255, 186, 102)",
             "rgb(255, 234, 102)",
             "rgb(255, 186, 102)",
             "rgb(255, 186, 102)",
             "rgb(255, 186, 102)",
             "rgb(255, 186, 102)",
             "rgb(255, 186, 102)",
             "rgb(255, 186, 102)",
             "rgb(255, 205, 102)",
             "rgb(255, 186, 102)",
             "rgb(255, 147, 102)",
             "rgb(255, 186, 102)",
             "rgb(255, 186, 102)",
             "rgb(255, 186, 102)",
             "rgb(255, 186, 102)",
             "rgb(255, 186, 102)",
             "rgb(255, 186, 102)",
             "rgb(255, 186, 102)",
             "rgb(255, 186, 102)",
             "lavender"
            ]
           ]
          },
          "values": [
           [
            "Jonny Sorenson",
            "Payton Matsui",
            "Brady Risk",
            "Garrett Pyke",
            "Chase Dubois",
            "Anton Rubtsov",
            "Harrison Israels",
            "Arvils Bergmanis",
            "Matt Koethe",
            "T.J. Lloyd",
            "Simon Falk",
            "Kyle Gaffney",
            "Connor Mylymok",
            "Markuss Komuls",
            "Brayden Nicholetts",
            "Colin Doyle",
            "Karl Falk",
            "A.J. Macaulay",
            "Braden Birnie",
            "Cade Neilson",
            "Xavier Jean-Louis",
            "Zachary Power",
            "Will Hilfiker",
            "Eriks Zohovs",
            "Matteo Pecchia"
           ],
           [
            [
             0.365,
             1.047
            ],
            [
             0.075,
             -0.065
            ],
            [
             0.27,
             0.01
            ],
            [
             0.653,
             -0.075
            ],
            [
             -0.15,
             0.33
            ],
            [
             0.075,
             0.477
            ],
            [
             0.52,
             0.21
            ],
            [
             0.15,
             0
            ],
            [
             0.225,
             -0.17
            ],
            [
             0.075,
             -0.075
            ],
            [
             1.05,
             -0.075
            ],
            [
             0,
             0.715
            ],
            [
             0.327,
             0
            ],
            [
             0.477,
             -0.375
            ],
            [
             1.09,
             0.102
            ],
            [
             0,
             1.05
            ],
            [
             0.177,
             -0.15
            ],
            [
             0.075,
             0.075
            ],
            [
             0,
             0
            ],
            [
             0.48,
             0.545
            ],
            [
             0,
             -0.225
            ],
            [
             0.045,
             0
            ],
            [
             0,
             0
            ],
            [
             0,
             0
            ],
            [
             0,
             0
            ]
           ],
           [
            [
             0.365,
             1.047
            ],
            [
             0.075,
             -0.065
            ],
            [
             0.27,
             0.01
            ],
            [
             0.653,
             -0.075
            ],
            [
             -0.15,
             0.33
            ],
            [
             0.075,
             0.477
            ],
            [
             0.52,
             0.21
            ],
            [
             0.15,
             0
            ],
            [
             0.225,
             -0.17
            ],
            [
             0.075,
             -0.075
            ],
            [
             1.05,
             -0.075
            ],
            [
             0,
             0.715
            ],
            [
             0.327,
             0
            ],
            [
             0.477,
             -0.375
            ],
            [
             1.09,
             0.102
            ],
            [
             0,
             1.05
            ],
            [
             0.177,
             -0.15
            ],
            [
             0.075,
             0.075
            ],
            [
             0,
             0
            ],
            [
             0.48,
             0.545
            ],
            [
             0,
             -0.225
            ],
            [
             0.045,
             0
            ],
            [
             0,
             0
            ],
            [
             0,
             0
            ],
            [
             0,
             0
            ]
           ],
           [
            [
             1.357,
             0.075
            ],
            [
             0.705,
             0.18
            ],
            [
             0.28,
             1.997
            ],
            [
             0.15,
             1.27
            ],
            [
             0.225,
             0.825
            ],
            [
             1.527,
             0.225
            ],
            [
             0.16,
             1.027
            ],
            [
             0.865,
             0.578
            ],
            [
             1.19,
             0.44
            ],
            [
             0.627,
             0
            ],
            [
             1.2,
             0.075
            ],
            [
             0.865,
             0.327
            ],
            [
             0.3,
             0.075
            ],
            [
             0.627,
             0.225
            ],
            [
             0.225,
             0.15
            ],
            [
             0.265,
             0.205
            ],
            [
             0.15,
             -0.075
            ],
            [
             0.15,
             -0.15
            ],
            [
             0,
             0
            ],
            [
             0,
             0
            ],
            [
             0,
             0
            ],
            [
             0,
             0
            ],
            [
             0,
             0
            ],
            [
             0.382,
             0
            ],
            [
             0,
             0
            ]
           ],
           [
            [
             1.357,
             0.075
            ],
            [
             0.705,
             0.18
            ],
            [
             0.28,
             1.997
            ],
            [
             0.15,
             1.27
            ],
            [
             0.225,
             0.825
            ],
            [
             1.527,
             0.225
            ],
            [
             0.16,
             1.027
            ],
            [
             0.865,
             0.578
            ],
            [
             1.19,
             0.44
            ],
            [
             0.627,
             0
            ],
            [
             1.2,
             0.075
            ],
            [
             0.865,
             0.327
            ],
            [
             0.3,
             0.075
            ],
            [
             0.627,
             0.225
            ],
            [
             0.225,
             0.15
            ],
            [
             0.265,
             0.205
            ],
            [
             0.15,
             -0.075
            ],
            [
             0.15,
             -0.15
            ],
            [
             0,
             0
            ],
            [
             0,
             0
            ],
            [
             0,
             0
            ],
            [
             0,
             0
            ],
            [
             0,
             0
            ],
            [
             0.382,
             0
            ],
            [
             0,
             0
            ]
           ],
           [
            [
             0.29,
             0.892
            ],
            [
             0.215,
             0.535
            ],
            [
             0.16,
             0.865
            ],
            [
             0.627,
             1.39
            ],
            [
             0.075,
             0.525
            ],
            [
             0,
             0.6
            ],
            [
             0.05,
             1.21
            ],
            [
             0.225,
             0.852
            ],
            [
             0.15,
             1.585
            ],
            [
             0.375,
             1.24
            ],
            [
             0.15,
             0.75
            ],
            [
             0.225,
             0.45
            ],
            [
             0.3,
             0.525
            ],
            [
             0.402,
             0.6
            ],
            [
             0,
             0
            ],
            [
             0.37,
             1.045
            ],
            [
             0.375,
             0.45
            ],
            [
             0,
             0.375
            ],
            [
             0,
             0
            ],
            [
             -0.16,
             0.44
            ],
            [
             0,
             0
            ],
            [
             0,
             0
            ],
            [
             0,
             0
            ],
            [
             0,
             0.53
            ],
            [
             0,
             0
            ]
           ],
           [
            [
             0.29,
             0.892
            ],
            [
             0.215,
             0.535
            ],
            [
             0.16,
             0.865
            ],
            [
             0.627,
             1.39
            ],
            [
             0.075,
             0.525
            ],
            [
             0,
             0.6
            ],
            [
             0.05,
             1.21
            ],
            [
             0.225,
             0.852
            ],
            [
             0.15,
             1.585
            ],
            [
             0.375,
             1.24
            ],
            [
             0.15,
             0.75
            ],
            [
             0.225,
             0.45
            ],
            [
             0.3,
             0.525
            ],
            [
             0.402,
             0.6
            ],
            [
             0,
             0
            ],
            [
             0.37,
             1.045
            ],
            [
             0.375,
             0.45
            ],
            [
             0,
             0.375
            ],
            [
             0,
             0
            ],
            [
             -0.16,
             0.44
            ],
            [
             0,
             0
            ],
            [
             0,
             0
            ],
            [
             0,
             0
            ],
            [
             0,
             0.53
            ],
            [
             0,
             0
            ]
           ],
           [
            [
             2.057,
             1.04
            ],
            [
             0.235,
             0.845
            ],
            [
             0.89,
             0.878
            ],
            [
             0.225,
             0.63
            ],
            [
             0.225,
             0.715
            ],
            [
             0,
             0.252
            ],
            [
             0.775,
             0.075
            ],
            [
             0.327,
             0.882
            ],
            [
             0.477,
             0.477
            ],
            [
             0.075,
             1.077
            ],
            [
             0.075,
             0.075
            ],
            [
             0,
             0.075
            ],
            [
             1.267,
             0.402
            ],
            [
             0.882,
             0
            ],
            [
             0.48,
             0.252
            ],
            [
             0.347,
             0.025
            ],
            [
             0.9,
             0.503
            ],
            [
             0.705,
             0.075
            ],
            [
             0,
             0
            ],
            [
             0.205,
             0.055
            ],
            [
             0,
             0
            ],
            [
             0,
             0
            ],
            [
             0,
             0
            ],
            [
             -0.075,
             0
            ],
            [
             0,
             0
            ]
           ],
           [
            [
             2.057,
             1.04
            ],
            [
             0.235,
             0.845
            ],
            [
             0.89,
             0.878
            ],
            [
             0.225,
             0.63
            ],
            [
             0.225,
             0.715
            ],
            [
             0,
             0.252
            ],
            [
             0.775,
             0.075
            ],
            [
             0.327,
             0.882
            ],
            [
             0.477,
             0.477
            ],
            [
             0.075,
             1.077
            ],
            [
             0.075,
             0.075
            ],
            [
             0,
             0.075
            ],
            [
             1.267,
             0.402
            ],
            [
             0.882,
             0
            ],
            [
             0.48,
             0.252
            ],
            [
             0.347,
             0.025
            ],
            [
             0.9,
             0.503
            ],
            [
             0.705,
             0.075
            ],
            [
             0,
             0
            ],
            [
             0.205,
             0.055
            ],
            [
             0,
             0
            ],
            [
             0,
             0
            ],
            [
             0,
             0
            ],
            [
             -0.075,
             0
            ],
            [
             0,
             0
            ]
           ],
           [
            [
             0.9,
             0.15
            ],
            [
             0,
             0.202
            ],
            [
             0,
             0.085
            ],
            [
             0.715,
             1.495
            ],
            [
             0,
             0.402
            ],
            [
             0.3,
             0.49
            ],
            [
             0.782,
             1.705
            ],
            [
             0.68,
             -0.3
            ],
            [
             0.89,
             0
            ],
            [
             -0.15,
             0.48
            ],
            [
             0.225,
             0.375
            ],
            [
             0,
             0
            ],
            [
             0,
             -0.15
            ],
            [
             0.027,
             -0.15
            ],
            [
             0.075,
             0.075
            ],
            [
             -0.035,
             0.19
            ],
            [
             -0.075,
             -0.075
            ],
            [
             0,
             0.177
            ],
            [
             0,
             0
            ],
            [
             -0.165,
             -0.01
            ],
            [
             0,
             0.075
            ],
            [
             0,
             0
            ],
            [
             0,
             0
            ],
            [
             -0.04,
             0
            ],
            [
             0,
             0
            ]
           ],
           [
            [
             0.9,
             0.15
            ],
            [
             0,
             0.202
            ],
            [
             0,
             0.085
            ],
            [
             0.715,
             1.495
            ],
            [
             0,
             0.402
            ],
            [
             0.3,
             0.49
            ],
            [
             0.782,
             1.705
            ],
            [
             0.68,
             -0.3
            ],
            [
             0.89,
             0
            ],
            [
             -0.15,
             0.48
            ],
            [
             0.225,
             0.375
            ],
            [
             0,
             0
            ],
            [
             0,
             -0.15
            ],
            [
             0.027,
             -0.15
            ],
            [
             0.075,
             0.075
            ],
            [
             -0.035,
             0.19
            ],
            [
             -0.075,
             -0.075
            ],
            [
             0,
             0.177
            ],
            [
             0,
             0
            ],
            [
             -0.165,
             -0.01
            ],
            [
             0,
             0.075
            ],
            [
             0,
             0
            ],
            [
             0,
             0
            ],
            [
             -0.04,
             0
            ],
            [
             0,
             0
            ]
           ],
           [
            [
             0.3,
             0.72
            ],
            [
             1.005,
             0.04
            ],
            [
             0.477,
             0.225
            ],
            [
             0.627,
             0.825
            ],
            [
             0.3,
             0.15
            ],
            [
             0.552,
             0.9
            ],
            [
             0.28,
             -0.055
            ],
            [
             1.015,
             0
            ],
            [
             1.275,
             0.177
            ],
            [
             0.525,
             0.225
            ],
            [
             0.375,
             0
            ],
            [
             1.99,
             0.477
            ],
            [
             1.005,
             0.83
            ],
            [
             1.165,
             0.225
            ],
            [
             1.2,
             0
            ],
            [
             0.43,
             -0.02
            ],
            [
             0.552,
             0.075
            ],
            [
             1.005,
             0.252
            ],
            [
             0,
             0
            ],
            [
             0.33,
             0.105
            ],
            [
             0,
             0
            ],
            [
             0,
             0
            ],
            [
             0,
             0.075
            ],
            [
             0,
             0
            ],
            [
             0,
             0
            ]
           ],
           [
            [
             0.3,
             0.72
            ],
            [
             1.005,
             0.04
            ],
            [
             0.477,
             0.225
            ],
            [
             0.627,
             0.825
            ],
            [
             0.3,
             0.15
            ],
            [
             0.552,
             0.9
            ],
            [
             0.28,
             -0.055
            ],
            [
             1.015,
             0
            ],
            [
             1.275,
             0.177
            ],
            [
             0.525,
             0.225
            ],
            [
             0.375,
             0
            ],
            [
             1.99,
             0.477
            ],
            [
             1.005,
             0.83
            ],
            [
             1.165,
             0.225
            ],
            [
             1.2,
             0
            ],
            [
             0.43,
             -0.02
            ],
            [
             0.552,
             0.075
            ],
            [
             1.005,
             0.252
            ],
            [
             0,
             0
            ],
            [
             0.33,
             0.105
            ],
            [
             0,
             0
            ],
            [
             0,
             0
            ],
            [
             0,
             0.075
            ],
            [
             0,
             0
            ],
            [
             0,
             0
            ]
           ],
           [
            [
             0.715,
             0.15
            ],
            [
             0.975,
             0.785
            ],
            [
             0.16,
             0.807
            ],
            [
             0.075,
             0.15
            ],
            [
             0,
             0.15
            ],
            [
             0.225,
             1.125
            ],
            [
             1.03,
             0.125
            ],
            [
             0.327,
             0
            ],
            [
             1.512,
             0.375
            ],
            [
             1.042,
             0.15
            ],
            [
             0,
             0.15
            ],
            [
             0,
             0.04
            ],
            [
             0,
             0.15
            ],
            [
             0.225,
             0.075
            ],
            [
             0,
             0
            ],
            [
             0.035,
             0.055
            ],
            [
             0.252,
             0.15
            ],
            [
             0.225,
             0.252
            ],
            [
             0.15,
             0
            ],
            [
             -0.06,
             0
            ],
            [
             0,
             0
            ],
            [
             0,
             0.327
            ],
            [
             0,
             0
            ],
            [
             0,
             0
            ],
            [
             0,
             0
            ]
           ],
           [
            [
             0.715,
             0.15
            ],
            [
             0.975,
             0.785
            ],
            [
             0.16,
             0.807
            ],
            [
             0.075,
             0.15
            ],
            [
             0,
             0.15
            ],
            [
             0.225,
             1.125
            ],
            [
             1.03,
             0.125
            ],
            [
             0.327,
             0
            ],
            [
             1.512,
             0.375
            ],
            [
             1.042,
             0.15
            ],
            [
             0,
             0.15
            ],
            [
             0,
             0.04
            ],
            [
             0,
             0.15
            ],
            [
             0.225,
             0.075
            ],
            [
             0,
             0
            ],
            [
             0.035,
             0.055
            ],
            [
             0.252,
             0.15
            ],
            [
             0.225,
             0.252
            ],
            [
             0.15,
             0
            ],
            [
             -0.06,
             0
            ],
            [
             0,
             0
            ],
            [
             0,
             0.327
            ],
            [
             0,
             0
            ],
            [
             0,
             0
            ],
            [
             0,
             0
            ]
           ],
           [
            [
             1.345,
             -0.035,
             0.75,
             0.3,
             1.68,
             0.392
            ],
            [
             0.96,
             0.145,
             0.725,
             0.94,
             1.125,
             2.185
            ],
            [
             1.81,
             0.415,
             0.307,
             -0.19,
             1.99,
             0.93
            ],
            [
             1.492,
             -0.525,
             0.327,
             0.15,
             1.518,
             0.15
            ],
            [
             0.79,
             0.595,
             0.675,
             0.9,
             0.375,
             2.13
            ],
            [
             0.225,
             0.83,
             0.855,
             0.882,
             0.552,
             1.05
            ],
            [
             1.795,
             -0.468,
             0.83,
             0.105,
             1.13,
             0.93
            ],
            [
             0.477,
             0,
             1.117,
             0.477,
             1.628,
             0.807
            ],
            [
             0.225,
             -0.975,
             0.402,
             0.15,
             0,
             0.705
            ],
            [
             0.555,
             -0.75,
             1.717,
             0.225,
             0.93,
             0.15
            ],
            [
             0,
             -0.075,
             0.9,
             0.327,
             0.225,
             0.15
            ],
            [
             0.595,
             1,
             -0.01,
             0.055,
             0.91,
             0.01
            ],
            [
             0.327,
             0.543,
             0,
             0.327,
             0.477,
             -0.075
            ],
            [
             0.15,
             1.825,
             -0.15,
             0.252,
             0.225,
             0.48
            ],
            [
             0,
             0,
             0,
             0,
             0,
             0
            ],
            [
             0.835,
             -0.805,
             0.63,
             0.275,
             0,
             0
            ],
            [
             0,
             0,
             0.552,
             0.252,
             0.15,
             0.428
            ],
            [
             0,
             0.225,
             0.327,
             0.15,
             1.267,
             0
            ],
            [
             0,
             0,
             0.075,
             0,
             0.375,
             0
            ],
            [
             0,
             0,
             0,
             0.085,
             0.095,
             0.633
            ],
            [
             0.705,
             -0.093,
             0.075,
             0,
             0,
             -0.075
            ],
            [
             1.04,
             -0.573,
             0,
             0,
             0,
             0
            ],
            [
             0.63,
             0,
             0,
             0,
             0,
             0
            ],
            [
             0,
             0,
             0,
             0,
             0,
             0
            ],
            [
             0,
             0,
             0.552,
             0,
             0,
             0.225
            ]
           ],
           [
            [
             1.345,
             -0.035,
             0.75,
             0.3,
             1.68,
             0.392
            ],
            [
             0.96,
             0.145,
             0.725,
             0.94,
             1.125,
             2.185
            ],
            [
             1.81,
             0.415,
             0.307,
             -0.19,
             1.99,
             0.93
            ],
            [
             1.492,
             -0.525,
             0.327,
             0.15,
             1.518,
             0.15
            ],
            [
             0.79,
             0.595,
             0.675,
             0.9,
             0.375,
             2.13
            ],
            [
             0.225,
             0.83,
             0.855,
             0.882,
             0.552,
             1.05
            ],
            [
             1.795,
             -0.468,
             0.83,
             0.105,
             1.13,
             0.93
            ],
            [
             0.477,
             0,
             1.117,
             0.477,
             1.628,
             0.807
            ],
            [
             0.225,
             -0.975,
             0.402,
             0.15,
             0,
             0.705
            ],
            [
             0.555,
             -0.75,
             1.717,
             0.225,
             0.93,
             0.15
            ],
            [
             0,
             -0.075,
             0.9,
             0.327,
             0.225,
             0.15
            ],
            [
             0.595,
             1,
             -0.01,
             0.055,
             0.91,
             0.01
            ],
            [
             0.327,
             0.543,
             0,
             0.327,
             0.477,
             -0.075
            ],
            [
             0.15,
             1.825,
             -0.15,
             0.252,
             0.225,
             0.48
            ],
            [
             0,
             0,
             0,
             0,
             0,
             0
            ],
            [
             0.835,
             -0.805,
             0.63,
             0.275,
             0,
             0
            ],
            [
             0,
             0,
             0.552,
             0.252,
             0.15,
             0.428
            ],
            [
             0,
             0.225,
             0.327,
             0.15,
             1.267,
             0
            ],
            [
             0,
             0,
             0.075,
             0,
             0.375,
             0
            ],
            [
             0,
             0,
             0,
             0.085,
             0.095,
             0.633
            ],
            [
             0.705,
             -0.093,
             0.075,
             0,
             0,
             -0.075
            ],
            [
             1.04,
             -0.573,
             0,
             0,
             0,
             0
            ],
            [
             0.63,
             0,
             0,
             0,
             0,
             0
            ],
            [
             0,
             0,
             0,
             0,
             0,
             0
            ],
            [
             0,
             0,
             0.552,
             0,
             0,
             0.225
            ]
           ],
           [
            [
             1.345,
             -0.035,
             0.75,
             0.3,
             1.68,
             0.392
            ],
            [
             0.96,
             0.145,
             0.725,
             0.94,
             1.125,
             2.185
            ],
            [
             1.81,
             0.415,
             0.307,
             -0.19,
             1.99,
             0.93
            ],
            [
             1.492,
             -0.525,
             0.327,
             0.15,
             1.518,
             0.15
            ],
            [
             0.79,
             0.595,
             0.675,
             0.9,
             0.375,
             2.13
            ],
            [
             0.225,
             0.83,
             0.855,
             0.882,
             0.552,
             1.05
            ],
            [
             1.795,
             -0.468,
             0.83,
             0.105,
             1.13,
             0.93
            ],
            [
             0.477,
             0,
             1.117,
             0.477,
             1.628,
             0.807
            ],
            [
             0.225,
             -0.975,
             0.402,
             0.15,
             0,
             0.705
            ],
            [
             0.555,
             -0.75,
             1.717,
             0.225,
             0.93,
             0.15
            ],
            [
             0,
             -0.075,
             0.9,
             0.327,
             0.225,
             0.15
            ],
            [
             0.595,
             1,
             -0.01,
             0.055,
             0.91,
             0.01
            ],
            [
             0.327,
             0.543,
             0,
             0.327,
             0.477,
             -0.075
            ],
            [
             0.15,
             1.825,
             -0.15,
             0.252,
             0.225,
             0.48
            ],
            [
             0,
             0,
             0,
             0,
             0,
             0
            ],
            [
             0.835,
             -0.805,
             0.63,
             0.275,
             0,
             0
            ],
            [
             0,
             0,
             0.552,
             0.252,
             0.15,
             0.428
            ],
            [
             0,
             0.225,
             0.327,
             0.15,
             1.267,
             0
            ],
            [
             0,
             0,
             0.075,
             0,
             0.375,
             0
            ],
            [
             0,
             0,
             0,
             0.085,
             0.095,
             0.633
            ],
            [
             0.705,
             -0.093,
             0.075,
             0,
             0,
             -0.075
            ],
            [
             1.04,
             -0.573,
             0,
             0,
             0,
             0
            ],
            [
             0.63,
             0,
             0,
             0,
             0,
             0
            ],
            [
             0,
             0,
             0,
             0,
             0,
             0
            ],
            [
             0,
             0,
             0.552,
             0,
             0,
             0.225
            ]
           ],
           [
            [
             1.345,
             -0.035,
             0.75,
             0.3,
             1.68,
             0.392
            ],
            [
             0.96,
             0.145,
             0.725,
             0.94,
             1.125,
             2.185
            ],
            [
             1.81,
             0.415,
             0.307,
             -0.19,
             1.99,
             0.93
            ],
            [
             1.492,
             -0.525,
             0.327,
             0.15,
             1.518,
             0.15
            ],
            [
             0.79,
             0.595,
             0.675,
             0.9,
             0.375,
             2.13
            ],
            [
             0.225,
             0.83,
             0.855,
             0.882,
             0.552,
             1.05
            ],
            [
             1.795,
             -0.468,
             0.83,
             0.105,
             1.13,
             0.93
            ],
            [
             0.477,
             0,
             1.117,
             0.477,
             1.628,
             0.807
            ],
            [
             0.225,
             -0.975,
             0.402,
             0.15,
             0,
             0.705
            ],
            [
             0.555,
             -0.75,
             1.717,
             0.225,
             0.93,
             0.15
            ],
            [
             0,
             -0.075,
             0.9,
             0.327,
             0.225,
             0.15
            ],
            [
             0.595,
             1,
             -0.01,
             0.055,
             0.91,
             0.01
            ],
            [
             0.327,
             0.543,
             0,
             0.327,
             0.477,
             -0.075
            ],
            [
             0.15,
             1.825,
             -0.15,
             0.252,
             0.225,
             0.48
            ],
            [
             0,
             0,
             0,
             0,
             0,
             0
            ],
            [
             0.835,
             -0.805,
             0.63,
             0.275,
             0,
             0
            ],
            [
             0,
             0,
             0.552,
             0.252,
             0.15,
             0.428
            ],
            [
             0,
             0.225,
             0.327,
             0.15,
             1.267,
             0
            ],
            [
             0,
             0,
             0.075,
             0,
             0.375,
             0
            ],
            [
             0,
             0,
             0,
             0.085,
             0.095,
             0.633
            ],
            [
             0.705,
             -0.093,
             0.075,
             0,
             0,
             -0.075
            ],
            [
             1.04,
             -0.573,
             0,
             0,
             0,
             0
            ],
            [
             0.63,
             0,
             0,
             0,
             0,
             0
            ],
            [
             0,
             0,
             0,
             0,
             0,
             0
            ],
            [
             0,
             0,
             0.552,
             0,
             0,
             0.225
            ]
           ],
           [
            [
             0.15,
             0.3
            ],
            [
             0.89,
             0.31
            ],
            [
             0.215,
             0.14
            ],
            [
             0.177,
             0
            ],
            [
             1.875,
             -0.15
            ],
            [
             0.225,
             0
            ],
            [
             0.32,
             0.245
            ],
            [
             0.552,
             -0.3
            ],
            [
             0.627,
             0.225
            ],
            [
             -0.15,
             -0.075
            ],
            [
             0.375,
             0
            ],
            [
             0.532,
             0.01
            ],
            [
             0.865,
             0.402
            ],
            [
             0.3,
             -0.075
            ],
            [
             0,
             0
            ],
            [
             0.487,
             0.467
            ],
            [
             1.227,
             0
            ],
            [
             0,
             -0.15
            ],
            [
             0.705,
             0.225
            ],
            [
             0,
             0
            ],
            [
             0.78,
             0
            ],
            [
             0,
             0
            ],
            [
             0.15,
             0
            ],
            [
             0,
             0
            ],
            [
             0,
             0
            ]
           ],
           [
            [
             0.15,
             0.3
            ],
            [
             0.89,
             0.31
            ],
            [
             0.215,
             0.14
            ],
            [
             0.177,
             0
            ],
            [
             1.875,
             -0.15
            ],
            [
             0.225,
             0
            ],
            [
             0.32,
             0.245
            ],
            [
             0.552,
             -0.3
            ],
            [
             0.627,
             0.225
            ],
            [
             -0.15,
             -0.075
            ],
            [
             0.375,
             0
            ],
            [
             0.532,
             0.01
            ],
            [
             0.865,
             0.402
            ],
            [
             0.3,
             -0.075
            ],
            [
             0,
             0
            ],
            [
             0.487,
             0.467
            ],
            [
             1.227,
             0
            ],
            [
             0,
             -0.15
            ],
            [
             0.705,
             0.225
            ],
            [
             0,
             0
            ],
            [
             0.78,
             0
            ],
            [
             0,
             0
            ],
            [
             0.15,
             0
            ],
            [
             0,
             0
            ],
            [
             0,
             0
            ]
           ],
           [
            [
             1.455,
             0.177
            ],
            [
             0.26,
             1.82
            ],
            [
             1.125,
             0.555
            ],
            [
             1.632,
             -0.123
            ],
            [
             0.075,
             0.565
            ],
            [
             0.6,
             0.63
            ],
            [
             0.065,
             -0.02
            ],
            [
             0.102,
             0.255
            ],
            [
             0.075,
             0.503
            ],
            [
             1.805,
             0.102
            ],
            [
             0.375,
             0.15
            ],
            [
             0.055,
             0.007
            ],
            [
             -0.075,
             -0.075
            ],
            [
             0.225,
             0.102
            ],
            [
             0,
             0
            ],
            [
             0,
             0
            ],
            [
             0.15,
             0.15
            ],
            [
             0,
             -0.225
            ],
            [
             0.075,
             -0.075
            ],
            [
             -0.12,
             0.393
            ],
            [
             0,
             0.177
            ],
            [
             0.075,
             0
            ],
            [
             0,
             0
            ],
            [
             0,
             0
            ],
            [
             0,
             0
            ]
           ],
           [
            [
             1.455,
             0.177
            ],
            [
             0.26,
             1.82
            ],
            [
             1.125,
             0.555
            ],
            [
             1.632,
             -0.123
            ],
            [
             0.075,
             0.565
            ],
            [
             0.6,
             0.63
            ],
            [
             0.065,
             -0.02
            ],
            [
             0.102,
             0.255
            ],
            [
             0.075,
             0.503
            ],
            [
             1.805,
             0.102
            ],
            [
             0.375,
             0.15
            ],
            [
             0.055,
             0.007
            ],
            [
             -0.075,
             -0.075
            ],
            [
             0.225,
             0.102
            ],
            [
             0,
             0
            ],
            [
             0,
             0
            ],
            [
             0.15,
             0.15
            ],
            [
             0,
             -0.225
            ],
            [
             0.075,
             -0.075
            ],
            [
             -0.12,
             0.393
            ],
            [
             0,
             0.177
            ],
            [
             0.075,
             0
            ],
            [
             0,
             0
            ],
            [
             0,
             0
            ],
            [
             0,
             0
            ]
           ],
           [
            [
             1.345,
             -0.035,
             0.75,
             0.3,
             1.68,
             0.392
            ],
            [
             0.96,
             0.145,
             0.725,
             0.94,
             1.125,
             2.185
            ],
            [
             1.81,
             0.415,
             0.307,
             -0.19,
             1.99,
             0.93
            ],
            [
             1.492,
             -0.525,
             0.327,
             0.15,
             1.518,
             0.15
            ],
            [
             0.79,
             0.595,
             0.675,
             0.9,
             0.375,
             2.13
            ],
            [
             0.225,
             0.83,
             0.855,
             0.882,
             0.552,
             1.05
            ],
            [
             1.795,
             -0.468,
             0.83,
             0.105,
             1.13,
             0.93
            ],
            [
             0.477,
             0,
             1.117,
             0.477,
             1.628,
             0.807
            ],
            [
             0.225,
             -0.975,
             0.402,
             0.15,
             0,
             0.705
            ],
            [
             0.555,
             -0.75,
             1.717,
             0.225,
             0.93,
             0.15
            ],
            [
             0,
             -0.075,
             0.9,
             0.327,
             0.225,
             0.15
            ],
            [
             0.595,
             1,
             -0.01,
             0.055,
             0.91,
             0.01
            ],
            [
             0.327,
             0.543,
             0,
             0.327,
             0.477,
             -0.075
            ],
            [
             0.15,
             1.825,
             -0.15,
             0.252,
             0.225,
             0.48
            ],
            [
             0,
             0,
             0,
             0,
             0,
             0
            ],
            [
             0.835,
             -0.805,
             0.63,
             0.275,
             0,
             0
            ],
            [
             0,
             0,
             0.552,
             0.252,
             0.15,
             0.428
            ],
            [
             0,
             0.225,
             0.327,
             0.15,
             1.267,
             0
            ],
            [
             0,
             0,
             0.075,
             0,
             0.375,
             0
            ],
            [
             0,
             0,
             0,
             0.085,
             0.095,
             0.633
            ],
            [
             0.705,
             -0.093,
             0.075,
             0,
             0,
             -0.075
            ],
            [
             1.04,
             -0.573,
             0,
             0,
             0,
             0
            ],
            [
             0.63,
             0,
             0,
             0,
             0,
             0
            ],
            [
             0,
             0,
             0,
             0,
             0,
             0
            ],
            [
             0,
             0,
             0.552,
             0,
             0,
             0.225
            ]
           ],
           [
            [
             1.345,
             -0.035,
             0.75,
             0.3,
             1.68,
             0.392
            ],
            [
             0.96,
             0.145,
             0.725,
             0.94,
             1.125,
             2.185
            ],
            [
             1.81,
             0.415,
             0.307,
             -0.19,
             1.99,
             0.93
            ],
            [
             1.492,
             -0.525,
             0.327,
             0.15,
             1.518,
             0.15
            ],
            [
             0.79,
             0.595,
             0.675,
             0.9,
             0.375,
             2.13
            ],
            [
             0.225,
             0.83,
             0.855,
             0.882,
             0.552,
             1.05
            ],
            [
             1.795,
             -0.468,
             0.83,
             0.105,
             1.13,
             0.93
            ],
            [
             0.477,
             0,
             1.117,
             0.477,
             1.628,
             0.807
            ],
            [
             0.225,
             -0.975,
             0.402,
             0.15,
             0,
             0.705
            ],
            [
             0.555,
             -0.75,
             1.717,
             0.225,
             0.93,
             0.15
            ],
            [
             0,
             -0.075,
             0.9,
             0.327,
             0.225,
             0.15
            ],
            [
             0.595,
             1,
             -0.01,
             0.055,
             0.91,
             0.01
            ],
            [
             0.327,
             0.543,
             0,
             0.327,
             0.477,
             -0.075
            ],
            [
             0.15,
             1.825,
             -0.15,
             0.252,
             0.225,
             0.48
            ],
            [
             0,
             0,
             0,
             0,
             0,
             0
            ],
            [
             0.835,
             -0.805,
             0.63,
             0.275,
             0,
             0
            ],
            [
             0,
             0,
             0.552,
             0.252,
             0.15,
             0.428
            ],
            [
             0,
             0.225,
             0.327,
             0.15,
             1.267,
             0
            ],
            [
             0,
             0,
             0.075,
             0,
             0.375,
             0
            ],
            [
             0,
             0,
             0,
             0.085,
             0.095,
             0.633
            ],
            [
             0.705,
             -0.093,
             0.075,
             0,
             0,
             -0.075
            ],
            [
             1.04,
             -0.573,
             0,
             0,
             0,
             0
            ],
            [
             0.63,
             0,
             0,
             0,
             0,
             0
            ],
            [
             0,
             0,
             0,
             0,
             0,
             0
            ],
            [
             0,
             0,
             0.552,
             0,
             0,
             0.225
            ]
           ],
           [
            [
             0.15,
             0.49,
             1.505,
             -0.075
            ],
            [
             1.04,
             1.497,
             2.56,
             0.705
            ],
            [
             0.79,
             1.725,
             0.552,
             0.3
            ],
            [
             0.15,
             0.592,
             0.825,
             1.227
            ],
            [
             0.715,
             0.675,
             0.79,
             1.2
            ],
            [
             0.15,
             -0.3,
             0,
             0.94
            ],
            [
             0.317,
             0.487,
             0.125,
             0.075
            ],
            [
             0.177,
             1.103,
             0.15,
             1.117
            ],
            [
             0,
             0.255,
             0.653,
             0.075
            ],
            [
             0,
             -0.3,
             0.48,
             0.075
            ],
            [
             0.177,
             0,
             0.15,
             2.052
            ],
            [
             0.295,
             0.052,
             0.715,
             0.18
            ],
            [
             0.252,
             -0.198,
             0.075,
             1.27
            ],
            [
             0,
             -0.375,
             0,
             0.63
            ],
            [
             1.53,
             0,
             0.555,
             0.653
            ],
            [
             0,
             0,
             0.155,
             0.835
            ],
            [
             0.627,
             0.255,
             -0.075,
             0
            ],
            [
             0,
             -0.375,
             0.15,
             0.705
            ],
            [
             0,
             1.315,
             0.075,
             0
            ],
            [
             0.065,
             -0.355,
             0,
             0
            ],
            [
             0,
             -0.225,
             0,
             0
            ],
            [
             0,
             0,
             0,
             0
            ],
            [
             0,
             0,
             0,
             0
            ],
            [
             0,
             0,
             0,
             0
            ],
            [
             0,
             -0.45,
             0,
             0
            ]
           ],
           [
            [
             0.15,
             0.49,
             1.505,
             -0.075
            ],
            [
             1.04,
             1.497,
             2.56,
             0.705
            ],
            [
             0.79,
             1.725,
             0.552,
             0.3
            ],
            [
             0.15,
             0.592,
             0.825,
             1.227
            ],
            [
             0.715,
             0.675,
             0.79,
             1.2
            ],
            [
             0.15,
             -0.3,
             0,
             0.94
            ],
            [
             0.317,
             0.487,
             0.125,
             0.075
            ],
            [
             0.177,
             1.103,
             0.15,
             1.117
            ],
            [
             0,
             0.255,
             0.653,
             0.075
            ],
            [
             0,
             -0.3,
             0.48,
             0.075
            ],
            [
             0.177,
             0,
             0.15,
             2.052
            ],
            [
             0.295,
             0.052,
             0.715,
             0.18
            ],
            [
             0.252,
             -0.198,
             0.075,
             1.27
            ],
            [
             0,
             -0.375,
             0,
             0.63
            ],
            [
             1.53,
             0,
             0.555,
             0.653
            ],
            [
             0,
             0,
             0.155,
             0.835
            ],
            [
             0.627,
             0.255,
             -0.075,
             0
            ],
            [
             0,
             -0.375,
             0.15,
             0.705
            ],
            [
             0,
             1.315,
             0.075,
             0
            ],
            [
             0.065,
             -0.355,
             0,
             0
            ],
            [
             0,
             -0.225,
             0,
             0
            ],
            [
             0,
             0,
             0,
             0
            ],
            [
             0,
             0,
             0,
             0
            ],
            [
             0,
             0,
             0,
             0
            ],
            [
             0,
             -0.45,
             0,
             0
            ]
           ],
           [
            [
             0.477,
             0.3,
             1.42,
             2.18
            ],
            [
             0.705,
             0.095,
             0.68,
             0.845
            ],
            [
             1.2,
             0.215,
             0.215,
             1.455
            ],
            [
             0.6,
             0.353,
             0.68,
             1.345
            ],
            [
             1.192,
             0.402,
             0.6,
             -0.225
            ],
            [
             1.68,
             -0.075,
             1.165,
             0.15
            ],
            [
             0.515,
             0.025,
             0.76,
             0.907
            ],
            [
             0.905,
             0.327,
             -0.15,
             0.48
            ],
            [
             0.9,
             0,
             0.252,
             0.865
            ],
            [
             1.54,
             0.15,
             0.15,
             1.12
            ],
            [
             1.2,
             0.15,
             0.9,
             0.177
            ],
            [
             0.8,
             -0.08,
             0.16,
             0.73
            ],
            [
             0.653,
             0,
             0,
             1.328
            ],
            [
             0.865,
             0.177,
             1.2,
             0
            ],
            [
             1.368,
             0.402,
             0.225,
             -0.075
            ],
            [
             0.93,
             0.875,
             0,
             -0.25
            ],
            [
             0,
             0.075,
             -0.075,
             0.15
            ],
            [
             0.78,
             0.63,
             0.075,
             -0.15
            ],
            [
             0.402,
             1.478,
             0.075,
             0.49
            ],
            [
             0,
             0,
             0,
             0
            ],
            [
             0.15,
             0,
             0,
             0
            ],
            [
             0,
             0,
             0,
             0
            ],
            [
             0,
             0,
             0,
             0
            ],
            [
             0,
             0,
             0,
             0
            ],
            [
             0,
             0,
             0,
             0
            ]
           ],
           [
            [
             0.477,
             0.3,
             1.42,
             2.18
            ],
            [
             0.705,
             0.095,
             0.68,
             0.845
            ],
            [
             1.2,
             0.215,
             0.215,
             1.455
            ],
            [
             0.6,
             0.353,
             0.68,
             1.345
            ],
            [
             1.192,
             0.402,
             0.6,
             -0.225
            ],
            [
             1.68,
             -0.075,
             1.165,
             0.15
            ],
            [
             0.515,
             0.025,
             0.76,
             0.907
            ],
            [
             0.905,
             0.327,
             -0.15,
             0.48
            ],
            [
             0.9,
             0,
             0.252,
             0.865
            ],
            [
             1.54,
             0.15,
             0.15,
             1.12
            ],
            [
             1.2,
             0.15,
             0.9,
             0.177
            ],
            [
             0.8,
             -0.08,
             0.16,
             0.73
            ],
            [
             0.653,
             0,
             0,
             1.328
            ],
            [
             0.865,
             0.177,
             1.2,
             0
            ],
            [
             1.368,
             0.402,
             0.225,
             -0.075
            ],
            [
             0.93,
             0.875,
             0,
             -0.25
            ],
            [
             0,
             0.075,
             -0.075,
             0.15
            ],
            [
             0.78,
             0.63,
             0.075,
             -0.15
            ],
            [
             0.402,
             1.478,
             0.075,
             0.49
            ],
            [
             0,
             0,
             0,
             0
            ],
            [
             0.15,
             0,
             0,
             0
            ],
            [
             0,
             0,
             0,
             0
            ],
            [
             0,
             0,
             0,
             0
            ],
            [
             0,
             0,
             0,
             0
            ],
            [
             0,
             0,
             0,
             0
            ]
           ],
           [
            [
             0.477,
             0.3,
             1.42,
             2.18
            ],
            [
             0.705,
             0.095,
             0.68,
             0.845
            ],
            [
             1.2,
             0.215,
             0.215,
             1.455
            ],
            [
             0.6,
             0.353,
             0.68,
             1.345
            ],
            [
             1.192,
             0.402,
             0.6,
             -0.225
            ],
            [
             1.68,
             -0.075,
             1.165,
             0.15
            ],
            [
             0.515,
             0.025,
             0.76,
             0.907
            ],
            [
             0.905,
             0.327,
             -0.15,
             0.48
            ],
            [
             0.9,
             0,
             0.252,
             0.865
            ],
            [
             1.54,
             0.15,
             0.15,
             1.12
            ],
            [
             1.2,
             0.15,
             0.9,
             0.177
            ],
            [
             0.8,
             -0.08,
             0.16,
             0.73
            ],
            [
             0.653,
             0,
             0,
             1.328
            ],
            [
             0.865,
             0.177,
             1.2,
             0
            ],
            [
             1.368,
             0.402,
             0.225,
             -0.075
            ],
            [
             0.93,
             0.875,
             0,
             -0.25
            ],
            [
             0,
             0.075,
             -0.075,
             0.15
            ],
            [
             0.78,
             0.63,
             0.075,
             -0.15
            ],
            [
             0.402,
             1.478,
             0.075,
             0.49
            ],
            [
             0,
             0,
             0,
             0
            ],
            [
             0.15,
             0,
             0,
             0
            ],
            [
             0,
             0,
             0,
             0
            ],
            [
             0,
             0,
             0,
             0
            ],
            [
             0,
             0,
             0,
             0
            ],
            [
             0,
             0,
             0,
             0
            ]
           ],
           [
            [
             0.477,
             0.3,
             1.42,
             2.18
            ],
            [
             0.705,
             0.095,
             0.68,
             0.845
            ],
            [
             1.2,
             0.215,
             0.215,
             1.455
            ],
            [
             0.6,
             0.353,
             0.68,
             1.345
            ],
            [
             1.192,
             0.402,
             0.6,
             -0.225
            ],
            [
             1.68,
             -0.075,
             1.165,
             0.15
            ],
            [
             0.515,
             0.025,
             0.76,
             0.907
            ],
            [
             0.905,
             0.327,
             -0.15,
             0.48
            ],
            [
             0.9,
             0,
             0.252,
             0.865
            ],
            [
             1.54,
             0.15,
             0.15,
             1.12
            ],
            [
             1.2,
             0.15,
             0.9,
             0.177
            ],
            [
             0.8,
             -0.08,
             0.16,
             0.73
            ],
            [
             0.653,
             0,
             0,
             1.328
            ],
            [
             0.865,
             0.177,
             1.2,
             0
            ],
            [
             1.368,
             0.402,
             0.225,
             -0.075
            ],
            [
             0.93,
             0.875,
             0,
             -0.25
            ],
            [
             0,
             0.075,
             -0.075,
             0.15
            ],
            [
             0.78,
             0.63,
             0.075,
             -0.15
            ],
            [
             0.402,
             1.478,
             0.075,
             0.49
            ],
            [
             0,
             0,
             0,
             0
            ],
            [
             0.15,
             0,
             0,
             0
            ],
            [
             0,
             0,
             0,
             0
            ],
            [
             0,
             0,
             0,
             0
            ],
            [
             0,
             0,
             0,
             0
            ],
            [
             0,
             0,
             0,
             0
            ]
           ],
           [
            [
             0.15,
             0.49,
             1.505,
             -0.075
            ],
            [
             1.04,
             1.497,
             2.56,
             0.705
            ],
            [
             0.79,
             1.725,
             0.552,
             0.3
            ],
            [
             0.15,
             0.592,
             0.825,
             1.227
            ],
            [
             0.715,
             0.675,
             0.79,
             1.2
            ],
            [
             0.15,
             -0.3,
             0,
             0.94
            ],
            [
             0.317,
             0.487,
             0.125,
             0.075
            ],
            [
             0.177,
             1.103,
             0.15,
             1.117
            ],
            [
             0,
             0.255,
             0.653,
             0.075
            ],
            [
             0,
             -0.3,
             0.48,
             0.075
            ],
            [
             0.177,
             0,
             0.15,
             2.052
            ],
            [
             0.295,
             0.052,
             0.715,
             0.18
            ],
            [
             0.252,
             -0.198,
             0.075,
             1.27
            ],
            [
             0,
             -0.375,
             0,
             0.63
            ],
            [
             1.53,
             0,
             0.555,
             0.653
            ],
            [
             0,
             0,
             0.155,
             0.835
            ],
            [
             0.627,
             0.255,
             -0.075,
             0
            ],
            [
             0,
             -0.375,
             0.15,
             0.705
            ],
            [
             0,
             1.315,
             0.075,
             0
            ],
            [
             0.065,
             -0.355,
             0,
             0
            ],
            [
             0,
             -0.225,
             0,
             0
            ],
            [
             0,
             0,
             0,
             0
            ],
            [
             0,
             0,
             0,
             0
            ],
            [
             0,
             0,
             0,
             0
            ],
            [
             0,
             -0.45,
             0,
             0
            ]
           ],
           [
            [
             0.15,
             0.49,
             1.505,
             -0.075
            ],
            [
             1.04,
             1.497,
             2.56,
             0.705
            ],
            [
             0.79,
             1.725,
             0.552,
             0.3
            ],
            [
             0.15,
             0.592,
             0.825,
             1.227
            ],
            [
             0.715,
             0.675,
             0.79,
             1.2
            ],
            [
             0.15,
             -0.3,
             0,
             0.94
            ],
            [
             0.317,
             0.487,
             0.125,
             0.075
            ],
            [
             0.177,
             1.103,
             0.15,
             1.117
            ],
            [
             0,
             0.255,
             0.653,
             0.075
            ],
            [
             0,
             -0.3,
             0.48,
             0.075
            ],
            [
             0.177,
             0,
             0.15,
             2.052
            ],
            [
             0.295,
             0.052,
             0.715,
             0.18
            ],
            [
             0.252,
             -0.198,
             0.075,
             1.27
            ],
            [
             0,
             -0.375,
             0,
             0.63
            ],
            [
             1.53,
             0,
             0.555,
             0.653
            ],
            [
             0,
             0,
             0.155,
             0.835
            ],
            [
             0.627,
             0.255,
             -0.075,
             0
            ],
            [
             0,
             -0.375,
             0.15,
             0.705
            ],
            [
             0,
             1.315,
             0.075,
             0
            ],
            [
             0.065,
             -0.355,
             0,
             0
            ],
            [
             0,
             -0.225,
             0,
             0
            ],
            [
             0,
             0,
             0,
             0
            ],
            [
             0,
             0,
             0,
             0
            ],
            [
             0,
             0,
             0,
             0
            ],
            [
             0,
             -0.45,
             0,
             0
            ]
           ],
           [
            [
             0.997,
             1.615
            ],
            [
             0.38,
             1.382
            ],
            [
             1.315,
             1.84
            ],
            [
             0.357,
             0.807
            ],
            [
             -0.525,
             1.84
            ],
            [
             0.592,
             1.11
            ],
            [
             0.8,
             0.455
            ],
            [
             -0.3,
             0.477
            ],
            [
             -0.375,
             1.645
            ],
            [
             -0.15,
             0.865
            ],
            [
             0.64,
             1.605
            ],
            [
             0.285,
             1.07
            ],
            [
             0.027,
             1.208
            ],
            [
             -0.225,
             1.05
            ],
            [
             -0.3,
             2.017
            ],
            [
             -0.45,
             1.58
            ],
            [
             0.675,
             0.807
            ],
            [
             0.852,
             0.48
            ],
            [
             -0.45,
             0.327
            ],
            [
             0,
             0
            ],
            [
             0,
             0
            ],
            [
             0,
             0
            ],
            [
             0,
             0
            ],
            [
             0,
             0
            ],
            [
             0,
             0
            ]
           ],
           [
            [
             0.997,
             1.615
            ],
            [
             0.38,
             1.382
            ],
            [
             1.315,
             1.84
            ],
            [
             0.357,
             0.807
            ],
            [
             -0.525,
             1.84
            ],
            [
             0.592,
             1.11
            ],
            [
             0.8,
             0.455
            ],
            [
             -0.3,
             0.477
            ],
            [
             -0.375,
             1.645
            ],
            [
             -0.15,
             0.865
            ],
            [
             0.64,
             1.605
            ],
            [
             0.285,
             1.07
            ],
            [
             0.027,
             1.208
            ],
            [
             -0.225,
             1.05
            ],
            [
             -0.3,
             2.017
            ],
            [
             -0.45,
             1.58
            ],
            [
             0.675,
             0.807
            ],
            [
             0.852,
             0.48
            ],
            [
             -0.45,
             0.327
            ],
            [
             0,
             0
            ],
            [
             0,
             0
            ],
            [
             0,
             0
            ],
            [
             0,
             0
            ],
            [
             0,
             0
            ],
            [
             0,
             0
            ]
           ],
           [
            0.7538529411764705,
            0.7347352941176469,
            0.7061176470588237,
            0.6026764705882351,
            0.537235294117647,
            0.5296764705882352,
            0.5085882352941177,
            0.441235294117647,
            0.43558823529411766,
            0.4148529411764706,
            0.4089117647058824,
            0.36867647058823527,
            0.3635882352941176,
            0.3253235294117647,
            0.2948235294117647,
            0.2801764705882353,
            0.2516764705882353,
            0.2340294117647059,
            0.1541764705882353,
            0.07532352941176472,
            0.039529411764705875,
            0.02688235294117647,
            0.02514705882352941,
            0.023441176470588236,
            0.00961764705882353
           ]
          ]
         },
         "header": {
          "align": "left",
          "fill": {
           "color": "paleturquoise"
          },
          "values": [
           "Player",
           "American Int'l",
           "American Int'l",
           "St. Thomas",
           "St. Thomas",
           "Michigan Tech",
           "Michigan Tech",
           "Omaha",
           "Omaha",
           "Northern Michigan",
           "Northern Michigan",
           "Rensselaer",
           "Rensselaer",
           "Penn State",
           "Penn State",
           "Anchorage",
           "Anchorage",
           "Anchorage",
           "Anchorage",
           "Notre Dame",
           "Notre Dame",
           "Denver",
           "Denver",
           "Anchorage",
           "Anchorage",
           "Arizona State",
           "Arizona State",
           "Long Island",
           "Long Island",
           "Long Island",
           "Long Island",
           "Arizona State",
           "Arizona State",
           "Lindenwood",
           "Lindenwood",
           "Average"
          ]
         },
         "type": "table"
        }
       ],
       "layout": {
        "template": {
         "data": {
          "bar": [
           {
            "error_x": {
             "color": "#2a3f5f"
            },
            "error_y": {
             "color": "#2a3f5f"
            },
            "marker": {
             "line": {
              "color": "#E5ECF6",
              "width": 0.5
             },
             "pattern": {
              "fillmode": "overlay",
              "size": 10,
              "solidity": 0.2
             }
            },
            "type": "bar"
           }
          ],
          "barpolar": [
           {
            "marker": {
             "line": {
              "color": "#E5ECF6",
              "width": 0.5
             },
             "pattern": {
              "fillmode": "overlay",
              "size": 10,
              "solidity": 0.2
             }
            },
            "type": "barpolar"
           }
          ],
          "carpet": [
           {
            "aaxis": {
             "endlinecolor": "#2a3f5f",
             "gridcolor": "white",
             "linecolor": "white",
             "minorgridcolor": "white",
             "startlinecolor": "#2a3f5f"
            },
            "baxis": {
             "endlinecolor": "#2a3f5f",
             "gridcolor": "white",
             "linecolor": "white",
             "minorgridcolor": "white",
             "startlinecolor": "#2a3f5f"
            },
            "type": "carpet"
           }
          ],
          "choropleth": [
           {
            "colorbar": {
             "outlinewidth": 0,
             "ticks": ""
            },
            "type": "choropleth"
           }
          ],
          "contour": [
           {
            "colorbar": {
             "outlinewidth": 0,
             "ticks": ""
            },
            "colorscale": [
             [
              0,
              "#0d0887"
             ],
             [
              0.1111111111111111,
              "#46039f"
             ],
             [
              0.2222222222222222,
              "#7201a8"
             ],
             [
              0.3333333333333333,
              "#9c179e"
             ],
             [
              0.4444444444444444,
              "#bd3786"
             ],
             [
              0.5555555555555556,
              "#d8576b"
             ],
             [
              0.6666666666666666,
              "#ed7953"
             ],
             [
              0.7777777777777778,
              "#fb9f3a"
             ],
             [
              0.8888888888888888,
              "#fdca26"
             ],
             [
              1,
              "#f0f921"
             ]
            ],
            "type": "contour"
           }
          ],
          "contourcarpet": [
           {
            "colorbar": {
             "outlinewidth": 0,
             "ticks": ""
            },
            "type": "contourcarpet"
           }
          ],
          "heatmap": [
           {
            "colorbar": {
             "outlinewidth": 0,
             "ticks": ""
            },
            "colorscale": [
             [
              0,
              "#0d0887"
             ],
             [
              0.1111111111111111,
              "#46039f"
             ],
             [
              0.2222222222222222,
              "#7201a8"
             ],
             [
              0.3333333333333333,
              "#9c179e"
             ],
             [
              0.4444444444444444,
              "#bd3786"
             ],
             [
              0.5555555555555556,
              "#d8576b"
             ],
             [
              0.6666666666666666,
              "#ed7953"
             ],
             [
              0.7777777777777778,
              "#fb9f3a"
             ],
             [
              0.8888888888888888,
              "#fdca26"
             ],
             [
              1,
              "#f0f921"
             ]
            ],
            "type": "heatmap"
           }
          ],
          "heatmapgl": [
           {
            "colorbar": {
             "outlinewidth": 0,
             "ticks": ""
            },
            "colorscale": [
             [
              0,
              "#0d0887"
             ],
             [
              0.1111111111111111,
              "#46039f"
             ],
             [
              0.2222222222222222,
              "#7201a8"
             ],
             [
              0.3333333333333333,
              "#9c179e"
             ],
             [
              0.4444444444444444,
              "#bd3786"
             ],
             [
              0.5555555555555556,
              "#d8576b"
             ],
             [
              0.6666666666666666,
              "#ed7953"
             ],
             [
              0.7777777777777778,
              "#fb9f3a"
             ],
             [
              0.8888888888888888,
              "#fdca26"
             ],
             [
              1,
              "#f0f921"
             ]
            ],
            "type": "heatmapgl"
           }
          ],
          "histogram": [
           {
            "marker": {
             "pattern": {
              "fillmode": "overlay",
              "size": 10,
              "solidity": 0.2
             }
            },
            "type": "histogram"
           }
          ],
          "histogram2d": [
           {
            "colorbar": {
             "outlinewidth": 0,
             "ticks": ""
            },
            "colorscale": [
             [
              0,
              "#0d0887"
             ],
             [
              0.1111111111111111,
              "#46039f"
             ],
             [
              0.2222222222222222,
              "#7201a8"
             ],
             [
              0.3333333333333333,
              "#9c179e"
             ],
             [
              0.4444444444444444,
              "#bd3786"
             ],
             [
              0.5555555555555556,
              "#d8576b"
             ],
             [
              0.6666666666666666,
              "#ed7953"
             ],
             [
              0.7777777777777778,
              "#fb9f3a"
             ],
             [
              0.8888888888888888,
              "#fdca26"
             ],
             [
              1,
              "#f0f921"
             ]
            ],
            "type": "histogram2d"
           }
          ],
          "histogram2dcontour": [
           {
            "colorbar": {
             "outlinewidth": 0,
             "ticks": ""
            },
            "colorscale": [
             [
              0,
              "#0d0887"
             ],
             [
              0.1111111111111111,
              "#46039f"
             ],
             [
              0.2222222222222222,
              "#7201a8"
             ],
             [
              0.3333333333333333,
              "#9c179e"
             ],
             [
              0.4444444444444444,
              "#bd3786"
             ],
             [
              0.5555555555555556,
              "#d8576b"
             ],
             [
              0.6666666666666666,
              "#ed7953"
             ],
             [
              0.7777777777777778,
              "#fb9f3a"
             ],
             [
              0.8888888888888888,
              "#fdca26"
             ],
             [
              1,
              "#f0f921"
             ]
            ],
            "type": "histogram2dcontour"
           }
          ],
          "mesh3d": [
           {
            "colorbar": {
             "outlinewidth": 0,
             "ticks": ""
            },
            "type": "mesh3d"
           }
          ],
          "parcoords": [
           {
            "line": {
             "colorbar": {
              "outlinewidth": 0,
              "ticks": ""
             }
            },
            "type": "parcoords"
           }
          ],
          "pie": [
           {
            "automargin": true,
            "type": "pie"
           }
          ],
          "scatter": [
           {
            "fillpattern": {
             "fillmode": "overlay",
             "size": 10,
             "solidity": 0.2
            },
            "type": "scatter"
           }
          ],
          "scatter3d": [
           {
            "line": {
             "colorbar": {
              "outlinewidth": 0,
              "ticks": ""
             }
            },
            "marker": {
             "colorbar": {
              "outlinewidth": 0,
              "ticks": ""
             }
            },
            "type": "scatter3d"
           }
          ],
          "scattercarpet": [
           {
            "marker": {
             "colorbar": {
              "outlinewidth": 0,
              "ticks": ""
             }
            },
            "type": "scattercarpet"
           }
          ],
          "scattergeo": [
           {
            "marker": {
             "colorbar": {
              "outlinewidth": 0,
              "ticks": ""
             }
            },
            "type": "scattergeo"
           }
          ],
          "scattergl": [
           {
            "marker": {
             "colorbar": {
              "outlinewidth": 0,
              "ticks": ""
             }
            },
            "type": "scattergl"
           }
          ],
          "scattermapbox": [
           {
            "marker": {
             "colorbar": {
              "outlinewidth": 0,
              "ticks": ""
             }
            },
            "type": "scattermapbox"
           }
          ],
          "scatterpolar": [
           {
            "marker": {
             "colorbar": {
              "outlinewidth": 0,
              "ticks": ""
             }
            },
            "type": "scatterpolar"
           }
          ],
          "scatterpolargl": [
           {
            "marker": {
             "colorbar": {
              "outlinewidth": 0,
              "ticks": ""
             }
            },
            "type": "scatterpolargl"
           }
          ],
          "scatterternary": [
           {
            "marker": {
             "colorbar": {
              "outlinewidth": 0,
              "ticks": ""
             }
            },
            "type": "scatterternary"
           }
          ],
          "surface": [
           {
            "colorbar": {
             "outlinewidth": 0,
             "ticks": ""
            },
            "colorscale": [
             [
              0,
              "#0d0887"
             ],
             [
              0.1111111111111111,
              "#46039f"
             ],
             [
              0.2222222222222222,
              "#7201a8"
             ],
             [
              0.3333333333333333,
              "#9c179e"
             ],
             [
              0.4444444444444444,
              "#bd3786"
             ],
             [
              0.5555555555555556,
              "#d8576b"
             ],
             [
              0.6666666666666666,
              "#ed7953"
             ],
             [
              0.7777777777777778,
              "#fb9f3a"
             ],
             [
              0.8888888888888888,
              "#fdca26"
             ],
             [
              1,
              "#f0f921"
             ]
            ],
            "type": "surface"
           }
          ],
          "table": [
           {
            "cells": {
             "fill": {
              "color": "#EBF0F8"
             },
             "line": {
              "color": "white"
             }
            },
            "header": {
             "fill": {
              "color": "#C8D4E3"
             },
             "line": {
              "color": "white"
             }
            },
            "type": "table"
           }
          ]
         },
         "layout": {
          "annotationdefaults": {
           "arrowcolor": "#2a3f5f",
           "arrowhead": 0,
           "arrowwidth": 1
          },
          "autotypenumbers": "strict",
          "coloraxis": {
           "colorbar": {
            "outlinewidth": 0,
            "ticks": ""
           }
          },
          "colorscale": {
           "diverging": [
            [
             0,
             "#8e0152"
            ],
            [
             0.1,
             "#c51b7d"
            ],
            [
             0.2,
             "#de77ae"
            ],
            [
             0.3,
             "#f1b6da"
            ],
            [
             0.4,
             "#fde0ef"
            ],
            [
             0.5,
             "#f7f7f7"
            ],
            [
             0.6,
             "#e6f5d0"
            ],
            [
             0.7,
             "#b8e186"
            ],
            [
             0.8,
             "#7fbc41"
            ],
            [
             0.9,
             "#4d9221"
            ],
            [
             1,
             "#276419"
            ]
           ],
           "sequential": [
            [
             0,
             "#0d0887"
            ],
            [
             0.1111111111111111,
             "#46039f"
            ],
            [
             0.2222222222222222,
             "#7201a8"
            ],
            [
             0.3333333333333333,
             "#9c179e"
            ],
            [
             0.4444444444444444,
             "#bd3786"
            ],
            [
             0.5555555555555556,
             "#d8576b"
            ],
            [
             0.6666666666666666,
             "#ed7953"
            ],
            [
             0.7777777777777778,
             "#fb9f3a"
            ],
            [
             0.8888888888888888,
             "#fdca26"
            ],
            [
             1,
             "#f0f921"
            ]
           ],
           "sequentialminus": [
            [
             0,
             "#0d0887"
            ],
            [
             0.1111111111111111,
             "#46039f"
            ],
            [
             0.2222222222222222,
             "#7201a8"
            ],
            [
             0.3333333333333333,
             "#9c179e"
            ],
            [
             0.4444444444444444,
             "#bd3786"
            ],
            [
             0.5555555555555556,
             "#d8576b"
            ],
            [
             0.6666666666666666,
             "#ed7953"
            ],
            [
             0.7777777777777778,
             "#fb9f3a"
            ],
            [
             0.8888888888888888,
             "#fdca26"
            ],
            [
             1,
             "#f0f921"
            ]
           ]
          },
          "colorway": [
           "#636efa",
           "#EF553B",
           "#00cc96",
           "#ab63fa",
           "#FFA15A",
           "#19d3f3",
           "#FF6692",
           "#B6E880",
           "#FF97FF",
           "#FECB52"
          ],
          "font": {
           "color": "#2a3f5f"
          },
          "geo": {
           "bgcolor": "white",
           "lakecolor": "white",
           "landcolor": "#E5ECF6",
           "showlakes": true,
           "showland": true,
           "subunitcolor": "white"
          },
          "hoverlabel": {
           "align": "left"
          },
          "hovermode": "closest",
          "mapbox": {
           "style": "light"
          },
          "paper_bgcolor": "white",
          "plot_bgcolor": "#E5ECF6",
          "polar": {
           "angularaxis": {
            "gridcolor": "white",
            "linecolor": "white",
            "ticks": ""
           },
           "bgcolor": "#E5ECF6",
           "radialaxis": {
            "gridcolor": "white",
            "linecolor": "white",
            "ticks": ""
           }
          },
          "scene": {
           "xaxis": {
            "backgroundcolor": "#E5ECF6",
            "gridcolor": "white",
            "gridwidth": 2,
            "linecolor": "white",
            "showbackground": true,
            "ticks": "",
            "zerolinecolor": "white"
           },
           "yaxis": {
            "backgroundcolor": "#E5ECF6",
            "gridcolor": "white",
            "gridwidth": 2,
            "linecolor": "white",
            "showbackground": true,
            "ticks": "",
            "zerolinecolor": "white"
           },
           "zaxis": {
            "backgroundcolor": "#E5ECF6",
            "gridcolor": "white",
            "gridwidth": 2,
            "linecolor": "white",
            "showbackground": true,
            "ticks": "",
            "zerolinecolor": "white"
           }
          },
          "shapedefaults": {
           "line": {
            "color": "#2a3f5f"
           }
          },
          "ternary": {
           "aaxis": {
            "gridcolor": "white",
            "linecolor": "white",
            "ticks": ""
           },
           "baxis": {
            "gridcolor": "white",
            "linecolor": "white",
            "ticks": ""
           },
           "bgcolor": "#E5ECF6",
           "caxis": {
            "gridcolor": "white",
            "linecolor": "white",
            "ticks": ""
           }
          },
          "title": {
           "x": 0.05
          },
          "xaxis": {
           "automargin": true,
           "gridcolor": "white",
           "linecolor": "white",
           "ticks": "",
           "title": {
            "standoff": 15
           },
           "zerolinecolor": "white",
           "zerolinewidth": 2
          },
          "yaxis": {
           "automargin": true,
           "gridcolor": "white",
           "linecolor": "white",
           "ticks": "",
           "title": {
            "standoff": 15
           },
           "zerolinecolor": "white",
           "zerolinewidth": 2
          }
         }
        }
       }
      }
     },
     "metadata": {},
     "output_type": "display_data"
    }
   ],
   "source": [
    "fig = go.Figure(data=[go.Table(\n",
    "    header=dict(values=list(csv_df_sorted.columns),\n",
    "                fill_color='paleturquoise',\n",
    "                align='left'),\n",
    "    cells=dict(values=[csv_df_sorted[col] for col in csv_df_sorted.columns],\n",
    "               fill_color=color_array_combined,\n",
    "               align='left'))\n",
    "])\n",
    "fig.show()\n"
   ]
  },
  {
   "cell_type": "code",
   "execution_count": null,
   "metadata": {},
   "outputs": [],
   "source": []
  },
  {
   "cell_type": "code",
   "execution_count": 168,
   "metadata": {},
   "outputs": [
    {
     "data": {
      "text/plain": [
       "array(['Ferris State', 'Miami', 'St. Lawrence', 'Lowell',\n",
       "       'St. Cloud State', 'St. Thomas', 'Arizona State', 'Duluth',\n",
       "       'Bentley', 'Boston University', 'RIT', 'Union', 'Ohio State',\n",
       "       'Mercyhurst', 'Long Island', 'Northeastern', 'Lindenwood',\n",
       "       'Minnesota', 'Western Michigan', 'Anchorage', \"American Int'l\",\n",
       "       'Alaska', 'Bowling Green', 'Northern Michigan', 'Connecticut',\n",
       "       'Vermont', 'Army', 'Wisconsin', 'Michigan State', 'Colgate',\n",
       "       'Quinnipiac', 'Boston College', 'Canisius', 'Penn State',\n",
       "       'Rensselaer', 'Merrimack', 'New Hampshire', 'Clarkson', 'Michigan',\n",
       "       'Sacred Heart', 'Providence', 'Michigan Tech', 'Minnesota State',\n",
       "       'Niagara', 'Omaha', 'Holy Cross', 'North Dakota', 'Bemidji State',\n",
       "       'Colorado College', 'Notre Dame', 'Denver', 'Maine', 'Air Force',\n",
       "       'Massachusetts', 'Lake Superior', 'Dartmouth', 'Harvard',\n",
       "       'Cornell', 'Brown', 'Yale', 'Princeton', 0], dtype=object)"
      ]
     },
     "execution_count": 168,
     "metadata": {},
     "output_type": "execute_result"
    }
   ],
   "source": [
    "unique_teams"
   ]
  },
  {
   "cell_type": "code",
   "execution_count": 169,
   "metadata": {},
   "outputs": [
    {
     "data": {
      "text/html": [
       "<div>\n",
       "<style scoped>\n",
       "    .dataframe tbody tr th:only-of-type {\n",
       "        vertical-align: middle;\n",
       "    }\n",
       "\n",
       "    .dataframe tbody tr th {\n",
       "        vertical-align: top;\n",
       "    }\n",
       "\n",
       "    .dataframe thead th {\n",
       "        text-align: right;\n",
       "    }\n",
       "</style>\n",
       "<table border=\"1\" class=\"dataframe\">\n",
       "  <thead>\n",
       "    <tr style=\"text-align: right;\">\n",
       "      <th></th>\n",
       "      <th>ArizonaStateMinnesota</th>\n",
       "      <th>ArizonaStateMinnesota</th>\n",
       "      <th>MinnesotaMinnesotaState</th>\n",
       "      <th>MinnesotaMinnesotaState</th>\n",
       "      <th>WisconsinMinnesota</th>\n",
       "      <th>WisconsinMinnesota</th>\n",
       "      <th>CornellMinnesota</th>\n",
       "      <th>CornellMinnesota</th>\n",
       "      <th>MinnesotaColoradoCollege</th>\n",
       "      <th>MinnesotaColoradoCollege</th>\n",
       "      <th>...</th>\n",
       "      <th>WesternMichiganMinnesota</th>\n",
       "      <th>MinnesotaDenver</th>\n",
       "      <th>MinnesotaDenver</th>\n",
       "      <th>MiamiMinnesota</th>\n",
       "      <th>MiamiMinnesota</th>\n",
       "      <th>MinnesotaSt.CloudState</th>\n",
       "      <th>MinnesotaSt.CloudState</th>\n",
       "      <th>MinnesotaSt.CloudState</th>\n",
       "      <th>MinnesotaSt.CloudState</th>\n",
       "      <th>MinnesotaSt.CloudState</th>\n",
       "    </tr>\n",
       "    <tr>\n",
       "      <th>Player</th>\n",
       "      <th></th>\n",
       "      <th></th>\n",
       "      <th></th>\n",
       "      <th></th>\n",
       "      <th></th>\n",
       "      <th></th>\n",
       "      <th></th>\n",
       "      <th></th>\n",
       "      <th></th>\n",
       "      <th></th>\n",
       "      <th></th>\n",
       "      <th></th>\n",
       "      <th></th>\n",
       "      <th></th>\n",
       "      <th></th>\n",
       "      <th></th>\n",
       "      <th></th>\n",
       "      <th></th>\n",
       "      <th></th>\n",
       "      <th></th>\n",
       "      <th></th>\n",
       "    </tr>\n",
       "  </thead>\n",
       "  <tbody>\n",
       "    <tr>\n",
       "      <th>Aiden Dubinsky</th>\n",
       "      <td>0.630000</td>\n",
       "      <td>0.476633</td>\n",
       "      <td>-0.075000</td>\n",
       "      <td>0.401633</td>\n",
       "      <td>0.075000</td>\n",
       "      <td>-0.075000</td>\n",
       "      <td>0.780000</td>\n",
       "      <td>0.780000</td>\n",
       "      <td>0.075000</td>\n",
       "      <td>0.401633</td>\n",
       "      <td>...</td>\n",
       "      <td>0.551633</td>\n",
       "      <td>0.600000</td>\n",
       "      <td>0.705000</td>\n",
       "      <td>-1.500000e-01</td>\n",
       "      <td>0.000000e+00</td>\n",
       "      <td>0.000000</td>\n",
       "      <td>0.000000</td>\n",
       "      <td>0.000000</td>\n",
       "      <td>0.375000</td>\n",
       "      <td>-0.225000</td>\n",
       "    </tr>\n",
       "    <tr>\n",
       "      <th>Ben Steeves</th>\n",
       "      <td>0.300000</td>\n",
       "      <td>2.175000</td>\n",
       "      <td>0.000000</td>\n",
       "      <td>0.000000</td>\n",
       "      <td>0.865000</td>\n",
       "      <td>0.225000</td>\n",
       "      <td>1.376633</td>\n",
       "      <td>-0.075000</td>\n",
       "      <td>1.028265</td>\n",
       "      <td>0.975000</td>\n",
       "      <td>...</td>\n",
       "      <td>0.375000</td>\n",
       "      <td>1.256633</td>\n",
       "      <td>1.650000</td>\n",
       "      <td>-1.500000e-01</td>\n",
       "      <td>7.016327e-01</td>\n",
       "      <td>0.300000</td>\n",
       "      <td>1.403265</td>\n",
       "      <td>1.331633</td>\n",
       "      <td>1.425000</td>\n",
       "      <td>0.476633</td>\n",
       "    </tr>\n",
       "    <tr>\n",
       "      <th>Blake Biondi</th>\n",
       "      <td>0.780000</td>\n",
       "      <td>0.600000</td>\n",
       "      <td>0.075000</td>\n",
       "      <td>0.065000</td>\n",
       "      <td>0.740000</td>\n",
       "      <td>0.235000</td>\n",
       "      <td>0.865000</td>\n",
       "      <td>0.900000</td>\n",
       "      <td>0.251633</td>\n",
       "      <td>1.350000</td>\n",
       "      <td>...</td>\n",
       "      <td>0.000000</td>\n",
       "      <td>0.000000</td>\n",
       "      <td>0.000000</td>\n",
       "      <td>0.000000e+00</td>\n",
       "      <td>0.000000e+00</td>\n",
       "      <td>0.000000</td>\n",
       "      <td>0.000000</td>\n",
       "      <td>0.000000</td>\n",
       "      <td>0.000000</td>\n",
       "      <td>0.000000</td>\n",
       "    </tr>\n",
       "    <tr>\n",
       "      <th>Carter Loney</th>\n",
       "      <td>0.195000</td>\n",
       "      <td>1.765000</td>\n",
       "      <td>-0.005000</td>\n",
       "      <td>0.040000</td>\n",
       "      <td>0.806633</td>\n",
       "      <td>-0.125000</td>\n",
       "      <td>0.775000</td>\n",
       "      <td>0.205000</td>\n",
       "      <td>0.065000</td>\n",
       "      <td>0.045000</td>\n",
       "      <td>...</td>\n",
       "      <td>1.195000</td>\n",
       "      <td>0.425000</td>\n",
       "      <td>0.085000</td>\n",
       "      <td>-5.500000e-02</td>\n",
       "      <td>6.166327e-01</td>\n",
       "      <td>1.150000</td>\n",
       "      <td>0.508265</td>\n",
       "      <td>0.135000</td>\n",
       "      <td>2.165000</td>\n",
       "      <td>-0.305000</td>\n",
       "    </tr>\n",
       "    <tr>\n",
       "      <th>Cole Spicer</th>\n",
       "      <td>0.010000</td>\n",
       "      <td>1.035000</td>\n",
       "      <td>0.175000</td>\n",
       "      <td>-0.095000</td>\n",
       "      <td>-0.055000</td>\n",
       "      <td>0.225000</td>\n",
       "      <td>0.280000</td>\n",
       "      <td>0.065000</td>\n",
       "      <td>-0.010000</td>\n",
       "      <td>0.000000</td>\n",
       "      <td>...</td>\n",
       "      <td>0.120000</td>\n",
       "      <td>0.000000</td>\n",
       "      <td>0.000000</td>\n",
       "      <td>0.000000e+00</td>\n",
       "      <td>2.250000e-01</td>\n",
       "      <td>1.220000</td>\n",
       "      <td>0.375000</td>\n",
       "      <td>0.075000</td>\n",
       "      <td>0.550000</td>\n",
       "      <td>-0.330000</td>\n",
       "    </tr>\n",
       "    <tr>\n",
       "      <th>Darian Gotz</th>\n",
       "      <td>-0.075000</td>\n",
       "      <td>0.701633</td>\n",
       "      <td>-0.075000</td>\n",
       "      <td>0.000000</td>\n",
       "      <td>0.000000</td>\n",
       "      <td>-0.150000</td>\n",
       "      <td>0.225000</td>\n",
       "      <td>0.375000</td>\n",
       "      <td>0.000000</td>\n",
       "      <td>0.000000</td>\n",
       "      <td>...</td>\n",
       "      <td>0.630000</td>\n",
       "      <td>0.626633</td>\n",
       "      <td>0.900000</td>\n",
       "      <td>8.250000e-01</td>\n",
       "      <td>2.775558e-17</td>\n",
       "      <td>1.005000</td>\n",
       "      <td>0.225000</td>\n",
       "      <td>0.075000</td>\n",
       "      <td>0.525000</td>\n",
       "      <td>-0.375000</td>\n",
       "    </tr>\n",
       "    <tr>\n",
       "      <th>Derek Daschke</th>\n",
       "      <td>0.900000</td>\n",
       "      <td>0.000000</td>\n",
       "      <td>0.101633</td>\n",
       "      <td>0.251633</td>\n",
       "      <td>0.405000</td>\n",
       "      <td>0.326633</td>\n",
       "      <td>1.125000</td>\n",
       "      <td>0.300000</td>\n",
       "      <td>0.075000</td>\n",
       "      <td>0.885000</td>\n",
       "      <td>...</td>\n",
       "      <td>0.225000</td>\n",
       "      <td>0.525000</td>\n",
       "      <td>0.000000</td>\n",
       "      <td>-1.500000e-01</td>\n",
       "      <td>1.240000e+00</td>\n",
       "      <td>0.375000</td>\n",
       "      <td>0.150000</td>\n",
       "      <td>0.000000</td>\n",
       "      <td>0.600000</td>\n",
       "      <td>-0.225000</td>\n",
       "    </tr>\n",
       "    <tr>\n",
       "      <th>Dominic James</th>\n",
       "      <td>1.250000</td>\n",
       "      <td>0.410000</td>\n",
       "      <td>-0.140000</td>\n",
       "      <td>1.111633</td>\n",
       "      <td>0.415000</td>\n",
       "      <td>0.220000</td>\n",
       "      <td>0.915000</td>\n",
       "      <td>2.720000</td>\n",
       "      <td>0.310000</td>\n",
       "      <td>0.301633</td>\n",
       "      <td>...</td>\n",
       "      <td>0.305000</td>\n",
       "      <td>1.240000</td>\n",
       "      <td>1.026633</td>\n",
       "      <td>6.200000e-01</td>\n",
       "      <td>5.266327e-01</td>\n",
       "      <td>1.316633</td>\n",
       "      <td>1.450000</td>\n",
       "      <td>0.795000</td>\n",
       "      <td>2.200000</td>\n",
       "      <td>0.400000</td>\n",
       "    </tr>\n",
       "    <tr>\n",
       "      <th>Isaac Howard</th>\n",
       "      <td>1.451633</td>\n",
       "      <td>0.675000</td>\n",
       "      <td>-0.075000</td>\n",
       "      <td>0.326633</td>\n",
       "      <td>0.715000</td>\n",
       "      <td>0.503265</td>\n",
       "      <td>0.000000</td>\n",
       "      <td>0.000000</td>\n",
       "      <td>-0.075000</td>\n",
       "      <td>0.000000</td>\n",
       "      <td>...</td>\n",
       "      <td>0.225000</td>\n",
       "      <td>0.300000</td>\n",
       "      <td>1.985000</td>\n",
       "      <td>2.775558e-17</td>\n",
       "      <td>1.200000e+00</td>\n",
       "      <td>1.416633</td>\n",
       "      <td>1.275000</td>\n",
       "      <td>0.401633</td>\n",
       "      <td>1.005000</td>\n",
       "      <td>-0.225000</td>\n",
       "    </tr>\n",
       "    <tr>\n",
       "      <th>Jack Smith</th>\n",
       "      <td>0.000000</td>\n",
       "      <td>0.000000</td>\n",
       "      <td>0.000000</td>\n",
       "      <td>0.000000</td>\n",
       "      <td>0.000000</td>\n",
       "      <td>0.000000</td>\n",
       "      <td>0.300000</td>\n",
       "      <td>0.300000</td>\n",
       "      <td>0.095000</td>\n",
       "      <td>-0.050000</td>\n",
       "      <td>...</td>\n",
       "      <td>0.120000</td>\n",
       "      <td>0.831633</td>\n",
       "      <td>0.796633</td>\n",
       "      <td>-9.500000e-02</td>\n",
       "      <td>4.100000e-01</td>\n",
       "      <td>0.855000</td>\n",
       "      <td>1.116633</td>\n",
       "      <td>0.000000</td>\n",
       "      <td>1.090000</td>\n",
       "      <td>-0.300000</td>\n",
       "    </tr>\n",
       "    <tr>\n",
       "      <th>Jesse Jacques</th>\n",
       "      <td>0.065000</td>\n",
       "      <td>0.315000</td>\n",
       "      <td>0.010000</td>\n",
       "      <td>-0.030000</td>\n",
       "      <td>0.430000</td>\n",
       "      <td>0.225000</td>\n",
       "      <td>0.435000</td>\n",
       "      <td>0.050000</td>\n",
       "      <td>0.513265</td>\n",
       "      <td>0.105000</td>\n",
       "      <td>...</td>\n",
       "      <td>0.150000</td>\n",
       "      <td>1.085000</td>\n",
       "      <td>0.130000</td>\n",
       "      <td>9.766327e-01</td>\n",
       "      <td>1.051633e+00</td>\n",
       "      <td>0.280000</td>\n",
       "      <td>0.335000</td>\n",
       "      <td>0.105000</td>\n",
       "      <td>0.380000</td>\n",
       "      <td>-0.490000</td>\n",
       "    </tr>\n",
       "    <tr>\n",
       "      <th>Joey Pierce</th>\n",
       "      <td>0.000000</td>\n",
       "      <td>0.476633</td>\n",
       "      <td>0.000000</td>\n",
       "      <td>0.000000</td>\n",
       "      <td>0.000000</td>\n",
       "      <td>0.150000</td>\n",
       "      <td>0.000000</td>\n",
       "      <td>0.225000</td>\n",
       "      <td>0.000000</td>\n",
       "      <td>0.150000</td>\n",
       "      <td>...</td>\n",
       "      <td>0.000000</td>\n",
       "      <td>0.300000</td>\n",
       "      <td>0.640000</td>\n",
       "      <td>-7.500000e-02</td>\n",
       "      <td>7.500000e-02</td>\n",
       "      <td>0.450000</td>\n",
       "      <td>0.300000</td>\n",
       "      <td>0.000000</td>\n",
       "      <td>0.450000</td>\n",
       "      <td>-0.375000</td>\n",
       "    </tr>\n",
       "    <tr>\n",
       "      <th>Kyle Bettens</th>\n",
       "      <td>0.150000</td>\n",
       "      <td>0.000000</td>\n",
       "      <td>0.075000</td>\n",
       "      <td>0.235000</td>\n",
       "      <td>0.000000</td>\n",
       "      <td>0.326633</td>\n",
       "      <td>0.000000</td>\n",
       "      <td>0.401633</td>\n",
       "      <td>0.085000</td>\n",
       "      <td>0.000000</td>\n",
       "      <td>...</td>\n",
       "      <td>0.300000</td>\n",
       "      <td>0.525000</td>\n",
       "      <td>0.075000</td>\n",
       "      <td>8.066327e-01</td>\n",
       "      <td>1.500000e-01</td>\n",
       "      <td>0.300000</td>\n",
       "      <td>0.075000</td>\n",
       "      <td>0.075000</td>\n",
       "      <td>1.955000</td>\n",
       "      <td>0.075000</td>\n",
       "    </tr>\n",
       "    <tr>\n",
       "      <th>Luke Johnson</th>\n",
       "      <td>0.000000</td>\n",
       "      <td>0.225000</td>\n",
       "      <td>-0.075000</td>\n",
       "      <td>-0.075000</td>\n",
       "      <td>0.150000</td>\n",
       "      <td>0.000000</td>\n",
       "      <td>0.075000</td>\n",
       "      <td>0.150000</td>\n",
       "      <td>0.000000</td>\n",
       "      <td>0.326633</td>\n",
       "      <td>...</td>\n",
       "      <td>0.150000</td>\n",
       "      <td>0.450000</td>\n",
       "      <td>0.900000</td>\n",
       "      <td>2.775558e-17</td>\n",
       "      <td>0.000000e+00</td>\n",
       "      <td>0.300000</td>\n",
       "      <td>0.225000</td>\n",
       "      <td>0.000000</td>\n",
       "      <td>0.000000</td>\n",
       "      <td>0.000000</td>\n",
       "    </tr>\n",
       "    <tr>\n",
       "      <th>Luke Loheit</th>\n",
       "      <td>0.225000</td>\n",
       "      <td>0.930000</td>\n",
       "      <td>0.000000</td>\n",
       "      <td>0.870000</td>\n",
       "      <td>0.900000</td>\n",
       "      <td>0.225000</td>\n",
       "      <td>0.885000</td>\n",
       "      <td>0.803265</td>\n",
       "      <td>0.075000</td>\n",
       "      <td>0.326633</td>\n",
       "      <td>...</td>\n",
       "      <td>0.205000</td>\n",
       "      <td>1.571633</td>\n",
       "      <td>1.240000</td>\n",
       "      <td>1.338265e+00</td>\n",
       "      <td>4.416327e-01</td>\n",
       "      <td>0.521633</td>\n",
       "      <td>0.205000</td>\n",
       "      <td>0.025000</td>\n",
       "      <td>1.115000</td>\n",
       "      <td>0.620000</td>\n",
       "    </tr>\n",
       "    <tr>\n",
       "      <th>Luke Mylymok</th>\n",
       "      <td>0.251633</td>\n",
       "      <td>1.125000</td>\n",
       "      <td>0.578265</td>\n",
       "      <td>0.000000</td>\n",
       "      <td>0.150000</td>\n",
       "      <td>0.150000</td>\n",
       "      <td>0.326633</td>\n",
       "      <td>0.000000</td>\n",
       "      <td>0.000000</td>\n",
       "      <td>0.000000</td>\n",
       "      <td>...</td>\n",
       "      <td>0.551633</td>\n",
       "      <td>0.450000</td>\n",
       "      <td>0.075000</td>\n",
       "      <td>4.050000e-01</td>\n",
       "      <td>7.050000e-01</td>\n",
       "      <td>0.375000</td>\n",
       "      <td>0.150000</td>\n",
       "      <td>0.000000</td>\n",
       "      <td>0.525000</td>\n",
       "      <td>-0.075000</td>\n",
       "    </tr>\n",
       "    <tr>\n",
       "      <th>Owen Gallatin</th>\n",
       "      <td>0.225000</td>\n",
       "      <td>1.690000</td>\n",
       "      <td>0.000000</td>\n",
       "      <td>0.405000</td>\n",
       "      <td>0.075000</td>\n",
       "      <td>0.375000</td>\n",
       "      <td>0.300000</td>\n",
       "      <td>0.401633</td>\n",
       "      <td>0.075000</td>\n",
       "      <td>2.118265</td>\n",
       "      <td>...</td>\n",
       "      <td>0.375000</td>\n",
       "      <td>0.225000</td>\n",
       "      <td>0.075000</td>\n",
       "      <td>8.250000e-01</td>\n",
       "      <td>3.750000e-01</td>\n",
       "      <td>0.476633</td>\n",
       "      <td>1.125000</td>\n",
       "      <td>0.251633</td>\n",
       "      <td>0.375000</td>\n",
       "      <td>-0.225000</td>\n",
       "    </tr>\n",
       "    <tr>\n",
       "      <th>Quinn Olson</th>\n",
       "      <td>1.906633</td>\n",
       "      <td>0.701633</td>\n",
       "      <td>0.225000</td>\n",
       "      <td>0.150000</td>\n",
       "      <td>0.551633</td>\n",
       "      <td>0.000000</td>\n",
       "      <td>1.031633</td>\n",
       "      <td>1.655000</td>\n",
       "      <td>0.300000</td>\n",
       "      <td>0.085000</td>\n",
       "      <td>...</td>\n",
       "      <td>0.975000</td>\n",
       "      <td>0.375000</td>\n",
       "      <td>1.253265</td>\n",
       "      <td>7.150000e-01</td>\n",
       "      <td>3.000000e-01</td>\n",
       "      <td>2.100000</td>\n",
       "      <td>0.225000</td>\n",
       "      <td>0.225000</td>\n",
       "      <td>1.710000</td>\n",
       "      <td>-0.150000</td>\n",
       "    </tr>\n",
       "    <tr>\n",
       "      <th>Riley Bodnarchuk</th>\n",
       "      <td>0.075000</td>\n",
       "      <td>0.000000</td>\n",
       "      <td>0.251633</td>\n",
       "      <td>0.000000</td>\n",
       "      <td>-0.075000</td>\n",
       "      <td>0.251633</td>\n",
       "      <td>0.225000</td>\n",
       "      <td>0.075000</td>\n",
       "      <td>0.075000</td>\n",
       "      <td>0.075000</td>\n",
       "      <td>...</td>\n",
       "      <td>0.000000</td>\n",
       "      <td>0.000000</td>\n",
       "      <td>0.000000</td>\n",
       "      <td>0.000000e+00</td>\n",
       "      <td>1.500000e-01</td>\n",
       "      <td>0.000000</td>\n",
       "      <td>0.000000</td>\n",
       "      <td>0.000000</td>\n",
       "      <td>0.000000</td>\n",
       "      <td>0.000000</td>\n",
       "    </tr>\n",
       "    <tr>\n",
       "      <th>Tanner Laderoute</th>\n",
       "      <td>0.865000</td>\n",
       "      <td>0.930000</td>\n",
       "      <td>0.065000</td>\n",
       "      <td>0.075000</td>\n",
       "      <td>0.075000</td>\n",
       "      <td>0.000000</td>\n",
       "      <td>0.150000</td>\n",
       "      <td>0.300000</td>\n",
       "      <td>0.150000</td>\n",
       "      <td>0.790000</td>\n",
       "      <td>...</td>\n",
       "      <td>0.300000</td>\n",
       "      <td>1.015000</td>\n",
       "      <td>0.000000</td>\n",
       "      <td>2.775558e-17</td>\n",
       "      <td>3.000000e-01</td>\n",
       "      <td>0.525000</td>\n",
       "      <td>0.150000</td>\n",
       "      <td>0.450000</td>\n",
       "      <td>0.525000</td>\n",
       "      <td>-0.075000</td>\n",
       "    </tr>\n",
       "    <tr>\n",
       "      <th>Will Francis</th>\n",
       "      <td>0.150000</td>\n",
       "      <td>0.326633</td>\n",
       "      <td>0.326633</td>\n",
       "      <td>0.000000</td>\n",
       "      <td>0.300000</td>\n",
       "      <td>0.000000</td>\n",
       "      <td>0.225000</td>\n",
       "      <td>0.000000</td>\n",
       "      <td>0.150000</td>\n",
       "      <td>0.000000</td>\n",
       "      <td>...</td>\n",
       "      <td>0.225000</td>\n",
       "      <td>0.450000</td>\n",
       "      <td>0.000000</td>\n",
       "      <td>2.775558e-17</td>\n",
       "      <td>9.532653e-01</td>\n",
       "      <td>0.626633</td>\n",
       "      <td>1.015000</td>\n",
       "      <td>0.225000</td>\n",
       "      <td>0.953265</td>\n",
       "      <td>-0.525000</td>\n",
       "    </tr>\n",
       "    <tr>\n",
       "      <th>Wyatt Kaiser</th>\n",
       "      <td>0.251633</td>\n",
       "      <td>0.780000</td>\n",
       "      <td>0.000000</td>\n",
       "      <td>0.375000</td>\n",
       "      <td>0.503265</td>\n",
       "      <td>0.000000</td>\n",
       "      <td>0.975000</td>\n",
       "      <td>2.118265</td>\n",
       "      <td>0.401633</td>\n",
       "      <td>0.000000</td>\n",
       "      <td>...</td>\n",
       "      <td>0.551633</td>\n",
       "      <td>0.803265</td>\n",
       "      <td>2.986633</td>\n",
       "      <td>8.916327e-01</td>\n",
       "      <td>4.500000e-01</td>\n",
       "      <td>2.046633</td>\n",
       "      <td>1.090000</td>\n",
       "      <td>0.940000</td>\n",
       "      <td>1.980000</td>\n",
       "      <td>0.405000</td>\n",
       "    </tr>\n",
       "  </tbody>\n",
       "</table>\n",
       "<p>22 rows × 37 columns</p>\n",
       "</div>"
      ],
      "text/plain": [
       "                  ArizonaStateMinnesota  ArizonaStateMinnesota  \\\n",
       "Player                                                           \n",
       "Aiden Dubinsky                 0.630000               0.476633   \n",
       "Ben Steeves                    0.300000               2.175000   \n",
       "Blake Biondi                   0.780000               0.600000   \n",
       "Carter Loney                   0.195000               1.765000   \n",
       "Cole Spicer                    0.010000               1.035000   \n",
       "Darian Gotz                   -0.075000               0.701633   \n",
       "Derek Daschke                  0.900000               0.000000   \n",
       "Dominic James                  1.250000               0.410000   \n",
       "Isaac Howard                   1.451633               0.675000   \n",
       "Jack Smith                     0.000000               0.000000   \n",
       "Jesse Jacques                  0.065000               0.315000   \n",
       "Joey Pierce                    0.000000               0.476633   \n",
       "Kyle Bettens                   0.150000               0.000000   \n",
       "Luke Johnson                   0.000000               0.225000   \n",
       "Luke Loheit                    0.225000               0.930000   \n",
       "Luke Mylymok                   0.251633               1.125000   \n",
       "Owen Gallatin                  0.225000               1.690000   \n",
       "Quinn Olson                    1.906633               0.701633   \n",
       "Riley Bodnarchuk               0.075000               0.000000   \n",
       "Tanner Laderoute               0.865000               0.930000   \n",
       "Will Francis                   0.150000               0.326633   \n",
       "Wyatt Kaiser                   0.251633               0.780000   \n",
       "\n",
       "                  MinnesotaMinnesotaState  MinnesotaMinnesotaState  \\\n",
       "Player                                                               \n",
       "Aiden Dubinsky                  -0.075000                 0.401633   \n",
       "Ben Steeves                      0.000000                 0.000000   \n",
       "Blake Biondi                     0.075000                 0.065000   \n",
       "Carter Loney                    -0.005000                 0.040000   \n",
       "Cole Spicer                      0.175000                -0.095000   \n",
       "Darian Gotz                     -0.075000                 0.000000   \n",
       "Derek Daschke                    0.101633                 0.251633   \n",
       "Dominic James                   -0.140000                 1.111633   \n",
       "Isaac Howard                    -0.075000                 0.326633   \n",
       "Jack Smith                       0.000000                 0.000000   \n",
       "Jesse Jacques                    0.010000                -0.030000   \n",
       "Joey Pierce                      0.000000                 0.000000   \n",
       "Kyle Bettens                     0.075000                 0.235000   \n",
       "Luke Johnson                    -0.075000                -0.075000   \n",
       "Luke Loheit                      0.000000                 0.870000   \n",
       "Luke Mylymok                     0.578265                 0.000000   \n",
       "Owen Gallatin                    0.000000                 0.405000   \n",
       "Quinn Olson                      0.225000                 0.150000   \n",
       "Riley Bodnarchuk                 0.251633                 0.000000   \n",
       "Tanner Laderoute                 0.065000                 0.075000   \n",
       "Will Francis                     0.326633                 0.000000   \n",
       "Wyatt Kaiser                     0.000000                 0.375000   \n",
       "\n",
       "                  WisconsinMinnesota  WisconsinMinnesota  CornellMinnesota  \\\n",
       "Player                                                                       \n",
       "Aiden Dubinsky              0.075000           -0.075000          0.780000   \n",
       "Ben Steeves                 0.865000            0.225000          1.376633   \n",
       "Blake Biondi                0.740000            0.235000          0.865000   \n",
       "Carter Loney                0.806633           -0.125000          0.775000   \n",
       "Cole Spicer                -0.055000            0.225000          0.280000   \n",
       "Darian Gotz                 0.000000           -0.150000          0.225000   \n",
       "Derek Daschke               0.405000            0.326633          1.125000   \n",
       "Dominic James               0.415000            0.220000          0.915000   \n",
       "Isaac Howard                0.715000            0.503265          0.000000   \n",
       "Jack Smith                  0.000000            0.000000          0.300000   \n",
       "Jesse Jacques               0.430000            0.225000          0.435000   \n",
       "Joey Pierce                 0.000000            0.150000          0.000000   \n",
       "Kyle Bettens                0.000000            0.326633          0.000000   \n",
       "Luke Johnson                0.150000            0.000000          0.075000   \n",
       "Luke Loheit                 0.900000            0.225000          0.885000   \n",
       "Luke Mylymok                0.150000            0.150000          0.326633   \n",
       "Owen Gallatin               0.075000            0.375000          0.300000   \n",
       "Quinn Olson                 0.551633            0.000000          1.031633   \n",
       "Riley Bodnarchuk           -0.075000            0.251633          0.225000   \n",
       "Tanner Laderoute            0.075000            0.000000          0.150000   \n",
       "Will Francis                0.300000            0.000000          0.225000   \n",
       "Wyatt Kaiser                0.503265            0.000000          0.975000   \n",
       "\n",
       "                  CornellMinnesota  MinnesotaColoradoCollege  \\\n",
       "Player                                                         \n",
       "Aiden Dubinsky            0.780000                  0.075000   \n",
       "Ben Steeves              -0.075000                  1.028265   \n",
       "Blake Biondi              0.900000                  0.251633   \n",
       "Carter Loney              0.205000                  0.065000   \n",
       "Cole Spicer               0.065000                 -0.010000   \n",
       "Darian Gotz               0.375000                  0.000000   \n",
       "Derek Daschke             0.300000                  0.075000   \n",
       "Dominic James             2.720000                  0.310000   \n",
       "Isaac Howard              0.000000                 -0.075000   \n",
       "Jack Smith                0.300000                  0.095000   \n",
       "Jesse Jacques             0.050000                  0.513265   \n",
       "Joey Pierce               0.225000                  0.000000   \n",
       "Kyle Bettens              0.401633                  0.085000   \n",
       "Luke Johnson              0.150000                  0.000000   \n",
       "Luke Loheit               0.803265                  0.075000   \n",
       "Luke Mylymok              0.000000                  0.000000   \n",
       "Owen Gallatin             0.401633                  0.075000   \n",
       "Quinn Olson               1.655000                  0.300000   \n",
       "Riley Bodnarchuk          0.075000                  0.075000   \n",
       "Tanner Laderoute          0.300000                  0.150000   \n",
       "Will Francis              0.000000                  0.150000   \n",
       "Wyatt Kaiser              2.118265                  0.401633   \n",
       "\n",
       "                  MinnesotaColoradoCollege  ...  WesternMichiganMinnesota  \\\n",
       "Player                                      ...                             \n",
       "Aiden Dubinsky                    0.401633  ...                  0.551633   \n",
       "Ben Steeves                       0.975000  ...                  0.375000   \n",
       "Blake Biondi                      1.350000  ...                  0.000000   \n",
       "Carter Loney                      0.045000  ...                  1.195000   \n",
       "Cole Spicer                       0.000000  ...                  0.120000   \n",
       "Darian Gotz                       0.000000  ...                  0.630000   \n",
       "Derek Daschke                     0.885000  ...                  0.225000   \n",
       "Dominic James                     0.301633  ...                  0.305000   \n",
       "Isaac Howard                      0.000000  ...                  0.225000   \n",
       "Jack Smith                       -0.050000  ...                  0.120000   \n",
       "Jesse Jacques                     0.105000  ...                  0.150000   \n",
       "Joey Pierce                       0.150000  ...                  0.000000   \n",
       "Kyle Bettens                      0.000000  ...                  0.300000   \n",
       "Luke Johnson                      0.326633  ...                  0.150000   \n",
       "Luke Loheit                       0.326633  ...                  0.205000   \n",
       "Luke Mylymok                      0.000000  ...                  0.551633   \n",
       "Owen Gallatin                     2.118265  ...                  0.375000   \n",
       "Quinn Olson                       0.085000  ...                  0.975000   \n",
       "Riley Bodnarchuk                  0.075000  ...                  0.000000   \n",
       "Tanner Laderoute                  0.790000  ...                  0.300000   \n",
       "Will Francis                      0.000000  ...                  0.225000   \n",
       "Wyatt Kaiser                      0.000000  ...                  0.551633   \n",
       "\n",
       "                  MinnesotaDenver  MinnesotaDenver  MiamiMinnesota  \\\n",
       "Player                                                               \n",
       "Aiden Dubinsky           0.600000         0.705000   -1.500000e-01   \n",
       "Ben Steeves              1.256633         1.650000   -1.500000e-01   \n",
       "Blake Biondi             0.000000         0.000000    0.000000e+00   \n",
       "Carter Loney             0.425000         0.085000   -5.500000e-02   \n",
       "Cole Spicer              0.000000         0.000000    0.000000e+00   \n",
       "Darian Gotz              0.626633         0.900000    8.250000e-01   \n",
       "Derek Daschke            0.525000         0.000000   -1.500000e-01   \n",
       "Dominic James            1.240000         1.026633    6.200000e-01   \n",
       "Isaac Howard             0.300000         1.985000    2.775558e-17   \n",
       "Jack Smith               0.831633         0.796633   -9.500000e-02   \n",
       "Jesse Jacques            1.085000         0.130000    9.766327e-01   \n",
       "Joey Pierce              0.300000         0.640000   -7.500000e-02   \n",
       "Kyle Bettens             0.525000         0.075000    8.066327e-01   \n",
       "Luke Johnson             0.450000         0.900000    2.775558e-17   \n",
       "Luke Loheit              1.571633         1.240000    1.338265e+00   \n",
       "Luke Mylymok             0.450000         0.075000    4.050000e-01   \n",
       "Owen Gallatin            0.225000         0.075000    8.250000e-01   \n",
       "Quinn Olson              0.375000         1.253265    7.150000e-01   \n",
       "Riley Bodnarchuk         0.000000         0.000000    0.000000e+00   \n",
       "Tanner Laderoute         1.015000         0.000000    2.775558e-17   \n",
       "Will Francis             0.450000         0.000000    2.775558e-17   \n",
       "Wyatt Kaiser             0.803265         2.986633    8.916327e-01   \n",
       "\n",
       "                  MiamiMinnesota  MinnesotaSt.CloudState  \\\n",
       "Player                                                     \n",
       "Aiden Dubinsky      0.000000e+00                0.000000   \n",
       "Ben Steeves         7.016327e-01                0.300000   \n",
       "Blake Biondi        0.000000e+00                0.000000   \n",
       "Carter Loney        6.166327e-01                1.150000   \n",
       "Cole Spicer         2.250000e-01                1.220000   \n",
       "Darian Gotz         2.775558e-17                1.005000   \n",
       "Derek Daschke       1.240000e+00                0.375000   \n",
       "Dominic James       5.266327e-01                1.316633   \n",
       "Isaac Howard        1.200000e+00                1.416633   \n",
       "Jack Smith          4.100000e-01                0.855000   \n",
       "Jesse Jacques       1.051633e+00                0.280000   \n",
       "Joey Pierce         7.500000e-02                0.450000   \n",
       "Kyle Bettens        1.500000e-01                0.300000   \n",
       "Luke Johnson        0.000000e+00                0.300000   \n",
       "Luke Loheit         4.416327e-01                0.521633   \n",
       "Luke Mylymok        7.050000e-01                0.375000   \n",
       "Owen Gallatin       3.750000e-01                0.476633   \n",
       "Quinn Olson         3.000000e-01                2.100000   \n",
       "Riley Bodnarchuk    1.500000e-01                0.000000   \n",
       "Tanner Laderoute    3.000000e-01                0.525000   \n",
       "Will Francis        9.532653e-01                0.626633   \n",
       "Wyatt Kaiser        4.500000e-01                2.046633   \n",
       "\n",
       "                  MinnesotaSt.CloudState  MinnesotaSt.CloudState  \\\n",
       "Player                                                             \n",
       "Aiden Dubinsky                  0.000000                0.000000   \n",
       "Ben Steeves                     1.403265                1.331633   \n",
       "Blake Biondi                    0.000000                0.000000   \n",
       "Carter Loney                    0.508265                0.135000   \n",
       "Cole Spicer                     0.375000                0.075000   \n",
       "Darian Gotz                     0.225000                0.075000   \n",
       "Derek Daschke                   0.150000                0.000000   \n",
       "Dominic James                   1.450000                0.795000   \n",
       "Isaac Howard                    1.275000                0.401633   \n",
       "Jack Smith                      1.116633                0.000000   \n",
       "Jesse Jacques                   0.335000                0.105000   \n",
       "Joey Pierce                     0.300000                0.000000   \n",
       "Kyle Bettens                    0.075000                0.075000   \n",
       "Luke Johnson                    0.225000                0.000000   \n",
       "Luke Loheit                     0.205000                0.025000   \n",
       "Luke Mylymok                    0.150000                0.000000   \n",
       "Owen Gallatin                   1.125000                0.251633   \n",
       "Quinn Olson                     0.225000                0.225000   \n",
       "Riley Bodnarchuk                0.000000                0.000000   \n",
       "Tanner Laderoute                0.150000                0.450000   \n",
       "Will Francis                    1.015000                0.225000   \n",
       "Wyatt Kaiser                    1.090000                0.940000   \n",
       "\n",
       "                  MinnesotaSt.CloudState  MinnesotaSt.CloudState  \n",
       "Player                                                            \n",
       "Aiden Dubinsky                  0.375000               -0.225000  \n",
       "Ben Steeves                     1.425000                0.476633  \n",
       "Blake Biondi                    0.000000                0.000000  \n",
       "Carter Loney                    2.165000               -0.305000  \n",
       "Cole Spicer                     0.550000               -0.330000  \n",
       "Darian Gotz                     0.525000               -0.375000  \n",
       "Derek Daschke                   0.600000               -0.225000  \n",
       "Dominic James                   2.200000                0.400000  \n",
       "Isaac Howard                    1.005000               -0.225000  \n",
       "Jack Smith                      1.090000               -0.300000  \n",
       "Jesse Jacques                   0.380000               -0.490000  \n",
       "Joey Pierce                     0.450000               -0.375000  \n",
       "Kyle Bettens                    1.955000                0.075000  \n",
       "Luke Johnson                    0.000000                0.000000  \n",
       "Luke Loheit                     1.115000                0.620000  \n",
       "Luke Mylymok                    0.525000               -0.075000  \n",
       "Owen Gallatin                   0.375000               -0.225000  \n",
       "Quinn Olson                     1.710000               -0.150000  \n",
       "Riley Bodnarchuk                0.000000                0.000000  \n",
       "Tanner Laderoute                0.525000               -0.075000  \n",
       "Will Francis                    0.953265               -0.525000  \n",
       "Wyatt Kaiser                    1.980000                0.405000  \n",
       "\n",
       "[22 rows x 37 columns]"
      ]
     },
     "execution_count": 169,
     "metadata": {},
     "output_type": "execute_result"
    }
   ],
   "source": [
    "# Display the first team's table as an example\n",
    "team_tables[unique_teams[7]].head(40)\n",
    "\n",
    "ohio_state_df = team_tables[unique_teams[7]].copy()\n",
    "\n",
    "# Clean Column Headers\n",
    "# split on - and take the last 2 elements\n",
    "# ohio_state_df.columns = ohio_state_df.columns.str.split('-').str[-2:]\n",
    "\n",
    "ohio_state_df.head(25)\n",
    "\n",
    "# Get a list of the column names\n",
    "column_names = ohio_state_df.columns.tolist()\n",
    "# Clean up column names by Removing 'Ohio State' and any digits of dashes\n",
    "column_names = [name.replace('Ohio State', '') for name in column_names]\n",
    "column_names = [name.replace('-', '') for name in column_names]\n",
    "column_names = [name.replace(' ', '') for name in column_names]\n",
    "\n",
    "# Use regex to remove any digits\n",
    "import re\n",
    "\n",
    "column_names = [re.sub(r'\\d+', '', name) for name in column_names]\n",
    "\n",
    "\n",
    "\n",
    "# Replace the column names\n",
    "ohio_state_df.columns = column_names\n",
    "\n",
    "ohio_state_df.head(25)\n",
    "\n",
    "# Save to CSV\n",
    "# ohio_state_df.to_csv('../TEMP/GAME_SCORE_OHIO_STATE.csv', index=True)\n",
    "\n",
    "### MSU Is In Index Position 21 in this case outputing csv for MSU\n",
    "# team_tables[unique_teams[21]] = team_tables[unique_teams[21]].fillna(0)\n",
    "# team_tables[unique_teams[21]].to_csv('../data/Nov_2_MSU_GAME_SCORES.csv')\n",
    "\n"
   ]
  },
  {
   "cell_type": "markdown",
   "metadata": {},
   "source": [
    "# One of THe Michigan Games is Absent From The OSU DATA"
   ]
  },
  {
   "cell_type": "code",
   "execution_count": 170,
   "metadata": {},
   "outputs": [
    {
     "data": {
      "text/html": [
       "<div>\n",
       "<style scoped>\n",
       "    .dataframe tbody tr th:only-of-type {\n",
       "        vertical-align: middle;\n",
       "    }\n",
       "\n",
       "    .dataframe tbody tr th {\n",
       "        vertical-align: top;\n",
       "    }\n",
       "\n",
       "    .dataframe thead th {\n",
       "        text-align: right;\n",
       "    }\n",
       "</style>\n",
       "<table border=\"1\" class=\"dataframe\">\n",
       "  <thead>\n",
       "    <tr style=\"text-align: right;\">\n",
       "      <th></th>\n",
       "      <th>ArizonaStateMinnesota</th>\n",
       "      <th>ArizonaStateMinnesota</th>\n",
       "      <th>MinnesotaMinnesotaState</th>\n",
       "      <th>MinnesotaMinnesotaState</th>\n",
       "      <th>WisconsinMinnesota</th>\n",
       "      <th>WisconsinMinnesota</th>\n",
       "      <th>CornellMinnesota</th>\n",
       "      <th>CornellMinnesota</th>\n",
       "      <th>MinnesotaColoradoCollege</th>\n",
       "      <th>MinnesotaColoradoCollege</th>\n",
       "      <th>...</th>\n",
       "      <th>WesternMichiganMinnesota</th>\n",
       "      <th>MinnesotaDenver</th>\n",
       "      <th>MinnesotaDenver</th>\n",
       "      <th>MiamiMinnesota</th>\n",
       "      <th>MiamiMinnesota</th>\n",
       "      <th>MinnesotaSt.CloudState</th>\n",
       "      <th>MinnesotaSt.CloudState</th>\n",
       "      <th>MinnesotaSt.CloudState</th>\n",
       "      <th>MinnesotaSt.CloudState</th>\n",
       "      <th>MinnesotaSt.CloudState</th>\n",
       "    </tr>\n",
       "    <tr>\n",
       "      <th>Player</th>\n",
       "      <th></th>\n",
       "      <th></th>\n",
       "      <th></th>\n",
       "      <th></th>\n",
       "      <th></th>\n",
       "      <th></th>\n",
       "      <th></th>\n",
       "      <th></th>\n",
       "      <th></th>\n",
       "      <th></th>\n",
       "      <th></th>\n",
       "      <th></th>\n",
       "      <th></th>\n",
       "      <th></th>\n",
       "      <th></th>\n",
       "      <th></th>\n",
       "      <th></th>\n",
       "      <th></th>\n",
       "      <th></th>\n",
       "      <th></th>\n",
       "      <th></th>\n",
       "    </tr>\n",
       "  </thead>\n",
       "  <tbody>\n",
       "    <tr>\n",
       "      <th>Aiden Dubinsky</th>\n",
       "      <td>0.630</td>\n",
       "      <td>0.476633</td>\n",
       "      <td>-0.075</td>\n",
       "      <td>0.401633</td>\n",
       "      <td>0.075000</td>\n",
       "      <td>-0.075</td>\n",
       "      <td>0.780000</td>\n",
       "      <td>0.780</td>\n",
       "      <td>0.075000</td>\n",
       "      <td>0.401633</td>\n",
       "      <td>...</td>\n",
       "      <td>0.551633</td>\n",
       "      <td>0.600000</td>\n",
       "      <td>0.705</td>\n",
       "      <td>-0.150</td>\n",
       "      <td>0.000000</td>\n",
       "      <td>0.00</td>\n",
       "      <td>0.000000</td>\n",
       "      <td>0.000000</td>\n",
       "      <td>0.375</td>\n",
       "      <td>-0.225000</td>\n",
       "    </tr>\n",
       "    <tr>\n",
       "      <th>Ben Steeves</th>\n",
       "      <td>0.300</td>\n",
       "      <td>2.175000</td>\n",
       "      <td>0.000</td>\n",
       "      <td>0.000000</td>\n",
       "      <td>0.865000</td>\n",
       "      <td>0.225</td>\n",
       "      <td>1.376633</td>\n",
       "      <td>-0.075</td>\n",
       "      <td>1.028265</td>\n",
       "      <td>0.975000</td>\n",
       "      <td>...</td>\n",
       "      <td>0.375000</td>\n",
       "      <td>1.256633</td>\n",
       "      <td>1.650</td>\n",
       "      <td>-0.150</td>\n",
       "      <td>0.701633</td>\n",
       "      <td>0.30</td>\n",
       "      <td>1.403265</td>\n",
       "      <td>1.331633</td>\n",
       "      <td>1.425</td>\n",
       "      <td>0.476633</td>\n",
       "    </tr>\n",
       "    <tr>\n",
       "      <th>Blake Biondi</th>\n",
       "      <td>0.780</td>\n",
       "      <td>0.600000</td>\n",
       "      <td>0.075</td>\n",
       "      <td>0.065000</td>\n",
       "      <td>0.740000</td>\n",
       "      <td>0.235</td>\n",
       "      <td>0.865000</td>\n",
       "      <td>0.900</td>\n",
       "      <td>0.251633</td>\n",
       "      <td>1.350000</td>\n",
       "      <td>...</td>\n",
       "      <td>0.000000</td>\n",
       "      <td>0.000000</td>\n",
       "      <td>0.000</td>\n",
       "      <td>0.000</td>\n",
       "      <td>0.000000</td>\n",
       "      <td>0.00</td>\n",
       "      <td>0.000000</td>\n",
       "      <td>0.000000</td>\n",
       "      <td>0.000</td>\n",
       "      <td>0.000000</td>\n",
       "    </tr>\n",
       "    <tr>\n",
       "      <th>Carter Loney</th>\n",
       "      <td>0.195</td>\n",
       "      <td>1.765000</td>\n",
       "      <td>-0.005</td>\n",
       "      <td>0.040000</td>\n",
       "      <td>0.806633</td>\n",
       "      <td>-0.125</td>\n",
       "      <td>0.775000</td>\n",
       "      <td>0.205</td>\n",
       "      <td>0.065000</td>\n",
       "      <td>0.045000</td>\n",
       "      <td>...</td>\n",
       "      <td>1.195000</td>\n",
       "      <td>0.425000</td>\n",
       "      <td>0.085</td>\n",
       "      <td>-0.055</td>\n",
       "      <td>0.616633</td>\n",
       "      <td>1.15</td>\n",
       "      <td>0.508265</td>\n",
       "      <td>0.135000</td>\n",
       "      <td>2.165</td>\n",
       "      <td>-0.305000</td>\n",
       "    </tr>\n",
       "    <tr>\n",
       "      <th>Cole Spicer</th>\n",
       "      <td>0.010</td>\n",
       "      <td>1.035000</td>\n",
       "      <td>0.175</td>\n",
       "      <td>-0.095000</td>\n",
       "      <td>-0.055000</td>\n",
       "      <td>0.225</td>\n",
       "      <td>0.280000</td>\n",
       "      <td>0.065</td>\n",
       "      <td>-0.010000</td>\n",
       "      <td>0.000000</td>\n",
       "      <td>...</td>\n",
       "      <td>0.120000</td>\n",
       "      <td>0.000000</td>\n",
       "      <td>0.000</td>\n",
       "      <td>0.000</td>\n",
       "      <td>0.225000</td>\n",
       "      <td>1.22</td>\n",
       "      <td>0.375000</td>\n",
       "      <td>0.075000</td>\n",
       "      <td>0.550</td>\n",
       "      <td>-0.330000</td>\n",
       "    </tr>\n",
       "  </tbody>\n",
       "</table>\n",
       "<p>5 rows × 37 columns</p>\n",
       "</div>"
      ],
      "text/plain": [
       "                ArizonaStateMinnesota  ArizonaStateMinnesota  \\\n",
       "Player                                                         \n",
       "Aiden Dubinsky                  0.630               0.476633   \n",
       "Ben Steeves                     0.300               2.175000   \n",
       "Blake Biondi                    0.780               0.600000   \n",
       "Carter Loney                    0.195               1.765000   \n",
       "Cole Spicer                     0.010               1.035000   \n",
       "\n",
       "                MinnesotaMinnesotaState  MinnesotaMinnesotaState  \\\n",
       "Player                                                             \n",
       "Aiden Dubinsky                   -0.075                 0.401633   \n",
       "Ben Steeves                       0.000                 0.000000   \n",
       "Blake Biondi                      0.075                 0.065000   \n",
       "Carter Loney                     -0.005                 0.040000   \n",
       "Cole Spicer                       0.175                -0.095000   \n",
       "\n",
       "                WisconsinMinnesota  WisconsinMinnesota  CornellMinnesota  \\\n",
       "Player                                                                     \n",
       "Aiden Dubinsky            0.075000              -0.075          0.780000   \n",
       "Ben Steeves               0.865000               0.225          1.376633   \n",
       "Blake Biondi              0.740000               0.235          0.865000   \n",
       "Carter Loney              0.806633              -0.125          0.775000   \n",
       "Cole Spicer              -0.055000               0.225          0.280000   \n",
       "\n",
       "                CornellMinnesota  MinnesotaColoradoCollege  \\\n",
       "Player                                                       \n",
       "Aiden Dubinsky             0.780                  0.075000   \n",
       "Ben Steeves               -0.075                  1.028265   \n",
       "Blake Biondi               0.900                  0.251633   \n",
       "Carter Loney               0.205                  0.065000   \n",
       "Cole Spicer                0.065                 -0.010000   \n",
       "\n",
       "                MinnesotaColoradoCollege  ...  WesternMichiganMinnesota  \\\n",
       "Player                                    ...                             \n",
       "Aiden Dubinsky                  0.401633  ...                  0.551633   \n",
       "Ben Steeves                     0.975000  ...                  0.375000   \n",
       "Blake Biondi                    1.350000  ...                  0.000000   \n",
       "Carter Loney                    0.045000  ...                  1.195000   \n",
       "Cole Spicer                     0.000000  ...                  0.120000   \n",
       "\n",
       "                MinnesotaDenver  MinnesotaDenver  MiamiMinnesota  \\\n",
       "Player                                                             \n",
       "Aiden Dubinsky         0.600000            0.705          -0.150   \n",
       "Ben Steeves            1.256633            1.650          -0.150   \n",
       "Blake Biondi           0.000000            0.000           0.000   \n",
       "Carter Loney           0.425000            0.085          -0.055   \n",
       "Cole Spicer            0.000000            0.000           0.000   \n",
       "\n",
       "                MiamiMinnesota  MinnesotaSt.CloudState  \\\n",
       "Player                                                   \n",
       "Aiden Dubinsky        0.000000                    0.00   \n",
       "Ben Steeves           0.701633                    0.30   \n",
       "Blake Biondi          0.000000                    0.00   \n",
       "Carter Loney          0.616633                    1.15   \n",
       "Cole Spicer           0.225000                    1.22   \n",
       "\n",
       "                MinnesotaSt.CloudState  MinnesotaSt.CloudState  \\\n",
       "Player                                                           \n",
       "Aiden Dubinsky                0.000000                0.000000   \n",
       "Ben Steeves                   1.403265                1.331633   \n",
       "Blake Biondi                  0.000000                0.000000   \n",
       "Carter Loney                  0.508265                0.135000   \n",
       "Cole Spicer                   0.375000                0.075000   \n",
       "\n",
       "                MinnesotaSt.CloudState  MinnesotaSt.CloudState  \n",
       "Player                                                          \n",
       "Aiden Dubinsky                   0.375               -0.225000  \n",
       "Ben Steeves                      1.425                0.476633  \n",
       "Blake Biondi                     0.000                0.000000  \n",
       "Carter Loney                     2.165               -0.305000  \n",
       "Cole Spicer                      0.550               -0.330000  \n",
       "\n",
       "[5 rows x 37 columns]"
      ]
     },
     "execution_count": 170,
     "metadata": {},
     "output_type": "execute_result"
    }
   ],
   "source": [
    "ohio_state_df.head()"
   ]
  },
  {
   "cell_type": "code",
   "execution_count": 171,
   "metadata": {},
   "outputs": [],
   "source": [
    "# Create a list of dataframes from the team_tables dictionary\n",
    "team_tables_list = [team_tables[team] for team in unique_teams]\n"
   ]
  },
  {
   "cell_type": "code",
   "execution_count": null,
   "metadata": {},
   "outputs": [],
   "source": []
  },
  {
   "cell_type": "markdown",
   "metadata": {},
   "source": [
    "## Save To an Excell File"
   ]
  },
  {
   "cell_type": "code",
   "execution_count": 172,
   "metadata": {},
   "outputs": [
    {
     "ename": "NameError",
     "evalue": "name 'team_tables_dict' is not defined",
     "output_type": "error",
     "traceback": [
      "\u001b[1;31m---------------------------------------------------------------------------\u001b[0m",
      "\u001b[1;31mNameError\u001b[0m                                 Traceback (most recent call last)",
      "\u001b[1;32mc:\\Users\\Justin\\Desktop\\Project\\college_hockey\\workbook\\Game_Score_Calculation_Book.ipynb Cell 60\u001b[0m line \u001b[0;36m7\n\u001b[0;32m      <a href='vscode-notebook-cell:/c%3A/Users/Justin/Desktop/Project/college_hockey/workbook/Game_Score_Calculation_Book.ipynb#Y113sZmlsZQ%3D%3D?line=3'>4</a>\u001b[0m \u001b[39m# Create a workbook and add a worksheet for each team\u001b[39;00m\n\u001b[0;32m      <a href='vscode-notebook-cell:/c%3A/Users/Justin/Desktop/Project/college_hockey/workbook/Game_Score_Calculation_Book.ipynb#Y113sZmlsZQ%3D%3D?line=4'>5</a>\u001b[0m workbook \u001b[39m=\u001b[39m xlsxwriter\u001b[39m.\u001b[39mWorkbook(\u001b[39m'\u001b[39m\u001b[39m../data/Nov_2_GAME_SCORES.xlsx\u001b[39m\u001b[39m'\u001b[39m)\n\u001b[1;32m----> <a href='vscode-notebook-cell:/c%3A/Users/Justin/Desktop/Project/college_hockey/workbook/Game_Score_Calculation_Book.ipynb#Y113sZmlsZQ%3D%3D?line=6'>7</a>\u001b[0m \u001b[39mfor\u001b[39;00m team, table \u001b[39min\u001b[39;00m team_tables_dict\u001b[39m.\u001b[39mitems():\n\u001b[0;32m      <a href='vscode-notebook-cell:/c%3A/Users/Justin/Desktop/Project/college_hockey/workbook/Game_Score_Calculation_Book.ipynb#Y113sZmlsZQ%3D%3D?line=7'>8</a>\u001b[0m     \u001b[39m# Create a new worksheet with the team name\u001b[39;00m\n\u001b[0;32m      <a href='vscode-notebook-cell:/c%3A/Users/Justin/Desktop/Project/college_hockey/workbook/Game_Score_Calculation_Book.ipynb#Y113sZmlsZQ%3D%3D?line=8'>9</a>\u001b[0m     worksheet \u001b[39m=\u001b[39m workbook\u001b[39m.\u001b[39madd_worksheet(team)\n\u001b[0;32m     <a href='vscode-notebook-cell:/c%3A/Users/Justin/Desktop/Project/college_hockey/workbook/Game_Score_Calculation_Book.ipynb#Y113sZmlsZQ%3D%3D?line=10'>11</a>\u001b[0m     \u001b[39m# Write the headers\u001b[39;00m\n",
      "\u001b[1;31mNameError\u001b[0m: name 'team_tables_dict' is not defined"
     ]
    }
   ],
   "source": [
    "# Assuming unique_teams and team_tables are lists and of the same length\n",
    "import xlsxwriter\n",
    "\n",
    "# Create a workbook and add a worksheet for each team\n",
    "workbook = xlsxwriter.Workbook('../data/Nov_2_GAME_SCORES.xlsx')\n",
    "\n",
    "for team, table in team_tables_dict.items():\n",
    "    # Create a new worksheet with the team name\n",
    "    worksheet = workbook.add_worksheet(team)\n",
    "    \n",
    "    # Write the headers\n",
    "    for col_num, column in enumerate(table.columns):\n",
    "        worksheet.write(0, col_num, column)\n",
    "    \n",
    "    # Write the data\n",
    "    for row_num, row_data in enumerate(table.values):\n",
    "        for col_num, cell_data in enumerate(row_data):\n",
    "            worksheet.write(row_num + 1, col_num, cell_data)  # +1 to skip the header\n",
    "\n",
    "workbook.close()\n",
    "\n",
    "# NOTE: The above code is structured to work with the provided mock data. Adjustments might be needed based on actual data.\n"
   ]
  },
  {
   "cell_type": "markdown",
   "metadata": {},
   "source": []
  },
  {
   "cell_type": "code",
   "execution_count": null,
   "metadata": {},
   "outputs": [],
   "source": [
    "# Save the team tables to a dictionary\n",
    "import pickle\n"
   ]
  },
  {
   "cell_type": "code",
   "execution_count": null,
   "metadata": {},
   "outputs": [],
   "source": [
    "## Blocking out the Game Score formula\n",
    "\n",
    "#### METRIC Formula\n",
    "# \n",
    "# METRIC = SCORE [ (Goals*0.75) + (Assist1*0.715) + (Assist2*0.555) ] \n",
    "#               + SHOTS [ (Shot_On_Net*0.075) + (Shots_Off_Net*0.075) - (Shots_Blocked*0.075) ]\n",
    "#               + FACEOFFS [ (Faceoff_Wins*0.01) - (Faceoff_Losses*0.01) ]\n",
    "#               + TEAM [ (Goals_For_Team*0.15) + (Goals_Against_Team*0.15) ]\n",
    "#               -  [ (Penalties_Taken * Overall_PP_Success_Rate) ]"
   ]
  },
  {
   "cell_type": "markdown",
   "metadata": {},
   "source": []
  },
  {
   "cell_type": "markdown",
   "metadata": {},
   "source": [
    "## Where to find these values in my DB\n",
    "scoring_summary\n",
    "    - Goals\n",
    "    -First Assist\n",
    "    -Second Assist\n",
    "\n",
    "player_stats\n",
    "    - Shots on Goal\n",
    "    - FOW\n",
    "    - FOL\n",
    "    - PIM \n",
    "        - (Maybe worth weighting differently based on period and time it was taken)\n",
    "        - Penalty late in a close game hurts a team more than something taken in the first perios\n",
    "        - a penalty that is taken when already short handed hurts much more than one 5-on-5\n",
    "            - I should be able to seperate out these types of occurences in the data from penalty_summary\n",
    "\n",
    "CAN'T Get Penalties Drawn from current data\n",
    "\n",
    "### Formulating the final 3 factors\n",
    "GA & GF should only use even strength goals - need to figure out how to filter those\n",
    "\n",
    "Shots blocked (overall - defensive) can be found in advanced metrics as well as SOG, Offensive shots blocked and shots missed net for each of these situations (total, close, even and PP)\n",
    "\n",
    "\n",
    "\n"
   ]
  },
  {
   "cell_type": "markdown",
   "metadata": {},
   "source": [
    "## Corsi Differnal = Corsi For - Corsi Defence\n",
    "Corsi is an advanced statistic used in the game of ice hockey to measure shot attempt differential while at even strength play. This includes shots on goal, missed shots on goal, and blocked shot attempts towards the opposition's net minus the same shot attempts directed at your own team's net.\n",
    "\n",
    "History\n",
    "The Corsi number was named by Tim Barnes, a financial analyst from Chicago working under the pseudonym Vic Ferrari. He had heard former Buffalo Sabres general manager Darcy Regier talking about shot differential on the radio, and then proceeded to develop a formula to accurately display shot differential. Ferrari originally wanted to name it the Regier number, but he didn't think it sounded right. He then considered calling it the Ruff number after former Buffalo Sabres head coach Lindy Ruff but he didn't think that was appropriate either. Ferrari ended up searching Buffalo Sabres staff, found a picture of Jim Corsi, and chose his name because he liked Corsi's mustache.[1]\n",
    "\n",
    "Formulae\n",
    "Corsi For (CF) = Shot attempts for at even strength: Shots + Blocks + Misses[2]\n",
    "Corsi Against (CA) = Shot attempts against at even strength: Shots + Blocks + Misses\n",
    "Corsi (C) = CF - CA\n",
    "Corsi For % (CF%) = CF / (CF + CA)\n",
    "Corsi For % Relative (CF% Rel) = CF% - CFOff%\n",
    "Corsi Per 60 Minutes at Even Strength (C/60) = (CF - CA) * 60 / TOI\n",
    "Relative Corsi per 60 Minutes at Even Strength (Crel/60) = CF/60 - CFoff/60 = On-Ice Corsi For / 60 Minutes - Off-Ice Corsi For / 60 Minutes"
   ]
  },
  {
   "cell_type": "code",
   "execution_count": null,
   "metadata": {},
   "outputs": [],
   "source": []
  }
 ],
 "metadata": {
  "kernelspec": {
   "display_name": "data_viz",
   "language": "python",
   "name": "python3"
  },
  "language_info": {
   "codemirror_mode": {
    "name": "ipython",
    "version": 3
   },
   "file_extension": ".py",
   "mimetype": "text/x-python",
   "name": "python",
   "nbconvert_exporter": "python",
   "pygments_lexer": "ipython3",
   "version": "3.9.18"
  }
 },
 "nbformat": 4,
 "nbformat_minor": 2
}
