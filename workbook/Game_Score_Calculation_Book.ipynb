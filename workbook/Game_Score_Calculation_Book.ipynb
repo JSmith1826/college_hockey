{
 "cells": [
  {
   "cell_type": "markdown",
   "metadata": {},
   "source": [
    "# Game Score Notebook"
   ]
  },
  {
   "cell_type": "markdown",
   "metadata": {},
   "source": [
    "## References and Links\n",
    "\n",
    "### All of these metrics were created and scaled to approximate a corilation to Points in a game. \n",
    "Inspired by this article I found about a metric that was developed in 2016, Dom Luszczyszyn which is intended to provide a single number that approximates a player’s performance in a given game. In that original story, he included the formula for the metric and how he arrived at it, so it’s inspired various adaptations since then.\n",
    "https://hockey-graphs.com/2016/07/13/measuring-single-game-productivity-an-introduction-to-game-score/\n",
    "\n",
    "The stats I used are goals, primary assists, secondary assists, shots on goal, blocked shots, penalty differential, faceoffs, 5-on-5 corsi differential, 5-on-5 goal differential.\n",
    "\n",
    "Player Game Score = (0.75 * G) + (0.7 * A1) + (0.55 * A2) + (0.075 * SOG) + (0.05 * BLK) + (0.15 * PD) – (0.15 * PT) + (0.01 * FOW) – (0.01 * FOL) + (0.05 * CF) – (0.05 * CA) + (0.15 * GF) – (0.15* GA)\n",
    "\n"
   ]
  },
  {
   "cell_type": "markdown",
   "metadata": {},
   "source": [
    "## Adjusted / Simplified\n",
    "- found on the blog frshice.substack.com\n",
    "- Bailey Johnson created her simplified version to work on college hockey data because not all of the factors (specifically the defensive portion of the Corsi Metric) is not track or is not available for NCAA games\n",
    "\n",
    "### Original\n",
    "For clarity’s sake, this was my original formula after removing stats I didn’t have access to from Dom’s: Player Game Score = (0.75*G)+(0.7*A1)+(0.55*A2)+(0.075*SOG)+(0.05*BLK)+(0.01*FOW)–(0.01*FOL)+(0.15*GF)–(0.15*GA)\n",
    "\n",
    "### Bailey Final\n",
    "- I also followed Shawn’s method from his NWHL game score work and used league-wide power-play percentage to weight the impact of taking a penalty.\n",
    "\n",
    "- Dom scaled his formula down 75% to make the game scores roughly equivalent to points so people would be familiar with what the game score represented, and I kept to that methodology here because I used some of the same weights he did. Also keep in mind that the goals for and goals against are just goals scored at even strength — it does not include special teams, empty-net or extra-attacker goals.\n",
    "\n",
    "Player Game Score = (G*0.75)+(A1*0.715)+(A2*0.555)+(SOG*0.075)+(BLK*0.05)+(FOW*0.01)-(FOL*0.01)+(GF*0.15)-(GA*0.15)-(PNT*0.138)\n",
    "\n",
    "### PNT*.138\n",
    "- FROM SOURCE: I took the frequency of powerplay goals to penalties, otherwise known as PP%. (https://hockey-graphs.com/2018/03/22/an-introduction-to-nwhl-game-score/)\n",
    "- this is her attempt to account for penalties - CHN NCAA stats don't include penalties drawn \n",
    "- PNT is penalties taken so I will want to grab the penalty incidents, not the minutes. \n",
    "- The 0.138 factor come from the league's power play percentage \n",
    "    - Want to use a static figure like overall average PP % for entire NCAA \n",
    "        - could update it to be dynamic and create a new average every time the data is called\n",
    "\n",
    "        - IDEA: Could create a custom factor for each team in each game \n",
    "            - teams power play effectiveness can vary greatly, as can a teams PK%\n",
    "            - Take the each teams previous success on PP or even on both PP and PK\n",
    "            - Compare to NCAA wide average\n",
    "            - get a factor that could be used and could scale the danger of taking a penalty based on how good the opponent is on PP or how poor your team is on PP\n"
   ]
  },
  {
   "cell_type": "code",
   "execution_count": 1,
   "metadata": {},
   "outputs": [],
   "source": [
    "## Blocking out the Game Score formula\n",
    "\n",
    "#### METRIC Formula\n",
    "# \n",
    "# METRIC = SCORE [ (Goals*0.75) + (Assist1*0.715) + (Assist2*0.555) ] \n",
    "#               + SHOTS [ (Shot_On_Net*0.075) + (Shots_Off_Net*0.075) - (Shots_Blocked*0.075) ]\n",
    "#               + FACEOFFS [ (Faceoff_Wins*0.01) - (Faceoff_Losses*0.01) ]\n",
    "#               + TEAM [ (Goals_For_Team*0.15) + (Goals_Against_Team*0.15) ]\n",
    "#               -  [ (Penalties_Taken * Overall_PP_Success_Rate) ]"
   ]
  },
  {
   "cell_type": "markdown",
   "metadata": {},
   "source": [
    "# Map to each factor in the Game_Stats Database\n",
    "\n",
    "## Calculating a Game Score for each player on each team for each game\n",
    "Each Game has a unique Game_ID column in every relevant table\n",
    "\n",
    "scoring_summary table\n",
    "    Goals - in scoring_summary - count of player's name in Player Column\n",
    "    Assist1 - scoring_summary - Count in Assist1\n",
    "    Assist2 - scoring_summary - Count in Assist2\n",
    "\n",
    "\n",
    "abdvanced_metrics_combined table\n",
    "    Shots_On_Net -  - EVEN_Saved + EVEN_Goals\n",
    "    Shots_Off_Net = EVENE_Miss\n",
    "    Shots_Blocked = EVEN_Block\n",
    "\n",
    "    Defensive_Blocks = D_Blocks\n",
    "\n",
    "player_stats\n",
    "    Faceoff_Wins = FO_W\n",
    "    Faceoff_Loses = FO_L\n",
    "\n",
    "### This takes into account team goals for and goals against but only counts Even strength goals in close games (+/- 1)\n",
    "- can get it from the advanced metrics combined\n",
    "\n",
    "advanced_metrics_\n",
    "    Goals_For_Team = SUM of CLOSE_Goals grouped by Team -NOTE\n",
    "#### NOTE- need to filter out any rows in the advanced_metrics_combined with player = 'TOTAL'\n",
    "    Goals_Against_Team - do the same but for the opposing team - if Game_ID matches and Team =/= the player's team\n",
    "\n",
    "penalty_summary\n",
    "    Penalties_Taken = Count of Player's name in \n",
    "\n"
   ]
  },
  {
   "cell_type": "code",
   "execution_count": 2,
   "metadata": {},
   "outputs": [],
   "source": [
    "\n",
    "import sqlite3\n",
    "import pandas as pd\n",
    "import numpy as np\n",
    "\n",
    "import sqlite3\n",
    "###########################\n",
    "##   CURRENT SEASON - 2023 ###\n",
    "\n",
    "db_path = '../TEMP/Nov_19_Current_YTD 13_Game_Stats.db'\n",
    "\n",
    "\n",
    "##############################\n",
    "##   SET SEASON TO PULL   ###`\n",
    "# \n",
    "# db_path ='../data/db/2022_Game_stats_Cleaned.db'\n",
    "\n",
    "\n",
    "#\n",
    "##############################\n",
    "\n",
    "conn = sqlite3.connect(db_path)\n",
    "\n",
    "# Connect to the provided database\n",
    "\n",
    "cursor = conn.cursor()\n",
    "\n",
    "# Retrieve the list of tables in the database\n",
    "tables = cursor.execute(\"SELECT name FROM sqlite_master WHERE type='table';\").fetchall()\n",
    "tables = [table[0] for table in tables]\n",
    "\n",
    "# Retrieve the columns from each table to get a better understanding of the data structure\n",
    "table_columns = {}\n",
    "for table in tables:\n",
    "    columns = cursor.execute(f\"PRAGMA table_info({table});\").fetchall()\n",
    "    table_columns[table] = [column[1] for column in columns]\n",
    "\n",
    "# table_columns\n",
    "\n",
    "\n",
    "# Create an empty dataframe to store the data\n",
    "compiled_df = pd.DataFrame()"
   ]
  },
  {
   "cell_type": "code",
   "execution_count": null,
   "metadata": {},
   "outputs": [],
   "source": []
  },
  {
   "cell_type": "markdown",
   "metadata": {},
   "source": [
    "## Get Shot Data"
   ]
  },
  {
   "cell_type": "code",
   "execution_count": 3,
   "metadata": {},
   "outputs": [],
   "source": [
    "# Update the code to clean the 'advanced_metrics_combined' table by removing 'TOTAL' rows\n",
    "\n",
    "# Load the 'advanced_metrics_combined' table into a DataFrame excluding 'TOTAL' rows\n",
    "df_amc = pd.read_sql(\"SELECT * FROM advanced_metrics WHERE player != 'TOTAL'\", conn)\n",
    "\n",
    "# Convert columns to numeric for calculations (replacing empty strings with 0)\n",
    "columns_to_convert = ['EVEN_Saved', 'EVEN_Goals', 'EVEN_Miss', 'EVEN_Block', 'D_Blocks']\n",
    "for col in columns_to_convert:\n",
    "    df_amc[col] = pd.to_numeric(df_amc[col].replace('', '0'))\n",
    "\n",
    "# Calculate required columns\n",
    "df_amc['Shots_On_Net'] = df_amc['EVEN_Saved'] + df_amc['EVEN_Goals']\n",
    "df_amc['Shots_Off_Net'] = df_amc['EVEN_Miss']\n",
    "df_amc['Shots_Blocked'] = df_amc['EVEN_Block']\n",
    "df_amc['Defensive_Blocks'] = df_amc['D_Blocks']\n",
    "\n",
    "# Create a DataFrame with only the desired columns\n",
    "# shots_df = df_amc[['Player', 'Team', 'Shots_On_Net', 'Shots_Off_Net', 'Shots_Blocked', 'Defensive_Blocks', 'Game_ID']]\n",
    "\n",
    "# Create a DataFrame with only the desired columns - LEAVE OFF TEAM AND TRY TO ADD IT LATER\n",
    "shots_df = df_amc[['Player', 'Team', 'Shots_On_Net', 'Shots_Off_Net', 'Shots_Blocked', 'Defensive_Blocks', 'Game_ID']]\n",
    "\n",
    "# Display the column names of the shots_df\n",
    "shots_df.columns\n",
    "\n",
    "shots_df.head(25)\n",
    "\n",
    "# Merge into the compiled_df\n",
    "compiled_df = shots_df.copy()\n",
    "\n",
    "# # Team Name Split\n",
    "# team_name_split = compiled_df['Game_ID'].str.split('-').str[-2:]\n",
    "# compiled_df['Temp_Team_1'] = team_name_split.str[0]\n",
    "# compiled_df['Temp_Team_2'] = team_name_split.str[1]\n",
    "\n",
    "# # If Home/Away is Away Then Team is Temp_Team_1\n",
    "# # If Home/Away is Home Then Team is Temp_Team_2\n",
    "# compiled_df['Team'] = np.where(compiled_df['Home/Away'] == 'Away', compiled_df['Temp_Team_1'], compiled_df['Temp_Team_2'])\n",
    "\n",
    "# # Drop Temp Columns\n",
    "# compiled_df.drop(['Temp_Team_1', 'Temp_Team_2'], axis=1, inplace=True)\n",
    "\n",
    "\n",
    "# compiled_df.head(45)\n",
    "\n",
    "## Output a CSV of the compiled_df for manual check\n",
    "# compiled_df.to_csv('../TEMP/compiled_df_1.csv', index=False)\n"
   ]
  },
  {
   "cell_type": "markdown",
   "metadata": {},
   "source": [
    "# Use Master_Roster To Get Player to Team Mapping"
   ]
  },
  {
   "cell_type": "code",
   "execution_count": 4,
   "metadata": {},
   "outputs": [],
   "source": [
    "# ## See column names from master_roster table\n",
    "# cursor.execute(\"SELECT * FROM master_roster\")\n",
    "# col_names = [description[0] for description in cursor.description]\n",
    "# col_names"
   ]
  },
  {
   "cell_type": "code",
   "execution_count": 5,
   "metadata": {},
   "outputs": [],
   "source": [
    "# # Extracting all the player names from the master_roster table\n",
    "# all_player_names_master_roster = set(pd.read_sql(\"SELECT Clean_Name FROM master_roster\", conn)['Clean_Name'])\n",
    "\n",
    "# # Finding the intersection of player names between compiled_df and master_roster\n",
    "# common_names = set(compiled_df['Player']).intersection(all_player_names_master_roster)\n",
    "\n",
    "# # Take out those annoying character if there are any\n",
    "# # Replace non-breaking spaces with regular spaces in the player names\n",
    "# compiled_df['Player'] = compiled_df['Player'].str.replace(u'\\xa0', u' ')\n",
    "\n",
    "\n",
    "# # Finding names in compiled_df that are not in master_roster\n",
    "# missing_names = set(compiled_df['Player']) - all_player_names_master_roster\n",
    "\n",
    "# len(common_names), len(missing_names), list(missing_names)[:10]  # Displaying the first 10 missing names\n"
   ]
  },
  {
   "cell_type": "code",
   "execution_count": 6,
   "metadata": {},
   "outputs": [],
   "source": [
    "# # Create a DataFrame with the missing names\n",
    "# missing_names_df = compiled_df[compiled_df['Player'].isin(missing_names)]\n",
    "\n",
    "# missing_names_df.head(25)\n",
    "\n",
    "# ## unique Game_IDs in the missing_names_df\n",
    "# missing_names_df['Game_ID'].nunique()"
   ]
  },
  {
   "cell_type": "code",
   "execution_count": null,
   "metadata": {},
   "outputs": [],
   "source": []
  },
  {
   "cell_type": "code",
   "execution_count": 7,
   "metadata": {},
   "outputs": [
    {
     "data": {
      "text/plain": [
       "0"
      ]
     },
     "execution_count": 7,
     "metadata": {},
     "output_type": "execute_result"
    }
   ],
   "source": [
    "## How many Nan Values are there in the Team Column?\n",
    "compiled_df['Team'].isna().sum()\n",
    "\n",
    "# Value Count of the Team Column\n",
    "# compiled_df['Team'].value_counts()"
   ]
  },
  {
   "cell_type": "markdown",
   "metadata": {},
   "source": [
    "# Get Goal, Assist1 and Assist2\n",
    "- Working"
   ]
  },
  {
   "cell_type": "code",
   "execution_count": 8,
   "metadata": {},
   "outputs": [
    {
     "name": "stdout",
     "output_type": "stream",
     "text": [
      "<class 'pandas.core.frame.DataFrame'>\n",
      "RangeIndex: 13357 entries, 0 to 13356\n",
      "Data columns (total 7 columns):\n",
      " #   Column            Non-Null Count  Dtype \n",
      "---  ------            --------------  ----- \n",
      " 0   Player            13357 non-null  object\n",
      " 1   Team              13357 non-null  object\n",
      " 2   Shots_On_Net      13357 non-null  int64 \n",
      " 3   Shots_Off_Net     13357 non-null  int64 \n",
      " 4   Shots_Blocked     13357 non-null  int64 \n",
      " 5   Defensive_Blocks  13357 non-null  int64 \n",
      " 6   Game_ID           13357 non-null  object\n",
      "dtypes: int64(4), object(3)\n",
      "memory usage: 730.6+ KB\n"
     ]
    }
   ],
   "source": [
    "# Separately calculate Goals, Assist1, and Assist2\n",
    "\n",
    "# Goals\n",
    "goals_df = pd.read_sql(\"\"\"\n",
    "SELECT \n",
    "    Player,\n",
    "    Game_ID,\n",
    "    COUNT(Player) AS Goals\n",
    "FROM \n",
    "    scoring_summary\n",
    "GROUP BY \n",
    "    Player, Game_ID;\n",
    "\"\"\", conn)\n",
    "\n",
    "# Assist1\n",
    "assist1_df = pd.read_sql(\"\"\"\n",
    "SELECT \n",
    "    Assist1 AS Player,\n",
    "    Game_ID,\n",
    "    COUNT(Assist1) AS Assist1\n",
    "FROM \n",
    "    scoring_summary\n",
    "WHERE \n",
    "    Assist1 IS NOT NULL AND Assist1 != ''\n",
    "GROUP BY \n",
    "    Assist1, Game_ID;\n",
    "\"\"\", conn)\n",
    "\n",
    "# Assist2\n",
    "assist2_df = pd.read_sql(\"\"\"\n",
    "SELECT \n",
    "    Assist2 AS Player,\n",
    "    Game_ID,\n",
    "    COUNT(Assist2) AS Assist2\n",
    "FROM \n",
    "    scoring_summary\n",
    "WHERE \n",
    "    Assist2 IS NOT NULL AND Assist2 != ''\n",
    "GROUP BY \n",
    "    Assist2, Game_ID;\n",
    "\"\"\", conn)\n",
    "\n",
    "\n",
    "# goals_df.head(25)\n",
    "# Merge the dataframes together\n",
    "merged_df = goals_df.merge(assist1_df, on=['Player', 'Game_ID'], how='outer')\n",
    "merged_df = merged_df.merge(assist2_df, on=['Player', 'Game_ID'], how='outer')\n",
    "\n",
    "# Fill NaN values with 0\n",
    "merged_df = merged_df.fillna(0)\n",
    "\n",
    "# Convert columns to int\n",
    "merged_df['Goals'] = merged_df['Goals'].astype(int)\n",
    "merged_df['Assist1'] = merged_df['Assist1'].astype(int)\n",
    "merged_df['Assist2'] = merged_df['Assist2'].astype(int)\n",
    "\n",
    "# # Sort by Player\n",
    "goal_assist_df = merged_df.sort_values(by=['Player'])\n",
    "\n",
    "# # Display the first few rows\n",
    "goal_assist_df.head(20)\n",
    "\n",
    "\n",
    "\n",
    "# # Merge the Goal and Assist info into the compiled_df join left\n",
    "# compiled_df = pd.merge(compiled_df, goal_assist_df, on=['Player', 'Game_ID'], how='outer')\n",
    "\n",
    "\n",
    "compiled_df.sample(10)\n",
    "compiled_df.info()\n",
    "\n",
    "\n",
    "\n",
    "# # Histogram of the compiled_df\n",
    "# compiled_df.hist()\n",
    "\n",
    "compiled_df.to_csv('../TEMP/compiled_df_2.csv', index=False)"
   ]
  },
  {
   "cell_type": "code",
   "execution_count": 9,
   "metadata": {},
   "outputs": [
    {
     "data": {
      "text/plain": [
       "0"
      ]
     },
     "execution_count": 9,
     "metadata": {},
     "output_type": "execute_result"
    }
   ],
   "source": [
    "## Value count of Teams\n",
    "compiled_df['Team'].value_counts()\n",
    "\n",
    "# How many Nan Values are there in the Team Column?\n",
    "compiled_df['Team'].isna().sum()"
   ]
  },
  {
   "cell_type": "code",
   "execution_count": 10,
   "metadata": {},
   "outputs": [
    {
     "name": "stdout",
     "output_type": "stream",
     "text": [
      "<class 'pandas.core.frame.DataFrame'>\n",
      "RangeIndex: 13357 entries, 0 to 13356\n",
      "Data columns (total 10 columns):\n",
      " #   Column            Non-Null Count  Dtype \n",
      "---  ------            --------------  ----- \n",
      " 0   Player            13357 non-null  object\n",
      " 1   Team              13357 non-null  object\n",
      " 2   Shots_On_Net      13357 non-null  int64 \n",
      " 3   Shots_Off_Net     13357 non-null  int64 \n",
      " 4   Shots_Blocked     13357 non-null  int64 \n",
      " 5   Defensive_Blocks  13357 non-null  int64 \n",
      " 6   Game_ID           13357 non-null  object\n",
      " 7   Goals             13357 non-null  int32 \n",
      " 8   Assist1           13357 non-null  int32 \n",
      " 9   Assist2           13357 non-null  int32 \n",
      "dtypes: int32(3), int64(4), object(3)\n",
      "memory usage: 887.1+ KB\n"
     ]
    }
   ],
   "source": [
    "# Replace non-breaking spaces with regular spaces in the Player column of compiled_df\n",
    "compiled_df['Player'] = compiled_df['Player'].str.replace('\\xa0', ' ')\n",
    "\n",
    "# Merge the dataframes again\n",
    "new_merged_df = pd.merge(compiled_df, goal_assist_df, on=['Player', 'Game_ID'], how='left')\n",
    "\n",
    "# Fill NaN values with 0 for the Goals, Assist1, and Assist2 columns\n",
    "new_merged_df[['Goals', 'Assist1', 'Assist2']] = new_merged_df[['Goals', 'Assist1', 'Assist2']].fillna(0).astype(int)\n",
    "\n",
    "# Display the first few rows of the merged dataframe\n",
    "merged_df.head()\n",
    "\n",
    "new_merged_df.info()\n",
    "\n",
    "# RENAME BACK TO COMPILED_DF FOR USE LATER\n",
    "compiled_df = new_merged_df.copy()\n",
    "\n",
    "# compiled_df.to_csv('../TEMP/compiled_df_3.csv', index=False)"
   ]
  },
  {
   "cell_type": "code",
   "execution_count": 11,
   "metadata": {},
   "outputs": [],
   "source": [
    "# # new_merged_df['Goals'].hist()\n",
    "\n",
    "# new_merged_df.head(20)\n",
    "\n",
    "# compiled_df.head(20)\n",
    "# Value Counts of Teams\n",
    "# compiled_df['Team'].value_counts()\n",
    "\n",
    "# How many Nan values are in the Team column?\n",
    "# compiled_df['Team'].isna().sum()\n",
    "\n",
    "# "
   ]
  },
  {
   "cell_type": "code",
   "execution_count": 12,
   "metadata": {},
   "outputs": [],
   "source": [
    "### OUTPUT CSVS\n",
    "\n",
    "# # Save the compiled_df to a csv\n",
    "# compiled_df.to_csv('../TEMP/PRELIM_compiled_df.csv', index=False)\n",
    "\n",
    "# # Save the goal_assist_df to a csv\n",
    "# goal_assist_df.to_csv('../TEMP/PRELIM_goal_assist_df.csv', index=False)"
   ]
  },
  {
   "cell_type": "code",
   "execution_count": 13,
   "metadata": {},
   "outputs": [
    {
     "name": "stdout",
     "output_type": "stream",
     "text": [
      "<class 'pandas.core.frame.DataFrame'>\n",
      "RangeIndex: 14132 entries, 0 to 14131\n",
      "Data columns (total 13 columns):\n",
      " #   Column            Non-Null Count  Dtype   \n",
      "---  ------            --------------  -----   \n",
      " 0   Player            14132 non-null  object  \n",
      " 1   Team              13357 non-null  object  \n",
      " 2   Shots_On_Net      13357 non-null  float64 \n",
      " 3   Shots_Off_Net     13357 non-null  float64 \n",
      " 4   Shots_Blocked     13357 non-null  float64 \n",
      " 5   Defensive_Blocks  13357 non-null  float64 \n",
      " 6   Game_ID           14132 non-null  object  \n",
      " 7   Goals             13357 non-null  float64 \n",
      " 8   Assist1           13357 non-null  float64 \n",
      " 9   Assist2           13357 non-null  float64 \n",
      " 10  Faceoff_Wins      4240 non-null   float64 \n",
      " 11  Faceoff_Losses    4240 non-null   float64 \n",
      " 12  _merge            14132 non-null  category\n",
      "dtypes: category(1), float64(9), object(3)\n",
      "memory usage: 1.3+ MB\n"
     ]
    },
    {
     "data": {
      "text/plain": [
       "Team\n",
       "Air Force         264\n",
       "Michigan State    264\n",
       "Michigan          263\n",
       "Anchorage         262\n",
       "Connecticut       261\n",
       "                 ... \n",
       "Brown             151\n",
       "Yale              130\n",
       "Princeton         114\n",
       "Dartmouth         110\n",
       "Harvard            95\n",
       "Name: count, Length: 64, dtype: int64"
      ]
     },
     "execution_count": 13,
     "metadata": {},
     "output_type": "execute_result"
    },
    {
     "data": {
      "image/png": "[encoded data removed]",
      "text/plain": [
       "<Figure size 640x480 with 9 Axes>"
      ]
     },
     "metadata": {},
     "output_type": "display_data"
    }
   ],
   "source": [
    "# Calculate Faceoff Metrics for each player in each game\n",
    "\n",
    "query_faceoff_metrics = \"\"\"\n",
    "SELECT \n",
    "    Player,\n",
    "    Game_ID,\n",
    "    FOW AS Faceoff_Wins,\n",
    "    FOL AS Faceoff_Losses\n",
    "FROM \n",
    "    player_stats;\n",
    "\"\"\"\n",
    "\n",
    "# Create a DataFrame with the results\n",
    "\n",
    "\n",
    "\n",
    "faceoff_metrics_data = cursor.execute(query_faceoff_metrics).fetchall()\n",
    "\n",
    "# Preview the first few rows of the result\n",
    "faceoff_metrics_data[:5]\n",
    "\n",
    "# Create DataFrame with the results\n",
    "faceoff_metrics_df = pd.DataFrame(faceoff_metrics_data, columns=['Player', 'Game_ID', 'Faceoff_Wins', 'Faceoff_Losses'])\n",
    "\n",
    "# Take out those annoying character if there are any\n",
    "# Replace non-breaking spaces with regular spaces in the Player column of compiled_df\n",
    "faceoff_metrics_df['Player'] = faceoff_metrics_df['Player'].str.replace('\\xa0', ' ')\n",
    "\n",
    "# Replace non-breaking spaces with regular spaces in the Player column of compiled_df\n",
    "compiled_df['Team'] = compiled_df['Team'].str.replace('\\xa0', ' ')\n",
    "\n",
    "# Drop old indicator column to make way for new one\n",
    "# compiled_df = compiled_df.drop(columns=['_merge'])\n",
    "compiled_df = compiled_df.merge(faceoff_metrics_df, on=['Player', 'Game_ID'], how='outer', indicator=True)\n",
    "\n",
    "# Histogram of the compiled_df\n",
    "compiled_df.hist()\n",
    "\n",
    "compiled_df.info()\n",
    "compiled_df.head(25)\n",
    "\n",
    "# compiled_df.columns\n",
    "\n",
    "compiled_df['Team'].value_counts()\n",
    "\n",
    "# compiled_df.to_csv('../TEMP/compiled_df_4.csv', index=False)\n",
    "\n",
    "# compiled_df['Team'].isna().sum()"
   ]
  },
  {
   "cell_type": "markdown",
   "metadata": {},
   "source": [
    "### Overall PP Success"
   ]
  },
  {
   "cell_type": "code",
   "execution_count": 14,
   "metadata": {},
   "outputs": [
    {
     "data": {
      "text/plain": [
       "0.2542319749216301"
      ]
     },
     "execution_count": 14,
     "metadata": {},
     "output_type": "execute_result"
    }
   ],
   "source": [
    "### Find the Overall Power Play Success rate for the entire database\n",
    "\n",
    "# Count the total number of Power Play (PP) goals from the scoring_summary table.\n",
    "pp_goals_count = cursor.execute(\"SELECT COUNT(*) FROM scoring_summary WHERE PP != '';\").fetchone()[0]\n",
    "\n",
    "# Count the total number of Power Plays from the penalty_summary table.\n",
    "total_pp_count = cursor.execute(\"SELECT COUNT(*) FROM penalty_summary;\").fetchone()[0]\n",
    "\n",
    "# Calculate the Power Play success rate.\n",
    "pp_success_rate = pp_goals_count / total_pp_count\n",
    "\n",
    "\n",
    "## OVERALL NCAA WIDE POWER PLAY SUCCESS RATE TO USE IN FACTOR\n",
    "pp_success_rate\n"
   ]
  },
  {
   "cell_type": "code",
   "execution_count": 15,
   "metadata": {},
   "outputs": [
    {
     "data": {
      "text/plain": [
       "775"
      ]
     },
     "execution_count": 15,
     "metadata": {},
     "output_type": "execute_result"
    }
   ],
   "source": [
    "# even_strength_goals_refined_df.shape\n",
    "\n",
    "# Drop indicator column before new merge\n",
    "compiled_df = compiled_df.drop(columns=['_merge'])\n",
    "\n",
    "\n",
    "\n",
    "\n",
    "\n",
    "# # Save the compiled_df to a csv\n",
    "# compiled_df.to_csv('../TEMP/NEW_PRELIM_compiled_df.csv', index=False)\n",
    "\n",
    "compiled_df['Team'].value_counts()\n",
    "\n",
    "compiled_df['Team'].isna().sum()\n",
    "\n",
    "# compiled_df.sample(20)"
   ]
  },
  {
   "cell_type": "markdown",
   "metadata": {},
   "source": [
    "# Team Goals Component"
   ]
  },
  {
   "cell_type": "markdown",
   "metadata": {},
   "source": []
  },
  {
   "cell_type": "code",
   "execution_count": 16,
   "metadata": {},
   "outputs": [
    {
     "data": {
      "text/html": [
       "<div>\n",
       "<style scoped>\n",
       "    .dataframe tbody tr th:only-of-type {\n",
       "        vertical-align: middle;\n",
       "    }\n",
       "\n",
       "    .dataframe tbody tr th {\n",
       "        vertical-align: top;\n",
       "    }\n",
       "\n",
       "    .dataframe thead th {\n",
       "        text-align: right;\n",
       "    }\n",
       "</style>\n",
       "<table border=\"1\" class=\"dataframe\">\n",
       "  <thead>\n",
       "    <tr style=\"text-align: right;\">\n",
       "      <th></th>\n",
       "      <th>Game_ID</th>\n",
       "      <th>Team</th>\n",
       "      <th>Goals_For_Team</th>\n",
       "      <th>Goals_Against_Team</th>\n",
       "    </tr>\n",
       "  </thead>\n",
       "  <tbody>\n",
       "    <tr>\n",
       "      <th>653</th>\n",
       "      <td>2023-11-04-Alaska-Anchorage-Alaska</td>\n",
       "      <td>Alaska</td>\n",
       "      <td>2</td>\n",
       "      <td>1</td>\n",
       "    </tr>\n",
       "    <tr>\n",
       "      <th>525</th>\n",
       "      <td>2023-10-28-Merrimack-Northeastern</td>\n",
       "      <td>Merrimack</td>\n",
       "      <td>3</td>\n",
       "      <td>1</td>\n",
       "    </tr>\n",
       "    <tr>\n",
       "      <th>76</th>\n",
       "      <td>2023-10-08-Lindenwood-Air Force</td>\n",
       "      <td>Lindenwood</td>\n",
       "      <td>1</td>\n",
       "      <td>2</td>\n",
       "    </tr>\n",
       "    <tr>\n",
       "      <th>862</th>\n",
       "      <td>2023-11-11-Canisius-Sacred Heart</td>\n",
       "      <td>Sacred Heart</td>\n",
       "      <td>2</td>\n",
       "      <td>1</td>\n",
       "    </tr>\n",
       "    <tr>\n",
       "      <th>670</th>\n",
       "      <td>2023-11-04-Connecticut-Vermont</td>\n",
       "      <td>Vermont</td>\n",
       "      <td>2</td>\n",
       "      <td>2</td>\n",
       "    </tr>\n",
       "    <tr>\n",
       "      <th>688</th>\n",
       "      <td>2023-11-04-Michigan State-Ohio State</td>\n",
       "      <td>Michigan State</td>\n",
       "      <td>4</td>\n",
       "      <td>2</td>\n",
       "    </tr>\n",
       "    <tr>\n",
       "      <th>783</th>\n",
       "      <td>2023-11-10-Lake Superior-Northern Michigan</td>\n",
       "      <td>Lake Superior</td>\n",
       "      <td>2</td>\n",
       "      <td>4</td>\n",
       "    </tr>\n",
       "    <tr>\n",
       "      <th>1044</th>\n",
       "      <td>2023-11-18-Colgate-Quinnipiac</td>\n",
       "      <td>Colgate</td>\n",
       "      <td>2</td>\n",
       "      <td>5</td>\n",
       "    </tr>\n",
       "    <tr>\n",
       "      <th>834</th>\n",
       "      <td>2023-11-10-St. Cloud State-Western Michigan</td>\n",
       "      <td>Western Michigan</td>\n",
       "      <td>2</td>\n",
       "      <td>3</td>\n",
       "    </tr>\n",
       "    <tr>\n",
       "      <th>689</th>\n",
       "      <td>2023-11-04-Michigan State-Ohio State</td>\n",
       "      <td>Ohio State</td>\n",
       "      <td>2</td>\n",
       "      <td>4</td>\n",
       "    </tr>\n",
       "    <tr>\n",
       "      <th>720</th>\n",
       "      <td>2023-11-04-Stonehill-Arizona State</td>\n",
       "      <td>Stonehill</td>\n",
       "      <td>1</td>\n",
       "      <td>1</td>\n",
       "    </tr>\n",
       "    <tr>\n",
       "      <th>423</th>\n",
       "      <td>2023-10-27-Arizona State-Miami</td>\n",
       "      <td>Miami</td>\n",
       "      <td>2</td>\n",
       "      <td>3</td>\n",
       "    </tr>\n",
       "    <tr>\n",
       "      <th>1005</th>\n",
       "      <td>2023-11-17-Penn State-Michigan</td>\n",
       "      <td>Penn State</td>\n",
       "      <td>3</td>\n",
       "      <td>2</td>\n",
       "    </tr>\n",
       "    <tr>\n",
       "      <th>411</th>\n",
       "      <td>2023-10-26-Northeastern-New Hampshire</td>\n",
       "      <td>New Hampshire</td>\n",
       "      <td>1</td>\n",
       "      <td>4</td>\n",
       "    </tr>\n",
       "    <tr>\n",
       "      <th>799</th>\n",
       "      <td>2023-11-10-Michigan Tech-Bemidji State</td>\n",
       "      <td>Michigan Tech</td>\n",
       "      <td>1</td>\n",
       "      <td>2</td>\n",
       "    </tr>\n",
       "    <tr>\n",
       "      <th>1027</th>\n",
       "      <td>2023-11-18-Bemidji State-Minnesota State</td>\n",
       "      <td>Bemidji State</td>\n",
       "      <td>6</td>\n",
       "      <td>4</td>\n",
       "    </tr>\n",
       "    <tr>\n",
       "      <th>636</th>\n",
       "      <td>2023-11-03-St. Lawrence-Ferris State</td>\n",
       "      <td>St. Lawrence</td>\n",
       "      <td>1</td>\n",
       "      <td>4</td>\n",
       "    </tr>\n",
       "    <tr>\n",
       "      <th>933</th>\n",
       "      <td>2023-11-11-Yale-Quinnipiac</td>\n",
       "      <td>Yale</td>\n",
       "      <td>3</td>\n",
       "      <td>1</td>\n",
       "    </tr>\n",
       "    <tr>\n",
       "      <th>180</th>\n",
       "      <td>2023-10-14-Alaska-Anchorage-Lake Superior</td>\n",
       "      <td>Lake Superior</td>\n",
       "      <td>1</td>\n",
       "      <td>2</td>\n",
       "    </tr>\n",
       "    <tr>\n",
       "      <th>608</th>\n",
       "      <td>2023-11-03-Minnesota-Duluth-Minnesota</td>\n",
       "      <td>Minnesota</td>\n",
       "      <td>4</td>\n",
       "      <td>1</td>\n",
       "    </tr>\n",
       "    <tr>\n",
       "      <th>1063</th>\n",
       "      <td>2023-11-18-Merrimack-Mass.-Lowell</td>\n",
       "      <td>Lowell</td>\n",
       "      <td>2</td>\n",
       "      <td>2</td>\n",
       "    </tr>\n",
       "    <tr>\n",
       "      <th>300</th>\n",
       "      <td>2023-10-20-Northern Michigan-Arizona State</td>\n",
       "      <td>Northern Michigan</td>\n",
       "      <td>2</td>\n",
       "      <td>1</td>\n",
       "    </tr>\n",
       "    <tr>\n",
       "      <th>202</th>\n",
       "      <td>2023-10-14-Colgate-Sacred Heart</td>\n",
       "      <td>Sacred Heart</td>\n",
       "      <td>1</td>\n",
       "      <td>5</td>\n",
       "    </tr>\n",
       "    <tr>\n",
       "      <th>854</th>\n",
       "      <td>2023-11-11-Boston College-Maine</td>\n",
       "      <td>Maine</td>\n",
       "      <td>1</td>\n",
       "      <td>2</td>\n",
       "    </tr>\n",
       "    <tr>\n",
       "      <th>454</th>\n",
       "      <td>2023-10-27-Massachusetts-Boston University</td>\n",
       "      <td>Boston University</td>\n",
       "      <td>2</td>\n",
       "      <td>2</td>\n",
       "    </tr>\n",
       "  </tbody>\n",
       "</table>\n",
       "</div>"
      ],
      "text/plain": [
       "                                          Game_ID               Team  \\\n",
       "653            2023-11-04-Alaska-Anchorage-Alaska             Alaska   \n",
       "525             2023-10-28-Merrimack-Northeastern          Merrimack   \n",
       "76                2023-10-08-Lindenwood-Air Force         Lindenwood   \n",
       "862              2023-11-11-Canisius-Sacred Heart       Sacred Heart   \n",
       "670                2023-11-04-Connecticut-Vermont            Vermont   \n",
       "688          2023-11-04-Michigan State-Ohio State     Michigan State   \n",
       "783    2023-11-10-Lake Superior-Northern Michigan      Lake Superior   \n",
       "1044                2023-11-18-Colgate-Quinnipiac            Colgate   \n",
       "834   2023-11-10-St. Cloud State-Western Michigan   Western Michigan   \n",
       "689          2023-11-04-Michigan State-Ohio State         Ohio State   \n",
       "720            2023-11-04-Stonehill-Arizona State          Stonehill   \n",
       "423                2023-10-27-Arizona State-Miami              Miami   \n",
       "1005               2023-11-17-Penn State-Michigan         Penn State   \n",
       "411         2023-10-26-Northeastern-New Hampshire      New Hampshire   \n",
       "799        2023-11-10-Michigan Tech-Bemidji State      Michigan Tech   \n",
       "1027     2023-11-18-Bemidji State-Minnesota State      Bemidji State   \n",
       "636          2023-11-03-St. Lawrence-Ferris State       St. Lawrence   \n",
       "933                    2023-11-11-Yale-Quinnipiac               Yale   \n",
       "180     2023-10-14-Alaska-Anchorage-Lake Superior      Lake Superior   \n",
       "608         2023-11-03-Minnesota-Duluth-Minnesota          Minnesota   \n",
       "1063            2023-11-18-Merrimack-Mass.-Lowell             Lowell   \n",
       "300    2023-10-20-Northern Michigan-Arizona State  Northern Michigan   \n",
       "202               2023-10-14-Colgate-Sacred Heart       Sacred Heart   \n",
       "854               2023-11-11-Boston College-Maine              Maine   \n",
       "454    2023-10-27-Massachusetts-Boston University  Boston University   \n",
       "\n",
       "      Goals_For_Team  Goals_Against_Team  \n",
       "653                2                   1  \n",
       "525                3                   1  \n",
       "76                 1                   2  \n",
       "862                2                   1  \n",
       "670                2                   2  \n",
       "688                4                   2  \n",
       "783                2                   4  \n",
       "1044               2                   5  \n",
       "834                2                   3  \n",
       "689                2                   4  \n",
       "720                1                   1  \n",
       "423                2                   3  \n",
       "1005               3                   2  \n",
       "411                1                   4  \n",
       "799                1                   2  \n",
       "1027               6                   4  \n",
       "636                1                   4  \n",
       "933                3                   1  \n",
       "180                1                   2  \n",
       "608                4                   1  \n",
       "1063               2                   2  \n",
       "300                2                   1  \n",
       "202                1                   5  \n",
       "854                1                   2  \n",
       "454                2                   2  "
      ]
     },
     "execution_count": 16,
     "metadata": {},
     "output_type": "execute_result"
    }
   ],
   "source": [
    "## Get the Team_Goals_For and Team_Goals_Against for each player in each game\n",
    "## Only include EVEN_STRENGTH goals\n",
    "## Access the EVEN_STRENGTH goals advanced_metrics_combined table from the TOTAL row from each team and apply it to each player in the game\n",
    "## EVEN Strength goals for the team should be stored in 'Goals_For_Team' and the opponent's EVEN Strength goals should be stored in 'Goals_Against_Team'\n",
    "\n",
    "# Extracting EVEN_STRENGTH goals (where PP column is blank) for each team\n",
    "even_strength_goals_query_refined = \"\"\"\n",
    "SELECT \n",
    "    Game_ID,\n",
    "    Team,\n",
    "    COUNT(*) AS Goals_For_Team\n",
    "FROM \n",
    "    scoring_summary\n",
    "WHERE \n",
    "    PP = ''\n",
    "GROUP BY \n",
    "    Game_ID, Team\n",
    "\"\"\"\n",
    "\n",
    "even_strength_goals_refined_df = pd.read_sql(even_strength_goals_query_refined, conn)\n",
    "\n",
    "# Correct the values in the Team column so we can effectively join the dataframes\n",
    "\n",
    "# Create a new column for the row number grouped by Game_ID\n",
    "even_strength_goals_refined_df['row_number'] = even_strength_goals_refined_df.groupby('Game_ID').cumcount() + 1\n",
    "\n",
    "# Function to assign the correct team name based on the row number\n",
    "def assign_team_name(row):\n",
    "    return row['Team_1'] if row['row_number'] == 1 else row['Team_2']\n",
    "\n",
    "# Splitting the Game_ID column again to extract team names\n",
    "team_names_split = even_strength_goals_refined_df['Game_ID'].str.split('-').str[-2:]\n",
    "even_strength_goals_refined_df['Team_1'] = team_names_split.str[0]\n",
    "even_strength_goals_refined_df['Team_2'] = team_names_split.str[1]\n",
    "\n",
    "# Applying the function to assign the correct team name\n",
    "even_strength_goals_refined_df['Team'] = even_strength_goals_refined_df.apply(assign_team_name, axis=1)\n",
    "\n",
    "# Dropping the extra columns again\n",
    "even_strength_goals_refined_df.drop(columns=['Team_1', 'Team_2', 'row_number'], inplace=True)\n",
    "\n",
    "# Creating a new column 'Opponent_Goals' which will be used to determine the goals against each team\n",
    "even_strength_goals_refined_df = even_strength_goals_refined_df.merge(\n",
    "    even_strength_goals_refined_df[['Game_ID', 'Team', 'Goals_For_Team']], \n",
    "    on='Game_ID',\n",
    "    suffixes=('', '_Opponent')\n",
    ")\n",
    "\n",
    "# Filtering out rows where Team is the same as the opponent team\n",
    "even_strength_goals_refined_df = even_strength_goals_refined_df[even_strength_goals_refined_df['Team'] != even_strength_goals_refined_df['Team_Opponent']]\n",
    "\n",
    "# Assigning the 'Goals_For_Team_Opponent' to a new column 'Goals_Against_Team'\n",
    "even_strength_goals_refined_df['Goals_Against_Team'] = even_strength_goals_refined_df['Goals_For_Team_Opponent']\n",
    "\n",
    "# Dropping unnecessary columns\n",
    "even_strength_goals_refined_df.drop(columns=['Team_Opponent', 'Goals_For_Team_Opponent'], inplace=True)\n",
    "\n",
    "even_strength_goals_refined_df.head(25)\n",
    "\n",
    "# Take out those annoying character if there are any\n",
    "# Replace non-breaking spaces with regular spaces in the Player column of compiled_df\n",
    "even_strength_goals_refined_df['Team'] = even_strength_goals_refined_df['Team'].str.replace('\\xa0', ' ')\n",
    "\n",
    "## SAVE A CSV \n",
    "# even_strength_goals_refined_df.to_csv('../TEMP/NEW_PRELIM_even_strength_goals_refined_df.csv', index=False)\n",
    "\n",
    "# # Displaying the dataframe with the newly computed 'Goals_Against_Team' values\n",
    "even_strength_goals_refined_df.sample(25)\n",
    "\n",
    "\n",
    "# # print(compiled_df.shape)\n"
   ]
  },
  {
   "cell_type": "code",
   "execution_count": 17,
   "metadata": {},
   "outputs": [
    {
     "data": {
      "text/html": [
       "<div>\n",
       "<style scoped>\n",
       "    .dataframe tbody tr th:only-of-type {\n",
       "        vertical-align: middle;\n",
       "    }\n",
       "\n",
       "    .dataframe tbody tr th {\n",
       "        vertical-align: top;\n",
       "    }\n",
       "\n",
       "    .dataframe thead th {\n",
       "        text-align: right;\n",
       "    }\n",
       "</style>\n",
       "<table border=\"1\" class=\"dataframe\">\n",
       "  <thead>\n",
       "    <tr style=\"text-align: right;\">\n",
       "      <th></th>\n",
       "      <th>Player</th>\n",
       "      <th>Team</th>\n",
       "      <th>Shots_On_Net</th>\n",
       "      <th>Shots_Off_Net</th>\n",
       "      <th>Shots_Blocked</th>\n",
       "      <th>Defensive_Blocks</th>\n",
       "      <th>Game_ID</th>\n",
       "      <th>Goals</th>\n",
       "      <th>Assist1</th>\n",
       "      <th>Assist2</th>\n",
       "      <th>Faceoff_Wins</th>\n",
       "      <th>Faceoff_Losses</th>\n",
       "      <th>Goals_For_Team</th>\n",
       "      <th>Goals_Against_Team</th>\n",
       "    </tr>\n",
       "  </thead>\n",
       "  <tbody>\n",
       "    <tr>\n",
       "      <th>0</th>\n",
       "      <td>Harrison Roy</td>\n",
       "      <td>Lake Superior</td>\n",
       "      <td>1.0</td>\n",
       "      <td>2.0</td>\n",
       "      <td>1.0</td>\n",
       "      <td>0.0</td>\n",
       "      <td>2023-10-07-Lake Superior-Michigan State</td>\n",
       "      <td>1.0</td>\n",
       "      <td>0.0</td>\n",
       "      <td>0.0</td>\n",
       "      <td>4.0</td>\n",
       "      <td>15.0</td>\n",
       "      <td>1.0</td>\n",
       "      <td>4.0</td>\n",
       "    </tr>\n",
       "    <tr>\n",
       "      <th>1</th>\n",
       "      <td>Artyom Borshyov</td>\n",
       "      <td>Lake Superior</td>\n",
       "      <td>2.0</td>\n",
       "      <td>1.0</td>\n",
       "      <td>1.0</td>\n",
       "      <td>0.0</td>\n",
       "      <td>2023-10-07-Lake Superior-Michigan State</td>\n",
       "      <td>0.0</td>\n",
       "      <td>0.0</td>\n",
       "      <td>0.0</td>\n",
       "      <td>NaN</td>\n",
       "      <td>NaN</td>\n",
       "      <td>1.0</td>\n",
       "      <td>4.0</td>\n",
       "    </tr>\n",
       "    <tr>\n",
       "      <th>2</th>\n",
       "      <td>John Herrington</td>\n",
       "      <td>Lake Superior</td>\n",
       "      <td>4.0</td>\n",
       "      <td>0.0</td>\n",
       "      <td>0.0</td>\n",
       "      <td>0.0</td>\n",
       "      <td>2023-10-07-Lake Superior-Michigan State</td>\n",
       "      <td>0.0</td>\n",
       "      <td>0.0</td>\n",
       "      <td>0.0</td>\n",
       "      <td>NaN</td>\n",
       "      <td>NaN</td>\n",
       "      <td>1.0</td>\n",
       "      <td>4.0</td>\n",
       "    </tr>\n",
       "    <tr>\n",
       "      <th>3</th>\n",
       "      <td>Tyler Williams</td>\n",
       "      <td>Lake Superior</td>\n",
       "      <td>4.0</td>\n",
       "      <td>0.0</td>\n",
       "      <td>0.0</td>\n",
       "      <td>0.0</td>\n",
       "      <td>2023-10-07-Lake Superior-Michigan State</td>\n",
       "      <td>1.0</td>\n",
       "      <td>0.0</td>\n",
       "      <td>0.0</td>\n",
       "      <td>NaN</td>\n",
       "      <td>NaN</td>\n",
       "      <td>1.0</td>\n",
       "      <td>4.0</td>\n",
       "    </tr>\n",
       "    <tr>\n",
       "      <th>4</th>\n",
       "      <td>Sasha Teleguine</td>\n",
       "      <td>Lake Superior</td>\n",
       "      <td>0.0</td>\n",
       "      <td>1.0</td>\n",
       "      <td>2.0</td>\n",
       "      <td>2.0</td>\n",
       "      <td>2023-10-07-Lake Superior-Michigan State</td>\n",
       "      <td>0.0</td>\n",
       "      <td>0.0</td>\n",
       "      <td>0.0</td>\n",
       "      <td>NaN</td>\n",
       "      <td>NaN</td>\n",
       "      <td>1.0</td>\n",
       "      <td>4.0</td>\n",
       "    </tr>\n",
       "    <tr>\n",
       "      <th>5</th>\n",
       "      <td>Grant Hindman</td>\n",
       "      <td>Lake Superior</td>\n",
       "      <td>2.0</td>\n",
       "      <td>1.0</td>\n",
       "      <td>0.0</td>\n",
       "      <td>2.0</td>\n",
       "      <td>2023-10-07-Lake Superior-Michigan State</td>\n",
       "      <td>0.0</td>\n",
       "      <td>0.0</td>\n",
       "      <td>0.0</td>\n",
       "      <td>NaN</td>\n",
       "      <td>NaN</td>\n",
       "      <td>1.0</td>\n",
       "      <td>4.0</td>\n",
       "    </tr>\n",
       "    <tr>\n",
       "      <th>6</th>\n",
       "      <td>Reagan Milburn</td>\n",
       "      <td>Lake Superior</td>\n",
       "      <td>1.0</td>\n",
       "      <td>1.0</td>\n",
       "      <td>0.0</td>\n",
       "      <td>0.0</td>\n",
       "      <td>2023-10-07-Lake Superior-Michigan State</td>\n",
       "      <td>0.0</td>\n",
       "      <td>0.0</td>\n",
       "      <td>0.0</td>\n",
       "      <td>NaN</td>\n",
       "      <td>NaN</td>\n",
       "      <td>1.0</td>\n",
       "      <td>4.0</td>\n",
       "    </tr>\n",
       "    <tr>\n",
       "      <th>7</th>\n",
       "      <td>Nate Schweitzer</td>\n",
       "      <td>Lake Superior</td>\n",
       "      <td>3.0</td>\n",
       "      <td>0.0</td>\n",
       "      <td>0.0</td>\n",
       "      <td>0.0</td>\n",
       "      <td>2023-10-07-Lake Superior-Michigan State</td>\n",
       "      <td>0.0</td>\n",
       "      <td>0.0</td>\n",
       "      <td>0.0</td>\n",
       "      <td>NaN</td>\n",
       "      <td>NaN</td>\n",
       "      <td>1.0</td>\n",
       "      <td>4.0</td>\n",
       "    </tr>\n",
       "    <tr>\n",
       "      <th>8</th>\n",
       "      <td>Carter Batchelder</td>\n",
       "      <td>Lake Superior</td>\n",
       "      <td>2.0</td>\n",
       "      <td>0.0</td>\n",
       "      <td>0.0</td>\n",
       "      <td>1.0</td>\n",
       "      <td>2023-10-07-Lake Superior-Michigan State</td>\n",
       "      <td>0.0</td>\n",
       "      <td>0.0</td>\n",
       "      <td>1.0</td>\n",
       "      <td>3.0</td>\n",
       "      <td>3.0</td>\n",
       "      <td>1.0</td>\n",
       "      <td>4.0</td>\n",
       "    </tr>\n",
       "    <tr>\n",
       "      <th>9</th>\n",
       "      <td>Evan Bushy</td>\n",
       "      <td>Lake Superior</td>\n",
       "      <td>2.0</td>\n",
       "      <td>0.0</td>\n",
       "      <td>0.0</td>\n",
       "      <td>0.0</td>\n",
       "      <td>2023-10-07-Lake Superior-Michigan State</td>\n",
       "      <td>0.0</td>\n",
       "      <td>0.0</td>\n",
       "      <td>0.0</td>\n",
       "      <td>0.0</td>\n",
       "      <td>1.0</td>\n",
       "      <td>1.0</td>\n",
       "      <td>4.0</td>\n",
       "    </tr>\n",
       "    <tr>\n",
       "      <th>10</th>\n",
       "      <td>Dawson Tritt</td>\n",
       "      <td>Lake Superior</td>\n",
       "      <td>1.0</td>\n",
       "      <td>0.0</td>\n",
       "      <td>0.0</td>\n",
       "      <td>1.0</td>\n",
       "      <td>2023-10-07-Lake Superior-Michigan State</td>\n",
       "      <td>0.0</td>\n",
       "      <td>0.0</td>\n",
       "      <td>0.0</td>\n",
       "      <td>7.0</td>\n",
       "      <td>10.0</td>\n",
       "      <td>1.0</td>\n",
       "      <td>4.0</td>\n",
       "    </tr>\n",
       "    <tr>\n",
       "      <th>11</th>\n",
       "      <td>Connor Milburn</td>\n",
       "      <td>Lake Superior</td>\n",
       "      <td>1.0</td>\n",
       "      <td>0.0</td>\n",
       "      <td>0.0</td>\n",
       "      <td>0.0</td>\n",
       "      <td>2023-10-07-Lake Superior-Michigan State</td>\n",
       "      <td>0.0</td>\n",
       "      <td>0.0</td>\n",
       "      <td>0.0</td>\n",
       "      <td>6.0</td>\n",
       "      <td>10.0</td>\n",
       "      <td>1.0</td>\n",
       "      <td>4.0</td>\n",
       "    </tr>\n",
       "    <tr>\n",
       "      <th>12</th>\n",
       "      <td>Jordan Venegoni</td>\n",
       "      <td>Lake Superior</td>\n",
       "      <td>1.0</td>\n",
       "      <td>0.0</td>\n",
       "      <td>0.0</td>\n",
       "      <td>1.0</td>\n",
       "      <td>2023-10-07-Lake Superior-Michigan State</td>\n",
       "      <td>0.0</td>\n",
       "      <td>0.0</td>\n",
       "      <td>0.0</td>\n",
       "      <td>NaN</td>\n",
       "      <td>NaN</td>\n",
       "      <td>1.0</td>\n",
       "      <td>4.0</td>\n",
       "    </tr>\n",
       "    <tr>\n",
       "      <th>13</th>\n",
       "      <td>Timo Bakos</td>\n",
       "      <td>Lake Superior</td>\n",
       "      <td>1.0</td>\n",
       "      <td>0.0</td>\n",
       "      <td>0.0</td>\n",
       "      <td>1.0</td>\n",
       "      <td>2023-10-07-Lake Superior-Michigan State</td>\n",
       "      <td>0.0</td>\n",
       "      <td>1.0</td>\n",
       "      <td>0.0</td>\n",
       "      <td>0.0</td>\n",
       "      <td>4.0</td>\n",
       "      <td>1.0</td>\n",
       "      <td>4.0</td>\n",
       "    </tr>\n",
       "    <tr>\n",
       "      <th>14</th>\n",
       "      <td>Cam Kungle</td>\n",
       "      <td>Lake Superior</td>\n",
       "      <td>1.0</td>\n",
       "      <td>0.0</td>\n",
       "      <td>0.0</td>\n",
       "      <td>0.0</td>\n",
       "      <td>2023-10-07-Lake Superior-Michigan State</td>\n",
       "      <td>0.0</td>\n",
       "      <td>0.0</td>\n",
       "      <td>0.0</td>\n",
       "      <td>NaN</td>\n",
       "      <td>NaN</td>\n",
       "      <td>1.0</td>\n",
       "      <td>4.0</td>\n",
       "    </tr>\n",
       "    <tr>\n",
       "      <th>15</th>\n",
       "      <td>Jared Westcott</td>\n",
       "      <td>Lake Superior</td>\n",
       "      <td>1.0</td>\n",
       "      <td>0.0</td>\n",
       "      <td>0.0</td>\n",
       "      <td>0.0</td>\n",
       "      <td>2023-10-07-Lake Superior-Michigan State</td>\n",
       "      <td>0.0</td>\n",
       "      <td>0.0</td>\n",
       "      <td>0.0</td>\n",
       "      <td>0.0</td>\n",
       "      <td>2.0</td>\n",
       "      <td>1.0</td>\n",
       "      <td>4.0</td>\n",
       "    </tr>\n",
       "    <tr>\n",
       "      <th>16</th>\n",
       "      <td>Bryan Huggins</td>\n",
       "      <td>Lake Superior</td>\n",
       "      <td>1.0</td>\n",
       "      <td>0.0</td>\n",
       "      <td>0.0</td>\n",
       "      <td>0.0</td>\n",
       "      <td>2023-10-07-Lake Superior-Michigan State</td>\n",
       "      <td>0.0</td>\n",
       "      <td>0.0</td>\n",
       "      <td>0.0</td>\n",
       "      <td>NaN</td>\n",
       "      <td>NaN</td>\n",
       "      <td>1.0</td>\n",
       "      <td>4.0</td>\n",
       "    </tr>\n",
       "    <tr>\n",
       "      <th>17</th>\n",
       "      <td>Benito Posa</td>\n",
       "      <td>Lake Superior</td>\n",
       "      <td>0.0</td>\n",
       "      <td>0.0</td>\n",
       "      <td>0.0</td>\n",
       "      <td>0.0</td>\n",
       "      <td>2023-10-07-Lake Superior-Michigan State</td>\n",
       "      <td>0.0</td>\n",
       "      <td>0.0</td>\n",
       "      <td>0.0</td>\n",
       "      <td>NaN</td>\n",
       "      <td>NaN</td>\n",
       "      <td>1.0</td>\n",
       "      <td>4.0</td>\n",
       "    </tr>\n",
       "    <tr>\n",
       "      <th>18</th>\n",
       "      <td>Ross Roloson</td>\n",
       "      <td>Lake Superior</td>\n",
       "      <td>0.0</td>\n",
       "      <td>0.0</td>\n",
       "      <td>0.0</td>\n",
       "      <td>1.0</td>\n",
       "      <td>2023-10-07-Lake Superior-Michigan State</td>\n",
       "      <td>0.0</td>\n",
       "      <td>0.0</td>\n",
       "      <td>0.0</td>\n",
       "      <td>NaN</td>\n",
       "      <td>NaN</td>\n",
       "      <td>1.0</td>\n",
       "      <td>4.0</td>\n",
       "    </tr>\n",
       "    <tr>\n",
       "      <th>19</th>\n",
       "      <td>Nicolas Muller</td>\n",
       "      <td>Michigan State</td>\n",
       "      <td>4.0</td>\n",
       "      <td>2.0</td>\n",
       "      <td>1.0</td>\n",
       "      <td>0.0</td>\n",
       "      <td>2023-10-07-Lake Superior-Michigan State</td>\n",
       "      <td>1.0</td>\n",
       "      <td>1.0</td>\n",
       "      <td>0.0</td>\n",
       "      <td>9.0</td>\n",
       "      <td>10.0</td>\n",
       "      <td>4.0</td>\n",
       "      <td>1.0</td>\n",
       "    </tr>\n",
       "    <tr>\n",
       "      <th>20</th>\n",
       "      <td>Maxim Štrbák</td>\n",
       "      <td>Michigan State</td>\n",
       "      <td>3.0</td>\n",
       "      <td>1.0</td>\n",
       "      <td>2.0</td>\n",
       "      <td>1.0</td>\n",
       "      <td>2023-10-07-Lake Superior-Michigan State</td>\n",
       "      <td>0.0</td>\n",
       "      <td>0.0</td>\n",
       "      <td>0.0</td>\n",
       "      <td>NaN</td>\n",
       "      <td>NaN</td>\n",
       "      <td>4.0</td>\n",
       "      <td>1.0</td>\n",
       "    </tr>\n",
       "    <tr>\n",
       "      <th>21</th>\n",
       "      <td>Artyom Levshunov</td>\n",
       "      <td>Michigan State</td>\n",
       "      <td>4.0</td>\n",
       "      <td>0.0</td>\n",
       "      <td>1.0</td>\n",
       "      <td>0.0</td>\n",
       "      <td>2023-10-07-Lake Superior-Michigan State</td>\n",
       "      <td>0.0</td>\n",
       "      <td>0.0</td>\n",
       "      <td>0.0</td>\n",
       "      <td>NaN</td>\n",
       "      <td>NaN</td>\n",
       "      <td>4.0</td>\n",
       "      <td>1.0</td>\n",
       "    </tr>\n",
       "    <tr>\n",
       "      <th>22</th>\n",
       "      <td>Reed Lebster</td>\n",
       "      <td>Michigan State</td>\n",
       "      <td>1.0</td>\n",
       "      <td>2.0</td>\n",
       "      <td>0.0</td>\n",
       "      <td>0.0</td>\n",
       "      <td>2023-10-07-Lake Superior-Michigan State</td>\n",
       "      <td>0.0</td>\n",
       "      <td>0.0</td>\n",
       "      <td>0.0</td>\n",
       "      <td>NaN</td>\n",
       "      <td>NaN</td>\n",
       "      <td>4.0</td>\n",
       "      <td>1.0</td>\n",
       "    </tr>\n",
       "    <tr>\n",
       "      <th>23</th>\n",
       "      <td>Karsen Dorwart</td>\n",
       "      <td>Michigan State</td>\n",
       "      <td>1.0</td>\n",
       "      <td>1.0</td>\n",
       "      <td>1.0</td>\n",
       "      <td>1.0</td>\n",
       "      <td>2023-10-07-Lake Superior-Michigan State</td>\n",
       "      <td>0.0</td>\n",
       "      <td>0.0</td>\n",
       "      <td>0.0</td>\n",
       "      <td>18.0</td>\n",
       "      <td>3.0</td>\n",
       "      <td>4.0</td>\n",
       "      <td>1.0</td>\n",
       "    </tr>\n",
       "    <tr>\n",
       "      <th>24</th>\n",
       "      <td>Nash Nienhuis</td>\n",
       "      <td>Michigan State</td>\n",
       "      <td>2.0</td>\n",
       "      <td>1.0</td>\n",
       "      <td>1.0</td>\n",
       "      <td>1.0</td>\n",
       "      <td>2023-10-07-Lake Superior-Michigan State</td>\n",
       "      <td>1.0</td>\n",
       "      <td>1.0</td>\n",
       "      <td>0.0</td>\n",
       "      <td>NaN</td>\n",
       "      <td>NaN</td>\n",
       "      <td>4.0</td>\n",
       "      <td>1.0</td>\n",
       "    </tr>\n",
       "  </tbody>\n",
       "</table>\n",
       "</div>"
      ],
      "text/plain": [
       "               Player            Team  Shots_On_Net  Shots_Off_Net  \\\n",
       "0        Harrison Roy   Lake Superior           1.0            2.0   \n",
       "1     Artyom Borshyov   Lake Superior           2.0            1.0   \n",
       "2     John Herrington   Lake Superior           4.0            0.0   \n",
       "3      Tyler Williams   Lake Superior           4.0            0.0   \n",
       "4     Sasha Teleguine   Lake Superior           0.0            1.0   \n",
       "5       Grant Hindman   Lake Superior           2.0            1.0   \n",
       "6      Reagan Milburn   Lake Superior           1.0            1.0   \n",
       "7     Nate Schweitzer   Lake Superior           3.0            0.0   \n",
       "8   Carter Batchelder   Lake Superior           2.0            0.0   \n",
       "9          Evan Bushy   Lake Superior           2.0            0.0   \n",
       "10       Dawson Tritt   Lake Superior           1.0            0.0   \n",
       "11     Connor Milburn   Lake Superior           1.0            0.0   \n",
       "12    Jordan Venegoni   Lake Superior           1.0            0.0   \n",
       "13         Timo Bakos   Lake Superior           1.0            0.0   \n",
       "14         Cam Kungle   Lake Superior           1.0            0.0   \n",
       "15     Jared Westcott   Lake Superior           1.0            0.0   \n",
       "16      Bryan Huggins   Lake Superior           1.0            0.0   \n",
       "17        Benito Posa   Lake Superior           0.0            0.0   \n",
       "18       Ross Roloson   Lake Superior           0.0            0.0   \n",
       "19     Nicolas Muller  Michigan State           4.0            2.0   \n",
       "20       Maxim Štrbák  Michigan State           3.0            1.0   \n",
       "21   Artyom Levshunov  Michigan State           4.0            0.0   \n",
       "22       Reed Lebster  Michigan State           1.0            2.0   \n",
       "23     Karsen Dorwart  Michigan State           1.0            1.0   \n",
       "24      Nash Nienhuis  Michigan State           2.0            1.0   \n",
       "\n",
       "    Shots_Blocked  Defensive_Blocks                                  Game_ID  \\\n",
       "0             1.0               0.0  2023-10-07-Lake Superior-Michigan State   \n",
       "1             1.0               0.0  2023-10-07-Lake Superior-Michigan State   \n",
       "2             0.0               0.0  2023-10-07-Lake Superior-Michigan State   \n",
       "3             0.0               0.0  2023-10-07-Lake Superior-Michigan State   \n",
       "4             2.0               2.0  2023-10-07-Lake Superior-Michigan State   \n",
       "5             0.0               2.0  2023-10-07-Lake Superior-Michigan State   \n",
       "6             0.0               0.0  2023-10-07-Lake Superior-Michigan State   \n",
       "7             0.0               0.0  2023-10-07-Lake Superior-Michigan State   \n",
       "8             0.0               1.0  2023-10-07-Lake Superior-Michigan State   \n",
       "9             0.0               0.0  2023-10-07-Lake Superior-Michigan State   \n",
       "10            0.0               1.0  2023-10-07-Lake Superior-Michigan State   \n",
       "11            0.0               0.0  2023-10-07-Lake Superior-Michigan State   \n",
       "12            0.0               1.0  2023-10-07-Lake Superior-Michigan State   \n",
       "13            0.0               1.0  2023-10-07-Lake Superior-Michigan State   \n",
       "14            0.0               0.0  2023-10-07-Lake Superior-Michigan State   \n",
       "15            0.0               0.0  2023-10-07-Lake Superior-Michigan State   \n",
       "16            0.0               0.0  2023-10-07-Lake Superior-Michigan State   \n",
       "17            0.0               0.0  2023-10-07-Lake Superior-Michigan State   \n",
       "18            0.0               1.0  2023-10-07-Lake Superior-Michigan State   \n",
       "19            1.0               0.0  2023-10-07-Lake Superior-Michigan State   \n",
       "20            2.0               1.0  2023-10-07-Lake Superior-Michigan State   \n",
       "21            1.0               0.0  2023-10-07-Lake Superior-Michigan State   \n",
       "22            0.0               0.0  2023-10-07-Lake Superior-Michigan State   \n",
       "23            1.0               1.0  2023-10-07-Lake Superior-Michigan State   \n",
       "24            1.0               1.0  2023-10-07-Lake Superior-Michigan State   \n",
       "\n",
       "    Goals  Assist1  Assist2  Faceoff_Wins  Faceoff_Losses  Goals_For_Team  \\\n",
       "0     1.0      0.0      0.0           4.0            15.0             1.0   \n",
       "1     0.0      0.0      0.0           NaN             NaN             1.0   \n",
       "2     0.0      0.0      0.0           NaN             NaN             1.0   \n",
       "3     1.0      0.0      0.0           NaN             NaN             1.0   \n",
       "4     0.0      0.0      0.0           NaN             NaN             1.0   \n",
       "5     0.0      0.0      0.0           NaN             NaN             1.0   \n",
       "6     0.0      0.0      0.0           NaN             NaN             1.0   \n",
       "7     0.0      0.0      0.0           NaN             NaN             1.0   \n",
       "8     0.0      0.0      1.0           3.0             3.0             1.0   \n",
       "9     0.0      0.0      0.0           0.0             1.0             1.0   \n",
       "10    0.0      0.0      0.0           7.0            10.0             1.0   \n",
       "11    0.0      0.0      0.0           6.0            10.0             1.0   \n",
       "12    0.0      0.0      0.0           NaN             NaN             1.0   \n",
       "13    0.0      1.0      0.0           0.0             4.0             1.0   \n",
       "14    0.0      0.0      0.0           NaN             NaN             1.0   \n",
       "15    0.0      0.0      0.0           0.0             2.0             1.0   \n",
       "16    0.0      0.0      0.0           NaN             NaN             1.0   \n",
       "17    0.0      0.0      0.0           NaN             NaN             1.0   \n",
       "18    0.0      0.0      0.0           NaN             NaN             1.0   \n",
       "19    1.0      1.0      0.0           9.0            10.0             4.0   \n",
       "20    0.0      0.0      0.0           NaN             NaN             4.0   \n",
       "21    0.0      0.0      0.0           NaN             NaN             4.0   \n",
       "22    0.0      0.0      0.0           NaN             NaN             4.0   \n",
       "23    0.0      0.0      0.0          18.0             3.0             4.0   \n",
       "24    1.0      1.0      0.0           NaN             NaN             4.0   \n",
       "\n",
       "    Goals_Against_Team  \n",
       "0                  4.0  \n",
       "1                  4.0  \n",
       "2                  4.0  \n",
       "3                  4.0  \n",
       "4                  4.0  \n",
       "5                  4.0  \n",
       "6                  4.0  \n",
       "7                  4.0  \n",
       "8                  4.0  \n",
       "9                  4.0  \n",
       "10                 4.0  \n",
       "11                 4.0  \n",
       "12                 4.0  \n",
       "13                 4.0  \n",
       "14                 4.0  \n",
       "15                 4.0  \n",
       "16                 4.0  \n",
       "17                 4.0  \n",
       "18                 4.0  \n",
       "19                 1.0  \n",
       "20                 1.0  \n",
       "21                 1.0  \n",
       "22                 1.0  \n",
       "23                 1.0  \n",
       "24                 1.0  "
      ]
     },
     "execution_count": 17,
     "metadata": {},
     "output_type": "execute_result"
    }
   ],
   "source": [
    "# Merge the dataframes on Game_ID and Team\n",
    "merged_df_new = pd.merge(compiled_df, even_strength_goals_refined_df, on=['Game_ID', 'Team'], how='left')\n",
    "\n",
    "# Display the first few rows of the merged dataframe\n",
    "# merged_df_new.head(25)\n",
    "\n",
    "# merged_df_new.info()\n",
    "# Output csv for check\n",
    "# merged_df_new.to_csv('../TEMP/11_NEW_PRELIM_merged_df_new.csv', index=False)"
   ]
  },
  {
   "cell_type": "code",
   "execution_count": 18,
   "metadata": {},
   "outputs": [
    {
     "name": "stdout",
     "output_type": "stream",
     "text": [
      "New Shape: (14132, 12)\n"
     ]
    },
    {
     "data": {
      "text/plain": [
       "Team\n",
       "Air Force         264\n",
       "Michigan State    264\n",
       "Michigan          263\n",
       "Anchorage         262\n",
       "Connecticut       261\n",
       "                 ... \n",
       "Yale              130\n",
       "Princeton         114\n",
       "Dartmouth         110\n",
       "Harvard            95\n",
       "Mass.               3\n",
       "Name: count, Length: 65, dtype: int64"
      ]
     },
     "execution_count": 18,
     "metadata": {},
     "output_type": "execute_result"
    },
    {
     "data": {
      "image/png": "[encoded data removed]",
      "text/plain": [
       "<Figure size 640x480 with 1 Axes>"
      ]
     },
     "metadata": {},
     "output_type": "display_data"
    }
   ],
   "source": [
    "\n",
    "# Convert columns to int\n",
    "int_cols = [ 'Shots_On_Net', 'Shots_Off_Net', 'Shots_Blocked',\n",
    "       'Defensive_Blocks',  'Goals', 'Assist1', 'Assist2',\n",
    "       'Faceoff_Wins', 'Faceoff_Losses', 'Goals_For_Team',\n",
    "       'Goals_Against_Team']\n",
    "\n",
    "# for col in int_cols:\n",
    "#     compiled_df[col] = compiled_df[col].astype(int)\n",
    "\n",
    "\n",
    "\n",
    "print(f'New Shape: {compiled_df.shape}')\n",
    "\n",
    "####\n",
    "# # Merge into the compiled_df\n",
    "compiled_df = compiled_df.merge(even_strength_goals_refined_df, on=['Game_ID', 'Team'], how='outer', indicator=True)\n",
    "\n",
    "compiled_df.columns\n",
    "\n",
    "# compiled_df['Goals'].hist()\n",
    "# compiled_df['Assist1'].hist()\n",
    "compiled_df['Assist2'].hist()\n",
    "\n",
    "compiled_df.sample(25)\n",
    "\n",
    "# Team value count\n",
    "compiled_df['Team'].value_counts()\n",
    "\n"
   ]
  },
  {
   "cell_type": "code",
   "execution_count": 19,
   "metadata": {},
   "outputs": [],
   "source": [
    "# SHow just the rows where the Goals_Against_Team is NaN\n",
    "trouble_df = merged_df_new[merged_df_new['Goals_Against_Team'].isna()]\n",
    "\n",
    "# Value Counts of Teams\n",
    "trouble_df['Team'].value_counts()\n",
    "\n",
    "# I think what is going on is thes are instanced when the player was not on the roster the day of the game?\n",
    "\n",
    "## Do any of these have values in Goals or Assists?\n",
    "trouble_df[trouble_df['Goals'] > 0]\n",
    "\n",
    "trouble_df[trouble_df['Assist1'] > 0]\n",
    "\n",
    "## Could be games when no even strength goals were scored - That must be it. fill with 0\n",
    "merged_df_new['Goals_Against_Team'] = merged_df_new['Goals_Against_Team'].fillna(0)\n",
    "# Same for Goals_For_Team\n",
    "merged_df_new['Goals_For_Team'] = merged_df_new['Goals_For_Team'].fillna(0)"
   ]
  },
  {
   "cell_type": "code",
   "execution_count": 20,
   "metadata": {},
   "outputs": [],
   "source": [
    "# merged_df_new.hist()\n",
    "\n",
    "# merged_df_new.info()\n",
    "\n",
    "# Output csv for check\n",
    "# merged_df_new.to_csv('../TEMP/NEW_PRELIM_merged_df_new.csv', index=False)"
   ]
  },
  {
   "cell_type": "code",
   "execution_count": 21,
   "metadata": {},
   "outputs": [],
   "source": [
    "# # Joining the dataframe with itself to compute EVEN_STRENGTH goals against each team\n",
    "# team_goals_refined_df = even_strength_goals_refined_df.merge(\n",
    "#     even_strength_goals_refined_df, on='Game_ID', suffixes=('', '_Opponent')\n",
    "# )\n",
    "\n",
    "# # Filtering out rows where Team is the same as the opponent team\n",
    "# team_goals_refined_df = team_goals_refined_df[team_goals_refined_df['Team'] != team_goals_refined_df['Team_Opponent']]\n",
    "\n",
    "# # Dropping unnecessary columns and renaming for clarity\n",
    "# team_goals_refined_df = team_goals_refined_df[['Game_ID', 'Team', 'Goals_For_Team', 'Goals_For_Team_Opponent']]\n",
    "# team_goals_refined_df = team_goals_refined_df.rename(columns={'Goals_For_Team_Opponent': 'Goals_Against_Team'})\n",
    "\n",
    "# # Joining with advanced_metrics_combined to assign the values to each player\n",
    "# player_goals_refined_df = player_goals_df.merge(team_goals_refined_df, on=['Game_ID', 'Team'], how='left')\n",
    "\n",
    "# # Display the first few rows of the resulting dataframe\n",
    "# player_goals_refined_df[['Player', 'Game_ID', 'Team', 'Goals_For_Team', 'Goals_Against_Team']].head(25)\n"
   ]
  },
  {
   "cell_type": "markdown",
   "metadata": {},
   "source": []
  },
  {
   "cell_type": "code",
   "execution_count": null,
   "metadata": {},
   "outputs": [],
   "source": []
  },
  {
   "cell_type": "markdown",
   "metadata": {},
   "source": [
    "# Penalty Component"
   ]
  },
  {
   "cell_type": "code",
   "execution_count": 22,
   "metadata": {},
   "outputs": [
    {
     "name": "stdout",
     "output_type": "stream",
     "text": [
      "<class 'pandas.core.frame.DataFrame'>\n",
      "RangeIndex: 14132 entries, 0 to 14131\n",
      "Data columns (total 15 columns):\n",
      " #   Column              Non-Null Count  Dtype  \n",
      "---  ------              --------------  -----  \n",
      " 0   Player              14132 non-null  object \n",
      " 1   Team                13357 non-null  object \n",
      " 2   Shots_On_Net        13357 non-null  float64\n",
      " 3   Shots_Off_Net       13357 non-null  float64\n",
      " 4   Shots_Blocked       13357 non-null  float64\n",
      " 5   Defensive_Blocks    13357 non-null  float64\n",
      " 6   Game_ID             14132 non-null  object \n",
      " 7   Goals               13357 non-null  float64\n",
      " 8   Assist1             13357 non-null  float64\n",
      " 9   Assist2             13357 non-null  float64\n",
      " 10  Faceoff_Wins        4240 non-null   float64\n",
      " 11  Faceoff_Losses      4240 non-null   float64\n",
      " 12  Goals_For_Team      14132 non-null  float64\n",
      " 13  Goals_Against_Team  14132 non-null  float64\n",
      " 14  Penalties_Taken     14132 non-null  float64\n",
      "dtypes: float64(12), object(3)\n",
      "memory usage: 1.6+ MB\n"
     ]
    }
   ],
   "source": [
    "## Penalty Component\n",
    "\n",
    "# Count the number of penalties taken by each player in each game\n",
    "penalty_count_query = \"\"\"\n",
    "SELECT\n",
    "    Game_ID,\n",
    "    Player,\n",
    "    COUNT(*) AS Penalties_Taken\n",
    "FROM\n",
    "    penalty_summary\n",
    "WHERE\n",
    "    Player != 'TOTAL'\n",
    "GROUP BY\n",
    "    Game_ID, Player;\n",
    "\"\"\"\n",
    "\n",
    "## Rename the new version of the df back to this name to use later\n",
    "\n",
    "compiled_df = merged_df_new.copy()\n",
    "\n",
    "\n",
    "# Create a DataFrame with the results\n",
    "penalty_count_df = pd.read_sql(penalty_count_query, conn)\n",
    "\n",
    "# Preview the first few rows of the result\n",
    "penalty_count_df.head()\n",
    "\n",
    "# penalty_count_df['Penalties_Taken'].hist()\n",
    "\n",
    "# Convert to int\n",
    "penalty_count_df['Penalties_Taken'] = penalty_count_df['Penalties_Taken'].astype(int)\n",
    "\n",
    "# penalty_count_df.describe()\n",
    "\n",
    "# merge it into the compiled_df\n",
    "compiled_df = compiled_df.merge(penalty_count_df, on=['Player', 'Game_ID'], how='left')\n",
    "\n",
    "# Fill NaN values in 'Penalties_Taken' with 0\n",
    "compiled_df['Penalties_Taken'].fillna(0, inplace=True)\n",
    "\n",
    "# compiled_df.head(25)\n",
    "\n",
    "\n",
    "# compiled_df.hist()\n",
    "\n",
    "compiled_df.columns\n",
    "\n",
    "# Output CSV\n",
    "# compiled_df.to_csv('../TEMP/GAME_SCORE_compiled_df.csv', index=False)\n",
    "\n",
    "\n",
    "compiled_df.info()"
   ]
  },
  {
   "cell_type": "markdown",
   "metadata": {},
   "source": [
    "## Notes to Change Metric\n",
    "### Add an element for shots, goals, ect in close games.\n",
    "- we have the shot info broken into close games. should give a bonus for CLOSE goals and shots \n",
    "\n",
    "- it also seems stupid to not do anything with power play. I am looking at game where one team did not miss the goal when shooting on the power play. that kind of efficency should be worth something to the player score\n",
    "\n",
    "- change factor for face offs. .01 is pretty stupid. if we go by the face off per goal what would the factor be? more like 1 goal every 10-15 face offs\n",
    "\n",
    "- Should there be a bonus for unassisted goals? -it should be possible to seperate those out and add a bonus\n",
    "\n",
    "\n",
    "\n",
    "\n"
   ]
  },
  {
   "cell_type": "code",
   "execution_count": 23,
   "metadata": {},
   "outputs": [],
   "source": [
    "# Fill NaN values in 'Penalties_Taken' with 0\n",
    "compiled_df['Penalties_Taken'].fillna(0, inplace=True)\n",
    "\n",
    "# Calculate each component of the game score formula\n",
    "player_goals_refined_df = compiled_df.copy()\n",
    "\n",
    "# SCORE Component\n",
    "player_goals_refined_df['SCORE'] = (player_goals_refined_df['Goals'] * 0.75) + \\\n",
    "                                  (player_goals_refined_df['Assist1'] * 0.715) + \\\n",
    "                                  (player_goals_refined_df['Assist2'] * 0.555)\n",
    "\n",
    "# SHOTS Component\n",
    "player_goals_refined_df['SHOTS'] = (player_goals_refined_df['Shots_On_Net'] * 0.075) + \\\n",
    "                                  (player_goals_refined_df['Shots_Off_Net'] * 0.075) - \\\n",
    "                                  (player_goals_refined_df['Shots_Blocked'] * 0.075)\n",
    "\n",
    "# FACEOFFS Component\n",
    "player_goals_refined_df['FACEOFFS'] = (player_goals_refined_df['Faceoff_Wins'] * 0.01) - \\\n",
    "                                     (player_goals_refined_df['Faceoff_Losses'] * 0.01)\n",
    "# Fill NaN values in 'Faceoff_Wins' and 'Faceoff_Losses' with 0\n",
    "player_goals_refined_df['FACEOFFS'].fillna(0, inplace=True)\n",
    "\n",
    "\n",
    "# TEAM Component\n",
    "player_goals_refined_df['TEAM'] = (player_goals_refined_df['Goals_For_Team'] * 0.15) - \\\n",
    "                                 (player_goals_refined_df['Goals_Against_Team'] * 0.15)\n",
    "# Fill\n",
    "\n",
    "\n",
    "# PENALTIES Component -  Negative because it is a penalty\n",
    "player_goals_refined_df['PENALTIES'] = (player_goals_refined_df['Penalties_Taken'] * pp_success_rate) * -1\n",
    "\n",
    "## Fill all Nan Values with 0\n",
    "player_goals_refined_df.fillna(0, inplace=True)\n",
    "\n",
    "# Calculate the overall game score\n",
    "player_goals_refined_df['Game_Score'] = player_goals_refined_df['SCORE'] + \\\n",
    "                                       player_goals_refined_df['SHOTS'] + \\\n",
    "                                       player_goals_refined_df['FACEOFFS'] + \\\n",
    "                                       player_goals_refined_df['TEAM'] - \\\n",
    "                                       player_goals_refined_df['PENALTIES']\n",
    "\n",
    "# Display the first few rows of the dataframe with the newly computed 'Game_Score' values\n",
    "player_goals_refined_df[['Player', 'Game_ID', 'Team', 'Game_Score']].head(25)\n",
    "\n",
    "\n",
    "## Drop duplicate Rows\n",
    "player_goals_refined_df = player_goals_refined_df.drop_duplicates()\n",
    "\n",
    "# Save to CSV\n",
    "# player_goals_refined_df.to_csv('../TEMP/GAME_SCORE_player_goals_refined_df.csv', index=False)\n"
   ]
  },
  {
   "cell_type": "markdown",
   "metadata": {},
   "source": [
    "# Aggrigate the table and get an average based on numbers of game each player has played"
   ]
  },
  {
   "cell_type": "code",
   "execution_count": 24,
   "metadata": {},
   "outputs": [
    {
     "data": {
      "text/plain": [
       "<Axes: >"
      ]
     },
     "execution_count": 24,
     "metadata": {},
     "output_type": "execute_result"
    },
    {
     "data": {
      "image/png": "[encoded data removed]",
      "text/plain": [
       "<Figure size 640x480 with 1 Axes>"
      ]
     },
     "metadata": {},
     "output_type": "display_data"
    }
   ],
   "source": [
    "# Aggrigate the player_goals_refined_df and get an average based on numbers of game each player has played\n",
    "# Add the Game_Score for each player and divide by the number of games played\n",
    "\n",
    "cumlative_game_score_df = player_goals_refined_df.groupby(['Player', 'Team']).agg({'Game_Score': ['sum', 'count']})\n",
    "\n",
    "cumlative_game_score_df.columns = ['Game_Score_Sum', 'Games_Played']\n",
    "\n",
    "# new Column With Average Game Score\n",
    "cumlative_game_score_df['Average_Game_Score'] = cumlative_game_score_df['Game_Score_Sum'] / cumlative_game_score_df['Games_Played']\n",
    "\n",
    "# Sort by Average Game Score\n",
    "cumlative_game_score_df = cumlative_game_score_df.sort_values(by=['Average_Game_Score'], ascending=False)\n",
    "\n",
    "\n",
    "\n",
    "# Reset Index\n",
    "cumlative_game_score_df = cumlative_game_score_df.reset_index()\n",
    "\n",
    "# Display the first few rows of the dataframe with the newly computed 'Game_Score' values\n",
    "cumlative_game_score_df.head(25)\n",
    "\n",
    "# Histogram of the Average Game Score\n",
    "cumlative_game_score_df['Average_Game_Score'].hist()\n",
    "\n",
    "# Save to CSV\n",
    "# cumlative_game_score_df.to_csv('../TEMP/YTD_csv_dump/All_Players_Game_score.csv', index=False)\n",
    "\n",
    "\n",
    "\n",
    "\n",
    "\n",
    "\n",
    "\n"
   ]
  },
  {
   "cell_type": "markdown",
   "metadata": {},
   "source": [
    "# Pivot the big Game Score Table into individual teams"
   ]
  },
  {
   "cell_type": "code",
   "execution_count": 25,
   "metadata": {},
   "outputs": [],
   "source": [
    "# Generate team-specific tables using a pivot table\n",
    "team_tables = {}\n",
    "\n",
    "unique_teams = player_goals_refined_df['Team'].unique()\n",
    "\n",
    "for team in unique_teams:\n",
    "    team_df = player_goals_refined_df[player_goals_refined_df['Team'] == team]\n",
    "    pivot_table = team_df.pivot(index='Player', columns='Game_ID', values='Game_Score')\n",
    "    team_tables[team] = pivot_table\n",
    "\n",
    "\n",
    "# Print List of Teams\n",
    "unique_teams\n",
    "\n",
    "\n",
    "# Fill NaN values with 0\n",
    "for team in unique_teams:\n",
    "    team_tables[team] = team_tables[team].fillna(0)\n",
    "\n",
    "# Display the first team's table as an example\n",
    "# team_tables[unique_teams[21]].head(40)\n",
    "\n",
    "### MSU Is In Index Position 21 in this case outputing csv for MSU\n",
    "# team_tables[unique_teams[21]] = team_tables[unique_teams[21]].fillna(0)\n",
    "# team_tables[unique_teams[21]].to_csv('../data/Nov_2_MSU_GAME_SCORES.csv')\n",
    "\n",
    "\n",
    "# msu_df = team_tables[unique_teams[21]].copy()\n",
    "# msu_df.head()\n",
    "\n"
   ]
  },
  {
   "cell_type": "code",
   "execution_count": 26,
   "metadata": {},
   "outputs": [
    {
     "data": {
      "text/plain": [
       "array(['Lake Superior', 'Michigan State', 'Clarkson', 'Notre Dame', 'RIT',\n",
       "       'St. Lawrence', 'St. Thomas', 'St. Cloud State', 'Boston College',\n",
       "       'Quinnipiac', 'Connecticut', 'Colgate', \"American Int'l\",\n",
       "       'Massachusetts', 'Providence', 'Michigan', 'Ohio State',\n",
       "       'Mercyhurst', 'Stonehill', 'Northeastern', 'Penn State',\n",
       "       'Long Island', 'Lindenwood', 'Air Force', 'Bowling Green',\n",
       "       'Robert Morris', 'Boston University', 'Bentley', 'Miami',\n",
       "       'Ferris State', 'Augustana', 'Wisconsin', 'Lowell', 'Anchorage',\n",
       "       'Michigan Tech', 'Duluth', 'Denver', 'Alaska', 'Union', 'Army',\n",
       "       'Holy Cross', 'Western Michigan', 'Rensselaer', 'Maine',\n",
       "       'Sacred Heart', 'Vermont', 'Canisius', 'Bemidji State',\n",
       "       'North Dakota', 'Niagara', 'Omaha', 'Minnesota State',\n",
       "       'Northern Michigan', 'Minnesota', 'Colorado College', 'Merrimack',\n",
       "       'Arizona State', 'New Hampshire', 'Harvard', 'Dartmouth', 'Yale',\n",
       "       'Brown', 'Cornell', 'Princeton', 0], dtype=object)"
      ]
     },
     "execution_count": 26,
     "metadata": {},
     "output_type": "execute_result"
    }
   ],
   "source": [
    "## Print Unique Teams\n",
    "unique_teams\n"
   ]
  },
  {
   "cell_type": "code",
   "execution_count": 27,
   "metadata": {},
   "outputs": [],
   "source": [
    "# ### Find The OSU Index Position and Output CSV\n",
    "\n",
    "# osu_df = team_tables[unique_teams[16]]\n",
    "\n",
    "# ## Output CSV\n",
    "# osu_df.to_csv('../data/Nov_2_Ohio_State_GAME_SCORES.csv')"
   ]
  },
  {
   "cell_type": "code",
   "execution_count": 28,
   "metadata": {},
   "outputs": [],
   "source": [
    "# Clean up the column names of all the team tables\n",
    "# Want to remove:\n",
    "# - all digits\n",
    "# - all Dashes\n",
    "# - the teams name\n",
    "\n",
    "# Create a dictionary to store the new column names\n",
    "new_column_names = {}\n",
    "\n",
    "# Loop through each team table\n",
    "for team in unique_teams:\n",
    "    # Create a list to store the new column names\n",
    "    new_column_names[team] = []\n",
    "    \n",
    "    # Loop through each column name\n",
    "    for column_name in team_tables[team].columns:\n",
    "\n",
    "        # Remove all digits from the column name\n",
    "        new_column_name = ''.join([i for i in column_name if not i.isdigit()])\n",
    "        \n",
    "        # Remove all dashes from the column name\n",
    "        new_column_name = new_column_name.replace('-', '')\n",
    "        \n",
    "        # Remove the team name from the column name\n",
    "        new_column_name = new_column_name.replace(str(team), '')\n",
    "        \n",
    "        # Add the new column name to the list\n",
    "        new_column_names[team].append(new_column_name)\n",
    "    \n",
    "    # Assign the new column names to the team table\n",
    "    team_tables[team].columns = new_column_names[team]\n",
    "\n",
    "    "
   ]
  },
  {
   "cell_type": "code",
   "execution_count": 29,
   "metadata": {},
   "outputs": [],
   "source": [
    "## Add the team name to each table\n",
    "for team in unique_teams:\n",
    "    team_tables[team]['Team'] = team\n",
    "\n"
   ]
  },
  {
   "cell_type": "code",
   "execution_count": 30,
   "metadata": {},
   "outputs": [],
   "source": [
    "# Add Uniform number from master_roster table to each table\n",
    "\n",
    "# Extracting the uniform number from the master_roster table\n",
    "uniform_number_df = pd.read_sql(\"SELECT No, Clean_Name, Team FROM master_roster\", conn)\n",
    "\n",
    "# Rename Clean_Name to Player to make merge easier\n",
    "uniform_number_df = uniform_number_df.rename(columns={'Clean_Name': 'Player'})\n",
    "uniform_number_df['Team'] = uniform_number_df['Team'].astype(str)\n",
    "for team in unique_teams:\n",
    "    team_tables[team]['Team'] = team_tables[team]['Team'].astype(str)\n",
    "\n",
    "\n",
    "# Merge the uniform number into each team table\n",
    "for team in unique_teams:\n",
    "    team_tables[team] = team_tables[team].merge(uniform_number_df, on=['Player', 'Team'], how='left')\n",
    "\n",
    "    # Fill any Nan values with 0\n",
    "    team_tables[team]['No'] = team_tables[team]['No'].fillna(0)\n",
    "    # Make sure the uniform number is an int\n",
    "    team_tables[team]['No'] = team_tables[team]['No'].astype(int)\n",
    "\n",
    "\n",
    "# team_tables[unique_teams[10]].head(25)"
   ]
  },
  {
   "cell_type": "code",
   "execution_count": 31,
   "metadata": {},
   "outputs": [
    {
     "data": {
      "text/html": [
       "<div>\n",
       "<style scoped>\n",
       "    .dataframe tbody tr th:only-of-type {\n",
       "        vertical-align: middle;\n",
       "    }\n",
       "\n",
       "    .dataframe tbody tr th {\n",
       "        vertical-align: top;\n",
       "    }\n",
       "\n",
       "    .dataframe thead th {\n",
       "        text-align: right;\n",
       "    }\n",
       "</style>\n",
       "<table border=\"1\" class=\"dataframe\">\n",
       "  <thead>\n",
       "    <tr style=\"text-align: right;\">\n",
       "      <th></th>\n",
       "      <th>Player</th>\n",
       "      <th>MinnesotaDuluth</th>\n",
       "      <th>MinnesotaDuluth</th>\n",
       "      <th>Arizona State</th>\n",
       "      <th>Arizona State</th>\n",
       "      <th>Ferris State</th>\n",
       "      <th>Ferris State</th>\n",
       "      <th>St. Thomas</th>\n",
       "      <th>St. Thomas</th>\n",
       "      <th>Lake Superior</th>\n",
       "      <th>Lake Superior</th>\n",
       "      <th>Alaska</th>\n",
       "      <th>Alaska</th>\n",
       "      <th>Team</th>\n",
       "      <th>No</th>\n",
       "    </tr>\n",
       "  </thead>\n",
       "  <tbody>\n",
       "    <tr>\n",
       "      <th>0</th>\n",
       "      <td>Aiden Gallacher</td>\n",
       "      <td>0.075000</td>\n",
       "      <td>0.075000</td>\n",
       "      <td>0.150000</td>\n",
       "      <td>0.254232</td>\n",
       "      <td>0.659232</td>\n",
       "      <td>0.940000</td>\n",
       "      <td>0.404232</td>\n",
       "      <td>-0.825000</td>\n",
       "      <td>0.225000</td>\n",
       "      <td>1.080000</td>\n",
       "      <td>0.900000</td>\n",
       "      <td>0.825000</td>\n",
       "      <td>Northern Michigan</td>\n",
       "      <td>10</td>\n",
       "    </tr>\n",
       "    <tr>\n",
       "      <th>1</th>\n",
       "      <td>Andre Ghantous</td>\n",
       "      <td>1.719232</td>\n",
       "      <td>3.110000</td>\n",
       "      <td>0.855000</td>\n",
       "      <td>0.254232</td>\n",
       "      <td>0.975000</td>\n",
       "      <td>1.090000</td>\n",
       "      <td>2.163464</td>\n",
       "      <td>-0.420768</td>\n",
       "      <td>1.165000</td>\n",
       "      <td>0.875000</td>\n",
       "      <td>1.560000</td>\n",
       "      <td>0.905000</td>\n",
       "      <td>Northern Michigan</td>\n",
       "      <td>11</td>\n",
       "    </tr>\n",
       "    <tr>\n",
       "      <th>2</th>\n",
       "      <td>Artem Shlaine</td>\n",
       "      <td>0.950000</td>\n",
       "      <td>0.595000</td>\n",
       "      <td>0.380000</td>\n",
       "      <td>0.735000</td>\n",
       "      <td>0.080000</td>\n",
       "      <td>1.590000</td>\n",
       "      <td>0.865000</td>\n",
       "      <td>-0.505768</td>\n",
       "      <td>3.089232</td>\n",
       "      <td>1.820000</td>\n",
       "      <td>0.000000</td>\n",
       "      <td>0.000000</td>\n",
       "      <td>Northern Michigan</td>\n",
       "      <td>8</td>\n",
       "    </tr>\n",
       "    <tr>\n",
       "      <th>3</th>\n",
       "      <td>Brendan Poshak</td>\n",
       "      <td>0.000000</td>\n",
       "      <td>0.000000</td>\n",
       "      <td>0.000000</td>\n",
       "      <td>0.000000</td>\n",
       "      <td>0.000000</td>\n",
       "      <td>0.310000</td>\n",
       "      <td>0.000000</td>\n",
       "      <td>0.000000</td>\n",
       "      <td>0.000000</td>\n",
       "      <td>0.000000</td>\n",
       "      <td>0.000000</td>\n",
       "      <td>0.000000</td>\n",
       "      <td>Northern Michigan</td>\n",
       "      <td>0</td>\n",
       "    </tr>\n",
       "    <tr>\n",
       "      <th>4</th>\n",
       "      <td>Colby Enns</td>\n",
       "      <td>1.015000</td>\n",
       "      <td>0.000000</td>\n",
       "      <td>0.254232</td>\n",
       "      <td>0.075000</td>\n",
       "      <td>0.000000</td>\n",
       "      <td>0.000000</td>\n",
       "      <td>0.000000</td>\n",
       "      <td>-0.675000</td>\n",
       "      <td>1.465000</td>\n",
       "      <td>0.930000</td>\n",
       "      <td>0.075000</td>\n",
       "      <td>0.150000</td>\n",
       "      <td>Northern Michigan</td>\n",
       "      <td>5</td>\n",
       "    </tr>\n",
       "    <tr>\n",
       "      <th>5</th>\n",
       "      <td>Connor Eddy</td>\n",
       "      <td>0.555000</td>\n",
       "      <td>0.583464</td>\n",
       "      <td>0.750000</td>\n",
       "      <td>-0.025000</td>\n",
       "      <td>0.354232</td>\n",
       "      <td>0.030000</td>\n",
       "      <td>0.110000</td>\n",
       "      <td>-0.810000</td>\n",
       "      <td>1.175000</td>\n",
       "      <td>1.175000</td>\n",
       "      <td>0.319232</td>\n",
       "      <td>1.275000</td>\n",
       "      <td>Northern Michigan</td>\n",
       "      <td>21</td>\n",
       "    </tr>\n",
       "    <tr>\n",
       "      <th>6</th>\n",
       "      <td>Grant Slukynsky</td>\n",
       "      <td>0.065000</td>\n",
       "      <td>0.329232</td>\n",
       "      <td>0.900000</td>\n",
       "      <td>0.085000</td>\n",
       "      <td>0.725000</td>\n",
       "      <td>-0.095000</td>\n",
       "      <td>0.000000</td>\n",
       "      <td>0.130000</td>\n",
       "      <td>0.365000</td>\n",
       "      <td>0.290000</td>\n",
       "      <td>0.979232</td>\n",
       "      <td>-0.075000</td>\n",
       "      <td>Northern Michigan</td>\n",
       "      <td>0</td>\n",
       "    </tr>\n",
       "    <tr>\n",
       "      <th>7</th>\n",
       "      <td>Isack Bandu</td>\n",
       "      <td>0.254232</td>\n",
       "      <td>0.734232</td>\n",
       "      <td>0.554232</td>\n",
       "      <td>0.837696</td>\n",
       "      <td>0.000000</td>\n",
       "      <td>0.075000</td>\n",
       "      <td>0.329232</td>\n",
       "      <td>-0.450000</td>\n",
       "      <td>0.225000</td>\n",
       "      <td>0.375000</td>\n",
       "      <td>0.000000</td>\n",
       "      <td>0.000000</td>\n",
       "      <td>Northern Michigan</td>\n",
       "      <td>24</td>\n",
       "    </tr>\n",
       "    <tr>\n",
       "      <th>8</th>\n",
       "      <td>Jack Perbix</td>\n",
       "      <td>0.170000</td>\n",
       "      <td>0.835000</td>\n",
       "      <td>0.489232</td>\n",
       "      <td>0.394232</td>\n",
       "      <td>0.040000</td>\n",
       "      <td>0.000000</td>\n",
       "      <td>0.140000</td>\n",
       "      <td>-0.735000</td>\n",
       "      <td>0.215000</td>\n",
       "      <td>0.240000</td>\n",
       "      <td>0.000000</td>\n",
       "      <td>0.414232</td>\n",
       "      <td>Northern Michigan</td>\n",
       "      <td>0</td>\n",
       "    </tr>\n",
       "    <tr>\n",
       "      <th>9</th>\n",
       "      <td>Jakob Peterson</td>\n",
       "      <td>0.000000</td>\n",
       "      <td>0.000000</td>\n",
       "      <td>0.150000</td>\n",
       "      <td>0.000000</td>\n",
       "      <td>0.000000</td>\n",
       "      <td>0.000000</td>\n",
       "      <td>0.000000</td>\n",
       "      <td>-0.750000</td>\n",
       "      <td>0.000000</td>\n",
       "      <td>0.000000</td>\n",
       "      <td>0.000000</td>\n",
       "      <td>0.000000</td>\n",
       "      <td>Northern Michigan</td>\n",
       "      <td>23</td>\n",
       "    </tr>\n",
       "    <tr>\n",
       "      <th>10</th>\n",
       "      <td>Jeppe Urup</td>\n",
       "      <td>0.000000</td>\n",
       "      <td>0.000000</td>\n",
       "      <td>0.404232</td>\n",
       "      <td>0.000000</td>\n",
       "      <td>0.075000</td>\n",
       "      <td>-0.075000</td>\n",
       "      <td>0.150000</td>\n",
       "      <td>0.000000</td>\n",
       "      <td>0.000000</td>\n",
       "      <td>0.000000</td>\n",
       "      <td>0.000000</td>\n",
       "      <td>0.000000</td>\n",
       "      <td>Northern Michigan</td>\n",
       "      <td>0</td>\n",
       "    </tr>\n",
       "    <tr>\n",
       "      <th>11</th>\n",
       "      <td>Josh Zinger</td>\n",
       "      <td>1.910000</td>\n",
       "      <td>0.884232</td>\n",
       "      <td>0.865000</td>\n",
       "      <td>0.555000</td>\n",
       "      <td>0.075000</td>\n",
       "      <td>1.230000</td>\n",
       "      <td>1.693464</td>\n",
       "      <td>-0.600000</td>\n",
       "      <td>0.535000</td>\n",
       "      <td>1.350000</td>\n",
       "      <td>-0.075000</td>\n",
       "      <td>0.715000</td>\n",
       "      <td>Northern Michigan</td>\n",
       "      <td>20</td>\n",
       "    </tr>\n",
       "    <tr>\n",
       "      <th>12</th>\n",
       "      <td>Kevin Marx Noren</td>\n",
       "      <td>0.000000</td>\n",
       "      <td>0.000000</td>\n",
       "      <td>0.000000</td>\n",
       "      <td>0.000000</td>\n",
       "      <td>0.704232</td>\n",
       "      <td>1.400000</td>\n",
       "      <td>0.254232</td>\n",
       "      <td>-0.450000</td>\n",
       "      <td>1.870000</td>\n",
       "      <td>1.390000</td>\n",
       "      <td>0.659232</td>\n",
       "      <td>0.750000</td>\n",
       "      <td>Northern Michigan</td>\n",
       "      <td>0</td>\n",
       "    </tr>\n",
       "    <tr>\n",
       "      <th>13</th>\n",
       "      <td>Kristof Papp</td>\n",
       "      <td>1.280000</td>\n",
       "      <td>0.825000</td>\n",
       "      <td>0.270000</td>\n",
       "      <td>-0.030000</td>\n",
       "      <td>0.525000</td>\n",
       "      <td>0.650000</td>\n",
       "      <td>0.845000</td>\n",
       "      <td>-0.395000</td>\n",
       "      <td>1.570000</td>\n",
       "      <td>2.880000</td>\n",
       "      <td>0.799232</td>\n",
       "      <td>0.000000</td>\n",
       "      <td>Northern Michigan</td>\n",
       "      <td>16</td>\n",
       "    </tr>\n",
       "    <tr>\n",
       "      <th>14</th>\n",
       "      <td>Matvei Kabanov</td>\n",
       "      <td>0.000000</td>\n",
       "      <td>0.000000</td>\n",
       "      <td>0.000000</td>\n",
       "      <td>0.000000</td>\n",
       "      <td>0.404232</td>\n",
       "      <td>0.000000</td>\n",
       "      <td>0.000000</td>\n",
       "      <td>0.000000</td>\n",
       "      <td>1.090000</td>\n",
       "      <td>0.225000</td>\n",
       "      <td>0.825000</td>\n",
       "      <td>0.150000</td>\n",
       "      <td>Northern Michigan</td>\n",
       "      <td>0</td>\n",
       "    </tr>\n",
       "    <tr>\n",
       "      <th>15</th>\n",
       "      <td>Michael Colella</td>\n",
       "      <td>0.479232</td>\n",
       "      <td>0.150000</td>\n",
       "      <td>0.225000</td>\n",
       "      <td>0.150000</td>\n",
       "      <td>0.225000</td>\n",
       "      <td>-0.075000</td>\n",
       "      <td>-0.075000</td>\n",
       "      <td>-0.750000</td>\n",
       "      <td>1.200000</td>\n",
       "      <td>0.704232</td>\n",
       "      <td>0.715000</td>\n",
       "      <td>0.000000</td>\n",
       "      <td>Northern Michigan</td>\n",
       "      <td>13</td>\n",
       "    </tr>\n",
       "    <tr>\n",
       "      <th>16</th>\n",
       "      <td>Michael Mesic</td>\n",
       "      <td>0.760000</td>\n",
       "      <td>0.065000</td>\n",
       "      <td>1.090000</td>\n",
       "      <td>0.000000</td>\n",
       "      <td>0.225000</td>\n",
       "      <td>0.808464</td>\n",
       "      <td>0.075000</td>\n",
       "      <td>-0.195000</td>\n",
       "      <td>1.529232</td>\n",
       "      <td>0.450000</td>\n",
       "      <td>0.020000</td>\n",
       "      <td>0.150000</td>\n",
       "      <td>Northern Michigan</td>\n",
       "      <td>0</td>\n",
       "    </tr>\n",
       "    <tr>\n",
       "      <th>17</th>\n",
       "      <td>Michael Van Unen</td>\n",
       "      <td>-0.150000</td>\n",
       "      <td>0.075000</td>\n",
       "      <td>0.000000</td>\n",
       "      <td>0.000000</td>\n",
       "      <td>0.000000</td>\n",
       "      <td>0.000000</td>\n",
       "      <td>0.000000</td>\n",
       "      <td>0.000000</td>\n",
       "      <td>1.350000</td>\n",
       "      <td>0.300000</td>\n",
       "      <td>0.705000</td>\n",
       "      <td>0.179232</td>\n",
       "      <td>Northern Michigan</td>\n",
       "      <td>4</td>\n",
       "    </tr>\n",
       "    <tr>\n",
       "      <th>18</th>\n",
       "      <td>Mitch Deelstra</td>\n",
       "      <td>0.254232</td>\n",
       "      <td>0.900000</td>\n",
       "      <td>0.300000</td>\n",
       "      <td>0.075000</td>\n",
       "      <td>0.075000</td>\n",
       "      <td>0.000000</td>\n",
       "      <td>0.150000</td>\n",
       "      <td>-0.515000</td>\n",
       "      <td>0.450000</td>\n",
       "      <td>0.000000</td>\n",
       "      <td>0.255000</td>\n",
       "      <td>0.065000</td>\n",
       "      <td>Northern Michigan</td>\n",
       "      <td>0</td>\n",
       "    </tr>\n",
       "    <tr>\n",
       "      <th>19</th>\n",
       "      <td>Reilly Funk</td>\n",
       "      <td>0.125000</td>\n",
       "      <td>0.115000</td>\n",
       "      <td>0.130000</td>\n",
       "      <td>0.140000</td>\n",
       "      <td>0.000000</td>\n",
       "      <td>0.000000</td>\n",
       "      <td>0.000000</td>\n",
       "      <td>0.000000</td>\n",
       "      <td>0.000000</td>\n",
       "      <td>0.000000</td>\n",
       "      <td>0.000000</td>\n",
       "      <td>0.000000</td>\n",
       "      <td>Northern Michigan</td>\n",
       "      <td>29</td>\n",
       "    </tr>\n",
       "    <tr>\n",
       "      <th>20</th>\n",
       "      <td>Rylan Van Unen</td>\n",
       "      <td>0.705000</td>\n",
       "      <td>1.015000</td>\n",
       "      <td>0.225000</td>\n",
       "      <td>0.000000</td>\n",
       "      <td>0.000000</td>\n",
       "      <td>0.075000</td>\n",
       "      <td>0.075000</td>\n",
       "      <td>-0.241536</td>\n",
       "      <td>1.005000</td>\n",
       "      <td>1.165000</td>\n",
       "      <td>-0.075000</td>\n",
       "      <td>0.075000</td>\n",
       "      <td>Northern Michigan</td>\n",
       "      <td>15</td>\n",
       "    </tr>\n",
       "    <tr>\n",
       "      <th>21</th>\n",
       "      <td>Tanner Latsch</td>\n",
       "      <td>2.250000</td>\n",
       "      <td>1.980000</td>\n",
       "      <td>0.975000</td>\n",
       "      <td>0.900000</td>\n",
       "      <td>0.075000</td>\n",
       "      <td>0.000000</td>\n",
       "      <td>0.000000</td>\n",
       "      <td>0.000000</td>\n",
       "      <td>0.000000</td>\n",
       "      <td>0.000000</td>\n",
       "      <td>0.600000</td>\n",
       "      <td>0.329232</td>\n",
       "      <td>Northern Michigan</td>\n",
       "      <td>12</td>\n",
       "    </tr>\n",
       "    <tr>\n",
       "      <th>22</th>\n",
       "      <td>Tyrell Boucher</td>\n",
       "      <td>0.000000</td>\n",
       "      <td>0.000000</td>\n",
       "      <td>0.000000</td>\n",
       "      <td>0.000000</td>\n",
       "      <td>0.150000</td>\n",
       "      <td>0.479232</td>\n",
       "      <td>0.000000</td>\n",
       "      <td>-0.675000</td>\n",
       "      <td>0.300000</td>\n",
       "      <td>0.000000</td>\n",
       "      <td>0.000000</td>\n",
       "      <td>0.225000</td>\n",
       "      <td>Northern Michigan</td>\n",
       "      <td>6</td>\n",
       "    </tr>\n",
       "    <tr>\n",
       "      <th>23</th>\n",
       "      <td>Viking Gustafsson Nyberg</td>\n",
       "      <td>0.179232</td>\n",
       "      <td>0.000000</td>\n",
       "      <td>0.085000</td>\n",
       "      <td>0.329232</td>\n",
       "      <td>0.075000</td>\n",
       "      <td>0.675000</td>\n",
       "      <td>0.150000</td>\n",
       "      <td>-0.825000</td>\n",
       "      <td>0.479232</td>\n",
       "      <td>0.629232</td>\n",
       "      <td>0.075000</td>\n",
       "      <td>0.583464</td>\n",
       "      <td>Northern Michigan</td>\n",
       "      <td>0</td>\n",
       "    </tr>\n",
       "    <tr>\n",
       "      <th>24</th>\n",
       "      <td>Zach Michaelis</td>\n",
       "      <td>0.000000</td>\n",
       "      <td>0.000000</td>\n",
       "      <td>0.000000</td>\n",
       "      <td>-0.075000</td>\n",
       "      <td>0.000000</td>\n",
       "      <td>0.329232</td>\n",
       "      <td>0.000000</td>\n",
       "      <td>0.040000</td>\n",
       "      <td>0.000000</td>\n",
       "      <td>0.000000</td>\n",
       "      <td>0.000000</td>\n",
       "      <td>0.000000</td>\n",
       "      <td>Northern Michigan</td>\n",
       "      <td>27</td>\n",
       "    </tr>\n",
       "  </tbody>\n",
       "</table>\n",
       "</div>"
      ],
      "text/plain": [
       "                      Player  MinnesotaDuluth  MinnesotaDuluth  Arizona State  \\\n",
       "0            Aiden Gallacher         0.075000         0.075000       0.150000   \n",
       "1             Andre Ghantous         1.719232         3.110000       0.855000   \n",
       "2              Artem Shlaine         0.950000         0.595000       0.380000   \n",
       "3             Brendan Poshak         0.000000         0.000000       0.000000   \n",
       "4                 Colby Enns         1.015000         0.000000       0.254232   \n",
       "5                Connor Eddy         0.555000         0.583464       0.750000   \n",
       "6            Grant Slukynsky         0.065000         0.329232       0.900000   \n",
       "7                Isack Bandu         0.254232         0.734232       0.554232   \n",
       "8                Jack Perbix         0.170000         0.835000       0.489232   \n",
       "9             Jakob Peterson         0.000000         0.000000       0.150000   \n",
       "10                Jeppe Urup         0.000000         0.000000       0.404232   \n",
       "11               Josh Zinger         1.910000         0.884232       0.865000   \n",
       "12          Kevin Marx Noren         0.000000         0.000000       0.000000   \n",
       "13              Kristof Papp         1.280000         0.825000       0.270000   \n",
       "14            Matvei Kabanov         0.000000         0.000000       0.000000   \n",
       "15           Michael Colella         0.479232         0.150000       0.225000   \n",
       "16             Michael Mesic         0.760000         0.065000       1.090000   \n",
       "17          Michael Van Unen        -0.150000         0.075000       0.000000   \n",
       "18            Mitch Deelstra         0.254232         0.900000       0.300000   \n",
       "19               Reilly Funk         0.125000         0.115000       0.130000   \n",
       "20            Rylan Van Unen         0.705000         1.015000       0.225000   \n",
       "21             Tanner Latsch         2.250000         1.980000       0.975000   \n",
       "22            Tyrell Boucher         0.000000         0.000000       0.000000   \n",
       "23  Viking Gustafsson Nyberg         0.179232         0.000000       0.085000   \n",
       "24            Zach Michaelis         0.000000         0.000000       0.000000   \n",
       "\n",
       "    Arizona State  Ferris State  Ferris State  St. Thomas  St. Thomas  \\\n",
       "0        0.254232      0.659232      0.940000    0.404232   -0.825000   \n",
       "1        0.254232      0.975000      1.090000    2.163464   -0.420768   \n",
       "2        0.735000      0.080000      1.590000    0.865000   -0.505768   \n",
       "3        0.000000      0.000000      0.310000    0.000000    0.000000   \n",
       "4        0.075000      0.000000      0.000000    0.000000   -0.675000   \n",
       "5       -0.025000      0.354232      0.030000    0.110000   -0.810000   \n",
       "6        0.085000      0.725000     -0.095000    0.000000    0.130000   \n",
       "7        0.837696      0.000000      0.075000    0.329232   -0.450000   \n",
       "8        0.394232      0.040000      0.000000    0.140000   -0.735000   \n",
       "9        0.000000      0.000000      0.000000    0.000000   -0.750000   \n",
       "10       0.000000      0.075000     -0.075000    0.150000    0.000000   \n",
       "11       0.555000      0.075000      1.230000    1.693464   -0.600000   \n",
       "12       0.000000      0.704232      1.400000    0.254232   -0.450000   \n",
       "13      -0.030000      0.525000      0.650000    0.845000   -0.395000   \n",
       "14       0.000000      0.404232      0.000000    0.000000    0.000000   \n",
       "15       0.150000      0.225000     -0.075000   -0.075000   -0.750000   \n",
       "16       0.000000      0.225000      0.808464    0.075000   -0.195000   \n",
       "17       0.000000      0.000000      0.000000    0.000000    0.000000   \n",
       "18       0.075000      0.075000      0.000000    0.150000   -0.515000   \n",
       "19       0.140000      0.000000      0.000000    0.000000    0.000000   \n",
       "20       0.000000      0.000000      0.075000    0.075000   -0.241536   \n",
       "21       0.900000      0.075000      0.000000    0.000000    0.000000   \n",
       "22       0.000000      0.150000      0.479232    0.000000   -0.675000   \n",
       "23       0.329232      0.075000      0.675000    0.150000   -0.825000   \n",
       "24      -0.075000      0.000000      0.329232    0.000000    0.040000   \n",
       "\n",
       "    Lake Superior  Lake Superior    Alaska    Alaska               Team  No  \n",
       "0        0.225000       1.080000  0.900000  0.825000  Northern Michigan  10  \n",
       "1        1.165000       0.875000  1.560000  0.905000  Northern Michigan  11  \n",
       "2        3.089232       1.820000  0.000000  0.000000  Northern Michigan   8  \n",
       "3        0.000000       0.000000  0.000000  0.000000  Northern Michigan   0  \n",
       "4        1.465000       0.930000  0.075000  0.150000  Northern Michigan   5  \n",
       "5        1.175000       1.175000  0.319232  1.275000  Northern Michigan  21  \n",
       "6        0.365000       0.290000  0.979232 -0.075000  Northern Michigan   0  \n",
       "7        0.225000       0.375000  0.000000  0.000000  Northern Michigan  24  \n",
       "8        0.215000       0.240000  0.000000  0.414232  Northern Michigan   0  \n",
       "9        0.000000       0.000000  0.000000  0.000000  Northern Michigan  23  \n",
       "10       0.000000       0.000000  0.000000  0.000000  Northern Michigan   0  \n",
       "11       0.535000       1.350000 -0.075000  0.715000  Northern Michigan  20  \n",
       "12       1.870000       1.390000  0.659232  0.750000  Northern Michigan   0  \n",
       "13       1.570000       2.880000  0.799232  0.000000  Northern Michigan  16  \n",
       "14       1.090000       0.225000  0.825000  0.150000  Northern Michigan   0  \n",
       "15       1.200000       0.704232  0.715000  0.000000  Northern Michigan  13  \n",
       "16       1.529232       0.450000  0.020000  0.150000  Northern Michigan   0  \n",
       "17       1.350000       0.300000  0.705000  0.179232  Northern Michigan   4  \n",
       "18       0.450000       0.000000  0.255000  0.065000  Northern Michigan   0  \n",
       "19       0.000000       0.000000  0.000000  0.000000  Northern Michigan  29  \n",
       "20       1.005000       1.165000 -0.075000  0.075000  Northern Michigan  15  \n",
       "21       0.000000       0.000000  0.600000  0.329232  Northern Michigan  12  \n",
       "22       0.300000       0.000000  0.000000  0.225000  Northern Michigan   6  \n",
       "23       0.479232       0.629232  0.075000  0.583464  Northern Michigan   0  \n",
       "24       0.000000       0.000000  0.000000  0.000000  Northern Michigan  27  "
      ]
     },
     "execution_count": 31,
     "metadata": {},
     "output_type": "execute_result"
    }
   ],
   "source": [
    "team_tables[unique_teams[52]].head(25)"
   ]
  },
  {
   "cell_type": "markdown",
   "metadata": {},
   "source": [
    "# Create an Overall Dataframe, calculate average and sort"
   ]
  },
  {
   "cell_type": "code",
   "execution_count": null,
   "metadata": {},
   "outputs": [],
   "source": []
  },
  {
   "cell_type": "code",
   "execution_count": 32,
   "metadata": {},
   "outputs": [],
   "source": [
    "\n",
    "################## NOT WORKING\n",
    "# # Step 1: Identify the maximum number of games played\n",
    "# max_games = max(df.shape[1] for df in team_tables.values()) - 1  # -1 for 'Player' column\n",
    "\n",
    "# # Create a list to store standardized DataFrames\n",
    "# dfs = []\n",
    "\n",
    "# for team, df in team_tables.items():\n",
    "#     # Reset index to get 'Player' as a column, if not already\n",
    "#     if 'Player' not in df.columns:\n",
    "#         df = df.reset_index()\n",
    "\n",
    "#     # Add missing game columns\n",
    "#     missing_cols = max_games - (df.shape[1] - 1)  # -1 for 'Player' column\n",
    "#     for i in range(missing_cols):\n",
    "#         df[f'Game{df.shape[1]}'] = 0\n",
    "\n",
    "#     # Add 'Team' column\n",
    "#     df['Team'] = team\n",
    "\n",
    "#     # Add the standardized DataFrame to the list\n",
    "#     dfs.append(df)\n",
    "################## NOT WORKING\n",
    "\n",
    "\n",
    "# # Step 2: Concatenate all standardized DataFrames\n",
    "# all_teams_df = pd.concat(dfs, ignore_index=True)\n",
    "# # Step 2: Calculate Summary Statistics\n",
    "# # Total Points\n",
    "# all_teams_df['Total_Points'] = all_teams_df.drop(['Player', 'Team'], axis=1).sum(axis=1)\n",
    "\n",
    "# # Average PPG\n",
    "# all_teams_df['Avg_PPG'] = all_teams_df.drop(['Player', 'Team', 'Total_Points'], axis=1).apply(lambda row: row[row != 0].mean(), axis=1)\n",
    "\n",
    "# # Function to calculate average for the last N games\n",
    "# def avg_last_games(row, n):\n",
    "#     last_games = row[row != 0][-n:]\n",
    "#     return last_games.mean() if not last_games.empty else 0\n",
    "\n",
    "# # Average for last 5 games\n",
    "# all_teams_df['Avg_Last_5_Games'] = all_teams_df.drop(['Player', 'Team', 'Total_Points', 'Avg_PPG'], axis=1).apply(lambda row: avg_last_games(row, 5), axis=1)\n",
    "\n",
    "# # Average for last 10 games\n",
    "# all_teams_df['Avg_Last_10_Games'] = all_teams_df.drop(['Player', 'Team', 'Total_Points', 'Avg_PPG', 'Avg_Last_5_Games'], axis=1).apply(lambda row: avg_last_games(row, 10), axis=1)\n",
    "\n",
    "\n"
   ]
  },
  {
   "cell_type": "code",
   "execution_count": 33,
   "metadata": {},
   "outputs": [],
   "source": [
    "# # Display the resulting DataFrame\n",
    "# print(all_teams_df.head())\n",
    "\n",
    "# all_teams_df.sample(25)\n",
    "\n",
    "# all_teams_df.head(25)"
   ]
  },
  {
   "cell_type": "code",
   "execution_count": 34,
   "metadata": {},
   "outputs": [],
   "source": [
    "# ## Concat all the team tables together to single dataframe\n",
    "# # Concatenate all the team tables together\n",
    "# all_team_tables = pd.concat(team_tables.values())\n",
    "\n",
    "# # Display the first few rows of the concatenated table\n",
    "# all_team_tables.head(25)\n",
    "\n",
    "\n",
    "# ## Examine dictionary of team tables\n",
    "# # team_tables\n",
    "\n",
    "# # Output a text file of the team_tables dictionary - for examination\n",
    "# # with open('../TEMP/team_tables.txt', 'w') as file:\n",
    "# #     file.write(str(team_tables))\n",
    "# #     file.close()\n",
    "\n"
   ]
  },
  {
   "cell_type": "markdown",
   "metadata": {},
   "source": [
    "# Output Raw CSVs to directory for each team"
   ]
  },
  {
   "cell_type": "code",
   "execution_count": 35,
   "metadata": {},
   "outputs": [],
   "source": [
    "## Save each table to a csv with the team name and the season\n",
    "\n",
    "## Folder to save to\n",
    "# folder_path = '../TEMP/2022_csv_dump/' # Folder for 2022\n",
    "folder_path = '../TEMP/YTD_csv_dump/' # Folder for 2023 Year To Date\n",
    "\n",
    "## Loop through each team and save the csv\n",
    "for team in unique_teams:\n",
    "    team_tables[team].to_csv(f'{folder_path}{team}_GAME_SCORES.csv')\n",
    "\n",
    "\n",
    "\n"
   ]
  },
  {
   "cell_type": "markdown",
   "metadata": {},
   "source": [
    "# Pivot Tables of Game Scores for Every Player and Every Team should all be stored now if it ran cleanly "
   ]
  },
  {
   "cell_type": "code",
   "execution_count": 36,
   "metadata": {},
   "outputs": [
    {
     "data": {
      "application/vnd.plotly.v1+json": {
       "config": {
        "plotlyServerURL": "https://plot.ly"
       },
       "data": [
        {
         "cells": {
          "align": "left",
          "fill": {
           "color": "lavender"
          },
          "values": [
           [
            "AJ Casperson",
            "Aaron Grounds",
            "Adam Pitters",
            "Atte Lehikoinen",
            "Austin Brimmer",
            "Cade Mason",
            "Chris Pappas",
            "Daniel Baldassarra",
            "Garrett Valk",
            "Grayson Constable",
            "Heath Armstrong",
            "Isaiah Fox",
            "Jack Quinn",
            "John Gormley",
            "Jordan Di Cicco",
            "Josh Zary",
            "Kade Peterson",
            "Noah Kane",
            "Nolan Welsh",
            "Peter Muzyka",
            "Preston Brodziak",
            "Remy Parker",
            "Riley Wallack",
            "Valtteri Piironen",
            "Xan Gurney",
            "Zachary Nazzarett"
           ],
           [
            0,
            0.555,
            0.065,
            0,
            0,
            0.22499999999999998,
            -0.075,
            0,
            0.075,
            0.7899999999999999,
            0,
            0.075,
            1.29846394984326,
            0.05499999999999999,
            0,
            -0.03,
            0.075,
            1.2784639498432602,
            0,
            0.01,
            0.9,
            0.15,
            0.945,
            0.075,
            0,
            0
           ],
           [
            0,
            0.49846394984326015,
            0.145,
            0,
            0,
            0.555,
            0,
            0,
            0,
            1.7442319749216302,
            0,
            0.46923197492163005,
            0.5084639498432602,
            0.10423197492163008,
            0.715,
            0.92923197492163,
            0.2542319749216301,
            -0.15,
            0.065,
            0.2542319749216301,
            -0.01999999999999999,
            0.22499999999999998,
            0.24,
            0.15,
            0,
            0
           ],
           [
            0,
            0.94,
            0.23499999999999996,
            0,
            0,
            0.47923197492163006,
            0.14999999999999997,
            0,
            0.14999999999999997,
            0.22499999999999998,
            0,
            0.47923197492163006,
            0.40423197492163004,
            0.12999999999999998,
            1.0899999999999999,
            0.41423197492163005,
            0.14999999999999997,
            0.20499999999999996,
            0.23499999999999996,
            0.40423197492163004,
            0.18499999999999994,
            1.135,
            0.74,
            1.22923197492163,
            0,
            0
           ],
           [
            [
             0,
             0
            ],
            [
             0.07500000000000002,
             0.75
            ],
            [
             0.425,
             0.075
            ],
            [
             0,
             0
            ],
            [
             1.69,
             0.555
            ],
            [
             2.6149999999999998,
             0.79
            ],
            [
             0.9,
             0.075
            ],
            [
             0.15000000000000002,
             0
            ],
            [
             0.07500000000000002,
             0.225
            ],
            [
             1.2000000000000002,
             1.0899999999999999
            ],
            [
             0,
             0
            ],
            [
             2.36,
             1.2799999999999998
            ],
            [
             0,
             0.15
            ],
            [
             0.865,
             0.17923197492163007
            ],
            [
             0.975,
             -0.075
            ],
            [
             1.56,
             1.81
            ],
            [
             0,
             0
            ],
            [
             0,
             0
            ],
            [
             1.245,
             0.010000000000000009
            ],
            [
             0.225,
             -0.15
            ],
            [
             0.32,
             0.22499999999999998
            ],
            [
             2.025,
             1.65
            ],
            [
             0.24000000000000002,
             0.075
            ],
            [
             0.4042319749216301,
             -0.075
            ],
            [
             0,
             0
            ],
            [
             0,
             0
            ]
           ],
           [
            [
             0,
             0
            ],
            [
             0.075,
             0.2542319749216301
            ],
            [
             0.2842319749216301,
             0
            ],
            [
             0,
             0
            ],
            [
             0.675,
             0.22499999999999998
            ],
            [
             0.07499999999999998,
             0
            ],
            [
             1.4100000000000001,
             0.9
            ],
            [
             0,
             0
            ],
            [
             0.075,
             0
            ],
            [
             0.075,
             0.5149999999999999
            ],
            [
             0,
             0.705
            ],
            [
             0.4042319749216301,
             0.7999999999999999
            ],
            [
             0.15,
             0.065
            ],
            [
             -0.08499999999999999,
             0.5084639498432602
            ],
            [
             0.4042319749216301,
             0
            ],
            [
             1.72,
             1.025
            ],
            [
             0,
             0.15
            ],
            [
             -0.01,
             0
            ],
            [
             0.5084639498432602,
             0
            ],
            [
             0,
             0.075
            ],
            [
             -0.075,
             0.2742319749216301
            ],
            [
             0.985,
             0.6
            ],
            [
             -0.095,
             0.105
            ],
            [
             0.075,
             0
            ],
            [
             0,
             0
            ],
            [
             0,
             0
            ]
           ],
           [
            [
             0,
             0
            ],
            [
             0.075,
             0.2542319749216301
            ],
            [
             0.2842319749216301,
             0
            ],
            [
             0,
             0
            ],
            [
             0.675,
             0.22499999999999998
            ],
            [
             0.07499999999999998,
             0
            ],
            [
             1.4100000000000001,
             0.9
            ],
            [
             0,
             0
            ],
            [
             0.075,
             0
            ],
            [
             0.075,
             0.5149999999999999
            ],
            [
             0,
             0.705
            ],
            [
             0.4042319749216301,
             0.7999999999999999
            ],
            [
             0.15,
             0.065
            ],
            [
             -0.08499999999999999,
             0.5084639498432602
            ],
            [
             0.4042319749216301,
             0
            ],
            [
             1.72,
             1.025
            ],
            [
             0,
             0.15
            ],
            [
             -0.01,
             0
            ],
            [
             0.5084639498432602,
             0
            ],
            [
             0,
             0.075
            ],
            [
             -0.075,
             0.2742319749216301
            ],
            [
             0.985,
             0.6
            ],
            [
             -0.095,
             0.105
            ],
            [
             0.075,
             0
            ],
            [
             0,
             0
            ],
            [
             0,
             0
            ]
           ],
           [
            [
             0,
             0
            ],
            [
             0.07500000000000002,
             0.75
            ],
            [
             0.425,
             0.075
            ],
            [
             0,
             0
            ],
            [
             1.69,
             0.555
            ],
            [
             2.6149999999999998,
             0.79
            ],
            [
             0.9,
             0.075
            ],
            [
             0.15000000000000002,
             0
            ],
            [
             0.07500000000000002,
             0.225
            ],
            [
             1.2000000000000002,
             1.0899999999999999
            ],
            [
             0,
             0
            ],
            [
             2.36,
             1.2799999999999998
            ],
            [
             0,
             0.15
            ],
            [
             0.865,
             0.17923197492163007
            ],
            [
             0.975,
             -0.075
            ],
            [
             1.56,
             1.81
            ],
            [
             0,
             0
            ],
            [
             0,
             0
            ],
            [
             1.245,
             0.010000000000000009
            ],
            [
             0.225,
             -0.15
            ],
            [
             0.32,
             0.22499999999999998
            ],
            [
             2.025,
             1.65
            ],
            [
             0.24000000000000002,
             0.075
            ],
            [
             0.4042319749216301,
             -0.075
            ],
            [
             0,
             0
            ],
            [
             0,
             0
            ]
           ],
           [
            -0.075,
            0,
            0,
            0,
            0.075,
            0.075,
            0.2542319749216301,
            0,
            0.17923197492163007,
            0.6292319749216301,
            -0.009999999999999998,
            0.955,
            -0.075,
            -0.15,
            -0.075,
            0.04499999999999999,
            0,
            0.725,
            0.815,
            -0.14999999999999997,
            0.07,
            0.14999999999999997,
            0.039999999999999994,
            0,
            0,
            0
           ],
           [
            [
             0.075,
             0
            ],
            [
             0.48923197492163006,
             0.3292319749216301
            ],
            [
             0,
             0
            ],
            [
             0,
             0
            ],
            [
             0.075,
             0.975
            ],
            [
             0.8942319749216301,
             1.12
            ],
            [
             0.63,
             0.075
            ],
            [
             0,
             0
            ],
            [
             0.15,
             0.075
            ],
            [
             0.4042319749216301,
             0.075
            ],
            [
             0,
             0
            ],
            [
             0.96923197492163,
             2.7342319749216295
            ],
            [
             0.5834639498432601,
             0
            ],
            [
             0.3292319749216301,
             0.3292319749216301
            ],
            [
             0.3292319749216301,
             0.63
            ],
            [
             1.34,
             2.255
            ],
            [
             0,
             0
            ],
            [
             0.89,
             0.565
            ],
            [
             0.13,
             0.05
            ],
            [
             0.5834639498432601,
             -0.075
            ],
            [
             0,
             0.24923197492163007
            ],
            [
             0.075,
             0.075
            ],
            [
             0.05500000000000001,
             0.305
            ],
            [
             0,
             0
            ],
            [
             0,
             0
            ],
            [
             0,
             0
            ]
           ],
           [
            [
             0.075,
             0
            ],
            [
             0.48923197492163006,
             0.3292319749216301
            ],
            [
             0,
             0
            ],
            [
             0,
             0
            ],
            [
             0.075,
             0.975
            ],
            [
             0.8942319749216301,
             1.12
            ],
            [
             0.63,
             0.075
            ],
            [
             0,
             0
            ],
            [
             0.15,
             0.075
            ],
            [
             0.4042319749216301,
             0.075
            ],
            [
             0,
             0
            ],
            [
             0.96923197492163,
             2.7342319749216295
            ],
            [
             0.5834639498432601,
             0
            ],
            [
             0.3292319749216301,
             0.3292319749216301
            ],
            [
             0.3292319749216301,
             0.63
            ],
            [
             1.34,
             2.255
            ],
            [
             0,
             0
            ],
            [
             0.89,
             0.565
            ],
            [
             0.13,
             0.05
            ],
            [
             0.5834639498432601,
             -0.075
            ],
            [
             0,
             0.24923197492163007
            ],
            [
             0.075,
             0.075
            ],
            [
             0.05500000000000001,
             0.305
            ],
            [
             0,
             0
            ],
            [
             0,
             0
            ],
            [
             0,
             0
            ]
           ],
           [
            [
             0,
             0
            ],
            [
             0.66423197492163,
             0
            ],
            [
             0.075,
             0
            ],
            [
             0.15,
             0
            ],
            [
             -0.075,
             0.4042319749216301
            ],
            [
             0,
             1.5399999999999998
            ],
            [
             0,
             0.865
            ],
            [
             0,
             0.3292319749216301
            ],
            [
             0.15,
             0.2542319749216301
            ],
            [
             0.3,
             1.05
            ],
            [
             0,
             0.19
            ],
            [
             0.3292319749216301,
             1.4492319749216303
            ],
            [
             0.075,
             0.715
            ],
            [
             0.22499999999999998,
             1.0899999999999999
            ],
            [
             0.075,
             0
            ],
            [
             0.3892319749216301,
             0.14500000000000002
            ],
            [
             0,
             0
            ],
            [
             0.13999999999999999,
             2.3649999999999998
            ],
            [
             0.27999999999999997,
             0.995
            ],
            [
             0.075,
             0
            ],
            [
             0.15999999999999998,
             1.5184639498432602
            ],
            [
             0.3,
             0.07499999999999998
            ],
            [
             0.03,
             0.3
            ],
            [
             0,
             0
            ],
            [
             0,
             0.075
            ],
            [
             0,
             0
            ]
           ],
           [
            [
             0,
             0
            ],
            [
             0.66423197492163,
             0
            ],
            [
             0.075,
             0
            ],
            [
             0.15,
             0
            ],
            [
             -0.075,
             0.4042319749216301
            ],
            [
             0,
             1.5399999999999998
            ],
            [
             0,
             0.865
            ],
            [
             0,
             0.3292319749216301
            ],
            [
             0.15,
             0.2542319749216301
            ],
            [
             0.3,
             1.05
            ],
            [
             0,
             0.19
            ],
            [
             0.3292319749216301,
             1.4492319749216303
            ],
            [
             0.075,
             0.715
            ],
            [
             0.22499999999999998,
             1.0899999999999999
            ],
            [
             0.075,
             0
            ],
            [
             0.3892319749216301,
             0.14500000000000002
            ],
            [
             0,
             0
            ],
            [
             0.13999999999999999,
             2.3649999999999998
            ],
            [
             0.27999999999999997,
             0.995
            ],
            [
             0.075,
             0
            ],
            [
             0.15999999999999998,
             1.5184639498432602
            ],
            [
             0.3,
             0.07499999999999998
            ],
            [
             0.03,
             0.3
            ],
            [
             0,
             0
            ],
            [
             0,
             0.075
            ],
            [
             0,
             0
            ]
           ],
           [
            "Long Island",
            "Long Island",
            "Long Island",
            "Long Island",
            "Long Island",
            "Long Island",
            "Long Island",
            "Long Island",
            "Long Island",
            "Long Island",
            "Long Island",
            "Long Island",
            "Long Island",
            "Long Island",
            "Long Island",
            "Long Island",
            "Long Island",
            "Long Island",
            "Long Island",
            "Long Island",
            "Long Island",
            "Long Island",
            "Long Island",
            "Long Island",
            "Long Island",
            "Long Island"
           ],
           [
            3,
            0,
            0,
            0,
            21,
            6,
            11,
            9,
            0,
            0,
            0,
            8,
            19,
            24,
            7,
            13,
            0,
            44,
            17,
            0,
            25,
            0,
            22,
            5,
            16,
            12
           ]
          ]
         },
         "header": {
          "align": "left",
          "fill": {
           "color": "paleturquoise"
          },
          "values": [
           "Player",
           "Penn State",
           "Holy Cross",
           "Boston College",
           "Stonehill",
           "Colorado College",
           "Colorado College",
           "Stonehill",
           "Sacred Heart",
           "Omaha",
           "Omaha",
           "Lindenwood",
           "Lindenwood",
           "Team",
           "No"
          ]
         },
         "type": "table"
        }
       ],
       "layout": {
        "template": {
         "data": {
          "bar": [
           {
            "error_x": {
             "color": "#2a3f5f"
            },
            "error_y": {
             "color": "#2a3f5f"
            },
            "marker": {
             "line": {
              "color": "#E5ECF6",
              "width": 0.5
             },
             "pattern": {
              "fillmode": "overlay",
              "size": 10,
              "solidity": 0.2
             }
            },
            "type": "bar"
           }
          ],
          "barpolar": [
           {
            "marker": {
             "line": {
              "color": "#E5ECF6",
              "width": 0.5
             },
             "pattern": {
              "fillmode": "overlay",
              "size": 10,
              "solidity": 0.2
             }
            },
            "type": "barpolar"
           }
          ],
          "carpet": [
           {
            "aaxis": {
             "endlinecolor": "#2a3f5f",
             "gridcolor": "white",
             "linecolor": "white",
             "minorgridcolor": "white",
             "startlinecolor": "#2a3f5f"
            },
            "baxis": {
             "endlinecolor": "#2a3f5f",
             "gridcolor": "white",
             "linecolor": "white",
             "minorgridcolor": "white",
             "startlinecolor": "#2a3f5f"
            },
            "type": "carpet"
           }
          ],
          "choropleth": [
           {
            "colorbar": {
             "outlinewidth": 0,
             "ticks": ""
            },
            "type": "choropleth"
           }
          ],
          "contour": [
           {
            "colorbar": {
             "outlinewidth": 0,
             "ticks": ""
            },
            "colorscale": [
             [
              0,
              "#0d0887"
             ],
             [
              0.1111111111111111,
              "#46039f"
             ],
             [
              0.2222222222222222,
              "#7201a8"
             ],
             [
              0.3333333333333333,
              "#9c179e"
             ],
             [
              0.4444444444444444,
              "#bd3786"
             ],
             [
              0.5555555555555556,
              "#d8576b"
             ],
             [
              0.6666666666666666,
              "#ed7953"
             ],
             [
              0.7777777777777778,
              "#fb9f3a"
             ],
             [
              0.8888888888888888,
              "#fdca26"
             ],
             [
              1,
              "#f0f921"
             ]
            ],
            "type": "contour"
           }
          ],
          "contourcarpet": [
           {
            "colorbar": {
             "outlinewidth": 0,
             "ticks": ""
            },
            "type": "contourcarpet"
           }
          ],
          "heatmap": [
           {
            "colorbar": {
             "outlinewidth": 0,
             "ticks": ""
            },
            "colorscale": [
             [
              0,
              "#0d0887"
             ],
             [
              0.1111111111111111,
              "#46039f"
             ],
             [
              0.2222222222222222,
              "#7201a8"
             ],
             [
              0.3333333333333333,
              "#9c179e"
             ],
             [
              0.4444444444444444,
              "#bd3786"
             ],
             [
              0.5555555555555556,
              "#d8576b"
             ],
             [
              0.6666666666666666,
              "#ed7953"
             ],
             [
              0.7777777777777778,
              "#fb9f3a"
             ],
             [
              0.8888888888888888,
              "#fdca26"
             ],
             [
              1,
              "#f0f921"
             ]
            ],
            "type": "heatmap"
           }
          ],
          "heatmapgl": [
           {
            "colorbar": {
             "outlinewidth": 0,
             "ticks": ""
            },
            "colorscale": [
             [
              0,
              "#0d0887"
             ],
             [
              0.1111111111111111,
              "#46039f"
             ],
             [
              0.2222222222222222,
              "#7201a8"
             ],
             [
              0.3333333333333333,
              "#9c179e"
             ],
             [
              0.4444444444444444,
              "#bd3786"
             ],
             [
              0.5555555555555556,
              "#d8576b"
             ],
             [
              0.6666666666666666,
              "#ed7953"
             ],
             [
              0.7777777777777778,
              "#fb9f3a"
             ],
             [
              0.8888888888888888,
              "#fdca26"
             ],
             [
              1,
              "#f0f921"
             ]
            ],
            "type": "heatmapgl"
           }
          ],
          "histogram": [
           {
            "marker": {
             "pattern": {
              "fillmode": "overlay",
              "size": 10,
              "solidity": 0.2
             }
            },
            "type": "histogram"
           }
          ],
          "histogram2d": [
           {
            "colorbar": {
             "outlinewidth": 0,
             "ticks": ""
            },
            "colorscale": [
             [
              0,
              "#0d0887"
             ],
             [
              0.1111111111111111,
              "#46039f"
             ],
             [
              0.2222222222222222,
              "#7201a8"
             ],
             [
              0.3333333333333333,
              "#9c179e"
             ],
             [
              0.4444444444444444,
              "#bd3786"
             ],
             [
              0.5555555555555556,
              "#d8576b"
             ],
             [
              0.6666666666666666,
              "#ed7953"
             ],
             [
              0.7777777777777778,
              "#fb9f3a"
             ],
             [
              0.8888888888888888,
              "#fdca26"
             ],
             [
              1,
              "#f0f921"
             ]
            ],
            "type": "histogram2d"
           }
          ],
          "histogram2dcontour": [
           {
            "colorbar": {
             "outlinewidth": 0,
             "ticks": ""
            },
            "colorscale": [
             [
              0,
              "#0d0887"
             ],
             [
              0.1111111111111111,
              "#46039f"
             ],
             [
              0.2222222222222222,
              "#7201a8"
             ],
             [
              0.3333333333333333,
              "#9c179e"
             ],
             [
              0.4444444444444444,
              "#bd3786"
             ],
             [
              0.5555555555555556,
              "#d8576b"
             ],
             [
              0.6666666666666666,
              "#ed7953"
             ],
             [
              0.7777777777777778,
              "#fb9f3a"
             ],
             [
              0.8888888888888888,
              "#fdca26"
             ],
             [
              1,
              "#f0f921"
             ]
            ],
            "type": "histogram2dcontour"
           }
          ],
          "mesh3d": [
           {
            "colorbar": {
             "outlinewidth": 0,
             "ticks": ""
            },
            "type": "mesh3d"
           }
          ],
          "parcoords": [
           {
            "line": {
             "colorbar": {
              "outlinewidth": 0,
              "ticks": ""
             }
            },
            "type": "parcoords"
           }
          ],
          "pie": [
           {
            "automargin": true,
            "type": "pie"
           }
          ],
          "scatter": [
           {
            "fillpattern": {
             "fillmode": "overlay",
             "size": 10,
             "solidity": 0.2
            },
            "type": "scatter"
           }
          ],
          "scatter3d": [
           {
            "line": {
             "colorbar": {
              "outlinewidth": 0,
              "ticks": ""
             }
            },
            "marker": {
             "colorbar": {
              "outlinewidth": 0,
              "ticks": ""
             }
            },
            "type": "scatter3d"
           }
          ],
          "scattercarpet": [
           {
            "marker": {
             "colorbar": {
              "outlinewidth": 0,
              "ticks": ""
             }
            },
            "type": "scattercarpet"
           }
          ],
          "scattergeo": [
           {
            "marker": {
             "colorbar": {
              "outlinewidth": 0,
              "ticks": ""
             }
            },
            "type": "scattergeo"
           }
          ],
          "scattergl": [
           {
            "marker": {
             "colorbar": {
              "outlinewidth": 0,
              "ticks": ""
             }
            },
            "type": "scattergl"
           }
          ],
          "scattermapbox": [
           {
            "marker": {
             "colorbar": {
              "outlinewidth": 0,
              "ticks": ""
             }
            },
            "type": "scattermapbox"
           }
          ],
          "scatterpolar": [
           {
            "marker": {
             "colorbar": {
              "outlinewidth": 0,
              "ticks": ""
             }
            },
            "type": "scatterpolar"
           }
          ],
          "scatterpolargl": [
           {
            "marker": {
             "colorbar": {
              "outlinewidth": 0,
              "ticks": ""
             }
            },
            "type": "scatterpolargl"
           }
          ],
          "scatterternary": [
           {
            "marker": {
             "colorbar": {
              "outlinewidth": 0,
              "ticks": ""
             }
            },
            "type": "scatterternary"
           }
          ],
          "surface": [
           {
            "colorbar": {
             "outlinewidth": 0,
             "ticks": ""
            },
            "colorscale": [
             [
              0,
              "#0d0887"
             ],
             [
              0.1111111111111111,
              "#46039f"
             ],
             [
              0.2222222222222222,
              "#7201a8"
             ],
             [
              0.3333333333333333,
              "#9c179e"
             ],
             [
              0.4444444444444444,
              "#bd3786"
             ],
             [
              0.5555555555555556,
              "#d8576b"
             ],
             [
              0.6666666666666666,
              "#ed7953"
             ],
             [
              0.7777777777777778,
              "#fb9f3a"
             ],
             [
              0.8888888888888888,
              "#fdca26"
             ],
             [
              1,
              "#f0f921"
             ]
            ],
            "type": "surface"
           }
          ],
          "table": [
           {
            "cells": {
             "fill": {
              "color": "#EBF0F8"
             },
             "line": {
              "color": "white"
             }
            },
            "header": {
             "fill": {
              "color": "#C8D4E3"
             },
             "line": {
              "color": "white"
             }
            },
            "type": "table"
           }
          ]
         },
         "layout": {
          "annotationdefaults": {
           "arrowcolor": "#2a3f5f",
           "arrowhead": 0,
           "arrowwidth": 1
          },
          "autotypenumbers": "strict",
          "coloraxis": {
           "colorbar": {
            "outlinewidth": 0,
            "ticks": ""
           }
          },
          "colorscale": {
           "diverging": [
            [
             0,
             "#8e0152"
            ],
            [
             0.1,
             "#c51b7d"
            ],
            [
             0.2,
             "#de77ae"
            ],
            [
             0.3,
             "#f1b6da"
            ],
            [
             0.4,
             "#fde0ef"
            ],
            [
             0.5,
             "#f7f7f7"
            ],
            [
             0.6,
             "#e6f5d0"
            ],
            [
             0.7,
             "#b8e186"
            ],
            [
             0.8,
             "#7fbc41"
            ],
            [
             0.9,
             "#4d9221"
            ],
            [
             1,
             "#276419"
            ]
           ],
           "sequential": [
            [
             0,
             "#0d0887"
            ],
            [
             0.1111111111111111,
             "#46039f"
            ],
            [
             0.2222222222222222,
             "#7201a8"
            ],
            [
             0.3333333333333333,
             "#9c179e"
            ],
            [
             0.4444444444444444,
             "#bd3786"
            ],
            [
             0.5555555555555556,
             "#d8576b"
            ],
            [
             0.6666666666666666,
             "#ed7953"
            ],
            [
             0.7777777777777778,
             "#fb9f3a"
            ],
            [
             0.8888888888888888,
             "#fdca26"
            ],
            [
             1,
             "#f0f921"
            ]
           ],
           "sequentialminus": [
            [
             0,
             "#0d0887"
            ],
            [
             0.1111111111111111,
             "#46039f"
            ],
            [
             0.2222222222222222,
             "#7201a8"
            ],
            [
             0.3333333333333333,
             "#9c179e"
            ],
            [
             0.4444444444444444,
             "#bd3786"
            ],
            [
             0.5555555555555556,
             "#d8576b"
            ],
            [
             0.6666666666666666,
             "#ed7953"
            ],
            [
             0.7777777777777778,
             "#fb9f3a"
            ],
            [
             0.8888888888888888,
             "#fdca26"
            ],
            [
             1,
             "#f0f921"
            ]
           ]
          },
          "colorway": [
           "#636efa",
           "#EF553B",
           "#00cc96",
           "#ab63fa",
           "#FFA15A",
           "#19d3f3",
           "#FF6692",
           "#B6E880",
           "#FF97FF",
           "#FECB52"
          ],
          "font": {
           "color": "#2a3f5f"
          },
          "geo": {
           "bgcolor": "white",
           "lakecolor": "white",
           "landcolor": "#E5ECF6",
           "showlakes": true,
           "showland": true,
           "subunitcolor": "white"
          },
          "hoverlabel": {
           "align": "left"
          },
          "hovermode": "closest",
          "mapbox": {
           "style": "light"
          },
          "paper_bgcolor": "white",
          "plot_bgcolor": "#E5ECF6",
          "polar": {
           "angularaxis": {
            "gridcolor": "white",
            "linecolor": "white",
            "ticks": ""
           },
           "bgcolor": "#E5ECF6",
           "radialaxis": {
            "gridcolor": "white",
            "linecolor": "white",
            "ticks": ""
           }
          },
          "scene": {
           "xaxis": {
            "backgroundcolor": "#E5ECF6",
            "gridcolor": "white",
            "gridwidth": 2,
            "linecolor": "white",
            "showbackground": true,
            "ticks": "",
            "zerolinecolor": "white"
           },
           "yaxis": {
            "backgroundcolor": "#E5ECF6",
            "gridcolor": "white",
            "gridwidth": 2,
            "linecolor": "white",
            "showbackground": true,
            "ticks": "",
            "zerolinecolor": "white"
           },
           "zaxis": {
            "backgroundcolor": "#E5ECF6",
            "gridcolor": "white",
            "gridwidth": 2,
            "linecolor": "white",
            "showbackground": true,
            "ticks": "",
            "zerolinecolor": "white"
           }
          },
          "shapedefaults": {
           "line": {
            "color": "#2a3f5f"
           }
          },
          "ternary": {
           "aaxis": {
            "gridcolor": "white",
            "linecolor": "white",
            "ticks": ""
           },
           "baxis": {
            "gridcolor": "white",
            "linecolor": "white",
            "ticks": ""
           },
           "bgcolor": "#E5ECF6",
           "caxis": {
            "gridcolor": "white",
            "linecolor": "white",
            "ticks": ""
           }
          },
          "title": {
           "x": 0.05
          },
          "xaxis": {
           "automargin": true,
           "gridcolor": "white",
           "linecolor": "white",
           "ticks": "",
           "title": {
            "standoff": 15
           },
           "zerolinecolor": "white",
           "zerolinewidth": 2
          },
          "yaxis": {
           "automargin": true,
           "gridcolor": "white",
           "linecolor": "white",
           "ticks": "",
           "title": {
            "standoff": 15
           },
           "zerolinecolor": "white",
           "zerolinewidth": 2
          }
         }
        }
       }
      }
     },
     "metadata": {},
     "output_type": "display_data"
    }
   ],
   "source": [
    "import plotly.graph_objects as go\n",
    "\n",
    "## USE MSU AS EXAMPLE\n",
    "### MSU Is In Index Position 21 in this case outputing csv for MSU\n",
    "team_tables[unique_teams[21]] = team_tables[unique_teams[21]].fillna(0)\n",
    "msu_df = team_tables[unique_teams[21]].copy()\n",
    "\n",
    "csv_df = msu_df.copy()\n",
    "\n",
    "# Create a basic table\n",
    "fig = go.Figure(data=[go.Table(\n",
    "    header=dict(values=list(csv_df.columns),\n",
    "                fill_color='paleturquoise',\n",
    "                align='left'),\n",
    "    cells=dict(values=[csv_df[col] for col in csv_df.columns],\n",
    "               fill_color='lavender',\n",
    "               align='left'))\n",
    "])\n",
    "\n",
    "fig.show()\n"
   ]
  },
  {
   "cell_type": "code",
   "execution_count": 37,
   "metadata": {},
   "outputs": [
    {
     "data": {
      "application/vnd.plotly.v1+json": {
       "config": {
        "plotlyServerURL": "https://plot.ly"
       },
       "data": [
        {
         "cells": {
          "align": "left",
          "fill": {
           "color": "lavender"
          },
          "values": [
           [
            0,
            1,
            2,
            3,
            4,
            5,
            6,
            7,
            8,
            9,
            10,
            11,
            12,
            13,
            14,
            15,
            16,
            17,
            18,
            19,
            20,
            21,
            22,
            23,
            24,
            25
           ],
           [
            "AJ Casperson",
            "Aaron Grounds",
            "Adam Pitters",
            "Atte Lehikoinen",
            "Austin Brimmer",
            "Cade Mason",
            "Chris Pappas",
            "Daniel Baldassarra",
            "Garrett Valk",
            "Grayson Constable",
            "Heath Armstrong",
            "Isaiah Fox",
            "Jack Quinn",
            "John Gormley",
            "Jordan Di Cicco",
            "Josh Zary",
            "Kade Peterson",
            "Noah Kane",
            "Nolan Welsh",
            "Peter Muzyka",
            "Preston Brodziak",
            "Remy Parker",
            "Riley Wallack",
            "Valtteri Piironen",
            "Xan Gurney",
            "Zachary Nazzarett"
           ],
           [
            0,
            0.555,
            0.065,
            0,
            0,
            0.22499999999999998,
            -0.075,
            0,
            0.075,
            0.7899999999999999,
            0,
            0.075,
            1.29846394984326,
            0.05499999999999999,
            0,
            -0.03,
            0.075,
            1.2784639498432602,
            0,
            0.01,
            0.9,
            0.15,
            0.945,
            0.075,
            0,
            0
           ],
           [
            0,
            0.49846394984326015,
            0.145,
            0,
            0,
            0.555,
            0,
            0,
            0,
            1.7442319749216302,
            0,
            0.46923197492163005,
            0.5084639498432602,
            0.10423197492163008,
            0.715,
            0.92923197492163,
            0.2542319749216301,
            -0.15,
            0.065,
            0.2542319749216301,
            -0.01999999999999999,
            0.22499999999999998,
            0.24,
            0.15,
            0,
            0
           ],
           [
            0,
            0.94,
            0.23499999999999996,
            0,
            0,
            0.47923197492163006,
            0.14999999999999997,
            0,
            0.14999999999999997,
            0.22499999999999998,
            0,
            0.47923197492163006,
            0.40423197492163004,
            0.12999999999999998,
            1.0899999999999999,
            0.41423197492163005,
            0.14999999999999997,
            0.20499999999999996,
            0.23499999999999996,
            0.40423197492163004,
            0.18499999999999994,
            1.135,
            0.74,
            1.22923197492163,
            0,
            0
           ],
           [
            [
             0,
             0
            ],
            [
             0.07500000000000002,
             0.75
            ],
            [
             0.425,
             0.075
            ],
            [
             0,
             0
            ],
            [
             1.69,
             0.555
            ],
            [
             2.6149999999999998,
             0.79
            ],
            [
             0.9,
             0.075
            ],
            [
             0.15000000000000002,
             0
            ],
            [
             0.07500000000000002,
             0.225
            ],
            [
             1.2000000000000002,
             1.0899999999999999
            ],
            [
             0,
             0
            ],
            [
             2.36,
             1.2799999999999998
            ],
            [
             0,
             0.15
            ],
            [
             0.865,
             0.17923197492163007
            ],
            [
             0.975,
             -0.075
            ],
            [
             1.56,
             1.81
            ],
            [
             0,
             0
            ],
            [
             0,
             0
            ],
            [
             1.245,
             0.010000000000000009
            ],
            [
             0.225,
             -0.15
            ],
            [
             0.32,
             0.22499999999999998
            ],
            [
             2.025,
             1.65
            ],
            [
             0.24000000000000002,
             0.075
            ],
            [
             0.4042319749216301,
             -0.075
            ],
            [
             0,
             0
            ],
            [
             0,
             0
            ]
           ],
           [
            [
             0,
             0
            ],
            [
             0.075,
             0.2542319749216301
            ],
            [
             0.2842319749216301,
             0
            ],
            [
             0,
             0
            ],
            [
             0.675,
             0.22499999999999998
            ],
            [
             0.07499999999999998,
             0
            ],
            [
             1.4100000000000001,
             0.9
            ],
            [
             0,
             0
            ],
            [
             0.075,
             0
            ],
            [
             0.075,
             0.5149999999999999
            ],
            [
             0,
             0.705
            ],
            [
             0.4042319749216301,
             0.7999999999999999
            ],
            [
             0.15,
             0.065
            ],
            [
             -0.08499999999999999,
             0.5084639498432602
            ],
            [
             0.4042319749216301,
             0
            ],
            [
             1.72,
             1.025
            ],
            [
             0,
             0.15
            ],
            [
             -0.01,
             0
            ],
            [
             0.5084639498432602,
             0
            ],
            [
             0,
             0.075
            ],
            [
             -0.075,
             0.2742319749216301
            ],
            [
             0.985,
             0.6
            ],
            [
             -0.095,
             0.105
            ],
            [
             0.075,
             0
            ],
            [
             0,
             0
            ],
            [
             0,
             0
            ]
           ],
           [
            [
             0,
             0
            ],
            [
             0.075,
             0.2542319749216301
            ],
            [
             0.2842319749216301,
             0
            ],
            [
             0,
             0
            ],
            [
             0.675,
             0.22499999999999998
            ],
            [
             0.07499999999999998,
             0
            ],
            [
             1.4100000000000001,
             0.9
            ],
            [
             0,
             0
            ],
            [
             0.075,
             0
            ],
            [
             0.075,
             0.5149999999999999
            ],
            [
             0,
             0.705
            ],
            [
             0.4042319749216301,
             0.7999999999999999
            ],
            [
             0.15,
             0.065
            ],
            [
             -0.08499999999999999,
             0.5084639498432602
            ],
            [
             0.4042319749216301,
             0
            ],
            [
             1.72,
             1.025
            ],
            [
             0,
             0.15
            ],
            [
             -0.01,
             0
            ],
            [
             0.5084639498432602,
             0
            ],
            [
             0,
             0.075
            ],
            [
             -0.075,
             0.2742319749216301
            ],
            [
             0.985,
             0.6
            ],
            [
             -0.095,
             0.105
            ],
            [
             0.075,
             0
            ],
            [
             0,
             0
            ],
            [
             0,
             0
            ]
           ],
           [
            [
             0,
             0
            ],
            [
             0.07500000000000002,
             0.75
            ],
            [
             0.425,
             0.075
            ],
            [
             0,
             0
            ],
            [
             1.69,
             0.555
            ],
            [
             2.6149999999999998,
             0.79
            ],
            [
             0.9,
             0.075
            ],
            [
             0.15000000000000002,
             0
            ],
            [
             0.07500000000000002,
             0.225
            ],
            [
             1.2000000000000002,
             1.0899999999999999
            ],
            [
             0,
             0
            ],
            [
             2.36,
             1.2799999999999998
            ],
            [
             0,
             0.15
            ],
            [
             0.865,
             0.17923197492163007
            ],
            [
             0.975,
             -0.075
            ],
            [
             1.56,
             1.81
            ],
            [
             0,
             0
            ],
            [
             0,
             0
            ],
            [
             1.245,
             0.010000000000000009
            ],
            [
             0.225,
             -0.15
            ],
            [
             0.32,
             0.22499999999999998
            ],
            [
             2.025,
             1.65
            ],
            [
             0.24000000000000002,
             0.075
            ],
            [
             0.4042319749216301,
             -0.075
            ],
            [
             0,
             0
            ],
            [
             0,
             0
            ]
           ],
           [
            -0.075,
            0,
            0,
            0,
            0.075,
            0.075,
            0.2542319749216301,
            0,
            0.17923197492163007,
            0.6292319749216301,
            -0.009999999999999998,
            0.955,
            -0.075,
            -0.15,
            -0.075,
            0.04499999999999999,
            0,
            0.725,
            0.815,
            -0.14999999999999997,
            0.07,
            0.14999999999999997,
            0.039999999999999994,
            0,
            0,
            0
           ],
           [
            [
             0.075,
             0
            ],
            [
             0.48923197492163006,
             0.3292319749216301
            ],
            [
             0,
             0
            ],
            [
             0,
             0
            ],
            [
             0.075,
             0.975
            ],
            [
             0.8942319749216301,
             1.12
            ],
            [
             0.63,
             0.075
            ],
            [
             0,
             0
            ],
            [
             0.15,
             0.075
            ],
            [
             0.4042319749216301,
             0.075
            ],
            [
             0,
             0
            ],
            [
             0.96923197492163,
             2.7342319749216295
            ],
            [
             0.5834639498432601,
             0
            ],
            [
             0.3292319749216301,
             0.3292319749216301
            ],
            [
             0.3292319749216301,
             0.63
            ],
            [
             1.34,
             2.255
            ],
            [
             0,
             0
            ],
            [
             0.89,
             0.565
            ],
            [
             0.13,
             0.05
            ],
            [
             0.5834639498432601,
             -0.075
            ],
            [
             0,
             0.24923197492163007
            ],
            [
             0.075,
             0.075
            ],
            [
             0.05500000000000001,
             0.305
            ],
            [
             0,
             0
            ],
            [
             0,
             0
            ],
            [
             0,
             0
            ]
           ],
           [
            [
             0.075,
             0
            ],
            [
             0.48923197492163006,
             0.3292319749216301
            ],
            [
             0,
             0
            ],
            [
             0,
             0
            ],
            [
             0.075,
             0.975
            ],
            [
             0.8942319749216301,
             1.12
            ],
            [
             0.63,
             0.075
            ],
            [
             0,
             0
            ],
            [
             0.15,
             0.075
            ],
            [
             0.4042319749216301,
             0.075
            ],
            [
             0,
             0
            ],
            [
             0.96923197492163,
             2.7342319749216295
            ],
            [
             0.5834639498432601,
             0
            ],
            [
             0.3292319749216301,
             0.3292319749216301
            ],
            [
             0.3292319749216301,
             0.63
            ],
            [
             1.34,
             2.255
            ],
            [
             0,
             0
            ],
            [
             0.89,
             0.565
            ],
            [
             0.13,
             0.05
            ],
            [
             0.5834639498432601,
             -0.075
            ],
            [
             0,
             0.24923197492163007
            ],
            [
             0.075,
             0.075
            ],
            [
             0.05500000000000001,
             0.305
            ],
            [
             0,
             0
            ],
            [
             0,
             0
            ],
            [
             0,
             0
            ]
           ],
           [
            [
             0,
             0
            ],
            [
             0.66423197492163,
             0
            ],
            [
             0.075,
             0
            ],
            [
             0.15,
             0
            ],
            [
             -0.075,
             0.4042319749216301
            ],
            [
             0,
             1.5399999999999998
            ],
            [
             0,
             0.865
            ],
            [
             0,
             0.3292319749216301
            ],
            [
             0.15,
             0.2542319749216301
            ],
            [
             0.3,
             1.05
            ],
            [
             0,
             0.19
            ],
            [
             0.3292319749216301,
             1.4492319749216303
            ],
            [
             0.075,
             0.715
            ],
            [
             0.22499999999999998,
             1.0899999999999999
            ],
            [
             0.075,
             0
            ],
            [
             0.3892319749216301,
             0.14500000000000002
            ],
            [
             0,
             0
            ],
            [
             0.13999999999999999,
             2.3649999999999998
            ],
            [
             0.27999999999999997,
             0.995
            ],
            [
             0.075,
             0
            ],
            [
             0.15999999999999998,
             1.5184639498432602
            ],
            [
             0.3,
             0.07499999999999998
            ],
            [
             0.03,
             0.3
            ],
            [
             0,
             0
            ],
            [
             0,
             0.075
            ],
            [
             0,
             0
            ]
           ],
           [
            [
             0,
             0
            ],
            [
             0.66423197492163,
             0
            ],
            [
             0.075,
             0
            ],
            [
             0.15,
             0
            ],
            [
             -0.075,
             0.4042319749216301
            ],
            [
             0,
             1.5399999999999998
            ],
            [
             0,
             0.865
            ],
            [
             0,
             0.3292319749216301
            ],
            [
             0.15,
             0.2542319749216301
            ],
            [
             0.3,
             1.05
            ],
            [
             0,
             0.19
            ],
            [
             0.3292319749216301,
             1.4492319749216303
            ],
            [
             0.075,
             0.715
            ],
            [
             0.22499999999999998,
             1.0899999999999999
            ],
            [
             0.075,
             0
            ],
            [
             0.3892319749216301,
             0.14500000000000002
            ],
            [
             0,
             0
            ],
            [
             0.13999999999999999,
             2.3649999999999998
            ],
            [
             0.27999999999999997,
             0.995
            ],
            [
             0.075,
             0
            ],
            [
             0.15999999999999998,
             1.5184639498432602
            ],
            [
             0.3,
             0.07499999999999998
            ],
            [
             0.03,
             0.3
            ],
            [
             0,
             0
            ],
            [
             0,
             0.075
            ],
            [
             0,
             0
            ]
           ],
           [
            "Long Island",
            "Long Island",
            "Long Island",
            "Long Island",
            "Long Island",
            "Long Island",
            "Long Island",
            "Long Island",
            "Long Island",
            "Long Island",
            "Long Island",
            "Long Island",
            "Long Island",
            "Long Island",
            "Long Island",
            "Long Island",
            "Long Island",
            "Long Island",
            "Long Island",
            "Long Island",
            "Long Island",
            "Long Island",
            "Long Island",
            "Long Island",
            "Long Island",
            "Long Island"
           ],
           [
            3,
            0,
            0,
            0,
            21,
            6,
            11,
            9,
            0,
            0,
            0,
            8,
            19,
            24,
            7,
            13,
            0,
            44,
            17,
            0,
            25,
            0,
            22,
            5,
            16,
            12
           ]
          ]
         },
         "header": {
          "align": "left",
          "fill": {
           "color": "paleturquoise"
          },
          "values": [
           "index",
           "Player",
           "Penn State",
           "Holy Cross",
           "Boston College",
           "Stonehill",
           "Colorado College",
           "Colorado College",
           "Stonehill",
           "Sacred Heart",
           "Omaha",
           "Omaha",
           "Lindenwood",
           "Lindenwood",
           "Team",
           "No"
          ]
         },
         "type": "table"
        }
       ],
       "layout": {
        "template": {
         "data": {
          "bar": [
           {
            "error_x": {
             "color": "#2a3f5f"
            },
            "error_y": {
             "color": "#2a3f5f"
            },
            "marker": {
             "line": {
              "color": "#E5ECF6",
              "width": 0.5
             },
             "pattern": {
              "fillmode": "overlay",
              "size": 10,
              "solidity": 0.2
             }
            },
            "type": "bar"
           }
          ],
          "barpolar": [
           {
            "marker": {
             "line": {
              "color": "#E5ECF6",
              "width": 0.5
             },
             "pattern": {
              "fillmode": "overlay",
              "size": 10,
              "solidity": 0.2
             }
            },
            "type": "barpolar"
           }
          ],
          "carpet": [
           {
            "aaxis": {
             "endlinecolor": "#2a3f5f",
             "gridcolor": "white",
             "linecolor": "white",
             "minorgridcolor": "white",
             "startlinecolor": "#2a3f5f"
            },
            "baxis": {
             "endlinecolor": "#2a3f5f",
             "gridcolor": "white",
             "linecolor": "white",
             "minorgridcolor": "white",
             "startlinecolor": "#2a3f5f"
            },
            "type": "carpet"
           }
          ],
          "choropleth": [
           {
            "colorbar": {
             "outlinewidth": 0,
             "ticks": ""
            },
            "type": "choropleth"
           }
          ],
          "contour": [
           {
            "colorbar": {
             "outlinewidth": 0,
             "ticks": ""
            },
            "colorscale": [
             [
              0,
              "#0d0887"
             ],
             [
              0.1111111111111111,
              "#46039f"
             ],
             [
              0.2222222222222222,
              "#7201a8"
             ],
             [
              0.3333333333333333,
              "#9c179e"
             ],
             [
              0.4444444444444444,
              "#bd3786"
             ],
             [
              0.5555555555555556,
              "#d8576b"
             ],
             [
              0.6666666666666666,
              "#ed7953"
             ],
             [
              0.7777777777777778,
              "#fb9f3a"
             ],
             [
              0.8888888888888888,
              "#fdca26"
             ],
             [
              1,
              "#f0f921"
             ]
            ],
            "type": "contour"
           }
          ],
          "contourcarpet": [
           {
            "colorbar": {
             "outlinewidth": 0,
             "ticks": ""
            },
            "type": "contourcarpet"
           }
          ],
          "heatmap": [
           {
            "colorbar": {
             "outlinewidth": 0,
             "ticks": ""
            },
            "colorscale": [
             [
              0,
              "#0d0887"
             ],
             [
              0.1111111111111111,
              "#46039f"
             ],
             [
              0.2222222222222222,
              "#7201a8"
             ],
             [
              0.3333333333333333,
              "#9c179e"
             ],
             [
              0.4444444444444444,
              "#bd3786"
             ],
             [
              0.5555555555555556,
              "#d8576b"
             ],
             [
              0.6666666666666666,
              "#ed7953"
             ],
             [
              0.7777777777777778,
              "#fb9f3a"
             ],
             [
              0.8888888888888888,
              "#fdca26"
             ],
             [
              1,
              "#f0f921"
             ]
            ],
            "type": "heatmap"
           }
          ],
          "heatmapgl": [
           {
            "colorbar": {
             "outlinewidth": 0,
             "ticks": ""
            },
            "colorscale": [
             [
              0,
              "#0d0887"
             ],
             [
              0.1111111111111111,
              "#46039f"
             ],
             [
              0.2222222222222222,
              "#7201a8"
             ],
             [
              0.3333333333333333,
              "#9c179e"
             ],
             [
              0.4444444444444444,
              "#bd3786"
             ],
             [
              0.5555555555555556,
              "#d8576b"
             ],
             [
              0.6666666666666666,
              "#ed7953"
             ],
             [
              0.7777777777777778,
              "#fb9f3a"
             ],
             [
              0.8888888888888888,
              "#fdca26"
             ],
             [
              1,
              "#f0f921"
             ]
            ],
            "type": "heatmapgl"
           }
          ],
          "histogram": [
           {
            "marker": {
             "pattern": {
              "fillmode": "overlay",
              "size": 10,
              "solidity": 0.2
             }
            },
            "type": "histogram"
           }
          ],
          "histogram2d": [
           {
            "colorbar": {
             "outlinewidth": 0,
             "ticks": ""
            },
            "colorscale": [
             [
              0,
              "#0d0887"
             ],
             [
              0.1111111111111111,
              "#46039f"
             ],
             [
              0.2222222222222222,
              "#7201a8"
             ],
             [
              0.3333333333333333,
              "#9c179e"
             ],
             [
              0.4444444444444444,
              "#bd3786"
             ],
             [
              0.5555555555555556,
              "#d8576b"
             ],
             [
              0.6666666666666666,
              "#ed7953"
             ],
             [
              0.7777777777777778,
              "#fb9f3a"
             ],
             [
              0.8888888888888888,
              "#fdca26"
             ],
             [
              1,
              "#f0f921"
             ]
            ],
            "type": "histogram2d"
           }
          ],
          "histogram2dcontour": [
           {
            "colorbar": {
             "outlinewidth": 0,
             "ticks": ""
            },
            "colorscale": [
             [
              0,
              "#0d0887"
             ],
             [
              0.1111111111111111,
              "#46039f"
             ],
             [
              0.2222222222222222,
              "#7201a8"
             ],
             [
              0.3333333333333333,
              "#9c179e"
             ],
             [
              0.4444444444444444,
              "#bd3786"
             ],
             [
              0.5555555555555556,
              "#d8576b"
             ],
             [
              0.6666666666666666,
              "#ed7953"
             ],
             [
              0.7777777777777778,
              "#fb9f3a"
             ],
             [
              0.8888888888888888,
              "#fdca26"
             ],
             [
              1,
              "#f0f921"
             ]
            ],
            "type": "histogram2dcontour"
           }
          ],
          "mesh3d": [
           {
            "colorbar": {
             "outlinewidth": 0,
             "ticks": ""
            },
            "type": "mesh3d"
           }
          ],
          "parcoords": [
           {
            "line": {
             "colorbar": {
              "outlinewidth": 0,
              "ticks": ""
             }
            },
            "type": "parcoords"
           }
          ],
          "pie": [
           {
            "automargin": true,
            "type": "pie"
           }
          ],
          "scatter": [
           {
            "fillpattern": {
             "fillmode": "overlay",
             "size": 10,
             "solidity": 0.2
            },
            "type": "scatter"
           }
          ],
          "scatter3d": [
           {
            "line": {
             "colorbar": {
              "outlinewidth": 0,
              "ticks": ""
             }
            },
            "marker": {
             "colorbar": {
              "outlinewidth": 0,
              "ticks": ""
             }
            },
            "type": "scatter3d"
           }
          ],
          "scattercarpet": [
           {
            "marker": {
             "colorbar": {
              "outlinewidth": 0,
              "ticks": ""
             }
            },
            "type": "scattercarpet"
           }
          ],
          "scattergeo": [
           {
            "marker": {
             "colorbar": {
              "outlinewidth": 0,
              "ticks": ""
             }
            },
            "type": "scattergeo"
           }
          ],
          "scattergl": [
           {
            "marker": {
             "colorbar": {
              "outlinewidth": 0,
              "ticks": ""
             }
            },
            "type": "scattergl"
           }
          ],
          "scattermapbox": [
           {
            "marker": {
             "colorbar": {
              "outlinewidth": 0,
              "ticks": ""
             }
            },
            "type": "scattermapbox"
           }
          ],
          "scatterpolar": [
           {
            "marker": {
             "colorbar": {
              "outlinewidth": 0,
              "ticks": ""
             }
            },
            "type": "scatterpolar"
           }
          ],
          "scatterpolargl": [
           {
            "marker": {
             "colorbar": {
              "outlinewidth": 0,
              "ticks": ""
             }
            },
            "type": "scatterpolargl"
           }
          ],
          "scatterternary": [
           {
            "marker": {
             "colorbar": {
              "outlinewidth": 0,
              "ticks": ""
             }
            },
            "type": "scatterternary"
           }
          ],
          "surface": [
           {
            "colorbar": {
             "outlinewidth": 0,
             "ticks": ""
            },
            "colorscale": [
             [
              0,
              "#0d0887"
             ],
             [
              0.1111111111111111,
              "#46039f"
             ],
             [
              0.2222222222222222,
              "#7201a8"
             ],
             [
              0.3333333333333333,
              "#9c179e"
             ],
             [
              0.4444444444444444,
              "#bd3786"
             ],
             [
              0.5555555555555556,
              "#d8576b"
             ],
             [
              0.6666666666666666,
              "#ed7953"
             ],
             [
              0.7777777777777778,
              "#fb9f3a"
             ],
             [
              0.8888888888888888,
              "#fdca26"
             ],
             [
              1,
              "#f0f921"
             ]
            ],
            "type": "surface"
           }
          ],
          "table": [
           {
            "cells": {
             "fill": {
              "color": "#EBF0F8"
             },
             "line": {
              "color": "white"
             }
            },
            "header": {
             "fill": {
              "color": "#C8D4E3"
             },
             "line": {
              "color": "white"
             }
            },
            "type": "table"
           }
          ]
         },
         "layout": {
          "annotationdefaults": {
           "arrowcolor": "#2a3f5f",
           "arrowhead": 0,
           "arrowwidth": 1
          },
          "autotypenumbers": "strict",
          "coloraxis": {
           "colorbar": {
            "outlinewidth": 0,
            "ticks": ""
           }
          },
          "colorscale": {
           "diverging": [
            [
             0,
             "#8e0152"
            ],
            [
             0.1,
             "#c51b7d"
            ],
            [
             0.2,
             "#de77ae"
            ],
            [
             0.3,
             "#f1b6da"
            ],
            [
             0.4,
             "#fde0ef"
            ],
            [
             0.5,
             "#f7f7f7"
            ],
            [
             0.6,
             "#e6f5d0"
            ],
            [
             0.7,
             "#b8e186"
            ],
            [
             0.8,
             "#7fbc41"
            ],
            [
             0.9,
             "#4d9221"
            ],
            [
             1,
             "#276419"
            ]
           ],
           "sequential": [
            [
             0,
             "#0d0887"
            ],
            [
             0.1111111111111111,
             "#46039f"
            ],
            [
             0.2222222222222222,
             "#7201a8"
            ],
            [
             0.3333333333333333,
             "#9c179e"
            ],
            [
             0.4444444444444444,
             "#bd3786"
            ],
            [
             0.5555555555555556,
             "#d8576b"
            ],
            [
             0.6666666666666666,
             "#ed7953"
            ],
            [
             0.7777777777777778,
             "#fb9f3a"
            ],
            [
             0.8888888888888888,
             "#fdca26"
            ],
            [
             1,
             "#f0f921"
            ]
           ],
           "sequentialminus": [
            [
             0,
             "#0d0887"
            ],
            [
             0.1111111111111111,
             "#46039f"
            ],
            [
             0.2222222222222222,
             "#7201a8"
            ],
            [
             0.3333333333333333,
             "#9c179e"
            ],
            [
             0.4444444444444444,
             "#bd3786"
            ],
            [
             0.5555555555555556,
             "#d8576b"
            ],
            [
             0.6666666666666666,
             "#ed7953"
            ],
            [
             0.7777777777777778,
             "#fb9f3a"
            ],
            [
             0.8888888888888888,
             "#fdca26"
            ],
            [
             1,
             "#f0f921"
            ]
           ]
          },
          "colorway": [
           "#636efa",
           "#EF553B",
           "#00cc96",
           "#ab63fa",
           "#FFA15A",
           "#19d3f3",
           "#FF6692",
           "#B6E880",
           "#FF97FF",
           "#FECB52"
          ],
          "font": {
           "color": "#2a3f5f"
          },
          "geo": {
           "bgcolor": "white",
           "lakecolor": "white",
           "landcolor": "#E5ECF6",
           "showlakes": true,
           "showland": true,
           "subunitcolor": "white"
          },
          "hoverlabel": {
           "align": "left"
          },
          "hovermode": "closest",
          "mapbox": {
           "style": "light"
          },
          "paper_bgcolor": "white",
          "plot_bgcolor": "#E5ECF6",
          "polar": {
           "angularaxis": {
            "gridcolor": "white",
            "linecolor": "white",
            "ticks": ""
           },
           "bgcolor": "#E5ECF6",
           "radialaxis": {
            "gridcolor": "white",
            "linecolor": "white",
            "ticks": ""
           }
          },
          "scene": {
           "xaxis": {
            "backgroundcolor": "#E5ECF6",
            "gridcolor": "white",
            "gridwidth": 2,
            "linecolor": "white",
            "showbackground": true,
            "ticks": "",
            "zerolinecolor": "white"
           },
           "yaxis": {
            "backgroundcolor": "#E5ECF6",
            "gridcolor": "white",
            "gridwidth": 2,
            "linecolor": "white",
            "showbackground": true,
            "ticks": "",
            "zerolinecolor": "white"
           },
           "zaxis": {
            "backgroundcolor": "#E5ECF6",
            "gridcolor": "white",
            "gridwidth": 2,
            "linecolor": "white",
            "showbackground": true,
            "ticks": "",
            "zerolinecolor": "white"
           }
          },
          "shapedefaults": {
           "line": {
            "color": "#2a3f5f"
           }
          },
          "ternary": {
           "aaxis": {
            "gridcolor": "white",
            "linecolor": "white",
            "ticks": ""
           },
           "baxis": {
            "gridcolor": "white",
            "linecolor": "white",
            "ticks": ""
           },
           "bgcolor": "#E5ECF6",
           "caxis": {
            "gridcolor": "white",
            "linecolor": "white",
            "ticks": ""
           }
          },
          "title": {
           "x": 0.05
          },
          "xaxis": {
           "automargin": true,
           "gridcolor": "white",
           "linecolor": "white",
           "ticks": "",
           "title": {
            "standoff": 15
           },
           "zerolinecolor": "white",
           "zerolinewidth": 2
          },
          "yaxis": {
           "automargin": true,
           "gridcolor": "white",
           "linecolor": "white",
           "ticks": "",
           "title": {
            "standoff": 15
           },
           "zerolinecolor": "white",
           "zerolinewidth": 2
          }
         }
        }
       }
      }
     },
     "metadata": {},
     "output_type": "display_data"
    }
   ],
   "source": [
    "# Reset the index so that the 'Player' column is included as a regular column\n",
    "csv_df_reset = csv_df.reset_index()\n",
    "\n",
    "# Create the table with the updated DataFrame\n",
    "fig = go.Figure(data=[go.Table(\n",
    "    header=dict(values=list(csv_df_reset.columns),\n",
    "                fill_color='paleturquoise',\n",
    "                align='left'),\n",
    "    cells=dict(values=[csv_df_reset[col] for col in csv_df_reset.columns],\n",
    "               fill_color='lavender',\n",
    "               align='left'))\n",
    "])\n",
    "\n",
    "# Note: We're not displaying the figure here due to the environment limitation, \n",
    "# but you can use this code in your local setup to see the updated table.\n",
    "fig.show()\n",
    "\n",
    "# Return the first few rows of the updated DataFrame for inspection\n",
    "# csv_df_reset.head()\n"
   ]
  },
  {
   "cell_type": "code",
   "execution_count": 38,
   "metadata": {},
   "outputs": [
    {
     "ename": "TypeError",
     "evalue": "can only concatenate str (not \"float\") to str",
     "output_type": "error",
     "traceback": [
      "\u001b[1;31m---------------------------------------------------------------------------\u001b[0m",
      "\u001b[1;31mTypeError\u001b[0m                                 Traceback (most recent call last)",
      "\u001b[1;32mc:\\Users\\Justin\\Desktop\\Project\\college_hockey\\workbook\\Game_Score_Calculation_Book.ipynb Cell 60\u001b[0m line \u001b[0;36m1\n\u001b[0;32m      <a href='vscode-notebook-cell:/c%3A/Users/Justin/Desktop/Project/college_hockey/workbook/Game_Score_Calculation_Book.ipynb#Y113sZmlsZQ%3D%3D?line=4'>5</a>\u001b[0m csv_df_rounded \u001b[39m=\u001b[39m csv_df_reset\u001b[39m.\u001b[39mround(\u001b[39m3\u001b[39m)\n\u001b[0;32m      <a href='vscode-notebook-cell:/c%3A/Users/Justin/Desktop/Project/college_hockey/workbook/Game_Score_Calculation_Book.ipynb#Y113sZmlsZQ%3D%3D?line=6'>7</a>\u001b[0m \u001b[39m# Display the first few rows of the rounded DataFrame for inspection\u001b[39;00m\n\u001b[0;32m      <a href='vscode-notebook-cell:/c%3A/Users/Justin/Desktop/Project/college_hockey/workbook/Game_Score_Calculation_Book.ipynb#Y113sZmlsZQ%3D%3D?line=7'>8</a>\u001b[0m \u001b[39m# csv_df_rounded.head()\u001b[39;00m\n\u001b[0;32m      <a href='vscode-notebook-cell:/c%3A/Users/Justin/Desktop/Project/college_hockey/workbook/Game_Score_Calculation_Book.ipynb#Y113sZmlsZQ%3D%3D?line=8'>9</a>\u001b[0m \n\u001b[0;32m     <a href='vscode-notebook-cell:/c%3A/Users/Justin/Desktop/Project/college_hockey/workbook/Game_Score_Calculation_Book.ipynb#Y113sZmlsZQ%3D%3D?line=9'>10</a>\u001b[0m \u001b[39m# 3. Add an Average column\u001b[39;00m\n\u001b[1;32m---> <a href='vscode-notebook-cell:/c%3A/Users/Justin/Desktop/Project/college_hockey/workbook/Game_Score_Calculation_Book.ipynb#Y113sZmlsZQ%3D%3D?line=10'>11</a>\u001b[0m csv_df_rounded[\u001b[39m'\u001b[39m\u001b[39mAverage\u001b[39m\u001b[39m'\u001b[39m] \u001b[39m=\u001b[39m csv_df_rounded\u001b[39m.\u001b[39;49miloc[:, \u001b[39m1\u001b[39;49m:]\u001b[39m.\u001b[39;49mmean(axis\u001b[39m=\u001b[39;49m\u001b[39m1\u001b[39;49m)\n\u001b[0;32m     <a href='vscode-notebook-cell:/c%3A/Users/Justin/Desktop/Project/college_hockey/workbook/Game_Score_Calculation_Book.ipynb#Y113sZmlsZQ%3D%3D?line=12'>13</a>\u001b[0m \u001b[39m# 4. Sort by Average\u001b[39;00m\n\u001b[0;32m     <a href='vscode-notebook-cell:/c%3A/Users/Justin/Desktop/Project/college_hockey/workbook/Game_Score_Calculation_Book.ipynb#Y113sZmlsZQ%3D%3D?line=13'>14</a>\u001b[0m csv_df_sorted \u001b[39m=\u001b[39m csv_df_rounded\u001b[39m.\u001b[39msort_values(by\u001b[39m=\u001b[39m\u001b[39m'\u001b[39m\u001b[39mAverage\u001b[39m\u001b[39m'\u001b[39m, ascending\u001b[39m=\u001b[39m\u001b[39mFalse\u001b[39;00m)\n",
      "File \u001b[1;32mc:\\Users\\Justin\\anaconda3\\envs\\data_viz\\lib\\site-packages\\pandas\\core\\frame.py:11338\u001b[0m, in \u001b[0;36mDataFrame.mean\u001b[1;34m(self, axis, skipna, numeric_only, **kwargs)\u001b[0m\n\u001b[0;32m  11330\u001b[0m \u001b[39m@doc\u001b[39m(make_doc(\u001b[39m\"\u001b[39m\u001b[39mmean\u001b[39m\u001b[39m\"\u001b[39m, ndim\u001b[39m=\u001b[39m\u001b[39m2\u001b[39m))\n\u001b[0;32m  11331\u001b[0m \u001b[39mdef\u001b[39;00m \u001b[39mmean\u001b[39m(\n\u001b[0;32m  11332\u001b[0m     \u001b[39mself\u001b[39m,\n\u001b[1;32m   (...)\u001b[0m\n\u001b[0;32m  11336\u001b[0m     \u001b[39m*\u001b[39m\u001b[39m*\u001b[39mkwargs,\n\u001b[0;32m  11337\u001b[0m ):\n\u001b[1;32m> 11338\u001b[0m     result \u001b[39m=\u001b[39m \u001b[39msuper\u001b[39m()\u001b[39m.\u001b[39mmean(axis, skipna, numeric_only, \u001b[39m*\u001b[39m\u001b[39m*\u001b[39mkwargs)\n\u001b[0;32m  11339\u001b[0m     \u001b[39mif\u001b[39;00m \u001b[39misinstance\u001b[39m(result, Series):\n\u001b[0;32m  11340\u001b[0m         result \u001b[39m=\u001b[39m result\u001b[39m.\u001b[39m__finalize__(\u001b[39mself\u001b[39m, method\u001b[39m=\u001b[39m\u001b[39m\"\u001b[39m\u001b[39mmean\u001b[39m\u001b[39m\"\u001b[39m)\n",
      "File \u001b[1;32mc:\\Users\\Justin\\anaconda3\\envs\\data_viz\\lib\\site-packages\\pandas\\core\\generic.py:11978\u001b[0m, in \u001b[0;36mNDFrame.mean\u001b[1;34m(self, axis, skipna, numeric_only, **kwargs)\u001b[0m\n\u001b[0;32m  11971\u001b[0m \u001b[39mdef\u001b[39;00m \u001b[39mmean\u001b[39m(\n\u001b[0;32m  11972\u001b[0m     \u001b[39mself\u001b[39m,\n\u001b[0;32m  11973\u001b[0m     axis: Axis \u001b[39m|\u001b[39m \u001b[39mNone\u001b[39;00m \u001b[39m=\u001b[39m \u001b[39m0\u001b[39m,\n\u001b[1;32m   (...)\u001b[0m\n\u001b[0;32m  11976\u001b[0m     \u001b[39m*\u001b[39m\u001b[39m*\u001b[39mkwargs,\n\u001b[0;32m  11977\u001b[0m ) \u001b[39m-\u001b[39m\u001b[39m>\u001b[39m Series \u001b[39m|\u001b[39m \u001b[39mfloat\u001b[39m:\n\u001b[1;32m> 11978\u001b[0m     \u001b[39mreturn\u001b[39;00m \u001b[39mself\u001b[39m\u001b[39m.\u001b[39m_stat_function(\n\u001b[0;32m  11979\u001b[0m         \u001b[39m\"\u001b[39m\u001b[39mmean\u001b[39m\u001b[39m\"\u001b[39m, nanops\u001b[39m.\u001b[39mnanmean, axis, skipna, numeric_only, \u001b[39m*\u001b[39m\u001b[39m*\u001b[39mkwargs\n\u001b[0;32m  11980\u001b[0m     )\n",
      "File \u001b[1;32mc:\\Users\\Justin\\anaconda3\\envs\\data_viz\\lib\\site-packages\\pandas\\core\\generic.py:11935\u001b[0m, in \u001b[0;36mNDFrame._stat_function\u001b[1;34m(self, name, func, axis, skipna, numeric_only, **kwargs)\u001b[0m\n\u001b[0;32m  11931\u001b[0m nv\u001b[39m.\u001b[39mvalidate_func(name, (), kwargs)\n\u001b[0;32m  11933\u001b[0m validate_bool_kwarg(skipna, \u001b[39m\"\u001b[39m\u001b[39mskipna\u001b[39m\u001b[39m\"\u001b[39m, none_allowed\u001b[39m=\u001b[39m\u001b[39mFalse\u001b[39;00m)\n\u001b[1;32m> 11935\u001b[0m \u001b[39mreturn\u001b[39;00m \u001b[39mself\u001b[39;49m\u001b[39m.\u001b[39;49m_reduce(\n\u001b[0;32m  11936\u001b[0m     func, name\u001b[39m=\u001b[39;49mname, axis\u001b[39m=\u001b[39;49maxis, skipna\u001b[39m=\u001b[39;49mskipna, numeric_only\u001b[39m=\u001b[39;49mnumeric_only\n\u001b[0;32m  11937\u001b[0m )\n",
      "File \u001b[1;32mc:\\Users\\Justin\\anaconda3\\envs\\data_viz\\lib\\site-packages\\pandas\\core\\frame.py:11207\u001b[0m, in \u001b[0;36mDataFrame._reduce\u001b[1;34m(self, op, name, axis, skipna, numeric_only, filter_type, **kwds)\u001b[0m\n\u001b[0;32m  11203\u001b[0m     df \u001b[39m=\u001b[39m df\u001b[39m.\u001b[39mT\n\u001b[0;32m  11205\u001b[0m \u001b[39m# After possibly _get_data and transposing, we are now in the\u001b[39;00m\n\u001b[0;32m  11206\u001b[0m \u001b[39m#  simple case where we can use BlockManager.reduce\u001b[39;00m\n\u001b[1;32m> 11207\u001b[0m res \u001b[39m=\u001b[39m df\u001b[39m.\u001b[39;49m_mgr\u001b[39m.\u001b[39;49mreduce(blk_func)\n\u001b[0;32m  11208\u001b[0m out \u001b[39m=\u001b[39m df\u001b[39m.\u001b[39m_constructor_from_mgr(res, axes\u001b[39m=\u001b[39mres\u001b[39m.\u001b[39maxes)\u001b[39m.\u001b[39miloc[\u001b[39m0\u001b[39m]\n\u001b[0;32m  11209\u001b[0m \u001b[39mif\u001b[39;00m out_dtype \u001b[39mis\u001b[39;00m \u001b[39mnot\u001b[39;00m \u001b[39mNone\u001b[39;00m \u001b[39mand\u001b[39;00m out\u001b[39m.\u001b[39mdtype \u001b[39m!=\u001b[39m \u001b[39m\"\u001b[39m\u001b[39mboolean\u001b[39m\u001b[39m\"\u001b[39m:\n",
      "File \u001b[1;32mc:\\Users\\Justin\\anaconda3\\envs\\data_viz\\lib\\site-packages\\pandas\\core\\internals\\managers.py:1459\u001b[0m, in \u001b[0;36mBlockManager.reduce\u001b[1;34m(self, func)\u001b[0m\n\u001b[0;32m   1457\u001b[0m res_blocks: \u001b[39mlist\u001b[39m[Block] \u001b[39m=\u001b[39m []\n\u001b[0;32m   1458\u001b[0m \u001b[39mfor\u001b[39;00m blk \u001b[39min\u001b[39;00m \u001b[39mself\u001b[39m\u001b[39m.\u001b[39mblocks:\n\u001b[1;32m-> 1459\u001b[0m     nbs \u001b[39m=\u001b[39m blk\u001b[39m.\u001b[39;49mreduce(func)\n\u001b[0;32m   1460\u001b[0m     res_blocks\u001b[39m.\u001b[39mextend(nbs)\n\u001b[0;32m   1462\u001b[0m index \u001b[39m=\u001b[39m Index([\u001b[39mNone\u001b[39;00m])  \u001b[39m# placeholder\u001b[39;00m\n",
      "File \u001b[1;32mc:\\Users\\Justin\\anaconda3\\envs\\data_viz\\lib\\site-packages\\pandas\\core\\internals\\blocks.py:377\u001b[0m, in \u001b[0;36mBlock.reduce\u001b[1;34m(self, func)\u001b[0m\n\u001b[0;32m    371\u001b[0m \u001b[39m@final\u001b[39m\n\u001b[0;32m    372\u001b[0m \u001b[39mdef\u001b[39;00m \u001b[39mreduce\u001b[39m(\u001b[39mself\u001b[39m, func) \u001b[39m-\u001b[39m\u001b[39m>\u001b[39m \u001b[39mlist\u001b[39m[Block]:\n\u001b[0;32m    373\u001b[0m     \u001b[39m# We will apply the function and reshape the result into a single-row\u001b[39;00m\n\u001b[0;32m    374\u001b[0m     \u001b[39m#  Block with the same mgr_locs; squeezing will be done at a higher level\u001b[39;00m\n\u001b[0;32m    375\u001b[0m     \u001b[39massert\u001b[39;00m \u001b[39mself\u001b[39m\u001b[39m.\u001b[39mndim \u001b[39m==\u001b[39m \u001b[39m2\u001b[39m\n\u001b[1;32m--> 377\u001b[0m     result \u001b[39m=\u001b[39m func(\u001b[39mself\u001b[39;49m\u001b[39m.\u001b[39;49mvalues)\n\u001b[0;32m    379\u001b[0m     \u001b[39mif\u001b[39;00m \u001b[39mself\u001b[39m\u001b[39m.\u001b[39mvalues\u001b[39m.\u001b[39mndim \u001b[39m==\u001b[39m \u001b[39m1\u001b[39m:\n\u001b[0;32m    380\u001b[0m         res_values \u001b[39m=\u001b[39m result\n",
      "File \u001b[1;32mc:\\Users\\Justin\\anaconda3\\envs\\data_viz\\lib\\site-packages\\pandas\\core\\frame.py:11139\u001b[0m, in \u001b[0;36mDataFrame._reduce.<locals>.blk_func\u001b[1;34m(values, axis)\u001b[0m\n\u001b[0;32m  11137\u001b[0m         \u001b[39mreturn\u001b[39;00m np\u001b[39m.\u001b[39marray([result])\n\u001b[0;32m  11138\u001b[0m \u001b[39melse\u001b[39;00m:\n\u001b[1;32m> 11139\u001b[0m     \u001b[39mreturn\u001b[39;00m op(values, axis\u001b[39m=\u001b[39maxis, skipna\u001b[39m=\u001b[39mskipna, \u001b[39m*\u001b[39m\u001b[39m*\u001b[39mkwds)\n",
      "File \u001b[1;32mc:\\Users\\Justin\\anaconda3\\envs\\data_viz\\lib\\site-packages\\pandas\\core\\nanops.py:147\u001b[0m, in \u001b[0;36mbottleneck_switch.__call__.<locals>.f\u001b[1;34m(values, axis, skipna, **kwds)\u001b[0m\n\u001b[0;32m    145\u001b[0m         result \u001b[39m=\u001b[39m alt(values, axis\u001b[39m=\u001b[39maxis, skipna\u001b[39m=\u001b[39mskipna, \u001b[39m*\u001b[39m\u001b[39m*\u001b[39mkwds)\n\u001b[0;32m    146\u001b[0m \u001b[39melse\u001b[39;00m:\n\u001b[1;32m--> 147\u001b[0m     result \u001b[39m=\u001b[39m alt(values, axis\u001b[39m=\u001b[39maxis, skipna\u001b[39m=\u001b[39mskipna, \u001b[39m*\u001b[39m\u001b[39m*\u001b[39mkwds)\n\u001b[0;32m    149\u001b[0m \u001b[39mreturn\u001b[39;00m result\n",
      "File \u001b[1;32mc:\\Users\\Justin\\anaconda3\\envs\\data_viz\\lib\\site-packages\\pandas\\core\\nanops.py:404\u001b[0m, in \u001b[0;36m_datetimelike_compat.<locals>.new_func\u001b[1;34m(values, axis, skipna, mask, **kwargs)\u001b[0m\n\u001b[0;32m    401\u001b[0m \u001b[39mif\u001b[39;00m datetimelike \u001b[39mand\u001b[39;00m mask \u001b[39mis\u001b[39;00m \u001b[39mNone\u001b[39;00m:\n\u001b[0;32m    402\u001b[0m     mask \u001b[39m=\u001b[39m isna(values)\n\u001b[1;32m--> 404\u001b[0m result \u001b[39m=\u001b[39m func(values, axis\u001b[39m=\u001b[39maxis, skipna\u001b[39m=\u001b[39mskipna, mask\u001b[39m=\u001b[39mmask, \u001b[39m*\u001b[39m\u001b[39m*\u001b[39mkwargs)\n\u001b[0;32m    406\u001b[0m \u001b[39mif\u001b[39;00m datetimelike:\n\u001b[0;32m    407\u001b[0m     result \u001b[39m=\u001b[39m _wrap_results(result, orig_values\u001b[39m.\u001b[39mdtype, fill_value\u001b[39m=\u001b[39miNaT)\n",
      "File \u001b[1;32mc:\\Users\\Justin\\anaconda3\\envs\\data_viz\\lib\\site-packages\\pandas\\core\\nanops.py:719\u001b[0m, in \u001b[0;36mnanmean\u001b[1;34m(values, axis, skipna, mask)\u001b[0m\n\u001b[0;32m    716\u001b[0m     dtype_count \u001b[39m=\u001b[39m dtype\n\u001b[0;32m    718\u001b[0m count \u001b[39m=\u001b[39m _get_counts(values\u001b[39m.\u001b[39mshape, mask, axis, dtype\u001b[39m=\u001b[39mdtype_count)\n\u001b[1;32m--> 719\u001b[0m the_sum \u001b[39m=\u001b[39m values\u001b[39m.\u001b[39;49msum(axis, dtype\u001b[39m=\u001b[39;49mdtype_sum)\n\u001b[0;32m    720\u001b[0m the_sum \u001b[39m=\u001b[39m _ensure_numeric(the_sum)\n\u001b[0;32m    722\u001b[0m \u001b[39mif\u001b[39;00m axis \u001b[39mis\u001b[39;00m \u001b[39mnot\u001b[39;00m \u001b[39mNone\u001b[39;00m \u001b[39mand\u001b[39;00m \u001b[39mgetattr\u001b[39m(the_sum, \u001b[39m\"\u001b[39m\u001b[39mndim\u001b[39m\u001b[39m\"\u001b[39m, \u001b[39mFalse\u001b[39;00m):\n",
      "File \u001b[1;32mc:\\Users\\Justin\\anaconda3\\envs\\data_viz\\lib\\site-packages\\numpy\\core\\_methods.py:49\u001b[0m, in \u001b[0;36m_sum\u001b[1;34m(a, axis, dtype, out, keepdims, initial, where)\u001b[0m\n\u001b[0;32m     47\u001b[0m \u001b[39mdef\u001b[39;00m \u001b[39m_sum\u001b[39m(a, axis\u001b[39m=\u001b[39m\u001b[39mNone\u001b[39;00m, dtype\u001b[39m=\u001b[39m\u001b[39mNone\u001b[39;00m, out\u001b[39m=\u001b[39m\u001b[39mNone\u001b[39;00m, keepdims\u001b[39m=\u001b[39m\u001b[39mFalse\u001b[39;00m,\n\u001b[0;32m     48\u001b[0m          initial\u001b[39m=\u001b[39m_NoValue, where\u001b[39m=\u001b[39m\u001b[39mTrue\u001b[39;00m):\n\u001b[1;32m---> 49\u001b[0m     \u001b[39mreturn\u001b[39;00m umr_sum(a, axis, dtype, out, keepdims, initial, where)\n",
      "\u001b[1;31mTypeError\u001b[0m: can only concatenate str (not \"float\") to str"
     ]
    }
   ],
   "source": [
    "# 1. Conditional Formatting: Create a color array for the cells\n",
    "color_array = [['#D3D3D3' if val == 0 else 'lavender' for val in row] for row in csv_df_reset.values]\n",
    "\n",
    "# 2. Round Float Values to 3 decimal places\n",
    "csv_df_rounded = csv_df_reset.round(3)\n",
    "\n",
    "# Display the first few rows of the rounded DataFrame for inspection\n",
    "# csv_df_rounded.head()\n",
    "\n",
    "# 3. Add an Average column\n",
    "csv_df_rounded['Average'] = csv_df_rounded.iloc[:, 1:].mean(axis=1)\n",
    "\n",
    "# 4. Sort by Average\n",
    "csv_df_sorted = csv_df_rounded.sort_values(by='Average', ascending=False)\n",
    "\n",
    "# Update the color array to include the new column\n",
    "color_array = [['#D3D3D3' if val == 0 else 'lavender' for val in row] for row in csv_df_sorted.values]\n",
    "\n",
    "# Display the first few rows of the sorted DataFrame for inspection\n",
    "csv_df_sorted.head()\n",
    "\n"
   ]
  },
  {
   "cell_type": "code",
   "execution_count": null,
   "metadata": {},
   "outputs": [],
   "source": [
    "fig = go.Figure(data=[go.Table(\n",
    "    header=dict(values=list(csv_df_sorted.columns),\n",
    "                fill_color='paleturquoise',\n",
    "                align='left'),\n",
    "    cells=dict(values=[csv_df_sorted[col] for col in csv_df_sorted.columns],\n",
    "               fill_color=color_array,\n",
    "               align='left'))\n",
    "])\n",
    "fig.show()\n"
   ]
  },
  {
   "cell_type": "code",
   "execution_count": null,
   "metadata": {},
   "outputs": [],
   "source": [
    "import numpy as np\n",
    "\n",
    "# Function to interpolate between three colors\n",
    "def interpolate_color(value, min_val, max_val):\n",
    "    # Define the colors for low, mid, and high values\n",
    "    low_color = np.array([255, 102, 102])  # subtle red\n",
    "    mid_color = np.array([255, 255, 102])  # yellow\n",
    "    high_color = np.array([102, 255, 178])  # turquoise green\n",
    "    \n",
    "    # Calculate the position of value in the range [min_val, max_val]\n",
    "    position = (value - min_val) / (max_val - min_val)\n",
    "    \n",
    "    # Depending on the position, interpolate between the colors\n",
    "    if position <= 0.5:  # interpolate between red and yellow\n",
    "        interp_color = (1 - 2 * position) * low_color + 2 * position * mid_color\n",
    "    else:  # interpolate between yellow and green\n",
    "        interp_color = (2 - 2 * position) * mid_color + (2 * position - 1) * high_color\n",
    "    \n",
    "    return 'rgb({}, {}, {})'.format(int(interp_color[0]), int(interp_color[1]), int(interp_color[2]))\n",
    "\n",
    "# Get min and max values for the game columns\n",
    "min_val = csv_df_sorted.iloc[:, 1:-1].min().min()\n",
    "max_val = csv_df_sorted.iloc[:, 1:-1].max().max()\n",
    "\n",
    "# Create a color array for the game columns based on the values\n",
    "color_array_games = [[interpolate_color(val, min_val, max_val) for val in row[1:-1]] for _, row in csv_df_sorted.iterrows()]\n",
    "\n",
    "# Combine with the previously defined colors for the Player and Average columns\n",
    "color_array_combined = [['lavender'] + game_colors + ['lavender'] for game_colors in color_array_games]\n",
    "\n",
    "# Display the first few rows of the color array for inspection\n",
    "# color_array_combined[:5]\n",
    "\n",
    "## Save the color array to a csv\n",
    "# np.savetxt('../data/Versiob_1.csv', color_array_combined, delimiter=',', fmt='%s')\n"
   ]
  },
  {
   "cell_type": "code",
   "execution_count": null,
   "metadata": {},
   "outputs": [],
   "source": [
    "fig = go.Figure(data=[go.Table(\n",
    "    header=dict(values=list(csv_df_sorted.columns),\n",
    "                fill_color='paleturquoise',\n",
    "                align='left'),\n",
    "    cells=dict(values=[csv_df_sorted[col] for col in csv_df_sorted.columns],\n",
    "               fill_color=color_array_combined,\n",
    "               align='left'))\n",
    "])\n",
    "fig.show()\n"
   ]
  },
  {
   "cell_type": "code",
   "execution_count": null,
   "metadata": {},
   "outputs": [],
   "source": []
  },
  {
   "cell_type": "code",
   "execution_count": null,
   "metadata": {},
   "outputs": [],
   "source": [
    "unique_teams"
   ]
  },
  {
   "cell_type": "code",
   "execution_count": null,
   "metadata": {},
   "outputs": [],
   "source": [
    "# Display the first team's table as an example\n",
    "team_tables[unique_teams[7]].head(40)\n",
    "\n",
    "ohio_state_df = team_tables[unique_teams[7]].copy()\n",
    "\n",
    "# Clean Column Headers\n",
    "# split on - and take the last 2 elements\n",
    "# ohio_state_df.columns = ohio_state_df.columns.str.split('-').str[-2:]\n",
    "\n",
    "ohio_state_df.head(25)\n",
    "\n",
    "# Get a list of the column names\n",
    "column_names = ohio_state_df.columns.tolist()\n",
    "# Clean up column names by Removing 'Ohio State' and any digits of dashes\n",
    "column_names = [name.replace('Ohio State', '') for name in column_names]\n",
    "column_names = [name.replace('-', '') for name in column_names]\n",
    "column_names = [name.replace(' ', '') for name in column_names]\n",
    "\n",
    "# Use regex to remove any digits\n",
    "import re\n",
    "\n",
    "column_names = [re.sub(r'\\d+', '', name) for name in column_names]\n",
    "\n",
    "\n",
    "\n",
    "# Replace the column names\n",
    "ohio_state_df.columns = column_names\n",
    "\n",
    "ohio_state_df.head(25)\n",
    "\n",
    "# Save to CSV\n",
    "# ohio_state_df.to_csv('../TEMP/GAME_SCORE_OHIO_STATE.csv', index=True)\n",
    "\n",
    "### MSU Is In Index Position 21 in this case outputing csv for MSU\n",
    "# team_tables[unique_teams[21]] = team_tables[unique_teams[21]].fillna(0)\n",
    "# team_tables[unique_teams[21]].to_csv('../data/Nov_2_MSU_GAME_SCORES.csv')\n",
    "\n"
   ]
  },
  {
   "cell_type": "markdown",
   "metadata": {},
   "source": [
    "# One of THe Michigan Games is Absent From The OSU DATA"
   ]
  },
  {
   "cell_type": "code",
   "execution_count": null,
   "metadata": {},
   "outputs": [],
   "source": [
    "ohio_state_df.head()"
   ]
  },
  {
   "cell_type": "code",
   "execution_count": null,
   "metadata": {},
   "outputs": [],
   "source": [
    "# Create a list of dataframes from the team_tables dictionary\n",
    "team_tables_list = [team_tables[team] for team in unique_teams]\n"
   ]
  },
  {
   "cell_type": "code",
   "execution_count": null,
   "metadata": {},
   "outputs": [],
   "source": []
  },
  {
   "cell_type": "markdown",
   "metadata": {},
   "source": [
    "## Save To an Excell File"
   ]
  },
  {
   "cell_type": "code",
   "execution_count": null,
   "metadata": {},
   "outputs": [],
   "source": [
    "# Assuming unique_teams and team_tables are lists and of the same length\n",
    "import xlsxwriter\n",
    "\n",
    "# Create a workbook and add a worksheet for each team\n",
    "workbook = xlsxwriter.Workbook('../data/Nov_2_GAME_SCORES.xlsx')\n",
    "\n",
    "for team, table in team_tables_dict.items():\n",
    "    # Create a new worksheet with the team name\n",
    "    worksheet = workbook.add_worksheet(team)\n",
    "    \n",
    "    # Write the headers\n",
    "    for col_num, column in enumerate(table.columns):\n",
    "        worksheet.write(0, col_num, column)\n",
    "    \n",
    "    # Write the data\n",
    "    for row_num, row_data in enumerate(table.values):\n",
    "        for col_num, cell_data in enumerate(row_data):\n",
    "            worksheet.write(row_num + 1, col_num, cell_data)  # +1 to skip the header\n",
    "\n",
    "workbook.close()\n",
    "\n",
    "# NOTE: The above code is structured to work with the provided mock data. Adjustments might be needed based on actual data.\n"
   ]
  },
  {
   "cell_type": "markdown",
   "metadata": {},
   "source": []
  },
  {
   "cell_type": "code",
   "execution_count": null,
   "metadata": {},
   "outputs": [],
   "source": [
    "# Save the team tables to a dictionary\n",
    "import pickle\n"
   ]
  },
  {
   "cell_type": "code",
   "execution_count": null,
   "metadata": {},
   "outputs": [],
   "source": [
    "## Blocking out the Game Score formula\n",
    "\n",
    "#### METRIC Formula\n",
    "# \n",
    "# METRIC = SCORE [ (Goals*0.75) + (Assist1*0.715) + (Assist2*0.555) ] \n",
    "#               + SHOTS [ (Shot_On_Net*0.075) + (Shots_Off_Net*0.075) - (Shots_Blocked*0.075) ]\n",
    "#               + FACEOFFS [ (Faceoff_Wins*0.01) - (Faceoff_Losses*0.01) ]\n",
    "#               + TEAM [ (Goals_For_Team*0.15) + (Goals_Against_Team*0.15) ]\n",
    "#               -  [ (Penalties_Taken * Overall_PP_Success_Rate) ]"
   ]
  },
  {
   "cell_type": "markdown",
   "metadata": {},
   "source": []
  },
  {
   "cell_type": "markdown",
   "metadata": {},
   "source": [
    "## Where to find these values in my DB\n",
    "scoring_summary\n",
    "    - Goals\n",
    "    -First Assist\n",
    "    -Second Assist\n",
    "\n",
    "player_stats\n",
    "    - Shots on Goal\n",
    "    - FOW\n",
    "    - FOL\n",
    "    - PIM \n",
    "        - (Maybe worth weighting differently based on period and time it was taken)\n",
    "        - Penalty late in a close game hurts a team more than something taken in the first perios\n",
    "        - a penalty that is taken when already short handed hurts much more than one 5-on-5\n",
    "            - I should be able to seperate out these types of occurences in the data from penalty_summary\n",
    "\n",
    "CAN'T Get Penalties Drawn from current data\n",
    "\n",
    "### Formulating the final 3 factors\n",
    "GA & GF should only use even strength goals - need to figure out how to filter those\n",
    "\n",
    "Shots blocked (overall - defensive) can be found in advanced metrics as well as SOG, Offensive shots blocked and shots missed net for each of these situations (total, close, even and PP)\n",
    "\n",
    "\n",
    "\n"
   ]
  },
  {
   "cell_type": "markdown",
   "metadata": {},
   "source": [
    "## Corsi Differnal = Corsi For - Corsi Defence\n",
    "Corsi is an advanced statistic used in the game of ice hockey to measure shot attempt differential while at even strength play. This includes shots on goal, missed shots on goal, and blocked shot attempts towards the opposition's net minus the same shot attempts directed at your own team's net.\n",
    "\n",
    "History\n",
    "The Corsi number was named by Tim Barnes, a financial analyst from Chicago working under the pseudonym Vic Ferrari. He had heard former Buffalo Sabres general manager Darcy Regier talking about shot differential on the radio, and then proceeded to develop a formula to accurately display shot differential. Ferrari originally wanted to name it the Regier number, but he didn't think it sounded right. He then considered calling it the Ruff number after former Buffalo Sabres head coach Lindy Ruff but he didn't think that was appropriate either. Ferrari ended up searching Buffalo Sabres staff, found a picture of Jim Corsi, and chose his name because he liked Corsi's mustache.[1]\n",
    "\n",
    "Formulae\n",
    "Corsi For (CF) = Shot attempts for at even strength: Shots + Blocks + Misses[2]\n",
    "Corsi Against (CA) = Shot attempts against at even strength: Shots + Blocks + Misses\n",
    "Corsi (C) = CF - CA\n",
    "Corsi For % (CF%) = CF / (CF + CA)\n",
    "Corsi For % Relative (CF% Rel) = CF% - CFOff%\n",
    "Corsi Per 60 Minutes at Even Strength (C/60) = (CF - CA) * 60 / TOI\n",
    "Relative Corsi per 60 Minutes at Even Strength (Crel/60) = CF/60 - CFoff/60 = On-Ice Corsi For / 60 Minutes - Off-Ice Corsi For / 60 Minutes"
   ]
  },
  {
   "cell_type": "code",
   "execution_count": null,
   "metadata": {},
   "outputs": [],
   "source": []
  }
 ],
 "metadata": {
  "kernelspec": {
   "display_name": "data_viz",
   "language": "python",
   "name": "python3"
  },
  "language_info": {
   "codemirror_mode": {
    "name": "ipython",
    "version": 3
   },
   "file_extension": ".py",
   "mimetype": "text/x-python",
   "name": "python",
   "nbconvert_exporter": "python",
   "pygments_lexer": "ipython3",
   "version": "3.9.18"
  }
 },
 "nbformat": 4,
 "nbformat_minor": 2
}
