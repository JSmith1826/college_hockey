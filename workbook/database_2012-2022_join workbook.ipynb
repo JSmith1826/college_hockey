{
 "cells": [
  {
   "cell_type": "code",
   "execution_count": null,
   "metadata": {},
   "outputs": [],
   "source": [
    "## Notebook to inspect, join and clean the data the database files that I had to piecmeal together\n",
    "\n",
    "import os\n",
    "import pandas as pd\n",
    "import numpy as np\n",
    "\n",
    "import sqlite3\n",
    "import sqlalchemy\n",
    "\n",
    "## directory with the database files\n",
    "# C:\\Users\\Justin\\Desktop\\Project\\college_hockey\\workbook\\db_files_raw\n",
    "source_dir = r'C:\\Users\\Justin\\Desktop\\Project\\college_hockey\\workbook\\db_files_raw'\n",
    "\n",
    "## directory to save the cleaned database files\n",
    "# C:\\Users\\Justin\\Desktop\\Project\\college_hockey\\data\n",
    "destination_dir = r'C:\\Users\\Justin\\Desktop\\Project\\college_hockey\\data'\n",
    "\n",
    "\n",
    "# Target Files\n",
    "# 2002-2022_scrape_test_sat_night.db # part one of the join, missing data from games without metrics link\n",
    "#  2012-2022_pickup_erro_games_scrape_test_sunday.db # part two of the join, picked up the missing data from the games without metrics link\n",
    "\n",
    "\n"
   ]
  },
  {
   "cell_type": "code",
   "execution_count": null,
   "metadata": {},
   "outputs": [],
   "source": []
  }
 ],
 "metadata": {
  "language_info": {
   "name": "python"
  },
  "orig_nbformat": 4
 },
 "nbformat": 4,
 "nbformat_minor": 2
}
