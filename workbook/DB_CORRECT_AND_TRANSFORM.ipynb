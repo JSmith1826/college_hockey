{
 "cells": [
  {
   "cell_type": "markdown",
   "metadata": {},
   "source": [
    "## DATA CLEANING AND COMBINING\n",
    "\n",
    "### College Hockey Box score scrape data\n",
    "\n",
    "-Opened 4/3/2024"
   ]
  },
  {
   "cell_type": "code",
   "execution_count": 3,
   "metadata": {},
   "outputs": [],
   "source": [
    "# Dependencies\n",
    "\n",
    "import sqlite3\n",
    "import pandas as pd\n",
    "import numpy as np\n",
    "import os\n",
    "\n"
   ]
  },
  {
   "cell_type": "code",
   "execution_count": 7,
   "metadata": {},
   "outputs": [
    {
     "name": "stderr",
     "output_type": "stream",
     "text": [
      "C:\\Users\\jbanc\\AppData\\Local\\Temp\\ipykernel_16424\\1630839730.py:5: DtypeWarning: Columns (17) have mixed types. Specify dtype option on import or set low_memory=False.\n",
      "  roster = pd.read_csv(roster_path)\n"
     ]
    },
    {
     "data": {
      "text/plain": [
       "['2002_Box_Scores_v2.db',\n",
       " '2003_Box_Scores_v2.db',\n",
       " '2004_Box_Scores_v2.db',\n",
       " '2005_Box_Scores_v2.db',\n",
       " '2006_Box_Scores_v2.db',\n",
       " '2007_Box_Scores_v2.db',\n",
       " '2008_Box_Scores_v2.db',\n",
       " '2009_Box_Scores_v2.db',\n",
       " '2010_Box_Scores_v2.db',\n",
       " '2011_Box_Scores_v2.db',\n",
       " '2012_Box_Scores_v2.db',\n",
       " '2013_Box_Scores_v2.db',\n",
       " '2014_Box_Scores_v3.db',\n",
       " '2015_Box_Scores_v2.db',\n",
       " '2016_Box_Scores_v2.db',\n",
       " '2017_Box_Scores_v1.db',\n",
       " '2018_Box_Scores_v2.db',\n",
       " '2019_Box_Scores_v1.db',\n",
       " '2020_Box_Scores_v2.db',\n",
       " '2021_Full_Stats.db',\n",
       " '2022_Full_Stats.db']"
      ]
     },
     "execution_count": 7,
     "metadata": {},
     "output_type": "execute_result"
    }
   ],
   "source": [
    "# paths and setup\n",
    "\n",
    "roster_path = os.path.join('..', 'data', 'rosters', 'all_time_combined_roster.csv')\n",
    "# read in the roster\n",
    "roster = pd.read_csv(roster_path)\n",
    "# roster.info() # Display the data types of each column\n",
    "\n",
    "\n",
    "# Database folder path\n",
    "db_folder = os.path.join('..', 'data', 'db', 'box_scores')\n",
    "\n",
    "# list the db files in the directory\n",
    "db_files = os.listdir(db_folder)\n",
    "# db_files"
   ]
  },
  {
   "cell_type": "markdown",
   "metadata": {},
   "source": [
    "## Check the roster data in each .db file\n",
    "### Make corrections - also add Season column to all tables"
   ]
  },
  {
   "cell_type": "code",
   "execution_count": null,
   "metadata": {},
   "outputs": [],
   "source": []
  },
  {
   "cell_type": "code",
   "execution_count": null,
   "metadata": {},
   "outputs": [],
   "source": []
  }
 ],
 "metadata": {
  "kernelspec": {
   "display_name": "data_viz",
   "language": "python",
   "name": "python3"
  },
  "language_info": {
   "codemirror_mode": {
    "name": "ipython",
    "version": 3
   },
   "file_extension": ".py",
   "mimetype": "text/x-python",
   "name": "python",
   "nbconvert_exporter": "python",
   "pygments_lexer": "ipython3",
   "version": "3.12.1"
  }
 },
 "nbformat": 4,
 "nbformat_minor": 2
}
