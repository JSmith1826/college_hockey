{
 "cells": [
  {
   "cell_type": "markdown",
   "metadata": {},
   "source": [
    "## SQL Notebook for Current Year Database"
   ]
  },
  {
   "cell_type": "code",
   "execution_count": 5,
   "metadata": {},
   "outputs": [],
   "source": [
    "## Dependencies\n",
    "import os\n",
    "import sys\n",
    "import time\n",
    "\n",
    "import numpy as np\n",
    "import pandas as pd\n",
    "import sqlite3\n",
    "\n",
    "# Database Path\n",
    "db_path = os.path.join('..', 'data', 'db', 'Jan_29_Current_YTD_Game_Stats.db')\n",
    "\n",
    "# Connect to the database\n",
    "conn = sqlite3.connect(db_path)\n",
    "\n"
   ]
  },
  {
   "cell_type": "code",
   "execution_count": 7,
   "metadata": {},
   "outputs": [
    {
     "data": {
      "text/plain": [
       "[(0, 'Period', 'TEXT', 0, None, 0),\n",
       " (1, 'Team', 'TEXT', 0, None, 0),\n",
       " (2, 'PP', 'TEXT', 0, None, 0),\n",
       " (3, 'Player', 'TEXT', 0, None, 0),\n",
       " (4, 'Player_Goals', 'BIGINT', 0, None, 0),\n",
       " (5, 'Assist1', 'TEXT', 0, None, 0),\n",
       " (6, 'Assist2', 'TEXT', 0, None, 0),\n",
       " (7, 'Time', 'TEXT', 0, None, 0),\n",
       " (8, 'Game_ID', 'TEXT', 0, None, 0)]"
      ]
     },
     "execution_count": 7,
     "metadata": {},
     "output_type": "execute_result"
    }
   ],
   "source": [
    "# Get the schema of the scoring_summary table\n",
    "schema_query = \"PRAGMA table_info(scoring_summary);\"\n",
    "scoring_summary_schema = conn.execute(schema_query).fetchall()\n",
    "\n",
    "# Display the schema of the scoring_summary table\n",
    "scoring_summary_schema\n"
   ]
  },
  {
   "cell_type": "code",
   "execution_count": 11,
   "metadata": {},
   "outputs": [
    {
     "data": {
      "text/plain": [
       "[('WMU', 11),\n",
       " ('HC', 9),\n",
       " ('ASU', 6),\n",
       " ('Clarkson', 6),\n",
       " ('MSU', 6),\n",
       " ('BC', 5),\n",
       " ('Maine', 5),\n",
       " ('NDame', 5),\n",
       " ('RIT', 5),\n",
       " ('SHU', 5),\n",
       " ('UND', 5),\n",
       " ('Wisconsin', 5),\n",
       " ('AIC', 4),\n",
       " ('Air Force', 4),\n",
       " ('Bentley', 4),\n",
       " ('CC', 4),\n",
       " ('Cornell', 4),\n",
       " ('LSSU', 4),\n",
       " ('Minnesota', 4),\n",
       " ('NMU', 4),\n",
       " ('Northeastern', 4),\n",
       " ('PSU', 4),\n",
       " ('RMU', 4),\n",
       " ('UConn', 4),\n",
       " ('UMD', 4),\n",
       " ('BSU', 3),\n",
       " ('Canisius', 3),\n",
       " ('Denver', 3),\n",
       " ('MnSU', 3),\n",
       " ('OSU', 3),\n",
       " ('QU', 3),\n",
       " ('UMass', 3),\n",
       " ('UVM', 3),\n",
       " ('Alaska', 2),\n",
       " ('Army', 2),\n",
       " ('BGSU', 2),\n",
       " ('BU', 2),\n",
       " ('Brown', 2),\n",
       " ('FSU', 2),\n",
       " ('MTU', 2),\n",
       " ('Merrimack', 2),\n",
       " ('Miami', 2),\n",
       " ('Niagara', 2),\n",
       " ('PC', 2),\n",
       " ('RPI', 2),\n",
       " ('SLU', 2),\n",
       " ('UNH', 2),\n",
       " ('UST', 2),\n",
       " ('Union', 2),\n",
       " ('Augustana', 1),\n",
       " ('Colgate', 1),\n",
       " ('LIU', 1),\n",
       " ('Lindenwood', 1),\n",
       " ('Michigan', 1),\n",
       " ('Princeton', 1),\n",
       " ('SCSU', 1),\n",
       " ('UML', 1),\n",
       " ('Yale', 1)]"
      ]
     },
     "execution_count": 11,
     "metadata": {},
     "output_type": "execute_result"
    }
   ],
   "source": [
    "# Reconnect to the database to perform the analysis\n",
    "conn = sqlite3.connect(db_path)\n",
    "\n",
    "# SQL to create a temporary view for empty net goals scored (EN goals for)\n",
    "create_en_goals_for_view = \"\"\"\n",
    "CREATE TEMP VIEW IF NOT EXISTS en_goals_for AS\n",
    "SELECT Team, COUNT(*) AS EN_Goals_For\n",
    "FROM scoring_summary\n",
    "WHERE PP = 'EN'\n",
    "GROUP BY Team;\n",
    "\"\"\"\n",
    "\n",
    "# SQL to create a temporary view for empty net goals allowed (EN goals against)\n",
    "create_en_goals_against_view = \"\"\"\n",
    "CREATE TEMP VIEW IF NOT EXISTS en_goals_against AS\n",
    "SELECT Team, COUNT(*) AS EN_Goals_Against\n",
    "FROM scoring_summary\n",
    "WHERE PP = 'EN'\n",
    "GROUP BY Team;\n",
    "\"\"\"\n",
    "\n",
    "# Execute the SQL commands to create the views\n",
    "conn.execute(create_en_goals_for_view)\n",
    "conn.execute(create_en_goals_against_view)\n",
    "\n",
    "# Now, combine these views to create a summary table for empty net goals for and against each team\n",
    "en_goals_summary_query = \"\"\"\n",
    "SELECT \n",
    "    f.Team AS Team,\n",
    "    f.EN_Goals_For,\n",
    "    a.EN_Goals_Against\n",
    "FROM \n",
    "    en_goals_for f\n",
    "JOIN \n",
    "    en_goals_against a ON f.Team = a.Team;\n",
    "\"\"\"\n",
    "\n",
    "# Execute the query to get the empty net goals summary\n",
    "en_goals_summary = conn.execute(en_goals_summary_query).fetchall()\n",
    "\n",
    "# Since there might be a mistake in how we calculate \"against\" (it's actually the same calculation as \"for\" at the moment),\n",
    "# let's just display the \"for\" results for now and then correct our approach.\n",
    "en_goals_for_query = \"\"\"\n",
    "SELECT Team, COUNT(*) AS EN_Goals_For\n",
    "FROM scoring_summary\n",
    "WHERE PP = 'EN'\n",
    "GROUP BY Team;\n",
    "\"\"\"\n",
    "\n",
    "en_goals_for = conn.execute(en_goals_for_query).fetchall()\n",
    "\n",
    "# Close the database connection\n",
    "conn.close()\n",
    "\n",
    "# Sort the results by the number of empty net goals for\n",
    "en_goals_for.sort(key=lambda x: x[1], reverse=True)\n",
    "\n",
    "# Display the results for empty net goals \"for\", to verify our approach before correcting the \"against\" part\n",
    "en_goals_for\n"
   ]
  }
 ],
 "metadata": {
  "kernelspec": {
   "display_name": "data_viz",
   "language": "python",
   "name": "python3"
  },
  "language_info": {
   "codemirror_mode": {
    "name": "ipython",
    "version": 3
   },
   "file_extension": ".py",
   "mimetype": "text/x-python",
   "name": "python",
   "nbconvert_exporter": "python",
   "pygments_lexer": "ipython3",
   "version": "3.12.1"
  }
 },
 "nbformat": 4,
 "nbformat_minor": 2
}
