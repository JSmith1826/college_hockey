{
 "cells": [
  {
   "cell_type": "markdown",
   "metadata": {},
   "source": [
    "# New Book Adaptable Code tro generate plots"
   ]
  },
  {
   "cell_type": "code",
   "execution_count": null,
   "metadata": {},
   "outputs": [],
   "source": [
    "# Dependencies\n",
    "import pandas as pd\n",
    "import numpy as np\n",
    "import matplotlib.pyplot as plt\n",
    "import seaborn as sns\n",
    "\n",
    "import matplotlib.pyplot as plt\n",
    "import matplotlib.image as mpimg\n",
    "from matplotlib.offsetbox import OffsetImage, AnnotationBbox\n",
    "import seaborn as sns\n",
    "\n",
    "### Set the folder paths for the data\n",
    "### DATA FOLDER PATHS\n",
    "data_folder = '../../data/' # ROSTER DATA & GAME STATS\n",
    "## IMAGES FOLDER PATHS\n",
    "logo_folder = '../../images/logos/' \n",
    "background_folder = '../../images/backgrounds/'\n",
    "\n",
    "# Roster Data Paths\n",
    "roster_path_current = 'rosters/2023_master_roster.csv'\n",
    "roster_path_previous = 'rosters/2022_master_roster.csv'\n",
    "# Once the Database Clean and Transform code is updated to insert the roster, we can use the data from the database\n",
    "\n",
    "# Game Stats Database Path\n",
    "db_path = 'VER2_CLEANED_team_stats_by_season_all_time.csv'"
   ]
  },
  {
   "cell_type": "code",
   "execution_count": null,
   "metadata": {},
   "outputs": [],
   "source": [
    "## Set paramaeters\n",
    "\n",
    "## Teams to Highlight - Use dashes instead of spaces\n",
    "team_1 = 'Michigan-State' # \n",
    "team_2 = 'Ohio-State' #\n",
    "\n",
    "## Path to School Logos\n",
    "team_1_logo =  'msu.png' #\n",
    "team_2_logo =  'osu.png' #\n",
    "\n",
    "## Set Colors\n",
    "team_1_color =  'darkgreen' # For Michigan State\n",
    "team_2_color =  'darkred' # For Ohio State\n",
    "\n",
    "#### Set Background Image\n",
    "path_to_bg_image =  #\n",
    "alpha_value = 0.1 # Set the transparency of the background image\n",
    "\n",
    "\n",
    "\n",
    "# Adjust the default chart size and aspect ratio\n",
    "### SET THE FIGURE SIZE OF THE CHARTS ###\n",
    "fig_deafult_1 = (12, 8) # Original\n",
    "fig_deafult_2 = (12, 10)\n",
    "# Turn on/off the figure size by commenting/uncommenting the lines below\n",
    "# figure_size = fig_deafult_1\n",
    "figure_size = fig_deafult_2\n",
    "\n",
    "\n"
   ]
  }
 ],
 "metadata": {
  "language_info": {
   "name": "python"
  }
 },
 "nbformat": 4,
 "nbformat_minor": 2
}
