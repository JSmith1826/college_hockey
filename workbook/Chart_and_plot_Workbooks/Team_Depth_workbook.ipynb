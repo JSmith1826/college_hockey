{
 "cells": [
  {
   "cell_type": "code",
   "execution_count": null,
   "metadata": {},
   "outputs": [],
   "source": [
    "## Dependencies\n",
    "\n",
    "import pandas as pd\n",
    "import numpy as np\n",
    "\n",
    "import sqlite3\n",
    "\n",
    "# db_path = '../data/2022-2023 Season Data.db' # Set FOr 2022-2023 Season\n",
    "\n",
    "# db_path = '../TEMP/2023_Season_Nov 2_Game_Stats.db' # Set For 2023-2024 Season\n",
    "\n",
    "# db_path = '../data/db/Current_Season_YTD_Game_Stats.db' # Set For 2023-2024 Season\n",
    "\n",
    "# db_path = '../TEMP/2022_Game_Stats.db' # 2022 Season\n",
    "\n",
    "# db_path = '../data/db/2021_Season_v1_Game_Stats.db' # 2021 Season\n",
    "\n",
    "# db_path = '../TEMP/Current_Season_YTD_Game_Stats.db'\n",
    "\n",
    "db_path = '../../data/db/2022_Game_Stats_Cleaned.db'\n",
    "\n",
    "\n",
    "\n",
    "conn = sqlite3.connect(db_path)\n",
    "\n",
    "## Get the Year to Date Player Totals in dataframe\n",
    "# df = pd.read_sql_query(\"SELECT * FROM 'player_stats_ytd'\", conn)\n",
    "\n",
    "# List tables\n",
    "cursor = conn.cursor()\n",
    "cursor.execute(\"SELECT name FROM sqlite_master WHERE type='table';\")\n",
    "print(cursor.fetchall())\n",
    "\n",
    "## Get the Year to Date Player Totals in dataframe\n",
    "df = pd.read_sql_query(\"SELECT * FROM 'player_stats_ytd'\", conn)"
   ]
  },
  {
   "cell_type": "markdown",
   "metadata": {},
   "source": [
    "## Total Goals by Team & Number of Scorers by Team"
   ]
  },
  {
   "cell_type": "code",
   "execution_count": null,
   "metadata": {},
   "outputs": [],
   "source": [
    "import matplotlib.pyplot as plt\n",
    "import seaborn as sns\n",
    "import numpy as np\n",
    "\n",
    "player_stats = df.copy()\n",
    "# Group by team and aggregate necessary statistics\n",
    "team_stats = player_stats.groupby('Team').agg(\n",
    "    Total_Goals=pd.NamedAgg(column='G', aggfunc='sum'),\n",
    "    Different_Scorers=pd.NamedAgg(column='G', aggfunc=lambda x: (x>0).sum()),\n",
    "    Top_Scorer_Goals=pd.NamedAgg(column='G', aggfunc='max')\n",
    ").reset_index()\n",
    "\n",
    "# Sort the teams by total goals\n",
    "team_stats = team_stats.sort_values(by='Total_Goals', ascending=False)\n",
    "\n",
    "# Plotting\n",
    "plt.figure(figsize=(15, 10))\n",
    "\n",
    "# Plot for total goals by team\n",
    "plt.subplot(2, 1, 1)\n",
    "sns.barplot(x='Total_Goals', y='Team', data=team_stats, palette='coolwarm')\n",
    "plt.title('Total Goals by Team')\n",
    "plt.xlabel('Total Goals')\n",
    "plt.ylabel('Team')\n",
    "\n",
    "# Plot for number of different scorers by team\n",
    "plt.subplot(2, 1, 2)\n",
    "sns.barplot(x='Different_Scorers', y='Team', data=team_stats, palette='coolwarm')\n",
    "plt.title('Number of Different Scorers by Team')\n",
    "plt.xlabel('Number of Different Scorers')\n",
    "plt.ylabel('Team')\n",
    "\n",
    "plt.tight_layout()\n",
    "plt.show()\n"
   ]
  },
  {
   "cell_type": "code",
   "execution_count": null,
   "metadata": {},
   "outputs": [],
   "source": []
  },
  {
   "cell_type": "code",
   "execution_count": null,
   "metadata": {},
   "outputs": [],
   "source": [
    "# Calculate the percentage of goals scored by the top scorer for each team\n",
    "team_stats['Top_Scorer_Percentage'] = (team_stats['Top_Scorer_Goals'] / team_stats['Total_Goals']) * 100\n",
    "\n",
    "# Sorting by top scorer percentage\n",
    "team_stats_sorted_by_top_scorer = team_stats.sort_values(by='Top_Scorer_Percentage', ascending=False)\n",
    "\n",
    "# Plotting\n",
    "plt.figure(figsize=(15, 6))\n",
    "sns.barplot(x='Top_Scorer_Percentage', y='Team', data=team_stats_sorted_by_top_scorer, palette='viridis')\n",
    "plt.title('Percentage of Team Goals Scored by Top Scorer')\n",
    "plt.xlabel('Percentage of Goals by Top Scorer')\n",
    "plt.ylabel('Team')\n",
    "plt.show()\n"
   ]
  },
  {
   "cell_type": "markdown",
   "metadata": {},
   "source": [
    "## Scatter plots"
   ]
  },
  {
   "cell_type": "code",
   "execution_count": null,
   "metadata": {},
   "outputs": [],
   "source": [
    "# Prepare data for scatter plots\n",
    "goal_scorers_per_team = player_stats[player_stats['G'] > 0].groupby('Team')['G'].agg(['count', 'sum']).reset_index()\n",
    "assist_makers_per_team = player_stats[player_stats['A'] > 0].groupby('Team')['A'].agg(['count', 'sum']).reset_index()\n",
    "\n",
    "# Plotting\n",
    "fig, ax = plt.subplots(1, 2, figsize=(18, 8))\n",
    "\n",
    "# Goals Scatter Plot\n",
    "ax[0].scatter(goal_scorers_per_team['count'], goal_scorers_per_team['sum'], alpha=0.5)\n",
    "ax[0].scatter(goal_scorers_per_team[goal_scorers_per_team['Team'] == 'Michigan State']['count'],\n",
    "              goal_scorers_per_team[goal_scorers_per_team['Team'] == 'Michigan State']['sum'],\n",
    "              color='red', label='Michigan State')\n",
    "ax[0].scatter(goal_scorers_per_team[goal_scorers_per_team['Team'] == 'Ferris State']['count'],\n",
    "              goal_scorers_per_team[goal_scorers_per_team['Team'] == 'Ferris State']['sum'],\n",
    "              color='green', label='Ferris State')\n",
    "ax[0].set_title('Goal Scorers per Team')\n",
    "ax[0].set_xlabel('Number of Different Goal Scorers')\n",
    "ax[0].set_ylabel('Total Goals Scored')\n",
    "ax[0].legend()\n",
    "\n",
    "# Assists Scatter Plot\n",
    "ax[1].scatter(assist_makers_per_team['count'], assist_makers_per_team['sum'], alpha=0.5)\n",
    "ax[1].scatter(assist_makers_per_team[assist_makers_per_team['Team'] == 'Michigan State']['count'],\n",
    "              assist_makers_per_team[assist_makers_per_team['Team'] == 'Michigan State']['sum'],\n",
    "              color='red', label='Michigan State')\n",
    "ax[1].scatter(assist_makers_per_team[assist_makers_per_team['Team'] == 'Ferris State']['count'],\n",
    "              assist_makers_per_team[assist_makers_per_team['Team'] == 'Ferris State']['sum'],\n",
    "              color='green', label='Ferris State')\n",
    "ax[1].set_title('Assist Makers per Team')\n",
    "ax[1].set_xlabel('Number of Different Assist Makers')\n",
    "ax[1].set_ylabel('Total Assists Made')\n",
    "ax[1].legend()\n",
    "\n",
    "plt.tight_layout()\n",
    "plt.show()\n"
   ]
  },
  {
   "cell_type": "markdown",
   "metadata": {},
   "source": []
  },
  {
   "cell_type": "code",
   "execution_count": null,
   "metadata": {},
   "outputs": [],
   "source": []
  }
 ],
 "metadata": {
  "kernelspec": {
   "display_name": "data_viz",
   "language": "python",
   "name": "python3"
  },
  "language_info": {
   "codemirror_mode": {
    "name": "ipython",
    "version": 3
   },
   "file_extension": ".py",
   "mimetype": "text/x-python",
   "name": "python",
   "nbconvert_exporter": "python",
   "pygments_lexer": "ipython3",
   "version": "3.9.18"
  }
 },
 "nbformat": 4,
 "nbformat_minor": 2
}
