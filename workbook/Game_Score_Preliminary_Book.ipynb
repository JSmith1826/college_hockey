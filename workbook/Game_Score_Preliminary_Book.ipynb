{
 "cells": [
  {
   "cell_type": "markdown",
   "metadata": {},
   "source": [
    "# Game Score Notebook"
   ]
  },
  {
   "cell_type": "markdown",
   "metadata": {},
   "source": [
    "## References and Links\n",
    "\n",
    "### All of these metrics were created and scaled to approximate a corilation to Points in a game. \n",
    "Inspired by this article I found about a metric that was developed in 2016, Dom Luszczyszyn which is intended to provide a single number that approximates a player’s performance in a given game. In that original story, he included the formula for the metric and how he arrived at it, so it’s inspired various adaptations since then.\n",
    "https://hockey-graphs.com/2016/07/13/measuring-single-game-productivity-an-introduction-to-game-score/\n",
    "\n",
    "The stats I used are goals, primary assists, secondary assists, shots on goal, blocked shots, penalty differential, faceoffs, 5-on-5 corsi differential, 5-on-5 goal differential.\n",
    "\n",
    "Player Game Score = (0.75 * G) + (0.7 * A1) + (0.55 * A2) + (0.075 * SOG) + (0.05 * BLK) + (0.15 * PD) – (0.15 * PT) + (0.01 * FOW) – (0.01 * FOL) + (0.05 * CF) – (0.05 * CA) + (0.15 * GF) – (0.15* GA)\n",
    "\n"
   ]
  },
  {
   "cell_type": "markdown",
   "metadata": {},
   "source": [
    "## Adjusted / Simplified\n",
    "- found on the blog frshice.substack.com\n",
    "- Bailey Johnson created her simplified version to work on college hockey data because not all of the factors (specifically the defensive portion of the Corsi Metric) is not track or is not available for NCAA games\n",
    "\n",
    "### Original\n",
    "For clarity’s sake, this was my original formula after removing stats I didn’t have access to from Dom’s: Player Game Score = (0.75*G)+(0.7*A1)+(0.55*A2)+(0.075*SOG)+(0.05*BLK)+(0.01*FOW)–(0.01*FOL)+(0.15*GF)–(0.15*GA)\n",
    "\n",
    "### Bailey Final\n",
    "- I also followed Shawn’s method from his NWHL game score work and used league-wide power-play percentage to weight the impact of taking a penalty.\n",
    "\n",
    "- Dom scaled his formula down 75% to make the game scores roughly equivalent to points so people would be familiar with what the game score represented, and I kept to that methodology here because I used some of the same weights he did. Also keep in mind that the goals for and goals against are just goals scored at even strength — it does not include special teams, empty-net or extra-attacker goals.\n",
    "\n",
    "Player Game Score = (G*0.75)+(A1*0.715)+(A2*0.555)+(SOG*0.075)+(BLK*0.05)+(FOW*0.01)-(FOL*0.01)+(GF*0.15)-(GA*0.15)-(PNT*0.138)\n",
    "\n",
    "### PNT*.138\n",
    "- FROM SOURCE: I took the frequency of powerplay goals to penalties, otherwise known as PP%. (https://hockey-graphs.com/2018/03/22/an-introduction-to-nwhl-game-score/)\n",
    "- this is her attempt to account for penalties - CHN NCAA stats don't include penalties drawn \n",
    "- PNT is penalties taken so I will want to grab the penalty incidents, not the minutes. \n",
    "- The 0.138 factor come from the league's power play percentage \n",
    "    - Want to use a static figure like overall average PP % for entire NCAA \n",
    "        - could update it to be dynamic and create a new average every time the data is called\n",
    "\n",
    "        - IDEA: Could create a custom factor for each team in each game \n",
    "            - teams power play effectiveness can vary greatly, as can a teams PK%\n",
    "            - Take the each teams previous success on PP or even on both PP and PK\n",
    "            - Compare to NCAA wide average\n",
    "            - get a factor that could be used and could scale the danger of taking a penalty based on how good the opponent is on PP or how poor your team is on PP\n"
   ]
  },
  {
   "cell_type": "code",
   "execution_count": 1,
   "metadata": {},
   "outputs": [],
   "source": [
    "## Blocking out the Game Score formula\n",
    "\n",
    "#### METRIC Formula\n",
    "# \n",
    "# METRIC = SCORE [ (Goals*0.75) + (Assist1*0.715) + (Assist2*0.555) ] \n",
    "#               + SHOTS [ (Shot_On_Net*0.075) + (Shots_Off_Net*0.075) - (Shots_Blocked*0.075) ]\n",
    "#               + FACEOFFS [ (Faceoff_Wins*0.01) - (Faceoff_Losses*0.01) ]\n",
    "#               + TEAM [ (Goals_For_Team*0.15) + (Goals_Against_Team*0.15) ]\n",
    "#               -  [ (Penalties_Taken * Overall_PP_Success_Rate) ]"
   ]
  },
  {
   "cell_type": "markdown",
   "metadata": {},
   "source": [
    "# Map to each factor in the Game_Stats Database\n",
    "\n",
    "## Calculating a Game Score for each player on each team for each game\n",
    "Each Game has a unique Game_ID column in every relevant table\n",
    "\n",
    "scoring_summary table\n",
    "    Goals - in scoring_summary - count of player's name in Player Column\n",
    "    Assist1 - scoring_summary - Count in Assist1\n",
    "    Assist2 - scoring_summary - Count in Assist2\n",
    "\n",
    "\n",
    "abdvanced_metrics_combined table\n",
    "    Shots_On_Net -  - EVEN_Saved + EVEN_Goals\n",
    "    Shots_Off_Net = EVENE_Miss\n",
    "    Shots_Blocked = EVEN_Block\n",
    "\n",
    "    Defensive_Blocks = D_Blocks\n",
    "\n",
    "player_stats\n",
    "    Faceoff_Wins = FO_W\n",
    "    Faceoff_Loses = FO_L\n",
    "\n",
    "### This takes into account team goals for and goals against but only counts Even strength goals in close games (+/- 1)\n",
    "- can get it from the advanced metrics combined\n",
    "\n",
    "advanced_metrics_\n",
    "    Goals_For_Team = SUM of CLOSE_Goals grouped by Team -NOTE\n",
    "#### NOTE- need to filter out any rows in the advanced_metrics_combined with player = 'TOTAL'\n",
    "    Goals_Against_Team - do the same but for the opposing team - if Game_ID matches and Team =/= the player's team\n",
    "\n",
    "penalty_summary\n",
    "    Penalties_Taken = Count of Player's name in \n",
    "\n"
   ]
  },
  {
   "cell_type": "code",
   "execution_count": 2,
   "metadata": {},
   "outputs": [],
   "source": [
    "\n",
    "import sqlite3\n",
    "import pandas as pd\n",
    "import numpy as np\n",
    "\n",
    "import sqlite3\n",
    "\n",
    "db_path ='../data/2023_YTD_Game_Stats.db'\n",
    "conn = sqlite3.connect(db_path)\n",
    "\n",
    "\n",
    "# Connect to the provided database\n",
    "\n",
    "cursor = conn.cursor()\n",
    "\n",
    "# Retrieve the list of tables in the database\n",
    "tables = cursor.execute(\"SELECT name FROM sqlite_master WHERE type='table';\").fetchall()\n",
    "tables = [table[0] for table in tables]\n",
    "\n",
    "# Retrieve the columns from each table to get a better understanding of the data structure\n",
    "table_columns = {}\n",
    "for table in tables:\n",
    "    columns = cursor.execute(f\"PRAGMA table_info({table});\").fetchall()\n",
    "    table_columns[table] = [column[1] for column in columns]\n",
    "\n",
    "# table_columns\n",
    "\n",
    "\n",
    "# Create an empty dataframe to store the data\n",
    "compiled_df = pd.DataFrame()"
   ]
  },
  {
   "cell_type": "markdown",
   "metadata": {},
   "source": [
    "## Get Shot Data"
   ]
  },
  {
   "cell_type": "code",
   "execution_count": 3,
   "metadata": {},
   "outputs": [
    {
     "data": {
      "text/html": [
       "<div>\n",
       "<style scoped>\n",
       "    .dataframe tbody tr th:only-of-type {\n",
       "        vertical-align: middle;\n",
       "    }\n",
       "\n",
       "    .dataframe tbody tr th {\n",
       "        vertical-align: top;\n",
       "    }\n",
       "\n",
       "    .dataframe thead th {\n",
       "        text-align: right;\n",
       "    }\n",
       "</style>\n",
       "<table border=\"1\" class=\"dataframe\">\n",
       "  <thead>\n",
       "    <tr style=\"text-align: right;\">\n",
       "      <th></th>\n",
       "      <th>Player</th>\n",
       "      <th>Team</th>\n",
       "      <th>Shots_On_Net</th>\n",
       "      <th>Shots_Off_Net</th>\n",
       "      <th>Shots_Blocked</th>\n",
       "      <th>Defensive_Blocks</th>\n",
       "      <th>Game_ID</th>\n",
       "    </tr>\n",
       "  </thead>\n",
       "  <tbody>\n",
       "    <tr>\n",
       "      <th>0</th>\n",
       "      <td>Harrison Roy</td>\n",
       "      <td>Lake Superior</td>\n",
       "      <td>1</td>\n",
       "      <td>2</td>\n",
       "      <td>1</td>\n",
       "      <td>0</td>\n",
       "      <td>2023-10-07-Lake Superior-Michigan State</td>\n",
       "    </tr>\n",
       "    <tr>\n",
       "      <th>1</th>\n",
       "      <td>John Herrington</td>\n",
       "      <td>Lake Superior</td>\n",
       "      <td>4</td>\n",
       "      <td>0</td>\n",
       "      <td>0</td>\n",
       "      <td>0</td>\n",
       "      <td>2023-10-07-Lake Superior-Michigan State</td>\n",
       "    </tr>\n",
       "    <tr>\n",
       "      <th>2</th>\n",
       "      <td>Tyler Williams</td>\n",
       "      <td>Lake Superior</td>\n",
       "      <td>4</td>\n",
       "      <td>0</td>\n",
       "      <td>0</td>\n",
       "      <td>0</td>\n",
       "      <td>2023-10-07-Lake Superior-Michigan State</td>\n",
       "    </tr>\n",
       "    <tr>\n",
       "      <th>3</th>\n",
       "      <td>Artyom Borshyov</td>\n",
       "      <td>Lake Superior</td>\n",
       "      <td>2</td>\n",
       "      <td>1</td>\n",
       "      <td>1</td>\n",
       "      <td>0</td>\n",
       "      <td>2023-10-07-Lake Superior-Michigan State</td>\n",
       "    </tr>\n",
       "    <tr>\n",
       "      <th>4</th>\n",
       "      <td>Grant Hindman</td>\n",
       "      <td>Lake Superior</td>\n",
       "      <td>2</td>\n",
       "      <td>1</td>\n",
       "      <td>0</td>\n",
       "      <td>2</td>\n",
       "      <td>2023-10-07-Lake Superior-Michigan State</td>\n",
       "    </tr>\n",
       "    <tr>\n",
       "      <th>5</th>\n",
       "      <td>Sasha Teleguine</td>\n",
       "      <td>Lake Superior</td>\n",
       "      <td>0</td>\n",
       "      <td>1</td>\n",
       "      <td>2</td>\n",
       "      <td>2</td>\n",
       "      <td>2023-10-07-Lake Superior-Michigan State</td>\n",
       "    </tr>\n",
       "    <tr>\n",
       "      <th>6</th>\n",
       "      <td>Reagan Milburn</td>\n",
       "      <td>Lake Superior</td>\n",
       "      <td>1</td>\n",
       "      <td>1</td>\n",
       "      <td>0</td>\n",
       "      <td>0</td>\n",
       "      <td>2023-10-07-Lake Superior-Michigan State</td>\n",
       "    </tr>\n",
       "    <tr>\n",
       "      <th>7</th>\n",
       "      <td>Nate Schweitzer</td>\n",
       "      <td>Lake Superior</td>\n",
       "      <td>3</td>\n",
       "      <td>0</td>\n",
       "      <td>0</td>\n",
       "      <td>0</td>\n",
       "      <td>2023-10-07-Lake Superior-Michigan State</td>\n",
       "    </tr>\n",
       "    <tr>\n",
       "      <th>8</th>\n",
       "      <td>Carter Batchelder</td>\n",
       "      <td>Lake Superior</td>\n",
       "      <td>2</td>\n",
       "      <td>0</td>\n",
       "      <td>0</td>\n",
       "      <td>1</td>\n",
       "      <td>2023-10-07-Lake Superior-Michigan State</td>\n",
       "    </tr>\n",
       "    <tr>\n",
       "      <th>9</th>\n",
       "      <td>Evan Bushy</td>\n",
       "      <td>Lake Superior</td>\n",
       "      <td>2</td>\n",
       "      <td>0</td>\n",
       "      <td>0</td>\n",
       "      <td>0</td>\n",
       "      <td>2023-10-07-Lake Superior-Michigan State</td>\n",
       "    </tr>\n",
       "    <tr>\n",
       "      <th>10</th>\n",
       "      <td>Dawson Tritt</td>\n",
       "      <td>Lake Superior</td>\n",
       "      <td>1</td>\n",
       "      <td>0</td>\n",
       "      <td>0</td>\n",
       "      <td>1</td>\n",
       "      <td>2023-10-07-Lake Superior-Michigan State</td>\n",
       "    </tr>\n",
       "    <tr>\n",
       "      <th>11</th>\n",
       "      <td>Connor Milburn</td>\n",
       "      <td>Lake Superior</td>\n",
       "      <td>1</td>\n",
       "      <td>0</td>\n",
       "      <td>0</td>\n",
       "      <td>0</td>\n",
       "      <td>2023-10-07-Lake Superior-Michigan State</td>\n",
       "    </tr>\n",
       "    <tr>\n",
       "      <th>12</th>\n",
       "      <td>Jordan Venegoni</td>\n",
       "      <td>Lake Superior</td>\n",
       "      <td>1</td>\n",
       "      <td>0</td>\n",
       "      <td>0</td>\n",
       "      <td>1</td>\n",
       "      <td>2023-10-07-Lake Superior-Michigan State</td>\n",
       "    </tr>\n",
       "    <tr>\n",
       "      <th>13</th>\n",
       "      <td>Timo Bakos</td>\n",
       "      <td>Lake Superior</td>\n",
       "      <td>1</td>\n",
       "      <td>0</td>\n",
       "      <td>0</td>\n",
       "      <td>1</td>\n",
       "      <td>2023-10-07-Lake Superior-Michigan State</td>\n",
       "    </tr>\n",
       "    <tr>\n",
       "      <th>14</th>\n",
       "      <td>Cam Kungle</td>\n",
       "      <td>Lake Superior</td>\n",
       "      <td>1</td>\n",
       "      <td>0</td>\n",
       "      <td>0</td>\n",
       "      <td>0</td>\n",
       "      <td>2023-10-07-Lake Superior-Michigan State</td>\n",
       "    </tr>\n",
       "    <tr>\n",
       "      <th>15</th>\n",
       "      <td>Jared Westcott</td>\n",
       "      <td>Lake Superior</td>\n",
       "      <td>1</td>\n",
       "      <td>0</td>\n",
       "      <td>0</td>\n",
       "      <td>0</td>\n",
       "      <td>2023-10-07-Lake Superior-Michigan State</td>\n",
       "    </tr>\n",
       "    <tr>\n",
       "      <th>16</th>\n",
       "      <td>Bryan Huggins</td>\n",
       "      <td>Lake Superior</td>\n",
       "      <td>1</td>\n",
       "      <td>0</td>\n",
       "      <td>0</td>\n",
       "      <td>0</td>\n",
       "      <td>2023-10-07-Lake Superior-Michigan State</td>\n",
       "    </tr>\n",
       "    <tr>\n",
       "      <th>17</th>\n",
       "      <td>Benito Posa</td>\n",
       "      <td>Lake Superior</td>\n",
       "      <td>0</td>\n",
       "      <td>0</td>\n",
       "      <td>0</td>\n",
       "      <td>0</td>\n",
       "      <td>2023-10-07-Lake Superior-Michigan State</td>\n",
       "    </tr>\n",
       "    <tr>\n",
       "      <th>18</th>\n",
       "      <td>Ross Roloson</td>\n",
       "      <td>Lake Superior</td>\n",
       "      <td>0</td>\n",
       "      <td>0</td>\n",
       "      <td>0</td>\n",
       "      <td>1</td>\n",
       "      <td>2023-10-07-Lake Superior-Michigan State</td>\n",
       "    </tr>\n",
       "    <tr>\n",
       "      <th>19</th>\n",
       "      <td>Carter Wilkie</td>\n",
       "      <td>RIT</td>\n",
       "      <td>2</td>\n",
       "      <td>2</td>\n",
       "      <td>1</td>\n",
       "      <td>1</td>\n",
       "      <td>2023-10-07-RIT-St. Lawrence</td>\n",
       "    </tr>\n",
       "    <tr>\n",
       "      <th>20</th>\n",
       "      <td>Christian Catalano</td>\n",
       "      <td>RIT</td>\n",
       "      <td>5</td>\n",
       "      <td>1</td>\n",
       "      <td>1</td>\n",
       "      <td>1</td>\n",
       "      <td>2023-10-07-RIT-St. Lawrence</td>\n",
       "    </tr>\n",
       "    <tr>\n",
       "      <th>21</th>\n",
       "      <td>Tanner Andrew</td>\n",
       "      <td>RIT</td>\n",
       "      <td>4</td>\n",
       "      <td>1</td>\n",
       "      <td>1</td>\n",
       "      <td>0</td>\n",
       "      <td>2023-10-07-RIT-St. Lawrence</td>\n",
       "    </tr>\n",
       "    <tr>\n",
       "      <th>22</th>\n",
       "      <td>Cody Laskosky</td>\n",
       "      <td>RIT</td>\n",
       "      <td>0</td>\n",
       "      <td>4</td>\n",
       "      <td>1</td>\n",
       "      <td>0</td>\n",
       "      <td>2023-10-07-RIT-St. Lawrence</td>\n",
       "    </tr>\n",
       "    <tr>\n",
       "      <th>23</th>\n",
       "      <td>Xavier Lapointe</td>\n",
       "      <td>RIT</td>\n",
       "      <td>1</td>\n",
       "      <td>3</td>\n",
       "      <td>1</td>\n",
       "      <td>0</td>\n",
       "      <td>2023-10-07-RIT-St. Lawrence</td>\n",
       "    </tr>\n",
       "    <tr>\n",
       "      <th>24</th>\n",
       "      <td>Grady Hobbs</td>\n",
       "      <td>RIT</td>\n",
       "      <td>1</td>\n",
       "      <td>1</td>\n",
       "      <td>3</td>\n",
       "      <td>1</td>\n",
       "      <td>2023-10-07-RIT-St. Lawrence</td>\n",
       "    </tr>\n",
       "    <tr>\n",
       "      <th>25</th>\n",
       "      <td>Aiden Hansen-Bukata</td>\n",
       "      <td>RIT</td>\n",
       "      <td>2</td>\n",
       "      <td>1</td>\n",
       "      <td>1</td>\n",
       "      <td>3</td>\n",
       "      <td>2023-10-07-RIT-St. Lawrence</td>\n",
       "    </tr>\n",
       "    <tr>\n",
       "      <th>26</th>\n",
       "      <td>Gianfranco Cassaro</td>\n",
       "      <td>RIT</td>\n",
       "      <td>1</td>\n",
       "      <td>0</td>\n",
       "      <td>2</td>\n",
       "      <td>1</td>\n",
       "      <td>2023-10-07-RIT-St. Lawrence</td>\n",
       "    </tr>\n",
       "    <tr>\n",
       "      <th>27</th>\n",
       "      <td>Tyler Fukakusa</td>\n",
       "      <td>RIT</td>\n",
       "      <td>1</td>\n",
       "      <td>0</td>\n",
       "      <td>1</td>\n",
       "      <td>1</td>\n",
       "      <td>2023-10-07-RIT-St. Lawrence</td>\n",
       "    </tr>\n",
       "    <tr>\n",
       "      <th>28</th>\n",
       "      <td>Caleb Moretz</td>\n",
       "      <td>RIT</td>\n",
       "      <td>0</td>\n",
       "      <td>0</td>\n",
       "      <td>1</td>\n",
       "      <td>0</td>\n",
       "      <td>2023-10-07-RIT-St. Lawrence</td>\n",
       "    </tr>\n",
       "    <tr>\n",
       "      <th>29</th>\n",
       "      <td>Ryan Nicholson</td>\n",
       "      <td>RIT</td>\n",
       "      <td>1</td>\n",
       "      <td>0</td>\n",
       "      <td>1</td>\n",
       "      <td>2</td>\n",
       "      <td>2023-10-07-RIT-St. Lawrence</td>\n",
       "    </tr>\n",
       "    <tr>\n",
       "      <th>30</th>\n",
       "      <td>Gustav Blom</td>\n",
       "      <td>RIT</td>\n",
       "      <td>1</td>\n",
       "      <td>0</td>\n",
       "      <td>1</td>\n",
       "      <td>0</td>\n",
       "      <td>2023-10-07-RIT-St. Lawrence</td>\n",
       "    </tr>\n",
       "    <tr>\n",
       "      <th>31</th>\n",
       "      <td>Elijah Gonsalves</td>\n",
       "      <td>RIT</td>\n",
       "      <td>1</td>\n",
       "      <td>0</td>\n",
       "      <td>0</td>\n",
       "      <td>0</td>\n",
       "      <td>2023-10-07-RIT-St. Lawrence</td>\n",
       "    </tr>\n",
       "    <tr>\n",
       "      <th>32</th>\n",
       "      <td>Dimitri Mikrogiannakis</td>\n",
       "      <td>RIT</td>\n",
       "      <td>1</td>\n",
       "      <td>0</td>\n",
       "      <td>0</td>\n",
       "      <td>3</td>\n",
       "      <td>2023-10-07-RIT-St. Lawrence</td>\n",
       "    </tr>\n",
       "    <tr>\n",
       "      <th>33</th>\n",
       "      <td>Tyler Mahan</td>\n",
       "      <td>RIT</td>\n",
       "      <td>1</td>\n",
       "      <td>0</td>\n",
       "      <td>0</td>\n",
       "      <td>0</td>\n",
       "      <td>2023-10-07-RIT-St. Lawrence</td>\n",
       "    </tr>\n",
       "    <tr>\n",
       "      <th>34</th>\n",
       "      <td>Matthew Wilde</td>\n",
       "      <td>RIT</td>\n",
       "      <td>1</td>\n",
       "      <td>0</td>\n",
       "      <td>0</td>\n",
       "      <td>0</td>\n",
       "      <td>2023-10-07-RIT-St. Lawrence</td>\n",
       "    </tr>\n",
       "    <tr>\n",
       "      <th>35</th>\n",
       "      <td>Simon Isabelle</td>\n",
       "      <td>RIT</td>\n",
       "      <td>0</td>\n",
       "      <td>0</td>\n",
       "      <td>0</td>\n",
       "      <td>0</td>\n",
       "      <td>2023-10-07-RIT-St. Lawrence</td>\n",
       "    </tr>\n",
       "    <tr>\n",
       "      <th>36</th>\n",
       "      <td>Crossley Stewart</td>\n",
       "      <td>RIT</td>\n",
       "      <td>0</td>\n",
       "      <td>0</td>\n",
       "      <td>0</td>\n",
       "      <td>0</td>\n",
       "      <td>2023-10-07-RIT-St. Lawrence</td>\n",
       "    </tr>\n",
       "    <tr>\n",
       "      <th>37</th>\n",
       "      <td>Philippe Jacques</td>\n",
       "      <td>RIT</td>\n",
       "      <td>0</td>\n",
       "      <td>0</td>\n",
       "      <td>0</td>\n",
       "      <td>0</td>\n",
       "      <td>2023-10-07-RIT-St. Lawrence</td>\n",
       "    </tr>\n",
       "    <tr>\n",
       "      <th>38</th>\n",
       "      <td>Anthony Romano</td>\n",
       "      <td>Clarkson</td>\n",
       "      <td>3</td>\n",
       "      <td>2</td>\n",
       "      <td>1</td>\n",
       "      <td>1</td>\n",
       "      <td>2023-10-07-Clarkson-Notre Dame</td>\n",
       "    </tr>\n",
       "    <tr>\n",
       "      <th>39</th>\n",
       "      <td>Tristan Sarsland</td>\n",
       "      <td>Clarkson</td>\n",
       "      <td>2</td>\n",
       "      <td>0</td>\n",
       "      <td>2</td>\n",
       "      <td>1</td>\n",
       "      <td>2023-10-07-Clarkson-Notre Dame</td>\n",
       "    </tr>\n",
       "    <tr>\n",
       "      <th>40</th>\n",
       "      <td>Eric Ciccolini</td>\n",
       "      <td>Clarkson</td>\n",
       "      <td>4</td>\n",
       "      <td>0</td>\n",
       "      <td>0</td>\n",
       "      <td>1</td>\n",
       "      <td>2023-10-07-Clarkson-Notre Dame</td>\n",
       "    </tr>\n",
       "    <tr>\n",
       "      <th>41</th>\n",
       "      <td>Ryan Taylor</td>\n",
       "      <td>Clarkson</td>\n",
       "      <td>1</td>\n",
       "      <td>2</td>\n",
       "      <td>1</td>\n",
       "      <td>0</td>\n",
       "      <td>2023-10-07-Clarkson-Notre Dame</td>\n",
       "    </tr>\n",
       "    <tr>\n",
       "      <th>42</th>\n",
       "      <td>Noah Beck</td>\n",
       "      <td>Clarkson</td>\n",
       "      <td>0</td>\n",
       "      <td>2</td>\n",
       "      <td>1</td>\n",
       "      <td>0</td>\n",
       "      <td>2023-10-07-Clarkson-Notre Dame</td>\n",
       "    </tr>\n",
       "    <tr>\n",
       "      <th>43</th>\n",
       "      <td>Cody Monds</td>\n",
       "      <td>Clarkson</td>\n",
       "      <td>2</td>\n",
       "      <td>2</td>\n",
       "      <td>0</td>\n",
       "      <td>0</td>\n",
       "      <td>2023-10-07-Clarkson-Notre Dame</td>\n",
       "    </tr>\n",
       "    <tr>\n",
       "      <th>44</th>\n",
       "      <td>Ellis Rickwood</td>\n",
       "      <td>Clarkson</td>\n",
       "      <td>0</td>\n",
       "      <td>1</td>\n",
       "      <td>1</td>\n",
       "      <td>0</td>\n",
       "      <td>2023-10-07-Clarkson-Notre Dame</td>\n",
       "    </tr>\n",
       "  </tbody>\n",
       "</table>\n",
       "</div>"
      ],
      "text/plain": [
       "                    Player           Team  Shots_On_Net  Shots_Off_Net  \\\n",
       "0             Harrison Roy  Lake Superior             1              2   \n",
       "1          John Herrington  Lake Superior             4              0   \n",
       "2           Tyler Williams  Lake Superior             4              0   \n",
       "3          Artyom Borshyov  Lake Superior             2              1   \n",
       "4            Grant Hindman  Lake Superior             2              1   \n",
       "5          Sasha Teleguine  Lake Superior             0              1   \n",
       "6           Reagan Milburn  Lake Superior             1              1   \n",
       "7          Nate Schweitzer  Lake Superior             3              0   \n",
       "8        Carter Batchelder  Lake Superior             2              0   \n",
       "9               Evan Bushy  Lake Superior             2              0   \n",
       "10            Dawson Tritt  Lake Superior             1              0   \n",
       "11          Connor Milburn  Lake Superior             1              0   \n",
       "12         Jordan Venegoni  Lake Superior             1              0   \n",
       "13              Timo Bakos  Lake Superior             1              0   \n",
       "14              Cam Kungle  Lake Superior             1              0   \n",
       "15          Jared Westcott  Lake Superior             1              0   \n",
       "16           Bryan Huggins  Lake Superior             1              0   \n",
       "17             Benito Posa  Lake Superior             0              0   \n",
       "18            Ross Roloson  Lake Superior             0              0   \n",
       "19           Carter Wilkie            RIT             2              2   \n",
       "20      Christian Catalano            RIT             5              1   \n",
       "21           Tanner Andrew            RIT             4              1   \n",
       "22           Cody Laskosky            RIT             0              4   \n",
       "23         Xavier Lapointe            RIT             1              3   \n",
       "24             Grady Hobbs            RIT             1              1   \n",
       "25     Aiden Hansen-Bukata            RIT             2              1   \n",
       "26      Gianfranco Cassaro            RIT             1              0   \n",
       "27          Tyler Fukakusa            RIT             1              0   \n",
       "28            Caleb Moretz            RIT             0              0   \n",
       "29          Ryan Nicholson            RIT             1              0   \n",
       "30             Gustav Blom            RIT             1              0   \n",
       "31        Elijah Gonsalves            RIT             1              0   \n",
       "32  Dimitri Mikrogiannakis            RIT             1              0   \n",
       "33             Tyler Mahan            RIT             1              0   \n",
       "34           Matthew Wilde            RIT             1              0   \n",
       "35          Simon Isabelle            RIT             0              0   \n",
       "36        Crossley Stewart            RIT             0              0   \n",
       "37        Philippe Jacques            RIT             0              0   \n",
       "38          Anthony Romano       Clarkson             3              2   \n",
       "39        Tristan Sarsland       Clarkson             2              0   \n",
       "40          Eric Ciccolini       Clarkson             4              0   \n",
       "41             Ryan Taylor       Clarkson             1              2   \n",
       "42               Noah Beck       Clarkson             0              2   \n",
       "43              Cody Monds       Clarkson             2              2   \n",
       "44          Ellis Rickwood       Clarkson             0              1   \n",
       "\n",
       "    Shots_Blocked  Defensive_Blocks                                  Game_ID  \n",
       "0               1                 0  2023-10-07-Lake Superior-Michigan State  \n",
       "1               0                 0  2023-10-07-Lake Superior-Michigan State  \n",
       "2               0                 0  2023-10-07-Lake Superior-Michigan State  \n",
       "3               1                 0  2023-10-07-Lake Superior-Michigan State  \n",
       "4               0                 2  2023-10-07-Lake Superior-Michigan State  \n",
       "5               2                 2  2023-10-07-Lake Superior-Michigan State  \n",
       "6               0                 0  2023-10-07-Lake Superior-Michigan State  \n",
       "7               0                 0  2023-10-07-Lake Superior-Michigan State  \n",
       "8               0                 1  2023-10-07-Lake Superior-Michigan State  \n",
       "9               0                 0  2023-10-07-Lake Superior-Michigan State  \n",
       "10              0                 1  2023-10-07-Lake Superior-Michigan State  \n",
       "11              0                 0  2023-10-07-Lake Superior-Michigan State  \n",
       "12              0                 1  2023-10-07-Lake Superior-Michigan State  \n",
       "13              0                 1  2023-10-07-Lake Superior-Michigan State  \n",
       "14              0                 0  2023-10-07-Lake Superior-Michigan State  \n",
       "15              0                 0  2023-10-07-Lake Superior-Michigan State  \n",
       "16              0                 0  2023-10-07-Lake Superior-Michigan State  \n",
       "17              0                 0  2023-10-07-Lake Superior-Michigan State  \n",
       "18              0                 1  2023-10-07-Lake Superior-Michigan State  \n",
       "19              1                 1              2023-10-07-RIT-St. Lawrence  \n",
       "20              1                 1              2023-10-07-RIT-St. Lawrence  \n",
       "21              1                 0              2023-10-07-RIT-St. Lawrence  \n",
       "22              1                 0              2023-10-07-RIT-St. Lawrence  \n",
       "23              1                 0              2023-10-07-RIT-St. Lawrence  \n",
       "24              3                 1              2023-10-07-RIT-St. Lawrence  \n",
       "25              1                 3              2023-10-07-RIT-St. Lawrence  \n",
       "26              2                 1              2023-10-07-RIT-St. Lawrence  \n",
       "27              1                 1              2023-10-07-RIT-St. Lawrence  \n",
       "28              1                 0              2023-10-07-RIT-St. Lawrence  \n",
       "29              1                 2              2023-10-07-RIT-St. Lawrence  \n",
       "30              1                 0              2023-10-07-RIT-St. Lawrence  \n",
       "31              0                 0              2023-10-07-RIT-St. Lawrence  \n",
       "32              0                 3              2023-10-07-RIT-St. Lawrence  \n",
       "33              0                 0              2023-10-07-RIT-St. Lawrence  \n",
       "34              0                 0              2023-10-07-RIT-St. Lawrence  \n",
       "35              0                 0              2023-10-07-RIT-St. Lawrence  \n",
       "36              0                 0              2023-10-07-RIT-St. Lawrence  \n",
       "37              0                 0              2023-10-07-RIT-St. Lawrence  \n",
       "38              1                 1           2023-10-07-Clarkson-Notre Dame  \n",
       "39              2                 1           2023-10-07-Clarkson-Notre Dame  \n",
       "40              0                 1           2023-10-07-Clarkson-Notre Dame  \n",
       "41              1                 0           2023-10-07-Clarkson-Notre Dame  \n",
       "42              1                 0           2023-10-07-Clarkson-Notre Dame  \n",
       "43              0                 0           2023-10-07-Clarkson-Notre Dame  \n",
       "44              1                 0           2023-10-07-Clarkson-Notre Dame  "
      ]
     },
     "execution_count": 3,
     "metadata": {},
     "output_type": "execute_result"
    }
   ],
   "source": [
    "# Update the code to clean the 'advanced_metrics_combined' table by removing 'TOTAL' rows\n",
    "\n",
    "# Load the 'advanced_metrics_combined' table into a DataFrame excluding 'TOTAL' rows\n",
    "df_amc = pd.read_sql(\"SELECT * FROM advanced_metrics_combined WHERE player != 'TOTAL'\", conn)\n",
    "\n",
    "# Convert columns to numeric for calculations (replacing empty strings with 0)\n",
    "columns_to_convert = ['EVEN_Saved', 'EVEN_Goals', 'EVEN_Miss', 'EVEN_Block', 'D_Blocks']\n",
    "for col in columns_to_convert:\n",
    "    df_amc[col] = pd.to_numeric(df_amc[col].replace('', '0'))\n",
    "\n",
    "# Calculate required columns\n",
    "df_amc['Shots_On_Net'] = df_amc['EVEN_Saved'] + df_amc['EVEN_Goals']\n",
    "df_amc['Shots_Off_Net'] = df_amc['EVEN_Miss']\n",
    "df_amc['Shots_Blocked'] = df_amc['EVEN_Block']\n",
    "df_amc['Defensive_Blocks'] = df_amc['D_Blocks']\n",
    "\n",
    "# Create a DataFrame with only the desired columns\n",
    "# shots_df = df_amc[['Player', 'Team', 'Shots_On_Net', 'Shots_Off_Net', 'Shots_Blocked', 'Defensive_Blocks', 'Game_ID']]\n",
    "\n",
    "# Create a DataFrame with only the desired columns - LEAVE OFF TEAM AND TRY TO ADD IT LATER\n",
    "shots_df = df_amc[['Player', 'Team', 'Shots_On_Net', 'Shots_Off_Net', 'Shots_Blocked', 'Defensive_Blocks', 'Game_ID']]\n",
    "\n",
    "# Display the column names of the shots_df\n",
    "shots_df.columns\n",
    "\n",
    "shots_df.head(25)\n",
    "\n",
    "# Merge into the compiled_df\n",
    "compiled_df = shots_df.copy()\n",
    "\n",
    "# # Team Name Split\n",
    "# team_name_split = compiled_df['Game_ID'].str.split('-').str[-2:]\n",
    "# compiled_df['Temp_Team_1'] = team_name_split.str[0]\n",
    "# compiled_df['Temp_Team_2'] = team_name_split.str[1]\n",
    "\n",
    "# # If Home/Away is Away Then Team is Temp_Team_1\n",
    "# # If Home/Away is Home Then Team is Temp_Team_2\n",
    "# compiled_df['Team'] = np.where(compiled_df['Home/Away'] == 'Away', compiled_df['Temp_Team_1'], compiled_df['Temp_Team_2'])\n",
    "\n",
    "# # Drop Temp Columns\n",
    "# compiled_df.drop(['Temp_Team_1', 'Temp_Team_2'], axis=1, inplace=True)\n",
    "\n",
    "\n",
    "compiled_df.head(45)\n"
   ]
  },
  {
   "cell_type": "markdown",
   "metadata": {},
   "source": [
    "# Use Master_Roster To Get Player to Team Mapping"
   ]
  },
  {
   "cell_type": "code",
   "execution_count": 4,
   "metadata": {},
   "outputs": [],
   "source": [
    "# ## See column names from master_roster table\n",
    "# cursor.execute(\"SELECT * FROM master_roster\")\n",
    "# col_names = [description[0] for description in cursor.description]\n",
    "# col_names"
   ]
  },
  {
   "cell_type": "code",
   "execution_count": 5,
   "metadata": {},
   "outputs": [],
   "source": [
    "# # Extracting all the player names from the master_roster table\n",
    "# all_player_names_master_roster = set(pd.read_sql(\"SELECT Clean_Name FROM master_roster\", conn)['Clean_Name'])\n",
    "\n",
    "# # Finding the intersection of player names between compiled_df and master_roster\n",
    "# common_names = set(compiled_df['Player']).intersection(all_player_names_master_roster)\n",
    "\n",
    "# # Take out those annoying character if there are any\n",
    "# # Replace non-breaking spaces with regular spaces in the player names\n",
    "# compiled_df['Player'] = compiled_df['Player'].str.replace(u'\\xa0', u' ')\n",
    "\n",
    "\n",
    "# # Finding names in compiled_df that are not in master_roster\n",
    "# missing_names = set(compiled_df['Player']) - all_player_names_master_roster\n",
    "\n",
    "# len(common_names), len(missing_names), list(missing_names)[:10]  # Displaying the first 10 missing names\n"
   ]
  },
  {
   "cell_type": "code",
   "execution_count": 6,
   "metadata": {},
   "outputs": [],
   "source": [
    "# # Create a DataFrame with the missing names\n",
    "# missing_names_df = compiled_df[compiled_df['Player'].isin(missing_names)]\n",
    "\n",
    "# missing_names_df.head(25)\n",
    "\n",
    "# ## unique Game_IDs in the missing_names_df\n",
    "# missing_names_df['Game_ID'].nunique()"
   ]
  },
  {
   "cell_type": "code",
   "execution_count": null,
   "metadata": {},
   "outputs": [],
   "source": []
  },
  {
   "cell_type": "code",
   "execution_count": 7,
   "metadata": {},
   "outputs": [
    {
     "data": {
      "text/plain": [
       "0"
      ]
     },
     "execution_count": 7,
     "metadata": {},
     "output_type": "execute_result"
    }
   ],
   "source": [
    "## How many Nan Values are there in the Team Column?\n",
    "compiled_df['Team'].isna().sum()\n",
    "\n",
    "# Value Count of the Team Column\n",
    "# compiled_df['Team'].value_counts()"
   ]
  },
  {
   "cell_type": "markdown",
   "metadata": {},
   "source": [
    "# Get Goal, Assist1 and Assist2\n",
    "- Working"
   ]
  },
  {
   "cell_type": "code",
   "execution_count": 8,
   "metadata": {},
   "outputs": [
    {
     "name": "stdout",
     "output_type": "stream",
     "text": [
      "<class 'pandas.core.frame.DataFrame'>\n",
      "RangeIndex: 5243 entries, 0 to 5242\n",
      "Data columns (total 7 columns):\n",
      " #   Column            Non-Null Count  Dtype \n",
      "---  ------            --------------  ----- \n",
      " 0   Player            5243 non-null   object\n",
      " 1   Team              5243 non-null   object\n",
      " 2   Shots_On_Net      5243 non-null   int64 \n",
      " 3   Shots_Off_Net     5243 non-null   int64 \n",
      " 4   Shots_Blocked     5243 non-null   int64 \n",
      " 5   Defensive_Blocks  5243 non-null   int64 \n",
      " 6   Game_ID           5243 non-null   object\n",
      "dtypes: int64(4), object(3)\n",
      "memory usage: 286.9+ KB\n"
     ]
    }
   ],
   "source": [
    "# Separately calculate Goals, Assist1, and Assist2\n",
    "\n",
    "# Goals\n",
    "goals_df = pd.read_sql(\"\"\"\n",
    "SELECT \n",
    "    Player,\n",
    "    Game_ID,\n",
    "    COUNT(Player) AS Goals\n",
    "FROM \n",
    "    scoring_summary\n",
    "GROUP BY \n",
    "    Player, Game_ID;\n",
    "\"\"\", conn)\n",
    "\n",
    "# Assist1\n",
    "assist1_df = pd.read_sql(\"\"\"\n",
    "SELECT \n",
    "    Assist1 AS Player,\n",
    "    Game_ID,\n",
    "    COUNT(Assist1) AS Assist1\n",
    "FROM \n",
    "    scoring_summary\n",
    "WHERE \n",
    "    Assist1 IS NOT NULL AND Assist1 != ''\n",
    "GROUP BY \n",
    "    Assist1, Game_ID;\n",
    "\"\"\", conn)\n",
    "\n",
    "# Assist2\n",
    "assist2_df = pd.read_sql(\"\"\"\n",
    "SELECT \n",
    "    Assist2 AS Player,\n",
    "    Game_ID,\n",
    "    COUNT(Assist2) AS Assist2\n",
    "FROM \n",
    "    scoring_summary\n",
    "WHERE \n",
    "    Assist2 IS NOT NULL AND Assist2 != ''\n",
    "GROUP BY \n",
    "    Assist2, Game_ID;\n",
    "\"\"\", conn)\n",
    "\n",
    "\n",
    "# goals_df.head(25)\n",
    "# Merge the dataframes together\n",
    "merged_df = goals_df.merge(assist1_df, on=['Player', 'Game_ID'], how='outer')\n",
    "merged_df = merged_df.merge(assist2_df, on=['Player', 'Game_ID'], how='outer')\n",
    "\n",
    "# Fill NaN values with 0\n",
    "merged_df = merged_df.fillna(0)\n",
    "\n",
    "# Convert columns to int\n",
    "merged_df['Goals'] = merged_df['Goals'].astype(int)\n",
    "merged_df['Assist1'] = merged_df['Assist1'].astype(int)\n",
    "merged_df['Assist2'] = merged_df['Assist2'].astype(int)\n",
    "\n",
    "# # Sort by Player\n",
    "goal_assist_df = merged_df.sort_values(by=['Player'])\n",
    "\n",
    "# # Display the first few rows\n",
    "goal_assist_df.head(20)\n",
    "\n",
    "\n",
    "\n",
    "# # Merge the Goal and Assist info into the compiled_df join left\n",
    "# compiled_df = pd.merge(compiled_df, goal_assist_df, on=['Player', 'Game_ID'], how='outer')\n",
    "\n",
    "\n",
    "compiled_df.sample(10)\n",
    "compiled_df.info()\n",
    "\n",
    "\n",
    "\n",
    "# # Histogram of the compiled_df\n",
    "# compiled_df.hist()"
   ]
  },
  {
   "cell_type": "code",
   "execution_count": 9,
   "metadata": {},
   "outputs": [
    {
     "data": {
      "text/plain": [
       "0"
      ]
     },
     "execution_count": 9,
     "metadata": {},
     "output_type": "execute_result"
    }
   ],
   "source": [
    "## Value count of Teams\n",
    "compiled_df['Team'].value_counts()\n",
    "\n",
    "# How many Nan Values are there in the Team Column?\n",
    "compiled_df['Team'].isna().sum()"
   ]
  },
  {
   "cell_type": "code",
   "execution_count": 10,
   "metadata": {},
   "outputs": [
    {
     "name": "stdout",
     "output_type": "stream",
     "text": [
      "<class 'pandas.core.frame.DataFrame'>\n",
      "RangeIndex: 5243 entries, 0 to 5242\n",
      "Data columns (total 10 columns):\n",
      " #   Column            Non-Null Count  Dtype \n",
      "---  ------            --------------  ----- \n",
      " 0   Player            5243 non-null   object\n",
      " 1   Team              5243 non-null   object\n",
      " 2   Shots_On_Net      5243 non-null   int64 \n",
      " 3   Shots_Off_Net     5243 non-null   int64 \n",
      " 4   Shots_Blocked     5243 non-null   int64 \n",
      " 5   Defensive_Blocks  5243 non-null   int64 \n",
      " 6   Game_ID           5243 non-null   object\n",
      " 7   Goals             5243 non-null   int32 \n",
      " 8   Assist1           5243 non-null   int32 \n",
      " 9   Assist2           5243 non-null   int32 \n",
      "dtypes: int32(3), int64(4), object(3)\n",
      "memory usage: 348.3+ KB\n"
     ]
    }
   ],
   "source": [
    "# Replace non-breaking spaces with regular spaces in the Player column of compiled_df\n",
    "compiled_df['Player'] = compiled_df['Player'].str.replace('\\xa0', ' ')\n",
    "\n",
    "# Merge the dataframes again\n",
    "new_merged_df = pd.merge(compiled_df, goal_assist_df, on=['Player', 'Game_ID'], how='left')\n",
    "\n",
    "# Fill NaN values with 0 for the Goals, Assist1, and Assist2 columns\n",
    "new_merged_df[['Goals', 'Assist1', 'Assist2']] = new_merged_df[['Goals', 'Assist1', 'Assist2']].fillna(0).astype(int)\n",
    "\n",
    "# Display the first few rows of the merged dataframe\n",
    "merged_df.head()\n",
    "\n",
    "new_merged_df.info()\n",
    "\n",
    "# RENAME BACK TO COMPILED_DF FOR USE LATER\n",
    "compiled_df = new_merged_df.copy()"
   ]
  },
  {
   "cell_type": "code",
   "execution_count": 11,
   "metadata": {},
   "outputs": [
    {
     "data": {
      "text/plain": [
       "0"
      ]
     },
     "execution_count": 11,
     "metadata": {},
     "output_type": "execute_result"
    }
   ],
   "source": [
    "# new_merged_df['Goals'].hist()\n",
    "\n",
    "# new_merged_df.sample(20)\n",
    "\n",
    "# Value Counts of Teams\n",
    "compiled_df['Team'].value_counts()\n",
    "\n",
    "# How many Nan values are in the Team column?\n",
    "compiled_df['Team'].isna().sum()\n",
    "\n",
    "# "
   ]
  },
  {
   "cell_type": "code",
   "execution_count": 12,
   "metadata": {},
   "outputs": [],
   "source": [
    "### OUTPUT CSVS\n",
    "\n",
    "# # Save the compiled_df to a csv\n",
    "compiled_df.to_csv('../TEMP/PRELIM_compiled_df.csv', index=False)\n",
    "\n",
    "# # Save the goal_assist_df to a csv\n",
    "goal_assist_df.to_csv('../TEMP/PRELIM_goal_assist_df.csv', index=False)"
   ]
  },
  {
   "cell_type": "code",
   "execution_count": 13,
   "metadata": {},
   "outputs": [
    {
     "name": "stdout",
     "output_type": "stream",
     "text": [
      "<class 'pandas.core.frame.DataFrame'>\n",
      "RangeIndex: 5243 entries, 0 to 5242\n",
      "Data columns (total 13 columns):\n",
      " #   Column            Non-Null Count  Dtype   \n",
      "---  ------            --------------  -----   \n",
      " 0   Player            5243 non-null   object  \n",
      " 1   Team              5243 non-null   object  \n",
      " 2   Shots_On_Net      5243 non-null   int64   \n",
      " 3   Shots_Off_Net     5243 non-null   int64   \n",
      " 4   Shots_Blocked     5243 non-null   int64   \n",
      " 5   Defensive_Blocks  5243 non-null   int64   \n",
      " 6   Game_ID           5243 non-null   object  \n",
      " 7   Goals             5243 non-null   int32   \n",
      " 8   Assist1           5243 non-null   int32   \n",
      " 9   Assist2           5243 non-null   int32   \n",
      " 10  Faceoff_Wins      1679 non-null   float64 \n",
      " 11  Faceoff_Losses    1679 non-null   float64 \n",
      " 12  _merge            5243 non-null   category\n",
      "dtypes: category(1), float64(2), int32(3), int64(4), object(3)\n",
      "memory usage: 435.5+ KB\n"
     ]
    },
    {
     "data": {
      "image/png": "[encoded data removed]",
      "text/plain": [
       "<Figure size 640x480 with 9 Axes>"
      ]
     },
     "metadata": {},
     "output_type": "display_data"
    }
   ],
   "source": [
    "# Calculate Faceoff Metrics for each player in each game\n",
    "\n",
    "query_faceoff_metrics = \"\"\"\n",
    "SELECT \n",
    "    Player,\n",
    "    Game_ID,\n",
    "    FOW AS Faceoff_Wins,\n",
    "    FOL AS Faceoff_Losses\n",
    "FROM \n",
    "    player_stats;\n",
    "\"\"\"\n",
    "\n",
    "# Create a DataFrame with the results\n",
    "\n",
    "\n",
    "\n",
    "faceoff_metrics_data = cursor.execute(query_faceoff_metrics).fetchall()\n",
    "\n",
    "# Preview the first few rows of the result\n",
    "faceoff_metrics_data[:5]\n",
    "\n",
    "# Create DataFrame with the results\n",
    "faceoff_metrics_df = pd.DataFrame(faceoff_metrics_data, columns=['Player', 'Game_ID', 'Faceoff_Wins', 'Faceoff_Losses'])\n",
    "\n",
    "# Take out those annoying character if there are any\n",
    "# Replace non-breaking spaces with regular spaces in the Player column of compiled_df\n",
    "faceoff_metrics_df['Player'] = faceoff_metrics_df['Player'].str.replace('\\xa0', ' ')\n",
    "\n",
    "# Replace non-breaking spaces with regular spaces in the Player column of compiled_df\n",
    "compiled_df['Team'] = compiled_df['Team'].str.replace('\\xa0', ' ')\n",
    "\n",
    "# Drop old indicator column to make way for new one\n",
    "# compiled_df = compiled_df.drop(columns=['_merge'])\n",
    "compiled_df = compiled_df.merge(faceoff_metrics_df, on=['Player', 'Game_ID'], how='inner', indicator=True)\n",
    "\n",
    "# Histogram of the compiled_df\n",
    "compiled_df.hist()\n",
    "\n",
    "compiled_df.info()\n",
    "# compiled_df.head(25)\n",
    "\n",
    "# compiled_df.columns\n",
    "\n",
    "# compiled_df['Team'].value_counts()\n",
    "\n",
    "# compiled_df['Team'].isna().sum()"
   ]
  },
  {
   "cell_type": "markdown",
   "metadata": {},
   "source": [
    "### Overall PP Success"
   ]
  },
  {
   "cell_type": "code",
   "execution_count": 14,
   "metadata": {},
   "outputs": [
    {
     "data": {
      "text/plain": [
       "0.24579326923076922"
      ]
     },
     "execution_count": 14,
     "metadata": {},
     "output_type": "execute_result"
    }
   ],
   "source": [
    "### Find the Overall Power Play Success rate for the entire database\n",
    "\n",
    "# Count the total number of Power Play (PP) goals from the scoring_summary table.\n",
    "pp_goals_count = cursor.execute(\"SELECT COUNT(*) FROM scoring_summary WHERE PP != '';\").fetchone()[0]\n",
    "\n",
    "# Count the total number of Power Plays from the penalty_summary table.\n",
    "total_pp_count = cursor.execute(\"SELECT COUNT(*) FROM penalty_summary;\").fetchone()[0]\n",
    "\n",
    "# Calculate the Power Play success rate.\n",
    "pp_success_rate = pp_goals_count / total_pp_count\n",
    "\n",
    "\n",
    "## OVERALL NCAA WIDE POWER PLAY SUCCESS RATE TO USE IN FACTOR\n",
    "pp_success_rate\n"
   ]
  },
  {
   "cell_type": "code",
   "execution_count": 15,
   "metadata": {},
   "outputs": [
    {
     "data": {
      "text/plain": [
       "0"
      ]
     },
     "execution_count": 15,
     "metadata": {},
     "output_type": "execute_result"
    }
   ],
   "source": [
    "# even_strength_goals_refined_df.shape\n",
    "\n",
    "# Drop indicator column before new merge\n",
    "compiled_df = compiled_df.drop(columns=['_merge'])\n",
    "\n",
    "\n",
    "\n",
    "\n",
    "\n",
    "# # Save the compiled_df to a csv\n",
    "compiled_df.to_csv('../TEMP/NEW_PRELIM_compiled_df.csv', index=False)\n",
    "\n",
    "compiled_df['Team'].value_counts()\n",
    "\n",
    "compiled_df['Team'].isna().sum()\n",
    "\n",
    "# compiled_df.sample(20)"
   ]
  },
  {
   "cell_type": "markdown",
   "metadata": {},
   "source": [
    "# Team Goals Component"
   ]
  },
  {
   "cell_type": "markdown",
   "metadata": {},
   "source": []
  },
  {
   "cell_type": "code",
   "execution_count": 16,
   "metadata": {},
   "outputs": [
    {
     "data": {
      "text/html": [
       "<div>\n",
       "<style scoped>\n",
       "    .dataframe tbody tr th:only-of-type {\n",
       "        vertical-align: middle;\n",
       "    }\n",
       "\n",
       "    .dataframe tbody tr th {\n",
       "        vertical-align: top;\n",
       "    }\n",
       "\n",
       "    .dataframe thead th {\n",
       "        text-align: right;\n",
       "    }\n",
       "</style>\n",
       "<table border=\"1\" class=\"dataframe\">\n",
       "  <thead>\n",
       "    <tr style=\"text-align: right;\">\n",
       "      <th></th>\n",
       "      <th>Game_ID</th>\n",
       "      <th>Team</th>\n",
       "      <th>Goals_For_Team</th>\n",
       "      <th>Goals_Against_Team</th>\n",
       "    </tr>\n",
       "  </thead>\n",
       "  <tbody>\n",
       "    <tr>\n",
       "      <th>25</th>\n",
       "      <td>2023-10-07-Lake Superior-Michigan State</td>\n",
       "      <td>Michigan State</td>\n",
       "      <td>4</td>\n",
       "      <td>1</td>\n",
       "    </tr>\n",
       "    <tr>\n",
       "      <th>345</th>\n",
       "      <td>2023-10-21-Long Island-Colorado College</td>\n",
       "      <td>Colorado College</td>\n",
       "      <td>2</td>\n",
       "      <td>2</td>\n",
       "    </tr>\n",
       "    <tr>\n",
       "      <th>335</th>\n",
       "      <td>2023-10-21-Bowling Green-Western Michigan</td>\n",
       "      <td>Western Michigan</td>\n",
       "      <td>3</td>\n",
       "      <td>1</td>\n",
       "    </tr>\n",
       "    <tr>\n",
       "      <th>424</th>\n",
       "      <td>2023-10-27-Ferris State-Northern Michigan</td>\n",
       "      <td>Northern Michigan</td>\n",
       "      <td>1</td>\n",
       "      <td>1</td>\n",
       "    </tr>\n",
       "    <tr>\n",
       "      <th>96</th>\n",
       "      <td>2023-10-12-Ferris State-Western Michigan</td>\n",
       "      <td>Ferris State</td>\n",
       "      <td>3</td>\n",
       "      <td>4</td>\n",
       "    </tr>\n",
       "    <tr>\n",
       "      <th>296</th>\n",
       "      <td>2023-10-20-Northern Michigan-Arizona State</td>\n",
       "      <td>Northern Michigan</td>\n",
       "      <td>2</td>\n",
       "      <td>1</td>\n",
       "    </tr>\n",
       "    <tr>\n",
       "      <th>24</th>\n",
       "      <td>2023-10-07-Lake Superior-Michigan State</td>\n",
       "      <td>Lake Superior</td>\n",
       "      <td>1</td>\n",
       "      <td>4</td>\n",
       "    </tr>\n",
       "    <tr>\n",
       "      <th>418</th>\n",
       "      <td>2023-10-27-Bentley-Robert Morris</td>\n",
       "      <td>Robert Morris</td>\n",
       "      <td>4</td>\n",
       "      <td>1</td>\n",
       "    </tr>\n",
       "    <tr>\n",
       "      <th>169</th>\n",
       "      <td>2023-10-13-Union-Colorado College</td>\n",
       "      <td>Union</td>\n",
       "      <td>6</td>\n",
       "      <td>2</td>\n",
       "    </tr>\n",
       "    <tr>\n",
       "      <th>433</th>\n",
       "      <td>2023-10-27-Maine-Quinnipiac</td>\n",
       "      <td>Quinnipiac</td>\n",
       "      <td>1</td>\n",
       "      <td>1</td>\n",
       "    </tr>\n",
       "    <tr>\n",
       "      <th>382</th>\n",
       "      <td>2023-10-22-St. Lawrence-Merrimack</td>\n",
       "      <td>Merrimack</td>\n",
       "      <td>2</td>\n",
       "      <td>3</td>\n",
       "    </tr>\n",
       "    <tr>\n",
       "      <th>251</th>\n",
       "      <td>2023-10-19-Canisius-Michigan State</td>\n",
       "      <td>Michigan State</td>\n",
       "      <td>4</td>\n",
       "      <td>2</td>\n",
       "    </tr>\n",
       "    <tr>\n",
       "      <th>250</th>\n",
       "      <td>2023-10-19-Canisius-Michigan State</td>\n",
       "      <td>Canisius</td>\n",
       "      <td>2</td>\n",
       "      <td>4</td>\n",
       "    </tr>\n",
       "    <tr>\n",
       "      <th>68</th>\n",
       "      <td>2023-10-08-Denver-Alaska</td>\n",
       "      <td>Denver</td>\n",
       "      <td>2</td>\n",
       "      <td>2</td>\n",
       "    </tr>\n",
       "    <tr>\n",
       "      <th>53</th>\n",
       "      <td>2023-10-07-Providence-Michigan</td>\n",
       "      <td>Michigan</td>\n",
       "      <td>2</td>\n",
       "      <td>2</td>\n",
       "    </tr>\n",
       "    <tr>\n",
       "      <th>150</th>\n",
       "      <td>2023-10-13-Quinnipiac-American Int'l</td>\n",
       "      <td>American Int'l</td>\n",
       "      <td>1</td>\n",
       "      <td>2</td>\n",
       "    </tr>\n",
       "    <tr>\n",
       "      <th>129</th>\n",
       "      <td>2023-10-13-Long Island-Boston College</td>\n",
       "      <td>Boston College</td>\n",
       "      <td>2</td>\n",
       "      <td>3</td>\n",
       "    </tr>\n",
       "    <tr>\n",
       "      <th>297</th>\n",
       "      <td>2023-10-20-Northern Michigan-Arizona State</td>\n",
       "      <td>Arizona State</td>\n",
       "      <td>1</td>\n",
       "      <td>2</td>\n",
       "    </tr>\n",
       "    <tr>\n",
       "      <th>138</th>\n",
       "      <td>2023-10-13-Niagara-Omaha</td>\n",
       "      <td>Omaha</td>\n",
       "      <td>7</td>\n",
       "      <td>1</td>\n",
       "    </tr>\n",
       "    <tr>\n",
       "      <th>241</th>\n",
       "      <td>2023-10-14-Vermont-Clarkson</td>\n",
       "      <td>Vermont</td>\n",
       "      <td>2</td>\n",
       "      <td>1</td>\n",
       "    </tr>\n",
       "    <tr>\n",
       "      <th>282</th>\n",
       "      <td>2023-10-20-Lindenwood-St. Thomas</td>\n",
       "      <td>Lindenwood</td>\n",
       "      <td>4</td>\n",
       "      <td>3</td>\n",
       "    </tr>\n",
       "    <tr>\n",
       "      <th>202</th>\n",
       "      <td>2023-10-14-Colgate-Sacred Heart</td>\n",
       "      <td>Sacred Heart</td>\n",
       "      <td>1</td>\n",
       "      <td>5</td>\n",
       "    </tr>\n",
       "    <tr>\n",
       "      <th>381</th>\n",
       "      <td>2023-10-22-St. Lawrence-Merrimack</td>\n",
       "      <td>St. Lawrence</td>\n",
       "      <td>3</td>\n",
       "      <td>2</td>\n",
       "    </tr>\n",
       "    <tr>\n",
       "      <th>300</th>\n",
       "      <td>2023-10-20-Ohio State-Michigan</td>\n",
       "      <td>Ohio State</td>\n",
       "      <td>6</td>\n",
       "      <td>1</td>\n",
       "    </tr>\n",
       "    <tr>\n",
       "      <th>48</th>\n",
       "      <td>2023-10-07-Penn State-Long Island</td>\n",
       "      <td>Penn State</td>\n",
       "      <td>2</td>\n",
       "      <td>2</td>\n",
       "    </tr>\n",
       "  </tbody>\n",
       "</table>\n",
       "</div>"
      ],
      "text/plain": [
       "                                        Game_ID               Team  \\\n",
       "25      2023-10-07-Lake Superior-Michigan State     Michigan State   \n",
       "345     2023-10-21-Long Island-Colorado College   Colorado College   \n",
       "335   2023-10-21-Bowling Green-Western Michigan   Western Michigan   \n",
       "424   2023-10-27-Ferris State-Northern Michigan  Northern Michigan   \n",
       "96     2023-10-12-Ferris State-Western Michigan       Ferris State   \n",
       "296  2023-10-20-Northern Michigan-Arizona State  Northern Michigan   \n",
       "24      2023-10-07-Lake Superior-Michigan State      Lake Superior   \n",
       "418            2023-10-27-Bentley-Robert Morris      Robert Morris   \n",
       "169           2023-10-13-Union-Colorado College              Union   \n",
       "433                 2023-10-27-Maine-Quinnipiac         Quinnipiac   \n",
       "382           2023-10-22-St. Lawrence-Merrimack          Merrimack   \n",
       "251          2023-10-19-Canisius-Michigan State     Michigan State   \n",
       "250          2023-10-19-Canisius-Michigan State           Canisius   \n",
       "68                     2023-10-08-Denver-Alaska             Denver   \n",
       "53               2023-10-07-Providence-Michigan           Michigan   \n",
       "150        2023-10-13-Quinnipiac-American Int'l     American Int'l   \n",
       "129       2023-10-13-Long Island-Boston College     Boston College   \n",
       "297  2023-10-20-Northern Michigan-Arizona State      Arizona State   \n",
       "138                    2023-10-13-Niagara-Omaha              Omaha   \n",
       "241                 2023-10-14-Vermont-Clarkson            Vermont   \n",
       "282            2023-10-20-Lindenwood-St. Thomas         Lindenwood   \n",
       "202             2023-10-14-Colgate-Sacred Heart       Sacred Heart   \n",
       "381           2023-10-22-St. Lawrence-Merrimack       St. Lawrence   \n",
       "300              2023-10-20-Ohio State-Michigan         Ohio State   \n",
       "48            2023-10-07-Penn State-Long Island         Penn State   \n",
       "\n",
       "     Goals_For_Team  Goals_Against_Team  \n",
       "25                4                   1  \n",
       "345               2                   2  \n",
       "335               3                   1  \n",
       "424               1                   1  \n",
       "96                3                   4  \n",
       "296               2                   1  \n",
       "24                1                   4  \n",
       "418               4                   1  \n",
       "169               6                   2  \n",
       "433               1                   1  \n",
       "382               2                   3  \n",
       "251               4                   2  \n",
       "250               2                   4  \n",
       "68                2                   2  \n",
       "53                2                   2  \n",
       "150               1                   2  \n",
       "129               2                   3  \n",
       "297               1                   2  \n",
       "138               7                   1  \n",
       "241               2                   1  \n",
       "282               4                   3  \n",
       "202               1                   5  \n",
       "381               3                   2  \n",
       "300               6                   1  \n",
       "48                2                   2  "
      ]
     },
     "execution_count": 16,
     "metadata": {},
     "output_type": "execute_result"
    }
   ],
   "source": [
    "## Get the Team_Goals_For and Team_Goals_Against for each player in each game\n",
    "## Only include EVEN_STRENGTH goals\n",
    "## Access the EVEN_STRENGTH goals advanced_metrics_combined table from the TOTAL row from each team and apply it to each player in the game\n",
    "## EVEN Strength goals for the team should be stored in 'Goals_For_Team' and the opponent's EVEN Strength goals should be stored in 'Goals_Against_Team'\n",
    "\n",
    "# Extracting EVEN_STRENGTH goals (where PP column is blank) for each team\n",
    "even_strength_goals_query_refined = \"\"\"\n",
    "SELECT \n",
    "    Game_ID,\n",
    "    Team,\n",
    "    COUNT(*) AS Goals_For_Team\n",
    "FROM \n",
    "    scoring_summary\n",
    "WHERE \n",
    "    PP = ''\n",
    "GROUP BY \n",
    "    Game_ID, Team\n",
    "\"\"\"\n",
    "\n",
    "even_strength_goals_refined_df = pd.read_sql(even_strength_goals_query_refined, conn)\n",
    "\n",
    "# Correct the values in the Team column so we can effectively join the dataframes\n",
    "\n",
    "# Create a new column for the row number grouped by Game_ID\n",
    "even_strength_goals_refined_df['row_number'] = even_strength_goals_refined_df.groupby('Game_ID').cumcount() + 1\n",
    "\n",
    "# Function to assign the correct team name based on the row number\n",
    "def assign_team_name(row):\n",
    "    return row['Team_1'] if row['row_number'] == 1 else row['Team_2']\n",
    "\n",
    "# Splitting the Game_ID column again to extract team names\n",
    "team_names_split = even_strength_goals_refined_df['Game_ID'].str.split('-').str[-2:]\n",
    "even_strength_goals_refined_df['Team_1'] = team_names_split.str[0]\n",
    "even_strength_goals_refined_df['Team_2'] = team_names_split.str[1]\n",
    "\n",
    "# Applying the function to assign the correct team name\n",
    "even_strength_goals_refined_df['Team'] = even_strength_goals_refined_df.apply(assign_team_name, axis=1)\n",
    "\n",
    "# Dropping the extra columns again\n",
    "even_strength_goals_refined_df.drop(columns=['Team_1', 'Team_2', 'row_number'], inplace=True)\n",
    "\n",
    "# Creating a new column 'Opponent_Goals' which will be used to determine the goals against each team\n",
    "even_strength_goals_refined_df = even_strength_goals_refined_df.merge(\n",
    "    even_strength_goals_refined_df[['Game_ID', 'Team', 'Goals_For_Team']], \n",
    "    on='Game_ID',\n",
    "    suffixes=('', '_Opponent')\n",
    ")\n",
    "\n",
    "# Filtering out rows where Team is the same as the opponent team\n",
    "even_strength_goals_refined_df = even_strength_goals_refined_df[even_strength_goals_refined_df['Team'] != even_strength_goals_refined_df['Team_Opponent']]\n",
    "\n",
    "# Assigning the 'Goals_For_Team_Opponent' to a new column 'Goals_Against_Team'\n",
    "even_strength_goals_refined_df['Goals_Against_Team'] = even_strength_goals_refined_df['Goals_For_Team_Opponent']\n",
    "\n",
    "# Dropping unnecessary columns\n",
    "even_strength_goals_refined_df.drop(columns=['Team_Opponent', 'Goals_For_Team_Opponent'], inplace=True)\n",
    "\n",
    "even_strength_goals_refined_df.head(25)\n",
    "# Take out those annoying character if there are any\n",
    "# Replace non-breaking spaces with regular spaces in the Player column of compiled_df\n",
    "even_strength_goals_refined_df['Team'] = even_strength_goals_refined_df['Team'].str.replace('\\xa0', ' ')\n",
    "\n",
    "## SAVE A CSV \n",
    "even_strength_goals_refined_df.to_csv('../TEMP/NEW_PRELIM_even_strength_goals_refined_df.csv', index=False)\n",
    "\n",
    "# # Displaying the dataframe with the newly computed 'Goals_Against_Team' values\n",
    "even_strength_goals_refined_df.sample(25)\n",
    "\n",
    "\n",
    "# # print(compiled_df.shape)\n"
   ]
  },
  {
   "cell_type": "code",
   "execution_count": 17,
   "metadata": {},
   "outputs": [
    {
     "name": "stdout",
     "output_type": "stream",
     "text": [
      "<class 'pandas.core.frame.DataFrame'>\n",
      "RangeIndex: 5306 entries, 0 to 5305\n",
      "Data columns (total 14 columns):\n",
      " #   Column              Non-Null Count  Dtype  \n",
      "---  ------              --------------  -----  \n",
      " 0   Player              5243 non-null   object \n",
      " 1   Team                5306 non-null   object \n",
      " 2   Shots_On_Net        5243 non-null   float64\n",
      " 3   Shots_Off_Net       5243 non-null   float64\n",
      " 4   Shots_Blocked       5243 non-null   float64\n",
      " 5   Defensive_Blocks    5243 non-null   float64\n",
      " 6   Game_ID             5306 non-null   object \n",
      " 7   Goals               5243 non-null   float64\n",
      " 8   Assist1             5243 non-null   float64\n",
      " 9   Assist2             5243 non-null   float64\n",
      " 10  Faceoff_Wins        1679 non-null   float64\n",
      " 11  Faceoff_Losses      1679 non-null   float64\n",
      " 12  Goals_For_Team      3368 non-null   float64\n",
      " 13  Goals_Against_Team  3368 non-null   float64\n",
      "dtypes: float64(11), object(3)\n",
      "memory usage: 580.5+ KB\n"
     ]
    }
   ],
   "source": [
    "# Merge the dataframes on Game_ID and Team\n",
    "merged_df_new = pd.merge(compiled_df, even_strength_goals_refined_df, on=['Game_ID', 'Team'], how='outer')\n",
    "\n",
    "# Display the first few rows of the merged dataframe\n",
    "merged_df_new.head(25)\n",
    "\n",
    "merged_df_new.info()\n"
   ]
  },
  {
   "cell_type": "code",
   "execution_count": 18,
   "metadata": {},
   "outputs": [],
   "source": [
    "\n",
    "# # Convert columns to int\n",
    "# int_cols = [ 'Shots_On_Net', 'Shots_Off_Net', 'Shots_Blocked',\n",
    "#        'Defensive_Blocks',  'Goals', 'Assist1', 'Assist2',\n",
    "#        'Faceoff_Wins', 'Faceoff_Losses', 'Goals_For_Team',\n",
    "#        'Goals_Against_Team']\n",
    "\n",
    "# for col in int_cols:\n",
    "#     compiled_df[col] = compiled_df[col].astype(int)\n",
    "\n",
    "\n",
    "\n",
    "# print(f'New Shape: {compiled_df.shape}')\n",
    "\n",
    "# ####\n",
    "# # # Merge into the compiled_df\n",
    "# compiled_df = compiled_df.merge(even_strength_goals_refined_df, on=['Game_ID', 'Team'], how='outer', indicator=True)\n",
    "\n",
    "# compiled_df.columns\n",
    "\n",
    "# # compiled_df['Goals'].hist()\n",
    "# # compiled_df['Assist1'].hist()\n",
    "# compiled_df['Assist2'].hist()\n",
    "\n",
    "# compiled_df.sample(25)\n",
    "\n",
    "# # Team value count\n",
    "# compiled_df['Team'].value_counts()\n",
    "\n"
   ]
  },
  {
   "cell_type": "code",
   "execution_count": 19,
   "metadata": {},
   "outputs": [],
   "source": [
    "# SHow just the rows where the Goals_Against_Team is NaN\n",
    "trouble_df = merged_df_new[merged_df_new['Goals_Against_Team'].isna()]\n",
    "\n",
    "# Value Counts of Teams\n",
    "trouble_df['Team'].value_counts()\n",
    "\n",
    "# I think what is going on is thes are instanced when the player was not on the roster the day of the game?\n",
    "\n",
    "## Do any of these have values in Goals or Assists?\n",
    "trouble_df[trouble_df['Goals'] > 0]\n",
    "\n",
    "trouble_df[trouble_df['Assist1'] > 0]\n",
    "\n",
    "## Could be games when no even strength goals were scored - That must be it. fill with 0\n",
    "merged_df_new['Goals_Against_Team'] = merged_df_new['Goals_Against_Team'].fillna(0)\n",
    "# Same for Goals_For_Team\n",
    "merged_df_new['Goals_For_Team'] = merged_df_new['Goals_For_Team'].fillna(0)"
   ]
  },
  {
   "cell_type": "code",
   "execution_count": 20,
   "metadata": {},
   "outputs": [
    {
     "name": "stdout",
     "output_type": "stream",
     "text": [
      "<class 'pandas.core.frame.DataFrame'>\n",
      "RangeIndex: 5306 entries, 0 to 5305\n",
      "Data columns (total 14 columns):\n",
      " #   Column              Non-Null Count  Dtype  \n",
      "---  ------              --------------  -----  \n",
      " 0   Player              5243 non-null   object \n",
      " 1   Team                5306 non-null   object \n",
      " 2   Shots_On_Net        5243 non-null   float64\n",
      " 3   Shots_Off_Net       5243 non-null   float64\n",
      " 4   Shots_Blocked       5243 non-null   float64\n",
      " 5   Defensive_Blocks    5243 non-null   float64\n",
      " 6   Game_ID             5306 non-null   object \n",
      " 7   Goals               5243 non-null   float64\n",
      " 8   Assist1             5243 non-null   float64\n",
      " 9   Assist2             5243 non-null   float64\n",
      " 10  Faceoff_Wins        1679 non-null   float64\n",
      " 11  Faceoff_Losses      1679 non-null   float64\n",
      " 12  Goals_For_Team      5306 non-null   float64\n",
      " 13  Goals_Against_Team  5306 non-null   float64\n",
      "dtypes: float64(11), object(3)\n",
      "memory usage: 580.5+ KB\n"
     ]
    },
    {
     "data": {
      "image/png": "[encoded data removed]",
      "text/plain": [
       "<Figure size 640x480 with 12 Axes>"
      ]
     },
     "metadata": {},
     "output_type": "display_data"
    }
   ],
   "source": [
    "merged_df_new.hist()\n",
    "\n",
    "merged_df_new.info()"
   ]
  },
  {
   "cell_type": "code",
   "execution_count": 21,
   "metadata": {},
   "outputs": [],
   "source": [
    "# # Joining the dataframe with itself to compute EVEN_STRENGTH goals against each team\n",
    "# team_goals_refined_df = even_strength_goals_refined_df.merge(\n",
    "#     even_strength_goals_refined_df, on='Game_ID', suffixes=('', '_Opponent')\n",
    "# )\n",
    "\n",
    "# # Filtering out rows where Team is the same as the opponent team\n",
    "# team_goals_refined_df = team_goals_refined_df[team_goals_refined_df['Team'] != team_goals_refined_df['Team_Opponent']]\n",
    "\n",
    "# # Dropping unnecessary columns and renaming for clarity\n",
    "# team_goals_refined_df = team_goals_refined_df[['Game_ID', 'Team', 'Goals_For_Team', 'Goals_For_Team_Opponent']]\n",
    "# team_goals_refined_df = team_goals_refined_df.rename(columns={'Goals_For_Team_Opponent': 'Goals_Against_Team'})\n",
    "\n",
    "# # Joining with advanced_metrics_combined to assign the values to each player\n",
    "# player_goals_refined_df = player_goals_df.merge(team_goals_refined_df, on=['Game_ID', 'Team'], how='left')\n",
    "\n",
    "# # Display the first few rows of the resulting dataframe\n",
    "# player_goals_refined_df[['Player', 'Game_ID', 'Team', 'Goals_For_Team', 'Goals_Against_Team']].head(25)\n"
   ]
  },
  {
   "cell_type": "code",
   "execution_count": null,
   "metadata": {},
   "outputs": [],
   "source": []
  },
  {
   "cell_type": "markdown",
   "metadata": {},
   "source": []
  },
  {
   "cell_type": "code",
   "execution_count": null,
   "metadata": {},
   "outputs": [],
   "source": []
  },
  {
   "cell_type": "code",
   "execution_count": null,
   "metadata": {},
   "outputs": [],
   "source": []
  },
  {
   "cell_type": "markdown",
   "metadata": {},
   "source": [
    "# Penalty Component"
   ]
  },
  {
   "cell_type": "code",
   "execution_count": 22,
   "metadata": {},
   "outputs": [
    {
     "name": "stdout",
     "output_type": "stream",
     "text": [
      "<class 'pandas.core.frame.DataFrame'>\n",
      "RangeIndex: 5306 entries, 0 to 5305\n",
      "Data columns (total 15 columns):\n",
      " #   Column              Non-Null Count  Dtype  \n",
      "---  ------              --------------  -----  \n",
      " 0   Player              5243 non-null   object \n",
      " 1   Team                5306 non-null   object \n",
      " 2   Shots_On_Net        5243 non-null   float64\n",
      " 3   Shots_Off_Net       5243 non-null   float64\n",
      " 4   Shots_Blocked       5243 non-null   float64\n",
      " 5   Defensive_Blocks    5243 non-null   float64\n",
      " 6   Game_ID             5306 non-null   object \n",
      " 7   Goals               5243 non-null   float64\n",
      " 8   Assist1             5243 non-null   float64\n",
      " 9   Assist2             5243 non-null   float64\n",
      " 10  Faceoff_Wins        1679 non-null   float64\n",
      " 11  Faceoff_Losses      1679 non-null   float64\n",
      " 12  Goals_For_Team      5306 non-null   float64\n",
      " 13  Goals_Against_Team  5306 non-null   float64\n",
      " 14  Penalties_Taken     5306 non-null   float64\n",
      "dtypes: float64(12), object(3)\n",
      "memory usage: 621.9+ KB\n"
     ]
    },
    {
     "data": {
      "image/png": "[encoded data removed]",
      "text/plain": [
       "<Figure size 640x480 with 1 Axes>"
      ]
     },
     "metadata": {},
     "output_type": "display_data"
    }
   ],
   "source": [
    "## Penalty Component\n",
    "\n",
    "# Count the number of penalties taken by each player in each game\n",
    "penalty_count_query = \"\"\"\n",
    "SELECT\n",
    "    Game_ID,\n",
    "    Player,\n",
    "    COUNT(*) AS Penalties_Taken\n",
    "FROM\n",
    "    penalty_summary\n",
    "WHERE\n",
    "    Player != 'TOTAL'\n",
    "GROUP BY\n",
    "    Game_ID, Player;\n",
    "\"\"\"\n",
    "\n",
    "## Rename the new version of the df back to this name to use later\n",
    "\n",
    "compiled_df = merged_df_new.copy()\n",
    "\n",
    "\n",
    "# Create a DataFrame with the results\n",
    "penalty_count_df = pd.read_sql(penalty_count_query, conn)\n",
    "\n",
    "# Preview the first few rows of the result\n",
    "penalty_count_df.head()\n",
    "\n",
    "penalty_count_df['Penalties_Taken'].hist()\n",
    "\n",
    "# Convert to int\n",
    "penalty_count_df['Penalties_Taken'] = penalty_count_df['Penalties_Taken'].astype(int)\n",
    "\n",
    "# penalty_count_df.describe()\n",
    "\n",
    "# merge it into the compiled_df\n",
    "compiled_df = compiled_df.merge(penalty_count_df, on=['Player', 'Game_ID'], how='left')\n",
    "\n",
    "# Fill NaN values in 'Penalties_Taken' with 0\n",
    "compiled_df['Penalties_Taken'].fillna(0, inplace=True)\n",
    "\n",
    "# compiled_df.head(25)\n",
    "\n",
    "\n",
    "# compiled_df.hist()\n",
    "\n",
    "compiled_df.columns\n",
    "\n",
    "# Output CSV\n",
    "compiled_df.to_csv('../TEMP/GAME_SCORE_compiled_df.csv', index=False)\n",
    "\n",
    "\n",
    "compiled_df.info()"
   ]
  },
  {
   "cell_type": "code",
   "execution_count": 23,
   "metadata": {},
   "outputs": [],
   "source": [
    "# Fill NaN values in 'Penalties_Taken' with 0\n",
    "compiled_df['Penalties_Taken'].fillna(0, inplace=True)\n",
    "\n",
    "# Calculate each component of the game score formula\n",
    "player_goals_refined_df = compiled_df.copy()\n",
    "\n",
    "# SCORE Component\n",
    "player_goals_refined_df['SCORE'] = (player_goals_refined_df['Goals'] * 0.75) + \\\n",
    "                                  (player_goals_refined_df['Assist1'] * 0.715) + \\\n",
    "                                  (player_goals_refined_df['Assist2'] * 0.555)\n",
    "\n",
    "# SHOTS Component\n",
    "player_goals_refined_df['SHOTS'] = (player_goals_refined_df['Shots_On_Net'] * 0.075) + \\\n",
    "                                  (player_goals_refined_df['Shots_Off_Net'] * 0.075) - \\\n",
    "                                  (player_goals_refined_df['Shots_Blocked'] * 0.075)\n",
    "\n",
    "# FACEOFFS Component\n",
    "player_goals_refined_df['FACEOFFS'] = (player_goals_refined_df['Faceoff_Wins'] * 0.01) - \\\n",
    "                                     (player_goals_refined_df['Faceoff_Losses'] * 0.01)\n",
    "# Fill NaN values in 'Faceoff_Wins' and 'Faceoff_Losses' with 0\n",
    "player_goals_refined_df['FACEOFFS'].fillna(0, inplace=True)\n",
    "\n",
    "\n",
    "# TEAM Component\n",
    "player_goals_refined_df['TEAM'] = (player_goals_refined_df['Goals_For_Team'] * 0.15) - \\\n",
    "                                 (player_goals_refined_df['Goals_Against_Team'] * 0.15)\n",
    "# Fill\n",
    "\n",
    "\n",
    "# PENALTIES Component -  Negative because it is a penalty\n",
    "player_goals_refined_df['PENALTIES'] = (player_goals_refined_df['Penalties_Taken'] * pp_success_rate) * -1\n",
    "\n",
    "## Fill all Nan Values with 0\n",
    "player_goals_refined_df.fillna(0, inplace=True)\n",
    "\n",
    "# Calculate the overall game score\n",
    "player_goals_refined_df['Game_Score'] = player_goals_refined_df['SCORE'] + \\\n",
    "                                       player_goals_refined_df['SHOTS'] + \\\n",
    "                                       player_goals_refined_df['FACEOFFS'] + \\\n",
    "                                       player_goals_refined_df['TEAM'] - \\\n",
    "                                       player_goals_refined_df['PENALTIES']\n",
    "\n",
    "# Display the first few rows of the dataframe with the newly computed 'Game_Score' values\n",
    "player_goals_refined_df[['Player', 'Game_ID', 'Team', 'Game_Score']].head(25)\n",
    "\n",
    "\n",
    "\n",
    "# Save to CSV\n",
    "player_goals_refined_df.to_csv('../TEMP/GAME_SCORE_player_goals_refined_df.csv', index=False)\n"
   ]
  },
  {
   "cell_type": "markdown",
   "metadata": {},
   "source": [
    "# Pivot the big Game Score Table into individual teams"
   ]
  },
  {
   "cell_type": "code",
   "execution_count": 24,
   "metadata": {},
   "outputs": [
    {
     "data": {
      "text/html": [
       "<div>\n",
       "<style scoped>\n",
       "    .dataframe tbody tr th:only-of-type {\n",
       "        vertical-align: middle;\n",
       "    }\n",
       "\n",
       "    .dataframe tbody tr th {\n",
       "        vertical-align: top;\n",
       "    }\n",
       "\n",
       "    .dataframe thead th {\n",
       "        text-align: right;\n",
       "    }\n",
       "</style>\n",
       "<table border=\"1\" class=\"dataframe\">\n",
       "  <thead>\n",
       "    <tr style=\"text-align: right;\">\n",
       "      <th>Game_ID</th>\n",
       "      <th>2023-10-07-Lake Superior-Michigan State</th>\n",
       "      <th>2023-10-08-Lake Superior-Michigan State</th>\n",
       "      <th>2023-10-12-Michigan State-Air Force</th>\n",
       "      <th>2023-10-13-Michigan State-Air Force</th>\n",
       "      <th>2023-10-19-Canisius-Michigan State</th>\n",
       "      <th>2023-10-20-Canisius-Michigan State</th>\n",
       "      <th>2023-10-26-Michigan State-Boston College</th>\n",
       "      <th>2023-10-27-Michigan State-Boston College</th>\n",
       "    </tr>\n",
       "    <tr>\n",
       "      <th>Player</th>\n",
       "      <th></th>\n",
       "      <th></th>\n",
       "      <th></th>\n",
       "      <th></th>\n",
       "      <th></th>\n",
       "      <th></th>\n",
       "      <th></th>\n",
       "      <th></th>\n",
       "    </tr>\n",
       "  </thead>\n",
       "  <tbody>\n",
       "    <tr>\n",
       "      <th>Artyom Levshunov</th>\n",
       "      <td>0.920793</td>\n",
       "      <td>1.905000</td>\n",
       "      <td>0.450000</td>\n",
       "      <td>0.510793</td>\n",
       "      <td>0.975000</td>\n",
       "      <td>1.615000</td>\n",
       "      <td>0.545793</td>\n",
       "      <td>0.715000</td>\n",
       "    </tr>\n",
       "    <tr>\n",
       "      <th>Austin Oravetz</th>\n",
       "      <td>0.000000</td>\n",
       "      <td>0.000000</td>\n",
       "      <td>1.240000</td>\n",
       "      <td>-0.375000</td>\n",
       "      <td>0.545793</td>\n",
       "      <td>0.075000</td>\n",
       "      <td>0.695793</td>\n",
       "      <td>0.150000</td>\n",
       "    </tr>\n",
       "    <tr>\n",
       "      <th>Daniel Russell</th>\n",
       "      <td>0.525000</td>\n",
       "      <td>1.015000</td>\n",
       "      <td>1.125000</td>\n",
       "      <td>0.500793</td>\n",
       "      <td>2.775000</td>\n",
       "      <td>1.220793</td>\n",
       "      <td>0.320793</td>\n",
       "      <td>0.320793</td>\n",
       "    </tr>\n",
       "    <tr>\n",
       "      <th>David Gucciardi</th>\n",
       "      <td>1.005000</td>\n",
       "      <td>0.620793</td>\n",
       "      <td>0.695793</td>\n",
       "      <td>-0.150000</td>\n",
       "      <td>0.150000</td>\n",
       "      <td>0.491587</td>\n",
       "      <td>1.037380</td>\n",
       "      <td>0.450000</td>\n",
       "    </tr>\n",
       "    <tr>\n",
       "      <th>Gavin Best</th>\n",
       "      <td>0.000000</td>\n",
       "      <td>0.000000</td>\n",
       "      <td>0.000000</td>\n",
       "      <td>0.000000</td>\n",
       "      <td>0.225000</td>\n",
       "      <td>0.000000</td>\n",
       "      <td>0.000000</td>\n",
       "      <td>0.000000</td>\n",
       "    </tr>\n",
       "  </tbody>\n",
       "</table>\n",
       "</div>"
      ],
      "text/plain": [
       "Game_ID           2023-10-07-Lake Superior-Michigan State  \\\n",
       "Player                                                      \n",
       "Artyom Levshunov                                 0.920793   \n",
       "Austin Oravetz                                   0.000000   \n",
       "Daniel Russell                                   0.525000   \n",
       "David Gucciardi                                  1.005000   \n",
       "Gavin Best                                       0.000000   \n",
       "\n",
       "Game_ID           2023-10-08-Lake Superior-Michigan State  \\\n",
       "Player                                                      \n",
       "Artyom Levshunov                                 1.905000   \n",
       "Austin Oravetz                                   0.000000   \n",
       "Daniel Russell                                   1.015000   \n",
       "David Gucciardi                                  0.620793   \n",
       "Gavin Best                                       0.000000   \n",
       "\n",
       "Game_ID           2023-10-12-Michigan State-Air Force  \\\n",
       "Player                                                  \n",
       "Artyom Levshunov                             0.450000   \n",
       "Austin Oravetz                               1.240000   \n",
       "Daniel Russell                               1.125000   \n",
       "David Gucciardi                              0.695793   \n",
       "Gavin Best                                   0.000000   \n",
       "\n",
       "Game_ID           2023-10-13-Michigan State-Air Force  \\\n",
       "Player                                                  \n",
       "Artyom Levshunov                             0.510793   \n",
       "Austin Oravetz                              -0.375000   \n",
       "Daniel Russell                               0.500793   \n",
       "David Gucciardi                             -0.150000   \n",
       "Gavin Best                                   0.000000   \n",
       "\n",
       "Game_ID           2023-10-19-Canisius-Michigan State  \\\n",
       "Player                                                 \n",
       "Artyom Levshunov                            0.975000   \n",
       "Austin Oravetz                              0.545793   \n",
       "Daniel Russell                              2.775000   \n",
       "David Gucciardi                             0.150000   \n",
       "Gavin Best                                  0.225000   \n",
       "\n",
       "Game_ID           2023-10-20-Canisius-Michigan State  \\\n",
       "Player                                                 \n",
       "Artyom Levshunov                            1.615000   \n",
       "Austin Oravetz                              0.075000   \n",
       "Daniel Russell                              1.220793   \n",
       "David Gucciardi                             0.491587   \n",
       "Gavin Best                                  0.000000   \n",
       "\n",
       "Game_ID           2023-10-26-Michigan State-Boston College  \\\n",
       "Player                                                       \n",
       "Artyom Levshunov                                  0.545793   \n",
       "Austin Oravetz                                    0.695793   \n",
       "Daniel Russell                                    0.320793   \n",
       "David Gucciardi                                   1.037380   \n",
       "Gavin Best                                        0.000000   \n",
       "\n",
       "Game_ID           2023-10-27-Michigan State-Boston College  \n",
       "Player                                                      \n",
       "Artyom Levshunov                                  0.715000  \n",
       "Austin Oravetz                                    0.150000  \n",
       "Daniel Russell                                    0.320793  \n",
       "David Gucciardi                                   0.450000  \n",
       "Gavin Best                                        0.000000  "
      ]
     },
     "execution_count": 24,
     "metadata": {},
     "output_type": "execute_result"
    }
   ],
   "source": [
    "# Generate team-specific tables using a pivot table\n",
    "team_tables = {}\n",
    "\n",
    "unique_teams = player_goals_refined_df['Team'].unique()\n",
    "\n",
    "for team in unique_teams:\n",
    "    team_df = player_goals_refined_df[player_goals_refined_df['Team'] == team]\n",
    "    pivot_table = team_df.pivot(index='Player', columns='Game_ID', values='Game_Score')\n",
    "    team_tables[team] = pivot_table\n",
    "\n",
    "\n",
    "# Print List of Teams\n",
    "unique_teams\n",
    "\n",
    "\n",
    "# Fill NaN values with 0\n",
    "for team in unique_teams:\n",
    "    team_tables[team] = team_tables[team].fillna(0)\n",
    "\n",
    "# Display the first team's table as an example\n",
    "# team_tables[unique_teams[21]].head(40)\n",
    "\n",
    "### MSU Is In Index Position 21 in this case outputing csv for MSU\n",
    "# team_tables[unique_teams[21]] = team_tables[unique_teams[21]].fillna(0)\n",
    "# team_tables[unique_teams[21]].to_csv('../data/Nov_2_MSU_GAME_SCORES.csv')\n",
    "\n",
    "\n",
    "msu_df = team_tables[unique_teams[21]].copy()\n",
    "msu_df.head()\n",
    "\n"
   ]
  },
  {
   "cell_type": "code",
   "execution_count": 25,
   "metadata": {},
   "outputs": [],
   "source": [
    "## "
   ]
  },
  {
   "cell_type": "markdown",
   "metadata": {},
   "source": [
    "# Pivot Tables of Game Scores for Every Player and Every Team should all be stored now if it ran cleanly "
   ]
  },
  {
   "cell_type": "code",
   "execution_count": 26,
   "metadata": {},
   "outputs": [
    {
     "data": {
      "application/vnd.plotly.v1+json": {
       "config": {
        "plotlyServerURL": "https://plot.ly"
       },
       "data": [
        {
         "cells": {
          "align": "left",
          "fill": {
           "color": "lavender"
          },
          "values": [
           [
            0.9207932692307692,
            0,
            0.5249999999999999,
            1.005,
            0,
            1.155,
            0,
            1.670793269230769,
            0,
            1.2399999999999998,
            0.995,
            0.6749999999999999,
            0.37499999999999994,
            0.6,
            2.0649999999999995,
            2.28,
            0,
            0.44999999999999996,
            2.125,
            0.6749999999999999,
            1.165,
            0.8207932692307691,
            1.315,
            1.5
           ],
           [
            1.905,
            0,
            1.015,
            0.6207932692307692,
            0,
            0.29999999999999993,
            0,
            0.14999999999999997,
            0,
            0.865,
            1.1649999999999998,
            1.1849999999999998,
            0.22499999999999998,
            0.14999999999999997,
            0.14999999999999997,
            1.525,
            0,
            1.335793269230769,
            1.400793269230769,
            1.275,
            0.23499999999999996,
            0.875,
            0.44999999999999996,
            0.07499999999999998
           ],
           [
            0.45,
            1.24,
            1.125,
            0.6957932692307692,
            0,
            1.425,
            0,
            1.015,
            0,
            1.165,
            0.865,
            1.28,
            1.785,
            0.6957932692307692,
            0.675,
            1.4407932692307692,
            0,
            0,
            2.0100000000000002,
            1.530793269230769,
            0.7707932692307693,
            0.7357932692307692,
            0.525,
            0.6207932692307692
           ],
           [
            0.5107932692307692,
            -0.375,
            0.5007932692307693,
            -0.15,
            0,
            0.75,
            0,
            0.6399999999999999,
            -0.3,
            0.1707932692307692,
            3.0300000000000002,
            1.1949999999999998,
            -0.05420673076923077,
            -0.07500000000000001,
            0.33,
            0.31,
            -0.22499999999999998,
            0,
            0.75,
            -0.22499999999999998,
            -0.22499999999999998,
            -0.295,
            0,
            0
           ],
           [
            0.9750000000000001,
            0.5457932692307692,
            2.775,
            0.15,
            0.22499999999999998,
            1.24,
            0,
            1.7950000000000002,
            0,
            0.6207932692307692,
            1.275,
            1.21,
            1.165,
            1.275,
            0.855,
            0.7257932692307691,
            0,
            0,
            1.7707932692307693,
            1.9549999999999998,
            0.3,
            1.1323798076923077,
            0.5249999999999999,
            0
           ],
           [
            1.6149999999999998,
            0.07499999999999998,
            1.2207932692307693,
            0.49158653846153844,
            0,
            0.22499999999999998,
            -0.075,
            0.93,
            0,
            0.49158653846153844,
            0.61,
            1.0707932692307691,
            0.15,
            0.865,
            1.1550000000000002,
            1.84,
            0.49158653846153844,
            0,
            0.3957932692307692,
            0.6,
            0,
            0.019999999999999997,
            0,
            0
           ],
           [
            0.5457932692307692,
            0.6957932692307691,
            0.32079326923076923,
            1.0373798076923078,
            0,
            1.165,
            0,
            1.3350000000000002,
            0,
            1.2,
            0.9299999999999999,
            2.2207932692307693,
            0.375,
            0.3,
            0.855,
            1.015,
            0,
            0,
            1.825,
            1.165,
            0.375,
            0.5157932692307692,
            0.44999999999999996,
            0
           ],
           [
            0.715,
            0.15,
            0.32079326923076923,
            0.44999999999999996,
            0,
            0.375,
            0,
            1.1757932692307693,
            0.29999999999999993,
            0.235,
            0.365,
            1.310793269230769,
            0.22499999999999998,
            0.375,
            0.22499999999999998,
            0.47,
            0.3,
            0,
            0.33999999999999997,
            0,
            0.15,
            0.535,
            0.3957932692307692,
            0
           ]
          ]
         },
         "header": {
          "align": "left",
          "fill": {
           "color": "paleturquoise"
          },
          "values": [
           "2023-10-07-Lake Superior-Michigan State",
           "2023-10-08-Lake Superior-Michigan State",
           "2023-10-12-Michigan State-Air Force",
           "2023-10-13-Michigan State-Air Force",
           "2023-10-19-Canisius-Michigan State",
           "2023-10-20-Canisius-Michigan State",
           "2023-10-26-Michigan State-Boston College",
           "2023-10-27-Michigan State-Boston College"
          ]
         },
         "type": "table"
        }
       ],
       "layout": {
        "template": {
         "data": {
          "bar": [
           {
            "error_x": {
             "color": "#2a3f5f"
            },
            "error_y": {
             "color": "#2a3f5f"
            },
            "marker": {
             "line": {
              "color": "#E5ECF6",
              "width": 0.5
             },
             "pattern": {
              "fillmode": "overlay",
              "size": 10,
              "solidity": 0.2
             }
            },
            "type": "bar"
           }
          ],
          "barpolar": [
           {
            "marker": {
             "line": {
              "color": "#E5ECF6",
              "width": 0.5
             },
             "pattern": {
              "fillmode": "overlay",
              "size": 10,
              "solidity": 0.2
             }
            },
            "type": "barpolar"
           }
          ],
          "carpet": [
           {
            "aaxis": {
             "endlinecolor": "#2a3f5f",
             "gridcolor": "white",
             "linecolor": "white",
             "minorgridcolor": "white",
             "startlinecolor": "#2a3f5f"
            },
            "baxis": {
             "endlinecolor": "#2a3f5f",
             "gridcolor": "white",
             "linecolor": "white",
             "minorgridcolor": "white",
             "startlinecolor": "#2a3f5f"
            },
            "type": "carpet"
           }
          ],
          "choropleth": [
           {
            "colorbar": {
             "outlinewidth": 0,
             "ticks": ""
            },
            "type": "choropleth"
           }
          ],
          "contour": [
           {
            "colorbar": {
             "outlinewidth": 0,
             "ticks": ""
            },
            "colorscale": [
             [
              0,
              "#0d0887"
             ],
             [
              0.1111111111111111,
              "#46039f"
             ],
             [
              0.2222222222222222,
              "#7201a8"
             ],
             [
              0.3333333333333333,
              "#9c179e"
             ],
             [
              0.4444444444444444,
              "#bd3786"
             ],
             [
              0.5555555555555556,
              "#d8576b"
             ],
             [
              0.6666666666666666,
              "#ed7953"
             ],
             [
              0.7777777777777778,
              "#fb9f3a"
             ],
             [
              0.8888888888888888,
              "#fdca26"
             ],
             [
              1,
              "#f0f921"
             ]
            ],
            "type": "contour"
           }
          ],
          "contourcarpet": [
           {
            "colorbar": {
             "outlinewidth": 0,
             "ticks": ""
            },
            "type": "contourcarpet"
           }
          ],
          "heatmap": [
           {
            "colorbar": {
             "outlinewidth": 0,
             "ticks": ""
            },
            "colorscale": [
             [
              0,
              "#0d0887"
             ],
             [
              0.1111111111111111,
              "#46039f"
             ],
             [
              0.2222222222222222,
              "#7201a8"
             ],
             [
              0.3333333333333333,
              "#9c179e"
             ],
             [
              0.4444444444444444,
              "#bd3786"
             ],
             [
              0.5555555555555556,
              "#d8576b"
             ],
             [
              0.6666666666666666,
              "#ed7953"
             ],
             [
              0.7777777777777778,
              "#fb9f3a"
             ],
             [
              0.8888888888888888,
              "#fdca26"
             ],
             [
              1,
              "#f0f921"
             ]
            ],
            "type": "heatmap"
           }
          ],
          "heatmapgl": [
           {
            "colorbar": {
             "outlinewidth": 0,
             "ticks": ""
            },
            "colorscale": [
             [
              0,
              "#0d0887"
             ],
             [
              0.1111111111111111,
              "#46039f"
             ],
             [
              0.2222222222222222,
              "#7201a8"
             ],
             [
              0.3333333333333333,
              "#9c179e"
             ],
             [
              0.4444444444444444,
              "#bd3786"
             ],
             [
              0.5555555555555556,
              "#d8576b"
             ],
             [
              0.6666666666666666,
              "#ed7953"
             ],
             [
              0.7777777777777778,
              "#fb9f3a"
             ],
             [
              0.8888888888888888,
              "#fdca26"
             ],
             [
              1,
              "#f0f921"
             ]
            ],
            "type": "heatmapgl"
           }
          ],
          "histogram": [
           {
            "marker": {
             "pattern": {
              "fillmode": "overlay",
              "size": 10,
              "solidity": 0.2
             }
            },
            "type": "histogram"
           }
          ],
          "histogram2d": [
           {
            "colorbar": {
             "outlinewidth": 0,
             "ticks": ""
            },
            "colorscale": [
             [
              0,
              "#0d0887"
             ],
             [
              0.1111111111111111,
              "#46039f"
             ],
             [
              0.2222222222222222,
              "#7201a8"
             ],
             [
              0.3333333333333333,
              "#9c179e"
             ],
             [
              0.4444444444444444,
              "#bd3786"
             ],
             [
              0.5555555555555556,
              "#d8576b"
             ],
             [
              0.6666666666666666,
              "#ed7953"
             ],
             [
              0.7777777777777778,
              "#fb9f3a"
             ],
             [
              0.8888888888888888,
              "#fdca26"
             ],
             [
              1,
              "#f0f921"
             ]
            ],
            "type": "histogram2d"
           }
          ],
          "histogram2dcontour": [
           {
            "colorbar": {
             "outlinewidth": 0,
             "ticks": ""
            },
            "colorscale": [
             [
              0,
              "#0d0887"
             ],
             [
              0.1111111111111111,
              "#46039f"
             ],
             [
              0.2222222222222222,
              "#7201a8"
             ],
             [
              0.3333333333333333,
              "#9c179e"
             ],
             [
              0.4444444444444444,
              "#bd3786"
             ],
             [
              0.5555555555555556,
              "#d8576b"
             ],
             [
              0.6666666666666666,
              "#ed7953"
             ],
             [
              0.7777777777777778,
              "#fb9f3a"
             ],
             [
              0.8888888888888888,
              "#fdca26"
             ],
             [
              1,
              "#f0f921"
             ]
            ],
            "type": "histogram2dcontour"
           }
          ],
          "mesh3d": [
           {
            "colorbar": {
             "outlinewidth": 0,
             "ticks": ""
            },
            "type": "mesh3d"
           }
          ],
          "parcoords": [
           {
            "line": {
             "colorbar": {
              "outlinewidth": 0,
              "ticks": ""
             }
            },
            "type": "parcoords"
           }
          ],
          "pie": [
           {
            "automargin": true,
            "type": "pie"
           }
          ],
          "scatter": [
           {
            "fillpattern": {
             "fillmode": "overlay",
             "size": 10,
             "solidity": 0.2
            },
            "type": "scatter"
           }
          ],
          "scatter3d": [
           {
            "line": {
             "colorbar": {
              "outlinewidth": 0,
              "ticks": ""
             }
            },
            "marker": {
             "colorbar": {
              "outlinewidth": 0,
              "ticks": ""
             }
            },
            "type": "scatter3d"
           }
          ],
          "scattercarpet": [
           {
            "marker": {
             "colorbar": {
              "outlinewidth": 0,
              "ticks": ""
             }
            },
            "type": "scattercarpet"
           }
          ],
          "scattergeo": [
           {
            "marker": {
             "colorbar": {
              "outlinewidth": 0,
              "ticks": ""
             }
            },
            "type": "scattergeo"
           }
          ],
          "scattergl": [
           {
            "marker": {
             "colorbar": {
              "outlinewidth": 0,
              "ticks": ""
             }
            },
            "type": "scattergl"
           }
          ],
          "scattermapbox": [
           {
            "marker": {
             "colorbar": {
              "outlinewidth": 0,
              "ticks": ""
             }
            },
            "type": "scattermapbox"
           }
          ],
          "scatterpolar": [
           {
            "marker": {
             "colorbar": {
              "outlinewidth": 0,
              "ticks": ""
             }
            },
            "type": "scatterpolar"
           }
          ],
          "scatterpolargl": [
           {
            "marker": {
             "colorbar": {
              "outlinewidth": 0,
              "ticks": ""
             }
            },
            "type": "scatterpolargl"
           }
          ],
          "scatterternary": [
           {
            "marker": {
             "colorbar": {
              "outlinewidth": 0,
              "ticks": ""
             }
            },
            "type": "scatterternary"
           }
          ],
          "surface": [
           {
            "colorbar": {
             "outlinewidth": 0,
             "ticks": ""
            },
            "colorscale": [
             [
              0,
              "#0d0887"
             ],
             [
              0.1111111111111111,
              "#46039f"
             ],
             [
              0.2222222222222222,
              "#7201a8"
             ],
             [
              0.3333333333333333,
              "#9c179e"
             ],
             [
              0.4444444444444444,
              "#bd3786"
             ],
             [
              0.5555555555555556,
              "#d8576b"
             ],
             [
              0.6666666666666666,
              "#ed7953"
             ],
             [
              0.7777777777777778,
              "#fb9f3a"
             ],
             [
              0.8888888888888888,
              "#fdca26"
             ],
             [
              1,
              "#f0f921"
             ]
            ],
            "type": "surface"
           }
          ],
          "table": [
           {
            "cells": {
             "fill": {
              "color": "#EBF0F8"
             },
             "line": {
              "color": "white"
             }
            },
            "header": {
             "fill": {
              "color": "#C8D4E3"
             },
             "line": {
              "color": "white"
             }
            },
            "type": "table"
           }
          ]
         },
         "layout": {
          "annotationdefaults": {
           "arrowcolor": "#2a3f5f",
           "arrowhead": 0,
           "arrowwidth": 1
          },
          "autotypenumbers": "strict",
          "coloraxis": {
           "colorbar": {
            "outlinewidth": 0,
            "ticks": ""
           }
          },
          "colorscale": {
           "diverging": [
            [
             0,
             "#8e0152"
            ],
            [
             0.1,
             "#c51b7d"
            ],
            [
             0.2,
             "#de77ae"
            ],
            [
             0.3,
             "#f1b6da"
            ],
            [
             0.4,
             "#fde0ef"
            ],
            [
             0.5,
             "#f7f7f7"
            ],
            [
             0.6,
             "#e6f5d0"
            ],
            [
             0.7,
             "#b8e186"
            ],
            [
             0.8,
             "#7fbc41"
            ],
            [
             0.9,
             "#4d9221"
            ],
            [
             1,
             "#276419"
            ]
           ],
           "sequential": [
            [
             0,
             "#0d0887"
            ],
            [
             0.1111111111111111,
             "#46039f"
            ],
            [
             0.2222222222222222,
             "#7201a8"
            ],
            [
             0.3333333333333333,
             "#9c179e"
            ],
            [
             0.4444444444444444,
             "#bd3786"
            ],
            [
             0.5555555555555556,
             "#d8576b"
            ],
            [
             0.6666666666666666,
             "#ed7953"
            ],
            [
             0.7777777777777778,
             "#fb9f3a"
            ],
            [
             0.8888888888888888,
             "#fdca26"
            ],
            [
             1,
             "#f0f921"
            ]
           ],
           "sequentialminus": [
            [
             0,
             "#0d0887"
            ],
            [
             0.1111111111111111,
             "#46039f"
            ],
            [
             0.2222222222222222,
             "#7201a8"
            ],
            [
             0.3333333333333333,
             "#9c179e"
            ],
            [
             0.4444444444444444,
             "#bd3786"
            ],
            [
             0.5555555555555556,
             "#d8576b"
            ],
            [
             0.6666666666666666,
             "#ed7953"
            ],
            [
             0.7777777777777778,
             "#fb9f3a"
            ],
            [
             0.8888888888888888,
             "#fdca26"
            ],
            [
             1,
             "#f0f921"
            ]
           ]
          },
          "colorway": [
           "#636efa",
           "#EF553B",
           "#00cc96",
           "#ab63fa",
           "#FFA15A",
           "#19d3f3",
           "#FF6692",
           "#B6E880",
           "#FF97FF",
           "#FECB52"
          ],
          "font": {
           "color": "#2a3f5f"
          },
          "geo": {
           "bgcolor": "white",
           "lakecolor": "white",
           "landcolor": "#E5ECF6",
           "showlakes": true,
           "showland": true,
           "subunitcolor": "white"
          },
          "hoverlabel": {
           "align": "left"
          },
          "hovermode": "closest",
          "mapbox": {
           "style": "light"
          },
          "paper_bgcolor": "white",
          "plot_bgcolor": "#E5ECF6",
          "polar": {
           "angularaxis": {
            "gridcolor": "white",
            "linecolor": "white",
            "ticks": ""
           },
           "bgcolor": "#E5ECF6",
           "radialaxis": {
            "gridcolor": "white",
            "linecolor": "white",
            "ticks": ""
           }
          },
          "scene": {
           "xaxis": {
            "backgroundcolor": "#E5ECF6",
            "gridcolor": "white",
            "gridwidth": 2,
            "linecolor": "white",
            "showbackground": true,
            "ticks": "",
            "zerolinecolor": "white"
           },
           "yaxis": {
            "backgroundcolor": "#E5ECF6",
            "gridcolor": "white",
            "gridwidth": 2,
            "linecolor": "white",
            "showbackground": true,
            "ticks": "",
            "zerolinecolor": "white"
           },
           "zaxis": {
            "backgroundcolor": "#E5ECF6",
            "gridcolor": "white",
            "gridwidth": 2,
            "linecolor": "white",
            "showbackground": true,
            "ticks": "",
            "zerolinecolor": "white"
           }
          },
          "shapedefaults": {
           "line": {
            "color": "#2a3f5f"
           }
          },
          "ternary": {
           "aaxis": {
            "gridcolor": "white",
            "linecolor": "white",
            "ticks": ""
           },
           "baxis": {
            "gridcolor": "white",
            "linecolor": "white",
            "ticks": ""
           },
           "bgcolor": "#E5ECF6",
           "caxis": {
            "gridcolor": "white",
            "linecolor": "white",
            "ticks": ""
           }
          },
          "title": {
           "x": 0.05
          },
          "xaxis": {
           "automargin": true,
           "gridcolor": "white",
           "linecolor": "white",
           "ticks": "",
           "title": {
            "standoff": 15
           },
           "zerolinecolor": "white",
           "zerolinewidth": 2
          },
          "yaxis": {
           "automargin": true,
           "gridcolor": "white",
           "linecolor": "white",
           "ticks": "",
           "title": {
            "standoff": 15
           },
           "zerolinecolor": "white",
           "zerolinewidth": 2
          }
         }
        }
       }
      }
     },
     "metadata": {},
     "output_type": "display_data"
    }
   ],
   "source": [
    "import plotly.graph_objects as go\n",
    "\n",
    "## USE MSU AS EXAMPLE\n",
    "### MSU Is In Index Position 21 in this case outputing csv for MSU\n",
    "team_tables[unique_teams[21]] = team_tables[unique_teams[21]].fillna(0)\n",
    "msu_df = team_tables[unique_teams[21]].copy()\n",
    "\n",
    "csv_df = msu_df.copy()\n",
    "\n",
    "# Create a basic table\n",
    "fig = go.Figure(data=[go.Table(\n",
    "    header=dict(values=list(csv_df.columns),\n",
    "                fill_color='paleturquoise',\n",
    "                align='left'),\n",
    "    cells=dict(values=[csv_df[col] for col in csv_df.columns],\n",
    "               fill_color='lavender',\n",
    "               align='left'))\n",
    "])\n",
    "\n",
    "fig.show()\n"
   ]
  },
  {
   "cell_type": "code",
   "execution_count": 33,
   "metadata": {},
   "outputs": [
    {
     "data": {
      "application/vnd.plotly.v1+json": {
       "config": {
        "plotlyServerURL": "https://plot.ly"
       },
       "data": [
        {
         "cells": {
          "align": "left",
          "fill": {
           "color": "lavender"
          },
          "values": [
           [
            "Artyom Levshunov",
            "Austin Oravetz",
            "Daniel Russell",
            "David Gucciardi",
            "Gavin Best",
            "Gavin O'Connell",
            "Griffin Jurecki",
            "Isaac Howard",
            "James Crossman",
            "Jeremy Davidson",
            "Joey Larson",
            "Karsen Dorwart",
            "Matt Basgall",
            "Maxim Štrbák",
            "Nash Nienhuis",
            "Nicolas Muller",
            "Owen Baker",
            "Patrick Geary",
            "Red Savage",
            "Reed Lebster",
            "Tanner Kelly",
            "Tiernan Shoudy",
            "Tommi Männistö",
            "Viktor Hurtig"
           ],
           [
            0.9207932692307692,
            0,
            0.5249999999999999,
            1.005,
            0,
            1.155,
            0,
            1.670793269230769,
            0,
            1.2399999999999998,
            0.995,
            0.6749999999999999,
            0.37499999999999994,
            0.6,
            2.0649999999999995,
            2.28,
            0,
            0.44999999999999996,
            2.125,
            0.6749999999999999,
            1.165,
            0.8207932692307691,
            1.315,
            1.5
           ],
           [
            1.905,
            0,
            1.015,
            0.6207932692307692,
            0,
            0.29999999999999993,
            0,
            0.14999999999999997,
            0,
            0.865,
            1.1649999999999998,
            1.1849999999999998,
            0.22499999999999998,
            0.14999999999999997,
            0.14999999999999997,
            1.525,
            0,
            1.335793269230769,
            1.400793269230769,
            1.275,
            0.23499999999999996,
            0.875,
            0.44999999999999996,
            0.07499999999999998
           ],
           [
            0.45,
            1.24,
            1.125,
            0.6957932692307692,
            0,
            1.425,
            0,
            1.015,
            0,
            1.165,
            0.865,
            1.28,
            1.785,
            0.6957932692307692,
            0.675,
            1.4407932692307692,
            0,
            0,
            2.0100000000000002,
            1.530793269230769,
            0.7707932692307693,
            0.7357932692307692,
            0.525,
            0.6207932692307692
           ],
           [
            0.5107932692307692,
            -0.375,
            0.5007932692307693,
            -0.15,
            0,
            0.75,
            0,
            0.6399999999999999,
            -0.3,
            0.1707932692307692,
            3.0300000000000002,
            1.1949999999999998,
            -0.05420673076923077,
            -0.07500000000000001,
            0.33,
            0.31,
            -0.22499999999999998,
            0,
            0.75,
            -0.22499999999999998,
            -0.22499999999999998,
            -0.295,
            0,
            0
           ],
           [
            0.9750000000000001,
            0.5457932692307692,
            2.775,
            0.15,
            0.22499999999999998,
            1.24,
            0,
            1.7950000000000002,
            0,
            0.6207932692307692,
            1.275,
            1.21,
            1.165,
            1.275,
            0.855,
            0.7257932692307691,
            0,
            0,
            1.7707932692307693,
            1.9549999999999998,
            0.3,
            1.1323798076923077,
            0.5249999999999999,
            0
           ],
           [
            1.6149999999999998,
            0.07499999999999998,
            1.2207932692307693,
            0.49158653846153844,
            0,
            0.22499999999999998,
            -0.075,
            0.93,
            0,
            0.49158653846153844,
            0.61,
            1.0707932692307691,
            0.15,
            0.865,
            1.1550000000000002,
            1.84,
            0.49158653846153844,
            0,
            0.3957932692307692,
            0.6,
            0,
            0.019999999999999997,
            0,
            0
           ],
           [
            0.5457932692307692,
            0.6957932692307691,
            0.32079326923076923,
            1.0373798076923078,
            0,
            1.165,
            0,
            1.3350000000000002,
            0,
            1.2,
            0.9299999999999999,
            2.2207932692307693,
            0.375,
            0.3,
            0.855,
            1.015,
            0,
            0,
            1.825,
            1.165,
            0.375,
            0.5157932692307692,
            0.44999999999999996,
            0
           ],
           [
            0.715,
            0.15,
            0.32079326923076923,
            0.44999999999999996,
            0,
            0.375,
            0,
            1.1757932692307693,
            0.29999999999999993,
            0.235,
            0.365,
            1.310793269230769,
            0.22499999999999998,
            0.375,
            0.22499999999999998,
            0.47,
            0.3,
            0,
            0.33999999999999997,
            0,
            0.15,
            0.535,
            0.3957932692307692,
            0
           ]
          ]
         },
         "header": {
          "align": "left",
          "fill": {
           "color": "paleturquoise"
          },
          "values": [
           "Player",
           "2023-10-07-Lake Superior-Michigan State",
           "2023-10-08-Lake Superior-Michigan State",
           "2023-10-12-Michigan State-Air Force",
           "2023-10-13-Michigan State-Air Force",
           "2023-10-19-Canisius-Michigan State",
           "2023-10-20-Canisius-Michigan State",
           "2023-10-26-Michigan State-Boston College",
           "2023-10-27-Michigan State-Boston College"
          ]
         },
         "type": "table"
        }
       ],
       "layout": {
        "template": {
         "data": {
          "bar": [
           {
            "error_x": {
             "color": "#2a3f5f"
            },
            "error_y": {
             "color": "#2a3f5f"
            },
            "marker": {
             "line": {
              "color": "#E5ECF6",
              "width": 0.5
             },
             "pattern": {
              "fillmode": "overlay",
              "size": 10,
              "solidity": 0.2
             }
            },
            "type": "bar"
           }
          ],
          "barpolar": [
           {
            "marker": {
             "line": {
              "color": "#E5ECF6",
              "width": 0.5
             },
             "pattern": {
              "fillmode": "overlay",
              "size": 10,
              "solidity": 0.2
             }
            },
            "type": "barpolar"
           }
          ],
          "carpet": [
           {
            "aaxis": {
             "endlinecolor": "#2a3f5f",
             "gridcolor": "white",
             "linecolor": "white",
             "minorgridcolor": "white",
             "startlinecolor": "#2a3f5f"
            },
            "baxis": {
             "endlinecolor": "#2a3f5f",
             "gridcolor": "white",
             "linecolor": "white",
             "minorgridcolor": "white",
             "startlinecolor": "#2a3f5f"
            },
            "type": "carpet"
           }
          ],
          "choropleth": [
           {
            "colorbar": {
             "outlinewidth": 0,
             "ticks": ""
            },
            "type": "choropleth"
           }
          ],
          "contour": [
           {
            "colorbar": {
             "outlinewidth": 0,
             "ticks": ""
            },
            "colorscale": [
             [
              0,
              "#0d0887"
             ],
             [
              0.1111111111111111,
              "#46039f"
             ],
             [
              0.2222222222222222,
              "#7201a8"
             ],
             [
              0.3333333333333333,
              "#9c179e"
             ],
             [
              0.4444444444444444,
              "#bd3786"
             ],
             [
              0.5555555555555556,
              "#d8576b"
             ],
             [
              0.6666666666666666,
              "#ed7953"
             ],
             [
              0.7777777777777778,
              "#fb9f3a"
             ],
             [
              0.8888888888888888,
              "#fdca26"
             ],
             [
              1,
              "#f0f921"
             ]
            ],
            "type": "contour"
           }
          ],
          "contourcarpet": [
           {
            "colorbar": {
             "outlinewidth": 0,
             "ticks": ""
            },
            "type": "contourcarpet"
           }
          ],
          "heatmap": [
           {
            "colorbar": {
             "outlinewidth": 0,
             "ticks": ""
            },
            "colorscale": [
             [
              0,
              "#0d0887"
             ],
             [
              0.1111111111111111,
              "#46039f"
             ],
             [
              0.2222222222222222,
              "#7201a8"
             ],
             [
              0.3333333333333333,
              "#9c179e"
             ],
             [
              0.4444444444444444,
              "#bd3786"
             ],
             [
              0.5555555555555556,
              "#d8576b"
             ],
             [
              0.6666666666666666,
              "#ed7953"
             ],
             [
              0.7777777777777778,
              "#fb9f3a"
             ],
             [
              0.8888888888888888,
              "#fdca26"
             ],
             [
              1,
              "#f0f921"
             ]
            ],
            "type": "heatmap"
           }
          ],
          "heatmapgl": [
           {
            "colorbar": {
             "outlinewidth": 0,
             "ticks": ""
            },
            "colorscale": [
             [
              0,
              "#0d0887"
             ],
             [
              0.1111111111111111,
              "#46039f"
             ],
             [
              0.2222222222222222,
              "#7201a8"
             ],
             [
              0.3333333333333333,
              "#9c179e"
             ],
             [
              0.4444444444444444,
              "#bd3786"
             ],
             [
              0.5555555555555556,
              "#d8576b"
             ],
             [
              0.6666666666666666,
              "#ed7953"
             ],
             [
              0.7777777777777778,
              "#fb9f3a"
             ],
             [
              0.8888888888888888,
              "#fdca26"
             ],
             [
              1,
              "#f0f921"
             ]
            ],
            "type": "heatmapgl"
           }
          ],
          "histogram": [
           {
            "marker": {
             "pattern": {
              "fillmode": "overlay",
              "size": 10,
              "solidity": 0.2
             }
            },
            "type": "histogram"
           }
          ],
          "histogram2d": [
           {
            "colorbar": {
             "outlinewidth": 0,
             "ticks": ""
            },
            "colorscale": [
             [
              0,
              "#0d0887"
             ],
             [
              0.1111111111111111,
              "#46039f"
             ],
             [
              0.2222222222222222,
              "#7201a8"
             ],
             [
              0.3333333333333333,
              "#9c179e"
             ],
             [
              0.4444444444444444,
              "#bd3786"
             ],
             [
              0.5555555555555556,
              "#d8576b"
             ],
             [
              0.6666666666666666,
              "#ed7953"
             ],
             [
              0.7777777777777778,
              "#fb9f3a"
             ],
             [
              0.8888888888888888,
              "#fdca26"
             ],
             [
              1,
              "#f0f921"
             ]
            ],
            "type": "histogram2d"
           }
          ],
          "histogram2dcontour": [
           {
            "colorbar": {
             "outlinewidth": 0,
             "ticks": ""
            },
            "colorscale": [
             [
              0,
              "#0d0887"
             ],
             [
              0.1111111111111111,
              "#46039f"
             ],
             [
              0.2222222222222222,
              "#7201a8"
             ],
             [
              0.3333333333333333,
              "#9c179e"
             ],
             [
              0.4444444444444444,
              "#bd3786"
             ],
             [
              0.5555555555555556,
              "#d8576b"
             ],
             [
              0.6666666666666666,
              "#ed7953"
             ],
             [
              0.7777777777777778,
              "#fb9f3a"
             ],
             [
              0.8888888888888888,
              "#fdca26"
             ],
             [
              1,
              "#f0f921"
             ]
            ],
            "type": "histogram2dcontour"
           }
          ],
          "mesh3d": [
           {
            "colorbar": {
             "outlinewidth": 0,
             "ticks": ""
            },
            "type": "mesh3d"
           }
          ],
          "parcoords": [
           {
            "line": {
             "colorbar": {
              "outlinewidth": 0,
              "ticks": ""
             }
            },
            "type": "parcoords"
           }
          ],
          "pie": [
           {
            "automargin": true,
            "type": "pie"
           }
          ],
          "scatter": [
           {
            "fillpattern": {
             "fillmode": "overlay",
             "size": 10,
             "solidity": 0.2
            },
            "type": "scatter"
           }
          ],
          "scatter3d": [
           {
            "line": {
             "colorbar": {
              "outlinewidth": 0,
              "ticks": ""
             }
            },
            "marker": {
             "colorbar": {
              "outlinewidth": 0,
              "ticks": ""
             }
            },
            "type": "scatter3d"
           }
          ],
          "scattercarpet": [
           {
            "marker": {
             "colorbar": {
              "outlinewidth": 0,
              "ticks": ""
             }
            },
            "type": "scattercarpet"
           }
          ],
          "scattergeo": [
           {
            "marker": {
             "colorbar": {
              "outlinewidth": 0,
              "ticks": ""
             }
            },
            "type": "scattergeo"
           }
          ],
          "scattergl": [
           {
            "marker": {
             "colorbar": {
              "outlinewidth": 0,
              "ticks": ""
             }
            },
            "type": "scattergl"
           }
          ],
          "scattermapbox": [
           {
            "marker": {
             "colorbar": {
              "outlinewidth": 0,
              "ticks": ""
             }
            },
            "type": "scattermapbox"
           }
          ],
          "scatterpolar": [
           {
            "marker": {
             "colorbar": {
              "outlinewidth": 0,
              "ticks": ""
             }
            },
            "type": "scatterpolar"
           }
          ],
          "scatterpolargl": [
           {
            "marker": {
             "colorbar": {
              "outlinewidth": 0,
              "ticks": ""
             }
            },
            "type": "scatterpolargl"
           }
          ],
          "scatterternary": [
           {
            "marker": {
             "colorbar": {
              "outlinewidth": 0,
              "ticks": ""
             }
            },
            "type": "scatterternary"
           }
          ],
          "surface": [
           {
            "colorbar": {
             "outlinewidth": 0,
             "ticks": ""
            },
            "colorscale": [
             [
              0,
              "#0d0887"
             ],
             [
              0.1111111111111111,
              "#46039f"
             ],
             [
              0.2222222222222222,
              "#7201a8"
             ],
             [
              0.3333333333333333,
              "#9c179e"
             ],
             [
              0.4444444444444444,
              "#bd3786"
             ],
             [
              0.5555555555555556,
              "#d8576b"
             ],
             [
              0.6666666666666666,
              "#ed7953"
             ],
             [
              0.7777777777777778,
              "#fb9f3a"
             ],
             [
              0.8888888888888888,
              "#fdca26"
             ],
             [
              1,
              "#f0f921"
             ]
            ],
            "type": "surface"
           }
          ],
          "table": [
           {
            "cells": {
             "fill": {
              "color": "#EBF0F8"
             },
             "line": {
              "color": "white"
             }
            },
            "header": {
             "fill": {
              "color": "#C8D4E3"
             },
             "line": {
              "color": "white"
             }
            },
            "type": "table"
           }
          ]
         },
         "layout": {
          "annotationdefaults": {
           "arrowcolor": "#2a3f5f",
           "arrowhead": 0,
           "arrowwidth": 1
          },
          "autotypenumbers": "strict",
          "coloraxis": {
           "colorbar": {
            "outlinewidth": 0,
            "ticks": ""
           }
          },
          "colorscale": {
           "diverging": [
            [
             0,
             "#8e0152"
            ],
            [
             0.1,
             "#c51b7d"
            ],
            [
             0.2,
             "#de77ae"
            ],
            [
             0.3,
             "#f1b6da"
            ],
            [
             0.4,
             "#fde0ef"
            ],
            [
             0.5,
             "#f7f7f7"
            ],
            [
             0.6,
             "#e6f5d0"
            ],
            [
             0.7,
             "#b8e186"
            ],
            [
             0.8,
             "#7fbc41"
            ],
            [
             0.9,
             "#4d9221"
            ],
            [
             1,
             "#276419"
            ]
           ],
           "sequential": [
            [
             0,
             "#0d0887"
            ],
            [
             0.1111111111111111,
             "#46039f"
            ],
            [
             0.2222222222222222,
             "#7201a8"
            ],
            [
             0.3333333333333333,
             "#9c179e"
            ],
            [
             0.4444444444444444,
             "#bd3786"
            ],
            [
             0.5555555555555556,
             "#d8576b"
            ],
            [
             0.6666666666666666,
             "#ed7953"
            ],
            [
             0.7777777777777778,
             "#fb9f3a"
            ],
            [
             0.8888888888888888,
             "#fdca26"
            ],
            [
             1,
             "#f0f921"
            ]
           ],
           "sequentialminus": [
            [
             0,
             "#0d0887"
            ],
            [
             0.1111111111111111,
             "#46039f"
            ],
            [
             0.2222222222222222,
             "#7201a8"
            ],
            [
             0.3333333333333333,
             "#9c179e"
            ],
            [
             0.4444444444444444,
             "#bd3786"
            ],
            [
             0.5555555555555556,
             "#d8576b"
            ],
            [
             0.6666666666666666,
             "#ed7953"
            ],
            [
             0.7777777777777778,
             "#fb9f3a"
            ],
            [
             0.8888888888888888,
             "#fdca26"
            ],
            [
             1,
             "#f0f921"
            ]
           ]
          },
          "colorway": [
           "#636efa",
           "#EF553B",
           "#00cc96",
           "#ab63fa",
           "#FFA15A",
           "#19d3f3",
           "#FF6692",
           "#B6E880",
           "#FF97FF",
           "#FECB52"
          ],
          "font": {
           "color": "#2a3f5f"
          },
          "geo": {
           "bgcolor": "white",
           "lakecolor": "white",
           "landcolor": "#E5ECF6",
           "showlakes": true,
           "showland": true,
           "subunitcolor": "white"
          },
          "hoverlabel": {
           "align": "left"
          },
          "hovermode": "closest",
          "mapbox": {
           "style": "light"
          },
          "paper_bgcolor": "white",
          "plot_bgcolor": "#E5ECF6",
          "polar": {
           "angularaxis": {
            "gridcolor": "white",
            "linecolor": "white",
            "ticks": ""
           },
           "bgcolor": "#E5ECF6",
           "radialaxis": {
            "gridcolor": "white",
            "linecolor": "white",
            "ticks": ""
           }
          },
          "scene": {
           "xaxis": {
            "backgroundcolor": "#E5ECF6",
            "gridcolor": "white",
            "gridwidth": 2,
            "linecolor": "white",
            "showbackground": true,
            "ticks": "",
            "zerolinecolor": "white"
           },
           "yaxis": {
            "backgroundcolor": "#E5ECF6",
            "gridcolor": "white",
            "gridwidth": 2,
            "linecolor": "white",
            "showbackground": true,
            "ticks": "",
            "zerolinecolor": "white"
           },
           "zaxis": {
            "backgroundcolor": "#E5ECF6",
            "gridcolor": "white",
            "gridwidth": 2,
            "linecolor": "white",
            "showbackground": true,
            "ticks": "",
            "zerolinecolor": "white"
           }
          },
          "shapedefaults": {
           "line": {
            "color": "#2a3f5f"
           }
          },
          "ternary": {
           "aaxis": {
            "gridcolor": "white",
            "linecolor": "white",
            "ticks": ""
           },
           "baxis": {
            "gridcolor": "white",
            "linecolor": "white",
            "ticks": ""
           },
           "bgcolor": "#E5ECF6",
           "caxis": {
            "gridcolor": "white",
            "linecolor": "white",
            "ticks": ""
           }
          },
          "title": {
           "x": 0.05
          },
          "xaxis": {
           "automargin": true,
           "gridcolor": "white",
           "linecolor": "white",
           "ticks": "",
           "title": {
            "standoff": 15
           },
           "zerolinecolor": "white",
           "zerolinewidth": 2
          },
          "yaxis": {
           "automargin": true,
           "gridcolor": "white",
           "linecolor": "white",
           "ticks": "",
           "title": {
            "standoff": 15
           },
           "zerolinecolor": "white",
           "zerolinewidth": 2
          }
         }
        }
       }
      }
     },
     "metadata": {},
     "output_type": "display_data"
    },
    {
     "data": {
      "text/html": [
       "<div>\n",
       "<style scoped>\n",
       "    .dataframe tbody tr th:only-of-type {\n",
       "        vertical-align: middle;\n",
       "    }\n",
       "\n",
       "    .dataframe tbody tr th {\n",
       "        vertical-align: top;\n",
       "    }\n",
       "\n",
       "    .dataframe thead th {\n",
       "        text-align: right;\n",
       "    }\n",
       "</style>\n",
       "<table border=\"1\" class=\"dataframe\">\n",
       "  <thead>\n",
       "    <tr style=\"text-align: right;\">\n",
       "      <th>Game_ID</th>\n",
       "      <th>Player</th>\n",
       "      <th>2023-10-07-Lake Superior-Michigan State</th>\n",
       "      <th>2023-10-08-Lake Superior-Michigan State</th>\n",
       "      <th>2023-10-12-Michigan State-Air Force</th>\n",
       "      <th>2023-10-13-Michigan State-Air Force</th>\n",
       "      <th>2023-10-19-Canisius-Michigan State</th>\n",
       "      <th>2023-10-20-Canisius-Michigan State</th>\n",
       "      <th>2023-10-26-Michigan State-Boston College</th>\n",
       "      <th>2023-10-27-Michigan State-Boston College</th>\n",
       "    </tr>\n",
       "  </thead>\n",
       "  <tbody>\n",
       "    <tr>\n",
       "      <th>0</th>\n",
       "      <td>Artyom Levshunov</td>\n",
       "      <td>0.920793</td>\n",
       "      <td>1.905000</td>\n",
       "      <td>0.450000</td>\n",
       "      <td>0.510793</td>\n",
       "      <td>0.975000</td>\n",
       "      <td>1.615000</td>\n",
       "      <td>0.545793</td>\n",
       "      <td>0.715000</td>\n",
       "    </tr>\n",
       "    <tr>\n",
       "      <th>1</th>\n",
       "      <td>Austin Oravetz</td>\n",
       "      <td>0.000000</td>\n",
       "      <td>0.000000</td>\n",
       "      <td>1.240000</td>\n",
       "      <td>-0.375000</td>\n",
       "      <td>0.545793</td>\n",
       "      <td>0.075000</td>\n",
       "      <td>0.695793</td>\n",
       "      <td>0.150000</td>\n",
       "    </tr>\n",
       "    <tr>\n",
       "      <th>2</th>\n",
       "      <td>Daniel Russell</td>\n",
       "      <td>0.525000</td>\n",
       "      <td>1.015000</td>\n",
       "      <td>1.125000</td>\n",
       "      <td>0.500793</td>\n",
       "      <td>2.775000</td>\n",
       "      <td>1.220793</td>\n",
       "      <td>0.320793</td>\n",
       "      <td>0.320793</td>\n",
       "    </tr>\n",
       "    <tr>\n",
       "      <th>3</th>\n",
       "      <td>David Gucciardi</td>\n",
       "      <td>1.005000</td>\n",
       "      <td>0.620793</td>\n",
       "      <td>0.695793</td>\n",
       "      <td>-0.150000</td>\n",
       "      <td>0.150000</td>\n",
       "      <td>0.491587</td>\n",
       "      <td>1.037380</td>\n",
       "      <td>0.450000</td>\n",
       "    </tr>\n",
       "    <tr>\n",
       "      <th>4</th>\n",
       "      <td>Gavin Best</td>\n",
       "      <td>0.000000</td>\n",
       "      <td>0.000000</td>\n",
       "      <td>0.000000</td>\n",
       "      <td>0.000000</td>\n",
       "      <td>0.225000</td>\n",
       "      <td>0.000000</td>\n",
       "      <td>0.000000</td>\n",
       "      <td>0.000000</td>\n",
       "    </tr>\n",
       "  </tbody>\n",
       "</table>\n",
       "</div>"
      ],
      "text/plain": [
       "Game_ID            Player  2023-10-07-Lake Superior-Michigan State  \\\n",
       "0        Artyom Levshunov                                 0.920793   \n",
       "1          Austin Oravetz                                 0.000000   \n",
       "2          Daniel Russell                                 0.525000   \n",
       "3         David Gucciardi                                 1.005000   \n",
       "4              Gavin Best                                 0.000000   \n",
       "\n",
       "Game_ID  2023-10-08-Lake Superior-Michigan State  \\\n",
       "0                                       1.905000   \n",
       "1                                       0.000000   \n",
       "2                                       1.015000   \n",
       "3                                       0.620793   \n",
       "4                                       0.000000   \n",
       "\n",
       "Game_ID  2023-10-12-Michigan State-Air Force  \\\n",
       "0                                   0.450000   \n",
       "1                                   1.240000   \n",
       "2                                   1.125000   \n",
       "3                                   0.695793   \n",
       "4                                   0.000000   \n",
       "\n",
       "Game_ID  2023-10-13-Michigan State-Air Force  \\\n",
       "0                                   0.510793   \n",
       "1                                  -0.375000   \n",
       "2                                   0.500793   \n",
       "3                                  -0.150000   \n",
       "4                                   0.000000   \n",
       "\n",
       "Game_ID  2023-10-19-Canisius-Michigan State  \\\n",
       "0                                  0.975000   \n",
       "1                                  0.545793   \n",
       "2                                  2.775000   \n",
       "3                                  0.150000   \n",
       "4                                  0.225000   \n",
       "\n",
       "Game_ID  2023-10-20-Canisius-Michigan State  \\\n",
       "0                                  1.615000   \n",
       "1                                  0.075000   \n",
       "2                                  1.220793   \n",
       "3                                  0.491587   \n",
       "4                                  0.000000   \n",
       "\n",
       "Game_ID  2023-10-26-Michigan State-Boston College  \\\n",
       "0                                        0.545793   \n",
       "1                                        0.695793   \n",
       "2                                        0.320793   \n",
       "3                                        1.037380   \n",
       "4                                        0.000000   \n",
       "\n",
       "Game_ID  2023-10-27-Michigan State-Boston College  \n",
       "0                                        0.715000  \n",
       "1                                        0.150000  \n",
       "2                                        0.320793  \n",
       "3                                        0.450000  \n",
       "4                                        0.000000  "
      ]
     },
     "execution_count": 33,
     "metadata": {},
     "output_type": "execute_result"
    }
   ],
   "source": [
    "# Reset the index so that the 'Player' column is included as a regular column\n",
    "csv_df_reset = csv_df.reset_index()\n",
    "\n",
    "# Create the table with the updated DataFrame\n",
    "fig = go.Figure(data=[go.Table(\n",
    "    header=dict(values=list(csv_df_reset.columns),\n",
    "                fill_color='paleturquoise',\n",
    "                align='left'),\n",
    "    cells=dict(values=[csv_df_reset[col] for col in csv_df_reset.columns],\n",
    "               fill_color='lavender',\n",
    "               align='left'))\n",
    "])\n",
    "\n",
    "# Note: We're not displaying the figure here due to the environment limitation, \n",
    "# but you can use this code in your local setup to see the updated table.\n",
    "fig.show()\n",
    "\n",
    "# Return the first few rows of the updated DataFrame for inspection\n",
    "# csv_df_reset.head()\n"
   ]
  },
  {
   "cell_type": "code",
   "execution_count": 36,
   "metadata": {},
   "outputs": [
    {
     "data": {
      "text/html": [
       "<div>\n",
       "<style scoped>\n",
       "    .dataframe tbody tr th:only-of-type {\n",
       "        vertical-align: middle;\n",
       "    }\n",
       "\n",
       "    .dataframe tbody tr th {\n",
       "        vertical-align: top;\n",
       "    }\n",
       "\n",
       "    .dataframe thead th {\n",
       "        text-align: right;\n",
       "    }\n",
       "</style>\n",
       "<table border=\"1\" class=\"dataframe\">\n",
       "  <thead>\n",
       "    <tr style=\"text-align: right;\">\n",
       "      <th>Game_ID</th>\n",
       "      <th>Player</th>\n",
       "      <th>2023-10-07-Lake Superior-Michigan State</th>\n",
       "      <th>2023-10-08-Lake Superior-Michigan State</th>\n",
       "      <th>2023-10-12-Michigan State-Air Force</th>\n",
       "      <th>2023-10-13-Michigan State-Air Force</th>\n",
       "      <th>2023-10-19-Canisius-Michigan State</th>\n",
       "      <th>2023-10-20-Canisius-Michigan State</th>\n",
       "      <th>2023-10-26-Michigan State-Boston College</th>\n",
       "      <th>2023-10-27-Michigan State-Boston College</th>\n",
       "      <th>Average</th>\n",
       "    </tr>\n",
       "  </thead>\n",
       "  <tbody>\n",
       "    <tr>\n",
       "      <th>18</th>\n",
       "      <td>Red Savage</td>\n",
       "      <td>2.125</td>\n",
       "      <td>1.401</td>\n",
       "      <td>2.010</td>\n",
       "      <td>0.750</td>\n",
       "      <td>1.771</td>\n",
       "      <td>0.396</td>\n",
       "      <td>1.825</td>\n",
       "      <td>0.340</td>\n",
       "      <td>1.327250</td>\n",
       "    </tr>\n",
       "    <tr>\n",
       "      <th>11</th>\n",
       "      <td>Karsen Dorwart</td>\n",
       "      <td>0.675</td>\n",
       "      <td>1.185</td>\n",
       "      <td>1.280</td>\n",
       "      <td>1.195</td>\n",
       "      <td>1.210</td>\n",
       "      <td>1.071</td>\n",
       "      <td>2.221</td>\n",
       "      <td>1.311</td>\n",
       "      <td>1.268500</td>\n",
       "    </tr>\n",
       "    <tr>\n",
       "      <th>15</th>\n",
       "      <td>Nicolas Muller</td>\n",
       "      <td>2.280</td>\n",
       "      <td>1.525</td>\n",
       "      <td>1.441</td>\n",
       "      <td>0.310</td>\n",
       "      <td>0.726</td>\n",
       "      <td>1.840</td>\n",
       "      <td>1.015</td>\n",
       "      <td>0.470</td>\n",
       "      <td>1.200875</td>\n",
       "    </tr>\n",
       "    <tr>\n",
       "      <th>10</th>\n",
       "      <td>Joey Larson</td>\n",
       "      <td>0.995</td>\n",
       "      <td>1.165</td>\n",
       "      <td>0.865</td>\n",
       "      <td>3.030</td>\n",
       "      <td>1.275</td>\n",
       "      <td>0.610</td>\n",
       "      <td>0.930</td>\n",
       "      <td>0.365</td>\n",
       "      <td>1.154375</td>\n",
       "    </tr>\n",
       "    <tr>\n",
       "      <th>7</th>\n",
       "      <td>Isaac Howard</td>\n",
       "      <td>1.671</td>\n",
       "      <td>0.150</td>\n",
       "      <td>1.015</td>\n",
       "      <td>0.640</td>\n",
       "      <td>1.795</td>\n",
       "      <td>0.930</td>\n",
       "      <td>1.335</td>\n",
       "      <td>1.176</td>\n",
       "      <td>1.089000</td>\n",
       "    </tr>\n",
       "  </tbody>\n",
       "</table>\n",
       "</div>"
      ],
      "text/plain": [
       "Game_ID          Player  2023-10-07-Lake Superior-Michigan State  \\\n",
       "18           Red Savage                                    2.125   \n",
       "11       Karsen Dorwart                                    0.675   \n",
       "15       Nicolas Muller                                    2.280   \n",
       "10          Joey Larson                                    0.995   \n",
       "7          Isaac Howard                                    1.671   \n",
       "\n",
       "Game_ID  2023-10-08-Lake Superior-Michigan State  \\\n",
       "18                                         1.401   \n",
       "11                                         1.185   \n",
       "15                                         1.525   \n",
       "10                                         1.165   \n",
       "7                                          0.150   \n",
       "\n",
       "Game_ID  2023-10-12-Michigan State-Air Force  \\\n",
       "18                                     2.010   \n",
       "11                                     1.280   \n",
       "15                                     1.441   \n",
       "10                                     0.865   \n",
       "7                                      1.015   \n",
       "\n",
       "Game_ID  2023-10-13-Michigan State-Air Force  \\\n",
       "18                                     0.750   \n",
       "11                                     1.195   \n",
       "15                                     0.310   \n",
       "10                                     3.030   \n",
       "7                                      0.640   \n",
       "\n",
       "Game_ID  2023-10-19-Canisius-Michigan State  \\\n",
       "18                                    1.771   \n",
       "11                                    1.210   \n",
       "15                                    0.726   \n",
       "10                                    1.275   \n",
       "7                                     1.795   \n",
       "\n",
       "Game_ID  2023-10-20-Canisius-Michigan State  \\\n",
       "18                                    0.396   \n",
       "11                                    1.071   \n",
       "15                                    1.840   \n",
       "10                                    0.610   \n",
       "7                                     0.930   \n",
       "\n",
       "Game_ID  2023-10-26-Michigan State-Boston College  \\\n",
       "18                                          1.825   \n",
       "11                                          2.221   \n",
       "15                                          1.015   \n",
       "10                                          0.930   \n",
       "7                                           1.335   \n",
       "\n",
       "Game_ID  2023-10-27-Michigan State-Boston College   Average  \n",
       "18                                          0.340  1.327250  \n",
       "11                                          1.311  1.268500  \n",
       "15                                          0.470  1.200875  \n",
       "10                                          0.365  1.154375  \n",
       "7                                           1.176  1.089000  "
      ]
     },
     "execution_count": 36,
     "metadata": {},
     "output_type": "execute_result"
    }
   ],
   "source": [
    "# 1. Conditional Formatting: Create a color array for the cells\n",
    "color_array = [['#D3D3D3' if val == 0 else 'lavender' for val in row] for row in csv_df_reset.values]\n",
    "\n",
    "# 2. Round Float Values to 3 decimal places\n",
    "csv_df_rounded = csv_df_reset.round(3)\n",
    "\n",
    "# Display the first few rows of the rounded DataFrame for inspection\n",
    "# csv_df_rounded.head()\n",
    "\n",
    "# 3. Add an Average column\n",
    "csv_df_rounded['Average'] = csv_df_rounded.iloc[:, 1:].mean(axis=1)\n",
    "\n",
    "# 4. Sort by Average\n",
    "csv_df_sorted = csv_df_rounded.sort_values(by='Average', ascending=False)\n",
    "\n",
    "# Update the color array to include the new column\n",
    "color_array = [['#D3D3D3' if val == 0 else 'lavender' for val in row] for row in csv_df_sorted.values]\n",
    "\n",
    "# Display the first few rows of the sorted DataFrame for inspection\n",
    "csv_df_sorted.head()\n",
    "\n"
   ]
  },
  {
   "cell_type": "code",
   "execution_count": 37,
   "metadata": {},
   "outputs": [
    {
     "data": {
      "application/vnd.plotly.v1+json": {
       "config": {
        "plotlyServerURL": "https://plot.ly"
       },
       "data": [
        {
         "cells": {
          "align": "left",
          "fill": {
           "color": [
            [
             "lavender",
             "lavender",
             "lavender",
             "lavender",
             "lavender",
             "lavender",
             "lavender",
             "lavender",
             "lavender",
             "lavender"
            ],
            [
             "lavender",
             "lavender",
             "lavender",
             "lavender",
             "lavender",
             "lavender",
             "lavender",
             "lavender",
             "lavender",
             "lavender"
            ],
            [
             "lavender",
             "lavender",
             "lavender",
             "lavender",
             "lavender",
             "lavender",
             "lavender",
             "lavender",
             "lavender",
             "lavender"
            ],
            [
             "lavender",
             "lavender",
             "lavender",
             "lavender",
             "lavender",
             "lavender",
             "lavender",
             "lavender",
             "lavender",
             "lavender"
            ],
            [
             "lavender",
             "lavender",
             "lavender",
             "lavender",
             "lavender",
             "lavender",
             "lavender",
             "lavender",
             "lavender",
             "lavender"
            ],
            [
             "lavender",
             "lavender",
             "lavender",
             "lavender",
             "lavender",
             "lavender",
             "lavender",
             "lavender",
             "lavender",
             "lavender"
            ],
            [
             "lavender",
             "lavender",
             "lavender",
             "lavender",
             "lavender",
             "lavender",
             "lavender",
             "lavender",
             "lavender",
             "lavender"
            ],
            [
             "lavender",
             "lavender",
             "lavender",
             "lavender",
             "lavender",
             "lavender",
             "lavender",
             "lavender",
             "#D3D3D3",
             "lavender"
            ],
            [
             "lavender",
             "lavender",
             "lavender",
             "lavender",
             "lavender",
             "lavender",
             "lavender",
             "lavender",
             "lavender",
             "lavender"
            ],
            [
             "lavender",
             "lavender",
             "lavender",
             "lavender",
             "lavender",
             "lavender",
             "lavender",
             "lavender",
             "lavender",
             "lavender"
            ],
            [
             "lavender",
             "lavender",
             "lavender",
             "lavender",
             "lavender",
             "lavender",
             "lavender",
             "lavender",
             "lavender",
             "lavender"
            ],
            [
             "lavender",
             "lavender",
             "lavender",
             "lavender",
             "lavender",
             "lavender",
             "lavender",
             "lavender",
             "lavender",
             "lavender"
            ],
            [
             "lavender",
             "lavender",
             "lavender",
             "lavender",
             "lavender",
             "lavender",
             "lavender",
             "lavender",
             "lavender",
             "lavender"
            ],
            [
             "lavender",
             "lavender",
             "lavender",
             "lavender",
             "lavender",
             "lavender",
             "lavender",
             "lavender",
             "lavender",
             "lavender"
            ],
            [
             "lavender",
             "lavender",
             "lavender",
             "lavender",
             "lavender",
             "lavender",
             "lavender",
             "lavender",
             "lavender",
             "lavender"
            ],
            [
             "lavender",
             "lavender",
             "lavender",
             "lavender",
             "#D3D3D3",
             "lavender",
             "#D3D3D3",
             "lavender",
             "lavender",
             "lavender"
            ],
            [
             "lavender",
             "lavender",
             "lavender",
             "lavender",
             "lavender",
             "lavender",
             "#D3D3D3",
             "lavender",
             "lavender",
             "lavender"
            ],
            [
             "lavender",
             "#D3D3D3",
             "#D3D3D3",
             "lavender",
             "lavender",
             "lavender",
             "lavender",
             "lavender",
             "lavender",
             "lavender"
            ],
            [
             "lavender",
             "lavender",
             "lavender",
             "lavender",
             "#D3D3D3",
             "#D3D3D3",
             "#D3D3D3",
             "#D3D3D3",
             "#D3D3D3",
             "lavender"
            ],
            [
             "lavender",
             "lavender",
             "lavender",
             "#D3D3D3",
             "#D3D3D3",
             "#D3D3D3",
             "#D3D3D3",
             "#D3D3D3",
             "#D3D3D3",
             "lavender"
            ],
            [
             "lavender",
             "#D3D3D3",
             "#D3D3D3",
             "#D3D3D3",
             "lavender",
             "#D3D3D3",
             "lavender",
             "#D3D3D3",
             "lavender",
             "lavender"
            ],
            [
             "lavender",
             "#D3D3D3",
             "#D3D3D3",
             "#D3D3D3",
             "#D3D3D3",
             "lavender",
             "#D3D3D3",
             "#D3D3D3",
             "#D3D3D3",
             "lavender"
            ],
            [
             "lavender",
             "#D3D3D3",
             "#D3D3D3",
             "#D3D3D3",
             "lavender",
             "#D3D3D3",
             "#D3D3D3",
             "#D3D3D3",
             "lavender",
             "#D3D3D3"
            ],
            [
             "lavender",
             "#D3D3D3",
             "#D3D3D3",
             "#D3D3D3",
             "#D3D3D3",
             "#D3D3D3",
             "lavender",
             "#D3D3D3",
             "#D3D3D3",
             "lavender"
            ]
           ]
          },
          "values": [
           [
            "Red Savage",
            "Karsen Dorwart",
            "Nicolas Muller",
            "Joey Larson",
            "Isaac Howard",
            "Daniel Russell",
            "Artyom Levshunov",
            "Reed Lebster",
            "Gavin O'Connell",
            "Nash Nienhuis",
            "Jeremy Davidson",
            "Tiernan Shoudy",
            "David Gucciardi",
            "Matt Basgall",
            "Maxim Štrbák",
            "Tommi Männistö",
            "Tanner Kelly",
            "Austin Oravetz",
            "Viktor Hurtig",
            "Patrick Geary",
            "Owen Baker",
            "Gavin Best",
            "James Crossman",
            "Griffin Jurecki"
           ],
           [
            2.125,
            0.675,
            2.28,
            0.995,
            1.671,
            0.525,
            0.921,
            0.675,
            1.155,
            2.065,
            1.24,
            0.821,
            1.005,
            0.375,
            0.6,
            1.315,
            1.165,
            0,
            1.5,
            0.45,
            0,
            0,
            0,
            0
           ],
           [
            1.401,
            1.185,
            1.525,
            1.165,
            0.15,
            1.015,
            1.905,
            1.275,
            0.3,
            0.15,
            0.865,
            0.875,
            0.621,
            0.225,
            0.15,
            0.45,
            0.235,
            0,
            0.075,
            1.336,
            0,
            0,
            0,
            0
           ],
           [
            2.01,
            1.28,
            1.441,
            0.865,
            1.015,
            1.125,
            0.45,
            1.531,
            1.425,
            0.675,
            1.165,
            0.736,
            0.696,
            1.785,
            0.696,
            0.525,
            0.771,
            1.24,
            0.621,
            0,
            0,
            0,
            0,
            0
           ],
           [
            0.75,
            1.195,
            0.31,
            3.03,
            0.64,
            0.501,
            0.511,
            -0.225,
            0.75,
            0.33,
            0.171,
            -0.295,
            -0.15,
            -0.054,
            -0.075,
            0,
            -0.225,
            -0.375,
            0,
            0,
            -0.225,
            0,
            -0.3,
            0
           ],
           [
            1.771,
            1.21,
            0.726,
            1.275,
            1.795,
            2.775,
            0.975,
            1.955,
            1.24,
            0.855,
            0.621,
            1.132,
            0.15,
            1.165,
            1.275,
            0.525,
            0.3,
            0.546,
            0,
            0,
            0,
            0.225,
            0,
            0
           ],
           [
            0.396,
            1.071,
            1.84,
            0.61,
            0.93,
            1.221,
            1.615,
            0.6,
            0.225,
            1.155,
            0.492,
            0.02,
            0.492,
            0.15,
            0.865,
            0,
            0,
            0.075,
            0,
            0,
            0.492,
            0,
            0,
            -0.075
           ],
           [
            1.825,
            2.221,
            1.015,
            0.93,
            1.335,
            0.321,
            0.546,
            1.165,
            1.165,
            0.855,
            1.2,
            0.516,
            1.037,
            0.375,
            0.3,
            0.45,
            0.375,
            0.696,
            0,
            0,
            0,
            0,
            0,
            0
           ],
           [
            0.34,
            1.311,
            0.47,
            0.365,
            1.176,
            0.321,
            0.715,
            0,
            0.375,
            0.225,
            0.235,
            0.535,
            0.45,
            0.225,
            0.375,
            0.396,
            0.15,
            0.15,
            0,
            0,
            0.3,
            0,
            0.3,
            0
           ],
           [
            1.3272499999999998,
            1.2685,
            1.2008750000000001,
            1.1543750000000002,
            1.089,
            0.9754999999999999,
            0.9547500000000001,
            0.872,
            0.829375,
            0.7887499999999998,
            0.748625,
            0.5425,
            0.537625,
            0.5307499999999999,
            0.52325,
            0.457625,
            0.34637499999999993,
            0.2915,
            0.27449999999999997,
            0.22325,
            0.070875,
            0.028125,
            0,
            -0.009375
           ]
          ]
         },
         "header": {
          "align": "left",
          "fill": {
           "color": "paleturquoise"
          },
          "values": [
           "Player",
           "2023-10-07-Lake Superior-Michigan State",
           "2023-10-08-Lake Superior-Michigan State",
           "2023-10-12-Michigan State-Air Force",
           "2023-10-13-Michigan State-Air Force",
           "2023-10-19-Canisius-Michigan State",
           "2023-10-20-Canisius-Michigan State",
           "2023-10-26-Michigan State-Boston College",
           "2023-10-27-Michigan State-Boston College",
           "Average"
          ]
         },
         "type": "table"
        }
       ],
       "layout": {
        "template": {
         "data": {
          "bar": [
           {
            "error_x": {
             "color": "#2a3f5f"
            },
            "error_y": {
             "color": "#2a3f5f"
            },
            "marker": {
             "line": {
              "color": "#E5ECF6",
              "width": 0.5
             },
             "pattern": {
              "fillmode": "overlay",
              "size": 10,
              "solidity": 0.2
             }
            },
            "type": "bar"
           }
          ],
          "barpolar": [
           {
            "marker": {
             "line": {
              "color": "#E5ECF6",
              "width": 0.5
             },
             "pattern": {
              "fillmode": "overlay",
              "size": 10,
              "solidity": 0.2
             }
            },
            "type": "barpolar"
           }
          ],
          "carpet": [
           {
            "aaxis": {
             "endlinecolor": "#2a3f5f",
             "gridcolor": "white",
             "linecolor": "white",
             "minorgridcolor": "white",
             "startlinecolor": "#2a3f5f"
            },
            "baxis": {
             "endlinecolor": "#2a3f5f",
             "gridcolor": "white",
             "linecolor": "white",
             "minorgridcolor": "white",
             "startlinecolor": "#2a3f5f"
            },
            "type": "carpet"
           }
          ],
          "choropleth": [
           {
            "colorbar": {
             "outlinewidth": 0,
             "ticks": ""
            },
            "type": "choropleth"
           }
          ],
          "contour": [
           {
            "colorbar": {
             "outlinewidth": 0,
             "ticks": ""
            },
            "colorscale": [
             [
              0,
              "#0d0887"
             ],
             [
              0.1111111111111111,
              "#46039f"
             ],
             [
              0.2222222222222222,
              "#7201a8"
             ],
             [
              0.3333333333333333,
              "#9c179e"
             ],
             [
              0.4444444444444444,
              "#bd3786"
             ],
             [
              0.5555555555555556,
              "#d8576b"
             ],
             [
              0.6666666666666666,
              "#ed7953"
             ],
             [
              0.7777777777777778,
              "#fb9f3a"
             ],
             [
              0.8888888888888888,
              "#fdca26"
             ],
             [
              1,
              "#f0f921"
             ]
            ],
            "type": "contour"
           }
          ],
          "contourcarpet": [
           {
            "colorbar": {
             "outlinewidth": 0,
             "ticks": ""
            },
            "type": "contourcarpet"
           }
          ],
          "heatmap": [
           {
            "colorbar": {
             "outlinewidth": 0,
             "ticks": ""
            },
            "colorscale": [
             [
              0,
              "#0d0887"
             ],
             [
              0.1111111111111111,
              "#46039f"
             ],
             [
              0.2222222222222222,
              "#7201a8"
             ],
             [
              0.3333333333333333,
              "#9c179e"
             ],
             [
              0.4444444444444444,
              "#bd3786"
             ],
             [
              0.5555555555555556,
              "#d8576b"
             ],
             [
              0.6666666666666666,
              "#ed7953"
             ],
             [
              0.7777777777777778,
              "#fb9f3a"
             ],
             [
              0.8888888888888888,
              "#fdca26"
             ],
             [
              1,
              "#f0f921"
             ]
            ],
            "type": "heatmap"
           }
          ],
          "heatmapgl": [
           {
            "colorbar": {
             "outlinewidth": 0,
             "ticks": ""
            },
            "colorscale": [
             [
              0,
              "#0d0887"
             ],
             [
              0.1111111111111111,
              "#46039f"
             ],
             [
              0.2222222222222222,
              "#7201a8"
             ],
             [
              0.3333333333333333,
              "#9c179e"
             ],
             [
              0.4444444444444444,
              "#bd3786"
             ],
             [
              0.5555555555555556,
              "#d8576b"
             ],
             [
              0.6666666666666666,
              "#ed7953"
             ],
             [
              0.7777777777777778,
              "#fb9f3a"
             ],
             [
              0.8888888888888888,
              "#fdca26"
             ],
             [
              1,
              "#f0f921"
             ]
            ],
            "type": "heatmapgl"
           }
          ],
          "histogram": [
           {
            "marker": {
             "pattern": {
              "fillmode": "overlay",
              "size": 10,
              "solidity": 0.2
             }
            },
            "type": "histogram"
           }
          ],
          "histogram2d": [
           {
            "colorbar": {
             "outlinewidth": 0,
             "ticks": ""
            },
            "colorscale": [
             [
              0,
              "#0d0887"
             ],
             [
              0.1111111111111111,
              "#46039f"
             ],
             [
              0.2222222222222222,
              "#7201a8"
             ],
             [
              0.3333333333333333,
              "#9c179e"
             ],
             [
              0.4444444444444444,
              "#bd3786"
             ],
             [
              0.5555555555555556,
              "#d8576b"
             ],
             [
              0.6666666666666666,
              "#ed7953"
             ],
             [
              0.7777777777777778,
              "#fb9f3a"
             ],
             [
              0.8888888888888888,
              "#fdca26"
             ],
             [
              1,
              "#f0f921"
             ]
            ],
            "type": "histogram2d"
           }
          ],
          "histogram2dcontour": [
           {
            "colorbar": {
             "outlinewidth": 0,
             "ticks": ""
            },
            "colorscale": [
             [
              0,
              "#0d0887"
             ],
             [
              0.1111111111111111,
              "#46039f"
             ],
             [
              0.2222222222222222,
              "#7201a8"
             ],
             [
              0.3333333333333333,
              "#9c179e"
             ],
             [
              0.4444444444444444,
              "#bd3786"
             ],
             [
              0.5555555555555556,
              "#d8576b"
             ],
             [
              0.6666666666666666,
              "#ed7953"
             ],
             [
              0.7777777777777778,
              "#fb9f3a"
             ],
             [
              0.8888888888888888,
              "#fdca26"
             ],
             [
              1,
              "#f0f921"
             ]
            ],
            "type": "histogram2dcontour"
           }
          ],
          "mesh3d": [
           {
            "colorbar": {
             "outlinewidth": 0,
             "ticks": ""
            },
            "type": "mesh3d"
           }
          ],
          "parcoords": [
           {
            "line": {
             "colorbar": {
              "outlinewidth": 0,
              "ticks": ""
             }
            },
            "type": "parcoords"
           }
          ],
          "pie": [
           {
            "automargin": true,
            "type": "pie"
           }
          ],
          "scatter": [
           {
            "fillpattern": {
             "fillmode": "overlay",
             "size": 10,
             "solidity": 0.2
            },
            "type": "scatter"
           }
          ],
          "scatter3d": [
           {
            "line": {
             "colorbar": {
              "outlinewidth": 0,
              "ticks": ""
             }
            },
            "marker": {
             "colorbar": {
              "outlinewidth": 0,
              "ticks": ""
             }
            },
            "type": "scatter3d"
           }
          ],
          "scattercarpet": [
           {
            "marker": {
             "colorbar": {
              "outlinewidth": 0,
              "ticks": ""
             }
            },
            "type": "scattercarpet"
           }
          ],
          "scattergeo": [
           {
            "marker": {
             "colorbar": {
              "outlinewidth": 0,
              "ticks": ""
             }
            },
            "type": "scattergeo"
           }
          ],
          "scattergl": [
           {
            "marker": {
             "colorbar": {
              "outlinewidth": 0,
              "ticks": ""
             }
            },
            "type": "scattergl"
           }
          ],
          "scattermapbox": [
           {
            "marker": {
             "colorbar": {
              "outlinewidth": 0,
              "ticks": ""
             }
            },
            "type": "scattermapbox"
           }
          ],
          "scatterpolar": [
           {
            "marker": {
             "colorbar": {
              "outlinewidth": 0,
              "ticks": ""
             }
            },
            "type": "scatterpolar"
           }
          ],
          "scatterpolargl": [
           {
            "marker": {
             "colorbar": {
              "outlinewidth": 0,
              "ticks": ""
             }
            },
            "type": "scatterpolargl"
           }
          ],
          "scatterternary": [
           {
            "marker": {
             "colorbar": {
              "outlinewidth": 0,
              "ticks": ""
             }
            },
            "type": "scatterternary"
           }
          ],
          "surface": [
           {
            "colorbar": {
             "outlinewidth": 0,
             "ticks": ""
            },
            "colorscale": [
             [
              0,
              "#0d0887"
             ],
             [
              0.1111111111111111,
              "#46039f"
             ],
             [
              0.2222222222222222,
              "#7201a8"
             ],
             [
              0.3333333333333333,
              "#9c179e"
             ],
             [
              0.4444444444444444,
              "#bd3786"
             ],
             [
              0.5555555555555556,
              "#d8576b"
             ],
             [
              0.6666666666666666,
              "#ed7953"
             ],
             [
              0.7777777777777778,
              "#fb9f3a"
             ],
             [
              0.8888888888888888,
              "#fdca26"
             ],
             [
              1,
              "#f0f921"
             ]
            ],
            "type": "surface"
           }
          ],
          "table": [
           {
            "cells": {
             "fill": {
              "color": "#EBF0F8"
             },
             "line": {
              "color": "white"
             }
            },
            "header": {
             "fill": {
              "color": "#C8D4E3"
             },
             "line": {
              "color": "white"
             }
            },
            "type": "table"
           }
          ]
         },
         "layout": {
          "annotationdefaults": {
           "arrowcolor": "#2a3f5f",
           "arrowhead": 0,
           "arrowwidth": 1
          },
          "autotypenumbers": "strict",
          "coloraxis": {
           "colorbar": {
            "outlinewidth": 0,
            "ticks": ""
           }
          },
          "colorscale": {
           "diverging": [
            [
             0,
             "#8e0152"
            ],
            [
             0.1,
             "#c51b7d"
            ],
            [
             0.2,
             "#de77ae"
            ],
            [
             0.3,
             "#f1b6da"
            ],
            [
             0.4,
             "#fde0ef"
            ],
            [
             0.5,
             "#f7f7f7"
            ],
            [
             0.6,
             "#e6f5d0"
            ],
            [
             0.7,
             "#b8e186"
            ],
            [
             0.8,
             "#7fbc41"
            ],
            [
             0.9,
             "#4d9221"
            ],
            [
             1,
             "#276419"
            ]
           ],
           "sequential": [
            [
             0,
             "#0d0887"
            ],
            [
             0.1111111111111111,
             "#46039f"
            ],
            [
             0.2222222222222222,
             "#7201a8"
            ],
            [
             0.3333333333333333,
             "#9c179e"
            ],
            [
             0.4444444444444444,
             "#bd3786"
            ],
            [
             0.5555555555555556,
             "#d8576b"
            ],
            [
             0.6666666666666666,
             "#ed7953"
            ],
            [
             0.7777777777777778,
             "#fb9f3a"
            ],
            [
             0.8888888888888888,
             "#fdca26"
            ],
            [
             1,
             "#f0f921"
            ]
           ],
           "sequentialminus": [
            [
             0,
             "#0d0887"
            ],
            [
             0.1111111111111111,
             "#46039f"
            ],
            [
             0.2222222222222222,
             "#7201a8"
            ],
            [
             0.3333333333333333,
             "#9c179e"
            ],
            [
             0.4444444444444444,
             "#bd3786"
            ],
            [
             0.5555555555555556,
             "#d8576b"
            ],
            [
             0.6666666666666666,
             "#ed7953"
            ],
            [
             0.7777777777777778,
             "#fb9f3a"
            ],
            [
             0.8888888888888888,
             "#fdca26"
            ],
            [
             1,
             "#f0f921"
            ]
           ]
          },
          "colorway": [
           "#636efa",
           "#EF553B",
           "#00cc96",
           "#ab63fa",
           "#FFA15A",
           "#19d3f3",
           "#FF6692",
           "#B6E880",
           "#FF97FF",
           "#FECB52"
          ],
          "font": {
           "color": "#2a3f5f"
          },
          "geo": {
           "bgcolor": "white",
           "lakecolor": "white",
           "landcolor": "#E5ECF6",
           "showlakes": true,
           "showland": true,
           "subunitcolor": "white"
          },
          "hoverlabel": {
           "align": "left"
          },
          "hovermode": "closest",
          "mapbox": {
           "style": "light"
          },
          "paper_bgcolor": "white",
          "plot_bgcolor": "#E5ECF6",
          "polar": {
           "angularaxis": {
            "gridcolor": "white",
            "linecolor": "white",
            "ticks": ""
           },
           "bgcolor": "#E5ECF6",
           "radialaxis": {
            "gridcolor": "white",
            "linecolor": "white",
            "ticks": ""
           }
          },
          "scene": {
           "xaxis": {
            "backgroundcolor": "#E5ECF6",
            "gridcolor": "white",
            "gridwidth": 2,
            "linecolor": "white",
            "showbackground": true,
            "ticks": "",
            "zerolinecolor": "white"
           },
           "yaxis": {
            "backgroundcolor": "#E5ECF6",
            "gridcolor": "white",
            "gridwidth": 2,
            "linecolor": "white",
            "showbackground": true,
            "ticks": "",
            "zerolinecolor": "white"
           },
           "zaxis": {
            "backgroundcolor": "#E5ECF6",
            "gridcolor": "white",
            "gridwidth": 2,
            "linecolor": "white",
            "showbackground": true,
            "ticks": "",
            "zerolinecolor": "white"
           }
          },
          "shapedefaults": {
           "line": {
            "color": "#2a3f5f"
           }
          },
          "ternary": {
           "aaxis": {
            "gridcolor": "white",
            "linecolor": "white",
            "ticks": ""
           },
           "baxis": {
            "gridcolor": "white",
            "linecolor": "white",
            "ticks": ""
           },
           "bgcolor": "#E5ECF6",
           "caxis": {
            "gridcolor": "white",
            "linecolor": "white",
            "ticks": ""
           }
          },
          "title": {
           "x": 0.05
          },
          "xaxis": {
           "automargin": true,
           "gridcolor": "white",
           "linecolor": "white",
           "ticks": "",
           "title": {
            "standoff": 15
           },
           "zerolinecolor": "white",
           "zerolinewidth": 2
          },
          "yaxis": {
           "automargin": true,
           "gridcolor": "white",
           "linecolor": "white",
           "ticks": "",
           "title": {
            "standoff": 15
           },
           "zerolinecolor": "white",
           "zerolinewidth": 2
          }
         }
        }
       }
      }
     },
     "metadata": {},
     "output_type": "display_data"
    }
   ],
   "source": [
    "fig = go.Figure(data=[go.Table(\n",
    "    header=dict(values=list(csv_df_sorted.columns),\n",
    "                fill_color='paleturquoise',\n",
    "                align='left'),\n",
    "    cells=dict(values=[csv_df_sorted[col] for col in csv_df_sorted.columns],\n",
    "               fill_color=color_array,\n",
    "               align='left'))\n",
    "])\n",
    "fig.show()\n"
   ]
  },
  {
   "cell_type": "code",
   "execution_count": 38,
   "metadata": {},
   "outputs": [
    {
     "data": {
      "text/plain": [
       "[['lavender',\n",
       "  'rgb(183, 255, 137)',\n",
       "  'rgb(248, 255, 105)',\n",
       "  'rgb(193, 255, 132)',\n",
       "  'rgb(255, 203, 102)',\n",
       "  'rgb(215, 255, 121)',\n",
       "  'rgb(255, 171, 102)',\n",
       "  'rgb(210, 255, 124)',\n",
       "  'rgb(255, 166, 102)',\n",
       "  'lavender'],\n",
       " ['lavender',\n",
       "  'rgb(255, 196, 102)',\n",
       "  'rgb(255, 242, 102)',\n",
       "  'rgb(255, 250, 102)',\n",
       "  'rgb(255, 243, 102)',\n",
       "  'rgb(255, 244, 102)',\n",
       "  'rgb(255, 231, 102)',\n",
       "  'rgb(174, 255, 141)',\n",
       "  'rgb(255, 253, 102)',\n",
       "  'lavender'],\n",
       " ['lavender',\n",
       "  'rgb(169, 255, 144)',\n",
       "  'rgb(237, 255, 110)',\n",
       "  'rgb(244, 255, 107)',\n",
       "  'rgb(255, 163, 102)',\n",
       "  'rgb(255, 200, 102)',\n",
       "  'rgb(208, 255, 124)',\n",
       "  'rgb(255, 226, 102)',\n",
       "  'rgb(254, 177, 102)',\n",
       "  'lavender'],\n",
       " ['lavender',\n",
       "  'rgb(255, 225, 102)',\n",
       "  'rgb(255, 240, 102)',\n",
       "  'rgb(255, 213, 102)',\n",
       "  'rgb(102, 255, 178)',\n",
       "  'rgb(255, 250, 102)',\n",
       "  'rgb(255, 190, 102)',\n",
       "  'rgb(255, 219, 102)',\n",
       "  'rgb(255, 168, 102)',\n",
       "  'lavender'],\n",
       " ['lavender',\n",
       "  'rgb(224, 255, 117)',\n",
       "  'rgb(255, 149, 102)',\n",
       "  'rgb(255, 226, 102)',\n",
       "  'rgb(255, 193, 102)',\n",
       "  'rgb(212, 255, 122)',\n",
       "  'rgb(255, 219, 102)',\n",
       "  'rgb(254, 255, 102)',\n",
       "  'rgb(255, 241, 102)',\n",
       "  'lavender']]"
      ]
     },
     "execution_count": 38,
     "metadata": {},
     "output_type": "execute_result"
    }
   ],
   "source": [
    "import numpy as np\n",
    "\n",
    "# Function to interpolate between three colors\n",
    "def interpolate_color(value, min_val, max_val):\n",
    "    # Define the colors for low, mid, and high values\n",
    "    low_color = np.array([255, 102, 102])  # subtle red\n",
    "    mid_color = np.array([255, 255, 102])  # yellow\n",
    "    high_color = np.array([102, 255, 178])  # turquoise green\n",
    "    \n",
    "    # Calculate the position of value in the range [min_val, max_val]\n",
    "    position = (value - min_val) / (max_val - min_val)\n",
    "    \n",
    "    # Depending on the position, interpolate between the colors\n",
    "    if position <= 0.5:  # interpolate between red and yellow\n",
    "        interp_color = (1 - 2 * position) * low_color + 2 * position * mid_color\n",
    "    else:  # interpolate between yellow and green\n",
    "        interp_color = (2 - 2 * position) * mid_color + (2 * position - 1) * high_color\n",
    "    \n",
    "    return 'rgb({}, {}, {})'.format(int(interp_color[0]), int(interp_color[1]), int(interp_color[2]))\n",
    "\n",
    "# Get min and max values for the game columns\n",
    "min_val = csv_df_sorted.iloc[:, 1:-1].min().min()\n",
    "max_val = csv_df_sorted.iloc[:, 1:-1].max().max()\n",
    "\n",
    "# Create a color array for the game columns based on the values\n",
    "color_array_games = [[interpolate_color(val, min_val, max_val) for val in row[1:-1]] for _, row in csv_df_sorted.iterrows()]\n",
    "\n",
    "# Combine with the previously defined colors for the Player and Average columns\n",
    "color_array_combined = [['lavender'] + game_colors + ['lavender'] for game_colors in color_array_games]\n",
    "\n",
    "# Display the first few rows of the color array for inspection\n",
    "# color_array_combined[:5]\n",
    "\n",
    "## Save the color array to a csv\n",
    "# np.savetxt('../data/Versiob_1.csv', color_array_combined, delimiter=',', fmt='%s')\n"
   ]
  },
  {
   "cell_type": "code",
   "execution_count": 39,
   "metadata": {},
   "outputs": [
    {
     "data": {
      "application/vnd.plotly.v1+json": {
       "config": {
        "plotlyServerURL": "https://plot.ly"
       },
       "data": [
        {
         "cells": {
          "align": "left",
          "fill": {
           "color": [
            [
             "lavender",
             "rgb(183, 255, 137)",
             "rgb(248, 255, 105)",
             "rgb(193, 255, 132)",
             "rgb(255, 203, 102)",
             "rgb(215, 255, 121)",
             "rgb(255, 171, 102)",
             "rgb(210, 255, 124)",
             "rgb(255, 166, 102)",
             "lavender"
            ],
            [
             "lavender",
             "rgb(255, 196, 102)",
             "rgb(255, 242, 102)",
             "rgb(255, 250, 102)",
             "rgb(255, 243, 102)",
             "rgb(255, 244, 102)",
             "rgb(255, 231, 102)",
             "rgb(174, 255, 141)",
             "rgb(255, 253, 102)",
             "lavender"
            ],
            [
             "lavender",
             "rgb(169, 255, 144)",
             "rgb(237, 255, 110)",
             "rgb(244, 255, 107)",
             "rgb(255, 163, 102)",
             "rgb(255, 200, 102)",
             "rgb(208, 255, 124)",
             "rgb(255, 226, 102)",
             "rgb(254, 177, 102)",
             "lavender"
            ],
            [
             "lavender",
             "rgb(255, 225, 102)",
             "rgb(255, 240, 102)",
             "rgb(255, 213, 102)",
             "rgb(102, 255, 178)",
             "rgb(255, 250, 102)",
             "rgb(255, 190, 102)",
             "rgb(255, 219, 102)",
             "rgb(255, 168, 102)",
             "lavender"
            ],
            [
             "lavender",
             "rgb(224, 255, 117)",
             "rgb(255, 149, 102)",
             "rgb(255, 226, 102)",
             "rgb(255, 193, 102)",
             "rgb(212, 255, 122)",
             "rgb(255, 219, 102)",
             "rgb(254, 255, 102)",
             "rgb(255, 241, 102)",
             "lavender"
            ],
            [
             "lavender",
             "rgb(255, 182, 102)",
             "rgb(255, 226, 102)",
             "rgb(255, 236, 102)",
             "rgb(255, 180, 102)",
             "rgb(124, 255, 166)",
             "rgb(255, 245, 102)",
             "rgb(255, 164, 102)",
             "rgb(255, 164, 102)",
             "lavender"
            ],
            [
             "lavender",
             "rgb(255, 218, 102)",
             "rgb(203, 255, 127)",
             "rgb(255, 176, 102)",
             "rgb(255, 181, 102)",
             "rgb(255, 223, 102)",
             "rgb(229, 255, 114)",
             "rgb(255, 184, 102)",
             "rgb(255, 199, 102)",
             "lavender"
            ],
            [
             "lavender",
             "rgb(255, 196, 102)",
             "rgb(255, 250, 102)",
             "rgb(236, 255, 111)",
             "rgb(255, 115, 102)",
             "rgb(198, 255, 130)",
             "rgb(255, 189, 102)",
             "rgb(255, 240, 102)",
             "rgb(255, 135, 102)",
             "lavender"
            ],
            [
             "lavender",
             "rgb(255, 239, 102)",
             "rgb(255, 162, 102)",
             "rgb(246, 255, 106)",
             "rgb(255, 203, 102)",
             "rgb(255, 247, 102)",
             "rgb(255, 155, 102)",
             "rgb(255, 240, 102)",
             "rgb(255, 169, 102)",
             "lavender"
            ],
            [
             "lavender",
             "rgb(188, 255, 134)",
             "rgb(255, 149, 102)",
             "rgb(255, 196, 102)",
             "rgb(255, 165, 102)",
             "rgb(255, 212, 102)",
             "rgb(255, 239, 102)",
             "rgb(255, 212, 102)",
             "rgb(255, 155, 102)",
             "lavender"
            ],
            [
             "lavender",
             "rgb(255, 247, 102)",
             "rgb(255, 213, 102)",
             "rgb(255, 240, 102)",
             "rgb(255, 151, 102)",
             "rgb(255, 191, 102)",
             "rgb(255, 179, 102)",
             "rgb(255, 243, 102)",
             "rgb(255, 156, 102)",
             "lavender"
            ],
            [
             "lavender",
             "rgb(255, 209, 102)",
             "rgb(255, 214, 102)",
             "rgb(255, 201, 102)",
             "rgb(255, 109, 101)",
             "rgb(255, 237, 102)",
             "rgb(255, 137, 102)",
             "rgb(255, 182, 102)",
             "rgb(255, 183, 102)",
             "lavender"
            ],
            [
             "lavender",
             "rgb(255, 226, 102)",
             "rgb(255, 191, 102)",
             "rgb(255, 198, 102)",
             "rgb(255, 122, 102)",
             "rgb(255, 149, 102)",
             "rgb(255, 179, 102)",
             "rgb(255, 228, 102)",
             "rgb(255, 176, 102)",
             "lavender"
            ],
            [
             "lavender",
             "rgb(255, 169, 102)",
             "rgb(255, 155, 102)",
             "rgb(213, 255, 122)",
             "rgb(254, 130, 102)",
             "rgb(255, 240, 102)",
             "rgb(255, 149, 102)",
             "rgb(255, 169, 102)",
             "rgb(255, 155, 102)",
             "lavender"
            ],
            [
             "lavender",
             "rgb(255, 189, 102)",
             "rgb(255, 149, 102)",
             "rgb(255, 198, 102)",
             "rgb(255, 128, 102)",
             "rgb(255, 250, 102)",
             "rgb(255, 213, 102)",
             "rgb(255, 162, 102)",
             "rgb(255, 169, 102)",
             "lavender"
            ],
            [
             "lavender",
             "rgb(255, 253, 102)",
             "rgb(255, 176, 102)",
             "rgb(255, 182, 102)",
             "rgb(255, 135, 102)",
             "rgb(255, 182, 102)",
             "rgb(255, 135, 102)",
             "rgb(255, 176, 102)",
             "rgb(255, 171, 102)",
             "lavender"
            ],
            [
             "lavender",
             "rgb(255, 240, 102)",
             "rgb(255, 156, 102)",
             "rgb(255, 204, 102)",
             "rgb(255, 115, 102)",
             "rgb(255, 162, 102)",
             "rgb(255, 135, 102)",
             "rgb(255, 169, 102)",
             "rgb(255, 149, 102)",
             "lavender"
            ],
            [
             "lavender",
             "rgb(255, 135, 102)",
             "rgb(255, 135, 102)",
             "rgb(255, 247, 102)",
             "rgb(255, 102, 102)",
             "rgb(255, 184, 102)",
             "rgb(254, 142, 102)",
             "rgb(255, 198, 102)",
             "rgb(255, 149, 102)",
             "lavender"
            ],
            [
             "lavender",
             "rgb(239, 255, 109)",
             "rgb(254, 142, 102)",
             "rgb(255, 191, 102)",
             "rgb(255, 135, 102)",
             "rgb(255, 135, 102)",
             "rgb(255, 135, 102)",
             "rgb(255, 135, 102)",
             "rgb(255, 135, 102)",
             "lavender"
            ],
            [
             "lavender",
             "rgb(255, 176, 102)",
             "rgb(254, 255, 102)",
             "rgb(255, 135, 102)",
             "rgb(255, 135, 102)",
             "rgb(255, 135, 102)",
             "rgb(255, 135, 102)",
             "rgb(255, 135, 102)",
             "rgb(255, 135, 102)",
             "lavender"
            ],
            [
             "lavender",
             "rgb(255, 135, 102)",
             "rgb(255, 135, 102)",
             "rgb(255, 135, 102)",
             "rgb(255, 115, 102)",
             "rgb(255, 135, 102)",
             "rgb(255, 179, 102)",
             "rgb(255, 135, 102)",
             "rgb(255, 162, 102)",
             "lavender"
            ],
            [
             "lavender",
             "rgb(255, 135, 102)",
             "rgb(255, 135, 102)",
             "rgb(255, 135, 102)",
             "rgb(255, 135, 102)",
             "rgb(255, 155, 102)",
             "rgb(255, 135, 102)",
             "rgb(255, 135, 102)",
             "rgb(255, 135, 102)",
             "lavender"
            ],
            [
             "lavender",
             "rgb(255, 135, 102)",
             "rgb(255, 135, 102)",
             "rgb(255, 135, 102)",
             "rgb(255, 108, 102)",
             "rgb(255, 135, 102)",
             "rgb(255, 135, 102)",
             "rgb(255, 135, 102)",
             "rgb(255, 162, 102)",
             "lavender"
            ],
            [
             "lavender",
             "rgb(255, 135, 102)",
             "rgb(255, 135, 102)",
             "rgb(255, 135, 102)",
             "rgb(255, 135, 102)",
             "rgb(255, 135, 102)",
             "rgb(255, 128, 102)",
             "rgb(255, 135, 102)",
             "rgb(255, 135, 102)",
             "lavender"
            ]
           ]
          },
          "values": [
           [
            "Red Savage",
            "Karsen Dorwart",
            "Nicolas Muller",
            "Joey Larson",
            "Isaac Howard",
            "Daniel Russell",
            "Artyom Levshunov",
            "Reed Lebster",
            "Gavin O'Connell",
            "Nash Nienhuis",
            "Jeremy Davidson",
            "Tiernan Shoudy",
            "David Gucciardi",
            "Matt Basgall",
            "Maxim Štrbák",
            "Tommi Männistö",
            "Tanner Kelly",
            "Austin Oravetz",
            "Viktor Hurtig",
            "Patrick Geary",
            "Owen Baker",
            "Gavin Best",
            "James Crossman",
            "Griffin Jurecki"
           ],
           [
            2.125,
            0.675,
            2.28,
            0.995,
            1.671,
            0.525,
            0.921,
            0.675,
            1.155,
            2.065,
            1.24,
            0.821,
            1.005,
            0.375,
            0.6,
            1.315,
            1.165,
            0,
            1.5,
            0.45,
            0,
            0,
            0,
            0
           ],
           [
            1.401,
            1.185,
            1.525,
            1.165,
            0.15,
            1.015,
            1.905,
            1.275,
            0.3,
            0.15,
            0.865,
            0.875,
            0.621,
            0.225,
            0.15,
            0.45,
            0.235,
            0,
            0.075,
            1.336,
            0,
            0,
            0,
            0
           ],
           [
            2.01,
            1.28,
            1.441,
            0.865,
            1.015,
            1.125,
            0.45,
            1.531,
            1.425,
            0.675,
            1.165,
            0.736,
            0.696,
            1.785,
            0.696,
            0.525,
            0.771,
            1.24,
            0.621,
            0,
            0,
            0,
            0,
            0
           ],
           [
            0.75,
            1.195,
            0.31,
            3.03,
            0.64,
            0.501,
            0.511,
            -0.225,
            0.75,
            0.33,
            0.171,
            -0.295,
            -0.15,
            -0.054,
            -0.075,
            0,
            -0.225,
            -0.375,
            0,
            0,
            -0.225,
            0,
            -0.3,
            0
           ],
           [
            1.771,
            1.21,
            0.726,
            1.275,
            1.795,
            2.775,
            0.975,
            1.955,
            1.24,
            0.855,
            0.621,
            1.132,
            0.15,
            1.165,
            1.275,
            0.525,
            0.3,
            0.546,
            0,
            0,
            0,
            0.225,
            0,
            0
           ],
           [
            0.396,
            1.071,
            1.84,
            0.61,
            0.93,
            1.221,
            1.615,
            0.6,
            0.225,
            1.155,
            0.492,
            0.02,
            0.492,
            0.15,
            0.865,
            0,
            0,
            0.075,
            0,
            0,
            0.492,
            0,
            0,
            -0.075
           ],
           [
            1.825,
            2.221,
            1.015,
            0.93,
            1.335,
            0.321,
            0.546,
            1.165,
            1.165,
            0.855,
            1.2,
            0.516,
            1.037,
            0.375,
            0.3,
            0.45,
            0.375,
            0.696,
            0,
            0,
            0,
            0,
            0,
            0
           ],
           [
            0.34,
            1.311,
            0.47,
            0.365,
            1.176,
            0.321,
            0.715,
            0,
            0.375,
            0.225,
            0.235,
            0.535,
            0.45,
            0.225,
            0.375,
            0.396,
            0.15,
            0.15,
            0,
            0,
            0.3,
            0,
            0.3,
            0
           ],
           [
            1.3272499999999998,
            1.2685,
            1.2008750000000001,
            1.1543750000000002,
            1.089,
            0.9754999999999999,
            0.9547500000000001,
            0.872,
            0.829375,
            0.7887499999999998,
            0.748625,
            0.5425,
            0.537625,
            0.5307499999999999,
            0.52325,
            0.457625,
            0.34637499999999993,
            0.2915,
            0.27449999999999997,
            0.22325,
            0.070875,
            0.028125,
            0,
            -0.009375
           ]
          ]
         },
         "header": {
          "align": "left",
          "fill": {
           "color": "paleturquoise"
          },
          "values": [
           "Player",
           "2023-10-07-Lake Superior-Michigan State",
           "2023-10-08-Lake Superior-Michigan State",
           "2023-10-12-Michigan State-Air Force",
           "2023-10-13-Michigan State-Air Force",
           "2023-10-19-Canisius-Michigan State",
           "2023-10-20-Canisius-Michigan State",
           "2023-10-26-Michigan State-Boston College",
           "2023-10-27-Michigan State-Boston College",
           "Average"
          ]
         },
         "type": "table"
        }
       ],
       "layout": {
        "template": {
         "data": {
          "bar": [
           {
            "error_x": {
             "color": "#2a3f5f"
            },
            "error_y": {
             "color": "#2a3f5f"
            },
            "marker": {
             "line": {
              "color": "#E5ECF6",
              "width": 0.5
             },
             "pattern": {
              "fillmode": "overlay",
              "size": 10,
              "solidity": 0.2
             }
            },
            "type": "bar"
           }
          ],
          "barpolar": [
           {
            "marker": {
             "line": {
              "color": "#E5ECF6",
              "width": 0.5
             },
             "pattern": {
              "fillmode": "overlay",
              "size": 10,
              "solidity": 0.2
             }
            },
            "type": "barpolar"
           }
          ],
          "carpet": [
           {
            "aaxis": {
             "endlinecolor": "#2a3f5f",
             "gridcolor": "white",
             "linecolor": "white",
             "minorgridcolor": "white",
             "startlinecolor": "#2a3f5f"
            },
            "baxis": {
             "endlinecolor": "#2a3f5f",
             "gridcolor": "white",
             "linecolor": "white",
             "minorgridcolor": "white",
             "startlinecolor": "#2a3f5f"
            },
            "type": "carpet"
           }
          ],
          "choropleth": [
           {
            "colorbar": {
             "outlinewidth": 0,
             "ticks": ""
            },
            "type": "choropleth"
           }
          ],
          "contour": [
           {
            "colorbar": {
             "outlinewidth": 0,
             "ticks": ""
            },
            "colorscale": [
             [
              0,
              "#0d0887"
             ],
             [
              0.1111111111111111,
              "#46039f"
             ],
             [
              0.2222222222222222,
              "#7201a8"
             ],
             [
              0.3333333333333333,
              "#9c179e"
             ],
             [
              0.4444444444444444,
              "#bd3786"
             ],
             [
              0.5555555555555556,
              "#d8576b"
             ],
             [
              0.6666666666666666,
              "#ed7953"
             ],
             [
              0.7777777777777778,
              "#fb9f3a"
             ],
             [
              0.8888888888888888,
              "#fdca26"
             ],
             [
              1,
              "#f0f921"
             ]
            ],
            "type": "contour"
           }
          ],
          "contourcarpet": [
           {
            "colorbar": {
             "outlinewidth": 0,
             "ticks": ""
            },
            "type": "contourcarpet"
           }
          ],
          "heatmap": [
           {
            "colorbar": {
             "outlinewidth": 0,
             "ticks": ""
            },
            "colorscale": [
             [
              0,
              "#0d0887"
             ],
             [
              0.1111111111111111,
              "#46039f"
             ],
             [
              0.2222222222222222,
              "#7201a8"
             ],
             [
              0.3333333333333333,
              "#9c179e"
             ],
             [
              0.4444444444444444,
              "#bd3786"
             ],
             [
              0.5555555555555556,
              "#d8576b"
             ],
             [
              0.6666666666666666,
              "#ed7953"
             ],
             [
              0.7777777777777778,
              "#fb9f3a"
             ],
             [
              0.8888888888888888,
              "#fdca26"
             ],
             [
              1,
              "#f0f921"
             ]
            ],
            "type": "heatmap"
           }
          ],
          "heatmapgl": [
           {
            "colorbar": {
             "outlinewidth": 0,
             "ticks": ""
            },
            "colorscale": [
             [
              0,
              "#0d0887"
             ],
             [
              0.1111111111111111,
              "#46039f"
             ],
             [
              0.2222222222222222,
              "#7201a8"
             ],
             [
              0.3333333333333333,
              "#9c179e"
             ],
             [
              0.4444444444444444,
              "#bd3786"
             ],
             [
              0.5555555555555556,
              "#d8576b"
             ],
             [
              0.6666666666666666,
              "#ed7953"
             ],
             [
              0.7777777777777778,
              "#fb9f3a"
             ],
             [
              0.8888888888888888,
              "#fdca26"
             ],
             [
              1,
              "#f0f921"
             ]
            ],
            "type": "heatmapgl"
           }
          ],
          "histogram": [
           {
            "marker": {
             "pattern": {
              "fillmode": "overlay",
              "size": 10,
              "solidity": 0.2
             }
            },
            "type": "histogram"
           }
          ],
          "histogram2d": [
           {
            "colorbar": {
             "outlinewidth": 0,
             "ticks": ""
            },
            "colorscale": [
             [
              0,
              "#0d0887"
             ],
             [
              0.1111111111111111,
              "#46039f"
             ],
             [
              0.2222222222222222,
              "#7201a8"
             ],
             [
              0.3333333333333333,
              "#9c179e"
             ],
             [
              0.4444444444444444,
              "#bd3786"
             ],
             [
              0.5555555555555556,
              "#d8576b"
             ],
             [
              0.6666666666666666,
              "#ed7953"
             ],
             [
              0.7777777777777778,
              "#fb9f3a"
             ],
             [
              0.8888888888888888,
              "#fdca26"
             ],
             [
              1,
              "#f0f921"
             ]
            ],
            "type": "histogram2d"
           }
          ],
          "histogram2dcontour": [
           {
            "colorbar": {
             "outlinewidth": 0,
             "ticks": ""
            },
            "colorscale": [
             [
              0,
              "#0d0887"
             ],
             [
              0.1111111111111111,
              "#46039f"
             ],
             [
              0.2222222222222222,
              "#7201a8"
             ],
             [
              0.3333333333333333,
              "#9c179e"
             ],
             [
              0.4444444444444444,
              "#bd3786"
             ],
             [
              0.5555555555555556,
              "#d8576b"
             ],
             [
              0.6666666666666666,
              "#ed7953"
             ],
             [
              0.7777777777777778,
              "#fb9f3a"
             ],
             [
              0.8888888888888888,
              "#fdca26"
             ],
             [
              1,
              "#f0f921"
             ]
            ],
            "type": "histogram2dcontour"
           }
          ],
          "mesh3d": [
           {
            "colorbar": {
             "outlinewidth": 0,
             "ticks": ""
            },
            "type": "mesh3d"
           }
          ],
          "parcoords": [
           {
            "line": {
             "colorbar": {
              "outlinewidth": 0,
              "ticks": ""
             }
            },
            "type": "parcoords"
           }
          ],
          "pie": [
           {
            "automargin": true,
            "type": "pie"
           }
          ],
          "scatter": [
           {
            "fillpattern": {
             "fillmode": "overlay",
             "size": 10,
             "solidity": 0.2
            },
            "type": "scatter"
           }
          ],
          "scatter3d": [
           {
            "line": {
             "colorbar": {
              "outlinewidth": 0,
              "ticks": ""
             }
            },
            "marker": {
             "colorbar": {
              "outlinewidth": 0,
              "ticks": ""
             }
            },
            "type": "scatter3d"
           }
          ],
          "scattercarpet": [
           {
            "marker": {
             "colorbar": {
              "outlinewidth": 0,
              "ticks": ""
             }
            },
            "type": "scattercarpet"
           }
          ],
          "scattergeo": [
           {
            "marker": {
             "colorbar": {
              "outlinewidth": 0,
              "ticks": ""
             }
            },
            "type": "scattergeo"
           }
          ],
          "scattergl": [
           {
            "marker": {
             "colorbar": {
              "outlinewidth": 0,
              "ticks": ""
             }
            },
            "type": "scattergl"
           }
          ],
          "scattermapbox": [
           {
            "marker": {
             "colorbar": {
              "outlinewidth": 0,
              "ticks": ""
             }
            },
            "type": "scattermapbox"
           }
          ],
          "scatterpolar": [
           {
            "marker": {
             "colorbar": {
              "outlinewidth": 0,
              "ticks": ""
             }
            },
            "type": "scatterpolar"
           }
          ],
          "scatterpolargl": [
           {
            "marker": {
             "colorbar": {
              "outlinewidth": 0,
              "ticks": ""
             }
            },
            "type": "scatterpolargl"
           }
          ],
          "scatterternary": [
           {
            "marker": {
             "colorbar": {
              "outlinewidth": 0,
              "ticks": ""
             }
            },
            "type": "scatterternary"
           }
          ],
          "surface": [
           {
            "colorbar": {
             "outlinewidth": 0,
             "ticks": ""
            },
            "colorscale": [
             [
              0,
              "#0d0887"
             ],
             [
              0.1111111111111111,
              "#46039f"
             ],
             [
              0.2222222222222222,
              "#7201a8"
             ],
             [
              0.3333333333333333,
              "#9c179e"
             ],
             [
              0.4444444444444444,
              "#bd3786"
             ],
             [
              0.5555555555555556,
              "#d8576b"
             ],
             [
              0.6666666666666666,
              "#ed7953"
             ],
             [
              0.7777777777777778,
              "#fb9f3a"
             ],
             [
              0.8888888888888888,
              "#fdca26"
             ],
             [
              1,
              "#f0f921"
             ]
            ],
            "type": "surface"
           }
          ],
          "table": [
           {
            "cells": {
             "fill": {
              "color": "#EBF0F8"
             },
             "line": {
              "color": "white"
             }
            },
            "header": {
             "fill": {
              "color": "#C8D4E3"
             },
             "line": {
              "color": "white"
             }
            },
            "type": "table"
           }
          ]
         },
         "layout": {
          "annotationdefaults": {
           "arrowcolor": "#2a3f5f",
           "arrowhead": 0,
           "arrowwidth": 1
          },
          "autotypenumbers": "strict",
          "coloraxis": {
           "colorbar": {
            "outlinewidth": 0,
            "ticks": ""
           }
          },
          "colorscale": {
           "diverging": [
            [
             0,
             "#8e0152"
            ],
            [
             0.1,
             "#c51b7d"
            ],
            [
             0.2,
             "#de77ae"
            ],
            [
             0.3,
             "#f1b6da"
            ],
            [
             0.4,
             "#fde0ef"
            ],
            [
             0.5,
             "#f7f7f7"
            ],
            [
             0.6,
             "#e6f5d0"
            ],
            [
             0.7,
             "#b8e186"
            ],
            [
             0.8,
             "#7fbc41"
            ],
            [
             0.9,
             "#4d9221"
            ],
            [
             1,
             "#276419"
            ]
           ],
           "sequential": [
            [
             0,
             "#0d0887"
            ],
            [
             0.1111111111111111,
             "#46039f"
            ],
            [
             0.2222222222222222,
             "#7201a8"
            ],
            [
             0.3333333333333333,
             "#9c179e"
            ],
            [
             0.4444444444444444,
             "#bd3786"
            ],
            [
             0.5555555555555556,
             "#d8576b"
            ],
            [
             0.6666666666666666,
             "#ed7953"
            ],
            [
             0.7777777777777778,
             "#fb9f3a"
            ],
            [
             0.8888888888888888,
             "#fdca26"
            ],
            [
             1,
             "#f0f921"
            ]
           ],
           "sequentialminus": [
            [
             0,
             "#0d0887"
            ],
            [
             0.1111111111111111,
             "#46039f"
            ],
            [
             0.2222222222222222,
             "#7201a8"
            ],
            [
             0.3333333333333333,
             "#9c179e"
            ],
            [
             0.4444444444444444,
             "#bd3786"
            ],
            [
             0.5555555555555556,
             "#d8576b"
            ],
            [
             0.6666666666666666,
             "#ed7953"
            ],
            [
             0.7777777777777778,
             "#fb9f3a"
            ],
            [
             0.8888888888888888,
             "#fdca26"
            ],
            [
             1,
             "#f0f921"
            ]
           ]
          },
          "colorway": [
           "#636efa",
           "#EF553B",
           "#00cc96",
           "#ab63fa",
           "#FFA15A",
           "#19d3f3",
           "#FF6692",
           "#B6E880",
           "#FF97FF",
           "#FECB52"
          ],
          "font": {
           "color": "#2a3f5f"
          },
          "geo": {
           "bgcolor": "white",
           "lakecolor": "white",
           "landcolor": "#E5ECF6",
           "showlakes": true,
           "showland": true,
           "subunitcolor": "white"
          },
          "hoverlabel": {
           "align": "left"
          },
          "hovermode": "closest",
          "mapbox": {
           "style": "light"
          },
          "paper_bgcolor": "white",
          "plot_bgcolor": "#E5ECF6",
          "polar": {
           "angularaxis": {
            "gridcolor": "white",
            "linecolor": "white",
            "ticks": ""
           },
           "bgcolor": "#E5ECF6",
           "radialaxis": {
            "gridcolor": "white",
            "linecolor": "white",
            "ticks": ""
           }
          },
          "scene": {
           "xaxis": {
            "backgroundcolor": "#E5ECF6",
            "gridcolor": "white",
            "gridwidth": 2,
            "linecolor": "white",
            "showbackground": true,
            "ticks": "",
            "zerolinecolor": "white"
           },
           "yaxis": {
            "backgroundcolor": "#E5ECF6",
            "gridcolor": "white",
            "gridwidth": 2,
            "linecolor": "white",
            "showbackground": true,
            "ticks": "",
            "zerolinecolor": "white"
           },
           "zaxis": {
            "backgroundcolor": "#E5ECF6",
            "gridcolor": "white",
            "gridwidth": 2,
            "linecolor": "white",
            "showbackground": true,
            "ticks": "",
            "zerolinecolor": "white"
           }
          },
          "shapedefaults": {
           "line": {
            "color": "#2a3f5f"
           }
          },
          "ternary": {
           "aaxis": {
            "gridcolor": "white",
            "linecolor": "white",
            "ticks": ""
           },
           "baxis": {
            "gridcolor": "white",
            "linecolor": "white",
            "ticks": ""
           },
           "bgcolor": "#E5ECF6",
           "caxis": {
            "gridcolor": "white",
            "linecolor": "white",
            "ticks": ""
           }
          },
          "title": {
           "x": 0.05
          },
          "xaxis": {
           "automargin": true,
           "gridcolor": "white",
           "linecolor": "white",
           "ticks": "",
           "title": {
            "standoff": 15
           },
           "zerolinecolor": "white",
           "zerolinewidth": 2
          },
          "yaxis": {
           "automargin": true,
           "gridcolor": "white",
           "linecolor": "white",
           "ticks": "",
           "title": {
            "standoff": 15
           },
           "zerolinecolor": "white",
           "zerolinewidth": 2
          }
         }
        }
       }
      }
     },
     "metadata": {},
     "output_type": "display_data"
    }
   ],
   "source": [
    "fig = go.Figure(data=[go.Table(\n",
    "    header=dict(values=list(csv_df_sorted.columns),\n",
    "                fill_color='paleturquoise',\n",
    "                align='left'),\n",
    "    cells=dict(values=[csv_df_sorted[col] for col in csv_df_sorted.columns],\n",
    "               fill_color=color_array_combined,\n",
    "               align='left'))\n",
    "])\n",
    "fig.show()\n"
   ]
  },
  {
   "cell_type": "code",
   "execution_count": null,
   "metadata": {},
   "outputs": [],
   "source": []
  },
  {
   "cell_type": "code",
   "execution_count": 27,
   "metadata": {},
   "outputs": [
    {
     "data": {
      "text/plain": [
       "array(['Lake Superior', 'RIT', 'Clarkson', 'Connecticut',\n",
       "       \"American Int'l\", 'Providence', 'Stonehill', 'Ohio State',\n",
       "       'Penn State', 'Lindenwood', 'Bowling Green', 'Augustana', 'Denver',\n",
       "       'Union', 'St. Cloud State', 'Robert Morris', 'Miami',\n",
       "       'Long Island', 'Lowell', 'Ferris State', 'Rensselaer',\n",
       "       'Michigan State', 'Vermont', 'Michigan', 'Colgate', 'Canisius',\n",
       "       'Anchorage', 'Alaska', 'Army', 'Niagara', 'Boston University',\n",
       "       'St. Thomas', 'Bentley', 'Holy Cross', 'Notre Dame', 'Wisconsin',\n",
       "       'Merrimack', 'Northern Michigan', 'Sacred Heart', 'Quinnipiac',\n",
       "       'Western Michigan', 'Minnesota', 'Massachusetts', 'Air Force',\n",
       "       'St. Lawrence', 'Northeastern', 'Duluth', 'Mercyhurst',\n",
       "       'Minnesota State', 'Colorado College', 'Maine', 'Dartmouth',\n",
       "       'Michigan Tech', 'Boston College', 'North Dakota', 'Omaha',\n",
       "       'New Hampshire', 'Arizona State', 'Cornell', 'Brown',\n",
       "       'Bemidji State', 'Yale'], dtype=object)"
      ]
     },
     "execution_count": 27,
     "metadata": {},
     "output_type": "execute_result"
    }
   ],
   "source": [
    "unique_teams"
   ]
  },
  {
   "cell_type": "code",
   "execution_count": 28,
   "metadata": {},
   "outputs": [],
   "source": [
    "# Display the first team's table as an example\n",
    "team_tables[unique_teams[7]].head(40)\n",
    "\n",
    "ohio_state_df = team_tables[unique_teams[7]].copy()\n",
    "\n",
    "# Clean Column Headers\n",
    "# split on - and take the last 2 elements\n",
    "# ohio_state_df.columns = ohio_state_df.columns.str.split('-').str[-2:]\n",
    "\n",
    "ohio_state_df.head(25)\n",
    "\n",
    "# Get a list of the column names\n",
    "column_names = ohio_state_df.columns.tolist()\n",
    "# Clean up column names by Removing 'Ohio State' and any digits of dashes\n",
    "column_names = [name.replace('Ohio State', '') for name in column_names]\n",
    "column_names = [name.replace('-', '') for name in column_names]\n",
    "column_names = [name.replace(' ', '') for name in column_names]\n",
    "\n",
    "# Use regex to remove any digits\n",
    "import re\n",
    "\n",
    "column_names = [re.sub(r'\\d+', '', name) for name in column_names]\n",
    "\n",
    "\n",
    "\n",
    "# Replace the column names\n",
    "ohio_state_df.columns = column_names\n",
    "\n",
    "ohio_state_df.head(25)\n",
    "\n",
    "# Save to CSV\n",
    "ohio_state_df.to_csv('../TEMP/GAME_SCORE_OHIO_STATE.csv', index=True)\n",
    "\n",
    "### MSU Is In Index Position 21 in this case outputing csv for MSU\n",
    "# team_tables[unique_teams[21]] = team_tables[unique_teams[21]].fillna(0)\n",
    "# team_tables[unique_teams[21]].to_csv('../data/Nov_2_MSU_GAME_SCORES.csv')\n",
    "\n"
   ]
  },
  {
   "cell_type": "markdown",
   "metadata": {},
   "source": [
    "# One of THe Michigan Games is Absent From The OSU DATA"
   ]
  },
  {
   "cell_type": "code",
   "execution_count": 29,
   "metadata": {},
   "outputs": [
    {
     "data": {
      "text/html": [
       "<div>\n",
       "<style scoped>\n",
       "    .dataframe tbody tr th:only-of-type {\n",
       "        vertical-align: middle;\n",
       "    }\n",
       "\n",
       "    .dataframe tbody tr th {\n",
       "        vertical-align: top;\n",
       "    }\n",
       "\n",
       "    .dataframe thead th {\n",
       "        text-align: right;\n",
       "    }\n",
       "</style>\n",
       "<table border=\"1\" class=\"dataframe\">\n",
       "  <thead>\n",
       "    <tr style=\"text-align: right;\">\n",
       "      <th></th>\n",
       "      <th>Mercyhurst</th>\n",
       "      <th>Lindenwood</th>\n",
       "      <th>Lindenwood</th>\n",
       "      <th>Michigan</th>\n",
       "      <th>Omaha</th>\n",
       "      <th>Omaha</th>\n",
       "    </tr>\n",
       "    <tr>\n",
       "      <th>Player</th>\n",
       "      <th></th>\n",
       "      <th></th>\n",
       "      <th></th>\n",
       "      <th></th>\n",
       "      <th></th>\n",
       "      <th></th>\n",
       "    </tr>\n",
       "  </thead>\n",
       "  <tbody>\n",
       "    <tr>\n",
       "      <th>0</th>\n",
       "      <td>0.000000</td>\n",
       "      <td>0.000000</td>\n",
       "      <td>-0.15</td>\n",
       "      <td>0.000000</td>\n",
       "      <td>0.15</td>\n",
       "      <td>0.000000</td>\n",
       "    </tr>\n",
       "    <tr>\n",
       "      <th>Brent Johnson</th>\n",
       "      <td>0.075000</td>\n",
       "      <td>2.085793</td>\n",
       "      <td>0.00</td>\n",
       "      <td>0.750000</td>\n",
       "      <td>0.00</td>\n",
       "      <td>1.070793</td>\n",
       "    </tr>\n",
       "    <tr>\n",
       "      <th>Cam Thiesing</th>\n",
       "      <td>0.310793</td>\n",
       "      <td>0.515000</td>\n",
       "      <td>0.00</td>\n",
       "      <td>1.285793</td>\n",
       "      <td>0.00</td>\n",
       "      <td>0.310793</td>\n",
       "    </tr>\n",
       "    <tr>\n",
       "      <th>Dalton Messina</th>\n",
       "      <td>0.800793</td>\n",
       "      <td>0.620793</td>\n",
       "      <td>0.00</td>\n",
       "      <td>1.460000</td>\n",
       "      <td>0.00</td>\n",
       "      <td>0.855000</td>\n",
       "    </tr>\n",
       "    <tr>\n",
       "      <th>Damien Carfagna</th>\n",
       "      <td>0.075000</td>\n",
       "      <td>0.375000</td>\n",
       "      <td>0.00</td>\n",
       "      <td>0.900000</td>\n",
       "      <td>0.00</td>\n",
       "      <td>1.070793</td>\n",
       "    </tr>\n",
       "  </tbody>\n",
       "</table>\n",
       "</div>"
      ],
      "text/plain": [
       "                 Mercyhurst  Lindenwood  Lindenwood  Michigan  Omaha     Omaha\n",
       "Player                                                                        \n",
       "0                  0.000000    0.000000       -0.15  0.000000   0.15  0.000000\n",
       "Brent Johnson      0.075000    2.085793        0.00  0.750000   0.00  1.070793\n",
       "Cam Thiesing       0.310793    0.515000        0.00  1.285793   0.00  0.310793\n",
       "Dalton Messina     0.800793    0.620793        0.00  1.460000   0.00  0.855000\n",
       "Damien Carfagna    0.075000    0.375000        0.00  0.900000   0.00  1.070793"
      ]
     },
     "execution_count": 29,
     "metadata": {},
     "output_type": "execute_result"
    }
   ],
   "source": [
    "ohio_state_df.head()"
   ]
  },
  {
   "cell_type": "code",
   "execution_count": 30,
   "metadata": {},
   "outputs": [],
   "source": [
    "# Create a list of dataframes from the team_tables dictionary\n",
    "team_tables_list = [team_tables[team] for team in unique_teams]\n"
   ]
  },
  {
   "cell_type": "code",
   "execution_count": null,
   "metadata": {},
   "outputs": [],
   "source": []
  },
  {
   "cell_type": "markdown",
   "metadata": {},
   "source": [
    "## Save To an Excell File"
   ]
  },
  {
   "cell_type": "code",
   "execution_count": 31,
   "metadata": {},
   "outputs": [
    {
     "ename": "NameError",
     "evalue": "name 'team_tables_dict' is not defined",
     "output_type": "error",
     "traceback": [
      "\u001b[1;31m---------------------------------------------------------------------------\u001b[0m",
      "\u001b[1;31mNameError\u001b[0m                                 Traceback (most recent call last)",
      "\u001b[1;32mc:\\Users\\Justin\\Desktop\\Project\\college_hockey\\workbook\\Game_Score_Preliminary_Book.ipynb Cell 52\u001b[0m line \u001b[0;36m7\n\u001b[0;32m      <a href='vscode-notebook-cell:/c%3A/Users/Justin/Desktop/Project/college_hockey/workbook/Game_Score_Preliminary_Book.ipynb#Y103sZmlsZQ%3D%3D?line=3'>4</a>\u001b[0m \u001b[39m# Create a workbook and add a worksheet for each team\u001b[39;00m\n\u001b[0;32m      <a href='vscode-notebook-cell:/c%3A/Users/Justin/Desktop/Project/college_hockey/workbook/Game_Score_Preliminary_Book.ipynb#Y103sZmlsZQ%3D%3D?line=4'>5</a>\u001b[0m workbook \u001b[39m=\u001b[39m xlsxwriter\u001b[39m.\u001b[39mWorkbook(\u001b[39m'\u001b[39m\u001b[39m../data/Nov_2_GAME_SCORES.xlsx\u001b[39m\u001b[39m'\u001b[39m)\n\u001b[1;32m----> <a href='vscode-notebook-cell:/c%3A/Users/Justin/Desktop/Project/college_hockey/workbook/Game_Score_Preliminary_Book.ipynb#Y103sZmlsZQ%3D%3D?line=6'>7</a>\u001b[0m \u001b[39mfor\u001b[39;00m team, table \u001b[39min\u001b[39;00m team_tables_dict\u001b[39m.\u001b[39mitems():\n\u001b[0;32m      <a href='vscode-notebook-cell:/c%3A/Users/Justin/Desktop/Project/college_hockey/workbook/Game_Score_Preliminary_Book.ipynb#Y103sZmlsZQ%3D%3D?line=7'>8</a>\u001b[0m     \u001b[39m# Create a new worksheet with the team name\u001b[39;00m\n\u001b[0;32m      <a href='vscode-notebook-cell:/c%3A/Users/Justin/Desktop/Project/college_hockey/workbook/Game_Score_Preliminary_Book.ipynb#Y103sZmlsZQ%3D%3D?line=8'>9</a>\u001b[0m     worksheet \u001b[39m=\u001b[39m workbook\u001b[39m.\u001b[39madd_worksheet(team)\n\u001b[0;32m     <a href='vscode-notebook-cell:/c%3A/Users/Justin/Desktop/Project/college_hockey/workbook/Game_Score_Preliminary_Book.ipynb#Y103sZmlsZQ%3D%3D?line=10'>11</a>\u001b[0m     \u001b[39m# Write the headers\u001b[39;00m\n",
      "\u001b[1;31mNameError\u001b[0m: name 'team_tables_dict' is not defined"
     ]
    }
   ],
   "source": [
    "# Assuming unique_teams and team_tables are lists and of the same length\n",
    "import xlsxwriter\n",
    "\n",
    "# Create a workbook and add a worksheet for each team\n",
    "workbook = xlsxwriter.Workbook('../data/Nov_2_GAME_SCORES.xlsx')\n",
    "\n",
    "for team, table in team_tables_dict.items():\n",
    "    # Create a new worksheet with the team name\n",
    "    worksheet = workbook.add_worksheet(team)\n",
    "    \n",
    "    # Write the headers\n",
    "    for col_num, column in enumerate(table.columns):\n",
    "        worksheet.write(0, col_num, column)\n",
    "    \n",
    "    # Write the data\n",
    "    for row_num, row_data in enumerate(table.values):\n",
    "        for col_num, cell_data in enumerate(row_data):\n",
    "            worksheet.write(row_num + 1, col_num, cell_data)  # +1 to skip the header\n",
    "\n",
    "workbook.close()\n",
    "\n",
    "# NOTE: The above code is structured to work with the provided mock data. Adjustments might be needed based on actual data.\n"
   ]
  },
  {
   "cell_type": "markdown",
   "metadata": {},
   "source": []
  },
  {
   "cell_type": "code",
   "execution_count": null,
   "metadata": {},
   "outputs": [],
   "source": [
    "# Save the team tables to a dictionary\n",
    "import pickle\n"
   ]
  },
  {
   "cell_type": "code",
   "execution_count": null,
   "metadata": {},
   "outputs": [],
   "source": [
    "## Blocking out the Game Score formula\n",
    "\n",
    "#### METRIC Formula\n",
    "# \n",
    "# METRIC = SCORE [ (Goals*0.75) + (Assist1*0.715) + (Assist2*0.555) ] \n",
    "#               + SHOTS [ (Shot_On_Net*0.075) + (Shots_Off_Net*0.075) - (Shots_Blocked*0.075) ]\n",
    "#               + FACEOFFS [ (Faceoff_Wins*0.01) - (Faceoff_Losses*0.01) ]\n",
    "#               + TEAM [ (Goals_For_Team*0.15) + (Goals_Against_Team*0.15) ]\n",
    "#               -  [ (Penalties_Taken * Overall_PP_Success_Rate) ]"
   ]
  },
  {
   "cell_type": "markdown",
   "metadata": {},
   "source": []
  },
  {
   "cell_type": "markdown",
   "metadata": {},
   "source": [
    "## Where to find these values in my DB\n",
    "scoring_summary\n",
    "    - Goals\n",
    "    -First Assist\n",
    "    -Second Assist\n",
    "\n",
    "player_stats\n",
    "    - Shots on Goal\n",
    "    - FOW\n",
    "    - FOL\n",
    "    - PIM \n",
    "        - (Maybe worth weighting differently based on period and time it was taken)\n",
    "        - Penalty late in a close game hurts a team more than something taken in the first perios\n",
    "        - a penalty that is taken when already short handed hurts much more than one 5-on-5\n",
    "            - I should be able to seperate out these types of occurences in the data from penalty_summary\n",
    "\n",
    "CAN'T Get Penalties Drawn from current data\n",
    "\n",
    "### Formulating the final 3 factors\n",
    "GA & GF should only use even strength goals - need to figure out how to filter those\n",
    "\n",
    "Shots blocked (overall - defensive) can be found in advanced metrics as well as SOG, Offensive shots blocked and shots missed net for each of these situations (total, close, even and PP)\n",
    "\n",
    "\n",
    "\n"
   ]
  },
  {
   "cell_type": "markdown",
   "metadata": {},
   "source": [
    "## Corsi Differnal = Corsi For - Corsi Defence\n",
    "Corsi is an advanced statistic used in the game of ice hockey to measure shot attempt differential while at even strength play. This includes shots on goal, missed shots on goal, and blocked shot attempts towards the opposition's net minus the same shot attempts directed at your own team's net.\n",
    "\n",
    "History\n",
    "The Corsi number was named by Tim Barnes, a financial analyst from Chicago working under the pseudonym Vic Ferrari. He had heard former Buffalo Sabres general manager Darcy Regier talking about shot differential on the radio, and then proceeded to develop a formula to accurately display shot differential. Ferrari originally wanted to name it the Regier number, but he didn't think it sounded right. He then considered calling it the Ruff number after former Buffalo Sabres head coach Lindy Ruff but he didn't think that was appropriate either. Ferrari ended up searching Buffalo Sabres staff, found a picture of Jim Corsi, and chose his name because he liked Corsi's mustache.[1]\n",
    "\n",
    "Formulae\n",
    "Corsi For (CF) = Shot attempts for at even strength: Shots + Blocks + Misses[2]\n",
    "Corsi Against (CA) = Shot attempts against at even strength: Shots + Blocks + Misses\n",
    "Corsi (C) = CF - CA\n",
    "Corsi For % (CF%) = CF / (CF + CA)\n",
    "Corsi For % Relative (CF% Rel) = CF% - CFOff%\n",
    "Corsi Per 60 Minutes at Even Strength (C/60) = (CF - CA) * 60 / TOI\n",
    "Relative Corsi per 60 Minutes at Even Strength (Crel/60) = CF/60 - CFoff/60 = On-Ice Corsi For / 60 Minutes - Off-Ice Corsi For / 60 Minutes"
   ]
  },
  {
   "cell_type": "code",
   "execution_count": null,
   "metadata": {},
   "outputs": [],
   "source": []
  }
 ],
 "metadata": {
  "kernelspec": {
   "display_name": "data_viz",
   "language": "python",
   "name": "python3"
  },
  "language_info": {
   "codemirror_mode": {
    "name": "ipython",
    "version": 3
   },
   "file_extension": ".py",
   "mimetype": "text/x-python",
   "name": "python",
   "nbconvert_exporter": "python",
   "pygments_lexer": "ipython3",
   "version": "3.9.18"
  }
 },
 "nbformat": 4,
 "nbformat_minor": 2
}
