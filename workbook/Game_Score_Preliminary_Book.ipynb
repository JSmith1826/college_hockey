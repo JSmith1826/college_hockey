{
 "cells": [
  {
   "cell_type": "markdown",
   "metadata": {},
   "source": [
    "# Game Score Notebook"
   ]
  },
  {
   "cell_type": "markdown",
   "metadata": {},
   "source": [
    "## References and Links\n",
    "Inspired by this article I found about a metric that was developed in 2016, Dom Luszczyszyn which is intended to provide a single number that approximates a player’s performance in a given game. In that original story, he included the formula for the metric and how he arrived at it, so it’s inspired various adaptations since then.\n",
    "https://hockey-graphs.com/2016/07/13/measuring-single-game-productivity-an-introduction-to-game-score/\n",
    "\n",
    "The stats I used are goals, primary assists, secondary assists, shots on goal, blocked shots, penalty differential, faceoffs, 5-on-5 corsi differential, 5-on-5 goal differential.\n",
    "\n",
    "Player Game Score = (0.75 * G) + (0.7 * A1) + (0.55 * A2) + (0.075 * SOG) + (0.05 * BLK) + (0.15 * PD) – (0.15 * PT) + (0.01 * FOW) – (0.01 * FOL) + (0.05 * CF) – (0.05 * CA) + (0.15 * GF) – (0.15* GA)\n",
    "\n"
   ]
  },
  {
   "cell_type": "markdown",
   "metadata": {},
   "source": [
    "## Adjusted / Simplified\n",
    "- found on the blog frshice.substack.com\n",
    "- Bailey Johnson created her simplified version to work on college hockey data because not all of the factors (specifically the defensive portion of the Corsi Metric) is not track or is not available for NCAA games\n",
    "\n",
    "### Original\n",
    "For clarity’s sake, this was my original formula after removing stats I didn’t have access to from Dom’s: Player Game Score = (0.75*G)+(0.7*A1)+(0.55*A2)+(0.075*SOG)+(0.05*BLK)+(0.01*FOW)–(0.01*FOL)+(0.15*GF)–(0.15*GA)\n",
    "\n",
    "### Bailey Final\n",
    "- I also followed Shawn’s method from his NWHL game score work and used league-wide power-play percentage to weight the impact of taking a penalty.\n",
    "\n",
    "- Dom scaled his formula down 75% to make the game scores roughly equivalent to points so people would be familiar with what the game score represented, and I kept to that methodology here because I used some of the same weights he did. Also keep in mind that the goals for and goals against are just goals scored at even strength — it does not include special teams, empty-net or extra-attacker goals.\n",
    "\n",
    "Player Game Score = (G*0.75)+(A1*0.715)+(A2*0.555)+(SOG*0.075)+(BLK*0.05)+(FOW*0.01)-(FOL*0.01)+(GF*0.15)-(GA*0.15)-(PNT*0.138)\n",
    "\n",
    "### PNT*.138\n",
    "- FROM SOURCE: I took the frequency of powerplay goals to penalties, otherwise known as PP%. (https://hockey-graphs.com/2018/03/22/an-introduction-to-nwhl-game-score/)\n",
    "- this is her attempt to account for penalties - CHN NCAA stats don't include penalties drawn \n",
    "- PNT is penalties taken so I will want to grab the penalty incidents, not the minutes. \n",
    "- The 0.138 factor come from the league's power play percentage \n",
    "    - Want to use a static figure like overall average PP % for entire NCAA \n",
    "        - could update it to be dynamic and create a new average every time the data is called\n",
    "\n",
    "        - IDEA: COuld create a custom factor for each team in each game \n",
    "            - teams power play effectiveness can vary greatly, as can a teams PK%\n",
    "            - Take the each teams previous success on PP or even on both PP and PK\n",
    "            - Compare to NCAA wide average\n",
    "            - get a factor that could be used and could scale the danger of taking a penalty based on how good the opponent is on PP or how poor your team is on PP\n"
   ]
  },
  {
   "cell_type": "code",
   "execution_count": null,
   "metadata": {},
   "outputs": [],
   "source": []
  },
  {
   "cell_type": "markdown",
   "metadata": {},
   "source": [
    "## Where to find these values in my DB\n",
    "scoring_summary\n",
    "    - Goals\n",
    "    -First Assist\n",
    "    -Second Assist\n",
    "\n",
    "player_stats\n",
    "    - Shots on Goal\n",
    "    - FOW\n",
    "    - FOL\n",
    "    - PIM \n",
    "        - (Maybe worth weighting differently based on period and time it was taken)\n",
    "        - Penalty late in a close game hurts a team more than something taken in the first perios\n",
    "        - a penalty that is taken when already short handed hurts much more than one 5-on-5\n",
    "            - I should be able to seperate out these types of occurences in the data from penalty_summary\n",
    "\n",
    "CAN'T Get Penalties Drawn from current data\n",
    "\n",
    "### Formulating the final 3 factors\n",
    "GA & GF should only use even strength goals - need to figure out how to filter those\n",
    "\n",
    "Shots blocked (overall - defensive) can be found in advanced metrics as well as SOG, Offensive shots blocked and shots missed net for each of these situations (total, close, even and PP)\n",
    "\n",
    "\n",
    "\n"
   ]
  },
  {
   "cell_type": "markdown",
   "metadata": {},
   "source": [
    "## Corsi Differnal = Corsi For - Corsi Defence\n",
    "Corsi is an advanced statistic used in the game of ice hockey to measure shot attempt differential while at even strength play. This includes shots on goal, missed shots on goal, and blocked shot attempts towards the opposition's net minus the same shot attempts directed at your own team's net.\n",
    "\n",
    "History\n",
    "The Corsi number was named by Tim Barnes, a financial analyst from Chicago working under the pseudonym Vic Ferrari. He had heard former Buffalo Sabres general manager Darcy Regier talking about shot differential on the radio, and then proceeded to develop a formula to accurately display shot differential. Ferrari originally wanted to name it the Regier number, but he didn't think it sounded right. He then considered calling it the Ruff number after former Buffalo Sabres head coach Lindy Ruff but he didn't think that was appropriate either. Ferrari ended up searching Buffalo Sabres staff, found a picture of Jim Corsi, and chose his name because he liked Corsi's mustache.[1]\n",
    "\n",
    "Formulae\n",
    "Corsi For (CF) = Shot attempts for at even strength: Shots + Blocks + Misses[2]\n",
    "Corsi Against (CA) = Shot attempts against at even strength: Shots + Blocks + Misses\n",
    "Corsi (C) = CF - CA\n",
    "Corsi For % (CF%) = CF / (CF + CA)\n",
    "Corsi For % Relative (CF% Rel) = CF% - CFOff%\n",
    "Corsi Per 60 Minutes at Even Strength (C/60) = (CF - CA) * 60 / TOI\n",
    "Relative Corsi per 60 Minutes at Even Strength (Crel/60) = CF/60 - CFoff/60 = On-Ice Corsi For / 60 Minutes - Off-Ice Corsi For / 60 Minutes"
   ]
  },
  {
   "cell_type": "code",
   "execution_count": null,
   "metadata": {},
   "outputs": [],
   "source": []
  }
 ],
 "metadata": {
  "language_info": {
   "name": "python"
  }
 },
 "nbformat": 4,
 "nbformat_minor": 2
}
