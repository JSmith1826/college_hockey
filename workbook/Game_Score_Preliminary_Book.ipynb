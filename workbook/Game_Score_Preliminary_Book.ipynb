{
 "cells": [
  {
   "cell_type": "markdown",
   "metadata": {},
   "source": [
    "# Game Score Notebook"
   ]
  },
  {
   "cell_type": "markdown",
   "metadata": {},
   "source": [
    "## References and Links\n",
    "\n",
    "### All of these metrics were created and scaled to approximate a corilation to Points in a game. \n",
    "Inspired by this article I found about a metric that was developed in 2016, Dom Luszczyszyn which is intended to provide a single number that approximates a player’s performance in a given game. In that original story, he included the formula for the metric and how he arrived at it, so it’s inspired various adaptations since then.\n",
    "https://hockey-graphs.com/2016/07/13/measuring-single-game-productivity-an-introduction-to-game-score/\n",
    "\n",
    "The stats I used are goals, primary assists, secondary assists, shots on goal, blocked shots, penalty differential, faceoffs, 5-on-5 corsi differential, 5-on-5 goal differential.\n",
    "\n",
    "Player Game Score = (0.75 * G) + (0.7 * A1) + (0.55 * A2) + (0.075 * SOG) + (0.05 * BLK) + (0.15 * PD) – (0.15 * PT) + (0.01 * FOW) – (0.01 * FOL) + (0.05 * CF) – (0.05 * CA) + (0.15 * GF) – (0.15* GA)\n",
    "\n"
   ]
  },
  {
   "cell_type": "markdown",
   "metadata": {},
   "source": [
    "## Adjusted / Simplified\n",
    "- found on the blog frshice.substack.com\n",
    "- Bailey Johnson created her simplified version to work on college hockey data because not all of the factors (specifically the defensive portion of the Corsi Metric) is not track or is not available for NCAA games\n",
    "\n",
    "### Original\n",
    "For clarity’s sake, this was my original formula after removing stats I didn’t have access to from Dom’s: Player Game Score = (0.75*G)+(0.7*A1)+(0.55*A2)+(0.075*SOG)+(0.05*BLK)+(0.01*FOW)–(0.01*FOL)+(0.15*GF)–(0.15*GA)\n",
    "\n",
    "### Bailey Final\n",
    "- I also followed Shawn’s method from his NWHL game score work and used league-wide power-play percentage to weight the impact of taking a penalty.\n",
    "\n",
    "- Dom scaled his formula down 75% to make the game scores roughly equivalent to points so people would be familiar with what the game score represented, and I kept to that methodology here because I used some of the same weights he did. Also keep in mind that the goals for and goals against are just goals scored at even strength — it does not include special teams, empty-net or extra-attacker goals.\n",
    "\n",
    "Player Game Score = (G*0.75)+(A1*0.715)+(A2*0.555)+(SOG*0.075)+(BLK*0.05)+(FOW*0.01)-(FOL*0.01)+(GF*0.15)-(GA*0.15)-(PNT*0.138)\n",
    "\n",
    "### PNT*.138\n",
    "- FROM SOURCE: I took the frequency of powerplay goals to penalties, otherwise known as PP%. (https://hockey-graphs.com/2018/03/22/an-introduction-to-nwhl-game-score/)\n",
    "- this is her attempt to account for penalties - CHN NCAA stats don't include penalties drawn \n",
    "- PNT is penalties taken so I will want to grab the penalty incidents, not the minutes. \n",
    "- The 0.138 factor come from the league's power play percentage \n",
    "    - Want to use a static figure like overall average PP % for entire NCAA \n",
    "        - could update it to be dynamic and create a new average every time the data is called\n",
    "\n",
    "        - IDEA: Could create a custom factor for each team in each game \n",
    "            - teams power play effectiveness can vary greatly, as can a teams PK%\n",
    "            - Take the each teams previous success on PP or even on both PP and PK\n",
    "            - Compare to NCAA wide average\n",
    "            - get a factor that could be used and could scale the danger of taking a penalty based on how good the opponent is on PP or how poor your team is on PP\n"
   ]
  },
  {
   "cell_type": "code",
   "execution_count": null,
   "metadata": {},
   "outputs": [],
   "source": [
    "## Blocking out the Game Score formula\n",
    "\n",
    "#### METRIC Formula\n",
    "# \n",
    "# METRIC = SCORE [ (Goals*0.75) + (Assist1*0.715) + (Assist2*0.555) ] \n",
    "#               + SHOTS [ (Shot_On_Net*0.075) + (Shots_Off_Net*0.075) - (Shots_Blocked*0.075) ]\n",
    "#               + FACEOFFS [ (Faceoff_Wins*0.01) - (Faceoff_Losses*0.01) ]\n",
    "#               + TEAM [ (Goals_For_Team*0.15) + (Goals_Against_Team*0.15) ]\n",
    "#               -  [ (Penalties_Taken * Overall_PP_Success_Rate) ]"
   ]
  },
  {
   "cell_type": "markdown",
   "metadata": {},
   "source": [
    "# Map to each factor in the Game_Stats Database\n",
    "\n",
    "## Calculating a Game Score for each player on each team for each game\n",
    "Each Game has a unique Game_ID column in every relevant table\n",
    "\n",
    "scoring_summary table\n",
    "    Goals - in scoring_summary - count of player's name in Player Column\n",
    "    Assist1 - scoring_summary - Count in Assist1\n",
    "    Assist2 - scoring_summary - Count in Assist2\n",
    "\n",
    "\n",
    "abdvanced_metrics_combined table\n",
    "    Shots_On_Net -  - EVEN_Saved + EVEN_Goals\n",
    "    Shots_Off_Net = EVENE_Miss\n",
    "    Shots_Blocked = EVEN_Block\n",
    "\n",
    "    Defensive_Blocks = D_Blocks\n",
    "\n",
    "player_stats\n",
    "    Faceoff_Wins = FO_W\n",
    "    Faceoff_Loses = FO_L\n",
    "\n",
    "### This takes into account team goals for and goals against but only counts Even strength goals in close games (+/- 1)\n",
    "- can get it from the advanced metrics combined\n",
    "\n",
    "advanced_metrics_advanced\n",
    "    Goals_For_Team = SUM of CLOSE_Goals grouped by Team -NOTE\n",
    "#### NOTE- need to filter out any rows in the advanced_metrics_combined with player = 'TOTAL'\n",
    "    Goals_Against_Team - do the same but for the opposing team - if Game_ID matches and Team =/= the player's team\n",
    "\n",
    "penalty_summary\n",
    "    Penalties_Taken = Count of Player's name in \n",
    "\n"
   ]
  },
  {
   "cell_type": "code",
   "execution_count": 2,
   "metadata": {},
   "outputs": [
    {
     "data": {
      "text/plain": [
       "[('A.J. Hodges', '2023-10-07-Boston University-Bentley', 1, 0, 0),\n",
       " ('A.J. Hodges', '2023-10-28-Bentley-Robert Morris', 1, 0, 0),\n",
       " ('Aaron Bohlinger', '2023-10-13-Michigan-Massachusetts', 1, 0, 0),\n",
       " ('Aaron Grounds', '2023-10-30-Long Island-Stonehill', 1, 0, 0),\n",
       " ('Aaron Huglen', '2023-10-13-St. Thomas-Minnesota', 1, 0, 0)]"
      ]
     },
     "execution_count": 2,
     "metadata": {},
     "output_type": "execute_result"
    }
   ],
   "source": [
    "\n",
    "import sqlite3\n",
    "import pandas as pd\n",
    "import numpy as np\n",
    "\n",
    "import sqlite3\n",
    "\n",
    "db_path ='../data/2023_YTD_Game_Stats_NEW.db'\n",
    "conn = sqlite3.connect(db_path)\n",
    "\n",
    "\n",
    "# Connect to the provided database\n",
    "\n",
    "cursor = conn.cursor()\n",
    "\n",
    "# Retrieve the list of tables in the database\n",
    "tables = cursor.execute(\"SELECT name FROM sqlite_master WHERE type='table';\").fetchall()\n",
    "tables = [table[0] for table in tables]\n",
    "\n",
    "# Retrieve the columns from each table to get a better understanding of the data structure\n",
    "table_columns = {}\n",
    "for table in tables:\n",
    "    columns = cursor.execute(f\"PRAGMA table_info({table});\").fetchall()\n",
    "    table_columns[table] = [column[1] for column in columns]\n",
    "\n",
    "table_columns\n",
    "\n",
    "\n",
    "# Load Data\n",
    "\n",
    "# Calculate Goals, Assist1, and Assist2 for each player in each game\n",
    "\n",
    "query_goals_assists = \"\"\"\n",
    "SELECT \n",
    "    Player,\n",
    "    Game_ID,\n",
    "    SUM(CASE WHEN Player IS NOT NULL THEN 1 ELSE 0 END) AS Goals,\n",
    "    SUM(CASE WHEN Assist1 = Player THEN 1 ELSE 0 END) AS Assist1,\n",
    "    SUM(CASE WHEN Assist2 = Player THEN 1 ELSE 0 END) AS Assist2\n",
    "FROM \n",
    "    scoring_summary\n",
    "GROUP BY \n",
    "    Player, Game_ID;\n",
    "\"\"\"\n",
    "\n",
    "goals_assists_data = cursor.execute(query_goals_assists).fetchall()\n",
    "\n",
    "# Let's preview the first few rows of the result\n",
    "goals_assists_data[:5]\n",
    "\n"
   ]
  },
  {
   "cell_type": "code",
   "execution_count": 3,
   "metadata": {},
   "outputs": [
    {
     "data": {
      "text/plain": [
       "[('A.J. Hodges', '2023-10-07-Boston University-Bentley', 1, 0, 0),\n",
       " ('A.J. Hodges', '2023-10-28-Bentley-Robert Morris', 1, 0, 0),\n",
       " ('Aaron Bohlinger', '2023-10-13-Michigan-Massachusetts', 1, 0, 0),\n",
       " ('Aaron Grounds', '2023-10-30-Long Island-Stonehill', 1, 0, 0),\n",
       " ('Aaron Huglen', '2023-10-13-St. Thomas-Minnesota', 1, 0, 0)]"
      ]
     },
     "execution_count": 3,
     "metadata": {},
     "output_type": "execute_result"
    }
   ],
   "source": [
    "# Calculate Goals, Assist1, and Assist2 for each player in each game\n",
    "\n",
    "query_goals_assists = \"\"\"\n",
    "SELECT \n",
    "    Player,\n",
    "    Game_ID,\n",
    "    SUM(CASE WHEN Player IS NOT NULL THEN 1 ELSE 0 END) AS Goals,\n",
    "    SUM(CASE WHEN Assist1 = Player THEN 1 ELSE 0 END) AS Assist1,\n",
    "    SUM(CASE WHEN Assist2 = Player THEN 1 ELSE 0 END) AS Assist2\n",
    "FROM \n",
    "    scoring_summary\n",
    "GROUP BY \n",
    "    Player, Game_ID;\n",
    "\"\"\"\n",
    "\n",
    "goals_assists_data = cursor.execute(query_goals_assists).fetchall()\n",
    "\n",
    "# Let's preview the first few rows of the result\n",
    "goals_assists_data[:5]\n"
   ]
  },
  {
   "cell_type": "code",
   "execution_count": 4,
   "metadata": {},
   "outputs": [
    {
     "data": {
      "text/plain": [
       "[('A.J. Hodges', '2023-10-07-Boston University-Bentley', 1, 0, 0),\n",
       " ('A.J. Hodges', '2023-10-28-Bentley-Robert Morris', 1, 0, 0),\n",
       " ('Aaron Bohlinger', '2023-10-13-Michigan-Massachusetts', 1, 0, 0),\n",
       " ('Aaron Grounds', '2023-10-30-Long Island-Stonehill', 1, 0, 0),\n",
       " ('Aaron Huglen', '2023-10-13-St. Thomas-Minnesota', 1, 0, 0)]"
      ]
     },
     "execution_count": 4,
     "metadata": {},
     "output_type": "execute_result"
    }
   ],
   "source": [
    "# Calculate Goals, Assist1, and Assist2 for each player in each game\n",
    "\n",
    "query_goals_assists = \"\"\"\n",
    "SELECT \n",
    "    Player,\n",
    "    Game_ID,\n",
    "    SUM(CASE WHEN Player IS NOT NULL THEN 1 ELSE 0 END) AS Goals,\n",
    "    SUM(CASE WHEN Assist1 = Player THEN 1 ELSE 0 END) AS Assist1,\n",
    "    SUM(CASE WHEN Assist2 = Player THEN 1 ELSE 0 END) AS Assist2\n",
    "FROM \n",
    "    scoring_summary\n",
    "GROUP BY \n",
    "    Player, Game_ID;\n",
    "\"\"\"\n",
    "\n",
    "goals_assists_data = cursor.execute(query_goals_assists).fetchall()\n",
    "\n",
    "# Let's preview the first few rows of the result\n",
    "goals_assists_data[:5]\n"
   ]
  },
  {
   "cell_type": "code",
   "execution_count": 5,
   "metadata": {},
   "outputs": [
    {
     "data": {
      "text/plain": [
       "[('Michigan State', '2023-10-07-Lake Superior-Michigan State', None, None),\n",
       " (\"Gavin O'Connell\", '2023-10-07-Lake Superior-Michigan State', None, None),\n",
       " ('Tommi Männistö', '2023-10-07-Lake Superior-Michigan State', None, None),\n",
       " ('Maxim Štrbák', '2023-10-07-Lake Superior-Michigan State', None, None),\n",
       " ('Artyom Levshunov', '2023-10-07-Lake Superior-Michigan State', None, None)]"
      ]
     },
     "execution_count": 5,
     "metadata": {},
     "output_type": "execute_result"
    }
   ],
   "source": [
    "# Calculate Faceoff Metrics for each player in each game\n",
    "\n",
    "query_faceoff_metrics = \"\"\"\n",
    "SELECT \n",
    "    Player,\n",
    "    Game_ID,\n",
    "    FOW AS Faceoff_Wins,\n",
    "    FOL AS Faceoff_Losses\n",
    "FROM \n",
    "    player_stats;\n",
    "\"\"\"\n",
    "\n",
    "faceoff_metrics_data = cursor.execute(query_faceoff_metrics).fetchall()\n",
    "\n",
    "# Preview the first few rows of the result\n",
    "faceoff_metrics_data[:5]\n"
   ]
  },
  {
   "cell_type": "code",
   "execution_count": 6,
   "metadata": {},
   "outputs": [
    {
     "data": {
      "text/plain": [
       "[('Alexander\\xa0Malinowski',\n",
       "  \"2023-10-07-American Int'l-Massachusetts\",\n",
       "  \"American Int'l\",\n",
       "  0.0,\n",
       "  0.0),\n",
       " ('Alfred\\xa0Lindberg',\n",
       "  \"2023-10-07-American Int'l-Massachusetts\",\n",
       "  \"American Int'l\",\n",
       "  0.0,\n",
       "  0.0),\n",
       " ('Austen\\xa0Long',\n",
       "  \"2023-10-07-American Int'l-Massachusetts\",\n",
       "  \"American Int'l\",\n",
       "  0.0,\n",
       "  0.0),\n",
       " ('Blake\\xa0Wells',\n",
       "  \"2023-10-07-American Int'l-Massachusetts\",\n",
       "  \"American Int'l\",\n",
       "  0.0,\n",
       "  0.0),\n",
       " ('Brett\\xa0Callahan',\n",
       "  \"2023-10-07-American Int'l-Massachusetts\",\n",
       "  \"American Int'l\",\n",
       "  0.0,\n",
       "  0.0)]"
      ]
     },
     "execution_count": 6,
     "metadata": {},
     "output_type": "execute_result"
    }
   ],
   "source": [
    "# Calculate Team Goals Metrics for each player in each game\n",
    "\n",
    "query_team_goals = \"\"\"\n",
    "WITH TeamGoals AS (\n",
    "    SELECT \n",
    "        Game_ID,\n",
    "        Team,\n",
    "        SUM(CLOSE_Goals) AS Goals_For_Team\n",
    "    FROM \n",
    "        advanced_metrics_combined\n",
    "    WHERE \n",
    "        Player != 'TOTAL'\n",
    "    GROUP BY \n",
    "        Game_ID, Team\n",
    "),\n",
    "OpponentGoals AS (\n",
    "    SELECT \n",
    "        a.Game_ID,\n",
    "        a.Team AS Player_Team,\n",
    "        b.Team AS Opponent_Team,\n",
    "        b.Goals_For_Team AS Goals_Against_Team\n",
    "    FROM \n",
    "        TeamGoals a\n",
    "    JOIN \n",
    "        TeamGoals b ON a.Game_ID = b.Game_ID AND a.Team != b.Team\n",
    ")\n",
    "SELECT \n",
    "    amc.Player,\n",
    "    amc.Game_ID,\n",
    "    amc.Team,\n",
    "    tg.Goals_For_Team,\n",
    "    og.Goals_Against_Team\n",
    "FROM \n",
    "    advanced_metrics_combined amc\n",
    "JOIN \n",
    "    TeamGoals tg ON amc.Game_ID = tg.Game_ID AND amc.Team = tg.Team\n",
    "JOIN \n",
    "    OpponentGoals og ON amc.Game_ID = og.Game_ID AND amc.Team = og.Player_Team\n",
    "WHERE \n",
    "    amc.Player != 'TOTAL';\n",
    "\"\"\"\n",
    "\n",
    "team_goals_data = cursor.execute(query_team_goals).fetchall()\n",
    "\n",
    "# Preview the first few rows of the result\n",
    "team_goals_data[:5]\n"
   ]
  },
  {
   "cell_type": "markdown",
   "metadata": {},
   "source": [
    "### Overall PP Success"
   ]
  },
  {
   "cell_type": "code",
   "execution_count": 8,
   "metadata": {},
   "outputs": [
    {
     "data": {
      "text/plain": [
       "0.24649176327028677"
      ]
     },
     "execution_count": 8,
     "metadata": {},
     "output_type": "execute_result"
    }
   ],
   "source": [
    "### Find the Overall Power Play Success rate for the entire database\n",
    "\n",
    "# Count the total number of Power Play (PP) goals from the scoring_summary table.\n",
    "pp_goals_count = cursor.execute(\"SELECT COUNT(*) FROM scoring_summary WHERE PP != '';\").fetchone()[0]\n",
    "\n",
    "# Count the total number of Power Plays from the penalty_summary table.\n",
    "total_pp_count = cursor.execute(\"SELECT COUNT(*) FROM penalty_summary;\").fetchone()[0]\n",
    "\n",
    "# Calculate the Power Play success rate.\n",
    "pp_success_rate = pp_goals_count / total_pp_count\n",
    "\n",
    "pp_success_rate\n"
   ]
  },
  {
   "cell_type": "code",
   "execution_count": 11,
   "metadata": {},
   "outputs": [
    {
     "data": {
      "text/plain": [
       "[(\"2023-10-07-American Int'l-Massachusetts\", 'Brett Callahan', 0.0, 0.3),\n",
       " (\"2023-10-07-American Int'l-Massachusetts\", 'Brian Kramer', 0.0, 0.3),\n",
       " (\"2023-10-07-American Int'l-Massachusetts\", 'Logan Jenuwine', 0.0, 0.3),\n",
       " ('2023-10-07-Bowling Green-Robert Morris', 'Ben Wozney', 0.0, 0.3),\n",
       " ('2023-10-07-Bowling Green-Robert Morris', 'Dalton Norris', 0.0, 0.3)]"
      ]
     },
     "execution_count": 11,
     "metadata": {},
     "output_type": "execute_result"
    }
   ],
   "source": [
    "# Adjusting the TEAM component query\n",
    "team_query = \"\"\"\n",
    "    SELECT \n",
    "        ss.Game_ID,\n",
    "        ss.Player,\n",
    "        SUM(CASE WHEN ss.Team = amc.Team THEN ss.Player_Goals ELSE 0 END) * 0.15 AS Goals_For_Team,\n",
    "        SUM(CASE WHEN ss.Team != amc.Team THEN ss.Player_Goals ELSE 0 END) * 0.15 AS Goals_Against_Team\n",
    "    FROM scoring_summary ss\n",
    "    JOIN advanced_metrics_combined amc ON ss.Game_ID = amc.Game_ID AND REPLACE(ss.Player, '\\xa0', ' ') = REPLACE(amc.Player, '\\xa0', ' ')\n",
    "    GROUP BY ss.Game_ID, ss.Player\n",
    "\"\"\"\n",
    "\n",
    "# Checking the output for the TEAM component\n",
    "team_data = cursor.execute(team_query).fetchall()\n",
    "team_data[:5]\n"
   ]
  },
  {
   "cell_type": "code",
   "execution_count": null,
   "metadata": {},
   "outputs": [],
   "source": [
    "## Penalty Component\n",
    "\n"
   ]
  },
  {
   "cell_type": "code",
   "execution_count": null,
   "metadata": {},
   "outputs": [],
   "source": []
  },
  {
   "cell_type": "markdown",
   "metadata": {},
   "source": []
  },
  {
   "cell_type": "markdown",
   "metadata": {},
   "source": [
    "## Where to find these values in my DB\n",
    "scoring_summary\n",
    "    - Goals\n",
    "    -First Assist\n",
    "    -Second Assist\n",
    "\n",
    "player_stats\n",
    "    - Shots on Goal\n",
    "    - FOW\n",
    "    - FOL\n",
    "    - PIM \n",
    "        - (Maybe worth weighting differently based on period and time it was taken)\n",
    "        - Penalty late in a close game hurts a team more than something taken in the first perios\n",
    "        - a penalty that is taken when already short handed hurts much more than one 5-on-5\n",
    "            - I should be able to seperate out these types of occurences in the data from penalty_summary\n",
    "\n",
    "CAN'T Get Penalties Drawn from current data\n",
    "\n",
    "### Formulating the final 3 factors\n",
    "GA & GF should only use even strength goals - need to figure out how to filter those\n",
    "\n",
    "Shots blocked (overall - defensive) can be found in advanced metrics as well as SOG, Offensive shots blocked and shots missed net for each of these situations (total, close, even and PP)\n",
    "\n",
    "\n",
    "\n"
   ]
  },
  {
   "cell_type": "markdown",
   "metadata": {},
   "source": [
    "## Corsi Differnal = Corsi For - Corsi Defence\n",
    "Corsi is an advanced statistic used in the game of ice hockey to measure shot attempt differential while at even strength play. This includes shots on goal, missed shots on goal, and blocked shot attempts towards the opposition's net minus the same shot attempts directed at your own team's net.\n",
    "\n",
    "History\n",
    "The Corsi number was named by Tim Barnes, a financial analyst from Chicago working under the pseudonym Vic Ferrari. He had heard former Buffalo Sabres general manager Darcy Regier talking about shot differential on the radio, and then proceeded to develop a formula to accurately display shot differential. Ferrari originally wanted to name it the Regier number, but he didn't think it sounded right. He then considered calling it the Ruff number after former Buffalo Sabres head coach Lindy Ruff but he didn't think that was appropriate either. Ferrari ended up searching Buffalo Sabres staff, found a picture of Jim Corsi, and chose his name because he liked Corsi's mustache.[1]\n",
    "\n",
    "Formulae\n",
    "Corsi For (CF) = Shot attempts for at even strength: Shots + Blocks + Misses[2]\n",
    "Corsi Against (CA) = Shot attempts against at even strength: Shots + Blocks + Misses\n",
    "Corsi (C) = CF - CA\n",
    "Corsi For % (CF%) = CF / (CF + CA)\n",
    "Corsi For % Relative (CF% Rel) = CF% - CFOff%\n",
    "Corsi Per 60 Minutes at Even Strength (C/60) = (CF - CA) * 60 / TOI\n",
    "Relative Corsi per 60 Minutes at Even Strength (Crel/60) = CF/60 - CFoff/60 = On-Ice Corsi For / 60 Minutes - Off-Ice Corsi For / 60 Minutes"
   ]
  },
  {
   "cell_type": "code",
   "execution_count": null,
   "metadata": {},
   "outputs": [],
   "source": []
  }
 ],
 "metadata": {
  "kernelspec": {
   "display_name": "data_viz",
   "language": "python",
   "name": "python3"
  },
  "language_info": {
   "codemirror_mode": {
    "name": "ipython",
    "version": 3
   },
   "file_extension": ".py",
   "mimetype": "text/x-python",
   "name": "python",
   "nbconvert_exporter": "python",
   "pygments_lexer": "ipython3",
   "version": "3.9.18"
  }
 },
 "nbformat": 4,
 "nbformat_minor": 2
}
