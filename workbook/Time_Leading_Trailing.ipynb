{
 "cells": [
  {
   "cell_type": "markdown",
   "metadata": {},
   "source": [
    "## Cacluate The amount of times each team has spent tied, leading, trailing, ect "
   ]
  },
  {
   "cell_type": "code",
   "execution_count": 12,
   "metadata": {},
   "outputs": [],
   "source": [
    "import pandas as pd\n",
    "\n",
    "# path to single game file\n",
    "# path = '../TEMP/single_game_scoring.csv'\n",
    "# path = '../TEMP/ss_example_3.csv'\n",
    "\n",
    "def calculate_game_states_dataframe_ot_tie_corrected_v2(file_path):\n",
    "    data = pd.read_csv(file_path)\n",
    "\n",
    "    def period_elapsed_to_seconds(period, time_str):\n",
    "        minutes, seconds = map(int, time_str.split(':'))\n",
    "        elapsed_seconds = minutes * 60 + seconds\n",
    "        \n",
    "        if '1st' in period:\n",
    "            return elapsed_seconds\n",
    "        elif '2nd' in period:\n",
    "            return 20 * 60 + elapsed_seconds\n",
    "        elif '3rd' in period:\n",
    "            return 40 * 60 + elapsed_seconds\n",
    "        else:  # Overtime\n",
    "            return 60 * 60 + elapsed_seconds\n",
    "\n",
    "    data['Total_Seconds'] = data.apply(lambda row: period_elapsed_to_seconds(row['Period'], row['Time']), axis=1)\n",
    "\n",
    "    teams = list(set(data['Home_Team'].unique().tolist() + data['Away_Team'].unique().tolist()))\n",
    "    team_states = {team: {'Tied': 0, 'Lead by 1': 0, 'Lead by 2': 0, 'Lead by 3+': 0,\n",
    "                          'Down by 1': 0, 'Down by 2': 0, 'Down by 3+': 0} for team in teams}\n",
    "    \n",
    "    current_score = {teams[0]: 0, teams[1]: 0}\n",
    "    last_timestamp = 0\n",
    "    game_end = 3 * 20 * 60  # Default game end, will adjust if OT is detected\n",
    "    overtime_played = False\n",
    "\n",
    "    first_goal_time = data.sort_values(by='Total_Seconds').iloc[0]['Total_Seconds'] if not data.empty else 0\n",
    "    team_states[teams[0]]['Tied'] = first_goal_time\n",
    "    team_states[teams[1]]['Tied'] = first_goal_time\n",
    "    last_timestamp = first_goal_time\n",
    "\n",
    "    for index, row in data.sort_values(by='Total_Seconds').iterrows():\n",
    "        current_score[row['Team']] += 1\n",
    "        lead_diff = current_score[teams[0]] - current_score[teams[1]]\n",
    "        time_elapsed = row['Total_Seconds'] - last_timestamp\n",
    "\n",
    "        if 'Overtime' in row['Period']:\n",
    "            overtime_played = True\n",
    "            game_end = row['Total_Seconds']  # Adjust game end to when OT goal is scored\n",
    "\n",
    "        if lead_diff == 0:\n",
    "            for team in teams:\n",
    "                team_states[team]['Tied'] += time_elapsed\n",
    "        else:\n",
    "            leading_team, trailing_team = (teams[0], teams[1]) if lead_diff > 0 else (teams[1], teams[0])\n",
    "            lead_abs = abs(lead_diff)\n",
    "            update_states = lambda lead: (f'Lead by {min(lead, 3)}+' if lead >= 3 else f'Lead by {lead}',\n",
    "                                          f'Down by {min(lead, 3)}+' if lead >= 3 else f'Down by {lead}')\n",
    "            state_lead, state_trail = update_states(lead_abs)\n",
    "            team_states[leading_team][state_lead] += time_elapsed\n",
    "            team_states[trailing_team][state_trail] += time_elapsed\n",
    "        \n",
    "        last_timestamp = row['Total_Seconds']\n",
    "\n",
    "    # Determine if game ended in a tie without explicit OT goal and adjust game_end correctly\n",
    "    lead_diff_final = current_score[teams[0]] - current_score[teams[1]]\n",
    "    if lead_diff_final == 0 and not overtime_played:\n",
    "        # Adjust for games that end in a tie without 'OT' period goals\n",
    "        overtime_played = True\n",
    "        game_end = 65 * 60  # Adjust game end to include 5 minutes of OT\n",
    "\n",
    "    final_time_elapsed = game_end - last_timestamp\n",
    "    if lead_diff_final == 0 and not data.empty:\n",
    "        for team in teams:\n",
    "            team_states[team]['Tied'] += final_time_elapsed\n",
    "\n",
    "    team_states_df = pd.DataFrame.from_dict(team_states, orient='index').reset_index().rename(columns={'index': 'Team'})\n",
    "    \n",
    "    return team_states_df\n",
    "\n",
    "# Re-generate the DataFrame with the corrected function for the new file\n",
    "# game_states_df_ot_tie_corrected_v2 = calculate_game_states_dataframe_ot_tie_corrected_v2(path)\n",
    "# game_states_df_ot_tie_corrected_v2\n"
   ]
  },
  {
   "cell_type": "markdown",
   "metadata": {},
   "source": [
    "# Start Here"
   ]
  },
  {
   "cell_type": "code",
   "execution_count": 13,
   "metadata": {},
   "outputs": [
    {
     "data": {
      "text/plain": [
       "<sqlite3.Cursor at 0x1c9c04184c0>"
      ]
     },
     "execution_count": 13,
     "metadata": {},
     "output_type": "execute_result"
    }
   ],
   "source": [
    "### Path to Target Database file\n",
    "import os\n",
    "import sqlite3\n",
    "import pandas as pd\n",
    "\n",
    "# path to database file using os module\n",
    "# db_path = os.path.join('..', 'data', 'db', 'CHN_YTD_Stats.db') # Path to most recent cleaned DB File\n",
    "db_path = os.path.join('..', 'data', 'db', '2022_Game_Stats_Cleaned.db') # Path to most recent cleaned DB File\n",
    "conn = sqlite3.connect(db_path)\n",
    "\n",
    "# verify the connection\n",
    "cursor = conn.cursor()\n",
    "cursor.execute(\"SELECT name FROM sqlite_master WHERE type='table';\")"
   ]
  },
  {
   "cell_type": "code",
   "execution_count": 14,
   "metadata": {},
   "outputs": [],
   "source": [
    "## HOTFIX FOR OLD DB FILE - Add Home_Team and Away_Team to  scoring summary table in the db by spliting the Game_ID\n",
    "## Home split '-' -1\n",
    "## Away split '-' -2\n",
    "\n",
    "# # example # Step 2: Create new columns for Home and Away Teams by parsing Game_ID\n",
    "# df_game_details['Away_Team'] = df_game_details['Game_ID'].apply(lambda x: x.split('-')[3])\n",
    "# df_game_details['Home_Team'] = df_game_details['Game_ID'].apply(lambda x: x.split('-')[4])\n",
    "\n"
   ]
  },
  {
   "cell_type": "code",
   "execution_count": 15,
   "metadata": {},
   "outputs": [
    {
     "name": "stderr",
     "output_type": "stream",
     "text": [
      "Processing Games:   0%|          | 1/1109 [00:00<00:15, 71.41it/s]\n"
     ]
    },
    {
     "ename": "KeyError",
     "evalue": "'Lowell'",
     "output_type": "error",
     "traceback": [
      "\u001b[1;31m---------------------------------------------------------------------------\u001b[0m",
      "\u001b[1;31mKeyError\u001b[0m                                  Traceback (most recent call last)",
      "Cell \u001b[1;32mIn[15], line 48\u001b[0m\n\u001b[0;32m     45\u001b[0m     \u001b[38;5;28;01mreturn\u001b[39;00m season_aggregate_states\n\u001b[0;32m     47\u001b[0m \u001b[38;5;66;03m# Process the season dataset\u001b[39;00m\n\u001b[1;32m---> 48\u001b[0m season_aggregate_states_df \u001b[38;5;241m=\u001b[39m \u001b[43mprocess_season_game_states\u001b[49m\u001b[43m(\u001b[49m\u001b[43mscoring_df\u001b[49m\u001b[43m)\u001b[49m\n\u001b[0;32m     50\u001b[0m season_aggregate_states_df\n",
      "Cell \u001b[1;32mIn[15], line 34\u001b[0m, in \u001b[0;36mprocess_season_game_states\u001b[1;34m(season_data)\u001b[0m\n\u001b[0;32m     31\u001b[0m game_data\u001b[38;5;241m.\u001b[39mto_csv(temp_game_path, index\u001b[38;5;241m=\u001b[39m\u001b[38;5;28;01mFalse\u001b[39;00m)\n\u001b[0;32m     33\u001b[0m \u001b[38;5;66;03m# Calculate game states for the current game\u001b[39;00m\n\u001b[1;32m---> 34\u001b[0m game_states_df \u001b[38;5;241m=\u001b[39m \u001b[43mcalculate_game_states_dataframe_ot_tie_corrected_v2\u001b[49m\u001b[43m(\u001b[49m\u001b[43mtemp_game_path\u001b[49m\u001b[43m)\u001b[49m\n\u001b[0;32m     36\u001b[0m \u001b[38;5;66;03m# Aggregate the results\u001b[39;00m\n\u001b[0;32m     37\u001b[0m \u001b[38;5;28;01mif\u001b[39;00m season_aggregate_states\u001b[38;5;241m.\u001b[39mempty:\n",
      "Cell \u001b[1;32mIn[12], line 40\u001b[0m, in \u001b[0;36mcalculate_game_states_dataframe_ot_tie_corrected_v2\u001b[1;34m(file_path)\u001b[0m\n\u001b[0;32m     37\u001b[0m last_timestamp \u001b[38;5;241m=\u001b[39m first_goal_time\n\u001b[0;32m     39\u001b[0m \u001b[38;5;28;01mfor\u001b[39;00m index, row \u001b[38;5;129;01min\u001b[39;00m data\u001b[38;5;241m.\u001b[39msort_values(by\u001b[38;5;241m=\u001b[39m\u001b[38;5;124m'\u001b[39m\u001b[38;5;124mTotal_Seconds\u001b[39m\u001b[38;5;124m'\u001b[39m)\u001b[38;5;241m.\u001b[39miterrows():\n\u001b[1;32m---> 40\u001b[0m     \u001b[43mcurrent_score\u001b[49m\u001b[43m[\u001b[49m\u001b[43mrow\u001b[49m\u001b[43m[\u001b[49m\u001b[38;5;124;43m'\u001b[39;49m\u001b[38;5;124;43mTeam\u001b[39;49m\u001b[38;5;124;43m'\u001b[39;49m\u001b[43m]\u001b[49m\u001b[43m]\u001b[49m \u001b[38;5;241m+\u001b[39m\u001b[38;5;241m=\u001b[39m \u001b[38;5;241m1\u001b[39m\n\u001b[0;32m     41\u001b[0m     lead_diff \u001b[38;5;241m=\u001b[39m current_score[teams[\u001b[38;5;241m0\u001b[39m]] \u001b[38;5;241m-\u001b[39m current_score[teams[\u001b[38;5;241m1\u001b[39m]]\n\u001b[0;32m     42\u001b[0m     time_elapsed \u001b[38;5;241m=\u001b[39m row[\u001b[38;5;124m'\u001b[39m\u001b[38;5;124mTotal_Seconds\u001b[39m\u001b[38;5;124m'\u001b[39m] \u001b[38;5;241m-\u001b[39m last_timestamp\n",
      "\u001b[1;31mKeyError\u001b[0m: 'Lowell'"
     ]
    }
   ],
   "source": [
    "# season_file_path = '../TEMP/scoring_summary_old.csv'\n",
    "# season_file_path = '../TEMP/Season_scoring.csv'\n",
    "\n",
    "# extract scoring table from database\n",
    "scoring_query = \"SELECT * FROM scoring_summary\"\n",
    "scoring_df = pd.read_sql_query(scoring_query, conn)\n",
    "\n",
    "## HOTFIX FOR OLD DB FILEs - Add Home_Team and Away_Team to  scoring summary table in the db by spliting the Game_ID\n",
    "scoring_df['Away_Team'] = scoring_df['Game_ID'].apply(lambda x: x.split('-')[3])\n",
    "scoring_df['Home_Team'] = scoring_df['Game_ID'].apply(lambda x: x.split('-')[4])\n",
    "\n",
    "\n",
    "from tqdm import tqdm  # For progress tracking\n",
    "\n",
    "\n",
    "\n",
    "\n",
    "# Function to process each game in the dataset and aggregate game states\n",
    "def process_season_game_states(season_data):\n",
    "    # season_data = pd.read_csv(file_path)\n",
    "    unique_games = season_data['Game_ID'].unique()\n",
    "    \n",
    "    # Initialize an empty DataFrame for aggregating results\n",
    "    season_aggregate_states = pd.DataFrame()\n",
    "    \n",
    "    for game_id in tqdm(unique_games, desc=\"Processing Games\"):\n",
    "        game_data = season_data[season_data['Game_ID'] == game_id]\n",
    "        \n",
    "        # Save individual game data to a temporary CSV to use with the existing function\n",
    "        temp_game_path = '../TEMP/temp_game.csv'\n",
    "        game_data.to_csv(temp_game_path, index=False)\n",
    "        \n",
    "        # Calculate game states for the current game\n",
    "        game_states_df = calculate_game_states_dataframe_ot_tie_corrected_v2(temp_game_path)\n",
    "        \n",
    "        # Aggregate the results\n",
    "        if season_aggregate_states.empty:\n",
    "            season_aggregate_states = game_states_df\n",
    "        else:\n",
    "            season_aggregate_states = season_aggregate_states.merge(game_states_df, on='Team', how='outer')\n",
    "            for state in ['Tied', 'Lead by 1', 'Lead by 2', 'Lead by 3+', 'Down by 1', 'Down by 2', 'Down by 3+']:\n",
    "                season_aggregate_states[state] = season_aggregate_states[f'{state}_x'].fillna(0) + season_aggregate_states[f'{state}_y'].fillna(0)\n",
    "                season_aggregate_states.drop([f'{state}_x', f'{state}_y'], axis=1, inplace=True)\n",
    "    \n",
    "    return season_aggregate_states\n",
    "\n",
    "# Process the season dataset\n",
    "season_aggregate_states_df = process_season_game_states(scoring_df)\n",
    "\n",
    "season_aggregate_states_df"
   ]
  },
  {
   "cell_type": "code",
   "execution_count": null,
   "metadata": {},
   "outputs": [],
   "source": [
    "# Sort by Down by 3+ time to find the teams that were trailing by 3+ goals the most\n",
    "# season_aggregate_stats_df.sort_values(by='Down by 3+', ascending=True).head(10)\n",
    "season_aggregate_stats_df = season_aggregate_states_df"
   ]
  },
  {
   "cell_type": "code",
   "execution_count": null,
   "metadata": {},
   "outputs": [],
   "source": [
    "### Calculate the percentages for the different game states\n",
    "# Calculate the total game time for each team\n",
    "season_aggregate_stats_df['Total_Time'] = season_aggregate_stats_df['Tied'] + season_aggregate_stats_df['Lead by 1'] + season_aggregate_stats_df['Lead by 2'] + season_aggregate_stats_df['Lead by 3+'] + season_aggregate_stats_df['Down by 1'] + season_aggregate_stats_df['Down by 2'] + season_aggregate_stats_df['Down by 3+']\n",
    "\n",
    "# create column of all leads and all deficits\n",
    "season_aggregate_stats_df['All_Lead'] = season_aggregate_stats_df['Lead by 1'] + season_aggregate_stats_df['Lead by 2'] + season_aggregate_stats_df['Lead by 3+']\n",
    "season_aggregate_stats_df['All_Deficit'] = season_aggregate_stats_df['Down by 1'] + season_aggregate_stats_df['Down by 2'] + season_aggregate_stats_df['Down by 3+']\n",
    "\n",
    "# Calculate the percentages for each game state\n",
    "for state in ['Tied', 'Lead by 1', 'Lead by 2', 'Lead by 3+', 'Down by 1', 'Down by 2', 'Down by 3+', 'All_Lead', 'All_Deficit']:\n",
    "    season_aggregate_stats_df[f'PCT_{state}'] = season_aggregate_stats_df[state] / season_aggregate_stats_df['Total_Time']\n",
    "\n",
    "# Display the DataFrame with the calculated percentages\n",
    "# season_aggregate_stats_df"
   ]
  },
  {
   "cell_type": "code",
   "execution_count": null,
   "metadata": {},
   "outputs": [],
   "source": [
    "# Convert all time columns from seconds to minutes\n",
    "for state in ['Tied', 'Lead by 1', 'Lead by 2', 'Lead by 3+', 'Down by 1', 'Down by 2', 'Down by 3+', 'All_Lead', 'All_Deficit', 'Total_Time']:\n",
    "    season_aggregate_stats_df[state] = season_aggregate_stats_df[state] / 60\n",
    "\n",
    "# Display the DataFrame with the times converted to minutes\n",
    "season_aggregate_stats_df\n"
   ]
  },
  {
   "cell_type": "code",
   "execution_count": null,
   "metadata": {},
   "outputs": [],
   "source": [
    "## Output the results to a CSV file\n",
    "# output_file_path = '../TEMP/lead_Trail_season_aggregate_states.csv' # Original Path - power BI report is tied to tis file location\n",
    "output_file_path = '../data/2022_Lead_Trail_season_aggregate_stats.csv'\n",
    "season_aggregate_stats_df.to_csv(output_file_path, index=False)"
   ]
  },
  {
   "cell_type": "code",
   "execution_count": null,
   "metadata": {},
   "outputs": [],
   "source": []
  }
 ],
 "metadata": {
  "kernelspec": {
   "display_name": "data_viz",
   "language": "python",
   "name": "python3"
  },
  "language_info": {
   "codemirror_mode": {
    "name": "ipython",
    "version": 3
   },
   "file_extension": ".py",
   "mimetype": "text/x-python",
   "name": "python",
   "nbconvert_exporter": "python",
   "pygments_lexer": "ipython3",
   "version": "3.12.1"
  }
 },
 "nbformat": 4,
 "nbformat_minor": 2
}
