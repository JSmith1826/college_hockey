{
 "cells": [
  {
   "cell_type": "markdown",
   "metadata": {},
   "source": [
    "## This notebook takes the database created by the raw scrape of game results, cleans up some problems with the data \n",
    "\n",
    "### Task List\n",
    "- the advanced metrics tables should have the team name added to each player's row\n",
    "    - can also probably store as a single table instead of two tables\n",
    "        - would also want to add home or away to each row along with Team Name\n",
    "        Should be able to do it with a rather simple if then and the team names in the Game_ID\n",
    "\n",
    "- Import the master rosters that are scraped and stored as CSV into the database so we can join data on age, class rank, ect \n",
    "    - I "
   ]
  },
  {
   "cell_type": "code",
   "execution_count": null,
   "metadata": {},
   "outputs": [],
   "source": [
    "## Dependencies\n",
    "\n",
    "import pandas as pd\n",
    "import numpy as np\n",
    "\n",
    "import sqlite3\n",
    "\n",
    "db_path = ' Game Stats.db'\n",
    "\n",
    "conn = sqlite3.connect(db_path)\n",
    "\n",
    "# Roster data\n",
    "folder = '../data/rosters/'\n",
    "\n",
    "df_2023 = pd.read_csv(folder + '2023_master_roster.csv')\n",
    "df_2022 = pd.read_csv(folder + '2022_master_roster.csv')\n",
    "df_2021 = pd.read_csv(folder + '2021_master_roster.csv')\n",
    "df_2020 = pd.read_csv(folder + '2020_master_roster.csv')\n",
    "\n",
    "\n"
   ]
  },
  {
   "cell_type": "markdown",
   "metadata": {},
   "source": [
    "## Clean and Transform Advanced Metrics\n",
    "- add, Team and Home-Away columns, combine the two tables into a single table"
   ]
  },
  {
   "cell_type": "code",
   "execution_count": null,
   "metadata": {},
   "outputs": [],
   "source": [
    "# Load the data from the advanced metrics tables\n",
    "query_team1 = \"SELECT * FROM advanced_metrics_team1;\"\n",
    "query_team2 = \"SELECT * FROM advanced_metrics_team2;\"\n",
    "\n",
    "df_advanced_team1 = pd.read_sql_query(query_team1, conn)\n",
    "df_advanced_team2 = pd.read_sql_query(query_team2, conn)\n",
    "\n",
    "# # Show some sample data to verify\n",
    "# df_advanced_team1.head(), df_advanced_team2.head()\n",
    "\n",
    "# Correctly extract team names from Game_ID\n",
    "df_advanced_team1['Team'] = df_advanced_team1['Game_ID'].apply(lambda x: x.split('-')[3])\n",
    "df_advanced_team1['Home/Away'] = 'Away'  # Team1 is the away team\n",
    "df_advanced_team2['Team'] = df_advanced_team2['Game_ID'].apply(lambda x: x.split('-')[4])\n",
    "df_advanced_team2['Home/Away'] = 'Home'  # Team2 is the home team\n",
    "\n",
    "# Recombine the two dataframes into a single one, again\n",
    "df_advanced_combined_corrected = pd.concat([df_advanced_team1, df_advanced_team2], ignore_index=True)\n",
    "\n",
    "# Show some sample data to verify the correction\n",
    "# df_advanced_combined_corrected.sample(10)\n",
    "\n",
    "# Save the combined and corrected dataframe back to the database as a new table\n",
    "new_table_name = 'advanced_metrics_combined'\n",
    "df_advanced_combined_corrected.to_sql(new_table_name, conn, if_exists='replace', index=False)\n",
    "\n",
    "# Drop the original advanced metrics tables from the database\n",
    "drop_table1_query = \"DROP TABLE IF EXISTS advanced_metrics_team1;\"\n",
    "drop_table2_query = \"DROP TABLE IF EXISTS advanced_metrics_team2;\"\n",
    "\n",
    "# conn.execute(drop_table1_query)\n",
    "# conn.execute(drop_table2_query)\n",
    "\n",
    "# Verify by listing all the tables in the database again\n",
    "tables_query = \"SELECT name FROM sqlite_master WHERE type='table';\"\n",
    "tables = conn.execute(tables_query).fetchall()\n",
    "table_names = [table[0] for table in tables]\n",
    "table_names\n",
    "\n"
   ]
  },
  {
   "cell_type": "code",
   "execution_count": null,
   "metadata": {},
   "outputs": [],
   "source": [
    "## Additional cleaning steps for the advanced metrics table\n",
    "# Remove rows where Player is \"TOTAL\"\n",
    "df_advanced_combined_cleaned = df_advanced_combined_corrected[df_advanced_combined_corrected['Player'] != 'TOTAL']\n",
    "df_advanced_combined_cleaned = df_advanced_combined_cleaned[df_advanced_combined_cleaned['Player'] != 'Name: Clean_Name, dtype: object,']\n",
    "\n",
    "## MATCH THE DATAFRAME NAMES\n",
    "df_2023_master_roster = df_2023\n",
    "\n",
    "# Clean up the name formats for joining\n",
    "# Master roster: Convert \"Last Name, First Name\" to \"First Name Last Name\"\n",
    "df_2023_master_roster['Clean_Name'] = df_2023_master_roster['Name'].apply(lambda x: ' '.join(reversed(x.split(', '))))\n",
    "\n",
    "# Advanced metrics: Replace the non-breaking space with a regular space\n",
    "df_advanced_combined_cleaned['Clean_Player'] = df_advanced_combined_cleaned['Player'].apply(lambda x: x.replace('\\xa0', ' '))\n",
    "\n",
    "# Show some sample cleaned names to verify\n",
    "sample_clean_master_roster_names = df_2023_master_roster['Clean_Name'].sample(5)\n",
    "sample_clean_advanced_metrics_names = df_advanced_combined_cleaned['Clean_Player'].sample(5)\n",
    "\n",
    "sample_clean_master_roster_names, sample_clean_advanced_metrics_names\n",
    "\n"
   ]
  },
  {
   "cell_type": "markdown",
   "metadata": {},
   "source": [
    "## Add the Roster data from the CSVs to the Database"
   ]
  },
  {
   "cell_type": "code",
   "execution_count": null,
   "metadata": {},
   "outputs": [],
   "source": []
  }
 ],
 "metadata": {
  "kernelspec": {
   "display_name": "data_viz",
   "language": "python",
   "name": "python3"
  },
  "language_info": {
   "codemirror_mode": {
    "name": "ipython",
    "version": 3
   },
   "file_extension": ".py",
   "mimetype": "text/x-python",
   "name": "python",
   "nbconvert_exporter": "python",
   "pygments_lexer": "ipython3",
   "version": "3.9.18"
  }
 },
 "nbformat": 4,
 "nbformat_minor": 2
}
