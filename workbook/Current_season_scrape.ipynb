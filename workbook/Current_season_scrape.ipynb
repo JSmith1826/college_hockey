{
 "cells": [
  {
   "cell_type": "code",
   "execution_count": 1,
   "metadata": {},
   "outputs": [],
   "source": [
    "### Book to collect data about the current college hockey season from College Hockey News\n",
    "\n",
    "## Dependencies\n",
    "import requests\n",
    "from bs4 import BeautifulSoup\n",
    "import pandas as pd\n",
    "import numpy as np\n",
    "import time\n",
    "import logging\n",
    "from tqdm import tqdm\n",
    "import re\n",
    "\n",
    "from sqlalchemy import create_engine\n",
    "\n",
    "\n",
    "import sqlite3\n",
    "\n",
    "\n",
    "FILE_TAG = '2001_Season_v1'\n",
    "\n",
    "## global variables\n",
    "# # current_year_url = 'https://www.collegehockeynews.com/schedules/?season=20232024'\n",
    "# tag = '2023_Season_Nov 2'\n",
    "\n",
    "##### TEMP####\n",
    "## global variables\n",
    "current_year_url = 'https://www.collegehockeynews.com/schedules/?season=20212022'\n",
    "tag = '2022_Season_Nov 2_with_update_notebook'\n",
    "\n",
    "\n",
    "## Base usl for box scores and metrics\n",
    "base_url = 'https://www.collegehockeynews.com'\n",
    "\n"
   ]
  },
  {
   "cell_type": "code",
   "execution_count": 2,
   "metadata": {},
   "outputs": [
    {
     "name": "stderr",
     "output_type": "stream",
     "text": [
      "C:\\Users\\Justin\\AppData\\Local\\Temp\\ipykernel_17372\\2541037650.py:83: FutureWarning: Setting an item of incompatible dtype is deprecated and will raise in a future error of pandas. Value '2021-10-02_Army_Providence' has dtype incompatible with float64, please explicitly cast to a compatible dtype first.\n",
      "  df.loc[row.Index, 'Game_ID'] = game_id\n"
     ]
    }
   ],
   "source": [
    "## Functions\n",
    "### Parse the current season schedule / results page\n",
    "\n",
    "def parse_current_season(url):\n",
    "        # Initialize variables\n",
    "    current_date = None\n",
    "    current_conference = None\n",
    "    game_notes = None\n",
    "\n",
    "    # Initialize an empty list to hold the data\n",
    "    data = []\n",
    "\n",
    "    # Parse the page with BeautifulSoup\n",
    "    # Get the page with requests\n",
    "    response = requests.get(url)\n",
    "\n",
    "    # Create a BeautifulSoup object\n",
    "    soup = BeautifulSoup(response.text, 'html.parser')\n",
    "\n",
    "    # select the table or tables\n",
    "    tables = soup.find_all('table')\n",
    "\n",
    "    rows = soup.find_all('tr')\n",
    "\n",
    "    # Loop through each row to find relevant information\n",
    "    for row in rows:\n",
    "        # Check for date row\n",
    "        if row.get('class') == ['stats-section']:\n",
    "            current_date = row.find('td').text.strip()\n",
    "        # Check for conference row\n",
    "        elif row.get('class') == ['sked-header']:\n",
    "            current_conference = row.find('td').text.strip()\n",
    "        # Check for game notes\n",
    "        elif len(row.find_all('td')) == 2:\n",
    "            game_notes = row.find_all('td')[1].text.strip()\n",
    "        # Process rows with game data\n",
    "        elif row.get('valign') == 'top':\n",
    "            cells = row.find_all('td')\n",
    "            if len(cells) >= 9:\n",
    "                home_team = cells[0].text.strip()\n",
    "                home_team_link = cells[0].find('a')['href'] if cells[0].find('a') else None\n",
    "                home_score = cells[1].text.strip()\n",
    "                away_team = cells[3].text.strip()\n",
    "                away_team_link = cells[3].find('a')['href'] if cells[3].find('a') else None\n",
    "                away_score = cells[4].text.strip()\n",
    "                ot = cells[5].text.strip()\n",
    "                box_link = cells[7].find('a')['href'] if cells[7].find('a') else None\n",
    "                metrics_link = cells[8].find('a')['href'] if cells[8].find('a') else None\n",
    "                # Capture Game Notes\n",
    "                game_notes_cell = cells[-1].find('small')\n",
    "                game_notes = game_notes_cell.text.strip() if game_notes_cell else None\n",
    "\n",
    "                # Append data to the list\n",
    "                data.append([current_date, current_conference, game_notes, home_team, home_team_link, home_score, away_team, away_team_link, away_score, ot, box_link, metrics_link])\n",
    "                game_notes = None  # Reset game notes for the next row\n",
    "    return data\n",
    "\n",
    "## call the function\n",
    "data = parse_current_season(current_year_url)\n",
    "\n",
    "\n",
    "# Create a dataframe from the list\n",
    "\n",
    "columns = ['Date', 'Conference', 'Game_Notes', 'Home_Team', 'Home_Team_Link', 'Home_Score', 'Away_Team', 'Away_Team_Link', 'Away_Score', 'OT', 'Box_Link', 'Metrics_Link']\n",
    "df = pd.DataFrame(data, columns=columns)\n",
    "            \n",
    "## Extract the day of the week from the date and save in new column\n",
    "df['Day'] = pd.to_datetime(df['Date']).dt.day_name()\n",
    "# remove day of the week from date\n",
    "# format data column as YYYY-MM-DD\n",
    "df['Date'] = pd.to_datetime(df['Date']).dt.strftime('%Y-%m-%d')\n",
    "\n",
    "### Create a new column for the game ID\n",
    "## Game ID will be a combination of the date and abbreviated team names\n",
    "\n",
    "# Function to abbreviate the team names\n",
    "for row in df.itertuples():\n",
    "    home_team = row.Home_Team\n",
    "    away_team = row.Away_Team\n",
    "    home_team_abbr = home_team.split(' ')[-1]\n",
    "    away_team_abbr = away_team.split(' ')[-1]\n",
    "    game_id = f'{row.Date}_{home_team_abbr}_{away_team_abbr}'\n",
    "    df.loc[row.Index, 'Game_ID'] = game_id\n",
    "\n",
    "# Create a new column for the game ID\n",
    "df['Game_ID'] = df['Game_ID'].str.replace(',', '')\n",
    "\n",
    "# Apply the function to the DataFrame\n",
    "df['Game_ID'] = df.apply(lambda row: f'{row.Date}_{row.Home_Team}_{row.Away_Team}', axis=1)\n",
    "\n",
    "## Filter out games that have not been played yet\n",
    "df = df[df['Home_Score'] != '']\n",
    "\n",
    "# Replace Nan values in metrics column with empty string\n",
    "df['Metrics_Link'] = df['Metrics_Link'].fillna('')\n",
    "\n"
   ]
  },
  {
   "cell_type": "code",
   "execution_count": 3,
   "metadata": {},
   "outputs": [
    {
     "name": "stdout",
     "output_type": "stream",
     "text": [
      "1106\n"
     ]
    }
   ],
   "source": [
    "print(len(df))\n",
    "df.tail(10)\n",
    "\n",
    "## Save csv of just the current season results\n",
    "# df.to_csv('../TEMP/current_season.csv', index=False)\n",
    "\n",
    "# Store the dataframe as games_df\n",
    "games_df = df.copy()"
   ]
  },
  {
   "cell_type": "code",
   "execution_count": null,
   "metadata": {},
   "outputs": [],
   "source": []
  },
  {
   "cell_type": "code",
   "execution_count": 4,
   "metadata": {},
   "outputs": [],
   "source": [
    "## Functions for parsing the box score and metrics pages\n",
    "\n",
    "# Initialize logging for Error and Warning messages\n",
    "logging.basicConfig(filename='../TEMP/current_scrape.log', level=logging.INFO)\n",
    "\n",
    "#### PARSE PLAYER STATS TABLE ####\n",
    "def parse_player_summary(html_content):\n",
    "    # Initialize BeautifulSoup\n",
    "    soup = BeautifulSoup(html_content, 'html.parser')\n",
    "    \n",
    "    # Find the playersums div\n",
    "    playersums_div = soup.find('div', id='playersums')\n",
    "    if playersums_div is None:\n",
    "        return \"Player summaries div not found\"\n",
    "\n",
    "    # Initialize list to store player stats\n",
    "    player_stats = []\n",
    "\n",
    "    # Loop through each playersum div\n",
    "    for player_sum in playersums_div.find_all('div', class_='playersum'):\n",
    "        team = player_sum.find('td').text.strip()\n",
    "        \n",
    "        # Loop through table rows\n",
    "        for row in player_sum.find_all('tr'):\n",
    "            cols = row.find_all('td')\n",
    "            if len(cols) > 1:\n",
    "                player = cols[0].text.strip()\n",
    "                goals = cols[1].text.strip()\n",
    "                assists = cols[2].text.strip()\n",
    "                points = cols[3].text.strip()\n",
    "                plus_minus = cols[4].text.strip()\n",
    "                shots = cols[5].text.strip()\n",
    "                pim = cols[6].text.strip()\n",
    "                fowl = cols[7].text.strip() if len(cols) > 7 else None\n",
    "                \n",
    "                fow, fol = None, None\n",
    "                win_percentage = None\n",
    "                \n",
    "                \n",
    "\n",
    "                try:\n",
    "                    if fowl and '‑' in fowl:  # Checking if it contains a hyphen\n",
    "                        fow, fol = map(int, fowl.split('‑'))\n",
    "                        total_fo = fow + fol\n",
    "                        win_percentage = (fow / total_fo) * 100 if total_fo > 0 else 0\n",
    "                except ValueError:\n",
    "                    fow, fol, win_percentage = None, None, None\n",
    "\n",
    "                \n",
    "\n",
    "                \n",
    "                player_stat = {\n",
    "                    'Team': team,\n",
    "                    'Player': player,\n",
    "                    'G': goals,\n",
    "                    'A': assists,\n",
    "                    'Pt.': points,\n",
    "                    '+/-': plus_minus,\n",
    "                    'Sh': shots,\n",
    "                    'PIM': pim,\n",
    "                    'FOW': fow,\n",
    "                    'FOL': fol,\n",
    "                    'FO%': win_percentage\n",
    "                }\n",
    "                player_stats.append(player_stat)\n",
    "\n",
    "    return pd.DataFrame(player_stats)\n",
    "\n",
    "\n",
    "############# PARSEING SCORING SUMMARY WITH BS4\n",
    "\n",
    "def parse_scoring_summary(html_content):\n",
    "    # Initialize BeautifulSoup\n",
    "    soup = BeautifulSoup(html_content, 'html.parser')\n",
    "\n",
    "    # Find the scoring div and table\n",
    "    scoring_div = soup.find('div', id='scoring')\n",
    "    if scoring_div is None:\n",
    "        logging.error(\"Scoring div not found\")\n",
    "        return None\n",
    "\n",
    "    scoring_table = scoring_div.find('table')\n",
    "    if scoring_table is None:\n",
    "        logging.error(\"Scoring table not found within the scoring div\")\n",
    "        return None\n",
    "\n",
    "    # Initialize list to store scoring events\n",
    "    scoring_events = []\n",
    "    period = None\n",
    "\n",
    "    # Loop through table rows\n",
    "    for row in scoring_table.find_all('tr'):\n",
    "        if 'stats-section' in row.get('class', []):\n",
    "            td = row.find('td')\n",
    "            if td:\n",
    "                period = td.text.strip()\n",
    "            else:\n",
    "                logging.warning(\"Period name not found in 'stats-section' row\")\n",
    "                period = \"Unknown\"\n",
    "        else:\n",
    "            cols = row.find_all('td')\n",
    "            if len(cols) > 1:\n",
    "                try:\n",
    "                    team = cols[0].text.strip()\n",
    "                    pp = cols[1].text.strip()\n",
    "\n",
    "                    player_data = cols[3].text.strip()\n",
    "                    match = re.match(r\"(.+)\\s\\((\\d+)\\)\", player_data)\n",
    "                    player = match.group(1) if match else player_data\n",
    "                    goals = int(match.group(2)) if match else None\n",
    "\n",
    "                    assist_data_raw = cols[4].text.strip()\n",
    "                    assist_data = assist_data_raw.split(\", \") if assist_data_raw else []\n",
    "                    assist1 = assist_data[0] if len(assist_data) > 0 else None\n",
    "                    assist2 = assist_data[1] if len(assist_data) > 1 else None\n",
    "\n",
    "                    time = cols[5].text.strip()\n",
    "\n",
    "                    scoring_event = {\n",
    "                        'Period': period,\n",
    "                        'Team': team,\n",
    "                        'PP': pp,\n",
    "                        'Player': player,\n",
    "                        'Player_Goals': goals,\n",
    "                        'Assist1': assist1,\n",
    "                        'Assist2': assist2,\n",
    "                        'Time': time\n",
    "                    }\n",
    "                    scoring_events.append(scoring_event)\n",
    "                except Exception as e:\n",
    "                    logging.error(f\"An error occurred while parsing a scoring event row: {e}\")\n",
    "            else:\n",
    "                logging.warning(f\"Insufficient columns in scoring row: {len(cols)}\")\n",
    "\n",
    "    return pd.DataFrame(scoring_events)\n",
    "\n",
    "\n",
    "############# PARSEING PENALTY SUMMARY WITH BS4\n",
    "\n",
    "def parse_penalty_summary(html_content):\n",
    "    # Initialize BeautifulSoup\n",
    "    soup = BeautifulSoup(html_content, 'html.parser')\n",
    "\n",
    "    # Find the penalties div and table\n",
    "    penalties_div = soup.find('div', id='penalties')\n",
    "    if penalties_div is None:\n",
    "        logging.error(\"Penalties div not found\")\n",
    "        return None\n",
    "\n",
    "    penalties_table = penalties_div.find('table')\n",
    "    if penalties_table is None:\n",
    "        logging.error(\"Penalties table not found within the penalties div\")\n",
    "        return None\n",
    "\n",
    "    # Initialize list to store penalty events\n",
    "    penalty_events = []\n",
    "    period = None\n",
    "\n",
    "    # Loop through table rows\n",
    "    for row in penalties_table.find_all('tr'):\n",
    "        if 'stats-section' in row.get('class', []):\n",
    "            td = row.find('td')\n",
    "            if td:\n",
    "                period = td.text.strip()\n",
    "            else:\n",
    "                logging.warning(\"Period name not found in 'stats-section' row\")\n",
    "                period = \"Unknown\"\n",
    "        else:\n",
    "            cols = row.find_all('td')\n",
    "            if len(cols) > 1:\n",
    "                team = cols[0].text.strip()\n",
    "                player = cols[1].text.strip()\n",
    "                pen_length = cols[2].text.strip()\n",
    "                penalty_type = cols[3].text.strip()\n",
    "                time = cols[4].text.strip()\n",
    "\n",
    "                penalty_event = {\n",
    "                    'Period': period,\n",
    "                    'Team': team,\n",
    "                    'Player': player,\n",
    "                    'Pen_Length': pen_length,\n",
    "                    'Penalty_Type': penalty_type,\n",
    "                    'Time': time\n",
    "                }\n",
    "                penalty_events.append(penalty_event)\n",
    "\n",
    "    return pd.DataFrame(penalty_events)\n",
    "\n",
    "\n",
    "############# PARSEING GOALIE SUMMARY WITH BS4\n",
    "\n",
    "def parse_goalie_stats(html_content):\n",
    "    # Initialize BeautifulSoup\n",
    "    soup = BeautifulSoup(html_content, 'html.parser')\n",
    "\n",
    "    # Find the goalies div and table\n",
    "    goalies_div = soup.find('div', id='goalies')\n",
    "    if goalies_div is None:\n",
    "        logging.error(\"Goalies div not found\")\n",
    "        return None\n",
    "\n",
    "    goalies_table = goalies_div.find('table')\n",
    "    if goalies_table is None:\n",
    "        logging.error(\"Goalies table not found within the goalies div\")\n",
    "        return None\n",
    "\n",
    "    # Initialize list to store goalie stats\n",
    "    goalie_stats = []\n",
    "    team = None\n",
    "\n",
    "    # Loop through table rows\n",
    "    for row in goalies_table.find_all('tr'):\n",
    "        if 'stats-header' in row.get('class', []):\n",
    "            td = row.find('td')\n",
    "            if td:\n",
    "                team = td.text.strip()\n",
    "            else:\n",
    "                logging.warning(\"Team name not found in 'stats-header' row\")\n",
    "                team = \"Unknown\"\n",
    "        else:\n",
    "            cols = row.find_all('td')\n",
    "            if len(cols) > 1:\n",
    "                goalie = cols[0].text.strip()\n",
    "                sv = cols[1].text.strip()\n",
    "                ga = cols[2].text.strip()\n",
    "                minutes = cols[3].text.strip()\n",
    "\n",
    "                goalie_stat = {\n",
    "                    'Team': team,\n",
    "                    'Goalie': goalie,\n",
    "                    'SV': sv,\n",
    "                    'GA': ga,\n",
    "                    'Minutes': minutes\n",
    "                }\n",
    "                goalie_stats.append(goalie_stat)\n",
    "\n",
    "    return pd.DataFrame(goalie_stats)\n",
    "\n",
    "\n",
    "#### PARSE THE ADVANCED TEAM METRICS TABLES ####\n",
    "### NEW - IT WORKS IN THE NOTEBOOK BUT NOT IN THE FUNCTION\n",
    "### RETURNS WHOLE ADVANCED METRICS AS SINGLE TABLE\n",
    "####################################\n",
    "def parse_new_advanced_metrics(html_content):\n",
    "    # Parse HTML content\n",
    "    soup = BeautifulSoup(html_content, 'html.parser')\n",
    "    \n",
    "    # Find all tables with advanced metrics\n",
    "    tables = soup.find_all('table', {'class': 'sortable metrics'})\n",
    "    \n",
    "    # List to store all parsed data\n",
    "    all_data = []\n",
    "    \n",
    "    for table in tables:\n",
    "        # Extract team name from the table header\n",
    "        team_name = table.find('td').text.strip()\n",
    "        \n",
    "        # Extract headers (skipping the Player header)\n",
    "        headers = [header.text for header in table.find_all('th')][1:]\n",
    "        \n",
    "        # Prepare final column headers\n",
    "        col_names = ['Team', 'Player']\n",
    "        for header in headers:\n",
    "            col_names.append(header)\n",
    "        \n",
    "        # Extract player data\n",
    "        rows = table.find_all('tr')[2:]  # skipping the two header rows\n",
    "        for row in rows:\n",
    "            player_data = [team_name]  # start with team name\n",
    "            cells = row.find_all('td')\n",
    "            player_data.append(cells[0].text.strip())  # player name\n",
    "            for cell in cells[1:]:\n",
    "                player_data.append(cell.text.strip())\n",
    "            all_data.append(player_data)\n",
    "    \n",
    "    # Convert the list of data to a DataFrame\n",
    "    df = pd.DataFrame(all_data, columns=col_names)\n",
    "    return df\n",
    "\n",
    "# Testing the new function with the provided HTML content\n",
    "# advanced_df = parse_new_advanced_metrics(advanced_tie_game_html_content)\n",
    "# advanced_df\n",
    "\n",
    "\n",
    "######## NEWS TEST ###############  \n",
    "def parse_advanced_metrics_tables(html_content):\n",
    "    # Parse HTML content\n",
    "    soup = BeautifulSoup(html_content, 'html.parser')\n",
    "    \n",
    "    # Find all tables with advanced metrics\n",
    "    tables = soup.find_all('table', {'class': 'sortable metrics'})\n",
    "    \n",
    "    # List to store all parsed data\n",
    "    all_data = []\n",
    "    \n",
    "    for table in tables:\n",
    "        # Extract team name from the table header\n",
    "        team_name = table.find('td').text.strip()\n",
    "        \n",
    "        # Extract headers (skipping the Player header)\n",
    "        headers = [header.text for header in table.find_all('th')][1:]\n",
    "        \n",
    "        # Prepare final column headers\n",
    "        col_names = ['Team', 'Player']\n",
    "        for header in headers:\n",
    "            col_names.append(header)\n",
    "        \n",
    "        # Extract player data\n",
    "        rows = table.find_all('tr')[2:]  # skipping the two header rows\n",
    "        for row in rows:\n",
    "            player_data = [team_name]  # start with team name\n",
    "            cells = row.find_all('td')\n",
    "            player_data.append(cells[0].text.strip())  # player name\n",
    "            for cell in cells[1:]:\n",
    "                player_data.append(cell.text.strip())\n",
    "            all_data.append(player_data)\n",
    "    \n",
    "    # Convert the list of data to a DataFrame\n",
    "    df = pd.DataFrame(all_data, columns=col_names)\n",
    "    return df\n",
    "\n",
    "\n",
    "######### OLDER FUNCTION for Test ################\n",
    "# ########### UPDATED FUNCTION TO STORE TEAM NAMES IN THE DATAFRAMES\n",
    "# def parse_advanced_metrics_tables(html_content):\n",
    "#     # Initialize list to store DataFrames\n",
    "#     dfs = []\n",
    "    \n",
    "#     # Parse HTML content\n",
    "#     soup = BeautifulSoup(html_content, 'html.parser')\n",
    "    \n",
    "#     # Find all tables\n",
    "#     tables = soup.find_all('table', {'class': 'sortable metrics'})\n",
    "    \n",
    "#     for table in tables:\n",
    "#         # Extract team name\n",
    "#         team_name = table.find('td').text\n",
    "        \n",
    "#         # Initialize list to store column names and data\n",
    "#         col_names = []\n",
    "#         col_names_final = []\n",
    "#         data = []\n",
    "        \n",
    "#         # Get headers\n",
    "#         headers = table.find_all('th')\n",
    "#         for header in headers:\n",
    "#             col_names.append(header.text)\n",
    "        \n",
    "#         # Add TOTAL, EVEN STRENGTH, POWER PLAY, CLOSE to column names\n",
    "#         section_headers = ['TOTAL', 'EVEN STRENGTH', 'POWER PLAY', 'CLOSE']\n",
    "#         for col in col_names:\n",
    "#             for section in section_headers:\n",
    "#                 if col in section_headers:\n",
    "#                     temp_col = section\n",
    "#                 else:\n",
    "#                     temp_col = f\"{section}_{col}\"\n",
    "#             col_names_final.append(temp_col)\n",
    "        \n",
    "#         # Get data rows\n",
    "#         rows = table.find_all('tr')[2:]  # skip header rows\n",
    "#         for row in rows:\n",
    "#             row_data = [team_name]  # Add team name as the first element\n",
    "#             cells = row.find_all('td')\n",
    "#             for cell in cells:\n",
    "#                 row_data.append(cell.text.strip())\n",
    "#             data.append(row_data)\n",
    "        \n",
    "#         # Add \"Team\" to the column names\n",
    "#         new_names = ['Team', 'Player', 'TOTAL_Block', 'TOTAL_Miss', 'TOTAL_Saved', 'TOTAL_Goals', 'TOTAL_Total_Shots',\n",
    "#                      'EVEN_Block', 'EVEN_Miss', 'EVEN_Saved', 'EVEN_Goals', 'EVEN_Total_Shots',\n",
    "#                      'PP_Block', 'PP_Miss', 'PP_Saved', 'PP_Goals', 'PP_Total_Shots',\n",
    "#                      'CLOSE_Block', 'CLOSE_Miss', 'CLOSE_Saved', 'CLOSE_Goals', 'CLOSE_Total_Shots',\n",
    "#                      'D_Blocks', 'Faceoffs']\n",
    "\n",
    "#         # Create DataFrame and set the column names\n",
    "#         df = pd.DataFrame(data, columns=new_names)\n",
    "\n",
    "#         # Append DataFrame to list\n",
    "#         dfs.append(df)\n",
    "    \n",
    "#     return dfs\n",
    "\n",
    "\n",
    "# Complete code for parsing the line chart information with specific positions for forwards and defensemen.\n",
    "\n",
    "\n",
    "def parse_line_chart(html_content):\n",
    "    soup = BeautifulSoup(html_content, 'html.parser')\n",
    "    line_chart_div = soup.find('div', id='linechart')\n",
    "\n",
    "    if line_chart_div is None:\n",
    "        logging.error(\"Line chart div not found\")\n",
    "        return pd.DataFrame()\n",
    "\n",
    "    line_data = []\n",
    "\n",
    "    for team_div in line_chart_div.find_all('div', recursive=False):\n",
    "        h3 = team_div.find('h3')\n",
    "        if h3 is None:\n",
    "            logging.warning(\"Team name not found\")\n",
    "            continue\n",
    "        \n",
    "        team_name = h3.text.strip()\n",
    "        \n",
    "        for line_type_div in team_div.find_all('div', recursive=False):\n",
    "            line_type = line_type_div.get('class')[0] if line_type_div.get('class') else None\n",
    "            if line_type is None:\n",
    "                logging.warning(\"Line type not found\")\n",
    "                continue\n",
    "            \n",
    "            if line_type == 'f':\n",
    "                position_types = ['Left Wing', 'Center', 'Right Wing']\n",
    "            elif line_type == 'd':\n",
    "                position_types = ['Left D', 'Right D']\n",
    "            elif line_type == 'x':\n",
    "                position_types = ['Extra']\n",
    "            elif line_type == 'g':\n",
    "                position_types = ['Goalie']\n",
    "                goalie_count = 1  # Initialize goalie count\n",
    "            else:\n",
    "                continue\n",
    "\n",
    "            players = line_type_div.find_all('div')\n",
    "            if not players:\n",
    "                logging.warning(f\"No players found for {team_name} in {line_type}\")\n",
    "                continue\n",
    "            \n",
    "            for i, player in enumerate(players):\n",
    "                player_name = player.text.strip()\n",
    "                if line_type == 'x':\n",
    "                    player_name = player_name.split(' ')[0]\n",
    "                if line_type == 'g':\n",
    "                    line_number = f\"Goalie {goalie_count}\"\n",
    "                    goalie_count += 1\n",
    "                else:\n",
    "                    line_number = i // len(position_types) + 1\n",
    "\n",
    "                position = position_types[i % len(position_types)]\n",
    "                line_data.append({\n",
    "                    'Team': team_name,\n",
    "                    'Line': line_number,\n",
    "                    'Position': position,\n",
    "                    'Player': player_name\n",
    "                })\n",
    "\n",
    "    if not line_data:\n",
    "        logging.error(\"No line data was collected\")\n",
    "\n",
    "    df = pd.DataFrame(line_data)\n",
    "    \n",
    "    # # Log DataFrame info for debugging\n",
    "    # if df.empty:\n",
    "    #     logging.warning(\"Generated line chart DataFrame is empty.\")\n",
    "    # else:\n",
    "    #     logging.info(f\"Generated line chart DataFrame with columns: {df.columns.tolist()}\")\n",
    "\n",
    "    return df\n",
    "\n",
    "### Get the Linescore Elements - Score, shots, ect by period####\n",
    "### UPDATED \n",
    "\n",
    "def parse_linescore(html_content):\n",
    "    soup = BeautifulSoup(html_content, 'html.parser')\n",
    "    linescore_data = []\n",
    "    \n",
    "    # Parsing the Goals table\n",
    "    goals_table = soup.select_one(\"#goals table\")\n",
    "    if goals_table is None:\n",
    "        logging.error(\"Goals table not found\")\n",
    "        return None\n",
    "    \n",
    "    rows = goals_table.select('tbody tr')\n",
    "    if not rows:\n",
    "        logging.warning(\"No rows found in Goals table\")\n",
    "        return None\n",
    "    \n",
    "    for row in rows:\n",
    "        team_data = {}\n",
    "        td = row.select_one('td')\n",
    "        if td:\n",
    "            team_data['Team'] = td.text\n",
    "        else:\n",
    "            logging.warning(\"Team name not found in Goals table\")\n",
    "            continue\n",
    "\n",
    "        goals = row.select('td')[1:]\n",
    "        for i, goal in enumerate(goals):\n",
    "            period = i + 1\n",
    "            column_name = f'goals{period}' if i < len(goals) - 1 else 'goalsT'\n",
    "            team_data[column_name] = int(goal.text)\n",
    "        \n",
    "        linescore_data.append(team_data)\n",
    "    \n",
    "\n",
    "    # Parsing the Shots table\n",
    "    shots_table = soup.select_one(\"#shots table\")\n",
    "    if shots_table is None:\n",
    "        logging.error(\"Shots table not found\")\n",
    "        return None\n",
    "\n",
    "    rows = shots_table.select('tbody tr')\n",
    "    if not rows:\n",
    "        logging.warning(\"No rows found in Shots table\")\n",
    "        return None\n",
    "\n",
    "    for i, row in enumerate(rows):\n",
    "        shots = row.select('td')[1:]\n",
    "        if not shots:\n",
    "            logging.warning(f\"No shot data found for row {i+1} in Shots table\")\n",
    "            continue\n",
    "\n",
    "        for j, shot in enumerate(shots):\n",
    "            period = j + 1\n",
    "            column_name = f'shots{period}' if j < len(shots) - 1 else 'shotsT'\n",
    "            try:\n",
    "                linescore_data[i][column_name] = int(shot.text.strip())\n",
    "            except ValueError:\n",
    "                logging.warning(f\"Could not convert shot data to integer for row {i+1}, column {j+1}\")\n",
    "                linescore_data[i][column_name] = None\n",
    "\n",
    "    # Parsing the PP table\n",
    "    pp_table = soup.select_one(\"#pp table\")\n",
    "    if pp_table is None:\n",
    "        logging.error(\"PP table not found\")\n",
    "        return None\n",
    "\n",
    "    rows = pp_table.select('tbody tr')\n",
    "    if not rows:\n",
    "        logging.warning(\"No rows found in PP table\")\n",
    "        return None\n",
    "\n",
    "    for i, row in enumerate(rows):\n",
    "        try:\n",
    "            pen_pim = row.select('td')[1].text.split('‑')\n",
    "            linescore_data[i]['Pen'] = int(pen_pim[0])\n",
    "            linescore_data[i]['PIM'] = int(pen_pim[1])\n",
    "\n",
    "            ppg_ppo = row.select('td')[2].text.split('‑')\n",
    "            linescore_data[i]['PPG'] = int(ppg_ppo[0])\n",
    "            linescore_data[i]['PPO'] = int(ppg_ppo[1])\n",
    "\n",
    "            fow_fol = row.select('td')[3].text.split('‑')\n",
    "            linescore_data[i]['FOW'] = int(fow_fol[0])\n",
    "            linescore_data[i]['FOL'] = int(fow_fol[1])\n",
    "            linescore_data[i]['FOW%'] = (linescore_data[i]['FOW'] / (linescore_data[i]['FOW'] + linescore_data[i]['FOL'])) * 100\n",
    "\n",
    "        except (ValueError, IndexError) as e:\n",
    "            logging.warning(f\"Could not process PP data for row {i+1}. Error: {e}\")\n",
    "            continue\n",
    "\n",
    "    # Convert to DataFrame early\n",
    "    df = pd.DataFrame(linescore_data)\n",
    "\n",
    "    # Ensure all columns exist\n",
    "    expected_goals_columns = [f'goals{i}' for i in range(1, 5)] + ['goalsT']\n",
    "    expected_shots_columns = [f'shots{i}' for i in range(1, 5)] + ['shotsT']\n",
    "\n",
    "    for col in expected_goals_columns + expected_shots_columns:\n",
    "        if col not in df.columns:\n",
    "            df[col] = 0\n",
    "\n",
    "    # Return the final DataFrame\n",
    "    return df\n",
    "\n",
    "\n",
    "# ############################## ORIGINAL FUNCTION #########################################\n",
    "# def parse_linescore(html_content):\n",
    "#     soup = BeautifulSoup(html_content, 'html.parser')\n",
    "#     linescore_data = []\n",
    "    \n",
    "#     # Parsing the Goals table\n",
    "#     goals_table = soup.select_one(\"#goals table\")\n",
    "#     if goals_table is None:\n",
    "#         logging.error(\"Goals table not found\")\n",
    "#         return None\n",
    "    \n",
    "#     rows = goals_table.select('tbody tr')\n",
    "#     if not rows:\n",
    "#         logging.warning(\"No rows found in Goals table\")\n",
    "#         return None\n",
    "    \n",
    "#     for row in rows:\n",
    "#         team_data = {}\n",
    "#         td = row.select_one('td')\n",
    "#         if td:\n",
    "#             team_data['Team'] = td.text\n",
    "#         else:\n",
    "#             logging.warning(\"Team name not found in Goals table\")\n",
    "#             continue\n",
    "\n",
    "#         goals = row.select('td')[1:]\n",
    "#         for i, goal in enumerate(goals):\n",
    "#             period = i + 1\n",
    "#             column_name = f'goals{period}' if i < len(goals) - 1 else 'goalsT'\n",
    "#             team_data[column_name] = int(goal.text)\n",
    "        \n",
    "#         linescore_data.append(team_data)\n",
    "    \n",
    "\n",
    "#     # Parsing the Shots table\n",
    "#     shots_table = soup.select_one(\"#shots table\")\n",
    "#     if shots_table is None:\n",
    "#         logging.error(\"Shots table not found\")\n",
    "#         return None\n",
    "\n",
    "#     rows = shots_table.select('tbody tr')\n",
    "#     if not rows:\n",
    "#         logging.warning(\"No rows found in Shots table\")\n",
    "#         return None\n",
    "\n",
    "#     for i, row in enumerate(rows):\n",
    "#         shots = row.select('td')[1:]\n",
    "#         if not shots:\n",
    "#             logging.warning(f\"No shot data found for row {i+1} in Shots table\")\n",
    "#             continue\n",
    "\n",
    "#         for j, shot in enumerate(shots):\n",
    "#             period = j + 1\n",
    "#             column_name = f'shots{period}' if j < len(shots) - 1 else 'shotsT'\n",
    "#             try:\n",
    "#                 linescore_data[i][column_name] = int(shot.text.strip())\n",
    "#             except ValueError:\n",
    "#                 logging.warning(f\"Could not convert shot data to integer for row {i+1}, column {j+1}\")\n",
    "#                 linescore_data[i][column_name] = None\n",
    "\n",
    "#     # Parsing the PP table\n",
    "#     pp_table = soup.select_one(\"#pp table\")\n",
    "#     if pp_table is None:\n",
    "#         logging.error(\"PP table not found\")\n",
    "#         return None\n",
    "\n",
    "#     rows = pp_table.select('tbody tr')\n",
    "#     if not rows:\n",
    "#         logging.warning(\"No rows found in PP table\")\n",
    "#         return None\n",
    "\n",
    "#     for i, row in enumerate(rows):\n",
    "#         try:\n",
    "#             pen_pim = row.select('td')[1].text.split('‑')\n",
    "#             linescore_data[i]['Pen'] = int(pen_pim[0])\n",
    "#             linescore_data[i]['PIM'] = int(pen_pim[1])\n",
    "\n",
    "#             ppg_ppo = row.select('td')[2].text.split('‑')\n",
    "#             linescore_data[i]['PPG'] = int(ppg_ppo[0])\n",
    "#             linescore_data[i]['PPO'] = int(ppg_ppo[1])\n",
    "\n",
    "#             fow_fol = row.select('td')[3].text.split('‑')\n",
    "#             linescore_data[i]['FOW'] = int(fow_fol[0])\n",
    "#             linescore_data[i]['FOL'] = int(fow_fol[1])\n",
    "#             linescore_data[i]['FOW%'] = (linescore_data[i]['FOW'] / (linescore_data[i]['FOW'] + linescore_data[i]['FOL'])) * 100\n",
    "\n",
    "#         except (ValueError, IndexError) as e:\n",
    "#             logging.warning(f\"Could not process PP data for row {i+1}. Error: {e}\")\n",
    "#             continue\n",
    "\n",
    "#     return pd.DataFrame(linescore_data)\n",
    "\n",
    "\n",
    "\n",
    "# Function to parse game details\n",
    "\n",
    "\n",
    "def parse_game_details(html_content):\n",
    "    soup = BeautifulSoup(html_content, 'html.parser')\n",
    "    meta_div = soup.find('div', {'id': 'meta'})\n",
    "    if meta_div is None:\n",
    "        logging.error(\"Meta div not found\")\n",
    "        return None\n",
    "    \n",
    "    game_details_div = meta_div.find_all('div')[-1]\n",
    "    if game_details_div is None:\n",
    "        logging.error(\"Game details div not found\")\n",
    "        return None\n",
    "    \n",
    "    try:\n",
    "        date_str = game_details_div.h4.string\n",
    "        day_of_week, date = date_str.split(\", \", 1)\n",
    "        \n",
    "        p_elements = game_details_div.find_all('p')\n",
    "        \n",
    "        # Extract conference and location details\n",
    "        for p in p_elements:\n",
    "            if \"Game\" in p.text:  # e.g., \"Big Ten Game\"\n",
    "                details_strs = p.get_text(separator='|').split('|')\n",
    "                conference = details_strs[0]\n",
    "                location = details_strs[-1].split('at ')[-1]\n",
    "                break\n",
    "        else:  # Defaults if not found\n",
    "            conference, location = None, None\n",
    "        \n",
    "        # Extract referees and assistant referees details\n",
    "        for p in p_elements:\n",
    "            if \"Referees\" in p.text:\n",
    "                refs_str = p.strong.next_sibling if p.strong else None\n",
    "                asst_refs_str = p.find_all('strong')[1].next_sibling if len(p.find_all('strong')) > 1 else None\n",
    "                break\n",
    "        else:  # Defaults if not found\n",
    "            refs_str, asst_refs_str = None, None\n",
    "        \n",
    "        refs = refs_str.split(', ') if refs_str else []\n",
    "        asst_refs = asst_refs_str.split(', ') if asst_refs_str else []\n",
    "        refs = [re.sub(r'[^a-zA-Z ]+', '', ref).strip() for ref in refs]\n",
    "        asst_refs = [re.sub(r'[^a-zA-Z ]+', '', ref).strip() for ref in asst_refs]\n",
    "        \n",
    "        # Extract attendance details using regex for better accuracy\n",
    "        attendance_pattern = r\"Attendance:\\s?(\\d+[\\d,]*)\"\n",
    "        attendance_match = re.search(attendance_pattern, html_content)\n",
    "        attendance = int(attendance_match.group(1).replace(',', '')) if attendance_match else None\n",
    "        \n",
    "        # Extract game details (like shootout results)\n",
    "        details = None\n",
    "        for p in p_elements:\n",
    "            if \"shootout\" in p.text:\n",
    "                details = p.text\n",
    "                break\n",
    "        \n",
    "        # Clean details if present\n",
    "        if details and '\\n' in details:\n",
    "            details = details.replace('\\n', '').strip()\n",
    "        if details and '\\t' in details:\n",
    "            details = re.sub('\\t', ' ', details)\n",
    "        \n",
    "        game_details = {\n",
    "            'Day': day_of_week,\n",
    "            'Date': date,\n",
    "            'Conference': conference,\n",
    "            'Details': details,\n",
    "            'Location': location,\n",
    "            'Ref1': refs[0] if refs else None,\n",
    "            'Ref2': refs[1] if len(refs) > 1 else None,\n",
    "            'Asst_Ref1': asst_refs[0] if asst_refs else None,\n",
    "            'Asst_Ref2': asst_refs[1] if len(asst_refs) > 1 else None,\n",
    "            'Attendance': attendance\n",
    "        }\n",
    "        \n",
    "        game_details_df = pd.DataFrame([game_details])\n",
    "        return game_details_df\n",
    "\n",
    "    except (AttributeError, IndexError, ValueError) as e:\n",
    "        logging.error(f\"Error while parsing game details: {e}\")\n",
    "        return None\n",
    "\n",
    "\n",
    "def parse_box_score(box_score_html):\n",
    "    # Initialize DataFrames to None\n",
    "    scoring_summary = penalty_summary = goalie_stats = player_stats = line_chart = linescore = game_details = None\n",
    "    \n",
    "    try:\n",
    "        scoring_summary = parse_scoring_summary(box_score_html)\n",
    "    except Exception as e:\n",
    "        print(f\"Error in parse_scoring_summary: {e}\")\n",
    "    \n",
    "    try:\n",
    "        penalty_summary = parse_penalty_summary(box_score_html)\n",
    "    except Exception as e:\n",
    "        print(f\"Error in parse_penalty_summary: {e}\")\n",
    "    \n",
    "    try:\n",
    "        goalie_stats = parse_goalie_stats(box_score_html)\n",
    "    except Exception as e:\n",
    "        print(f\"Error in parse_goalie_stats: {e}\")\n",
    "    \n",
    "    try:\n",
    "        player_stats = parse_player_summary(box_score_html)\n",
    "    except Exception as e:\n",
    "        print(f\"Error in parse_player_summary: {e}\")\n",
    "    \n",
    "    try:\n",
    "        line_chart = parse_line_chart(box_score_html)\n",
    "        if line_chart.empty:\n",
    "            logging.info(\"Line chart is empty. Skipping the insert for this game.\")\n",
    "        else:\n",
    "            logging.info(f\"Line chart DataFrame structure: {line_chart.dtypes}\")\n",
    "\n",
    "        # Insert into database (make sure this part works as expected)\n",
    "\n",
    "    except Exception as e:\n",
    "        logging.error(f\"Error in parse_line_chart: {e}\")\n",
    "\n",
    "\n",
    "    \n",
    "    try:\n",
    "        linescore = parse_linescore(box_score_html)\n",
    "    except Exception as e:\n",
    "        print(f\"Error in parse_linescore: {e}\")\n",
    "    \n",
    "    try:\n",
    "        game_details = parse_game_details(box_score_html)\n",
    "    except Exception as e:\n",
    "        print(f\"Error in parse_game_details: {e}\")\n",
    "    \n",
    "    # Combine DataFrames into a list\n",
    "    all_dfs = [game_details, scoring_summary, penalty_summary, goalie_stats, player_stats, line_chart, linescore]\n",
    "    \n",
    "    return all_dfs\n",
    "\n",
    "\n",
    "def rename_duplicate_columns(df):\n",
    "    cols = pd.Series(df.columns)\n",
    "    for dup in df.columns[df.columns.duplicated()].unique(): \n",
    "        cols[df.columns.get_loc(dup)] = [f\"{dup}_{i}\" if i != 0 else dup for i in range(df.columns.get_loc(dup).sum())]\n",
    "    df.columns = cols\n",
    "    return df\n",
    "\n",
    "\n",
    "\n",
    "\n",
    "# Function to save DataFrames to SQLite database\n",
    "import sqlite3\n",
    "from sqlalchemy import create_engine\n",
    "\n",
    "# Modified Function to save DataFrames to SQLite database\n",
    "def save_to_sqlite_db(df_list, table_names, tag=''):\n",
    "    db_name = f\"../TEMP/{FILE_TAG}_Game_Stats.db\"\n",
    "    engine = create_engine(f'sqlite:///{db_name}')\n",
    "    \n",
    "    for df, table in zip(df_list, table_names):\n",
    "        try:\n",
    "            df = rename_duplicate_columns(df)\n",
    "            df.to_sql(table, engine, if_exists='append', index=False)\n",
    "        except Exception as e:\n",
    "            print(f\"Error saving to table {table}: {e}\")\n",
    "\n",
    "############# OLDER FUNCTION ################\n",
    "# def save_to_sqlite_db(df_list, table_names, tag=''):\n",
    "#     db_name = f\"../TEMP/NEWEST_Scrape_Game_Stats.db\"  # Create DB file name using the TAG\n",
    "#     engine = create_engine(f'sqlite:///{db_name}')\n",
    "    \n",
    "#     for df, table in zip(df_list, table_names):\n",
    "#         # Assuming rename_duplicate_columns is a function you've defined earlier\n",
    "#         df = rename_duplicate_columns(df)\n",
    "#         df.to_sql(table, engine, if_exists='append', index=False)\n",
    "\n",
    "# Function to fetch and save data\n",
    "# Modified Function to fetch and save data\n",
    "def fetch_and_save_data_to_db(box_score_url, advanced_metrics_url, tag=f'{tag}'):  # Added tag parameter\n",
    "    db_name = f\"{tag} CHN Data.db\"  # Create DB name using the TAG\n",
    "    # Fetch HTML content for box score\n",
    "    box_score_response = requests.get(box_score_url)\n",
    "    box_score_html = box_score_response.text\n",
    "    \n",
    "    # Fetch HTML content for advanced metrics\n",
    "    advanced_metrics_response = requests.get(advanced_metrics_url)\n",
    "    advanced_metrics_html = advanced_metrics_response.text\n",
    "    \n",
    "    # Parse box score into list of DataFrames\n",
    "    box_score_dfs = parse_box_score(box_score_html)\n",
    "    \n",
    "    # Parse advanced metrics into list of DataFrames\n",
    "    advanced_metrics_df = parse_advanced_metrics_tables(advanced_metrics_html)\n",
    "    advanced_metrics_dfs = [advanced_metrics_df]\n",
    "    \n",
    "    # Combine all DataFrames into a list\n",
    "    all_dfs = box_score_dfs + advanced_metrics_dfs\n",
    "    \n",
    "    # Define table names for these DataFrames\n",
    "    table_names = ['game_details', 'scoring_summary', 'penalty_summary', \n",
    "                    'goalie_stats', 'player_stats', 'line_chart', 'linescore',\n",
    "                    'advanced_metrics']\n",
    "\n",
    "\n",
    "    # if len(all_dfs) != len(table_names):\n",
    "    #     raise ValueError(\"Mismatch between number of DataFrames and table names!\")\n",
    "\n",
    "    # Diagnostic Step 1: Print the number of DataFrames and table names\n",
    "    # print(f\"Number of DataFrames: {len(all_dfs)}\")\n",
    "    # print(f\"Number of table names: {len(table_names)}\")\n",
    "\n",
    "    # Diagnostic Step 2: Print the names of the columns for each DataFrame\n",
    "    # for df in all_dfs:\n",
    "    #     print(df.columns.tolist())\n",
    "\n",
    "\n",
    "    # Create a game_id for the game and apply it to all dataframes\n",
    "    # Game ID YYYMMDD-HomeTeam-AwayTeam\n",
    "    for df in all_dfs:\n",
    "        df['Game_ID'] = game_id\n",
    "\n",
    "        # Diagnostic check\n",
    "    if len(all_dfs) != len(table_names):\n",
    "        print(f\"Mismatch detected!\")\n",
    "        print(f\"box_score_url: {box_score_url}\")\n",
    "        print(f\"advanced_metrics_url: {advanced_metrics_url}\")\n",
    "    \n",
    "    # Save DataFrames to SQLite database\n",
    "    save_to_sqlite_db(all_dfs, table_names, tag)  # Pass the tag here\n",
    "    \n",
    "    return all_dfs\n"
   ]
  },
  {
   "cell_type": "code",
   "execution_count": 5,
   "metadata": {},
   "outputs": [],
   "source": [
    "# # Example usage:\n",
    "# TAG = \"NEW2022-2023\"\n",
    "# save_to_sqlite_db(df_list, table_names, TAG)\n",
    "# fetch_and_save_data_to_db(box_score_url, advanced_metrics_url, TAG)"
   ]
  },
  {
   "cell_type": "code",
   "execution_count": 6,
   "metadata": {},
   "outputs": [
    {
     "name": "stderr",
     "output_type": "stream",
     "text": [
      "Scraping games:   2%|▏         | 26/1106 [01:10<50:56,  2.83s/it]"
     ]
    },
    {
     "name": "stdout",
     "output_type": "stream",
     "text": [
      "Error saving to table line_chart: (sqlite3.OperationalError) table line_chart has no column named Team\n",
      "[SQL: INSERT INTO line_chart (\"Team\", \"Line\", \"Position\", \"Player\", \"Game_ID\") VALUES (?, ?, ?, ?, ?)]\n",
      "[parameters: [('Boston College', 1, 'Left Wing', 'Brandon Kruse', '2021-10-08-Boston College-Quinnipiac'), ('Boston College', 1, 'Center', 'Jack McBain', '2021-10-08-Boston College-Quinnipiac'), ('Boston College', 1, 'Right Wing', 'Colby Ambrosio', '2021-10-08-Boston College-Quinnipiac'), ('Boston College', 2, 'Left Wing', 'Trevor Kuntar', '2021-10-08-Boston College-Quinnipiac'), ('Boston College', 2, 'Center', 'Marc McLaughlin', '2021-10-08-Boston College-Quinnipiac'), ('Boston College', 2, 'Right Wing', 'Nikita Nesterenko', '2021-10-08-Boston College-Quinnipiac'), ('Boston College', 3, 'Left Wing', 'Mike Posma', '2021-10-08-Boston College-Quinnipiac'), ('Boston College', 3, 'Center', 'Patrick Giles', '2021-10-08-Boston College-Quinnipiac')  ... displaying 10 of 42 total bound parameter sets ...  ('Quinnipiac', 'Goalie 1', 'Goalie', 'Yaniv Perets', '2021-10-08-Boston College-Quinnipiac'), ('Quinnipiac', 'Goalie 2', 'Goalie', 'Noah Altman', '2021-10-08-Boston College-Quinnipiac')]]\n",
      "(Background on this error at: https://sqlalche.me/e/20/e3q8)\n"
     ]
    },
    {
     "name": "stderr",
     "output_type": "stream",
     "text": [
      "Scraping games:   2%|▏         | 27/1106 [01:13<50:46,  2.82s/it]"
     ]
    },
    {
     "name": "stdout",
     "output_type": "stream",
     "text": [
      "Error saving to table line_chart: (sqlite3.OperationalError) table line_chart has no column named Team\n",
      "[SQL: INSERT INTO line_chart (\"Team\", \"Line\", \"Position\", \"Player\", \"Game_ID\") VALUES (?, ?, ?, ?, ?)]\n",
      "[parameters: [('Holy Cross', 1, 'Left Wing', 'Jack Ricketts', '2021-10-08-Holy Cross-Northeastern'), ('Holy Cross', 1, 'Center', 'Matt Guerra', '2021-10-08-Holy Cross-Northeastern'), ('Holy Cross', 1, 'Right Wing', 'Alex Peterson', '2021-10-08-Holy Cross-Northeastern'), ('Holy Cross', 2, 'Left Wing', 'Tyler Ghirardosi', '2021-10-08-Holy Cross-Northeastern'), ('Holy Cross', 2, 'Center', 'Ryan Leibold', '2021-10-08-Holy Cross-Northeastern'), ('Holy Cross', 2, 'Right Wing', 'Anthony Vincent', '2021-10-08-Holy Cross-Northeastern'), ('Holy Cross', 3, 'Left Wing', 'Lucas Thorne', '2021-10-08-Holy Cross-Northeastern'), ('Holy Cross', 3, 'Center', 'Daniel Colabufo', '2021-10-08-Holy Cross-Northeastern')  ... displaying 10 of 44 total bound parameter sets ...  ('Northeastern', 'Goalie 2', 'Goalie', 'Devon Levi', '2021-10-08-Holy Cross-Northeastern'), ('Northeastern', 'Goalie 3', 'Goalie', 'TJ Semptimphelter', '2021-10-08-Holy Cross-Northeastern')]]\n",
      "(Background on this error at: https://sqlalche.me/e/20/e3q8)\n"
     ]
    },
    {
     "name": "stderr",
     "output_type": "stream",
     "text": [
      "Scraping games:   3%|▎         | 30/1106 [01:21<49:50,  2.78s/it]"
     ]
    },
    {
     "name": "stdout",
     "output_type": "stream",
     "text": [
      "Error saving to table line_chart: (sqlite3.OperationalError) table line_chart has no column named Team\n",
      "[SQL: INSERT INTO line_chart (\"Team\", \"Line\", \"Position\", \"Player\", \"Game_ID\") VALUES (?, ?, ?, ?, ?)]\n",
      "[parameters: [('Bowling Green', 1, 'Left Wing', 'Sam Craggs', '2021-10-08-Bowling Green-Rensselaer'), ('Bowling Green', 1, 'Center', 'Taylor Schneider', '2021-10-08-Bowling Green-Rensselaer'), ('Bowling Green', 1, 'Right Wing', 'Evan Dougherty', '2021-10-08-Bowling Green-Rensselaer'), ('Bowling Green', 2, 'Left Wing', 'Nathan Burke', '2021-10-08-Bowling Green-Rensselaer'), ('Bowling Green', 2, 'Center', 'Austen Swankler', '2021-10-08-Bowling Green-Rensselaer'), ('Bowling Green', 2, 'Right Wing', 'Alex Barber', '2021-10-08-Bowling Green-Rensselaer'), ('Bowling Green', 3, 'Left Wing', 'Coale Norris', '2021-10-08-Bowling Green-Rensselaer'), ('Bowling Green', 3, 'Center', 'Ethan Scardina', '2021-10-08-Bowling Green-Rensselaer')  ... displaying 10 of 45 total bound parameter sets ...  ('Rensselaer', 'Goalie 2', 'Goalie', 'Brett Miller', '2021-10-08-Bowling Green-Rensselaer'), ('Rensselaer', 'Goalie 3', 'Goalie', 'Jack Watson', '2021-10-08-Bowling Green-Rensselaer')]]\n",
      "(Background on this error at: https://sqlalche.me/e/20/e3q8)\n"
     ]
    },
    {
     "name": "stderr",
     "output_type": "stream",
     "text": [
      "Scraping games:   3%|▎         | 31/1106 [01:24<50:06,  2.80s/it]"
     ]
    },
    {
     "name": "stdout",
     "output_type": "stream",
     "text": [
      "Error saving to table line_chart: (sqlite3.OperationalError) table line_chart has no column named Team\n",
      "[SQL: INSERT INTO line_chart (\"Team\", \"Line\", \"Position\", \"Player\", \"Game_ID\") VALUES (?, ?, ?, ?, ?)]\n",
      "[parameters: [('Air Force', 1, 'Left Wing', 'Nate Horn', '2021-10-08-Air Force-Michigan State'), ('Air Force', 1, 'Center', 'Andrew DeCarlo', '2021-10-08-Air Force-Michigan State'), ('Air Force', 1, 'Right Wing', 'Willie Reim', '2021-10-08-Air Force-Michigan State'), ('Air Force', 2, 'Left Wing', 'Will Gavin', '2021-10-08-Air Force-Michigan State'), ('Air Force', 2, 'Center', 'Clayton Cosentino', '2021-10-08-Air Force-Michigan State'), ('Air Force', 2, 'Right Wing', 'Parker Brown', '2021-10-08-Air Force-Michigan State'), ('Air Force', 3, 'Left Wing', 'Brian Adams', '2021-10-08-Air Force-Michigan State'), ('Air Force', 3, 'Center', 'Lucas Coon', '2021-10-08-Air Force-Michigan State')  ... displaying 10 of 44 total bound parameter sets ...  ('Michigan State', 'Goalie 2', 'Goalie', 'Pierce Charleson', '2021-10-08-Air Force-Michigan State'), ('Michigan State', 'Goalie 3', 'Goalie', 'Jon Mor', '2021-10-08-Air Force-Michigan State')]]\n",
      "(Background on this error at: https://sqlalche.me/e/20/e3q8)\n"
     ]
    },
    {
     "name": "stderr",
     "output_type": "stream",
     "text": [
      "Scraping games:   3%|▎         | 32/1106 [01:27<50:08,  2.80s/it]"
     ]
    },
    {
     "name": "stdout",
     "output_type": "stream",
     "text": [
      "Error saving to table line_chart: (sqlite3.OperationalError) table line_chart has no column named Team\n",
      "[SQL: INSERT INTO line_chart (\"Team\", \"Line\", \"Position\", \"Player\", \"Game_ID\") VALUES (?, ?, ?, ?, ?)]\n",
      "[parameters: [('New Hampshire', 1, 'Left Wing', 'Tyler Ward', '2021-10-08-Union-New Hampshire'), ('New Hampshire', 1, 'Center', 'Jackson Pierson', '2021-10-08-Union-New Hampshire'), ('New Hampshire', 1, 'Right Wing', 'Robert Cronin', '2021-10-08-Union-New Hampshire'), ('New Hampshire', 2, 'Left Wing', 'Chase Stevenson', '2021-10-08-Union-New Hampshire'), ('New Hampshire', 2, 'Center', 'Filip Engaras', '2021-10-08-Union-New Hampshire'), ('New Hampshire', 2, 'Right Wing', 'Eric MacAdams', '2021-10-08-Union-New Hampshire'), ('New Hampshire', 3, 'Left Wing', 'Liam Devlin', '2021-10-08-Union-New Hampshire'), ('New Hampshire', 3, 'Center', 'Harrison Blaisdell', '2021-10-08-Union-New Hampshire')  ... displaying 10 of 45 total bound parameter sets ...  ('Union', 'Goalie 1', 'Goalie', 'Garrett Nieto', '2021-10-08-Union-New Hampshire'), ('Union', 'Goalie 2', 'Goalie', 'Connor Murphy', '2021-10-08-Union-New Hampshire')]]\n",
      "(Background on this error at: https://sqlalche.me/e/20/e3q8)\n"
     ]
    },
    {
     "name": "stderr",
     "output_type": "stream",
     "text": [
      "Scraping games:   3%|▎         | 33/1106 [01:29<49:39,  2.78s/it]"
     ]
    },
    {
     "name": "stdout",
     "output_type": "stream",
     "text": [
      "Error saving to table line_chart: (sqlite3.OperationalError) table line_chart has no column named Team\n",
      "[SQL: INSERT INTO line_chart (\"Team\", \"Line\", \"Position\", \"Player\", \"Game_ID\") VALUES (?, ?, ?, ?, ?)]\n",
      "[parameters: [('Ferris State', 1, 'Left Wing', 'Liam MacDougall', '2021-10-08-Ferris State-Western Michigan'), ('Ferris State', 1, 'Center', 'Dallas Tulik', '2021-10-08-Ferris State-Western Michigan'), ('Ferris State', 1, 'Right Wing', 'Marshall Moise', '2021-10-08-Ferris State-Western Michigan'), ('Ferris State', 2, 'Left Wing', 'Mitch Deelstra', '2021-10-08-Ferris State-Western Michigan'), ('Ferris State', 2, 'Center', 'Stepan Pokorny', '2021-10-08-Ferris State-Western Michigan'), ('Ferris State', 2, 'Right Wing', 'Kaleb Ergang', '2021-10-08-Ferris State-Western Michigan'), ('Ferris State', 3, 'Left Wing', 'Antonio Venuto', '2021-10-08-Ferris State-Western Michigan'), ('Ferris State', 3, 'Center', 'Jake Transit', '2021-10-08-Ferris State-Western Michigan')  ... displaying 10 of 43 total bound parameter sets ...  ('Western Michigan', 'Goalie 2', 'Goalie', 'Alex Aslanidis', '2021-10-08-Ferris State-Western Michigan'), ('Western Michigan', 'Goalie 3', 'Goalie', 'Ross Hawryluk', '2021-10-08-Ferris State-Western Michigan')]]\n",
      "(Background on this error at: https://sqlalche.me/e/20/e3q8)\n"
     ]
    },
    {
     "name": "stderr",
     "output_type": "stream",
     "text": [
      "Scraping games:   3%|▎         | 34/1106 [01:32<50:58,  2.85s/it]"
     ]
    },
    {
     "name": "stdout",
     "output_type": "stream",
     "text": [
      "Error saving to table line_chart: (sqlite3.OperationalError) table line_chart has no column named Team\n",
      "[SQL: INSERT INTO line_chart (\"Team\", \"Line\", \"Position\", \"Player\", \"Game_ID\") VALUES (?, ?, ?, ?, ?)]\n",
      "[parameters: [('Colgate', 1, 'Left Wing', 'Colton Young', '2021-10-08-Colgate-Vermont'), ('Colgate', 1, 'Center', 'Jeff Stewart', '2021-10-08-Colgate-Vermont'), ('Colgate', 1, 'Right Wing', 'Ethan Manderville', '2021-10-08-Colgate-Vermont'), ('Colgate', 2, 'Left Wing', 'Arnaud Vachon', '2021-10-08-Colgate-Vermont'), ('Colgate', 2, 'Center', 'Josh McKechney', '2021-10-08-Colgate-Vermont'), ('Colgate', 2, 'Right Wing', 'Alex Young', '2021-10-08-Colgate-Vermont'), ('Colgate', 3, 'Left Wing', 'Matt Verboon', '2021-10-08-Colgate-Vermont'), ('Colgate', 3, 'Center', 'Paul McAvoy', '2021-10-08-Colgate-Vermont')  ... displaying 10 of 44 total bound parameter sets ...  ('Vermont', 'Goalie 2', 'Goalie', 'Gabe Carriere', '2021-10-08-Colgate-Vermont'), ('Vermont', 'Goalie 3', 'Goalie', 'Cole Hudson', '2021-10-08-Colgate-Vermont')]]\n",
      "(Background on this error at: https://sqlalche.me/e/20/e3q8)\n"
     ]
    },
    {
     "name": "stderr",
     "output_type": "stream",
     "text": [
      "Scraping games:   3%|▎         | 35/1106 [01:35<51:44,  2.90s/it]"
     ]
    },
    {
     "name": "stdout",
     "output_type": "stream",
     "text": [
      "Error saving to table line_chart: (sqlite3.OperationalError) table line_chart has no column named Team\n",
      "[SQL: INSERT INTO line_chart (\"Team\", \"Line\", \"Position\", \"Player\", \"Game_ID\") VALUES (?, ?, ?, ?, ?)]\n",
      "[parameters: [('Bentley', 1, 'Left Wing', 'Phil Knies', '2021-10-08-Ohio State-Bentley'), ('Bentley', 1, 'Center', 'Brendan Hamblet', '2021-10-08-Ohio State-Bentley'), ('Bentley', 1, 'Right Wing', 'Cooper Connell', '2021-10-08-Ohio State-Bentley'), ('Bentley', 2, 'Left Wing', 'Kohei Sato', '2021-10-08-Ohio State-Bentley'), ('Bentley', 2, 'Center', 'Matt Gosiewski', '2021-10-08-Ohio State-Bentley'), ('Bentley', 2, 'Right Wing', 'Eric Linell', '2021-10-08-Ohio State-Bentley'), ('Bentley', 3, 'Left Wing', 'Brendan Walkom', '2021-10-08-Ohio State-Bentley'), ('Bentley', 3, 'Center', 'Ethan Harrison', '2021-10-08-Ohio State-Bentley')  ... displaying 10 of 44 total bound parameter sets ...  ('Ohio State', 'Goalie 2', 'Goalie', 'Jakub Dobeš', '2021-10-08-Ohio State-Bentley'), ('Ohio State', 'Goalie 3', 'Goalie', 'Reilly Herbst', '2021-10-08-Ohio State-Bentley')]]\n",
      "(Background on this error at: https://sqlalche.me/e/20/e3q8)\n"
     ]
    },
    {
     "name": "stderr",
     "output_type": "stream",
     "text": [
      "Scraping games:   3%|▎         | 36/1106 [01:38<52:06,  2.92s/it]"
     ]
    },
    {
     "name": "stdout",
     "output_type": "stream",
     "text": [
      "Error saving to table line_chart: (sqlite3.OperationalError) table line_chart has no column named Team\n",
      "[SQL: INSERT INTO line_chart (\"Team\", \"Line\", \"Position\", \"Player\", \"Game_ID\") VALUES (?, ?, ?, ?, ?)]\n",
      "[parameters: [('Lake Superior', 1, 'Left Wing', 'Miroslav Mucha', '2021-10-08-Lake Superior-Michigan'), ('Lake Superior', 1, 'Center', 'Dustin Manz', '2021-10-08-Lake Superior-Michigan'), ('Lake Superior', 1, 'Right Wing', 'Josh Nixon', '2021-10-08-Lake Superior-Michigan'), ('Lake Superior', 2, 'Left Wing', 'Dawson Tritt', '2021-10-08-Lake Superior-Michigan'), ('Lake Superior', 2, 'Center', 'Louis Boudon', '2021-10-08-Lake Superior-Michigan'), ('Lake Superior', 2, 'Right Wing', 'Brandon Puricelli', '2021-10-08-Lake Superior-Michigan'), ('Lake Superior', 3, 'Left Wing', 'Logan Jenuwine', '2021-10-08-Lake Superior-Michigan'), ('Lake Superior', 3, 'Center', 'Harrison Roy', '2021-10-08-Lake Superior-Michigan')  ... displaying 10 of 44 total bound parameter sets ...  ('Michigan', 'Goalie 2', 'Goalie', 'Erik Portillo', '2021-10-08-Lake Superior-Michigan'), ('Michigan', 'Goalie 3', 'Goalie', 'Noah West', '2021-10-08-Lake Superior-Michigan')]]\n",
      "(Background on this error at: https://sqlalche.me/e/20/e3q8)\n"
     ]
    },
    {
     "name": "stderr",
     "output_type": "stream",
     "text": [
      "Scraping games:   3%|▎         | 37/1106 [01:41<51:21,  2.88s/it]"
     ]
    },
    {
     "name": "stdout",
     "output_type": "stream",
     "text": [
      "Error saving to table line_chart: (sqlite3.OperationalError) table line_chart has no column named Team\n",
      "[SQL: INSERT INTO line_chart (\"Team\", \"Line\", \"Position\", \"Player\", \"Game_ID\") VALUES (?, ?, ?, ?, ?)]\n",
      "[parameters: [('Michigan Tech', 1, 'Left Wing', 'Trenton Bliss', '2021-10-08-Michigan Tech-Wisconsin'), ('Michigan Tech', 1, 'Center', 'Arvid Caderoth', '2021-10-08-Michigan Tech-Wisconsin'), ('Michigan Tech', 1, 'Right Wing', 'Tommy Parrottino', '2021-10-08-Michigan Tech-Wisconsin'), ('Michigan Tech', 2, 'Left Wing', 'Alec Broetzman', '2021-10-08-Michigan Tech-Wisconsin'), ('Michigan Tech', 2, 'Center', 'Matthew Quercia', '2021-10-08-Michigan Tech-Wisconsin'), ('Michigan Tech', 2, 'Right Wing', 'Logan Pietila', '2021-10-08-Michigan Tech-Wisconsin'), ('Michigan Tech', 3, 'Left Wing', 'Nick Nardella', '2021-10-08-Michigan Tech-Wisconsin'), ('Michigan Tech', 3, 'Center', 'Parker Saretsky', '2021-10-08-Michigan Tech-Wisconsin')  ... displaying 10 of 42 total bound parameter sets ...  ('Wisconsin', 'Goalie 2', 'Goalie', 'Cameron Rowe', '2021-10-08-Michigan Tech-Wisconsin'), ('Wisconsin', 'Goalie 3', 'Goalie', 'Ben Garrity', '2021-10-08-Michigan Tech-Wisconsin')]]\n",
      "(Background on this error at: https://sqlalche.me/e/20/e3q8)\n"
     ]
    },
    {
     "name": "stderr",
     "output_type": "stream",
     "text": [
      "Scraping games:   3%|▎         | 38/1106 [01:44<50:30,  2.84s/it]"
     ]
    },
    {
     "name": "stdout",
     "output_type": "stream",
     "text": [
      "Error saving to table line_chart: (sqlite3.OperationalError) table line_chart has no column named Team\n",
      "[SQL: INSERT INTO line_chart (\"Team\", \"Line\", \"Position\", \"Player\", \"Game_ID\") VALUES (?, ?, ?, ?, ?)]\n",
      "[parameters: [('Mercyhurst', 1, 'Left Wing', 'Pierce Crawford', '2021-10-08-Mercyhurst-Minnesota'), ('Mercyhurst', 1, 'Center', 'Steven Ipri', '2021-10-08-Mercyhurst-Minnesota'), ('Mercyhurst', 1, 'Right Wing', 'Rylee St. Onge', '2021-10-08-Mercyhurst-Minnesota'), ('Mercyhurst', 2, 'Left Wing', 'Jonathan Bendorf', '2021-10-08-Mercyhurst-Minnesota'), ('Mercyhurst', 2, 'Center', 'Gueorgui Feduolov', '2021-10-08-Mercyhurst-Minnesota'), ('Mercyhurst', 2, 'Right Wing', 'Mickey Burns', '2021-10-08-Mercyhurst-Minnesota'), ('Mercyhurst', 3, 'Left Wing', 'Austin Heidemann', '2021-10-08-Mercyhurst-Minnesota'), ('Mercyhurst', 3, 'Center', 'Carson Briere', '2021-10-08-Mercyhurst-Minnesota')  ... displaying 10 of 43 total bound parameter sets ...  ('Minnesota', 'Goalie 2', 'Goalie', 'Justen Close', '2021-10-08-Mercyhurst-Minnesota'), ('Minnesota', 'Goalie 3', 'Goalie', 'Brennan Boynton', '2021-10-08-Mercyhurst-Minnesota')]]\n",
      "(Background on this error at: https://sqlalche.me/e/20/e3q8)\n"
     ]
    },
    {
     "name": "stderr",
     "output_type": "stream",
     "text": [
      "Scraping games:   4%|▎         | 39/1106 [01:47<50:25,  2.84s/it]"
     ]
    },
    {
     "name": "stdout",
     "output_type": "stream",
     "text": [
      "Error saving to table line_chart: (sqlite3.OperationalError) table line_chart has no column named Team\n",
      "[SQL: INSERT INTO line_chart (\"Team\", \"Line\", \"Position\", \"Player\", \"Game_ID\") VALUES (?, ?, ?, ?, ?)]\n",
      "[parameters: [('Minnesota State', 1, 'Left Wing', 'Julian Napravnik', '2021-10-08-St. Cloud State-Minnesota State'), ('Minnesota State', 1, 'Center', 'Nathan Smith', '2021-10-08-St. Cloud State-Minnesota State'), ('Minnesota State', 1, 'Right Wing', 'Cade Borchardt', '2021-10-08-St. Cloud State-Minnesota State'), ('Minnesota State', 2, 'Left Wing', 'Reggie Lutz', '2021-10-08-St. Cloud State-Minnesota State'), ('Minnesota State', 2, 'Center', 'Brendan Furry', '2021-10-08-St. Cloud State-Minnesota State'), ('Minnesota State', 2, 'Right Wing', 'Lucas Sowder', '2021-10-08-St. Cloud State-Minnesota State'), ('Minnesota State', 3, 'Left Wing', 'Josh Groll', '2021-10-08-St. Cloud State-Minnesota State'), ('Minnesota State', 3, 'Center', 'David Silye', '2021-10-08-St. Cloud State-Minnesota State')  ... displaying 10 of 44 total bound parameter sets ...  ('St. Cloud State', 'Goalie 2', 'Goalie', 'Joey Lamoreaux', '2021-10-08-St. Cloud State-Minnesota State'), ('St. Cloud State', 'Goalie 3', 'Goalie', 'Jaxon Castor', '2021-10-08-St. Cloud State-Minnesota State')]]\n",
      "(Background on this error at: https://sqlalche.me/e/20/e3q8)\n"
     ]
    },
    {
     "name": "stderr",
     "output_type": "stream",
     "text": [
      "Scraping games:   4%|▎         | 40/1106 [01:50<51:01,  2.87s/it]"
     ]
    },
    {
     "name": "stdout",
     "output_type": "stream",
     "text": [
      "Error saving to table line_chart: (sqlite3.OperationalError) table line_chart has no column named Team\n",
      "[SQL: INSERT INTO line_chart (\"Team\", \"Line\", \"Position\", \"Player\", \"Game_ID\") VALUES (?, ?, ?, ?, ?)]\n",
      "[parameters: [('Bemidji State', 1, 'Left Wing', 'Lukas Sillinger', '2021-10-08-Minnesota-Duluth-Bemidji State'), ('Bemidji State', 1, 'Center', 'Owen Sillinger', '2021-10-08-Minnesota-Duluth-Bemidji State'), ('Bemidji State', 1, 'Right Wing', 'Alex Ierullo', '2021-10-08-Minnesota-Duluth-Bemidji State'), ('Bemidji State', 2, 'Left Wing', 'Ethan Somoza', '2021-10-08-Minnesota-Duluth-Bemidji State'), ('Bemidji State', 2, 'Center', 'Ross Armour', '2021-10-08-Minnesota-Duluth-Bemidji State'), ('Bemidji State', 2, 'Right Wing', 'Eric Martin', '2021-10-08-Minnesota-Duluth-Bemidji State'), ('Bemidji State', 3, 'Left Wing', 'Jakub Lewandowski', '2021-10-08-Minnesota-Duluth-Bemidji State'), ('Bemidji State', 3, 'Center', 'Tyler Kirkup', '2021-10-08-Minnesota-Duluth-Bemidji State')  ... displaying 10 of 44 total bound parameter sets ...  ('Minnesota-Duluth', 'Goalie 2', 'Goalie', 'Ryan Fanti', '2021-10-08-Minnesota-Duluth-Bemidji State'), ('Minnesota-Duluth', 'Goalie 3', 'Goalie', 'Zach Stejskal', '2021-10-08-Minnesota-Duluth-Bemidji State')]]\n",
      "(Background on this error at: https://sqlalche.me/e/20/e3q8)\n"
     ]
    },
    {
     "name": "stderr",
     "output_type": "stream",
     "text": [
      "Scraping games:   4%|▎         | 41/1106 [01:52<50:53,  2.87s/it]"
     ]
    },
    {
     "name": "stdout",
     "output_type": "stream",
     "text": [
      "Error saving to table line_chart: (sqlite3.OperationalError) table line_chart has no column named Team\n",
      "[SQL: INSERT INTO line_chart (\"Team\", \"Line\", \"Position\", \"Player\", \"Game_ID\") VALUES (?, ?, ?, ?, ?)]\n",
      "[parameters: [('Niagara', 1, 'Left Wing', 'Walker Sommer', '2021-10-08-Niagara-North Dakota'), ('Niagara', 1, 'Center', 'Albin Nilsson', '2021-10-08-Niagara-North Dakota'), ('Niagara', 1, 'Right Wing', 'Christian Gorscak', '2021-10-08-Niagara-North Dakota'), ('Niagara', 2, 'Left Wing', 'Brandon Stanley', '2021-10-08-Niagara-North Dakota'), ('Niagara', 2, 'Center', 'Jack DeBoer', '2021-10-08-Niagara-North Dakota'), ('Niagara', 2, 'Right Wing', 'Ryan Naumovski', '2021-10-08-Niagara-North Dakota'), ('Niagara', 3, 'Left Wing', 'Carter Randklev', '2021-10-08-Niagara-North Dakota'), ('Niagara', 3, 'Center', 'Ryan Cox', '2021-10-08-Niagara-North Dakota')  ... displaying 10 of 44 total bound parameter sets ...  ('North Dakota', 'Goalie 2', 'Goalie', 'Harrison Feeney', '2021-10-08-Niagara-North Dakota'), ('North Dakota', 'Goalie 3', 'Goalie', 'Jakob Hellsten', '2021-10-08-Niagara-North Dakota')]]\n",
      "(Background on this error at: https://sqlalche.me/e/20/e3q8)\n"
     ]
    },
    {
     "name": "stderr",
     "output_type": "stream",
     "text": [
      "Scraping games:   4%|▍         | 42/1106 [01:55<49:36,  2.80s/it]"
     ]
    },
    {
     "name": "stdout",
     "output_type": "stream",
     "text": [
      "Error saving to table line_chart: (sqlite3.OperationalError) table line_chart has no column named Team\n",
      "[SQL: INSERT INTO line_chart (\"Team\", \"Line\", \"Position\", \"Player\", \"Game_ID\") VALUES (?, ?, ?, ?, ?)]\n",
      "[parameters: [('Maine', 1, 'Left Wing', 'Adam Dawe', '2021-10-08-Maine-Omaha'), ('Maine', 1, 'Center', 'Ben Poisson', '2021-10-08-Maine-Omaha'), ('Maine', 1, 'Right Wing', 'Nolan Renwick', '2021-10-08-Maine-Omaha'), ('Maine', 2, 'Left Wing', 'Jacob Schmidt-Svejstrup', '2021-10-08-Maine-Omaha'), ('Maine', 2, 'Center', 'Lynden Breen', '2021-10-08-Maine-Omaha'), ('Maine', 2, 'Right Wing', 'Donavan Villeneuve-Houle', '2021-10-08-Maine-Omaha'), ('Maine', 3, 'Left Wing', 'Grant Hebert', '2021-10-08-Maine-Omaha'), ('Maine', 3, 'Center', 'Keenan Suthers', '2021-10-08-Maine-Omaha')  ... displaying 10 of 44 total bound parameter sets ...  ('Omaha', 'Goalie 2', 'Goalie', 'Austin Roden', '2021-10-08-Maine-Omaha'), ('Omaha', 'Goalie 3', 'Goalie', 'Jacob Zab', '2021-10-08-Maine-Omaha')]]\n",
      "(Background on this error at: https://sqlalche.me/e/20/e3q8)\n"
     ]
    },
    {
     "name": "stderr",
     "output_type": "stream",
     "text": [
      "Scraping games:   4%|▍         | 43/1106 [01:58<50:21,  2.84s/it]"
     ]
    },
    {
     "name": "stdout",
     "output_type": "stream",
     "text": [
      "Error saving to table line_chart: (sqlite3.OperationalError) table line_chart has no column named Team\n",
      "[SQL: INSERT INTO line_chart (\"Team\", \"Line\", \"Position\", \"Player\", \"Game_ID\") VALUES (?, ?, ?, ?, ?)]\n",
      "[parameters: [('Denver', 1, 'Left Wing', 'Carter Savoie', '2021-10-08-Arizona State-Denver'), ('Denver', 1, 'Center', 'Cole Guttman', '2021-10-08-Arizona State-Denver'), ('Denver', 1, 'Right Wing', 'Bobby Brink', '2021-10-08-Arizona State-Denver'), ('Denver', 2, 'Left Wing', 'Carter Mazur', '2021-10-08-Arizona State-Denver'), ('Denver', 2, 'Center', 'Massimo Rizzo', '2021-10-08-Arizona State-Denver'), ('Denver', 2, 'Right Wing', 'Cameron Wright', '2021-10-08-Arizona State-Denver'), ('Denver', 3, 'Left Wing', 'McKade Webster', '2021-10-08-Arizona State-Denver'), ('Denver', 3, 'Center', 'Brett Stapley', '2021-10-08-Arizona State-Denver')  ... displaying 10 of 42 total bound parameter sets ...  ('Arizona State', 'Goalie 1', 'Goalie', 'Ben Kraws', '2021-10-08-Arizona State-Denver'), ('Arizona State', 'Goalie 2', 'Goalie', 'Cole Brady', '2021-10-08-Arizona State-Denver')]]\n",
      "(Background on this error at: https://sqlalche.me/e/20/e3q8)\n"
     ]
    },
    {
     "name": "stderr",
     "output_type": "stream",
     "text": [
      "Scraping games:   4%|▍         | 44/1106 [02:01<50:28,  2.85s/it]"
     ]
    },
    {
     "name": "stdout",
     "output_type": "stream",
     "text": [
      "Error saving to table line_chart: (sqlite3.OperationalError) table line_chart has no column named Team\n",
      "[SQL: INSERT INTO line_chart (\"Team\", \"Line\", \"Position\", \"Player\", \"Game_ID\") VALUES (?, ?, ?, ?, ?)]\n",
      "[parameters: [('Colorado College', 1, 'Left Wing', 'Danny Weight', '2021-10-08-St. Lawrence-Colorado College'), ('Colorado College', 1, 'Center', 'Hunter McKown', '2021-10-08-St. Lawrence-Colorado College'), ('Colorado College', 1, 'Right Wing', 'Brian Hawkinson', '2021-10-08-St. Lawrence-Colorado College'), ('Colorado College', 2, 'Left Wing', 'Tyler Coffey', '2021-10-08-St. Lawrence-Colorado College'), ('Colorado College', 2, 'Center', 'Noah Prokop', '2021-10-08-St. Lawrence-Colorado College'), ('Colorado College', 2, 'Right Wing', 'Stanley Cooley', '2021-10-08-St. Lawrence-Colorado College'), ('Colorado College', 3, 'Left Wing', 'Matthew Gleason', '2021-10-08-St. Lawrence-Colorado College'), ('Colorado College', 3, 'Center', 'Logan Will', '2021-10-08-St. Lawrence-Colorado College')  ... displaying 10 of 43 total bound parameter sets ...  ('St. Lawrence', 'Goalie 1', 'Goalie', 'Emil Zetterquist', '2021-10-08-St. Lawrence-Colorado College'), ('St. Lawrence', 'Goalie 2', 'Goalie', 'Grant Adams', '2021-10-08-St. Lawrence-Colorado College')]]\n",
      "(Background on this error at: https://sqlalche.me/e/20/e3q8)\n"
     ]
    },
    {
     "name": "stderr",
     "output_type": "stream",
     "text": [
      "Scraping games:   4%|▍         | 45/1106 [02:04<51:58,  2.94s/it]"
     ]
    },
    {
     "name": "stdout",
     "output_type": "stream",
     "text": [
      "Error saving to table line_chart: (sqlite3.OperationalError) table line_chart has no column named Team\n",
      "[SQL: INSERT INTO line_chart (\"Team\", \"Line\", \"Position\", \"Player\", \"Game_ID\") VALUES (?, ?, ?, ?, ?)]\n",
      "[parameters: [('Alaska', 1, 'Left Wing', 'Didrik Henbrant', '2021-10-08-Clarkson-Alaska'), ('Alaska', 1, 'Center', 'Jakob Breault', '2021-10-08-Clarkson-Alaska'), ('Alaska', 1, 'Right Wing', 'Filip Fornaa Svennson', '2021-10-08-Clarkson-Alaska'), ('Alaska', 2, 'Left Wing', 'Riley Murphy', '2021-10-08-Clarkson-Alaska'), ('Alaska', 2, 'Center', 'Colin Doyle', '2021-10-08-Clarkson-Alaska'), ('Alaska', 2, 'Right Wing', 'Brady Risk', '2021-10-08-Clarkson-Alaska'), ('Alaska', 3, 'Left Wing', 'Nátán Vertes', '2021-10-08-Clarkson-Alaska'), ('Alaska', 3, 'Center', 'Payton Matsui', '2021-10-08-Clarkson-Alaska')  ... displaying 10 of 44 total bound parameter sets ...  ('Clarkson', 'Goalie 1', 'Goalie', 'Ethan Haider', '2021-10-08-Clarkson-Alaska'), ('Clarkson', 'Goalie 2', 'Goalie', 'Brady Parker', '2021-10-08-Clarkson-Alaska')]]\n",
      "(Background on this error at: https://sqlalche.me/e/20/e3q8)\n"
     ]
    },
    {
     "name": "stderr",
     "output_type": "stream",
     "text": [
      "Scraping games:   4%|▍         | 46/1106 [02:07<51:47,  2.93s/it]"
     ]
    },
    {
     "name": "stdout",
     "output_type": "stream",
     "text": [
      "Error saving to table line_chart: (sqlite3.OperationalError) table line_chart has no column named Team\n",
      "[SQL: INSERT INTO line_chart (\"Team\", \"Line\", \"Position\", \"Player\", \"Game_ID\") VALUES (?, ?, ?, ?, ?)]\n",
      "[parameters: [('Army', 1, 'Left Wing', 'Mitch Machlitt', '2021-10-08-RIT-Army'), ('Army', 1, 'Center', 'Eric Butte', '2021-10-08-RIT-Army'), ('Army', 1, 'Right Wing', 'Colin Bilek', '2021-10-08-RIT-Army'), ('Army', 2, 'Left Wing', 'Daniel Haider', '2021-10-08-RIT-Army'), ('Army', 2, 'Center', 'Jake Felker', '2021-10-08-RIT-Army'), ('Army', 2, 'Right Wing', 'Ricky Lyle', '2021-10-08-RIT-Army'), ('Army', 3, 'Left Wing', 'Brett Abdelnour', '2021-10-08-RIT-Army'), ('Army', 3, 'Center', 'John Keranen', '2021-10-08-RIT-Army')  ... displaying 10 of 44 total bound parameter sets ...  ('RIT', 'Goalie 2', 'Goalie', 'Daniel Chenard', '2021-10-08-RIT-Army'), ('RIT', 'Goalie 3', 'Goalie', 'Tommy Scarfone', '2021-10-08-RIT-Army')]]\n",
      "(Background on this error at: https://sqlalche.me/e/20/e3q8)\n"
     ]
    },
    {
     "name": "stderr",
     "output_type": "stream",
     "text": [
      "Scraping games:   4%|▍         | 47/1106 [02:10<52:24,  2.97s/it]"
     ]
    },
    {
     "name": "stdout",
     "output_type": "stream",
     "text": [
      "Error saving to table line_chart: (sqlite3.OperationalError) table line_chart has no column named Team\n",
      "[SQL: INSERT INTO line_chart (\"Team\", \"Line\", \"Position\", \"Player\", \"Game_ID\") VALUES (?, ?, ?, ?, ?)]\n",
      "[parameters: [('Boston University', 1, 'Left Wing', 'Logan Cockerill', '2021-10-08-Boston University-Connecticut'), ('Boston University', 1, 'Center', 'Matt Brown', '2021-10-08-Boston University-Connecticut'), ('Boston University', 1, 'Right Wing', 'Robert Mastrosimone', '2021-10-08-Boston University-Connecticut'), ('Boston University', 2, 'Left Wing', 'Ethan Phillips', '2021-10-08-Boston University-Connecticut'), ('Boston University', 2, 'Center', 'Wilmer Skoog', '2021-10-08-Boston University-Connecticut'), ('Boston University', 2, 'Right Wing', 'Tyler Boucher', '2021-10-08-Boston University-Connecticut'), ('Boston University', 3, 'Left Wing', 'Luke Tuch', '2021-10-08-Boston University-Connecticut'), ('Boston University', 3, 'Center', \"Jay O'Brien\", '2021-10-08-Boston University-Connecticut')  ... displaying 10 of 42 total bound parameter sets ...  ('Connecticut', 'Goalie 1', 'Goalie', 'Darion Hanson', '2021-10-08-Boston University-Connecticut'), ('Connecticut', 'Goalie 2', 'Goalie', 'Matt Pasquale', '2021-10-08-Boston University-Connecticut')]]\n",
      "(Background on this error at: https://sqlalche.me/e/20/e3q8)\n"
     ]
    },
    {
     "name": "stderr",
     "output_type": "stream",
     "text": [
      "Scraping games:   4%|▍         | 48/1106 [02:13<52:35,  2.98s/it]"
     ]
    },
    {
     "name": "stdout",
     "output_type": "stream",
     "text": [
      "Error saving to table line_chart: (sqlite3.OperationalError) table line_chart has no column named Team\n",
      "[SQL: INSERT INTO line_chart (\"Team\", \"Line\", \"Position\", \"Player\", \"Game_ID\") VALUES (?, ?, ?, ?, ?)]\n",
      "[parameters: [('Canisius', 1, 'Left Wing', 'Mitchell Martan', '2021-10-09-Canisius-Penn State'), ('Canisius', 1, 'Center', 'Lee Lapid', '2021-10-09-Canisius-Penn State'), ('Canisius', 1, 'Right Wing', 'Keaton Mastrodonato', '2021-10-09-Canisius-Penn State'), ('Canisius', 2, 'Left Wing', 'Max Kouznetsov', '2021-10-09-Canisius-Penn State'), ('Canisius', 2, 'Center', 'Simon Gravel', '2021-10-09-Canisius-Penn State'), ('Canisius', 2, 'Right Wing', 'Randy Hernandez', '2021-10-09-Canisius-Penn State'), ('Canisius', 3, 'Left Wing', 'Daniel DiGrande', '2021-10-09-Canisius-Penn State'), ('Canisius', 3, 'Center', 'Ryan Miotto', '2021-10-09-Canisius-Penn State')  ... displaying 10 of 44 total bound parameter sets ...  ('Penn State', 'Goalie 2', 'Goalie', 'Liam Souliere', '2021-10-09-Canisius-Penn State'), ('Penn State', 'Goalie 3', 'Goalie', 'Doug Dorr', '2021-10-09-Canisius-Penn State')]]\n",
      "(Background on this error at: https://sqlalche.me/e/20/e3q8)\n"
     ]
    },
    {
     "name": "stderr",
     "output_type": "stream",
     "text": [
      "Scraping games:   4%|▍         | 49/1106 [02:16<52:18,  2.97s/it]"
     ]
    },
    {
     "name": "stdout",
     "output_type": "stream",
     "text": [
      "Error saving to table line_chart: (sqlite3.OperationalError) table line_chart has no column named Team\n",
      "[SQL: INSERT INTO line_chart (\"Team\", \"Line\", \"Position\", \"Player\", \"Game_ID\") VALUES (?, ?, ?, ?, ?)]\n",
      "[parameters: [('Mercyhurst', 1, 'Left Wing', 'Pierce Crawford', '2021-10-09-Mercyhurst-Minnesota'), ('Mercyhurst', 1, 'Center', 'Steven Ipri', '2021-10-09-Mercyhurst-Minnesota'), ('Mercyhurst', 1, 'Right Wing', 'Rylee St. Onge', '2021-10-09-Mercyhurst-Minnesota'), ('Mercyhurst', 2, 'Left Wing', 'Jonathan Bendorf', '2021-10-09-Mercyhurst-Minnesota'), ('Mercyhurst', 2, 'Center', 'Gueorgui Feduolov', '2021-10-09-Mercyhurst-Minnesota'), ('Mercyhurst', 2, 'Right Wing', 'Noah Kane', '2021-10-09-Mercyhurst-Minnesota'), ('Mercyhurst', 3, 'Left Wing', 'Austin Heidemann', '2021-10-09-Mercyhurst-Minnesota'), ('Mercyhurst', 3, 'Center', 'Carson Briere', '2021-10-09-Mercyhurst-Minnesota')  ... displaying 10 of 43 total bound parameter sets ...  ('Minnesota', 'Goalie 2', 'Goalie', 'Justen Close', '2021-10-09-Mercyhurst-Minnesota'), ('Minnesota', 'Goalie 3', 'Goalie', 'Brennan Boynton', '2021-10-09-Mercyhurst-Minnesota')]]\n",
      "(Background on this error at: https://sqlalche.me/e/20/e3q8)\n"
     ]
    },
    {
     "name": "stderr",
     "output_type": "stream",
     "text": [
      "Scraping games:   5%|▍         | 50/1106 [02:19<51:23,  2.92s/it]"
     ]
    },
    {
     "name": "stdout",
     "output_type": "stream",
     "text": [
      "Error saving to table line_chart: (sqlite3.OperationalError) table line_chart has no column named Team\n",
      "[SQL: INSERT INTO line_chart (\"Team\", \"Line\", \"Position\", \"Player\", \"Game_ID\") VALUES (?, ?, ?, ?, ?)]\n",
      "[parameters: [('Notre Dame', 1, 'Left Wing', 'Solag Bakich', '2021-10-09-Long Island-Notre Dame'), ('Notre Dame', 1, 'Center', 'Trevor Janicke', '2021-10-09-Long Island-Notre Dame'), ('Notre Dame', 1, 'Right Wing', 'Max Ellis', '2021-10-09-Long Island-Notre Dame'), ('Notre Dame', 2, 'Left Wing', 'Landon Slaggert', '2021-10-09-Long Island-Notre Dame'), ('Notre Dame', 2, 'Center', 'Graham Slaggert', '2021-10-09-Long Island-Notre Dame'), ('Notre Dame', 2, 'Right Wing', 'Justin Janicke', '2021-10-09-Long Island-Notre Dame'), ('Notre Dame', 3, 'Left Wing', 'Grant Silianoff', '2021-10-09-Long Island-Notre Dame'), ('Notre Dame', 3, 'Center', 'Cam Burke', '2021-10-09-Long Island-Notre Dame')  ... displaying 10 of 46 total bound parameter sets ...  ('Long Island', 'Goalie 2', 'Goalie', 'Vinnie Purpura', '2021-10-09-Long Island-Notre Dame'), ('Long Island', 'Goalie 3', 'Goalie', 'Brandon Perrone', '2021-10-09-Long Island-Notre Dame')]]\n",
      "(Background on this error at: https://sqlalche.me/e/20/e3q8)\n"
     ]
    },
    {
     "name": "stderr",
     "output_type": "stream",
     "text": [
      "Scraping games:   5%|▍         | 51/1106 [02:22<51:19,  2.92s/it]"
     ]
    },
    {
     "name": "stdout",
     "output_type": "stream",
     "text": [
      "Error saving to table line_chart: (sqlite3.OperationalError) table line_chart has no column named Team\n",
      "[SQL: INSERT INTO line_chart (\"Team\", \"Line\", \"Position\", \"Player\", \"Game_ID\") VALUES (?, ?, ?, ?, ?)]\n",
      "[parameters: [('Bentley', 1, 'Left Wing', 'Phil Knies', '2021-10-09-Ohio State-Bentley'), ('Bentley', 1, 'Center', 'Brendan Hamblet', '2021-10-09-Ohio State-Bentley'), ('Bentley', 1, 'Right Wing', 'Cooper Connell', '2021-10-09-Ohio State-Bentley'), ('Bentley', 2, 'Left Wing', 'Harrison Scott', '2021-10-09-Ohio State-Bentley'), ('Bentley', 2, 'Center', 'Matt Gosiewski', '2021-10-09-Ohio State-Bentley'), ('Bentley', 2, 'Right Wing', 'Eric Linell', '2021-10-09-Ohio State-Bentley'), ('Bentley', 3, 'Left Wing', 'Brendan Walkom', '2021-10-09-Ohio State-Bentley'), ('Bentley', 3, 'Center', 'Ethan Harrison', '2021-10-09-Ohio State-Bentley')  ... displaying 10 of 44 total bound parameter sets ...  ('Ohio State', 'Goalie 2', 'Goalie', 'Jakub Dobeš', '2021-10-09-Ohio State-Bentley'), ('Ohio State', 'Goalie 3', 'Goalie', 'Reilly Herbst', '2021-10-09-Ohio State-Bentley')]]\n",
      "(Background on this error at: https://sqlalche.me/e/20/e3q8)\n"
     ]
    },
    {
     "name": "stderr",
     "output_type": "stream",
     "text": [
      "Scraping games:   5%|▍         | 52/1106 [02:25<51:17,  2.92s/it]"
     ]
    },
    {
     "name": "stdout",
     "output_type": "stream",
     "text": [
      "Error saving to table line_chart: (sqlite3.OperationalError) table line_chart has no column named Team\n",
      "[SQL: INSERT INTO line_chart (\"Team\", \"Line\", \"Position\", \"Player\", \"Game_ID\") VALUES (?, ?, ?, ?, ?)]\n",
      "[parameters: [('Air Force', 1, 'Left Wing', 'Nate Horn', '2021-10-09-Air Force-Michigan State'), ('Air Force', 1, 'Center', 'Andrew DeCarlo', '2021-10-09-Air Force-Michigan State'), ('Air Force', 1, 'Right Wing', 'Willie Reim', '2021-10-09-Air Force-Michigan State'), ('Air Force', 2, 'Left Wing', 'Will Gavin', '2021-10-09-Air Force-Michigan State'), ('Air Force', 2, 'Center', 'Clayton Cosentino', '2021-10-09-Air Force-Michigan State'), ('Air Force', 2, 'Right Wing', 'Parker Brown', '2021-10-09-Air Force-Michigan State'), ('Air Force', 3, 'Left Wing', 'Brian Adams', '2021-10-09-Air Force-Michigan State'), ('Air Force', 3, 'Center', 'Lucas Coon', '2021-10-09-Air Force-Michigan State')  ... displaying 10 of 44 total bound parameter sets ...  ('Michigan State', 'Goalie 2', 'Goalie', 'Pierce Charleson', '2021-10-09-Air Force-Michigan State'), ('Michigan State', 'Goalie 3', 'Goalie', 'Jon Mor', '2021-10-09-Air Force-Michigan State')]]\n",
      "(Background on this error at: https://sqlalche.me/e/20/e3q8)\n"
     ]
    },
    {
     "name": "stderr",
     "output_type": "stream",
     "text": [
      "Scraping games:   5%|▍         | 53/1106 [02:28<51:14,  2.92s/it]"
     ]
    },
    {
     "name": "stdout",
     "output_type": "stream",
     "text": [
      "Error saving to table line_chart: (sqlite3.OperationalError) table line_chart has no column named Team\n",
      "[SQL: INSERT INTO line_chart (\"Team\", \"Line\", \"Position\", \"Player\", \"Game_ID\") VALUES (?, ?, ?, ?, ?)]\n",
      "[parameters: [('Bowling Green', 1, 'Left Wing', 'Sam Craggs', '2021-10-09-Bowling Green-Rensselaer'), ('Bowling Green', 1, 'Center', 'Taylor Schneider', '2021-10-09-Bowling Green-Rensselaer'), ('Bowling Green', 1, 'Right Wing', 'Alex Barber', '2021-10-09-Bowling Green-Rensselaer'), ('Bowling Green', 2, 'Left Wing', 'Coale Norris', '2021-10-09-Bowling Green-Rensselaer'), ('Bowling Green', 2, 'Center', 'Austen Swankler', '2021-10-09-Bowling Green-Rensselaer'), ('Bowling Green', 2, 'Right Wing', 'Nathan Burke', '2021-10-09-Bowling Green-Rensselaer'), ('Bowling Green', 3, 'Left Wing', 'Brayden Krieger', '2021-10-09-Bowling Green-Rensselaer'), ('Bowling Green', 3, 'Center', 'Ethan Scardina', '2021-10-09-Bowling Green-Rensselaer')  ... displaying 10 of 45 total bound parameter sets ...  ('Rensselaer', 'Goalie 2', 'Goalie', 'Brett Miller', '2021-10-09-Bowling Green-Rensselaer'), ('Rensselaer', 'Goalie 3', 'Goalie', 'Jack Watson', '2021-10-09-Bowling Green-Rensselaer')]]\n",
      "(Background on this error at: https://sqlalche.me/e/20/e3q8)\n"
     ]
    },
    {
     "name": "stderr",
     "output_type": "stream",
     "text": [
      "Scraping games:   5%|▍         | 54/1106 [02:30<51:03,  2.91s/it]"
     ]
    },
    {
     "name": "stdout",
     "output_type": "stream",
     "text": [
      "Error saving to table line_chart: (sqlite3.OperationalError) table line_chart has no column named Team\n",
      "[SQL: INSERT INTO line_chart (\"Team\", \"Line\", \"Position\", \"Player\", \"Game_ID\") VALUES (?, ?, ?, ?, ?)]\n",
      "[parameters: [('Merrimack', 1, 'Left Wing', 'Steven Jandric', '2021-10-09-Sacred Heart-Merrimack'), ('Merrimack', 1, 'Center', 'Max Newton', '2021-10-09-Sacred Heart-Merrimack'), ('Merrimack', 1, 'Right Wing', 'Alex Jefferies', '2021-10-09-Sacred Heart-Merrimack'), ('Merrimack', 2, 'Left Wing', 'Regan Kimens', '2021-10-09-Sacred Heart-Merrimack'), ('Merrimack', 2, 'Center', 'Mac Welsher', '2021-10-09-Sacred Heart-Merrimack'), ('Merrimack', 2, 'Right Wing', 'Jake Durflinger', '2021-10-09-Sacred Heart-Merrimack'), ('Merrimack', 3, 'Left Wing', 'Ben Brar', '2021-10-09-Sacred Heart-Merrimack'), ('Merrimack', 3, 'Center', 'Matt Copponi', '2021-10-09-Sacred Heart-Merrimack')  ... displaying 10 of 42 total bound parameter sets ...  ('Sacred Heart', 'Goalie 1', 'Goalie', 'Josh Benson', '2021-10-09-Sacred Heart-Merrimack'), ('Sacred Heart', 'Goalie 2', 'Goalie', 'Justin Robbins', '2021-10-09-Sacred Heart-Merrimack')]]\n",
      "(Background on this error at: https://sqlalche.me/e/20/e3q8)\n"
     ]
    },
    {
     "name": "stderr",
     "output_type": "stream",
     "text": [
      "Scraping games:   5%|▍         | 55/1106 [02:33<50:41,  2.89s/it]"
     ]
    },
    {
     "name": "stdout",
     "output_type": "stream",
     "text": [
      "Error saving to table line_chart: (sqlite3.OperationalError) table line_chart has no column named Team\n",
      "[SQL: INSERT INTO line_chart (\"Team\", \"Line\", \"Position\", \"Player\", \"Game_ID\") VALUES (?, ?, ?, ?, ?)]\n",
      "[parameters: [('New Hampshire', 1, 'Left Wing', 'Tyler Ward', '2021-10-09-Union-New Hampshire'), ('New Hampshire', 1, 'Center', 'Jackson Pierson', '2021-10-09-Union-New Hampshire'), ('New Hampshire', 1, 'Right Wing', 'Nick Cafarelli', '2021-10-09-Union-New Hampshire'), ('New Hampshire', 2, 'Left Wing', 'Chase Stevenson', '2021-10-09-Union-New Hampshire'), ('New Hampshire', 2, 'Center', 'Filip Engaras', '2021-10-09-Union-New Hampshire'), ('New Hampshire', 2, 'Right Wing', 'Eric MacAdams', '2021-10-09-Union-New Hampshire'), ('New Hampshire', 3, 'Left Wing', 'Liam Devlin', '2021-10-09-Union-New Hampshire'), ('New Hampshire', 3, 'Center', 'Harrison Blaisdell', '2021-10-09-Union-New Hampshire')  ... displaying 10 of 42 total bound parameter sets ...  ('Union', 'Goalie 1', 'Goalie', 'Garrett Nieto', '2021-10-09-Union-New Hampshire'), ('Union', 'Goalie 2', 'Goalie', 'Connor Murphy', '2021-10-09-Union-New Hampshire')]]\n",
      "(Background on this error at: https://sqlalche.me/e/20/e3q8)\n"
     ]
    },
    {
     "name": "stderr",
     "output_type": "stream",
     "text": [
      "Scraping games:   5%|▌         | 56/1106 [02:36<50:33,  2.89s/it]"
     ]
    },
    {
     "name": "stdout",
     "output_type": "stream",
     "text": [
      "Error saving to table line_chart: (sqlite3.OperationalError) table line_chart has no column named Team\n",
      "[SQL: INSERT INTO line_chart (\"Team\", \"Line\", \"Position\", \"Player\", \"Game_ID\") VALUES (?, ?, ?, ?, ?)]\n",
      "[parameters: [('Lake Superior', 1, 'Left Wing', 'Miroslav Mucha', '2021-10-09-Lake Superior-Michigan'), ('Lake Superior', 1, 'Center', 'Dustin Manz', '2021-10-09-Lake Superior-Michigan'), ('Lake Superior', 1, 'Right Wing', 'Josh Nixon', '2021-10-09-Lake Superior-Michigan'), ('Lake Superior', 2, 'Left Wing', 'Dawson Tritt', '2021-10-09-Lake Superior-Michigan'), ('Lake Superior', 2, 'Center', 'Louis Boudon', '2021-10-09-Lake Superior-Michigan'), ('Lake Superior', 2, 'Right Wing', 'Brandon Puricelli', '2021-10-09-Lake Superior-Michigan'), ('Lake Superior', 3, 'Left Wing', 'Logan Jenuwine', '2021-10-09-Lake Superior-Michigan'), ('Lake Superior', 3, 'Center', 'Harrison Roy', '2021-10-09-Lake Superior-Michigan')  ... displaying 10 of 44 total bound parameter sets ...  ('Michigan', 'Goalie 2', 'Goalie', 'Erik Portillo', '2021-10-09-Lake Superior-Michigan'), ('Michigan', 'Goalie 3', 'Goalie', 'Noah West', '2021-10-09-Lake Superior-Michigan')]]\n",
      "(Background on this error at: https://sqlalche.me/e/20/e3q8)\n"
     ]
    },
    {
     "name": "stderr",
     "output_type": "stream",
     "text": [
      "Scraping games:   5%|▌         | 57/1106 [02:39<49:01,  2.80s/it]"
     ]
    },
    {
     "name": "stdout",
     "output_type": "stream",
     "text": [
      "Error saving to table line_chart: (sqlite3.OperationalError) table line_chart has no column named Team\n",
      "[SQL: INSERT INTO line_chart (\"Team\", \"Line\", \"Position\", \"Player\", \"Game_ID\") VALUES (?, ?, ?, ?, ?)]\n",
      "[parameters: [(\"American Int'l\", 1, 'Left Wing', 'Michal Stinil', \"2021-10-09-Providence-American Int'l\"), (\"American Int'l\", 1, 'Center', 'Brian Rigali', \"2021-10-09-Providence-American Int'l\"), (\"American Int'l\", 1, 'Right Wing', 'Justin Young', \"2021-10-09-Providence-American Int'l\"), (\"American Int'l\", 2, 'Left Wing', 'Justin Cole', \"2021-10-09-Providence-American Int'l\"), (\"American Int'l\", 2, 'Center', 'Julius Janhonen', \"2021-10-09-Providence-American Int'l\"), (\"American Int'l\", 2, 'Right Wing', 'Chris Dodero', \"2021-10-09-Providence-American Int'l\"), (\"American Int'l\", 3, 'Left Wing', 'Chris Theodore', \"2021-10-09-Providence-American Int'l\"), (\"American Int'l\", 3, 'Center', 'Elijiah Barriga', \"2021-10-09-Providence-American Int'l\")  ... displaying 10 of 46 total bound parameter sets ...  ('Providence', 'Goalie 2', 'Goalie', 'Jimmy Scannell', \"2021-10-09-Providence-American Int'l\"), ('Providence', 'Goalie 3', 'Goalie', 'Jaxson Stauber', \"2021-10-09-Providence-American Int'l\")]]\n",
      "(Background on this error at: https://sqlalche.me/e/20/e3q8)\n"
     ]
    },
    {
     "name": "stderr",
     "output_type": "stream",
     "text": [
      "Scraping games:   5%|▌         | 58/1106 [02:42<51:10,  2.93s/it]"
     ]
    },
    {
     "name": "stdout",
     "output_type": "stream",
     "text": [
      "Error saving to table line_chart: (sqlite3.OperationalError) table line_chart has no column named Team\n",
      "[SQL: INSERT INTO line_chart (\"Team\", \"Line\", \"Position\", \"Player\", \"Game_ID\") VALUES (?, ?, ?, ?, ?)]\n",
      "[parameters: [('Colgate', 1, 'Left Wing', 'Colton Young', '2021-10-09-Colgate-Vermont'), ('Colgate', 1, 'Center', 'Jeff Stewart', '2021-10-09-Colgate-Vermont'), ('Colgate', 1, 'Right Wing', 'Ethan Manderville', '2021-10-09-Colgate-Vermont'), ('Colgate', 2, 'Left Wing', 'Arnaud Vachon', '2021-10-09-Colgate-Vermont'), ('Colgate', 2, 'Center', 'Josh McKechney', '2021-10-09-Colgate-Vermont'), ('Colgate', 2, 'Right Wing', 'Alex Young', '2021-10-09-Colgate-Vermont'), ('Colgate', 3, 'Left Wing', 'Matt Verboon', '2021-10-09-Colgate-Vermont'), ('Colgate', 3, 'Center', 'Paul McAvoy', '2021-10-09-Colgate-Vermont')  ... displaying 10 of 44 total bound parameter sets ...  ('Vermont', 'Goalie 2', 'Goalie', 'Gabe Carriere', '2021-10-09-Colgate-Vermont'), ('Vermont', 'Goalie 3', 'Goalie', 'Cole Hudson', '2021-10-09-Colgate-Vermont')]]\n",
      "(Background on this error at: https://sqlalche.me/e/20/e3q8)\n"
     ]
    },
    {
     "name": "stderr",
     "output_type": "stream",
     "text": [
      "Scraping games:   5%|▌         | 59/1106 [02:45<50:26,  2.89s/it]"
     ]
    },
    {
     "name": "stdout",
     "output_type": "stream",
     "text": [
      "Error saving to table line_chart: (sqlite3.OperationalError) table line_chart has no column named Team\n",
      "[SQL: INSERT INTO line_chart (\"Team\", \"Line\", \"Position\", \"Player\", \"Game_ID\") VALUES (?, ?, ?, ?, ?)]\n",
      "[parameters: [('Minnesota State', 1, 'Left Wing', 'Julian Napravnik', '2021-10-09-St. Cloud State-Minnesota State'), ('Minnesota State', 1, 'Center', 'Nathan Smith', '2021-10-09-St. Cloud State-Minnesota State'), ('Minnesota State', 1, 'Right Wing', 'Cade Borchardt', '2021-10-09-St. Cloud State-Minnesota State'), ('Minnesota State', 2, 'Left Wing', 'Reggie Lutz', '2021-10-09-St. Cloud State-Minnesota State'), ('Minnesota State', 2, 'Center', 'Brendan Furry', '2021-10-09-St. Cloud State-Minnesota State'), ('Minnesota State', 2, 'Right Wing', 'Lucas Sowder', '2021-10-09-St. Cloud State-Minnesota State'), ('Minnesota State', 3, 'Left Wing', 'Josh Groll', '2021-10-09-St. Cloud State-Minnesota State'), ('Minnesota State', 3, 'Center', 'David Silye', '2021-10-09-St. Cloud State-Minnesota State')  ... displaying 10 of 46 total bound parameter sets ...  ('St. Cloud State', 'Goalie 2', 'Goalie', 'Joey Lamoreaux', '2021-10-09-St. Cloud State-Minnesota State'), ('St. Cloud State', 'Goalie 3', 'Goalie', 'Jaxon Castor', '2021-10-09-St. Cloud State-Minnesota State')]]\n",
      "(Background on this error at: https://sqlalche.me/e/20/e3q8)\n"
     ]
    },
    {
     "name": "stderr",
     "output_type": "stream",
     "text": [
      "Scraping games:   5%|▌         | 60/1106 [02:48<50:37,  2.90s/it]"
     ]
    },
    {
     "name": "stdout",
     "output_type": "stream",
     "text": [
      "Error saving to table line_chart: (sqlite3.OperationalError) table line_chart has no column named Team\n",
      "[SQL: INSERT INTO line_chart (\"Team\", \"Line\", \"Position\", \"Player\", \"Game_ID\") VALUES (?, ?, ?, ?, ?)]\n",
      "[parameters: [('Niagara', 1, 'Left Wing', 'Walker Sommer', '2021-10-09-Niagara-North Dakota'), ('Niagara', 1, 'Center', 'Albin Nilsson', '2021-10-09-Niagara-North Dakota'), ('Niagara', 1, 'Right Wing', 'Christian Gorscak', '2021-10-09-Niagara-North Dakota'), ('Niagara', 2, 'Left Wing', 'Brandon Stanley', '2021-10-09-Niagara-North Dakota'), ('Niagara', 2, 'Center', 'Jack DeBoer', '2021-10-09-Niagara-North Dakota'), ('Niagara', 2, 'Right Wing', 'Ryan Naumovski', '2021-10-09-Niagara-North Dakota'), ('Niagara', 3, 'Left Wing', 'Carter Randklev', '2021-10-09-Niagara-North Dakota'), ('Niagara', 3, 'Center', 'Ryan Cox', '2021-10-09-Niagara-North Dakota')  ... displaying 10 of 44 total bound parameter sets ...  ('North Dakota', 'Goalie 2', 'Goalie', 'Kaleb Johnson', '2021-10-09-Niagara-North Dakota'), ('North Dakota', 'Goalie 3', 'Goalie', 'Jakob Hellsten', '2021-10-09-Niagara-North Dakota')]]\n",
      "(Background on this error at: https://sqlalche.me/e/20/e3q8)\n"
     ]
    },
    {
     "name": "stderr",
     "output_type": "stream",
     "text": [
      "Scraping games:   6%|▌         | 61/1106 [02:50<49:59,  2.87s/it]"
     ]
    },
    {
     "name": "stdout",
     "output_type": "stream",
     "text": [
      "Error saving to table line_chart: (sqlite3.OperationalError) table line_chart has no column named Team\n",
      "[SQL: INSERT INTO line_chart (\"Team\", \"Line\", \"Position\", \"Player\", \"Game_ID\") VALUES (?, ?, ?, ?, ?)]\n",
      "[parameters: [('Ferris State', 1, 'Left Wing', 'Liam MacDougall', '2021-10-09-Western Michigan-Ferris State'), ('Ferris State', 1, 'Center', 'Stepan Pokorny', '2021-10-09-Western Michigan-Ferris State'), ('Ferris State', 1, 'Right Wing', 'Marshall Moise', '2021-10-09-Western Michigan-Ferris State'), ('Ferris State', 2, 'Left Wing', 'Jake Transit', '2021-10-09-Western Michigan-Ferris State'), ('Ferris State', 2, 'Center', 'Dallas Tulik', '2021-10-09-Western Michigan-Ferris State'), ('Ferris State', 2, 'Right Wing', 'Ethan Stewart', '2021-10-09-Western Michigan-Ferris State'), ('Ferris State', 3, 'Left Wing', 'Antonio Venuto', '2021-10-09-Western Michigan-Ferris State'), ('Ferris State', 3, 'Center', 'Bradley Marek', '2021-10-09-Western Michigan-Ferris State')  ... displaying 10 of 43 total bound parameter sets ...  ('Western Michigan', 'Goalie 2', 'Goalie', 'Alex Aslanidis', '2021-10-09-Western Michigan-Ferris State'), ('Western Michigan', 'Goalie 3', 'Goalie', 'Ross Hawryluk', '2021-10-09-Western Michigan-Ferris State')]]\n",
      "(Background on this error at: https://sqlalche.me/e/20/e3q8)\n"
     ]
    },
    {
     "name": "stderr",
     "output_type": "stream",
     "text": [
      "Scraping games:   6%|▌         | 62/1106 [02:53<50:07,  2.88s/it]"
     ]
    },
    {
     "name": "stdout",
     "output_type": "stream",
     "text": [
      "Error saving to table line_chart: (sqlite3.OperationalError) table line_chart has no column named Team\n",
      "[SQL: INSERT INTO line_chart (\"Team\", \"Line\", \"Position\", \"Player\", \"Game_ID\") VALUES (?, ?, ?, ?, ?)]\n",
      "[parameters: [('Colorado College', 1, 'Left Wing', 'Matthew Gleason', '2021-10-09-St. Lawrence-Colorado College'), ('Colorado College', 1, 'Center', 'Noah Prokop', '2021-10-09-St. Lawrence-Colorado College'), ('Colorado College', 1, 'Right Wing', 'Stanley Cooley', '2021-10-09-St. Lawrence-Colorado College'), ('Colorado College', 2, 'Left Wing', 'Tyler Coffey', '2021-10-09-St. Lawrence-Colorado College'), ('Colorado College', 2, 'Center', 'Logan Will', '2021-10-09-St. Lawrence-Colorado College'), ('Colorado College', 2, 'Right Wing', 'Ray Christy', '2021-10-09-St. Lawrence-Colorado College'), ('Colorado College', 3, 'Left Wing', 'Marc Pasemko', '2021-10-09-St. Lawrence-Colorado College'), ('Colorado College', 3, 'Center', 'Hunter McKown', '2021-10-09-St. Lawrence-Colorado College')  ... displaying 10 of 40 total bound parameter sets ...  ('St. Lawrence', 1, 'Extra', 'Jeff', '2021-10-09-St. Lawrence-Colorado College'), ('St. Lawrence', 'Goalie 1', 'Goalie', 'Emil Zetterquist', '2021-10-09-St. Lawrence-Colorado College')]]\n",
      "(Background on this error at: https://sqlalche.me/e/20/e3q8)\n"
     ]
    },
    {
     "name": "stderr",
     "output_type": "stream",
     "text": [
      "Scraping games:   6%|▌         | 63/1106 [02:56<48:50,  2.81s/it]"
     ]
    },
    {
     "name": "stdout",
     "output_type": "stream",
     "text": [
      "Error saving to table line_chart: (sqlite3.OperationalError) table line_chart has no column named Team\n",
      "[SQL: INSERT INTO line_chart (\"Team\", \"Line\", \"Position\", \"Player\", \"Game_ID\") VALUES (?, ?, ?, ?, ?)]\n",
      "[parameters: [('Denver', 1, 'Left Wing', 'Carter Savoie', '2021-10-09-Arizona State-Denver'), ('Denver', 1, 'Center', 'Cole Guttman', '2021-10-09-Arizona State-Denver'), ('Denver', 1, 'Right Wing', 'Bobby Brink', '2021-10-09-Arizona State-Denver'), ('Denver', 2, 'Left Wing', 'Carter Mazur', '2021-10-09-Arizona State-Denver'), ('Denver', 2, 'Center', 'Massimo Rizzo', '2021-10-09-Arizona State-Denver'), ('Denver', 2, 'Right Wing', 'Cameron Wright', '2021-10-09-Arizona State-Denver'), ('Denver', 3, 'Left Wing', 'McKade Webster', '2021-10-09-Arizona State-Denver'), ('Denver', 3, 'Center', 'Brett Stapley', '2021-10-09-Arizona State-Denver')  ... displaying 10 of 43 total bound parameter sets ...  ('Arizona State', 'Goalie 1', 'Goalie', 'Ben Kraws', '2021-10-09-Arizona State-Denver'), ('Arizona State', 'Goalie 2', 'Goalie', 'Cole Brady', '2021-10-09-Arizona State-Denver')]]\n",
      "(Background on this error at: https://sqlalche.me/e/20/e3q8)\n"
     ]
    },
    {
     "name": "stderr",
     "output_type": "stream",
     "text": [
      "Scraping games:   6%|▌         | 64/1106 [02:59<48:47,  2.81s/it]"
     ]
    },
    {
     "name": "stdout",
     "output_type": "stream",
     "text": [
      "Error saving to table line_chart: (sqlite3.OperationalError) table line_chart has no column named Team\n",
      "[SQL: INSERT INTO line_chart (\"Team\", \"Line\", \"Position\", \"Player\", \"Game_ID\") VALUES (?, ?, ?, ?, ?)]\n",
      "[parameters: [('Michigan Tech', 1, 'Left Wing', 'Alec Broetzman', '2021-10-09-Michigan Tech-Wisconsin'), ('Michigan Tech', 1, 'Center', 'Matthew Quercia', '2021-10-09-Michigan Tech-Wisconsin'), ('Michigan Tech', 1, 'Right Wing', 'Logan Pietila', '2021-10-09-Michigan Tech-Wisconsin'), ('Michigan Tech', 2, 'Left Wing', 'Trenton Bliss', '2021-10-09-Michigan Tech-Wisconsin'), ('Michigan Tech', 2, 'Center', 'Arvid Caderoth', '2021-10-09-Michigan Tech-Wisconsin'), ('Michigan Tech', 2, 'Right Wing', 'Tommy Parrottino', '2021-10-09-Michigan Tech-Wisconsin'), ('Michigan Tech', 3, 'Left Wing', 'Nick Nardella', '2021-10-09-Michigan Tech-Wisconsin'), ('Michigan Tech', 3, 'Center', 'Parker Saretsky', '2021-10-09-Michigan Tech-Wisconsin')  ... displaying 10 of 40 total bound parameter sets ...  ('Wisconsin', 1, 'Extra', 'Josh', '2021-10-09-Michigan Tech-Wisconsin'), ('Wisconsin', 'Goalie 1', 'Goalie', 'Jared Moe', '2021-10-09-Michigan Tech-Wisconsin')]]\n",
      "(Background on this error at: https://sqlalche.me/e/20/e3q8)\n"
     ]
    },
    {
     "name": "stderr",
     "output_type": "stream",
     "text": [
      "Scraping games:   6%|▌         | 65/1106 [03:02<50:57,  2.94s/it]"
     ]
    },
    {
     "name": "stdout",
     "output_type": "stream",
     "text": [
      "Error saving to table line_chart: (sqlite3.OperationalError) table line_chart has no column named Team\n",
      "[SQL: INSERT INTO line_chart (\"Team\", \"Line\", \"Position\", \"Player\", \"Game_ID\") VALUES (?, ?, ?, ?, ?)]\n",
      "[parameters: [('Maine', 1, 'Left Wing', 'Adam Dawe', '2021-10-09-Maine-Omaha'), ('Maine', 1, 'Center', 'Ben Poisson', '2021-10-09-Maine-Omaha'), ('Maine', 1, 'Right Wing', 'Nolan Renwick', '2021-10-09-Maine-Omaha'), ('Maine', 2, 'Left Wing', 'Emil Westerlund', '2021-10-09-Maine-Omaha'), ('Maine', 2, 'Center', 'Lynden Breen', '2021-10-09-Maine-Omaha'), ('Maine', 2, 'Right Wing', 'Jacob Schmidt-Svejstrup', '2021-10-09-Maine-Omaha'), ('Maine', 3, 'Left Wing', 'Grant Hebert', '2021-10-09-Maine-Omaha'), ('Maine', 3, 'Center', 'Tristan Poissant', '2021-10-09-Maine-Omaha')  ... displaying 10 of 44 total bound parameter sets ...  ('Omaha', 'Goalie 2', 'Goalie', 'Austin Roden', '2021-10-09-Maine-Omaha'), ('Omaha', 'Goalie 3', 'Goalie', 'Jacob Zab', '2021-10-09-Maine-Omaha')]]\n",
      "(Background on this error at: https://sqlalche.me/e/20/e3q8)\n"
     ]
    },
    {
     "name": "stderr",
     "output_type": "stream",
     "text": [
      "Scraping games:   6%|▌         | 66/1106 [03:05<50:24,  2.91s/it]"
     ]
    },
    {
     "name": "stdout",
     "output_type": "stream",
     "text": [
      "Error saving to table line_chart: (sqlite3.OperationalError) table line_chart has no column named Team\n",
      "[SQL: INSERT INTO line_chart (\"Team\", \"Line\", \"Position\", \"Player\", \"Game_ID\") VALUES (?, ?, ?, ?, ?)]\n",
      "[parameters: [('Bemidji State', 1, 'Left Wing', 'Lukas Sillinger', '2021-10-09-Bemidji State-Minnesota-Duluth'), ('Bemidji State', 1, 'Center', 'Owen Sillinger', '2021-10-09-Bemidji State-Minnesota-Duluth'), ('Bemidji State', 1, 'Right Wing', 'Alex Ierullo', '2021-10-09-Bemidji State-Minnesota-Duluth'), ('Bemidji State', 2, 'Left Wing', 'Ethan Somoza', '2021-10-09-Bemidji State-Minnesota-Duluth'), ('Bemidji State', 2, 'Center', 'Ross Armour', '2021-10-09-Bemidji State-Minnesota-Duluth'), ('Bemidji State', 2, 'Right Wing', 'Eric Martin', '2021-10-09-Bemidji State-Minnesota-Duluth'), ('Bemidji State', 3, 'Left Wing', 'Jakub Lewandowski', '2021-10-09-Bemidji State-Minnesota-Duluth'), ('Bemidji State', 3, 'Center', 'Tyler Kirkup', '2021-10-09-Bemidji State-Minnesota-Duluth')  ... displaying 10 of 43 total bound parameter sets ...  ('Minnesota-Duluth', 'Goalie 2', 'Goalie', 'Ryan Fanti', '2021-10-09-Bemidji State-Minnesota-Duluth'), ('Minnesota-Duluth', 'Goalie 3', 'Goalie', 'Zach Stejskal', '2021-10-09-Bemidji State-Minnesota-Duluth')]]\n",
      "(Background on this error at: https://sqlalche.me/e/20/e3q8)\n"
     ]
    },
    {
     "name": "stderr",
     "output_type": "stream",
     "text": [
      "Scraping games:   6%|▌         | 67/1106 [03:08<50:59,  2.94s/it]"
     ]
    },
    {
     "name": "stdout",
     "output_type": "stream",
     "text": [
      "Error saving to table line_chart: (sqlite3.OperationalError) table line_chart has no column named Team\n",
      "[SQL: INSERT INTO line_chart (\"Team\", \"Line\", \"Position\", \"Player\", \"Game_ID\") VALUES (?, ?, ?, ?, ?)]\n",
      "[parameters: [('Alaska', 1, 'Left Wing', 'Didrik Henbrant', '2021-10-09-Clarkson-Alaska'), ('Alaska', 1, 'Center', 'Jakob Breault', '2021-10-09-Clarkson-Alaska'), ('Alaska', 1, 'Right Wing', 'Filip Fornaa Svennson', '2021-10-09-Clarkson-Alaska'), ('Alaska', 2, 'Left Wing', 'Riley Murphy', '2021-10-09-Clarkson-Alaska'), ('Alaska', 2, 'Center', 'Colin Doyle', '2021-10-09-Clarkson-Alaska'), ('Alaska', 2, 'Right Wing', 'Brady Risk', '2021-10-09-Clarkson-Alaska'), ('Alaska', 3, 'Left Wing', 'Nátán Vertes', '2021-10-09-Clarkson-Alaska'), ('Alaska', 3, 'Center', 'Payton Matsui', '2021-10-09-Clarkson-Alaska')  ... displaying 10 of 44 total bound parameter sets ...  ('Clarkson', 'Goalie 1', 'Goalie', 'Ethan Haider', '2021-10-09-Clarkson-Alaska'), ('Clarkson', 'Goalie 2', 'Goalie', 'Brady Parker', '2021-10-09-Clarkson-Alaska')]]\n",
      "(Background on this error at: https://sqlalche.me/e/20/e3q8)\n"
     ]
    },
    {
     "name": "stderr",
     "output_type": "stream",
     "text": [
      "Scraping games:   6%|▌         | 68/1106 [03:11<50:15,  2.91s/it]"
     ]
    },
    {
     "name": "stdout",
     "output_type": "stream",
     "text": [
      "Error saving to table line_chart: (sqlite3.OperationalError) table line_chart has no column named Team\n",
      "[SQL: INSERT INTO line_chart (\"Team\", \"Line\", \"Position\", \"Player\", \"Game_ID\") VALUES (?, ?, ?, ?, ?)]\n",
      "[parameters: [('Army', 1, 'Left Wing', 'Mitch Machlitt', '2021-10-09-RIT-Army'), ('Army', 1, 'Center', 'Eric Butte', '2021-10-09-RIT-Army'), ('Army', 1, 'Right Wing', 'Colin Bilek', '2021-10-09-RIT-Army'), ('Army', 2, 'Left Wing', 'Daniel Haider', '2021-10-09-RIT-Army'), ('Army', 2, 'Center', 'Jake Felker', '2021-10-09-RIT-Army'), ('Army', 2, 'Right Wing', 'Ricky Lyle', '2021-10-09-RIT-Army'), ('Army', 3, 'Left Wing', 'Brett Abdelnour', '2021-10-09-RIT-Army'), ('Army', 3, 'Center', 'John Keranen', '2021-10-09-RIT-Army')  ... displaying 10 of 46 total bound parameter sets ...  ('RIT', 'Goalie 2', 'Goalie', 'Kolby Matthews', '2021-10-09-RIT-Army'), ('RIT', 'Goalie 3', 'Goalie', 'Tommy Scarfone', '2021-10-09-RIT-Army')]]\n",
      "(Background on this error at: https://sqlalche.me/e/20/e3q8)\n"
     ]
    },
    {
     "name": "stderr",
     "output_type": "stream",
     "text": [
      "Scraping games:   6%|▌         | 69/1106 [03:13<49:05,  2.84s/it]"
     ]
    },
    {
     "name": "stdout",
     "output_type": "stream",
     "text": [
      "Error saving to table line_chart: (sqlite3.OperationalError) table line_chart has no column named Team\n",
      "[SQL: INSERT INTO line_chart (\"Team\", \"Line\", \"Position\", \"Player\", \"Game_ID\") VALUES (?, ?, ?, ?, ?)]\n",
      "[parameters: [('Northeastern', 1, 'Left Wing', 'Aidan McDonough', '2021-10-09-Northeastern-Quinnipiac'), ('Northeastern', 1, 'Center', 'Ty Jackson', '2021-10-09-Northeastern-Quinnipiac'), ('Northeastern', 1, 'Right Wing', 'Dylan Jackson', '2021-10-09-Northeastern-Quinnipiac'), ('Northeastern', 2, 'Left Wing', 'Gunnarwolfe Fontaine', '2021-10-09-Northeastern-Quinnipiac'), ('Northeastern', 2, 'Center', 'Jack Hughes', '2021-10-09-Northeastern-Quinnipiac'), ('Northeastern', 2, 'Right Wing', 'Sam Colangelo', '2021-10-09-Northeastern-Quinnipiac'), ('Northeastern', 3, 'Left Wing', 'Matt Choupani', '2021-10-09-Northeastern-Quinnipiac'), ('Northeastern', 3, 'Center', 'Jakov Novak', '2021-10-09-Northeastern-Quinnipiac')  ... displaying 10 of 43 total bound parameter sets ...  ('Quinnipiac', 'Goalie 1', 'Goalie', 'Yaniv Perets', '2021-10-09-Northeastern-Quinnipiac'), ('Quinnipiac', 'Goalie 2', 'Goalie', 'Noah Altman', '2021-10-09-Northeastern-Quinnipiac')]]\n",
      "(Background on this error at: https://sqlalche.me/e/20/e3q8)\n"
     ]
    },
    {
     "name": "stderr",
     "output_type": "stream",
     "text": [
      "Scraping games:   6%|▋         | 70/1106 [03:16<49:42,  2.88s/it]"
     ]
    },
    {
     "name": "stdout",
     "output_type": "stream",
     "text": [
      "Error saving to table line_chart: (sqlite3.OperationalError) table line_chart has no column named Team\n",
      "[SQL: INSERT INTO line_chart (\"Team\", \"Line\", \"Position\", \"Player\", \"Game_ID\") VALUES (?, ?, ?, ?, ?)]\n",
      "[parameters: [('Boston College', 1, 'Left Wing', 'Brandon Kruse', '2021-10-09-Boston College-Holy Cross'), ('Boston College', 1, 'Center', 'Jack McBain', '2021-10-09-Boston College-Holy Cross'), ('Boston College', 1, 'Right Wing', 'Colby Ambrosio', '2021-10-09-Boston College-Holy Cross'), ('Boston College', 2, 'Left Wing', 'Trevor Kuntar', '2021-10-09-Boston College-Holy Cross'), ('Boston College', 2, 'Center', 'Marc McLaughlin', '2021-10-09-Boston College-Holy Cross'), ('Boston College', 2, 'Right Wing', 'Nikita Nesterenko', '2021-10-09-Boston College-Holy Cross'), ('Boston College', 3, 'Left Wing', 'Mike Posma', '2021-10-09-Boston College-Holy Cross'), ('Boston College', 3, 'Center', 'Patrick Giles', '2021-10-09-Boston College-Holy Cross')  ... displaying 10 of 43 total bound parameter sets ...  ('Holy Cross', 'Goalie 2', 'Goalie', 'Matt Radomsky', '2021-10-09-Boston College-Holy Cross'), ('Holy Cross', 'Goalie 3', 'Goalie', 'Thomas Gale', '2021-10-09-Boston College-Holy Cross')]]\n",
      "(Background on this error at: https://sqlalche.me/e/20/e3q8)\n"
     ]
    },
    {
     "name": "stderr",
     "output_type": "stream",
     "text": [
      "Scraping games:   6%|▋         | 71/1106 [03:19<49:21,  2.86s/it]"
     ]
    },
    {
     "name": "stdout",
     "output_type": "stream",
     "text": [
      "Error saving to table line_chart: (sqlite3.OperationalError) table line_chart has no column named Team\n",
      "[SQL: INSERT INTO line_chart (\"Team\", \"Line\", \"Position\", \"Player\", \"Game_ID\") VALUES (?, ?, ?, ?, ?)]\n",
      "[parameters: [('Northern Michigan', 1, 'Left Wing', 'Michael Colella', '2021-10-09-St. Thomas-Northern Michigan'), ('Northern Michigan', 1, 'Center', 'Joseph Nardi', '2021-10-09-St. Thomas-Northern Michigan'), ('Northern Michigan', 1, 'Right Wing', 'Andre Ghantous', '2021-10-09-St. Thomas-Northern Michigan'), ('Northern Michigan', 2, 'Left Wing', 'Hank Crone', '2021-10-09-St. Thomas-Northern Michigan'), ('Northern Michigan', 2, 'Center', 'Hampus Eriksson', '2021-10-09-St. Thomas-Northern Michigan'), ('Northern Michigan', 2, 'Right Wing', 'AJ Vanderbeck', '2021-10-09-St. Thomas-Northern Michigan'), ('Northern Michigan', 3, 'Left Wing', 'Rylan Van Unen', '2021-10-09-St. Thomas-Northern Michigan'), ('Northern Michigan', 3, 'Center', 'Alex Frye', '2021-10-09-St. Thomas-Northern Michigan')  ... displaying 10 of 42 total bound parameter sets ...  ('St. Thomas', 'Goalie 1', 'Goalie', 'Peter Thome', '2021-10-09-St. Thomas-Northern Michigan'), ('St. Thomas', 'Goalie 2', 'Goalie', 'Jacob Berger', '2021-10-09-St. Thomas-Northern Michigan')]]\n",
      "(Background on this error at: https://sqlalche.me/e/20/e3q8)\n"
     ]
    },
    {
     "name": "stderr",
     "output_type": "stream",
     "text": [
      "Scraping games:   7%|▋         | 72/1106 [03:22<48:36,  2.82s/it]"
     ]
    },
    {
     "name": "stdout",
     "output_type": "stream",
     "text": [
      "Error saving to table line_chart: (sqlite3.OperationalError) table line_chart has no column named Team\n",
      "[SQL: INSERT INTO line_chart (\"Team\", \"Line\", \"Position\", \"Player\", \"Game_ID\") VALUES (?, ?, ?, ?, ?)]\n",
      "[parameters: [('Boston University', 1, 'Left Wing', 'Robert Mastrosimone', '2021-10-09-Connecticut-Boston University'), ('Boston University', 1, 'Center', 'Matt Brown', '2021-10-09-Connecticut-Boston University'), ('Boston University', 1, 'Right Wing', 'Ethan Phillips', '2021-10-09-Connecticut-Boston University'), ('Boston University', 2, 'Left Wing', 'Logan Cockerill', '2021-10-09-Connecticut-Boston University'), ('Boston University', 2, 'Center', 'Wilmer Skoog', '2021-10-09-Connecticut-Boston University'), ('Boston University', 2, 'Right Wing', 'Tyler Boucher', '2021-10-09-Connecticut-Boston University'), ('Boston University', 3, 'Left Wing', 'Luke Tuch', '2021-10-09-Connecticut-Boston University'), ('Boston University', 3, 'Center', \"Jay O'Brien\", '2021-10-09-Connecticut-Boston University')  ... displaying 10 of 42 total bound parameter sets ...  ('Connecticut', 'Goalie 1', 'Goalie', 'Darion Hanson', '2021-10-09-Connecticut-Boston University'), ('Connecticut', 'Goalie 2', 'Goalie', 'Matt Pasquale', '2021-10-09-Connecticut-Boston University')]]\n",
      "(Background on this error at: https://sqlalche.me/e/20/e3q8)\n"
     ]
    },
    {
     "name": "stderr",
     "output_type": "stream",
     "text": [
      "Scraping games:   7%|▋         | 73/1106 [03:25<48:33,  2.82s/it]"
     ]
    },
    {
     "name": "stdout",
     "output_type": "stream",
     "text": [
      "Error saving to table line_chart: (sqlite3.OperationalError) table line_chart has no column named Team\n",
      "[SQL: INSERT INTO line_chart (\"Team\", \"Line\", \"Position\", \"Player\", \"Game_ID\") VALUES (?, ?, ?, ?, ?)]\n",
      "[parameters: [('Army', 1, 'Left Wing', 'Daniel Haider', '2021-10-14-Army-Wisconsin'), ('Army', 1, 'Center', 'Jake Felker', '2021-10-14-Army-Wisconsin'), ('Army', 1, 'Right Wing', 'Josh Bohlin', '2021-10-14-Army-Wisconsin'), ('Army', 2, 'Left Wing', 'Mitch Machlitt', '2021-10-14-Army-Wisconsin'), ('Army', 2, 'Center', 'Eric Butte', '2021-10-14-Army-Wisconsin'), ('Army', 2, 'Right Wing', 'Colin Bilek', '2021-10-14-Army-Wisconsin'), ('Army', 3, 'Left Wing', 'Brett Abdelnour', '2021-10-14-Army-Wisconsin'), ('Army', 3, 'Center', 'John Keranen', '2021-10-14-Army-Wisconsin')  ... displaying 10 of 40 total bound parameter sets ...  ('Wisconsin', 1, 'Extra', 'Jake', '2021-10-14-Army-Wisconsin'), ('Wisconsin', 'Goalie 1', 'Goalie', 'Cameron Rowe', '2021-10-14-Army-Wisconsin')]]\n",
      "(Background on this error at: https://sqlalche.me/e/20/e3q8)\n"
     ]
    },
    {
     "name": "stderr",
     "output_type": "stream",
     "text": [
      "Scraping games:   7%|▋         | 74/1106 [03:28<48:06,  2.80s/it]"
     ]
    },
    {
     "name": "stdout",
     "output_type": "stream",
     "text": [
      "Error saving to table line_chart: (sqlite3.OperationalError) table line_chart has no column named Team\n",
      "[SQL: INSERT INTO line_chart (\"Team\", \"Line\", \"Position\", \"Player\", \"Game_ID\") VALUES (?, ?, ?, ?, ?)]\n",
      "[parameters: [('Minnesota State', 1, 'Left Wing', 'Julian Napravnik', '2021-10-15-Minnesota State-Providence'), ('Minnesota State', 1, 'Center', 'Nathan Smith', '2021-10-15-Minnesota State-Providence'), ('Minnesota State', 1, 'Right Wing', 'Cade Borchardt', '2021-10-15-Minnesota State-Providence'), ('Minnesota State', 2, 'Left Wing', 'Reggie Lutz', '2021-10-15-Minnesota State-Providence'), ('Minnesota State', 2, 'Center', 'David Silye', '2021-10-15-Minnesota State-Providence'), ('Minnesota State', 2, 'Right Wing', 'Lucas Sowder', '2021-10-15-Minnesota State-Providence'), ('Minnesota State', 3, 'Left Wing', 'Sam Morton', '2021-10-15-Minnesota State-Providence'), ('Minnesota State', 3, 'Center', 'Brendan Furry', '2021-10-15-Minnesota State-Providence')  ... displaying 10 of 44 total bound parameter sets ...  ('Providence', 'Goalie 2', 'Goalie', 'Jimmy Scannell', '2021-10-15-Minnesota State-Providence'), ('Providence', 'Goalie 3', 'Goalie', 'Jaxson Stauber', '2021-10-15-Minnesota State-Providence')]]\n",
      "(Background on this error at: https://sqlalche.me/e/20/e3q8)\n"
     ]
    },
    {
     "name": "stderr",
     "output_type": "stream",
     "text": [
      "Scraping games:   7%|▋         | 75/1106 [03:31<49:38,  2.89s/it]"
     ]
    },
    {
     "name": "stdout",
     "output_type": "stream",
     "text": [
      "Error saving to table line_chart: (sqlite3.OperationalError) table line_chart has no column named Team\n",
      "[SQL: INSERT INTO line_chart (\"Team\", \"Line\", \"Position\", \"Player\", \"Game_ID\") VALUES (?, ?, ?, ?, ?)]\n",
      "[parameters: [('Michigan', 1, 'Left Wing', 'Eric Ciccolini', '2021-10-15-Michigan-Minnesota-Duluth'), ('Michigan', 1, 'Center', 'Jimmy Lambert', '2021-10-15-Michigan-Minnesota-Duluth'), ('Michigan', 1, 'Right Wing', 'Nick Granowicz', '2021-10-15-Michigan-Minnesota-Duluth'), ('Michigan', 2, 'Left Wing', 'Jay Keranen', '2021-10-15-Michigan-Minnesota-Duluth'), ('Michigan', 2, 'Center', 'Garrett Van Wyhe', '2021-10-15-Michigan-Minnesota-Duluth'), ('Michigan', 2, 'Right Wing', 'Nolan Moyle', '2021-10-15-Michigan-Minnesota-Duluth'), ('Michigan', 3, 'Left Wing', 'Michael Pastujov', '2021-10-15-Michigan-Minnesota-Duluth'), ('Michigan', 3, 'Center', 'Thomas Bordeleau', '2021-10-15-Michigan-Minnesota-Duluth')  ... displaying 10 of 44 total bound parameter sets ...  ('Minnesota-Duluth', 'Goalie 2', 'Goalie', 'Ryan Fanti', '2021-10-15-Michigan-Minnesota-Duluth'), ('Minnesota-Duluth', 'Goalie 3', 'Goalie', 'Zach Stejskal', '2021-10-15-Michigan-Minnesota-Duluth')]]\n",
      "(Background on this error at: https://sqlalche.me/e/20/e3q8)\n"
     ]
    },
    {
     "name": "stderr",
     "output_type": "stream",
     "text": [
      "Scraping games:   7%|▋         | 77/1106 [03:35<44:09,  2.58s/it]"
     ]
    },
    {
     "name": "stdout",
     "output_type": "stream",
     "text": [
      "Error saving to table line_chart: (sqlite3.OperationalError) table line_chart has no column named Team\n",
      "[SQL: INSERT INTO line_chart (\"Team\", \"Line\", \"Position\", \"Player\", \"Game_ID\") VALUES (?, ?, ?, ?, ?)]\n",
      "[parameters: [('Boston College', 1, 'Left Wing', 'Brandon Kruse', '2021-10-15-Northeastern-Boston College'), ('Boston College', 1, 'Center', 'Jack McBain', '2021-10-15-Northeastern-Boston College'), ('Boston College', 1, 'Right Wing', 'Colby Ambrosio', '2021-10-15-Northeastern-Boston College'), ('Boston College', 2, 'Left Wing', 'Trevor Kuntar', '2021-10-15-Northeastern-Boston College'), ('Boston College', 2, 'Center', 'Marc McLaughlin', '2021-10-15-Northeastern-Boston College'), ('Boston College', 2, 'Right Wing', 'Nikita Nesterenko', '2021-10-15-Northeastern-Boston College'), ('Boston College', 3, 'Left Wing', 'Mike Posma', '2021-10-15-Northeastern-Boston College'), ('Boston College', 3, 'Center', 'Patrick Giles', '2021-10-15-Northeastern-Boston College')  ... displaying 10 of 44 total bound parameter sets ...  ('Northeastern', 'Goalie 2', 'Goalie', 'Devon Levi', '2021-10-15-Northeastern-Boston College'), ('Northeastern', 'Goalie 3', 'Goalie', 'TJ Semptimphelter', '2021-10-15-Northeastern-Boston College')]]\n",
      "(Background on this error at: https://sqlalche.me/e/20/e3q8)\n"
     ]
    },
    {
     "name": "stderr",
     "output_type": "stream",
     "text": [
      "Scraping games:   7%|▋         | 78/1106 [03:38<45:15,  2.64s/it]"
     ]
    },
    {
     "name": "stdout",
     "output_type": "stream",
     "text": [
      "Error saving to table line_chart: (sqlite3.OperationalError) table line_chart has no column named Team\n",
      "[SQL: INSERT INTO line_chart (\"Team\", \"Line\", \"Position\", \"Player\", \"Game_ID\") VALUES (?, ?, ?, ?, ?)]\n",
      "[parameters: [('Colgate', 1, 'Left Wing', 'Colton Young', '2021-10-15-Merrimack-Colgate'), ('Colgate', 1, 'Center', 'Jeff Stewart', '2021-10-15-Merrimack-Colgate'), ('Colgate', 1, 'Right Wing', 'Ethan Manderville', '2021-10-15-Merrimack-Colgate'), ('Colgate', 2, 'Left Wing', 'Arnaud Vachon', '2021-10-15-Merrimack-Colgate'), ('Colgate', 2, 'Center', 'Josh McKechney', '2021-10-15-Merrimack-Colgate'), ('Colgate', 2, 'Right Wing', 'Alex Young', '2021-10-15-Merrimack-Colgate'), ('Colgate', 3, 'Left Wing', 'Matt Verboon', '2021-10-15-Merrimack-Colgate'), ('Colgate', 3, 'Center', 'Paul McAvoy', '2021-10-15-Merrimack-Colgate')  ... displaying 10 of 44 total bound parameter sets ...  ('Merrimack', 'Goalie 2', 'Goalie', 'Zachary Borgiel', '2021-10-15-Merrimack-Colgate'), ('Merrimack', 'Goalie 3', 'Goalie', 'Hugo Ollas', '2021-10-15-Merrimack-Colgate')]]\n",
      "(Background on this error at: https://sqlalche.me/e/20/e3q8)\n"
     ]
    },
    {
     "name": "stderr",
     "output_type": "stream",
     "text": [
      "Scraping games:   7%|▋         | 79/1106 [03:41<45:50,  2.68s/it]"
     ]
    },
    {
     "name": "stdout",
     "output_type": "stream",
     "text": [
      "Error saving to table line_chart: (sqlite3.OperationalError) table line_chart has no column named Team\n",
      "[SQL: INSERT INTO line_chart (\"Team\", \"Line\", \"Position\", \"Player\", \"Game_ID\") VALUES (?, ?, ?, ?, ?)]\n",
      "[parameters: [('Colorado College', 1, 'Left Wing', 'Marc Pasemko', '2021-10-15-Colorado College-Union'), ('Colorado College', 1, 'Center', 'Hunter McKown', '2021-10-15-Colorado College-Union'), ('Colorado College', 1, 'Right Wing', 'Brian Hawkinson', '2021-10-15-Colorado College-Union'), ('Colorado College', 2, 'Left Wing', 'Matthew Gleason', '2021-10-15-Colorado College-Union'), ('Colorado College', 2, 'Center', 'Noah Prokop', '2021-10-15-Colorado College-Union'), ('Colorado College', 2, 'Right Wing', 'Stanley Cooley', '2021-10-15-Colorado College-Union'), ('Colorado College', 3, 'Left Wing', 'Danny Weight', '2021-10-15-Colorado College-Union'), ('Colorado College', 3, 'Center', 'Jackson Jutting', '2021-10-15-Colorado College-Union')  ... displaying 10 of 43 total bound parameter sets ...  ('Union', 'Goalie 2', 'Goalie', 'Connor Murphy', '2021-10-15-Colorado College-Union'), ('Union', 'Goalie 3', 'Goalie', 'Joe Sharib', '2021-10-15-Colorado College-Union')]]\n",
      "(Background on this error at: https://sqlalche.me/e/20/e3q8)\n"
     ]
    },
    {
     "name": "stderr",
     "output_type": "stream",
     "text": [
      "Scraping games:   7%|▋         | 80/1106 [03:43<47:14,  2.76s/it]"
     ]
    },
    {
     "name": "stdout",
     "output_type": "stream",
     "text": [
      "Error saving to table line_chart: (sqlite3.OperationalError) table line_chart has no column named Team\n",
      "[SQL: INSERT INTO line_chart (\"Team\", \"Line\", \"Position\", \"Player\", \"Game_ID\") VALUES (?, ?, ?, ?, ?)]\n",
      "[parameters: [('Michigan Tech', 1, 'Left Wing', 'Alec Broetzman', '2021-10-15-Notre Dame-Michigan Tech'), ('Michigan Tech', 1, 'Center', 'Matthew Quercia', '2021-10-15-Notre Dame-Michigan Tech'), ('Michigan Tech', 1, 'Right Wing', 'Logan Pietila', '2021-10-15-Notre Dame-Michigan Tech'), ('Michigan Tech', 2, 'Left Wing', 'Trenton Bliss', '2021-10-15-Notre Dame-Michigan Tech'), ('Michigan Tech', 2, 'Center', 'Arvid Caderoth', '2021-10-15-Notre Dame-Michigan Tech'), ('Michigan Tech', 2, 'Right Wing', 'Tommy Parrottino', '2021-10-15-Notre Dame-Michigan Tech'), ('Michigan Tech', 3, 'Left Wing', 'Nick Nardella', '2021-10-15-Notre Dame-Michigan Tech'), ('Michigan Tech', 3, 'Center', 'Parker Saretsky', '2021-10-15-Notre Dame-Michigan Tech')  ... displaying 10 of 43 total bound parameter sets ...  ('Notre Dame', 'Goalie 2', 'Goalie', 'Matthew Galajda', '2021-10-15-Notre Dame-Michigan Tech'), ('Notre Dame', 'Goalie 3', 'Goalie', 'Josh Graziano', '2021-10-15-Notre Dame-Michigan Tech')]]\n",
      "(Background on this error at: https://sqlalche.me/e/20/e3q8)\n"
     ]
    },
    {
     "name": "stderr",
     "output_type": "stream",
     "text": [
      "Scraping games:   7%|▋         | 82/1106 [03:49<47:50,  2.80s/it]"
     ]
    },
    {
     "name": "stdout",
     "output_type": "stream",
     "text": [
      "Error saving to table line_chart: (sqlite3.OperationalError) table line_chart has no column named Team\n",
      "[SQL: INSERT INTO line_chart (\"Team\", \"Line\", \"Position\", \"Player\", \"Game_ID\") VALUES (?, ?, ?, ?, ?)]\n",
      "[parameters: [('Canisius', 1, 'Left Wing', 'Mitchell Martan', '2021-10-15-Canisius-Rensselaer'), ('Canisius', 1, 'Center', 'Lee Lapid', '2021-10-15-Canisius-Rensselaer'), ('Canisius', 1, 'Right Wing', 'Keaton Mastrodonato', '2021-10-15-Canisius-Rensselaer'), ('Canisius', 2, 'Left Wing', 'Max Kouznetsov', '2021-10-15-Canisius-Rensselaer'), ('Canisius', 2, 'Center', 'Simon Gravel', '2021-10-15-Canisius-Rensselaer'), ('Canisius', 2, 'Right Wing', 'Randy Hernandez', '2021-10-15-Canisius-Rensselaer'), ('Canisius', 3, 'Left Wing', 'Daniel DiGrande', '2021-10-15-Canisius-Rensselaer'), ('Canisius', 3, 'Center', 'Ryan Miotto', '2021-10-15-Canisius-Rensselaer')  ... displaying 10 of 43 total bound parameter sets ...  ('Rensselaer', 'Goalie 2', 'Goalie', 'Brett Miller', '2021-10-15-Canisius-Rensselaer'), ('Rensselaer', 'Goalie 3', 'Goalie', 'Jack Watson', '2021-10-15-Canisius-Rensselaer')]]\n",
      "(Background on this error at: https://sqlalche.me/e/20/e3q8)\n"
     ]
    },
    {
     "name": "stderr",
     "output_type": "stream",
     "text": [
      "Scraping games:   8%|▊         | 83/1106 [03:52<47:41,  2.80s/it]"
     ]
    },
    {
     "name": "stdout",
     "output_type": "stream",
     "text": [
      "Error saving to table line_chart: (sqlite3.OperationalError) table line_chart has no column named Team\n",
      "[SQL: INSERT INTO line_chart (\"Team\", \"Line\", \"Position\", \"Player\", \"Game_ID\") VALUES (?, ?, ?, ?, ?)]\n",
      "[parameters: [('Miami', 1, 'Left Wing', 'Chase Gresock', '2021-10-15-Miami-Michigan State'), ('Miami', 1, 'Center', 'Michael Regush', '2021-10-15-Miami-Michigan State'), ('Miami', 1, 'Right Wing', 'Matt Barry', '2021-10-15-Miami-Michigan State'), ('Miami', 2, 'Left Wing', 'Matthew Barbolini', '2021-10-15-Miami-Michigan State'), ('Miami', 2, 'Center', 'Red Savage', '2021-10-15-Miami-Michigan State'), ('Miami', 2, 'Right Wing', 'Ryan Savage', '2021-10-15-Miami-Michigan State'), ('Miami', 3, 'Left Wing', 'Joe Cassetti', '2021-10-15-Miami-Michigan State'), ('Miami', 3, 'Center', 'Thomas Daskas', '2021-10-15-Miami-Michigan State')  ... displaying 10 of 46 total bound parameter sets ...  ('Michigan State', 'Goalie 2', 'Goalie', 'Pierce Charleson', '2021-10-15-Miami-Michigan State'), ('Michigan State', 'Goalie 3', 'Goalie', 'Jon Mor', '2021-10-15-Miami-Michigan State')]]\n",
      "(Background on this error at: https://sqlalche.me/e/20/e3q8)\n"
     ]
    },
    {
     "name": "stderr",
     "output_type": "stream",
     "text": [
      "Scraping games:   8%|▊         | 84/1106 [03:55<47:40,  2.80s/it]"
     ]
    },
    {
     "name": "stdout",
     "output_type": "stream",
     "text": [
      "Error saving to table line_chart: (sqlite3.OperationalError) table line_chart has no column named Team\n",
      "[SQL: INSERT INTO line_chart (\"Team\", \"Line\", \"Position\", \"Player\", \"Game_ID\") VALUES (?, ?, ?, ?, ?)]\n",
      "[parameters: [(\"American Int'l\", 1, 'Left Wing', 'Luka Maver', \"2021-10-15-Massachusetts-American Int'l\"), (\"American Int'l\", 1, 'Center', 'Elijiah Barriga', \"2021-10-15-Massachusetts-American Int'l\"), (\"American Int'l\", 1, 'Right Wing', 'Brian Rigali', \"2021-10-15-Massachusetts-American Int'l\"), (\"American Int'l\", 2, 'Left Wing', 'Justin Cole', \"2021-10-15-Massachusetts-American Int'l\"), (\"American Int'l\", 2, 'Center', 'Julius Janhonen', \"2021-10-15-Massachusetts-American Int'l\"), (\"American Int'l\", 2, 'Right Wing', 'Chris Dodero', \"2021-10-15-Massachusetts-American Int'l\"), (\"American Int'l\", 3, 'Left Wing', 'Chris Van Os-Shaw', \"2021-10-15-Massachusetts-American Int'l\"), (\"American Int'l\", 3, 'Center', 'Jake Stella', \"2021-10-15-Massachusetts-American Int'l\")  ... displaying 10 of 43 total bound parameter sets ...  ('Massachusetts', 'Goalie 1', 'Goalie', 'Matt Murray', \"2021-10-15-Massachusetts-American Int'l\"), ('Massachusetts', 'Goalie 2', 'Goalie', 'Luke Pavicich', \"2021-10-15-Massachusetts-American Int'l\")]]\n",
      "(Background on this error at: https://sqlalche.me/e/20/e3q8)\n"
     ]
    },
    {
     "name": "stderr",
     "output_type": "stream",
     "text": [
      "Scraping games:   8%|▊         | 85/1106 [03:57<46:57,  2.76s/it]"
     ]
    },
    {
     "name": "stdout",
     "output_type": "stream",
     "text": [
      "Error saving to table line_chart: (sqlite3.OperationalError) table line_chart has no column named Team\n",
      "[SQL: INSERT INTO line_chart (\"Team\", \"Line\", \"Position\", \"Player\", \"Game_ID\") VALUES (?, ?, ?, ?, ?)]\n",
      "[parameters: [('Boston University', 1, 'Left Wing', 'Nick Zabaneh', '2021-10-15-Sacred Heart-Boston University'), ('Boston University', 1, 'Center', 'Markus Boguslavsky', '2021-10-15-Sacred Heart-Boston University'), ('Boston University', 1, 'Right Wing', 'Tyler Boucher', '2021-10-15-Sacred Heart-Boston University'), ('Boston University', 2, 'Left Wing', 'Ethan Phillips', '2021-10-15-Sacred Heart-Boston University'), ('Boston University', 2, 'Center', 'Wilmer Skoog', '2021-10-15-Sacred Heart-Boston University'), ('Boston University', 2, 'Right Wing', 'Dylan Peterson', '2021-10-15-Sacred Heart-Boston University'), ('Boston University', 3, 'Left Wing', 'Luke Tuch', '2021-10-15-Sacred Heart-Boston University'), ('Boston University', 3, 'Center', 'Matt Brown', '2021-10-15-Sacred Heart-Boston University')  ... displaying 10 of 42 total bound parameter sets ...  ('Sacred Heart', 'Goalie 1', 'Goalie', \"Jack O'Dea\", '2021-10-15-Sacred Heart-Boston University'), ('Sacred Heart', 'Goalie 2', 'Goalie', 'Justin Robbins', '2021-10-15-Sacred Heart-Boston University')]]\n",
      "(Background on this error at: https://sqlalche.me/e/20/e3q8)\n"
     ]
    },
    {
     "name": "stderr",
     "output_type": "stream",
     "text": [
      "Scraping games:   8%|▊         | 86/1106 [04:00<46:21,  2.73s/it]"
     ]
    },
    {
     "name": "stdout",
     "output_type": "stream",
     "text": [
      "Error saving to table line_chart: (sqlite3.OperationalError) table line_chart has no column named Team\n",
      "[SQL: INSERT INTO line_chart (\"Team\", \"Line\", \"Position\", \"Player\", \"Game_ID\") VALUES (?, ?, ?, ?, ?)]\n",
      "[parameters: [('Minnesota', 1, 'Left Wing', 'Blake McLaughlin', '2021-10-15-St. Cloud State-Minnesota'), ('Minnesota', 1, 'Center', 'Sammy Walker', '2021-10-15-St. Cloud State-Minnesota'), ('Minnesota', 1, 'Right Wing', 'Bryce Brodzinski', '2021-10-15-St. Cloud State-Minnesota'), ('Minnesota', 2, 'Left Wing', 'Tristan Broz', '2021-10-15-St. Cloud State-Minnesota'), ('Minnesota', 2, 'Center', 'Aaron Huglen', '2021-10-15-St. Cloud State-Minnesota'), ('Minnesota', 2, 'Right Wing', 'Mason Nevers', '2021-10-15-St. Cloud State-Minnesota'), ('Minnesota', 3, 'Left Wing', 'Grant Cruikshank', '2021-10-15-St. Cloud State-Minnesota'), ('Minnesota', 3, 'Center', 'Jaxon Nelson', '2021-10-15-St. Cloud State-Minnesota')  ... displaying 10 of 43 total bound parameter sets ...  ('St. Cloud State', 'Goalie 2', 'Goalie', 'Joey Lamoreaux', '2021-10-15-St. Cloud State-Minnesota'), ('St. Cloud State', 'Goalie 3', 'Goalie', 'Jaxon Castor', '2021-10-15-St. Cloud State-Minnesota')]]\n",
      "(Background on this error at: https://sqlalche.me/e/20/e3q8)\n"
     ]
    },
    {
     "name": "stderr",
     "output_type": "stream",
     "text": [
      "Scraping games:   8%|▊         | 88/1106 [04:06<48:55,  2.88s/it]"
     ]
    },
    {
     "name": "stdout",
     "output_type": "stream",
     "text": [
      "Error saving to table line_chart: (sqlite3.OperationalError) table line_chart has no column named Team\n",
      "[SQL: INSERT INTO line_chart (\"Team\", \"Line\", \"Position\", \"Player\", \"Game_ID\") VALUES (?, ?, ?, ?, ?)]\n",
      "[parameters: [('Army', 1, 'Left Wing', 'Daniel Haider', '2021-10-15-Army-Wisconsin'), ('Army', 1, 'Center', 'Eric Butte', '2021-10-15-Army-Wisconsin'), ('Army', 1, 'Right Wing', 'Colin Bilek', '2021-10-15-Army-Wisconsin'), ('Army', 2, 'Left Wing', 'Mitch Machlitt', '2021-10-15-Army-Wisconsin'), ('Army', 2, 'Center', 'Jake Felker', '2021-10-15-Army-Wisconsin'), ('Army', 2, 'Right Wing', 'Ricky Lyle', '2021-10-15-Army-Wisconsin'), ('Army', 3, 'Left Wing', 'Brett Abdelnour', '2021-10-15-Army-Wisconsin'), ('Army', 3, 'Center', 'John Keranen', '2021-10-15-Army-Wisconsin')  ... displaying 10 of 44 total bound parameter sets ...  ('Wisconsin', 'Goalie 2', 'Goalie', 'Cameron Rowe', '2021-10-15-Army-Wisconsin'), ('Wisconsin', 'Goalie 3', 'Goalie', 'Ben Garrity', '2021-10-15-Army-Wisconsin')]]\n",
      "(Background on this error at: https://sqlalche.me/e/20/e3q8)\n"
     ]
    },
    {
     "name": "stderr",
     "output_type": "stream",
     "text": [
      "Scraping games:   8%|▊         | 89/1106 [04:09<48:43,  2.88s/it]"
     ]
    },
    {
     "name": "stdout",
     "output_type": "stream",
     "text": [
      "Error saving to table line_chart: (sqlite3.OperationalError) table line_chart has no column named Team\n",
      "[SQL: INSERT INTO line_chart (\"Team\", \"Line\", \"Position\", \"Player\", \"Game_ID\") VALUES (?, ?, ?, ?, ?)]\n",
      "[parameters: [('Bemidji State', 1, 'Left Wing', 'Lukas Sillinger', '2021-10-15-North Dakota-Bemidji State'), ('Bemidji State', 1, 'Center', 'Owen Sillinger', '2021-10-15-North Dakota-Bemidji State'), ('Bemidji State', 1, 'Right Wing', 'Alex Ierullo', '2021-10-15-North Dakota-Bemidji State'), ('Bemidji State', 2, 'Left Wing', 'Ethan Somoza', '2021-10-15-North Dakota-Bemidji State'), ('Bemidji State', 2, 'Center', 'Ross Armour', '2021-10-15-North Dakota-Bemidji State'), ('Bemidji State', 2, 'Right Wing', 'Eric Martin', '2021-10-15-North Dakota-Bemidji State'), ('Bemidji State', 3, 'Left Wing', 'Jakub Lewandowski', '2021-10-15-North Dakota-Bemidji State'), ('Bemidji State', 3, 'Center', 'Tyler Kirkup', '2021-10-15-North Dakota-Bemidji State')  ... displaying 10 of 44 total bound parameter sets ...  ('North Dakota', 'Goalie 2', 'Goalie', 'Kaleb Johnson', '2021-10-15-North Dakota-Bemidji State'), ('North Dakota', 'Goalie 3', 'Goalie', 'Jakob Hellsten', '2021-10-15-North Dakota-Bemidji State')]]\n",
      "(Background on this error at: https://sqlalche.me/e/20/e3q8)\n"
     ]
    },
    {
     "name": "stderr",
     "output_type": "stream",
     "text": [
      "Scraping games:   8%|▊         | 90/1106 [04:12<47:23,  2.80s/it]"
     ]
    },
    {
     "name": "stdout",
     "output_type": "stream",
     "text": [
      "Error saving to table line_chart: (sqlite3.OperationalError) table line_chart has no column named Team\n",
      "[SQL: INSERT INTO line_chart (\"Team\", \"Line\", \"Position\", \"Player\", \"Game_ID\") VALUES (?, ?, ?, ?, ?)]\n",
      "[parameters: [('Air Force', 1, 'Left Wing', 'Nate Horn', '2021-10-15-Denver-Air Force'), ('Air Force', 1, 'Center', 'Andrew DeCarlo', '2021-10-15-Denver-Air Force'), ('Air Force', 1, 'Right Wing', 'Willie Reim', '2021-10-15-Denver-Air Force'), ('Air Force', 2, 'Left Wing', 'Will Gavin', '2021-10-15-Denver-Air Force'), ('Air Force', 2, 'Center', 'Clayton Cosentino', '2021-10-15-Denver-Air Force'), ('Air Force', 2, 'Right Wing', 'Parker Brown', '2021-10-15-Denver-Air Force'), ('Air Force', 3, 'Left Wing', 'Brian Adams', '2021-10-15-Denver-Air Force'), ('Air Force', 3, 'Center', 'Lucas Coon', '2021-10-15-Denver-Air Force')  ... displaying 10 of 43 total bound parameter sets ...  ('Denver', 'Goalie 1', 'Goalie', 'Magnus Chrona', '2021-10-15-Denver-Air Force'), ('Denver', 'Goalie 2', 'Goalie', 'Matt Davis', '2021-10-15-Denver-Air Force')]]\n",
      "(Background on this error at: https://sqlalche.me/e/20/e3q8)\n"
     ]
    },
    {
     "name": "stderr",
     "output_type": "stream",
     "text": [
      "Scraping games:   8%|▊         | 91/1106 [04:14<47:12,  2.79s/it]"
     ]
    },
    {
     "name": "stdout",
     "output_type": "stream",
     "text": [
      "Error saving to table line_chart: (sqlite3.OperationalError) table line_chart has no column named Team\n",
      "[SQL: INSERT INTO line_chart (\"Team\", \"Line\", \"Position\", \"Player\", \"Game_ID\") VALUES (?, ?, ?, ?, ?)]\n",
      "[parameters: [('New Hampshire', 1, 'Left Wing', 'Tyler Ward', '2021-10-15-New Hampshire-Arizona State'), ('New Hampshire', 1, 'Center', 'Jackson Pierson', '2021-10-15-New Hampshire-Arizona State'), ('New Hampshire', 1, 'Right Wing', 'Robert Cronin', '2021-10-15-New Hampshire-Arizona State'), ('New Hampshire', 2, 'Left Wing', 'Chase Stevenson', '2021-10-15-New Hampshire-Arizona State'), ('New Hampshire', 2, 'Center', 'Filip Engaras', '2021-10-15-New Hampshire-Arizona State'), ('New Hampshire', 2, 'Right Wing', 'Eric MacAdams', '2021-10-15-New Hampshire-Arizona State'), ('New Hampshire', 3, 'Left Wing', 'Carsen Richels', '2021-10-15-New Hampshire-Arizona State'), ('New Hampshire', 3, 'Center', 'Harrison Blaisdell', '2021-10-15-New Hampshire-Arizona State')  ... displaying 10 of 42 total bound parameter sets ...  ('Arizona State', 'Goalie 1', 'Goalie', 'Ben Kraws', '2021-10-15-New Hampshire-Arizona State'), ('Arizona State', 'Goalie 2', 'Goalie', 'Cole Brady', '2021-10-15-New Hampshire-Arizona State')]]\n",
      "(Background on this error at: https://sqlalche.me/e/20/e3q8)\n"
     ]
    },
    {
     "name": "stderr",
     "output_type": "stream",
     "text": [
      "Scraping games:   8%|▊         | 92/1106 [04:17<47:44,  2.82s/it]"
     ]
    },
    {
     "name": "stdout",
     "output_type": "stream",
     "text": [
      "Error saving to table line_chart: (sqlite3.OperationalError) table line_chart has no column named Team\n",
      "[SQL: INSERT INTO line_chart (\"Team\", \"Line\", \"Position\", \"Player\", \"Game_ID\") VALUES (?, ?, ?, ?, ?)]\n",
      "[parameters: [('Holy Cross', 1, 'Left Wing', 'John Gelatt', '2021-10-15-Holy Cross-Mercyhurst'), ('Holy Cross', 1, 'Center', 'Matt Guerra', '2021-10-15-Holy Cross-Mercyhurst'), ('Holy Cross', 1, 'Right Wing', 'Alec Cicero', '2021-10-15-Holy Cross-Mercyhurst'), ('Holy Cross', 2, 'Left Wing', 'Jack Ricketts', '2021-10-15-Holy Cross-Mercyhurst'), ('Holy Cross', 2, 'Center', 'Jack MacNab', '2021-10-15-Holy Cross-Mercyhurst'), ('Holy Cross', 2, 'Right Wing', 'Grayson Constable', '2021-10-15-Holy Cross-Mercyhurst'), ('Holy Cross', 3, 'Left Wing', 'Tyler Ghirardosi', '2021-10-15-Holy Cross-Mercyhurst'), ('Holy Cross', 3, 'Center', 'Daniel Colabufo', '2021-10-15-Holy Cross-Mercyhurst')  ... displaying 10 of 43 total bound parameter sets ...  ('Mercyhurst', 'Goalie 1', 'Goalie', 'Hank Johnson', '2021-10-15-Holy Cross-Mercyhurst'), ('Mercyhurst', 'Goalie 2', 'Goalie', 'Kyle McClellan', '2021-10-15-Holy Cross-Mercyhurst')]]\n",
      "(Background on this error at: https://sqlalche.me/e/20/e3q8)\n"
     ]
    },
    {
     "name": "stderr",
     "output_type": "stream",
     "text": [
      "Scraping games:   8%|▊         | 93/1106 [04:20<47:18,  2.80s/it]"
     ]
    },
    {
     "name": "stdout",
     "output_type": "stream",
     "text": [
      "Error saving to table line_chart: (sqlite3.OperationalError) table line_chart has no column named Team\n",
      "[SQL: INSERT INTO line_chart (\"Team\", \"Line\", \"Position\", \"Player\", \"Game_ID\") VALUES (?, ?, ?, ?, ?)]\n",
      "[parameters: [('Lake Superior', 1, 'Left Wing', 'Miroslav Mucha', '2021-10-15-St. Thomas-Lake Superior'), ('Lake Superior', 1, 'Center', 'Louis Boudon', '2021-10-15-St. Thomas-Lake Superior'), ('Lake Superior', 1, 'Right Wing', 'Brandon Puricelli', '2021-10-15-St. Thomas-Lake Superior'), ('Lake Superior', 2, 'Left Wing', 'Brett Roloson', '2021-10-15-St. Thomas-Lake Superior'), ('Lake Superior', 2, 'Center', 'Dustin Manz', '2021-10-15-St. Thomas-Lake Superior'), ('Lake Superior', 2, 'Right Wing', 'Cole Craft', '2021-10-15-St. Thomas-Lake Superior'), ('Lake Superior', 3, 'Left Wing', 'Logan Jenuwine', '2021-10-15-St. Thomas-Lake Superior'), ('Lake Superior', 3, 'Center', 'Harrison Roy', '2021-10-15-St. Thomas-Lake Superior')  ... displaying 10 of 43 total bound parameter sets ...  ('St. Thomas', 'Goalie 1', 'Goalie', 'Peter Thome', '2021-10-15-St. Thomas-Lake Superior'), ('St. Thomas', 'Goalie 2', 'Goalie', 'Jacob Berger', '2021-10-15-St. Thomas-Lake Superior')]]\n",
      "(Background on this error at: https://sqlalche.me/e/20/e3q8)\n"
     ]
    },
    {
     "name": "stderr",
     "output_type": "stream",
     "text": [
      "Scraping games:   9%|▊         | 95/1106 [04:26<49:24,  2.93s/it]"
     ]
    },
    {
     "name": "stdout",
     "output_type": "stream",
     "text": [
      "Error saving to table line_chart: (sqlite3.OperationalError) table line_chart has no column named Team\n",
      "[SQL: INSERT INTO line_chart (\"Team\", \"Line\", \"Position\", \"Player\", \"Game_ID\") VALUES (?, ?, ?, ?, ?)]\n",
      "[parameters: [('Colgate', 1, 'Left Wing', 'Colton Young', '2021-10-16-Merrimack-Colgate'), ('Colgate', 1, 'Center', 'Jeff Stewart', '2021-10-16-Merrimack-Colgate'), ('Colgate', 1, 'Right Wing', 'Ethan Manderville', '2021-10-16-Merrimack-Colgate'), ('Colgate', 2, 'Left Wing', 'Arnaud Vachon', '2021-10-16-Merrimack-Colgate'), ('Colgate', 2, 'Center', 'Josh McKechney', '2021-10-16-Merrimack-Colgate'), ('Colgate', 2, 'Right Wing', 'Alex Young', '2021-10-16-Merrimack-Colgate'), ('Colgate', 3, 'Left Wing', 'Matt Verboon', '2021-10-16-Merrimack-Colgate'), ('Colgate', 3, 'Center', 'Paul McAvoy', '2021-10-16-Merrimack-Colgate')  ... displaying 10 of 44 total bound parameter sets ...  ('Merrimack', 'Goalie 2', 'Goalie', 'Zachary Borgiel', '2021-10-16-Merrimack-Colgate'), ('Merrimack', 'Goalie 3', 'Goalie', 'Hugo Ollas', '2021-10-16-Merrimack-Colgate')]]\n",
      "(Background on this error at: https://sqlalche.me/e/20/e3q8)\n"
     ]
    },
    {
     "name": "stderr",
     "output_type": "stream",
     "text": [
      "Scraping games:   9%|▊         | 96/1106 [04:29<48:44,  2.90s/it]"
     ]
    },
    {
     "name": "stdout",
     "output_type": "stream",
     "text": [
      "Error saving to table line_chart: (sqlite3.OperationalError) table line_chart has no column named Team\n",
      "[SQL: INSERT INTO line_chart (\"Team\", \"Line\", \"Position\", \"Player\", \"Game_ID\") VALUES (?, ?, ?, ?, ?)]\n",
      "[parameters: [('Minnesota', 1, 'Left Wing', 'Blake McLaughlin', '2021-10-16-Minnesota-St. Cloud State'), ('Minnesota', 1, 'Center', 'Sammy Walker', '2021-10-16-Minnesota-St. Cloud State'), ('Minnesota', 1, 'Right Wing', 'Bryce Brodzinski', '2021-10-16-Minnesota-St. Cloud State'), ('Minnesota', 2, 'Left Wing', 'Matthew Knies', '2021-10-16-Minnesota-St. Cloud State'), ('Minnesota', 2, 'Center', 'Ben Meyers', '2021-10-16-Minnesota-St. Cloud State'), ('Minnesota', 2, 'Right Wing', 'Chaz Lucius', '2021-10-16-Minnesota-St. Cloud State'), ('Minnesota', 3, 'Left Wing', 'Grant Cruikshank', '2021-10-16-Minnesota-St. Cloud State'), ('Minnesota', 3, 'Center', 'Jaxon Nelson', '2021-10-16-Minnesota-St. Cloud State')  ... displaying 10 of 43 total bound parameter sets ...  ('St. Cloud State', 'Goalie 2', 'Goalie', 'Joey Lamoreaux', '2021-10-16-Minnesota-St. Cloud State'), ('St. Cloud State', 'Goalie 3', 'Goalie', 'Jaxon Castor', '2021-10-16-Minnesota-St. Cloud State')]]\n",
      "(Background on this error at: https://sqlalche.me/e/20/e3q8)\n"
     ]
    },
    {
     "name": "stderr",
     "output_type": "stream",
     "text": [
      "Scraping games:   9%|▉         | 97/1106 [04:32<47:53,  2.85s/it]"
     ]
    },
    {
     "name": "stdout",
     "output_type": "stream",
     "text": [
      "Error saving to table line_chart: (sqlite3.OperationalError) table line_chart has no column named Team\n",
      "[SQL: INSERT INTO line_chart (\"Team\", \"Line\", \"Position\", \"Player\", \"Game_ID\") VALUES (?, ?, ?, ?, ?)]\n",
      "[parameters: [('New Hampshire', 1, 'Left Wing', 'Tyler Ward', '2021-10-16-New Hampshire-Arizona State'), ('New Hampshire', 1, 'Center', 'Jackson Pierson', '2021-10-16-New Hampshire-Arizona State'), ('New Hampshire', 1, 'Right Wing', 'Robert Cronin', '2021-10-16-New Hampshire-Arizona State'), ('New Hampshire', 2, 'Left Wing', 'Liam Devlin', '2021-10-16-New Hampshire-Arizona State'), ('New Hampshire', 2, 'Center', 'Filip Engaras', '2021-10-16-New Hampshire-Arizona State'), ('New Hampshire', 2, 'Right Wing', 'Eric MacAdams', '2021-10-16-New Hampshire-Arizona State'), ('New Hampshire', 3, 'Left Wing', 'Chase Stevenson', '2021-10-16-New Hampshire-Arizona State'), ('New Hampshire', 3, 'Center', 'Harrison Blaisdell', '2021-10-16-New Hampshire-Arizona State')  ... displaying 10 of 42 total bound parameter sets ...  ('Arizona State', 'Goalie 1', 'Goalie', 'Ben Kraws', '2021-10-16-New Hampshire-Arizona State'), ('Arizona State', 'Goalie 2', 'Goalie', 'Cole Brady', '2021-10-16-New Hampshire-Arizona State')]]\n",
      "(Background on this error at: https://sqlalche.me/e/20/e3q8)\n"
     ]
    },
    {
     "name": "stderr",
     "output_type": "stream",
     "text": [
      "Scraping games:   9%|▉         | 98/1106 [04:35<47:41,  2.84s/it]"
     ]
    },
    {
     "name": "stdout",
     "output_type": "stream",
     "text": [
      "Error saving to table line_chart: (sqlite3.OperationalError) table line_chart has no column named Team\n",
      "[SQL: INSERT INTO line_chart (\"Team\", \"Line\", \"Position\", \"Player\", \"Game_ID\") VALUES (?, ?, ?, ?, ?)]\n",
      "[parameters: [('Northern Michigan', 1, 'Left Wing', 'Michael Colella', '2021-10-16-Notre Dame-Northern Michigan'), ('Northern Michigan', 1, 'Center', 'Joseph Nardi', '2021-10-16-Notre Dame-Northern Michigan'), ('Northern Michigan', 1, 'Right Wing', 'Andre Ghantous', '2021-10-16-Notre Dame-Northern Michigan'), ('Northern Michigan', 2, 'Left Wing', 'Hank Crone', '2021-10-16-Notre Dame-Northern Michigan'), ('Northern Michigan', 2, 'Center', 'Hampus Eriksson', '2021-10-16-Notre Dame-Northern Michigan'), ('Northern Michigan', 2, 'Right Wing', 'AJ Vanderbeck', '2021-10-16-Notre Dame-Northern Michigan'), ('Northern Michigan', 3, 'Left Wing', 'Rylan Van Unen', '2021-10-16-Notre Dame-Northern Michigan'), ('Northern Michigan', 3, 'Center', 'Alex Frye', '2021-10-16-Notre Dame-Northern Michigan')  ... displaying 10 of 44 total bound parameter sets ...  ('Notre Dame', 'Goalie 2', 'Goalie', 'Matthew Galajda', '2021-10-16-Notre Dame-Northern Michigan'), ('Notre Dame', 'Goalie 3', 'Goalie', 'Josh Graziano', '2021-10-16-Notre Dame-Northern Michigan')]]\n",
      "(Background on this error at: https://sqlalche.me/e/20/e3q8)\n"
     ]
    },
    {
     "name": "stderr",
     "output_type": "stream",
     "text": [
      "Scraping games:   9%|▉         | 99/1106 [04:37<47:40,  2.84s/it]"
     ]
    },
    {
     "name": "stdout",
     "output_type": "stream",
     "text": [
      "Error saving to table line_chart: (sqlite3.OperationalError) table line_chart has no column named Team\n",
      "[SQL: INSERT INTO line_chart (\"Team\", \"Line\", \"Position\", \"Player\", \"Game_ID\") VALUES (?, ?, ?, ?, ?)]\n",
      "[parameters: [('Miami', 1, 'Left Wing', 'Chase Gresock', '2021-10-16-Miami-Michigan State'), ('Miami', 1, 'Center', 'Michael Regush', '2021-10-16-Miami-Michigan State'), ('Miami', 1, 'Right Wing', 'Matt Barry', '2021-10-16-Miami-Michigan State'), ('Miami', 2, 'Left Wing', 'Matthew Barbolini', '2021-10-16-Miami-Michigan State'), ('Miami', 2, 'Center', 'Monte Graham', '2021-10-16-Miami-Michigan State'), ('Miami', 2, 'Right Wing', 'Jack Olmstead', '2021-10-16-Miami-Michigan State'), ('Miami', 3, 'Left Wing', 'Chase Pletzke', '2021-10-16-Miami-Michigan State'), ('Miami', 3, 'Center', 'Red Savage', '2021-10-16-Miami-Michigan State')  ... displaying 10 of 45 total bound parameter sets ...  ('Michigan State', 'Goalie 2', 'Goalie', 'Pierce Charleson', '2021-10-16-Miami-Michigan State'), ('Michigan State', 'Goalie 3', 'Goalie', 'Jon Mor', '2021-10-16-Miami-Michigan State')]]\n",
      "(Background on this error at: https://sqlalche.me/e/20/e3q8)\n"
     ]
    },
    {
     "name": "stderr",
     "output_type": "stream",
     "text": [
      "Scraping games:   9%|▉         | 100/1106 [04:40<47:36,  2.84s/it]"
     ]
    },
    {
     "name": "stdout",
     "output_type": "stream",
     "text": [
      "Error saving to table line_chart: (sqlite3.OperationalError) table line_chart has no column named Team\n",
      "[SQL: INSERT INTO line_chart (\"Team\", \"Line\", \"Position\", \"Player\", \"Game_ID\") VALUES (?, ?, ?, ?, ?)]\n",
      "[parameters: [('Canisius', 1, 'Left Wing', 'Mitchell Martan', '2021-10-16-Canisius-Rensselaer'), ('Canisius', 1, 'Center', 'Lee Lapid', '2021-10-16-Canisius-Rensselaer'), ('Canisius', 1, 'Right Wing', 'Keaton Mastrodonato', '2021-10-16-Canisius-Rensselaer'), ('Canisius', 2, 'Left Wing', 'Max Kouznetsov', '2021-10-16-Canisius-Rensselaer'), ('Canisius', 2, 'Center', 'Alex Ambrosio', '2021-10-16-Canisius-Rensselaer'), ('Canisius', 2, 'Right Wing', 'J.D. Pogue', '2021-10-16-Canisius-Rensselaer'), ('Canisius', 3, 'Left Wing', 'Alton McDermott', '2021-10-16-Canisius-Rensselaer'), ('Canisius', 3, 'Center', 'Ryan Miotto', '2021-10-16-Canisius-Rensselaer')  ... displaying 10 of 43 total bound parameter sets ...  ('Rensselaer', 'Goalie 2', 'Goalie', 'Brett Miller', '2021-10-16-Canisius-Rensselaer'), ('Rensselaer', 'Goalie 3', 'Goalie', 'Jack Watson', '2021-10-16-Canisius-Rensselaer')]]\n",
      "(Background on this error at: https://sqlalche.me/e/20/e3q8)\n"
     ]
    },
    {
     "name": "stderr",
     "output_type": "stream",
     "text": [
      "Scraping games:   9%|▉         | 101/1106 [04:43<47:11,  2.82s/it]"
     ]
    },
    {
     "name": "stdout",
     "output_type": "stream",
     "text": [
      "Error saving to table line_chart: (sqlite3.OperationalError) table line_chart has no column named Team\n",
      "[SQL: INSERT INTO line_chart (\"Team\", \"Line\", \"Position\", \"Player\", \"Game_ID\") VALUES (?, ?, ?, ?, ?)]\n",
      "[parameters: [('Colorado College', 1, 'Left Wing', 'Tyler Coffey', '2021-10-16-Colorado College-Union'), ('Colorado College', 1, 'Center', 'Stanley Cooley', '2021-10-16-Colorado College-Union'), ('Colorado College', 1, 'Right Wing', 'Hunter McKown', '2021-10-16-Colorado College-Union'), ('Colorado College', 2, 'Left Wing', 'Danny Weight', '2021-10-16-Colorado College-Union'), ('Colorado College', 2, 'Center', 'Logan Will', '2021-10-16-Colorado College-Union'), ('Colorado College', 2, 'Right Wing', 'Patrick Cozzi', '2021-10-16-Colorado College-Union'), ('Colorado College', 3, 'Left Wing', 'Jordan Biro', '2021-10-16-Colorado College-Union'), ('Colorado College', 3, 'Center', 'Brian Hawkinson', '2021-10-16-Colorado College-Union')  ... displaying 10 of 43 total bound parameter sets ...  ('Union', 'Goalie 2', 'Goalie', 'Merek Pipes', '2021-10-16-Colorado College-Union'), ('Union', 'Goalie 3', 'Goalie', 'Connor Murphy', '2021-10-16-Colorado College-Union')]]\n",
      "(Background on this error at: https://sqlalche.me/e/20/e3q8)\n"
     ]
    },
    {
     "name": "stderr",
     "output_type": "stream",
     "text": [
      "Scraping games:   9%|▉         | 102/1106 [04:46<47:39,  2.85s/it]"
     ]
    },
    {
     "name": "stdout",
     "output_type": "stream",
     "text": [
      "Error saving to table line_chart: (sqlite3.OperationalError) table line_chart has no column named Team\n",
      "[SQL: INSERT INTO line_chart (\"Team\", \"Line\", \"Position\", \"Player\", \"Game_ID\") VALUES (?, ?, ?, ?, ?)]\n",
      "[parameters: [('Boston University', 1, 'Left Wing', 'Robert Mastrosimone', '2021-10-16-Sacred Heart-Boston University'), ('Boston University', 1, 'Center', 'Matt Brown', '2021-10-16-Sacred Heart-Boston University'), ('Boston University', 1, 'Right Wing', 'Tyler Boucher', '2021-10-16-Sacred Heart-Boston University'), ('Boston University', 2, 'Left Wing', 'Ethan Phillips', '2021-10-16-Sacred Heart-Boston University'), ('Boston University', 2, 'Center', 'Wilmer Skoog', '2021-10-16-Sacred Heart-Boston University'), ('Boston University', 2, 'Right Wing', 'Dylan Peterson', '2021-10-16-Sacred Heart-Boston University'), ('Boston University', 3, 'Left Wing', 'Max Kaufman', '2021-10-16-Sacred Heart-Boston University'), ('Boston University', 3, 'Center', 'Sam Stevens', '2021-10-16-Sacred Heart-Boston University')  ... displaying 10 of 42 total bound parameter sets ...  ('Sacred Heart', 'Goalie 1', 'Goalie', \"Jack O'Dea\", '2021-10-16-Sacred Heart-Boston University'), ('Sacred Heart', 'Goalie 2', 'Goalie', 'Justin Robbins', '2021-10-16-Sacred Heart-Boston University')]]\n",
      "(Background on this error at: https://sqlalche.me/e/20/e3q8)\n"
     ]
    },
    {
     "name": "stderr",
     "output_type": "stream",
     "text": [
      "Scraping games:   9%|▉         | 103/1106 [04:49<47:24,  2.84s/it]"
     ]
    },
    {
     "name": "stdout",
     "output_type": "stream",
     "text": [
      "Error saving to table line_chart: (sqlite3.OperationalError) table line_chart has no column named Team\n",
      "[SQL: INSERT INTO line_chart (\"Team\", \"Line\", \"Position\", \"Player\", \"Game_ID\") VALUES (?, ?, ?, ?, ?)]\n",
      "[parameters: [(\"American Int'l\", 1, 'Left Wing', 'Chris Van Os-Shaw', \"2021-10-16-American Int'l-Massachusetts\"), (\"American Int'l\", 1, 'Center', 'Julius Janhonen', \"2021-10-16-American Int'l-Massachusetts\"), (\"American Int'l\", 1, 'Right Wing', 'Chris Dodero', \"2021-10-16-American Int'l-Massachusetts\"), (\"American Int'l\", 2, 'Left Wing', 'Chris Theodore', \"2021-10-16-American Int'l-Massachusetts\"), (\"American Int'l\", 2, 'Center', 'Elijiah Barriga', \"2021-10-16-American Int'l-Massachusetts\"), (\"American Int'l\", 2, 'Right Wing', 'Luka Maver', \"2021-10-16-American Int'l-Massachusetts\"), (\"American Int'l\", 3, 'Left Wing', 'Blake Bennett', \"2021-10-16-American Int'l-Massachusetts\"), (\"American Int'l\", 3, 'Center', '', \"2021-10-16-American Int'l-Massachusetts\")  ... displaying 10 of 44 total bound parameter sets ...  ('Massachusetts', 'Goalie 1', 'Goalie', 'Matt Murray', \"2021-10-16-American Int'l-Massachusetts\"), ('Massachusetts', 'Goalie 2', 'Goalie', 'Luke Pavicich', \"2021-10-16-American Int'l-Massachusetts\")]]\n",
      "(Background on this error at: https://sqlalche.me/e/20/e3q8)\n"
     ]
    },
    {
     "name": "stderr",
     "output_type": "stream",
     "text": [
      "Scraping games:   9%|▉         | 104/1106 [04:51<46:48,  2.80s/it]"
     ]
    },
    {
     "name": "stdout",
     "output_type": "stream",
     "text": [
      "Error saving to table line_chart: (sqlite3.OperationalError) table line_chart has no column named Team\n",
      "[SQL: INSERT INTO line_chart (\"Team\", \"Line\", \"Position\", \"Player\", \"Game_ID\") VALUES (?, ?, ?, ?, ?)]\n",
      "[parameters: [('Quinnipiac', 1, 'Left Wing', 'Oliver Chau', '2021-10-16-Quinnipiac-Vermont'), ('Quinnipiac', 1, 'Center', 'Wyatt Bongiovanni', '2021-10-16-Quinnipiac-Vermont'), ('Quinnipiac', 1, 'Right Wing', 'Ethan de Jong', '2021-10-16-Quinnipiac-Vermont'), ('Quinnipiac', 2, 'Left Wing', 'Michael Lombardi', '2021-10-16-Quinnipiac-Vermont'), ('Quinnipiac', 2, 'Center', 'Desi Burgart', '2021-10-16-Quinnipiac-Vermont'), ('Quinnipiac', 2, 'Right Wing', 'Ty Smilanic', '2021-10-16-Quinnipiac-Vermont'), ('Quinnipiac', 3, 'Left Wing', 'Jacob Quillan', '2021-10-16-Quinnipiac-Vermont'), ('Quinnipiac', 3, 'Center', 'TJ Friedmann', '2021-10-16-Quinnipiac-Vermont')  ... displaying 10 of 44 total bound parameter sets ...  ('Vermont', 'Goalie 2', 'Goalie', 'Gabe Carriere', '2021-10-16-Quinnipiac-Vermont'), ('Vermont', 'Goalie 3', 'Goalie', 'Cole Hudson', '2021-10-16-Quinnipiac-Vermont')]]\n",
      "(Background on this error at: https://sqlalche.me/e/20/e3q8)\n"
     ]
    },
    {
     "name": "stderr",
     "output_type": "stream",
     "text": [
      "Scraping games:  10%|▉         | 106/1106 [04:57<46:25,  2.79s/it]"
     ]
    },
    {
     "name": "stdout",
     "output_type": "stream",
     "text": [
      "Error saving to table line_chart: (sqlite3.OperationalError) table line_chart has no column named Team\n",
      "[SQL: INSERT INTO line_chart (\"Team\", \"Line\", \"Position\", \"Player\", \"Game_ID\") VALUES (?, ?, ?, ?, ?)]\n",
      "[parameters: [('Bentley', 1, 'Left Wing', 'Phil Knies', '2021-10-16-Boston College-Bentley'), ('Bentley', 1, 'Center', 'Brendan Hamblet', '2021-10-16-Boston College-Bentley'), ('Bentley', 1, 'Right Wing', 'Collin Rutherford', '2021-10-16-Boston College-Bentley'), ('Bentley', 2, 'Left Wing', 'Harrison Scott', '2021-10-16-Boston College-Bentley'), ('Bentley', 2, 'Center', 'Matt Gosiewski', '2021-10-16-Boston College-Bentley'), ('Bentley', 2, 'Right Wing', 'Eric Linell', '2021-10-16-Boston College-Bentley'), ('Bentley', 3, 'Left Wing', 'Kohei Sato', '2021-10-16-Boston College-Bentley'), ('Bentley', 3, 'Center', 'Ethan Harrison', '2021-10-16-Boston College-Bentley')  ... displaying 10 of 43 total bound parameter sets ...  ('Boston College', 'Goalie 1', 'Goalie', 'Eric Dop', '2021-10-16-Boston College-Bentley'), ('Boston College', 'Goalie 2', 'Goalie', 'Henry Wilder', '2021-10-16-Boston College-Bentley')]]\n",
      "(Background on this error at: https://sqlalche.me/e/20/e3q8)\n"
     ]
    },
    {
     "name": "stderr",
     "output_type": "stream",
     "text": [
      "Scraping games:  10%|▉         | 107/1106 [05:00<46:33,  2.80s/it]"
     ]
    },
    {
     "name": "stdout",
     "output_type": "stream",
     "text": [
      "Error saving to table line_chart: (sqlite3.OperationalError) table line_chart has no column named Team\n",
      "[SQL: INSERT INTO line_chart (\"Team\", \"Line\", \"Position\", \"Player\", \"Game_ID\") VALUES (?, ?, ?, ?, ?)]\n",
      "[parameters: [('Bemidji State', 1, 'Left Wing', 'Jakub Lewandowski', '2021-10-16-Bemidji State-North Dakota'), ('Bemidji State', 1, 'Center', 'Owen Sillinger', '2021-10-16-Bemidji State-North Dakota'), ('Bemidji State', 1, 'Right Wing', 'Alex Ierullo', '2021-10-16-Bemidji State-North Dakota'), ('Bemidji State', 2, 'Left Wing', 'Ethan Somoza', '2021-10-16-Bemidji State-North Dakota'), ('Bemidji State', 2, 'Center', 'Ross Armour', '2021-10-16-Bemidji State-North Dakota'), ('Bemidji State', 2, 'Right Wing', 'Eric Martin', '2021-10-16-Bemidji State-North Dakota'), ('Bemidji State', 3, 'Left Wing', 'Lukas Sillinger', '2021-10-16-Bemidji State-North Dakota'), ('Bemidji State', 3, 'Center', 'Tyler Kirkup', '2021-10-16-Bemidji State-North Dakota')  ... displaying 10 of 43 total bound parameter sets ...  ('North Dakota', 'Goalie 2', 'Goalie', 'Kaleb Johnson', '2021-10-16-Bemidji State-North Dakota'), ('North Dakota', 'Goalie 3', 'Goalie', 'Jakob Hellsten', '2021-10-16-Bemidji State-North Dakota')]]\n",
      "(Background on this error at: https://sqlalche.me/e/20/e3q8)\n"
     ]
    },
    {
     "name": "stderr",
     "output_type": "stream",
     "text": [
      "Scraping games:  10%|▉         | 108/1106 [05:03<47:26,  2.85s/it]"
     ]
    },
    {
     "name": "stdout",
     "output_type": "stream",
     "text": [
      "Error saving to table line_chart: (sqlite3.OperationalError) table line_chart has no column named Team\n",
      "[SQL: INSERT INTO line_chart (\"Team\", \"Line\", \"Position\", \"Player\", \"Game_ID\") VALUES (?, ?, ?, ?, ?)]\n",
      "[parameters: [('Air Force', 1, 'Left Wing', 'Nate Horn', '2021-10-16-Air Force-Denver'), ('Air Force', 1, 'Center', 'Andrew DeCarlo', '2021-10-16-Air Force-Denver'), ('Air Force', 1, 'Right Wing', 'Willie Reim', '2021-10-16-Air Force-Denver'), ('Air Force', 2, 'Left Wing', 'Will Gavin', '2021-10-16-Air Force-Denver'), ('Air Force', 2, 'Center', 'Clayton Cosentino', '2021-10-16-Air Force-Denver'), ('Air Force', 2, 'Right Wing', 'Parker Brown', '2021-10-16-Air Force-Denver'), ('Air Force', 3, 'Left Wing', 'Brian Adams', '2021-10-16-Air Force-Denver'), ('Air Force', 3, 'Center', 'Lucas Coon', '2021-10-16-Air Force-Denver')  ... displaying 10 of 44 total bound parameter sets ...  ('Denver', 'Goalie 2', 'Goalie', 'Jack Caruso', '2021-10-16-Air Force-Denver'), ('Denver', 'Goalie 3', 'Goalie', 'Matt Davis', '2021-10-16-Air Force-Denver')]]\n",
      "(Background on this error at: https://sqlalche.me/e/20/e3q8)\n"
     ]
    },
    {
     "name": "stderr",
     "output_type": "stream",
     "text": [
      "Scraping games:  10%|▉         | 109/1106 [05:05<46:57,  2.83s/it]"
     ]
    },
    {
     "name": "stdout",
     "output_type": "stream",
     "text": [
      "Error saving to table line_chart: (sqlite3.OperationalError) table line_chart has no column named Team\n",
      "[SQL: INSERT INTO line_chart (\"Team\", \"Line\", \"Position\", \"Player\", \"Game_ID\") VALUES (?, ?, ?, ?, ?)]\n",
      "[parameters: [('Holy Cross', 1, 'Left Wing', 'John Gelatt', '2021-10-16-Holy Cross-Mercyhurst'), ('Holy Cross', 1, 'Center', 'Matt Guerra', '2021-10-16-Holy Cross-Mercyhurst'), ('Holy Cross', 1, 'Right Wing', 'Michael Kane', '2021-10-16-Holy Cross-Mercyhurst'), ('Holy Cross', 2, 'Left Wing', 'Tyler Ghirardosi', '2021-10-16-Holy Cross-Mercyhurst'), ('Holy Cross', 2, 'Center', 'Daniel Colabufo', '2021-10-16-Holy Cross-Mercyhurst'), ('Holy Cross', 2, 'Right Wing', 'Alex Peterson', '2021-10-16-Holy Cross-Mercyhurst'), ('Holy Cross', 3, 'Left Wing', 'Lucas Thorne', '2021-10-16-Holy Cross-Mercyhurst'), ('Holy Cross', 3, 'Center', 'Ryan Leibold', '2021-10-16-Holy Cross-Mercyhurst')  ... displaying 10 of 43 total bound parameter sets ...  ('Mercyhurst', 'Goalie 1', 'Goalie', 'Hank Johnson', '2021-10-16-Holy Cross-Mercyhurst'), ('Mercyhurst', 'Goalie 2', 'Goalie', 'Kyle McClellan', '2021-10-16-Holy Cross-Mercyhurst')]]\n",
      "(Background on this error at: https://sqlalche.me/e/20/e3q8)\n"
     ]
    },
    {
     "name": "stderr",
     "output_type": "stream",
     "text": [
      "Scraping games:  10%|▉         | 110/1106 [05:08<46:30,  2.80s/it]"
     ]
    },
    {
     "name": "stdout",
     "output_type": "stream",
     "text": [
      "Error saving to table line_chart: (sqlite3.OperationalError) table line_chart has no column named Team\n",
      "[SQL: INSERT INTO line_chart (\"Team\", \"Line\", \"Position\", \"Player\", \"Game_ID\") VALUES (?, ?, ?, ?, ?)]\n",
      "[parameters: [('Michigan', 1, 'Left Wing', 'Mark Estapa', '2021-10-16-Minnesota State-Michigan'), ('Michigan', 1, 'Center', 'Garrett Van Wyhe', '2021-10-16-Minnesota State-Michigan'), ('Michigan', 1, 'Right Wing', 'Nolan Moyle', '2021-10-16-Minnesota State-Michigan'), ('Michigan', 2, 'Left Wing', 'Michael Pastujov', '2021-10-16-Minnesota State-Michigan'), ('Michigan', 2, 'Center', 'Thomas Bordeleau', '2021-10-16-Minnesota State-Michigan'), ('Michigan', 2, 'Right Wing', 'Brendan Brisson', '2021-10-16-Minnesota State-Michigan'), ('Michigan', 3, 'Left Wing', 'Kent Johnson', '2021-10-16-Minnesota State-Michigan'), ('Michigan', 3, 'Center', 'Matty Beniers', '2021-10-16-Minnesota State-Michigan')  ... displaying 10 of 44 total bound parameter sets ...  ('Minnesota State', 'Goalie 2', 'Goalie', 'Andrew Miller', '2021-10-16-Minnesota State-Michigan'), ('Minnesota State', 'Goalie 3', 'Goalie', 'Keenan Rancier', '2021-10-16-Minnesota State-Michigan')]]\n",
      "(Background on this error at: https://sqlalche.me/e/20/e3q8)\n"
     ]
    },
    {
     "name": "stderr",
     "output_type": "stream",
     "text": [
      "Scraping games:  10%|█         | 111/1106 [05:11<46:57,  2.83s/it]"
     ]
    },
    {
     "name": "stdout",
     "output_type": "stream",
     "text": [
      "Error saving to table line_chart: (sqlite3.OperationalError) table line_chart has no column named Team\n",
      "[SQL: INSERT INTO line_chart (\"Team\", \"Line\", \"Position\", \"Player\", \"Game_ID\") VALUES (?, ?, ?, ?, ?)]\n",
      "[parameters: [('Minnesota-Duluth', 1, 'Left Wing', 'Noah Cates', '2021-10-16-Providence-Minnesota-Duluth'), ('Minnesota-Duluth', 1, 'Center', 'Casey Gilling', '2021-10-16-Providence-Minnesota-Duluth'), ('Minnesota-Duluth', 1, 'Right Wing', 'Tanner Laderoute', '2021-10-16-Providence-Minnesota-Duluth'), ('Minnesota-Duluth', 2, 'Left Wing', 'Kobe Roth', '2021-10-16-Providence-Minnesota-Duluth'), ('Minnesota-Duluth', 2, 'Center', 'Jesse Jacques', '2021-10-16-Providence-Minnesota-Duluth'), ('Minnesota-Duluth', 2, 'Right Wing', 'Koby Bender', '2021-10-16-Providence-Minnesota-Duluth'), ('Minnesota-Duluth', 3, 'Left Wing', 'Quinn Olson', '2021-10-16-Providence-Minnesota-Duluth'), ('Minnesota-Duluth', 3, 'Center', 'Dominic James', '2021-10-16-Providence-Minnesota-Duluth')  ... displaying 10 of 44 total bound parameter sets ...  ('Providence', 'Goalie 2', 'Goalie', 'Jimmy Scannell', '2021-10-16-Providence-Minnesota-Duluth'), ('Providence', 'Goalie 3', 'Goalie', 'Jaxson Stauber', '2021-10-16-Providence-Minnesota-Duluth')]]\n",
      "(Background on this error at: https://sqlalche.me/e/20/e3q8)\n"
     ]
    },
    {
     "name": "stderr",
     "output_type": "stream",
     "text": [
      "Scraping games:  10%|█         | 113/1106 [05:16<42:45,  2.58s/it]"
     ]
    },
    {
     "name": "stdout",
     "output_type": "stream",
     "text": [
      "Error saving to table line_chart: (sqlite3.OperationalError) table line_chart has no column named Team\n",
      "[SQL: INSERT INTO line_chart (\"Team\", \"Line\", \"Position\", \"Player\", \"Game_ID\") VALUES (?, ?, ?, ?, ?)]\n",
      "[parameters: [('Lake Superior', 1, 'Left Wing', 'Miroslav Mucha', '2021-10-16-St. Thomas-Lake Superior'), ('Lake Superior', 1, 'Center', 'Louis Boudon', '2021-10-16-St. Thomas-Lake Superior'), ('Lake Superior', 1, 'Right Wing', 'Brandon Puricelli', '2021-10-16-St. Thomas-Lake Superior'), ('Lake Superior', 2, 'Left Wing', 'Dawson Tritt', '2021-10-16-St. Thomas-Lake Superior'), ('Lake Superior', 2, 'Center', 'Harrison Roy', '2021-10-16-St. Thomas-Lake Superior'), ('Lake Superior', 2, 'Right Wing', 'Joshua Wildauer', '2021-10-16-St. Thomas-Lake Superior'), ('Lake Superior', 3, 'Left Wing', 'Benito Posa', '2021-10-16-St. Thomas-Lake Superior'), ('Lake Superior', 3, 'Center', 'Dustin Manz', '2021-10-16-St. Thomas-Lake Superior')  ... displaying 10 of 43 total bound parameter sets ...  ('St. Thomas', 'Goalie 1', 'Goalie', 'Peter Thome', '2021-10-16-St. Thomas-Lake Superior'), ('St. Thomas', 'Goalie 2', 'Goalie', 'Jacob Berger', '2021-10-16-St. Thomas-Lake Superior')]]\n",
      "(Background on this error at: https://sqlalche.me/e/20/e3q8)\n"
     ]
    },
    {
     "name": "stderr",
     "output_type": "stream",
     "text": [
      "Scraping games:  10%|█         | 114/1106 [05:18<43:21,  2.62s/it]"
     ]
    },
    {
     "name": "stdout",
     "output_type": "stream",
     "text": [
      "Error saving to table line_chart: (sqlite3.OperationalError) table line_chart has no column named Team\n",
      "[SQL: INSERT INTO line_chart (\"Team\", \"Line\", \"Position\", \"Player\", \"Game_ID\") VALUES (?, ?, ?, ?, ?)]\n",
      "[parameters: [('Alaska', 1, 'Left Wing', 'Didrik Henbrant', '2021-10-17-Alaska-Omaha'), ('Alaska', 1, 'Center', 'Harrison Israels', '2021-10-17-Alaska-Omaha'), ('Alaska', 1, 'Right Wing', 'Filip Fornaa Svennson', '2021-10-17-Alaska-Omaha'), ('Alaska', 2, 'Left Wing', 'Chase Dubois', '2021-10-17-Alaska-Omaha'), ('Alaska', 2, 'Center', 'Jakob Breault', '2021-10-17-Alaska-Omaha'), ('Alaska', 2, 'Right Wing', 'Brady Risk', '2021-10-17-Alaska-Omaha'), ('Alaska', 3, 'Left Wing', 'Caleb Hite', '2021-10-17-Alaska-Omaha'), ('Alaska', 3, 'Center', 'Colin Doyle', '2021-10-17-Alaska-Omaha')  ... displaying 10 of 43 total bound parameter sets ...  ('Omaha', 'Goalie 2', 'Goalie', 'Austin Roden', '2021-10-17-Alaska-Omaha'), ('Omaha', 'Goalie 3', 'Goalie', 'Jacob Zab', '2021-10-17-Alaska-Omaha')]]\n",
      "(Background on this error at: https://sqlalche.me/e/20/e3q8)\n"
     ]
    },
    {
     "name": "stderr",
     "output_type": "stream",
     "text": [
      "Scraping games:  10%|█         | 115/1106 [05:21<44:57,  2.72s/it]"
     ]
    },
    {
     "name": "stdout",
     "output_type": "stream",
     "text": [
      "Error saving to table line_chart: (sqlite3.OperationalError) table line_chart has no column named Team\n",
      "[SQL: INSERT INTO line_chart (\"Team\", \"Line\", \"Position\", \"Player\", \"Game_ID\") VALUES (?, ?, ?, ?, ?)]\n",
      "[parameters: [('Canisius', 1, 'Left Wing', 'Mitchell Martan', '2021-10-19-Canisius-Clarkson'), ('Canisius', 1, 'Center', 'Lee Lapid', '2021-10-19-Canisius-Clarkson'), ('Canisius', 1, 'Right Wing', 'Keaton Mastrodonato', '2021-10-19-Canisius-Clarkson'), ('Canisius', 2, 'Left Wing', 'Max Kouznetsov', '2021-10-19-Canisius-Clarkson'), ('Canisius', 2, 'Center', 'Alex Ambrosio', '2021-10-19-Canisius-Clarkson'), ('Canisius', 2, 'Right Wing', 'J.D. Pogue', '2021-10-19-Canisius-Clarkson'), ('Canisius', 3, 'Left Wing', 'Daniel DiGrande', '2021-10-19-Canisius-Clarkson'), ('Canisius', 3, 'Center', 'Ryan Miotto', '2021-10-19-Canisius-Clarkson')  ... displaying 10 of 43 total bound parameter sets ...  ('Clarkson', 'Goalie 2', 'Goalie', 'Jacob Mucitelli', '2021-10-19-Canisius-Clarkson'), ('Clarkson', 'Goalie 3', 'Goalie', 'Brady Parker', '2021-10-19-Canisius-Clarkson')]]\n",
      "(Background on this error at: https://sqlalche.me/e/20/e3q8)\n"
     ]
    },
    {
     "name": "stderr",
     "output_type": "stream",
     "text": [
      "Scraping games:  10%|█         | 116/1106 [05:24<45:22,  2.75s/it]"
     ]
    },
    {
     "name": "stdout",
     "output_type": "stream",
     "text": [
      "Error saving to table line_chart: (sqlite3.OperationalError) table line_chart has no column named Team\n",
      "[SQL: INSERT INTO line_chart (\"Team\", \"Line\", \"Position\", \"Player\", \"Game_ID\") VALUES (?, ?, ?, ?, ?)]\n",
      "[parameters: [('Bentley', 1, 'Left Wing', 'Phil Knies', '2021-10-21-Bentley-Holy Cross'), ('Bentley', 1, 'Center', 'Brendan Hamblet', '2021-10-21-Bentley-Holy Cross'), ('Bentley', 1, 'Right Wing', 'Collin Rutherford', '2021-10-21-Bentley-Holy Cross'), ('Bentley', 2, 'Left Wing', 'Harrison Scott', '2021-10-21-Bentley-Holy Cross'), ('Bentley', 2, 'Center', 'Matt Gosiewski', '2021-10-21-Bentley-Holy Cross'), ('Bentley', 2, 'Right Wing', 'Eric Linell', '2021-10-21-Bentley-Holy Cross'), ('Bentley', 3, 'Left Wing', 'Kohei Sato', '2021-10-21-Bentley-Holy Cross'), ('Bentley', 3, 'Center', 'Ethan Harrison', '2021-10-21-Bentley-Holy Cross')  ... displaying 10 of 44 total bound parameter sets ...  ('Holy Cross', 'Goalie 2', 'Goalie', 'Matt Radomsky', '2021-10-21-Bentley-Holy Cross'), ('Holy Cross', 'Goalie 3', 'Goalie', 'Thomas Gale', '2021-10-21-Bentley-Holy Cross')]]\n",
      "(Background on this error at: https://sqlalche.me/e/20/e3q8)\n"
     ]
    },
    {
     "name": "stderr",
     "output_type": "stream",
     "text": [
      "Scraping games:  11%|█         | 117/1106 [05:27<44:24,  2.69s/it]"
     ]
    },
    {
     "name": "stdout",
     "output_type": "stream",
     "text": [
      "Error saving to table line_chart: (sqlite3.OperationalError) table line_chart has no column named Team\n",
      "[SQL: INSERT INTO line_chart (\"Team\", \"Line\", \"Position\", \"Player\", \"Game_ID\") VALUES (?, ?, ?, ?, ?)]\n",
      "[parameters: [(\"American Int'l\", 1, 'Left Wing', 'Chris Van Os-Shaw', \"2021-10-21-Army-American Int'l\"), (\"American Int'l\", 1, 'Center', 'Julius Janhonen', \"2021-10-21-Army-American Int'l\"), (\"American Int'l\", 1, 'Right Wing', 'Chris Dodero', \"2021-10-21-Army-American Int'l\"), (\"American Int'l\", 2, 'Left Wing', 'Chris Theodore', \"2021-10-21-Army-American Int'l\"), (\"American Int'l\", 2, 'Center', 'Elijiah Barriga', \"2021-10-21-Army-American Int'l\"), (\"American Int'l\", 2, 'Right Wing', 'Luka Maver', \"2021-10-21-Army-American Int'l\"), (\"American Int'l\", 3, 'Left Wing', 'Justin Cole', \"2021-10-21-Army-American Int'l\"), (\"American Int'l\", 3, 'Center', 'Jake Stella', \"2021-10-21-Army-American Int'l\")  ... displaying 10 of 45 total bound parameter sets ...  ('Army', 'Goalie 1', 'Goalie', 'Justin Evenson', \"2021-10-21-Army-American Int'l\"), ('Army', 'Goalie 2', 'Goalie', 'Gavin Abric', \"2021-10-21-Army-American Int'l\")]]\n",
      "(Background on this error at: https://sqlalche.me/e/20/e3q8)\n"
     ]
    },
    {
     "name": "stderr",
     "output_type": "stream",
     "text": [
      "Scraping games:  11%|█         | 118/1106 [05:30<45:50,  2.78s/it]"
     ]
    },
    {
     "name": "stdout",
     "output_type": "stream",
     "text": [
      "Error saving to table line_chart: (sqlite3.OperationalError) table line_chart has no column named Team\n",
      "[SQL: INSERT INTO line_chart (\"Team\", \"Line\", \"Position\", \"Player\", \"Game_ID\") VALUES (?, ?, ?, ?, ?)]\n",
      "[parameters: [('Niagara', 1, 'Left Wing', 'Walker Sommer', '2021-10-21-Niagara-Penn State'), ('Niagara', 1, 'Center', 'Luke Edgerton', '2021-10-21-Niagara-Penn State'), ('Niagara', 1, 'Right Wing', 'Brandon Stanley', '2021-10-21-Niagara-Penn State'), ('Niagara', 2, 'Left Wing', 'Ryan Naumovski', '2021-10-21-Niagara-Penn State'), ('Niagara', 2, 'Center', 'Jack DeBoer', '2021-10-21-Niagara-Penn State'), ('Niagara', 2, 'Right Wing', 'Olivier Gauthier', '2021-10-21-Niagara-Penn State'), ('Niagara', 3, 'Left Wing', 'Jon Hill', '2021-10-21-Niagara-Penn State'), ('Niagara', 3, 'Center', 'Jason Pineo', '2021-10-21-Niagara-Penn State')  ... displaying 10 of 44 total bound parameter sets ...  ('Penn State', 'Goalie 2', 'Goalie', 'Liam Souliere', '2021-10-21-Niagara-Penn State'), ('Penn State', 'Goalie 3', 'Goalie', 'Doug Dorr', '2021-10-21-Niagara-Penn State')]]\n",
      "(Background on this error at: https://sqlalche.me/e/20/e3q8)\n"
     ]
    },
    {
     "name": "stderr",
     "output_type": "stream",
     "text": [
      "Scraping games:  11%|█         | 119/1106 [05:32<45:04,  2.74s/it]"
     ]
    },
    {
     "name": "stdout",
     "output_type": "stream",
     "text": [
      "Error saving to table line_chart: (sqlite3.OperationalError) table line_chart has no column named Team\n",
      "[SQL: INSERT INTO line_chart (\"Team\", \"Line\", \"Position\", \"Player\", \"Game_ID\") VALUES (?, ?, ?, ?, ?)]\n",
      "[parameters: [('Notre Dame', 1, 'Left Wing', 'Solag Bakich', '2021-10-21-RIT-Notre Dame'), ('Notre Dame', 1, 'Center', 'Trevor Janicke', '2021-10-21-RIT-Notre Dame'), ('Notre Dame', 1, 'Right Wing', 'Max Ellis', '2021-10-21-RIT-Notre Dame'), ('Notre Dame', 2, 'Left Wing', 'Landon Slaggert', '2021-10-21-RIT-Notre Dame'), ('Notre Dame', 2, 'Center', 'Graham Slaggert', '2021-10-21-RIT-Notre Dame'), ('Notre Dame', 2, 'Right Wing', 'Justin Janicke', '2021-10-21-RIT-Notre Dame'), ('Notre Dame', 3, 'Left Wing', 'Jesse Lansdell', '2021-10-21-RIT-Notre Dame'), ('Notre Dame', 3, 'Center', 'Cam Burke', '2021-10-21-RIT-Notre Dame')  ... displaying 10 of 48 total bound parameter sets ...  ('RIT', 'Goalie 2', 'Goalie', 'Daniel Chenard', '2021-10-21-RIT-Notre Dame'), ('RIT', 'Goalie 3', 'Goalie', 'Tommy Scarfone', '2021-10-21-RIT-Notre Dame')]]\n",
      "(Background on this error at: https://sqlalche.me/e/20/e3q8)\n"
     ]
    },
    {
     "name": "stderr",
     "output_type": "stream",
     "text": [
      "Scraping games:  11%|█         | 120/1106 [05:35<44:48,  2.73s/it]"
     ]
    },
    {
     "name": "stdout",
     "output_type": "stream",
     "text": [
      "Error saving to table line_chart: (sqlite3.OperationalError) table line_chart has no column named Team\n",
      "[SQL: INSERT INTO line_chart (\"Team\", \"Line\", \"Position\", \"Player\", \"Game_ID\") VALUES (?, ?, ?, ?, ?)]\n",
      "[parameters: [('Bemidji State', 1, 'Left Wing', 'Jakub Lewandowski', '2021-10-22-Bemidji State-Northern Michigan'), ('Bemidji State', 1, 'Center', 'Owen Sillinger', '2021-10-22-Bemidji State-Northern Michigan'), ('Bemidji State', 1, 'Right Wing', 'Alex Ierullo', '2021-10-22-Bemidji State-Northern Michigan'), ('Bemidji State', 2, 'Left Wing', 'Ethan Somoza', '2021-10-22-Bemidji State-Northern Michigan'), ('Bemidji State', 2, 'Center', 'Ross Armour', '2021-10-22-Bemidji State-Northern Michigan'), ('Bemidji State', 2, 'Right Wing', 'Eric Martin', '2021-10-22-Bemidji State-Northern Michigan'), ('Bemidji State', 3, 'Left Wing', 'Lukas Sillinger', '2021-10-22-Bemidji State-Northern Michigan'), ('Bemidji State', 3, 'Center', 'Tyler Kirkup', '2021-10-22-Bemidji State-Northern Michigan')  ... displaying 10 of 40 total bound parameter sets ...  ('Northern Michigan', 1, 'Extra', 'Oscar', '2021-10-22-Bemidji State-Northern Michigan'), ('Northern Michigan', 'Goalie 1', 'Goalie', 'Charlie Glockner', '2021-10-22-Bemidji State-Northern Michigan')]]\n",
      "(Background on this error at: https://sqlalche.me/e/20/e3q8)\n"
     ]
    },
    {
     "name": "stderr",
     "output_type": "stream",
     "text": [
      "Scraping games:  11%|█         | 121/1106 [05:38<45:06,  2.75s/it]"
     ]
    },
    {
     "name": "stdout",
     "output_type": "stream",
     "text": [
      "Error saving to table line_chart: (sqlite3.OperationalError) table line_chart has no column named Team\n",
      "[SQL: INSERT INTO line_chart (\"Team\", \"Line\", \"Position\", \"Player\", \"Game_ID\") VALUES (?, ?, ?, ?, ?)]\n",
      "[parameters: [('Ferris State', 1, 'Left Wing', 'Liam MacDougall', '2021-10-22-Ferris State-St. Thomas'), ('Ferris State', 1, 'Center', 'Dallas Tulik', '2021-10-22-Ferris State-St. Thomas'), ('Ferris State', 1, 'Right Wing', 'Justin Michaelian', '2021-10-22-Ferris State-St. Thomas'), ('Ferris State', 2, 'Left Wing', 'Jake Transit', '2021-10-22-Ferris State-St. Thomas'), ('Ferris State', 2, 'Center', 'Stepan Pokorny', '2021-10-22-Ferris State-St. Thomas'), ('Ferris State', 2, 'Right Wing', 'Ethan Stewart', '2021-10-22-Ferris State-St. Thomas'), ('Ferris State', 3, 'Left Wing', 'Antonio Venuto', '2021-10-22-Ferris State-St. Thomas'), ('Ferris State', 3, 'Center', 'Bradley Marek', '2021-10-22-Ferris State-St. Thomas')  ... displaying 10 of 40 total bound parameter sets ...  ('St. Thomas', 1, 'Extra', 'Michael', '2021-10-22-Ferris State-St. Thomas'), ('St. Thomas', 'Goalie 1', 'Goalie', 'Peter Thome', '2021-10-22-Ferris State-St. Thomas')]]\n",
      "(Background on this error at: https://sqlalche.me/e/20/e3q8)\n"
     ]
    },
    {
     "name": "stderr",
     "output_type": "stream",
     "text": [
      "Scraping games:  11%|█         | 122/1106 [05:41<45:54,  2.80s/it]"
     ]
    },
    {
     "name": "stdout",
     "output_type": "stream",
     "text": [
      "Error saving to table line_chart: (sqlite3.OperationalError) table line_chart has no column named Team\n",
      "[SQL: INSERT INTO line_chart (\"Team\", \"Line\", \"Position\", \"Player\", \"Game_ID\") VALUES (?, ?, ?, ?, ?)]\n",
      "[parameters: [('Boston University', 1, 'Left Wing', 'Robert Mastrosimone', '2021-10-22-Boston University-Merrimack'), ('Boston University', 1, 'Center', 'Matt Brown', '2021-10-22-Boston University-Merrimack'), ('Boston University', 1, 'Right Wing', 'Tyler Boucher', '2021-10-22-Boston University-Merrimack'), ('Boston University', 2, 'Left Wing', 'Ethan Phillips', '2021-10-22-Boston University-Merrimack'), ('Boston University', 2, 'Center', 'Wilmer Skoog', '2021-10-22-Boston University-Merrimack'), ('Boston University', 2, 'Right Wing', 'Dylan Peterson', '2021-10-22-Boston University-Merrimack'), ('Boston University', 3, 'Left Wing', 'Max Kaufman', '2021-10-22-Boston University-Merrimack'), ('Boston University', 3, 'Center', 'Sam Stevens', '2021-10-22-Boston University-Merrimack')  ... displaying 10 of 42 total bound parameter sets ...  ('Merrimack', 'Goalie 1', 'Goalie', 'Troy Kobryn', '2021-10-22-Boston University-Merrimack'), ('Merrimack', 'Goalie 2', 'Goalie', 'Zachary Borgiel', '2021-10-22-Boston University-Merrimack')]]\n",
      "(Background on this error at: https://sqlalche.me/e/20/e3q8)\n"
     ]
    },
    {
     "name": "stderr",
     "output_type": "stream",
     "text": [
      "Scraping games:  11%|█         | 123/1106 [05:43<45:58,  2.81s/it]"
     ]
    },
    {
     "name": "stdout",
     "output_type": "stream",
     "text": [
      "Error saving to table line_chart: (sqlite3.OperationalError) table line_chart has no column named Team\n",
      "[SQL: INSERT INTO line_chart (\"Team\", \"Line\", \"Position\", \"Player\", \"Game_ID\") VALUES (?, ?, ?, ?, ?)]\n",
      "[parameters: [('North Dakota', 1, 'Left Wing', 'Riese Gaber', '2021-10-22-North Dakota-Quinnipiac'), ('North Dakota', 1, 'Center', 'Jake Schmaltz', '2021-10-22-North Dakota-Quinnipiac'), ('North Dakota', 1, 'Right Wing', 'Judd Caulfield', '2021-10-22-North Dakota-Quinnipiac'), ('North Dakota', 2, 'Left Wing', 'Matteo Costantini', '2021-10-22-North Dakota-Quinnipiac'), ('North Dakota', 2, 'Center', 'Connor Ford', '2021-10-22-North Dakota-Quinnipiac'), ('North Dakota', 2, 'Right Wing', 'Ashton Calder', '2021-10-22-North Dakota-Quinnipiac'), ('North Dakota', 3, 'Left Wing', 'Gavin Hain', '2021-10-22-North Dakota-Quinnipiac'), ('North Dakota', 3, 'Center', 'Mark Senden', '2021-10-22-North Dakota-Quinnipiac')  ... displaying 10 of 47 total bound parameter sets ...  ('Quinnipiac', 'Goalie 2', 'Goalie', 'Yaniv Perets', '2021-10-22-North Dakota-Quinnipiac'), ('Quinnipiac', 'Goalie 3', 'Goalie', 'Noah Altman', '2021-10-22-North Dakota-Quinnipiac')]]\n",
      "(Background on this error at: https://sqlalche.me/e/20/e3q8)\n"
     ]
    },
    {
     "name": "stderr",
     "output_type": "stream",
     "text": [
      "Scraping games:  11%|█         | 124/1106 [05:46<44:48,  2.74s/it]"
     ]
    },
    {
     "name": "stdout",
     "output_type": "stream",
     "text": [
      "Error saving to table line_chart: (sqlite3.OperationalError) table line_chart has no column named Team\n",
      "[SQL: INSERT INTO line_chart (\"Team\", \"Line\", \"Position\", \"Player\", \"Game_ID\") VALUES (?, ?, ?, ?, ?)]\n",
      "[parameters: [('Boston College', 1, 'Left Wing', 'Brandon Kruse', '2021-10-22-Colorado College-Boston College'), ('Boston College', 1, 'Center', 'Jack McBain', '2021-10-22-Colorado College-Boston College'), ('Boston College', 1, 'Right Wing', 'Nikita Nesterenko', '2021-10-22-Colorado College-Boston College'), ('Boston College', 2, 'Left Wing', 'Trevor Kuntar', '2021-10-22-Colorado College-Boston College'), ('Boston College', 2, 'Center', 'Marc McLaughlin', '2021-10-22-Colorado College-Boston College'), ('Boston College', 2, 'Right Wing', 'Colby Ambrosio', '2021-10-22-Colorado College-Boston College'), ('Boston College', 3, 'Left Wing', 'Mike Posma', '2021-10-22-Colorado College-Boston College'), ('Boston College', 3, 'Center', 'Patrick Giles', '2021-10-22-Colorado College-Boston College')  ... displaying 10 of 43 total bound parameter sets ...  ('Colorado College', 'Goalie 1', 'Goalie', 'Dominic Basse', '2021-10-22-Colorado College-Boston College'), ('Colorado College', 'Goalie 2', 'Goalie', 'Matt Vernon', '2021-10-22-Colorado College-Boston College')]]\n",
      "(Background on this error at: https://sqlalche.me/e/20/e3q8)\n"
     ]
    },
    {
     "name": "stderr",
     "output_type": "stream",
     "text": [
      "Scraping games:  11%|█▏        | 125/1106 [05:49<46:00,  2.81s/it]"
     ]
    },
    {
     "name": "stdout",
     "output_type": "stream",
     "text": [
      "Error saving to table line_chart: (sqlite3.OperationalError) table line_chart has no column named Team\n",
      "[SQL: INSERT INTO line_chart (\"Team\", \"Line\", \"Position\", \"Player\", \"Game_ID\") VALUES (?, ?, ?, ?, ?)]\n",
      "[parameters: [('Alaska', 1, 'Left Wing', 'Didrik Henbrant', '2021-10-22-Alaska-Clarkson'), ('Alaska', 1, 'Center', 'Eriks Zohovs', '2021-10-22-Alaska-Clarkson'), ('Alaska', 1, 'Right Wing', 'Filip Fornaa Svennson', '2021-10-22-Alaska-Clarkson'), ('Alaska', 2, 'Left Wing', 'Nátán Vertes', '2021-10-22-Alaska-Clarkson'), ('Alaska', 2, 'Center', 'Jakob Breault', '2021-10-22-Alaska-Clarkson'), ('Alaska', 2, 'Right Wing', 'Matt Koethe', '2021-10-22-Alaska-Clarkson'), ('Alaska', 3, 'Left Wing', 'Brayden Nicholetts', '2021-10-22-Alaska-Clarkson'), ('Alaska', 3, 'Center', 'Harrison Israels', '2021-10-22-Alaska-Clarkson')  ... displaying 10 of 43 total bound parameter sets ...  ('Clarkson', 'Goalie 2', 'Goalie', 'Jacob Mucitelli', '2021-10-22-Alaska-Clarkson'), ('Clarkson', 'Goalie 3', 'Goalie', 'Brady Parker', '2021-10-22-Alaska-Clarkson')]]\n",
      "(Background on this error at: https://sqlalche.me/e/20/e3q8)\n"
     ]
    },
    {
     "name": "stderr",
     "output_type": "stream",
     "text": [
      "Scraping games:  11%|█▏        | 126/1106 [05:52<45:32,  2.79s/it]"
     ]
    },
    {
     "name": "stdout",
     "output_type": "stream",
     "text": [
      "Error saving to table line_chart: (sqlite3.OperationalError) table line_chart has no column named Team\n",
      "[SQL: INSERT INTO line_chart (\"Team\", \"Line\", \"Position\", \"Player\", \"Game_ID\") VALUES (?, ?, ?, ?, ?)]\n",
      "[parameters: [('Colgate', 1, 'Left Wing', 'Arnaud Vachon', '2021-10-22-Arizona State-Colgate'), ('Colgate', 1, 'Center', 'Josh McKechney', '2021-10-22-Arizona State-Colgate'), ('Colgate', 1, 'Right Wing', 'Alex Young', '2021-10-22-Arizona State-Colgate'), ('Colgate', 2, 'Left Wing', 'Colton Young', '2021-10-22-Arizona State-Colgate'), ('Colgate', 2, 'Center', 'Jeff Stewart', '2021-10-22-Arizona State-Colgate'), ('Colgate', 2, 'Right Wing', 'Ethan Manderville', '2021-10-22-Arizona State-Colgate'), ('Colgate', 3, 'Left Wing', 'Matt Verboon', '2021-10-22-Arizona State-Colgate'), ('Colgate', 3, 'Center', 'Paul McAvoy', '2021-10-22-Arizona State-Colgate')  ... displaying 10 of 45 total bound parameter sets ...  ('Arizona State', 'Goalie 1', 'Goalie', 'Ben Kraws', '2021-10-22-Arizona State-Colgate'), ('Arizona State', 'Goalie 2', 'Goalie', 'Cole Brady', '2021-10-22-Arizona State-Colgate')]]\n",
      "(Background on this error at: https://sqlalche.me/e/20/e3q8)\n"
     ]
    },
    {
     "name": "stderr",
     "output_type": "stream",
     "text": [
      "Scraping games:  11%|█▏        | 127/1106 [05:55<45:29,  2.79s/it]"
     ]
    },
    {
     "name": "stdout",
     "output_type": "stream",
     "text": [
      "Error saving to table line_chart: (sqlite3.OperationalError) table line_chart has no column named Team\n",
      "[SQL: INSERT INTO line_chart (\"Team\", \"Line\", \"Position\", \"Player\", \"Game_ID\") VALUES (?, ?, ?, ?, ?)]\n",
      "[parameters: [('Lake Superior', 1, 'Left Wing', 'Benito Posa', '2021-10-22-Union-Lake Superior'), ('Lake Superior', 1, 'Center', 'Dustin Manz', '2021-10-22-Union-Lake Superior'), ('Lake Superior', 1, 'Right Wing', 'Cole Craft', '2021-10-22-Union-Lake Superior'), ('Lake Superior', 2, 'Left Wing', 'Dawson Tritt', '2021-10-22-Union-Lake Superior'), ('Lake Superior', 2, 'Center', 'Harrison Roy', '2021-10-22-Union-Lake Superior'), ('Lake Superior', 2, 'Right Wing', 'Joshua Wildauer', '2021-10-22-Union-Lake Superior'), ('Lake Superior', 3, 'Left Wing', 'Miroslav Mucha', '2021-10-22-Union-Lake Superior'), ('Lake Superior', 3, 'Center', 'Louis Boudon', '2021-10-22-Union-Lake Superior')  ... displaying 10 of 43 total bound parameter sets ...  ('Union', 'Goalie 1', 'Goalie', 'Garrett Nieto', '2021-10-22-Union-Lake Superior'), ('Union', 'Goalie 2', 'Goalie', 'Connor Murphy', '2021-10-22-Union-Lake Superior')]]\n",
      "(Background on this error at: https://sqlalche.me/e/20/e3q8)\n"
     ]
    },
    {
     "name": "stderr",
     "output_type": "stream",
     "text": [
      "Scraping games:  12%|█▏        | 128/1106 [05:57<44:55,  2.76s/it]"
     ]
    },
    {
     "name": "stdout",
     "output_type": "stream",
     "text": [
      "Error saving to table line_chart: (sqlite3.OperationalError) table line_chart has no column named Team\n",
      "[SQL: INSERT INTO line_chart (\"Team\", \"Line\", \"Position\", \"Player\", \"Game_ID\") VALUES (?, ?, ?, ?, ?)]\n",
      "[parameters: [('Denver', 1, 'Left Wing', 'Carter Savoie', '2021-10-22-Denver-Providence'), ('Denver', 1, 'Center', 'Cole Guttman', '2021-10-22-Denver-Providence'), ('Denver', 1, 'Right Wing', 'Bobby Brink', '2021-10-22-Denver-Providence'), ('Denver', 2, 'Left Wing', 'Carter Mazur', '2021-10-22-Denver-Providence'), ('Denver', 2, 'Center', 'Massimo Rizzo', '2021-10-22-Denver-Providence'), ('Denver', 2, 'Right Wing', 'Cameron Wright', '2021-10-22-Denver-Providence'), ('Denver', 3, 'Left Wing', 'McKade Webster', '2021-10-22-Denver-Providence'), ('Denver', 3, 'Center', 'Brett Stapley', '2021-10-22-Denver-Providence')  ... displaying 10 of 43 total bound parameter sets ...  ('Providence', 'Goalie 2', 'Goalie', 'Jimmy Scannell', '2021-10-22-Denver-Providence'), ('Providence', 'Goalie 3', 'Goalie', 'Jaxson Stauber', '2021-10-22-Denver-Providence')]]\n",
      "(Background on this error at: https://sqlalche.me/e/20/e3q8)\n"
     ]
    }
   ],
   "source": [
    "## Run the scrape to get game data using the functions above and infor from games_df\n",
    "\n",
    "## Change the variable name to reuse the old code\n",
    "sampled_games = games_df\n",
    "\n",
    "# Initialize counters & logs\n",
    "error_count = 0\n",
    "error_games = []\n",
    "\n",
    "# Loop over sampled games and fetch data\n",
    "for idx, row in tqdm(sampled_games.iterrows(), total=sampled_games.shape[0], desc=\"Scraping games\"):\n",
    "    retries = 3  # Number of retries\n",
    "    success = False\n",
    "\n",
    "    \n",
    "    while retries > 0 and not success:\n",
    "        try:\n",
    "            box_score_url = base_url + row['Box_Link']\n",
    "            advanced_metrics_url = base_url + row['Metrics_Link']\n",
    "\n",
    "            # create a unique game id\n",
    "            game_id = str(row['Date']) + '-' + str(row['Home_Team']) + '-' + str(row['Away_Team'])\n",
    "            \n",
    "            logging.info(f\"Fetching data for game: {row['Home_Team']} vs {row['Away_Team']}\")\n",
    "            \n",
    "            # Your existing function to fetch and save data\n",
    "            all_dfs = fetch_and_save_data_to_db(box_score_url, advanced_metrics_url)\n",
    "            \n",
    "            # If reached here, the fetching was successful\n",
    "            success = True\n",
    "            \n",
    "            # Adaptive rate limiting\n",
    "            \n",
    "            \n",
    "        except requests.exceptions.RequestException as e:  # Network-related errors\n",
    "            logging.error(f\"Network error for game: {row['Home_Team']} vs {row['Away_Team']}. Error: {e}\")\n",
    "            retries -= 1\n",
    "            time.sleep(5)  # Wait for 5 seconds before retrying\n",
    "        \n",
    "        except Exception as e:  # Other exceptions\n",
    "            logging.error(f\"An error occurred for game: {row['Game_ID']} - {row['Home_Team']} vs {row['Away_Team']}. Error: {e}\")\n",
    "            error_count += 1\n",
    "            error_games.append((row['Home_Team'], row['Away_Team']))\n",
    "            break  # Break the while loop; no retries for these types of errors\n",
    "\n",
    "\n",
    "# Close the logging file\n",
    "logging.shutdown()\n",
    "\n",
    "# Close the database connection\n",
    "# conn.close()\n",
    "\n"
   ]
  },
  {
   "cell_type": "code",
   "execution_count": null,
   "metadata": {},
   "outputs": [],
   "source": [
    "## Print a summary of the errors\n",
    "print(f\"Total games: {sampled_games.shape[0]}\")\n",
    "print(f\"Games With Errors: {error_count}\")\n",
    "for game in error_games:\n",
    "    print(f\"Error games: {game}\")\n"
   ]
  },
  {
   "cell_type": "markdown",
   "metadata": {},
   "source": [
    "## 11-2 Scrape is working well\n",
    "- wanto to get better werror reporting for each fuynction. list of what failed"
   ]
  },
  {
   "cell_type": "markdown",
   "metadata": {},
   "source": [
    "# The Errors are coming from OT Games!"
   ]
  },
  {
   "cell_type": "markdown",
   "metadata": {},
   "source": [
    "## Fix / Notes\n",
    "\n"
   ]
  },
  {
   "cell_type": "markdown",
   "metadata": {},
   "source": [
    "# DB Cleaning Below Next"
   ]
  },
  {
   "cell_type": "code",
   "execution_count": null,
   "metadata": {},
   "outputs": [],
   "source": []
  },
  {
   "cell_type": "code",
   "execution_count": null,
   "metadata": {},
   "outputs": [],
   "source": [
    "enda;sodfgjas;d"
   ]
  },
  {
   "cell_type": "markdown",
   "metadata": {},
   "source": [
    "### Try to visualize advanced metrics here in the notebook"
   ]
  },
  {
   "cell_type": "code",
   "execution_count": null,
   "metadata": {},
   "outputs": [],
   "source": [
    "# combined_sample_data.head(10)\n",
    "\n",
    "# combined_sample_data.info()"
   ]
  }
 ],
 "metadata": {
  "kernelspec": {
   "display_name": "data_viz",
   "language": "python",
   "name": "python3"
  },
  "language_info": {
   "codemirror_mode": {
    "name": "ipython",
    "version": 3
   },
   "file_extension": ".py",
   "mimetype": "text/x-python",
   "name": "python",
   "nbconvert_exporter": "python",
   "pygments_lexer": "ipython3",
   "version": "3.9.18"
  },
  "orig_nbformat": 4
 },
 "nbformat": 4,
 "nbformat_minor": 2
}
