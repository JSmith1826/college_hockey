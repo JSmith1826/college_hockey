{
 "cells": [
  {
   "cell_type": "code",
   "execution_count": 1,
   "metadata": {},
   "outputs": [],
   "source": [
    "### Book to collect data about the current college hockey season from College Hockey News\n",
    "\n",
    "## Dependencies\n",
    "import requests\n",
    "from bs4 import BeautifulSoup\n",
    "import pandas as pd\n",
    "import numpy as np\n",
    "import time\n",
    "import logging\n",
    "from tqdm import tqdm\n",
    "import re\n",
    "\n",
    "from sqlalchemy import create_engine\n",
    "\n",
    "\n",
    "import sqlite3\n",
    "\n",
    "## global variables\n",
    "current_year_url = 'https://www.collegehockeynews.com/schedules/?season=20232024'\n",
    "\n",
    "tag = '2023_Season_Nov 2'\n",
    "\n",
    "\n",
    "## Base usl for box scores and metrics\n",
    "base_url = 'https://www.collegehockeynews.com'\n",
    "\n"
   ]
  },
  {
   "cell_type": "code",
   "execution_count": 2,
   "metadata": {},
   "outputs": [
    {
     "name": "stderr",
     "output_type": "stream",
     "text": [
      "C:\\Users\\Justin\\AppData\\Local\\Temp\\ipykernel_18236\\2541037650.py:83: FutureWarning: Setting an item of incompatible dtype is deprecated and will raise in a future error of pandas. Value '2023-10-06_Arizona_State' has dtype incompatible with float64, please explicitly cast to a compatible dtype first.\n",
      "  df.loc[row.Index, 'Game_ID'] = game_id\n"
     ]
    }
   ],
   "source": [
    "## Functions\n",
    "### Parse the current season schedule / results page\n",
    "\n",
    "def parse_current_season(url):\n",
    "        # Initialize variables\n",
    "    current_date = None\n",
    "    current_conference = None\n",
    "    game_notes = None\n",
    "\n",
    "    # Initialize an empty list to hold the data\n",
    "    data = []\n",
    "\n",
    "    # Parse the page with BeautifulSoup\n",
    "    # Get the page with requests\n",
    "    response = requests.get(url)\n",
    "\n",
    "    # Create a BeautifulSoup object\n",
    "    soup = BeautifulSoup(response.text, 'html.parser')\n",
    "\n",
    "    # select the table or tables\n",
    "    tables = soup.find_all('table')\n",
    "\n",
    "    rows = soup.find_all('tr')\n",
    "\n",
    "    # Loop through each row to find relevant information\n",
    "    for row in rows:\n",
    "        # Check for date row\n",
    "        if row.get('class') == ['stats-section']:\n",
    "            current_date = row.find('td').text.strip()\n",
    "        # Check for conference row\n",
    "        elif row.get('class') == ['sked-header']:\n",
    "            current_conference = row.find('td').text.strip()\n",
    "        # Check for game notes\n",
    "        elif len(row.find_all('td')) == 2:\n",
    "            game_notes = row.find_all('td')[1].text.strip()\n",
    "        # Process rows with game data\n",
    "        elif row.get('valign') == 'top':\n",
    "            cells = row.find_all('td')\n",
    "            if len(cells) >= 9:\n",
    "                home_team = cells[0].text.strip()\n",
    "                home_team_link = cells[0].find('a')['href'] if cells[0].find('a') else None\n",
    "                home_score = cells[1].text.strip()\n",
    "                away_team = cells[3].text.strip()\n",
    "                away_team_link = cells[3].find('a')['href'] if cells[3].find('a') else None\n",
    "                away_score = cells[4].text.strip()\n",
    "                ot = cells[5].text.strip()\n",
    "                box_link = cells[7].find('a')['href'] if cells[7].find('a') else None\n",
    "                metrics_link = cells[8].find('a')['href'] if cells[8].find('a') else None\n",
    "                # Capture Game Notes\n",
    "                game_notes_cell = cells[-1].find('small')\n",
    "                game_notes = game_notes_cell.text.strip() if game_notes_cell else None\n",
    "\n",
    "                # Append data to the list\n",
    "                data.append([current_date, current_conference, game_notes, home_team, home_team_link, home_score, away_team, away_team_link, away_score, ot, box_link, metrics_link])\n",
    "                game_notes = None  # Reset game notes for the next row\n",
    "    return data\n",
    "\n",
    "## call the function\n",
    "data = parse_current_season(current_year_url)\n",
    "\n",
    "\n",
    "# Create a dataframe from the list\n",
    "\n",
    "columns = ['Date', 'Conference', 'Game_Notes', 'Home_Team', 'Home_Team_Link', 'Home_Score', 'Away_Team', 'Away_Team_Link', 'Away_Score', 'OT', 'Box_Link', 'Metrics_Link']\n",
    "df = pd.DataFrame(data, columns=columns)\n",
    "            \n",
    "## Extract the day of the week from the date and save in new column\n",
    "df['Day'] = pd.to_datetime(df['Date']).dt.day_name()\n",
    "# remove day of the week from date\n",
    "# format data column as YYYY-MM-DD\n",
    "df['Date'] = pd.to_datetime(df['Date']).dt.strftime('%Y-%m-%d')\n",
    "\n",
    "### Create a new column for the game ID\n",
    "## Game ID will be a combination of the date and abbreviated team names\n",
    "\n",
    "# Function to abbreviate the team names\n",
    "for row in df.itertuples():\n",
    "    home_team = row.Home_Team\n",
    "    away_team = row.Away_Team\n",
    "    home_team_abbr = home_team.split(' ')[-1]\n",
    "    away_team_abbr = away_team.split(' ')[-1]\n",
    "    game_id = f'{row.Date}_{home_team_abbr}_{away_team_abbr}'\n",
    "    df.loc[row.Index, 'Game_ID'] = game_id\n",
    "\n",
    "# Create a new column for the game ID\n",
    "df['Game_ID'] = df['Game_ID'].str.replace(',', '')\n",
    "\n",
    "# Apply the function to the DataFrame\n",
    "df['Game_ID'] = df.apply(lambda row: f'{row.Date}_{row.Home_Team}_{row.Away_Team}', axis=1)\n",
    "\n",
    "## Filter out games that have not been played yet\n",
    "df = df[df['Home_Score'] != '']\n",
    "\n",
    "# Replace Nan values in metrics column with empty string\n",
    "df['Metrics_Link'] = df['Metrics_Link'].fillna('')\n",
    "\n"
   ]
  },
  {
   "cell_type": "code",
   "execution_count": 3,
   "metadata": {},
   "outputs": [
    {
     "name": "stdout",
     "output_type": "stream",
     "text": [
      "207\n"
     ]
    }
   ],
   "source": [
    "print(len(df))\n",
    "df.tail(10)\n",
    "\n",
    "## Save csv of just the current season results\n",
    "df.to_csv('../TEMP/current_season.csv', index=False)\n",
    "\n",
    "# Store the dataframe as games_df\n",
    "games_df = df.copy()"
   ]
  },
  {
   "cell_type": "code",
   "execution_count": null,
   "metadata": {},
   "outputs": [],
   "source": []
  },
  {
   "cell_type": "code",
   "execution_count": 4,
   "metadata": {},
   "outputs": [],
   "source": [
    "## Functions for parsing the box score and metrics pages\n",
    "\n",
    "# Initialize logging for Error and Warning messages\n",
    "logging.basicConfig(filename='../TEMP/current_scrape.log', level=logging.INFO)\n",
    "\n",
    "#### PARSE PLAYER STATS TABLE ####\n",
    "def parse_player_summary(html_content):\n",
    "    # Initialize BeautifulSoup\n",
    "    soup = BeautifulSoup(html_content, 'html.parser')\n",
    "    \n",
    "    # Find the playersums div\n",
    "    playersums_div = soup.find('div', id='playersums')\n",
    "    if playersums_div is None:\n",
    "        return \"Player summaries div not found\"\n",
    "\n",
    "    # Initialize list to store player stats\n",
    "    player_stats = []\n",
    "\n",
    "    # Loop through each playersum div\n",
    "    for player_sum in playersums_div.find_all('div', class_='playersum'):\n",
    "        team = player_sum.find('td').text.strip()\n",
    "        \n",
    "        # Loop through table rows\n",
    "        for row in player_sum.find_all('tr'):\n",
    "            cols = row.find_all('td')\n",
    "            if len(cols) > 1:\n",
    "                player = cols[0].text.strip()\n",
    "                goals = cols[1].text.strip()\n",
    "                assists = cols[2].text.strip()\n",
    "                points = cols[3].text.strip()\n",
    "                plus_minus = cols[4].text.strip()\n",
    "                shots = cols[5].text.strip()\n",
    "                pim = cols[6].text.strip()\n",
    "                fowl = cols[7].text.strip() if len(cols) > 7 else None\n",
    "                \n",
    "                fow, fol = None, None\n",
    "                win_percentage = None\n",
    "                \n",
    "                \n",
    "\n",
    "                try:\n",
    "                    if fowl and '‑' in fowl:  # Checking if it contains a hyphen\n",
    "                        fow, fol = map(int, fowl.split('‑'))\n",
    "                        total_fo = fow + fol\n",
    "                        win_percentage = (fow / total_fo) * 100 if total_fo > 0 else 0\n",
    "                except ValueError:\n",
    "                    fow, fol, win_percentage = None, None, None\n",
    "\n",
    "                \n",
    "\n",
    "                \n",
    "                player_stat = {\n",
    "                    'Team': team,\n",
    "                    'Player': player,\n",
    "                    'G': goals,\n",
    "                    'A': assists,\n",
    "                    'Pt.': points,\n",
    "                    '+/-': plus_minus,\n",
    "                    'Sh': shots,\n",
    "                    'PIM': pim,\n",
    "                    'FOW': fow,\n",
    "                    'FOL': fol,\n",
    "                    'FO%': win_percentage\n",
    "                }\n",
    "                player_stats.append(player_stat)\n",
    "\n",
    "    return pd.DataFrame(player_stats)\n",
    "\n",
    "\n",
    "############# PARSEING SCORING SUMMARY WITH BS4\n",
    "\n",
    "def parse_scoring_summary(html_content):\n",
    "    # Initialize BeautifulSoup\n",
    "    soup = BeautifulSoup(html_content, 'html.parser')\n",
    "\n",
    "    # Find the scoring div and table\n",
    "    scoring_div = soup.find('div', id='scoring')\n",
    "    if scoring_div is None:\n",
    "        logging.error(\"Scoring div not found\")\n",
    "        return None\n",
    "\n",
    "    scoring_table = scoring_div.find('table')\n",
    "    if scoring_table is None:\n",
    "        logging.error(\"Scoring table not found within the scoring div\")\n",
    "        return None\n",
    "\n",
    "    # Initialize list to store scoring events\n",
    "    scoring_events = []\n",
    "    period = None\n",
    "\n",
    "    # Loop through table rows\n",
    "    for row in scoring_table.find_all('tr'):\n",
    "        if 'stats-section' in row.get('class', []):\n",
    "            td = row.find('td')\n",
    "            if td:\n",
    "                period = td.text.strip()\n",
    "            else:\n",
    "                logging.warning(\"Period name not found in 'stats-section' row\")\n",
    "                period = \"Unknown\"\n",
    "        else:\n",
    "            cols = row.find_all('td')\n",
    "            if len(cols) > 1:\n",
    "                try:\n",
    "                    team = cols[0].text.strip()\n",
    "                    pp = cols[1].text.strip()\n",
    "\n",
    "                    player_data = cols[3].text.strip()\n",
    "                    match = re.match(r\"(.+)\\s\\((\\d+)\\)\", player_data)\n",
    "                    player = match.group(1) if match else player_data\n",
    "                    goals = int(match.group(2)) if match else None\n",
    "\n",
    "                    assist_data_raw = cols[4].text.strip()\n",
    "                    assist_data = assist_data_raw.split(\", \") if assist_data_raw else []\n",
    "                    assist1 = assist_data[0] if len(assist_data) > 0 else None\n",
    "                    assist2 = assist_data[1] if len(assist_data) > 1 else None\n",
    "\n",
    "                    time = cols[5].text.strip()\n",
    "\n",
    "                    scoring_event = {\n",
    "                        'Period': period,\n",
    "                        'Team': team,\n",
    "                        'PP': pp,\n",
    "                        'Player': player,\n",
    "                        'Player_Goals': goals,\n",
    "                        'Assist1': assist1,\n",
    "                        'Assist2': assist2,\n",
    "                        'Time': time\n",
    "                    }\n",
    "                    scoring_events.append(scoring_event)\n",
    "                except Exception as e:\n",
    "                    logging.error(f\"An error occurred while parsing a scoring event row: {e}\")\n",
    "            else:\n",
    "                logging.warning(f\"Insufficient columns in scoring row: {len(cols)}\")\n",
    "\n",
    "    return pd.DataFrame(scoring_events)\n",
    "\n",
    "\n",
    "############# PARSEING PENALTY SUMMARY WITH BS4\n",
    "\n",
    "def parse_penalty_summary(html_content):\n",
    "    # Initialize BeautifulSoup\n",
    "    soup = BeautifulSoup(html_content, 'html.parser')\n",
    "\n",
    "    # Find the penalties div and table\n",
    "    penalties_div = soup.find('div', id='penalties')\n",
    "    if penalties_div is None:\n",
    "        logging.error(\"Penalties div not found\")\n",
    "        return None\n",
    "\n",
    "    penalties_table = penalties_div.find('table')\n",
    "    if penalties_table is None:\n",
    "        logging.error(\"Penalties table not found within the penalties div\")\n",
    "        return None\n",
    "\n",
    "    # Initialize list to store penalty events\n",
    "    penalty_events = []\n",
    "    period = None\n",
    "\n",
    "    # Loop through table rows\n",
    "    for row in penalties_table.find_all('tr'):\n",
    "        if 'stats-section' in row.get('class', []):\n",
    "            td = row.find('td')\n",
    "            if td:\n",
    "                period = td.text.strip()\n",
    "            else:\n",
    "                logging.warning(\"Period name not found in 'stats-section' row\")\n",
    "                period = \"Unknown\"\n",
    "        else:\n",
    "            cols = row.find_all('td')\n",
    "            if len(cols) > 1:\n",
    "                team = cols[0].text.strip()\n",
    "                player = cols[1].text.strip()\n",
    "                pen_length = cols[2].text.strip()\n",
    "                penalty_type = cols[3].text.strip()\n",
    "                time = cols[4].text.strip()\n",
    "\n",
    "                penalty_event = {\n",
    "                    'Period': period,\n",
    "                    'Team': team,\n",
    "                    'Player': player,\n",
    "                    'Pen_Length': pen_length,\n",
    "                    'Penalty_Type': penalty_type,\n",
    "                    'Time': time\n",
    "                }\n",
    "                penalty_events.append(penalty_event)\n",
    "\n",
    "    return pd.DataFrame(penalty_events)\n",
    "\n",
    "\n",
    "############# PARSEING GOALIE SUMMARY WITH BS4\n",
    "\n",
    "def parse_goalie_stats(html_content):\n",
    "    # Initialize BeautifulSoup\n",
    "    soup = BeautifulSoup(html_content, 'html.parser')\n",
    "\n",
    "    # Find the goalies div and table\n",
    "    goalies_div = soup.find('div', id='goalies')\n",
    "    if goalies_div is None:\n",
    "        logging.error(\"Goalies div not found\")\n",
    "        return None\n",
    "\n",
    "    goalies_table = goalies_div.find('table')\n",
    "    if goalies_table is None:\n",
    "        logging.error(\"Goalies table not found within the goalies div\")\n",
    "        return None\n",
    "\n",
    "    # Initialize list to store goalie stats\n",
    "    goalie_stats = []\n",
    "    team = None\n",
    "\n",
    "    # Loop through table rows\n",
    "    for row in goalies_table.find_all('tr'):\n",
    "        if 'stats-header' in row.get('class', []):\n",
    "            td = row.find('td')\n",
    "            if td:\n",
    "                team = td.text.strip()\n",
    "            else:\n",
    "                logging.warning(\"Team name not found in 'stats-header' row\")\n",
    "                team = \"Unknown\"\n",
    "        else:\n",
    "            cols = row.find_all('td')\n",
    "            if len(cols) > 1:\n",
    "                goalie = cols[0].text.strip()\n",
    "                sv = cols[1].text.strip()\n",
    "                ga = cols[2].text.strip()\n",
    "                minutes = cols[3].text.strip()\n",
    "\n",
    "                goalie_stat = {\n",
    "                    'Team': team,\n",
    "                    'Goalie': goalie,\n",
    "                    'SV': sv,\n",
    "                    'GA': ga,\n",
    "                    'Minutes': minutes\n",
    "                }\n",
    "                goalie_stats.append(goalie_stat)\n",
    "\n",
    "    return pd.DataFrame(goalie_stats)\n",
    "\n",
    "\n",
    "#### PARSE THE ADVANCED TEAM METRICS TABLES ####\n",
    "### NEW - IT WORKS IN THE NOTEBOOK BUT NOT IN THE FUNCTION\n",
    "### RETURNS WHOLE ADVANCED METRICS AS SINGLE TABLE\n",
    "####################################\n",
    "def parse_new_advanced_metrics(html_content):\n",
    "    # Parse HTML content\n",
    "    soup = BeautifulSoup(html_content, 'html.parser')\n",
    "    \n",
    "    # Find all tables with advanced metrics\n",
    "    tables = soup.find_all('table', {'class': 'sortable metrics'})\n",
    "    \n",
    "    # List to store all parsed data\n",
    "    all_data = []\n",
    "    \n",
    "    for table in tables:\n",
    "        # Extract team name from the table header\n",
    "        team_name = table.find('td').text.strip()\n",
    "        \n",
    "        # Extract headers (skipping the Player header)\n",
    "        headers = [header.text for header in table.find_all('th')][1:]\n",
    "        \n",
    "        # Prepare final column headers\n",
    "        col_names = ['Team', 'Player']\n",
    "        for header in headers:\n",
    "            col_names.append(header)\n",
    "        \n",
    "        # Extract player data\n",
    "        rows = table.find_all('tr')[2:]  # skipping the two header rows\n",
    "        for row in rows:\n",
    "            player_data = [team_name]  # start with team name\n",
    "            cells = row.find_all('td')\n",
    "            player_data.append(cells[0].text.strip())  # player name\n",
    "            for cell in cells[1:]:\n",
    "                player_data.append(cell.text.strip())\n",
    "            all_data.append(player_data)\n",
    "    \n",
    "    # Convert the list of data to a DataFrame\n",
    "    df = pd.DataFrame(all_data, columns=col_names)\n",
    "    return df\n",
    "\n",
    "# Testing the new function with the provided HTML content\n",
    "# advanced_df = parse_new_advanced_metrics(advanced_tie_game_html_content)\n",
    "# advanced_df\n",
    "\n",
    "\n",
    "######## NEWS TEST ###############  \n",
    "def parse_advanced_metrics_tables(html_content):\n",
    "    # Parse HTML content\n",
    "    soup = BeautifulSoup(html_content, 'html.parser')\n",
    "    \n",
    "    # Find all tables with advanced metrics\n",
    "    tables = soup.find_all('table', {'class': 'sortable metrics'})\n",
    "    \n",
    "    # List to store all parsed data\n",
    "    all_data = []\n",
    "    \n",
    "    for table in tables:\n",
    "        # Extract team name from the table header\n",
    "        team_name = table.find('td').text.strip()\n",
    "        \n",
    "        # Extract headers (skipping the Player header)\n",
    "        headers = [header.text for header in table.find_all('th')][1:]\n",
    "        \n",
    "        # Prepare final column headers\n",
    "        col_names = ['Team', 'Player']\n",
    "        for header in headers:\n",
    "            col_names.append(header)\n",
    "        \n",
    "        # Extract player data\n",
    "        rows = table.find_all('tr')[2:]  # skipping the two header rows\n",
    "        for row in rows:\n",
    "            player_data = [team_name]  # start with team name\n",
    "            cells = row.find_all('td')\n",
    "            player_data.append(cells[0].text.strip())  # player name\n",
    "            for cell in cells[1:]:\n",
    "                player_data.append(cell.text.strip())\n",
    "            all_data.append(player_data)\n",
    "    \n",
    "    # Convert the list of data to a DataFrame\n",
    "    df = pd.DataFrame(all_data, columns=col_names)\n",
    "    return df\n",
    "\n",
    "\n",
    "######### OLDER FUNCTION for Test ################\n",
    "# ########### UPDATED FUNCTION TO STORE TEAM NAMES IN THE DATAFRAMES\n",
    "# def parse_advanced_metrics_tables(html_content):\n",
    "#     # Initialize list to store DataFrames\n",
    "#     dfs = []\n",
    "    \n",
    "#     # Parse HTML content\n",
    "#     soup = BeautifulSoup(html_content, 'html.parser')\n",
    "    \n",
    "#     # Find all tables\n",
    "#     tables = soup.find_all('table', {'class': 'sortable metrics'})\n",
    "    \n",
    "#     for table in tables:\n",
    "#         # Extract team name\n",
    "#         team_name = table.find('td').text\n",
    "        \n",
    "#         # Initialize list to store column names and data\n",
    "#         col_names = []\n",
    "#         col_names_final = []\n",
    "#         data = []\n",
    "        \n",
    "#         # Get headers\n",
    "#         headers = table.find_all('th')\n",
    "#         for header in headers:\n",
    "#             col_names.append(header.text)\n",
    "        \n",
    "#         # Add TOTAL, EVEN STRENGTH, POWER PLAY, CLOSE to column names\n",
    "#         section_headers = ['TOTAL', 'EVEN STRENGTH', 'POWER PLAY', 'CLOSE']\n",
    "#         for col in col_names:\n",
    "#             for section in section_headers:\n",
    "#                 if col in section_headers:\n",
    "#                     temp_col = section\n",
    "#                 else:\n",
    "#                     temp_col = f\"{section}_{col}\"\n",
    "#             col_names_final.append(temp_col)\n",
    "        \n",
    "#         # Get data rows\n",
    "#         rows = table.find_all('tr')[2:]  # skip header rows\n",
    "#         for row in rows:\n",
    "#             row_data = [team_name]  # Add team name as the first element\n",
    "#             cells = row.find_all('td')\n",
    "#             for cell in cells:\n",
    "#                 row_data.append(cell.text.strip())\n",
    "#             data.append(row_data)\n",
    "        \n",
    "#         # Add \"Team\" to the column names\n",
    "#         new_names = ['Team', 'Player', 'TOTAL_Block', 'TOTAL_Miss', 'TOTAL_Saved', 'TOTAL_Goals', 'TOTAL_Total_Shots',\n",
    "#                      'EVEN_Block', 'EVEN_Miss', 'EVEN_Saved', 'EVEN_Goals', 'EVEN_Total_Shots',\n",
    "#                      'PP_Block', 'PP_Miss', 'PP_Saved', 'PP_Goals', 'PP_Total_Shots',\n",
    "#                      'CLOSE_Block', 'CLOSE_Miss', 'CLOSE_Saved', 'CLOSE_Goals', 'CLOSE_Total_Shots',\n",
    "#                      'D_Blocks', 'Faceoffs']\n",
    "\n",
    "#         # Create DataFrame and set the column names\n",
    "#         df = pd.DataFrame(data, columns=new_names)\n",
    "\n",
    "#         # Append DataFrame to list\n",
    "#         dfs.append(df)\n",
    "    \n",
    "#     return dfs\n",
    "\n",
    "\n",
    "# Complete code for parsing the line chart information with specific positions for forwards and defensemen.\n",
    "\n",
    "\n",
    "def parse_line_chart(html_content):\n",
    "    soup = BeautifulSoup(html_content, 'html.parser')\n",
    "    line_chart_div = soup.find('div', id='linechart')\n",
    "\n",
    "    if line_chart_div is None:\n",
    "        logging.error(\"Line chart div not found\")\n",
    "        return pd.DataFrame()\n",
    "\n",
    "    line_data = []\n",
    "\n",
    "    for team_div in line_chart_div.find_all('div', recursive=False):\n",
    "        h3 = team_div.find('h3')\n",
    "        if h3 is None:\n",
    "            logging.warning(\"Team name not found\")\n",
    "            continue\n",
    "        \n",
    "        team_name = h3.text.strip()\n",
    "        \n",
    "        for line_type_div in team_div.find_all('div', recursive=False):\n",
    "            line_type = line_type_div.get('class')[0] if line_type_div.get('class') else None\n",
    "            if line_type is None:\n",
    "                logging.warning(\"Line type not found\")\n",
    "                continue\n",
    "            \n",
    "            if line_type == 'f':\n",
    "                position_types = ['Left Wing', 'Center', 'Right Wing']\n",
    "            elif line_type == 'd':\n",
    "                position_types = ['Left D', 'Right D']\n",
    "            elif line_type == 'x':\n",
    "                position_types = ['Extra']\n",
    "            elif line_type == 'g':\n",
    "                position_types = ['Goalie']\n",
    "                goalie_count = 1  # Initialize goalie count\n",
    "            else:\n",
    "                continue\n",
    "\n",
    "            players = line_type_div.find_all('div')\n",
    "            if not players:\n",
    "                logging.warning(f\"No players found for {team_name} in {line_type}\")\n",
    "                continue\n",
    "            \n",
    "            for i, player in enumerate(players):\n",
    "                player_name = player.text.strip()\n",
    "                if line_type == 'x':\n",
    "                    player_name = player_name.split(' ')[0]\n",
    "                if line_type == 'g':\n",
    "                    line_number = f\"Goalie {goalie_count}\"\n",
    "                    goalie_count += 1\n",
    "                else:\n",
    "                    line_number = i // len(position_types) + 1\n",
    "\n",
    "                position = position_types[i % len(position_types)]\n",
    "                line_data.append({\n",
    "                    'Team': team_name,\n",
    "                    'Line': line_number,\n",
    "                    'Position': position,\n",
    "                    'Player': player_name\n",
    "                })\n",
    "\n",
    "    if not line_data:\n",
    "        logging.error(\"No line data was collected\")\n",
    "\n",
    "    df = pd.DataFrame(line_data)\n",
    "    \n",
    "    # # Log DataFrame info for debugging\n",
    "    # if df.empty:\n",
    "    #     logging.warning(\"Generated line chart DataFrame is empty.\")\n",
    "    # else:\n",
    "    #     logging.info(f\"Generated line chart DataFrame with columns: {df.columns.tolist()}\")\n",
    "\n",
    "    return df\n",
    "\n",
    "### Get the Linescore Elements - Score, shots, ect by period####\n",
    "### UPDATED \n",
    "\n",
    "def parse_linescore(html_content):\n",
    "    soup = BeautifulSoup(html_content, 'html.parser')\n",
    "    linescore_data = []\n",
    "    \n",
    "    # Parsing the Goals table\n",
    "    goals_table = soup.select_one(\"#goals table\")\n",
    "    if goals_table is None:\n",
    "        logging.error(\"Goals table not found\")\n",
    "        return None\n",
    "    \n",
    "    rows = goals_table.select('tbody tr')\n",
    "    if not rows:\n",
    "        logging.warning(\"No rows found in Goals table\")\n",
    "        return None\n",
    "    \n",
    "    for row in rows:\n",
    "        team_data = {}\n",
    "        td = row.select_one('td')\n",
    "        if td:\n",
    "            team_data['Team'] = td.text\n",
    "        else:\n",
    "            logging.warning(\"Team name not found in Goals table\")\n",
    "            continue\n",
    "\n",
    "        goals = row.select('td')[1:]\n",
    "        for i, goal in enumerate(goals):\n",
    "            period = i + 1\n",
    "            column_name = f'goals{period}' if i < len(goals) - 1 else 'goalsT'\n",
    "            team_data[column_name] = int(goal.text)\n",
    "        \n",
    "        linescore_data.append(team_data)\n",
    "    \n",
    "\n",
    "    # Parsing the Shots table\n",
    "    shots_table = soup.select_one(\"#shots table\")\n",
    "    if shots_table is None:\n",
    "        logging.error(\"Shots table not found\")\n",
    "        return None\n",
    "\n",
    "    rows = shots_table.select('tbody tr')\n",
    "    if not rows:\n",
    "        logging.warning(\"No rows found in Shots table\")\n",
    "        return None\n",
    "\n",
    "    for i, row in enumerate(rows):\n",
    "        shots = row.select('td')[1:]\n",
    "        if not shots:\n",
    "            logging.warning(f\"No shot data found for row {i+1} in Shots table\")\n",
    "            continue\n",
    "\n",
    "        for j, shot in enumerate(shots):\n",
    "            period = j + 1\n",
    "            column_name = f'shots{period}' if j < len(shots) - 1 else 'shotsT'\n",
    "            try:\n",
    "                linescore_data[i][column_name] = int(shot.text.strip())\n",
    "            except ValueError:\n",
    "                logging.warning(f\"Could not convert shot data to integer for row {i+1}, column {j+1}\")\n",
    "                linescore_data[i][column_name] = None\n",
    "\n",
    "    # Parsing the PP table\n",
    "    pp_table = soup.select_one(\"#pp table\")\n",
    "    if pp_table is None:\n",
    "        logging.error(\"PP table not found\")\n",
    "        return None\n",
    "\n",
    "    rows = pp_table.select('tbody tr')\n",
    "    if not rows:\n",
    "        logging.warning(\"No rows found in PP table\")\n",
    "        return None\n",
    "\n",
    "    for i, row in enumerate(rows):\n",
    "        try:\n",
    "            pen_pim = row.select('td')[1].text.split('‑')\n",
    "            linescore_data[i]['Pen'] = int(pen_pim[0])\n",
    "            linescore_data[i]['PIM'] = int(pen_pim[1])\n",
    "\n",
    "            ppg_ppo = row.select('td')[2].text.split('‑')\n",
    "            linescore_data[i]['PPG'] = int(ppg_ppo[0])\n",
    "            linescore_data[i]['PPO'] = int(ppg_ppo[1])\n",
    "\n",
    "            fow_fol = row.select('td')[3].text.split('‑')\n",
    "            linescore_data[i]['FOW'] = int(fow_fol[0])\n",
    "            linescore_data[i]['FOL'] = int(fow_fol[1])\n",
    "            linescore_data[i]['FOW%'] = (linescore_data[i]['FOW'] / (linescore_data[i]['FOW'] + linescore_data[i]['FOL'])) * 100\n",
    "\n",
    "        except (ValueError, IndexError) as e:\n",
    "            logging.warning(f\"Could not process PP data for row {i+1}. Error: {e}\")\n",
    "            continue\n",
    "\n",
    "    # Convert to DataFrame early\n",
    "    df = pd.DataFrame(linescore_data)\n",
    "\n",
    "    # Ensure all columns exist\n",
    "    expected_goals_columns = [f'goals{i}' for i in range(1, 5)] + ['goalsT']\n",
    "    expected_shots_columns = [f'shots{i}' for i in range(1, 5)] + ['shotsT']\n",
    "\n",
    "    for col in expected_goals_columns + expected_shots_columns:\n",
    "        if col not in df.columns:\n",
    "            df[col] = 0\n",
    "\n",
    "    # Return the final DataFrame\n",
    "    return df\n",
    "\n",
    "\n",
    "# ############################## ORIGINAL FUNCTION #########################################\n",
    "# def parse_linescore(html_content):\n",
    "#     soup = BeautifulSoup(html_content, 'html.parser')\n",
    "#     linescore_data = []\n",
    "    \n",
    "#     # Parsing the Goals table\n",
    "#     goals_table = soup.select_one(\"#goals table\")\n",
    "#     if goals_table is None:\n",
    "#         logging.error(\"Goals table not found\")\n",
    "#         return None\n",
    "    \n",
    "#     rows = goals_table.select('tbody tr')\n",
    "#     if not rows:\n",
    "#         logging.warning(\"No rows found in Goals table\")\n",
    "#         return None\n",
    "    \n",
    "#     for row in rows:\n",
    "#         team_data = {}\n",
    "#         td = row.select_one('td')\n",
    "#         if td:\n",
    "#             team_data['Team'] = td.text\n",
    "#         else:\n",
    "#             logging.warning(\"Team name not found in Goals table\")\n",
    "#             continue\n",
    "\n",
    "#         goals = row.select('td')[1:]\n",
    "#         for i, goal in enumerate(goals):\n",
    "#             period = i + 1\n",
    "#             column_name = f'goals{period}' if i < len(goals) - 1 else 'goalsT'\n",
    "#             team_data[column_name] = int(goal.text)\n",
    "        \n",
    "#         linescore_data.append(team_data)\n",
    "    \n",
    "\n",
    "#     # Parsing the Shots table\n",
    "#     shots_table = soup.select_one(\"#shots table\")\n",
    "#     if shots_table is None:\n",
    "#         logging.error(\"Shots table not found\")\n",
    "#         return None\n",
    "\n",
    "#     rows = shots_table.select('tbody tr')\n",
    "#     if not rows:\n",
    "#         logging.warning(\"No rows found in Shots table\")\n",
    "#         return None\n",
    "\n",
    "#     for i, row in enumerate(rows):\n",
    "#         shots = row.select('td')[1:]\n",
    "#         if not shots:\n",
    "#             logging.warning(f\"No shot data found for row {i+1} in Shots table\")\n",
    "#             continue\n",
    "\n",
    "#         for j, shot in enumerate(shots):\n",
    "#             period = j + 1\n",
    "#             column_name = f'shots{period}' if j < len(shots) - 1 else 'shotsT'\n",
    "#             try:\n",
    "#                 linescore_data[i][column_name] = int(shot.text.strip())\n",
    "#             except ValueError:\n",
    "#                 logging.warning(f\"Could not convert shot data to integer for row {i+1}, column {j+1}\")\n",
    "#                 linescore_data[i][column_name] = None\n",
    "\n",
    "#     # Parsing the PP table\n",
    "#     pp_table = soup.select_one(\"#pp table\")\n",
    "#     if pp_table is None:\n",
    "#         logging.error(\"PP table not found\")\n",
    "#         return None\n",
    "\n",
    "#     rows = pp_table.select('tbody tr')\n",
    "#     if not rows:\n",
    "#         logging.warning(\"No rows found in PP table\")\n",
    "#         return None\n",
    "\n",
    "#     for i, row in enumerate(rows):\n",
    "#         try:\n",
    "#             pen_pim = row.select('td')[1].text.split('‑')\n",
    "#             linescore_data[i]['Pen'] = int(pen_pim[0])\n",
    "#             linescore_data[i]['PIM'] = int(pen_pim[1])\n",
    "\n",
    "#             ppg_ppo = row.select('td')[2].text.split('‑')\n",
    "#             linescore_data[i]['PPG'] = int(ppg_ppo[0])\n",
    "#             linescore_data[i]['PPO'] = int(ppg_ppo[1])\n",
    "\n",
    "#             fow_fol = row.select('td')[3].text.split('‑')\n",
    "#             linescore_data[i]['FOW'] = int(fow_fol[0])\n",
    "#             linescore_data[i]['FOL'] = int(fow_fol[1])\n",
    "#             linescore_data[i]['FOW%'] = (linescore_data[i]['FOW'] / (linescore_data[i]['FOW'] + linescore_data[i]['FOL'])) * 100\n",
    "\n",
    "#         except (ValueError, IndexError) as e:\n",
    "#             logging.warning(f\"Could not process PP data for row {i+1}. Error: {e}\")\n",
    "#             continue\n",
    "\n",
    "#     return pd.DataFrame(linescore_data)\n",
    "\n",
    "\n",
    "\n",
    "# Function to parse game details\n",
    "\n",
    "\n",
    "def parse_game_details(html_content):\n",
    "    soup = BeautifulSoup(html_content, 'html.parser')\n",
    "    meta_div = soup.find('div', {'id': 'meta'})\n",
    "    if meta_div is None:\n",
    "        logging.error(\"Meta div not found\")\n",
    "        return None\n",
    "    \n",
    "    game_details_div = meta_div.find_all('div')[-1]\n",
    "    if game_details_div is None:\n",
    "        logging.error(\"Game details div not found\")\n",
    "        return None\n",
    "    \n",
    "    try:\n",
    "        date_str = game_details_div.h4.string\n",
    "        day_of_week, date = date_str.split(\", \", 1)\n",
    "        \n",
    "        p_elements = game_details_div.find_all('p')\n",
    "        \n",
    "        # Extract conference and location details\n",
    "        for p in p_elements:\n",
    "            if \"Game\" in p.text:  # e.g., \"Big Ten Game\"\n",
    "                details_strs = p.get_text(separator='|').split('|')\n",
    "                conference = details_strs[0]\n",
    "                location = details_strs[-1].split('at ')[-1]\n",
    "                break\n",
    "        else:  # Defaults if not found\n",
    "            conference, location = None, None\n",
    "        \n",
    "        # Extract referees and assistant referees details\n",
    "        for p in p_elements:\n",
    "            if \"Referees\" in p.text:\n",
    "                refs_str = p.strong.next_sibling if p.strong else None\n",
    "                asst_refs_str = p.find_all('strong')[1].next_sibling if len(p.find_all('strong')) > 1 else None\n",
    "                break\n",
    "        else:  # Defaults if not found\n",
    "            refs_str, asst_refs_str = None, None\n",
    "        \n",
    "        refs = refs_str.split(', ') if refs_str else []\n",
    "        asst_refs = asst_refs_str.split(', ') if asst_refs_str else []\n",
    "        refs = [re.sub(r'[^a-zA-Z ]+', '', ref).strip() for ref in refs]\n",
    "        asst_refs = [re.sub(r'[^a-zA-Z ]+', '', ref).strip() for ref in asst_refs]\n",
    "        \n",
    "        # Extract attendance details using regex for better accuracy\n",
    "        attendance_pattern = r\"Attendance:\\s?(\\d+[\\d,]*)\"\n",
    "        attendance_match = re.search(attendance_pattern, html_content)\n",
    "        attendance = int(attendance_match.group(1).replace(',', '')) if attendance_match else None\n",
    "        \n",
    "        # Extract game details (like shootout results)\n",
    "        details = None\n",
    "        for p in p_elements:\n",
    "            if \"shootout\" in p.text:\n",
    "                details = p.text\n",
    "                break\n",
    "        \n",
    "        # Clean details if present\n",
    "        if details and '\\n' in details:\n",
    "            details = details.replace('\\n', '').strip()\n",
    "        if details and '\\t' in details:\n",
    "            details = re.sub('\\t', ' ', details)\n",
    "        \n",
    "        game_details = {\n",
    "            'Day': day_of_week,\n",
    "            'Date': date,\n",
    "            'Conference': conference,\n",
    "            'Details': details,\n",
    "            'Location': location,\n",
    "            'Ref1': refs[0] if refs else None,\n",
    "            'Ref2': refs[1] if len(refs) > 1 else None,\n",
    "            'Asst_Ref1': asst_refs[0] if asst_refs else None,\n",
    "            'Asst_Ref2': asst_refs[1] if len(asst_refs) > 1 else None,\n",
    "            'Attendance': attendance\n",
    "        }\n",
    "        \n",
    "        game_details_df = pd.DataFrame([game_details])\n",
    "        return game_details_df\n",
    "\n",
    "    except (AttributeError, IndexError, ValueError) as e:\n",
    "        logging.error(f\"Error while parsing game details: {e}\")\n",
    "        return None\n",
    "\n",
    "\n",
    "def parse_box_score(box_score_html):\n",
    "    # Initialize DataFrames to None\n",
    "    scoring_summary = penalty_summary = goalie_stats = player_stats = line_chart = linescore = game_details = None\n",
    "    \n",
    "    try:\n",
    "        scoring_summary = parse_scoring_summary(box_score_html)\n",
    "    except Exception as e:\n",
    "        print(f\"Error in parse_scoring_summary: {e}\")\n",
    "    \n",
    "    try:\n",
    "        penalty_summary = parse_penalty_summary(box_score_html)\n",
    "    except Exception as e:\n",
    "        print(f\"Error in parse_penalty_summary: {e}\")\n",
    "    \n",
    "    try:\n",
    "        goalie_stats = parse_goalie_stats(box_score_html)\n",
    "    except Exception as e:\n",
    "        print(f\"Error in parse_goalie_stats: {e}\")\n",
    "    \n",
    "    try:\n",
    "        player_stats = parse_player_summary(box_score_html)\n",
    "    except Exception as e:\n",
    "        print(f\"Error in parse_player_summary: {e}\")\n",
    "    \n",
    "    try:\n",
    "        line_chart = parse_line_chart(box_score_html)\n",
    "        if line_chart.empty:\n",
    "            logging.info(\"Line chart is empty. Skipping the insert for this game.\")\n",
    "        else:\n",
    "            logging.info(f\"Line chart DataFrame structure: {line_chart.dtypes}\")\n",
    "\n",
    "        # Insert into database (make sure this part works as expected)\n",
    "\n",
    "    except Exception as e:\n",
    "        logging.error(f\"Error in parse_line_chart: {e}\")\n",
    "\n",
    "\n",
    "    \n",
    "    try:\n",
    "        linescore = parse_linescore(box_score_html)\n",
    "    except Exception as e:\n",
    "        print(f\"Error in parse_linescore: {e}\")\n",
    "    \n",
    "    try:\n",
    "        game_details = parse_game_details(box_score_html)\n",
    "    except Exception as e:\n",
    "        print(f\"Error in parse_game_details: {e}\")\n",
    "    \n",
    "    # Combine DataFrames into a list\n",
    "    all_dfs = [game_details, scoring_summary, penalty_summary, goalie_stats, player_stats, line_chart, linescore]\n",
    "    \n",
    "    return all_dfs\n",
    "\n",
    "\n",
    "def rename_duplicate_columns(df):\n",
    "    cols = pd.Series(df.columns)\n",
    "    for dup in df.columns[df.columns.duplicated()].unique(): \n",
    "        cols[df.columns.get_loc(dup)] = [f\"{dup}_{i}\" if i != 0 else dup for i in range(df.columns.get_loc(dup).sum())]\n",
    "    df.columns = cols\n",
    "    return df\n",
    "\n",
    "\n",
    "\n",
    "\n",
    "# Function to save DataFrames to SQLite database\n",
    "import sqlite3\n",
    "from sqlalchemy import create_engine\n",
    "\n",
    "# Modified Function to save DataFrames to SQLite database\n",
    "def save_to_sqlite_db(df_list, table_names, tag=''):\n",
    "    db_name = f\"../TEMP/Scrape_Game_Stats.db\"\n",
    "    engine = create_engine(f'sqlite:///{db_name}')\n",
    "    \n",
    "    for df, table in zip(df_list, table_names):\n",
    "        try:\n",
    "            df = rename_duplicate_columns(df)\n",
    "            df.to_sql(table, engine, if_exists='append', index=False)\n",
    "        except Exception as e:\n",
    "            print(f\"Error saving to table {table}: {e}\")\n",
    "\n",
    "############# OLDER FUNCTION ################\n",
    "# def save_to_sqlite_db(df_list, table_names, tag=''):\n",
    "#     db_name = f\"../TEMP/NEWEST_Scrape_Game_Stats.db\"  # Create DB file name using the TAG\n",
    "#     engine = create_engine(f'sqlite:///{db_name}')\n",
    "    \n",
    "#     for df, table in zip(df_list, table_names):\n",
    "#         # Assuming rename_duplicate_columns is a function you've defined earlier\n",
    "#         df = rename_duplicate_columns(df)\n",
    "#         df.to_sql(table, engine, if_exists='append', index=False)\n",
    "\n",
    "# Function to fetch and save data\n",
    "# Modified Function to fetch and save data\n",
    "def fetch_and_save_data_to_db(box_score_url, advanced_metrics_url, tag=f'{tag}'):  # Added tag parameter\n",
    "    db_name = f\"{tag} CHN Data.db\"  # Create DB name using the TAG\n",
    "    # Fetch HTML content for box score\n",
    "    box_score_response = requests.get(box_score_url)\n",
    "    box_score_html = box_score_response.text\n",
    "    \n",
    "    # Fetch HTML content for advanced metrics\n",
    "    advanced_metrics_response = requests.get(advanced_metrics_url)\n",
    "    advanced_metrics_html = advanced_metrics_response.text\n",
    "    \n",
    "    # Parse box score into list of DataFrames\n",
    "    box_score_dfs = parse_box_score(box_score_html)\n",
    "    \n",
    "    # Parse advanced metrics into list of DataFrames\n",
    "    advanced_metrics_df = parse_advanced_metrics_tables(advanced_metrics_html)\n",
    "    advanced_metrics_dfs = [advanced_metrics_df]\n",
    "    \n",
    "    # Combine all DataFrames into a list\n",
    "    all_dfs = box_score_dfs + advanced_metrics_dfs\n",
    "    \n",
    "    # Define table names for these DataFrames\n",
    "    table_names = ['game_details', 'scoring_summary', 'penalty_summary', \n",
    "                    'goalie_stats', 'player_stats', 'line_chart', 'linescore',\n",
    "                    'advanced_metrics']\n",
    "\n",
    "\n",
    "    # if len(all_dfs) != len(table_names):\n",
    "    #     raise ValueError(\"Mismatch between number of DataFrames and table names!\")\n",
    "\n",
    "    # Diagnostic Step 1: Print the number of DataFrames and table names\n",
    "    # print(f\"Number of DataFrames: {len(all_dfs)}\")\n",
    "    # print(f\"Number of table names: {len(table_names)}\")\n",
    "\n",
    "    # Diagnostic Step 2: Print the names of the columns for each DataFrame\n",
    "    # for df in all_dfs:\n",
    "    #     print(df.columns.tolist())\n",
    "\n",
    "\n",
    "    # Create a game_id for the game and apply it to all dataframes\n",
    "    # Game ID YYYMMDD-HomeTeam-AwayTeam\n",
    "    for df in all_dfs:\n",
    "        df['Game_ID'] = game_id\n",
    "\n",
    "        # Diagnostic check\n",
    "    if len(all_dfs) != len(table_names):\n",
    "        print(f\"Mismatch detected!\")\n",
    "        print(f\"box_score_url: {box_score_url}\")\n",
    "        print(f\"advanced_metrics_url: {advanced_metrics_url}\")\n",
    "    \n",
    "    # Save DataFrames to SQLite database\n",
    "    save_to_sqlite_db(all_dfs, table_names, tag)  # Pass the tag here\n",
    "    \n",
    "    return all_dfs\n"
   ]
  },
  {
   "cell_type": "code",
   "execution_count": 5,
   "metadata": {},
   "outputs": [],
   "source": [
    "# # Example usage:\n",
    "# TAG = \"NEW2022-2023\"\n",
    "# save_to_sqlite_db(df_list, table_names, TAG)\n",
    "# fetch_and_save_data_to_db(box_score_url, advanced_metrics_url, TAG)"
   ]
  },
  {
   "cell_type": "code",
   "execution_count": 6,
   "metadata": {},
   "outputs": [
    {
     "name": "stderr",
     "output_type": "stream",
     "text": [
      "Scraping games:   5%|▌         | 11/207 [00:18<06:23,  1.96s/it]"
     ]
    },
    {
     "name": "stdout",
     "output_type": "stream",
     "text": [
      "Number of DataFrames: 8\n",
      "Number of table names: 8\n",
      "['Day', 'Date', 'Conference', 'Details', 'Location', 'Ref1', 'Ref2', 'Asst_Ref1', 'Asst_Ref2', 'Attendance']\n",
      "['Period', 'Team', 'PP', 'Player', 'Player_Goals', 'Assist1', 'Assist2', 'Time']\n",
      "['Period', 'Team', 'Player', 'Pen_Length', 'Penalty_Type', 'Time']\n",
      "['Team', 'Goalie', 'SV', 'GA', 'Minutes']\n",
      "['Team', 'Player', 'G', 'A', 'Pt.', '+/-', 'Sh', 'PIM', 'FOW', 'FOL', 'FO%']\n",
      "['Team', 'Line', 'Position', 'Player']\n",
      "['Team', 'goals1', 'goals2', 'goals3', 'goalsT', 'shots1', 'shots2', 'shots3', 'shotsT', 'Pen', 'PIM', 'PPG', 'PPO', 'FOW', 'FOL', 'FOW%', 'goals4', 'shots4']\n",
      "['Team', 'Player', 'Bl', 'Mi', 'SV', 'G', 'TSA', 'Bl', 'Mi', 'SV', 'G', 'TSA', 'Bl', 'Mi', 'SV', 'G', 'TSA', 'Bl', 'Mi', 'SV', 'G', 'TSA', 'BLKs', 'FO']\n"
     ]
    },
    {
     "name": "stderr",
     "output_type": "stream",
     "text": [
      "Scraping games:   6%|▌         | 12/207 [00:21<07:03,  2.17s/it]"
     ]
    },
    {
     "name": "stdout",
     "output_type": "stream",
     "text": [
      "Number of DataFrames: 8\n",
      "Number of table names: 8\n",
      "['Day', 'Date', 'Conference', 'Details', 'Location', 'Ref1', 'Ref2', 'Asst_Ref1', 'Asst_Ref2', 'Attendance']\n",
      "['Period', 'Team', 'PP', 'Player', 'Player_Goals', 'Assist1', 'Assist2', 'Time']\n",
      "['Period', 'Team', 'Player', 'Pen_Length', 'Penalty_Type', 'Time']\n",
      "['Team', 'Goalie', 'SV', 'GA', 'Minutes']\n",
      "['Team', 'Player', 'G', 'A', 'Pt.', '+/-', 'Sh', 'PIM', 'FOW', 'FOL', 'FO%']\n",
      "['Team', 'Line', 'Position', 'Player']\n",
      "['Team', 'goals1', 'goals2', 'goals3', 'goalsT', 'shots1', 'shots2', 'shots3', 'shotsT', 'Pen', 'PIM', 'PPG', 'PPO', 'FOW', 'FOL', 'FOW%', 'goals4', 'shots4']\n",
      "['Team', 'Player', 'Bl', 'Mi', 'SV', 'G', 'TSA', 'Bl', 'Mi', 'SV', 'G', 'TSA', 'Bl', 'Mi', 'SV', 'G', 'TSA', 'Bl', 'Mi', 'SV', 'G', 'TSA', 'BLKs', 'FO']\n"
     ]
    },
    {
     "name": "stderr",
     "output_type": "stream",
     "text": [
      "Scraping games:   6%|▋         | 13/207 [00:23<07:27,  2.30s/it]"
     ]
    },
    {
     "name": "stdout",
     "output_type": "stream",
     "text": [
      "Number of DataFrames: 8\n",
      "Number of table names: 8\n",
      "['Day', 'Date', 'Conference', 'Details', 'Location', 'Ref1', 'Ref2', 'Asst_Ref1', 'Asst_Ref2', 'Attendance']\n",
      "['Period', 'Team', 'PP', 'Player', 'Player_Goals', 'Assist1', 'Assist2', 'Time']\n",
      "['Period', 'Team', 'Player', 'Pen_Length', 'Penalty_Type', 'Time']\n",
      "['Team', 'Goalie', 'SV', 'GA', 'Minutes']\n",
      "['Team', 'Player', 'G', 'A', 'Pt.', '+/-', 'Sh', 'PIM', 'FOW', 'FOL', 'FO%']\n",
      "['Team', 'Line', 'Position', 'Player']\n",
      "['Team', 'goals1', 'goals2', 'goals3', 'goalsT', 'shots1', 'shots2', 'shots3', 'shotsT', 'Pen', 'PIM', 'PPG', 'PPO', 'FOW', 'FOL', 'FOW%', 'goals4', 'shots4']\n",
      "['Team', 'Player', 'Bl', 'Mi', 'SV', 'G', 'TSA', 'Bl', 'Mi', 'SV', 'G', 'TSA', 'Bl', 'Mi', 'SV', 'G', 'TSA', 'Bl', 'Mi', 'SV', 'G', 'TSA', 'BLKs', 'FO']\n"
     ]
    },
    {
     "name": "stderr",
     "output_type": "stream",
     "text": [
      "Scraping games:   7%|▋         | 14/207 [00:26<07:30,  2.34s/it]"
     ]
    },
    {
     "name": "stdout",
     "output_type": "stream",
     "text": [
      "Number of DataFrames: 8\n",
      "Number of table names: 8\n",
      "['Day', 'Date', 'Conference', 'Details', 'Location', 'Ref1', 'Ref2', 'Asst_Ref1', 'Asst_Ref2', 'Attendance']\n",
      "['Period', 'Team', 'PP', 'Player', 'Player_Goals', 'Assist1', 'Assist2', 'Time']\n",
      "['Period', 'Team', 'Player', 'Pen_Length', 'Penalty_Type', 'Time']\n",
      "['Team', 'Goalie', 'SV', 'GA', 'Minutes']\n",
      "['Team', 'Player', 'G', 'A', 'Pt.', '+/-', 'Sh', 'PIM', 'FOW', 'FOL', 'FO%']\n",
      "['Team', 'Line', 'Position', 'Player']\n",
      "['Team', 'goals1', 'goals2', 'goals3', 'goals4', 'goalsT', 'shots1', 'shots2', 'shots3', 'shots4', 'shotsT', 'Pen', 'PIM', 'PPG', 'PPO', 'FOW', 'FOL', 'FOW%']\n",
      "['Team', 'Player', 'Bl', 'Mi', 'SV', 'G', 'TSA', 'Bl', 'Mi', 'SV', 'G', 'TSA', 'Bl', 'Mi', 'SV', 'G', 'TSA', 'Bl', 'Mi', 'SV', 'G', 'TSA', 'BLKs', 'FO']\n"
     ]
    },
    {
     "name": "stderr",
     "output_type": "stream",
     "text": [
      "Scraping games:   7%|▋         | 15/207 [00:28<07:36,  2.38s/it]"
     ]
    },
    {
     "name": "stdout",
     "output_type": "stream",
     "text": [
      "Number of DataFrames: 8\n",
      "Number of table names: 8\n",
      "['Day', 'Date', 'Conference', 'Details', 'Location', 'Ref1', 'Ref2', 'Asst_Ref1', 'Asst_Ref2', 'Attendance']\n",
      "['Period', 'Team', 'PP', 'Player', 'Player_Goals', 'Assist1', 'Assist2', 'Time']\n",
      "['Period', 'Team', 'Player', 'Pen_Length', 'Penalty_Type', 'Time']\n",
      "['Team', 'Goalie', 'SV', 'GA', 'Minutes']\n",
      "['Team', 'Player', 'G', 'A', 'Pt.', '+/-', 'Sh', 'PIM', 'FOW', 'FOL', 'FO%']\n",
      "['Team', 'Line', 'Position', 'Player']\n",
      "['Team', 'goals1', 'goals2', 'goals3', 'goalsT', 'shots1', 'shots2', 'shots3', 'shotsT', 'Pen', 'PIM', 'PPG', 'PPO', 'FOW', 'FOL', 'FOW%', 'goals4', 'shots4']\n",
      "['Team', 'Player', 'Bl', 'Mi', 'SV', 'G', 'TSA', 'Bl', 'Mi', 'SV', 'G', 'TSA', 'Bl', 'Mi', 'SV', 'G', 'TSA', 'Bl', 'Mi', 'SV', 'G', 'TSA', 'BLKs', 'FO']\n"
     ]
    },
    {
     "name": "stderr",
     "output_type": "stream",
     "text": [
      "Scraping games:   8%|▊         | 16/207 [00:31<07:43,  2.43s/it]"
     ]
    },
    {
     "name": "stdout",
     "output_type": "stream",
     "text": [
      "Number of DataFrames: 8\n",
      "Number of table names: 8\n",
      "['Day', 'Date', 'Conference', 'Details', 'Location', 'Ref1', 'Ref2', 'Asst_Ref1', 'Asst_Ref2', 'Attendance']\n",
      "['Period', 'Team', 'PP', 'Player', 'Player_Goals', 'Assist1', 'Assist2', 'Time']\n",
      "['Period', 'Team', 'Player', 'Pen_Length', 'Penalty_Type', 'Time']\n",
      "['Team', 'Goalie', 'SV', 'GA', 'Minutes']\n",
      "['Team', 'Player', 'G', 'A', 'Pt.', '+/-', 'Sh', 'PIM', 'FOW', 'FOL', 'FO%']\n",
      "['Team', 'Line', 'Position', 'Player']\n",
      "['Team', 'goals1', 'goals2', 'goals3', 'goals4', 'goalsT', 'shots1', 'shots2', 'shots3', 'shots4', 'shotsT', 'Pen', 'PIM', 'PPG', 'PPO', 'FOW', 'FOL', 'FOW%']\n",
      "['Team', 'Player', 'Bl', 'Mi', 'SV', 'G', 'TSA', 'Bl', 'Mi', 'SV', 'G', 'TSA', 'Bl', 'Mi', 'SV', 'G', 'TSA', 'Bl', 'Mi', 'SV', 'G', 'TSA', 'BLKs', 'FO']\n"
     ]
    },
    {
     "name": "stderr",
     "output_type": "stream",
     "text": [
      "Scraping games:   8%|▊         | 17/207 [00:33<07:46,  2.45s/it]"
     ]
    },
    {
     "name": "stdout",
     "output_type": "stream",
     "text": [
      "Number of DataFrames: 8\n",
      "Number of table names: 8\n",
      "['Day', 'Date', 'Conference', 'Details', 'Location', 'Ref1', 'Ref2', 'Asst_Ref1', 'Asst_Ref2', 'Attendance']\n",
      "['Period', 'Team', 'PP', 'Player', 'Player_Goals', 'Assist1', 'Assist2', 'Time']\n",
      "['Period', 'Team', 'Player', 'Pen_Length', 'Penalty_Type', 'Time']\n",
      "['Team', 'Goalie', 'SV', 'GA', 'Minutes']\n",
      "['Team', 'Player', 'G', 'A', 'Pt.', '+/-', 'Sh', 'PIM', 'FOW', 'FOL', 'FO%']\n",
      "['Team', 'Line', 'Position', 'Player']\n",
      "['Team', 'goals1', 'goals2', 'goals3', 'goalsT', 'shots1', 'shots2', 'shots3', 'shotsT', 'Pen', 'PIM', 'PPG', 'PPO', 'FOW', 'FOL', 'FOW%', 'goals4', 'shots4']\n",
      "['Team', 'Player', 'Bl', 'Mi', 'SV', 'G', 'TSA', 'Bl', 'Mi', 'SV', 'G', 'TSA', 'Bl', 'Mi', 'SV', 'G', 'TSA', 'Bl', 'Mi', 'SV', 'G', 'TSA', 'BLKs', 'FO']\n"
     ]
    },
    {
     "name": "stderr",
     "output_type": "stream",
     "text": [
      "Scraping games:   9%|▊         | 18/207 [00:36<08:00,  2.54s/it]"
     ]
    },
    {
     "name": "stdout",
     "output_type": "stream",
     "text": [
      "Number of DataFrames: 8\n",
      "Number of table names: 8\n",
      "['Day', 'Date', 'Conference', 'Details', 'Location', 'Ref1', 'Ref2', 'Asst_Ref1', 'Asst_Ref2', 'Attendance']\n",
      "['Period', 'Team', 'PP', 'Player', 'Player_Goals', 'Assist1', 'Assist2', 'Time']\n",
      "['Period', 'Team', 'Player', 'Pen_Length', 'Penalty_Type', 'Time']\n",
      "['Team', 'Goalie', 'SV', 'GA', 'Minutes']\n",
      "['Team', 'Player', 'G', 'A', 'Pt.', '+/-', 'Sh', 'PIM', 'FOW', 'FOL', 'FO%']\n",
      "['Team', 'Line', 'Position', 'Player']\n",
      "['Team', 'goals1', 'goals2', 'goals3', 'goalsT', 'shots1', 'shots2', 'shots3', 'shotsT', 'Pen', 'PIM', 'PPG', 'PPO', 'FOW', 'FOL', 'FOW%', 'goals4', 'shots4']\n",
      "['Team', 'Player', 'Bl', 'Mi', 'SV', 'G', 'TSA', 'Bl', 'Mi', 'SV', 'G', 'TSA', 'Bl', 'Mi', 'SV', 'G', 'TSA', 'Bl', 'Mi', 'SV', 'G', 'TSA', 'BLKs', 'FO']\n"
     ]
    },
    {
     "name": "stderr",
     "output_type": "stream",
     "text": [
      "Scraping games:   9%|▉         | 19/207 [00:38<08:01,  2.56s/it]"
     ]
    },
    {
     "name": "stdout",
     "output_type": "stream",
     "text": [
      "Number of DataFrames: 8\n",
      "Number of table names: 8\n",
      "['Day', 'Date', 'Conference', 'Details', 'Location', 'Ref1', 'Ref2', 'Asst_Ref1', 'Asst_Ref2', 'Attendance']\n",
      "['Period', 'Team', 'PP', 'Player', 'Player_Goals', 'Assist1', 'Assist2', 'Time']\n",
      "['Period', 'Team', 'Player', 'Pen_Length', 'Penalty_Type', 'Time']\n",
      "['Team', 'Goalie', 'SV', 'GA', 'Minutes']\n",
      "['Team', 'Player', 'G', 'A', 'Pt.', '+/-', 'Sh', 'PIM', 'FOW', 'FOL', 'FO%']\n",
      "['Team', 'Line', 'Position', 'Player']\n",
      "['Team', 'goals1', 'goals2', 'goals3', 'goalsT', 'shots1', 'shots2', 'shots3', 'shotsT', 'Pen', 'PIM', 'PPG', 'PPO', 'FOW', 'FOL', 'FOW%', 'goals4', 'shots4']\n",
      "['Team', 'Player', 'Bl', 'Mi', 'SV', 'G', 'TSA', 'Bl', 'Mi', 'SV', 'G', 'TSA', 'Bl', 'Mi', 'SV', 'G', 'TSA', 'Bl', 'Mi', 'SV', 'G', 'TSA', 'BLKs', 'FO']\n"
     ]
    },
    {
     "name": "stderr",
     "output_type": "stream",
     "text": [
      "Scraping games:  10%|▉         | 20/207 [00:41<07:57,  2.55s/it]"
     ]
    },
    {
     "name": "stdout",
     "output_type": "stream",
     "text": [
      "Number of DataFrames: 8\n",
      "Number of table names: 8\n",
      "['Day', 'Date', 'Conference', 'Details', 'Location', 'Ref1', 'Ref2', 'Asst_Ref1', 'Asst_Ref2', 'Attendance']\n",
      "['Period', 'Team', 'PP', 'Player', 'Player_Goals', 'Assist1', 'Assist2', 'Time']\n",
      "['Period', 'Team', 'Player', 'Pen_Length', 'Penalty_Type', 'Time']\n",
      "['Team', 'Goalie', 'SV', 'GA', 'Minutes']\n",
      "['Team', 'Player', 'G', 'A', 'Pt.', '+/-', 'Sh', 'PIM', 'FOW', 'FOL', 'FO%']\n",
      "['Team', 'Line', 'Position', 'Player']\n",
      "['Team', 'goals1', 'goals2', 'goals3', 'goalsT', 'shots1', 'shots2', 'shots3', 'shotsT', 'Pen', 'PIM', 'PPG', 'PPO', 'FOW', 'FOL', 'FOW%', 'goals4', 'shots4']\n",
      "['Team', 'Player', 'Bl', 'Mi', 'SV', 'G', 'TSA', 'Bl', 'Mi', 'SV', 'G', 'TSA', 'Bl', 'Mi', 'SV', 'G', 'TSA', 'Bl', 'Mi', 'SV', 'G', 'TSA', 'BLKs', 'FO']\n"
     ]
    },
    {
     "name": "stderr",
     "output_type": "stream",
     "text": [
      "Scraping games:  10%|█         | 21/207 [00:44<07:56,  2.56s/it]"
     ]
    },
    {
     "name": "stdout",
     "output_type": "stream",
     "text": [
      "Number of DataFrames: 8\n",
      "Number of table names: 8\n",
      "['Day', 'Date', 'Conference', 'Details', 'Location', 'Ref1', 'Ref2', 'Asst_Ref1', 'Asst_Ref2', 'Attendance']\n",
      "['Period', 'Team', 'PP', 'Player', 'Player_Goals', 'Assist1', 'Assist2', 'Time']\n",
      "['Period', 'Team', 'Player', 'Pen_Length', 'Penalty_Type', 'Time']\n",
      "['Team', 'Goalie', 'SV', 'GA', 'Minutes']\n",
      "['Team', 'Player', 'G', 'A', 'Pt.', '+/-', 'Sh', 'PIM', 'FOW', 'FOL', 'FO%']\n",
      "['Team', 'Line', 'Position', 'Player']\n",
      "['Team', 'goals1', 'goals2', 'goals3', 'goalsT', 'shots1', 'shots2', 'shots3', 'shotsT', 'Pen', 'PIM', 'PPG', 'PPO', 'FOW', 'FOL', 'FOW%', 'goals4', 'shots4']\n",
      "['Team', 'Player', 'Bl', 'Mi', 'SV', 'G', 'TSA', 'Bl', 'Mi', 'SV', 'G', 'TSA', 'Bl', 'Mi', 'SV', 'G', 'TSA', 'Bl', 'Mi', 'SV', 'G', 'TSA', 'BLKs', 'FO']\n"
     ]
    },
    {
     "name": "stderr",
     "output_type": "stream",
     "text": [
      "Scraping games:  11%|█         | 22/207 [00:46<07:52,  2.56s/it]"
     ]
    },
    {
     "name": "stdout",
     "output_type": "stream",
     "text": [
      "Number of DataFrames: 8\n",
      "Number of table names: 8\n",
      "['Day', 'Date', 'Conference', 'Details', 'Location', 'Ref1', 'Ref2', 'Asst_Ref1', 'Asst_Ref2', 'Attendance']\n",
      "['Period', 'Team', 'PP', 'Player', 'Player_Goals', 'Assist1', 'Assist2', 'Time']\n",
      "['Period', 'Team', 'Player', 'Pen_Length', 'Penalty_Type', 'Time']\n",
      "['Team', 'Goalie', 'SV', 'GA', 'Minutes']\n",
      "['Team', 'Player', 'G', 'A', 'Pt.', '+/-', 'Sh', 'PIM', 'FOW', 'FOL', 'FO%']\n",
      "['Team', 'Line', 'Position', 'Player']\n",
      "['Team', 'goals1', 'goals2', 'goals3', 'goalsT', 'shots1', 'shots2', 'shots3', 'shotsT', 'Pen', 'PIM', 'PPG', 'PPO', 'FOW', 'FOL', 'FOW%', 'goals4', 'shots4']\n",
      "['Team', 'Player', 'Bl', 'Mi', 'SV', 'G', 'TSA', 'Bl', 'Mi', 'SV', 'G', 'TSA', 'Bl', 'Mi', 'SV', 'G', 'TSA', 'Bl', 'Mi', 'SV', 'G', 'TSA', 'BLKs', 'FO']\n",
      "Number of DataFrames: 8\n",
      "Number of table names: 8\n",
      "['Day', 'Date', 'Conference', 'Details', 'Location', 'Ref1', 'Ref2', 'Asst_Ref1', 'Asst_Ref2', 'Attendance']\n",
      "['Period', 'Team', 'PP', 'Player', 'Player_Goals', 'Assist1', 'Assist2', 'Time']\n",
      "['Period', 'Team', 'Player', 'Pen_Length', 'Penalty_Type', 'Time']\n",
      "['Team', 'Goalie', 'SV', 'GA', 'Minutes']\n",
      "['Team', 'Player', 'G', 'A', 'Pt.', '+/-', 'Sh', 'PIM', 'FOW', 'FOL', 'FO%']\n",
      "['Team', 'Line', 'Position', 'Player']\n",
      "['Team', 'goals1', 'goals2', 'goals3', 'goalsT', 'shots1', 'shots2', 'shots3', 'shotsT', 'Pen', 'PIM', 'PPG', 'PPO', 'FOW', 'FOL', 'FOW%', 'goals4', 'shots4']\n",
      "['Team', 'Player', 'Bl', 'Mi', 'SV', 'G', 'TSA', 'Bl', 'Mi', 'SV', 'G', 'TSA', 'Bl', 'Mi', 'SV', 'G', 'TSA', 'Bl', 'Mi', 'SV', 'G', 'TSA', 'BLKs', 'FO']\n"
     ]
    },
    {
     "name": "stderr",
     "output_type": "stream",
     "text": [
      "Scraping games:  12%|█▏        | 24/207 [00:52<08:15,  2.71s/it]"
     ]
    },
    {
     "name": "stdout",
     "output_type": "stream",
     "text": [
      "Number of DataFrames: 8\n",
      "Number of table names: 8\n",
      "['Day', 'Date', 'Conference', 'Details', 'Location', 'Ref1', 'Ref2', 'Asst_Ref1', 'Asst_Ref2', 'Attendance']\n",
      "['Period', 'Team', 'PP', 'Player', 'Player_Goals', 'Assist1', 'Assist2', 'Time']\n",
      "['Period', 'Team', 'Player', 'Pen_Length', 'Penalty_Type', 'Time']\n",
      "['Team', 'Goalie', 'SV', 'GA', 'Minutes']\n",
      "['Team', 'Player', 'G', 'A', 'Pt.', '+/-', 'Sh', 'PIM', 'FOW', 'FOL', 'FO%']\n",
      "['Team', 'Line', 'Position', 'Player']\n",
      "['Team', 'goals1', 'goals2', 'goals3', 'goals4', 'goalsT', 'shots1', 'shots2', 'shots3', 'shots4', 'shotsT', 'Pen', 'PIM', 'PPG', 'PPO', 'FOW', 'FOL', 'FOW%']\n",
      "['Team', 'Player', 'Bl', 'Mi', 'SV', 'G', 'TSA', 'Bl', 'Mi', 'SV', 'G', 'TSA', 'Bl', 'Mi', 'SV', 'G', 'TSA', 'Bl', 'Mi', 'SV', 'G', 'TSA', 'BLKs', 'FO']\n"
     ]
    },
    {
     "name": "stderr",
     "output_type": "stream",
     "text": [
      "Scraping games:  12%|█▏        | 25/207 [00:55<08:25,  2.78s/it]"
     ]
    },
    {
     "name": "stdout",
     "output_type": "stream",
     "text": [
      "Number of DataFrames: 8\n",
      "Number of table names: 8\n",
      "['Day', 'Date', 'Conference', 'Details', 'Location', 'Ref1', 'Ref2', 'Asst_Ref1', 'Asst_Ref2', 'Attendance']\n",
      "['Period', 'Team', 'PP', 'Player', 'Player_Goals', 'Assist1', 'Assist2', 'Time']\n",
      "['Period', 'Team', 'Player', 'Pen_Length', 'Penalty_Type', 'Time']\n",
      "['Team', 'Goalie', 'SV', 'GA', 'Minutes']\n",
      "['Team', 'Player', 'G', 'A', 'Pt.', '+/-', 'Sh', 'PIM', 'FOW', 'FOL', 'FO%']\n",
      "['Team', 'Line', 'Position', 'Player']\n",
      "['Team', 'goals1', 'goals2', 'goals3', 'goals4', 'goalsT', 'shots1', 'shots2', 'shots3', 'shots4', 'shotsT', 'Pen', 'PIM', 'PPG', 'PPO', 'FOW', 'FOL', 'FOW%']\n",
      "['Team', 'Player', 'Bl', 'Mi', 'SV', 'G', 'TSA', 'Bl', 'Mi', 'SV', 'G', 'TSA', 'Bl', 'Mi', 'SV', 'G', 'TSA', 'Bl', 'Mi', 'SV', 'G', 'TSA', 'BLKs', 'FO']\n"
     ]
    },
    {
     "name": "stderr",
     "output_type": "stream",
     "text": [
      "Scraping games:  13%|█▎        | 26/207 [00:58<08:28,  2.81s/it]"
     ]
    },
    {
     "name": "stdout",
     "output_type": "stream",
     "text": [
      "Number of DataFrames: 8\n",
      "Number of table names: 8\n",
      "['Day', 'Date', 'Conference', 'Details', 'Location', 'Ref1', 'Ref2', 'Asst_Ref1', 'Asst_Ref2', 'Attendance']\n",
      "['Period', 'Team', 'PP', 'Player', 'Player_Goals', 'Assist1', 'Assist2', 'Time']\n",
      "['Period', 'Team', 'Player', 'Pen_Length', 'Penalty_Type', 'Time']\n",
      "['Team', 'Goalie', 'SV', 'GA', 'Minutes']\n",
      "['Team', 'Player', 'G', 'A', 'Pt.', '+/-', 'Sh', 'PIM', 'FOW', 'FOL', 'FO%']\n",
      "['Team', 'Line', 'Position', 'Player']\n",
      "['Team', 'goals1', 'goals2', 'goals3', 'goalsT', 'shots1', 'shots2', 'shots3', 'shotsT', 'Pen', 'PIM', 'PPG', 'PPO', 'FOW', 'FOL', 'FOW%', 'goals4', 'shots4']\n",
      "['Team', 'Player', 'Bl', 'Mi', 'SV', 'G', 'TSA', 'Bl', 'Mi', 'SV', 'G', 'TSA', 'Bl', 'Mi', 'SV', 'G', 'TSA', 'Bl', 'Mi', 'SV', 'G', 'TSA', 'BLKs', 'FO']\n"
     ]
    },
    {
     "name": "stderr",
     "output_type": "stream",
     "text": [
      "Scraping games:  13%|█▎        | 27/207 [01:00<08:25,  2.81s/it]"
     ]
    },
    {
     "name": "stdout",
     "output_type": "stream",
     "text": [
      "Number of DataFrames: 8\n",
      "Number of table names: 8\n",
      "['Day', 'Date', 'Conference', 'Details', 'Location', 'Ref1', 'Ref2', 'Asst_Ref1', 'Asst_Ref2', 'Attendance']\n",
      "['Period', 'Team', 'PP', 'Player', 'Player_Goals', 'Assist1', 'Assist2', 'Time']\n",
      "['Period', 'Team', 'Player', 'Pen_Length', 'Penalty_Type', 'Time']\n",
      "['Team', 'Goalie', 'SV', 'GA', 'Minutes']\n",
      "['Team', 'Player', 'G', 'A', 'Pt.', '+/-', 'Sh', 'PIM', 'FOW', 'FOL', 'FO%']\n",
      "[]\n",
      "['Team', 'goals1', 'goals2', 'goals3', 'goals4', 'goalsT', 'shots1', 'shots2', 'shots3', 'shots4', 'shotsT', 'Pen', 'PIM', 'PPG', 'PPO', 'FOW', 'FOL', 'FOW%']\n",
      "['Team', 'Player', 'Bl', 'Mi', 'SV', 'G', 'TSA', 'Bl', 'Mi', 'SV', 'G', 'TSA', 'Bl', 'Mi', 'SV', 'G', 'TSA', 'Bl', 'Mi', 'SV', 'G', 'TSA', 'BLKs', 'FO']\n"
     ]
    },
    {
     "name": "stderr",
     "output_type": "stream",
     "text": [
      "Scraping games:  14%|█▎        | 28/207 [01:03<08:04,  2.71s/it]"
     ]
    },
    {
     "name": "stdout",
     "output_type": "stream",
     "text": [
      "Number of DataFrames: 8\n",
      "Number of table names: 8\n",
      "['Day', 'Date', 'Conference', 'Details', 'Location', 'Ref1', 'Ref2', 'Asst_Ref1', 'Asst_Ref2', 'Attendance']\n",
      "['Period', 'Team', 'PP', 'Player', 'Player_Goals', 'Assist1', 'Assist2', 'Time']\n",
      "['Period', 'Team', 'Player', 'Pen_Length', 'Penalty_Type', 'Time']\n",
      "['Team', 'Goalie', 'SV', 'GA', 'Minutes']\n",
      "['Team', 'Player', 'G', 'A', 'Pt.', '+/-', 'Sh', 'PIM', 'FOW', 'FOL', 'FO%']\n",
      "[]\n",
      "['Team', 'goals1', 'goals2', 'goals3', 'goals4', 'goalsT', 'shots1', 'shots2', 'shots3', 'shots4', 'shotsT', 'Pen', 'PIM', 'PPG', 'PPO', 'FOW', 'FOL', 'FOW%']\n",
      "['Team', 'Player', 'Bl', 'Mi', 'SV', 'G', 'TSA', 'Bl', 'Mi', 'SV', 'G', 'TSA', 'Bl', 'Mi', 'SV', 'G', 'TSA', 'Bl', 'Mi', 'SV', 'G', 'TSA', 'BLKs', 'FO']\n"
     ]
    },
    {
     "name": "stderr",
     "output_type": "stream",
     "text": [
      "Scraping games:  14%|█▍        | 29/207 [01:06<08:22,  2.82s/it]"
     ]
    },
    {
     "name": "stdout",
     "output_type": "stream",
     "text": [
      "Number of DataFrames: 8\n",
      "Number of table names: 8\n",
      "['Day', 'Date', 'Conference', 'Details', 'Location', 'Ref1', 'Ref2', 'Asst_Ref1', 'Asst_Ref2', 'Attendance']\n",
      "['Period', 'Team', 'PP', 'Player', 'Player_Goals', 'Assist1', 'Assist2', 'Time']\n",
      "['Period', 'Team', 'Player', 'Pen_Length', 'Penalty_Type', 'Time']\n",
      "['Team', 'Goalie', 'SV', 'GA', 'Minutes']\n",
      "['Team', 'Player', 'G', 'A', 'Pt.', '+/-', 'Sh', 'PIM', 'FOW', 'FOL', 'FO%']\n",
      "['Team', 'Line', 'Position', 'Player']\n",
      "['Team', 'goals1', 'goals2', 'goals3', 'goalsT', 'shots1', 'shots2', 'shots3', 'shotsT', 'Pen', 'PIM', 'PPG', 'PPO', 'FOW', 'FOL', 'FOW%', 'goals4', 'shots4']\n",
      "['Team', 'Player', 'Bl', 'Mi', 'SV', 'G', 'TSA', 'Bl', 'Mi', 'SV', 'G', 'TSA', 'Bl', 'Mi', 'SV', 'G', 'TSA', 'Bl', 'Mi', 'SV', 'G', 'TSA', 'BLKs', 'FO']\n"
     ]
    },
    {
     "name": "stderr",
     "output_type": "stream",
     "text": [
      "Scraping games:  14%|█▍        | 30/207 [01:09<08:15,  2.80s/it]"
     ]
    },
    {
     "name": "stdout",
     "output_type": "stream",
     "text": [
      "Number of DataFrames: 8\n",
      "Number of table names: 8\n",
      "['Day', 'Date', 'Conference', 'Details', 'Location', 'Ref1', 'Ref2', 'Asst_Ref1', 'Asst_Ref2', 'Attendance']\n",
      "['Period', 'Team', 'PP', 'Player', 'Player_Goals', 'Assist1', 'Assist2', 'Time']\n",
      "['Period', 'Team', 'Player', 'Pen_Length', 'Penalty_Type', 'Time']\n",
      "['Team', 'Goalie', 'SV', 'GA', 'Minutes']\n",
      "['Team', 'Player', 'G', 'A', 'Pt.', '+/-', 'Sh', 'PIM', 'FOW', 'FOL', 'FO%']\n",
      "['Team', 'Line', 'Position', 'Player']\n",
      "['Team', 'goals1', 'goals2', 'goals3', 'goalsT', 'shots1', 'shots2', 'shots3', 'shotsT', 'Pen', 'PIM', 'PPG', 'PPO', 'FOW', 'FOL', 'FOW%', 'goals4', 'shots4']\n",
      "['Team', 'Player', 'Bl', 'Mi', 'SV', 'G', 'TSA', 'Bl', 'Mi', 'SV', 'G', 'TSA', 'Bl', 'Mi', 'SV', 'G', 'TSA', 'Bl', 'Mi', 'SV', 'G', 'TSA', 'BLKs', 'FO']\n"
     ]
    },
    {
     "name": "stderr",
     "output_type": "stream",
     "text": [
      "Scraping games:  15%|█▍        | 31/207 [01:11<07:57,  2.71s/it]"
     ]
    },
    {
     "name": "stdout",
     "output_type": "stream",
     "text": [
      "Number of DataFrames: 8\n",
      "Number of table names: 8\n",
      "['Day', 'Date', 'Conference', 'Details', 'Location', 'Ref1', 'Ref2', 'Asst_Ref1', 'Asst_Ref2', 'Attendance']\n",
      "['Period', 'Team', 'PP', 'Player', 'Player_Goals', 'Assist1', 'Assist2', 'Time']\n",
      "['Period', 'Team', 'Player', 'Pen_Length', 'Penalty_Type', 'Time']\n",
      "['Team', 'Goalie', 'SV', 'GA', 'Minutes']\n",
      "['Team', 'Player', 'G', 'A', 'Pt.', '+/-', 'Sh', 'PIM', 'FOW', 'FOL', 'FO%']\n",
      "['Team', 'Line', 'Position', 'Player']\n",
      "['Team', 'goals1', 'goals2', 'goals3', 'goals4', 'goalsT', 'shots1', 'shots2', 'shots3', 'shots4', 'shotsT', 'Pen', 'PIM', 'PPG', 'PPO', 'FOW', 'FOL', 'FOW%']\n",
      "['Team', 'Player', 'Bl', 'Mi', 'SV', 'G', 'TSA', 'Bl', 'Mi', 'SV', 'G', 'TSA', 'Bl', 'Mi', 'SV', 'G', 'TSA', 'Bl', 'Mi', 'SV', 'G', 'TSA', 'BLKs', 'FO']\n"
     ]
    },
    {
     "name": "stderr",
     "output_type": "stream",
     "text": [
      "Scraping games:  15%|█▌        | 32/207 [01:14<08:02,  2.76s/it]"
     ]
    },
    {
     "name": "stdout",
     "output_type": "stream",
     "text": [
      "Number of DataFrames: 8\n",
      "Number of table names: 8\n",
      "['Day', 'Date', 'Conference', 'Details', 'Location', 'Ref1', 'Ref2', 'Asst_Ref1', 'Asst_Ref2', 'Attendance']\n",
      "['Period', 'Team', 'PP', 'Player', 'Player_Goals', 'Assist1', 'Assist2', 'Time']\n",
      "['Period', 'Team', 'Player', 'Pen_Length', 'Penalty_Type', 'Time']\n",
      "['Team', 'Goalie', 'SV', 'GA', 'Minutes']\n",
      "['Team', 'Player', 'G', 'A', 'Pt.', '+/-', 'Sh', 'PIM', 'FOW', 'FOL', 'FO%']\n",
      "['Team', 'Line', 'Position', 'Player']\n",
      "['Team', 'goals1', 'goals2', 'goals3', 'goalsT', 'shots1', 'shots2', 'shots3', 'shotsT', 'Pen', 'PIM', 'PPG', 'PPO', 'FOW', 'FOL', 'FOW%', 'goals4', 'shots4']\n",
      "['Team', 'Player', 'Bl', 'Mi', 'SV', 'G', 'TSA', 'Bl', 'Mi', 'SV', 'G', 'TSA', 'Bl', 'Mi', 'SV', 'G', 'TSA', 'Bl', 'Mi', 'SV', 'G', 'TSA', 'BLKs', 'FO']\n"
     ]
    },
    {
     "name": "stderr",
     "output_type": "stream",
     "text": [
      "Scraping games:  16%|█▌        | 33/207 [01:17<07:49,  2.70s/it]"
     ]
    },
    {
     "name": "stdout",
     "output_type": "stream",
     "text": [
      "Number of DataFrames: 8\n",
      "Number of table names: 8\n",
      "['Day', 'Date', 'Conference', 'Details', 'Location', 'Ref1', 'Ref2', 'Asst_Ref1', 'Asst_Ref2', 'Attendance']\n",
      "['Period', 'Team', 'PP', 'Player', 'Player_Goals', 'Assist1', 'Assist2', 'Time']\n",
      "['Period', 'Team', 'Player', 'Pen_Length', 'Penalty_Type', 'Time']\n",
      "['Team', 'Goalie', 'SV', 'GA', 'Minutes']\n",
      "['Team', 'Player', 'G', 'A', 'Pt.', '+/-', 'Sh', 'PIM', 'FOW', 'FOL', 'FO%']\n",
      "['Team', 'Line', 'Position', 'Player']\n",
      "['Team', 'goals1', 'goals2', 'goals3', 'goalsT', 'shots1', 'shots2', 'shots3', 'shotsT', 'Pen', 'PIM', 'PPG', 'PPO', 'FOW', 'FOL', 'FOW%', 'goals4', 'shots4']\n",
      "['Team', 'Player', 'Bl', 'Mi', 'SV', 'G', 'TSA', 'Bl', 'Mi', 'SV', 'G', 'TSA', 'Bl', 'Mi', 'SV', 'G', 'TSA', 'Bl', 'Mi', 'SV', 'G', 'TSA', 'BLKs', 'FO']\n"
     ]
    },
    {
     "name": "stderr",
     "output_type": "stream",
     "text": [
      "Scraping games:  16%|█▋        | 34/207 [01:19<07:36,  2.64s/it]"
     ]
    },
    {
     "name": "stdout",
     "output_type": "stream",
     "text": [
      "Number of DataFrames: 8\n",
      "Number of table names: 8\n",
      "['Day', 'Date', 'Conference', 'Details', 'Location', 'Ref1', 'Ref2', 'Asst_Ref1', 'Asst_Ref2', 'Attendance']\n",
      "['Period', 'Team', 'PP', 'Player', 'Player_Goals', 'Assist1', 'Assist2', 'Time']\n",
      "['Period', 'Team', 'Player', 'Pen_Length', 'Penalty_Type', 'Time']\n",
      "['Team', 'Goalie', 'SV', 'GA', 'Minutes']\n",
      "['Team', 'Player', 'G', 'A', 'Pt.', '+/-', 'Sh', 'PIM', 'FOW', 'FOL', 'FO%']\n",
      "[]\n",
      "['Team', 'goals1', 'goals2', 'goals3', 'goalsT', 'shots1', 'shots2', 'shots3', 'shotsT', 'Pen', 'PIM', 'PPG', 'PPO', 'FOW', 'FOL', 'FOW%', 'goals4', 'shots4']\n",
      "['Team', 'Player', 'Bl', 'Mi', 'SV', 'G', 'TSA', 'Bl', 'Mi', 'SV', 'G', 'TSA', 'Bl', 'Mi', 'SV', 'G', 'TSA', 'Bl', 'Mi', 'SV', 'G', 'TSA', 'BLKs', 'FO']\n"
     ]
    },
    {
     "name": "stderr",
     "output_type": "stream",
     "text": [
      "Scraping games:  17%|█▋        | 35/207 [01:22<07:42,  2.69s/it]"
     ]
    },
    {
     "name": "stdout",
     "output_type": "stream",
     "text": [
      "Number of DataFrames: 8\n",
      "Number of table names: 8\n",
      "['Day', 'Date', 'Conference', 'Details', 'Location', 'Ref1', 'Ref2', 'Asst_Ref1', 'Asst_Ref2', 'Attendance']\n",
      "['Period', 'Team', 'PP', 'Player', 'Player_Goals', 'Assist1', 'Assist2', 'Time']\n",
      "['Period', 'Team', 'Player', 'Pen_Length', 'Penalty_Type', 'Time']\n",
      "['Team', 'Goalie', 'SV', 'GA', 'Minutes']\n",
      "['Team', 'Player', 'G', 'A', 'Pt.', '+/-', 'Sh', 'PIM', 'FOW', 'FOL', 'FO%']\n",
      "['Team', 'Line', 'Position', 'Player']\n",
      "['Team', 'goals1', 'goals2', 'goals3', 'goalsT', 'shots1', 'shots2', 'shots3', 'shotsT', 'Pen', 'PIM', 'PPG', 'PPO', 'FOW', 'FOL', 'FOW%', 'goals4', 'shots4']\n",
      "['Team', 'Player', 'Bl', 'Mi', 'SV', 'G', 'TSA', 'Bl', 'Mi', 'SV', 'G', 'TSA', 'Bl', 'Mi', 'SV', 'G', 'TSA', 'Bl', 'Mi', 'SV', 'G', 'TSA', 'BLKs', 'FO']\n"
     ]
    },
    {
     "name": "stderr",
     "output_type": "stream",
     "text": [
      "Scraping games:  17%|█▋        | 36/207 [01:25<07:38,  2.68s/it]"
     ]
    },
    {
     "name": "stdout",
     "output_type": "stream",
     "text": [
      "Number of DataFrames: 8\n",
      "Number of table names: 8\n",
      "['Day', 'Date', 'Conference', 'Details', 'Location', 'Ref1', 'Ref2', 'Asst_Ref1', 'Asst_Ref2', 'Attendance']\n",
      "['Period', 'Team', 'PP', 'Player', 'Player_Goals', 'Assist1', 'Assist2', 'Time']\n",
      "['Period', 'Team', 'Player', 'Pen_Length', 'Penalty_Type', 'Time']\n",
      "['Team', 'Goalie', 'SV', 'GA', 'Minutes']\n",
      "['Team', 'Player', 'G', 'A', 'Pt.', '+/-', 'Sh', 'PIM', 'FOW', 'FOL', 'FO%']\n",
      "['Team', 'Line', 'Position', 'Player']\n",
      "['Team', 'goals1', 'goals2', 'goals3', 'goalsT', 'shots1', 'shots2', 'shots3', 'shotsT', 'Pen', 'PIM', 'PPG', 'PPO', 'FOW', 'FOL', 'FOW%', 'goals4', 'shots4']\n",
      "['Team', 'Player', 'Bl', 'Mi', 'SV', 'G', 'TSA', 'Bl', 'Mi', 'SV', 'G', 'TSA', 'Bl', 'Mi', 'SV', 'G', 'TSA', 'Bl', 'Mi', 'SV', 'G', 'TSA', 'BLKs', 'FO']\n"
     ]
    },
    {
     "name": "stderr",
     "output_type": "stream",
     "text": [
      "Scraping games:  18%|█▊        | 37/207 [01:27<07:20,  2.59s/it]"
     ]
    },
    {
     "name": "stdout",
     "output_type": "stream",
     "text": [
      "Number of DataFrames: 8\n",
      "Number of table names: 8\n",
      "['Day', 'Date', 'Conference', 'Details', 'Location', 'Ref1', 'Ref2', 'Asst_Ref1', 'Asst_Ref2', 'Attendance']\n",
      "['Period', 'Team', 'PP', 'Player', 'Player_Goals', 'Assist1', 'Assist2', 'Time']\n",
      "['Period', 'Team', 'Player', 'Pen_Length', 'Penalty_Type', 'Time']\n",
      "['Team', 'Goalie', 'SV', 'GA', 'Minutes']\n",
      "['Team', 'Player', 'G', 'A', 'Pt.', '+/-', 'Sh', 'PIM', 'FOW', 'FOL', 'FO%']\n",
      "['Team', 'Line', 'Position', 'Player']\n",
      "['Team', 'goals1', 'goals2', 'goals3', 'goalsT', 'shots1', 'shots2', 'shots3', 'shotsT', 'Pen', 'PIM', 'PPG', 'PPO', 'FOW', 'FOL', 'FOW%', 'goals4', 'shots4']\n",
      "['Team', 'Player', 'Bl', 'Mi', 'SV', 'G', 'TSA', 'Bl', 'Mi', 'SV', 'G', 'TSA', 'Bl', 'Mi', 'SV', 'G', 'TSA', 'Bl', 'Mi', 'SV', 'G', 'TSA', 'BLKs', 'FO']\n"
     ]
    },
    {
     "name": "stderr",
     "output_type": "stream",
     "text": [
      "Scraping games:  18%|█▊        | 38/207 [01:29<07:13,  2.57s/it]"
     ]
    },
    {
     "name": "stdout",
     "output_type": "stream",
     "text": [
      "Number of DataFrames: 8\n",
      "Number of table names: 8\n",
      "['Day', 'Date', 'Conference', 'Details', 'Location', 'Ref1', 'Ref2', 'Asst_Ref1', 'Asst_Ref2', 'Attendance']\n",
      "['Period', 'Team', 'PP', 'Player', 'Player_Goals', 'Assist1', 'Assist2', 'Time']\n",
      "['Period', 'Team', 'Player', 'Pen_Length', 'Penalty_Type', 'Time']\n",
      "['Team', 'Goalie', 'SV', 'GA', 'Minutes']\n",
      "['Team', 'Player', 'G', 'A', 'Pt.', '+/-', 'Sh', 'PIM', 'FOW', 'FOL', 'FO%']\n",
      "['Team', 'Line', 'Position', 'Player']\n",
      "['Team', 'goals1', 'goals2', 'goals3', 'goalsT', 'shots1', 'shots2', 'shots3', 'shotsT', 'Pen', 'PIM', 'PPG', 'PPO', 'FOW', 'FOL', 'FOW%', 'goals4', 'shots4']\n",
      "['Team', 'Player', 'Bl', 'Mi', 'SV', 'G', 'TSA', 'Bl', 'Mi', 'SV', 'G', 'TSA', 'Bl', 'Mi', 'SV', 'G', 'TSA', 'Bl', 'Mi', 'SV', 'G', 'TSA', 'BLKs', 'FO']\n"
     ]
    },
    {
     "name": "stderr",
     "output_type": "stream",
     "text": [
      "Scraping games:  19%|█▉        | 39/207 [01:32<07:22,  2.63s/it]"
     ]
    },
    {
     "name": "stdout",
     "output_type": "stream",
     "text": [
      "Number of DataFrames: 8\n",
      "Number of table names: 8\n",
      "['Day', 'Date', 'Conference', 'Details', 'Location', 'Ref1', 'Ref2', 'Asst_Ref1', 'Asst_Ref2', 'Attendance']\n",
      "['Period', 'Team', 'PP', 'Player', 'Player_Goals', 'Assist1', 'Assist2', 'Time']\n",
      "['Period', 'Team', 'Player', 'Pen_Length', 'Penalty_Type', 'Time']\n",
      "['Team', 'Goalie', 'SV', 'GA', 'Minutes']\n",
      "['Team', 'Player', 'G', 'A', 'Pt.', '+/-', 'Sh', 'PIM', 'FOW', 'FOL', 'FO%']\n",
      "[]\n",
      "['Team', 'goals1', 'goals2', 'goals3', 'goalsT', 'shots1', 'shots2', 'shots3', 'shotsT', 'Pen', 'PIM', 'PPG', 'PPO', 'FOW', 'FOL', 'FOW%', 'goals4', 'shots4']\n",
      "['Team', 'Player', 'Bl', 'Mi', 'SV', 'G', 'TSA', 'Bl', 'Mi', 'SV', 'G', 'TSA', 'Bl', 'Mi', 'SV', 'G', 'TSA', 'Bl', 'Mi', 'SV', 'G', 'TSA', 'BLKs', 'FO']\n"
     ]
    },
    {
     "name": "stderr",
     "output_type": "stream",
     "text": [
      "Scraping games:  19%|█▉        | 40/207 [01:35<07:17,  2.62s/it]"
     ]
    },
    {
     "name": "stdout",
     "output_type": "stream",
     "text": [
      "Number of DataFrames: 8\n",
      "Number of table names: 8\n",
      "['Day', 'Date', 'Conference', 'Details', 'Location', 'Ref1', 'Ref2', 'Asst_Ref1', 'Asst_Ref2', 'Attendance']\n",
      "['Period', 'Team', 'PP', 'Player', 'Player_Goals', 'Assist1', 'Assist2', 'Time']\n",
      "['Period', 'Team', 'Player', 'Pen_Length', 'Penalty_Type', 'Time']\n",
      "['Team', 'Goalie', 'SV', 'GA', 'Minutes']\n",
      "['Team', 'Player', 'G', 'A', 'Pt.', '+/-', 'Sh', 'PIM', 'FOW', 'FOL', 'FO%']\n",
      "['Team', 'Line', 'Position', 'Player']\n",
      "['Team', 'goals1', 'goals2', 'goals3', 'goals4', 'goalsT', 'shots1', 'shots2', 'shots3', 'shots4', 'shotsT', 'Pen', 'PIM', 'PPG', 'PPO', 'FOW', 'FOL', 'FOW%']\n",
      "['Team', 'Player', 'Bl', 'Mi', 'SV', 'G', 'TSA', 'Bl', 'Mi', 'SV', 'G', 'TSA', 'Bl', 'Mi', 'SV', 'G', 'TSA', 'Bl', 'Mi', 'SV', 'G', 'TSA', 'BLKs', 'FO']\n"
     ]
    },
    {
     "name": "stderr",
     "output_type": "stream",
     "text": [
      "Scraping games:  20%|█▉        | 41/207 [01:37<07:14,  2.62s/it]"
     ]
    },
    {
     "name": "stdout",
     "output_type": "stream",
     "text": [
      "Number of DataFrames: 8\n",
      "Number of table names: 8\n",
      "['Day', 'Date', 'Conference', 'Details', 'Location', 'Ref1', 'Ref2', 'Asst_Ref1', 'Asst_Ref2', 'Attendance']\n",
      "['Period', 'Team', 'PP', 'Player', 'Player_Goals', 'Assist1', 'Assist2', 'Time']\n",
      "['Period', 'Team', 'Player', 'Pen_Length', 'Penalty_Type', 'Time']\n",
      "['Team', 'Goalie', 'SV', 'GA', 'Minutes']\n",
      "['Team', 'Player', 'G', 'A', 'Pt.', '+/-', 'Sh', 'PIM', 'FOW', 'FOL', 'FO%']\n",
      "['Team', 'Line', 'Position', 'Player']\n",
      "['Team', 'goals1', 'goals2', 'goals3', 'goalsT', 'shots1', 'shots2', 'shots3', 'shotsT', 'Pen', 'PIM', 'PPG', 'PPO', 'FOW', 'FOL', 'FOW%', 'goals4', 'shots4']\n",
      "['Team', 'Player', 'Bl', 'Mi', 'SV', 'G', 'TSA', 'Bl', 'Mi', 'SV', 'G', 'TSA', 'Bl', 'Mi', 'SV', 'G', 'TSA', 'Bl', 'Mi', 'SV', 'G', 'TSA', 'BLKs', 'FO']\n"
     ]
    },
    {
     "name": "stderr",
     "output_type": "stream",
     "text": [
      "Scraping games:  20%|██        | 42/207 [01:40<07:15,  2.64s/it]"
     ]
    },
    {
     "name": "stdout",
     "output_type": "stream",
     "text": [
      "Number of DataFrames: 8\n",
      "Number of table names: 8\n",
      "['Day', 'Date', 'Conference', 'Details', 'Location', 'Ref1', 'Ref2', 'Asst_Ref1', 'Asst_Ref2', 'Attendance']\n",
      "['Period', 'Team', 'PP', 'Player', 'Player_Goals', 'Assist1', 'Assist2', 'Time']\n",
      "['Period', 'Team', 'Player', 'Pen_Length', 'Penalty_Type', 'Time']\n",
      "['Team', 'Goalie', 'SV', 'GA', 'Minutes']\n",
      "['Team', 'Player', 'G', 'A', 'Pt.', '+/-', 'Sh', 'PIM', 'FOW', 'FOL', 'FO%']\n",
      "['Team', 'Line', 'Position', 'Player']\n",
      "['Team', 'goals1', 'goals2', 'goals3', 'goalsT', 'shots1', 'shots2', 'shots3', 'shotsT', 'Pen', 'PIM', 'PPG', 'PPO', 'FOW', 'FOL', 'FOW%', 'goals4', 'shots4']\n",
      "['Team', 'Player', 'Bl', 'Mi', 'SV', 'G', 'TSA', 'Bl', 'Mi', 'SV', 'G', 'TSA', 'Bl', 'Mi', 'SV', 'G', 'TSA', 'Bl', 'Mi', 'SV', 'G', 'TSA', 'BLKs', 'FO']\n"
     ]
    },
    {
     "name": "stderr",
     "output_type": "stream",
     "text": [
      "Scraping games:  24%|██▍       | 50/207 [01:55<05:09,  1.97s/it]"
     ]
    },
    {
     "name": "stdout",
     "output_type": "stream",
     "text": [
      "Number of DataFrames: 8\n",
      "Number of table names: 8\n",
      "['Day', 'Date', 'Conference', 'Details', 'Location', 'Ref1', 'Ref2', 'Asst_Ref1', 'Asst_Ref2', 'Attendance']\n",
      "['Period', 'Team', 'PP', 'Player', 'Player_Goals', 'Assist1', 'Assist2', 'Time']\n",
      "['Period', 'Team', 'Player', 'Pen_Length', 'Penalty_Type', 'Time']\n",
      "['Team', 'Goalie', 'SV', 'GA', 'Minutes']\n",
      "['Team', 'Player', 'G', 'A', 'Pt.', '+/-', 'Sh', 'PIM', 'FOW', 'FOL', 'FO%']\n",
      "['Team', 'Line', 'Position', 'Player']\n",
      "['Team', 'goals1', 'goals2', 'goals3', 'goalsT', 'shots1', 'shots2', 'shots3', 'shotsT', 'Pen', 'PIM', 'PPG', 'PPO', 'FOW', 'FOL', 'FOW%', 'goals4', 'shots4']\n",
      "['Team', 'Player', 'Bl', 'Mi', 'SV', 'G', 'TSA', 'Bl', 'Mi', 'SV', 'G', 'TSA', 'Bl', 'Mi', 'SV', 'G', 'TSA', 'Bl', 'Mi', 'SV', 'G', 'TSA', 'BLKs', 'FO']\n"
     ]
    },
    {
     "name": "stderr",
     "output_type": "stream",
     "text": [
      "Scraping games:  25%|██▍       | 51/207 [01:58<05:38,  2.17s/it]"
     ]
    },
    {
     "name": "stdout",
     "output_type": "stream",
     "text": [
      "Number of DataFrames: 8\n",
      "Number of table names: 8\n",
      "['Day', 'Date', 'Conference', 'Details', 'Location', 'Ref1', 'Ref2', 'Asst_Ref1', 'Asst_Ref2', 'Attendance']\n",
      "['Period', 'Team', 'PP', 'Player', 'Player_Goals', 'Assist1', 'Assist2', 'Time']\n",
      "['Period', 'Team', 'Player', 'Pen_Length', 'Penalty_Type', 'Time']\n",
      "['Team', 'Goalie', 'SV', 'GA', 'Minutes']\n",
      "['Team', 'Player', 'G', 'A', 'Pt.', '+/-', 'Sh', 'PIM', 'FOW', 'FOL', 'FO%']\n",
      "['Team', 'Line', 'Position', 'Player']\n",
      "['Team', 'goals1', 'goals2', 'goals3', 'goalsT', 'shots1', 'shots2', 'shots3', 'shotsT', 'Pen', 'PIM', 'PPG', 'PPO', 'FOW', 'FOL', 'FOW%', 'goals4', 'shots4']\n",
      "['Team', 'Player', 'Bl', 'Mi', 'SV', 'G', 'TSA', 'Bl', 'Mi', 'SV', 'G', 'TSA', 'Bl', 'Mi', 'SV', 'G', 'TSA', 'Bl', 'Mi', 'SV', 'G', 'TSA', 'BLKs', 'FO']\n"
     ]
    },
    {
     "name": "stderr",
     "output_type": "stream",
     "text": [
      "Scraping games:  25%|██▌       | 52/207 [02:00<05:52,  2.27s/it]"
     ]
    },
    {
     "name": "stdout",
     "output_type": "stream",
     "text": [
      "Number of DataFrames: 8\n",
      "Number of table names: 8\n",
      "['Day', 'Date', 'Conference', 'Details', 'Location', 'Ref1', 'Ref2', 'Asst_Ref1', 'Asst_Ref2', 'Attendance']\n",
      "['Period', 'Team', 'PP', 'Player', 'Player_Goals', 'Assist1', 'Assist2', 'Time']\n",
      "['Period', 'Team', 'Player', 'Pen_Length', 'Penalty_Type', 'Time']\n",
      "['Team', 'Goalie', 'SV', 'GA', 'Minutes']\n",
      "['Team', 'Player', 'G', 'A', 'Pt.', '+/-', 'Sh', 'PIM', 'FOW', 'FOL', 'FO%']\n",
      "[]\n",
      "['Team', 'goals1', 'goals2', 'goals3', 'goalsT', 'shots1', 'shots2', 'shots3', 'shotsT', 'Pen', 'PIM', 'PPG', 'PPO', 'FOW', 'FOL', 'FOW%', 'goals4', 'shots4']\n",
      "['Team', 'Player', 'Bl', 'Mi', 'SV', 'G', 'TSA', 'Bl', 'Mi', 'SV', 'G', 'TSA', 'Bl', 'Mi', 'SV', 'G', 'TSA', 'Bl', 'Mi', 'SV', 'G', 'TSA', 'BLKs', 'FO']\n"
     ]
    },
    {
     "name": "stderr",
     "output_type": "stream",
     "text": [
      "Scraping games:  26%|██▌       | 53/207 [02:03<06:02,  2.35s/it]"
     ]
    },
    {
     "name": "stdout",
     "output_type": "stream",
     "text": [
      "Number of DataFrames: 8\n",
      "Number of table names: 8\n",
      "['Day', 'Date', 'Conference', 'Details', 'Location', 'Ref1', 'Ref2', 'Asst_Ref1', 'Asst_Ref2', 'Attendance']\n",
      "['Period', 'Team', 'PP', 'Player', 'Player_Goals', 'Assist1', 'Assist2', 'Time']\n",
      "['Period', 'Team', 'Player', 'Pen_Length', 'Penalty_Type', 'Time']\n",
      "['Team', 'Goalie', 'SV', 'GA', 'Minutes']\n",
      "['Team', 'Player', 'G', 'A', 'Pt.', '+/-', 'Sh', 'PIM', 'FOW', 'FOL', 'FO%']\n",
      "['Team', 'Line', 'Position', 'Player']\n",
      "['Team', 'goals1', 'goals2', 'goals3', 'goalsT', 'shots1', 'shots2', 'shots3', 'shotsT', 'Pen', 'PIM', 'PPG', 'PPO', 'FOW', 'FOL', 'FOW%', 'goals4', 'shots4']\n",
      "['Team', 'Player', 'Bl', 'Mi', 'SV', 'G', 'TSA', 'Bl', 'Mi', 'SV', 'G', 'TSA', 'Bl', 'Mi', 'SV', 'G', 'TSA', 'Bl', 'Mi', 'SV', 'G', 'TSA', 'BLKs', 'FO']\n"
     ]
    },
    {
     "name": "stderr",
     "output_type": "stream",
     "text": [
      "Scraping games:  26%|██▌       | 54/207 [02:05<06:26,  2.53s/it]"
     ]
    },
    {
     "name": "stdout",
     "output_type": "stream",
     "text": [
      "Number of DataFrames: 8\n",
      "Number of table names: 8\n",
      "['Day', 'Date', 'Conference', 'Details', 'Location', 'Ref1', 'Ref2', 'Asst_Ref1', 'Asst_Ref2', 'Attendance']\n",
      "['Period', 'Team', 'PP', 'Player', 'Player_Goals', 'Assist1', 'Assist2', 'Time']\n",
      "['Period', 'Team', 'Player', 'Pen_Length', 'Penalty_Type', 'Time']\n",
      "['Team', 'Goalie', 'SV', 'GA', 'Minutes']\n",
      "['Team', 'Player', 'G', 'A', 'Pt.', '+/-', 'Sh', 'PIM', 'FOW', 'FOL', 'FO%']\n",
      "[]\n",
      "['Team', 'goals1', 'goals2', 'goals3', 'goalsT', 'shots1', 'shots2', 'shots3', 'shotsT', 'Pen', 'PIM', 'PPG', 'PPO', 'FOW', 'FOL', 'FOW%', 'goals4', 'shots4']\n",
      "['Team', 'Player', 'Bl', 'Mi', 'SV', 'G', 'TSA', 'Bl', 'Mi', 'SV', 'G', 'TSA', 'Bl', 'Mi', 'SV', 'G', 'TSA', 'Bl', 'Mi', 'SV', 'G', 'TSA', 'BLKs', 'FO']\n"
     ]
    },
    {
     "name": "stderr",
     "output_type": "stream",
     "text": [
      "Scraping games:  27%|██▋       | 55/207 [02:08<06:38,  2.62s/it]"
     ]
    },
    {
     "name": "stdout",
     "output_type": "stream",
     "text": [
      "Number of DataFrames: 8\n",
      "Number of table names: 8\n",
      "['Day', 'Date', 'Conference', 'Details', 'Location', 'Ref1', 'Ref2', 'Asst_Ref1', 'Asst_Ref2', 'Attendance']\n",
      "['Period', 'Team', 'PP', 'Player', 'Player_Goals', 'Assist1', 'Assist2', 'Time']\n",
      "['Period', 'Team', 'Player', 'Pen_Length', 'Penalty_Type', 'Time']\n",
      "['Team', 'Goalie', 'SV', 'GA', 'Minutes']\n",
      "['Team', 'Player', 'G', 'A', 'Pt.', '+/-', 'Sh', 'PIM', 'FOW', 'FOL', 'FO%']\n",
      "['Team', 'Line', 'Position', 'Player']\n",
      "['Team', 'goals1', 'goals2', 'goals3', 'goalsT', 'shots1', 'shots2', 'shots3', 'shotsT', 'Pen', 'PIM', 'PPG', 'PPO', 'FOW', 'FOL', 'FOW%', 'goals4', 'shots4']\n",
      "['Team', 'Player', 'Bl', 'Mi', 'SV', 'G', 'TSA', 'Bl', 'Mi', 'SV', 'G', 'TSA', 'Bl', 'Mi', 'SV', 'G', 'TSA', 'Bl', 'Mi', 'SV', 'G', 'TSA', 'BLKs', 'FO']\n"
     ]
    },
    {
     "name": "stderr",
     "output_type": "stream",
     "text": [
      "Scraping games:  27%|██▋       | 56/207 [02:11<06:42,  2.66s/it]"
     ]
    },
    {
     "name": "stdout",
     "output_type": "stream",
     "text": [
      "Number of DataFrames: 8\n",
      "Number of table names: 8\n",
      "['Day', 'Date', 'Conference', 'Details', 'Location', 'Ref1', 'Ref2', 'Asst_Ref1', 'Asst_Ref2', 'Attendance']\n",
      "['Period', 'Team', 'PP', 'Player', 'Player_Goals', 'Assist1', 'Assist2', 'Time']\n",
      "['Period', 'Team', 'Player', 'Pen_Length', 'Penalty_Type', 'Time']\n",
      "['Team', 'Goalie', 'SV', 'GA', 'Minutes']\n",
      "['Team', 'Player', 'G', 'A', 'Pt.', '+/-', 'Sh', 'PIM', 'FOW', 'FOL', 'FO%']\n",
      "['Team', 'Line', 'Position', 'Player']\n",
      "['Team', 'goals1', 'goals2', 'goals3', 'goalsT', 'shots1', 'shots2', 'shots3', 'shotsT', 'Pen', 'PIM', 'PPG', 'PPO', 'FOW', 'FOL', 'FOW%', 'goals4', 'shots4']\n",
      "['Team', 'Player', 'Bl', 'Mi', 'SV', 'G', 'TSA', 'Bl', 'Mi', 'SV', 'G', 'TSA', 'Bl', 'Mi', 'SV', 'G', 'TSA', 'Bl', 'Mi', 'SV', 'G', 'TSA', 'BLKs', 'FO']\n"
     ]
    },
    {
     "name": "stderr",
     "output_type": "stream",
     "text": [
      "Scraping games:  28%|██▊       | 57/207 [02:14<06:47,  2.72s/it]"
     ]
    },
    {
     "name": "stdout",
     "output_type": "stream",
     "text": [
      "Number of DataFrames: 8\n",
      "Number of table names: 8\n",
      "['Day', 'Date', 'Conference', 'Details', 'Location', 'Ref1', 'Ref2', 'Asst_Ref1', 'Asst_Ref2', 'Attendance']\n",
      "['Period', 'Team', 'PP', 'Player', 'Player_Goals', 'Assist1', 'Assist2', 'Time']\n",
      "['Period', 'Team', 'Player', 'Pen_Length', 'Penalty_Type', 'Time']\n",
      "['Team', 'Goalie', 'SV', 'GA', 'Minutes']\n",
      "['Team', 'Player', 'G', 'A', 'Pt.', '+/-', 'Sh', 'PIM', 'FOW', 'FOL', 'FO%']\n",
      "['Team', 'Line', 'Position', 'Player']\n",
      "['Team', 'goals1', 'goals2', 'goals3', 'goalsT', 'shots1', 'shots2', 'shots3', 'shotsT', 'Pen', 'PIM', 'PPG', 'PPO', 'FOW', 'FOL', 'FOW%', 'goals4', 'shots4']\n",
      "['Team', 'Player', 'Bl', 'Mi', 'SV', 'G', 'TSA', 'Bl', 'Mi', 'SV', 'G', 'TSA', 'Bl', 'Mi', 'SV', 'G', 'TSA', 'Bl', 'Mi', 'SV', 'G', 'TSA', 'BLKs', 'FO']\n"
     ]
    },
    {
     "name": "stderr",
     "output_type": "stream",
     "text": [
      "Scraping games:  28%|██▊       | 58/207 [02:17<06:48,  2.74s/it]"
     ]
    },
    {
     "name": "stdout",
     "output_type": "stream",
     "text": [
      "Number of DataFrames: 8\n",
      "Number of table names: 8\n",
      "['Day', 'Date', 'Conference', 'Details', 'Location', 'Ref1', 'Ref2', 'Asst_Ref1', 'Asst_Ref2', 'Attendance']\n",
      "['Period', 'Team', 'PP', 'Player', 'Player_Goals', 'Assist1', 'Assist2', 'Time']\n",
      "['Period', 'Team', 'Player', 'Pen_Length', 'Penalty_Type', 'Time']\n",
      "['Team', 'Goalie', 'SV', 'GA', 'Minutes']\n",
      "['Team', 'Player', 'G', 'A', 'Pt.', '+/-', 'Sh', 'PIM', 'FOW', 'FOL', 'FO%']\n",
      "['Team', 'Line', 'Position', 'Player']\n",
      "['Team', 'goals1', 'goals2', 'goals3', 'goalsT', 'shots1', 'shots2', 'shots3', 'shotsT', 'Pen', 'PIM', 'PPG', 'PPO', 'FOW', 'FOL', 'FOW%', 'goals4', 'shots4']\n",
      "['Team', 'Player', 'Bl', 'Mi', 'SV', 'G', 'TSA', 'Bl', 'Mi', 'SV', 'G', 'TSA', 'Bl', 'Mi', 'SV', 'G', 'TSA', 'Bl', 'Mi', 'SV', 'G', 'TSA', 'BLKs', 'FO']\n"
     ]
    },
    {
     "name": "stderr",
     "output_type": "stream",
     "text": [
      "Scraping games:  29%|██▊       | 59/207 [02:19<06:42,  2.72s/it]"
     ]
    },
    {
     "name": "stdout",
     "output_type": "stream",
     "text": [
      "Number of DataFrames: 8\n",
      "Number of table names: 8\n",
      "['Day', 'Date', 'Conference', 'Details', 'Location', 'Ref1', 'Ref2', 'Asst_Ref1', 'Asst_Ref2', 'Attendance']\n",
      "['Period', 'Team', 'PP', 'Player', 'Player_Goals', 'Assist1', 'Assist2', 'Time']\n",
      "['Period', 'Team', 'Player', 'Pen_Length', 'Penalty_Type', 'Time']\n",
      "['Team', 'Goalie', 'SV', 'GA', 'Minutes']\n",
      "['Team', 'Player', 'G', 'A', 'Pt.', '+/-', 'Sh', 'PIM', 'FOW', 'FOL', 'FO%']\n",
      "['Team', 'Line', 'Position', 'Player']\n",
      "['Team', 'goals1', 'goals2', 'goals3', 'goalsT', 'shots1', 'shots2', 'shots3', 'shotsT', 'Pen', 'PIM', 'PPG', 'PPO', 'FOW', 'FOL', 'FOW%', 'goals4', 'shots4']\n",
      "['Team', 'Player', 'Bl', 'Mi', 'SV', 'G', 'TSA', 'Bl', 'Mi', 'SV', 'G', 'TSA', 'Bl', 'Mi', 'SV', 'G', 'TSA', 'Bl', 'Mi', 'SV', 'G', 'TSA', 'BLKs', 'FO']\n"
     ]
    },
    {
     "name": "stderr",
     "output_type": "stream",
     "text": [
      "Scraping games:  29%|██▉       | 60/207 [02:22<06:32,  2.67s/it]"
     ]
    },
    {
     "name": "stdout",
     "output_type": "stream",
     "text": [
      "Number of DataFrames: 8\n",
      "Number of table names: 8\n",
      "['Day', 'Date', 'Conference', 'Details', 'Location', 'Ref1', 'Ref2', 'Asst_Ref1', 'Asst_Ref2', 'Attendance']\n",
      "['Period', 'Team', 'PP', 'Player', 'Player_Goals', 'Assist1', 'Assist2', 'Time']\n",
      "['Period', 'Team', 'Player', 'Pen_Length', 'Penalty_Type', 'Time']\n",
      "['Team', 'Goalie', 'SV', 'GA', 'Minutes']\n",
      "['Team', 'Player', 'G', 'A', 'Pt.', '+/-', 'Sh', 'PIM', 'FOW', 'FOL', 'FO%']\n",
      "['Team', 'Line', 'Position', 'Player']\n",
      "['Team', 'goals1', 'goals2', 'goals3', 'goalsT', 'shots1', 'shots2', 'shots3', 'shotsT', 'Pen', 'PIM', 'PPG', 'PPO', 'FOW', 'FOL', 'FOW%', 'goals4', 'shots4']\n",
      "['Team', 'Player', 'Bl', 'Mi', 'SV', 'G', 'TSA', 'Bl', 'Mi', 'SV', 'G', 'TSA', 'Bl', 'Mi', 'SV', 'G', 'TSA', 'Bl', 'Mi', 'SV', 'G', 'TSA', 'BLKs', 'FO']\n"
     ]
    },
    {
     "name": "stderr",
     "output_type": "stream",
     "text": [
      "Scraping games:  29%|██▉       | 61/207 [02:25<06:32,  2.69s/it]"
     ]
    },
    {
     "name": "stdout",
     "output_type": "stream",
     "text": [
      "Number of DataFrames: 8\n",
      "Number of table names: 8\n",
      "['Day', 'Date', 'Conference', 'Details', 'Location', 'Ref1', 'Ref2', 'Asst_Ref1', 'Asst_Ref2', 'Attendance']\n",
      "['Period', 'Team', 'PP', 'Player', 'Player_Goals', 'Assist1', 'Assist2', 'Time']\n",
      "['Period', 'Team', 'Player', 'Pen_Length', 'Penalty_Type', 'Time']\n",
      "['Team', 'Goalie', 'SV', 'GA', 'Minutes']\n",
      "['Team', 'Player', 'G', 'A', 'Pt.', '+/-', 'Sh', 'PIM', 'FOW', 'FOL', 'FO%']\n",
      "[]\n",
      "['Team', 'goals1', 'goals2', 'goals3', 'goalsT', 'shots1', 'shots2', 'shots3', 'shotsT', 'Pen', 'PIM', 'PPG', 'PPO', 'FOW', 'FOL', 'FOW%', 'goals4', 'shots4']\n",
      "['Team', 'Player', 'Bl', 'Mi', 'SV', 'G', 'TSA', 'Bl', 'Mi', 'SV', 'G', 'TSA', 'Bl', 'Mi', 'SV', 'G', 'TSA', 'Bl', 'Mi', 'SV', 'G', 'TSA', 'BLKs', 'FO']\n"
     ]
    },
    {
     "name": "stderr",
     "output_type": "stream",
     "text": [
      "Scraping games:  30%|██▉       | 62/207 [02:27<06:33,  2.71s/it]"
     ]
    },
    {
     "name": "stdout",
     "output_type": "stream",
     "text": [
      "Number of DataFrames: 8\n",
      "Number of table names: 8\n",
      "['Day', 'Date', 'Conference', 'Details', 'Location', 'Ref1', 'Ref2', 'Asst_Ref1', 'Asst_Ref2', 'Attendance']\n",
      "['Period', 'Team', 'PP', 'Player', 'Player_Goals', 'Assist1', 'Assist2', 'Time']\n",
      "['Period', 'Team', 'Player', 'Pen_Length', 'Penalty_Type', 'Time']\n",
      "['Team', 'Goalie', 'SV', 'GA', 'Minutes']\n",
      "['Team', 'Player', 'G', 'A', 'Pt.', '+/-', 'Sh', 'PIM', 'FOW', 'FOL', 'FO%']\n",
      "['Team', 'Line', 'Position', 'Player']\n",
      "['Team', 'goals1', 'goals2', 'goals3', 'goals4', 'goalsT', 'shots1', 'shots2', 'shots3', 'shots4', 'shotsT', 'Pen', 'PIM', 'PPG', 'PPO', 'FOW', 'FOL', 'FOW%']\n",
      "['Team', 'Player', 'Bl', 'Mi', 'SV', 'G', 'TSA', 'Bl', 'Mi', 'SV', 'G', 'TSA', 'Bl', 'Mi', 'SV', 'G', 'TSA', 'Bl', 'Mi', 'SV', 'G', 'TSA', 'BLKs', 'FO']\n"
     ]
    },
    {
     "name": "stderr",
     "output_type": "stream",
     "text": [
      "Scraping games:  30%|███       | 63/207 [02:30<06:23,  2.66s/it]"
     ]
    },
    {
     "name": "stdout",
     "output_type": "stream",
     "text": [
      "Number of DataFrames: 8\n",
      "Number of table names: 8\n",
      "['Day', 'Date', 'Conference', 'Details', 'Location', 'Ref1', 'Ref2', 'Asst_Ref1', 'Asst_Ref2', 'Attendance']\n",
      "['Period', 'Team', 'PP', 'Player', 'Player_Goals', 'Assist1', 'Assist2', 'Time']\n",
      "['Period', 'Team', 'Player', 'Pen_Length', 'Penalty_Type', 'Time']\n",
      "['Team', 'Goalie', 'SV', 'GA', 'Minutes']\n",
      "['Team', 'Player', 'G', 'A', 'Pt.', '+/-', 'Sh', 'PIM', 'FOW', 'FOL', 'FO%']\n",
      "['Team', 'Line', 'Position', 'Player']\n",
      "['Team', 'goals1', 'goals2', 'goals3', 'goalsT', 'shots1', 'shots2', 'shots3', 'shotsT', 'Pen', 'PIM', 'PPG', 'PPO', 'FOW', 'FOL', 'FOW%', 'goals4', 'shots4']\n",
      "['Team', 'Player', 'Bl', 'Mi', 'SV', 'G', 'TSA', 'Bl', 'Mi', 'SV', 'G', 'TSA', 'Bl', 'Mi', 'SV', 'G', 'TSA', 'Bl', 'Mi', 'SV', 'G', 'TSA', 'BLKs', 'FO']\n"
     ]
    },
    {
     "name": "stderr",
     "output_type": "stream",
     "text": [
      "Scraping games:  31%|███       | 64/207 [02:33<06:35,  2.77s/it]"
     ]
    },
    {
     "name": "stdout",
     "output_type": "stream",
     "text": [
      "Number of DataFrames: 8\n",
      "Number of table names: 8\n",
      "['Day', 'Date', 'Conference', 'Details', 'Location', 'Ref1', 'Ref2', 'Asst_Ref1', 'Asst_Ref2', 'Attendance']\n",
      "['Period', 'Team', 'PP', 'Player', 'Player_Goals', 'Assist1', 'Assist2', 'Time']\n",
      "['Period', 'Team', 'Player', 'Pen_Length', 'Penalty_Type', 'Time']\n",
      "['Team', 'Goalie', 'SV', 'GA', 'Minutes']\n",
      "['Team', 'Player', 'G', 'A', 'Pt.', '+/-', 'Sh', 'PIM', 'FOW', 'FOL', 'FO%']\n",
      "[]\n",
      "['Team', 'goals1', 'goals2', 'goals3', 'goals4', 'goalsT', 'shots1', 'shots2', 'shots3', 'shots4', 'shotsT', 'Pen', 'PIM', 'PPG', 'PPO', 'FOW', 'FOL', 'FOW%']\n",
      "['Team', 'Player', 'Bl', 'Mi', 'SV', 'G', 'TSA', 'Bl', 'Mi', 'SV', 'G', 'TSA', 'Bl', 'Mi', 'SV', 'G', 'TSA', 'Bl', 'Mi', 'SV', 'G', 'TSA', 'BLKs', 'FO']\n"
     ]
    },
    {
     "name": "stderr",
     "output_type": "stream",
     "text": [
      "Scraping games:  31%|███▏      | 65/207 [02:36<06:26,  2.72s/it]"
     ]
    },
    {
     "name": "stdout",
     "output_type": "stream",
     "text": [
      "Number of DataFrames: 8\n",
      "Number of table names: 8\n",
      "['Day', 'Date', 'Conference', 'Details', 'Location', 'Ref1', 'Ref2', 'Asst_Ref1', 'Asst_Ref2', 'Attendance']\n",
      "['Period', 'Team', 'PP', 'Player', 'Player_Goals', 'Assist1', 'Assist2', 'Time']\n",
      "['Period', 'Team', 'Player', 'Pen_Length', 'Penalty_Type', 'Time']\n",
      "['Team', 'Goalie', 'SV', 'GA', 'Minutes']\n",
      "['Team', 'Player', 'G', 'A', 'Pt.', '+/-', 'Sh', 'PIM', 'FOW', 'FOL', 'FO%']\n",
      "['Team', 'Line', 'Position', 'Player']\n",
      "['Team', 'goals1', 'goals2', 'goals3', 'goalsT', 'shots1', 'shots2', 'shots3', 'shotsT', 'Pen', 'PIM', 'PPG', 'PPO', 'FOW', 'FOL', 'FOW%', 'goals4', 'shots4']\n",
      "['Team', 'Player', 'Bl', 'Mi', 'SV', 'G', 'TSA', 'Bl', 'Mi', 'SV', 'G', 'TSA', 'Bl', 'Mi', 'SV', 'G', 'TSA', 'Bl', 'Mi', 'SV', 'G', 'TSA', 'BLKs', 'FO']\n"
     ]
    },
    {
     "name": "stderr",
     "output_type": "stream",
     "text": [
      "Scraping games:  32%|███▏      | 66/207 [02:38<06:21,  2.71s/it]"
     ]
    },
    {
     "name": "stdout",
     "output_type": "stream",
     "text": [
      "Number of DataFrames: 8\n",
      "Number of table names: 8\n",
      "['Day', 'Date', 'Conference', 'Details', 'Location', 'Ref1', 'Ref2', 'Asst_Ref1', 'Asst_Ref2', 'Attendance']\n",
      "['Period', 'Team', 'PP', 'Player', 'Player_Goals', 'Assist1', 'Assist2', 'Time']\n",
      "['Period', 'Team', 'Player', 'Pen_Length', 'Penalty_Type', 'Time']\n",
      "['Team', 'Goalie', 'SV', 'GA', 'Minutes']\n",
      "['Team', 'Player', 'G', 'A', 'Pt.', '+/-', 'Sh', 'PIM', 'FOW', 'FOL', 'FO%']\n",
      "[]\n",
      "['Team', 'goals1', 'goals2', 'goals3', 'goalsT', 'shots1', 'shots2', 'shots3', 'shotsT', 'Pen', 'PIM', 'PPG', 'PPO', 'FOW', 'FOL', 'FOW%', 'goals4', 'shots4']\n",
      "['Team', 'Player', 'Bl', 'Mi', 'SV', 'G', 'TSA', 'Bl', 'Mi', 'SV', 'G', 'TSA', 'Bl', 'Mi', 'SV', 'G', 'TSA', 'Bl', 'Mi', 'SV', 'G', 'TSA', 'BLKs', 'FO']\n"
     ]
    },
    {
     "name": "stderr",
     "output_type": "stream",
     "text": [
      "Scraping games:  32%|███▏      | 67/207 [02:41<06:22,  2.73s/it]"
     ]
    },
    {
     "name": "stdout",
     "output_type": "stream",
     "text": [
      "Number of DataFrames: 8\n",
      "Number of table names: 8\n",
      "['Day', 'Date', 'Conference', 'Details', 'Location', 'Ref1', 'Ref2', 'Asst_Ref1', 'Asst_Ref2', 'Attendance']\n",
      "['Period', 'Team', 'PP', 'Player', 'Player_Goals', 'Assist1', 'Assist2', 'Time']\n",
      "['Period', 'Team', 'Player', 'Pen_Length', 'Penalty_Type', 'Time']\n",
      "['Team', 'Goalie', 'SV', 'GA', 'Minutes']\n",
      "['Team', 'Player', 'G', 'A', 'Pt.', '+/-', 'Sh', 'PIM', 'FOW', 'FOL', 'FO%']\n",
      "[]\n",
      "['Team', 'goals1', 'goals2', 'goals3', 'goals4', 'goalsT', 'shots1', 'shots2', 'shots3', 'shots4', 'shotsT', 'Pen', 'PIM', 'PPG', 'PPO', 'FOW', 'FOL', 'FOW%']\n",
      "['Team', 'Player', 'Bl', 'Mi', 'SV', 'G', 'TSA', 'Bl', 'Mi', 'SV', 'G', 'TSA', 'Bl', 'Mi', 'SV', 'G', 'TSA', 'Bl', 'Mi', 'SV', 'G', 'TSA', 'BLKs', 'FO']\n"
     ]
    },
    {
     "name": "stderr",
     "output_type": "stream",
     "text": [
      "Scraping games:  33%|███▎      | 68/207 [02:44<06:15,  2.70s/it]"
     ]
    },
    {
     "name": "stdout",
     "output_type": "stream",
     "text": [
      "Number of DataFrames: 8\n",
      "Number of table names: 8\n",
      "['Day', 'Date', 'Conference', 'Details', 'Location', 'Ref1', 'Ref2', 'Asst_Ref1', 'Asst_Ref2', 'Attendance']\n",
      "['Period', 'Team', 'PP', 'Player', 'Player_Goals', 'Assist1', 'Assist2', 'Time']\n",
      "['Period', 'Team', 'Player', 'Pen_Length', 'Penalty_Type', 'Time']\n",
      "['Team', 'Goalie', 'SV', 'GA', 'Minutes']\n",
      "['Team', 'Player', 'G', 'A', 'Pt.', '+/-', 'Sh', 'PIM', 'FOW', 'FOL', 'FO%']\n",
      "['Team', 'Line', 'Position', 'Player']\n",
      "['Team', 'goals1', 'goals2', 'goals3', 'goalsT', 'shots1', 'shots2', 'shots3', 'shotsT', 'Pen', 'PIM', 'PPG', 'PPO', 'FOW', 'FOL', 'FOW%', 'goals4', 'shots4']\n",
      "['Team', 'Player', 'Bl', 'Mi', 'SV', 'G', 'TSA', 'Bl', 'Mi', 'SV', 'G', 'TSA', 'Bl', 'Mi', 'SV', 'G', 'TSA', 'Bl', 'Mi', 'SV', 'G', 'TSA', 'BLKs', 'FO']\n"
     ]
    },
    {
     "name": "stderr",
     "output_type": "stream",
     "text": [
      "Scraping games:  33%|███▎      | 69/207 [02:46<06:11,  2.69s/it]"
     ]
    },
    {
     "name": "stdout",
     "output_type": "stream",
     "text": [
      "Number of DataFrames: 8\n",
      "Number of table names: 8\n",
      "['Day', 'Date', 'Conference', 'Details', 'Location', 'Ref1', 'Ref2', 'Asst_Ref1', 'Asst_Ref2', 'Attendance']\n",
      "['Period', 'Team', 'PP', 'Player', 'Player_Goals', 'Assist1', 'Assist2', 'Time']\n",
      "['Period', 'Team', 'Player', 'Pen_Length', 'Penalty_Type', 'Time']\n",
      "['Team', 'Goalie', 'SV', 'GA', 'Minutes']\n",
      "['Team', 'Player', 'G', 'A', 'Pt.', '+/-', 'Sh', 'PIM', 'FOW', 'FOL', 'FO%']\n",
      "['Team', 'Line', 'Position', 'Player']\n",
      "['Team', 'goals1', 'goals2', 'goals3', 'goalsT', 'shots1', 'shots2', 'shots3', 'shotsT', 'Pen', 'PIM', 'PPG', 'PPO', 'FOW', 'FOL', 'FOW%', 'goals4', 'shots4']\n",
      "['Team', 'Player', 'Bl', 'Mi', 'SV', 'G', 'TSA', 'Bl', 'Mi', 'SV', 'G', 'TSA', 'Bl', 'Mi', 'SV', 'G', 'TSA', 'Bl', 'Mi', 'SV', 'G', 'TSA', 'BLKs', 'FO']\n"
     ]
    },
    {
     "name": "stderr",
     "output_type": "stream",
     "text": [
      "Scraping games:  34%|███▍      | 70/207 [02:49<06:10,  2.70s/it]"
     ]
    },
    {
     "name": "stdout",
     "output_type": "stream",
     "text": [
      "Number of DataFrames: 8\n",
      "Number of table names: 8\n",
      "['Day', 'Date', 'Conference', 'Details', 'Location', 'Ref1', 'Ref2', 'Asst_Ref1', 'Asst_Ref2', 'Attendance']\n",
      "['Period', 'Team', 'PP', 'Player', 'Player_Goals', 'Assist1', 'Assist2', 'Time']\n",
      "['Period', 'Team', 'Player', 'Pen_Length', 'Penalty_Type', 'Time']\n",
      "['Team', 'Goalie', 'SV', 'GA', 'Minutes']\n",
      "['Team', 'Player', 'G', 'A', 'Pt.', '+/-', 'Sh', 'PIM', 'FOW', 'FOL', 'FO%']\n",
      "['Team', 'Line', 'Position', 'Player']\n",
      "['Team', 'goals1', 'goals2', 'goals3', 'goals4', 'goalsT', 'shots1', 'shots2', 'shots3', 'shots4', 'shotsT', 'Pen', 'PIM', 'PPG', 'PPO', 'FOW', 'FOL', 'FOW%']\n",
      "['Team', 'Player', 'Bl', 'Mi', 'SV', 'G', 'TSA', 'Bl', 'Mi', 'SV', 'G', 'TSA', 'Bl', 'Mi', 'SV', 'G', 'TSA', 'Bl', 'Mi', 'SV', 'G', 'TSA', 'BLKs', 'FO']\n"
     ]
    },
    {
     "name": "stderr",
     "output_type": "stream",
     "text": [
      "Scraping games:  34%|███▍      | 71/207 [03:03<13:59,  6.17s/it]"
     ]
    },
    {
     "name": "stdout",
     "output_type": "stream",
     "text": [
      "Number of DataFrames: 8\n",
      "Number of table names: 8\n",
      "['Day', 'Date', 'Conference', 'Details', 'Location', 'Ref1', 'Ref2', 'Asst_Ref1', 'Asst_Ref2', 'Attendance']\n",
      "['Period', 'Team', 'PP', 'Player', 'Player_Goals', 'Assist1', 'Assist2', 'Time']\n",
      "['Period', 'Team', 'Player', 'Pen_Length', 'Penalty_Type', 'Time']\n",
      "['Team', 'Goalie', 'SV', 'GA', 'Minutes']\n",
      "['Team', 'Player', 'G', 'A', 'Pt.', '+/-', 'Sh', 'PIM', 'FOW', 'FOL', 'FO%']\n",
      "[]\n",
      "['Team', 'goals1', 'goals2', 'goals3', 'goals4', 'goalsT', 'shots1', 'shots2', 'shots3', 'shots4', 'shotsT', 'Pen', 'PIM', 'PPG', 'PPO', 'FOW', 'FOL', 'FOW%']\n",
      "['Team', 'Player', 'Bl', 'Mi', 'SV', 'G', 'TSA', 'Bl', 'Mi', 'SV', 'G', 'TSA', 'Bl', 'Mi', 'SV', 'G', 'TSA', 'Bl', 'Mi', 'SV', 'G', 'TSA', 'BLKs', 'FO']\n"
     ]
    },
    {
     "name": "stderr",
     "output_type": "stream",
     "text": [
      "Scraping games:  35%|███▍      | 72/207 [03:06<11:28,  5.10s/it]"
     ]
    },
    {
     "name": "stdout",
     "output_type": "stream",
     "text": [
      "Number of DataFrames: 8\n",
      "Number of table names: 8\n",
      "['Day', 'Date', 'Conference', 'Details', 'Location', 'Ref1', 'Ref2', 'Asst_Ref1', 'Asst_Ref2', 'Attendance']\n",
      "['Period', 'Team', 'PP', 'Player', 'Player_Goals', 'Assist1', 'Assist2', 'Time']\n",
      "['Period', 'Team', 'Player', 'Pen_Length', 'Penalty_Type', 'Time']\n",
      "['Team', 'Goalie', 'SV', 'GA', 'Minutes']\n",
      "['Team', 'Player', 'G', 'A', 'Pt.', '+/-', 'Sh', 'PIM', 'FOW', 'FOL', 'FO%']\n",
      "[]\n",
      "['Team', 'goals1', 'goals2', 'goals3', 'goals4', 'goalsT', 'shots1', 'shots2', 'shots3', 'shots4', 'shotsT', 'Pen', 'PIM', 'PPG', 'PPO', 'FOW', 'FOL', 'FOW%']\n",
      "['Team', 'Player', 'Bl', 'Mi', 'SV', 'G', 'TSA', 'Bl', 'Mi', 'SV', 'G', 'TSA', 'Bl', 'Mi', 'SV', 'G', 'TSA', 'Bl', 'Mi', 'SV', 'G', 'TSA', 'BLKs', 'FO']\n"
     ]
    },
    {
     "name": "stderr",
     "output_type": "stream",
     "text": [
      "Scraping games:  35%|███▌      | 73/207 [03:08<09:36,  4.30s/it]"
     ]
    },
    {
     "name": "stdout",
     "output_type": "stream",
     "text": [
      "Number of DataFrames: 8\n",
      "Number of table names: 8\n",
      "['Day', 'Date', 'Conference', 'Details', 'Location', 'Ref1', 'Ref2', 'Asst_Ref1', 'Asst_Ref2', 'Attendance']\n",
      "['Period', 'Team', 'PP', 'Player', 'Player_Goals', 'Assist1', 'Assist2', 'Time']\n",
      "['Period', 'Team', 'Player', 'Pen_Length', 'Penalty_Type', 'Time']\n",
      "['Team', 'Goalie', 'SV', 'GA', 'Minutes']\n",
      "['Team', 'Player', 'G', 'A', 'Pt.', '+/-', 'Sh', 'PIM', 'FOW', 'FOL', 'FO%']\n",
      "['Team', 'Line', 'Position', 'Player']\n",
      "['Team', 'goals1', 'goals2', 'goals3', 'goalsT', 'shots1', 'shots2', 'shots3', 'shotsT', 'Pen', 'PIM', 'PPG', 'PPO', 'FOW', 'FOL', 'FOW%', 'goals4', 'shots4']\n",
      "['Team', 'Player', 'Bl', 'Mi', 'SV', 'G', 'TSA', 'Bl', 'Mi', 'SV', 'G', 'TSA', 'Bl', 'Mi', 'SV', 'G', 'TSA', 'Bl', 'Mi', 'SV', 'G', 'TSA', 'BLKs', 'FO']\n"
     ]
    },
    {
     "name": "stderr",
     "output_type": "stream",
     "text": [
      "Scraping games:  36%|███▌      | 74/207 [03:11<08:38,  3.90s/it]"
     ]
    },
    {
     "name": "stdout",
     "output_type": "stream",
     "text": [
      "Number of DataFrames: 8\n",
      "Number of table names: 8\n",
      "['Day', 'Date', 'Conference', 'Details', 'Location', 'Ref1', 'Ref2', 'Asst_Ref1', 'Asst_Ref2', 'Attendance']\n",
      "['Period', 'Team', 'PP', 'Player', 'Player_Goals', 'Assist1', 'Assist2', 'Time']\n",
      "['Period', 'Team', 'Player', 'Pen_Length', 'Penalty_Type', 'Time']\n",
      "['Team', 'Goalie', 'SV', 'GA', 'Minutes']\n",
      "['Team', 'Player', 'G', 'A', 'Pt.', '+/-', 'Sh', 'PIM', 'FOW', 'FOL', 'FO%']\n",
      "['Team', 'Line', 'Position', 'Player']\n",
      "['Team', 'goals1', 'goals2', 'goals3', 'goalsT', 'shots1', 'shots2', 'shots3', 'shotsT', 'Pen', 'PIM', 'PPG', 'PPO', 'FOW', 'FOL', 'FOW%', 'goals4', 'shots4']\n",
      "['Team', 'Player', 'Bl', 'Mi', 'SV', 'G', 'TSA', 'Bl', 'Mi', 'SV', 'G', 'TSA', 'Bl', 'Mi', 'SV', 'G', 'TSA', 'Bl', 'Mi', 'SV', 'G', 'TSA', 'BLKs', 'FO']\n"
     ]
    },
    {
     "name": "stderr",
     "output_type": "stream",
     "text": [
      "Scraping games:  36%|███▌      | 75/207 [03:14<07:36,  3.46s/it]"
     ]
    },
    {
     "name": "stdout",
     "output_type": "stream",
     "text": [
      "Number of DataFrames: 8\n",
      "Number of table names: 8\n",
      "['Day', 'Date', 'Conference', 'Details', 'Location', 'Ref1', 'Ref2', 'Asst_Ref1', 'Asst_Ref2', 'Attendance']\n",
      "['Period', 'Team', 'PP', 'Player', 'Player_Goals', 'Assist1', 'Assist2', 'Time']\n",
      "['Period', 'Team', 'Player', 'Pen_Length', 'Penalty_Type', 'Time']\n",
      "['Team', 'Goalie', 'SV', 'GA', 'Minutes']\n",
      "['Team', 'Player', 'G', 'A', 'Pt.', '+/-', 'Sh', 'PIM', 'FOW', 'FOL', 'FO%']\n",
      "['Team', 'Line', 'Position', 'Player']\n",
      "['Team', 'goals1', 'goals2', 'goals3', 'goals4', 'goalsT', 'shots1', 'shots2', 'shots3', 'shots4', 'shotsT', 'Pen', 'PIM', 'PPG', 'PPO', 'FOW', 'FOL', 'FOW%']\n",
      "['Team', 'Player', 'Bl', 'Mi', 'SV', 'G', 'TSA', 'Bl', 'Mi', 'SV', 'G', 'TSA', 'Bl', 'Mi', 'SV', 'G', 'TSA', 'Bl', 'Mi', 'SV', 'G', 'TSA', 'BLKs', 'FO']\n"
     ]
    },
    {
     "name": "stderr",
     "output_type": "stream",
     "text": [
      "Scraping games:  37%|███▋      | 76/207 [03:17<07:09,  3.28s/it]"
     ]
    },
    {
     "name": "stdout",
     "output_type": "stream",
     "text": [
      "Number of DataFrames: 8\n",
      "Number of table names: 8\n",
      "['Day', 'Date', 'Conference', 'Details', 'Location', 'Ref1', 'Ref2', 'Asst_Ref1', 'Asst_Ref2', 'Attendance']\n",
      "['Period', 'Team', 'PP', 'Player', 'Player_Goals', 'Assist1', 'Assist2', 'Time']\n",
      "['Period', 'Team', 'Player', 'Pen_Length', 'Penalty_Type', 'Time']\n",
      "['Team', 'Goalie', 'SV', 'GA', 'Minutes']\n",
      "['Team', 'Player', 'G', 'A', 'Pt.', '+/-', 'Sh', 'PIM', 'FOW', 'FOL', 'FO%']\n",
      "['Team', 'Line', 'Position', 'Player']\n",
      "['Team', 'goals1', 'goals2', 'goals3', 'goalsT', 'shots1', 'shots2', 'shots3', 'shotsT', 'Pen', 'PIM', 'PPG', 'PPO', 'FOW', 'FOL', 'FOW%', 'goals4', 'shots4']\n",
      "['Team', 'Player', 'Bl', 'Mi', 'SV', 'G', 'TSA', 'Bl', 'Mi', 'SV', 'G', 'TSA', 'Bl', 'Mi', 'SV', 'G', 'TSA', 'Bl', 'Mi', 'SV', 'G', 'TSA', 'BLKs', 'FO']\n"
     ]
    },
    {
     "name": "stderr",
     "output_type": "stream",
     "text": [
      "Scraping games:  37%|███▋      | 77/207 [03:19<06:37,  3.06s/it]"
     ]
    },
    {
     "name": "stdout",
     "output_type": "stream",
     "text": [
      "Number of DataFrames: 8\n",
      "Number of table names: 8\n",
      "['Day', 'Date', 'Conference', 'Details', 'Location', 'Ref1', 'Ref2', 'Asst_Ref1', 'Asst_Ref2', 'Attendance']\n",
      "['Period', 'Team', 'PP', 'Player', 'Player_Goals', 'Assist1', 'Assist2', 'Time']\n",
      "['Period', 'Team', 'Player', 'Pen_Length', 'Penalty_Type', 'Time']\n",
      "['Team', 'Goalie', 'SV', 'GA', 'Minutes']\n",
      "['Team', 'Player', 'G', 'A', 'Pt.', '+/-', 'Sh', 'PIM', 'FOW', 'FOL', 'FO%']\n",
      "['Team', 'Line', 'Position', 'Player']\n",
      "['Team', 'goals1', 'goals2', 'goals3', 'goals4', 'goalsT', 'shots1', 'shots2', 'shots3', 'shots4', 'shotsT', 'Pen', 'PIM', 'PPG', 'PPO', 'FOW', 'FOL', 'FOW%']\n",
      "['Team', 'Player', 'Bl', 'Mi', 'SV', 'G', 'TSA', 'Bl', 'Mi', 'SV', 'G', 'TSA', 'Bl', 'Mi', 'SV', 'G', 'TSA', 'Bl', 'Mi', 'SV', 'G', 'TSA', 'BLKs', 'FO']\n"
     ]
    },
    {
     "name": "stderr",
     "output_type": "stream",
     "text": [
      "Scraping games:  38%|███▊      | 78/207 [03:22<06:17,  2.93s/it]"
     ]
    },
    {
     "name": "stdout",
     "output_type": "stream",
     "text": [
      "Number of DataFrames: 8\n",
      "Number of table names: 8\n",
      "['Day', 'Date', 'Conference', 'Details', 'Location', 'Ref1', 'Ref2', 'Asst_Ref1', 'Asst_Ref2', 'Attendance']\n",
      "['Period', 'Team', 'PP', 'Player', 'Player_Goals', 'Assist1', 'Assist2', 'Time']\n",
      "['Period', 'Team', 'Player', 'Pen_Length', 'Penalty_Type', 'Time']\n",
      "['Team', 'Goalie', 'SV', 'GA', 'Minutes']\n",
      "['Team', 'Player', 'G', 'A', 'Pt.', '+/-', 'Sh', 'PIM', 'FOW', 'FOL', 'FO%']\n",
      "['Team', 'Line', 'Position', 'Player']\n",
      "['Team', 'goals1', 'goals2', 'goals3', 'goalsT', 'shots1', 'shots2', 'shots3', 'shotsT', 'Pen', 'PIM', 'PPG', 'PPO', 'FOW', 'FOL', 'FOW%', 'goals4', 'shots4']\n",
      "['Team', 'Player', 'Bl', 'Mi', 'SV', 'G', 'TSA', 'Bl', 'Mi', 'SV', 'G', 'TSA', 'Bl', 'Mi', 'SV', 'G', 'TSA', 'Bl', 'Mi', 'SV', 'G', 'TSA', 'BLKs', 'FO']\n"
     ]
    },
    {
     "name": "stderr",
     "output_type": "stream",
     "text": [
      "Scraping games:  38%|███▊      | 79/207 [03:25<06:10,  2.89s/it]"
     ]
    },
    {
     "name": "stdout",
     "output_type": "stream",
     "text": [
      "Number of DataFrames: 8\n",
      "Number of table names: 8\n",
      "['Day', 'Date', 'Conference', 'Details', 'Location', 'Ref1', 'Ref2', 'Asst_Ref1', 'Asst_Ref2', 'Attendance']\n",
      "['Period', 'Team', 'PP', 'Player', 'Player_Goals', 'Assist1', 'Assist2', 'Time']\n",
      "['Period', 'Team', 'Player', 'Pen_Length', 'Penalty_Type', 'Time']\n",
      "['Team', 'Goalie', 'SV', 'GA', 'Minutes']\n",
      "['Team', 'Player', 'G', 'A', 'Pt.', '+/-', 'Sh', 'PIM', 'FOW', 'FOL', 'FO%']\n",
      "['Team', 'Line', 'Position', 'Player']\n",
      "['Team', 'goals1', 'goals2', 'goals3', 'goals4', 'goalsT', 'shots1', 'shots2', 'shots3', 'shots4', 'shotsT', 'Pen', 'PIM', 'PPG', 'PPO', 'FOW', 'FOL', 'FOW%']\n",
      "['Team', 'Player', 'Bl', 'Mi', 'SV', 'G', 'TSA', 'Bl', 'Mi', 'SV', 'G', 'TSA', 'Bl', 'Mi', 'SV', 'G', 'TSA', 'Bl', 'Mi', 'SV', 'G', 'TSA', 'BLKs', 'FO']\n"
     ]
    },
    {
     "name": "stderr",
     "output_type": "stream",
     "text": [
      "Scraping games:  39%|███▊      | 80/207 [03:27<05:53,  2.78s/it]"
     ]
    },
    {
     "name": "stdout",
     "output_type": "stream",
     "text": [
      "Number of DataFrames: 8\n",
      "Number of table names: 8\n",
      "['Day', 'Date', 'Conference', 'Details', 'Location', 'Ref1', 'Ref2', 'Asst_Ref1', 'Asst_Ref2', 'Attendance']\n",
      "['Period', 'Team', 'PP', 'Player', 'Player_Goals', 'Assist1', 'Assist2', 'Time']\n",
      "['Period', 'Team', 'Player', 'Pen_Length', 'Penalty_Type', 'Time']\n",
      "['Team', 'Goalie', 'SV', 'GA', 'Minutes']\n",
      "['Team', 'Player', 'G', 'A', 'Pt.', '+/-', 'Sh', 'PIM', 'FOW', 'FOL', 'FO%']\n",
      "[]\n",
      "['Team', 'goals1', 'goals2', 'goals3', 'goalsT', 'shots1', 'shots2', 'shots3', 'shotsT', 'Pen', 'PIM', 'PPG', 'PPO', 'FOW', 'FOL', 'FOW%', 'goals4', 'shots4']\n",
      "['Team', 'Player', 'Bl', 'Mi', 'SV', 'G', 'TSA', 'Bl', 'Mi', 'SV', 'G', 'TSA', 'Bl', 'Mi', 'SV', 'G', 'TSA', 'Bl', 'Mi', 'SV', 'G', 'TSA', 'BLKs', 'FO']\n"
     ]
    },
    {
     "name": "stderr",
     "output_type": "stream",
     "text": [
      "Scraping games:  39%|███▉      | 81/207 [03:30<05:39,  2.70s/it]"
     ]
    },
    {
     "name": "stdout",
     "output_type": "stream",
     "text": [
      "Number of DataFrames: 8\n",
      "Number of table names: 8\n",
      "['Day', 'Date', 'Conference', 'Details', 'Location', 'Ref1', 'Ref2', 'Asst_Ref1', 'Asst_Ref2', 'Attendance']\n",
      "['Period', 'Team', 'PP', 'Player', 'Player_Goals', 'Assist1', 'Assist2', 'Time']\n",
      "['Period', 'Team', 'Player', 'Pen_Length', 'Penalty_Type', 'Time']\n",
      "['Team', 'Goalie', 'SV', 'GA', 'Minutes']\n",
      "['Team', 'Player', 'G', 'A', 'Pt.', '+/-', 'Sh', 'PIM', 'FOW', 'FOL', 'FO%']\n",
      "['Team', 'Line', 'Position', 'Player']\n",
      "['Team', 'goals1', 'goals2', 'goals3', 'goalsT', 'shots1', 'shots2', 'shots3', 'shotsT', 'Pen', 'PIM', 'PPG', 'PPO', 'FOW', 'FOL', 'FOW%', 'goals4', 'shots4']\n",
      "['Team', 'Player', 'Bl', 'Mi', 'SV', 'G', 'TSA', 'Bl', 'Mi', 'SV', 'G', 'TSA', 'Bl', 'Mi', 'SV', 'G', 'TSA', 'Bl', 'Mi', 'SV', 'G', 'TSA', 'BLKs', 'FO']\n"
     ]
    },
    {
     "name": "stderr",
     "output_type": "stream",
     "text": [
      "Scraping games:  40%|███▉      | 82/207 [03:32<05:41,  2.73s/it]"
     ]
    },
    {
     "name": "stdout",
     "output_type": "stream",
     "text": [
      "Number of DataFrames: 8\n",
      "Number of table names: 8\n",
      "['Day', 'Date', 'Conference', 'Details', 'Location', 'Ref1', 'Ref2', 'Asst_Ref1', 'Asst_Ref2', 'Attendance']\n",
      "['Period', 'Team', 'PP', 'Player', 'Player_Goals', 'Assist1', 'Assist2', 'Time']\n",
      "['Period', 'Team', 'Player', 'Pen_Length', 'Penalty_Type', 'Time']\n",
      "['Team', 'Goalie', 'SV', 'GA', 'Minutes']\n",
      "['Team', 'Player', 'G', 'A', 'Pt.', '+/-', 'Sh', 'PIM', 'FOW', 'FOL', 'FO%']\n",
      "[]\n",
      "['Team', 'goals1', 'goals2', 'goals3', 'goals4', 'goalsT', 'shots1', 'shots2', 'shots3', 'shots4', 'shotsT', 'Pen', 'PIM', 'PPG', 'PPO', 'FOW', 'FOL', 'FOW%']\n",
      "['Team', 'Player', 'Bl', 'Mi', 'SV', 'G', 'TSA', 'Bl', 'Mi', 'SV', 'G', 'TSA', 'Bl', 'Mi', 'SV', 'G', 'TSA', 'Bl', 'Mi', 'SV', 'G', 'TSA', 'BLKs', 'FO']\n"
     ]
    },
    {
     "name": "stderr",
     "output_type": "stream",
     "text": [
      "Scraping games:  40%|████      | 83/207 [03:47<12:51,  6.23s/it]"
     ]
    },
    {
     "name": "stdout",
     "output_type": "stream",
     "text": [
      "Number of DataFrames: 8\n",
      "Number of table names: 8\n",
      "['Day', 'Date', 'Conference', 'Details', 'Location', 'Ref1', 'Ref2', 'Asst_Ref1', 'Asst_Ref2', 'Attendance']\n",
      "['Period', 'Team', 'PP', 'Player', 'Player_Goals', 'Assist1', 'Assist2', 'Time']\n",
      "['Period', 'Team', 'Player', 'Pen_Length', 'Penalty_Type', 'Time']\n",
      "['Team', 'Goalie', 'SV', 'GA', 'Minutes']\n",
      "['Team', 'Player', 'G', 'A', 'Pt.', '+/-', 'Sh', 'PIM', 'FOW', 'FOL', 'FO%']\n",
      "['Team', 'Line', 'Position', 'Player']\n",
      "['Team', 'goals1', 'goals2', 'goals3', 'goalsT', 'shots1', 'shots2', 'shots3', 'shotsT', 'Pen', 'PIM', 'PPG', 'PPO', 'FOW', 'FOL', 'FOW%', 'goals4', 'shots4']\n",
      "['Team', 'Player', 'Bl', 'Mi', 'SV', 'G', 'TSA', 'Bl', 'Mi', 'SV', 'G', 'TSA', 'Bl', 'Mi', 'SV', 'G', 'TSA', 'Bl', 'Mi', 'SV', 'G', 'TSA', 'BLKs', 'FO']\n"
     ]
    },
    {
     "name": "stderr",
     "output_type": "stream",
     "text": [
      "Scraping games:  41%|████      | 84/207 [03:50<10:43,  5.23s/it]"
     ]
    },
    {
     "name": "stdout",
     "output_type": "stream",
     "text": [
      "Number of DataFrames: 8\n",
      "Number of table names: 8\n",
      "['Day', 'Date', 'Conference', 'Details', 'Location', 'Ref1', 'Ref2', 'Asst_Ref1', 'Asst_Ref2', 'Attendance']\n",
      "['Period', 'Team', 'PP', 'Player', 'Player_Goals', 'Assist1', 'Assist2', 'Time']\n",
      "['Period', 'Team', 'Player', 'Pen_Length', 'Penalty_Type', 'Time']\n",
      "['Team', 'Goalie', 'SV', 'GA', 'Minutes']\n",
      "['Team', 'Player', 'G', 'A', 'Pt.', '+/-', 'Sh', 'PIM', 'FOW', 'FOL', 'FO%']\n",
      "['Team', 'Line', 'Position', 'Player']\n",
      "['Team', 'goals1', 'goals2', 'goals3', 'goals4', 'goalsT', 'shots1', 'shots2', 'shots3', 'shots4', 'shotsT', 'Pen', 'PIM', 'PPG', 'PPO', 'FOW', 'FOL', 'FOW%']\n",
      "['Team', 'Player', 'Bl', 'Mi', 'SV', 'G', 'TSA', 'Bl', 'Mi', 'SV', 'G', 'TSA', 'Bl', 'Mi', 'SV', 'G', 'TSA', 'Bl', 'Mi', 'SV', 'G', 'TSA', 'BLKs', 'FO']\n"
     ]
    },
    {
     "name": "stderr",
     "output_type": "stream",
     "text": [
      "Scraping games:  41%|████      | 85/207 [03:53<09:08,  4.50s/it]"
     ]
    },
    {
     "name": "stdout",
     "output_type": "stream",
     "text": [
      "Number of DataFrames: 8\n",
      "Number of table names: 8\n",
      "['Day', 'Date', 'Conference', 'Details', 'Location', 'Ref1', 'Ref2', 'Asst_Ref1', 'Asst_Ref2', 'Attendance']\n",
      "['Period', 'Team', 'PP', 'Player', 'Player_Goals', 'Assist1', 'Assist2', 'Time']\n",
      "['Period', 'Team', 'Player', 'Pen_Length', 'Penalty_Type', 'Time']\n",
      "['Team', 'Goalie', 'SV', 'GA', 'Minutes']\n",
      "['Team', 'Player', 'G', 'A', 'Pt.', '+/-', 'Sh', 'PIM', 'FOW', 'FOL', 'FO%']\n",
      "['Team', 'Line', 'Position', 'Player']\n",
      "['Team', 'goals1', 'goals2', 'goals3', 'goalsT', 'shots1', 'shots2', 'shots3', 'shotsT', 'Pen', 'PIM', 'PPG', 'PPO', 'FOW', 'FOL', 'FOW%', 'goals4', 'shots4']\n",
      "['Team', 'Player', 'Bl', 'Mi', 'SV', 'G', 'TSA', 'Bl', 'Mi', 'SV', 'G', 'TSA', 'Bl', 'Mi', 'SV', 'G', 'TSA', 'Bl', 'Mi', 'SV', 'G', 'TSA', 'BLKs', 'FO']\n"
     ]
    },
    {
     "name": "stderr",
     "output_type": "stream",
     "text": [
      "Scraping games:  42%|████▏     | 86/207 [03:55<07:53,  3.91s/it]"
     ]
    },
    {
     "name": "stdout",
     "output_type": "stream",
     "text": [
      "Number of DataFrames: 8\n",
      "Number of table names: 8\n",
      "['Day', 'Date', 'Conference', 'Details', 'Location', 'Ref1', 'Ref2', 'Asst_Ref1', 'Asst_Ref2', 'Attendance']\n",
      "['Period', 'Team', 'PP', 'Player', 'Player_Goals', 'Assist1', 'Assist2', 'Time']\n",
      "['Period', 'Team', 'Player', 'Pen_Length', 'Penalty_Type', 'Time']\n",
      "['Team', 'Goalie', 'SV', 'GA', 'Minutes']\n",
      "['Team', 'Player', 'G', 'A', 'Pt.', '+/-', 'Sh', 'PIM', 'FOW', 'FOL', 'FO%']\n",
      "['Team', 'Line', 'Position', 'Player']\n",
      "['Team', 'goals1', 'goals2', 'goals3', 'goalsT', 'shots1', 'shots2', 'shots3', 'shotsT', 'Pen', 'PIM', 'PPG', 'PPO', 'FOW', 'FOL', 'FOW%', 'goals4', 'shots4']\n",
      "['Team', 'Player', 'Bl', 'Mi', 'SV', 'G', 'TSA', 'Bl', 'Mi', 'SV', 'G', 'TSA', 'Bl', 'Mi', 'SV', 'G', 'TSA', 'Bl', 'Mi', 'SV', 'G', 'TSA', 'BLKs', 'FO']\n"
     ]
    },
    {
     "name": "stderr",
     "output_type": "stream",
     "text": [
      "Scraping games:  42%|████▏     | 87/207 [03:58<07:00,  3.50s/it]"
     ]
    },
    {
     "name": "stdout",
     "output_type": "stream",
     "text": [
      "Number of DataFrames: 8\n",
      "Number of table names: 8\n",
      "['Day', 'Date', 'Conference', 'Details', 'Location', 'Ref1', 'Ref2', 'Asst_Ref1', 'Asst_Ref2', 'Attendance']\n",
      "['Period', 'Team', 'PP', 'Player', 'Player_Goals', 'Assist1', 'Assist2', 'Time']\n",
      "['Period', 'Team', 'Player', 'Pen_Length', 'Penalty_Type', 'Time']\n",
      "['Team', 'Goalie', 'SV', 'GA', 'Minutes']\n",
      "['Team', 'Player', 'G', 'A', 'Pt.', '+/-', 'Sh', 'PIM', 'FOW', 'FOL', 'FO%']\n",
      "['Team', 'Line', 'Position', 'Player']\n",
      "['Team', 'goals1', 'goals2', 'goals3', 'goalsT', 'shots1', 'shots2', 'shots3', 'shotsT', 'Pen', 'PIM', 'PPG', 'PPO', 'FOW', 'FOL', 'FOW%', 'goals4', 'shots4']\n",
      "['Team', 'Player', 'Bl', 'Mi', 'SV', 'G', 'TSA', 'Bl', 'Mi', 'SV', 'G', 'TSA', 'Bl', 'Mi', 'SV', 'G', 'TSA', 'Bl', 'Mi', 'SV', 'G', 'TSA', 'BLKs', 'FO']\n"
     ]
    },
    {
     "name": "stderr",
     "output_type": "stream",
     "text": [
      "Scraping games:  43%|████▎     | 88/207 [04:00<06:21,  3.20s/it]"
     ]
    },
    {
     "name": "stdout",
     "output_type": "stream",
     "text": [
      "Number of DataFrames: 8\n",
      "Number of table names: 8\n",
      "['Day', 'Date', 'Conference', 'Details', 'Location', 'Ref1', 'Ref2', 'Asst_Ref1', 'Asst_Ref2', 'Attendance']\n",
      "['Period', 'Team', 'PP', 'Player', 'Player_Goals', 'Assist1', 'Assist2', 'Time']\n",
      "['Period', 'Team', 'Player', 'Pen_Length', 'Penalty_Type', 'Time']\n",
      "['Team', 'Goalie', 'SV', 'GA', 'Minutes']\n",
      "['Team', 'Player', 'G', 'A', 'Pt.', '+/-', 'Sh', 'PIM', 'FOW', 'FOL', 'FO%']\n",
      "[]\n",
      "['Team', 'goals1', 'goals2', 'goals3', 'goalsT', 'shots1', 'shots2', 'shots3', 'shotsT', 'Pen', 'PIM', 'PPG', 'PPO', 'FOW', 'FOL', 'FOW%', 'goals4', 'shots4']\n",
      "['Team', 'Player', 'Bl', 'Mi', 'SV', 'G', 'TSA', 'Bl', 'Mi', 'SV', 'G', 'TSA', 'Bl', 'Mi', 'SV', 'G', 'TSA', 'Bl', 'Mi', 'SV', 'G', 'TSA', 'BLKs', 'FO']\n"
     ]
    },
    {
     "name": "stderr",
     "output_type": "stream",
     "text": [
      "Scraping games:  43%|████▎     | 89/207 [04:03<05:50,  2.97s/it]"
     ]
    },
    {
     "name": "stdout",
     "output_type": "stream",
     "text": [
      "Number of DataFrames: 8\n",
      "Number of table names: 8\n",
      "['Day', 'Date', 'Conference', 'Details', 'Location', 'Ref1', 'Ref2', 'Asst_Ref1', 'Asst_Ref2', 'Attendance']\n",
      "['Period', 'Team', 'PP', 'Player', 'Player_Goals', 'Assist1', 'Assist2', 'Time']\n",
      "['Period', 'Team', 'Player', 'Pen_Length', 'Penalty_Type', 'Time']\n",
      "['Team', 'Goalie', 'SV', 'GA', 'Minutes']\n",
      "['Team', 'Player', 'G', 'A', 'Pt.', '+/-', 'Sh', 'PIM', 'FOW', 'FOL', 'FO%']\n",
      "['Team', 'Line', 'Position', 'Player']\n",
      "['Team', 'goals1', 'goals2', 'goals3', 'goalsT', 'shots1', 'shots2', 'shots3', 'shotsT', 'Pen', 'PIM', 'PPG', 'PPO', 'FOW', 'FOL', 'FOW%', 'goals4', 'shots4']\n",
      "['Team', 'Player', 'Bl', 'Mi', 'SV', 'G', 'TSA', 'Bl', 'Mi', 'SV', 'G', 'TSA', 'Bl', 'Mi', 'SV', 'G', 'TSA', 'Bl', 'Mi', 'SV', 'G', 'TSA', 'BLKs', 'FO']\n"
     ]
    },
    {
     "name": "stderr",
     "output_type": "stream",
     "text": [
      "Scraping games:  43%|████▎     | 90/207 [04:05<05:33,  2.85s/it]"
     ]
    },
    {
     "name": "stdout",
     "output_type": "stream",
     "text": [
      "Number of DataFrames: 8\n",
      "Number of table names: 8\n",
      "['Day', 'Date', 'Conference', 'Details', 'Location', 'Ref1', 'Ref2', 'Asst_Ref1', 'Asst_Ref2', 'Attendance']\n",
      "['Period', 'Team', 'PP', 'Player', 'Player_Goals', 'Assist1', 'Assist2', 'Time']\n",
      "['Period', 'Team', 'Player', 'Pen_Length', 'Penalty_Type', 'Time']\n",
      "['Team', 'Goalie', 'SV', 'GA', 'Minutes']\n",
      "['Team', 'Player', 'G', 'A', 'Pt.', '+/-', 'Sh', 'PIM', 'FOW', 'FOL', 'FO%']\n",
      "['Team', 'Line', 'Position', 'Player']\n",
      "['Team', 'goals1', 'goals2', 'goals3', 'goalsT', 'shots1', 'shots2', 'shots3', 'shotsT', 'Pen', 'PIM', 'PPG', 'PPO', 'FOW', 'FOL', 'FOW%', 'goals4', 'shots4']\n",
      "['Team', 'Player', 'Bl', 'Mi', 'SV', 'G', 'TSA', 'Bl', 'Mi', 'SV', 'G', 'TSA', 'Bl', 'Mi', 'SV', 'G', 'TSA', 'Bl', 'Mi', 'SV', 'G', 'TSA', 'BLKs', 'FO']\n"
     ]
    },
    {
     "name": "stderr",
     "output_type": "stream",
     "text": [
      "Scraping games:  44%|████▍     | 91/207 [04:08<05:22,  2.78s/it]"
     ]
    },
    {
     "name": "stdout",
     "output_type": "stream",
     "text": [
      "Number of DataFrames: 8\n",
      "Number of table names: 8\n",
      "['Day', 'Date', 'Conference', 'Details', 'Location', 'Ref1', 'Ref2', 'Asst_Ref1', 'Asst_Ref2', 'Attendance']\n",
      "['Period', 'Team', 'PP', 'Player', 'Player_Goals', 'Assist1', 'Assist2', 'Time']\n",
      "['Period', 'Team', 'Player', 'Pen_Length', 'Penalty_Type', 'Time']\n",
      "['Team', 'Goalie', 'SV', 'GA', 'Minutes']\n",
      "['Team', 'Player', 'G', 'A', 'Pt.', '+/-', 'Sh', 'PIM', 'FOW', 'FOL', 'FO%']\n",
      "['Team', 'Line', 'Position', 'Player']\n",
      "['Team', 'goals1', 'goals2', 'goals3', 'goals4', 'goalsT', 'shots1', 'shots2', 'shots3', 'shots4', 'shotsT', 'Pen', 'PIM', 'PPG', 'PPO', 'FOW', 'FOL', 'FOW%']\n",
      "['Team', 'Player', 'Bl', 'Mi', 'SV', 'G', 'TSA', 'Bl', 'Mi', 'SV', 'G', 'TSA', 'Bl', 'Mi', 'SV', 'G', 'TSA', 'Bl', 'Mi', 'SV', 'G', 'TSA', 'BLKs', 'FO']\n"
     ]
    },
    {
     "name": "stderr",
     "output_type": "stream",
     "text": [
      "Scraping games:  44%|████▍     | 92/207 [04:10<05:08,  2.68s/it]"
     ]
    },
    {
     "name": "stdout",
     "output_type": "stream",
     "text": [
      "Number of DataFrames: 8\n",
      "Number of table names: 8\n",
      "['Day', 'Date', 'Conference', 'Details', 'Location', 'Ref1', 'Ref2', 'Asst_Ref1', 'Asst_Ref2', 'Attendance']\n",
      "['Period', 'Team', 'PP', 'Player', 'Player_Goals', 'Assist1', 'Assist2', 'Time']\n",
      "['Period', 'Team', 'Player', 'Pen_Length', 'Penalty_Type', 'Time']\n",
      "['Team', 'Goalie', 'SV', 'GA', 'Minutes']\n",
      "['Team', 'Player', 'G', 'A', 'Pt.', '+/-', 'Sh', 'PIM', 'FOW', 'FOL', 'FO%']\n",
      "['Team', 'Line', 'Position', 'Player']\n",
      "['Team', 'goals1', 'goals2', 'goals3', 'goalsT', 'shots1', 'shots2', 'shots3', 'shotsT', 'Pen', 'PIM', 'PPG', 'PPO', 'FOW', 'FOL', 'FOW%', 'goals4', 'shots4']\n",
      "['Team', 'Player', 'Bl', 'Mi', 'SV', 'G', 'TSA', 'Bl', 'Mi', 'SV', 'G', 'TSA', 'Bl', 'Mi', 'SV', 'G', 'TSA', 'Bl', 'Mi', 'SV', 'G', 'TSA', 'BLKs', 'FO']\n"
     ]
    },
    {
     "name": "stderr",
     "output_type": "stream",
     "text": [
      "Scraping games:  45%|████▍     | 93/207 [04:13<05:10,  2.72s/it]"
     ]
    },
    {
     "name": "stdout",
     "output_type": "stream",
     "text": [
      "Number of DataFrames: 8\n",
      "Number of table names: 8\n",
      "['Day', 'Date', 'Conference', 'Details', 'Location', 'Ref1', 'Ref2', 'Asst_Ref1', 'Asst_Ref2', 'Attendance']\n",
      "['Period', 'Team', 'PP', 'Player', 'Player_Goals', 'Assist1', 'Assist2', 'Time']\n",
      "['Period', 'Team', 'Player', 'Pen_Length', 'Penalty_Type', 'Time']\n",
      "['Team', 'Goalie', 'SV', 'GA', 'Minutes']\n",
      "['Team', 'Player', 'G', 'A', 'Pt.', '+/-', 'Sh', 'PIM', 'FOW', 'FOL', 'FO%']\n",
      "['Team', 'Line', 'Position', 'Player']\n",
      "['Team', 'goals1', 'goals2', 'goals3', 'goalsT', 'shots1', 'shots2', 'shots3', 'shotsT', 'Pen', 'PIM', 'PPG', 'PPO', 'FOW', 'FOL', 'FOW%', 'goals4', 'shots4']\n",
      "['Team', 'Player', 'Bl', 'Mi', 'SV', 'G', 'TSA', 'Bl', 'Mi', 'SV', 'G', 'TSA', 'Bl', 'Mi', 'SV', 'G', 'TSA', 'Bl', 'Mi', 'SV', 'G', 'TSA', 'BLKs', 'FO']\n"
     ]
    },
    {
     "name": "stderr",
     "output_type": "stream",
     "text": [
      "Scraping games:  45%|████▌     | 94/207 [04:16<05:03,  2.69s/it]"
     ]
    },
    {
     "name": "stdout",
     "output_type": "stream",
     "text": [
      "Number of DataFrames: 8\n",
      "Number of table names: 8\n",
      "['Day', 'Date', 'Conference', 'Details', 'Location', 'Ref1', 'Ref2', 'Asst_Ref1', 'Asst_Ref2', 'Attendance']\n",
      "['Period', 'Team', 'PP', 'Player', 'Player_Goals', 'Assist1', 'Assist2', 'Time']\n",
      "['Period', 'Team', 'Player', 'Pen_Length', 'Penalty_Type', 'Time']\n",
      "['Team', 'Goalie', 'SV', 'GA', 'Minutes']\n",
      "['Team', 'Player', 'G', 'A', 'Pt.', '+/-', 'Sh', 'PIM', 'FOW', 'FOL', 'FO%']\n",
      "['Team', 'Line', 'Position', 'Player']\n",
      "['Team', 'goals1', 'goals2', 'goals3', 'goalsT', 'shots1', 'shots2', 'shots3', 'shotsT', 'Pen', 'PIM', 'PPG', 'PPO', 'FOW', 'FOL', 'FOW%', 'goals4', 'shots4']\n",
      "['Team', 'Player', 'Bl', 'Mi', 'SV', 'G', 'TSA', 'Bl', 'Mi', 'SV', 'G', 'TSA', 'Bl', 'Mi', 'SV', 'G', 'TSA', 'Bl', 'Mi', 'SV', 'G', 'TSA', 'BLKs', 'FO']\n"
     ]
    },
    {
     "name": "stderr",
     "output_type": "stream",
     "text": [
      "Scraping games:  46%|████▌     | 95/207 [04:18<05:00,  2.68s/it]"
     ]
    },
    {
     "name": "stdout",
     "output_type": "stream",
     "text": [
      "Number of DataFrames: 8\n",
      "Number of table names: 8\n",
      "['Day', 'Date', 'Conference', 'Details', 'Location', 'Ref1', 'Ref2', 'Asst_Ref1', 'Asst_Ref2', 'Attendance']\n",
      "['Period', 'Team', 'PP', 'Player', 'Player_Goals', 'Assist1', 'Assist2', 'Time']\n",
      "['Period', 'Team', 'Player', 'Pen_Length', 'Penalty_Type', 'Time']\n",
      "['Team', 'Goalie', 'SV', 'GA', 'Minutes']\n",
      "['Team', 'Player', 'G', 'A', 'Pt.', '+/-', 'Sh', 'PIM', 'FOW', 'FOL', 'FO%']\n",
      "[]\n",
      "['Team', 'goals1', 'goals2', 'goals3', 'goalsT', 'shots1', 'shots2', 'shots3', 'shotsT', 'Pen', 'PIM', 'PPG', 'PPO', 'FOW', 'FOL', 'FOW%', 'goals4', 'shots4']\n",
      "['Team', 'Player', 'Bl', 'Mi', 'SV', 'G', 'TSA', 'Bl', 'Mi', 'SV', 'G', 'TSA', 'Bl', 'Mi', 'SV', 'G', 'TSA', 'Bl', 'Mi', 'SV', 'G', 'TSA', 'BLKs', 'FO']\n"
     ]
    },
    {
     "name": "stderr",
     "output_type": "stream",
     "text": [
      "Scraping games:  46%|████▋     | 96/207 [04:21<04:55,  2.66s/it]"
     ]
    },
    {
     "name": "stdout",
     "output_type": "stream",
     "text": [
      "Number of DataFrames: 8\n",
      "Number of table names: 8\n",
      "['Day', 'Date', 'Conference', 'Details', 'Location', 'Ref1', 'Ref2', 'Asst_Ref1', 'Asst_Ref2', 'Attendance']\n",
      "['Period', 'Team', 'PP', 'Player', 'Player_Goals', 'Assist1', 'Assist2', 'Time']\n",
      "['Period', 'Team', 'Player', 'Pen_Length', 'Penalty_Type', 'Time']\n",
      "['Team', 'Goalie', 'SV', 'GA', 'Minutes']\n",
      "['Team', 'Player', 'G', 'A', 'Pt.', '+/-', 'Sh', 'PIM', 'FOW', 'FOL', 'FO%']\n",
      "['Team', 'Line', 'Position', 'Player']\n",
      "['Team', 'goals1', 'goals2', 'goals3', 'goalsT', 'shots1', 'shots2', 'shots3', 'shotsT', 'Pen', 'PIM', 'PPG', 'PPO', 'FOW', 'FOL', 'FOW%', 'goals4', 'shots4']\n",
      "['Team', 'Player', 'Bl', 'Mi', 'SV', 'G', 'TSA', 'Bl', 'Mi', 'SV', 'G', 'TSA', 'Bl', 'Mi', 'SV', 'G', 'TSA', 'Bl', 'Mi', 'SV', 'G', 'TSA', 'BLKs', 'FO']\n"
     ]
    },
    {
     "name": "stderr",
     "output_type": "stream",
     "text": [
      "Scraping games:  47%|████▋     | 97/207 [04:24<04:50,  2.64s/it]"
     ]
    },
    {
     "name": "stdout",
     "output_type": "stream",
     "text": [
      "Number of DataFrames: 8\n",
      "Number of table names: 8\n",
      "['Day', 'Date', 'Conference', 'Details', 'Location', 'Ref1', 'Ref2', 'Asst_Ref1', 'Asst_Ref2', 'Attendance']\n",
      "['Period', 'Team', 'PP', 'Player', 'Player_Goals', 'Assist1', 'Assist2', 'Time']\n",
      "['Period', 'Team', 'Player', 'Pen_Length', 'Penalty_Type', 'Time']\n",
      "['Team', 'Goalie', 'SV', 'GA', 'Minutes']\n",
      "['Team', 'Player', 'G', 'A', 'Pt.', '+/-', 'Sh', 'PIM', 'FOW', 'FOL', 'FO%']\n",
      "['Team', 'Line', 'Position', 'Player']\n",
      "['Team', 'goals1', 'goals2', 'goals3', 'goalsT', 'shots1', 'shots2', 'shots3', 'shotsT', 'Pen', 'PIM', 'PPG', 'PPO', 'FOW', 'FOL', 'FOW%', 'goals4', 'shots4']\n",
      "['Team', 'Player', 'Bl', 'Mi', 'SV', 'G', 'TSA', 'Bl', 'Mi', 'SV', 'G', 'TSA', 'Bl', 'Mi', 'SV', 'G', 'TSA', 'Bl', 'Mi', 'SV', 'G', 'TSA', 'BLKs', 'FO']\n"
     ]
    },
    {
     "name": "stderr",
     "output_type": "stream",
     "text": [
      "Scraping games:  47%|████▋     | 98/207 [04:26<04:51,  2.68s/it]"
     ]
    },
    {
     "name": "stdout",
     "output_type": "stream",
     "text": [
      "Number of DataFrames: 8\n",
      "Number of table names: 8\n",
      "['Day', 'Date', 'Conference', 'Details', 'Location', 'Ref1', 'Ref2', 'Asst_Ref1', 'Asst_Ref2', 'Attendance']\n",
      "['Period', 'Team', 'PP', 'Player', 'Player_Goals', 'Assist1', 'Assist2', 'Time']\n",
      "['Period', 'Team', 'Player', 'Pen_Length', 'Penalty_Type', 'Time']\n",
      "['Team', 'Goalie', 'SV', 'GA', 'Minutes']\n",
      "['Team', 'Player', 'G', 'A', 'Pt.', '+/-', 'Sh', 'PIM', 'FOW', 'FOL', 'FO%']\n",
      "['Team', 'Line', 'Position', 'Player']\n",
      "['Team', 'goals1', 'goals2', 'goals3', 'goalsT', 'shots1', 'shots2', 'shots3', 'shotsT', 'Pen', 'PIM', 'PPG', 'PPO', 'FOW', 'FOL', 'FOW%', 'goals4', 'shots4']\n",
      "['Team', 'Player', 'Bl', 'Mi', 'SV', 'G', 'TSA', 'Bl', 'Mi', 'SV', 'G', 'TSA', 'Bl', 'Mi', 'SV', 'G', 'TSA', 'Bl', 'Mi', 'SV', 'G', 'TSA', 'BLKs', 'FO']\n"
     ]
    },
    {
     "name": "stderr",
     "output_type": "stream",
     "text": [
      "Scraping games:  48%|████▊     | 99/207 [04:29<04:56,  2.75s/it]"
     ]
    },
    {
     "name": "stdout",
     "output_type": "stream",
     "text": [
      "Number of DataFrames: 8\n",
      "Number of table names: 8\n",
      "['Day', 'Date', 'Conference', 'Details', 'Location', 'Ref1', 'Ref2', 'Asst_Ref1', 'Asst_Ref2', 'Attendance']\n",
      "['Period', 'Team', 'PP', 'Player', 'Player_Goals', 'Assist1', 'Assist2', 'Time']\n",
      "['Period', 'Team', 'Player', 'Pen_Length', 'Penalty_Type', 'Time']\n",
      "['Team', 'Goalie', 'SV', 'GA', 'Minutes']\n",
      "['Team', 'Player', 'G', 'A', 'Pt.', '+/-', 'Sh', 'PIM', 'FOW', 'FOL', 'FO%']\n",
      "['Team', 'Line', 'Position', 'Player']\n",
      "['Team', 'goals1', 'goals2', 'goals3', 'goalsT', 'shots1', 'shots2', 'shots3', 'shotsT', 'Pen', 'PIM', 'PPG', 'PPO', 'FOW', 'FOL', 'FOW%', 'goals4', 'shots4']\n",
      "['Team', 'Player', 'Bl', 'Mi', 'SV', 'G', 'TSA', 'Bl', 'Mi', 'SV', 'G', 'TSA', 'Bl', 'Mi', 'SV', 'G', 'TSA', 'Bl', 'Mi', 'SV', 'G', 'TSA', 'BLKs', 'FO']\n"
     ]
    },
    {
     "name": "stderr",
     "output_type": "stream",
     "text": [
      "Scraping games:  50%|████▉     | 103/207 [04:36<03:39,  2.11s/it]"
     ]
    },
    {
     "name": "stdout",
     "output_type": "stream",
     "text": [
      "Number of DataFrames: 8\n",
      "Number of table names: 8\n",
      "['Day', 'Date', 'Conference', 'Details', 'Location', 'Ref1', 'Ref2', 'Asst_Ref1', 'Asst_Ref2', 'Attendance']\n",
      "['Period', 'Team', 'PP', 'Player', 'Player_Goals', 'Assist1', 'Assist2', 'Time']\n",
      "['Period', 'Team', 'Player', 'Pen_Length', 'Penalty_Type', 'Time']\n",
      "['Team', 'Goalie', 'SV', 'GA', 'Minutes']\n",
      "['Team', 'Player', 'G', 'A', 'Pt.', '+/-', 'Sh', 'PIM', 'FOW', 'FOL', 'FO%']\n",
      "['Team', 'Line', 'Position', 'Player']\n",
      "['Team', 'goals1', 'goals2', 'goals3', 'goalsT', 'shots1', 'shots2', 'shots3', 'shotsT', 'Pen', 'PIM', 'PPG', 'PPO', 'FOW', 'FOL', 'FOW%', 'goals4', 'shots4']\n",
      "['Team', 'Player', 'Bl', 'Mi', 'SV', 'G', 'TSA', 'Bl', 'Mi', 'SV', 'G', 'TSA', 'Bl', 'Mi', 'SV', 'G', 'TSA', 'Bl', 'Mi', 'SV', 'G', 'TSA', 'BLKs', 'FO']\n"
     ]
    },
    {
     "name": "stderr",
     "output_type": "stream",
     "text": [
      "Scraping games:  50%|█████     | 104/207 [04:39<03:53,  2.26s/it]"
     ]
    },
    {
     "name": "stdout",
     "output_type": "stream",
     "text": [
      "Number of DataFrames: 8\n",
      "Number of table names: 8\n",
      "['Day', 'Date', 'Conference', 'Details', 'Location', 'Ref1', 'Ref2', 'Asst_Ref1', 'Asst_Ref2', 'Attendance']\n",
      "['Period', 'Team', 'PP', 'Player', 'Player_Goals', 'Assist1', 'Assist2', 'Time']\n",
      "['Period', 'Team', 'Player', 'Pen_Length', 'Penalty_Type', 'Time']\n",
      "['Team', 'Goalie', 'SV', 'GA', 'Minutes']\n",
      "['Team', 'Player', 'G', 'A', 'Pt.', '+/-', 'Sh', 'PIM', 'FOW', 'FOL', 'FO%']\n",
      "['Team', 'Line', 'Position', 'Player']\n",
      "['Team', 'goals1', 'goals2', 'goals3', 'goalsT', 'shots1', 'shots2', 'shots3', 'shotsT', 'Pen', 'PIM', 'PPG', 'PPO', 'FOW', 'FOL', 'FOW%', 'goals4', 'shots4']\n",
      "['Team', 'Player', 'Bl', 'Mi', 'SV', 'G', 'TSA', 'Bl', 'Mi', 'SV', 'G', 'TSA', 'Bl', 'Mi', 'SV', 'G', 'TSA', 'Bl', 'Mi', 'SV', 'G', 'TSA', 'BLKs', 'FO']\n"
     ]
    },
    {
     "name": "stderr",
     "output_type": "stream",
     "text": [
      "Scraping games:  51%|█████     | 105/207 [04:41<04:02,  2.38s/it]"
     ]
    },
    {
     "name": "stdout",
     "output_type": "stream",
     "text": [
      "Number of DataFrames: 8\n",
      "Number of table names: 8\n",
      "['Day', 'Date', 'Conference', 'Details', 'Location', 'Ref1', 'Ref2', 'Asst_Ref1', 'Asst_Ref2', 'Attendance']\n",
      "['Period', 'Team', 'PP', 'Player', 'Player_Goals', 'Assist1', 'Assist2', 'Time']\n",
      "['Period', 'Team', 'Player', 'Pen_Length', 'Penalty_Type', 'Time']\n",
      "['Team', 'Goalie', 'SV', 'GA', 'Minutes']\n",
      "['Team', 'Player', 'G', 'A', 'Pt.', '+/-', 'Sh', 'PIM', 'FOW', 'FOL', 'FO%']\n",
      "['Team', 'Line', 'Position', 'Player']\n",
      "['Team', 'goals1', 'goals2', 'goals3', 'goalsT', 'shots1', 'shots2', 'shots3', 'shotsT', 'Pen', 'PIM', 'PPG', 'PPO', 'FOW', 'FOL', 'FOW%', 'goals4', 'shots4']\n",
      "['Team', 'Player', 'Bl', 'Mi', 'SV', 'G', 'TSA', 'Bl', 'Mi', 'SV', 'G', 'TSA', 'Bl', 'Mi', 'SV', 'G', 'TSA', 'Bl', 'Mi', 'SV', 'G', 'TSA', 'BLKs', 'FO']\n"
     ]
    },
    {
     "name": "stderr",
     "output_type": "stream",
     "text": [
      "Scraping games:  51%|█████     | 106/207 [04:44<04:06,  2.44s/it]"
     ]
    },
    {
     "name": "stdout",
     "output_type": "stream",
     "text": [
      "Number of DataFrames: 8\n",
      "Number of table names: 8\n",
      "['Day', 'Date', 'Conference', 'Details', 'Location', 'Ref1', 'Ref2', 'Asst_Ref1', 'Asst_Ref2', 'Attendance']\n",
      "['Period', 'Team', 'PP', 'Player', 'Player_Goals', 'Assist1', 'Assist2', 'Time']\n",
      "['Period', 'Team', 'Player', 'Pen_Length', 'Penalty_Type', 'Time']\n",
      "['Team', 'Goalie', 'SV', 'GA', 'Minutes']\n",
      "['Team', 'Player', 'G', 'A', 'Pt.', '+/-', 'Sh', 'PIM', 'FOW', 'FOL', 'FO%']\n",
      "['Team', 'Line', 'Position', 'Player']\n",
      "['Team', 'goals1', 'goals2', 'goals3', 'goalsT', 'shots1', 'shots2', 'shots3', 'shotsT', 'Pen', 'PIM', 'PPG', 'PPO', 'FOW', 'FOL', 'FOW%', 'goals4', 'shots4']\n",
      "['Team', 'Player', 'Bl', 'Mi', 'SV', 'G', 'TSA', 'Bl', 'Mi', 'SV', 'G', 'TSA', 'Bl', 'Mi', 'SV', 'G', 'TSA', 'Bl', 'Mi', 'SV', 'G', 'TSA', 'BLKs', 'FO']\n"
     ]
    },
    {
     "name": "stderr",
     "output_type": "stream",
     "text": [
      "Scraping games:  52%|█████▏    | 107/207 [04:47<04:13,  2.53s/it]"
     ]
    },
    {
     "name": "stdout",
     "output_type": "stream",
     "text": [
      "Number of DataFrames: 8\n",
      "Number of table names: 8\n",
      "['Day', 'Date', 'Conference', 'Details', 'Location', 'Ref1', 'Ref2', 'Asst_Ref1', 'Asst_Ref2', 'Attendance']\n",
      "['Period', 'Team', 'PP', 'Player', 'Player_Goals', 'Assist1', 'Assist2', 'Time']\n",
      "['Period', 'Team', 'Player', 'Pen_Length', 'Penalty_Type', 'Time']\n",
      "['Team', 'Goalie', 'SV', 'GA', 'Minutes']\n",
      "['Team', 'Player', 'G', 'A', 'Pt.', '+/-', 'Sh', 'PIM', 'FOW', 'FOL', 'FO%']\n",
      "['Team', 'Line', 'Position', 'Player']\n",
      "['Team', 'goals1', 'goals2', 'goals3', 'goalsT', 'shots1', 'shots2', 'shots3', 'shotsT', 'Pen', 'PIM', 'PPG', 'PPO', 'FOW', 'FOL', 'FOW%', 'goals4', 'shots4']\n",
      "['Team', 'Player', 'Bl', 'Mi', 'SV', 'G', 'TSA', 'Bl', 'Mi', 'SV', 'G', 'TSA', 'Bl', 'Mi', 'SV', 'G', 'TSA', 'Bl', 'Mi', 'SV', 'G', 'TSA', 'BLKs', 'FO']\n"
     ]
    },
    {
     "name": "stderr",
     "output_type": "stream",
     "text": [
      "Scraping games:  52%|█████▏    | 108/207 [04:49<04:14,  2.57s/it]"
     ]
    },
    {
     "name": "stdout",
     "output_type": "stream",
     "text": [
      "Number of DataFrames: 8\n",
      "Number of table names: 8\n",
      "['Day', 'Date', 'Conference', 'Details', 'Location', 'Ref1', 'Ref2', 'Asst_Ref1', 'Asst_Ref2', 'Attendance']\n",
      "['Period', 'Team', 'PP', 'Player', 'Player_Goals', 'Assist1', 'Assist2', 'Time']\n",
      "['Period', 'Team', 'Player', 'Pen_Length', 'Penalty_Type', 'Time']\n",
      "['Team', 'Goalie', 'SV', 'GA', 'Minutes']\n",
      "['Team', 'Player', 'G', 'A', 'Pt.', '+/-', 'Sh', 'PIM', 'FOW', 'FOL', 'FO%']\n",
      "['Team', 'Line', 'Position', 'Player']\n",
      "['Team', 'goals1', 'goals2', 'goals3', 'goalsT', 'shots1', 'shots2', 'shots3', 'shotsT', 'Pen', 'PIM', 'PPG', 'PPO', 'FOW', 'FOL', 'FOW%', 'goals4', 'shots4']\n",
      "['Team', 'Player', 'Bl', 'Mi', 'SV', 'G', 'TSA', 'Bl', 'Mi', 'SV', 'G', 'TSA', 'Bl', 'Mi', 'SV', 'G', 'TSA', 'Bl', 'Mi', 'SV', 'G', 'TSA', 'BLKs', 'FO']\n"
     ]
    },
    {
     "name": "stderr",
     "output_type": "stream",
     "text": [
      "Scraping games:  53%|█████▎    | 109/207 [04:52<04:13,  2.58s/it]"
     ]
    },
    {
     "name": "stdout",
     "output_type": "stream",
     "text": [
      "Number of DataFrames: 8\n",
      "Number of table names: 8\n",
      "['Day', 'Date', 'Conference', 'Details', 'Location', 'Ref1', 'Ref2', 'Asst_Ref1', 'Asst_Ref2', 'Attendance']\n",
      "['Period', 'Team', 'PP', 'Player', 'Player_Goals', 'Assist1', 'Assist2', 'Time']\n",
      "['Period', 'Team', 'Player', 'Pen_Length', 'Penalty_Type', 'Time']\n",
      "['Team', 'Goalie', 'SV', 'GA', 'Minutes']\n",
      "['Team', 'Player', 'G', 'A', 'Pt.', '+/-', 'Sh', 'PIM', 'FOW', 'FOL', 'FO%']\n",
      "['Team', 'Line', 'Position', 'Player']\n",
      "['Team', 'goals1', 'goals2', 'goals3', 'goalsT', 'shots1', 'shots2', 'shots3', 'shotsT', 'Pen', 'PIM', 'PPG', 'PPO', 'FOW', 'FOL', 'FOW%', 'goals4', 'shots4']\n",
      "['Team', 'Player', 'Bl', 'Mi', 'SV', 'G', 'TSA', 'Bl', 'Mi', 'SV', 'G', 'TSA', 'Bl', 'Mi', 'SV', 'G', 'TSA', 'Bl', 'Mi', 'SV', 'G', 'TSA', 'BLKs', 'FO']\n"
     ]
    },
    {
     "name": "stderr",
     "output_type": "stream",
     "text": [
      "Scraping games:  53%|█████▎    | 110/207 [04:55<04:15,  2.63s/it]"
     ]
    },
    {
     "name": "stdout",
     "output_type": "stream",
     "text": [
      "Number of DataFrames: 8\n",
      "Number of table names: 8\n",
      "['Day', 'Date', 'Conference', 'Details', 'Location', 'Ref1', 'Ref2', 'Asst_Ref1', 'Asst_Ref2', 'Attendance']\n",
      "['Period', 'Team', 'PP', 'Player', 'Player_Goals', 'Assist1', 'Assist2', 'Time']\n",
      "['Period', 'Team', 'Player', 'Pen_Length', 'Penalty_Type', 'Time']\n",
      "['Team', 'Goalie', 'SV', 'GA', 'Minutes']\n",
      "['Team', 'Player', 'G', 'A', 'Pt.', '+/-', 'Sh', 'PIM', 'FOW', 'FOL', 'FO%']\n",
      "['Team', 'Line', 'Position', 'Player']\n",
      "['Team', 'goals1', 'goals2', 'goals3', 'goalsT', 'shots1', 'shots2', 'shots3', 'shotsT', 'Pen', 'PIM', 'PPG', 'PPO', 'FOW', 'FOL', 'FOW%', 'goals4', 'shots4']\n",
      "['Team', 'Player', 'Bl', 'Mi', 'SV', 'G', 'TSA', 'Bl', 'Mi', 'SV', 'G', 'TSA', 'Bl', 'Mi', 'SV', 'G', 'TSA', 'Bl', 'Mi', 'SV', 'G', 'TSA', 'BLKs', 'FO']\n"
     ]
    },
    {
     "name": "stderr",
     "output_type": "stream",
     "text": [
      "Scraping games:  54%|█████▎    | 111/207 [04:57<04:11,  2.62s/it]"
     ]
    },
    {
     "name": "stdout",
     "output_type": "stream",
     "text": [
      "Number of DataFrames: 8\n",
      "Number of table names: 8\n",
      "['Day', 'Date', 'Conference', 'Details', 'Location', 'Ref1', 'Ref2', 'Asst_Ref1', 'Asst_Ref2', 'Attendance']\n",
      "['Period', 'Team', 'PP', 'Player', 'Player_Goals', 'Assist1', 'Assist2', 'Time']\n",
      "['Period', 'Team', 'Player', 'Pen_Length', 'Penalty_Type', 'Time']\n",
      "['Team', 'Goalie', 'SV', 'GA', 'Minutes']\n",
      "['Team', 'Player', 'G', 'A', 'Pt.', '+/-', 'Sh', 'PIM', 'FOW', 'FOL', 'FO%']\n",
      "['Team', 'Line', 'Position', 'Player']\n",
      "['Team', 'goals1', 'goals2', 'goals3', 'goalsT', 'shots1', 'shots2', 'shots3', 'shotsT', 'Pen', 'PIM', 'PPG', 'PPO', 'FOW', 'FOL', 'FOW%', 'goals4', 'shots4']\n",
      "['Team', 'Player', 'Bl', 'Mi', 'SV', 'G', 'TSA', 'Bl', 'Mi', 'SV', 'G', 'TSA', 'Bl', 'Mi', 'SV', 'G', 'TSA', 'Bl', 'Mi', 'SV', 'G', 'TSA', 'BLKs', 'FO']\n"
     ]
    },
    {
     "name": "stderr",
     "output_type": "stream",
     "text": [
      "Scraping games:  54%|█████▍    | 112/207 [05:00<04:08,  2.62s/it]"
     ]
    },
    {
     "name": "stdout",
     "output_type": "stream",
     "text": [
      "Number of DataFrames: 8\n",
      "Number of table names: 8\n",
      "['Day', 'Date', 'Conference', 'Details', 'Location', 'Ref1', 'Ref2', 'Asst_Ref1', 'Asst_Ref2', 'Attendance']\n",
      "['Period', 'Team', 'PP', 'Player', 'Player_Goals', 'Assist1', 'Assist2', 'Time']\n",
      "['Period', 'Team', 'Player', 'Pen_Length', 'Penalty_Type', 'Time']\n",
      "['Team', 'Goalie', 'SV', 'GA', 'Minutes']\n",
      "['Team', 'Player', 'G', 'A', 'Pt.', '+/-', 'Sh', 'PIM', 'FOW', 'FOL', 'FO%']\n",
      "['Team', 'Line', 'Position', 'Player']\n",
      "['Team', 'goals1', 'goals2', 'goals3', 'goalsT', 'shots1', 'shots2', 'shots3', 'shotsT', 'Pen', 'PIM', 'PPG', 'PPO', 'FOW', 'FOL', 'FOW%', 'goals4', 'shots4']\n",
      "['Team', 'Player', 'Bl', 'Mi', 'SV', 'G', 'TSA', 'Bl', 'Mi', 'SV', 'G', 'TSA', 'Bl', 'Mi', 'SV', 'G', 'TSA', 'Bl', 'Mi', 'SV', 'G', 'TSA', 'BLKs', 'FO']\n"
     ]
    },
    {
     "name": "stderr",
     "output_type": "stream",
     "text": [
      "Scraping games:  55%|█████▍    | 113/207 [05:03<04:16,  2.73s/it]"
     ]
    },
    {
     "name": "stdout",
     "output_type": "stream",
     "text": [
      "Number of DataFrames: 8\n",
      "Number of table names: 8\n",
      "['Day', 'Date', 'Conference', 'Details', 'Location', 'Ref1', 'Ref2', 'Asst_Ref1', 'Asst_Ref2', 'Attendance']\n",
      "['Period', 'Team', 'PP', 'Player', 'Player_Goals', 'Assist1', 'Assist2', 'Time']\n",
      "['Period', 'Team', 'Player', 'Pen_Length', 'Penalty_Type', 'Time']\n",
      "['Team', 'Goalie', 'SV', 'GA', 'Minutes']\n",
      "['Team', 'Player', 'G', 'A', 'Pt.', '+/-', 'Sh', 'PIM', 'FOW', 'FOL', 'FO%']\n",
      "['Team', 'Line', 'Position', 'Player']\n",
      "['Team', 'goals1', 'goals2', 'goals3', 'goalsT', 'shots1', 'shots2', 'shots3', 'shotsT', 'Pen', 'PIM', 'PPG', 'PPO', 'FOW', 'FOL', 'FOW%', 'goals4', 'shots4']\n",
      "['Team', 'Player', 'Bl', 'Mi', 'SV', 'G', 'TSA', 'Bl', 'Mi', 'SV', 'G', 'TSA', 'Bl', 'Mi', 'SV', 'G', 'TSA', 'Bl', 'Mi', 'SV', 'G', 'TSA', 'BLKs', 'FO']\n"
     ]
    },
    {
     "name": "stderr",
     "output_type": "stream",
     "text": [
      "Scraping games:  55%|█████▌    | 114/207 [05:06<04:23,  2.83s/it]"
     ]
    },
    {
     "name": "stdout",
     "output_type": "stream",
     "text": [
      "Number of DataFrames: 8\n",
      "Number of table names: 8\n",
      "['Day', 'Date', 'Conference', 'Details', 'Location', 'Ref1', 'Ref2', 'Asst_Ref1', 'Asst_Ref2', 'Attendance']\n",
      "['Period', 'Team', 'PP', 'Player', 'Player_Goals', 'Assist1', 'Assist2', 'Time']\n",
      "['Period', 'Team', 'Player', 'Pen_Length', 'Penalty_Type', 'Time']\n",
      "['Team', 'Goalie', 'SV', 'GA', 'Minutes']\n",
      "['Team', 'Player', 'G', 'A', 'Pt.', '+/-', 'Sh', 'PIM', 'FOW', 'FOL', 'FO%']\n",
      "['Team', 'Line', 'Position', 'Player']\n",
      "['Team', 'goals1', 'goals2', 'goals3', 'goalsT', 'shots1', 'shots2', 'shots3', 'shotsT', 'Pen', 'PIM', 'PPG', 'PPO', 'FOW', 'FOL', 'FOW%', 'goals4', 'shots4']\n",
      "['Team', 'Player', 'Bl', 'Mi', 'SV', 'G', 'TSA', 'Bl', 'Mi', 'SV', 'G', 'TSA', 'Bl', 'Mi', 'SV', 'G', 'TSA', 'Bl', 'Mi', 'SV', 'G', 'TSA', 'BLKs', 'FO']\n",
      "Number of DataFrames: 8\n",
      "Number of table names: 8\n",
      "['Day', 'Date', 'Conference', 'Details', 'Location', 'Ref1', 'Ref2', 'Asst_Ref1', 'Asst_Ref2', 'Attendance']\n",
      "['Period', 'Team', 'PP', 'Player', 'Player_Goals', 'Assist1', 'Assist2', 'Time']\n",
      "['Period', 'Team', 'Player', 'Pen_Length', 'Penalty_Type', 'Time']\n",
      "['Team', 'Goalie', 'SV', 'GA', 'Minutes']\n",
      "['Team', 'Player', 'G', 'A', 'Pt.', '+/-', 'Sh', 'PIM', 'FOW', 'FOL', 'FO%']\n",
      "['Team', 'Line', 'Position', 'Player']\n",
      "['Team', 'goals1', 'goals2', 'goals3', 'goalsT', 'shots1', 'shots2', 'shots3', 'shotsT', 'Pen', 'PIM', 'PPG', 'PPO', 'FOW', 'FOL', 'FOW%', 'goals4', 'shots4']\n",
      "['Team', 'Player', 'Bl', 'Mi', 'SV', 'G', 'TSA', 'Bl', 'Mi', 'SV', 'G', 'TSA', 'Bl', 'Mi', 'SV', 'G', 'TSA', 'Bl', 'Mi', 'SV', 'G', 'TSA', 'BLKs', 'FO']\n"
     ]
    },
    {
     "name": "stderr",
     "output_type": "stream",
     "text": [
      "Scraping games:  56%|█████▌    | 116/207 [05:13<04:38,  3.06s/it]"
     ]
    },
    {
     "name": "stdout",
     "output_type": "stream",
     "text": [
      "Number of DataFrames: 8\n",
      "Number of table names: 8\n",
      "['Day', 'Date', 'Conference', 'Details', 'Location', 'Ref1', 'Ref2', 'Asst_Ref1', 'Asst_Ref2', 'Attendance']\n",
      "['Period', 'Team', 'PP', 'Player', 'Player_Goals', 'Assist1', 'Assist2', 'Time']\n",
      "['Period', 'Team', 'Player', 'Pen_Length', 'Penalty_Type', 'Time']\n",
      "['Team', 'Goalie', 'SV', 'GA', 'Minutes']\n",
      "['Team', 'Player', 'G', 'A', 'Pt.', '+/-', 'Sh', 'PIM', 'FOW', 'FOL', 'FO%']\n",
      "['Team', 'Line', 'Position', 'Player']\n",
      "['Team', 'goals1', 'goals2', 'goals3', 'goalsT', 'shots1', 'shots2', 'shots3', 'shotsT', 'Pen', 'PIM', 'PPG', 'PPO', 'FOW', 'FOL', 'FOW%', 'goals4', 'shots4']\n",
      "['Team', 'Player', 'Bl', 'Mi', 'SV', 'G', 'TSA', 'Bl', 'Mi', 'SV', 'G', 'TSA', 'Bl', 'Mi', 'SV', 'G', 'TSA', 'Bl', 'Mi', 'SV', 'G', 'TSA', 'BLKs', 'FO']\n"
     ]
    },
    {
     "name": "stderr",
     "output_type": "stream",
     "text": [
      "Scraping games:  57%|█████▋    | 117/207 [05:15<04:26,  2.96s/it]"
     ]
    },
    {
     "name": "stdout",
     "output_type": "stream",
     "text": [
      "Number of DataFrames: 8\n",
      "Number of table names: 8\n",
      "['Day', 'Date', 'Conference', 'Details', 'Location', 'Ref1', 'Ref2', 'Asst_Ref1', 'Asst_Ref2', 'Attendance']\n",
      "['Period', 'Team', 'PP', 'Player', 'Player_Goals', 'Assist1', 'Assist2', 'Time']\n",
      "['Period', 'Team', 'Player', 'Pen_Length', 'Penalty_Type', 'Time']\n",
      "['Team', 'Goalie', 'SV', 'GA', 'Minutes']\n",
      "['Team', 'Player', 'G', 'A', 'Pt.', '+/-', 'Sh', 'PIM', 'FOW', 'FOL', 'FO%']\n",
      "['Team', 'Line', 'Position', 'Player']\n",
      "['Team', 'goals1', 'goals2', 'goals3', 'goalsT', 'shots1', 'shots2', 'shots3', 'shotsT', 'Pen', 'PIM', 'PPG', 'PPO', 'FOW', 'FOL', 'FOW%', 'goals4', 'shots4']\n",
      "['Team', 'Player', 'Bl', 'Mi', 'SV', 'G', 'TSA', 'Bl', 'Mi', 'SV', 'G', 'TSA', 'Bl', 'Mi', 'SV', 'G', 'TSA', 'Bl', 'Mi', 'SV', 'G', 'TSA', 'BLKs', 'FO']\n"
     ]
    },
    {
     "name": "stderr",
     "output_type": "stream",
     "text": [
      "Scraping games:  57%|█████▋    | 118/207 [05:18<04:15,  2.87s/it]"
     ]
    },
    {
     "name": "stdout",
     "output_type": "stream",
     "text": [
      "Number of DataFrames: 8\n",
      "Number of table names: 8\n",
      "['Day', 'Date', 'Conference', 'Details', 'Location', 'Ref1', 'Ref2', 'Asst_Ref1', 'Asst_Ref2', 'Attendance']\n",
      "['Period', 'Team', 'PP', 'Player', 'Player_Goals', 'Assist1', 'Assist2', 'Time']\n",
      "['Period', 'Team', 'Player', 'Pen_Length', 'Penalty_Type', 'Time']\n",
      "['Team', 'Goalie', 'SV', 'GA', 'Minutes']\n",
      "['Team', 'Player', 'G', 'A', 'Pt.', '+/-', 'Sh', 'PIM', 'FOW', 'FOL', 'FO%']\n",
      "['Team', 'Line', 'Position', 'Player']\n",
      "['Team', 'goals1', 'goals2', 'goals3', 'goalsT', 'shots1', 'shots2', 'shots3', 'shotsT', 'Pen', 'PIM', 'PPG', 'PPO', 'FOW', 'FOL', 'FOW%', 'goals4', 'shots4']\n",
      "['Team', 'Player', 'Bl', 'Mi', 'SV', 'G', 'TSA', 'Bl', 'Mi', 'SV', 'G', 'TSA', 'Bl', 'Mi', 'SV', 'G', 'TSA', 'Bl', 'Mi', 'SV', 'G', 'TSA', 'BLKs', 'FO']\n"
     ]
    },
    {
     "name": "stderr",
     "output_type": "stream",
     "text": [
      "Scraping games:  57%|█████▋    | 119/207 [05:21<04:04,  2.77s/it]"
     ]
    },
    {
     "name": "stdout",
     "output_type": "stream",
     "text": [
      "Number of DataFrames: 8\n",
      "Number of table names: 8\n",
      "['Day', 'Date', 'Conference', 'Details', 'Location', 'Ref1', 'Ref2', 'Asst_Ref1', 'Asst_Ref2', 'Attendance']\n",
      "['Period', 'Team', 'PP', 'Player', 'Player_Goals', 'Assist1', 'Assist2', 'Time']\n",
      "['Period', 'Team', 'Player', 'Pen_Length', 'Penalty_Type', 'Time']\n",
      "['Team', 'Goalie', 'SV', 'GA', 'Minutes']\n",
      "['Team', 'Player', 'G', 'A', 'Pt.', '+/-', 'Sh', 'PIM', 'FOW', 'FOL', 'FO%']\n",
      "['Team', 'Line', 'Position', 'Player']\n",
      "['Team', 'goals1', 'goals2', 'goals3', 'goalsT', 'shots1', 'shots2', 'shots3', 'shotsT', 'Pen', 'PIM', 'PPG', 'PPO', 'FOW', 'FOL', 'FOW%', 'goals4', 'shots4']\n",
      "['Team', 'Player', 'Bl', 'Mi', 'SV', 'G', 'TSA', 'Bl', 'Mi', 'SV', 'G', 'TSA', 'Bl', 'Mi', 'SV', 'G', 'TSA', 'Bl', 'Mi', 'SV', 'G', 'TSA', 'BLKs', 'FO']\n"
     ]
    },
    {
     "name": "stderr",
     "output_type": "stream",
     "text": [
      "Scraping games:  58%|█████▊    | 120/207 [05:23<03:59,  2.76s/it]"
     ]
    },
    {
     "name": "stdout",
     "output_type": "stream",
     "text": [
      "Number of DataFrames: 8\n",
      "Number of table names: 8\n",
      "['Day', 'Date', 'Conference', 'Details', 'Location', 'Ref1', 'Ref2', 'Asst_Ref1', 'Asst_Ref2', 'Attendance']\n",
      "['Period', 'Team', 'PP', 'Player', 'Player_Goals', 'Assist1', 'Assist2', 'Time']\n",
      "['Period', 'Team', 'Player', 'Pen_Length', 'Penalty_Type', 'Time']\n",
      "['Team', 'Goalie', 'SV', 'GA', 'Minutes']\n",
      "['Team', 'Player', 'G', 'A', 'Pt.', '+/-', 'Sh', 'PIM', 'FOW', 'FOL', 'FO%']\n",
      "['Team', 'Line', 'Position', 'Player']\n",
      "['Team', 'goals1', 'goals2', 'goals3', 'goalsT', 'shots1', 'shots2', 'shots3', 'shotsT', 'Pen', 'PIM', 'PPG', 'PPO', 'FOW', 'FOL', 'FOW%', 'goals4', 'shots4']\n",
      "['Team', 'Player', 'Bl', 'Mi', 'SV', 'G', 'TSA', 'Bl', 'Mi', 'SV', 'G', 'TSA', 'Bl', 'Mi', 'SV', 'G', 'TSA', 'Bl', 'Mi', 'SV', 'G', 'TSA', 'BLKs', 'FO']\n"
     ]
    },
    {
     "name": "stderr",
     "output_type": "stream",
     "text": [
      "Scraping games:  58%|█████▊    | 121/207 [05:26<03:55,  2.74s/it]"
     ]
    },
    {
     "name": "stdout",
     "output_type": "stream",
     "text": [
      "Number of DataFrames: 8\n",
      "Number of table names: 8\n",
      "['Day', 'Date', 'Conference', 'Details', 'Location', 'Ref1', 'Ref2', 'Asst_Ref1', 'Asst_Ref2', 'Attendance']\n",
      "['Period', 'Team', 'PP', 'Player', 'Player_Goals', 'Assist1', 'Assist2', 'Time']\n",
      "['Period', 'Team', 'Player', 'Pen_Length', 'Penalty_Type', 'Time']\n",
      "['Team', 'Goalie', 'SV', 'GA', 'Minutes']\n",
      "['Team', 'Player', 'G', 'A', 'Pt.', '+/-', 'Sh', 'PIM', 'FOW', 'FOL', 'FO%']\n",
      "['Team', 'Line', 'Position', 'Player']\n",
      "['Team', 'goals1', 'goals2', 'goals3', 'goalsT', 'shots1', 'shots2', 'shots3', 'shotsT', 'Pen', 'PIM', 'PPG', 'PPO', 'FOW', 'FOL', 'FOW%', 'goals4', 'shots4']\n",
      "['Team', 'Player', 'Bl', 'Mi', 'SV', 'G', 'TSA', 'Bl', 'Mi', 'SV', 'G', 'TSA', 'Bl', 'Mi', 'SV', 'G', 'TSA', 'Bl', 'Mi', 'SV', 'G', 'TSA', 'BLKs', 'FO']\n"
     ]
    },
    {
     "name": "stderr",
     "output_type": "stream",
     "text": [
      "Scraping games:  59%|█████▉    | 122/207 [05:29<03:54,  2.75s/it]"
     ]
    },
    {
     "name": "stdout",
     "output_type": "stream",
     "text": [
      "Number of DataFrames: 8\n",
      "Number of table names: 8\n",
      "['Day', 'Date', 'Conference', 'Details', 'Location', 'Ref1', 'Ref2', 'Asst_Ref1', 'Asst_Ref2', 'Attendance']\n",
      "['Period', 'Team', 'PP', 'Player', 'Player_Goals', 'Assist1', 'Assist2', 'Time']\n",
      "['Period', 'Team', 'Player', 'Pen_Length', 'Penalty_Type', 'Time']\n",
      "['Team', 'Goalie', 'SV', 'GA', 'Minutes']\n",
      "['Team', 'Player', 'G', 'A', 'Pt.', '+/-', 'Sh', 'PIM', 'FOW', 'FOL', 'FO%']\n",
      "['Team', 'Line', 'Position', 'Player']\n",
      "['Team', 'goals1', 'goals2', 'goals3', 'goalsT', 'shots1', 'shots2', 'shots3', 'shotsT', 'Pen', 'PIM', 'PPG', 'PPO', 'FOW', 'FOL', 'FOW%', 'goals4', 'shots4']\n",
      "['Team', 'Player', 'Bl', 'Mi', 'SV', 'G', 'TSA', 'Bl', 'Mi', 'SV', 'G', 'TSA', 'Bl', 'Mi', 'SV', 'G', 'TSA', 'Bl', 'Mi', 'SV', 'G', 'TSA', 'BLKs', 'FO']\n"
     ]
    },
    {
     "name": "stderr",
     "output_type": "stream",
     "text": [
      "Scraping games:  59%|█████▉    | 123/207 [05:31<03:47,  2.71s/it]"
     ]
    },
    {
     "name": "stdout",
     "output_type": "stream",
     "text": [
      "Number of DataFrames: 8\n",
      "Number of table names: 8\n",
      "['Day', 'Date', 'Conference', 'Details', 'Location', 'Ref1', 'Ref2', 'Asst_Ref1', 'Asst_Ref2', 'Attendance']\n",
      "['Period', 'Team', 'PP', 'Player', 'Player_Goals', 'Assist1', 'Assist2', 'Time']\n",
      "['Period', 'Team', 'Player', 'Pen_Length', 'Penalty_Type', 'Time']\n",
      "['Team', 'Goalie', 'SV', 'GA', 'Minutes']\n",
      "['Team', 'Player', 'G', 'A', 'Pt.', '+/-', 'Sh', 'PIM', 'FOW', 'FOL', 'FO%']\n",
      "['Team', 'Line', 'Position', 'Player']\n",
      "['Team', 'goals1', 'goals2', 'goals3', 'goals4', 'goalsT', 'shots1', 'shots2', 'shots3', 'shots4', 'shotsT', 'Pen', 'PIM', 'PPG', 'PPO', 'FOW', 'FOL', 'FOW%']\n",
      "['Team', 'Player', 'Bl', 'Mi', 'SV', 'G', 'TSA', 'Bl', 'Mi', 'SV', 'G', 'TSA', 'Bl', 'Mi', 'SV', 'G', 'TSA', 'Bl', 'Mi', 'SV', 'G', 'TSA', 'BLKs', 'FO']\n"
     ]
    },
    {
     "name": "stderr",
     "output_type": "stream",
     "text": [
      "Scraping games:  60%|█████▉    | 124/207 [05:34<03:43,  2.69s/it]"
     ]
    },
    {
     "name": "stdout",
     "output_type": "stream",
     "text": [
      "Number of DataFrames: 8\n",
      "Number of table names: 8\n",
      "['Day', 'Date', 'Conference', 'Details', 'Location', 'Ref1', 'Ref2', 'Asst_Ref1', 'Asst_Ref2', 'Attendance']\n",
      "['Period', 'Team', 'PP', 'Player', 'Player_Goals', 'Assist1', 'Assist2', 'Time']\n",
      "['Period', 'Team', 'Player', 'Pen_Length', 'Penalty_Type', 'Time']\n",
      "['Team', 'Goalie', 'SV', 'GA', 'Minutes']\n",
      "['Team', 'Player', 'G', 'A', 'Pt.', '+/-', 'Sh', 'PIM', 'FOW', 'FOL', 'FO%']\n",
      "['Team', 'Line', 'Position', 'Player']\n",
      "['Team', 'goals1', 'goals2', 'goals3', 'goalsT', 'shots1', 'shots2', 'shots3', 'shotsT', 'Pen', 'PIM', 'PPG', 'PPO', 'FOW', 'FOL', 'FOW%', 'goals4', 'shots4']\n",
      "['Team', 'Player', 'Bl', 'Mi', 'SV', 'G', 'TSA', 'Bl', 'Mi', 'SV', 'G', 'TSA', 'Bl', 'Mi', 'SV', 'G', 'TSA', 'Bl', 'Mi', 'SV', 'G', 'TSA', 'BLKs', 'FO']\n"
     ]
    },
    {
     "name": "stderr",
     "output_type": "stream",
     "text": [
      "Scraping games:  60%|██████    | 125/207 [05:37<03:38,  2.66s/it]"
     ]
    },
    {
     "name": "stdout",
     "output_type": "stream",
     "text": [
      "Number of DataFrames: 8\n",
      "Number of table names: 8\n",
      "['Day', 'Date', 'Conference', 'Details', 'Location', 'Ref1', 'Ref2', 'Asst_Ref1', 'Asst_Ref2', 'Attendance']\n",
      "['Period', 'Team', 'PP', 'Player', 'Player_Goals', 'Assist1', 'Assist2', 'Time']\n",
      "['Period', 'Team', 'Player', 'Pen_Length', 'Penalty_Type', 'Time']\n",
      "['Team', 'Goalie', 'SV', 'GA', 'Minutes']\n",
      "['Team', 'Player', 'G', 'A', 'Pt.', '+/-', 'Sh', 'PIM', 'FOW', 'FOL', 'FO%']\n",
      "['Team', 'Line', 'Position', 'Player']\n",
      "['Team', 'goals1', 'goals2', 'goals3', 'goalsT', 'shots1', 'shots2', 'shots3', 'shotsT', 'Pen', 'PIM', 'PPG', 'PPO', 'FOW', 'FOL', 'FOW%', 'goals4', 'shots4']\n",
      "['Team', 'Player', 'Bl', 'Mi', 'SV', 'G', 'TSA', 'Bl', 'Mi', 'SV', 'G', 'TSA', 'Bl', 'Mi', 'SV', 'G', 'TSA', 'Bl', 'Mi', 'SV', 'G', 'TSA', 'BLKs', 'FO']\n"
     ]
    },
    {
     "name": "stderr",
     "output_type": "stream",
     "text": [
      "Scraping games:  61%|██████    | 126/207 [05:39<03:36,  2.67s/it]"
     ]
    },
    {
     "name": "stdout",
     "output_type": "stream",
     "text": [
      "Number of DataFrames: 8\n",
      "Number of table names: 8\n",
      "['Day', 'Date', 'Conference', 'Details', 'Location', 'Ref1', 'Ref2', 'Asst_Ref1', 'Asst_Ref2', 'Attendance']\n",
      "['Period', 'Team', 'PP', 'Player', 'Player_Goals', 'Assist1', 'Assist2', 'Time']\n",
      "['Period', 'Team', 'Player', 'Pen_Length', 'Penalty_Type', 'Time']\n",
      "['Team', 'Goalie', 'SV', 'GA', 'Minutes']\n",
      "['Team', 'Player', 'G', 'A', 'Pt.', '+/-', 'Sh', 'PIM', 'FOW', 'FOL', 'FO%']\n",
      "['Team', 'Line', 'Position', 'Player']\n",
      "['Team', 'goals1', 'goals2', 'goals3', 'goalsT', 'shots1', 'shots2', 'shots3', 'shotsT', 'Pen', 'PIM', 'PPG', 'PPO', 'FOW', 'FOL', 'FOW%', 'goals4', 'shots4']\n",
      "['Team', 'Player', 'Bl', 'Mi', 'SV', 'G', 'TSA', 'Bl', 'Mi', 'SV', 'G', 'TSA', 'Bl', 'Mi', 'SV', 'G', 'TSA', 'Bl', 'Mi', 'SV', 'G', 'TSA', 'BLKs', 'FO']\n"
     ]
    },
    {
     "name": "stderr",
     "output_type": "stream",
     "text": [
      "Scraping games:  61%|██████▏   | 127/207 [05:42<03:30,  2.63s/it]"
     ]
    },
    {
     "name": "stdout",
     "output_type": "stream",
     "text": [
      "Number of DataFrames: 8\n",
      "Number of table names: 8\n",
      "['Day', 'Date', 'Conference', 'Details', 'Location', 'Ref1', 'Ref2', 'Asst_Ref1', 'Asst_Ref2', 'Attendance']\n",
      "['Period', 'Team', 'PP', 'Player', 'Player_Goals', 'Assist1', 'Assist2', 'Time']\n",
      "['Period', 'Team', 'Player', 'Pen_Length', 'Penalty_Type', 'Time']\n",
      "['Team', 'Goalie', 'SV', 'GA', 'Minutes']\n",
      "['Team', 'Player', 'G', 'A', 'Pt.', '+/-', 'Sh', 'PIM', 'FOW', 'FOL', 'FO%']\n",
      "['Team', 'Line', 'Position', 'Player']\n",
      "['Team', 'goals1', 'goals2', 'goals3', 'goalsT', 'shots1', 'shots2', 'shots3', 'shotsT', 'Pen', 'PIM', 'PPG', 'PPO', 'FOW', 'FOL', 'FOW%', 'goals4', 'shots4']\n",
      "['Team', 'Player', 'Bl', 'Mi', 'SV', 'G', 'TSA', 'Bl', 'Mi', 'SV', 'G', 'TSA', 'Bl', 'Mi', 'SV', 'G', 'TSA', 'Bl', 'Mi', 'SV', 'G', 'TSA', 'BLKs', 'FO']\n"
     ]
    },
    {
     "name": "stderr",
     "output_type": "stream",
     "text": [
      "Scraping games:  62%|██████▏   | 129/207 [05:46<03:13,  2.48s/it]"
     ]
    },
    {
     "name": "stdout",
     "output_type": "stream",
     "text": [
      "Number of DataFrames: 8\n",
      "Number of table names: 8\n",
      "['Day', 'Date', 'Conference', 'Details', 'Location', 'Ref1', 'Ref2', 'Asst_Ref1', 'Asst_Ref2', 'Attendance']\n",
      "['Period', 'Team', 'PP', 'Player', 'Player_Goals', 'Assist1', 'Assist2', 'Time']\n",
      "['Period', 'Team', 'Player', 'Pen_Length', 'Penalty_Type', 'Time']\n",
      "['Team', 'Goalie', 'SV', 'GA', 'Minutes']\n",
      "['Team', 'Player', 'G', 'A', 'Pt.', '+/-', 'Sh', 'PIM', 'FOW', 'FOL', 'FO%']\n",
      "['Team', 'Line', 'Position', 'Player']\n",
      "['Team', 'goals1', 'goals2', 'goals3', 'goalsT', 'shots1', 'shots2', 'shots3', 'shotsT', 'Pen', 'PIM', 'PPG', 'PPO', 'FOW', 'FOL', 'FOW%', 'goals4', 'shots4']\n",
      "['Team', 'Player', 'Bl', 'Mi', 'SV', 'G', 'TSA', 'Bl', 'Mi', 'SV', 'G', 'TSA', 'Bl', 'Mi', 'SV', 'G', 'TSA', 'Bl', 'Mi', 'SV', 'G', 'TSA', 'BLKs', 'FO']\n"
     ]
    },
    {
     "name": "stderr",
     "output_type": "stream",
     "text": [
      "Scraping games:  63%|██████▎   | 130/207 [05:49<03:13,  2.51s/it]"
     ]
    },
    {
     "name": "stdout",
     "output_type": "stream",
     "text": [
      "Number of DataFrames: 8\n",
      "Number of table names: 8\n",
      "['Day', 'Date', 'Conference', 'Details', 'Location', 'Ref1', 'Ref2', 'Asst_Ref1', 'Asst_Ref2', 'Attendance']\n",
      "['Period', 'Team', 'PP', 'Player', 'Player_Goals', 'Assist1', 'Assist2', 'Time']\n",
      "['Period', 'Team', 'Player', 'Pen_Length', 'Penalty_Type', 'Time']\n",
      "['Team', 'Goalie', 'SV', 'GA', 'Minutes']\n",
      "['Team', 'Player', 'G', 'A', 'Pt.', '+/-', 'Sh', 'PIM', 'FOW', 'FOL', 'FO%']\n",
      "['Team', 'Line', 'Position', 'Player']\n",
      "['Team', 'goals1', 'goals2', 'goals3', 'goalsT', 'shots1', 'shots2', 'shots3', 'shotsT', 'Pen', 'PIM', 'PPG', 'PPO', 'FOW', 'FOL', 'FOW%', 'goals4', 'shots4']\n",
      "['Team', 'Player', 'Bl', 'Mi', 'SV', 'G', 'TSA', 'Bl', 'Mi', 'SV', 'G', 'TSA', 'Bl', 'Mi', 'SV', 'G', 'TSA', 'Bl', 'Mi', 'SV', 'G', 'TSA', 'BLKs', 'FO']\n"
     ]
    },
    {
     "name": "stderr",
     "output_type": "stream",
     "text": [
      "Scraping games:  63%|██████▎   | 131/207 [05:52<03:15,  2.58s/it]"
     ]
    },
    {
     "name": "stdout",
     "output_type": "stream",
     "text": [
      "Number of DataFrames: 8\n",
      "Number of table names: 8\n",
      "['Day', 'Date', 'Conference', 'Details', 'Location', 'Ref1', 'Ref2', 'Asst_Ref1', 'Asst_Ref2', 'Attendance']\n",
      "['Period', 'Team', 'PP', 'Player', 'Player_Goals', 'Assist1', 'Assist2', 'Time']\n",
      "['Period', 'Team', 'Player', 'Pen_Length', 'Penalty_Type', 'Time']\n",
      "['Team', 'Goalie', 'SV', 'GA', 'Minutes']\n",
      "['Team', 'Player', 'G', 'A', 'Pt.', '+/-', 'Sh', 'PIM', 'FOW', 'FOL', 'FO%']\n",
      "['Team', 'Line', 'Position', 'Player']\n",
      "['Team', 'goals1', 'goals2', 'goals3', 'goalsT', 'shots1', 'shots2', 'shots3', 'shotsT', 'Pen', 'PIM', 'PPG', 'PPO', 'FOW', 'FOL', 'FOW%', 'goals4', 'shots4']\n",
      "['Team', 'Player', 'Bl', 'Mi', 'SV', 'G', 'TSA', 'Bl', 'Mi', 'SV', 'G', 'TSA', 'Bl', 'Mi', 'SV', 'G', 'TSA', 'Bl', 'Mi', 'SV', 'G', 'TSA', 'BLKs', 'FO']\n"
     ]
    },
    {
     "name": "stderr",
     "output_type": "stream",
     "text": [
      "Scraping games:  64%|██████▍   | 132/207 [05:55<03:19,  2.66s/it]"
     ]
    },
    {
     "name": "stdout",
     "output_type": "stream",
     "text": [
      "Number of DataFrames: 8\n",
      "Number of table names: 8\n",
      "['Day', 'Date', 'Conference', 'Details', 'Location', 'Ref1', 'Ref2', 'Asst_Ref1', 'Asst_Ref2', 'Attendance']\n",
      "['Period', 'Team', 'PP', 'Player', 'Player_Goals', 'Assist1', 'Assist2', 'Time']\n",
      "['Period', 'Team', 'Player', 'Pen_Length', 'Penalty_Type', 'Time']\n",
      "['Team', 'Goalie', 'SV', 'GA', 'Minutes']\n",
      "['Team', 'Player', 'G', 'A', 'Pt.', '+/-', 'Sh', 'PIM', 'FOW', 'FOL', 'FO%']\n",
      "['Team', 'Line', 'Position', 'Player']\n",
      "['Team', 'goals1', 'goals2', 'goals3', 'goalsT', 'shots1', 'shots2', 'shots3', 'shotsT', 'Pen', 'PIM', 'PPG', 'PPO', 'FOW', 'FOL', 'FOW%', 'goals4', 'shots4']\n",
      "['Team', 'Player', 'Bl', 'Mi', 'SV', 'G', 'TSA', 'Bl', 'Mi', 'SV', 'G', 'TSA', 'Bl', 'Mi', 'SV', 'G', 'TSA', 'Bl', 'Mi', 'SV', 'G', 'TSA', 'BLKs', 'FO']\n"
     ]
    },
    {
     "name": "stderr",
     "output_type": "stream",
     "text": [
      "Scraping games:  64%|██████▍   | 133/207 [05:57<03:14,  2.63s/it]"
     ]
    },
    {
     "name": "stdout",
     "output_type": "stream",
     "text": [
      "Number of DataFrames: 8\n",
      "Number of table names: 8\n",
      "['Day', 'Date', 'Conference', 'Details', 'Location', 'Ref1', 'Ref2', 'Asst_Ref1', 'Asst_Ref2', 'Attendance']\n",
      "['Period', 'Team', 'PP', 'Player', 'Player_Goals', 'Assist1', 'Assist2', 'Time']\n",
      "['Period', 'Team', 'Player', 'Pen_Length', 'Penalty_Type', 'Time']\n",
      "['Team', 'Goalie', 'SV', 'GA', 'Minutes']\n",
      "['Team', 'Player', 'G', 'A', 'Pt.', '+/-', 'Sh', 'PIM', 'FOW', 'FOL', 'FO%']\n",
      "['Team', 'Line', 'Position', 'Player']\n",
      "['Team', 'goals1', 'goals2', 'goals3', 'goalsT', 'shots1', 'shots2', 'shots3', 'shotsT', 'Pen', 'PIM', 'PPG', 'PPO', 'FOW', 'FOL', 'FOW%', 'goals4', 'shots4']\n",
      "['Team', 'Player', 'Bl', 'Mi', 'SV', 'G', 'TSA', 'Bl', 'Mi', 'SV', 'G', 'TSA', 'Bl', 'Mi', 'SV', 'G', 'TSA', 'Bl', 'Mi', 'SV', 'G', 'TSA', 'BLKs', 'FO']\n"
     ]
    },
    {
     "name": "stderr",
     "output_type": "stream",
     "text": [
      "Scraping games:  65%|██████▍   | 134/207 [06:00<03:12,  2.63s/it]"
     ]
    },
    {
     "name": "stdout",
     "output_type": "stream",
     "text": [
      "Number of DataFrames: 8\n",
      "Number of table names: 8\n",
      "['Day', 'Date', 'Conference', 'Details', 'Location', 'Ref1', 'Ref2', 'Asst_Ref1', 'Asst_Ref2', 'Attendance']\n",
      "['Period', 'Team', 'PP', 'Player', 'Player_Goals', 'Assist1', 'Assist2', 'Time']\n",
      "['Period', 'Team', 'Player', 'Pen_Length', 'Penalty_Type', 'Time']\n",
      "['Team', 'Goalie', 'SV', 'GA', 'Minutes']\n",
      "['Team', 'Player', 'G', 'A', 'Pt.', '+/-', 'Sh', 'PIM', 'FOW', 'FOL', 'FO%']\n",
      "['Team', 'Line', 'Position', 'Player']\n",
      "['Team', 'goals1', 'goals2', 'goals3', 'goalsT', 'shots1', 'shots2', 'shots3', 'shotsT', 'Pen', 'PIM', 'PPG', 'PPO', 'FOW', 'FOL', 'FOW%', 'goals4', 'shots4']\n",
      "['Team', 'Player', 'Bl', 'Mi', 'SV', 'G', 'TSA', 'Bl', 'Mi', 'SV', 'G', 'TSA', 'Bl', 'Mi', 'SV', 'G', 'TSA', 'Bl', 'Mi', 'SV', 'G', 'TSA', 'BLKs', 'FO']\n"
     ]
    },
    {
     "name": "stderr",
     "output_type": "stream",
     "text": [
      "Scraping games:  65%|██████▌   | 135/207 [06:02<03:06,  2.60s/it]"
     ]
    },
    {
     "name": "stdout",
     "output_type": "stream",
     "text": [
      "Number of DataFrames: 8\n",
      "Number of table names: 8\n",
      "['Day', 'Date', 'Conference', 'Details', 'Location', 'Ref1', 'Ref2', 'Asst_Ref1', 'Asst_Ref2', 'Attendance']\n",
      "['Period', 'Team', 'PP', 'Player', 'Player_Goals', 'Assist1', 'Assist2', 'Time']\n",
      "['Period', 'Team', 'Player', 'Pen_Length', 'Penalty_Type', 'Time']\n",
      "['Team', 'Goalie', 'SV', 'GA', 'Minutes']\n",
      "['Team', 'Player', 'G', 'A', 'Pt.', '+/-', 'Sh', 'PIM', 'FOW', 'FOL', 'FO%']\n",
      "['Team', 'Line', 'Position', 'Player']\n",
      "['Team', 'goals1', 'goals2', 'goals3', 'goalsT', 'shots1', 'shots2', 'shots3', 'shotsT', 'Pen', 'PIM', 'PPG', 'PPO', 'FOW', 'FOL', 'FOW%', 'goals4', 'shots4']\n",
      "['Team', 'Player', 'Bl', 'Mi', 'SV', 'G', 'TSA', 'Bl', 'Mi', 'SV', 'G', 'TSA', 'Bl', 'Mi', 'SV', 'G', 'TSA', 'Bl', 'Mi', 'SV', 'G', 'TSA', 'BLKs', 'FO']\n"
     ]
    },
    {
     "name": "stderr",
     "output_type": "stream",
     "text": [
      "Scraping games:  66%|██████▌   | 136/207 [06:05<03:10,  2.68s/it]"
     ]
    },
    {
     "name": "stdout",
     "output_type": "stream",
     "text": [
      "Number of DataFrames: 8\n",
      "Number of table names: 8\n",
      "['Day', 'Date', 'Conference', 'Details', 'Location', 'Ref1', 'Ref2', 'Asst_Ref1', 'Asst_Ref2', 'Attendance']\n",
      "['Period', 'Team', 'PP', 'Player', 'Player_Goals', 'Assist1', 'Assist2', 'Time']\n",
      "['Period', 'Team', 'Player', 'Pen_Length', 'Penalty_Type', 'Time']\n",
      "['Team', 'Goalie', 'SV', 'GA', 'Minutes']\n",
      "['Team', 'Player', 'G', 'A', 'Pt.', '+/-', 'Sh', 'PIM', 'FOW', 'FOL', 'FO%']\n",
      "['Team', 'Line', 'Position', 'Player']\n",
      "['Team', 'goals1', 'goals2', 'goals3', 'goals4', 'goalsT', 'shots1', 'shots2', 'shots3', 'shots4', 'shotsT', 'Pen', 'PIM', 'PPG', 'PPO', 'FOW', 'FOL', 'FOW%']\n",
      "['Team', 'Player', 'Bl', 'Mi', 'SV', 'G', 'TSA', 'Bl', 'Mi', 'SV', 'G', 'TSA', 'Bl', 'Mi', 'SV', 'G', 'TSA', 'Bl', 'Mi', 'SV', 'G', 'TSA', 'BLKs', 'FO']\n"
     ]
    },
    {
     "name": "stderr",
     "output_type": "stream",
     "text": [
      "Scraping games:  66%|██████▌   | 137/207 [06:08<03:08,  2.70s/it]"
     ]
    },
    {
     "name": "stdout",
     "output_type": "stream",
     "text": [
      "Number of DataFrames: 8\n",
      "Number of table names: 8\n",
      "['Day', 'Date', 'Conference', 'Details', 'Location', 'Ref1', 'Ref2', 'Asst_Ref1', 'Asst_Ref2', 'Attendance']\n",
      "['Period', 'Team', 'PP', 'Player', 'Player_Goals', 'Assist1', 'Assist2', 'Time']\n",
      "['Period', 'Team', 'Player', 'Pen_Length', 'Penalty_Type', 'Time']\n",
      "['Team', 'Goalie', 'SV', 'GA', 'Minutes']\n",
      "['Team', 'Player', 'G', 'A', 'Pt.', '+/-', 'Sh', 'PIM', 'FOW', 'FOL', 'FO%']\n",
      "['Team', 'Line', 'Position', 'Player']\n",
      "['Team', 'goals1', 'goals2', 'goals3', 'goalsT', 'shots1', 'shots2', 'shots3', 'shotsT', 'Pen', 'PIM', 'PPG', 'PPO', 'FOW', 'FOL', 'FOW%', 'goals4', 'shots4']\n",
      "['Team', 'Player', 'Bl', 'Mi', 'SV', 'G', 'TSA', 'Bl', 'Mi', 'SV', 'G', 'TSA', 'Bl', 'Mi', 'SV', 'G', 'TSA', 'Bl', 'Mi', 'SV', 'G', 'TSA', 'BLKs', 'FO']\n"
     ]
    },
    {
     "name": "stderr",
     "output_type": "stream",
     "text": [
      "Scraping games:  67%|██████▋   | 138/207 [06:11<03:08,  2.73s/it]"
     ]
    },
    {
     "name": "stdout",
     "output_type": "stream",
     "text": [
      "Number of DataFrames: 8\n",
      "Number of table names: 8\n",
      "['Day', 'Date', 'Conference', 'Details', 'Location', 'Ref1', 'Ref2', 'Asst_Ref1', 'Asst_Ref2', 'Attendance']\n",
      "['Period', 'Team', 'PP', 'Player', 'Player_Goals', 'Assist1', 'Assist2', 'Time']\n",
      "['Period', 'Team', 'Player', 'Pen_Length', 'Penalty_Type', 'Time']\n",
      "['Team', 'Goalie', 'SV', 'GA', 'Minutes']\n",
      "['Team', 'Player', 'G', 'A', 'Pt.', '+/-', 'Sh', 'PIM', 'FOW', 'FOL', 'FO%']\n",
      "['Team', 'Line', 'Position', 'Player']\n",
      "['Team', 'goals1', 'goals2', 'goals3', 'goalsT', 'shots1', 'shots2', 'shots3', 'shotsT', 'Pen', 'PIM', 'PPG', 'PPO', 'FOW', 'FOL', 'FOW%', 'goals4', 'shots4']\n",
      "['Team', 'Player', 'Bl', 'Mi', 'SV', 'G', 'TSA', 'Bl', 'Mi', 'SV', 'G', 'TSA', 'Bl', 'Mi', 'SV', 'G', 'TSA', 'Bl', 'Mi', 'SV', 'G', 'TSA', 'BLKs', 'FO']\n"
     ]
    },
    {
     "name": "stderr",
     "output_type": "stream",
     "text": [
      "Scraping games:  67%|██████▋   | 139/207 [06:13<03:05,  2.72s/it]"
     ]
    },
    {
     "name": "stdout",
     "output_type": "stream",
     "text": [
      "Number of DataFrames: 8\n",
      "Number of table names: 8\n",
      "['Day', 'Date', 'Conference', 'Details', 'Location', 'Ref1', 'Ref2', 'Asst_Ref1', 'Asst_Ref2', 'Attendance']\n",
      "['Period', 'Team', 'PP', 'Player', 'Player_Goals', 'Assist1', 'Assist2', 'Time']\n",
      "['Period', 'Team', 'Player', 'Pen_Length', 'Penalty_Type', 'Time']\n",
      "['Team', 'Goalie', 'SV', 'GA', 'Minutes']\n",
      "['Team', 'Player', 'G', 'A', 'Pt.', '+/-', 'Sh', 'PIM', 'FOW', 'FOL', 'FO%']\n",
      "['Team', 'Line', 'Position', 'Player']\n",
      "['Team', 'goals1', 'goals2', 'goals3', 'goalsT', 'shots1', 'shots2', 'shots3', 'shotsT', 'Pen', 'PIM', 'PPG', 'PPO', 'FOW', 'FOL', 'FOW%', 'goals4', 'shots4']\n",
      "['Team', 'Player', 'Bl', 'Mi', 'SV', 'G', 'TSA', 'Bl', 'Mi', 'SV', 'G', 'TSA', 'Bl', 'Mi', 'SV', 'G', 'TSA', 'Bl', 'Mi', 'SV', 'G', 'TSA', 'BLKs', 'FO']\n"
     ]
    },
    {
     "name": "stderr",
     "output_type": "stream",
     "text": [
      "Scraping games:  68%|██████▊   | 140/207 [06:16<03:00,  2.69s/it]"
     ]
    },
    {
     "name": "stdout",
     "output_type": "stream",
     "text": [
      "Number of DataFrames: 8\n",
      "Number of table names: 8\n",
      "['Day', 'Date', 'Conference', 'Details', 'Location', 'Ref1', 'Ref2', 'Asst_Ref1', 'Asst_Ref2', 'Attendance']\n",
      "['Period', 'Team', 'PP', 'Player', 'Player_Goals', 'Assist1', 'Assist2', 'Time']\n",
      "['Period', 'Team', 'Player', 'Pen_Length', 'Penalty_Type', 'Time']\n",
      "['Team', 'Goalie', 'SV', 'GA', 'Minutes']\n",
      "['Team', 'Player', 'G', 'A', 'Pt.', '+/-', 'Sh', 'PIM', 'FOW', 'FOL', 'FO%']\n",
      "['Team', 'Line', 'Position', 'Player']\n",
      "['Team', 'goals1', 'goals2', 'goals3', 'goalsT', 'shots1', 'shots2', 'shots3', 'shotsT', 'Pen', 'PIM', 'PPG', 'PPO', 'FOW', 'FOL', 'FOW%', 'goals4', 'shots4']\n",
      "['Team', 'Player', 'Bl', 'Mi', 'SV', 'G', 'TSA', 'Bl', 'Mi', 'SV', 'G', 'TSA', 'Bl', 'Mi', 'SV', 'G', 'TSA', 'Bl', 'Mi', 'SV', 'G', 'TSA', 'BLKs', 'FO']\n"
     ]
    },
    {
     "name": "stderr",
     "output_type": "stream",
     "text": [
      "Scraping games:  68%|██████▊   | 141/207 [06:19<02:58,  2.70s/it]"
     ]
    },
    {
     "name": "stdout",
     "output_type": "stream",
     "text": [
      "Number of DataFrames: 8\n",
      "Number of table names: 8\n",
      "['Day', 'Date', 'Conference', 'Details', 'Location', 'Ref1', 'Ref2', 'Asst_Ref1', 'Asst_Ref2', 'Attendance']\n",
      "['Period', 'Team', 'PP', 'Player', 'Player_Goals', 'Assist1', 'Assist2', 'Time']\n",
      "['Period', 'Team', 'Player', 'Pen_Length', 'Penalty_Type', 'Time']\n",
      "['Team', 'Goalie', 'SV', 'GA', 'Minutes']\n",
      "['Team', 'Player', 'G', 'A', 'Pt.', '+/-', 'Sh', 'PIM', 'FOW', 'FOL', 'FO%']\n",
      "['Team', 'Line', 'Position', 'Player']\n",
      "['Team', 'goals1', 'goals2', 'goals3', 'goalsT', 'shots1', 'shots2', 'shots3', 'shotsT', 'Pen', 'PIM', 'PPG', 'PPO', 'FOW', 'FOL', 'FOW%', 'goals4', 'shots4']\n",
      "['Team', 'Player', 'Bl', 'Mi', 'SV', 'G', 'TSA', 'Bl', 'Mi', 'SV', 'G', 'TSA', 'Bl', 'Mi', 'SV', 'G', 'TSA', 'Bl', 'Mi', 'SV', 'G', 'TSA', 'BLKs', 'FO']\n"
     ]
    },
    {
     "name": "stderr",
     "output_type": "stream",
     "text": [
      "Scraping games:  69%|██████▊   | 142/207 [06:21<02:54,  2.69s/it]"
     ]
    },
    {
     "name": "stdout",
     "output_type": "stream",
     "text": [
      "Number of DataFrames: 8\n",
      "Number of table names: 8\n",
      "['Day', 'Date', 'Conference', 'Details', 'Location', 'Ref1', 'Ref2', 'Asst_Ref1', 'Asst_Ref2', 'Attendance']\n",
      "['Period', 'Team', 'PP', 'Player', 'Player_Goals', 'Assist1', 'Assist2', 'Time']\n",
      "['Period', 'Team', 'Player', 'Pen_Length', 'Penalty_Type', 'Time']\n",
      "['Team', 'Goalie', 'SV', 'GA', 'Minutes']\n",
      "['Team', 'Player', 'G', 'A', 'Pt.', '+/-', 'Sh', 'PIM', 'FOW', 'FOL', 'FO%']\n",
      "['Team', 'Line', 'Position', 'Player']\n",
      "['Team', 'goals1', 'goals2', 'goals3', 'goalsT', 'shots1', 'shots2', 'shots3', 'shotsT', 'Pen', 'PIM', 'PPG', 'PPO', 'FOW', 'FOL', 'FOW%', 'goals4', 'shots4']\n",
      "['Team', 'Player', 'Bl', 'Mi', 'SV', 'G', 'TSA', 'Bl', 'Mi', 'SV', 'G', 'TSA', 'Bl', 'Mi', 'SV', 'G', 'TSA', 'Bl', 'Mi', 'SV', 'G', 'TSA', 'BLKs', 'FO']\n"
     ]
    },
    {
     "name": "stderr",
     "output_type": "stream",
     "text": [
      "Scraping games:  69%|██████▉   | 143/207 [06:24<02:56,  2.76s/it]"
     ]
    },
    {
     "name": "stdout",
     "output_type": "stream",
     "text": [
      "Number of DataFrames: 8\n",
      "Number of table names: 8\n",
      "['Day', 'Date', 'Conference', 'Details', 'Location', 'Ref1', 'Ref2', 'Asst_Ref1', 'Asst_Ref2', 'Attendance']\n",
      "['Period', 'Team', 'PP', 'Player', 'Player_Goals', 'Assist1', 'Assist2', 'Time']\n",
      "['Period', 'Team', 'Player', 'Pen_Length', 'Penalty_Type', 'Time']\n",
      "['Team', 'Goalie', 'SV', 'GA', 'Minutes']\n",
      "['Team', 'Player', 'G', 'A', 'Pt.', '+/-', 'Sh', 'PIM', 'FOW', 'FOL', 'FO%']\n",
      "['Team', 'Line', 'Position', 'Player']\n",
      "['Team', 'goals1', 'goals2', 'goals3', 'goals4', 'goalsT', 'shots1', 'shots2', 'shots3', 'shots4', 'shotsT', 'Pen', 'PIM', 'PPG', 'PPO', 'FOW', 'FOL', 'FOW%']\n",
      "['Team', 'Player', 'Bl', 'Mi', 'SV', 'G', 'TSA', 'Bl', 'Mi', 'SV', 'G', 'TSA', 'Bl', 'Mi', 'SV', 'G', 'TSA', 'Bl', 'Mi', 'SV', 'G', 'TSA', 'BLKs', 'FO']\n"
     ]
    },
    {
     "name": "stderr",
     "output_type": "stream",
     "text": [
      "Scraping games:  70%|██████▉   | 144/207 [06:27<02:51,  2.73s/it]"
     ]
    },
    {
     "name": "stdout",
     "output_type": "stream",
     "text": [
      "Number of DataFrames: 8\n",
      "Number of table names: 8\n",
      "['Day', 'Date', 'Conference', 'Details', 'Location', 'Ref1', 'Ref2', 'Asst_Ref1', 'Asst_Ref2', 'Attendance']\n",
      "['Period', 'Team', 'PP', 'Player', 'Player_Goals', 'Assist1', 'Assist2', 'Time']\n",
      "['Period', 'Team', 'Player', 'Pen_Length', 'Penalty_Type', 'Time']\n",
      "['Team', 'Goalie', 'SV', 'GA', 'Minutes']\n",
      "['Team', 'Player', 'G', 'A', 'Pt.', '+/-', 'Sh', 'PIM', 'FOW', 'FOL', 'FO%']\n",
      "['Team', 'Line', 'Position', 'Player']\n",
      "['Team', 'goals1', 'goals2', 'goals3', 'goalsT', 'shots1', 'shots2', 'shots3', 'shotsT', 'Pen', 'PIM', 'PPG', 'PPO', 'FOW', 'FOL', 'FOW%', 'goals4', 'shots4']\n",
      "['Team', 'Player', 'Bl', 'Mi', 'SV', 'G', 'TSA', 'Bl', 'Mi', 'SV', 'G', 'TSA', 'Bl', 'Mi', 'SV', 'G', 'TSA', 'Bl', 'Mi', 'SV', 'G', 'TSA', 'BLKs', 'FO']\n"
     ]
    },
    {
     "name": "stderr",
     "output_type": "stream",
     "text": [
      "Scraping games:  70%|███████   | 145/207 [06:30<02:50,  2.75s/it]"
     ]
    },
    {
     "name": "stdout",
     "output_type": "stream",
     "text": [
      "Number of DataFrames: 8\n",
      "Number of table names: 8\n",
      "['Day', 'Date', 'Conference', 'Details', 'Location', 'Ref1', 'Ref2', 'Asst_Ref1', 'Asst_Ref2', 'Attendance']\n",
      "['Period', 'Team', 'PP', 'Player', 'Player_Goals', 'Assist1', 'Assist2', 'Time']\n",
      "['Period', 'Team', 'Player', 'Pen_Length', 'Penalty_Type', 'Time']\n",
      "['Team', 'Goalie', 'SV', 'GA', 'Minutes']\n",
      "['Team', 'Player', 'G', 'A', 'Pt.', '+/-', 'Sh', 'PIM', 'FOW', 'FOL', 'FO%']\n",
      "['Team', 'Line', 'Position', 'Player']\n",
      "['Team', 'goals1', 'goals2', 'goals3', 'goals4', 'goalsT', 'shots1', 'shots2', 'shots3', 'shots4', 'shotsT', 'Pen', 'PIM', 'PPG', 'PPO', 'FOW', 'FOL', 'FOW%']\n",
      "['Team', 'Player', 'Bl', 'Mi', 'SV', 'G', 'TSA', 'Bl', 'Mi', 'SV', 'G', 'TSA', 'Bl', 'Mi', 'SV', 'G', 'TSA', 'Bl', 'Mi', 'SV', 'G', 'TSA', 'BLKs', 'FO']\n"
     ]
    },
    {
     "name": "stderr",
     "output_type": "stream",
     "text": [
      "Scraping games:  71%|███████   | 146/207 [06:32<02:47,  2.75s/it]"
     ]
    },
    {
     "name": "stdout",
     "output_type": "stream",
     "text": [
      "Number of DataFrames: 8\n",
      "Number of table names: 8\n",
      "['Day', 'Date', 'Conference', 'Details', 'Location', 'Ref1', 'Ref2', 'Asst_Ref1', 'Asst_Ref2', 'Attendance']\n",
      "['Period', 'Team', 'PP', 'Player', 'Player_Goals', 'Assist1', 'Assist2', 'Time']\n",
      "['Period', 'Team', 'Player', 'Pen_Length', 'Penalty_Type', 'Time']\n",
      "['Team', 'Goalie', 'SV', 'GA', 'Minutes']\n",
      "['Team', 'Player', 'G', 'A', 'Pt.', '+/-', 'Sh', 'PIM', 'FOW', 'FOL', 'FO%']\n",
      "['Team', 'Line', 'Position', 'Player']\n",
      "['Team', 'goals1', 'goals2', 'goals3', 'goalsT', 'shots1', 'shots2', 'shots3', 'shotsT', 'Pen', 'PIM', 'PPG', 'PPO', 'FOW', 'FOL', 'FOW%', 'goals4', 'shots4']\n",
      "['Team', 'Player', 'Bl', 'Mi', 'SV', 'G', 'TSA', 'Bl', 'Mi', 'SV', 'G', 'TSA', 'Bl', 'Mi', 'SV', 'G', 'TSA', 'Bl', 'Mi', 'SV', 'G', 'TSA', 'BLKs', 'FO']\n"
     ]
    },
    {
     "name": "stderr",
     "output_type": "stream",
     "text": [
      "Scraping games:  71%|███████   | 147/207 [06:35<02:43,  2.73s/it]"
     ]
    },
    {
     "name": "stdout",
     "output_type": "stream",
     "text": [
      "Number of DataFrames: 8\n",
      "Number of table names: 8\n",
      "['Day', 'Date', 'Conference', 'Details', 'Location', 'Ref1', 'Ref2', 'Asst_Ref1', 'Asst_Ref2', 'Attendance']\n",
      "['Period', 'Team', 'PP', 'Player', 'Player_Goals', 'Assist1', 'Assist2', 'Time']\n",
      "['Period', 'Team', 'Player', 'Pen_Length', 'Penalty_Type', 'Time']\n",
      "['Team', 'Goalie', 'SV', 'GA', 'Minutes']\n",
      "['Team', 'Player', 'G', 'A', 'Pt.', '+/-', 'Sh', 'PIM', 'FOW', 'FOL', 'FO%']\n",
      "['Team', 'Line', 'Position', 'Player']\n",
      "['Team', 'goals1', 'goals2', 'goals3', 'goals4', 'goalsT', 'shots1', 'shots2', 'shots3', 'shots4', 'shotsT', 'Pen', 'PIM', 'PPG', 'PPO', 'FOW', 'FOL', 'FOW%']\n",
      "['Team', 'Player', 'Bl', 'Mi', 'SV', 'G', 'TSA', 'Bl', 'Mi', 'SV', 'G', 'TSA', 'Bl', 'Mi', 'SV', 'G', 'TSA', 'Bl', 'Mi', 'SV', 'G', 'TSA', 'BLKs', 'FO']\n"
     ]
    },
    {
     "name": "stderr",
     "output_type": "stream",
     "text": [
      "Scraping games:  71%|███████▏  | 148/207 [06:38<02:43,  2.77s/it]"
     ]
    },
    {
     "name": "stdout",
     "output_type": "stream",
     "text": [
      "Number of DataFrames: 8\n",
      "Number of table names: 8\n",
      "['Day', 'Date', 'Conference', 'Details', 'Location', 'Ref1', 'Ref2', 'Asst_Ref1', 'Asst_Ref2', 'Attendance']\n",
      "['Period', 'Team', 'PP', 'Player', 'Player_Goals', 'Assist1', 'Assist2', 'Time']\n",
      "['Period', 'Team', 'Player', 'Pen_Length', 'Penalty_Type', 'Time']\n",
      "['Team', 'Goalie', 'SV', 'GA', 'Minutes']\n",
      "['Team', 'Player', 'G', 'A', 'Pt.', '+/-', 'Sh', 'PIM', 'FOW', 'FOL', 'FO%']\n",
      "['Team', 'Line', 'Position', 'Player']\n",
      "['Team', 'goals1', 'goals2', 'goals3', 'goalsT', 'shots1', 'shots2', 'shots3', 'shotsT', 'Pen', 'PIM', 'PPG', 'PPO', 'FOW', 'FOL', 'FOW%', 'goals4', 'shots4']\n",
      "['Team', 'Player', 'Bl', 'Mi', 'SV', 'G', 'TSA', 'Bl', 'Mi', 'SV', 'G', 'TSA', 'Bl', 'Mi', 'SV', 'G', 'TSA', 'Bl', 'Mi', 'SV', 'G', 'TSA', 'BLKs', 'FO']\n"
     ]
    },
    {
     "name": "stderr",
     "output_type": "stream",
     "text": [
      "Scraping games:  72%|███████▏  | 149/207 [06:41<02:40,  2.77s/it]"
     ]
    },
    {
     "name": "stdout",
     "output_type": "stream",
     "text": [
      "Number of DataFrames: 8\n",
      "Number of table names: 8\n",
      "['Day', 'Date', 'Conference', 'Details', 'Location', 'Ref1', 'Ref2', 'Asst_Ref1', 'Asst_Ref2', 'Attendance']\n",
      "['Period', 'Team', 'PP', 'Player', 'Player_Goals', 'Assist1', 'Assist2', 'Time']\n",
      "['Period', 'Team', 'Player', 'Pen_Length', 'Penalty_Type', 'Time']\n",
      "['Team', 'Goalie', 'SV', 'GA', 'Minutes']\n",
      "['Team', 'Player', 'G', 'A', 'Pt.', '+/-', 'Sh', 'PIM', 'FOW', 'FOL', 'FO%']\n",
      "['Team', 'Line', 'Position', 'Player']\n",
      "['Team', 'goals1', 'goals2', 'goals3', 'goals4', 'goalsT', 'shots1', 'shots2', 'shots3', 'shots4', 'shotsT', 'Pen', 'PIM', 'PPG', 'PPO', 'FOW', 'FOL', 'FOW%']\n",
      "['Team', 'Player', 'Bl', 'Mi', 'SV', 'G', 'TSA', 'Bl', 'Mi', 'SV', 'G', 'TSA', 'Bl', 'Mi', 'SV', 'G', 'TSA', 'Bl', 'Mi', 'SV', 'G', 'TSA', 'BLKs', 'FO']\n"
     ]
    },
    {
     "name": "stderr",
     "output_type": "stream",
     "text": [
      "Scraping games:  73%|███████▎  | 152/207 [06:46<02:03,  2.25s/it]"
     ]
    },
    {
     "name": "stdout",
     "output_type": "stream",
     "text": [
      "Number of DataFrames: 8\n",
      "Number of table names: 8\n",
      "['Day', 'Date', 'Conference', 'Details', 'Location', 'Ref1', 'Ref2', 'Asst_Ref1', 'Asst_Ref2', 'Attendance']\n",
      "['Period', 'Team', 'PP', 'Player', 'Player_Goals', 'Assist1', 'Assist2', 'Time']\n",
      "['Period', 'Team', 'Player', 'Pen_Length', 'Penalty_Type', 'Time']\n",
      "['Team', 'Goalie', 'SV', 'GA', 'Minutes']\n",
      "['Team', 'Player', 'G', 'A', 'Pt.', '+/-', 'Sh', 'PIM', 'FOW', 'FOL', 'FO%']\n",
      "['Team', 'Line', 'Position', 'Player']\n",
      "['Team', 'goals1', 'goals2', 'goals3', 'goals4', 'goalsT', 'shots1', 'shots2', 'shots3', 'shots4', 'shotsT', 'Pen', 'PIM', 'PPG', 'PPO', 'FOW', 'FOL', 'FOW%']\n",
      "['Team', 'Player', 'Bl', 'Mi', 'SV', 'G', 'TSA', 'Bl', 'Mi', 'SV', 'G', 'TSA', 'Bl', 'Mi', 'SV', 'G', 'TSA', 'Bl', 'Mi', 'SV', 'G', 'TSA', 'BLKs', 'FO']\n"
     ]
    },
    {
     "name": "stderr",
     "output_type": "stream",
     "text": [
      "Scraping games:  74%|███████▍  | 153/207 [06:49<02:10,  2.41s/it]"
     ]
    },
    {
     "name": "stdout",
     "output_type": "stream",
     "text": [
      "Number of DataFrames: 8\n",
      "Number of table names: 8\n",
      "['Day', 'Date', 'Conference', 'Details', 'Location', 'Ref1', 'Ref2', 'Asst_Ref1', 'Asst_Ref2', 'Attendance']\n",
      "['Period', 'Team', 'PP', 'Player', 'Player_Goals', 'Assist1', 'Assist2', 'Time']\n",
      "['Period', 'Team', 'Player', 'Pen_Length', 'Penalty_Type', 'Time']\n",
      "['Team', 'Goalie', 'SV', 'GA', 'Minutes']\n",
      "['Team', 'Player', 'G', 'A', 'Pt.', '+/-', 'Sh', 'PIM', 'FOW', 'FOL', 'FO%']\n",
      "['Team', 'Line', 'Position', 'Player']\n",
      "['Team', 'goals1', 'goals2', 'goals3', 'goalsT', 'shots1', 'shots2', 'shots3', 'shotsT', 'Pen', 'PIM', 'PPG', 'PPO', 'FOW', 'FOL', 'FOW%', 'goals4', 'shots4']\n",
      "['Team', 'Player', 'Bl', 'Mi', 'SV', 'G', 'TSA', 'Bl', 'Mi', 'SV', 'G', 'TSA', 'Bl', 'Mi', 'SV', 'G', 'TSA', 'Bl', 'Mi', 'SV', 'G', 'TSA', 'BLKs', 'FO']\n"
     ]
    },
    {
     "name": "stderr",
     "output_type": "stream",
     "text": [
      "Scraping games:  74%|███████▍  | 154/207 [06:52<02:15,  2.56s/it]"
     ]
    },
    {
     "name": "stdout",
     "output_type": "stream",
     "text": [
      "Number of DataFrames: 8\n",
      "Number of table names: 8\n",
      "['Day', 'Date', 'Conference', 'Details', 'Location', 'Ref1', 'Ref2', 'Asst_Ref1', 'Asst_Ref2', 'Attendance']\n",
      "['Period', 'Team', 'PP', 'Player', 'Player_Goals', 'Assist1', 'Assist2', 'Time']\n",
      "['Period', 'Team', 'Player', 'Pen_Length', 'Penalty_Type', 'Time']\n",
      "['Team', 'Goalie', 'SV', 'GA', 'Minutes']\n",
      "['Team', 'Player', 'G', 'A', 'Pt.', '+/-', 'Sh', 'PIM', 'FOW', 'FOL', 'FO%']\n",
      "['Team', 'Line', 'Position', 'Player']\n",
      "['Team', 'goals1', 'goals2', 'goals3', 'goalsT', 'shots1', 'shots2', 'shots3', 'shotsT', 'Pen', 'PIM', 'PPG', 'PPO', 'FOW', 'FOL', 'FOW%', 'goals4', 'shots4']\n",
      "['Team', 'Player', 'Bl', 'Mi', 'SV', 'G', 'TSA', 'Bl', 'Mi', 'SV', 'G', 'TSA', 'Bl', 'Mi', 'SV', 'G', 'TSA', 'Bl', 'Mi', 'SV', 'G', 'TSA', 'BLKs', 'FO']\n"
     ]
    },
    {
     "name": "stderr",
     "output_type": "stream",
     "text": [
      "Scraping games:  75%|███████▍  | 155/207 [06:55<02:14,  2.59s/it]"
     ]
    },
    {
     "name": "stdout",
     "output_type": "stream",
     "text": [
      "Number of DataFrames: 8\n",
      "Number of table names: 8\n",
      "['Day', 'Date', 'Conference', 'Details', 'Location', 'Ref1', 'Ref2', 'Asst_Ref1', 'Asst_Ref2', 'Attendance']\n",
      "['Period', 'Team', 'PP', 'Player', 'Player_Goals', 'Assist1', 'Assist2', 'Time']\n",
      "['Period', 'Team', 'Player', 'Pen_Length', 'Penalty_Type', 'Time']\n",
      "['Team', 'Goalie', 'SV', 'GA', 'Minutes']\n",
      "['Team', 'Player', 'G', 'A', 'Pt.', '+/-', 'Sh', 'PIM', 'FOW', 'FOL', 'FO%']\n",
      "['Team', 'Line', 'Position', 'Player']\n",
      "['Team', 'goals1', 'goals2', 'goals3', 'goalsT', 'shots1', 'shots2', 'shots3', 'shotsT', 'Pen', 'PIM', 'PPG', 'PPO', 'FOW', 'FOL', 'FOW%', 'goals4', 'shots4']\n",
      "['Team', 'Player', 'Bl', 'Mi', 'SV', 'G', 'TSA', 'Bl', 'Mi', 'SV', 'G', 'TSA', 'Bl', 'Mi', 'SV', 'G', 'TSA', 'Bl', 'Mi', 'SV', 'G', 'TSA', 'BLKs', 'FO']\n"
     ]
    },
    {
     "name": "stderr",
     "output_type": "stream",
     "text": [
      "Scraping games:  75%|███████▌  | 156/207 [06:57<02:10,  2.56s/it]"
     ]
    },
    {
     "name": "stdout",
     "output_type": "stream",
     "text": [
      "Number of DataFrames: 8\n",
      "Number of table names: 8\n",
      "['Day', 'Date', 'Conference', 'Details', 'Location', 'Ref1', 'Ref2', 'Asst_Ref1', 'Asst_Ref2', 'Attendance']\n",
      "['Period', 'Team', 'PP', 'Player', 'Player_Goals', 'Assist1', 'Assist2', 'Time']\n",
      "['Period', 'Team', 'Player', 'Pen_Length', 'Penalty_Type', 'Time']\n",
      "['Team', 'Goalie', 'SV', 'GA', 'Minutes']\n",
      "['Team', 'Player', 'G', 'A', 'Pt.', '+/-', 'Sh', 'PIM', 'FOW', 'FOL', 'FO%']\n",
      "['Team', 'Line', 'Position', 'Player']\n",
      "['Team', 'goals1', 'goals2', 'goals3', 'goalsT', 'shots1', 'shots2', 'shots3', 'shotsT', 'Pen', 'PIM', 'PPG', 'PPO', 'FOW', 'FOL', 'FOW%', 'goals4', 'shots4']\n",
      "['Team', 'Player', 'Bl', 'Mi', 'SV', 'G', 'TSA', 'Bl', 'Mi', 'SV', 'G', 'TSA', 'Bl', 'Mi', 'SV', 'G', 'TSA', 'Bl', 'Mi', 'SV', 'G', 'TSA', 'BLKs', 'FO']\n"
     ]
    },
    {
     "name": "stderr",
     "output_type": "stream",
     "text": [
      "Scraping games:  76%|███████▌  | 157/207 [07:00<02:08,  2.57s/it]"
     ]
    },
    {
     "name": "stdout",
     "output_type": "stream",
     "text": [
      "Number of DataFrames: 8\n",
      "Number of table names: 8\n",
      "['Day', 'Date', 'Conference', 'Details', 'Location', 'Ref1', 'Ref2', 'Asst_Ref1', 'Asst_Ref2', 'Attendance']\n",
      "['Period', 'Team', 'PP', 'Player', 'Player_Goals', 'Assist1', 'Assist2', 'Time']\n",
      "['Period', 'Team', 'Player', 'Pen_Length', 'Penalty_Type', 'Time']\n",
      "['Team', 'Goalie', 'SV', 'GA', 'Minutes']\n",
      "['Team', 'Player', 'G', 'A', 'Pt.', '+/-', 'Sh', 'PIM', 'FOW', 'FOL', 'FO%']\n",
      "['Team', 'Line', 'Position', 'Player']\n",
      "['Team', 'goals1', 'goals2', 'goals3', 'goals4', 'goalsT', 'shots1', 'shots2', 'shots3', 'shots4', 'shotsT', 'Pen', 'PIM', 'PPG', 'PPO', 'FOW', 'FOL', 'FOW%']\n",
      "['Team', 'Player', 'Bl', 'Mi', 'SV', 'G', 'TSA', 'Bl', 'Mi', 'SV', 'G', 'TSA', 'Bl', 'Mi', 'SV', 'G', 'TSA', 'Bl', 'Mi', 'SV', 'G', 'TSA', 'BLKs', 'FO']\n"
     ]
    },
    {
     "name": "stderr",
     "output_type": "stream",
     "text": [
      "Scraping games:  76%|███████▋  | 158/207 [07:02<02:07,  2.61s/it]"
     ]
    },
    {
     "name": "stdout",
     "output_type": "stream",
     "text": [
      "Number of DataFrames: 8\n",
      "Number of table names: 8\n",
      "['Day', 'Date', 'Conference', 'Details', 'Location', 'Ref1', 'Ref2', 'Asst_Ref1', 'Asst_Ref2', 'Attendance']\n",
      "['Period', 'Team', 'PP', 'Player', 'Player_Goals', 'Assist1', 'Assist2', 'Time']\n",
      "['Period', 'Team', 'Player', 'Pen_Length', 'Penalty_Type', 'Time']\n",
      "['Team', 'Goalie', 'SV', 'GA', 'Minutes']\n",
      "['Team', 'Player', 'G', 'A', 'Pt.', '+/-', 'Sh', 'PIM', 'FOW', 'FOL', 'FO%']\n",
      "['Team', 'Line', 'Position', 'Player']\n",
      "['Team', 'goals1', 'goals2', 'goals3', 'goalsT', 'shots1', 'shots2', 'shots3', 'shotsT', 'Pen', 'PIM', 'PPG', 'PPO', 'FOW', 'FOL', 'FOW%', 'goals4', 'shots4']\n",
      "['Team', 'Player', 'Bl', 'Mi', 'SV', 'G', 'TSA', 'Bl', 'Mi', 'SV', 'G', 'TSA', 'Bl', 'Mi', 'SV', 'G', 'TSA', 'Bl', 'Mi', 'SV', 'G', 'TSA', 'BLKs', 'FO']\n"
     ]
    },
    {
     "name": "stderr",
     "output_type": "stream",
     "text": [
      "Scraping games:  77%|███████▋  | 159/207 [07:05<02:04,  2.60s/it]"
     ]
    },
    {
     "name": "stdout",
     "output_type": "stream",
     "text": [
      "Number of DataFrames: 8\n",
      "Number of table names: 8\n",
      "['Day', 'Date', 'Conference', 'Details', 'Location', 'Ref1', 'Ref2', 'Asst_Ref1', 'Asst_Ref2', 'Attendance']\n",
      "['Period', 'Team', 'PP', 'Player', 'Player_Goals', 'Assist1', 'Assist2', 'Time']\n",
      "['Period', 'Team', 'Player', 'Pen_Length', 'Penalty_Type', 'Time']\n",
      "['Team', 'Goalie', 'SV', 'GA', 'Minutes']\n",
      "['Team', 'Player', 'G', 'A', 'Pt.', '+/-', 'Sh', 'PIM', 'FOW', 'FOL', 'FO%']\n",
      "['Team', 'Line', 'Position', 'Player']\n",
      "['Team', 'goals1', 'goals2', 'goals3', 'goalsT', 'shots1', 'shots2', 'shots3', 'shotsT', 'Pen', 'PIM', 'PPG', 'PPO', 'FOW', 'FOL', 'FOW%', 'goals4', 'shots4']\n",
      "['Team', 'Player', 'Bl', 'Mi', 'SV', 'G', 'TSA', 'Bl', 'Mi', 'SV', 'G', 'TSA', 'Bl', 'Mi', 'SV', 'G', 'TSA', 'Bl', 'Mi', 'SV', 'G', 'TSA', 'BLKs', 'FO']\n"
     ]
    },
    {
     "name": "stderr",
     "output_type": "stream",
     "text": [
      "Scraping games:  77%|███████▋  | 160/207 [07:08<02:05,  2.66s/it]"
     ]
    },
    {
     "name": "stdout",
     "output_type": "stream",
     "text": [
      "Number of DataFrames: 8\n",
      "Number of table names: 8\n",
      "['Day', 'Date', 'Conference', 'Details', 'Location', 'Ref1', 'Ref2', 'Asst_Ref1', 'Asst_Ref2', 'Attendance']\n",
      "['Period', 'Team', 'PP', 'Player', 'Player_Goals', 'Assist1', 'Assist2', 'Time']\n",
      "['Period', 'Team', 'Player', 'Pen_Length', 'Penalty_Type', 'Time']\n",
      "['Team', 'Goalie', 'SV', 'GA', 'Minutes']\n",
      "['Team', 'Player', 'G', 'A', 'Pt.', '+/-', 'Sh', 'PIM', 'FOW', 'FOL', 'FO%']\n",
      "['Team', 'Line', 'Position', 'Player']\n",
      "['Team', 'goals1', 'goals2', 'goals3', 'goals4', 'goalsT', 'shots1', 'shots2', 'shots3', 'shots4', 'shotsT', 'Pen', 'PIM', 'PPG', 'PPO', 'FOW', 'FOL', 'FOW%']\n",
      "['Team', 'Player', 'Bl', 'Mi', 'SV', 'G', 'TSA', 'Bl', 'Mi', 'SV', 'G', 'TSA', 'Bl', 'Mi', 'SV', 'G', 'TSA', 'Bl', 'Mi', 'SV', 'G', 'TSA', 'BLKs', 'FO']\n"
     ]
    },
    {
     "name": "stderr",
     "output_type": "stream",
     "text": [
      "Scraping games:  78%|███████▊  | 161/207 [07:10<02:01,  2.65s/it]"
     ]
    },
    {
     "name": "stdout",
     "output_type": "stream",
     "text": [
      "Number of DataFrames: 8\n",
      "Number of table names: 8\n",
      "['Day', 'Date', 'Conference', 'Details', 'Location', 'Ref1', 'Ref2', 'Asst_Ref1', 'Asst_Ref2', 'Attendance']\n",
      "['Period', 'Team', 'PP', 'Player', 'Player_Goals', 'Assist1', 'Assist2', 'Time']\n",
      "['Period', 'Team', 'Player', 'Pen_Length', 'Penalty_Type', 'Time']\n",
      "['Team', 'Goalie', 'SV', 'GA', 'Minutes']\n",
      "['Team', 'Player', 'G', 'A', 'Pt.', '+/-', 'Sh', 'PIM', 'FOW', 'FOL', 'FO%']\n",
      "['Team', 'Line', 'Position', 'Player']\n",
      "['Team', 'goals1', 'goals2', 'goals3', 'goals4', 'goalsT', 'shots1', 'shots2', 'shots3', 'shots4', 'shotsT', 'Pen', 'PIM', 'PPG', 'PPO', 'FOW', 'FOL', 'FOW%']\n",
      "['Team', 'Player', 'Bl', 'Mi', 'SV', 'G', 'TSA', 'Bl', 'Mi', 'SV', 'G', 'TSA', 'Bl', 'Mi', 'SV', 'G', 'TSA', 'Bl', 'Mi', 'SV', 'G', 'TSA', 'BLKs', 'FO']\n"
     ]
    },
    {
     "name": "stderr",
     "output_type": "stream",
     "text": [
      "Scraping games:  78%|███████▊  | 162/207 [07:13<01:57,  2.60s/it]"
     ]
    },
    {
     "name": "stdout",
     "output_type": "stream",
     "text": [
      "Number of DataFrames: 8\n",
      "Number of table names: 8\n",
      "['Day', 'Date', 'Conference', 'Details', 'Location', 'Ref1', 'Ref2', 'Asst_Ref1', 'Asst_Ref2', 'Attendance']\n",
      "['Period', 'Team', 'PP', 'Player', 'Player_Goals', 'Assist1', 'Assist2', 'Time']\n",
      "['Period', 'Team', 'Player', 'Pen_Length', 'Penalty_Type', 'Time']\n",
      "['Team', 'Goalie', 'SV', 'GA', 'Minutes']\n",
      "['Team', 'Player', 'G', 'A', 'Pt.', '+/-', 'Sh', 'PIM', 'FOW', 'FOL', 'FO%']\n",
      "['Team', 'Line', 'Position', 'Player']\n",
      "['Team', 'goals1', 'goals2', 'goals3', 'goals4', 'goalsT', 'shots1', 'shots2', 'shots3', 'shots4', 'shotsT', 'Pen', 'PIM', 'PPG', 'PPO', 'FOW', 'FOL', 'FOW%']\n",
      "['Team', 'Player', 'Bl', 'Mi', 'SV', 'G', 'TSA', 'Bl', 'Mi', 'SV', 'G', 'TSA', 'Bl', 'Mi', 'SV', 'G', 'TSA', 'Bl', 'Mi', 'SV', 'G', 'TSA', 'BLKs', 'FO']\n"
     ]
    },
    {
     "name": "stderr",
     "output_type": "stream",
     "text": [
      "Scraping games:  79%|███████▊  | 163/207 [07:16<01:56,  2.66s/it]"
     ]
    },
    {
     "name": "stdout",
     "output_type": "stream",
     "text": [
      "Number of DataFrames: 8\n",
      "Number of table names: 8\n",
      "['Day', 'Date', 'Conference', 'Details', 'Location', 'Ref1', 'Ref2', 'Asst_Ref1', 'Asst_Ref2', 'Attendance']\n",
      "['Period', 'Team', 'PP', 'Player', 'Player_Goals', 'Assist1', 'Assist2', 'Time']\n",
      "['Period', 'Team', 'Player', 'Pen_Length', 'Penalty_Type', 'Time']\n",
      "['Team', 'Goalie', 'SV', 'GA', 'Minutes']\n",
      "['Team', 'Player', 'G', 'A', 'Pt.', '+/-', 'Sh', 'PIM', 'FOW', 'FOL', 'FO%']\n",
      "['Team', 'Line', 'Position', 'Player']\n",
      "['Team', 'goals1', 'goals2', 'goals3', 'goals4', 'goalsT', 'shots1', 'shots2', 'shots3', 'shots4', 'shotsT', 'Pen', 'PIM', 'PPG', 'PPO', 'FOW', 'FOL', 'FOW%']\n",
      "['Team', 'Player', 'Bl', 'Mi', 'SV', 'G', 'TSA', 'Bl', 'Mi', 'SV', 'G', 'TSA', 'Bl', 'Mi', 'SV', 'G', 'TSA', 'Bl', 'Mi', 'SV', 'G', 'TSA', 'BLKs', 'FO']\n"
     ]
    },
    {
     "name": "stderr",
     "output_type": "stream",
     "text": [
      "Scraping games:  79%|███████▉  | 164/207 [07:18<01:55,  2.70s/it]"
     ]
    },
    {
     "name": "stdout",
     "output_type": "stream",
     "text": [
      "Number of DataFrames: 8\n",
      "Number of table names: 8\n",
      "['Day', 'Date', 'Conference', 'Details', 'Location', 'Ref1', 'Ref2', 'Asst_Ref1', 'Asst_Ref2', 'Attendance']\n",
      "['Period', 'Team', 'PP', 'Player', 'Player_Goals', 'Assist1', 'Assist2', 'Time']\n",
      "['Period', 'Team', 'Player', 'Pen_Length', 'Penalty_Type', 'Time']\n",
      "['Team', 'Goalie', 'SV', 'GA', 'Minutes']\n",
      "['Team', 'Player', 'G', 'A', 'Pt.', '+/-', 'Sh', 'PIM', 'FOW', 'FOL', 'FO%']\n",
      "['Team', 'Line', 'Position', 'Player']\n",
      "['Team', 'goals1', 'goals2', 'goals3', 'goalsT', 'shots1', 'shots2', 'shots3', 'shotsT', 'Pen', 'PIM', 'PPG', 'PPO', 'FOW', 'FOL', 'FOW%', 'goals4', 'shots4']\n",
      "['Team', 'Player', 'Bl', 'Mi', 'SV', 'G', 'TSA', 'Bl', 'Mi', 'SV', 'G', 'TSA', 'Bl', 'Mi', 'SV', 'G', 'TSA', 'Bl', 'Mi', 'SV', 'G', 'TSA', 'BLKs', 'FO']\n"
     ]
    },
    {
     "name": "stderr",
     "output_type": "stream",
     "text": [
      "Scraping games:  80%|███████▉  | 165/207 [07:21<01:53,  2.69s/it]"
     ]
    },
    {
     "name": "stdout",
     "output_type": "stream",
     "text": [
      "Number of DataFrames: 8\n",
      "Number of table names: 8\n",
      "['Day', 'Date', 'Conference', 'Details', 'Location', 'Ref1', 'Ref2', 'Asst_Ref1', 'Asst_Ref2', 'Attendance']\n",
      "['Period', 'Team', 'PP', 'Player', 'Player_Goals', 'Assist1', 'Assist2', 'Time']\n",
      "['Period', 'Team', 'Player', 'Pen_Length', 'Penalty_Type', 'Time']\n",
      "['Team', 'Goalie', 'SV', 'GA', 'Minutes']\n",
      "['Team', 'Player', 'G', 'A', 'Pt.', '+/-', 'Sh', 'PIM', 'FOW', 'FOL', 'FO%']\n",
      "['Team', 'Line', 'Position', 'Player']\n",
      "['Team', 'goals1', 'goals2', 'goals3', 'goalsT', 'shots1', 'shots2', 'shots3', 'shotsT', 'Pen', 'PIM', 'PPG', 'PPO', 'FOW', 'FOL', 'FOW%', 'goals4', 'shots4']\n",
      "['Team', 'Player', 'Bl', 'Mi', 'SV', 'G', 'TSA', 'Bl', 'Mi', 'SV', 'G', 'TSA', 'Bl', 'Mi', 'SV', 'G', 'TSA', 'Bl', 'Mi', 'SV', 'G', 'TSA', 'BLKs', 'FO']\n"
     ]
    },
    {
     "name": "stderr",
     "output_type": "stream",
     "text": [
      "Scraping games:  80%|████████  | 166/207 [07:24<01:48,  2.66s/it]"
     ]
    },
    {
     "name": "stdout",
     "output_type": "stream",
     "text": [
      "Number of DataFrames: 8\n",
      "Number of table names: 8\n",
      "['Day', 'Date', 'Conference', 'Details', 'Location', 'Ref1', 'Ref2', 'Asst_Ref1', 'Asst_Ref2', 'Attendance']\n",
      "['Period', 'Team', 'PP', 'Player', 'Player_Goals', 'Assist1', 'Assist2', 'Time']\n",
      "['Period', 'Team', 'Player', 'Pen_Length', 'Penalty_Type', 'Time']\n",
      "['Team', 'Goalie', 'SV', 'GA', 'Minutes']\n",
      "['Team', 'Player', 'G', 'A', 'Pt.', '+/-', 'Sh', 'PIM', 'FOW', 'FOL', 'FO%']\n",
      "['Team', 'Line', 'Position', 'Player']\n",
      "['Team', 'goals1', 'goals2', 'goals3', 'goals4', 'goalsT', 'shots1', 'shots2', 'shots3', 'shots4', 'shotsT', 'Pen', 'PIM', 'PPG', 'PPO', 'FOW', 'FOL', 'FOW%']\n",
      "['Team', 'Player', 'Bl', 'Mi', 'SV', 'G', 'TSA', 'Bl', 'Mi', 'SV', 'G', 'TSA', 'Bl', 'Mi', 'SV', 'G', 'TSA', 'Bl', 'Mi', 'SV', 'G', 'TSA', 'BLKs', 'FO']\n"
     ]
    },
    {
     "name": "stderr",
     "output_type": "stream",
     "text": [
      "Scraping games:  81%|████████  | 167/207 [07:26<01:46,  2.65s/it]"
     ]
    },
    {
     "name": "stdout",
     "output_type": "stream",
     "text": [
      "Number of DataFrames: 8\n",
      "Number of table names: 8\n",
      "['Day', 'Date', 'Conference', 'Details', 'Location', 'Ref1', 'Ref2', 'Asst_Ref1', 'Asst_Ref2', 'Attendance']\n",
      "['Period', 'Team', 'PP', 'Player', 'Player_Goals', 'Assist1', 'Assist2', 'Time']\n",
      "['Period', 'Team', 'Player', 'Pen_Length', 'Penalty_Type', 'Time']\n",
      "['Team', 'Goalie', 'SV', 'GA', 'Minutes']\n",
      "['Team', 'Player', 'G', 'A', 'Pt.', '+/-', 'Sh', 'PIM', 'FOW', 'FOL', 'FO%']\n",
      "['Team', 'Line', 'Position', 'Player']\n",
      "['Team', 'goals1', 'goals2', 'goals3', 'goalsT', 'shots1', 'shots2', 'shots3', 'shotsT', 'Pen', 'PIM', 'PPG', 'PPO', 'FOW', 'FOL', 'FOW%', 'goals4', 'shots4']\n",
      "['Team', 'Player', 'Bl', 'Mi', 'SV', 'G', 'TSA', 'Bl', 'Mi', 'SV', 'G', 'TSA', 'Bl', 'Mi', 'SV', 'G', 'TSA', 'Bl', 'Mi', 'SV', 'G', 'TSA', 'BLKs', 'FO']\n"
     ]
    },
    {
     "name": "stderr",
     "output_type": "stream",
     "text": [
      "Scraping games:  81%|████████  | 168/207 [07:29<01:43,  2.66s/it]"
     ]
    },
    {
     "name": "stdout",
     "output_type": "stream",
     "text": [
      "Number of DataFrames: 8\n",
      "Number of table names: 8\n",
      "['Day', 'Date', 'Conference', 'Details', 'Location', 'Ref1', 'Ref2', 'Asst_Ref1', 'Asst_Ref2', 'Attendance']\n",
      "['Period', 'Team', 'PP', 'Player', 'Player_Goals', 'Assist1', 'Assist2', 'Time']\n",
      "['Period', 'Team', 'Player', 'Pen_Length', 'Penalty_Type', 'Time']\n",
      "['Team', 'Goalie', 'SV', 'GA', 'Minutes']\n",
      "['Team', 'Player', 'G', 'A', 'Pt.', '+/-', 'Sh', 'PIM', 'FOW', 'FOL', 'FO%']\n",
      "['Team', 'Line', 'Position', 'Player']\n",
      "['Team', 'goals1', 'goals2', 'goals3', 'goals4', 'goalsT', 'shots1', 'shots2', 'shots3', 'shots4', 'shotsT', 'Pen', 'PIM', 'PPG', 'PPO', 'FOW', 'FOL', 'FOW%']\n",
      "['Team', 'Player', 'Bl', 'Mi', 'SV', 'G', 'TSA', 'Bl', 'Mi', 'SV', 'G', 'TSA', 'Bl', 'Mi', 'SV', 'G', 'TSA', 'Bl', 'Mi', 'SV', 'G', 'TSA', 'BLKs', 'FO']\n"
     ]
    },
    {
     "name": "stderr",
     "output_type": "stream",
     "text": [
      "Scraping games:  82%|████████▏ | 169/207 [07:32<01:42,  2.70s/it]"
     ]
    },
    {
     "name": "stdout",
     "output_type": "stream",
     "text": [
      "Number of DataFrames: 8\n",
      "Number of table names: 8\n",
      "['Day', 'Date', 'Conference', 'Details', 'Location', 'Ref1', 'Ref2', 'Asst_Ref1', 'Asst_Ref2', 'Attendance']\n",
      "['Period', 'Team', 'PP', 'Player', 'Player_Goals', 'Assist1', 'Assist2', 'Time']\n",
      "['Period', 'Team', 'Player', 'Pen_Length', 'Penalty_Type', 'Time']\n",
      "['Team', 'Goalie', 'SV', 'GA', 'Minutes']\n",
      "['Team', 'Player', 'G', 'A', 'Pt.', '+/-', 'Sh', 'PIM', 'FOW', 'FOL', 'FO%']\n",
      "['Team', 'Line', 'Position', 'Player']\n",
      "['Team', 'goals1', 'goals2', 'goals3', 'goals4', 'goalsT', 'shots1', 'shots2', 'shots3', 'shots4', 'shotsT', 'Pen', 'PIM', 'PPG', 'PPO', 'FOW', 'FOL', 'FOW%']\n",
      "['Team', 'Player', 'Bl', 'Mi', 'SV', 'G', 'TSA', 'Bl', 'Mi', 'SV', 'G', 'TSA', 'Bl', 'Mi', 'SV', 'G', 'TSA', 'Bl', 'Mi', 'SV', 'G', 'TSA', 'BLKs', 'FO']\n"
     ]
    },
    {
     "name": "stderr",
     "output_type": "stream",
     "text": [
      "Scraping games:  82%|████████▏ | 170/207 [07:34<01:38,  2.67s/it]"
     ]
    },
    {
     "name": "stdout",
     "output_type": "stream",
     "text": [
      "Number of DataFrames: 8\n",
      "Number of table names: 8\n",
      "['Day', 'Date', 'Conference', 'Details', 'Location', 'Ref1', 'Ref2', 'Asst_Ref1', 'Asst_Ref2', 'Attendance']\n",
      "['Period', 'Team', 'PP', 'Player', 'Player_Goals', 'Assist1', 'Assist2', 'Time']\n",
      "['Period', 'Team', 'Player', 'Pen_Length', 'Penalty_Type', 'Time']\n",
      "['Team', 'Goalie', 'SV', 'GA', 'Minutes']\n",
      "['Team', 'Player', 'G', 'A', 'Pt.', '+/-', 'Sh', 'PIM', 'FOW', 'FOL', 'FO%']\n",
      "['Team', 'Line', 'Position', 'Player']\n",
      "['Team', 'goals1', 'goals2', 'goals3', 'goals4', 'goalsT', 'shots1', 'shots2', 'shots3', 'shots4', 'shotsT', 'Pen', 'PIM', 'PPG', 'PPO', 'FOW', 'FOL', 'FOW%']\n",
      "['Team', 'Player', 'Bl', 'Mi', 'SV', 'G', 'TSA', 'Bl', 'Mi', 'SV', 'G', 'TSA', 'Bl', 'Mi', 'SV', 'G', 'TSA', 'Bl', 'Mi', 'SV', 'G', 'TSA', 'BLKs', 'FO']\n"
     ]
    },
    {
     "name": "stderr",
     "output_type": "stream",
     "text": [
      "Scraping games:  83%|████████▎ | 171/207 [07:37<01:38,  2.74s/it]"
     ]
    },
    {
     "name": "stdout",
     "output_type": "stream",
     "text": [
      "Number of DataFrames: 8\n",
      "Number of table names: 8\n",
      "['Day', 'Date', 'Conference', 'Details', 'Location', 'Ref1', 'Ref2', 'Asst_Ref1', 'Asst_Ref2', 'Attendance']\n",
      "['Period', 'Team', 'PP', 'Player', 'Player_Goals', 'Assist1', 'Assist2', 'Time']\n",
      "['Period', 'Team', 'Player', 'Pen_Length', 'Penalty_Type', 'Time']\n",
      "['Team', 'Goalie', 'SV', 'GA', 'Minutes']\n",
      "['Team', 'Player', 'G', 'A', 'Pt.', '+/-', 'Sh', 'PIM', 'FOW', 'FOL', 'FO%']\n",
      "['Team', 'Line', 'Position', 'Player']\n",
      "['Team', 'goals1', 'goals2', 'goals3', 'goalsT', 'shots1', 'shots2', 'shots3', 'shotsT', 'Pen', 'PIM', 'PPG', 'PPO', 'FOW', 'FOL', 'FOW%', 'goals4', 'shots4']\n",
      "['Team', 'Player', 'Bl', 'Mi', 'SV', 'G', 'TSA', 'Bl', 'Mi', 'SV', 'G', 'TSA', 'Bl', 'Mi', 'SV', 'G', 'TSA', 'Bl', 'Mi', 'SV', 'G', 'TSA', 'BLKs', 'FO']\n"
     ]
    },
    {
     "name": "stderr",
     "output_type": "stream",
     "text": [
      "Scraping games:  83%|████████▎ | 172/207 [07:40<01:33,  2.66s/it]"
     ]
    },
    {
     "name": "stdout",
     "output_type": "stream",
     "text": [
      "Number of DataFrames: 8\n",
      "Number of table names: 8\n",
      "['Day', 'Date', 'Conference', 'Details', 'Location', 'Ref1', 'Ref2', 'Asst_Ref1', 'Asst_Ref2', 'Attendance']\n",
      "['Period', 'Team', 'PP', 'Player', 'Player_Goals', 'Assist1', 'Assist2', 'Time']\n",
      "['Period', 'Team', 'Player', 'Pen_Length', 'Penalty_Type', 'Time']\n",
      "['Team', 'Goalie', 'SV', 'GA', 'Minutes']\n",
      "['Team', 'Player', 'G', 'A', 'Pt.', '+/-', 'Sh', 'PIM', 'FOW', 'FOL', 'FO%']\n",
      "['Team', 'Line', 'Position', 'Player']\n",
      "['Team', 'goals1', 'goals2', 'goals3', 'goalsT', 'shots1', 'shots2', 'shots3', 'shotsT', 'Pen', 'PIM', 'PPG', 'PPO', 'FOW', 'FOL', 'FOW%', 'goals4', 'shots4']\n",
      "['Team', 'Player', 'Bl', 'Mi', 'SV', 'G', 'TSA', 'Bl', 'Mi', 'SV', 'G', 'TSA', 'Bl', 'Mi', 'SV', 'G', 'TSA', 'Bl', 'Mi', 'SV', 'G', 'TSA', 'BLKs', 'FO']\n"
     ]
    },
    {
     "name": "stderr",
     "output_type": "stream",
     "text": [
      "Scraping games:  84%|████████▎ | 173/207 [07:42<01:28,  2.59s/it]"
     ]
    },
    {
     "name": "stdout",
     "output_type": "stream",
     "text": [
      "Number of DataFrames: 8\n",
      "Number of table names: 8\n",
      "['Day', 'Date', 'Conference', 'Details', 'Location', 'Ref1', 'Ref2', 'Asst_Ref1', 'Asst_Ref2', 'Attendance']\n",
      "['Period', 'Team', 'PP', 'Player', 'Player_Goals', 'Assist1', 'Assist2', 'Time']\n",
      "['Period', 'Team', 'Player', 'Pen_Length', 'Penalty_Type', 'Time']\n",
      "['Team', 'Goalie', 'SV', 'GA', 'Minutes']\n",
      "['Team', 'Player', 'G', 'A', 'Pt.', '+/-', 'Sh', 'PIM', 'FOW', 'FOL', 'FO%']\n",
      "['Team', 'Line', 'Position', 'Player']\n",
      "['Team', 'goals1', 'goals2', 'goals3', 'goalsT', 'shots1', 'shots2', 'shots3', 'shotsT', 'Pen', 'PIM', 'PPG', 'PPO', 'FOW', 'FOL', 'FOW%', 'goals4', 'shots4']\n",
      "['Team', 'Player', 'Bl', 'Mi', 'SV', 'G', 'TSA', 'Bl', 'Mi', 'SV', 'G', 'TSA', 'Bl', 'Mi', 'SV', 'G', 'TSA', 'Bl', 'Mi', 'SV', 'G', 'TSA', 'BLKs', 'FO']\n"
     ]
    },
    {
     "name": "stderr",
     "output_type": "stream",
     "text": [
      "Scraping games:  84%|████████▍ | 174/207 [07:45<01:24,  2.57s/it]"
     ]
    },
    {
     "name": "stdout",
     "output_type": "stream",
     "text": [
      "Number of DataFrames: 8\n",
      "Number of table names: 8\n",
      "['Day', 'Date', 'Conference', 'Details', 'Location', 'Ref1', 'Ref2', 'Asst_Ref1', 'Asst_Ref2', 'Attendance']\n",
      "['Period', 'Team', 'PP', 'Player', 'Player_Goals', 'Assist1', 'Assist2', 'Time']\n",
      "['Period', 'Team', 'Player', 'Pen_Length', 'Penalty_Type', 'Time']\n",
      "['Team', 'Goalie', 'SV', 'GA', 'Minutes']\n",
      "['Team', 'Player', 'G', 'A', 'Pt.', '+/-', 'Sh', 'PIM', 'FOW', 'FOL', 'FO%']\n",
      "['Team', 'Line', 'Position', 'Player']\n",
      "['Team', 'goals1', 'goals2', 'goals3', 'goals4', 'goalsT', 'shots1', 'shots2', 'shots3', 'shots4', 'shotsT', 'Pen', 'PIM', 'PPG', 'PPO', 'FOW', 'FOL', 'FOW%']\n",
      "['Team', 'Player', 'Bl', 'Mi', 'SV', 'G', 'TSA', 'Bl', 'Mi', 'SV', 'G', 'TSA', 'Bl', 'Mi', 'SV', 'G', 'TSA', 'Bl', 'Mi', 'SV', 'G', 'TSA', 'BLKs', 'FO']\n"
     ]
    },
    {
     "name": "stderr",
     "output_type": "stream",
     "text": [
      "Scraping games:  85%|████████▍ | 175/207 [07:48<01:24,  2.63s/it]"
     ]
    },
    {
     "name": "stdout",
     "output_type": "stream",
     "text": [
      "Number of DataFrames: 8\n",
      "Number of table names: 8\n",
      "['Day', 'Date', 'Conference', 'Details', 'Location', 'Ref1', 'Ref2', 'Asst_Ref1', 'Asst_Ref2', 'Attendance']\n",
      "['Period', 'Team', 'PP', 'Player', 'Player_Goals', 'Assist1', 'Assist2', 'Time']\n",
      "['Period', 'Team', 'Player', 'Pen_Length', 'Penalty_Type', 'Time']\n",
      "['Team', 'Goalie', 'SV', 'GA', 'Minutes']\n",
      "['Team', 'Player', 'G', 'A', 'Pt.', '+/-', 'Sh', 'PIM', 'FOW', 'FOL', 'FO%']\n",
      "['Team', 'Line', 'Position', 'Player']\n",
      "['Team', 'goals1', 'goals2', 'goals3', 'goalsT', 'shots1', 'shots2', 'shots3', 'shotsT', 'Pen', 'PIM', 'PPG', 'PPO', 'FOW', 'FOL', 'FOW%', 'goals4', 'shots4']\n",
      "['Team', 'Player', 'Bl', 'Mi', 'SV', 'G', 'TSA', 'Bl', 'Mi', 'SV', 'G', 'TSA', 'Bl', 'Mi', 'SV', 'G', 'TSA', 'Bl', 'Mi', 'SV', 'G', 'TSA', 'BLKs', 'FO']\n"
     ]
    },
    {
     "name": "stderr",
     "output_type": "stream",
     "text": [
      "Scraping games:  85%|████████▌ | 176/207 [07:50<01:23,  2.71s/it]"
     ]
    },
    {
     "name": "stdout",
     "output_type": "stream",
     "text": [
      "Number of DataFrames: 8\n",
      "Number of table names: 8\n",
      "['Day', 'Date', 'Conference', 'Details', 'Location', 'Ref1', 'Ref2', 'Asst_Ref1', 'Asst_Ref2', 'Attendance']\n",
      "['Period', 'Team', 'PP', 'Player', 'Player_Goals', 'Assist1', 'Assist2', 'Time']\n",
      "['Period', 'Team', 'Player', 'Pen_Length', 'Penalty_Type', 'Time']\n",
      "['Team', 'Goalie', 'SV', 'GA', 'Minutes']\n",
      "['Team', 'Player', 'G', 'A', 'Pt.', '+/-', 'Sh', 'PIM', 'FOW', 'FOL', 'FO%']\n",
      "['Team', 'Line', 'Position', 'Player']\n",
      "['Team', 'goals1', 'goals2', 'goals3', 'goalsT', 'shots1', 'shots2', 'shots3', 'shotsT', 'Pen', 'PIM', 'PPG', 'PPO', 'FOW', 'FOL', 'FOW%', 'goals4', 'shots4']\n",
      "['Team', 'Player', 'Bl', 'Mi', 'SV', 'G', 'TSA', 'Bl', 'Mi', 'SV', 'G', 'TSA', 'Bl', 'Mi', 'SV', 'G', 'TSA', 'Bl', 'Mi', 'SV', 'G', 'TSA', 'BLKs', 'FO']\n"
     ]
    },
    {
     "name": "stderr",
     "output_type": "stream",
     "text": [
      "Scraping games:  86%|████████▌ | 177/207 [07:53<01:19,  2.64s/it]"
     ]
    },
    {
     "name": "stdout",
     "output_type": "stream",
     "text": [
      "Number of DataFrames: 8\n",
      "Number of table names: 8\n",
      "['Day', 'Date', 'Conference', 'Details', 'Location', 'Ref1', 'Ref2', 'Asst_Ref1', 'Asst_Ref2', 'Attendance']\n",
      "['Period', 'Team', 'PP', 'Player', 'Player_Goals', 'Assist1', 'Assist2', 'Time']\n",
      "['Period', 'Team', 'Player', 'Pen_Length', 'Penalty_Type', 'Time']\n",
      "['Team', 'Goalie', 'SV', 'GA', 'Minutes']\n",
      "['Team', 'Player', 'G', 'A', 'Pt.', '+/-', 'Sh', 'PIM', 'FOW', 'FOL', 'FO%']\n",
      "['Team', 'Line', 'Position', 'Player']\n",
      "['Team', 'goals1', 'goals2', 'goals3', 'goals4', 'goalsT', 'shots1', 'shots2', 'shots3', 'shots4', 'shotsT', 'Pen', 'PIM', 'PPG', 'PPO', 'FOW', 'FOL', 'FOW%']\n",
      "['Team', 'Player', 'Bl', 'Mi', 'SV', 'G', 'TSA', 'Bl', 'Mi', 'SV', 'G', 'TSA', 'Bl', 'Mi', 'SV', 'G', 'TSA', 'Bl', 'Mi', 'SV', 'G', 'TSA', 'BLKs', 'FO']\n"
     ]
    },
    {
     "name": "stderr",
     "output_type": "stream",
     "text": [
      "Scraping games:  86%|████████▌ | 178/207 [07:55<01:15,  2.61s/it]"
     ]
    },
    {
     "name": "stdout",
     "output_type": "stream",
     "text": [
      "Number of DataFrames: 8\n",
      "Number of table names: 8\n",
      "['Day', 'Date', 'Conference', 'Details', 'Location', 'Ref1', 'Ref2', 'Asst_Ref1', 'Asst_Ref2', 'Attendance']\n",
      "['Period', 'Team', 'PP', 'Player', 'Player_Goals', 'Assist1', 'Assist2', 'Time']\n",
      "['Period', 'Team', 'Player', 'Pen_Length', 'Penalty_Type', 'Time']\n",
      "['Team', 'Goalie', 'SV', 'GA', 'Minutes']\n",
      "['Team', 'Player', 'G', 'A', 'Pt.', '+/-', 'Sh', 'PIM', 'FOW', 'FOL', 'FO%']\n",
      "['Team', 'Line', 'Position', 'Player']\n",
      "['Team', 'goals1', 'goals2', 'goals3', 'goalsT', 'shots1', 'shots2', 'shots3', 'shotsT', 'Pen', 'PIM', 'PPG', 'PPO', 'FOW', 'FOL', 'FOW%', 'goals4', 'shots4']\n",
      "['Team', 'Player', 'Bl', 'Mi', 'SV', 'G', 'TSA', 'Bl', 'Mi', 'SV', 'G', 'TSA', 'Bl', 'Mi', 'SV', 'G', 'TSA', 'Bl', 'Mi', 'SV', 'G', 'TSA', 'BLKs', 'FO']\n"
     ]
    },
    {
     "name": "stderr",
     "output_type": "stream",
     "text": [
      "Scraping games:  86%|████████▋ | 179/207 [07:58<01:13,  2.64s/it]"
     ]
    },
    {
     "name": "stdout",
     "output_type": "stream",
     "text": [
      "Number of DataFrames: 8\n",
      "Number of table names: 8\n",
      "['Day', 'Date', 'Conference', 'Details', 'Location', 'Ref1', 'Ref2', 'Asst_Ref1', 'Asst_Ref2', 'Attendance']\n",
      "['Period', 'Team', 'PP', 'Player', 'Player_Goals', 'Assist1', 'Assist2', 'Time']\n",
      "['Period', 'Team', 'Player', 'Pen_Length', 'Penalty_Type', 'Time']\n",
      "['Team', 'Goalie', 'SV', 'GA', 'Minutes']\n",
      "['Team', 'Player', 'G', 'A', 'Pt.', '+/-', 'Sh', 'PIM', 'FOW', 'FOL', 'FO%']\n",
      "['Team', 'Line', 'Position', 'Player']\n",
      "['Team', 'goals1', 'goals2', 'goals3', 'goals4', 'goalsT', 'shots1', 'shots2', 'shots3', 'shots4', 'shotsT', 'Pen', 'PIM', 'PPG', 'PPO', 'FOW', 'FOL', 'FOW%']\n",
      "['Team', 'Player', 'Bl', 'Mi', 'SV', 'G', 'TSA', 'Bl', 'Mi', 'SV', 'G', 'TSA', 'Bl', 'Mi', 'SV', 'G', 'TSA', 'Bl', 'Mi', 'SV', 'G', 'TSA', 'BLKs', 'FO']\n"
     ]
    },
    {
     "name": "stderr",
     "output_type": "stream",
     "text": [
      "Scraping games:  87%|████████▋ | 180/207 [08:01<01:10,  2.60s/it]"
     ]
    },
    {
     "name": "stdout",
     "output_type": "stream",
     "text": [
      "Number of DataFrames: 8\n",
      "Number of table names: 8\n",
      "['Day', 'Date', 'Conference', 'Details', 'Location', 'Ref1', 'Ref2', 'Asst_Ref1', 'Asst_Ref2', 'Attendance']\n",
      "['Period', 'Team', 'PP', 'Player', 'Player_Goals', 'Assist1', 'Assist2', 'Time']\n",
      "['Period', 'Team', 'Player', 'Pen_Length', 'Penalty_Type', 'Time']\n",
      "['Team', 'Goalie', 'SV', 'GA', 'Minutes']\n",
      "['Team', 'Player', 'G', 'A', 'Pt.', '+/-', 'Sh', 'PIM', 'FOW', 'FOL', 'FO%']\n",
      "['Team', 'Line', 'Position', 'Player']\n",
      "['Team', 'goals1', 'goals2', 'goals3', 'goals4', 'goalsT', 'shots1', 'shots2', 'shots3', 'shots4', 'shotsT', 'Pen', 'PIM', 'PPG', 'PPO', 'FOW', 'FOL', 'FOW%']\n",
      "['Team', 'Player', 'Bl', 'Mi', 'SV', 'G', 'TSA', 'Bl', 'Mi', 'SV', 'G', 'TSA', 'Bl', 'Mi', 'SV', 'G', 'TSA', 'Bl', 'Mi', 'SV', 'G', 'TSA', 'BLKs', 'FO']\n"
     ]
    },
    {
     "name": "stderr",
     "output_type": "stream",
     "text": [
      "Scraping games:  87%|████████▋ | 181/207 [08:03<01:06,  2.56s/it]"
     ]
    },
    {
     "name": "stdout",
     "output_type": "stream",
     "text": [
      "Number of DataFrames: 8\n",
      "Number of table names: 8\n",
      "['Day', 'Date', 'Conference', 'Details', 'Location', 'Ref1', 'Ref2', 'Asst_Ref1', 'Asst_Ref2', 'Attendance']\n",
      "['Period', 'Team', 'PP', 'Player', 'Player_Goals', 'Assist1', 'Assist2', 'Time']\n",
      "['Period', 'Team', 'Player', 'Pen_Length', 'Penalty_Type', 'Time']\n",
      "['Team', 'Goalie', 'SV', 'GA', 'Minutes']\n",
      "['Team', 'Player', 'G', 'A', 'Pt.', '+/-', 'Sh', 'PIM', 'FOW', 'FOL', 'FO%']\n",
      "['Team', 'Line', 'Position', 'Player']\n",
      "['Team', 'goals1', 'goals2', 'goals3', 'goalsT', 'shots1', 'shots2', 'shots3', 'shotsT', 'Pen', 'PIM', 'PPG', 'PPO', 'FOW', 'FOL', 'FOW%', 'goals4', 'shots4']\n",
      "['Team', 'Player', 'Bl', 'Mi', 'SV', 'G', 'TSA', 'Bl', 'Mi', 'SV', 'G', 'TSA', 'Bl', 'Mi', 'SV', 'G', 'TSA', 'Bl', 'Mi', 'SV', 'G', 'TSA', 'BLKs', 'FO']\n"
     ]
    },
    {
     "name": "stderr",
     "output_type": "stream",
     "text": [
      "Scraping games:  88%|████████▊ | 182/207 [08:06<01:05,  2.62s/it]"
     ]
    },
    {
     "name": "stdout",
     "output_type": "stream",
     "text": [
      "Number of DataFrames: 8\n",
      "Number of table names: 8\n",
      "['Day', 'Date', 'Conference', 'Details', 'Location', 'Ref1', 'Ref2', 'Asst_Ref1', 'Asst_Ref2', 'Attendance']\n",
      "['Period', 'Team', 'PP', 'Player', 'Player_Goals', 'Assist1', 'Assist2', 'Time']\n",
      "['Period', 'Team', 'Player', 'Pen_Length', 'Penalty_Type', 'Time']\n",
      "['Team', 'Goalie', 'SV', 'GA', 'Minutes']\n",
      "['Team', 'Player', 'G', 'A', 'Pt.', '+/-', 'Sh', 'PIM', 'FOW', 'FOL', 'FO%']\n",
      "['Team', 'Line', 'Position', 'Player']\n",
      "['Team', 'goals1', 'goals2', 'goals3', 'goalsT', 'shots1', 'shots2', 'shots3', 'shotsT', 'Pen', 'PIM', 'PPG', 'PPO', 'FOW', 'FOL', 'FOW%', 'goals4', 'shots4']\n",
      "['Team', 'Player', 'Bl', 'Mi', 'SV', 'G', 'TSA', 'Bl', 'Mi', 'SV', 'G', 'TSA', 'Bl', 'Mi', 'SV', 'G', 'TSA', 'Bl', 'Mi', 'SV', 'G', 'TSA', 'BLKs', 'FO']\n"
     ]
    },
    {
     "name": "stderr",
     "output_type": "stream",
     "text": [
      "Scraping games:  88%|████████▊ | 183/207 [08:09<01:03,  2.64s/it]"
     ]
    },
    {
     "name": "stdout",
     "output_type": "stream",
     "text": [
      "Number of DataFrames: 8\n",
      "Number of table names: 8\n",
      "['Day', 'Date', 'Conference', 'Details', 'Location', 'Ref1', 'Ref2', 'Asst_Ref1', 'Asst_Ref2', 'Attendance']\n",
      "['Period', 'Team', 'PP', 'Player', 'Player_Goals', 'Assist1', 'Assist2', 'Time']\n",
      "['Period', 'Team', 'Player', 'Pen_Length', 'Penalty_Type', 'Time']\n",
      "['Team', 'Goalie', 'SV', 'GA', 'Minutes']\n",
      "['Team', 'Player', 'G', 'A', 'Pt.', '+/-', 'Sh', 'PIM', 'FOW', 'FOL', 'FO%']\n",
      "['Team', 'Line', 'Position', 'Player']\n",
      "['Team', 'goals1', 'goals2', 'goals3', 'goalsT', 'shots1', 'shots2', 'shots3', 'shotsT', 'Pen', 'PIM', 'PPG', 'PPO', 'FOW', 'FOL', 'FOW%', 'goals4', 'shots4']\n",
      "['Team', 'Player', 'Bl', 'Mi', 'SV', 'G', 'TSA', 'Bl', 'Mi', 'SV', 'G', 'TSA', 'Bl', 'Mi', 'SV', 'G', 'TSA', 'Bl', 'Mi', 'SV', 'G', 'TSA', 'BLKs', 'FO']\n"
     ]
    },
    {
     "name": "stderr",
     "output_type": "stream",
     "text": [
      "Scraping games:  89%|████████▉ | 184/207 [08:11<01:00,  2.61s/it]"
     ]
    },
    {
     "name": "stdout",
     "output_type": "stream",
     "text": [
      "Number of DataFrames: 8\n",
      "Number of table names: 8\n",
      "['Day', 'Date', 'Conference', 'Details', 'Location', 'Ref1', 'Ref2', 'Asst_Ref1', 'Asst_Ref2', 'Attendance']\n",
      "['Period', 'Team', 'PP', 'Player', 'Player_Goals', 'Assist1', 'Assist2', 'Time']\n",
      "['Period', 'Team', 'Player', 'Pen_Length', 'Penalty_Type', 'Time']\n",
      "['Team', 'Goalie', 'SV', 'GA', 'Minutes']\n",
      "['Team', 'Player', 'G', 'A', 'Pt.', '+/-', 'Sh', 'PIM', 'FOW', 'FOL', 'FO%']\n",
      "['Team', 'Line', 'Position', 'Player']\n",
      "['Team', 'goals1', 'goals2', 'goals3', 'goalsT', 'shots1', 'shots2', 'shots3', 'shotsT', 'Pen', 'PIM', 'PPG', 'PPO', 'FOW', 'FOL', 'FOW%', 'goals4', 'shots4']\n",
      "['Team', 'Player', 'Bl', 'Mi', 'SV', 'G', 'TSA', 'Bl', 'Mi', 'SV', 'G', 'TSA', 'Bl', 'Mi', 'SV', 'G', 'TSA', 'Bl', 'Mi', 'SV', 'G', 'TSA', 'BLKs', 'FO']\n"
     ]
    },
    {
     "name": "stderr",
     "output_type": "stream",
     "text": [
      "Scraping games:  89%|████████▉ | 185/207 [08:14<00:58,  2.67s/it]"
     ]
    },
    {
     "name": "stdout",
     "output_type": "stream",
     "text": [
      "Number of DataFrames: 8\n",
      "Number of table names: 8\n",
      "['Day', 'Date', 'Conference', 'Details', 'Location', 'Ref1', 'Ref2', 'Asst_Ref1', 'Asst_Ref2', 'Attendance']\n",
      "['Period', 'Team', 'PP', 'Player', 'Player_Goals', 'Assist1', 'Assist2', 'Time']\n",
      "['Period', 'Team', 'Player', 'Pen_Length', 'Penalty_Type', 'Time']\n",
      "['Team', 'Goalie', 'SV', 'GA', 'Minutes']\n",
      "['Team', 'Player', 'G', 'A', 'Pt.', '+/-', 'Sh', 'PIM', 'FOW', 'FOL', 'FO%']\n",
      "['Team', 'Line', 'Position', 'Player']\n",
      "['Team', 'goals1', 'goals2', 'goals3', 'goalsT', 'shots1', 'shots2', 'shots3', 'shotsT', 'Pen', 'PIM', 'PPG', 'PPO', 'FOW', 'FOL', 'FOW%', 'goals4', 'shots4']\n",
      "['Team', 'Player', 'Bl', 'Mi', 'SV', 'G', 'TSA', 'Bl', 'Mi', 'SV', 'G', 'TSA', 'Bl', 'Mi', 'SV', 'G', 'TSA', 'Bl', 'Mi', 'SV', 'G', 'TSA', 'BLKs', 'FO']\n"
     ]
    },
    {
     "name": "stderr",
     "output_type": "stream",
     "text": [
      "Scraping games:  90%|████████▉ | 186/207 [08:17<00:55,  2.64s/it]"
     ]
    },
    {
     "name": "stdout",
     "output_type": "stream",
     "text": [
      "Number of DataFrames: 8\n",
      "Number of table names: 8\n",
      "['Day', 'Date', 'Conference', 'Details', 'Location', 'Ref1', 'Ref2', 'Asst_Ref1', 'Asst_Ref2', 'Attendance']\n",
      "['Period', 'Team', 'PP', 'Player', 'Player_Goals', 'Assist1', 'Assist2', 'Time']\n",
      "['Period', 'Team', 'Player', 'Pen_Length', 'Penalty_Type', 'Time']\n",
      "['Team', 'Goalie', 'SV', 'GA', 'Minutes']\n",
      "['Team', 'Player', 'G', 'A', 'Pt.', '+/-', 'Sh', 'PIM', 'FOW', 'FOL', 'FO%']\n",
      "['Team', 'Line', 'Position', 'Player']\n",
      "['Team', 'goals1', 'goals2', 'goals3', 'goalsT', 'shots1', 'shots2', 'shots3', 'shotsT', 'Pen', 'PIM', 'PPG', 'PPO', 'FOW', 'FOL', 'FOW%', 'goals4', 'shots4']\n",
      "['Team', 'Player', 'Bl', 'Mi', 'SV', 'G', 'TSA', 'Bl', 'Mi', 'SV', 'G', 'TSA', 'Bl', 'Mi', 'SV', 'G', 'TSA', 'Bl', 'Mi', 'SV', 'G', 'TSA', 'BLKs', 'FO']\n"
     ]
    },
    {
     "name": "stderr",
     "output_type": "stream",
     "text": [
      "Scraping games:  90%|█████████ | 187/207 [08:19<00:53,  2.69s/it]"
     ]
    },
    {
     "name": "stdout",
     "output_type": "stream",
     "text": [
      "Number of DataFrames: 8\n",
      "Number of table names: 8\n",
      "['Day', 'Date', 'Conference', 'Details', 'Location', 'Ref1', 'Ref2', 'Asst_Ref1', 'Asst_Ref2', 'Attendance']\n",
      "['Period', 'Team', 'PP', 'Player', 'Player_Goals', 'Assist1', 'Assist2', 'Time']\n",
      "['Period', 'Team', 'Player', 'Pen_Length', 'Penalty_Type', 'Time']\n",
      "['Team', 'Goalie', 'SV', 'GA', 'Minutes']\n",
      "['Team', 'Player', 'G', 'A', 'Pt.', '+/-', 'Sh', 'PIM', 'FOW', 'FOL', 'FO%']\n",
      "['Team', 'Line', 'Position', 'Player']\n",
      "['Team', 'goals1', 'goals2', 'goals3', 'goals4', 'goalsT', 'shots1', 'shots2', 'shots3', 'shots4', 'shotsT', 'Pen', 'PIM', 'PPG', 'PPO', 'FOW', 'FOL', 'FOW%']\n",
      "['Team', 'Player', 'Bl', 'Mi', 'SV', 'G', 'TSA', 'Bl', 'Mi', 'SV', 'G', 'TSA', 'Bl', 'Mi', 'SV', 'G', 'TSA', 'Bl', 'Mi', 'SV', 'G', 'TSA', 'BLKs', 'FO']\n"
     ]
    },
    {
     "name": "stderr",
     "output_type": "stream",
     "text": [
      "Scraping games:  91%|█████████ | 188/207 [08:22<00:50,  2.63s/it]"
     ]
    },
    {
     "name": "stdout",
     "output_type": "stream",
     "text": [
      "Number of DataFrames: 8\n",
      "Number of table names: 8\n",
      "['Day', 'Date', 'Conference', 'Details', 'Location', 'Ref1', 'Ref2', 'Asst_Ref1', 'Asst_Ref2', 'Attendance']\n",
      "['Period', 'Team', 'PP', 'Player', 'Player_Goals', 'Assist1', 'Assist2', 'Time']\n",
      "['Period', 'Team', 'Player', 'Pen_Length', 'Penalty_Type', 'Time']\n",
      "['Team', 'Goalie', 'SV', 'GA', 'Minutes']\n",
      "['Team', 'Player', 'G', 'A', 'Pt.', '+/-', 'Sh', 'PIM', 'FOW', 'FOL', 'FO%']\n",
      "['Team', 'Line', 'Position', 'Player']\n",
      "['Team', 'goals1', 'goals2', 'goals3', 'goals4', 'goalsT', 'shots1', 'shots2', 'shots3', 'shots4', 'shotsT', 'Pen', 'PIM', 'PPG', 'PPO', 'FOW', 'FOL', 'FOW%']\n",
      "['Team', 'Player', 'Bl', 'Mi', 'SV', 'G', 'TSA', 'Bl', 'Mi', 'SV', 'G', 'TSA', 'Bl', 'Mi', 'SV', 'G', 'TSA', 'Bl', 'Mi', 'SV', 'G', 'TSA', 'BLKs', 'FO']\n"
     ]
    },
    {
     "name": "stderr",
     "output_type": "stream",
     "text": [
      "Scraping games:  91%|█████████▏| 189/207 [08:25<00:47,  2.66s/it]"
     ]
    },
    {
     "name": "stdout",
     "output_type": "stream",
     "text": [
      "Number of DataFrames: 8\n",
      "Number of table names: 8\n",
      "['Day', 'Date', 'Conference', 'Details', 'Location', 'Ref1', 'Ref2', 'Asst_Ref1', 'Asst_Ref2', 'Attendance']\n",
      "['Period', 'Team', 'PP', 'Player', 'Player_Goals', 'Assist1', 'Assist2', 'Time']\n",
      "['Period', 'Team', 'Player', 'Pen_Length', 'Penalty_Type', 'Time']\n",
      "['Team', 'Goalie', 'SV', 'GA', 'Minutes']\n",
      "['Team', 'Player', 'G', 'A', 'Pt.', '+/-', 'Sh', 'PIM', 'FOW', 'FOL', 'FO%']\n",
      "['Team', 'Line', 'Position', 'Player']\n",
      "['Team', 'goals1', 'goals2', 'goals3', 'goalsT', 'shots1', 'shots2', 'shots3', 'shotsT', 'Pen', 'PIM', 'PPG', 'PPO', 'FOW', 'FOL', 'FOW%', 'goals4', 'shots4']\n",
      "['Team', 'Player', 'Bl', 'Mi', 'SV', 'G', 'TSA', 'Bl', 'Mi', 'SV', 'G', 'TSA', 'Bl', 'Mi', 'SV', 'G', 'TSA', 'Bl', 'Mi', 'SV', 'G', 'TSA', 'BLKs', 'FO']\n"
     ]
    },
    {
     "name": "stderr",
     "output_type": "stream",
     "text": [
      "Scraping games:  92%|█████████▏| 190/207 [08:27<00:44,  2.61s/it]"
     ]
    },
    {
     "name": "stdout",
     "output_type": "stream",
     "text": [
      "Number of DataFrames: 8\n",
      "Number of table names: 8\n",
      "['Day', 'Date', 'Conference', 'Details', 'Location', 'Ref1', 'Ref2', 'Asst_Ref1', 'Asst_Ref2', 'Attendance']\n",
      "['Period', 'Team', 'PP', 'Player', 'Player_Goals', 'Assist1', 'Assist2', 'Time']\n",
      "['Period', 'Team', 'Player', 'Pen_Length', 'Penalty_Type', 'Time']\n",
      "['Team', 'Goalie', 'SV', 'GA', 'Minutes']\n",
      "['Team', 'Player', 'G', 'A', 'Pt.', '+/-', 'Sh', 'PIM', 'FOW', 'FOL', 'FO%']\n",
      "['Team', 'Line', 'Position', 'Player']\n",
      "['Team', 'goals1', 'goals2', 'goals3', 'goalsT', 'shots1', 'shots2', 'shots3', 'shotsT', 'Pen', 'PIM', 'PPG', 'PPO', 'FOW', 'FOL', 'FOW%', 'goals4', 'shots4']\n",
      "['Team', 'Player', 'Bl', 'Mi', 'SV', 'G', 'TSA', 'Bl', 'Mi', 'SV', 'G', 'TSA', 'Bl', 'Mi', 'SV', 'G', 'TSA', 'Bl', 'Mi', 'SV', 'G', 'TSA', 'BLKs', 'FO']\n"
     ]
    },
    {
     "name": "stderr",
     "output_type": "stream",
     "text": [
      "Scraping games:  92%|█████████▏| 191/207 [08:30<00:44,  2.80s/it]"
     ]
    },
    {
     "name": "stdout",
     "output_type": "stream",
     "text": [
      "Number of DataFrames: 8\n",
      "Number of table names: 8\n",
      "['Day', 'Date', 'Conference', 'Details', 'Location', 'Ref1', 'Ref2', 'Asst_Ref1', 'Asst_Ref2', 'Attendance']\n",
      "['Period', 'Team', 'PP', 'Player', 'Player_Goals', 'Assist1', 'Assist2', 'Time']\n",
      "['Period', 'Team', 'Player', 'Pen_Length', 'Penalty_Type', 'Time']\n",
      "['Team', 'Goalie', 'SV', 'GA', 'Minutes']\n",
      "['Team', 'Player', 'G', 'A', 'Pt.', '+/-', 'Sh', 'PIM', 'FOW', 'FOL', 'FO%']\n",
      "['Team', 'Line', 'Position', 'Player']\n",
      "['Team', 'goals1', 'goals2', 'goals3', 'goalsT', 'shots1', 'shots2', 'shots3', 'shotsT', 'Pen', 'PIM', 'PPG', 'PPO', 'FOW', 'FOL', 'FOW%', 'goals4', 'shots4']\n",
      "['Team', 'Player', 'Bl', 'Mi', 'SV', 'G', 'TSA', 'Bl', 'Mi', 'SV', 'G', 'TSA', 'Bl', 'Mi', 'SV', 'G', 'TSA', 'Bl', 'Mi', 'SV', 'G', 'TSA', 'BLKs', 'FO']\n"
     ]
    },
    {
     "name": "stderr",
     "output_type": "stream",
     "text": [
      "Scraping games:  93%|█████████▎| 192/207 [08:33<00:40,  2.73s/it]"
     ]
    },
    {
     "name": "stdout",
     "output_type": "stream",
     "text": [
      "Number of DataFrames: 8\n",
      "Number of table names: 8\n",
      "['Day', 'Date', 'Conference', 'Details', 'Location', 'Ref1', 'Ref2', 'Asst_Ref1', 'Asst_Ref2', 'Attendance']\n",
      "['Period', 'Team', 'PP', 'Player', 'Player_Goals', 'Assist1', 'Assist2', 'Time']\n",
      "['Period', 'Team', 'Player', 'Pen_Length', 'Penalty_Type', 'Time']\n",
      "['Team', 'Goalie', 'SV', 'GA', 'Minutes']\n",
      "['Team', 'Player', 'G', 'A', 'Pt.', '+/-', 'Sh', 'PIM', 'FOW', 'FOL', 'FO%']\n",
      "['Team', 'Line', 'Position', 'Player']\n",
      "['Team', 'goals1', 'goals2', 'goals3', 'goalsT', 'shots1', 'shots2', 'shots3', 'shotsT', 'Pen', 'PIM', 'PPG', 'PPO', 'FOW', 'FOL', 'FOW%', 'goals4', 'shots4']\n",
      "['Team', 'Player', 'Bl', 'Mi', 'SV', 'G', 'TSA', 'Bl', 'Mi', 'SV', 'G', 'TSA', 'Bl', 'Mi', 'SV', 'G', 'TSA', 'Bl', 'Mi', 'SV', 'G', 'TSA', 'BLKs', 'FO']\n"
     ]
    },
    {
     "name": "stderr",
     "output_type": "stream",
     "text": [
      "Scraping games:  93%|█████████▎| 193/207 [08:35<00:37,  2.67s/it]"
     ]
    },
    {
     "name": "stdout",
     "output_type": "stream",
     "text": [
      "Number of DataFrames: 8\n",
      "Number of table names: 8\n",
      "['Day', 'Date', 'Conference', 'Details', 'Location', 'Ref1', 'Ref2', 'Asst_Ref1', 'Asst_Ref2', 'Attendance']\n",
      "['Period', 'Team', 'PP', 'Player', 'Player_Goals', 'Assist1', 'Assist2', 'Time']\n",
      "['Period', 'Team', 'Player', 'Pen_Length', 'Penalty_Type', 'Time']\n",
      "['Team', 'Goalie', 'SV', 'GA', 'Minutes']\n",
      "['Team', 'Player', 'G', 'A', 'Pt.', '+/-', 'Sh', 'PIM', 'FOW', 'FOL', 'FO%']\n",
      "['Team', 'Line', 'Position', 'Player']\n",
      "['Team', 'goals1', 'goals2', 'goals3', 'goalsT', 'shots1', 'shots2', 'shots3', 'shotsT', 'Pen', 'PIM', 'PPG', 'PPO', 'FOW', 'FOL', 'FOW%', 'goals4', 'shots4']\n",
      "['Team', 'Player', 'Bl', 'Mi', 'SV', 'G', 'TSA', 'Bl', 'Mi', 'SV', 'G', 'TSA', 'Bl', 'Mi', 'SV', 'G', 'TSA', 'Bl', 'Mi', 'SV', 'G', 'TSA', 'BLKs', 'FO']\n"
     ]
    },
    {
     "name": "stderr",
     "output_type": "stream",
     "text": [
      "Scraping games:  94%|█████████▎| 194/207 [08:38<00:33,  2.61s/it]"
     ]
    },
    {
     "name": "stdout",
     "output_type": "stream",
     "text": [
      "Number of DataFrames: 8\n",
      "Number of table names: 8\n",
      "['Day', 'Date', 'Conference', 'Details', 'Location', 'Ref1', 'Ref2', 'Asst_Ref1', 'Asst_Ref2', 'Attendance']\n",
      "['Period', 'Team', 'PP', 'Player', 'Player_Goals', 'Assist1', 'Assist2', 'Time']\n",
      "['Period', 'Team', 'Player', 'Pen_Length', 'Penalty_Type', 'Time']\n",
      "['Team', 'Goalie', 'SV', 'GA', 'Minutes']\n",
      "['Team', 'Player', 'G', 'A', 'Pt.', '+/-', 'Sh', 'PIM', 'FOW', 'FOL', 'FO%']\n",
      "['Team', 'Line', 'Position', 'Player']\n",
      "['Team', 'goals1', 'goals2', 'goals3', 'goalsT', 'shots1', 'shots2', 'shots3', 'shotsT', 'Pen', 'PIM', 'PPG', 'PPO', 'FOW', 'FOL', 'FOW%', 'goals4', 'shots4']\n",
      "['Team', 'Player', 'Bl', 'Mi', 'SV', 'G', 'TSA', 'Bl', 'Mi', 'SV', 'G', 'TSA', 'Bl', 'Mi', 'SV', 'G', 'TSA', 'Bl', 'Mi', 'SV', 'G', 'TSA', 'BLKs', 'FO']\n"
     ]
    },
    {
     "name": "stderr",
     "output_type": "stream",
     "text": [
      "Scraping games:  94%|█████████▍| 195/207 [08:41<00:32,  2.68s/it]"
     ]
    },
    {
     "name": "stdout",
     "output_type": "stream",
     "text": [
      "Number of DataFrames: 8\n",
      "Number of table names: 8\n",
      "['Day', 'Date', 'Conference', 'Details', 'Location', 'Ref1', 'Ref2', 'Asst_Ref1', 'Asst_Ref2', 'Attendance']\n",
      "['Period', 'Team', 'PP', 'Player', 'Player_Goals', 'Assist1', 'Assist2', 'Time']\n",
      "['Period', 'Team', 'Player', 'Pen_Length', 'Penalty_Type', 'Time']\n",
      "['Team', 'Goalie', 'SV', 'GA', 'Minutes']\n",
      "['Team', 'Player', 'G', 'A', 'Pt.', '+/-', 'Sh', 'PIM', 'FOW', 'FOL', 'FO%']\n",
      "['Team', 'Line', 'Position', 'Player']\n",
      "['Team', 'goals1', 'goals2', 'goals3', 'goalsT', 'shots1', 'shots2', 'shots3', 'shotsT', 'Pen', 'PIM', 'PPG', 'PPO', 'FOW', 'FOL', 'FOW%', 'goals4', 'shots4']\n",
      "['Team', 'Player', 'Bl', 'Mi', 'SV', 'G', 'TSA', 'Bl', 'Mi', 'SV', 'G', 'TSA', 'Bl', 'Mi', 'SV', 'G', 'TSA', 'Bl', 'Mi', 'SV', 'G', 'TSA', 'BLKs', 'FO']\n"
     ]
    },
    {
     "name": "stderr",
     "output_type": "stream",
     "text": [
      "Scraping games:  95%|█████████▍| 196/207 [08:44<00:30,  2.76s/it]"
     ]
    },
    {
     "name": "stdout",
     "output_type": "stream",
     "text": [
      "Number of DataFrames: 8\n",
      "Number of table names: 8\n",
      "['Day', 'Date', 'Conference', 'Details', 'Location', 'Ref1', 'Ref2', 'Asst_Ref1', 'Asst_Ref2', 'Attendance']\n",
      "['Period', 'Team', 'PP', 'Player', 'Player_Goals', 'Assist1', 'Assist2', 'Time']\n",
      "['Period', 'Team', 'Player', 'Pen_Length', 'Penalty_Type', 'Time']\n",
      "['Team', 'Goalie', 'SV', 'GA', 'Minutes']\n",
      "['Team', 'Player', 'G', 'A', 'Pt.', '+/-', 'Sh', 'PIM', 'FOW', 'FOL', 'FO%']\n",
      "['Team', 'Line', 'Position', 'Player']\n",
      "['Team', 'goals1', 'goals2', 'goals3', 'goalsT', 'shots1', 'shots2', 'shots3', 'shotsT', 'Pen', 'PIM', 'PPG', 'PPO', 'FOW', 'FOL', 'FOW%', 'goals4', 'shots4']\n",
      "['Team', 'Player', 'Bl', 'Mi', 'SV', 'G', 'TSA', 'Bl', 'Mi', 'SV', 'G', 'TSA', 'Bl', 'Mi', 'SV', 'G', 'TSA', 'Bl', 'Mi', 'SV', 'G', 'TSA', 'BLKs', 'FO']\n"
     ]
    },
    {
     "name": "stderr",
     "output_type": "stream",
     "text": [
      "Scraping games:  95%|█████████▌| 197/207 [08:46<00:27,  2.71s/it]"
     ]
    },
    {
     "name": "stdout",
     "output_type": "stream",
     "text": [
      "Number of DataFrames: 8\n",
      "Number of table names: 8\n",
      "['Day', 'Date', 'Conference', 'Details', 'Location', 'Ref1', 'Ref2', 'Asst_Ref1', 'Asst_Ref2', 'Attendance']\n",
      "['Period', 'Team', 'PP', 'Player', 'Player_Goals', 'Assist1', 'Assist2', 'Time']\n",
      "['Period', 'Team', 'Player', 'Pen_Length', 'Penalty_Type', 'Time']\n",
      "['Team', 'Goalie', 'SV', 'GA', 'Minutes']\n",
      "['Team', 'Player', 'G', 'A', 'Pt.', '+/-', 'Sh', 'PIM', 'FOW', 'FOL', 'FO%']\n",
      "['Team', 'Line', 'Position', 'Player']\n",
      "['Team', 'goals1', 'goals2', 'goals3', 'goals4', 'goalsT', 'shots1', 'shots2', 'shots3', 'shots4', 'shotsT', 'Pen', 'PIM', 'PPG', 'PPO', 'FOW', 'FOL', 'FOW%']\n",
      "['Team', 'Player', 'Bl', 'Mi', 'SV', 'G', 'TSA', 'Bl', 'Mi', 'SV', 'G', 'TSA', 'Bl', 'Mi', 'SV', 'G', 'TSA', 'Bl', 'Mi', 'SV', 'G', 'TSA', 'BLKs', 'FO']\n"
     ]
    },
    {
     "name": "stderr",
     "output_type": "stream",
     "text": [
      "Scraping games:  96%|█████████▌| 198/207 [08:49<00:24,  2.71s/it]"
     ]
    },
    {
     "name": "stdout",
     "output_type": "stream",
     "text": [
      "Number of DataFrames: 8\n",
      "Number of table names: 8\n",
      "['Day', 'Date', 'Conference', 'Details', 'Location', 'Ref1', 'Ref2', 'Asst_Ref1', 'Asst_Ref2', 'Attendance']\n",
      "['Period', 'Team', 'PP', 'Player', 'Player_Goals', 'Assist1', 'Assist2', 'Time']\n",
      "['Period', 'Team', 'Player', 'Pen_Length', 'Penalty_Type', 'Time']\n",
      "['Team', 'Goalie', 'SV', 'GA', 'Minutes']\n",
      "['Team', 'Player', 'G', 'A', 'Pt.', '+/-', 'Sh', 'PIM', 'FOW', 'FOL', 'FO%']\n",
      "['Team', 'Line', 'Position', 'Player']\n",
      "['Team', 'goals1', 'goals2', 'goals3', 'goals4', 'goalsT', 'shots1', 'shots2', 'shots3', 'shots4', 'shotsT', 'Pen', 'PIM', 'PPG', 'PPO', 'FOW', 'FOL', 'FOW%']\n",
      "['Team', 'Player', 'Bl', 'Mi', 'SV', 'G', 'TSA', 'Bl', 'Mi', 'SV', 'G', 'TSA', 'Bl', 'Mi', 'SV', 'G', 'TSA', 'Bl', 'Mi', 'SV', 'G', 'TSA', 'BLKs', 'FO']\n"
     ]
    },
    {
     "name": "stderr",
     "output_type": "stream",
     "text": [
      "Scraping games:  96%|█████████▌| 199/207 [08:52<00:21,  2.67s/it]"
     ]
    },
    {
     "name": "stdout",
     "output_type": "stream",
     "text": [
      "Number of DataFrames: 8\n",
      "Number of table names: 8\n",
      "['Day', 'Date', 'Conference', 'Details', 'Location', 'Ref1', 'Ref2', 'Asst_Ref1', 'Asst_Ref2', 'Attendance']\n",
      "['Period', 'Team', 'PP', 'Player', 'Player_Goals', 'Assist1', 'Assist2', 'Time']\n",
      "['Period', 'Team', 'Player', 'Pen_Length', 'Penalty_Type', 'Time']\n",
      "['Team', 'Goalie', 'SV', 'GA', 'Minutes']\n",
      "['Team', 'Player', 'G', 'A', 'Pt.', '+/-', 'Sh', 'PIM', 'FOW', 'FOL', 'FO%']\n",
      "['Team', 'Line', 'Position', 'Player']\n",
      "['Team', 'goals1', 'goals2', 'goals3', 'goalsT', 'shots1', 'shots2', 'shots3', 'shotsT', 'Pen', 'PIM', 'PPG', 'PPO', 'FOW', 'FOL', 'FOW%', 'goals4', 'shots4']\n",
      "['Team', 'Player', 'Bl', 'Mi', 'SV', 'G', 'TSA', 'Bl', 'Mi', 'SV', 'G', 'TSA', 'Bl', 'Mi', 'SV', 'G', 'TSA', 'Bl', 'Mi', 'SV', 'G', 'TSA', 'BLKs', 'FO']\n"
     ]
    },
    {
     "name": "stderr",
     "output_type": "stream",
     "text": [
      "Scraping games:  97%|█████████▋| 200/207 [08:54<00:18,  2.70s/it]"
     ]
    },
    {
     "name": "stdout",
     "output_type": "stream",
     "text": [
      "Number of DataFrames: 8\n",
      "Number of table names: 8\n",
      "['Day', 'Date', 'Conference', 'Details', 'Location', 'Ref1', 'Ref2', 'Asst_Ref1', 'Asst_Ref2', 'Attendance']\n",
      "['Period', 'Team', 'PP', 'Player', 'Player_Goals', 'Assist1', 'Assist2', 'Time']\n",
      "['Period', 'Team', 'Player', 'Pen_Length', 'Penalty_Type', 'Time']\n",
      "['Team', 'Goalie', 'SV', 'GA', 'Minutes']\n",
      "['Team', 'Player', 'G', 'A', 'Pt.', '+/-', 'Sh', 'PIM', 'FOW', 'FOL', 'FO%']\n",
      "['Team', 'Line', 'Position', 'Player']\n",
      "['Team', 'goals1', 'goals2', 'goals3', 'goalsT', 'shots1', 'shots2', 'shots3', 'shotsT', 'Pen', 'PIM', 'PPG', 'PPO', 'FOW', 'FOL', 'FOW%', 'goals4', 'shots4']\n",
      "['Team', 'Player', 'Bl', 'Mi', 'SV', 'G', 'TSA', 'Bl', 'Mi', 'SV', 'G', 'TSA', 'Bl', 'Mi', 'SV', 'G', 'TSA', 'Bl', 'Mi', 'SV', 'G', 'TSA', 'BLKs', 'FO']\n"
     ]
    },
    {
     "name": "stderr",
     "output_type": "stream",
     "text": [
      "Scraping games:  97%|█████████▋| 201/207 [08:57<00:15,  2.63s/it]"
     ]
    },
    {
     "name": "stdout",
     "output_type": "stream",
     "text": [
      "Number of DataFrames: 8\n",
      "Number of table names: 8\n",
      "['Day', 'Date', 'Conference', 'Details', 'Location', 'Ref1', 'Ref2', 'Asst_Ref1', 'Asst_Ref2', 'Attendance']\n",
      "['Period', 'Team', 'PP', 'Player', 'Player_Goals', 'Assist1', 'Assist2', 'Time']\n",
      "['Period', 'Team', 'Player', 'Pen_Length', 'Penalty_Type', 'Time']\n",
      "['Team', 'Goalie', 'SV', 'GA', 'Minutes']\n",
      "['Team', 'Player', 'G', 'A', 'Pt.', '+/-', 'Sh', 'PIM', 'FOW', 'FOL', 'FO%']\n",
      "['Team', 'Line', 'Position', 'Player']\n",
      "['Team', 'goals1', 'goals2', 'goals3', 'goalsT', 'shots1', 'shots2', 'shots3', 'shotsT', 'Pen', 'PIM', 'PPG', 'PPO', 'FOW', 'FOL', 'FOW%', 'goals4', 'shots4']\n",
      "['Team', 'Player', 'Bl', 'Mi', 'SV', 'G', 'TSA', 'Bl', 'Mi', 'SV', 'G', 'TSA', 'Bl', 'Mi', 'SV', 'G', 'TSA', 'Bl', 'Mi', 'SV', 'G', 'TSA', 'BLKs', 'FO']\n"
     ]
    },
    {
     "name": "stderr",
     "output_type": "stream",
     "text": [
      "Scraping games:  98%|█████████▊| 202/207 [09:00<00:13,  2.66s/it]"
     ]
    },
    {
     "name": "stdout",
     "output_type": "stream",
     "text": [
      "Number of DataFrames: 8\n",
      "Number of table names: 8\n",
      "['Day', 'Date', 'Conference', 'Details', 'Location', 'Ref1', 'Ref2', 'Asst_Ref1', 'Asst_Ref2', 'Attendance']\n",
      "['Period', 'Team', 'PP', 'Player', 'Player_Goals', 'Assist1', 'Assist2', 'Time']\n",
      "['Period', 'Team', 'Player', 'Pen_Length', 'Penalty_Type', 'Time']\n",
      "['Team', 'Goalie', 'SV', 'GA', 'Minutes']\n",
      "['Team', 'Player', 'G', 'A', 'Pt.', '+/-', 'Sh', 'PIM', 'FOW', 'FOL', 'FO%']\n",
      "['Team', 'Line', 'Position', 'Player']\n",
      "['Team', 'goals1', 'goals2', 'goals3', 'goalsT', 'shots1', 'shots2', 'shots3', 'shotsT', 'Pen', 'PIM', 'PPG', 'PPO', 'FOW', 'FOL', 'FOW%', 'goals4', 'shots4']\n",
      "['Team', 'Player', 'Bl', 'Mi', 'SV', 'G', 'TSA', 'Bl', 'Mi', 'SV', 'G', 'TSA', 'Bl', 'Mi', 'SV', 'G', 'TSA', 'Bl', 'Mi', 'SV', 'G', 'TSA', 'BLKs', 'FO']\n"
     ]
    },
    {
     "name": "stderr",
     "output_type": "stream",
     "text": [
      "Scraping games:  99%|█████████▊| 204/207 [09:03<00:07,  2.36s/it]"
     ]
    },
    {
     "name": "stdout",
     "output_type": "stream",
     "text": [
      "Number of DataFrames: 8\n",
      "Number of table names: 8\n",
      "['Day', 'Date', 'Conference', 'Details', 'Location', 'Ref1', 'Ref2', 'Asst_Ref1', 'Asst_Ref2', 'Attendance']\n",
      "['Period', 'Team', 'PP', 'Player', 'Player_Goals', 'Assist1', 'Assist2', 'Time']\n",
      "['Period', 'Team', 'Player', 'Pen_Length', 'Penalty_Type', 'Time']\n",
      "['Team', 'Goalie', 'SV', 'GA', 'Minutes']\n",
      "['Team', 'Player', 'G', 'A', 'Pt.', '+/-', 'Sh', 'PIM', 'FOW', 'FOL', 'FO%']\n",
      "['Team', 'Line', 'Position', 'Player']\n",
      "['Team', 'goals1', 'goals2', 'goals3', 'goalsT', 'shots1', 'shots2', 'shots3', 'shotsT', 'Pen', 'PIM', 'PPG', 'PPO', 'FOW', 'FOL', 'FOW%', 'goals4', 'shots4']\n",
      "['Team', 'Player', 'Bl', 'Mi', 'SV', 'G', 'TSA', 'Bl', 'Mi', 'SV', 'G', 'TSA', 'Bl', 'Mi', 'SV', 'G', 'TSA', 'Bl', 'Mi', 'SV', 'G', 'TSA', 'BLKs', 'FO']\n"
     ]
    },
    {
     "name": "stderr",
     "output_type": "stream",
     "text": [
      "Scraping games:  99%|█████████▉| 205/207 [09:06<00:04,  2.44s/it]"
     ]
    },
    {
     "name": "stdout",
     "output_type": "stream",
     "text": [
      "Number of DataFrames: 8\n",
      "Number of table names: 8\n",
      "['Day', 'Date', 'Conference', 'Details', 'Location', 'Ref1', 'Ref2', 'Asst_Ref1', 'Asst_Ref2', 'Attendance']\n",
      "['Period', 'Team', 'PP', 'Player', 'Player_Goals', 'Assist1', 'Assist2', 'Time']\n",
      "['Period', 'Team', 'Player', 'Pen_Length', 'Penalty_Type', 'Time']\n",
      "['Team', 'Goalie', 'SV', 'GA', 'Minutes']\n",
      "['Team', 'Player', 'G', 'A', 'Pt.', '+/-', 'Sh', 'PIM', 'FOW', 'FOL', 'FO%']\n",
      "['Team', 'Line', 'Position', 'Player']\n",
      "['Team', 'goals1', 'goals2', 'goals3', 'goalsT', 'shots1', 'shots2', 'shots3', 'shotsT', 'Pen', 'PIM', 'PPG', 'PPO', 'FOW', 'FOL', 'FOW%', 'goals4', 'shots4']\n",
      "['Team', 'Player', 'Bl', 'Mi', 'SV', 'G', 'TSA', 'Bl', 'Mi', 'SV', 'G', 'TSA', 'Bl', 'Mi', 'SV', 'G', 'TSA', 'Bl', 'Mi', 'SV', 'G', 'TSA', 'BLKs', 'FO']\n"
     ]
    },
    {
     "name": "stderr",
     "output_type": "stream",
     "text": [
      "Scraping games: 100%|█████████▉| 206/207 [09:09<00:02,  2.54s/it]"
     ]
    },
    {
     "name": "stdout",
     "output_type": "stream",
     "text": [
      "Number of DataFrames: 8\n",
      "Number of table names: 8\n",
      "['Day', 'Date', 'Conference', 'Details', 'Location', 'Ref1', 'Ref2', 'Asst_Ref1', 'Asst_Ref2', 'Attendance']\n",
      "['Period', 'Team', 'PP', 'Player', 'Player_Goals', 'Assist1', 'Assist2', 'Time']\n",
      "['Period', 'Team', 'Player', 'Pen_Length', 'Penalty_Type', 'Time']\n",
      "['Team', 'Goalie', 'SV', 'GA', 'Minutes']\n",
      "['Team', 'Player', 'G', 'A', 'Pt.', '+/-', 'Sh', 'PIM', 'FOW', 'FOL', 'FO%']\n",
      "['Team', 'Line', 'Position', 'Player']\n",
      "['Team', 'goals1', 'goals2', 'goals3', 'goalsT', 'shots1', 'shots2', 'shots3', 'shotsT', 'Pen', 'PIM', 'PPG', 'PPO', 'FOW', 'FOL', 'FOW%', 'goals4', 'shots4']\n",
      "['Team', 'Player', 'Bl', 'Mi', 'SV', 'G', 'TSA', 'Bl', 'Mi', 'SV', 'G', 'TSA', 'Bl', 'Mi', 'SV', 'G', 'TSA', 'Bl', 'Mi', 'SV', 'G', 'TSA', 'BLKs', 'FO']\n"
     ]
    },
    {
     "name": "stderr",
     "output_type": "stream",
     "text": [
      "Scraping games: 100%|██████████| 207/207 [09:12<00:00,  2.67s/it]\n"
     ]
    },
    {
     "name": "stdout",
     "output_type": "stream",
     "text": [
      "Number of DataFrames: 8\n",
      "Number of table names: 8\n",
      "['Day', 'Date', 'Conference', 'Details', 'Location', 'Ref1', 'Ref2', 'Asst_Ref1', 'Asst_Ref2', 'Attendance']\n",
      "['Period', 'Team', 'PP', 'Player', 'Player_Goals', 'Assist1', 'Assist2', 'Time']\n",
      "['Period', 'Team', 'Player', 'Pen_Length', 'Penalty_Type', 'Time']\n",
      "['Team', 'Goalie', 'SV', 'GA', 'Minutes']\n",
      "['Team', 'Player', 'G', 'A', 'Pt.', '+/-', 'Sh', 'PIM', 'FOW', 'FOL', 'FO%']\n",
      "['Team', 'Line', 'Position', 'Player']\n",
      "['Team', 'goals1', 'goals2', 'goals3', 'goalsT', 'shots1', 'shots2', 'shots3', 'shotsT', 'Pen', 'PIM', 'PPG', 'PPO', 'FOW', 'FOL', 'FOW%', 'goals4', 'shots4']\n",
      "['Team', 'Player', 'Bl', 'Mi', 'SV', 'G', 'TSA', 'Bl', 'Mi', 'SV', 'G', 'TSA', 'Bl', 'Mi', 'SV', 'G', 'TSA', 'Bl', 'Mi', 'SV', 'G', 'TSA', 'BLKs', 'FO']\n"
     ]
    }
   ],
   "source": [
    "## Run the scrape to get game data using the functions above and infor from games_df\n",
    "\n",
    "## Change the variable name to reuse the old code\n",
    "sampled_games = games_df\n",
    "\n",
    "# Initialize counters & logs\n",
    "error_count = 0\n",
    "error_games = []\n",
    "\n",
    "# Loop over sampled games and fetch data\n",
    "for idx, row in tqdm(sampled_games.iterrows(), total=sampled_games.shape[0], desc=\"Scraping games\"):\n",
    "    retries = 3  # Number of retries\n",
    "    success = False\n",
    "\n",
    "    \n",
    "    while retries > 0 and not success:\n",
    "        try:\n",
    "            box_score_url = base_url + row['Box_Link']\n",
    "            advanced_metrics_url = base_url + row['Metrics_Link']\n",
    "\n",
    "            # create a unique game id\n",
    "            game_id = str(row['Date']) + '-' + str(row['Home_Team']) + '-' + str(row['Away_Team'])\n",
    "            \n",
    "            logging.info(f\"Fetching data for game: {row['Home_Team']} vs {row['Away_Team']}\")\n",
    "            \n",
    "            # Your existing function to fetch and save data\n",
    "            all_dfs = fetch_and_save_data_to_db(box_score_url, advanced_metrics_url)\n",
    "            \n",
    "            # If reached here, the fetching was successful\n",
    "            success = True\n",
    "            \n",
    "            # Adaptive rate limiting\n",
    "            \n",
    "            \n",
    "        except requests.exceptions.RequestException as e:  # Network-related errors\n",
    "            logging.error(f\"Network error for game: {row['Home_Team']} vs {row['Away_Team']}. Error: {e}\")\n",
    "            retries -= 1\n",
    "            time.sleep(5)  # Wait for 5 seconds before retrying\n",
    "        \n",
    "        except Exception as e:  # Other exceptions\n",
    "            logging.error(f\"An error occurred for game: {row['Game_ID']} - {row['Home_Team']} vs {row['Away_Team']}. Error: {e}\")\n",
    "            error_count += 1\n",
    "            error_games.append((row['Home_Team'], row['Away_Team']))\n",
    "            break  # Break the while loop; no retries for these types of errors\n",
    "\n",
    "\n",
    "# Close the logging file\n",
    "logging.shutdown()\n",
    "\n",
    "# Close the database connection\n",
    "# conn.close()\n",
    "\n"
   ]
  },
  {
   "cell_type": "code",
   "execution_count": 7,
   "metadata": {},
   "outputs": [
    {
     "name": "stdout",
     "output_type": "stream",
     "text": [
      "Total games: 207\n",
      "Games With Errors: 24\n",
      "Error games: ('Arizona', 'Arizona State')\n",
      "Error games: ('McGill', 'Vermont')\n",
      "Error games: ('Merrimack', 'Sacred Heart')\n",
      "Error games: ('Union', 'Rensselaer')\n",
      "Error games: ('Royal Military', 'Niagara')\n",
      "Error games: ('New Hampshire', 'Maine')\n",
      "Error games: ('Western Michigan', 'US Under-18')\n",
      "Error games: ('Manitoba', 'North Dakota')\n",
      "Error games: ('Omaha', 'Minnesota State')\n",
      "Error games: ('Simon Fraser', 'Colorado College')\n",
      "Error games: ('Guelph', 'Rensselaer')\n",
      "Error games: ('Canisius', 'Niagara')\n",
      "Error games: ('Ottawa', 'Sacred Heart')\n",
      "Error games: ('Quinnipiac', 'Northeastern')\n",
      "Error games: ('Massachusetts', 'Dartmouth')\n",
      "Error games: ('Bemidji State', 'Minnesota')\n",
      "Error games: ('Guelph', 'RIT')\n",
      "Error games: ('Toronto', 'Princeton')\n",
      "Error games: ('TMU', 'Cornell')\n",
      "Error games: ('US Under-18', 'Boston University')\n",
      "Error games: ('Grand Valley St.', 'Ferris State')\n",
      "Error games: ('Simon Fraser', 'Lake Superior')\n",
      "Error games: ('US Under-18', 'Cornell')\n",
      "Error games: ('St. Anselm', 'Long Island')\n"
     ]
    }
   ],
   "source": [
    "## Print a summary of the errors\n",
    "print(f\"Total games: {sampled_games.shape[0]}\")\n",
    "print(f\"Games With Errors: {error_count}\")\n",
    "for game in error_games:\n",
    "    print(f\"Error games: {game}\")\n"
   ]
  },
  {
   "cell_type": "markdown",
   "metadata": {},
   "source": [
    "## 11-2 Scrape is working well\n",
    "- wanto to get better werror reporting for each fuynction. list of what failed"
   ]
  },
  {
   "cell_type": "markdown",
   "metadata": {},
   "source": [
    "# The Errors are coming from OT Games!"
   ]
  },
  {
   "cell_type": "markdown",
   "metadata": {},
   "source": [
    "## Fix / Notes\n",
    "\n"
   ]
  },
  {
   "cell_type": "markdown",
   "metadata": {},
   "source": [
    "# DB Cleaning Below Next"
   ]
  },
  {
   "cell_type": "code",
   "execution_count": null,
   "metadata": {},
   "outputs": [],
   "source": []
  },
  {
   "cell_type": "code",
   "execution_count": 8,
   "metadata": {},
   "outputs": [
    {
     "ename": "NameError",
     "evalue": "name 'enda' is not defined",
     "output_type": "error",
     "traceback": [
      "\u001b[1;31m---------------------------------------------------------------------------\u001b[0m",
      "\u001b[1;31mNameError\u001b[0m                                 Traceback (most recent call last)",
      "\u001b[1;32mc:\\Users\\Justin\\Desktop\\Project\\college_hockey\\workbook\\Current_season_scrape.ipynb Cell 14\u001b[0m line \u001b[0;36m1\n\u001b[1;32m----> <a href='vscode-notebook-cell:/c%3A/Users/Justin/Desktop/Project/college_hockey/workbook/Current_season_scrape.ipynb#X16sZmlsZQ%3D%3D?line=0'>1</a>\u001b[0m enda;sodfgjas;d\n",
      "\u001b[1;31mNameError\u001b[0m: name 'enda' is not defined"
     ]
    }
   ],
   "source": [
    "enda;sodfgjas;d"
   ]
  },
  {
   "cell_type": "markdown",
   "metadata": {},
   "source": [
    "### Try to visualize advanced metrics here in the notebook"
   ]
  },
  {
   "cell_type": "code",
   "execution_count": null,
   "metadata": {},
   "outputs": [],
   "source": [
    "# combined_sample_data.head(10)\n",
    "\n",
    "# combined_sample_data.info()"
   ]
  }
 ],
 "metadata": {
  "kernelspec": {
   "display_name": "data_viz",
   "language": "python",
   "name": "python3"
  },
  "language_info": {
   "codemirror_mode": {
    "name": "ipython",
    "version": 3
   },
   "file_extension": ".py",
   "mimetype": "text/x-python",
   "name": "python",
   "nbconvert_exporter": "python",
   "pygments_lexer": "ipython3",
   "version": "3.9.18"
  },
  "orig_nbformat": 4
 },
 "nbformat": 4,
 "nbformat_minor": 2
}
