{
 "cells": [
  {
   "cell_type": "code",
   "execution_count": 1,
   "metadata": {},
   "outputs": [],
   "source": [
    "### Book to collect data about the current college hockey season from College Hockey News\n",
    "\n",
    "## Dependencies\n",
    "import requests\n",
    "from bs4 import BeautifulSoup\n",
    "import pandas as pd\n",
    "import numpy as np\n",
    "import time\n",
    "import logging\n",
    "from tqdm import tqdm\n",
    "import re\n",
    "\n",
    "from sqlalchemy import create_engine\n",
    "\n",
    "\n",
    "import sqlite3\n",
    "\n",
    "\n",
    "FILE_TAG = '2001_Season_v1'\n",
    "\n",
    "## global variables\n",
    "# # current_year_url = 'https://www.collegehockeynews.com/schedules/?season=20232024'\n",
    "# tag = '2023_Season_Nov 2'\n",
    "\n",
    "##### TEMP####\n",
    "## global variables\n",
    "current_year_url = 'https://www.collegehockeynews.com/schedules/?season=20212022'\n",
    "tag = '2022_Season_Nov 2_with_update_notebook'\n",
    "\n",
    "\n",
    "## Base usl for box scores and metrics\n",
    "base_url = 'https://www.collegehockeynews.com'\n",
    "\n"
   ]
  },
  {
   "cell_type": "code",
   "execution_count": 2,
   "metadata": {},
   "outputs": [
    {
     "name": "stderr",
     "output_type": "stream",
     "text": [
      "C:\\Users\\Justin\\AppData\\Local\\Temp\\ipykernel_13308\\2541037650.py:83: FutureWarning: Setting an item of incompatible dtype is deprecated and will raise in a future error of pandas. Value '2021-10-02_Army_Providence' has dtype incompatible with float64, please explicitly cast to a compatible dtype first.\n",
      "  df.loc[row.Index, 'Game_ID'] = game_id\n"
     ]
    }
   ],
   "source": [
    "## Functions\n",
    "### Parse the current season schedule / results page\n",
    "\n",
    "def parse_current_season(url):\n",
    "        # Initialize variables\n",
    "    current_date = None\n",
    "    current_conference = None\n",
    "    game_notes = None\n",
    "\n",
    "    # Initialize an empty list to hold the data\n",
    "    data = []\n",
    "\n",
    "    # Parse the page with BeautifulSoup\n",
    "    # Get the page with requests\n",
    "    response = requests.get(url)\n",
    "\n",
    "    # Create a BeautifulSoup object\n",
    "    soup = BeautifulSoup(response.text, 'html.parser')\n",
    "\n",
    "    # select the table or tables\n",
    "    tables = soup.find_all('table')\n",
    "\n",
    "    rows = soup.find_all('tr')\n",
    "\n",
    "    # Loop through each row to find relevant information\n",
    "    for row in rows:\n",
    "        # Check for date row\n",
    "        if row.get('class') == ['stats-section']:\n",
    "            current_date = row.find('td').text.strip()\n",
    "        # Check for conference row\n",
    "        elif row.get('class') == ['sked-header']:\n",
    "            current_conference = row.find('td').text.strip()\n",
    "        # Check for game notes\n",
    "        elif len(row.find_all('td')) == 2:\n",
    "            game_notes = row.find_all('td')[1].text.strip()\n",
    "        # Process rows with game data\n",
    "        elif row.get('valign') == 'top':\n",
    "            cells = row.find_all('td')\n",
    "            if len(cells) >= 9:\n",
    "                home_team = cells[0].text.strip()\n",
    "                home_team_link = cells[0].find('a')['href'] if cells[0].find('a') else None\n",
    "                home_score = cells[1].text.strip()\n",
    "                away_team = cells[3].text.strip()\n",
    "                away_team_link = cells[3].find('a')['href'] if cells[3].find('a') else None\n",
    "                away_score = cells[4].text.strip()\n",
    "                ot = cells[5].text.strip()\n",
    "                box_link = cells[7].find('a')['href'] if cells[7].find('a') else None\n",
    "                metrics_link = cells[8].find('a')['href'] if cells[8].find('a') else None\n",
    "                # Capture Game Notes\n",
    "                game_notes_cell = cells[-1].find('small')\n",
    "                game_notes = game_notes_cell.text.strip() if game_notes_cell else None\n",
    "\n",
    "                # Append data to the list\n",
    "                data.append([current_date, current_conference, game_notes, home_team, home_team_link, home_score, away_team, away_team_link, away_score, ot, box_link, metrics_link])\n",
    "                game_notes = None  # Reset game notes for the next row\n",
    "    return data\n",
    "\n",
    "## call the function\n",
    "data = parse_current_season(current_year_url)\n",
    "\n",
    "\n",
    "# Create a dataframe from the list\n",
    "\n",
    "columns = ['Date', 'Conference', 'Game_Notes', 'Home_Team', 'Home_Team_Link', 'Home_Score', 'Away_Team', 'Away_Team_Link', 'Away_Score', 'OT', 'Box_Link', 'Metrics_Link']\n",
    "df = pd.DataFrame(data, columns=columns)\n",
    "            \n",
    "## Extract the day of the week from the date and save in new column\n",
    "df['Day'] = pd.to_datetime(df['Date']).dt.day_name()\n",
    "# remove day of the week from date\n",
    "# format data column as YYYY-MM-DD\n",
    "df['Date'] = pd.to_datetime(df['Date']).dt.strftime('%Y-%m-%d')\n",
    "\n",
    "### Create a new column for the game ID\n",
    "## Game ID will be a combination of the date and abbreviated team names\n",
    "\n",
    "# Function to abbreviate the team names\n",
    "for row in df.itertuples():\n",
    "    home_team = row.Home_Team\n",
    "    away_team = row.Away_Team\n",
    "    home_team_abbr = home_team.split(' ')[-1]\n",
    "    away_team_abbr = away_team.split(' ')[-1]\n",
    "    game_id = f'{row.Date}_{home_team_abbr}_{away_team_abbr}'\n",
    "    df.loc[row.Index, 'Game_ID'] = game_id\n",
    "\n",
    "# Create a new column for the game ID\n",
    "df['Game_ID'] = df['Game_ID'].str.replace(',', '')\n",
    "\n",
    "# Apply the function to the DataFrame\n",
    "df['Game_ID'] = df.apply(lambda row: f'{row.Date}_{row.Home_Team}_{row.Away_Team}', axis=1)\n",
    "\n",
    "## Filter out games that have not been played yet\n",
    "df = df[df['Home_Score'] != '']\n",
    "\n",
    "# Replace Nan values in metrics column with empty string\n",
    "df['Metrics_Link'] = df['Metrics_Link'].fillna('')\n",
    "\n"
   ]
  },
  {
   "cell_type": "code",
   "execution_count": 3,
   "metadata": {},
   "outputs": [
    {
     "name": "stdout",
     "output_type": "stream",
     "text": [
      "1106\n"
     ]
    }
   ],
   "source": [
    "print(len(df))\n",
    "df.tail(10)\n",
    "\n",
    "## Save csv of just the current season results\n",
    "# df.to_csv('../TEMP/current_season.csv', index=False)\n",
    "\n",
    "# Store the dataframe as games_df\n",
    "games_df = df.copy()"
   ]
  },
  {
   "cell_type": "code",
   "execution_count": null,
   "metadata": {},
   "outputs": [],
   "source": []
  },
  {
   "cell_type": "code",
   "execution_count": 4,
   "metadata": {},
   "outputs": [],
   "source": [
    "## Functions for parsing the box score and metrics pages\n",
    "\n",
    "# Initialize logging for Error and Warning messages\n",
    "logging.basicConfig(filename='../TEMP/current_scrape.log', level=logging.INFO)\n",
    "\n",
    "#### PARSE PLAYER STATS TABLE ####\n",
    "def parse_player_summary(html_content):\n",
    "    # Initialize BeautifulSoup\n",
    "    soup = BeautifulSoup(html_content, 'html.parser')\n",
    "    \n",
    "    # Find the playersums div\n",
    "    playersums_div = soup.find('div', id='playersums')\n",
    "    if playersums_div is None:\n",
    "        return \"Player summaries div not found\"\n",
    "\n",
    "    # Initialize list to store player stats\n",
    "    player_stats = []\n",
    "\n",
    "    # Loop through each playersum div\n",
    "    for player_sum in playersums_div.find_all('div', class_='playersum'):\n",
    "        team = player_sum.find('td').text.strip()\n",
    "        \n",
    "        # Loop through table rows\n",
    "        for row in player_sum.find_all('tr'):\n",
    "            cols = row.find_all('td')\n",
    "            if len(cols) > 1:\n",
    "                player = cols[0].text.strip()\n",
    "                goals = cols[1].text.strip()\n",
    "                assists = cols[2].text.strip()\n",
    "                points = cols[3].text.strip()\n",
    "                plus_minus = cols[4].text.strip()\n",
    "                shots = cols[5].text.strip()\n",
    "                pim = cols[6].text.strip()\n",
    "                fowl = cols[7].text.strip() if len(cols) > 7 else None\n",
    "                \n",
    "                fow, fol = None, None\n",
    "                win_percentage = None\n",
    "                \n",
    "                \n",
    "\n",
    "                try:\n",
    "                    if fowl and '‑' in fowl:  # Checking if it contains a hyphen\n",
    "                        fow, fol = map(int, fowl.split('‑'))\n",
    "                        total_fo = fow + fol\n",
    "                        win_percentage = (fow / total_fo) * 100 if total_fo > 0 else 0\n",
    "                except ValueError:\n",
    "                    fow, fol, win_percentage = None, None, None\n",
    "\n",
    "                \n",
    "\n",
    "                \n",
    "                player_stat = {\n",
    "                    'Team': team,\n",
    "                    'Player': player,\n",
    "                    'G': goals,\n",
    "                    'A': assists,\n",
    "                    'Pt.': points,\n",
    "                    '+/-': plus_minus,\n",
    "                    'Sh': shots,\n",
    "                    'PIM': pim,\n",
    "                    'FOW': fow,\n",
    "                    'FOL': fol,\n",
    "                    'FO%': win_percentage\n",
    "                }\n",
    "                player_stats.append(player_stat)\n",
    "\n",
    "    return pd.DataFrame(player_stats)\n",
    "\n",
    "\n",
    "############# PARSEING SCORING SUMMARY WITH BS4\n",
    "\n",
    "def parse_scoring_summary(html_content):\n",
    "    # Initialize BeautifulSoup\n",
    "    soup = BeautifulSoup(html_content, 'html.parser')\n",
    "\n",
    "    # Find the scoring div and table\n",
    "    scoring_div = soup.find('div', id='scoring')\n",
    "    if scoring_div is None:\n",
    "        logging.error(\"Scoring div not found\")\n",
    "        return None\n",
    "\n",
    "    scoring_table = scoring_div.find('table')\n",
    "    if scoring_table is None:\n",
    "        logging.error(\"Scoring table not found within the scoring div\")\n",
    "        return None\n",
    "\n",
    "    # Initialize list to store scoring events\n",
    "    scoring_events = []\n",
    "    period = None\n",
    "\n",
    "    # Loop through table rows\n",
    "    for row in scoring_table.find_all('tr'):\n",
    "        if 'stats-section' in row.get('class', []):\n",
    "            td = row.find('td')\n",
    "            if td:\n",
    "                period = td.text.strip()\n",
    "            else:\n",
    "                logging.warning(\"Period name not found in 'stats-section' row\")\n",
    "                period = \"Unknown\"\n",
    "        else:\n",
    "            cols = row.find_all('td')\n",
    "            if len(cols) > 1:\n",
    "                try:\n",
    "                    team = cols[0].text.strip()\n",
    "                    pp = cols[1].text.strip()\n",
    "\n",
    "                    player_data = cols[3].text.strip()\n",
    "                    match = re.match(r\"(.+)\\s\\((\\d+)\\)\", player_data)\n",
    "                    player = match.group(1) if match else player_data\n",
    "                    goals = int(match.group(2)) if match else None\n",
    "\n",
    "                    assist_data_raw = cols[4].text.strip()\n",
    "                    assist_data = assist_data_raw.split(\", \") if assist_data_raw else []\n",
    "                    assist1 = assist_data[0] if len(assist_data) > 0 else None\n",
    "                    assist2 = assist_data[1] if len(assist_data) > 1 else None\n",
    "\n",
    "                    time = cols[5].text.strip()\n",
    "\n",
    "                    scoring_event = {\n",
    "                        'Period': period,\n",
    "                        'Team': team,\n",
    "                        'PP': pp,\n",
    "                        'Player': player,\n",
    "                        'Player_Goals': goals,\n",
    "                        'Assist1': assist1,\n",
    "                        'Assist2': assist2,\n",
    "                        'Time': time\n",
    "                    }\n",
    "                    scoring_events.append(scoring_event)\n",
    "                except Exception as e:\n",
    "                    logging.error(f\"An error occurred while parsing a scoring event row: {e}\")\n",
    "            else:\n",
    "                logging.warning(f\"Insufficient columns in scoring row: {len(cols)}\")\n",
    "\n",
    "    return pd.DataFrame(scoring_events)\n",
    "\n",
    "\n",
    "############# PARSEING PENALTY SUMMARY WITH BS4\n",
    "\n",
    "def parse_penalty_summary(html_content):\n",
    "    # Initialize BeautifulSoup\n",
    "    soup = BeautifulSoup(html_content, 'html.parser')\n",
    "\n",
    "    # Find the penalties div and table\n",
    "    penalties_div = soup.find('div', id='penalties')\n",
    "    if penalties_div is None:\n",
    "        logging.error(\"Penalties div not found\")\n",
    "        return None\n",
    "\n",
    "    penalties_table = penalties_div.find('table')\n",
    "    if penalties_table is None:\n",
    "        logging.error(\"Penalties table not found within the penalties div\")\n",
    "        return None\n",
    "\n",
    "    # Initialize list to store penalty events\n",
    "    penalty_events = []\n",
    "    period = None\n",
    "\n",
    "    # Loop through table rows\n",
    "    for row in penalties_table.find_all('tr'):\n",
    "        if 'stats-section' in row.get('class', []):\n",
    "            td = row.find('td')\n",
    "            if td:\n",
    "                period = td.text.strip()\n",
    "            else:\n",
    "                logging.warning(\"Period name not found in 'stats-section' row\")\n",
    "                period = \"Unknown\"\n",
    "        else:\n",
    "            cols = row.find_all('td')\n",
    "            if len(cols) > 1:\n",
    "                team = cols[0].text.strip()\n",
    "                player = cols[1].text.strip()\n",
    "                pen_length = cols[2].text.strip()\n",
    "                penalty_type = cols[3].text.strip()\n",
    "                time = cols[4].text.strip()\n",
    "\n",
    "                penalty_event = {\n",
    "                    'Period': period,\n",
    "                    'Team': team,\n",
    "                    'Player': player,\n",
    "                    'Pen_Length': pen_length,\n",
    "                    'Penalty_Type': penalty_type,\n",
    "                    'Time': time\n",
    "                }\n",
    "                penalty_events.append(penalty_event)\n",
    "\n",
    "    return pd.DataFrame(penalty_events)\n",
    "\n",
    "\n",
    "############# PARSEING GOALIE SUMMARY WITH BS4\n",
    "\n",
    "def parse_goalie_stats(html_content):\n",
    "    # Initialize BeautifulSoup\n",
    "    soup = BeautifulSoup(html_content, 'html.parser')\n",
    "\n",
    "    # Find the goalies div and table\n",
    "    goalies_div = soup.find('div', id='goalies')\n",
    "    if goalies_div is None:\n",
    "        logging.error(\"Goalies div not found\")\n",
    "        return None\n",
    "\n",
    "    goalies_table = goalies_div.find('table')\n",
    "    if goalies_table is None:\n",
    "        logging.error(\"Goalies table not found within the goalies div\")\n",
    "        return None\n",
    "\n",
    "    # Initialize list to store goalie stats\n",
    "    goalie_stats = []\n",
    "    team = None\n",
    "\n",
    "    # Loop through table rows\n",
    "    for row in goalies_table.find_all('tr'):\n",
    "        if 'stats-header' in row.get('class', []):\n",
    "            td = row.find('td')\n",
    "            if td:\n",
    "                team = td.text.strip()\n",
    "            else:\n",
    "                logging.warning(\"Team name not found in 'stats-header' row\")\n",
    "                team = \"Unknown\"\n",
    "        else:\n",
    "            cols = row.find_all('td')\n",
    "            if len(cols) > 1:\n",
    "                goalie = cols[0].text.strip()\n",
    "                sv = cols[1].text.strip()\n",
    "                ga = cols[2].text.strip()\n",
    "                minutes = cols[3].text.strip()\n",
    "\n",
    "                goalie_stat = {\n",
    "                    'Team': team,\n",
    "                    'Goalie': goalie,\n",
    "                    'SV': sv,\n",
    "                    'GA': ga,\n",
    "                    'Minutes': minutes\n",
    "                }\n",
    "                goalie_stats.append(goalie_stat)\n",
    "\n",
    "    return pd.DataFrame(goalie_stats)\n",
    "\n",
    "\n",
    "#### PARSE THE ADVANCED TEAM METRICS TABLES ####\n",
    "### NEW - IT WORKS IN THE NOTEBOOK BUT NOT IN THE FUNCTION\n",
    "### RETURNS WHOLE ADVANCED METRICS AS SINGLE TABLE\n",
    "####################################\n",
    "def parse_new_advanced_metrics(html_content):\n",
    "    # Parse HTML content\n",
    "    soup = BeautifulSoup(html_content, 'html.parser')\n",
    "    \n",
    "    # Find all tables with advanced metrics\n",
    "    tables = soup.find_all('table', {'class': 'sortable metrics'})\n",
    "    \n",
    "    # List to store all parsed data\n",
    "    all_data = []\n",
    "    \n",
    "    for table in tables:\n",
    "        # Extract team name from the table header\n",
    "        team_name = table.find('td').text.strip()\n",
    "        \n",
    "        # Extract headers (skipping the Player header)\n",
    "        headers = [header.text for header in table.find_all('th')][1:]\n",
    "        \n",
    "        # Prepare final column headers\n",
    "        col_names = ['Team', 'Player']\n",
    "        for header in headers:\n",
    "            col_names.append(header)\n",
    "        \n",
    "        # Extract player data\n",
    "        rows = table.find_all('tr')[2:]  # skipping the two header rows\n",
    "        for row in rows:\n",
    "            player_data = [team_name]  # start with team name\n",
    "            cells = row.find_all('td')\n",
    "            player_data.append(cells[0].text.strip())  # player name\n",
    "            for cell in cells[1:]:\n",
    "                player_data.append(cell.text.strip())\n",
    "            all_data.append(player_data)\n",
    "    \n",
    "    # Convert the list of data to a DataFrame\n",
    "    df = pd.DataFrame(all_data, columns=col_names)\n",
    "    return df\n",
    "\n",
    "# Testing the new function with the provided HTML content\n",
    "# advanced_df = parse_new_advanced_metrics(advanced_tie_game_html_content)\n",
    "# advanced_df\n",
    "\n",
    "\n",
    "######## NEWS TEST ###############  \n",
    "def parse_advanced_metrics_tables(html_content):\n",
    "    # Parse HTML content\n",
    "    soup = BeautifulSoup(html_content, 'html.parser')\n",
    "    \n",
    "    # Find all tables with advanced metrics\n",
    "    tables = soup.find_all('table', {'class': 'sortable metrics'})\n",
    "    \n",
    "    # List to store all parsed data\n",
    "    all_data = []\n",
    "    \n",
    "    for table in tables:\n",
    "        # Extract team name from the table header\n",
    "        team_name = table.find('td').text.strip()\n",
    "        \n",
    "        # Extract headers (skipping the Player header)\n",
    "        headers = [header.text for header in table.find_all('th')][1:]\n",
    "        \n",
    "        # Prepare final column headers\n",
    "        col_names = ['Team', 'Player']\n",
    "        for header in headers:\n",
    "            col_names.append(header)\n",
    "        \n",
    "        # Extract player data\n",
    "        rows = table.find_all('tr')[2:]  # skipping the two header rows\n",
    "        for row in rows:\n",
    "            player_data = [team_name]  # start with team name\n",
    "            cells = row.find_all('td')\n",
    "            player_data.append(cells[0].text.strip())  # player name\n",
    "            for cell in cells[1:]:\n",
    "                player_data.append(cell.text.strip())\n",
    "            all_data.append(player_data)\n",
    "    \n",
    "    # Convert the list of data to a DataFrame\n",
    "    df = pd.DataFrame(all_data, columns=col_names)\n",
    "    return df\n",
    "\n",
    "\n",
    "######### OLDER FUNCTION for Test ################\n",
    "# ########### UPDATED FUNCTION TO STORE TEAM NAMES IN THE DATAFRAMES\n",
    "# def parse_advanced_metrics_tables(html_content):\n",
    "#     # Initialize list to store DataFrames\n",
    "#     dfs = []\n",
    "    \n",
    "#     # Parse HTML content\n",
    "#     soup = BeautifulSoup(html_content, 'html.parser')\n",
    "    \n",
    "#     # Find all tables\n",
    "#     tables = soup.find_all('table', {'class': 'sortable metrics'})\n",
    "    \n",
    "#     for table in tables:\n",
    "#         # Extract team name\n",
    "#         team_name = table.find('td').text\n",
    "        \n",
    "#         # Initialize list to store column names and data\n",
    "#         col_names = []\n",
    "#         col_names_final = []\n",
    "#         data = []\n",
    "        \n",
    "#         # Get headers\n",
    "#         headers = table.find_all('th')\n",
    "#         for header in headers:\n",
    "#             col_names.append(header.text)\n",
    "        \n",
    "#         # Add TOTAL, EVEN STRENGTH, POWER PLAY, CLOSE to column names\n",
    "#         section_headers = ['TOTAL', 'EVEN STRENGTH', 'POWER PLAY', 'CLOSE']\n",
    "#         for col in col_names:\n",
    "#             for section in section_headers:\n",
    "#                 if col in section_headers:\n",
    "#                     temp_col = section\n",
    "#                 else:\n",
    "#                     temp_col = f\"{section}_{col}\"\n",
    "#             col_names_final.append(temp_col)\n",
    "        \n",
    "#         # Get data rows\n",
    "#         rows = table.find_all('tr')[2:]  # skip header rows\n",
    "#         for row in rows:\n",
    "#             row_data = [team_name]  # Add team name as the first element\n",
    "#             cells = row.find_all('td')\n",
    "#             for cell in cells:\n",
    "#                 row_data.append(cell.text.strip())\n",
    "#             data.append(row_data)\n",
    "        \n",
    "#         # Add \"Team\" to the column names\n",
    "#         new_names = ['Team', 'Player', 'TOTAL_Block', 'TOTAL_Miss', 'TOTAL_Saved', 'TOTAL_Goals', 'TOTAL_Total_Shots',\n",
    "#                      'EVEN_Block', 'EVEN_Miss', 'EVEN_Saved', 'EVEN_Goals', 'EVEN_Total_Shots',\n",
    "#                      'PP_Block', 'PP_Miss', 'PP_Saved', 'PP_Goals', 'PP_Total_Shots',\n",
    "#                      'CLOSE_Block', 'CLOSE_Miss', 'CLOSE_Saved', 'CLOSE_Goals', 'CLOSE_Total_Shots',\n",
    "#                      'D_Blocks', 'Faceoffs']\n",
    "\n",
    "#         # Create DataFrame and set the column names\n",
    "#         df = pd.DataFrame(data, columns=new_names)\n",
    "\n",
    "#         # Append DataFrame to list\n",
    "#         dfs.append(df)\n",
    "    \n",
    "#     return dfs\n",
    "\n",
    "\n",
    "# Complete code for parsing the line chart information with specific positions for forwards and defensemen.\n",
    "\n",
    "\n",
    "def parse_line_chart(html_content):\n",
    "    soup = BeautifulSoup(html_content, 'html.parser')\n",
    "    line_chart_div = soup.find('div', id='linechart')\n",
    "\n",
    "    if line_chart_div is None:\n",
    "        logging.error(\"Line chart div not found\")\n",
    "        return pd.DataFrame()\n",
    "\n",
    "    line_data = []\n",
    "\n",
    "    for team_div in line_chart_div.find_all('div', recursive=False):\n",
    "        h3 = team_div.find('h3')\n",
    "        if h3 is None:\n",
    "            logging.warning(\"Team name not found\")\n",
    "            continue\n",
    "        \n",
    "        team_name = h3.text.strip()\n",
    "        \n",
    "        for line_type_div in team_div.find_all('div', recursive=False):\n",
    "            line_type = line_type_div.get('class')[0] if line_type_div.get('class') else None\n",
    "            if line_type is None:\n",
    "                logging.warning(\"Line type not found\")\n",
    "                continue\n",
    "            \n",
    "            if line_type == 'f':\n",
    "                position_types = ['Left Wing', 'Center', 'Right Wing']\n",
    "            elif line_type == 'd':\n",
    "                position_types = ['Left D', 'Right D']\n",
    "            elif line_type == 'x':\n",
    "                position_types = ['Extra']\n",
    "            elif line_type == 'g':\n",
    "                position_types = ['Goalie']\n",
    "                goalie_count = 1  # Initialize goalie count\n",
    "            else:\n",
    "                continue\n",
    "\n",
    "            players = line_type_div.find_all('div')\n",
    "            if not players:\n",
    "                logging.warning(f\"No players found for {team_name} in {line_type}\")\n",
    "                continue\n",
    "            \n",
    "            for i, player in enumerate(players):\n",
    "                player_name = player.text.strip()\n",
    "                if line_type == 'x':\n",
    "                    player_name = player_name.split(' ')[0]\n",
    "                if line_type == 'g':\n",
    "                    line_number = f\"Goalie {goalie_count}\"\n",
    "                    goalie_count += 1\n",
    "                else:\n",
    "                    line_number = i // len(position_types) + 1\n",
    "\n",
    "                position = position_types[i % len(position_types)]\n",
    "                line_data.append({\n",
    "                    'Team': team_name,\n",
    "                    'Line': line_number,\n",
    "                    'Position': position,\n",
    "                    'Player': player_name\n",
    "                })\n",
    "\n",
    "    if not line_data:\n",
    "        logging.error(\"No line data was collected\")\n",
    "\n",
    "    df = pd.DataFrame(line_data)\n",
    "    \n",
    "    # # Log DataFrame info for debugging\n",
    "    # if df.empty:\n",
    "    #     logging.warning(\"Generated line chart DataFrame is empty.\")\n",
    "    # else:\n",
    "    #     logging.info(f\"Generated line chart DataFrame with columns: {df.columns.tolist()}\")\n",
    "\n",
    "    return df\n",
    "\n",
    "### Get the Linescore Elements - Score, shots, ect by period####\n",
    "### UPDATED \n",
    "\n",
    "def parse_linescore(html_content):\n",
    "    soup = BeautifulSoup(html_content, 'html.parser')\n",
    "    linescore_data = []\n",
    "    \n",
    "    # Parsing the Goals table\n",
    "    goals_table = soup.select_one(\"#goals table\")\n",
    "    if goals_table is None:\n",
    "        logging.error(\"Goals table not found\")\n",
    "        return None\n",
    "    \n",
    "    rows = goals_table.select('tbody tr')\n",
    "    if not rows:\n",
    "        logging.warning(\"No rows found in Goals table\")\n",
    "        return None\n",
    "    \n",
    "    for row in rows:\n",
    "        team_data = {}\n",
    "        td = row.select_one('td')\n",
    "        if td:\n",
    "            team_data['Team'] = td.text\n",
    "        else:\n",
    "            logging.warning(\"Team name not found in Goals table\")\n",
    "            continue\n",
    "\n",
    "        goals = row.select('td')[1:]\n",
    "        for i, goal in enumerate(goals):\n",
    "            period = i + 1\n",
    "            column_name = f'goals{period}' if i < len(goals) - 1 else 'goalsT'\n",
    "            team_data[column_name] = int(goal.text)\n",
    "        \n",
    "        linescore_data.append(team_data)\n",
    "    \n",
    "\n",
    "    # Parsing the Shots table\n",
    "    shots_table = soup.select_one(\"#shots table\")\n",
    "    if shots_table is None:\n",
    "        logging.error(\"Shots table not found\")\n",
    "        return None\n",
    "\n",
    "    rows = shots_table.select('tbody tr')\n",
    "    if not rows:\n",
    "        logging.warning(\"No rows found in Shots table\")\n",
    "        return None\n",
    "\n",
    "    for i, row in enumerate(rows):\n",
    "        shots = row.select('td')[1:]\n",
    "        if not shots:\n",
    "            logging.warning(f\"No shot data found for row {i+1} in Shots table\")\n",
    "            continue\n",
    "\n",
    "        for j, shot in enumerate(shots):\n",
    "            period = j + 1\n",
    "            column_name = f'shots{period}' if j < len(shots) - 1 else 'shotsT'\n",
    "            try:\n",
    "                linescore_data[i][column_name] = int(shot.text.strip())\n",
    "            except ValueError:\n",
    "                logging.warning(f\"Could not convert shot data to integer for row {i+1}, column {j+1}\")\n",
    "                linescore_data[i][column_name] = None\n",
    "\n",
    "    # Parsing the PP table\n",
    "    pp_table = soup.select_one(\"#pp table\")\n",
    "    if pp_table is None:\n",
    "        logging.error(\"PP table not found\")\n",
    "        return None\n",
    "\n",
    "    rows = pp_table.select('tbody tr')\n",
    "    if not rows:\n",
    "        logging.warning(\"No rows found in PP table\")\n",
    "        return None\n",
    "\n",
    "    for i, row in enumerate(rows):\n",
    "        try:\n",
    "            pen_pim = row.select('td')[1].text.split('‑')\n",
    "            linescore_data[i]['Pen'] = int(pen_pim[0])\n",
    "            linescore_data[i]['PIM'] = int(pen_pim[1])\n",
    "\n",
    "            ppg_ppo = row.select('td')[2].text.split('‑')\n",
    "            linescore_data[i]['PPG'] = int(ppg_ppo[0])\n",
    "            linescore_data[i]['PPO'] = int(ppg_ppo[1])\n",
    "\n",
    "            fow_fol = row.select('td')[3].text.split('‑')\n",
    "            linescore_data[i]['FOW'] = int(fow_fol[0])\n",
    "            linescore_data[i]['FOL'] = int(fow_fol[1])\n",
    "            linescore_data[i]['FOW%'] = (linescore_data[i]['FOW'] / (linescore_data[i]['FOW'] + linescore_data[i]['FOL'])) * 100\n",
    "\n",
    "        except (ValueError, IndexError) as e:\n",
    "            logging.warning(f\"Could not process PP data for row {i+1}. Error: {e}\")\n",
    "            continue\n",
    "\n",
    "    # Convert to DataFrame early\n",
    "    df = pd.DataFrame(linescore_data)\n",
    "\n",
    "    # Ensure all columns exist\n",
    "    expected_goals_columns = [f'goals{i}' for i in range(1, 5)] + ['goalsT']\n",
    "    expected_shots_columns = [f'shots{i}' for i in range(1, 5)] + ['shotsT']\n",
    "\n",
    "    for col in expected_goals_columns + expected_shots_columns:\n",
    "        if col not in df.columns:\n",
    "            df[col] = 0\n",
    "\n",
    "    # Return the final DataFrame\n",
    "    return df\n",
    "\n",
    "\n",
    "# ############################## ORIGINAL FUNCTION #########################################\n",
    "# def parse_linescore(html_content):\n",
    "#     soup = BeautifulSoup(html_content, 'html.parser')\n",
    "#     linescore_data = []\n",
    "    \n",
    "#     # Parsing the Goals table\n",
    "#     goals_table = soup.select_one(\"#goals table\")\n",
    "#     if goals_table is None:\n",
    "#         logging.error(\"Goals table not found\")\n",
    "#         return None\n",
    "    \n",
    "#     rows = goals_table.select('tbody tr')\n",
    "#     if not rows:\n",
    "#         logging.warning(\"No rows found in Goals table\")\n",
    "#         return None\n",
    "    \n",
    "#     for row in rows:\n",
    "#         team_data = {}\n",
    "#         td = row.select_one('td')\n",
    "#         if td:\n",
    "#             team_data['Team'] = td.text\n",
    "#         else:\n",
    "#             logging.warning(\"Team name not found in Goals table\")\n",
    "#             continue\n",
    "\n",
    "#         goals = row.select('td')[1:]\n",
    "#         for i, goal in enumerate(goals):\n",
    "#             period = i + 1\n",
    "#             column_name = f'goals{period}' if i < len(goals) - 1 else 'goalsT'\n",
    "#             team_data[column_name] = int(goal.text)\n",
    "        \n",
    "#         linescore_data.append(team_data)\n",
    "    \n",
    "\n",
    "#     # Parsing the Shots table\n",
    "#     shots_table = soup.select_one(\"#shots table\")\n",
    "#     if shots_table is None:\n",
    "#         logging.error(\"Shots table not found\")\n",
    "#         return None\n",
    "\n",
    "#     rows = shots_table.select('tbody tr')\n",
    "#     if not rows:\n",
    "#         logging.warning(\"No rows found in Shots table\")\n",
    "#         return None\n",
    "\n",
    "#     for i, row in enumerate(rows):\n",
    "#         shots = row.select('td')[1:]\n",
    "#         if not shots:\n",
    "#             logging.warning(f\"No shot data found for row {i+1} in Shots table\")\n",
    "#             continue\n",
    "\n",
    "#         for j, shot in enumerate(shots):\n",
    "#             period = j + 1\n",
    "#             column_name = f'shots{period}' if j < len(shots) - 1 else 'shotsT'\n",
    "#             try:\n",
    "#                 linescore_data[i][column_name] = int(shot.text.strip())\n",
    "#             except ValueError:\n",
    "#                 logging.warning(f\"Could not convert shot data to integer for row {i+1}, column {j+1}\")\n",
    "#                 linescore_data[i][column_name] = None\n",
    "\n",
    "#     # Parsing the PP table\n",
    "#     pp_table = soup.select_one(\"#pp table\")\n",
    "#     if pp_table is None:\n",
    "#         logging.error(\"PP table not found\")\n",
    "#         return None\n",
    "\n",
    "#     rows = pp_table.select('tbody tr')\n",
    "#     if not rows:\n",
    "#         logging.warning(\"No rows found in PP table\")\n",
    "#         return None\n",
    "\n",
    "#     for i, row in enumerate(rows):\n",
    "#         try:\n",
    "#             pen_pim = row.select('td')[1].text.split('‑')\n",
    "#             linescore_data[i]['Pen'] = int(pen_pim[0])\n",
    "#             linescore_data[i]['PIM'] = int(pen_pim[1])\n",
    "\n",
    "#             ppg_ppo = row.select('td')[2].text.split('‑')\n",
    "#             linescore_data[i]['PPG'] = int(ppg_ppo[0])\n",
    "#             linescore_data[i]['PPO'] = int(ppg_ppo[1])\n",
    "\n",
    "#             fow_fol = row.select('td')[3].text.split('‑')\n",
    "#             linescore_data[i]['FOW'] = int(fow_fol[0])\n",
    "#             linescore_data[i]['FOL'] = int(fow_fol[1])\n",
    "#             linescore_data[i]['FOW%'] = (linescore_data[i]['FOW'] / (linescore_data[i]['FOW'] + linescore_data[i]['FOL'])) * 100\n",
    "\n",
    "#         except (ValueError, IndexError) as e:\n",
    "#             logging.warning(f\"Could not process PP data for row {i+1}. Error: {e}\")\n",
    "#             continue\n",
    "\n",
    "#     return pd.DataFrame(linescore_data)\n",
    "\n",
    "\n",
    "\n",
    "# Function to parse game details\n",
    "\n",
    "\n",
    "def parse_game_details(html_content):\n",
    "    soup = BeautifulSoup(html_content, 'html.parser')\n",
    "    meta_div = soup.find('div', {'id': 'meta'})\n",
    "    if meta_div is None:\n",
    "        logging.error(\"Meta div not found\")\n",
    "        return None\n",
    "    \n",
    "    game_details_div = meta_div.find_all('div')[-1]\n",
    "    if game_details_div is None:\n",
    "        logging.error(\"Game details div not found\")\n",
    "        return None\n",
    "    \n",
    "    try:\n",
    "        date_str = game_details_div.h4.string\n",
    "        day_of_week, date = date_str.split(\", \", 1)\n",
    "        \n",
    "        p_elements = game_details_div.find_all('p')\n",
    "        \n",
    "        # Extract conference and location details\n",
    "        for p in p_elements:\n",
    "            if \"Game\" in p.text:  # e.g., \"Big Ten Game\"\n",
    "                details_strs = p.get_text(separator='|').split('|')\n",
    "                conference = details_strs[0]\n",
    "                location = details_strs[-1].split('at ')[-1]\n",
    "                break\n",
    "        else:  # Defaults if not found\n",
    "            conference, location = None, None\n",
    "        \n",
    "        # Extract referees and assistant referees details\n",
    "        for p in p_elements:\n",
    "            if \"Referees\" in p.text:\n",
    "                refs_str = p.strong.next_sibling if p.strong else None\n",
    "                asst_refs_str = p.find_all('strong')[1].next_sibling if len(p.find_all('strong')) > 1 else None\n",
    "                break\n",
    "        else:  # Defaults if not found\n",
    "            refs_str, asst_refs_str = None, None\n",
    "        \n",
    "        refs = refs_str.split(', ') if refs_str else []\n",
    "        asst_refs = asst_refs_str.split(', ') if asst_refs_str else []\n",
    "        refs = [re.sub(r'[^a-zA-Z ]+', '', ref).strip() for ref in refs]\n",
    "        asst_refs = [re.sub(r'[^a-zA-Z ]+', '', ref).strip() for ref in asst_refs]\n",
    "        \n",
    "        # Extract attendance details using regex for better accuracy\n",
    "        attendance_pattern = r\"Attendance:\\s?(\\d+[\\d,]*)\"\n",
    "        attendance_match = re.search(attendance_pattern, html_content)\n",
    "        attendance = int(attendance_match.group(1).replace(',', '')) if attendance_match else None\n",
    "        \n",
    "        # Extract game details (like shootout results)\n",
    "        details = None\n",
    "        for p in p_elements:\n",
    "            if \"shootout\" in p.text:\n",
    "                details = p.text\n",
    "                break\n",
    "        \n",
    "        # Clean details if present\n",
    "        if details and '\\n' in details:\n",
    "            details = details.replace('\\n', '').strip()\n",
    "        if details and '\\t' in details:\n",
    "            details = re.sub('\\t', ' ', details)\n",
    "        \n",
    "        game_details = {\n",
    "            'Day': day_of_week,\n",
    "            'Date': date,\n",
    "            'Conference': conference,\n",
    "            'Details': details,\n",
    "            'Location': location,\n",
    "            'Ref1': refs[0] if refs else None,\n",
    "            'Ref2': refs[1] if len(refs) > 1 else None,\n",
    "            'Asst_Ref1': asst_refs[0] if asst_refs else None,\n",
    "            'Asst_Ref2': asst_refs[1] if len(asst_refs) > 1 else None,\n",
    "            'Attendance': attendance\n",
    "        }\n",
    "        \n",
    "        game_details_df = pd.DataFrame([game_details])\n",
    "        return game_details_df\n",
    "\n",
    "    except (AttributeError, IndexError, ValueError) as e:\n",
    "        logging.error(f\"Error while parsing game details: {e}\")\n",
    "        return None\n",
    "\n",
    "\n",
    "def parse_box_score(box_score_html):\n",
    "    # Initialize DataFrames to None\n",
    "    scoring_summary = penalty_summary = goalie_stats = player_stats = line_chart = linescore = game_details = None\n",
    "    \n",
    "    try:\n",
    "        scoring_summary = parse_scoring_summary(box_score_html)\n",
    "    except Exception as e:\n",
    "        print(f\"Error in parse_scoring_summary: {e}\")\n",
    "    \n",
    "    try:\n",
    "        penalty_summary = parse_penalty_summary(box_score_html)\n",
    "    except Exception as e:\n",
    "        print(f\"Error in parse_penalty_summary: {e}\")\n",
    "    \n",
    "    try:\n",
    "        goalie_stats = parse_goalie_stats(box_score_html)\n",
    "    except Exception as e:\n",
    "        print(f\"Error in parse_goalie_stats: {e}\")\n",
    "    \n",
    "    try:\n",
    "        player_stats = parse_player_summary(box_score_html)\n",
    "    except Exception as e:\n",
    "        print(f\"Error in parse_player_summary: {e}\")\n",
    "    \n",
    "    try:\n",
    "        line_chart = parse_line_chart(box_score_html)\n",
    "        if line_chart.empty:\n",
    "            logging.info(\"Line chart is empty. Skipping the insert for this game.\")\n",
    "        else:\n",
    "            logging.info(f\"Line chart DataFrame structure: {line_chart.dtypes}\")\n",
    "\n",
    "        # Insert into database (make sure this part works as expected)\n",
    "\n",
    "    except Exception as e:\n",
    "        logging.error(f\"Error in parse_line_chart: {e}\")\n",
    "\n",
    "\n",
    "    \n",
    "    try:\n",
    "        linescore = parse_linescore(box_score_html)\n",
    "    except Exception as e:\n",
    "        print(f\"Error in parse_linescore: {e}\")\n",
    "    \n",
    "    try:\n",
    "        game_details = parse_game_details(box_score_html)\n",
    "    except Exception as e:\n",
    "        print(f\"Error in parse_game_details: {e}\")\n",
    "    \n",
    "    # Combine DataFrames into a list\n",
    "    all_dfs = [game_details, scoring_summary, penalty_summary, goalie_stats, player_stats, line_chart, linescore]\n",
    "    \n",
    "    return all_dfs\n",
    "\n",
    "\n",
    "def rename_duplicate_columns(df):\n",
    "    cols = pd.Series(df.columns)\n",
    "    for dup in df.columns[df.columns.duplicated()].unique(): \n",
    "        cols[df.columns.get_loc(dup)] = [f\"{dup}_{i}\" if i != 0 else dup for i in range(df.columns.get_loc(dup).sum())]\n",
    "    df.columns = cols\n",
    "    return df\n",
    "\n",
    "\n",
    "\n",
    "\n",
    "# Function to save DataFrames to SQLite database\n",
    "import sqlite3\n",
    "from sqlalchemy import create_engine\n",
    "\n",
    "# Modified Function to save DataFrames to SQLite database\n",
    "def save_to_sqlite_db(df_list, table_names, tag=''):\n",
    "    db_name = f\"../TEMP/{FILE_TAG}_Game_Stats.db\"\n",
    "    engine = create_engine(f'sqlite:///{db_name}')\n",
    "    \n",
    "    for df, table in zip(df_list, table_names):\n",
    "        try:\n",
    "            df = rename_duplicate_columns(df)\n",
    "            df.to_sql(table, engine, if_exists='append', index=False)\n",
    "        except Exception as e:\n",
    "            print(f\"Error saving to table {table}: {e}\")\n",
    "\n",
    "############# OLDER FUNCTION ################\n",
    "# def save_to_sqlite_db(df_list, table_names, tag=''):\n",
    "#     db_name = f\"../TEMP/NEWEST_Scrape_Game_Stats.db\"  # Create DB file name using the TAG\n",
    "#     engine = create_engine(f'sqlite:///{db_name}')\n",
    "    \n",
    "#     for df, table in zip(df_list, table_names):\n",
    "#         # Assuming rename_duplicate_columns is a function you've defined earlier\n",
    "#         df = rename_duplicate_columns(df)\n",
    "#         df.to_sql(table, engine, if_exists='append', index=False)\n",
    "\n",
    "# Function to fetch and save data\n",
    "# Modified Function to fetch and save data\n",
    "def fetch_and_save_data_to_db(box_score_url, advanced_metrics_url, tag=f'{tag}'):  # Added tag parameter\n",
    "    db_name = f\"{tag} CHN Data.db\"  # Create DB name using the TAG\n",
    "    # Fetch HTML content for box score\n",
    "    box_score_response = requests.get(box_score_url)\n",
    "    box_score_html = box_score_response.text\n",
    "    \n",
    "    # Fetch HTML content for advanced metrics\n",
    "    advanced_metrics_response = requests.get(advanced_metrics_url)\n",
    "    advanced_metrics_html = advanced_metrics_response.text\n",
    "    \n",
    "    # Parse box score into list of DataFrames\n",
    "    box_score_dfs = parse_box_score(box_score_html)\n",
    "    \n",
    "    # Parse advanced metrics into list of DataFrames\n",
    "    advanced_metrics_df = parse_advanced_metrics_tables(advanced_metrics_html)\n",
    "    advanced_metrics_dfs = [advanced_metrics_df]\n",
    "    \n",
    "    # Combine all DataFrames into a list\n",
    "    all_dfs = box_score_dfs + advanced_metrics_dfs\n",
    "    \n",
    "    # Define table names for these DataFrames\n",
    "    table_names = ['game_details', 'scoring_summary', 'penalty_summary', \n",
    "                    'goalie_stats', 'player_stats', 'line_chart', 'linescore',\n",
    "                    'advanced_metrics']\n",
    "\n",
    "\n",
    "    # if len(all_dfs) != len(table_names):\n",
    "    #     raise ValueError(\"Mismatch between number of DataFrames and table names!\")\n",
    "\n",
    "    # Diagnostic Step 1: Print the number of DataFrames and table names\n",
    "    # print(f\"Number of DataFrames: {len(all_dfs)}\")\n",
    "    # print(f\"Number of table names: {len(table_names)}\")\n",
    "\n",
    "    # Diagnostic Step 2: Print the names of the columns for each DataFrame\n",
    "    # for df in all_dfs:\n",
    "    #     print(df.columns.tolist())\n",
    "\n",
    "\n",
    "    # Create a game_id for the game and apply it to all dataframes\n",
    "    # Game ID YYYMMDD-HomeTeam-AwayTeam\n",
    "    for df in all_dfs:\n",
    "        df['Game_ID'] = game_id\n",
    "\n",
    "        # Diagnostic check\n",
    "    if len(all_dfs) != len(table_names):\n",
    "        print(f\"Mismatch detected!\")\n",
    "        print(f\"box_score_url: {box_score_url}\")\n",
    "        print(f\"advanced_metrics_url: {advanced_metrics_url}\")\n",
    "    \n",
    "    # Save DataFrames to SQLite database\n",
    "    save_to_sqlite_db(all_dfs, table_names, tag)  # Pass the tag here\n",
    "    \n",
    "    return all_dfs\n"
   ]
  },
  {
   "cell_type": "code",
   "execution_count": 5,
   "metadata": {},
   "outputs": [],
   "source": [
    "# # Example usage:\n",
    "# TAG = \"NEW2022-2023\"\n",
    "# save_to_sqlite_db(df_list, table_names, TAG)\n",
    "# fetch_and_save_data_to_db(box_score_url, advanced_metrics_url, TAG)"
   ]
  },
  {
   "cell_type": "code",
   "execution_count": 6,
   "metadata": {},
   "outputs": [
    {
     "name": "stderr",
     "output_type": "stream",
     "text": [
      "Scraping games:   0%|          | 0/1106 [00:00<?, ?it/s]"
     ]
    },
    {
     "name": "stderr",
     "output_type": "stream",
     "text": [
      "Scraping games:   2%|▏         | 26/1106 [01:10<52:24,  2.91s/it]"
     ]
    },
    {
     "name": "stdout",
     "output_type": "stream",
     "text": [
      "Error saving to table line_chart: (sqlite3.OperationalError) table line_chart has no column named Team\n",
      "[SQL: INSERT INTO line_chart (\"Team\", \"Line\", \"Position\", \"Player\", \"Game_ID\") VALUES (?, ?, ?, ?, ?)]\n",
      "[parameters: [('Boston College', 1, 'Left Wing', 'Brandon Kruse', '2021-10-08-Boston College-Quinnipiac'), ('Boston College', 1, 'Center', 'Jack McBain', '2021-10-08-Boston College-Quinnipiac'), ('Boston College', 1, 'Right Wing', 'Colby Ambrosio', '2021-10-08-Boston College-Quinnipiac'), ('Boston College', 2, 'Left Wing', 'Trevor Kuntar', '2021-10-08-Boston College-Quinnipiac'), ('Boston College', 2, 'Center', 'Marc McLaughlin', '2021-10-08-Boston College-Quinnipiac'), ('Boston College', 2, 'Right Wing', 'Nikita Nesterenko', '2021-10-08-Boston College-Quinnipiac'), ('Boston College', 3, 'Left Wing', 'Mike Posma', '2021-10-08-Boston College-Quinnipiac'), ('Boston College', 3, 'Center', 'Patrick Giles', '2021-10-08-Boston College-Quinnipiac')  ... displaying 10 of 42 total bound parameter sets ...  ('Quinnipiac', 'Goalie 1', 'Goalie', 'Yaniv Perets', '2021-10-08-Boston College-Quinnipiac'), ('Quinnipiac', 'Goalie 2', 'Goalie', 'Noah Altman', '2021-10-08-Boston College-Quinnipiac')]]\n",
      "(Background on this error at: https://sqlalche.me/e/20/e3q8)\n"
     ]
    },
    {
     "name": "stderr",
     "output_type": "stream",
     "text": [
      "Scraping games:   2%|▏         | 27/1106 [01:13<51:48,  2.88s/it]"
     ]
    },
    {
     "name": "stdout",
     "output_type": "stream",
     "text": [
      "Error saving to table line_chart: (sqlite3.OperationalError) table line_chart has no column named Team\n",
      "[SQL: INSERT INTO line_chart (\"Team\", \"Line\", \"Position\", \"Player\", \"Game_ID\") VALUES (?, ?, ?, ?, ?)]\n",
      "[parameters: [('Holy Cross', 1, 'Left Wing', 'Jack Ricketts', '2021-10-08-Holy Cross-Northeastern'), ('Holy Cross', 1, 'Center', 'Matt Guerra', '2021-10-08-Holy Cross-Northeastern'), ('Holy Cross', 1, 'Right Wing', 'Alex Peterson', '2021-10-08-Holy Cross-Northeastern'), ('Holy Cross', 2, 'Left Wing', 'Tyler Ghirardosi', '2021-10-08-Holy Cross-Northeastern'), ('Holy Cross', 2, 'Center', 'Ryan Leibold', '2021-10-08-Holy Cross-Northeastern'), ('Holy Cross', 2, 'Right Wing', 'Anthony Vincent', '2021-10-08-Holy Cross-Northeastern'), ('Holy Cross', 3, 'Left Wing', 'Lucas Thorne', '2021-10-08-Holy Cross-Northeastern'), ('Holy Cross', 3, 'Center', 'Daniel Colabufo', '2021-10-08-Holy Cross-Northeastern')  ... displaying 10 of 44 total bound parameter sets ...  ('Northeastern', 'Goalie 2', 'Goalie', 'Devon Levi', '2021-10-08-Holy Cross-Northeastern'), ('Northeastern', 'Goalie 3', 'Goalie', 'TJ Semptimphelter', '2021-10-08-Holy Cross-Northeastern')]]\n",
      "(Background on this error at: https://sqlalche.me/e/20/e3q8)\n"
     ]
    },
    {
     "name": "stderr",
     "output_type": "stream",
     "text": [
      "Scraping games:   3%|▎         | 29/1106 [01:18<51:42,  2.88s/it]"
     ]
    },
    {
     "name": "stdout",
     "output_type": "stream",
     "text": [
      "Error saving to table line_chart: (sqlite3.OperationalError) table line_chart has no column named Team\n",
      "[SQL: INSERT INTO line_chart (\"Team\", \"Line\", \"Position\", \"Player\", \"Game_ID\") VALUES (?, ?, ?, ?, ?)]\n",
      "[parameters: [('Air Force', 1, 'Left Wing', 'Nate Horn', '2021-10-08-Air Force-Michigan State'), ('Air Force', 1, 'Center', 'Andrew DeCarlo', '2021-10-08-Air Force-Michigan State'), ('Air Force', 1, 'Right Wing', 'Willie Reim', '2021-10-08-Air Force-Michigan State'), ('Air Force', 2, 'Left Wing', 'Will Gavin', '2021-10-08-Air Force-Michigan State'), ('Air Force', 2, 'Center', 'Clayton Cosentino', '2021-10-08-Air Force-Michigan State'), ('Air Force', 2, 'Right Wing', 'Parker Brown', '2021-10-08-Air Force-Michigan State'), ('Air Force', 3, 'Left Wing', 'Brian Adams', '2021-10-08-Air Force-Michigan State'), ('Air Force', 3, 'Center', 'Lucas Coon', '2021-10-08-Air Force-Michigan State')  ... displaying 10 of 44 total bound parameter sets ...  ('Michigan State', 'Goalie 2', 'Goalie', 'Pierce Charleson', '2021-10-08-Air Force-Michigan State'), ('Michigan State', 'Goalie 3', 'Goalie', 'Jon Mor', '2021-10-08-Air Force-Michigan State')]]\n",
      "(Background on this error at: https://sqlalche.me/e/20/e3q8)\n"
     ]
    },
    {
     "name": "stderr",
     "output_type": "stream",
     "text": [
      "Scraping games:   3%|▎         | 30/1106 [01:21<50:29,  2.82s/it]"
     ]
    },
    {
     "name": "stdout",
     "output_type": "stream",
     "text": [
      "Error saving to table line_chart: (sqlite3.OperationalError) table line_chart has no column named Team\n",
      "[SQL: INSERT INTO line_chart (\"Team\", \"Line\", \"Position\", \"Player\", \"Game_ID\") VALUES (?, ?, ?, ?, ?)]\n",
      "[parameters: [('New Hampshire', 1, 'Left Wing', 'Tyler Ward', '2021-10-08-Union-New Hampshire'), ('New Hampshire', 1, 'Center', 'Jackson Pierson', '2021-10-08-Union-New Hampshire'), ('New Hampshire', 1, 'Right Wing', 'Robert Cronin', '2021-10-08-Union-New Hampshire'), ('New Hampshire', 2, 'Left Wing', 'Chase Stevenson', '2021-10-08-Union-New Hampshire'), ('New Hampshire', 2, 'Center', 'Filip Engaras', '2021-10-08-Union-New Hampshire'), ('New Hampshire', 2, 'Right Wing', 'Eric MacAdams', '2021-10-08-Union-New Hampshire'), ('New Hampshire', 3, 'Left Wing', 'Liam Devlin', '2021-10-08-Union-New Hampshire'), ('New Hampshire', 3, 'Center', 'Harrison Blaisdell', '2021-10-08-Union-New Hampshire')  ... displaying 10 of 45 total bound parameter sets ...  ('Union', 'Goalie 1', 'Goalie', 'Garrett Nieto', '2021-10-08-Union-New Hampshire'), ('Union', 'Goalie 2', 'Goalie', 'Connor Murphy', '2021-10-08-Union-New Hampshire')]]\n",
      "(Background on this error at: https://sqlalche.me/e/20/e3q8)\n"
     ]
    },
    {
     "name": "stderr",
     "output_type": "stream",
     "text": [
      "Scraping games:   3%|▎         | 32/1106 [01:27<49:51,  2.79s/it]"
     ]
    },
    {
     "name": "stdout",
     "output_type": "stream",
     "text": [
      "Error saving to table line_chart: (sqlite3.OperationalError) table line_chart has no column named Team\n",
      "[SQL: INSERT INTO line_chart (\"Team\", \"Line\", \"Position\", \"Player\", \"Game_ID\") VALUES (?, ?, ?, ?, ?)]\n",
      "[parameters: [('Bowling Green', 1, 'Left Wing', 'Sam Craggs', '2021-10-08-Bowling Green-Rensselaer'), ('Bowling Green', 1, 'Center', 'Taylor Schneider', '2021-10-08-Bowling Green-Rensselaer'), ('Bowling Green', 1, 'Right Wing', 'Evan Dougherty', '2021-10-08-Bowling Green-Rensselaer'), ('Bowling Green', 2, 'Left Wing', 'Nathan Burke', '2021-10-08-Bowling Green-Rensselaer'), ('Bowling Green', 2, 'Center', 'Austen Swankler', '2021-10-08-Bowling Green-Rensselaer'), ('Bowling Green', 2, 'Right Wing', 'Alex Barber', '2021-10-08-Bowling Green-Rensselaer'), ('Bowling Green', 3, 'Left Wing', 'Coale Norris', '2021-10-08-Bowling Green-Rensselaer'), ('Bowling Green', 3, 'Center', 'Ethan Scardina', '2021-10-08-Bowling Green-Rensselaer')  ... displaying 10 of 45 total bound parameter sets ...  ('Rensselaer', 'Goalie 2', 'Goalie', 'Brett Miller', '2021-10-08-Bowling Green-Rensselaer'), ('Rensselaer', 'Goalie 3', 'Goalie', 'Jack Watson', '2021-10-08-Bowling Green-Rensselaer')]]\n",
      "(Background on this error at: https://sqlalche.me/e/20/e3q8)\n"
     ]
    },
    {
     "name": "stderr",
     "output_type": "stream",
     "text": [
      "Scraping games:   3%|▎         | 33/1106 [01:29<50:00,  2.80s/it]"
     ]
    },
    {
     "name": "stdout",
     "output_type": "stream",
     "text": [
      "Error saving to table line_chart: (sqlite3.OperationalError) table line_chart has no column named Team\n",
      "[SQL: INSERT INTO line_chart (\"Team\", \"Line\", \"Position\", \"Player\", \"Game_ID\") VALUES (?, ?, ?, ?, ?)]\n",
      "[parameters: [('Ferris State', 1, 'Left Wing', 'Liam MacDougall', '2021-10-08-Ferris State-Western Michigan'), ('Ferris State', 1, 'Center', 'Dallas Tulik', '2021-10-08-Ferris State-Western Michigan'), ('Ferris State', 1, 'Right Wing', 'Marshall Moise', '2021-10-08-Ferris State-Western Michigan'), ('Ferris State', 2, 'Left Wing', 'Mitch Deelstra', '2021-10-08-Ferris State-Western Michigan'), ('Ferris State', 2, 'Center', 'Stepan Pokorny', '2021-10-08-Ferris State-Western Michigan'), ('Ferris State', 2, 'Right Wing', 'Kaleb Ergang', '2021-10-08-Ferris State-Western Michigan'), ('Ferris State', 3, 'Left Wing', 'Antonio Venuto', '2021-10-08-Ferris State-Western Michigan'), ('Ferris State', 3, 'Center', 'Jake Transit', '2021-10-08-Ferris State-Western Michigan')  ... displaying 10 of 43 total bound parameter sets ...  ('Western Michigan', 'Goalie 2', 'Goalie', 'Alex Aslanidis', '2021-10-08-Ferris State-Western Michigan'), ('Western Michigan', 'Goalie 3', 'Goalie', 'Ross Hawryluk', '2021-10-08-Ferris State-Western Michigan')]]\n",
      "(Background on this error at: https://sqlalche.me/e/20/e3q8)\n"
     ]
    },
    {
     "name": "stderr",
     "output_type": "stream",
     "text": [
      "Scraping games:   3%|▎         | 34/1106 [01:32<50:32,  2.83s/it]"
     ]
    },
    {
     "name": "stdout",
     "output_type": "stream",
     "text": [
      "Error saving to table line_chart: (sqlite3.OperationalError) table line_chart has no column named Team\n",
      "[SQL: INSERT INTO line_chart (\"Team\", \"Line\", \"Position\", \"Player\", \"Game_ID\") VALUES (?, ?, ?, ?, ?)]\n",
      "[parameters: [('Colgate', 1, 'Left Wing', 'Colton Young', '2021-10-08-Colgate-Vermont'), ('Colgate', 1, 'Center', 'Jeff Stewart', '2021-10-08-Colgate-Vermont'), ('Colgate', 1, 'Right Wing', 'Ethan Manderville', '2021-10-08-Colgate-Vermont'), ('Colgate', 2, 'Left Wing', 'Arnaud Vachon', '2021-10-08-Colgate-Vermont'), ('Colgate', 2, 'Center', 'Josh McKechney', '2021-10-08-Colgate-Vermont'), ('Colgate', 2, 'Right Wing', 'Alex Young', '2021-10-08-Colgate-Vermont'), ('Colgate', 3, 'Left Wing', 'Matt Verboon', '2021-10-08-Colgate-Vermont'), ('Colgate', 3, 'Center', 'Paul McAvoy', '2021-10-08-Colgate-Vermont')  ... displaying 10 of 44 total bound parameter sets ...  ('Vermont', 'Goalie 2', 'Goalie', 'Gabe Carriere', '2021-10-08-Colgate-Vermont'), ('Vermont', 'Goalie 3', 'Goalie', 'Cole Hudson', '2021-10-08-Colgate-Vermont')]]\n",
      "(Background on this error at: https://sqlalche.me/e/20/e3q8)\n"
     ]
    },
    {
     "name": "stderr",
     "output_type": "stream",
     "text": [
      "Scraping games:   3%|▎         | 35/1106 [01:35<50:27,  2.83s/it]"
     ]
    },
    {
     "name": "stdout",
     "output_type": "stream",
     "text": [
      "Error saving to table line_chart: (sqlite3.OperationalError) table line_chart has no column named Team\n",
      "[SQL: INSERT INTO line_chart (\"Team\", \"Line\", \"Position\", \"Player\", \"Game_ID\") VALUES (?, ?, ?, ?, ?)]\n",
      "[parameters: [('Bentley', 1, 'Left Wing', 'Phil Knies', '2021-10-08-Ohio State-Bentley'), ('Bentley', 1, 'Center', 'Brendan Hamblet', '2021-10-08-Ohio State-Bentley'), ('Bentley', 1, 'Right Wing', 'Cooper Connell', '2021-10-08-Ohio State-Bentley'), ('Bentley', 2, 'Left Wing', 'Kohei Sato', '2021-10-08-Ohio State-Bentley'), ('Bentley', 2, 'Center', 'Matt Gosiewski', '2021-10-08-Ohio State-Bentley'), ('Bentley', 2, 'Right Wing', 'Eric Linell', '2021-10-08-Ohio State-Bentley'), ('Bentley', 3, 'Left Wing', 'Brendan Walkom', '2021-10-08-Ohio State-Bentley'), ('Bentley', 3, 'Center', 'Ethan Harrison', '2021-10-08-Ohio State-Bentley')  ... displaying 10 of 44 total bound parameter sets ...  ('Ohio State', 'Goalie 2', 'Goalie', 'Jakub Dobeš', '2021-10-08-Ohio State-Bentley'), ('Ohio State', 'Goalie 3', 'Goalie', 'Reilly Herbst', '2021-10-08-Ohio State-Bentley')]]\n",
      "(Background on this error at: https://sqlalche.me/e/20/e3q8)\n"
     ]
    },
    {
     "name": "stderr",
     "output_type": "stream",
     "text": [
      "Scraping games:   3%|▎         | 36/1106 [01:38<51:09,  2.87s/it]"
     ]
    },
    {
     "name": "stdout",
     "output_type": "stream",
     "text": [
      "Error saving to table line_chart: (sqlite3.OperationalError) table line_chart has no column named Team\n",
      "[SQL: INSERT INTO line_chart (\"Team\", \"Line\", \"Position\", \"Player\", \"Game_ID\") VALUES (?, ?, ?, ?, ?)]\n",
      "[parameters: [('Lake Superior', 1, 'Left Wing', 'Miroslav Mucha', '2021-10-08-Lake Superior-Michigan'), ('Lake Superior', 1, 'Center', 'Dustin Manz', '2021-10-08-Lake Superior-Michigan'), ('Lake Superior', 1, 'Right Wing', 'Josh Nixon', '2021-10-08-Lake Superior-Michigan'), ('Lake Superior', 2, 'Left Wing', 'Dawson Tritt', '2021-10-08-Lake Superior-Michigan'), ('Lake Superior', 2, 'Center', 'Louis Boudon', '2021-10-08-Lake Superior-Michigan'), ('Lake Superior', 2, 'Right Wing', 'Brandon Puricelli', '2021-10-08-Lake Superior-Michigan'), ('Lake Superior', 3, 'Left Wing', 'Logan Jenuwine', '2021-10-08-Lake Superior-Michigan'), ('Lake Superior', 3, 'Center', 'Harrison Roy', '2021-10-08-Lake Superior-Michigan')  ... displaying 10 of 44 total bound parameter sets ...  ('Michigan', 'Goalie 2', 'Goalie', 'Erik Portillo', '2021-10-08-Lake Superior-Michigan'), ('Michigan', 'Goalie 3', 'Goalie', 'Noah West', '2021-10-08-Lake Superior-Michigan')]]\n",
      "(Background on this error at: https://sqlalche.me/e/20/e3q8)\n"
     ]
    },
    {
     "name": "stderr",
     "output_type": "stream",
     "text": [
      "Scraping games:   3%|▎         | 37/1106 [01:41<50:30,  2.83s/it]"
     ]
    },
    {
     "name": "stdout",
     "output_type": "stream",
     "text": [
      "Error saving to table line_chart: (sqlite3.OperationalError) table line_chart has no column named Team\n",
      "[SQL: INSERT INTO line_chart (\"Team\", \"Line\", \"Position\", \"Player\", \"Game_ID\") VALUES (?, ?, ?, ?, ?)]\n",
      "[parameters: [('Michigan Tech', 1, 'Left Wing', 'Trenton Bliss', '2021-10-08-Michigan Tech-Wisconsin'), ('Michigan Tech', 1, 'Center', 'Arvid Caderoth', '2021-10-08-Michigan Tech-Wisconsin'), ('Michigan Tech', 1, 'Right Wing', 'Tommy Parrottino', '2021-10-08-Michigan Tech-Wisconsin'), ('Michigan Tech', 2, 'Left Wing', 'Alec Broetzman', '2021-10-08-Michigan Tech-Wisconsin'), ('Michigan Tech', 2, 'Center', 'Matthew Quercia', '2021-10-08-Michigan Tech-Wisconsin'), ('Michigan Tech', 2, 'Right Wing', 'Logan Pietila', '2021-10-08-Michigan Tech-Wisconsin'), ('Michigan Tech', 3, 'Left Wing', 'Nick Nardella', '2021-10-08-Michigan Tech-Wisconsin'), ('Michigan Tech', 3, 'Center', 'Parker Saretsky', '2021-10-08-Michigan Tech-Wisconsin')  ... displaying 10 of 42 total bound parameter sets ...  ('Wisconsin', 'Goalie 2', 'Goalie', 'Cameron Rowe', '2021-10-08-Michigan Tech-Wisconsin'), ('Wisconsin', 'Goalie 3', 'Goalie', 'Ben Garrity', '2021-10-08-Michigan Tech-Wisconsin')]]\n",
      "(Background on this error at: https://sqlalche.me/e/20/e3q8)\n"
     ]
    },
    {
     "name": "stderr",
     "output_type": "stream",
     "text": [
      "Scraping games:   3%|▎         | 38/1106 [01:44<50:35,  2.84s/it]"
     ]
    },
    {
     "name": "stdout",
     "output_type": "stream",
     "text": [
      "Error saving to table line_chart: (sqlite3.OperationalError) table line_chart has no column named Team\n",
      "[SQL: INSERT INTO line_chart (\"Team\", \"Line\", \"Position\", \"Player\", \"Game_ID\") VALUES (?, ?, ?, ?, ?)]\n",
      "[parameters: [('Mercyhurst', 1, 'Left Wing', 'Pierce Crawford', '2021-10-08-Mercyhurst-Minnesota'), ('Mercyhurst', 1, 'Center', 'Steven Ipri', '2021-10-08-Mercyhurst-Minnesota'), ('Mercyhurst', 1, 'Right Wing', 'Rylee St. Onge', '2021-10-08-Mercyhurst-Minnesota'), ('Mercyhurst', 2, 'Left Wing', 'Jonathan Bendorf', '2021-10-08-Mercyhurst-Minnesota'), ('Mercyhurst', 2, 'Center', 'Gueorgui Feduolov', '2021-10-08-Mercyhurst-Minnesota'), ('Mercyhurst', 2, 'Right Wing', 'Mickey Burns', '2021-10-08-Mercyhurst-Minnesota'), ('Mercyhurst', 3, 'Left Wing', 'Austin Heidemann', '2021-10-08-Mercyhurst-Minnesota'), ('Mercyhurst', 3, 'Center', 'Carson Briere', '2021-10-08-Mercyhurst-Minnesota')  ... displaying 10 of 43 total bound parameter sets ...  ('Minnesota', 'Goalie 2', 'Goalie', 'Justen Close', '2021-10-08-Mercyhurst-Minnesota'), ('Minnesota', 'Goalie 3', 'Goalie', 'Brennan Boynton', '2021-10-08-Mercyhurst-Minnesota')]]\n",
      "(Background on this error at: https://sqlalche.me/e/20/e3q8)\n"
     ]
    },
    {
     "name": "stderr",
     "output_type": "stream",
     "text": [
      "Scraping games:   4%|▎         | 39/1106 [01:46<49:41,  2.79s/it]"
     ]
    },
    {
     "name": "stdout",
     "output_type": "stream",
     "text": [
      "Error saving to table line_chart: (sqlite3.OperationalError) table line_chart has no column named Team\n",
      "[SQL: INSERT INTO line_chart (\"Team\", \"Line\", \"Position\", \"Player\", \"Game_ID\") VALUES (?, ?, ?, ?, ?)]\n",
      "[parameters: [('Bemidji State', 1, 'Left Wing', 'Lukas Sillinger', '2021-10-08-Minnesota-Duluth-Bemidji State'), ('Bemidji State', 1, 'Center', 'Owen Sillinger', '2021-10-08-Minnesota-Duluth-Bemidji State'), ('Bemidji State', 1, 'Right Wing', 'Alex Ierullo', '2021-10-08-Minnesota-Duluth-Bemidji State'), ('Bemidji State', 2, 'Left Wing', 'Ethan Somoza', '2021-10-08-Minnesota-Duluth-Bemidji State'), ('Bemidji State', 2, 'Center', 'Ross Armour', '2021-10-08-Minnesota-Duluth-Bemidji State'), ('Bemidji State', 2, 'Right Wing', 'Eric Martin', '2021-10-08-Minnesota-Duluth-Bemidji State'), ('Bemidji State', 3, 'Left Wing', 'Jakub Lewandowski', '2021-10-08-Minnesota-Duluth-Bemidji State'), ('Bemidji State', 3, 'Center', 'Tyler Kirkup', '2021-10-08-Minnesota-Duluth-Bemidji State')  ... displaying 10 of 44 total bound parameter sets ...  ('Minnesota-Duluth', 'Goalie 2', 'Goalie', 'Ryan Fanti', '2021-10-08-Minnesota-Duluth-Bemidji State'), ('Minnesota-Duluth', 'Goalie 3', 'Goalie', 'Zach Stejskal', '2021-10-08-Minnesota-Duluth-Bemidji State')]]\n",
      "(Background on this error at: https://sqlalche.me/e/20/e3q8)\n"
     ]
    },
    {
     "name": "stderr",
     "output_type": "stream",
     "text": [
      "Scraping games:   4%|▎         | 40/1106 [01:49<50:44,  2.86s/it]"
     ]
    },
    {
     "name": "stdout",
     "output_type": "stream",
     "text": [
      "Error saving to table line_chart: (sqlite3.OperationalError) table line_chart has no column named Team\n",
      "[SQL: INSERT INTO line_chart (\"Team\", \"Line\", \"Position\", \"Player\", \"Game_ID\") VALUES (?, ?, ?, ?, ?)]\n",
      "[parameters: [('Niagara', 1, 'Left Wing', 'Walker Sommer', '2021-10-08-Niagara-North Dakota'), ('Niagara', 1, 'Center', 'Albin Nilsson', '2021-10-08-Niagara-North Dakota'), ('Niagara', 1, 'Right Wing', 'Christian Gorscak', '2021-10-08-Niagara-North Dakota'), ('Niagara', 2, 'Left Wing', 'Brandon Stanley', '2021-10-08-Niagara-North Dakota'), ('Niagara', 2, 'Center', 'Jack DeBoer', '2021-10-08-Niagara-North Dakota'), ('Niagara', 2, 'Right Wing', 'Ryan Naumovski', '2021-10-08-Niagara-North Dakota'), ('Niagara', 3, 'Left Wing', 'Carter Randklev', '2021-10-08-Niagara-North Dakota'), ('Niagara', 3, 'Center', 'Ryan Cox', '2021-10-08-Niagara-North Dakota')  ... displaying 10 of 44 total bound parameter sets ...  ('North Dakota', 'Goalie 2', 'Goalie', 'Harrison Feeney', '2021-10-08-Niagara-North Dakota'), ('North Dakota', 'Goalie 3', 'Goalie', 'Jakob Hellsten', '2021-10-08-Niagara-North Dakota')]]\n",
      "(Background on this error at: https://sqlalche.me/e/20/e3q8)\n"
     ]
    },
    {
     "name": "stderr",
     "output_type": "stream",
     "text": [
      "Scraping games:   4%|▎         | 41/1106 [01:52<50:43,  2.86s/it]"
     ]
    },
    {
     "name": "stdout",
     "output_type": "stream",
     "text": [
      "Error saving to table line_chart: (sqlite3.OperationalError) table line_chart has no column named Team\n",
      "[SQL: INSERT INTO line_chart (\"Team\", \"Line\", \"Position\", \"Player\", \"Game_ID\") VALUES (?, ?, ?, ?, ?)]\n",
      "[parameters: [('Maine', 1, 'Left Wing', 'Adam Dawe', '2021-10-08-Maine-Omaha'), ('Maine', 1, 'Center', 'Ben Poisson', '2021-10-08-Maine-Omaha'), ('Maine', 1, 'Right Wing', 'Nolan Renwick', '2021-10-08-Maine-Omaha'), ('Maine', 2, 'Left Wing', 'Jacob Schmidt-Svejstrup', '2021-10-08-Maine-Omaha'), ('Maine', 2, 'Center', 'Lynden Breen', '2021-10-08-Maine-Omaha'), ('Maine', 2, 'Right Wing', 'Donavan Villeneuve-Houle', '2021-10-08-Maine-Omaha'), ('Maine', 3, 'Left Wing', 'Grant Hebert', '2021-10-08-Maine-Omaha'), ('Maine', 3, 'Center', 'Keenan Suthers', '2021-10-08-Maine-Omaha')  ... displaying 10 of 44 total bound parameter sets ...  ('Omaha', 'Goalie 2', 'Goalie', 'Austin Roden', '2021-10-08-Maine-Omaha'), ('Omaha', 'Goalie 3', 'Goalie', 'Jacob Zab', '2021-10-08-Maine-Omaha')]]\n",
      "(Background on this error at: https://sqlalche.me/e/20/e3q8)\n"
     ]
    },
    {
     "name": "stderr",
     "output_type": "stream",
     "text": [
      "Scraping games:   4%|▍         | 42/1106 [01:55<50:25,  2.84s/it]"
     ]
    },
    {
     "name": "stdout",
     "output_type": "stream",
     "text": [
      "Error saving to table line_chart: (sqlite3.OperationalError) table line_chart has no column named Team\n",
      "[SQL: INSERT INTO line_chart (\"Team\", \"Line\", \"Position\", \"Player\", \"Game_ID\") VALUES (?, ?, ?, ?, ?)]\n",
      "[parameters: [('Minnesota State', 1, 'Left Wing', 'Julian Napravnik', '2021-10-08-St. Cloud State-Minnesota State'), ('Minnesota State', 1, 'Center', 'Nathan Smith', '2021-10-08-St. Cloud State-Minnesota State'), ('Minnesota State', 1, 'Right Wing', 'Cade Borchardt', '2021-10-08-St. Cloud State-Minnesota State'), ('Minnesota State', 2, 'Left Wing', 'Reggie Lutz', '2021-10-08-St. Cloud State-Minnesota State'), ('Minnesota State', 2, 'Center', 'Brendan Furry', '2021-10-08-St. Cloud State-Minnesota State'), ('Minnesota State', 2, 'Right Wing', 'Lucas Sowder', '2021-10-08-St. Cloud State-Minnesota State'), ('Minnesota State', 3, 'Left Wing', 'Josh Groll', '2021-10-08-St. Cloud State-Minnesota State'), ('Minnesota State', 3, 'Center', 'David Silye', '2021-10-08-St. Cloud State-Minnesota State')  ... displaying 10 of 44 total bound parameter sets ...  ('St. Cloud State', 'Goalie 2', 'Goalie', 'Joey Lamoreaux', '2021-10-08-St. Cloud State-Minnesota State'), ('St. Cloud State', 'Goalie 3', 'Goalie', 'Jaxon Castor', '2021-10-08-St. Cloud State-Minnesota State')]]\n",
      "(Background on this error at: https://sqlalche.me/e/20/e3q8)\n"
     ]
    },
    {
     "name": "stderr",
     "output_type": "stream",
     "text": [
      "Scraping games:   4%|▍         | 43/1106 [01:58<50:26,  2.85s/it]"
     ]
    },
    {
     "name": "stdout",
     "output_type": "stream",
     "text": [
      "Error saving to table line_chart: (sqlite3.OperationalError) table line_chart has no column named Team\n",
      "[SQL: INSERT INTO line_chart (\"Team\", \"Line\", \"Position\", \"Player\", \"Game_ID\") VALUES (?, ?, ?, ?, ?)]\n",
      "[parameters: [('Denver', 1, 'Left Wing', 'Carter Savoie', '2021-10-08-Arizona State-Denver'), ('Denver', 1, 'Center', 'Cole Guttman', '2021-10-08-Arizona State-Denver'), ('Denver', 1, 'Right Wing', 'Bobby Brink', '2021-10-08-Arizona State-Denver'), ('Denver', 2, 'Left Wing', 'Carter Mazur', '2021-10-08-Arizona State-Denver'), ('Denver', 2, 'Center', 'Massimo Rizzo', '2021-10-08-Arizona State-Denver'), ('Denver', 2, 'Right Wing', 'Cameron Wright', '2021-10-08-Arizona State-Denver'), ('Denver', 3, 'Left Wing', 'McKade Webster', '2021-10-08-Arizona State-Denver'), ('Denver', 3, 'Center', 'Brett Stapley', '2021-10-08-Arizona State-Denver')  ... displaying 10 of 42 total bound parameter sets ...  ('Arizona State', 'Goalie 1', 'Goalie', 'Ben Kraws', '2021-10-08-Arizona State-Denver'), ('Arizona State', 'Goalie 2', 'Goalie', 'Cole Brady', '2021-10-08-Arizona State-Denver')]]\n",
      "(Background on this error at: https://sqlalche.me/e/20/e3q8)\n"
     ]
    },
    {
     "name": "stderr",
     "output_type": "stream",
     "text": [
      "Scraping games:   4%|▍         | 44/1106 [02:01<50:53,  2.87s/it]"
     ]
    },
    {
     "name": "stdout",
     "output_type": "stream",
     "text": [
      "Error saving to table line_chart: (sqlite3.OperationalError) table line_chart has no column named Team\n",
      "[SQL: INSERT INTO line_chart (\"Team\", \"Line\", \"Position\", \"Player\", \"Game_ID\") VALUES (?, ?, ?, ?, ?)]\n",
      "[parameters: [('Colorado College', 1, 'Left Wing', 'Danny Weight', '2021-10-08-St. Lawrence-Colorado College'), ('Colorado College', 1, 'Center', 'Hunter McKown', '2021-10-08-St. Lawrence-Colorado College'), ('Colorado College', 1, 'Right Wing', 'Brian Hawkinson', '2021-10-08-St. Lawrence-Colorado College'), ('Colorado College', 2, 'Left Wing', 'Tyler Coffey', '2021-10-08-St. Lawrence-Colorado College'), ('Colorado College', 2, 'Center', 'Noah Prokop', '2021-10-08-St. Lawrence-Colorado College'), ('Colorado College', 2, 'Right Wing', 'Stanley Cooley', '2021-10-08-St. Lawrence-Colorado College'), ('Colorado College', 3, 'Left Wing', 'Matthew Gleason', '2021-10-08-St. Lawrence-Colorado College'), ('Colorado College', 3, 'Center', 'Logan Will', '2021-10-08-St. Lawrence-Colorado College')  ... displaying 10 of 43 total bound parameter sets ...  ('St. Lawrence', 'Goalie 1', 'Goalie', 'Emil Zetterquist', '2021-10-08-St. Lawrence-Colorado College'), ('St. Lawrence', 'Goalie 2', 'Goalie', 'Grant Adams', '2021-10-08-St. Lawrence-Colorado College')]]\n",
      "(Background on this error at: https://sqlalche.me/e/20/e3q8)\n"
     ]
    },
    {
     "name": "stderr",
     "output_type": "stream",
     "text": [
      "Scraping games:   4%|▍         | 45/1106 [02:04<50:03,  2.83s/it]"
     ]
    },
    {
     "name": "stdout",
     "output_type": "stream",
     "text": [
      "Error saving to table line_chart: (sqlite3.OperationalError) table line_chart has no column named Team\n",
      "[SQL: INSERT INTO line_chart (\"Team\", \"Line\", \"Position\", \"Player\", \"Game_ID\") VALUES (?, ?, ?, ?, ?)]\n",
      "[parameters: [('Alaska', 1, 'Left Wing', 'Didrik Henbrant', '2021-10-08-Clarkson-Alaska'), ('Alaska', 1, 'Center', 'Jakob Breault', '2021-10-08-Clarkson-Alaska'), ('Alaska', 1, 'Right Wing', 'Filip Fornaa Svennson', '2021-10-08-Clarkson-Alaska'), ('Alaska', 2, 'Left Wing', 'Riley Murphy', '2021-10-08-Clarkson-Alaska'), ('Alaska', 2, 'Center', 'Colin Doyle', '2021-10-08-Clarkson-Alaska'), ('Alaska', 2, 'Right Wing', 'Brady Risk', '2021-10-08-Clarkson-Alaska'), ('Alaska', 3, 'Left Wing', 'Nátán Vertes', '2021-10-08-Clarkson-Alaska'), ('Alaska', 3, 'Center', 'Payton Matsui', '2021-10-08-Clarkson-Alaska')  ... displaying 10 of 44 total bound parameter sets ...  ('Clarkson', 'Goalie 1', 'Goalie', 'Ethan Haider', '2021-10-08-Clarkson-Alaska'), ('Clarkson', 'Goalie 2', 'Goalie', 'Brady Parker', '2021-10-08-Clarkson-Alaska')]]\n",
      "(Background on this error at: https://sqlalche.me/e/20/e3q8)\n"
     ]
    },
    {
     "name": "stderr",
     "output_type": "stream",
     "text": [
      "Scraping games:   4%|▍         | 46/1106 [02:07<50:57,  2.88s/it]"
     ]
    },
    {
     "name": "stdout",
     "output_type": "stream",
     "text": [
      "Error saving to table line_chart: (sqlite3.OperationalError) table line_chart has no column named Team\n",
      "[SQL: INSERT INTO line_chart (\"Team\", \"Line\", \"Position\", \"Player\", \"Game_ID\") VALUES (?, ?, ?, ?, ?)]\n",
      "[parameters: [('Army', 1, 'Left Wing', 'Mitch Machlitt', '2021-10-08-RIT-Army'), ('Army', 1, 'Center', 'Eric Butte', '2021-10-08-RIT-Army'), ('Army', 1, 'Right Wing', 'Colin Bilek', '2021-10-08-RIT-Army'), ('Army', 2, 'Left Wing', 'Daniel Haider', '2021-10-08-RIT-Army'), ('Army', 2, 'Center', 'Jake Felker', '2021-10-08-RIT-Army'), ('Army', 2, 'Right Wing', 'Ricky Lyle', '2021-10-08-RIT-Army'), ('Army', 3, 'Left Wing', 'Brett Abdelnour', '2021-10-08-RIT-Army'), ('Army', 3, 'Center', 'John Keranen', '2021-10-08-RIT-Army')  ... displaying 10 of 44 total bound parameter sets ...  ('RIT', 'Goalie 2', 'Goalie', 'Daniel Chenard', '2021-10-08-RIT-Army'), ('RIT', 'Goalie 3', 'Goalie', 'Tommy Scarfone', '2021-10-08-RIT-Army')]]\n",
      "(Background on this error at: https://sqlalche.me/e/20/e3q8)\n"
     ]
    },
    {
     "name": "stderr",
     "output_type": "stream",
     "text": [
      "Scraping games:   4%|▍         | 47/1106 [02:09<50:33,  2.86s/it]"
     ]
    },
    {
     "name": "stdout",
     "output_type": "stream",
     "text": [
      "Error saving to table line_chart: (sqlite3.OperationalError) table line_chart has no column named Team\n",
      "[SQL: INSERT INTO line_chart (\"Team\", \"Line\", \"Position\", \"Player\", \"Game_ID\") VALUES (?, ?, ?, ?, ?)]\n",
      "[parameters: [('Boston University', 1, 'Left Wing', 'Logan Cockerill', '2021-10-08-Boston University-Connecticut'), ('Boston University', 1, 'Center', 'Matt Brown', '2021-10-08-Boston University-Connecticut'), ('Boston University', 1, 'Right Wing', 'Robert Mastrosimone', '2021-10-08-Boston University-Connecticut'), ('Boston University', 2, 'Left Wing', 'Ethan Phillips', '2021-10-08-Boston University-Connecticut'), ('Boston University', 2, 'Center', 'Wilmer Skoog', '2021-10-08-Boston University-Connecticut'), ('Boston University', 2, 'Right Wing', 'Tyler Boucher', '2021-10-08-Boston University-Connecticut'), ('Boston University', 3, 'Left Wing', 'Luke Tuch', '2021-10-08-Boston University-Connecticut'), ('Boston University', 3, 'Center', \"Jay O'Brien\", '2021-10-08-Boston University-Connecticut')  ... displaying 10 of 42 total bound parameter sets ...  ('Connecticut', 'Goalie 1', 'Goalie', 'Darion Hanson', '2021-10-08-Boston University-Connecticut'), ('Connecticut', 'Goalie 2', 'Goalie', 'Matt Pasquale', '2021-10-08-Boston University-Connecticut')]]\n",
      "(Background on this error at: https://sqlalche.me/e/20/e3q8)\n"
     ]
    },
    {
     "name": "stderr",
     "output_type": "stream",
     "text": [
      "Scraping games:   4%|▍         | 48/1106 [02:12<50:11,  2.85s/it]"
     ]
    },
    {
     "name": "stdout",
     "output_type": "stream",
     "text": [
      "Error saving to table line_chart: (sqlite3.OperationalError) table line_chart has no column named Team\n",
      "[SQL: INSERT INTO line_chart (\"Team\", \"Line\", \"Position\", \"Player\", \"Game_ID\") VALUES (?, ?, ?, ?, ?)]\n",
      "[parameters: [('Canisius', 1, 'Left Wing', 'Mitchell Martan', '2021-10-09-Canisius-Penn State'), ('Canisius', 1, 'Center', 'Lee Lapid', '2021-10-09-Canisius-Penn State'), ('Canisius', 1, 'Right Wing', 'Keaton Mastrodonato', '2021-10-09-Canisius-Penn State'), ('Canisius', 2, 'Left Wing', 'Max Kouznetsov', '2021-10-09-Canisius-Penn State'), ('Canisius', 2, 'Center', 'Simon Gravel', '2021-10-09-Canisius-Penn State'), ('Canisius', 2, 'Right Wing', 'Randy Hernandez', '2021-10-09-Canisius-Penn State'), ('Canisius', 3, 'Left Wing', 'Daniel DiGrande', '2021-10-09-Canisius-Penn State'), ('Canisius', 3, 'Center', 'Ryan Miotto', '2021-10-09-Canisius-Penn State')  ... displaying 10 of 44 total bound parameter sets ...  ('Penn State', 'Goalie 2', 'Goalie', 'Liam Souliere', '2021-10-09-Canisius-Penn State'), ('Penn State', 'Goalie 3', 'Goalie', 'Doug Dorr', '2021-10-09-Canisius-Penn State')]]\n",
      "(Background on this error at: https://sqlalche.me/e/20/e3q8)\n"
     ]
    },
    {
     "name": "stderr",
     "output_type": "stream",
     "text": [
      "Scraping games:   4%|▍         | 49/1106 [02:15<51:10,  2.90s/it]"
     ]
    },
    {
     "name": "stdout",
     "output_type": "stream",
     "text": [
      "Error saving to table line_chart: (sqlite3.OperationalError) table line_chart has no column named Team\n",
      "[SQL: INSERT INTO line_chart (\"Team\", \"Line\", \"Position\", \"Player\", \"Game_ID\") VALUES (?, ?, ?, ?, ?)]\n",
      "[parameters: [('Mercyhurst', 1, 'Left Wing', 'Pierce Crawford', '2021-10-09-Mercyhurst-Minnesota'), ('Mercyhurst', 1, 'Center', 'Steven Ipri', '2021-10-09-Mercyhurst-Minnesota'), ('Mercyhurst', 1, 'Right Wing', 'Rylee St. Onge', '2021-10-09-Mercyhurst-Minnesota'), ('Mercyhurst', 2, 'Left Wing', 'Jonathan Bendorf', '2021-10-09-Mercyhurst-Minnesota'), ('Mercyhurst', 2, 'Center', 'Gueorgui Feduolov', '2021-10-09-Mercyhurst-Minnesota'), ('Mercyhurst', 2, 'Right Wing', 'Noah Kane', '2021-10-09-Mercyhurst-Minnesota'), ('Mercyhurst', 3, 'Left Wing', 'Austin Heidemann', '2021-10-09-Mercyhurst-Minnesota'), ('Mercyhurst', 3, 'Center', 'Carson Briere', '2021-10-09-Mercyhurst-Minnesota')  ... displaying 10 of 43 total bound parameter sets ...  ('Minnesota', 'Goalie 2', 'Goalie', 'Justen Close', '2021-10-09-Mercyhurst-Minnesota'), ('Minnesota', 'Goalie 3', 'Goalie', 'Brennan Boynton', '2021-10-09-Mercyhurst-Minnesota')]]\n",
      "(Background on this error at: https://sqlalche.me/e/20/e3q8)\n"
     ]
    },
    {
     "name": "stderr",
     "output_type": "stream",
     "text": [
      "Scraping games:   5%|▍         | 50/1106 [02:18<51:08,  2.91s/it]"
     ]
    },
    {
     "name": "stdout",
     "output_type": "stream",
     "text": [
      "Error saving to table line_chart: (sqlite3.OperationalError) table line_chart has no column named Team\n",
      "[SQL: INSERT INTO line_chart (\"Team\", \"Line\", \"Position\", \"Player\", \"Game_ID\") VALUES (?, ?, ?, ?, ?)]\n",
      "[parameters: [('Notre Dame', 1, 'Left Wing', 'Solag Bakich', '2021-10-09-Long Island-Notre Dame'), ('Notre Dame', 1, 'Center', 'Trevor Janicke', '2021-10-09-Long Island-Notre Dame'), ('Notre Dame', 1, 'Right Wing', 'Max Ellis', '2021-10-09-Long Island-Notre Dame'), ('Notre Dame', 2, 'Left Wing', 'Landon Slaggert', '2021-10-09-Long Island-Notre Dame'), ('Notre Dame', 2, 'Center', 'Graham Slaggert', '2021-10-09-Long Island-Notre Dame'), ('Notre Dame', 2, 'Right Wing', 'Justin Janicke', '2021-10-09-Long Island-Notre Dame'), ('Notre Dame', 3, 'Left Wing', 'Grant Silianoff', '2021-10-09-Long Island-Notre Dame'), ('Notre Dame', 3, 'Center', 'Cam Burke', '2021-10-09-Long Island-Notre Dame')  ... displaying 10 of 46 total bound parameter sets ...  ('Long Island', 'Goalie 2', 'Goalie', 'Vinnie Purpura', '2021-10-09-Long Island-Notre Dame'), ('Long Island', 'Goalie 3', 'Goalie', 'Brandon Perrone', '2021-10-09-Long Island-Notre Dame')]]\n",
      "(Background on this error at: https://sqlalche.me/e/20/e3q8)\n"
     ]
    },
    {
     "name": "stderr",
     "output_type": "stream",
     "text": [
      "Scraping games:   5%|▍         | 51/1106 [02:21<51:57,  2.96s/it]"
     ]
    },
    {
     "name": "stdout",
     "output_type": "stream",
     "text": [
      "Error saving to table line_chart: (sqlite3.OperationalError) table line_chart has no column named Team\n",
      "[SQL: INSERT INTO line_chart (\"Team\", \"Line\", \"Position\", \"Player\", \"Game_ID\") VALUES (?, ?, ?, ?, ?)]\n",
      "[parameters: [('Bentley', 1, 'Left Wing', 'Phil Knies', '2021-10-09-Ohio State-Bentley'), ('Bentley', 1, 'Center', 'Brendan Hamblet', '2021-10-09-Ohio State-Bentley'), ('Bentley', 1, 'Right Wing', 'Cooper Connell', '2021-10-09-Ohio State-Bentley'), ('Bentley', 2, 'Left Wing', 'Harrison Scott', '2021-10-09-Ohio State-Bentley'), ('Bentley', 2, 'Center', 'Matt Gosiewski', '2021-10-09-Ohio State-Bentley'), ('Bentley', 2, 'Right Wing', 'Eric Linell', '2021-10-09-Ohio State-Bentley'), ('Bentley', 3, 'Left Wing', 'Brendan Walkom', '2021-10-09-Ohio State-Bentley'), ('Bentley', 3, 'Center', 'Ethan Harrison', '2021-10-09-Ohio State-Bentley')  ... displaying 10 of 44 total bound parameter sets ...  ('Ohio State', 'Goalie 2', 'Goalie', 'Jakub Dobeš', '2021-10-09-Ohio State-Bentley'), ('Ohio State', 'Goalie 3', 'Goalie', 'Reilly Herbst', '2021-10-09-Ohio State-Bentley')]]\n",
      "(Background on this error at: https://sqlalche.me/e/20/e3q8)\n"
     ]
    },
    {
     "name": "stderr",
     "output_type": "stream",
     "text": [
      "Scraping games:   5%|▍         | 52/1106 [02:24<53:27,  3.04s/it]"
     ]
    },
    {
     "name": "stdout",
     "output_type": "stream",
     "text": [
      "Error saving to table line_chart: (sqlite3.OperationalError) table line_chart has no column named Team\n",
      "[SQL: INSERT INTO line_chart (\"Team\", \"Line\", \"Position\", \"Player\", \"Game_ID\") VALUES (?, ?, ?, ?, ?)]\n",
      "[parameters: [('Bowling Green', 1, 'Left Wing', 'Sam Craggs', '2021-10-09-Bowling Green-Rensselaer'), ('Bowling Green', 1, 'Center', 'Taylor Schneider', '2021-10-09-Bowling Green-Rensselaer'), ('Bowling Green', 1, 'Right Wing', 'Alex Barber', '2021-10-09-Bowling Green-Rensselaer'), ('Bowling Green', 2, 'Left Wing', 'Coale Norris', '2021-10-09-Bowling Green-Rensselaer'), ('Bowling Green', 2, 'Center', 'Austen Swankler', '2021-10-09-Bowling Green-Rensselaer'), ('Bowling Green', 2, 'Right Wing', 'Nathan Burke', '2021-10-09-Bowling Green-Rensselaer'), ('Bowling Green', 3, 'Left Wing', 'Brayden Krieger', '2021-10-09-Bowling Green-Rensselaer'), ('Bowling Green', 3, 'Center', 'Ethan Scardina', '2021-10-09-Bowling Green-Rensselaer')  ... displaying 10 of 45 total bound parameter sets ...  ('Rensselaer', 'Goalie 2', 'Goalie', 'Brett Miller', '2021-10-09-Bowling Green-Rensselaer'), ('Rensselaer', 'Goalie 3', 'Goalie', 'Jack Watson', '2021-10-09-Bowling Green-Rensselaer')]]\n",
      "(Background on this error at: https://sqlalche.me/e/20/e3q8)\n"
     ]
    },
    {
     "name": "stderr",
     "output_type": "stream",
     "text": [
      "Scraping games:   5%|▍         | 53/1106 [02:27<53:19,  3.04s/it]"
     ]
    },
    {
     "name": "stdout",
     "output_type": "stream",
     "text": [
      "Error saving to table line_chart: (sqlite3.OperationalError) table line_chart has no column named Team\n",
      "[SQL: INSERT INTO line_chart (\"Team\", \"Line\", \"Position\", \"Player\", \"Game_ID\") VALUES (?, ?, ?, ?, ?)]\n",
      "[parameters: [('Air Force', 1, 'Left Wing', 'Nate Horn', '2021-10-09-Air Force-Michigan State'), ('Air Force', 1, 'Center', 'Andrew DeCarlo', '2021-10-09-Air Force-Michigan State'), ('Air Force', 1, 'Right Wing', 'Willie Reim', '2021-10-09-Air Force-Michigan State'), ('Air Force', 2, 'Left Wing', 'Will Gavin', '2021-10-09-Air Force-Michigan State'), ('Air Force', 2, 'Center', 'Clayton Cosentino', '2021-10-09-Air Force-Michigan State'), ('Air Force', 2, 'Right Wing', 'Parker Brown', '2021-10-09-Air Force-Michigan State'), ('Air Force', 3, 'Left Wing', 'Brian Adams', '2021-10-09-Air Force-Michigan State'), ('Air Force', 3, 'Center', 'Lucas Coon', '2021-10-09-Air Force-Michigan State')  ... displaying 10 of 44 total bound parameter sets ...  ('Michigan State', 'Goalie 2', 'Goalie', 'Pierce Charleson', '2021-10-09-Air Force-Michigan State'), ('Michigan State', 'Goalie 3', 'Goalie', 'Jon Mor', '2021-10-09-Air Force-Michigan State')]]\n",
      "(Background on this error at: https://sqlalche.me/e/20/e3q8)\n"
     ]
    },
    {
     "name": "stderr",
     "output_type": "stream",
     "text": [
      "Scraping games:   5%|▍         | 54/1106 [02:30<52:30,  2.99s/it]"
     ]
    },
    {
     "name": "stdout",
     "output_type": "stream",
     "text": [
      "Error saving to table line_chart: (sqlite3.OperationalError) table line_chart has no column named Team\n",
      "[SQL: INSERT INTO line_chart (\"Team\", \"Line\", \"Position\", \"Player\", \"Game_ID\") VALUES (?, ?, ?, ?, ?)]\n",
      "[parameters: [('Merrimack', 1, 'Left Wing', 'Steven Jandric', '2021-10-09-Sacred Heart-Merrimack'), ('Merrimack', 1, 'Center', 'Max Newton', '2021-10-09-Sacred Heart-Merrimack'), ('Merrimack', 1, 'Right Wing', 'Alex Jefferies', '2021-10-09-Sacred Heart-Merrimack'), ('Merrimack', 2, 'Left Wing', 'Regan Kimens', '2021-10-09-Sacred Heart-Merrimack'), ('Merrimack', 2, 'Center', 'Mac Welsher', '2021-10-09-Sacred Heart-Merrimack'), ('Merrimack', 2, 'Right Wing', 'Jake Durflinger', '2021-10-09-Sacred Heart-Merrimack'), ('Merrimack', 3, 'Left Wing', 'Ben Brar', '2021-10-09-Sacred Heart-Merrimack'), ('Merrimack', 3, 'Center', 'Matt Copponi', '2021-10-09-Sacred Heart-Merrimack')  ... displaying 10 of 42 total bound parameter sets ...  ('Sacred Heart', 'Goalie 1', 'Goalie', 'Josh Benson', '2021-10-09-Sacred Heart-Merrimack'), ('Sacred Heart', 'Goalie 2', 'Goalie', 'Justin Robbins', '2021-10-09-Sacred Heart-Merrimack')]]\n",
      "(Background on this error at: https://sqlalche.me/e/20/e3q8)\n"
     ]
    },
    {
     "name": "stderr",
     "output_type": "stream",
     "text": [
      "Scraping games:   5%|▍         | 55/1106 [02:33<51:53,  2.96s/it]"
     ]
    },
    {
     "name": "stdout",
     "output_type": "stream",
     "text": [
      "Error saving to table line_chart: (sqlite3.OperationalError) table line_chart has no column named Team\n",
      "[SQL: INSERT INTO line_chart (\"Team\", \"Line\", \"Position\", \"Player\", \"Game_ID\") VALUES (?, ?, ?, ?, ?)]\n",
      "[parameters: [('New Hampshire', 1, 'Left Wing', 'Tyler Ward', '2021-10-09-Union-New Hampshire'), ('New Hampshire', 1, 'Center', 'Jackson Pierson', '2021-10-09-Union-New Hampshire'), ('New Hampshire', 1, 'Right Wing', 'Nick Cafarelli', '2021-10-09-Union-New Hampshire'), ('New Hampshire', 2, 'Left Wing', 'Chase Stevenson', '2021-10-09-Union-New Hampshire'), ('New Hampshire', 2, 'Center', 'Filip Engaras', '2021-10-09-Union-New Hampshire'), ('New Hampshire', 2, 'Right Wing', 'Eric MacAdams', '2021-10-09-Union-New Hampshire'), ('New Hampshire', 3, 'Left Wing', 'Liam Devlin', '2021-10-09-Union-New Hampshire'), ('New Hampshire', 3, 'Center', 'Harrison Blaisdell', '2021-10-09-Union-New Hampshire')  ... displaying 10 of 42 total bound parameter sets ...  ('Union', 'Goalie 1', 'Goalie', 'Garrett Nieto', '2021-10-09-Union-New Hampshire'), ('Union', 'Goalie 2', 'Goalie', 'Connor Murphy', '2021-10-09-Union-New Hampshire')]]\n",
      "(Background on this error at: https://sqlalche.me/e/20/e3q8)\n"
     ]
    },
    {
     "name": "stderr",
     "output_type": "stream",
     "text": [
      "Scraping games:   5%|▌         | 56/1106 [02:36<51:34,  2.95s/it]"
     ]
    },
    {
     "name": "stdout",
     "output_type": "stream",
     "text": [
      "Error saving to table line_chart: (sqlite3.OperationalError) table line_chart has no column named Team\n",
      "[SQL: INSERT INTO line_chart (\"Team\", \"Line\", \"Position\", \"Player\", \"Game_ID\") VALUES (?, ?, ?, ?, ?)]\n",
      "[parameters: [('Lake Superior', 1, 'Left Wing', 'Miroslav Mucha', '2021-10-09-Lake Superior-Michigan'), ('Lake Superior', 1, 'Center', 'Dustin Manz', '2021-10-09-Lake Superior-Michigan'), ('Lake Superior', 1, 'Right Wing', 'Josh Nixon', '2021-10-09-Lake Superior-Michigan'), ('Lake Superior', 2, 'Left Wing', 'Dawson Tritt', '2021-10-09-Lake Superior-Michigan'), ('Lake Superior', 2, 'Center', 'Louis Boudon', '2021-10-09-Lake Superior-Michigan'), ('Lake Superior', 2, 'Right Wing', 'Brandon Puricelli', '2021-10-09-Lake Superior-Michigan'), ('Lake Superior', 3, 'Left Wing', 'Logan Jenuwine', '2021-10-09-Lake Superior-Michigan'), ('Lake Superior', 3, 'Center', 'Harrison Roy', '2021-10-09-Lake Superior-Michigan')  ... displaying 10 of 44 total bound parameter sets ...  ('Michigan', 'Goalie 2', 'Goalie', 'Erik Portillo', '2021-10-09-Lake Superior-Michigan'), ('Michigan', 'Goalie 3', 'Goalie', 'Noah West', '2021-10-09-Lake Superior-Michigan')]]\n",
      "(Background on this error at: https://sqlalche.me/e/20/e3q8)\n"
     ]
    },
    {
     "name": "stderr",
     "output_type": "stream",
     "text": [
      "Scraping games:   5%|▌         | 57/1106 [02:39<51:04,  2.92s/it]"
     ]
    },
    {
     "name": "stdout",
     "output_type": "stream",
     "text": [
      "Error saving to table line_chart: (sqlite3.OperationalError) table line_chart has no column named Team\n",
      "[SQL: INSERT INTO line_chart (\"Team\", \"Line\", \"Position\", \"Player\", \"Game_ID\") VALUES (?, ?, ?, ?, ?)]\n",
      "[parameters: [(\"American Int'l\", 1, 'Left Wing', 'Michal Stinil', \"2021-10-09-Providence-American Int'l\"), (\"American Int'l\", 1, 'Center', 'Brian Rigali', \"2021-10-09-Providence-American Int'l\"), (\"American Int'l\", 1, 'Right Wing', 'Justin Young', \"2021-10-09-Providence-American Int'l\"), (\"American Int'l\", 2, 'Left Wing', 'Justin Cole', \"2021-10-09-Providence-American Int'l\"), (\"American Int'l\", 2, 'Center', 'Julius Janhonen', \"2021-10-09-Providence-American Int'l\"), (\"American Int'l\", 2, 'Right Wing', 'Chris Dodero', \"2021-10-09-Providence-American Int'l\"), (\"American Int'l\", 3, 'Left Wing', 'Chris Theodore', \"2021-10-09-Providence-American Int'l\"), (\"American Int'l\", 3, 'Center', 'Elijiah Barriga', \"2021-10-09-Providence-American Int'l\")  ... displaying 10 of 46 total bound parameter sets ...  ('Providence', 'Goalie 2', 'Goalie', 'Jimmy Scannell', \"2021-10-09-Providence-American Int'l\"), ('Providence', 'Goalie 3', 'Goalie', 'Jaxson Stauber', \"2021-10-09-Providence-American Int'l\")]]\n",
      "(Background on this error at: https://sqlalche.me/e/20/e3q8)\n"
     ]
    },
    {
     "name": "stderr",
     "output_type": "stream",
     "text": [
      "Scraping games:   5%|▌         | 58/1106 [02:42<50:11,  2.87s/it]"
     ]
    },
    {
     "name": "stdout",
     "output_type": "stream",
     "text": [
      "Error saving to table line_chart: (sqlite3.OperationalError) table line_chart has no column named Team\n",
      "[SQL: INSERT INTO line_chart (\"Team\", \"Line\", \"Position\", \"Player\", \"Game_ID\") VALUES (?, ?, ?, ?, ?)]\n",
      "[parameters: [('Colgate', 1, 'Left Wing', 'Colton Young', '2021-10-09-Colgate-Vermont'), ('Colgate', 1, 'Center', 'Jeff Stewart', '2021-10-09-Colgate-Vermont'), ('Colgate', 1, 'Right Wing', 'Ethan Manderville', '2021-10-09-Colgate-Vermont'), ('Colgate', 2, 'Left Wing', 'Arnaud Vachon', '2021-10-09-Colgate-Vermont'), ('Colgate', 2, 'Center', 'Josh McKechney', '2021-10-09-Colgate-Vermont'), ('Colgate', 2, 'Right Wing', 'Alex Young', '2021-10-09-Colgate-Vermont'), ('Colgate', 3, 'Left Wing', 'Matt Verboon', '2021-10-09-Colgate-Vermont'), ('Colgate', 3, 'Center', 'Paul McAvoy', '2021-10-09-Colgate-Vermont')  ... displaying 10 of 44 total bound parameter sets ...  ('Vermont', 'Goalie 2', 'Goalie', 'Gabe Carriere', '2021-10-09-Colgate-Vermont'), ('Vermont', 'Goalie 3', 'Goalie', 'Cole Hudson', '2021-10-09-Colgate-Vermont')]]\n",
      "(Background on this error at: https://sqlalche.me/e/20/e3q8)\n"
     ]
    },
    {
     "name": "stderr",
     "output_type": "stream",
     "text": [
      "Scraping games:   5%|▌         | 59/1106 [02:45<51:26,  2.95s/it]"
     ]
    },
    {
     "name": "stdout",
     "output_type": "stream",
     "text": [
      "Error saving to table line_chart: (sqlite3.OperationalError) table line_chart has no column named Team\n",
      "[SQL: INSERT INTO line_chart (\"Team\", \"Line\", \"Position\", \"Player\", \"Game_ID\") VALUES (?, ?, ?, ?, ?)]\n",
      "[parameters: [('Niagara', 1, 'Left Wing', 'Walker Sommer', '2021-10-09-Niagara-North Dakota'), ('Niagara', 1, 'Center', 'Albin Nilsson', '2021-10-09-Niagara-North Dakota'), ('Niagara', 1, 'Right Wing', 'Christian Gorscak', '2021-10-09-Niagara-North Dakota'), ('Niagara', 2, 'Left Wing', 'Brandon Stanley', '2021-10-09-Niagara-North Dakota'), ('Niagara', 2, 'Center', 'Jack DeBoer', '2021-10-09-Niagara-North Dakota'), ('Niagara', 2, 'Right Wing', 'Ryan Naumovski', '2021-10-09-Niagara-North Dakota'), ('Niagara', 3, 'Left Wing', 'Carter Randklev', '2021-10-09-Niagara-North Dakota'), ('Niagara', 3, 'Center', 'Ryan Cox', '2021-10-09-Niagara-North Dakota')  ... displaying 10 of 44 total bound parameter sets ...  ('North Dakota', 'Goalie 2', 'Goalie', 'Kaleb Johnson', '2021-10-09-Niagara-North Dakota'), ('North Dakota', 'Goalie 3', 'Goalie', 'Jakob Hellsten', '2021-10-09-Niagara-North Dakota')]]\n",
      "(Background on this error at: https://sqlalche.me/e/20/e3q8)\n"
     ]
    },
    {
     "name": "stderr",
     "output_type": "stream",
     "text": [
      "Scraping games:   5%|▌         | 60/1106 [02:48<50:48,  2.91s/it]"
     ]
    },
    {
     "name": "stdout",
     "output_type": "stream",
     "text": [
      "Error saving to table line_chart: (sqlite3.OperationalError) table line_chart has no column named Team\n",
      "[SQL: INSERT INTO line_chart (\"Team\", \"Line\", \"Position\", \"Player\", \"Game_ID\") VALUES (?, ?, ?, ?, ?)]\n",
      "[parameters: [('Minnesota State', 1, 'Left Wing', 'Julian Napravnik', '2021-10-09-St. Cloud State-Minnesota State'), ('Minnesota State', 1, 'Center', 'Nathan Smith', '2021-10-09-St. Cloud State-Minnesota State'), ('Minnesota State', 1, 'Right Wing', 'Cade Borchardt', '2021-10-09-St. Cloud State-Minnesota State'), ('Minnesota State', 2, 'Left Wing', 'Reggie Lutz', '2021-10-09-St. Cloud State-Minnesota State'), ('Minnesota State', 2, 'Center', 'Brendan Furry', '2021-10-09-St. Cloud State-Minnesota State'), ('Minnesota State', 2, 'Right Wing', 'Lucas Sowder', '2021-10-09-St. Cloud State-Minnesota State'), ('Minnesota State', 3, 'Left Wing', 'Josh Groll', '2021-10-09-St. Cloud State-Minnesota State'), ('Minnesota State', 3, 'Center', 'David Silye', '2021-10-09-St. Cloud State-Minnesota State')  ... displaying 10 of 46 total bound parameter sets ...  ('St. Cloud State', 'Goalie 2', 'Goalie', 'Joey Lamoreaux', '2021-10-09-St. Cloud State-Minnesota State'), ('St. Cloud State', 'Goalie 3', 'Goalie', 'Jaxon Castor', '2021-10-09-St. Cloud State-Minnesota State')]]\n",
      "(Background on this error at: https://sqlalche.me/e/20/e3q8)\n"
     ]
    },
    {
     "name": "stderr",
     "output_type": "stream",
     "text": [
      "Scraping games:   6%|▌         | 61/1106 [02:51<51:25,  2.95s/it]"
     ]
    },
    {
     "name": "stdout",
     "output_type": "stream",
     "text": [
      "Error saving to table line_chart: (sqlite3.OperationalError) table line_chart has no column named Team\n",
      "[SQL: INSERT INTO line_chart (\"Team\", \"Line\", \"Position\", \"Player\", \"Game_ID\") VALUES (?, ?, ?, ?, ?)]\n",
      "[parameters: [('Ferris State', 1, 'Left Wing', 'Liam MacDougall', '2021-10-09-Western Michigan-Ferris State'), ('Ferris State', 1, 'Center', 'Stepan Pokorny', '2021-10-09-Western Michigan-Ferris State'), ('Ferris State', 1, 'Right Wing', 'Marshall Moise', '2021-10-09-Western Michigan-Ferris State'), ('Ferris State', 2, 'Left Wing', 'Jake Transit', '2021-10-09-Western Michigan-Ferris State'), ('Ferris State', 2, 'Center', 'Dallas Tulik', '2021-10-09-Western Michigan-Ferris State'), ('Ferris State', 2, 'Right Wing', 'Ethan Stewart', '2021-10-09-Western Michigan-Ferris State'), ('Ferris State', 3, 'Left Wing', 'Antonio Venuto', '2021-10-09-Western Michigan-Ferris State'), ('Ferris State', 3, 'Center', 'Bradley Marek', '2021-10-09-Western Michigan-Ferris State')  ... displaying 10 of 43 total bound parameter sets ...  ('Western Michigan', 'Goalie 2', 'Goalie', 'Alex Aslanidis', '2021-10-09-Western Michigan-Ferris State'), ('Western Michigan', 'Goalie 3', 'Goalie', 'Ross Hawryluk', '2021-10-09-Western Michigan-Ferris State')]]\n",
      "(Background on this error at: https://sqlalche.me/e/20/e3q8)\n"
     ]
    },
    {
     "name": "stderr",
     "output_type": "stream",
     "text": [
      "Scraping games:   6%|▌         | 62/1106 [02:53<50:00,  2.87s/it]"
     ]
    },
    {
     "name": "stdout",
     "output_type": "stream",
     "text": [
      "Error saving to table line_chart: (sqlite3.OperationalError) table line_chart has no column named Team\n",
      "[SQL: INSERT INTO line_chart (\"Team\", \"Line\", \"Position\", \"Player\", \"Game_ID\") VALUES (?, ?, ?, ?, ?)]\n",
      "[parameters: [('Denver', 1, 'Left Wing', 'Carter Savoie', '2021-10-09-Arizona State-Denver'), ('Denver', 1, 'Center', 'Cole Guttman', '2021-10-09-Arizona State-Denver'), ('Denver', 1, 'Right Wing', 'Bobby Brink', '2021-10-09-Arizona State-Denver'), ('Denver', 2, 'Left Wing', 'Carter Mazur', '2021-10-09-Arizona State-Denver'), ('Denver', 2, 'Center', 'Massimo Rizzo', '2021-10-09-Arizona State-Denver'), ('Denver', 2, 'Right Wing', 'Cameron Wright', '2021-10-09-Arizona State-Denver'), ('Denver', 3, 'Left Wing', 'McKade Webster', '2021-10-09-Arizona State-Denver'), ('Denver', 3, 'Center', 'Brett Stapley', '2021-10-09-Arizona State-Denver')  ... displaying 10 of 43 total bound parameter sets ...  ('Arizona State', 'Goalie 1', 'Goalie', 'Ben Kraws', '2021-10-09-Arizona State-Denver'), ('Arizona State', 'Goalie 2', 'Goalie', 'Cole Brady', '2021-10-09-Arizona State-Denver')]]\n",
      "(Background on this error at: https://sqlalche.me/e/20/e3q8)\n"
     ]
    },
    {
     "name": "stderr",
     "output_type": "stream",
     "text": [
      "Scraping games:   6%|▌         | 63/1106 [02:56<50:15,  2.89s/it]"
     ]
    },
    {
     "name": "stdout",
     "output_type": "stream",
     "text": [
      "Error saving to table line_chart: (sqlite3.OperationalError) table line_chart has no column named Team\n",
      "[SQL: INSERT INTO line_chart (\"Team\", \"Line\", \"Position\", \"Player\", \"Game_ID\") VALUES (?, ?, ?, ?, ?)]\n",
      "[parameters: [('Colorado College', 1, 'Left Wing', 'Matthew Gleason', '2021-10-09-St. Lawrence-Colorado College'), ('Colorado College', 1, 'Center', 'Noah Prokop', '2021-10-09-St. Lawrence-Colorado College'), ('Colorado College', 1, 'Right Wing', 'Stanley Cooley', '2021-10-09-St. Lawrence-Colorado College'), ('Colorado College', 2, 'Left Wing', 'Tyler Coffey', '2021-10-09-St. Lawrence-Colorado College'), ('Colorado College', 2, 'Center', 'Logan Will', '2021-10-09-St. Lawrence-Colorado College'), ('Colorado College', 2, 'Right Wing', 'Ray Christy', '2021-10-09-St. Lawrence-Colorado College'), ('Colorado College', 3, 'Left Wing', 'Marc Pasemko', '2021-10-09-St. Lawrence-Colorado College'), ('Colorado College', 3, 'Center', 'Hunter McKown', '2021-10-09-St. Lawrence-Colorado College')  ... displaying 10 of 40 total bound parameter sets ...  ('St. Lawrence', 1, 'Extra', 'Jeff', '2021-10-09-St. Lawrence-Colorado College'), ('St. Lawrence', 'Goalie 1', 'Goalie', 'Emil Zetterquist', '2021-10-09-St. Lawrence-Colorado College')]]\n",
      "(Background on this error at: https://sqlalche.me/e/20/e3q8)\n"
     ]
    },
    {
     "name": "stderr",
     "output_type": "stream",
     "text": [
      "Scraping games:   6%|▌         | 64/1106 [02:59<49:53,  2.87s/it]"
     ]
    },
    {
     "name": "stdout",
     "output_type": "stream",
     "text": [
      "Error saving to table line_chart: (sqlite3.OperationalError) table line_chart has no column named Team\n",
      "[SQL: INSERT INTO line_chart (\"Team\", \"Line\", \"Position\", \"Player\", \"Game_ID\") VALUES (?, ?, ?, ?, ?)]\n",
      "[parameters: [('Michigan Tech', 1, 'Left Wing', 'Alec Broetzman', '2021-10-09-Michigan Tech-Wisconsin'), ('Michigan Tech', 1, 'Center', 'Matthew Quercia', '2021-10-09-Michigan Tech-Wisconsin'), ('Michigan Tech', 1, 'Right Wing', 'Logan Pietila', '2021-10-09-Michigan Tech-Wisconsin'), ('Michigan Tech', 2, 'Left Wing', 'Trenton Bliss', '2021-10-09-Michigan Tech-Wisconsin'), ('Michigan Tech', 2, 'Center', 'Arvid Caderoth', '2021-10-09-Michigan Tech-Wisconsin'), ('Michigan Tech', 2, 'Right Wing', 'Tommy Parrottino', '2021-10-09-Michigan Tech-Wisconsin'), ('Michigan Tech', 3, 'Left Wing', 'Nick Nardella', '2021-10-09-Michigan Tech-Wisconsin'), ('Michigan Tech', 3, 'Center', 'Parker Saretsky', '2021-10-09-Michigan Tech-Wisconsin')  ... displaying 10 of 40 total bound parameter sets ...  ('Wisconsin', 1, 'Extra', 'Josh', '2021-10-09-Michigan Tech-Wisconsin'), ('Wisconsin', 'Goalie 1', 'Goalie', 'Jared Moe', '2021-10-09-Michigan Tech-Wisconsin')]]\n",
      "(Background on this error at: https://sqlalche.me/e/20/e3q8)\n"
     ]
    },
    {
     "name": "stderr",
     "output_type": "stream",
     "text": [
      "Scraping games:   6%|▌         | 65/1106 [03:02<50:00,  2.88s/it]"
     ]
    },
    {
     "name": "stdout",
     "output_type": "stream",
     "text": [
      "Error saving to table line_chart: (sqlite3.OperationalError) table line_chart has no column named Team\n",
      "[SQL: INSERT INTO line_chart (\"Team\", \"Line\", \"Position\", \"Player\", \"Game_ID\") VALUES (?, ?, ?, ?, ?)]\n",
      "[parameters: [('Maine', 1, 'Left Wing', 'Adam Dawe', '2021-10-09-Maine-Omaha'), ('Maine', 1, 'Center', 'Ben Poisson', '2021-10-09-Maine-Omaha'), ('Maine', 1, 'Right Wing', 'Nolan Renwick', '2021-10-09-Maine-Omaha'), ('Maine', 2, 'Left Wing', 'Emil Westerlund', '2021-10-09-Maine-Omaha'), ('Maine', 2, 'Center', 'Lynden Breen', '2021-10-09-Maine-Omaha'), ('Maine', 2, 'Right Wing', 'Jacob Schmidt-Svejstrup', '2021-10-09-Maine-Omaha'), ('Maine', 3, 'Left Wing', 'Grant Hebert', '2021-10-09-Maine-Omaha'), ('Maine', 3, 'Center', 'Tristan Poissant', '2021-10-09-Maine-Omaha')  ... displaying 10 of 44 total bound parameter sets ...  ('Omaha', 'Goalie 2', 'Goalie', 'Austin Roden', '2021-10-09-Maine-Omaha'), ('Omaha', 'Goalie 3', 'Goalie', 'Jacob Zab', '2021-10-09-Maine-Omaha')]]\n",
      "(Background on this error at: https://sqlalche.me/e/20/e3q8)\n"
     ]
    },
    {
     "name": "stderr",
     "output_type": "stream",
     "text": [
      "Scraping games:   6%|▌         | 66/1106 [03:05<51:20,  2.96s/it]"
     ]
    },
    {
     "name": "stdout",
     "output_type": "stream",
     "text": [
      "Error saving to table line_chart: (sqlite3.OperationalError) table line_chart has no column named Team\n",
      "[SQL: INSERT INTO line_chart (\"Team\", \"Line\", \"Position\", \"Player\", \"Game_ID\") VALUES (?, ?, ?, ?, ?)]\n",
      "[parameters: [('Bemidji State', 1, 'Left Wing', 'Lukas Sillinger', '2021-10-09-Bemidji State-Minnesota-Duluth'), ('Bemidji State', 1, 'Center', 'Owen Sillinger', '2021-10-09-Bemidji State-Minnesota-Duluth'), ('Bemidji State', 1, 'Right Wing', 'Alex Ierullo', '2021-10-09-Bemidji State-Minnesota-Duluth'), ('Bemidji State', 2, 'Left Wing', 'Ethan Somoza', '2021-10-09-Bemidji State-Minnesota-Duluth'), ('Bemidji State', 2, 'Center', 'Ross Armour', '2021-10-09-Bemidji State-Minnesota-Duluth'), ('Bemidji State', 2, 'Right Wing', 'Eric Martin', '2021-10-09-Bemidji State-Minnesota-Duluth'), ('Bemidji State', 3, 'Left Wing', 'Jakub Lewandowski', '2021-10-09-Bemidji State-Minnesota-Duluth'), ('Bemidji State', 3, 'Center', 'Tyler Kirkup', '2021-10-09-Bemidji State-Minnesota-Duluth')  ... displaying 10 of 43 total bound parameter sets ...  ('Minnesota-Duluth', 'Goalie 2', 'Goalie', 'Ryan Fanti', '2021-10-09-Bemidji State-Minnesota-Duluth'), ('Minnesota-Duluth', 'Goalie 3', 'Goalie', 'Zach Stejskal', '2021-10-09-Bemidji State-Minnesota-Duluth')]]\n",
      "(Background on this error at: https://sqlalche.me/e/20/e3q8)\n"
     ]
    },
    {
     "name": "stderr",
     "output_type": "stream",
     "text": [
      "Scraping games:   6%|▌         | 67/1106 [03:08<51:22,  2.97s/it]"
     ]
    },
    {
     "name": "stdout",
     "output_type": "stream",
     "text": [
      "Error saving to table line_chart: (sqlite3.OperationalError) table line_chart has no column named Team\n",
      "[SQL: INSERT INTO line_chart (\"Team\", \"Line\", \"Position\", \"Player\", \"Game_ID\") VALUES (?, ?, ?, ?, ?)]\n",
      "[parameters: [('Alaska', 1, 'Left Wing', 'Didrik Henbrant', '2021-10-09-Clarkson-Alaska'), ('Alaska', 1, 'Center', 'Jakob Breault', '2021-10-09-Clarkson-Alaska'), ('Alaska', 1, 'Right Wing', 'Filip Fornaa Svennson', '2021-10-09-Clarkson-Alaska'), ('Alaska', 2, 'Left Wing', 'Riley Murphy', '2021-10-09-Clarkson-Alaska'), ('Alaska', 2, 'Center', 'Colin Doyle', '2021-10-09-Clarkson-Alaska'), ('Alaska', 2, 'Right Wing', 'Brady Risk', '2021-10-09-Clarkson-Alaska'), ('Alaska', 3, 'Left Wing', 'Nátán Vertes', '2021-10-09-Clarkson-Alaska'), ('Alaska', 3, 'Center', 'Payton Matsui', '2021-10-09-Clarkson-Alaska')  ... displaying 10 of 44 total bound parameter sets ...  ('Clarkson', 'Goalie 1', 'Goalie', 'Ethan Haider', '2021-10-09-Clarkson-Alaska'), ('Clarkson', 'Goalie 2', 'Goalie', 'Brady Parker', '2021-10-09-Clarkson-Alaska')]]\n",
      "(Background on this error at: https://sqlalche.me/e/20/e3q8)\n"
     ]
    },
    {
     "name": "stderr",
     "output_type": "stream",
     "text": [
      "Scraping games:   6%|▌         | 68/1106 [03:11<50:35,  2.92s/it]"
     ]
    },
    {
     "name": "stdout",
     "output_type": "stream",
     "text": [
      "Error saving to table line_chart: (sqlite3.OperationalError) table line_chart has no column named Team\n",
      "[SQL: INSERT INTO line_chart (\"Team\", \"Line\", \"Position\", \"Player\", \"Game_ID\") VALUES (?, ?, ?, ?, ?)]\n",
      "[parameters: [('Army', 1, 'Left Wing', 'Mitch Machlitt', '2021-10-09-RIT-Army'), ('Army', 1, 'Center', 'Eric Butte', '2021-10-09-RIT-Army'), ('Army', 1, 'Right Wing', 'Colin Bilek', '2021-10-09-RIT-Army'), ('Army', 2, 'Left Wing', 'Daniel Haider', '2021-10-09-RIT-Army'), ('Army', 2, 'Center', 'Jake Felker', '2021-10-09-RIT-Army'), ('Army', 2, 'Right Wing', 'Ricky Lyle', '2021-10-09-RIT-Army'), ('Army', 3, 'Left Wing', 'Brett Abdelnour', '2021-10-09-RIT-Army'), ('Army', 3, 'Center', 'John Keranen', '2021-10-09-RIT-Army')  ... displaying 10 of 46 total bound parameter sets ...  ('RIT', 'Goalie 2', 'Goalie', 'Kolby Matthews', '2021-10-09-RIT-Army'), ('RIT', 'Goalie 3', 'Goalie', 'Tommy Scarfone', '2021-10-09-RIT-Army')]]\n",
      "(Background on this error at: https://sqlalche.me/e/20/e3q8)\n"
     ]
    },
    {
     "name": "stderr",
     "output_type": "stream",
     "text": [
      "Scraping games:   6%|▌         | 69/1106 [03:14<50:03,  2.90s/it]"
     ]
    },
    {
     "name": "stdout",
     "output_type": "stream",
     "text": [
      "Error saving to table line_chart: (sqlite3.OperationalError) table line_chart has no column named Team\n",
      "[SQL: INSERT INTO line_chart (\"Team\", \"Line\", \"Position\", \"Player\", \"Game_ID\") VALUES (?, ?, ?, ?, ?)]\n",
      "[parameters: [('Northeastern', 1, 'Left Wing', 'Aidan McDonough', '2021-10-09-Northeastern-Quinnipiac'), ('Northeastern', 1, 'Center', 'Ty Jackson', '2021-10-09-Northeastern-Quinnipiac'), ('Northeastern', 1, 'Right Wing', 'Dylan Jackson', '2021-10-09-Northeastern-Quinnipiac'), ('Northeastern', 2, 'Left Wing', 'Gunnarwolfe Fontaine', '2021-10-09-Northeastern-Quinnipiac'), ('Northeastern', 2, 'Center', 'Jack Hughes', '2021-10-09-Northeastern-Quinnipiac'), ('Northeastern', 2, 'Right Wing', 'Sam Colangelo', '2021-10-09-Northeastern-Quinnipiac'), ('Northeastern', 3, 'Left Wing', 'Matt Choupani', '2021-10-09-Northeastern-Quinnipiac'), ('Northeastern', 3, 'Center', 'Jakov Novak', '2021-10-09-Northeastern-Quinnipiac')  ... displaying 10 of 43 total bound parameter sets ...  ('Quinnipiac', 'Goalie 1', 'Goalie', 'Yaniv Perets', '2021-10-09-Northeastern-Quinnipiac'), ('Quinnipiac', 'Goalie 2', 'Goalie', 'Noah Altman', '2021-10-09-Northeastern-Quinnipiac')]]\n",
      "(Background on this error at: https://sqlalche.me/e/20/e3q8)\n"
     ]
    },
    {
     "name": "stderr",
     "output_type": "stream",
     "text": [
      "Scraping games:   6%|▋         | 70/1106 [03:17<49:36,  2.87s/it]"
     ]
    },
    {
     "name": "stdout",
     "output_type": "stream",
     "text": [
      "Error saving to table line_chart: (sqlite3.OperationalError) table line_chart has no column named Team\n",
      "[SQL: INSERT INTO line_chart (\"Team\", \"Line\", \"Position\", \"Player\", \"Game_ID\") VALUES (?, ?, ?, ?, ?)]\n",
      "[parameters: [('Boston College', 1, 'Left Wing', 'Brandon Kruse', '2021-10-09-Boston College-Holy Cross'), ('Boston College', 1, 'Center', 'Jack McBain', '2021-10-09-Boston College-Holy Cross'), ('Boston College', 1, 'Right Wing', 'Colby Ambrosio', '2021-10-09-Boston College-Holy Cross'), ('Boston College', 2, 'Left Wing', 'Trevor Kuntar', '2021-10-09-Boston College-Holy Cross'), ('Boston College', 2, 'Center', 'Marc McLaughlin', '2021-10-09-Boston College-Holy Cross'), ('Boston College', 2, 'Right Wing', 'Nikita Nesterenko', '2021-10-09-Boston College-Holy Cross'), ('Boston College', 3, 'Left Wing', 'Mike Posma', '2021-10-09-Boston College-Holy Cross'), ('Boston College', 3, 'Center', 'Patrick Giles', '2021-10-09-Boston College-Holy Cross')  ... displaying 10 of 43 total bound parameter sets ...  ('Holy Cross', 'Goalie 2', 'Goalie', 'Matt Radomsky', '2021-10-09-Boston College-Holy Cross'), ('Holy Cross', 'Goalie 3', 'Goalie', 'Thomas Gale', '2021-10-09-Boston College-Holy Cross')]]\n",
      "(Background on this error at: https://sqlalche.me/e/20/e3q8)\n"
     ]
    },
    {
     "name": "stderr",
     "output_type": "stream",
     "text": [
      "Scraping games:   6%|▋         | 71/1106 [03:20<49:31,  2.87s/it]"
     ]
    },
    {
     "name": "stdout",
     "output_type": "stream",
     "text": [
      "Error saving to table line_chart: (sqlite3.OperationalError) table line_chart has no column named Team\n",
      "[SQL: INSERT INTO line_chart (\"Team\", \"Line\", \"Position\", \"Player\", \"Game_ID\") VALUES (?, ?, ?, ?, ?)]\n",
      "[parameters: [('Northern Michigan', 1, 'Left Wing', 'Michael Colella', '2021-10-09-St. Thomas-Northern Michigan'), ('Northern Michigan', 1, 'Center', 'Joseph Nardi', '2021-10-09-St. Thomas-Northern Michigan'), ('Northern Michigan', 1, 'Right Wing', 'Andre Ghantous', '2021-10-09-St. Thomas-Northern Michigan'), ('Northern Michigan', 2, 'Left Wing', 'Hank Crone', '2021-10-09-St. Thomas-Northern Michigan'), ('Northern Michigan', 2, 'Center', 'Hampus Eriksson', '2021-10-09-St. Thomas-Northern Michigan'), ('Northern Michigan', 2, 'Right Wing', 'AJ Vanderbeck', '2021-10-09-St. Thomas-Northern Michigan'), ('Northern Michigan', 3, 'Left Wing', 'Rylan Van Unen', '2021-10-09-St. Thomas-Northern Michigan'), ('Northern Michigan', 3, 'Center', 'Alex Frye', '2021-10-09-St. Thomas-Northern Michigan')  ... displaying 10 of 42 total bound parameter sets ...  ('St. Thomas', 'Goalie 1', 'Goalie', 'Peter Thome', '2021-10-09-St. Thomas-Northern Michigan'), ('St. Thomas', 'Goalie 2', 'Goalie', 'Jacob Berger', '2021-10-09-St. Thomas-Northern Michigan')]]\n",
      "(Background on this error at: https://sqlalche.me/e/20/e3q8)\n"
     ]
    },
    {
     "name": "stderr",
     "output_type": "stream",
     "text": [
      "Scraping games:   7%|▋         | 72/1106 [03:23<50:28,  2.93s/it]"
     ]
    },
    {
     "name": "stdout",
     "output_type": "stream",
     "text": [
      "Error saving to table line_chart: (sqlite3.OperationalError) table line_chart has no column named Team\n",
      "[SQL: INSERT INTO line_chart (\"Team\", \"Line\", \"Position\", \"Player\", \"Game_ID\") VALUES (?, ?, ?, ?, ?)]\n",
      "[parameters: [('Boston University', 1, 'Left Wing', 'Robert Mastrosimone', '2021-10-09-Connecticut-Boston University'), ('Boston University', 1, 'Center', 'Matt Brown', '2021-10-09-Connecticut-Boston University'), ('Boston University', 1, 'Right Wing', 'Ethan Phillips', '2021-10-09-Connecticut-Boston University'), ('Boston University', 2, 'Left Wing', 'Logan Cockerill', '2021-10-09-Connecticut-Boston University'), ('Boston University', 2, 'Center', 'Wilmer Skoog', '2021-10-09-Connecticut-Boston University'), ('Boston University', 2, 'Right Wing', 'Tyler Boucher', '2021-10-09-Connecticut-Boston University'), ('Boston University', 3, 'Left Wing', 'Luke Tuch', '2021-10-09-Connecticut-Boston University'), ('Boston University', 3, 'Center', \"Jay O'Brien\", '2021-10-09-Connecticut-Boston University')  ... displaying 10 of 42 total bound parameter sets ...  ('Connecticut', 'Goalie 1', 'Goalie', 'Darion Hanson', '2021-10-09-Connecticut-Boston University'), ('Connecticut', 'Goalie 2', 'Goalie', 'Matt Pasquale', '2021-10-09-Connecticut-Boston University')]]\n",
      "(Background on this error at: https://sqlalche.me/e/20/e3q8)\n"
     ]
    },
    {
     "name": "stderr",
     "output_type": "stream",
     "text": [
      "Scraping games:   7%|▋         | 73/1106 [03:26<51:47,  3.01s/it]"
     ]
    },
    {
     "name": "stdout",
     "output_type": "stream",
     "text": [
      "Error saving to table line_chart: (sqlite3.OperationalError) table line_chart has no column named Team\n",
      "[SQL: INSERT INTO line_chart (\"Team\", \"Line\", \"Position\", \"Player\", \"Game_ID\") VALUES (?, ?, ?, ?, ?)]\n",
      "[parameters: [('Army', 1, 'Left Wing', 'Daniel Haider', '2021-10-14-Army-Wisconsin'), ('Army', 1, 'Center', 'Jake Felker', '2021-10-14-Army-Wisconsin'), ('Army', 1, 'Right Wing', 'Josh Bohlin', '2021-10-14-Army-Wisconsin'), ('Army', 2, 'Left Wing', 'Mitch Machlitt', '2021-10-14-Army-Wisconsin'), ('Army', 2, 'Center', 'Eric Butte', '2021-10-14-Army-Wisconsin'), ('Army', 2, 'Right Wing', 'Colin Bilek', '2021-10-14-Army-Wisconsin'), ('Army', 3, 'Left Wing', 'Brett Abdelnour', '2021-10-14-Army-Wisconsin'), ('Army', 3, 'Center', 'John Keranen', '2021-10-14-Army-Wisconsin')  ... displaying 10 of 40 total bound parameter sets ...  ('Wisconsin', 1, 'Extra', 'Jake', '2021-10-14-Army-Wisconsin'), ('Wisconsin', 'Goalie 1', 'Goalie', 'Cameron Rowe', '2021-10-14-Army-Wisconsin')]]\n",
      "(Background on this error at: https://sqlalche.me/e/20/e3q8)\n"
     ]
    },
    {
     "name": "stderr",
     "output_type": "stream",
     "text": [
      "Scraping games:   7%|▋         | 74/1106 [03:29<52:10,  3.03s/it]"
     ]
    },
    {
     "name": "stdout",
     "output_type": "stream",
     "text": [
      "Error saving to table line_chart: (sqlite3.OperationalError) table line_chart has no column named Team\n",
      "[SQL: INSERT INTO line_chart (\"Team\", \"Line\", \"Position\", \"Player\", \"Game_ID\") VALUES (?, ?, ?, ?, ?)]\n",
      "[parameters: [('Minnesota State', 1, 'Left Wing', 'Julian Napravnik', '2021-10-15-Minnesota State-Providence'), ('Minnesota State', 1, 'Center', 'Nathan Smith', '2021-10-15-Minnesota State-Providence'), ('Minnesota State', 1, 'Right Wing', 'Cade Borchardt', '2021-10-15-Minnesota State-Providence'), ('Minnesota State', 2, 'Left Wing', 'Reggie Lutz', '2021-10-15-Minnesota State-Providence'), ('Minnesota State', 2, 'Center', 'David Silye', '2021-10-15-Minnesota State-Providence'), ('Minnesota State', 2, 'Right Wing', 'Lucas Sowder', '2021-10-15-Minnesota State-Providence'), ('Minnesota State', 3, 'Left Wing', 'Sam Morton', '2021-10-15-Minnesota State-Providence'), ('Minnesota State', 3, 'Center', 'Brendan Furry', '2021-10-15-Minnesota State-Providence')  ... displaying 10 of 44 total bound parameter sets ...  ('Providence', 'Goalie 2', 'Goalie', 'Jimmy Scannell', '2021-10-15-Minnesota State-Providence'), ('Providence', 'Goalie 3', 'Goalie', 'Jaxson Stauber', '2021-10-15-Minnesota State-Providence')]]\n",
      "(Background on this error at: https://sqlalche.me/e/20/e3q8)\n"
     ]
    },
    {
     "name": "stderr",
     "output_type": "stream",
     "text": [
      "Scraping games:   7%|▋         | 75/1106 [03:32<51:46,  3.01s/it]"
     ]
    },
    {
     "name": "stdout",
     "output_type": "stream",
     "text": [
      "Error saving to table line_chart: (sqlite3.OperationalError) table line_chart has no column named Team\n",
      "[SQL: INSERT INTO line_chart (\"Team\", \"Line\", \"Position\", \"Player\", \"Game_ID\") VALUES (?, ?, ?, ?, ?)]\n",
      "[parameters: [('Michigan', 1, 'Left Wing', 'Eric Ciccolini', '2021-10-15-Michigan-Minnesota-Duluth'), ('Michigan', 1, 'Center', 'Jimmy Lambert', '2021-10-15-Michigan-Minnesota-Duluth'), ('Michigan', 1, 'Right Wing', 'Nick Granowicz', '2021-10-15-Michigan-Minnesota-Duluth'), ('Michigan', 2, 'Left Wing', 'Jay Keranen', '2021-10-15-Michigan-Minnesota-Duluth'), ('Michigan', 2, 'Center', 'Garrett Van Wyhe', '2021-10-15-Michigan-Minnesota-Duluth'), ('Michigan', 2, 'Right Wing', 'Nolan Moyle', '2021-10-15-Michigan-Minnesota-Duluth'), ('Michigan', 3, 'Left Wing', 'Michael Pastujov', '2021-10-15-Michigan-Minnesota-Duluth'), ('Michigan', 3, 'Center', 'Thomas Bordeleau', '2021-10-15-Michigan-Minnesota-Duluth')  ... displaying 10 of 44 total bound parameter sets ...  ('Minnesota-Duluth', 'Goalie 2', 'Goalie', 'Ryan Fanti', '2021-10-15-Michigan-Minnesota-Duluth'), ('Minnesota-Duluth', 'Goalie 3', 'Goalie', 'Zach Stejskal', '2021-10-15-Michigan-Minnesota-Duluth')]]\n",
      "(Background on this error at: https://sqlalche.me/e/20/e3q8)\n"
     ]
    },
    {
     "name": "stderr",
     "output_type": "stream",
     "text": [
      "Scraping games:   7%|▋         | 77/1106 [03:36<45:36,  2.66s/it]"
     ]
    },
    {
     "name": "stdout",
     "output_type": "stream",
     "text": [
      "Error saving to table line_chart: (sqlite3.OperationalError) table line_chart has no column named Team\n",
      "[SQL: INSERT INTO line_chart (\"Team\", \"Line\", \"Position\", \"Player\", \"Game_ID\") VALUES (?, ?, ?, ?, ?)]\n",
      "[parameters: [('Boston College', 1, 'Left Wing', 'Brandon Kruse', '2021-10-15-Northeastern-Boston College'), ('Boston College', 1, 'Center', 'Jack McBain', '2021-10-15-Northeastern-Boston College'), ('Boston College', 1, 'Right Wing', 'Colby Ambrosio', '2021-10-15-Northeastern-Boston College'), ('Boston College', 2, 'Left Wing', 'Trevor Kuntar', '2021-10-15-Northeastern-Boston College'), ('Boston College', 2, 'Center', 'Marc McLaughlin', '2021-10-15-Northeastern-Boston College'), ('Boston College', 2, 'Right Wing', 'Nikita Nesterenko', '2021-10-15-Northeastern-Boston College'), ('Boston College', 3, 'Left Wing', 'Mike Posma', '2021-10-15-Northeastern-Boston College'), ('Boston College', 3, 'Center', 'Patrick Giles', '2021-10-15-Northeastern-Boston College')  ... displaying 10 of 44 total bound parameter sets ...  ('Northeastern', 'Goalie 2', 'Goalie', 'Devon Levi', '2021-10-15-Northeastern-Boston College'), ('Northeastern', 'Goalie 3', 'Goalie', 'TJ Semptimphelter', '2021-10-15-Northeastern-Boston College')]]\n",
      "(Background on this error at: https://sqlalche.me/e/20/e3q8)\n"
     ]
    },
    {
     "name": "stderr",
     "output_type": "stream",
     "text": [
      "Scraping games:   7%|▋         | 78/1106 [03:39<48:13,  2.81s/it]"
     ]
    },
    {
     "name": "stdout",
     "output_type": "stream",
     "text": [
      "Error saving to table line_chart: (sqlite3.OperationalError) table line_chart has no column named Team\n",
      "[SQL: INSERT INTO line_chart (\"Team\", \"Line\", \"Position\", \"Player\", \"Game_ID\") VALUES (?, ?, ?, ?, ?)]\n",
      "[parameters: [('Colorado College', 1, 'Left Wing', 'Marc Pasemko', '2021-10-15-Colorado College-Union'), ('Colorado College', 1, 'Center', 'Hunter McKown', '2021-10-15-Colorado College-Union'), ('Colorado College', 1, 'Right Wing', 'Brian Hawkinson', '2021-10-15-Colorado College-Union'), ('Colorado College', 2, 'Left Wing', 'Matthew Gleason', '2021-10-15-Colorado College-Union'), ('Colorado College', 2, 'Center', 'Noah Prokop', '2021-10-15-Colorado College-Union'), ('Colorado College', 2, 'Right Wing', 'Stanley Cooley', '2021-10-15-Colorado College-Union'), ('Colorado College', 3, 'Left Wing', 'Danny Weight', '2021-10-15-Colorado College-Union'), ('Colorado College', 3, 'Center', 'Jackson Jutting', '2021-10-15-Colorado College-Union')  ... displaying 10 of 43 total bound parameter sets ...  ('Union', 'Goalie 2', 'Goalie', 'Connor Murphy', '2021-10-15-Colorado College-Union'), ('Union', 'Goalie 3', 'Goalie', 'Joe Sharib', '2021-10-15-Colorado College-Union')]]\n",
      "(Background on this error at: https://sqlalche.me/e/20/e3q8)\n"
     ]
    },
    {
     "name": "stderr",
     "output_type": "stream",
     "text": [
      "Scraping games:   7%|▋         | 80/1106 [03:46<50:18,  2.94s/it]"
     ]
    },
    {
     "name": "stdout",
     "output_type": "stream",
     "text": [
      "Error saving to table line_chart: (sqlite3.OperationalError) table line_chart has no column named Team\n",
      "[SQL: INSERT INTO line_chart (\"Team\", \"Line\", \"Position\", \"Player\", \"Game_ID\") VALUES (?, ?, ?, ?, ?)]\n",
      "[parameters: [('Michigan Tech', 1, 'Left Wing', 'Alec Broetzman', '2021-10-15-Notre Dame-Michigan Tech'), ('Michigan Tech', 1, 'Center', 'Matthew Quercia', '2021-10-15-Notre Dame-Michigan Tech'), ('Michigan Tech', 1, 'Right Wing', 'Logan Pietila', '2021-10-15-Notre Dame-Michigan Tech'), ('Michigan Tech', 2, 'Left Wing', 'Trenton Bliss', '2021-10-15-Notre Dame-Michigan Tech'), ('Michigan Tech', 2, 'Center', 'Arvid Caderoth', '2021-10-15-Notre Dame-Michigan Tech'), ('Michigan Tech', 2, 'Right Wing', 'Tommy Parrottino', '2021-10-15-Notre Dame-Michigan Tech'), ('Michigan Tech', 3, 'Left Wing', 'Nick Nardella', '2021-10-15-Notre Dame-Michigan Tech'), ('Michigan Tech', 3, 'Center', 'Parker Saretsky', '2021-10-15-Notre Dame-Michigan Tech')  ... displaying 10 of 43 total bound parameter sets ...  ('Notre Dame', 'Goalie 2', 'Goalie', 'Matthew Galajda', '2021-10-15-Notre Dame-Michigan Tech'), ('Notre Dame', 'Goalie 3', 'Goalie', 'Josh Graziano', '2021-10-15-Notre Dame-Michigan Tech')]]\n",
      "(Background on this error at: https://sqlalche.me/e/20/e3q8)\n"
     ]
    },
    {
     "name": "stderr",
     "output_type": "stream",
     "text": [
      "Scraping games:   7%|▋         | 81/1106 [03:48<50:03,  2.93s/it]"
     ]
    },
    {
     "name": "stdout",
     "output_type": "stream",
     "text": [
      "Error saving to table line_chart: (sqlite3.OperationalError) table line_chart has no column named Team\n",
      "[SQL: INSERT INTO line_chart (\"Team\", \"Line\", \"Position\", \"Player\", \"Game_ID\") VALUES (?, ?, ?, ?, ?)]\n",
      "[parameters: [('Canisius', 1, 'Left Wing', 'Mitchell Martan', '2021-10-15-Canisius-Rensselaer'), ('Canisius', 1, 'Center', 'Lee Lapid', '2021-10-15-Canisius-Rensselaer'), ('Canisius', 1, 'Right Wing', 'Keaton Mastrodonato', '2021-10-15-Canisius-Rensselaer'), ('Canisius', 2, 'Left Wing', 'Max Kouznetsov', '2021-10-15-Canisius-Rensselaer'), ('Canisius', 2, 'Center', 'Simon Gravel', '2021-10-15-Canisius-Rensselaer'), ('Canisius', 2, 'Right Wing', 'Randy Hernandez', '2021-10-15-Canisius-Rensselaer'), ('Canisius', 3, 'Left Wing', 'Daniel DiGrande', '2021-10-15-Canisius-Rensselaer'), ('Canisius', 3, 'Center', 'Ryan Miotto', '2021-10-15-Canisius-Rensselaer')  ... displaying 10 of 43 total bound parameter sets ...  ('Rensselaer', 'Goalie 2', 'Goalie', 'Brett Miller', '2021-10-15-Canisius-Rensselaer'), ('Rensselaer', 'Goalie 3', 'Goalie', 'Jack Watson', '2021-10-15-Canisius-Rensselaer')]]\n",
      "(Background on this error at: https://sqlalche.me/e/20/e3q8)\n"
     ]
    },
    {
     "name": "stderr",
     "output_type": "stream",
     "text": [
      "Scraping games:   7%|▋         | 82/1106 [03:51<50:10,  2.94s/it]"
     ]
    },
    {
     "name": "stdout",
     "output_type": "stream",
     "text": [
      "Error saving to table line_chart: (sqlite3.OperationalError) table line_chart has no column named Team\n",
      "[SQL: INSERT INTO line_chart (\"Team\", \"Line\", \"Position\", \"Player\", \"Game_ID\") VALUES (?, ?, ?, ?, ?)]\n",
      "[parameters: [('Miami', 1, 'Left Wing', 'Chase Gresock', '2021-10-15-Miami-Michigan State'), ('Miami', 1, 'Center', 'Michael Regush', '2021-10-15-Miami-Michigan State'), ('Miami', 1, 'Right Wing', 'Matt Barry', '2021-10-15-Miami-Michigan State'), ('Miami', 2, 'Left Wing', 'Matthew Barbolini', '2021-10-15-Miami-Michigan State'), ('Miami', 2, 'Center', 'Red Savage', '2021-10-15-Miami-Michigan State'), ('Miami', 2, 'Right Wing', 'Ryan Savage', '2021-10-15-Miami-Michigan State'), ('Miami', 3, 'Left Wing', 'Joe Cassetti', '2021-10-15-Miami-Michigan State'), ('Miami', 3, 'Center', 'Thomas Daskas', '2021-10-15-Miami-Michigan State')  ... displaying 10 of 46 total bound parameter sets ...  ('Michigan State', 'Goalie 2', 'Goalie', 'Pierce Charleson', '2021-10-15-Miami-Michigan State'), ('Michigan State', 'Goalie 3', 'Goalie', 'Jon Mor', '2021-10-15-Miami-Michigan State')]]\n",
      "(Background on this error at: https://sqlalche.me/e/20/e3q8)\n"
     ]
    },
    {
     "name": "stderr",
     "output_type": "stream",
     "text": [
      "Scraping games:   8%|▊         | 83/1106 [03:55<50:57,  2.99s/it]"
     ]
    },
    {
     "name": "stdout",
     "output_type": "stream",
     "text": [
      "Error saving to table line_chart: (sqlite3.OperationalError) table line_chart has no column named Team\n",
      "[SQL: INSERT INTO line_chart (\"Team\", \"Line\", \"Position\", \"Player\", \"Game_ID\") VALUES (?, ?, ?, ?, ?)]\n",
      "[parameters: [('Colgate', 1, 'Left Wing', 'Colton Young', '2021-10-15-Merrimack-Colgate'), ('Colgate', 1, 'Center', 'Jeff Stewart', '2021-10-15-Merrimack-Colgate'), ('Colgate', 1, 'Right Wing', 'Ethan Manderville', '2021-10-15-Merrimack-Colgate'), ('Colgate', 2, 'Left Wing', 'Arnaud Vachon', '2021-10-15-Merrimack-Colgate'), ('Colgate', 2, 'Center', 'Josh McKechney', '2021-10-15-Merrimack-Colgate'), ('Colgate', 2, 'Right Wing', 'Alex Young', '2021-10-15-Merrimack-Colgate'), ('Colgate', 3, 'Left Wing', 'Matt Verboon', '2021-10-15-Merrimack-Colgate'), ('Colgate', 3, 'Center', 'Paul McAvoy', '2021-10-15-Merrimack-Colgate')  ... displaying 10 of 44 total bound parameter sets ...  ('Merrimack', 'Goalie 2', 'Goalie', 'Zachary Borgiel', '2021-10-15-Merrimack-Colgate'), ('Merrimack', 'Goalie 3', 'Goalie', 'Hugo Ollas', '2021-10-15-Merrimack-Colgate')]]\n",
      "(Background on this error at: https://sqlalche.me/e/20/e3q8)\n"
     ]
    },
    {
     "name": "stderr",
     "output_type": "stream",
     "text": [
      "Scraping games:   8%|▊         | 84/1106 [03:57<50:08,  2.94s/it]"
     ]
    },
    {
     "name": "stdout",
     "output_type": "stream",
     "text": [
      "Error saving to table line_chart: (sqlite3.OperationalError) table line_chart has no column named Team\n",
      "[SQL: INSERT INTO line_chart (\"Team\", \"Line\", \"Position\", \"Player\", \"Game_ID\") VALUES (?, ?, ?, ?, ?)]\n",
      "[parameters: [(\"American Int'l\", 1, 'Left Wing', 'Luka Maver', \"2021-10-15-Massachusetts-American Int'l\"), (\"American Int'l\", 1, 'Center', 'Elijiah Barriga', \"2021-10-15-Massachusetts-American Int'l\"), (\"American Int'l\", 1, 'Right Wing', 'Brian Rigali', \"2021-10-15-Massachusetts-American Int'l\"), (\"American Int'l\", 2, 'Left Wing', 'Justin Cole', \"2021-10-15-Massachusetts-American Int'l\"), (\"American Int'l\", 2, 'Center', 'Julius Janhonen', \"2021-10-15-Massachusetts-American Int'l\"), (\"American Int'l\", 2, 'Right Wing', 'Chris Dodero', \"2021-10-15-Massachusetts-American Int'l\"), (\"American Int'l\", 3, 'Left Wing', 'Chris Van Os-Shaw', \"2021-10-15-Massachusetts-American Int'l\"), (\"American Int'l\", 3, 'Center', 'Jake Stella', \"2021-10-15-Massachusetts-American Int'l\")  ... displaying 10 of 43 total bound parameter sets ...  ('Massachusetts', 'Goalie 1', 'Goalie', 'Matt Murray', \"2021-10-15-Massachusetts-American Int'l\"), ('Massachusetts', 'Goalie 2', 'Goalie', 'Luke Pavicich', \"2021-10-15-Massachusetts-American Int'l\")]]\n",
      "(Background on this error at: https://sqlalche.me/e/20/e3q8)\n"
     ]
    },
    {
     "name": "stderr",
     "output_type": "stream",
     "text": [
      "Scraping games:   8%|▊         | 85/1106 [04:00<49:28,  2.91s/it]"
     ]
    },
    {
     "name": "stdout",
     "output_type": "stream",
     "text": [
      "Error saving to table line_chart: (sqlite3.OperationalError) table line_chart has no column named Team\n",
      "[SQL: INSERT INTO line_chart (\"Team\", \"Line\", \"Position\", \"Player\", \"Game_ID\") VALUES (?, ?, ?, ?, ?)]\n",
      "[parameters: [('Boston University', 1, 'Left Wing', 'Nick Zabaneh', '2021-10-15-Sacred Heart-Boston University'), ('Boston University', 1, 'Center', 'Markus Boguslavsky', '2021-10-15-Sacred Heart-Boston University'), ('Boston University', 1, 'Right Wing', 'Tyler Boucher', '2021-10-15-Sacred Heart-Boston University'), ('Boston University', 2, 'Left Wing', 'Ethan Phillips', '2021-10-15-Sacred Heart-Boston University'), ('Boston University', 2, 'Center', 'Wilmer Skoog', '2021-10-15-Sacred Heart-Boston University'), ('Boston University', 2, 'Right Wing', 'Dylan Peterson', '2021-10-15-Sacred Heart-Boston University'), ('Boston University', 3, 'Left Wing', 'Luke Tuch', '2021-10-15-Sacred Heart-Boston University'), ('Boston University', 3, 'Center', 'Matt Brown', '2021-10-15-Sacred Heart-Boston University')  ... displaying 10 of 42 total bound parameter sets ...  ('Sacred Heart', 'Goalie 1', 'Goalie', \"Jack O'Dea\", '2021-10-15-Sacred Heart-Boston University'), ('Sacred Heart', 'Goalie 2', 'Goalie', 'Justin Robbins', '2021-10-15-Sacred Heart-Boston University')]]\n",
      "(Background on this error at: https://sqlalche.me/e/20/e3q8)\n"
     ]
    },
    {
     "name": "stderr",
     "output_type": "stream",
     "text": [
      "Scraping games:   8%|▊         | 86/1106 [04:03<50:10,  2.95s/it]"
     ]
    },
    {
     "name": "stdout",
     "output_type": "stream",
     "text": [
      "Error saving to table line_chart: (sqlite3.OperationalError) table line_chart has no column named Team\n",
      "[SQL: INSERT INTO line_chart (\"Team\", \"Line\", \"Position\", \"Player\", \"Game_ID\") VALUES (?, ?, ?, ?, ?)]\n",
      "[parameters: [('Minnesota', 1, 'Left Wing', 'Blake McLaughlin', '2021-10-15-St. Cloud State-Minnesota'), ('Minnesota', 1, 'Center', 'Sammy Walker', '2021-10-15-St. Cloud State-Minnesota'), ('Minnesota', 1, 'Right Wing', 'Bryce Brodzinski', '2021-10-15-St. Cloud State-Minnesota'), ('Minnesota', 2, 'Left Wing', 'Tristan Broz', '2021-10-15-St. Cloud State-Minnesota'), ('Minnesota', 2, 'Center', 'Aaron Huglen', '2021-10-15-St. Cloud State-Minnesota'), ('Minnesota', 2, 'Right Wing', 'Mason Nevers', '2021-10-15-St. Cloud State-Minnesota'), ('Minnesota', 3, 'Left Wing', 'Grant Cruikshank', '2021-10-15-St. Cloud State-Minnesota'), ('Minnesota', 3, 'Center', 'Jaxon Nelson', '2021-10-15-St. Cloud State-Minnesota')  ... displaying 10 of 43 total bound parameter sets ...  ('St. Cloud State', 'Goalie 2', 'Goalie', 'Joey Lamoreaux', '2021-10-15-St. Cloud State-Minnesota'), ('St. Cloud State', 'Goalie 3', 'Goalie', 'Jaxon Castor', '2021-10-15-St. Cloud State-Minnesota')]]\n",
      "(Background on this error at: https://sqlalche.me/e/20/e3q8)\n"
     ]
    },
    {
     "name": "stderr",
     "output_type": "stream",
     "text": [
      "Scraping games:   8%|▊         | 88/1106 [04:09<50:04,  2.95s/it]"
     ]
    },
    {
     "name": "stdout",
     "output_type": "stream",
     "text": [
      "Error saving to table line_chart: (sqlite3.OperationalError) table line_chart has no column named Team\n",
      "[SQL: INSERT INTO line_chart (\"Team\", \"Line\", \"Position\", \"Player\", \"Game_ID\") VALUES (?, ?, ?, ?, ?)]\n",
      "[parameters: [('Army', 1, 'Left Wing', 'Daniel Haider', '2021-10-15-Army-Wisconsin'), ('Army', 1, 'Center', 'Eric Butte', '2021-10-15-Army-Wisconsin'), ('Army', 1, 'Right Wing', 'Colin Bilek', '2021-10-15-Army-Wisconsin'), ('Army', 2, 'Left Wing', 'Mitch Machlitt', '2021-10-15-Army-Wisconsin'), ('Army', 2, 'Center', 'Jake Felker', '2021-10-15-Army-Wisconsin'), ('Army', 2, 'Right Wing', 'Ricky Lyle', '2021-10-15-Army-Wisconsin'), ('Army', 3, 'Left Wing', 'Brett Abdelnour', '2021-10-15-Army-Wisconsin'), ('Army', 3, 'Center', 'John Keranen', '2021-10-15-Army-Wisconsin')  ... displaying 10 of 44 total bound parameter sets ...  ('Wisconsin', 'Goalie 2', 'Goalie', 'Cameron Rowe', '2021-10-15-Army-Wisconsin'), ('Wisconsin', 'Goalie 3', 'Goalie', 'Ben Garrity', '2021-10-15-Army-Wisconsin')]]\n",
      "(Background on this error at: https://sqlalche.me/e/20/e3q8)\n"
     ]
    },
    {
     "name": "stderr",
     "output_type": "stream",
     "text": [
      "Scraping games:   8%|▊         | 89/1106 [04:12<50:12,  2.96s/it]"
     ]
    },
    {
     "name": "stdout",
     "output_type": "stream",
     "text": [
      "Error saving to table line_chart: (sqlite3.OperationalError) table line_chart has no column named Team\n",
      "[SQL: INSERT INTO line_chart (\"Team\", \"Line\", \"Position\", \"Player\", \"Game_ID\") VALUES (?, ?, ?, ?, ?)]\n",
      "[parameters: [('Bemidji State', 1, 'Left Wing', 'Lukas Sillinger', '2021-10-15-North Dakota-Bemidji State'), ('Bemidji State', 1, 'Center', 'Owen Sillinger', '2021-10-15-North Dakota-Bemidji State'), ('Bemidji State', 1, 'Right Wing', 'Alex Ierullo', '2021-10-15-North Dakota-Bemidji State'), ('Bemidji State', 2, 'Left Wing', 'Ethan Somoza', '2021-10-15-North Dakota-Bemidji State'), ('Bemidji State', 2, 'Center', 'Ross Armour', '2021-10-15-North Dakota-Bemidji State'), ('Bemidji State', 2, 'Right Wing', 'Eric Martin', '2021-10-15-North Dakota-Bemidji State'), ('Bemidji State', 3, 'Left Wing', 'Jakub Lewandowski', '2021-10-15-North Dakota-Bemidji State'), ('Bemidji State', 3, 'Center', 'Tyler Kirkup', '2021-10-15-North Dakota-Bemidji State')  ... displaying 10 of 44 total bound parameter sets ...  ('North Dakota', 'Goalie 2', 'Goalie', 'Kaleb Johnson', '2021-10-15-North Dakota-Bemidji State'), ('North Dakota', 'Goalie 3', 'Goalie', 'Jakob Hellsten', '2021-10-15-North Dakota-Bemidji State')]]\n",
      "(Background on this error at: https://sqlalche.me/e/20/e3q8)\n"
     ]
    },
    {
     "name": "stderr",
     "output_type": "stream",
     "text": [
      "Scraping games:   8%|▊         | 90/1106 [04:15<49:17,  2.91s/it]"
     ]
    },
    {
     "name": "stdout",
     "output_type": "stream",
     "text": [
      "Error saving to table line_chart: (sqlite3.OperationalError) table line_chart has no column named Team\n",
      "[SQL: INSERT INTO line_chart (\"Team\", \"Line\", \"Position\", \"Player\", \"Game_ID\") VALUES (?, ?, ?, ?, ?)]\n",
      "[parameters: [('Air Force', 1, 'Left Wing', 'Nate Horn', '2021-10-15-Denver-Air Force'), ('Air Force', 1, 'Center', 'Andrew DeCarlo', '2021-10-15-Denver-Air Force'), ('Air Force', 1, 'Right Wing', 'Willie Reim', '2021-10-15-Denver-Air Force'), ('Air Force', 2, 'Left Wing', 'Will Gavin', '2021-10-15-Denver-Air Force'), ('Air Force', 2, 'Center', 'Clayton Cosentino', '2021-10-15-Denver-Air Force'), ('Air Force', 2, 'Right Wing', 'Parker Brown', '2021-10-15-Denver-Air Force'), ('Air Force', 3, 'Left Wing', 'Brian Adams', '2021-10-15-Denver-Air Force'), ('Air Force', 3, 'Center', 'Lucas Coon', '2021-10-15-Denver-Air Force')  ... displaying 10 of 43 total bound parameter sets ...  ('Denver', 'Goalie 1', 'Goalie', 'Magnus Chrona', '2021-10-15-Denver-Air Force'), ('Denver', 'Goalie 2', 'Goalie', 'Matt Davis', '2021-10-15-Denver-Air Force')]]\n",
      "(Background on this error at: https://sqlalche.me/e/20/e3q8)\n"
     ]
    },
    {
     "name": "stderr",
     "output_type": "stream",
     "text": [
      "Scraping games:   8%|▊         | 91/1106 [04:18<48:57,  2.89s/it]"
     ]
    },
    {
     "name": "stdout",
     "output_type": "stream",
     "text": [
      "Error saving to table line_chart: (sqlite3.OperationalError) table line_chart has no column named Team\n",
      "[SQL: INSERT INTO line_chart (\"Team\", \"Line\", \"Position\", \"Player\", \"Game_ID\") VALUES (?, ?, ?, ?, ?)]\n",
      "[parameters: [('New Hampshire', 1, 'Left Wing', 'Tyler Ward', '2021-10-15-New Hampshire-Arizona State'), ('New Hampshire', 1, 'Center', 'Jackson Pierson', '2021-10-15-New Hampshire-Arizona State'), ('New Hampshire', 1, 'Right Wing', 'Robert Cronin', '2021-10-15-New Hampshire-Arizona State'), ('New Hampshire', 2, 'Left Wing', 'Chase Stevenson', '2021-10-15-New Hampshire-Arizona State'), ('New Hampshire', 2, 'Center', 'Filip Engaras', '2021-10-15-New Hampshire-Arizona State'), ('New Hampshire', 2, 'Right Wing', 'Eric MacAdams', '2021-10-15-New Hampshire-Arizona State'), ('New Hampshire', 3, 'Left Wing', 'Carsen Richels', '2021-10-15-New Hampshire-Arizona State'), ('New Hampshire', 3, 'Center', 'Harrison Blaisdell', '2021-10-15-New Hampshire-Arizona State')  ... displaying 10 of 42 total bound parameter sets ...  ('Arizona State', 'Goalie 1', 'Goalie', 'Ben Kraws', '2021-10-15-New Hampshire-Arizona State'), ('Arizona State', 'Goalie 2', 'Goalie', 'Cole Brady', '2021-10-15-New Hampshire-Arizona State')]]\n",
      "(Background on this error at: https://sqlalche.me/e/20/e3q8)\n"
     ]
    },
    {
     "name": "stderr",
     "output_type": "stream",
     "text": [
      "Scraping games:   8%|▊         | 92/1106 [04:21<49:05,  2.90s/it]"
     ]
    },
    {
     "name": "stdout",
     "output_type": "stream",
     "text": [
      "Error saving to table line_chart: (sqlite3.OperationalError) table line_chart has no column named Team\n",
      "[SQL: INSERT INTO line_chart (\"Team\", \"Line\", \"Position\", \"Player\", \"Game_ID\") VALUES (?, ?, ?, ?, ?)]\n",
      "[parameters: [('Holy Cross', 1, 'Left Wing', 'John Gelatt', '2021-10-15-Holy Cross-Mercyhurst'), ('Holy Cross', 1, 'Center', 'Matt Guerra', '2021-10-15-Holy Cross-Mercyhurst'), ('Holy Cross', 1, 'Right Wing', 'Alec Cicero', '2021-10-15-Holy Cross-Mercyhurst'), ('Holy Cross', 2, 'Left Wing', 'Jack Ricketts', '2021-10-15-Holy Cross-Mercyhurst'), ('Holy Cross', 2, 'Center', 'Jack MacNab', '2021-10-15-Holy Cross-Mercyhurst'), ('Holy Cross', 2, 'Right Wing', 'Grayson Constable', '2021-10-15-Holy Cross-Mercyhurst'), ('Holy Cross', 3, 'Left Wing', 'Tyler Ghirardosi', '2021-10-15-Holy Cross-Mercyhurst'), ('Holy Cross', 3, 'Center', 'Daniel Colabufo', '2021-10-15-Holy Cross-Mercyhurst')  ... displaying 10 of 43 total bound parameter sets ...  ('Mercyhurst', 'Goalie 1', 'Goalie', 'Hank Johnson', '2021-10-15-Holy Cross-Mercyhurst'), ('Mercyhurst', 'Goalie 2', 'Goalie', 'Kyle McClellan', '2021-10-15-Holy Cross-Mercyhurst')]]\n",
      "(Background on this error at: https://sqlalche.me/e/20/e3q8)\n"
     ]
    },
    {
     "name": "stderr",
     "output_type": "stream",
     "text": [
      "Scraping games:   8%|▊         | 93/1106 [04:23<48:23,  2.87s/it]"
     ]
    },
    {
     "name": "stdout",
     "output_type": "stream",
     "text": [
      "Error saving to table line_chart: (sqlite3.OperationalError) table line_chart has no column named Team\n",
      "[SQL: INSERT INTO line_chart (\"Team\", \"Line\", \"Position\", \"Player\", \"Game_ID\") VALUES (?, ?, ?, ?, ?)]\n",
      "[parameters: [('Lake Superior', 1, 'Left Wing', 'Miroslav Mucha', '2021-10-15-St. Thomas-Lake Superior'), ('Lake Superior', 1, 'Center', 'Louis Boudon', '2021-10-15-St. Thomas-Lake Superior'), ('Lake Superior', 1, 'Right Wing', 'Brandon Puricelli', '2021-10-15-St. Thomas-Lake Superior'), ('Lake Superior', 2, 'Left Wing', 'Brett Roloson', '2021-10-15-St. Thomas-Lake Superior'), ('Lake Superior', 2, 'Center', 'Dustin Manz', '2021-10-15-St. Thomas-Lake Superior'), ('Lake Superior', 2, 'Right Wing', 'Cole Craft', '2021-10-15-St. Thomas-Lake Superior'), ('Lake Superior', 3, 'Left Wing', 'Logan Jenuwine', '2021-10-15-St. Thomas-Lake Superior'), ('Lake Superior', 3, 'Center', 'Harrison Roy', '2021-10-15-St. Thomas-Lake Superior')  ... displaying 10 of 43 total bound parameter sets ...  ('St. Thomas', 'Goalie 1', 'Goalie', 'Peter Thome', '2021-10-15-St. Thomas-Lake Superior'), ('St. Thomas', 'Goalie 2', 'Goalie', 'Jacob Berger', '2021-10-15-St. Thomas-Lake Superior')]]\n",
      "(Background on this error at: https://sqlalche.me/e/20/e3q8)\n"
     ]
    },
    {
     "name": "stderr",
     "output_type": "stream",
     "text": [
      "Scraping games:   9%|▊         | 95/1106 [04:29<49:33,  2.94s/it]"
     ]
    },
    {
     "name": "stdout",
     "output_type": "stream",
     "text": [
      "Error saving to table line_chart: (sqlite3.OperationalError) table line_chart has no column named Team\n",
      "[SQL: INSERT INTO line_chart (\"Team\", \"Line\", \"Position\", \"Player\", \"Game_ID\") VALUES (?, ?, ?, ?, ?)]\n",
      "[parameters: [('Colgate', 1, 'Left Wing', 'Colton Young', '2021-10-16-Merrimack-Colgate'), ('Colgate', 1, 'Center', 'Jeff Stewart', '2021-10-16-Merrimack-Colgate'), ('Colgate', 1, 'Right Wing', 'Ethan Manderville', '2021-10-16-Merrimack-Colgate'), ('Colgate', 2, 'Left Wing', 'Arnaud Vachon', '2021-10-16-Merrimack-Colgate'), ('Colgate', 2, 'Center', 'Josh McKechney', '2021-10-16-Merrimack-Colgate'), ('Colgate', 2, 'Right Wing', 'Alex Young', '2021-10-16-Merrimack-Colgate'), ('Colgate', 3, 'Left Wing', 'Matt Verboon', '2021-10-16-Merrimack-Colgate'), ('Colgate', 3, 'Center', 'Paul McAvoy', '2021-10-16-Merrimack-Colgate')  ... displaying 10 of 44 total bound parameter sets ...  ('Merrimack', 'Goalie 2', 'Goalie', 'Zachary Borgiel', '2021-10-16-Merrimack-Colgate'), ('Merrimack', 'Goalie 3', 'Goalie', 'Hugo Ollas', '2021-10-16-Merrimack-Colgate')]]\n",
      "(Background on this error at: https://sqlalche.me/e/20/e3q8)\n"
     ]
    },
    {
     "name": "stderr",
     "output_type": "stream",
     "text": [
      "Scraping games:   9%|▊         | 96/1106 [04:32<50:04,  2.97s/it]"
     ]
    },
    {
     "name": "stdout",
     "output_type": "stream",
     "text": [
      "Error saving to table line_chart: (sqlite3.OperationalError) table line_chart has no column named Team\n",
      "[SQL: INSERT INTO line_chart (\"Team\", \"Line\", \"Position\", \"Player\", \"Game_ID\") VALUES (?, ?, ?, ?, ?)]\n",
      "[parameters: [('Minnesota', 1, 'Left Wing', 'Blake McLaughlin', '2021-10-16-Minnesota-St. Cloud State'), ('Minnesota', 1, 'Center', 'Sammy Walker', '2021-10-16-Minnesota-St. Cloud State'), ('Minnesota', 1, 'Right Wing', 'Bryce Brodzinski', '2021-10-16-Minnesota-St. Cloud State'), ('Minnesota', 2, 'Left Wing', 'Matthew Knies', '2021-10-16-Minnesota-St. Cloud State'), ('Minnesota', 2, 'Center', 'Ben Meyers', '2021-10-16-Minnesota-St. Cloud State'), ('Minnesota', 2, 'Right Wing', 'Chaz Lucius', '2021-10-16-Minnesota-St. Cloud State'), ('Minnesota', 3, 'Left Wing', 'Grant Cruikshank', '2021-10-16-Minnesota-St. Cloud State'), ('Minnesota', 3, 'Center', 'Jaxon Nelson', '2021-10-16-Minnesota-St. Cloud State')  ... displaying 10 of 43 total bound parameter sets ...  ('St. Cloud State', 'Goalie 2', 'Goalie', 'Joey Lamoreaux', '2021-10-16-Minnesota-St. Cloud State'), ('St. Cloud State', 'Goalie 3', 'Goalie', 'Jaxon Castor', '2021-10-16-Minnesota-St. Cloud State')]]\n",
      "(Background on this error at: https://sqlalche.me/e/20/e3q8)\n"
     ]
    },
    {
     "name": "stderr",
     "output_type": "stream",
     "text": [
      "Scraping games:   9%|▉         | 97/1106 [04:35<48:55,  2.91s/it]"
     ]
    },
    {
     "name": "stdout",
     "output_type": "stream",
     "text": [
      "Error saving to table line_chart: (sqlite3.OperationalError) table line_chart has no column named Team\n",
      "[SQL: INSERT INTO line_chart (\"Team\", \"Line\", \"Position\", \"Player\", \"Game_ID\") VALUES (?, ?, ?, ?, ?)]\n",
      "[parameters: [('New Hampshire', 1, 'Left Wing', 'Tyler Ward', '2021-10-16-New Hampshire-Arizona State'), ('New Hampshire', 1, 'Center', 'Jackson Pierson', '2021-10-16-New Hampshire-Arizona State'), ('New Hampshire', 1, 'Right Wing', 'Robert Cronin', '2021-10-16-New Hampshire-Arizona State'), ('New Hampshire', 2, 'Left Wing', 'Liam Devlin', '2021-10-16-New Hampshire-Arizona State'), ('New Hampshire', 2, 'Center', 'Filip Engaras', '2021-10-16-New Hampshire-Arizona State'), ('New Hampshire', 2, 'Right Wing', 'Eric MacAdams', '2021-10-16-New Hampshire-Arizona State'), ('New Hampshire', 3, 'Left Wing', 'Chase Stevenson', '2021-10-16-New Hampshire-Arizona State'), ('New Hampshire', 3, 'Center', 'Harrison Blaisdell', '2021-10-16-New Hampshire-Arizona State')  ... displaying 10 of 42 total bound parameter sets ...  ('Arizona State', 'Goalie 1', 'Goalie', 'Ben Kraws', '2021-10-16-New Hampshire-Arizona State'), ('Arizona State', 'Goalie 2', 'Goalie', 'Cole Brady', '2021-10-16-New Hampshire-Arizona State')]]\n",
      "(Background on this error at: https://sqlalche.me/e/20/e3q8)\n"
     ]
    },
    {
     "name": "stderr",
     "output_type": "stream",
     "text": [
      "Scraping games:   9%|▉         | 98/1106 [04:38<48:53,  2.91s/it]"
     ]
    },
    {
     "name": "stdout",
     "output_type": "stream",
     "text": [
      "Error saving to table line_chart: (sqlite3.OperationalError) table line_chart has no column named Team\n",
      "[SQL: INSERT INTO line_chart (\"Team\", \"Line\", \"Position\", \"Player\", \"Game_ID\") VALUES (?, ?, ?, ?, ?)]\n",
      "[parameters: [('Northern Michigan', 1, 'Left Wing', 'Michael Colella', '2021-10-16-Notre Dame-Northern Michigan'), ('Northern Michigan', 1, 'Center', 'Joseph Nardi', '2021-10-16-Notre Dame-Northern Michigan'), ('Northern Michigan', 1, 'Right Wing', 'Andre Ghantous', '2021-10-16-Notre Dame-Northern Michigan'), ('Northern Michigan', 2, 'Left Wing', 'Hank Crone', '2021-10-16-Notre Dame-Northern Michigan'), ('Northern Michigan', 2, 'Center', 'Hampus Eriksson', '2021-10-16-Notre Dame-Northern Michigan'), ('Northern Michigan', 2, 'Right Wing', 'AJ Vanderbeck', '2021-10-16-Notre Dame-Northern Michigan'), ('Northern Michigan', 3, 'Left Wing', 'Rylan Van Unen', '2021-10-16-Notre Dame-Northern Michigan'), ('Northern Michigan', 3, 'Center', 'Alex Frye', '2021-10-16-Notre Dame-Northern Michigan')  ... displaying 10 of 44 total bound parameter sets ...  ('Notre Dame', 'Goalie 2', 'Goalie', 'Matthew Galajda', '2021-10-16-Notre Dame-Northern Michigan'), ('Notre Dame', 'Goalie 3', 'Goalie', 'Josh Graziano', '2021-10-16-Notre Dame-Northern Michigan')]]\n",
      "(Background on this error at: https://sqlalche.me/e/20/e3q8)\n"
     ]
    },
    {
     "name": "stderr",
     "output_type": "stream",
     "text": [
      "Scraping games:   9%|▉         | 99/1106 [04:41<49:08,  2.93s/it]"
     ]
    },
    {
     "name": "stdout",
     "output_type": "stream",
     "text": [
      "Error saving to table line_chart: (sqlite3.OperationalError) table line_chart has no column named Team\n",
      "[SQL: INSERT INTO line_chart (\"Team\", \"Line\", \"Position\", \"Player\", \"Game_ID\") VALUES (?, ?, ?, ?, ?)]\n",
      "[parameters: [('Colorado College', 1, 'Left Wing', 'Tyler Coffey', '2021-10-16-Colorado College-Union'), ('Colorado College', 1, 'Center', 'Stanley Cooley', '2021-10-16-Colorado College-Union'), ('Colorado College', 1, 'Right Wing', 'Hunter McKown', '2021-10-16-Colorado College-Union'), ('Colorado College', 2, 'Left Wing', 'Danny Weight', '2021-10-16-Colorado College-Union'), ('Colorado College', 2, 'Center', 'Logan Will', '2021-10-16-Colorado College-Union'), ('Colorado College', 2, 'Right Wing', 'Patrick Cozzi', '2021-10-16-Colorado College-Union'), ('Colorado College', 3, 'Left Wing', 'Jordan Biro', '2021-10-16-Colorado College-Union'), ('Colorado College', 3, 'Center', 'Brian Hawkinson', '2021-10-16-Colorado College-Union')  ... displaying 10 of 43 total bound parameter sets ...  ('Union', 'Goalie 2', 'Goalie', 'Merek Pipes', '2021-10-16-Colorado College-Union'), ('Union', 'Goalie 3', 'Goalie', 'Connor Murphy', '2021-10-16-Colorado College-Union')]]\n",
      "(Background on this error at: https://sqlalche.me/e/20/e3q8)\n"
     ]
    },
    {
     "name": "stderr",
     "output_type": "stream",
     "text": [
      "Scraping games:   9%|▉         | 100/1106 [04:44<50:10,  2.99s/it]"
     ]
    },
    {
     "name": "stdout",
     "output_type": "stream",
     "text": [
      "Error saving to table line_chart: (sqlite3.OperationalError) table line_chart has no column named Team\n",
      "[SQL: INSERT INTO line_chart (\"Team\", \"Line\", \"Position\", \"Player\", \"Game_ID\") VALUES (?, ?, ?, ?, ?)]\n",
      "[parameters: [('Boston University', 1, 'Left Wing', 'Robert Mastrosimone', '2021-10-16-Sacred Heart-Boston University'), ('Boston University', 1, 'Center', 'Matt Brown', '2021-10-16-Sacred Heart-Boston University'), ('Boston University', 1, 'Right Wing', 'Tyler Boucher', '2021-10-16-Sacred Heart-Boston University'), ('Boston University', 2, 'Left Wing', 'Ethan Phillips', '2021-10-16-Sacred Heart-Boston University'), ('Boston University', 2, 'Center', 'Wilmer Skoog', '2021-10-16-Sacred Heart-Boston University'), ('Boston University', 2, 'Right Wing', 'Dylan Peterson', '2021-10-16-Sacred Heart-Boston University'), ('Boston University', 3, 'Left Wing', 'Max Kaufman', '2021-10-16-Sacred Heart-Boston University'), ('Boston University', 3, 'Center', 'Sam Stevens', '2021-10-16-Sacred Heart-Boston University')  ... displaying 10 of 42 total bound parameter sets ...  ('Sacred Heart', 'Goalie 1', 'Goalie', \"Jack O'Dea\", '2021-10-16-Sacred Heart-Boston University'), ('Sacred Heart', 'Goalie 2', 'Goalie', 'Justin Robbins', '2021-10-16-Sacred Heart-Boston University')]]\n",
      "(Background on this error at: https://sqlalche.me/e/20/e3q8)\n"
     ]
    },
    {
     "name": "stderr",
     "output_type": "stream",
     "text": [
      "Scraping games:   9%|▉         | 101/1106 [04:47<50:51,  3.04s/it]"
     ]
    },
    {
     "name": "stdout",
     "output_type": "stream",
     "text": [
      "Error saving to table line_chart: (sqlite3.OperationalError) table line_chart has no column named Team\n",
      "[SQL: INSERT INTO line_chart (\"Team\", \"Line\", \"Position\", \"Player\", \"Game_ID\") VALUES (?, ?, ?, ?, ?)]\n",
      "[parameters: [(\"American Int'l\", 1, 'Left Wing', 'Chris Van Os-Shaw', \"2021-10-16-American Int'l-Massachusetts\"), (\"American Int'l\", 1, 'Center', 'Julius Janhonen', \"2021-10-16-American Int'l-Massachusetts\"), (\"American Int'l\", 1, 'Right Wing', 'Chris Dodero', \"2021-10-16-American Int'l-Massachusetts\"), (\"American Int'l\", 2, 'Left Wing', 'Chris Theodore', \"2021-10-16-American Int'l-Massachusetts\"), (\"American Int'l\", 2, 'Center', 'Elijiah Barriga', \"2021-10-16-American Int'l-Massachusetts\"), (\"American Int'l\", 2, 'Right Wing', 'Luka Maver', \"2021-10-16-American Int'l-Massachusetts\"), (\"American Int'l\", 3, 'Left Wing', 'Blake Bennett', \"2021-10-16-American Int'l-Massachusetts\"), (\"American Int'l\", 3, 'Center', '', \"2021-10-16-American Int'l-Massachusetts\")  ... displaying 10 of 44 total bound parameter sets ...  ('Massachusetts', 'Goalie 1', 'Goalie', 'Matt Murray', \"2021-10-16-American Int'l-Massachusetts\"), ('Massachusetts', 'Goalie 2', 'Goalie', 'Luke Pavicich', \"2021-10-16-American Int'l-Massachusetts\")]]\n",
      "(Background on this error at: https://sqlalche.me/e/20/e3q8)\n"
     ]
    },
    {
     "name": "stderr",
     "output_type": "stream",
     "text": [
      "Scraping games:   9%|▉         | 102/1106 [04:50<50:24,  3.01s/it]"
     ]
    },
    {
     "name": "stdout",
     "output_type": "stream",
     "text": [
      "Error saving to table line_chart: (sqlite3.OperationalError) table line_chart has no column named Team\n",
      "[SQL: INSERT INTO line_chart (\"Team\", \"Line\", \"Position\", \"Player\", \"Game_ID\") VALUES (?, ?, ?, ?, ?)]\n",
      "[parameters: [('Miami', 1, 'Left Wing', 'Chase Gresock', '2021-10-16-Miami-Michigan State'), ('Miami', 1, 'Center', 'Michael Regush', '2021-10-16-Miami-Michigan State'), ('Miami', 1, 'Right Wing', 'Matt Barry', '2021-10-16-Miami-Michigan State'), ('Miami', 2, 'Left Wing', 'Matthew Barbolini', '2021-10-16-Miami-Michigan State'), ('Miami', 2, 'Center', 'Monte Graham', '2021-10-16-Miami-Michigan State'), ('Miami', 2, 'Right Wing', 'Jack Olmstead', '2021-10-16-Miami-Michigan State'), ('Miami', 3, 'Left Wing', 'Chase Pletzke', '2021-10-16-Miami-Michigan State'), ('Miami', 3, 'Center', 'Red Savage', '2021-10-16-Miami-Michigan State')  ... displaying 10 of 45 total bound parameter sets ...  ('Michigan State', 'Goalie 2', 'Goalie', 'Pierce Charleson', '2021-10-16-Miami-Michigan State'), ('Michigan State', 'Goalie 3', 'Goalie', 'Jon Mor', '2021-10-16-Miami-Michigan State')]]\n",
      "(Background on this error at: https://sqlalche.me/e/20/e3q8)\n"
     ]
    },
    {
     "name": "stderr",
     "output_type": "stream",
     "text": [
      "Scraping games:   9%|▉         | 103/1106 [04:53<49:45,  2.98s/it]"
     ]
    },
    {
     "name": "stdout",
     "output_type": "stream",
     "text": [
      "Error saving to table line_chart: (sqlite3.OperationalError) table line_chart has no column named Team\n",
      "[SQL: INSERT INTO line_chart (\"Team\", \"Line\", \"Position\", \"Player\", \"Game_ID\") VALUES (?, ?, ?, ?, ?)]\n",
      "[parameters: [('Canisius', 1, 'Left Wing', 'Mitchell Martan', '2021-10-16-Canisius-Rensselaer'), ('Canisius', 1, 'Center', 'Lee Lapid', '2021-10-16-Canisius-Rensselaer'), ('Canisius', 1, 'Right Wing', 'Keaton Mastrodonato', '2021-10-16-Canisius-Rensselaer'), ('Canisius', 2, 'Left Wing', 'Max Kouznetsov', '2021-10-16-Canisius-Rensselaer'), ('Canisius', 2, 'Center', 'Alex Ambrosio', '2021-10-16-Canisius-Rensselaer'), ('Canisius', 2, 'Right Wing', 'J.D. Pogue', '2021-10-16-Canisius-Rensselaer'), ('Canisius', 3, 'Left Wing', 'Alton McDermott', '2021-10-16-Canisius-Rensselaer'), ('Canisius', 3, 'Center', 'Ryan Miotto', '2021-10-16-Canisius-Rensselaer')  ... displaying 10 of 43 total bound parameter sets ...  ('Rensselaer', 'Goalie 2', 'Goalie', 'Brett Miller', '2021-10-16-Canisius-Rensselaer'), ('Rensselaer', 'Goalie 3', 'Goalie', 'Jack Watson', '2021-10-16-Canisius-Rensselaer')]]\n",
      "(Background on this error at: https://sqlalche.me/e/20/e3q8)\n"
     ]
    },
    {
     "name": "stderr",
     "output_type": "stream",
     "text": [
      "Scraping games:   9%|▉         | 105/1106 [04:59<47:34,  2.85s/it]"
     ]
    },
    {
     "name": "stdout",
     "output_type": "stream",
     "text": [
      "Error saving to table line_chart: (sqlite3.OperationalError) table line_chart has no column named Team\n",
      "[SQL: INSERT INTO line_chart (\"Team\", \"Line\", \"Position\", \"Player\", \"Game_ID\") VALUES (?, ?, ?, ?, ?)]\n",
      "[parameters: [('Bentley', 1, 'Left Wing', 'Phil Knies', '2021-10-16-Boston College-Bentley'), ('Bentley', 1, 'Center', 'Brendan Hamblet', '2021-10-16-Boston College-Bentley'), ('Bentley', 1, 'Right Wing', 'Collin Rutherford', '2021-10-16-Boston College-Bentley'), ('Bentley', 2, 'Left Wing', 'Harrison Scott', '2021-10-16-Boston College-Bentley'), ('Bentley', 2, 'Center', 'Matt Gosiewski', '2021-10-16-Boston College-Bentley'), ('Bentley', 2, 'Right Wing', 'Eric Linell', '2021-10-16-Boston College-Bentley'), ('Bentley', 3, 'Left Wing', 'Kohei Sato', '2021-10-16-Boston College-Bentley'), ('Bentley', 3, 'Center', 'Ethan Harrison', '2021-10-16-Boston College-Bentley')  ... displaying 10 of 43 total bound parameter sets ...  ('Boston College', 'Goalie 1', 'Goalie', 'Eric Dop', '2021-10-16-Boston College-Bentley'), ('Boston College', 'Goalie 2', 'Goalie', 'Henry Wilder', '2021-10-16-Boston College-Bentley')]]\n",
      "(Background on this error at: https://sqlalche.me/e/20/e3q8)\n"
     ]
    },
    {
     "name": "stderr",
     "output_type": "stream",
     "text": [
      "Scraping games:  10%|▉         | 106/1106 [05:02<47:34,  2.85s/it]"
     ]
    },
    {
     "name": "stdout",
     "output_type": "stream",
     "text": [
      "Error saving to table line_chart: (sqlite3.OperationalError) table line_chart has no column named Team\n",
      "[SQL: INSERT INTO line_chart (\"Team\", \"Line\", \"Position\", \"Player\", \"Game_ID\") VALUES (?, ?, ?, ?, ?)]\n",
      "[parameters: [('Quinnipiac', 1, 'Left Wing', 'Oliver Chau', '2021-10-16-Quinnipiac-Vermont'), ('Quinnipiac', 1, 'Center', 'Wyatt Bongiovanni', '2021-10-16-Quinnipiac-Vermont'), ('Quinnipiac', 1, 'Right Wing', 'Ethan de Jong', '2021-10-16-Quinnipiac-Vermont'), ('Quinnipiac', 2, 'Left Wing', 'Michael Lombardi', '2021-10-16-Quinnipiac-Vermont'), ('Quinnipiac', 2, 'Center', 'Desi Burgart', '2021-10-16-Quinnipiac-Vermont'), ('Quinnipiac', 2, 'Right Wing', 'Ty Smilanic', '2021-10-16-Quinnipiac-Vermont'), ('Quinnipiac', 3, 'Left Wing', 'Jacob Quillan', '2021-10-16-Quinnipiac-Vermont'), ('Quinnipiac', 3, 'Center', 'TJ Friedmann', '2021-10-16-Quinnipiac-Vermont')  ... displaying 10 of 44 total bound parameter sets ...  ('Vermont', 'Goalie 2', 'Goalie', 'Gabe Carriere', '2021-10-16-Quinnipiac-Vermont'), ('Vermont', 'Goalie 3', 'Goalie', 'Cole Hudson', '2021-10-16-Quinnipiac-Vermont')]]\n",
      "(Background on this error at: https://sqlalche.me/e/20/e3q8)\n"
     ]
    },
    {
     "name": "stderr",
     "output_type": "stream",
     "text": [
      "Scraping games:  10%|▉         | 107/1106 [05:04<47:37,  2.86s/it]"
     ]
    },
    {
     "name": "stdout",
     "output_type": "stream",
     "text": [
      "Error saving to table line_chart: (sqlite3.OperationalError) table line_chart has no column named Team\n",
      "[SQL: INSERT INTO line_chart (\"Team\", \"Line\", \"Position\", \"Player\", \"Game_ID\") VALUES (?, ?, ?, ?, ?)]\n",
      "[parameters: [('Bemidji State', 1, 'Left Wing', 'Jakub Lewandowski', '2021-10-16-Bemidji State-North Dakota'), ('Bemidji State', 1, 'Center', 'Owen Sillinger', '2021-10-16-Bemidji State-North Dakota'), ('Bemidji State', 1, 'Right Wing', 'Alex Ierullo', '2021-10-16-Bemidji State-North Dakota'), ('Bemidji State', 2, 'Left Wing', 'Ethan Somoza', '2021-10-16-Bemidji State-North Dakota'), ('Bemidji State', 2, 'Center', 'Ross Armour', '2021-10-16-Bemidji State-North Dakota'), ('Bemidji State', 2, 'Right Wing', 'Eric Martin', '2021-10-16-Bemidji State-North Dakota'), ('Bemidji State', 3, 'Left Wing', 'Lukas Sillinger', '2021-10-16-Bemidji State-North Dakota'), ('Bemidji State', 3, 'Center', 'Tyler Kirkup', '2021-10-16-Bemidji State-North Dakota')  ... displaying 10 of 43 total bound parameter sets ...  ('North Dakota', 'Goalie 2', 'Goalie', 'Kaleb Johnson', '2021-10-16-Bemidji State-North Dakota'), ('North Dakota', 'Goalie 3', 'Goalie', 'Jakob Hellsten', '2021-10-16-Bemidji State-North Dakota')]]\n",
      "(Background on this error at: https://sqlalche.me/e/20/e3q8)\n"
     ]
    },
    {
     "name": "stderr",
     "output_type": "stream",
     "text": [
      "Scraping games:  10%|▉         | 108/1106 [05:07<48:05,  2.89s/it]"
     ]
    },
    {
     "name": "stdout",
     "output_type": "stream",
     "text": [
      "Error saving to table line_chart: (sqlite3.OperationalError) table line_chart has no column named Team\n",
      "[SQL: INSERT INTO line_chart (\"Team\", \"Line\", \"Position\", \"Player\", \"Game_ID\") VALUES (?, ?, ?, ?, ?)]\n",
      "[parameters: [('Air Force', 1, 'Left Wing', 'Nate Horn', '2021-10-16-Air Force-Denver'), ('Air Force', 1, 'Center', 'Andrew DeCarlo', '2021-10-16-Air Force-Denver'), ('Air Force', 1, 'Right Wing', 'Willie Reim', '2021-10-16-Air Force-Denver'), ('Air Force', 2, 'Left Wing', 'Will Gavin', '2021-10-16-Air Force-Denver'), ('Air Force', 2, 'Center', 'Clayton Cosentino', '2021-10-16-Air Force-Denver'), ('Air Force', 2, 'Right Wing', 'Parker Brown', '2021-10-16-Air Force-Denver'), ('Air Force', 3, 'Left Wing', 'Brian Adams', '2021-10-16-Air Force-Denver'), ('Air Force', 3, 'Center', 'Lucas Coon', '2021-10-16-Air Force-Denver')  ... displaying 10 of 44 total bound parameter sets ...  ('Denver', 'Goalie 2', 'Goalie', 'Jack Caruso', '2021-10-16-Air Force-Denver'), ('Denver', 'Goalie 3', 'Goalie', 'Matt Davis', '2021-10-16-Air Force-Denver')]]\n",
      "(Background on this error at: https://sqlalche.me/e/20/e3q8)\n"
     ]
    },
    {
     "name": "stderr",
     "output_type": "stream",
     "text": [
      "Scraping games:  10%|▉         | 109/1106 [05:10<47:29,  2.86s/it]"
     ]
    },
    {
     "name": "stdout",
     "output_type": "stream",
     "text": [
      "Error saving to table line_chart: (sqlite3.OperationalError) table line_chart has no column named Team\n",
      "[SQL: INSERT INTO line_chart (\"Team\", \"Line\", \"Position\", \"Player\", \"Game_ID\") VALUES (?, ?, ?, ?, ?)]\n",
      "[parameters: [('Holy Cross', 1, 'Left Wing', 'John Gelatt', '2021-10-16-Holy Cross-Mercyhurst'), ('Holy Cross', 1, 'Center', 'Matt Guerra', '2021-10-16-Holy Cross-Mercyhurst'), ('Holy Cross', 1, 'Right Wing', 'Michael Kane', '2021-10-16-Holy Cross-Mercyhurst'), ('Holy Cross', 2, 'Left Wing', 'Tyler Ghirardosi', '2021-10-16-Holy Cross-Mercyhurst'), ('Holy Cross', 2, 'Center', 'Daniel Colabufo', '2021-10-16-Holy Cross-Mercyhurst'), ('Holy Cross', 2, 'Right Wing', 'Alex Peterson', '2021-10-16-Holy Cross-Mercyhurst'), ('Holy Cross', 3, 'Left Wing', 'Lucas Thorne', '2021-10-16-Holy Cross-Mercyhurst'), ('Holy Cross', 3, 'Center', 'Ryan Leibold', '2021-10-16-Holy Cross-Mercyhurst')  ... displaying 10 of 43 total bound parameter sets ...  ('Mercyhurst', 'Goalie 1', 'Goalie', 'Hank Johnson', '2021-10-16-Holy Cross-Mercyhurst'), ('Mercyhurst', 'Goalie 2', 'Goalie', 'Kyle McClellan', '2021-10-16-Holy Cross-Mercyhurst')]]\n",
      "(Background on this error at: https://sqlalche.me/e/20/e3q8)\n"
     ]
    },
    {
     "name": "stderr",
     "output_type": "stream",
     "text": [
      "Scraping games:  10%|▉         | 110/1106 [05:13<47:03,  2.83s/it]"
     ]
    },
    {
     "name": "stdout",
     "output_type": "stream",
     "text": [
      "Error saving to table line_chart: (sqlite3.OperationalError) table line_chart has no column named Team\n",
      "[SQL: INSERT INTO line_chart (\"Team\", \"Line\", \"Position\", \"Player\", \"Game_ID\") VALUES (?, ?, ?, ?, ?)]\n",
      "[parameters: [('Michigan', 1, 'Left Wing', 'Mark Estapa', '2021-10-16-Minnesota State-Michigan'), ('Michigan', 1, 'Center', 'Garrett Van Wyhe', '2021-10-16-Minnesota State-Michigan'), ('Michigan', 1, 'Right Wing', 'Nolan Moyle', '2021-10-16-Minnesota State-Michigan'), ('Michigan', 2, 'Left Wing', 'Michael Pastujov', '2021-10-16-Minnesota State-Michigan'), ('Michigan', 2, 'Center', 'Thomas Bordeleau', '2021-10-16-Minnesota State-Michigan'), ('Michigan', 2, 'Right Wing', 'Brendan Brisson', '2021-10-16-Minnesota State-Michigan'), ('Michigan', 3, 'Left Wing', 'Kent Johnson', '2021-10-16-Minnesota State-Michigan'), ('Michigan', 3, 'Center', 'Matty Beniers', '2021-10-16-Minnesota State-Michigan')  ... displaying 10 of 44 total bound parameter sets ...  ('Minnesota State', 'Goalie 2', 'Goalie', 'Andrew Miller', '2021-10-16-Minnesota State-Michigan'), ('Minnesota State', 'Goalie 3', 'Goalie', 'Keenan Rancier', '2021-10-16-Minnesota State-Michigan')]]\n",
      "(Background on this error at: https://sqlalche.me/e/20/e3q8)\n"
     ]
    },
    {
     "name": "stderr",
     "output_type": "stream",
     "text": [
      "Scraping games:  10%|█         | 111/1106 [05:16<46:13,  2.79s/it]"
     ]
    },
    {
     "name": "stdout",
     "output_type": "stream",
     "text": [
      "Error saving to table line_chart: (sqlite3.OperationalError) table line_chart has no column named Team\n",
      "[SQL: INSERT INTO line_chart (\"Team\", \"Line\", \"Position\", \"Player\", \"Game_ID\") VALUES (?, ?, ?, ?, ?)]\n",
      "[parameters: [('Minnesota-Duluth', 1, 'Left Wing', 'Noah Cates', '2021-10-16-Providence-Minnesota-Duluth'), ('Minnesota-Duluth', 1, 'Center', 'Casey Gilling', '2021-10-16-Providence-Minnesota-Duluth'), ('Minnesota-Duluth', 1, 'Right Wing', 'Tanner Laderoute', '2021-10-16-Providence-Minnesota-Duluth'), ('Minnesota-Duluth', 2, 'Left Wing', 'Kobe Roth', '2021-10-16-Providence-Minnesota-Duluth'), ('Minnesota-Duluth', 2, 'Center', 'Jesse Jacques', '2021-10-16-Providence-Minnesota-Duluth'), ('Minnesota-Duluth', 2, 'Right Wing', 'Koby Bender', '2021-10-16-Providence-Minnesota-Duluth'), ('Minnesota-Duluth', 3, 'Left Wing', 'Quinn Olson', '2021-10-16-Providence-Minnesota-Duluth'), ('Minnesota-Duluth', 3, 'Center', 'Dominic James', '2021-10-16-Providence-Minnesota-Duluth')  ... displaying 10 of 44 total bound parameter sets ...  ('Providence', 'Goalie 2', 'Goalie', 'Jimmy Scannell', '2021-10-16-Providence-Minnesota-Duluth'), ('Providence', 'Goalie 3', 'Goalie', 'Jaxson Stauber', '2021-10-16-Providence-Minnesota-Duluth')]]\n",
      "(Background on this error at: https://sqlalche.me/e/20/e3q8)\n"
     ]
    },
    {
     "name": "stderr",
     "output_type": "stream",
     "text": [
      "Scraping games:  10%|█         | 113/1106 [05:20<43:42,  2.64s/it]"
     ]
    },
    {
     "name": "stdout",
     "output_type": "stream",
     "text": [
      "Error saving to table line_chart: (sqlite3.OperationalError) table line_chart has no column named Team\n",
      "[SQL: INSERT INTO line_chart (\"Team\", \"Line\", \"Position\", \"Player\", \"Game_ID\") VALUES (?, ?, ?, ?, ?)]\n",
      "[parameters: [('Lake Superior', 1, 'Left Wing', 'Miroslav Mucha', '2021-10-16-St. Thomas-Lake Superior'), ('Lake Superior', 1, 'Center', 'Louis Boudon', '2021-10-16-St. Thomas-Lake Superior'), ('Lake Superior', 1, 'Right Wing', 'Brandon Puricelli', '2021-10-16-St. Thomas-Lake Superior'), ('Lake Superior', 2, 'Left Wing', 'Dawson Tritt', '2021-10-16-St. Thomas-Lake Superior'), ('Lake Superior', 2, 'Center', 'Harrison Roy', '2021-10-16-St. Thomas-Lake Superior'), ('Lake Superior', 2, 'Right Wing', 'Joshua Wildauer', '2021-10-16-St. Thomas-Lake Superior'), ('Lake Superior', 3, 'Left Wing', 'Benito Posa', '2021-10-16-St. Thomas-Lake Superior'), ('Lake Superior', 3, 'Center', 'Dustin Manz', '2021-10-16-St. Thomas-Lake Superior')  ... displaying 10 of 43 total bound parameter sets ...  ('St. Thomas', 'Goalie 1', 'Goalie', 'Peter Thome', '2021-10-16-St. Thomas-Lake Superior'), ('St. Thomas', 'Goalie 2', 'Goalie', 'Jacob Berger', '2021-10-16-St. Thomas-Lake Superior')]]\n",
      "(Background on this error at: https://sqlalche.me/e/20/e3q8)\n"
     ]
    },
    {
     "name": "stderr",
     "output_type": "stream",
     "text": [
      "Scraping games:  10%|█         | 114/1106 [05:23<44:52,  2.71s/it]"
     ]
    },
    {
     "name": "stdout",
     "output_type": "stream",
     "text": [
      "Error saving to table line_chart: (sqlite3.OperationalError) table line_chart has no column named Team\n",
      "[SQL: INSERT INTO line_chart (\"Team\", \"Line\", \"Position\", \"Player\", \"Game_ID\") VALUES (?, ?, ?, ?, ?)]\n",
      "[parameters: [('Alaska', 1, 'Left Wing', 'Didrik Henbrant', '2021-10-17-Alaska-Omaha'), ('Alaska', 1, 'Center', 'Harrison Israels', '2021-10-17-Alaska-Omaha'), ('Alaska', 1, 'Right Wing', 'Filip Fornaa Svennson', '2021-10-17-Alaska-Omaha'), ('Alaska', 2, 'Left Wing', 'Chase Dubois', '2021-10-17-Alaska-Omaha'), ('Alaska', 2, 'Center', 'Jakob Breault', '2021-10-17-Alaska-Omaha'), ('Alaska', 2, 'Right Wing', 'Brady Risk', '2021-10-17-Alaska-Omaha'), ('Alaska', 3, 'Left Wing', 'Caleb Hite', '2021-10-17-Alaska-Omaha'), ('Alaska', 3, 'Center', 'Colin Doyle', '2021-10-17-Alaska-Omaha')  ... displaying 10 of 43 total bound parameter sets ...  ('Omaha', 'Goalie 2', 'Goalie', 'Austin Roden', '2021-10-17-Alaska-Omaha'), ('Omaha', 'Goalie 3', 'Goalie', 'Jacob Zab', '2021-10-17-Alaska-Omaha')]]\n",
      "(Background on this error at: https://sqlalche.me/e/20/e3q8)\n"
     ]
    },
    {
     "name": "stderr",
     "output_type": "stream",
     "text": [
      "Scraping games:  10%|█         | 115/1106 [05:26<46:05,  2.79s/it]"
     ]
    },
    {
     "name": "stdout",
     "output_type": "stream",
     "text": [
      "Error saving to table line_chart: (sqlite3.OperationalError) table line_chart has no column named Team\n",
      "[SQL: INSERT INTO line_chart (\"Team\", \"Line\", \"Position\", \"Player\", \"Game_ID\") VALUES (?, ?, ?, ?, ?)]\n",
      "[parameters: [('Canisius', 1, 'Left Wing', 'Mitchell Martan', '2021-10-19-Canisius-Clarkson'), ('Canisius', 1, 'Center', 'Lee Lapid', '2021-10-19-Canisius-Clarkson'), ('Canisius', 1, 'Right Wing', 'Keaton Mastrodonato', '2021-10-19-Canisius-Clarkson'), ('Canisius', 2, 'Left Wing', 'Max Kouznetsov', '2021-10-19-Canisius-Clarkson'), ('Canisius', 2, 'Center', 'Alex Ambrosio', '2021-10-19-Canisius-Clarkson'), ('Canisius', 2, 'Right Wing', 'J.D. Pogue', '2021-10-19-Canisius-Clarkson'), ('Canisius', 3, 'Left Wing', 'Daniel DiGrande', '2021-10-19-Canisius-Clarkson'), ('Canisius', 3, 'Center', 'Ryan Miotto', '2021-10-19-Canisius-Clarkson')  ... displaying 10 of 43 total bound parameter sets ...  ('Clarkson', 'Goalie 2', 'Goalie', 'Jacob Mucitelli', '2021-10-19-Canisius-Clarkson'), ('Clarkson', 'Goalie 3', 'Goalie', 'Brady Parker', '2021-10-19-Canisius-Clarkson')]]\n",
      "(Background on this error at: https://sqlalche.me/e/20/e3q8)\n"
     ]
    },
    {
     "name": "stderr",
     "output_type": "stream",
     "text": [
      "Scraping games:  10%|█         | 116/1106 [05:29<46:59,  2.85s/it]"
     ]
    },
    {
     "name": "stdout",
     "output_type": "stream",
     "text": [
      "Error saving to table line_chart: (sqlite3.OperationalError) table line_chart has no column named Team\n",
      "[SQL: INSERT INTO line_chart (\"Team\", \"Line\", \"Position\", \"Player\", \"Game_ID\") VALUES (?, ?, ?, ?, ?)]\n",
      "[parameters: [('Bentley', 1, 'Left Wing', 'Phil Knies', '2021-10-21-Bentley-Holy Cross'), ('Bentley', 1, 'Center', 'Brendan Hamblet', '2021-10-21-Bentley-Holy Cross'), ('Bentley', 1, 'Right Wing', 'Collin Rutherford', '2021-10-21-Bentley-Holy Cross'), ('Bentley', 2, 'Left Wing', 'Harrison Scott', '2021-10-21-Bentley-Holy Cross'), ('Bentley', 2, 'Center', 'Matt Gosiewski', '2021-10-21-Bentley-Holy Cross'), ('Bentley', 2, 'Right Wing', 'Eric Linell', '2021-10-21-Bentley-Holy Cross'), ('Bentley', 3, 'Left Wing', 'Kohei Sato', '2021-10-21-Bentley-Holy Cross'), ('Bentley', 3, 'Center', 'Ethan Harrison', '2021-10-21-Bentley-Holy Cross')  ... displaying 10 of 44 total bound parameter sets ...  ('Holy Cross', 'Goalie 2', 'Goalie', 'Matt Radomsky', '2021-10-21-Bentley-Holy Cross'), ('Holy Cross', 'Goalie 3', 'Goalie', 'Thomas Gale', '2021-10-21-Bentley-Holy Cross')]]\n",
      "(Background on this error at: https://sqlalche.me/e/20/e3q8)\n"
     ]
    },
    {
     "name": "stderr",
     "output_type": "stream",
     "text": [
      "Scraping games:  11%|█         | 117/1106 [05:32<47:12,  2.86s/it]"
     ]
    },
    {
     "name": "stdout",
     "output_type": "stream",
     "text": [
      "Error saving to table line_chart: (sqlite3.OperationalError) table line_chart has no column named Team\n",
      "[SQL: INSERT INTO line_chart (\"Team\", \"Line\", \"Position\", \"Player\", \"Game_ID\") VALUES (?, ?, ?, ?, ?)]\n",
      "[parameters: [(\"American Int'l\", 1, 'Left Wing', 'Chris Van Os-Shaw', \"2021-10-21-Army-American Int'l\"), (\"American Int'l\", 1, 'Center', 'Julius Janhonen', \"2021-10-21-Army-American Int'l\"), (\"American Int'l\", 1, 'Right Wing', 'Chris Dodero', \"2021-10-21-Army-American Int'l\"), (\"American Int'l\", 2, 'Left Wing', 'Chris Theodore', \"2021-10-21-Army-American Int'l\"), (\"American Int'l\", 2, 'Center', 'Elijiah Barriga', \"2021-10-21-Army-American Int'l\"), (\"American Int'l\", 2, 'Right Wing', 'Luka Maver', \"2021-10-21-Army-American Int'l\"), (\"American Int'l\", 3, 'Left Wing', 'Justin Cole', \"2021-10-21-Army-American Int'l\"), (\"American Int'l\", 3, 'Center', 'Jake Stella', \"2021-10-21-Army-American Int'l\")  ... displaying 10 of 45 total bound parameter sets ...  ('Army', 'Goalie 1', 'Goalie', 'Justin Evenson', \"2021-10-21-Army-American Int'l\"), ('Army', 'Goalie 2', 'Goalie', 'Gavin Abric', \"2021-10-21-Army-American Int'l\")]]\n",
      "(Background on this error at: https://sqlalche.me/e/20/e3q8)\n"
     ]
    },
    {
     "name": "stderr",
     "output_type": "stream",
     "text": [
      "Scraping games:  11%|█         | 118/1106 [05:35<47:14,  2.87s/it]"
     ]
    },
    {
     "name": "stdout",
     "output_type": "stream",
     "text": [
      "Error saving to table line_chart: (sqlite3.OperationalError) table line_chart has no column named Team\n",
      "[SQL: INSERT INTO line_chart (\"Team\", \"Line\", \"Position\", \"Player\", \"Game_ID\") VALUES (?, ?, ?, ?, ?)]\n",
      "[parameters: [('Niagara', 1, 'Left Wing', 'Walker Sommer', '2021-10-21-Niagara-Penn State'), ('Niagara', 1, 'Center', 'Luke Edgerton', '2021-10-21-Niagara-Penn State'), ('Niagara', 1, 'Right Wing', 'Brandon Stanley', '2021-10-21-Niagara-Penn State'), ('Niagara', 2, 'Left Wing', 'Ryan Naumovski', '2021-10-21-Niagara-Penn State'), ('Niagara', 2, 'Center', 'Jack DeBoer', '2021-10-21-Niagara-Penn State'), ('Niagara', 2, 'Right Wing', 'Olivier Gauthier', '2021-10-21-Niagara-Penn State'), ('Niagara', 3, 'Left Wing', 'Jon Hill', '2021-10-21-Niagara-Penn State'), ('Niagara', 3, 'Center', 'Jason Pineo', '2021-10-21-Niagara-Penn State')  ... displaying 10 of 44 total bound parameter sets ...  ('Penn State', 'Goalie 2', 'Goalie', 'Liam Souliere', '2021-10-21-Niagara-Penn State'), ('Penn State', 'Goalie 3', 'Goalie', 'Doug Dorr', '2021-10-21-Niagara-Penn State')]]\n",
      "(Background on this error at: https://sqlalche.me/e/20/e3q8)\n"
     ]
    },
    {
     "name": "stderr",
     "output_type": "stream",
     "text": [
      "Scraping games:  11%|█         | 119/1106 [05:38<47:16,  2.87s/it]"
     ]
    },
    {
     "name": "stdout",
     "output_type": "stream",
     "text": [
      "Error saving to table line_chart: (sqlite3.OperationalError) table line_chart has no column named Team\n",
      "[SQL: INSERT INTO line_chart (\"Team\", \"Line\", \"Position\", \"Player\", \"Game_ID\") VALUES (?, ?, ?, ?, ?)]\n",
      "[parameters: [('Notre Dame', 1, 'Left Wing', 'Solag Bakich', '2021-10-21-RIT-Notre Dame'), ('Notre Dame', 1, 'Center', 'Trevor Janicke', '2021-10-21-RIT-Notre Dame'), ('Notre Dame', 1, 'Right Wing', 'Max Ellis', '2021-10-21-RIT-Notre Dame'), ('Notre Dame', 2, 'Left Wing', 'Landon Slaggert', '2021-10-21-RIT-Notre Dame'), ('Notre Dame', 2, 'Center', 'Graham Slaggert', '2021-10-21-RIT-Notre Dame'), ('Notre Dame', 2, 'Right Wing', 'Justin Janicke', '2021-10-21-RIT-Notre Dame'), ('Notre Dame', 3, 'Left Wing', 'Jesse Lansdell', '2021-10-21-RIT-Notre Dame'), ('Notre Dame', 3, 'Center', 'Cam Burke', '2021-10-21-RIT-Notre Dame')  ... displaying 10 of 48 total bound parameter sets ...  ('RIT', 'Goalie 2', 'Goalie', 'Daniel Chenard', '2021-10-21-RIT-Notre Dame'), ('RIT', 'Goalie 3', 'Goalie', 'Tommy Scarfone', '2021-10-21-RIT-Notre Dame')]]\n",
      "(Background on this error at: https://sqlalche.me/e/20/e3q8)\n"
     ]
    },
    {
     "name": "stderr",
     "output_type": "stream",
     "text": [
      "Scraping games:  11%|█         | 120/1106 [05:41<48:33,  2.96s/it]"
     ]
    },
    {
     "name": "stdout",
     "output_type": "stream",
     "text": [
      "Error saving to table line_chart: (sqlite3.OperationalError) table line_chart has no column named Team\n",
      "[SQL: INSERT INTO line_chart (\"Team\", \"Line\", \"Position\", \"Player\", \"Game_ID\") VALUES (?, ?, ?, ?, ?)]\n",
      "[parameters: [('Bemidji State', 1, 'Left Wing', 'Jakub Lewandowski', '2021-10-22-Bemidji State-Northern Michigan'), ('Bemidji State', 1, 'Center', 'Owen Sillinger', '2021-10-22-Bemidji State-Northern Michigan'), ('Bemidji State', 1, 'Right Wing', 'Alex Ierullo', '2021-10-22-Bemidji State-Northern Michigan'), ('Bemidji State', 2, 'Left Wing', 'Ethan Somoza', '2021-10-22-Bemidji State-Northern Michigan'), ('Bemidji State', 2, 'Center', 'Ross Armour', '2021-10-22-Bemidji State-Northern Michigan'), ('Bemidji State', 2, 'Right Wing', 'Eric Martin', '2021-10-22-Bemidji State-Northern Michigan'), ('Bemidji State', 3, 'Left Wing', 'Lukas Sillinger', '2021-10-22-Bemidji State-Northern Michigan'), ('Bemidji State', 3, 'Center', 'Tyler Kirkup', '2021-10-22-Bemidji State-Northern Michigan')  ... displaying 10 of 40 total bound parameter sets ...  ('Northern Michigan', 1, 'Extra', 'Oscar', '2021-10-22-Bemidji State-Northern Michigan'), ('Northern Michigan', 'Goalie 1', 'Goalie', 'Charlie Glockner', '2021-10-22-Bemidji State-Northern Michigan')]]\n",
      "(Background on this error at: https://sqlalche.me/e/20/e3q8)\n"
     ]
    },
    {
     "name": "stderr",
     "output_type": "stream",
     "text": [
      "Scraping games:  11%|█         | 121/1106 [05:44<48:05,  2.93s/it]"
     ]
    },
    {
     "name": "stdout",
     "output_type": "stream",
     "text": [
      "Error saving to table line_chart: (sqlite3.OperationalError) table line_chart has no column named Team\n",
      "[SQL: INSERT INTO line_chart (\"Team\", \"Line\", \"Position\", \"Player\", \"Game_ID\") VALUES (?, ?, ?, ?, ?)]\n",
      "[parameters: [('Ferris State', 1, 'Left Wing', 'Liam MacDougall', '2021-10-22-Ferris State-St. Thomas'), ('Ferris State', 1, 'Center', 'Dallas Tulik', '2021-10-22-Ferris State-St. Thomas'), ('Ferris State', 1, 'Right Wing', 'Justin Michaelian', '2021-10-22-Ferris State-St. Thomas'), ('Ferris State', 2, 'Left Wing', 'Jake Transit', '2021-10-22-Ferris State-St. Thomas'), ('Ferris State', 2, 'Center', 'Stepan Pokorny', '2021-10-22-Ferris State-St. Thomas'), ('Ferris State', 2, 'Right Wing', 'Ethan Stewart', '2021-10-22-Ferris State-St. Thomas'), ('Ferris State', 3, 'Left Wing', 'Antonio Venuto', '2021-10-22-Ferris State-St. Thomas'), ('Ferris State', 3, 'Center', 'Bradley Marek', '2021-10-22-Ferris State-St. Thomas')  ... displaying 10 of 40 total bound parameter sets ...  ('St. Thomas', 1, 'Extra', 'Michael', '2021-10-22-Ferris State-St. Thomas'), ('St. Thomas', 'Goalie 1', 'Goalie', 'Peter Thome', '2021-10-22-Ferris State-St. Thomas')]]\n",
      "(Background on this error at: https://sqlalche.me/e/20/e3q8)\n"
     ]
    },
    {
     "name": "stderr",
     "output_type": "stream",
     "text": [
      "Scraping games:  11%|█         | 122/1106 [05:47<48:34,  2.96s/it]"
     ]
    },
    {
     "name": "stdout",
     "output_type": "stream",
     "text": [
      "Error saving to table line_chart: (sqlite3.OperationalError) table line_chart has no column named Team\n",
      "[SQL: INSERT INTO line_chart (\"Team\", \"Line\", \"Position\", \"Player\", \"Game_ID\") VALUES (?, ?, ?, ?, ?)]\n",
      "[parameters: [('Boston University', 1, 'Left Wing', 'Robert Mastrosimone', '2021-10-22-Boston University-Merrimack'), ('Boston University', 1, 'Center', 'Matt Brown', '2021-10-22-Boston University-Merrimack'), ('Boston University', 1, 'Right Wing', 'Tyler Boucher', '2021-10-22-Boston University-Merrimack'), ('Boston University', 2, 'Left Wing', 'Ethan Phillips', '2021-10-22-Boston University-Merrimack'), ('Boston University', 2, 'Center', 'Wilmer Skoog', '2021-10-22-Boston University-Merrimack'), ('Boston University', 2, 'Right Wing', 'Dylan Peterson', '2021-10-22-Boston University-Merrimack'), ('Boston University', 3, 'Left Wing', 'Max Kaufman', '2021-10-22-Boston University-Merrimack'), ('Boston University', 3, 'Center', 'Sam Stevens', '2021-10-22-Boston University-Merrimack')  ... displaying 10 of 42 total bound parameter sets ...  ('Merrimack', 'Goalie 1', 'Goalie', 'Troy Kobryn', '2021-10-22-Boston University-Merrimack'), ('Merrimack', 'Goalie 2', 'Goalie', 'Zachary Borgiel', '2021-10-22-Boston University-Merrimack')]]\n",
      "(Background on this error at: https://sqlalche.me/e/20/e3q8)\n"
     ]
    },
    {
     "name": "stderr",
     "output_type": "stream",
     "text": [
      "Scraping games:  11%|█         | 123/1106 [05:50<48:27,  2.96s/it]"
     ]
    },
    {
     "name": "stdout",
     "output_type": "stream",
     "text": [
      "Error saving to table line_chart: (sqlite3.OperationalError) table line_chart has no column named Team\n",
      "[SQL: INSERT INTO line_chart (\"Team\", \"Line\", \"Position\", \"Player\", \"Game_ID\") VALUES (?, ?, ?, ?, ?)]\n",
      "[parameters: [('Boston College', 1, 'Left Wing', 'Brandon Kruse', '2021-10-22-Colorado College-Boston College'), ('Boston College', 1, 'Center', 'Jack McBain', '2021-10-22-Colorado College-Boston College'), ('Boston College', 1, 'Right Wing', 'Nikita Nesterenko', '2021-10-22-Colorado College-Boston College'), ('Boston College', 2, 'Left Wing', 'Trevor Kuntar', '2021-10-22-Colorado College-Boston College'), ('Boston College', 2, 'Center', 'Marc McLaughlin', '2021-10-22-Colorado College-Boston College'), ('Boston College', 2, 'Right Wing', 'Colby Ambrosio', '2021-10-22-Colorado College-Boston College'), ('Boston College', 3, 'Left Wing', 'Mike Posma', '2021-10-22-Colorado College-Boston College'), ('Boston College', 3, 'Center', 'Patrick Giles', '2021-10-22-Colorado College-Boston College')  ... displaying 10 of 43 total bound parameter sets ...  ('Colorado College', 'Goalie 1', 'Goalie', 'Dominic Basse', '2021-10-22-Colorado College-Boston College'), ('Colorado College', 'Goalie 2', 'Goalie', 'Matt Vernon', '2021-10-22-Colorado College-Boston College')]]\n",
      "(Background on this error at: https://sqlalche.me/e/20/e3q8)\n"
     ]
    },
    {
     "name": "stderr",
     "output_type": "stream",
     "text": [
      "Scraping games:  11%|█         | 124/1106 [05:53<48:12,  2.95s/it]"
     ]
    },
    {
     "name": "stdout",
     "output_type": "stream",
     "text": [
      "Error saving to table line_chart: (sqlite3.OperationalError) table line_chart has no column named Team\n",
      "[SQL: INSERT INTO line_chart (\"Team\", \"Line\", \"Position\", \"Player\", \"Game_ID\") VALUES (?, ?, ?, ?, ?)]\n",
      "[parameters: [('Alaska', 1, 'Left Wing', 'Didrik Henbrant', '2021-10-22-Alaska-Clarkson'), ('Alaska', 1, 'Center', 'Eriks Zohovs', '2021-10-22-Alaska-Clarkson'), ('Alaska', 1, 'Right Wing', 'Filip Fornaa Svennson', '2021-10-22-Alaska-Clarkson'), ('Alaska', 2, 'Left Wing', 'Nátán Vertes', '2021-10-22-Alaska-Clarkson'), ('Alaska', 2, 'Center', 'Jakob Breault', '2021-10-22-Alaska-Clarkson'), ('Alaska', 2, 'Right Wing', 'Matt Koethe', '2021-10-22-Alaska-Clarkson'), ('Alaska', 3, 'Left Wing', 'Brayden Nicholetts', '2021-10-22-Alaska-Clarkson'), ('Alaska', 3, 'Center', 'Harrison Israels', '2021-10-22-Alaska-Clarkson')  ... displaying 10 of 43 total bound parameter sets ...  ('Clarkson', 'Goalie 2', 'Goalie', 'Jacob Mucitelli', '2021-10-22-Alaska-Clarkson'), ('Clarkson', 'Goalie 3', 'Goalie', 'Brady Parker', '2021-10-22-Alaska-Clarkson')]]\n",
      "(Background on this error at: https://sqlalche.me/e/20/e3q8)\n"
     ]
    },
    {
     "name": "stderr",
     "output_type": "stream",
     "text": [
      "Scraping games:  11%|█▏        | 125/1106 [05:56<49:16,  3.01s/it]"
     ]
    },
    {
     "name": "stdout",
     "output_type": "stream",
     "text": [
      "Error saving to table line_chart: (sqlite3.OperationalError) table line_chart has no column named Team\n",
      "[SQL: INSERT INTO line_chart (\"Team\", \"Line\", \"Position\", \"Player\", \"Game_ID\") VALUES (?, ?, ?, ?, ?)]\n",
      "[parameters: [('Colgate', 1, 'Left Wing', 'Arnaud Vachon', '2021-10-22-Arizona State-Colgate'), ('Colgate', 1, 'Center', 'Josh McKechney', '2021-10-22-Arizona State-Colgate'), ('Colgate', 1, 'Right Wing', 'Alex Young', '2021-10-22-Arizona State-Colgate'), ('Colgate', 2, 'Left Wing', 'Colton Young', '2021-10-22-Arizona State-Colgate'), ('Colgate', 2, 'Center', 'Jeff Stewart', '2021-10-22-Arizona State-Colgate'), ('Colgate', 2, 'Right Wing', 'Ethan Manderville', '2021-10-22-Arizona State-Colgate'), ('Colgate', 3, 'Left Wing', 'Matt Verboon', '2021-10-22-Arizona State-Colgate'), ('Colgate', 3, 'Center', 'Paul McAvoy', '2021-10-22-Arizona State-Colgate')  ... displaying 10 of 45 total bound parameter sets ...  ('Arizona State', 'Goalie 1', 'Goalie', 'Ben Kraws', '2021-10-22-Arizona State-Colgate'), ('Arizona State', 'Goalie 2', 'Goalie', 'Cole Brady', '2021-10-22-Arizona State-Colgate')]]\n",
      "(Background on this error at: https://sqlalche.me/e/20/e3q8)\n"
     ]
    },
    {
     "name": "stderr",
     "output_type": "stream",
     "text": [
      "Scraping games:  11%|█▏        | 126/1106 [05:59<48:54,  2.99s/it]"
     ]
    },
    {
     "name": "stdout",
     "output_type": "stream",
     "text": [
      "Error saving to table line_chart: (sqlite3.OperationalError) table line_chart has no column named Team\n",
      "[SQL: INSERT INTO line_chart (\"Team\", \"Line\", \"Position\", \"Player\", \"Game_ID\") VALUES (?, ?, ?, ?, ?)]\n",
      "[parameters: [('Lake Superior', 1, 'Left Wing', 'Benito Posa', '2021-10-22-Union-Lake Superior'), ('Lake Superior', 1, 'Center', 'Dustin Manz', '2021-10-22-Union-Lake Superior'), ('Lake Superior', 1, 'Right Wing', 'Cole Craft', '2021-10-22-Union-Lake Superior'), ('Lake Superior', 2, 'Left Wing', 'Dawson Tritt', '2021-10-22-Union-Lake Superior'), ('Lake Superior', 2, 'Center', 'Harrison Roy', '2021-10-22-Union-Lake Superior'), ('Lake Superior', 2, 'Right Wing', 'Joshua Wildauer', '2021-10-22-Union-Lake Superior'), ('Lake Superior', 3, 'Left Wing', 'Miroslav Mucha', '2021-10-22-Union-Lake Superior'), ('Lake Superior', 3, 'Center', 'Louis Boudon', '2021-10-22-Union-Lake Superior')  ... displaying 10 of 43 total bound parameter sets ...  ('Union', 'Goalie 1', 'Goalie', 'Garrett Nieto', '2021-10-22-Union-Lake Superior'), ('Union', 'Goalie 2', 'Goalie', 'Connor Murphy', '2021-10-22-Union-Lake Superior')]]\n",
      "(Background on this error at: https://sqlalche.me/e/20/e3q8)\n"
     ]
    },
    {
     "name": "stderr",
     "output_type": "stream",
     "text": [
      "Scraping games:  11%|█▏        | 127/1106 [06:02<48:50,  2.99s/it]"
     ]
    },
    {
     "name": "stdout",
     "output_type": "stream",
     "text": [
      "Error saving to table line_chart: (sqlite3.OperationalError) table line_chart has no column named Team\n",
      "[SQL: INSERT INTO line_chart (\"Team\", \"Line\", \"Position\", \"Player\", \"Game_ID\") VALUES (?, ?, ?, ?, ?)]\n",
      "[parameters: [('Denver', 1, 'Left Wing', 'Carter Savoie', '2021-10-22-Denver-Providence'), ('Denver', 1, 'Center', 'Cole Guttman', '2021-10-22-Denver-Providence'), ('Denver', 1, 'Right Wing', 'Bobby Brink', '2021-10-22-Denver-Providence'), ('Denver', 2, 'Left Wing', 'Carter Mazur', '2021-10-22-Denver-Providence'), ('Denver', 2, 'Center', 'Massimo Rizzo', '2021-10-22-Denver-Providence'), ('Denver', 2, 'Right Wing', 'Cameron Wright', '2021-10-22-Denver-Providence'), ('Denver', 3, 'Left Wing', 'McKade Webster', '2021-10-22-Denver-Providence'), ('Denver', 3, 'Center', 'Brett Stapley', '2021-10-22-Denver-Providence')  ... displaying 10 of 43 total bound parameter sets ...  ('Providence', 'Goalie 2', 'Goalie', 'Jimmy Scannell', '2021-10-22-Denver-Providence'), ('Providence', 'Goalie 3', 'Goalie', 'Jaxson Stauber', '2021-10-22-Denver-Providence')]]\n",
      "(Background on this error at: https://sqlalche.me/e/20/e3q8)\n"
     ]
    },
    {
     "name": "stderr",
     "output_type": "stream",
     "text": [
      "Scraping games:  12%|█▏        | 128/1106 [06:05<48:24,  2.97s/it]"
     ]
    },
    {
     "name": "stdout",
     "output_type": "stream",
     "text": [
      "Error saving to table line_chart: (sqlite3.OperationalError) table line_chart has no column named Team\n",
      "[SQL: INSERT INTO line_chart (\"Team\", \"Line\", \"Position\", \"Player\", \"Game_ID\") VALUES (?, ?, ?, ?, ?)]\n",
      "[parameters: [('Niagara', 1, 'Left Wing', 'Jon Hill', '2021-10-22-Niagara-Penn State'), ('Niagara', 1, 'Center', 'Jason Pineo', '2021-10-22-Niagara-Penn State'), ('Niagara', 1, 'Right Wing', 'Shane Ott', '2021-10-22-Niagara-Penn State'), ('Niagara', 2, 'Left Wing', 'Walker Sommer', '2021-10-22-Niagara-Penn State'), ('Niagara', 2, 'Center', 'Jack DeBoer', '2021-10-22-Niagara-Penn State'), ('Niagara', 2, 'Right Wing', 'Brandon Stanley', '2021-10-22-Niagara-Penn State'), ('Niagara', 3, 'Left Wing', 'Ryan Naumovski', '2021-10-22-Niagara-Penn State'), ('Niagara', 3, 'Center', 'Albin Nilsson', '2021-10-22-Niagara-Penn State')  ... displaying 10 of 44 total bound parameter sets ...  ('Penn State', 'Goalie 2', 'Goalie', 'Liam Souliere', '2021-10-22-Niagara-Penn State'), ('Penn State', 'Goalie 3', 'Goalie', 'Doug Dorr', '2021-10-22-Niagara-Penn State')]]\n",
      "(Background on this error at: https://sqlalche.me/e/20/e3q8)\n"
     ]
    },
    {
     "name": "stderr",
     "output_type": "stream",
     "text": [
      "Scraping games:  12%|█▏        | 129/1106 [06:08<48:32,  2.98s/it]"
     ]
    },
    {
     "name": "stdout",
     "output_type": "stream",
     "text": [
      "Error saving to table line_chart: (sqlite3.OperationalError) table line_chart has no column named Team\n",
      "[SQL: INSERT INTO line_chart (\"Team\", \"Line\", \"Position\", \"Player\", \"Game_ID\") VALUES (?, ?, ?, ?, ?)]\n",
      "[parameters: [('North Dakota', 1, 'Left Wing', 'Riese Gaber', '2021-10-22-North Dakota-Quinnipiac'), ('North Dakota', 1, 'Center', 'Jake Schmaltz', '2021-10-22-North Dakota-Quinnipiac'), ('North Dakota', 1, 'Right Wing', 'Judd Caulfield', '2021-10-22-North Dakota-Quinnipiac'), ('North Dakota', 2, 'Left Wing', 'Matteo Costantini', '2021-10-22-North Dakota-Quinnipiac'), ('North Dakota', 2, 'Center', 'Connor Ford', '2021-10-22-North Dakota-Quinnipiac'), ('North Dakota', 2, 'Right Wing', 'Ashton Calder', '2021-10-22-North Dakota-Quinnipiac'), ('North Dakota', 3, 'Left Wing', 'Gavin Hain', '2021-10-22-North Dakota-Quinnipiac'), ('North Dakota', 3, 'Center', 'Mark Senden', '2021-10-22-North Dakota-Quinnipiac')  ... displaying 10 of 47 total bound parameter sets ...  ('Quinnipiac', 'Goalie 2', 'Goalie', 'Yaniv Perets', '2021-10-22-North Dakota-Quinnipiac'), ('Quinnipiac', 'Goalie 3', 'Goalie', 'Noah Altman', '2021-10-22-North Dakota-Quinnipiac')]]\n",
      "(Background on this error at: https://sqlalche.me/e/20/e3q8)\n"
     ]
    },
    {
     "name": "stderr",
     "output_type": "stream",
     "text": [
      "Scraping games:  12%|█▏        | 130/1106 [06:11<48:17,  2.97s/it]"
     ]
    },
    {
     "name": "stdout",
     "output_type": "stream",
     "text": [
      "Error saving to table line_chart: (sqlite3.OperationalError) table line_chart has no column named Team\n",
      "[SQL: INSERT INTO line_chart (\"Team\", \"Line\", \"Position\", \"Player\", \"Game_ID\") VALUES (?, ?, ?, ?, ?)]\n",
      "[parameters: [('Bowling Green', 1, 'Left Wing', 'Brayden Krieger', '2021-10-22-Bowling Green-Miami'), ('Bowling Green', 1, 'Center', 'Ethan Scardina', '2021-10-22-Bowling Green-Miami'), ('Bowling Green', 1, 'Right Wing', 'Seth Fyten', '2021-10-22-Bowling Green-Miami'), ('Bowling Green', 2, 'Left Wing', 'Sam Craggs', '2021-10-22-Bowling Green-Miami'), ('Bowling Green', 2, 'Center', 'Taylor Schneider', '2021-10-22-Bowling Green-Miami'), ('Bowling Green', 2, 'Right Wing', 'Alex Barber', '2021-10-22-Bowling Green-Miami'), ('Bowling Green', 3, 'Left Wing', 'Coale Norris', '2021-10-22-Bowling Green-Miami'), ('Bowling Green', 3, 'Center', 'Austen Swankler', '2021-10-22-Bowling Green-Miami')  ... displaying 10 of 42 total bound parameter sets ...  ('Miami', 'Goalie 1', 'Goalie', 'Ludvig Persson', '2021-10-22-Bowling Green-Miami'), ('Miami', 'Goalie 2', 'Goalie', 'Logan Neaton', '2021-10-22-Bowling Green-Miami')]]\n",
      "(Background on this error at: https://sqlalche.me/e/20/e3q8)\n"
     ]
    },
    {
     "name": "stderr",
     "output_type": "stream",
     "text": [
      "Scraping games:  12%|█▏        | 131/1106 [06:14<47:55,  2.95s/it]"
     ]
    },
    {
     "name": "stdout",
     "output_type": "stream",
     "text": [
      "Error saving to table line_chart: (sqlite3.OperationalError) table line_chart has no column named Team\n",
      "[SQL: INSERT INTO line_chart (\"Team\", \"Line\", \"Position\", \"Player\", \"Game_ID\") VALUES (?, ?, ?, ?, ?)]\n",
      "[parameters: [('Mass.-Lowell', 1, 'Left Wing', 'Zach Kaiser', '2021-10-22-Michigan State-Mass.-Lowell'), ('Mass.-Lowell', 1, 'Center', 'Connor Sodergren', '2021-10-22-Michigan State-Mass.-Lowell'), ('Mass.-Lowell', 1, 'Right Wing', 'Ryan Brushett', '2021-10-22-Michigan State-Mass.-Lowell'), ('Mass.-Lowell', 2, 'Left Wing', 'Andre Lee', '2021-10-22-Michigan State-Mass.-Lowell'), ('Mass.-Lowell', 2, 'Center', 'Carl Berglund', '2021-10-22-Michigan State-Mass.-Lowell'), ('Mass.-Lowell', 2, 'Right Wing', 'Reid Stefanson', '2021-10-22-Michigan State-Mass.-Lowell'), ('Mass.-Lowell', 3, 'Left Wing', 'Andranik Armstrong-Kingkade', '2021-10-22-Michigan State-Mass.-Lowell'), ('Mass.-Lowell', 3, 'Center', 'Lucas Condotta', '2021-10-22-Michigan State-Mass.-Lowell')  ... displaying 10 of 44 total bound parameter sets ...  ('Michigan State', 'Goalie 2', 'Goalie', 'Pierce Charleson', '2021-10-22-Michigan State-Mass.-Lowell'), ('Michigan State', 'Goalie 3', 'Goalie', 'Jon Mor', '2021-10-22-Michigan State-Mass.-Lowell')]]\n",
      "(Background on this error at: https://sqlalche.me/e/20/e3q8)\n"
     ]
    },
    {
     "name": "stderr",
     "output_type": "stream",
     "text": [
      "Scraping games:  12%|█▏        | 132/1106 [06:17<48:22,  2.98s/it]"
     ]
    },
    {
     "name": "stdout",
     "output_type": "stream",
     "text": [
      "Error saving to table line_chart: (sqlite3.OperationalError) table line_chart has no column named Team\n",
      "[SQL: INSERT INTO line_chart (\"Team\", \"Line\", \"Position\", \"Player\", \"Game_ID\") VALUES (?, ?, ?, ?, ?)]\n",
      "[parameters: [('Maine', 1, 'Left Wing', 'Adam Dawe', '2021-10-22-Sacred Heart-Maine'), ('Maine', 1, 'Center', 'Ben Poisson', '2021-10-22-Sacred Heart-Maine'), ('Maine', 1, 'Right Wing', 'Nolan Renwick', '2021-10-22-Sacred Heart-Maine'), ('Maine', 2, 'Left Wing', 'Emil Westerlund', '2021-10-22-Sacred Heart-Maine'), ('Maine', 2, 'Center', 'Lynden Breen', '2021-10-22-Sacred Heart-Maine'), ('Maine', 2, 'Right Wing', 'Brad Morrissey', '2021-10-22-Sacred Heart-Maine'), ('Maine', 3, 'Left Wing', 'Grant Hebert', '2021-10-22-Sacred Heart-Maine'), ('Maine', 3, 'Center', 'Keenan Suthers', '2021-10-22-Sacred Heart-Maine')  ... displaying 10 of 42 total bound parameter sets ...  ('Sacred Heart', 'Goalie 1', 'Goalie', 'Josh Benson', '2021-10-22-Sacred Heart-Maine'), ('Sacred Heart', 'Goalie 2', 'Goalie', 'Justin Robbins', '2021-10-22-Sacred Heart-Maine')]]\n",
      "(Background on this error at: https://sqlalche.me/e/20/e3q8)\n"
     ]
    },
    {
     "name": "stderr",
     "output_type": "stream",
     "text": [
      "Scraping games:  12%|█▏        | 133/1106 [06:20<47:41,  2.94s/it]"
     ]
    },
    {
     "name": "stdout",
     "output_type": "stream",
     "text": [
      "Error saving to table line_chart: (sqlite3.OperationalError) table line_chart has no column named Team\n",
      "[SQL: INSERT INTO line_chart (\"Team\", \"Line\", \"Position\", \"Player\", \"Game_ID\") VALUES (?, ?, ?, ?, ?)]\n",
      "[parameters: [('Michigan', 1, 'Left Wing', 'Michael Pastujov', '2021-10-22-Western Michigan-Michigan'), ('Michigan', 1, 'Center', 'Thomas Bordeleau', '2021-10-22-Western Michigan-Michigan'), ('Michigan', 1, 'Right Wing', 'Brendan Brisson', '2021-10-22-Western Michigan-Michigan'), ('Michigan', 2, 'Left Wing', 'Philippe Lapointe', '2021-10-22-Western Michigan-Michigan'), ('Michigan', 2, 'Center', 'Garrett Van Wyhe', '2021-10-22-Western Michigan-Michigan'), ('Michigan', 2, 'Right Wing', 'Nolan Moyle', '2021-10-22-Western Michigan-Michigan'), ('Michigan', 3, 'Left Wing', 'Kent Johnson', '2021-10-22-Western Michigan-Michigan'), ('Michigan', 3, 'Center', 'Matty Beniers', '2021-10-22-Western Michigan-Michigan')  ... displaying 10 of 44 total bound parameter sets ...  ('Western Michigan', 'Goalie 2', 'Goalie', 'Alex Aslanidis', '2021-10-22-Western Michigan-Michigan'), ('Western Michigan', 'Goalie 3', 'Goalie', 'Ross Hawryluk', '2021-10-22-Western Michigan-Michigan')]]\n",
      "(Background on this error at: https://sqlalche.me/e/20/e3q8)\n"
     ]
    },
    {
     "name": "stderr",
     "output_type": "stream",
     "text": [
      "Scraping games:  12%|█▏        | 134/1106 [06:22<47:26,  2.93s/it]"
     ]
    },
    {
     "name": "stdout",
     "output_type": "stream",
     "text": [
      "Error saving to table line_chart: (sqlite3.OperationalError) table line_chart has no column named Team\n",
      "[SQL: INSERT INTO line_chart (\"Team\", \"Line\", \"Position\", \"Player\", \"Game_ID\") VALUES (?, ?, ?, ?, ?)]\n",
      "[parameters: [('Notre Dame', 1, 'Left Wing', 'Solag Bakich', '2021-10-22-RIT-Notre Dame'), ('Notre Dame', 1, 'Center', 'Trevor Janicke', '2021-10-22-RIT-Notre Dame'), ('Notre Dame', 1, 'Right Wing', 'Max Ellis', '2021-10-22-RIT-Notre Dame'), ('Notre Dame', 2, 'Left Wing', 'Landon Slaggert', '2021-10-22-RIT-Notre Dame'), ('Notre Dame', 2, 'Center', 'Graham Slaggert', '2021-10-22-RIT-Notre Dame'), ('Notre Dame', 2, 'Right Wing', 'Justin Janicke', '2021-10-22-RIT-Notre Dame'), ('Notre Dame', 3, 'Left Wing', 'Jesse Lansdell', '2021-10-22-RIT-Notre Dame'), ('Notre Dame', 3, 'Center', 'Cam Burke', '2021-10-22-RIT-Notre Dame')  ... displaying 10 of 46 total bound parameter sets ...  ('RIT', 'Goalie 2', 'Goalie', 'Kolby Matthews', '2021-10-22-RIT-Notre Dame'), ('RIT', 'Goalie 3', 'Goalie', 'Tommy Scarfone', '2021-10-22-RIT-Notre Dame')]]\n",
      "(Background on this error at: https://sqlalche.me/e/20/e3q8)\n"
     ]
    },
    {
     "name": "stderr",
     "output_type": "stream",
     "text": [
      "Scraping games:  12%|█▏        | 135/1106 [06:25<46:49,  2.89s/it]"
     ]
    },
    {
     "name": "stdout",
     "output_type": "stream",
     "text": [
      "Error saving to table line_chart: (sqlite3.OperationalError) table line_chart has no column named Team\n",
      "[SQL: INSERT INTO line_chart (\"Team\", \"Line\", \"Position\", \"Player\", \"Game_ID\") VALUES (?, ?, ?, ?, ?)]\n",
      "[parameters: [('Minnesota', 1, 'Left Wing', 'Blake McLaughlin', '2021-10-22-Minnesota-Duluth-Minnesota'), ('Minnesota', 1, 'Center', 'Sammy Walker', '2021-10-22-Minnesota-Duluth-Minnesota'), ('Minnesota', 1, 'Right Wing', 'Bryce Brodzinski', '2021-10-22-Minnesota-Duluth-Minnesota'), ('Minnesota', 2, 'Left Wing', 'Grant Cruikshank', '2021-10-22-Minnesota-Duluth-Minnesota'), ('Minnesota', 2, 'Center', 'Jaxon Nelson', '2021-10-22-Minnesota-Duluth-Minnesota'), ('Minnesota', 2, 'Right Wing', 'Tristan Broz', '2021-10-22-Minnesota-Duluth-Minnesota'), ('Minnesota', 3, 'Left Wing', 'Matthew Knies', '2021-10-22-Minnesota-Duluth-Minnesota'), ('Minnesota', 3, 'Center', 'Ben Meyers', '2021-10-22-Minnesota-Duluth-Minnesota')  ... displaying 10 of 42 total bound parameter sets ...  ('Minnesota-Duluth', 'Goalie 1', 'Goalie', 'Ben Patt', '2021-10-22-Minnesota-Duluth-Minnesota'), ('Minnesota-Duluth', 'Goalie 2', 'Goalie', 'Ryan Fanti', '2021-10-22-Minnesota-Duluth-Minnesota')]]\n",
      "(Background on this error at: https://sqlalche.me/e/20/e3q8)\n"
     ]
    },
    {
     "name": "stderr",
     "output_type": "stream",
     "text": [
      "Scraping games:  12%|█▏        | 136/1106 [06:28<46:52,  2.90s/it]"
     ]
    },
    {
     "name": "stdout",
     "output_type": "stream",
     "text": [
      "Error saving to table line_chart: (sqlite3.OperationalError) table line_chart has no column named Team\n",
      "[SQL: INSERT INTO line_chart (\"Team\", \"Line\", \"Position\", \"Player\", \"Game_ID\") VALUES (?, ?, ?, ?, ?)]\n",
      "[parameters: [('St. Cloud State', 1, 'Left Wing', 'Easton Brodzinski', '2021-10-22-Wisconsin-St. Cloud State'), ('St. Cloud State', 1, 'Center', 'Nolan Walker', '2021-10-22-Wisconsin-St. Cloud State'), ('St. Cloud State', 1, 'Right Wing', 'Sam Hentges', '2021-10-22-Wisconsin-St. Cloud State'), ('St. Cloud State', 2, 'Left Wing', 'Kyler Kupka', '2021-10-22-Wisconsin-St. Cloud State'), ('St. Cloud State', 2, 'Center', 'Kevin Fitzgerald', '2021-10-22-Wisconsin-St. Cloud State'), ('St. Cloud State', 2, 'Right Wing', 'Micah Miller', '2021-10-22-Wisconsin-St. Cloud State'), ('St. Cloud State', 3, 'Left Wing', 'Veeti Miettinen', '2021-10-22-Wisconsin-St. Cloud State'), ('St. Cloud State', 3, 'Center', 'Jami Krannila', '2021-10-22-Wisconsin-St. Cloud State')  ... displaying 10 of 44 total bound parameter sets ...  ('Wisconsin', 'Goalie 2', 'Goalie', 'Cameron Rowe', '2021-10-22-Wisconsin-St. Cloud State'), ('Wisconsin', 'Goalie 3', 'Goalie', 'Ben Garrity', '2021-10-22-Wisconsin-St. Cloud State')]]\n",
      "(Background on this error at: https://sqlalche.me/e/20/e3q8)\n"
     ]
    },
    {
     "name": "stderr",
     "output_type": "stream",
     "text": [
      "Scraping games:  12%|█▏        | 137/1106 [06:31<46:03,  2.85s/it]"
     ]
    },
    {
     "name": "stdout",
     "output_type": "stream",
     "text": [
      "Error saving to table line_chart: (sqlite3.OperationalError) table line_chart has no column named Team\n",
      "[SQL: INSERT INTO line_chart (\"Team\", \"Line\", \"Position\", \"Player\", \"Game_ID\") VALUES (?, ?, ?, ?, ?)]\n",
      "[parameters: [(\"American Int'l\", 1, 'Left Wing', 'Justin Cole', \"2021-10-22-American Int'l-Army\"), (\"American Int'l\", 1, 'Center', 'Julius Janhonen', \"2021-10-22-American Int'l-Army\"), (\"American Int'l\", 1, 'Right Wing', 'Chris Dodero', \"2021-10-22-American Int'l-Army\"), (\"American Int'l\", 2, 'Left Wing', 'Luka Maver', \"2021-10-22-American Int'l-Army\"), (\"American Int'l\", 2, 'Center', 'Elijiah Barriga', \"2021-10-22-American Int'l-Army\"), (\"American Int'l\", 2, 'Right Wing', 'Brian Rigali', \"2021-10-22-American Int'l-Army\"), (\"American Int'l\", 3, 'Left Wing', 'Blake Bennett', \"2021-10-22-American Int'l-Army\"), (\"American Int'l\", 3, 'Center', 'Jake Stella', \"2021-10-22-American Int'l-Army\")  ... displaying 10 of 44 total bound parameter sets ...  ('Army', 'Goalie 2', 'Goalie', 'Gavin Abric', \"2021-10-22-American Int'l-Army\"), ('Army', 'Goalie 3', 'Goalie', 'Evan Szary', \"2021-10-22-American Int'l-Army\")]]\n",
      "(Background on this error at: https://sqlalche.me/e/20/e3q8)\n"
     ]
    },
    {
     "name": "stderr",
     "output_type": "stream",
     "text": [
      "Scraping games:  13%|█▎        | 140/1106 [06:37<37:53,  2.35s/it]"
     ]
    },
    {
     "name": "stdout",
     "output_type": "stream",
     "text": [
      "Error saving to table line_chart: (sqlite3.OperationalError) table line_chart has no column named Team\n",
      "[SQL: INSERT INTO line_chart (\"Team\", \"Line\", \"Position\", \"Player\", \"Game_ID\") VALUES (?, ?, ?, ?, ?)]\n",
      "[parameters: [('Bentley', 1, 'Left Wing', 'Phil Knies', '2021-10-23-Holy Cross-Bentley'), ('Bentley', 1, 'Center', 'Brendan Hamblet', '2021-10-23-Holy Cross-Bentley'), ('Bentley', 1, 'Right Wing', 'Collin Rutherford', '2021-10-23-Holy Cross-Bentley'), ('Bentley', 2, 'Left Wing', 'Kohei Sato', '2021-10-23-Holy Cross-Bentley'), ('Bentley', 2, 'Center', 'Matt Gosiewski', '2021-10-23-Holy Cross-Bentley'), ('Bentley', 2, 'Right Wing', 'Eric Linell', '2021-10-23-Holy Cross-Bentley'), ('Bentley', 3, 'Left Wing', 'Brendan Walkom', '2021-10-23-Holy Cross-Bentley'), ('Bentley', 3, 'Center', 'Harrison Scott', '2021-10-23-Holy Cross-Bentley')  ... displaying 10 of 46 total bound parameter sets ...  ('Holy Cross', 'Goalie 2', 'Goalie', 'Matt Radomsky', '2021-10-23-Holy Cross-Bentley'), ('Holy Cross', 'Goalie 3', 'Goalie', 'Thomas Gale', '2021-10-23-Holy Cross-Bentley')]]\n",
      "(Background on this error at: https://sqlalche.me/e/20/e3q8)\n"
     ]
    },
    {
     "name": "stderr",
     "output_type": "stream",
     "text": [
      "Scraping games:  13%|█▎        | 144/1106 [06:45<36:26,  2.27s/it]"
     ]
    },
    {
     "name": "stdout",
     "output_type": "stream",
     "text": [
      "Error saving to table line_chart: (sqlite3.OperationalError) table line_chart has no column named Team\n",
      "[SQL: INSERT INTO line_chart (\"Team\", \"Line\", \"Position\", \"Player\", \"Game_ID\") VALUES (?, ?, ?, ?, ?)]\n",
      "[parameters: [('Maine', 1, 'Left Wing', 'Ben Poisson', '2021-10-23-Sacred Heart-Maine'), ('Maine', 1, 'Center', 'Lynden Breen', '2021-10-23-Sacred Heart-Maine'), ('Maine', 1, 'Right Wing', 'Nolan Renwick', '2021-10-23-Sacred Heart-Maine'), ('Maine', 2, 'Left Wing', 'Adam Dawe', '2021-10-23-Sacred Heart-Maine'), ('Maine', 2, 'Center', 'Keenan Suthers', '2021-10-23-Sacred Heart-Maine'), ('Maine', 2, 'Right Wing', 'Jacob Schmidt-Svejstrup', '2021-10-23-Sacred Heart-Maine'), ('Maine', 3, 'Left Wing', 'Matthew Fawcett', '2021-10-23-Sacred Heart-Maine'), ('Maine', 3, 'Center', 'Grant Hebert', '2021-10-23-Sacred Heart-Maine')  ... displaying 10 of 40 total bound parameter sets ...  ('Sacred Heart', 1, 'Extra', 'Cody', '2021-10-23-Sacred Heart-Maine'), ('Sacred Heart', 'Goalie 1', 'Goalie', 'Justin Robbins', '2021-10-23-Sacred Heart-Maine')]]\n",
      "(Background on this error at: https://sqlalche.me/e/20/e3q8)\n"
     ]
    },
    {
     "name": "stderr",
     "output_type": "stream",
     "text": [
      "Scraping games:  13%|█▎        | 145/1106 [06:48<38:18,  2.39s/it]"
     ]
    },
    {
     "name": "stdout",
     "output_type": "stream",
     "text": [
      "Error saving to table line_chart: (sqlite3.OperationalError) table line_chart has no column named Team\n",
      "[SQL: INSERT INTO line_chart (\"Team\", \"Line\", \"Position\", \"Player\", \"Game_ID\") VALUES (?, ?, ?, ?, ?)]\n",
      "[parameters: [('Lake Superior', 1, 'Left Wing', 'Miroslav Mucha', '2021-10-23-Union-Lake Superior'), ('Lake Superior', 1, 'Center', 'Louis Boudon', '2021-10-23-Union-Lake Superior'), ('Lake Superior', 1, 'Right Wing', 'Brandon Puricelli', '2021-10-23-Union-Lake Superior'), ('Lake Superior', 2, 'Left Wing', 'Dawson Tritt', '2021-10-23-Union-Lake Superior'), ('Lake Superior', 2, 'Center', 'Harrison Roy', '2021-10-23-Union-Lake Superior'), ('Lake Superior', 2, 'Right Wing', 'Joshua Wildauer', '2021-10-23-Union-Lake Superior'), ('Lake Superior', 3, 'Left Wing', 'Tyler Williams', '2021-10-23-Union-Lake Superior'), ('Lake Superior', 3, 'Center', 'Dustin Manz', '2021-10-23-Union-Lake Superior')  ... displaying 10 of 43 total bound parameter sets ...  ('Union', 'Goalie 1', 'Goalie', 'Garrett Nieto', '2021-10-23-Union-Lake Superior'), ('Union', 'Goalie 2', 'Goalie', 'Connor Murphy', '2021-10-23-Union-Lake Superior')]]\n",
      "(Background on this error at: https://sqlalche.me/e/20/e3q8)\n"
     ]
    },
    {
     "name": "stderr",
     "output_type": "stream",
     "text": [
      "Scraping games:  13%|█▎        | 146/1106 [06:51<41:07,  2.57s/it]"
     ]
    },
    {
     "name": "stdout",
     "output_type": "stream",
     "text": [
      "Error saving to table line_chart: (sqlite3.OperationalError) table line_chart has no column named Team\n",
      "[SQL: INSERT INTO line_chart (\"Team\", \"Line\", \"Position\", \"Player\", \"Game_ID\") VALUES (?, ?, ?, ?, ?)]\n",
      "[parameters: [('Mass.-Lowell', 1, 'Left Wing', 'Andre Lee', '2021-10-23-Michigan State-Mass.-Lowell'), ('Mass.-Lowell', 1, 'Center', 'Carl Berglund', '2021-10-23-Michigan State-Mass.-Lowell'), ('Mass.-Lowell', 1, 'Right Wing', 'Reid Stefanson', '2021-10-23-Michigan State-Mass.-Lowell'), ('Mass.-Lowell', 2, 'Left Wing', 'Blake Wells', '2021-10-23-Michigan State-Mass.-Lowell'), ('Mass.-Lowell', 2, 'Center', 'Lucas Condotta', '2021-10-23-Michigan State-Mass.-Lowell'), ('Mass.-Lowell', 2, 'Right Wing', 'Matt Crasa', '2021-10-23-Michigan State-Mass.-Lowell'), ('Mass.-Lowell', 3, 'Left Wing', 'Zach Kaiser', '2021-10-23-Michigan State-Mass.-Lowell'), ('Mass.-Lowell', 3, 'Center', 'Stefan Owens', '2021-10-23-Michigan State-Mass.-Lowell')  ... displaying 10 of 44 total bound parameter sets ...  ('Michigan State', 'Goalie 2', 'Goalie', 'Pierce Charleson', '2021-10-23-Michigan State-Mass.-Lowell'), ('Michigan State', 'Goalie 3', 'Goalie', 'Jon Mor', '2021-10-23-Michigan State-Mass.-Lowell')]]\n",
      "(Background on this error at: https://sqlalche.me/e/20/e3q8)\n"
     ]
    },
    {
     "name": "stderr",
     "output_type": "stream",
     "text": [
      "Scraping games:  13%|█▎        | 147/1106 [06:54<42:39,  2.67s/it]"
     ]
    },
    {
     "name": "stdout",
     "output_type": "stream",
     "text": [
      "Error saving to table line_chart: (sqlite3.OperationalError) table line_chart has no column named Team\n",
      "[SQL: INSERT INTO line_chart (\"Team\", \"Line\", \"Position\", \"Player\", \"Game_ID\") VALUES (?, ?, ?, ?, ?)]\n",
      "[parameters: [('St. Cloud State', 1, 'Left Wing', 'Kyler Kupka', '2021-10-23-Wisconsin-St. Cloud State'), ('St. Cloud State', 1, 'Center', 'Kevin Fitzgerald', '2021-10-23-Wisconsin-St. Cloud State'), ('St. Cloud State', 1, 'Right Wing', 'Micah Miller', '2021-10-23-Wisconsin-St. Cloud State'), ('St. Cloud State', 2, 'Left Wing', 'Veeti Miettinen', '2021-10-23-Wisconsin-St. Cloud State'), ('St. Cloud State', 2, 'Center', 'Jami Krannila', '2021-10-23-Wisconsin-St. Cloud State'), ('St. Cloud State', 2, 'Right Wing', 'Zach Okabe', '2021-10-23-Wisconsin-St. Cloud State'), ('St. Cloud State', 3, 'Left Wing', 'Joe Molenaar', '2021-10-23-Wisconsin-St. Cloud State'), ('St. Cloud State', 3, 'Center', 'Nolan Walker', '2021-10-23-Wisconsin-St. Cloud State')  ... displaying 10 of 44 total bound parameter sets ...  ('Wisconsin', 'Goalie 2', 'Goalie', 'Cameron Rowe', '2021-10-23-Wisconsin-St. Cloud State'), ('Wisconsin', 'Goalie 3', 'Goalie', 'Ben Garrity', '2021-10-23-Wisconsin-St. Cloud State')]]\n",
      "(Background on this error at: https://sqlalche.me/e/20/e3q8)\n"
     ]
    },
    {
     "name": "stderr",
     "output_type": "stream",
     "text": [
      "Scraping games:  13%|█▎        | 148/1106 [06:57<45:32,  2.85s/it]"
     ]
    },
    {
     "name": "stdout",
     "output_type": "stream",
     "text": [
      "Error saving to table line_chart: (sqlite3.OperationalError) table line_chart has no column named Team\n",
      "[SQL: INSERT INTO line_chart (\"Team\", \"Line\", \"Position\", \"Player\", \"Game_ID\") VALUES (?, ?, ?, ?, ?)]\n",
      "[parameters: [('Alaska', 1, 'Left Wing', 'Didrik Henbrant', '2021-10-23-Alaska-Clarkson'), ('Alaska', 1, 'Center', 'Jakob Breault', '2021-10-23-Alaska-Clarkson'), ('Alaska', 1, 'Right Wing', 'Filip Fornaa Svennson', '2021-10-23-Alaska-Clarkson'), ('Alaska', 2, 'Left Wing', 'Caleb Hite', '2021-10-23-Alaska-Clarkson'), ('Alaska', 2, 'Center', 'Colin Doyle', '2021-10-23-Alaska-Clarkson'), ('Alaska', 2, 'Right Wing', 'Matt Koethe', '2021-10-23-Alaska-Clarkson'), ('Alaska', 3, 'Left Wing', 'Riley Murphy', '2021-10-23-Alaska-Clarkson'), ('Alaska', 3, 'Center', 'Eriks Zohovs', '2021-10-23-Alaska-Clarkson')  ... displaying 10 of 43 total bound parameter sets ...  ('Clarkson', 'Goalie 2', 'Goalie', 'Jacob Mucitelli', '2021-10-23-Alaska-Clarkson'), ('Clarkson', 'Goalie 3', 'Goalie', 'Brady Parker', '2021-10-23-Alaska-Clarkson')]]\n",
      "(Background on this error at: https://sqlalche.me/e/20/e3q8)\n"
     ]
    },
    {
     "name": "stderr",
     "output_type": "stream",
     "text": [
      "Scraping games:  13%|█▎        | 149/1106 [07:00<45:35,  2.86s/it]"
     ]
    },
    {
     "name": "stdout",
     "output_type": "stream",
     "text": [
      "Error saving to table line_chart: (sqlite3.OperationalError) table line_chart has no column named Team\n",
      "[SQL: INSERT INTO line_chart (\"Team\", \"Line\", \"Position\", \"Player\", \"Game_ID\") VALUES (?, ?, ?, ?, ?)]\n",
      "[parameters: [('Boston College', 1, 'Left Wing', 'Brandon Kruse', '2021-10-23-Denver-Boston College'), ('Boston College', 1, 'Center', 'Jack McBain', '2021-10-23-Denver-Boston College'), ('Boston College', 1, 'Right Wing', 'Nikita Nesterenko', '2021-10-23-Denver-Boston College'), ('Boston College', 2, 'Left Wing', 'Trevor Kuntar', '2021-10-23-Denver-Boston College'), ('Boston College', 2, 'Center', 'Marc McLaughlin', '2021-10-23-Denver-Boston College'), ('Boston College', 2, 'Right Wing', 'Colby Ambrosio', '2021-10-23-Denver-Boston College'), ('Boston College', 3, 'Left Wing', 'Mike Posma', '2021-10-23-Denver-Boston College'), ('Boston College', 3, 'Center', 'Patrick Giles', '2021-10-23-Denver-Boston College')  ... displaying 10 of 43 total bound parameter sets ...  ('Denver', 'Goalie 1', 'Goalie', 'Magnus Chrona', '2021-10-23-Denver-Boston College'), ('Denver', 'Goalie 2', 'Goalie', 'Matt Davis', '2021-10-23-Denver-Boston College')]]\n",
      "(Background on this error at: https://sqlalche.me/e/20/e3q8)\n"
     ]
    },
    {
     "name": "stderr",
     "output_type": "stream",
     "text": [
      "Scraping games:  14%|█▎        | 150/1106 [07:03<45:45,  2.87s/it]"
     ]
    },
    {
     "name": "stdout",
     "output_type": "stream",
     "text": [
      "Error saving to table line_chart: (sqlite3.OperationalError) table line_chart has no column named Team\n",
      "[SQL: INSERT INTO line_chart (\"Team\", \"Line\", \"Position\", \"Player\", \"Game_ID\") VALUES (?, ?, ?, ?, ?)]\n",
      "[parameters: [('Colgate', 1, 'Left Wing', 'Arnaud Vachon', '2021-10-23-Arizona State-Colgate'), ('Colgate', 1, 'Center', 'Josh McKechney', '2021-10-23-Arizona State-Colgate'), ('Colgate', 1, 'Right Wing', 'Alex Young', '2021-10-23-Arizona State-Colgate'), ('Colgate', 2, 'Left Wing', 'Colton Young', '2021-10-23-Arizona State-Colgate'), ('Colgate', 2, 'Center', 'Jeff Stewart', '2021-10-23-Arizona State-Colgate'), ('Colgate', 2, 'Right Wing', 'Ethan Manderville', '2021-10-23-Arizona State-Colgate'), ('Colgate', 3, 'Left Wing', 'Matt Verboon', '2021-10-23-Arizona State-Colgate'), ('Colgate', 3, 'Center', 'Paul McAvoy', '2021-10-23-Arizona State-Colgate')  ... displaying 10 of 43 total bound parameter sets ...  ('Arizona State', 'Goalie 1', 'Goalie', 'Ben Kraws', '2021-10-23-Arizona State-Colgate'), ('Arizona State', 'Goalie 2', 'Goalie', 'Cole Brady', '2021-10-23-Arizona State-Colgate')]]\n",
      "(Background on this error at: https://sqlalche.me/e/20/e3q8)\n"
     ]
    },
    {
     "name": "stderr",
     "output_type": "stream",
     "text": [
      "Scraping games:  14%|█▎        | 151/1106 [07:06<45:28,  2.86s/it]"
     ]
    },
    {
     "name": "stdout",
     "output_type": "stream",
     "text": [
      "Error saving to table line_chart: (sqlite3.OperationalError) table line_chart has no column named Team\n",
      "[SQL: INSERT INTO line_chart (\"Team\", \"Line\", \"Position\", \"Player\", \"Game_ID\") VALUES (?, ?, ?, ?, ?)]\n",
      "[parameters: [('Colorado College', 1, 'Left Wing', 'Danny Weight', '2021-10-23-Colorado College-Northeastern'), ('Colorado College', 1, 'Center', 'Logan Will', '2021-10-23-Colorado College-Northeastern'), ('Colorado College', 1, 'Right Wing', 'Brian Hawkinson', '2021-10-23-Colorado College-Northeastern'), ('Colorado College', 2, 'Left Wing', 'Matthew Gleason', '2021-10-23-Colorado College-Northeastern'), ('Colorado College', 2, 'Center', 'Stanley Cooley', '2021-10-23-Colorado College-Northeastern'), ('Colorado College', 2, 'Right Wing', 'Hunter McKown', '2021-10-23-Colorado College-Northeastern'), ('Colorado College', 3, 'Left Wing', 'Jordan Biro', '2021-10-23-Colorado College-Northeastern'), ('Colorado College', 3, 'Center', 'Noah Prokop', '2021-10-23-Colorado College-Northeastern')  ... displaying 10 of 43 total bound parameter sets ...  ('Northeastern', 'Goalie 2', 'Goalie', 'Devon Levi', '2021-10-23-Colorado College-Northeastern'), ('Northeastern', 'Goalie 3', 'Goalie', 'TJ Semptimphelter', '2021-10-23-Colorado College-Northeastern')]]\n",
      "(Background on this error at: https://sqlalche.me/e/20/e3q8)\n"
     ]
    },
    {
     "name": "stderr",
     "output_type": "stream",
     "text": [
      "Scraping games:  14%|█▎        | 152/1106 [07:09<46:45,  2.94s/it]"
     ]
    },
    {
     "name": "stdout",
     "output_type": "stream",
     "text": [
      "Error saving to table line_chart: (sqlite3.OperationalError) table line_chart has no column named Team\n",
      "[SQL: INSERT INTO line_chart (\"Team\", \"Line\", \"Position\", \"Player\", \"Game_ID\") VALUES (?, ?, ?, ?, ?)]\n",
      "[parameters: [('North Dakota', 1, 'Left Wing', 'Riese Gaber', '2021-10-23-North Dakota-Quinnipiac'), ('North Dakota', 1, 'Center', 'Jake Schmaltz', '2021-10-23-North Dakota-Quinnipiac'), ('North Dakota', 1, 'Right Wing', 'Judd Caulfield', '2021-10-23-North Dakota-Quinnipiac'), ('North Dakota', 2, 'Left Wing', 'Mark Senden', '2021-10-23-North Dakota-Quinnipiac'), ('North Dakota', 2, 'Center', 'Connor Ford', '2021-10-23-North Dakota-Quinnipiac'), ('North Dakota', 2, 'Right Wing', 'Ashton Calder', '2021-10-23-North Dakota-Quinnipiac'), ('North Dakota', 3, 'Left Wing', 'Gavin Hain', '2021-10-23-North Dakota-Quinnipiac'), ('North Dakota', 3, 'Center', 'Louis Jamernik', '2021-10-23-North Dakota-Quinnipiac')  ... displaying 10 of 42 total bound parameter sets ...  ('Quinnipiac', 'Goalie 1', 'Goalie', 'Dylan St. Cyr', '2021-10-23-North Dakota-Quinnipiac'), ('Quinnipiac', 'Goalie 2', 'Goalie', 'Yaniv Perets', '2021-10-23-North Dakota-Quinnipiac')]]\n",
      "(Background on this error at: https://sqlalche.me/e/20/e3q8)\n"
     ]
    },
    {
     "name": "stderr",
     "output_type": "stream",
     "text": [
      "Scraping games:  14%|█▍        | 153/1106 [07:11<45:48,  2.88s/it]"
     ]
    },
    {
     "name": "stdout",
     "output_type": "stream",
     "text": [
      "Error saving to table line_chart: (sqlite3.OperationalError) table line_chart has no column named Team\n",
      "[SQL: INSERT INTO line_chart (\"Team\", \"Line\", \"Position\", \"Player\", \"Game_ID\") VALUES (?, ?, ?, ?, ?)]\n",
      "[parameters: [('Michigan', 1, 'Left Wing', 'Kent Johnson', '2021-10-23-Michigan-Western Michigan'), ('Michigan', 1, 'Center', 'Matty Beniers', '2021-10-23-Michigan-Western Michigan'), ('Michigan', 1, 'Right Wing', 'Nick Granowicz', '2021-10-23-Michigan-Western Michigan'), ('Michigan', 2, 'Left Wing', 'Michael Pastujov', '2021-10-23-Michigan-Western Michigan'), ('Michigan', 2, 'Center', 'Thomas Bordeleau', '2021-10-23-Michigan-Western Michigan'), ('Michigan', 2, 'Right Wing', 'Brendan Brisson', '2021-10-23-Michigan-Western Michigan'), ('Michigan', 3, 'Left Wing', 'Mark Estapa', '2021-10-23-Michigan-Western Michigan'), ('Michigan', 3, 'Center', 'Garrett Van Wyhe', '2021-10-23-Michigan-Western Michigan')  ... displaying 10 of 44 total bound parameter sets ...  ('Western Michigan', 'Goalie 2', 'Goalie', 'Alex Aslanidis', '2021-10-23-Michigan-Western Michigan'), ('Western Michigan', 'Goalie 3', 'Goalie', 'Ross Hawryluk', '2021-10-23-Michigan-Western Michigan')]]\n",
      "(Background on this error at: https://sqlalche.me/e/20/e3q8)\n"
     ]
    },
    {
     "name": "stderr",
     "output_type": "stream",
     "text": [
      "Scraping games:  14%|█▍        | 154/1106 [07:14<45:34,  2.87s/it]"
     ]
    },
    {
     "name": "stdout",
     "output_type": "stream",
     "text": [
      "Error saving to table line_chart: (sqlite3.OperationalError) table line_chart has no column named Team\n",
      "[SQL: INSERT INTO line_chart (\"Team\", \"Line\", \"Position\", \"Player\", \"Game_ID\") VALUES (?, ?, ?, ?, ?)]\n",
      "[parameters: [('Rensselaer', 1, 'Left Wing', 'Ottoville Leppanen', '2021-10-23-Rensselaer-Vermont'), ('Rensselaer', 1, 'Center', 'Ture Linden', '2021-10-23-Rensselaer-Vermont'), ('Rensselaer', 1, 'Right Wing', 'Ryan Mahshie', '2021-10-23-Rensselaer-Vermont'), ('Rensselaer', 2, 'Left Wing', 'Justin Addamo', '2021-10-23-Rensselaer-Vermont'), ('Rensselaer', 2, 'Center', 'John Beaton', '2021-10-23-Rensselaer-Vermont'), ('Rensselaer', 2, 'Right Wing', 'Jack Brackett', '2021-10-23-Rensselaer-Vermont'), ('Rensselaer', 3, 'Left Wing', 'Shane Sellar', '2021-10-23-Rensselaer-Vermont'), ('Rensselaer', 3, 'Center', 'Rory Herrman', '2021-10-23-Rensselaer-Vermont')  ... displaying 10 of 43 total bound parameter sets ...  ('Vermont', 'Goalie 2', 'Goalie', 'Gabe Carriere', '2021-10-23-Rensselaer-Vermont'), ('Vermont', 'Goalie 3', 'Goalie', 'Cole Hudson', '2021-10-23-Rensselaer-Vermont')]]\n",
      "(Background on this error at: https://sqlalche.me/e/20/e3q8)\n"
     ]
    },
    {
     "name": "stderr",
     "output_type": "stream",
     "text": [
      "Scraping games:  14%|█▍        | 155/1106 [07:17<46:03,  2.91s/it]"
     ]
    },
    {
     "name": "stdout",
     "output_type": "stream",
     "text": [
      "Error saving to table line_chart: (sqlite3.OperationalError) table line_chart has no column named Team\n",
      "[SQL: INSERT INTO line_chart (\"Team\", \"Line\", \"Position\", \"Player\", \"Game_ID\") VALUES (?, ?, ?, ?, ?)]\n",
      "[parameters: [('Bowling Green', 1, 'Left Wing', 'Brayden Krieger', '2021-10-23-Miami-Bowling Green'), ('Bowling Green', 1, 'Center', 'Ethan Scardina', '2021-10-23-Miami-Bowling Green'), ('Bowling Green', 1, 'Right Wing', 'Seth Fyten', '2021-10-23-Miami-Bowling Green'), ('Bowling Green', 2, 'Left Wing', 'Coale Norris', '2021-10-23-Miami-Bowling Green'), ('Bowling Green', 2, 'Center', 'Austen Swankler', '2021-10-23-Miami-Bowling Green'), ('Bowling Green', 2, 'Right Wing', 'Nathan Burke', '2021-10-23-Miami-Bowling Green'), ('Bowling Green', 3, 'Left Wing', 'Sam Craggs', '2021-10-23-Miami-Bowling Green'), ('Bowling Green', 3, 'Center', 'Taylor Schneider', '2021-10-23-Miami-Bowling Green')  ... displaying 10 of 43 total bound parameter sets ...  ('Miami', 'Goalie 1', 'Goalie', 'Ludvig Persson', '2021-10-23-Miami-Bowling Green'), ('Miami', 'Goalie 2', 'Goalie', 'Logan Neaton', '2021-10-23-Miami-Bowling Green')]]\n",
      "(Background on this error at: https://sqlalche.me/e/20/e3q8)\n"
     ]
    },
    {
     "name": "stderr",
     "output_type": "stream",
     "text": [
      "Scraping games:  14%|█▍        | 156/1106 [07:20<46:02,  2.91s/it]"
     ]
    },
    {
     "name": "stdout",
     "output_type": "stream",
     "text": [
      "Error saving to table line_chart: (sqlite3.OperationalError) table line_chart has no column named Team\n",
      "[SQL: INSERT INTO line_chart (\"Team\", \"Line\", \"Position\", \"Player\", \"Game_ID\") VALUES (?, ?, ?, ?, ?)]\n",
      "[parameters: [('Minnesota', 1, 'Left Wing', 'Blake McLaughlin', '2021-10-23-Minnesota-Minnesota-Duluth'), ('Minnesota', 1, 'Center', 'Sammy Walker', '2021-10-23-Minnesota-Minnesota-Duluth'), ('Minnesota', 1, 'Right Wing', 'Bryce Brodzinski', '2021-10-23-Minnesota-Minnesota-Duluth'), ('Minnesota', 2, 'Left Wing', 'Matthew Knies', '2021-10-23-Minnesota-Minnesota-Duluth'), ('Minnesota', 2, 'Center', 'Ben Meyers', '2021-10-23-Minnesota-Minnesota-Duluth'), ('Minnesota', 2, 'Right Wing', 'Mason Nevers', '2021-10-23-Minnesota-Minnesota-Duluth'), ('Minnesota', 3, 'Left Wing', 'Tristan Broz', '2021-10-23-Minnesota-Minnesota-Duluth'), ('Minnesota', 3, 'Center', 'Aaron Huglen', '2021-10-23-Minnesota-Minnesota-Duluth')  ... displaying 10 of 42 total bound parameter sets ...  ('Minnesota-Duluth', 'Goalie 1', 'Goalie', 'Ben Patt', '2021-10-23-Minnesota-Minnesota-Duluth'), ('Minnesota-Duluth', 'Goalie 2', 'Goalie', 'Ryan Fanti', '2021-10-23-Minnesota-Minnesota-Duluth')]]\n",
      "(Background on this error at: https://sqlalche.me/e/20/e3q8)\n"
     ]
    },
    {
     "name": "stderr",
     "output_type": "stream",
     "text": [
      "Scraping games:  14%|█▍        | 157/1106 [07:23<45:26,  2.87s/it]"
     ]
    },
    {
     "name": "stdout",
     "output_type": "stream",
     "text": [
      "Error saving to table line_chart: (sqlite3.OperationalError) table line_chart has no column named Team\n",
      "[SQL: INSERT INTO line_chart (\"Team\", \"Line\", \"Position\", \"Player\", \"Game_ID\") VALUES (?, ?, ?, ?, ?)]\n",
      "[parameters: [('Bemidji State', 1, 'Left Wing', 'Jakub Lewandowski', '2021-10-23-Bemidji State-Northern Michigan'), ('Bemidji State', 1, 'Center', 'Owen Sillinger', '2021-10-23-Bemidji State-Northern Michigan'), ('Bemidji State', 1, 'Right Wing', 'Alex Ierullo', '2021-10-23-Bemidji State-Northern Michigan'), ('Bemidji State', 2, 'Left Wing', 'Ethan Somoza', '2021-10-23-Bemidji State-Northern Michigan'), ('Bemidji State', 2, 'Center', 'Ross Armour', '2021-10-23-Bemidji State-Northern Michigan'), ('Bemidji State', 2, 'Right Wing', 'Eric Martin', '2021-10-23-Bemidji State-Northern Michigan'), ('Bemidji State', 3, 'Left Wing', 'Lukas Sillinger', '2021-10-23-Bemidji State-Northern Michigan'), ('Bemidji State', 3, 'Center', 'Tyler Kirkup', '2021-10-23-Bemidji State-Northern Michigan')  ... displaying 10 of 40 total bound parameter sets ...  ('Northern Michigan', 1, 'Extra', 'Alex', '2021-10-23-Bemidji State-Northern Michigan'), ('Northern Michigan', 'Goalie 1', 'Goalie', 'Rico DiMatteo', '2021-10-23-Bemidji State-Northern Michigan')]]\n",
      "(Background on this error at: https://sqlalche.me/e/20/e3q8)\n"
     ]
    },
    {
     "name": "stderr",
     "output_type": "stream",
     "text": [
      "Scraping games:  14%|█▍        | 158/1106 [07:26<45:34,  2.88s/it]"
     ]
    },
    {
     "name": "stdout",
     "output_type": "stream",
     "text": [
      "Error saving to table line_chart: (sqlite3.OperationalError) table line_chart has no column named Team\n",
      "[SQL: INSERT INTO line_chart (\"Team\", \"Line\", \"Position\", \"Player\", \"Game_ID\") VALUES (?, ?, ?, ?, ?)]\n",
      "[parameters: [('Ferris State', 1, 'Left Wing', 'Liam MacDougall', '2021-10-23-Ferris State-St. Thomas'), ('Ferris State', 1, 'Center', 'Dallas Tulik', '2021-10-23-Ferris State-St. Thomas'), ('Ferris State', 1, 'Right Wing', 'Justin Michaelian', '2021-10-23-Ferris State-St. Thomas'), ('Ferris State', 2, 'Left Wing', 'Mitch Deelstra', '2021-10-23-Ferris State-St. Thomas'), ('Ferris State', 2, 'Center', 'Stepan Pokorny', '2021-10-23-Ferris State-St. Thomas'), ('Ferris State', 2, 'Right Wing', 'Ethan Stewart', '2021-10-23-Ferris State-St. Thomas'), ('Ferris State', 3, 'Left Wing', 'Antonio Venuto', '2021-10-23-Ferris State-St. Thomas'), ('Ferris State', 3, 'Center', 'Bradley Marek', '2021-10-23-Ferris State-St. Thomas')  ... displaying 10 of 40 total bound parameter sets ...  ('St. Thomas', 1, 'Extra', 'Trevor', '2021-10-23-Ferris State-St. Thomas'), ('St. Thomas', 'Goalie 1', 'Goalie', 'Peter Thome', '2021-10-23-Ferris State-St. Thomas')]]\n",
      "(Background on this error at: https://sqlalche.me/e/20/e3q8)\n"
     ]
    },
    {
     "name": "stderr",
     "output_type": "stream",
     "text": [
      "Scraping games:  14%|█▍        | 159/1106 [07:29<45:12,  2.86s/it]"
     ]
    },
    {
     "name": "stdout",
     "output_type": "stream",
     "text": [
      "Error saving to table line_chart: (sqlite3.OperationalError) table line_chart has no column named Team\n",
      "[SQL: INSERT INTO line_chart (\"Team\", \"Line\", \"Position\", \"Player\", \"Game_ID\") VALUES (?, ?, ?, ?, ?)]\n",
      "[parameters: [('Boston University', 1, 'Left Wing', 'Robert Mastrosimone', '2021-10-23-Merrimack-Boston University'), ('Boston University', 1, 'Center', 'Wilmer Skoog', '2021-10-23-Merrimack-Boston University'), ('Boston University', 1, 'Right Wing', 'Ethan Phillips', '2021-10-23-Merrimack-Boston University'), ('Boston University', 2, 'Left Wing', 'Logan Cockerill', '2021-10-23-Merrimack-Boston University'), ('Boston University', 2, 'Center', 'Ty Amonte', '2021-10-23-Merrimack-Boston University'), ('Boston University', 2, 'Right Wing', 'Tyler Boucher', '2021-10-23-Merrimack-Boston University'), ('Boston University', 3, 'Left Wing', 'Jamie Armstrong', '2021-10-23-Merrimack-Boston University'), ('Boston University', 3, 'Center', 'Nick Zabaneh', '2021-10-23-Merrimack-Boston University')  ... displaying 10 of 43 total bound parameter sets ...  ('Merrimack', 'Goalie 1', 'Goalie', 'Troy Kobryn', '2021-10-23-Merrimack-Boston University'), ('Merrimack', 'Goalie 2', 'Goalie', 'Zachary Borgiel', '2021-10-23-Merrimack-Boston University')]]\n",
      "(Background on this error at: https://sqlalche.me/e/20/e3q8)\n"
     ]
    },
    {
     "name": "stderr",
     "output_type": "stream",
     "text": [
      "Scraping games:  15%|█▍        | 162/1106 [07:34<36:47,  2.34s/it]"
     ]
    },
    {
     "name": "stdout",
     "output_type": "stream",
     "text": [
      "Error saving to table line_chart: (sqlite3.OperationalError) table line_chart has no column named Team\n",
      "[SQL: INSERT INTO line_chart (\"Team\", \"Line\", \"Position\", \"Player\", \"Game_ID\") VALUES (?, ?, ?, ?, ?)]\n",
      "[parameters: [('New Hampshire', 1, 'Left Wing', 'Tyler Ward', '2021-10-24-Providence-New Hampshire'), ('New Hampshire', 1, 'Center', 'Jackson Pierson', '2021-10-24-Providence-New Hampshire'), ('New Hampshire', 1, 'Right Wing', 'Robert Cronin', '2021-10-24-Providence-New Hampshire'), ('New Hampshire', 2, 'Left Wing', 'Liam Devlin', '2021-10-24-Providence-New Hampshire'), ('New Hampshire', 2, 'Center', 'Filip Engaras', '2021-10-24-Providence-New Hampshire'), ('New Hampshire', 2, 'Right Wing', 'Eric MacAdams', '2021-10-24-Providence-New Hampshire'), ('New Hampshire', 3, 'Left Wing', 'Will Margel', '2021-10-24-Providence-New Hampshire'), ('New Hampshire', 3, 'Center', 'Harrison Blaisdell', '2021-10-24-Providence-New Hampshire')  ... displaying 10 of 45 total bound parameter sets ...  ('Providence', 'Goalie 2', 'Goalie', 'Jimmy Scannell', '2021-10-24-Providence-New Hampshire'), ('Providence', 'Goalie 3', 'Goalie', 'Jaxson Stauber', '2021-10-24-Providence-New Hampshire')]]\n",
      "(Background on this error at: https://sqlalche.me/e/20/e3q8)\n"
     ]
    },
    {
     "name": "stderr",
     "output_type": "stream",
     "text": [
      "Scraping games:  15%|█▍        | 163/1106 [07:37<39:24,  2.51s/it]"
     ]
    },
    {
     "name": "stdout",
     "output_type": "stream",
     "text": [
      "Error saving to table line_chart: (sqlite3.OperationalError) table line_chart has no column named Team\n",
      "[SQL: INSERT INTO line_chart (\"Team\", \"Line\", \"Position\", \"Player\", \"Game_ID\") VALUES (?, ?, ?, ?, ?)]\n",
      "[parameters: [('Connecticut', 1, 'Left Wing', 'Marc Gatcomb', '2021-10-26-Connecticut-Northeastern'), ('Connecticut', 1, 'Center', 'Jachym Kondelik', '2021-10-26-Connecticut-Northeastern'), ('Connecticut', 1, 'Right Wing', 'Jonny Evans', '2021-10-26-Connecticut-Northeastern'), ('Connecticut', 2, 'Left Wing', 'Vladislav Firstov', '2021-10-26-Connecticut-Northeastern'), ('Connecticut', 2, 'Center', 'Artem Shlaine', '2021-10-26-Connecticut-Northeastern'), ('Connecticut', 2, 'Right Wing', 'Ryan Tverberg', '2021-10-26-Connecticut-Northeastern'), ('Connecticut', 3, 'Left Wing', 'Carter Turnbull', '2021-10-26-Connecticut-Northeastern'), ('Connecticut', 3, 'Center', \"Kevin O'Neil\", '2021-10-26-Connecticut-Northeastern')  ... displaying 10 of 45 total bound parameter sets ...  ('Northeastern', 'Goalie 2', 'Goalie', 'Devon Levi', '2021-10-26-Connecticut-Northeastern'), ('Northeastern', 'Goalie 3', 'Goalie', 'TJ Semptimphelter', '2021-10-26-Connecticut-Northeastern')]]\n",
      "(Background on this error at: https://sqlalche.me/e/20/e3q8)\n"
     ]
    },
    {
     "name": "stderr",
     "output_type": "stream",
     "text": [
      "Scraping games:  15%|█▍        | 164/1106 [07:40<41:28,  2.64s/it]"
     ]
    },
    {
     "name": "stdout",
     "output_type": "stream",
     "text": [
      "Error saving to table line_chart: (sqlite3.OperationalError) table line_chart has no column named Team\n",
      "[SQL: INSERT INTO line_chart (\"Team\", \"Line\", \"Position\", \"Player\", \"Game_ID\") VALUES (?, ?, ?, ?, ?)]\n",
      "[parameters: [('Holy Cross', 1, 'Left Wing', 'Jack Ricketts', '2021-10-26-Holy Cross-Quinnipiac'), ('Holy Cross', 1, 'Center', 'Matt Guerra', '2021-10-26-Holy Cross-Quinnipiac'), ('Holy Cross', 1, 'Right Wing', 'Alex Peterson', '2021-10-26-Holy Cross-Quinnipiac'), ('Holy Cross', 2, 'Left Wing', 'Tyler Ghirardosi', '2021-10-26-Holy Cross-Quinnipiac'), ('Holy Cross', 2, 'Center', 'Ryan Leibold', '2021-10-26-Holy Cross-Quinnipiac'), ('Holy Cross', 2, 'Right Wing', 'Anthony Vincent', '2021-10-26-Holy Cross-Quinnipiac'), ('Holy Cross', 3, 'Left Wing', 'John Gelatt', '2021-10-26-Holy Cross-Quinnipiac'), ('Holy Cross', 3, 'Center', 'Daniel Colabufo', '2021-10-26-Holy Cross-Quinnipiac')  ... displaying 10 of 44 total bound parameter sets ...  ('Quinnipiac', 'Goalie 2', 'Goalie', 'Yaniv Perets', '2021-10-26-Holy Cross-Quinnipiac'), ('Quinnipiac', 'Goalie 3', 'Goalie', 'Noah Altman', '2021-10-26-Holy Cross-Quinnipiac')]]\n",
      "(Background on this error at: https://sqlalche.me/e/20/e3q8)\n"
     ]
    },
    {
     "name": "stderr",
     "output_type": "stream",
     "text": [
      "Scraping games:  15%|█▌        | 166/1106 [07:46<42:27,  2.71s/it]"
     ]
    },
    {
     "name": "stdout",
     "output_type": "stream",
     "text": [
      "Error saving to table line_chart: (sqlite3.OperationalError) table line_chart has no column named Team\n",
      "[SQL: INSERT INTO line_chart (\"Team\", \"Line\", \"Position\", \"Player\", \"Game_ID\") VALUES (?, ?, ?, ?, ?)]\n",
      "[parameters: [('Niagara', 1, 'Left Wing', 'Walker Sommer', '2021-10-29-Niagara-Sacred Heart'), ('Niagara', 1, 'Center', 'Jack DeBoer', '2021-10-29-Niagara-Sacred Heart'), ('Niagara', 1, 'Right Wing', 'Brandon Stanley', '2021-10-29-Niagara-Sacred Heart'), ('Niagara', 2, 'Left Wing', 'Jon Hill', '2021-10-29-Niagara-Sacred Heart'), ('Niagara', 2, 'Center', 'Jason Pineo', '2021-10-29-Niagara-Sacred Heart'), ('Niagara', 2, 'Right Wing', 'Shane Ott', '2021-10-29-Niagara-Sacred Heart'), ('Niagara', 3, 'Left Wing', 'Ryan Naumovski', '2021-10-29-Niagara-Sacred Heart'), ('Niagara', 3, 'Center', 'Albin Nilsson', '2021-10-29-Niagara-Sacred Heart')  ... displaying 10 of 43 total bound parameter sets ...  ('Sacred Heart', 'Goalie 1', 'Goalie', 'Justin Robbins', '2021-10-29-Niagara-Sacred Heart'), ('Sacred Heart', 'Goalie 2', 'Goalie', \"Jack O'Dea\", '2021-10-29-Niagara-Sacred Heart')]]\n",
      "(Background on this error at: https://sqlalche.me/e/20/e3q8)\n"
     ]
    },
    {
     "name": "stderr",
     "output_type": "stream",
     "text": [
      "Scraping games:  15%|█▌        | 167/1106 [07:49<43:59,  2.81s/it]"
     ]
    },
    {
     "name": "stdout",
     "output_type": "stream",
     "text": [
      "Error saving to table line_chart: (sqlite3.OperationalError) table line_chart has no column named Team\n",
      "[SQL: INSERT INTO line_chart (\"Team\", \"Line\", \"Position\", \"Player\", \"Game_ID\") VALUES (?, ?, ?, ?, ?)]\n",
      "[parameters: [('Mercyhurst', 1, 'Left Wing', 'Pierce Crawford', '2021-10-29-Mercyhurst-RIT'), ('Mercyhurst', 1, 'Center', 'Steven Ipri', '2021-10-29-Mercyhurst-RIT'), ('Mercyhurst', 1, 'Right Wing', 'Rylee St. Onge', '2021-10-29-Mercyhurst-RIT'), ('Mercyhurst', 2, 'Left Wing', 'Austin Heidemann', '2021-10-29-Mercyhurst-RIT'), ('Mercyhurst', 2, 'Center', 'Carson Briere', '2021-10-29-Mercyhurst-RIT'), ('Mercyhurst', 2, 'Right Wing', 'Dante Sheriff', '2021-10-29-Mercyhurst-RIT'), ('Mercyhurst', 3, 'Left Wing', 'Jonathan Bendorf', '2021-10-29-Mercyhurst-RIT'), ('Mercyhurst', 3, 'Center', 'Gueorgui Feduolov', '2021-10-29-Mercyhurst-RIT')  ... displaying 10 of 43 total bound parameter sets ...  ('RIT', 'Goalie 2', 'Goalie', 'Daniel Chenard', '2021-10-29-Mercyhurst-RIT'), ('RIT', 'Goalie 3', 'Goalie', 'Tommy Scarfone', '2021-10-29-Mercyhurst-RIT')]]\n",
      "(Background on this error at: https://sqlalche.me/e/20/e3q8)\n"
     ]
    },
    {
     "name": "stderr",
     "output_type": "stream",
     "text": [
      "Scraping games:  15%|█▌        | 168/1106 [07:52<44:00,  2.81s/it]"
     ]
    },
    {
     "name": "stdout",
     "output_type": "stream",
     "text": [
      "Error saving to table line_chart: (sqlite3.OperationalError) table line_chart has no column named Team\n",
      "[SQL: INSERT INTO line_chart (\"Team\", \"Line\", \"Position\", \"Player\", \"Game_ID\") VALUES (?, ?, ?, ?, ?)]\n",
      "[parameters: [('Michigan State', 1, 'Left Wing', 'Erik Middendorf', '2021-10-29-Michigan State-Ohio State'), ('Michigan State', 1, 'Center', 'Josh Nodler', '2021-10-29-Michigan State-Ohio State'), ('Michigan State', 1, 'Right Wing', 'Griffin Loughran', '2021-10-29-Michigan State-Ohio State'), ('Michigan State', 2, 'Left Wing', 'Jesse Tucker', '2021-10-29-Michigan State-Ohio State'), ('Michigan State', 2, 'Center', 'Kristof Papp', '2021-10-29-Michigan State-Ohio State'), ('Michigan State', 2, 'Right Wing', 'Jeremy Davidson', '2021-10-29-Michigan State-Ohio State'), ('Michigan State', 3, 'Left Wing', 'Jagger Joshua', '2021-10-29-Michigan State-Ohio State'), ('Michigan State', 3, 'Center', 'Nicolas Muller', '2021-10-29-Michigan State-Ohio State')  ... displaying 10 of 43 total bound parameter sets ...  ('Ohio State', 'Goalie 1', 'Goalie', 'Jakub Dobeš', '2021-10-29-Michigan State-Ohio State'), ('Ohio State', 'Goalie 2', 'Goalie', 'Reilly Herbst', '2021-10-29-Michigan State-Ohio State')]]\n",
      "(Background on this error at: https://sqlalche.me/e/20/e3q8)\n"
     ]
    },
    {
     "name": "stderr",
     "output_type": "stream",
     "text": [
      "Scraping games:  15%|█▌        | 169/1106 [07:55<44:34,  2.85s/it]"
     ]
    },
    {
     "name": "stdout",
     "output_type": "stream",
     "text": [
      "Error saving to table line_chart: (sqlite3.OperationalError) table line_chart has no column named Team\n",
      "[SQL: INSERT INTO line_chart (\"Team\", \"Line\", \"Position\", \"Player\", \"Game_ID\") VALUES (?, ?, ?, ?, ?)]\n",
      "[parameters: [('Michigan', 1, 'Left Wing', 'Kent Johnson', '2021-10-29-Wisconsin-Michigan'), ('Michigan', 1, 'Center', 'Matty Beniers', '2021-10-29-Wisconsin-Michigan'), ('Michigan', 1, 'Right Wing', 'Mackie Samoskevich', '2021-10-29-Wisconsin-Michigan'), ('Michigan', 2, 'Left Wing', 'Michael Pastujov', '2021-10-29-Wisconsin-Michigan'), ('Michigan', 2, 'Center', 'Thomas Bordeleau', '2021-10-29-Wisconsin-Michigan'), ('Michigan', 2, 'Right Wing', 'Brendan Brisson', '2021-10-29-Wisconsin-Michigan'), ('Michigan', 3, 'Left Wing', 'Dylan Duke', '2021-10-29-Wisconsin-Michigan'), ('Michigan', 3, 'Center', 'Jimmy Lambert', '2021-10-29-Wisconsin-Michigan')  ... displaying 10 of 44 total bound parameter sets ...  ('Wisconsin', 'Goalie 2', 'Goalie', 'Cameron Rowe', '2021-10-29-Wisconsin-Michigan'), ('Wisconsin', 'Goalie 3', 'Goalie', 'Ben Garrity', '2021-10-29-Wisconsin-Michigan')]]\n",
      "(Background on this error at: https://sqlalche.me/e/20/e3q8)\n"
     ]
    },
    {
     "name": "stderr",
     "output_type": "stream",
     "text": [
      "Scraping games:  15%|█▌        | 170/1106 [07:58<44:55,  2.88s/it]"
     ]
    },
    {
     "name": "stdout",
     "output_type": "stream",
     "text": [
      "Error saving to table line_chart: (sqlite3.OperationalError) table line_chart has no column named Team\n",
      "[SQL: INSERT INTO line_chart (\"Team\", \"Line\", \"Position\", \"Player\", \"Game_ID\") VALUES (?, ?, ?, ?, ?)]\n",
      "[parameters: [('Minnesota', 1, 'Left Wing', 'Blake McLaughlin', '2021-10-29-Notre Dame-Minnesota'), ('Minnesota', 1, 'Center', 'Sammy Walker', '2021-10-29-Notre Dame-Minnesota'), ('Minnesota', 1, 'Right Wing', 'Bryce Brodzinski', '2021-10-29-Notre Dame-Minnesota'), ('Minnesota', 2, 'Left Wing', 'Grant Cruikshank', '2021-10-29-Notre Dame-Minnesota'), ('Minnesota', 2, 'Center', 'Jaxon Nelson', '2021-10-29-Notre Dame-Minnesota'), ('Minnesota', 2, 'Right Wing', 'Aaron Huglen', '2021-10-29-Notre Dame-Minnesota'), ('Minnesota', 3, 'Left Wing', 'Matthew Knies', '2021-10-29-Notre Dame-Minnesota'), ('Minnesota', 3, 'Center', 'Ben Meyers', '2021-10-29-Notre Dame-Minnesota')  ... displaying 10 of 45 total bound parameter sets ...  ('Notre Dame', 'Goalie 2', 'Goalie', 'Matthew Galajda', '2021-10-29-Notre Dame-Minnesota'), ('Notre Dame', 'Goalie 3', 'Goalie', 'Josh Graziano', '2021-10-29-Notre Dame-Minnesota')]]\n",
      "(Background on this error at: https://sqlalche.me/e/20/e3q8)\n"
     ]
    },
    {
     "name": "stderr",
     "output_type": "stream",
     "text": [
      "Scraping games:  15%|█▌        | 171/1106 [08:00<44:52,  2.88s/it]"
     ]
    },
    {
     "name": "stdout",
     "output_type": "stream",
     "text": [
      "Error saving to table line_chart: (sqlite3.OperationalError) table line_chart has no column named Team\n",
      "[SQL: INSERT INTO line_chart (\"Team\", \"Line\", \"Position\", \"Player\", \"Game_ID\") VALUES (?, ?, ?, ?, ?)]\n",
      "[parameters: [('Rensselaer', 1, 'Left Wing', 'Ottoville Leppanen', '2021-10-29-Rensselaer-Union'), ('Rensselaer', 1, 'Center', 'Ture Linden', '2021-10-29-Rensselaer-Union'), ('Rensselaer', 1, 'Right Wing', 'Ryan Mahshie', '2021-10-29-Rensselaer-Union'), ('Rensselaer', 2, 'Left Wing', 'Shane Sellar', '2021-10-29-Rensselaer-Union'), ('Rensselaer', 2, 'Center', 'John Beaton', '2021-10-29-Rensselaer-Union'), ('Rensselaer', 2, 'Right Wing', 'Jakub Lacka', '2021-10-29-Rensselaer-Union'), ('Rensselaer', 3, 'Left Wing', 'Justin Addamo', '2021-10-29-Rensselaer-Union'), ('Rensselaer', 3, 'Center', 'Zach Dubinsky', '2021-10-29-Rensselaer-Union')  ... displaying 10 of 44 total bound parameter sets ...  ('Union', 'Goalie 2', 'Goalie', 'Connor Murphy', '2021-10-29-Rensselaer-Union'), ('Union', 'Goalie 3', 'Goalie', 'Joe Sharib', '2021-10-29-Rensselaer-Union')]]\n",
      "(Background on this error at: https://sqlalche.me/e/20/e3q8)\n"
     ]
    },
    {
     "name": "stderr",
     "output_type": "stream",
     "text": [
      "Scraping games:  16%|█▌        | 172/1106 [08:03<44:33,  2.86s/it]"
     ]
    },
    {
     "name": "stdout",
     "output_type": "stream",
     "text": [
      "Error saving to table line_chart: (sqlite3.OperationalError) table line_chart has no column named Team\n",
      "[SQL: INSERT INTO line_chart (\"Team\", \"Line\", \"Position\", \"Player\", \"Game_ID\") VALUES (?, ?, ?, ?, ?)]\n",
      "[parameters: [('Dartmouth', 1, 'Left Wing', 'Ryan Sorkin', '2021-10-29-Harvard-Dartmouth'), ('Dartmouth', 1, 'Center', 'Trym Lokkeberg', '2021-10-29-Harvard-Dartmouth'), ('Dartmouth', 1, 'Right Wing', 'Steven Townley', '2021-10-29-Harvard-Dartmouth'), ('Dartmouth', 2, 'Left Wing', 'Joey Musa', '2021-10-29-Harvard-Dartmouth'), ('Dartmouth', 2, 'Center', 'Tyler Campbell', '2021-10-29-Harvard-Dartmouth'), ('Dartmouth', 2, 'Right Wing', 'Braiden Dorfman', '2021-10-29-Harvard-Dartmouth'), ('Dartmouth', 3, 'Left Wing', 'Matt Hubbarde', '2021-10-29-Harvard-Dartmouth'), ('Dartmouth', 3, 'Center', 'Sam Hesler', '2021-10-29-Harvard-Dartmouth')  ... displaying 10 of 44 total bound parameter sets ...  ('Harvard', 'Goalie 2', 'Goalie', 'Derek Mullahy', '2021-10-29-Harvard-Dartmouth'), ('Harvard', 'Goalie 3', 'Goalie', 'Mitchell Gibson', '2021-10-29-Harvard-Dartmouth')]]\n",
      "(Background on this error at: https://sqlalche.me/e/20/e3q8)\n"
     ]
    },
    {
     "name": "stderr",
     "output_type": "stream",
     "text": [
      "Scraping games:  16%|█▌        | 174/1106 [08:09<44:24,  2.86s/it]"
     ]
    },
    {
     "name": "stdout",
     "output_type": "stream",
     "text": [
      "Error saving to table line_chart: (sqlite3.OperationalError) table line_chart has no column named Team\n",
      "[SQL: INSERT INTO line_chart (\"Team\", \"Line\", \"Position\", \"Player\", \"Game_ID\") VALUES (?, ?, ?, ?, ?)]\n",
      "[parameters: [('Massachusetts', 1, 'Left Wing', 'Bobby Trivigno', '2021-10-29-Massachusetts-Merrimack'), ('Massachusetts', 1, 'Center', 'Josh Lopina', '2021-10-29-Massachusetts-Merrimack'), ('Massachusetts', 1, 'Right Wing', 'Cam Donaldson', '2021-10-29-Massachusetts-Merrimack'), ('Massachusetts', 2, 'Left Wing', 'Cal Kiefiuk', '2021-10-29-Massachusetts-Merrimack'), ('Massachusetts', 2, 'Center', 'Eric Faith', '2021-10-29-Massachusetts-Merrimack'), ('Massachusetts', 2, 'Right Wing', 'Anthony Del Gaizo', '2021-10-29-Massachusetts-Merrimack'), ('Massachusetts', 3, 'Left Wing', 'Oliver MacDonald', '2021-10-29-Massachusetts-Merrimack'), ('Massachusetts', 3, 'Center', 'Matt Baker', '2021-10-29-Massachusetts-Merrimack')  ... displaying 10 of 43 total bound parameter sets ...  ('Merrimack', 'Goalie 2', 'Goalie', 'Zachary Borgiel', '2021-10-29-Massachusetts-Merrimack'), ('Merrimack', 'Goalie 3', 'Goalie', 'Hugo Ollas', '2021-10-29-Massachusetts-Merrimack')]]\n",
      "(Background on this error at: https://sqlalche.me/e/20/e3q8)\n"
     ]
    },
    {
     "name": "stderr",
     "output_type": "stream",
     "text": [
      "Scraping games:  16%|█▌        | 175/1106 [08:12<44:31,  2.87s/it]"
     ]
    },
    {
     "name": "stdout",
     "output_type": "stream",
     "text": [
      "Error saving to table line_chart: (sqlite3.OperationalError) table line_chart has no column named Team\n",
      "[SQL: INSERT INTO line_chart (\"Team\", \"Line\", \"Position\", \"Player\", \"Game_ID\") VALUES (?, ?, ?, ?, ?)]\n",
      "[parameters: [('New Hampshire', 1, 'Left Wing', 'Harrison Blaisdell', '2021-10-29-New Hampshire-Providence'), ('New Hampshire', 1, 'Center', 'Jackson Pierson', '2021-10-29-New Hampshire-Providence'), ('New Hampshire', 1, 'Right Wing', 'Robert Cronin', '2021-10-29-New Hampshire-Providence'), ('New Hampshire', 2, 'Left Wing', 'Tyler Ward', '2021-10-29-New Hampshire-Providence'), ('New Hampshire', 2, 'Center', 'Filip Engaras', '2021-10-29-New Hampshire-Providence'), ('New Hampshire', 2, 'Right Wing', 'Eric MacAdams', '2021-10-29-New Hampshire-Providence'), ('New Hampshire', 3, 'Left Wing', 'Liam Devlin', '2021-10-29-New Hampshire-Providence'), ('New Hampshire', 3, 'Center', 'Chase Stevenson', '2021-10-29-New Hampshire-Providence')  ... displaying 10 of 44 total bound parameter sets ...  ('Providence', 'Goalie 2', 'Goalie', 'Jimmy Scannell', '2021-10-29-New Hampshire-Providence'), ('Providence', 'Goalie 3', 'Goalie', 'Jaxson Stauber', '2021-10-29-New Hampshire-Providence')]]\n",
      "(Background on this error at: https://sqlalche.me/e/20/e3q8)\n"
     ]
    },
    {
     "name": "stderr",
     "output_type": "stream",
     "text": [
      "Scraping games:  16%|█▌        | 176/1106 [08:15<44:28,  2.87s/it]"
     ]
    },
    {
     "name": "stdout",
     "output_type": "stream",
     "text": [
      "Error saving to table line_chart: (sqlite3.OperationalError) table line_chart has no column named Team\n",
      "[SQL: INSERT INTO line_chart (\"Team\", \"Line\", \"Position\", \"Player\", \"Game_ID\") VALUES (?, ?, ?, ?, ?)]\n",
      "[parameters: [('Boston College', 1, 'Left Wing', 'Brandon Kruse', '2021-10-29-Boston College-Vermont'), ('Boston College', 1, 'Center', 'Jack McBain', '2021-10-29-Boston College-Vermont'), ('Boston College', 1, 'Right Wing', 'Nikita Nesterenko', '2021-10-29-Boston College-Vermont'), ('Boston College', 2, 'Left Wing', 'Trevor Kuntar', '2021-10-29-Boston College-Vermont'), ('Boston College', 2, 'Center', 'Marc McLaughlin', '2021-10-29-Boston College-Vermont'), ('Boston College', 2, 'Right Wing', 'Colby Ambrosio', '2021-10-29-Boston College-Vermont'), ('Boston College', 3, 'Left Wing', 'Mike Posma', '2021-10-29-Boston College-Vermont'), ('Boston College', 3, 'Center', 'Patrick Giles', '2021-10-29-Boston College-Vermont')  ... displaying 10 of 43 total bound parameter sets ...  ('Vermont', 'Goalie 2', 'Goalie', 'Gabe Carriere', '2021-10-29-Boston College-Vermont'), ('Vermont', 'Goalie 3', 'Goalie', 'Cole Hudson', '2021-10-29-Boston College-Vermont')]]\n",
      "(Background on this error at: https://sqlalche.me/e/20/e3q8)\n"
     ]
    },
    {
     "name": "stderr",
     "output_type": "stream",
     "text": [
      "Scraping games:  16%|█▌        | 177/1106 [08:17<43:44,  2.82s/it]"
     ]
    },
    {
     "name": "stdout",
     "output_type": "stream",
     "text": [
      "Error saving to table line_chart: (sqlite3.OperationalError) table line_chart has no column named Team\n",
      "[SQL: INSERT INTO line_chart (\"Team\", \"Line\", \"Position\", \"Player\", \"Game_ID\") VALUES (?, ?, ?, ?, ?)]\n",
      "[parameters: [('Boston University', 1, 'Left Wing', 'Robert Mastrosimone', '2021-10-29-Mass.-Lowell-Boston University'), ('Boston University', 1, 'Center', 'Wilmer Skoog', '2021-10-29-Mass.-Lowell-Boston University'), ('Boston University', 1, 'Right Wing', 'Ethan Phillips', '2021-10-29-Mass.-Lowell-Boston University'), ('Boston University', 2, 'Left Wing', 'Logan Cockerill', '2021-10-29-Mass.-Lowell-Boston University'), ('Boston University', 2, 'Center', 'Ty Amonte', '2021-10-29-Mass.-Lowell-Boston University'), ('Boston University', 2, 'Right Wing', 'Tyler Boucher', '2021-10-29-Mass.-Lowell-Boston University'), ('Boston University', 3, 'Left Wing', 'Jamie Armstrong', '2021-10-29-Mass.-Lowell-Boston University'), ('Boston University', 3, 'Center', 'Nick Zabaneh', '2021-10-29-Mass.-Lowell-Boston University')  ... displaying 10 of 43 total bound parameter sets ...  ('Mass.-Lowell', 'Goalie 2', 'Goalie', 'Henry Welsch', '2021-10-29-Mass.-Lowell-Boston University'), ('Mass.-Lowell', 'Goalie 3', 'Goalie', 'Edvard Nordlund', '2021-10-29-Mass.-Lowell-Boston University')]]\n",
      "(Background on this error at: https://sqlalche.me/e/20/e3q8)\n"
     ]
    },
    {
     "name": "stderr",
     "output_type": "stream",
     "text": [
      "Scraping games:  16%|█▌        | 178/1106 [08:20<44:00,  2.85s/it]"
     ]
    },
    {
     "name": "stdout",
     "output_type": "stream",
     "text": [
      "Error saving to table line_chart: (sqlite3.OperationalError) table line_chart has no column named Team\n",
      "[SQL: INSERT INTO line_chart (\"Team\", \"Line\", \"Position\", \"Player\", \"Game_ID\") VALUES (?, ?, ?, ?, ?)]\n",
      "[parameters: [('Canisius', 1, 'Left Wing', 'Mitchell Martan', '2021-10-29-Ferris State-Canisius'), ('Canisius', 1, 'Center', 'Lee Lapid', '2021-10-29-Ferris State-Canisius'), ('Canisius', 1, 'Right Wing', 'Keaton Mastrodonato', '2021-10-29-Ferris State-Canisius'), ('Canisius', 2, 'Left Wing', 'Max Kouznetsov', '2021-10-29-Ferris State-Canisius'), ('Canisius', 2, 'Center', 'Alex Ambrosio', '2021-10-29-Ferris State-Canisius'), ('Canisius', 2, 'Right Wing', 'J.D. Pogue', '2021-10-29-Ferris State-Canisius'), ('Canisius', 3, 'Left Wing', 'Daniel DiGrande', '2021-10-29-Ferris State-Canisius'), ('Canisius', 3, 'Center', 'Ryan Miotto', '2021-10-29-Ferris State-Canisius')  ... displaying 10 of 43 total bound parameter sets ...  ('Ferris State', 'Goalie 1', 'Goalie', 'Logan Stein', '2021-10-29-Ferris State-Canisius'), ('Ferris State', 'Goalie 2', 'Goalie', 'Roni Salmenkangas', '2021-10-29-Ferris State-Canisius')]]\n",
      "(Background on this error at: https://sqlalche.me/e/20/e3q8)\n"
     ]
    },
    {
     "name": "stderr",
     "output_type": "stream",
     "text": [
      "Scraping games:  16%|█▌        | 179/1106 [08:23<43:52,  2.84s/it]"
     ]
    },
    {
     "name": "stdout",
     "output_type": "stream",
     "text": [
      "Error saving to table line_chart: (sqlite3.OperationalError) table line_chart has no column named Team\n",
      "[SQL: INSERT INTO line_chart (\"Team\", \"Line\", \"Position\", \"Player\", \"Game_ID\") VALUES (?, ?, ?, ?, ?)]\n",
      "[parameters: [(\"American Int'l\", 1, 'Left Wing', 'Justin Cole', \"2021-10-29-Quinnipiac-American Int'l\"), (\"American Int'l\", 1, 'Center', 'Julius Janhonen', \"2021-10-29-Quinnipiac-American Int'l\"), (\"American Int'l\", 1, 'Right Wing', 'Blake Bennett', \"2021-10-29-Quinnipiac-American Int'l\"), (\"American Int'l\", 2, 'Left Wing', 'Chris Van Os-Shaw', \"2021-10-29-Quinnipiac-American Int'l\"), (\"American Int'l\", 2, 'Center', 'Brian Rigali', \"2021-10-29-Quinnipiac-American Int'l\"), (\"American Int'l\", 2, 'Right Wing', 'Santeri Hartikainen', \"2021-10-29-Quinnipiac-American Int'l\"), (\"American Int'l\", 3, 'Left Wing', 'Chris Theodore', \"2021-10-29-Quinnipiac-American Int'l\"), (\"American Int'l\", 3, 'Center', 'Elijiah Barriga', \"2021-10-29-Quinnipiac-American Int'l\")  ... displaying 10 of 44 total bound parameter sets ...  ('Quinnipiac', 'Goalie 2', 'Goalie', 'Yaniv Perets', \"2021-10-29-Quinnipiac-American Int'l\"), ('Quinnipiac', 'Goalie 3', 'Goalie', 'Noah Altman', \"2021-10-29-Quinnipiac-American Int'l\")]]\n",
      "(Background on this error at: https://sqlalche.me/e/20/e3q8)\n"
     ]
    },
    {
     "name": "stderr",
     "output_type": "stream",
     "text": [
      "Scraping games:  16%|█▋        | 180/1106 [08:26<43:46,  2.84s/it]"
     ]
    },
    {
     "name": "stdout",
     "output_type": "stream",
     "text": [
      "Error saving to table line_chart: (sqlite3.OperationalError) table line_chart has no column named Team\n",
      "[SQL: INSERT INTO line_chart (\"Team\", \"Line\", \"Position\", \"Player\", \"Game_ID\") VALUES (?, ?, ?, ?, ?)]\n",
      "[parameters: [('Colgate', 1, 'Left Wing', 'Arnaud Vachon', '2021-10-29-Western Michigan-Colgate'), ('Colgate', 1, 'Center', 'Josh McKechney', '2021-10-29-Western Michigan-Colgate'), ('Colgate', 1, 'Right Wing', 'Alex Young', '2021-10-29-Western Michigan-Colgate'), ('Colgate', 2, 'Left Wing', 'Colton Young', '2021-10-29-Western Michigan-Colgate'), ('Colgate', 2, 'Center', 'Jeff Stewart', '2021-10-29-Western Michigan-Colgate'), ('Colgate', 2, 'Right Wing', 'Ethan Manderville', '2021-10-29-Western Michigan-Colgate'), ('Colgate', 3, 'Left Wing', 'Matt Verboon', '2021-10-29-Western Michigan-Colgate'), ('Colgate', 3, 'Center', 'Paul McAvoy', '2021-10-29-Western Michigan-Colgate')  ... displaying 10 of 44 total bound parameter sets ...  ('Western Michigan', 'Goalie 1', 'Goalie', 'Brandon Bussi', '2021-10-29-Western Michigan-Colgate'), ('Western Michigan', 'Goalie 2', 'Goalie', 'Ross Hawryluk', '2021-10-29-Western Michigan-Colgate')]]\n",
      "(Background on this error at: https://sqlalche.me/e/20/e3q8)\n"
     ]
    },
    {
     "name": "stderr",
     "output_type": "stream",
     "text": [
      "Scraping games:  16%|█▋        | 181/1106 [08:29<44:32,  2.89s/it]"
     ]
    },
    {
     "name": "stdout",
     "output_type": "stream",
     "text": [
      "Error saving to table line_chart: (sqlite3.OperationalError) table line_chart has no column named Team\n",
      "[SQL: INSERT INTO line_chart (\"Team\", \"Line\", \"Position\", \"Player\", \"Game_ID\") VALUES (?, ?, ?, ?, ?)]\n",
      "[parameters: [('Clarkson', 1, 'Left Wing', 'Ayrton Martino', '2021-10-29-Michigan Tech-Clarkson'), ('Clarkson', 1, 'Center', 'Zach Tsekos', '2021-10-29-Michigan Tech-Clarkson'), ('Clarkson', 1, 'Right Wing', 'Anthony Romano', '2021-10-29-Michigan Tech-Clarkson'), ('Clarkson', 2, 'Left Wing', 'Alex Campbell', '2021-10-29-Michigan Tech-Clarkson'), ('Clarkson', 2, 'Center', 'Mathieu Gosselin', '2021-10-29-Michigan Tech-Clarkson'), ('Clarkson', 2, 'Right Wing', 'Luke Santerno', '2021-10-29-Michigan Tech-Clarkson'), ('Clarkson', 3, 'Left Wing', 'Chris Klack', '2021-10-29-Michigan Tech-Clarkson'), ('Clarkson', 3, 'Center', 'Luke Mobley', '2021-10-29-Michigan Tech-Clarkson')  ... displaying 10 of 43 total bound parameter sets ...  ('Michigan Tech', 'Goalie 1', 'Goalie', 'Blake Pietila', '2021-10-29-Michigan Tech-Clarkson'), ('Michigan Tech', 'Goalie 2', 'Goalie', 'Cayden Bailey', '2021-10-29-Michigan Tech-Clarkson')]]\n",
      "(Background on this error at: https://sqlalche.me/e/20/e3q8)\n"
     ]
    },
    {
     "name": "stderr",
     "output_type": "stream",
     "text": [
      "Scraping games:  16%|█▋        | 182/1106 [08:32<44:30,  2.89s/it]"
     ]
    },
    {
     "name": "stdout",
     "output_type": "stream",
     "text": [
      "Error saving to table line_chart: (sqlite3.OperationalError) table line_chart has no column named Team\n",
      "[SQL: INSERT INTO line_chart (\"Team\", \"Line\", \"Position\", \"Player\", \"Game_ID\") VALUES (?, ?, ?, ?, ?)]\n",
      "[parameters: [('Alaska', 1, 'Left Wing', 'Didrik Henbrant', '2021-10-29-Alaska-Cornell'), ('Alaska', 1, 'Center', 'Jakob Breault', '2021-10-29-Alaska-Cornell'), ('Alaska', 1, 'Right Wing', 'Chase Dubois', '2021-10-29-Alaska-Cornell'), ('Alaska', 2, 'Left Wing', 'Brady Risk', '2021-10-29-Alaska-Cornell'), ('Alaska', 2, 'Center', 'Eriks Zohovs', '2021-10-29-Alaska-Cornell'), ('Alaska', 2, 'Right Wing', 'Filip Fornaa Svennson', '2021-10-29-Alaska-Cornell'), ('Alaska', 3, 'Left Wing', 'Caleb Hite', '2021-10-29-Alaska-Cornell'), ('Alaska', 3, 'Center', 'Colin Doyle', '2021-10-29-Alaska-Cornell')  ... displaying 10 of 43 total bound parameter sets ...  ('Cornell', 'Goalie 2', 'Goalie', 'Joe Howe', '2021-10-29-Alaska-Cornell'), ('Cornell', 'Goalie 3', 'Goalie', 'Ian Shane', '2021-10-29-Alaska-Cornell')]]\n",
      "(Background on this error at: https://sqlalche.me/e/20/e3q8)\n"
     ]
    },
    {
     "name": "stderr",
     "output_type": "stream",
     "text": [
      "Scraping games:  17%|█▋        | 183/1106 [08:35<45:36,  2.96s/it]"
     ]
    },
    {
     "name": "stdout",
     "output_type": "stream",
     "text": [
      "Error saving to table line_chart: (sqlite3.OperationalError) table line_chart has no column named Team\n",
      "[SQL: INSERT INTO line_chart (\"Team\", \"Line\", \"Position\", \"Player\", \"Game_ID\") VALUES (?, ?, ?, ?, ?)]\n",
      "[parameters: [('Lake Superior', 1, 'Left Wing', 'Miroslav Mucha', '2021-10-29-St. Lawrence-Lake Superior'), ('Lake Superior', 1, 'Center', 'Louis Boudon', '2021-10-29-St. Lawrence-Lake Superior'), ('Lake Superior', 1, 'Right Wing', 'Brandon Puricelli', '2021-10-29-St. Lawrence-Lake Superior'), ('Lake Superior', 2, 'Left Wing', 'Dawson Tritt', '2021-10-29-St. Lawrence-Lake Superior'), ('Lake Superior', 2, 'Center', 'Harrison Roy', '2021-10-29-St. Lawrence-Lake Superior'), ('Lake Superior', 2, 'Right Wing', 'Josh Nixon', '2021-10-29-St. Lawrence-Lake Superior'), ('Lake Superior', 3, 'Left Wing', 'Logan Jenuwine', '2021-10-29-St. Lawrence-Lake Superior'), ('Lake Superior', 3, 'Center', 'Dustin Manz', '2021-10-29-St. Lawrence-Lake Superior')  ... displaying 10 of 43 total bound parameter sets ...  ('St. Lawrence', 'Goalie 1', 'Goalie', 'Emil Zetterquist', '2021-10-29-St. Lawrence-Lake Superior'), ('St. Lawrence', 'Goalie 2', 'Goalie', 'Grant Adams', '2021-10-29-St. Lawrence-Lake Superior')]]\n",
      "(Background on this error at: https://sqlalche.me/e/20/e3q8)\n"
     ]
    },
    {
     "name": "stderr",
     "output_type": "stream",
     "text": [
      "Scraping games:  17%|█▋        | 184/1106 [08:38<46:27,  3.02s/it]"
     ]
    },
    {
     "name": "stdout",
     "output_type": "stream",
     "text": [
      "Error saving to table line_chart: (sqlite3.OperationalError) table line_chart has no column named Team\n",
      "[SQL: INSERT INTO line_chart (\"Team\", \"Line\", \"Position\", \"Player\", \"Game_ID\") VALUES (?, ?, ?, ?, ?)]\n",
      "[parameters: [('Omaha', 1, 'Left Wing', 'Kevin Conley', '2021-10-29-Long Island-Omaha'), ('Omaha', 1, 'Center', 'Cameron Berg', '2021-10-29-Long Island-Omaha'), ('Omaha', 1, 'Right Wing', 'Brannon McManus', '2021-10-29-Long Island-Omaha'), ('Omaha', 2, 'Left Wing', 'Tyler Weiss', '2021-10-29-Long Island-Omaha'), ('Omaha', 2, 'Center', 'Chayse Primeau', '2021-10-29-Long Island-Omaha'), ('Omaha', 2, 'Right Wing', 'Taylor Ward', '2021-10-29-Long Island-Omaha'), ('Omaha', 3, 'Left Wing', 'Jack Randl', '2021-10-29-Long Island-Omaha'), ('Omaha', 3, 'Center', 'Joey Abate', '2021-10-29-Long Island-Omaha')  ... displaying 10 of 44 total bound parameter sets ...  ('Long Island', 'Goalie 2', 'Goalie', 'Vinnie Purpura', '2021-10-29-Long Island-Omaha'), ('Long Island', 'Goalie 3', 'Goalie', 'Brandon Perrone', '2021-10-29-Long Island-Omaha')]]\n",
      "(Background on this error at: https://sqlalche.me/e/20/e3q8)\n"
     ]
    },
    {
     "name": "stderr",
     "output_type": "stream",
     "text": [
      "Scraping games:  17%|█▋        | 185/1106 [08:41<45:38,  2.97s/it]"
     ]
    },
    {
     "name": "stdout",
     "output_type": "stream",
     "text": [
      "Error saving to table line_chart: (sqlite3.OperationalError) table line_chart has no column named Team\n",
      "[SQL: INSERT INTO line_chart (\"Team\", \"Line\", \"Position\", \"Player\", \"Game_ID\") VALUES (?, ?, ?, ?, ?)]\n",
      "[parameters: [('Air Force', 1, 'Left Wing', 'Nate Horn', '2021-10-29-Colorado College-Air Force'), ('Air Force', 1, 'Center', 'Andrew DeCarlo', '2021-10-29-Colorado College-Air Force'), ('Air Force', 1, 'Right Wing', 'Austin Schwartz', '2021-10-29-Colorado College-Air Force'), ('Air Force', 2, 'Left Wing', 'Will Gavin', '2021-10-29-Colorado College-Air Force'), ('Air Force', 2, 'Center', 'Clayton Cosentino', '2021-10-29-Colorado College-Air Force'), ('Air Force', 2, 'Right Wing', 'Parker Brown', '2021-10-29-Colorado College-Air Force'), ('Air Force', 3, 'Left Wing', 'Bennett Norlin', '2021-10-29-Colorado College-Air Force'), ('Air Force', 3, 'Center', 'Ty Pochipiniski', '2021-10-29-Colorado College-Air Force')  ... displaying 10 of 44 total bound parameter sets ...  ('Colorado College', 'Goalie 1', 'Goalie', 'Dominic Basse', '2021-10-29-Colorado College-Air Force'), ('Colorado College', 'Goalie 2', 'Goalie', 'Matt Vernon', '2021-10-29-Colorado College-Air Force')]]\n",
      "(Background on this error at: https://sqlalche.me/e/20/e3q8)\n"
     ]
    },
    {
     "name": "stderr",
     "output_type": "stream",
     "text": [
      "Scraping games:  17%|█▋        | 186/1106 [08:44<44:44,  2.92s/it]"
     ]
    },
    {
     "name": "stdout",
     "output_type": "stream",
     "text": [
      "Error saving to table line_chart: (sqlite3.OperationalError) table line_chart has no column named Team\n",
      "[SQL: INSERT INTO line_chart (\"Team\", \"Line\", \"Position\", \"Player\", \"Game_ID\") VALUES (?, ?, ?, ?, ?)]\n",
      "[parameters: [('Arizona State', 1, 'Left Wing', 'Christopher Grando', '2021-10-29-St. Thomas-Arizona State'), ('Arizona State', 1, 'Center', 'Colin Theisen', '2021-10-29-St. Thomas-Arizona State'), ('Arizona State', 1, 'Right Wing', 'Johnny Walker', '2021-10-29-St. Thomas-Arizona State'), ('Arizona State', 2, 'Left Wing', 'Matthew Kopperud', '2021-10-29-St. Thomas-Arizona State'), ('Arizona State', 2, 'Center', 'Jack Jensen', '2021-10-29-St. Thomas-Arizona State'), ('Arizona State', 2, 'Right Wing', 'Josh Doan', '2021-10-29-St. Thomas-Arizona State'), ('Arizona State', 3, 'Left Wing', 'William Knierim', '2021-10-29-St. Thomas-Arizona State'), ('Arizona State', 3, 'Center', 'Sean Dhooghe', '2021-10-29-St. Thomas-Arizona State')  ... displaying 10 of 43 total bound parameter sets ...  ('St. Thomas', 'Goalie 2', 'Goalie', 'Jacob Berger', '2021-10-29-St. Thomas-Arizona State'), ('St. Thomas', 'Goalie 3', 'Goalie', 'Henry Baribeau', '2021-10-29-St. Thomas-Arizona State')]]\n",
      "(Background on this error at: https://sqlalche.me/e/20/e3q8)\n"
     ]
    },
    {
     "name": "stderr",
     "output_type": "stream",
     "text": [
      "Scraping games:  17%|█▋        | 187/1106 [08:47<44:55,  2.93s/it]"
     ]
    },
    {
     "name": "stdout",
     "output_type": "stream",
     "text": [
      "Error saving to table line_chart: (sqlite3.OperationalError) table line_chart has no column named Team\n",
      "[SQL: INSERT INTO line_chart (\"Team\", \"Line\", \"Position\", \"Player\", \"Game_ID\") VALUES (?, ?, ?, ?, ?)]\n",
      "[parameters: [('Bemidji State', 1, 'Left Wing', 'Jere Vaisanen', '2021-10-29-Bowling Green-Bemidji State'), ('Bemidji State', 1, 'Center', 'Owen Sillinger', '2021-10-29-Bowling Green-Bemidji State'), ('Bemidji State', 1, 'Right Wing', 'Alex Ierullo', '2021-10-29-Bowling Green-Bemidji State'), ('Bemidji State', 2, 'Left Wing', 'Ethan Somoza', '2021-10-29-Bowling Green-Bemidji State'), ('Bemidji State', 2, 'Center', 'Ross Armour', '2021-10-29-Bowling Green-Bemidji State'), ('Bemidji State', 2, 'Right Wing', 'Eric Martin', '2021-10-29-Bowling Green-Bemidji State'), ('Bemidji State', 3, 'Left Wing', 'Lukas Sillinger', '2021-10-29-Bowling Green-Bemidji State'), ('Bemidji State', 3, 'Center', 'Tyler Kirkup', '2021-10-29-Bowling Green-Bemidji State')  ... displaying 10 of 43 total bound parameter sets ...  ('Bowling Green', 'Goalie 1', 'Goalie', 'Zack Rose', '2021-10-29-Bowling Green-Bemidji State'), ('Bowling Green', 'Goalie 2', 'Goalie', 'Christian Stoever', '2021-10-29-Bowling Green-Bemidji State')]]\n",
      "(Background on this error at: https://sqlalche.me/e/20/e3q8)\n"
     ]
    },
    {
     "name": "stderr",
     "output_type": "stream",
     "text": [
      "Scraping games:  17%|█▋        | 188/1106 [08:50<44:34,  2.91s/it]"
     ]
    },
    {
     "name": "stdout",
     "output_type": "stream",
     "text": [
      "Error saving to table line_chart: (sqlite3.OperationalError) table line_chart has no column named Team\n",
      "[SQL: INSERT INTO line_chart (\"Team\", \"Line\", \"Position\", \"Player\", \"Game_ID\") VALUES (?, ?, ?, ?, ?)]\n",
      "[parameters: [('Minnesota State', 1, 'Left Wing', 'Lucas Sowder', '2021-10-29-Northern Michigan-Minnesota State'), ('Minnesota State', 1, 'Center', 'Nathan Smith', '2021-10-29-Northern Michigan-Minnesota State'), ('Minnesota State', 1, 'Right Wing', 'Julian Napravnik', '2021-10-29-Northern Michigan-Minnesota State'), ('Minnesota State', 2, 'Left Wing', 'Reggie Lutz', '2021-10-29-Northern Michigan-Minnesota State'), ('Minnesota State', 2, 'Center', 'David Silye', '2021-10-29-Northern Michigan-Minnesota State'), ('Minnesota State', 2, 'Right Wing', 'Ryan Sandelin', '2021-10-29-Northern Michigan-Minnesota State'), ('Minnesota State', 3, 'Left Wing', 'Sam Morton', '2021-10-29-Northern Michigan-Minnesota State'), ('Minnesota State', 3, 'Center', 'Brendan Furry', '2021-10-29-Northern Michigan-Minnesota State')  ... displaying 10 of 43 total bound parameter sets ...  ('Northern Michigan', 'Goalie 1', 'Goalie', 'Nolan Kent', '2021-10-29-Northern Michigan-Minnesota State'), ('Northern Michigan', 'Goalie 2', 'Goalie', 'Rico DiMatteo', '2021-10-29-Northern Michigan-Minnesota State')]]\n",
      "(Background on this error at: https://sqlalche.me/e/20/e3q8)\n"
     ]
    },
    {
     "name": "stderr",
     "output_type": "stream",
     "text": [
      "Scraping games:  17%|█▋        | 189/1106 [08:53<45:11,  2.96s/it]"
     ]
    },
    {
     "name": "stdout",
     "output_type": "stream",
     "text": [
      "Error saving to table line_chart: (sqlite3.OperationalError) table line_chart has no column named Team\n",
      "[SQL: INSERT INTO line_chart (\"Team\", \"Line\", \"Position\", \"Player\", \"Game_ID\") VALUES (?, ?, ?, ?, ?)]\n",
      "[parameters: [('Niagara', 1, 'Left Wing', 'Walker Sommer', '2021-10-30-Niagara-Sacred Heart'), ('Niagara', 1, 'Center', 'Jack DeBoer', '2021-10-30-Niagara-Sacred Heart'), ('Niagara', 1, 'Right Wing', 'Brandon Stanley', '2021-10-30-Niagara-Sacred Heart'), ('Niagara', 2, 'Left Wing', 'Jon Hill', '2021-10-30-Niagara-Sacred Heart'), ('Niagara', 2, 'Center', 'Jason Pineo', '2021-10-30-Niagara-Sacred Heart'), ('Niagara', 2, 'Right Wing', 'Shane Ott', '2021-10-30-Niagara-Sacred Heart'), ('Niagara', 3, 'Left Wing', 'Ryan Naumovski', '2021-10-30-Niagara-Sacred Heart'), ('Niagara', 3, 'Center', 'Albin Nilsson', '2021-10-30-Niagara-Sacred Heart')  ... displaying 10 of 43 total bound parameter sets ...  ('Sacred Heart', 'Goalie 1', 'Goalie', 'Justin Robbins', '2021-10-30-Niagara-Sacred Heart'), ('Sacred Heart', 'Goalie 2', 'Goalie', \"Jack O'Dea\", '2021-10-30-Niagara-Sacred Heart')]]\n",
      "(Background on this error at: https://sqlalche.me/e/20/e3q8)\n"
     ]
    },
    {
     "name": "stderr",
     "output_type": "stream",
     "text": [
      "Scraping games:  17%|█▋        | 190/1106 [08:56<45:16,  2.97s/it]"
     ]
    },
    {
     "name": "stdout",
     "output_type": "stream",
     "text": [
      "Error saving to table line_chart: (sqlite3.OperationalError) table line_chart has no column named Team\n",
      "[SQL: INSERT INTO line_chart (\"Team\", \"Line\", \"Position\", \"Player\", \"Game_ID\") VALUES (?, ?, ?, ?, ?)]\n",
      "[parameters: [('Mercyhurst', 1, 'Left Wing', 'Pierce Crawford', '2021-10-30-Mercyhurst-RIT'), ('Mercyhurst', 1, 'Center', 'Steven Ipri', '2021-10-30-Mercyhurst-RIT'), ('Mercyhurst', 1, 'Right Wing', 'Rylee St. Onge', '2021-10-30-Mercyhurst-RIT'), ('Mercyhurst', 2, 'Left Wing', 'Austin Heidemann', '2021-10-30-Mercyhurst-RIT'), ('Mercyhurst', 2, 'Center', 'Carson Briere', '2021-10-30-Mercyhurst-RIT'), ('Mercyhurst', 2, 'Right Wing', 'Dante Sheriff', '2021-10-30-Mercyhurst-RIT'), ('Mercyhurst', 3, 'Left Wing', 'Jonathan Bendorf', '2021-10-30-Mercyhurst-RIT'), ('Mercyhurst', 3, 'Center', 'Gueorgui Feduolov', '2021-10-30-Mercyhurst-RIT')  ... displaying 10 of 43 total bound parameter sets ...  ('RIT', 'Goalie 2', 'Goalie', 'Kolby Matthews', '2021-10-30-Mercyhurst-RIT'), ('RIT', 'Goalie 3', 'Goalie', 'Tommy Scarfone', '2021-10-30-Mercyhurst-RIT')]]\n",
      "(Background on this error at: https://sqlalche.me/e/20/e3q8)\n"
     ]
    },
    {
     "name": "stderr",
     "output_type": "stream",
     "text": [
      "Scraping games:  17%|█▋        | 192/1106 [09:02<45:21,  2.98s/it]"
     ]
    },
    {
     "name": "stdout",
     "output_type": "stream",
     "text": [
      "Error saving to table line_chart: (sqlite3.OperationalError) table line_chart has no column named Team\n",
      "[SQL: INSERT INTO line_chart (\"Team\", \"Line\", \"Position\", \"Player\", \"Game_ID\") VALUES (?, ?, ?, ?, ?)]\n",
      "[parameters: [('Minnesota', 1, 'Left Wing', 'Blake McLaughlin', '2021-10-30-Notre Dame-Minnesota'), ('Minnesota', 1, 'Center', 'Sammy Walker', '2021-10-30-Notre Dame-Minnesota'), ('Minnesota', 1, 'Right Wing', 'Bryce Brodzinski', '2021-10-30-Notre Dame-Minnesota'), ('Minnesota', 2, 'Left Wing', 'Grant Cruikshank', '2021-10-30-Notre Dame-Minnesota'), ('Minnesota', 2, 'Center', 'Jaxon Nelson', '2021-10-30-Notre Dame-Minnesota'), ('Minnesota', 2, 'Right Wing', 'Aaron Huglen', '2021-10-30-Notre Dame-Minnesota'), ('Minnesota', 3, 'Left Wing', 'Matthew Knies', '2021-10-30-Notre Dame-Minnesota'), ('Minnesota', 3, 'Center', 'Ben Meyers', '2021-10-30-Notre Dame-Minnesota')  ... displaying 10 of 43 total bound parameter sets ...  ('Notre Dame', 'Goalie 2', 'Goalie', 'Matthew Galajda', '2021-10-30-Notre Dame-Minnesota'), ('Notre Dame', 'Goalie 3', 'Goalie', 'Josh Graziano', '2021-10-30-Notre Dame-Minnesota')]]\n",
      "(Background on this error at: https://sqlalche.me/e/20/e3q8)\n"
     ]
    },
    {
     "name": "stderr",
     "output_type": "stream",
     "text": [
      "Scraping games:  17%|█▋        | 193/1106 [09:05<44:49,  2.95s/it]"
     ]
    },
    {
     "name": "stdout",
     "output_type": "stream",
     "text": [
      "Error saving to table line_chart: (sqlite3.OperationalError) table line_chart has no column named Team\n",
      "[SQL: INSERT INTO line_chart (\"Team\", \"Line\", \"Position\", \"Player\", \"Game_ID\") VALUES (?, ?, ?, ?, ?)]\n",
      "[parameters: [(\"American Int'l\", 1, 'Left Wing', 'Chris Van Os-Shaw', \"2021-10-30-American Int'l-Quinnipiac\"), (\"American Int'l\", 1, 'Center', 'Brian Rigali', \"2021-10-30-American Int'l-Quinnipiac\"), (\"American Int'l\", 1, 'Right Wing', 'Justin Young', \"2021-10-30-American Int'l-Quinnipiac\"), (\"American Int'l\", 2, 'Left Wing', 'Chris Theodore', \"2021-10-30-American Int'l-Quinnipiac\"), (\"American Int'l\", 2, 'Center', 'Elijiah Barriga', \"2021-10-30-American Int'l-Quinnipiac\"), (\"American Int'l\", 2, 'Right Wing', 'Blake Bennett', \"2021-10-30-American Int'l-Quinnipiac\"), (\"American Int'l\", 3, 'Left Wing', 'Luka Maver', \"2021-10-30-American Int'l-Quinnipiac\"), (\"American Int'l\", 3, 'Center', 'Julius Janhonen', \"2021-10-30-American Int'l-Quinnipiac\")  ... displaying 10 of 44 total bound parameter sets ...  ('Quinnipiac', 'Goalie 2', 'Goalie', 'Yaniv Perets', \"2021-10-30-American Int'l-Quinnipiac\"), ('Quinnipiac', 'Goalie 3', 'Goalie', 'Noah Altman', \"2021-10-30-American Int'l-Quinnipiac\")]]\n",
      "(Background on this error at: https://sqlalche.me/e/20/e3q8)\n"
     ]
    },
    {
     "name": "stderr",
     "output_type": "stream",
     "text": [
      "Scraping games:  18%|█▊        | 194/1106 [09:07<44:03,  2.90s/it]"
     ]
    },
    {
     "name": "stdout",
     "output_type": "stream",
     "text": [
      "Error saving to table line_chart: (sqlite3.OperationalError) table line_chart has no column named Team\n",
      "[SQL: INSERT INTO line_chart (\"Team\", \"Line\", \"Position\", \"Player\", \"Game_ID\") VALUES (?, ?, ?, ?, ?)]\n",
      "[parameters: [('Army', 1, 'Left Wing', 'Daniel Haider', '2021-10-30-Princeton-Army'), ('Army', 1, 'Center', 'Jake Felker', '2021-10-30-Princeton-Army'), ('Army', 1, 'Right Wing', 'Ricky Lyle', '2021-10-30-Princeton-Army'), ('Army', 2, 'Left Wing', 'Brett Abdelnour', '2021-10-30-Princeton-Army'), ('Army', 2, 'Center', 'John Keranen', '2021-10-30-Princeton-Army'), ('Army', 2, 'Right Wing', 'Colin Bilek', '2021-10-30-Princeton-Army'), ('Army', 3, 'Left Wing', 'Mitch Machlitt', '2021-10-30-Princeton-Army'), ('Army', 3, 'Center', 'Eric Butte', '2021-10-30-Princeton-Army')  ... displaying 10 of 43 total bound parameter sets ...  ('Princeton', 'Goalie 1', 'Goalie', 'Jeremie Forget', '2021-10-30-Princeton-Army'), ('Princeton', 'Goalie 2', 'Goalie', 'Aidan Porter', '2021-10-30-Princeton-Army')]]\n",
      "(Background on this error at: https://sqlalche.me/e/20/e3q8)\n"
     ]
    },
    {
     "name": "stderr",
     "output_type": "stream",
     "text": [
      "Scraping games:  18%|█▊        | 195/1106 [09:10<44:00,  2.90s/it]"
     ]
    },
    {
     "name": "stdout",
     "output_type": "stream",
     "text": [
      "Error saving to table line_chart: (sqlite3.OperationalError) table line_chart has no column named Team\n",
      "[SQL: INSERT INTO line_chart (\"Team\", \"Line\", \"Position\", \"Player\", \"Game_ID\") VALUES (?, ?, ?, ?, ?)]\n",
      "[parameters: [('Colgate', 1, 'Left Wing', 'Arnaud Vachon', '2021-10-30-Western Michigan-Colgate'), ('Colgate', 1, 'Center', 'Josh McKechney', '2021-10-30-Western Michigan-Colgate'), ('Colgate', 1, 'Right Wing', 'Ethan Manderville', '2021-10-30-Western Michigan-Colgate'), ('Colgate', 2, 'Left Wing', 'Colton Young', '2021-10-30-Western Michigan-Colgate'), ('Colgate', 2, 'Center', 'Jeff Stewart', '2021-10-30-Western Michigan-Colgate'), ('Colgate', 2, 'Right Wing', 'Alex Young', '2021-10-30-Western Michigan-Colgate'), ('Colgate', 3, 'Left Wing', 'Matt Verboon', '2021-10-30-Western Michigan-Colgate'), ('Colgate', 3, 'Center', 'Paul McAvoy', '2021-10-30-Western Michigan-Colgate')  ... displaying 10 of 43 total bound parameter sets ...  ('Western Michigan', 'Goalie 1', 'Goalie', 'Brandon Bussi', '2021-10-30-Western Michigan-Colgate'), ('Western Michigan', 'Goalie 2', 'Goalie', 'Ross Hawryluk', '2021-10-30-Western Michigan-Colgate')]]\n",
      "(Background on this error at: https://sqlalche.me/e/20/e3q8)\n"
     ]
    },
    {
     "name": "stderr",
     "output_type": "stream",
     "text": [
      "Scraping games:  18%|█▊        | 196/1106 [09:13<44:29,  2.93s/it]"
     ]
    },
    {
     "name": "stdout",
     "output_type": "stream",
     "text": [
      "Error saving to table line_chart: (sqlite3.OperationalError) table line_chart has no column named Team\n",
      "[SQL: INSERT INTO line_chart (\"Team\", \"Line\", \"Position\", \"Player\", \"Game_ID\") VALUES (?, ?, ?, ?, ?)]\n",
      "[parameters: [('Lake Superior', 1, 'Left Wing', 'Miroslav Mucha', '2021-10-30-St. Lawrence-Lake Superior'), ('Lake Superior', 1, 'Center', 'Louis Boudon', '2021-10-30-St. Lawrence-Lake Superior'), ('Lake Superior', 1, 'Right Wing', 'Brandon Puricelli', '2021-10-30-St. Lawrence-Lake Superior'), ('Lake Superior', 2, 'Left Wing', 'Dawson Tritt', '2021-10-30-St. Lawrence-Lake Superior'), ('Lake Superior', 2, 'Center', 'Harrison Roy', '2021-10-30-St. Lawrence-Lake Superior'), ('Lake Superior', 2, 'Right Wing', 'Josh Nixon', '2021-10-30-St. Lawrence-Lake Superior'), ('Lake Superior', 3, 'Left Wing', 'Logan Jenuwine', '2021-10-30-St. Lawrence-Lake Superior'), ('Lake Superior', 3, 'Center', 'Dustin Manz', '2021-10-30-St. Lawrence-Lake Superior')  ... displaying 10 of 43 total bound parameter sets ...  ('St. Lawrence', 'Goalie 1', 'Goalie', 'Emil Zetterquist', '2021-10-30-St. Lawrence-Lake Superior'), ('St. Lawrence', 'Goalie 2', 'Goalie', 'Grant Adams', '2021-10-30-St. Lawrence-Lake Superior')]]\n",
      "(Background on this error at: https://sqlalche.me/e/20/e3q8)\n"
     ]
    },
    {
     "name": "stderr",
     "output_type": "stream",
     "text": [
      "Scraping games:  18%|█▊        | 197/1106 [09:16<44:16,  2.92s/it]"
     ]
    },
    {
     "name": "stdout",
     "output_type": "stream",
     "text": [
      "Error saving to table line_chart: (sqlite3.OperationalError) table line_chart has no column named Team\n",
      "[SQL: INSERT INTO line_chart (\"Team\", \"Line\", \"Position\", \"Player\", \"Game_ID\") VALUES (?, ?, ?, ?, ?)]\n",
      "[parameters: [('Connecticut', 1, 'Left Wing', 'Marc Gatcomb', '2021-10-30-Connecticut-Dartmouth'), ('Connecticut', 1, 'Center', 'Jachym Kondelik', '2021-10-30-Connecticut-Dartmouth'), ('Connecticut', 1, 'Right Wing', 'Jonny Evans', '2021-10-30-Connecticut-Dartmouth'), ('Connecticut', 2, 'Left Wing', 'Vladislav Firstov', '2021-10-30-Connecticut-Dartmouth'), ('Connecticut', 2, 'Center', 'Artem Shlaine', '2021-10-30-Connecticut-Dartmouth'), ('Connecticut', 2, 'Right Wing', 'Ryan Tverberg', '2021-10-30-Connecticut-Dartmouth'), ('Connecticut', 3, 'Left Wing', 'Carter Turnbull', '2021-10-30-Connecticut-Dartmouth'), ('Connecticut', 3, 'Center', \"Kevin O'Neil\", '2021-10-30-Connecticut-Dartmouth')  ... displaying 10 of 44 total bound parameter sets ...  ('Dartmouth', 'Goalie 2', 'Goalie', 'Clay Stevenson', '2021-10-30-Connecticut-Dartmouth'), ('Dartmouth', 'Goalie 3', 'Goalie', 'Troy Burkhart', '2021-10-30-Connecticut-Dartmouth')]]\n",
      "(Background on this error at: https://sqlalche.me/e/20/e3q8)\n"
     ]
    },
    {
     "name": "stderr",
     "output_type": "stream",
     "text": [
      "Scraping games:  18%|█▊        | 198/1106 [09:19<45:33,  3.01s/it]"
     ]
    },
    {
     "name": "stdout",
     "output_type": "stream",
     "text": [
      "Error saving to table line_chart: (sqlite3.OperationalError) table line_chart has no column named Team\n",
      "[SQL: INSERT INTO line_chart (\"Team\", \"Line\", \"Position\", \"Player\", \"Game_ID\") VALUES (?, ?, ?, ?, ?)]\n",
      "[parameters: [('Alaska', 1, 'Left Wing', 'Didrik Henbrant', '2021-10-30-Alaska-Cornell'), ('Alaska', 1, 'Center', 'Jakob Breault', '2021-10-30-Alaska-Cornell'), ('Alaska', 1, 'Right Wing', 'Matt Koethe', '2021-10-30-Alaska-Cornell'), ('Alaska', 2, 'Left Wing', 'Anton Rubtsov', '2021-10-30-Alaska-Cornell'), ('Alaska', 2, 'Center', 'Harrison Israels', '2021-10-30-Alaska-Cornell'), ('Alaska', 2, 'Right Wing', 'Filip Fornaa Svennson', '2021-10-30-Alaska-Cornell'), ('Alaska', 3, 'Left Wing', 'Connor Mylymock', '2021-10-30-Alaska-Cornell'), ('Alaska', 3, 'Center', 'Brady Risk', '2021-10-30-Alaska-Cornell')  ... displaying 10 of 43 total bound parameter sets ...  ('Cornell', 'Goalie 2', 'Goalie', 'Joe Howe', '2021-10-30-Alaska-Cornell'), ('Cornell', 'Goalie 3', 'Goalie', 'Ian Shane', '2021-10-30-Alaska-Cornell')]]\n",
      "(Background on this error at: https://sqlalche.me/e/20/e3q8)\n"
     ]
    },
    {
     "name": "stderr",
     "output_type": "stream",
     "text": [
      "Scraping games:  18%|█▊        | 199/1106 [09:22<45:49,  3.03s/it]"
     ]
    },
    {
     "name": "stdout",
     "output_type": "stream",
     "text": [
      "Error saving to table line_chart: (sqlite3.OperationalError) table line_chart has no column named Team\n",
      "[SQL: INSERT INTO line_chart (\"Team\", \"Line\", \"Position\", \"Player\", \"Game_ID\") VALUES (?, ?, ?, ?, ?)]\n",
      "[parameters: [('Canisius', 1, 'Left Wing', 'Mitchell Martan', '2021-10-30-Ferris State-Canisius'), ('Canisius', 1, 'Center', 'Lee Lapid', '2021-10-30-Ferris State-Canisius'), ('Canisius', 1, 'Right Wing', 'Keaton Mastrodonato', '2021-10-30-Ferris State-Canisius'), ('Canisius', 2, 'Left Wing', 'Max Kouznetsov', '2021-10-30-Ferris State-Canisius'), ('Canisius', 2, 'Center', 'Alex Ambrosio', '2021-10-30-Ferris State-Canisius'), ('Canisius', 2, 'Right Wing', 'J.D. Pogue', '2021-10-30-Ferris State-Canisius'), ('Canisius', 3, 'Left Wing', 'Daniel DiGrande', '2021-10-30-Ferris State-Canisius'), ('Canisius', 3, 'Center', 'Ryan Miotto', '2021-10-30-Ferris State-Canisius')  ... displaying 10 of 43 total bound parameter sets ...  ('Ferris State', 'Goalie 1', 'Goalie', 'Logan Stein', '2021-10-30-Ferris State-Canisius'), ('Ferris State', 'Goalie 2', 'Goalie', 'Roni Salmenkangas', '2021-10-30-Ferris State-Canisius')]]\n",
      "(Background on this error at: https://sqlalche.me/e/20/e3q8)\n"
     ]
    },
    {
     "name": "stderr",
     "output_type": "stream",
     "text": [
      "Scraping games:  18%|█▊        | 200/1106 [09:26<45:52,  3.04s/it]"
     ]
    },
    {
     "name": "stdout",
     "output_type": "stream",
     "text": [
      "Error saving to table line_chart: (sqlite3.OperationalError) table line_chart has no column named Team\n",
      "[SQL: INSERT INTO line_chart (\"Team\", \"Line\", \"Position\", \"Player\", \"Game_ID\") VALUES (?, ?, ?, ?, ?)]\n",
      "[parameters: [('Clarkson', 1, 'Left Wing', 'Alex Campbell', '2021-10-30-Michigan Tech-Clarkson'), ('Clarkson', 1, 'Center', 'Zach Tsekos', '2021-10-30-Michigan Tech-Clarkson'), ('Clarkson', 1, 'Right Wing', 'Luke Santerno', '2021-10-30-Michigan Tech-Clarkson'), ('Clarkson', 2, 'Left Wing', 'Ayrton Martino', '2021-10-30-Michigan Tech-Clarkson'), ('Clarkson', 2, 'Center', 'Ryan Richardson', '2021-10-30-Michigan Tech-Clarkson'), ('Clarkson', 2, 'Right Wing', 'Anthony Romano', '2021-10-30-Michigan Tech-Clarkson'), ('Clarkson', 3, 'Left Wing', 'Chris Klack', '2021-10-30-Michigan Tech-Clarkson'), ('Clarkson', 3, 'Center', 'Mathieu Gosselin', '2021-10-30-Michigan Tech-Clarkson')  ... displaying 10 of 43 total bound parameter sets ...  ('Michigan Tech', 'Goalie 1', 'Goalie', 'Blake Pietila', '2021-10-30-Michigan Tech-Clarkson'), ('Michigan Tech', 'Goalie 2', 'Goalie', 'Cayden Bailey', '2021-10-30-Michigan Tech-Clarkson')]]\n",
      "(Background on this error at: https://sqlalche.me/e/20/e3q8)\n"
     ]
    },
    {
     "name": "stderr",
     "output_type": "stream",
     "text": [
      "Scraping games:  18%|█▊        | 202/1106 [09:31<45:11,  3.00s/it]"
     ]
    },
    {
     "name": "stdout",
     "output_type": "stream",
     "text": [
      "Error saving to table line_chart: (sqlite3.OperationalError) table line_chart has no column named Team\n",
      "[SQL: INSERT INTO line_chart (\"Team\", \"Line\", \"Position\", \"Player\", \"Game_ID\") VALUES (?, ?, ?, ?, ?)]\n",
      "[parameters: [('North Dakota', 1, 'Left Wing', 'Mark Senden', '2021-10-30-North Dakota-Penn State'), ('North Dakota', 1, 'Center', 'Connor Ford', '2021-10-30-North Dakota-Penn State'), ('North Dakota', 1, 'Right Wing', 'Ashton Calder', '2021-10-30-North Dakota-Penn State'), ('North Dakota', 2, 'Left Wing', 'Riese Gaber', '2021-10-30-North Dakota-Penn State'), ('North Dakota', 2, 'Center', 'Jake Schmaltz', '2021-10-30-North Dakota-Penn State'), ('North Dakota', 2, 'Right Wing', 'Judd Caulfield', '2021-10-30-North Dakota-Penn State'), ('North Dakota', 3, 'Left Wing', 'Gavin Hain', '2021-10-30-North Dakota-Penn State'), ('North Dakota', 3, 'Center', '', '2021-10-30-North Dakota-Penn State')  ... displaying 10 of 43 total bound parameter sets ...  ('Penn State', 'Goalie 2', 'Goalie', 'Liam Souliere', '2021-10-30-North Dakota-Penn State'), ('Penn State', 'Goalie 3', 'Goalie', 'Doug Dorr', '2021-10-30-North Dakota-Penn State')]]\n",
      "(Background on this error at: https://sqlalche.me/e/20/e3q8)\n"
     ]
    },
    {
     "name": "stderr",
     "output_type": "stream",
     "text": [
      "Scraping games:  18%|█▊        | 204/1106 [09:38<45:34,  3.03s/it]"
     ]
    },
    {
     "name": "stdout",
     "output_type": "stream",
     "text": [
      "Error saving to table line_chart: (sqlite3.OperationalError) table line_chart has no column named Team\n",
      "[SQL: INSERT INTO line_chart (\"Team\", \"Line\", \"Position\", \"Player\", \"Game_ID\") VALUES (?, ?, ?, ?, ?)]\n",
      "[parameters: [('Omaha', 1, 'Left Wing', 'Tyler Weiss', '2021-10-30-Long Island-Omaha'), ('Omaha', 1, 'Center', 'Chayse Primeau', '2021-10-30-Long Island-Omaha'), ('Omaha', 1, 'Right Wing', 'Taylor Ward', '2021-10-30-Long Island-Omaha'), ('Omaha', 2, 'Left Wing', 'Kevin Conley', '2021-10-30-Long Island-Omaha'), ('Omaha', 2, 'Center', 'Jimmy Glynn', '2021-10-30-Long Island-Omaha'), ('Omaha', 2, 'Right Wing', 'Brock Bremer', '2021-10-30-Long Island-Omaha'), ('Omaha', 3, 'Left Wing', 'Jack Randl', '2021-10-30-Long Island-Omaha'), ('Omaha', 3, 'Center', 'Cameron Berg', '2021-10-30-Long Island-Omaha')  ... displaying 10 of 44 total bound parameter sets ...  ('Long Island', 'Goalie 2', 'Goalie', 'Vinnie Purpura', '2021-10-30-Long Island-Omaha'), ('Long Island', 'Goalie 3', 'Goalie', 'Brandon Perrone', '2021-10-30-Long Island-Omaha')]]\n",
      "(Background on this error at: https://sqlalche.me/e/20/e3q8)\n"
     ]
    },
    {
     "name": "stderr",
     "output_type": "stream",
     "text": [
      "Scraping games:  19%|█▊        | 205/1106 [09:41<45:21,  3.02s/it]"
     ]
    },
    {
     "name": "stdout",
     "output_type": "stream",
     "text": [
      "Error saving to table line_chart: (sqlite3.OperationalError) table line_chart has no column named Team\n",
      "[SQL: INSERT INTO line_chart (\"Team\", \"Line\", \"Position\", \"Player\", \"Game_ID\") VALUES (?, ?, ?, ?, ?)]\n",
      "[parameters: [('Arizona State', 1, 'Left Wing', 'Josh Doan', '2021-10-30-St. Thomas-Arizona State'), ('Arizona State', 1, 'Center', 'Colin Theisen', '2021-10-30-St. Thomas-Arizona State'), ('Arizona State', 1, 'Right Wing', 'Johnny Walker', '2021-10-30-St. Thomas-Arizona State'), ('Arizona State', 2, 'Left Wing', 'Matthew Kopperud', '2021-10-30-St. Thomas-Arizona State'), ('Arizona State', 2, 'Center', 'Jack Jensen', '2021-10-30-St. Thomas-Arizona State'), ('Arizona State', 2, 'Right Wing', 'Christopher Grando', '2021-10-30-St. Thomas-Arizona State'), ('Arizona State', 3, 'Left Wing', 'Jackson Niedermayer', '2021-10-30-St. Thomas-Arizona State'), ('Arizona State', 3, 'Center', 'Sean Dhooghe', '2021-10-30-St. Thomas-Arizona State')  ... displaying 10 of 43 total bound parameter sets ...  ('St. Thomas', 'Goalie 1', 'Goalie', 'Peter Thome', '2021-10-30-St. Thomas-Arizona State'), ('St. Thomas', 'Goalie 2', 'Goalie', 'Jacob Berger', '2021-10-30-St. Thomas-Arizona State')]]\n",
      "(Background on this error at: https://sqlalche.me/e/20/e3q8)\n"
     ]
    },
    {
     "name": "stderr",
     "output_type": "stream",
     "text": [
      "Scraping games:  19%|█▊        | 206/1106 [09:44<45:06,  3.01s/it]"
     ]
    },
    {
     "name": "stdout",
     "output_type": "stream",
     "text": [
      "Error saving to table line_chart: (sqlite3.OperationalError) table line_chart has no column named Team\n",
      "[SQL: INSERT INTO line_chart (\"Team\", \"Line\", \"Position\", \"Player\", \"Game_ID\") VALUES (?, ?, ?, ?, ?)]\n",
      "[parameters: [('Boston University', 1, 'Left Wing', 'Robert Mastrosimone', '2021-10-30-Boston University-Mass.-Lowell'), ('Boston University', 1, 'Center', 'Wilmer Skoog', '2021-10-30-Boston University-Mass.-Lowell'), ('Boston University', 1, 'Right Wing', 'Ethan Phillips', '2021-10-30-Boston University-Mass.-Lowell'), ('Boston University', 2, 'Left Wing', 'Brian Carrabes', '2021-10-30-Boston University-Mass.-Lowell'), ('Boston University', 2, 'Center', 'Markus Boguslavsky', '2021-10-30-Boston University-Mass.-Lowell'), ('Boston University', 2, 'Right Wing', 'Tristan Amonte', '2021-10-30-Boston University-Mass.-Lowell'), ('Boston University', 3, 'Left Wing', 'Jamie Armstrong', '2021-10-30-Boston University-Mass.-Lowell'), ('Boston University', 3, 'Center', 'Nick Zabaneh', '2021-10-30-Boston University-Mass.-Lowell')  ... displaying 10 of 43 total bound parameter sets ...  ('Mass.-Lowell', 'Goalie 2', 'Goalie', 'Henry Welsch', '2021-10-30-Boston University-Mass.-Lowell'), ('Mass.-Lowell', 'Goalie 3', 'Goalie', 'Edvard Nordlund', '2021-10-30-Boston University-Mass.-Lowell')]]\n",
      "(Background on this error at: https://sqlalche.me/e/20/e3q8)\n"
     ]
    },
    {
     "name": "stderr",
     "output_type": "stream",
     "text": [
      "Scraping games:  19%|█▊        | 207/1106 [09:46<44:46,  2.99s/it]"
     ]
    },
    {
     "name": "stdout",
     "output_type": "stream",
     "text": [
      "Error saving to table line_chart: (sqlite3.OperationalError) table line_chart has no column named Team\n",
      "[SQL: INSERT INTO line_chart (\"Team\", \"Line\", \"Position\", \"Player\", \"Game_ID\") VALUES (?, ?, ?, ?, ?)]\n",
      "[parameters: [('New Hampshire', 1, 'Left Wing', 'Tyler Ward', '2021-10-30-Providence-New Hampshire'), ('New Hampshire', 1, 'Center', 'Filip Engaras', '2021-10-30-Providence-New Hampshire'), ('New Hampshire', 1, 'Right Wing', 'Eric MacAdams', '2021-10-30-Providence-New Hampshire'), ('New Hampshire', 2, 'Left Wing', 'Liam Devlin', '2021-10-30-Providence-New Hampshire'), ('New Hampshire', 2, 'Center', 'Jackson Pierson', '2021-10-30-Providence-New Hampshire'), ('New Hampshire', 2, 'Right Wing', 'Robert Cronin', '2021-10-30-Providence-New Hampshire'), ('New Hampshire', 3, 'Left Wing', 'Carsen Richels', '2021-10-30-Providence-New Hampshire'), ('New Hampshire', 3, 'Center', 'Harrison Blaisdell', '2021-10-30-Providence-New Hampshire')  ... displaying 10 of 44 total bound parameter sets ...  ('Providence', 'Goalie 2', 'Goalie', 'Jimmy Scannell', '2021-10-30-Providence-New Hampshire'), ('Providence', 'Goalie 3', 'Goalie', 'Jaxson Stauber', '2021-10-30-Providence-New Hampshire')]]\n",
      "(Background on this error at: https://sqlalche.me/e/20/e3q8)\n"
     ]
    },
    {
     "name": "stderr",
     "output_type": "stream",
     "text": [
      "Scraping games:  19%|█▉        | 208/1106 [09:49<43:36,  2.91s/it]"
     ]
    },
    {
     "name": "stdout",
     "output_type": "stream",
     "text": [
      "Error saving to table line_chart: (sqlite3.OperationalError) table line_chart has no column named Team\n",
      "[SQL: INSERT INTO line_chart (\"Team\", \"Line\", \"Position\", \"Player\", \"Game_ID\") VALUES (?, ?, ?, ?, ?)]\n",
      "[parameters: [('Maine', 1, 'Left Wing', 'Matthew Fawcett', '2021-10-30-Maine-Northeastern'), ('Maine', 1, 'Center', 'Lynden Breen', '2021-10-30-Maine-Northeastern'), ('Maine', 1, 'Right Wing', 'Nolan Renwick', '2021-10-30-Maine-Northeastern'), ('Maine', 2, 'Left Wing', 'Ben Poisson', '2021-10-30-Maine-Northeastern'), ('Maine', 2, 'Center', 'Keenan Suthers', '2021-10-30-Maine-Northeastern'), ('Maine', 2, 'Right Wing', 'Adam Dawe', '2021-10-30-Maine-Northeastern'), ('Maine', 3, 'Left Wing', 'John Mulera', '2021-10-30-Maine-Northeastern'), ('Maine', 3, 'Center', 'Grant Hebert', '2021-10-30-Maine-Northeastern')  ... displaying 10 of 43 total bound parameter sets ...  ('Northeastern', 'Goalie 2', 'Goalie', 'Devon Levi', '2021-10-30-Maine-Northeastern'), ('Northeastern', 'Goalie 3', 'Goalie', 'TJ Semptimphelter', '2021-10-30-Maine-Northeastern')]]\n",
      "(Background on this error at: https://sqlalche.me/e/20/e3q8)\n"
     ]
    },
    {
     "name": "stderr",
     "output_type": "stream",
     "text": [
      "Scraping games:  19%|█▉        | 209/1106 [09:52<44:42,  2.99s/it]"
     ]
    },
    {
     "name": "stdout",
     "output_type": "stream",
     "text": [
      "Error saving to table line_chart: (sqlite3.OperationalError) table line_chart has no column named Team\n",
      "[SQL: INSERT INTO line_chart (\"Team\", \"Line\", \"Position\", \"Player\", \"Game_ID\") VALUES (?, ?, ?, ?, ?)]\n",
      "[parameters: [('Massachusetts', 1, 'Left Wing', 'Bobby Trivigno', '2021-10-30-Merrimack-Massachusetts'), ('Massachusetts', 1, 'Center', 'Anthony Del Gaizo', '2021-10-30-Merrimack-Massachusetts'), ('Massachusetts', 1, 'Right Wing', 'Garrett Wait', '2021-10-30-Merrimack-Massachusetts'), ('Massachusetts', 2, 'Left Wing', 'Cal Kiefiuk', '2021-10-30-Merrimack-Massachusetts'), ('Massachusetts', 2, 'Center', 'Eric Faith', '2021-10-30-Merrimack-Massachusetts'), ('Massachusetts', 2, 'Right Wing', 'Reed Lebster', '2021-10-30-Merrimack-Massachusetts'), ('Massachusetts', 3, 'Left Wing', 'Oliver MacDonald', '2021-10-30-Merrimack-Massachusetts'), ('Massachusetts', 3, 'Center', 'Matt Baker', '2021-10-30-Merrimack-Massachusetts')  ... displaying 10 of 43 total bound parameter sets ...  ('Merrimack', 'Goalie 2', 'Goalie', 'Zachary Borgiel', '2021-10-30-Merrimack-Massachusetts'), ('Merrimack', 'Goalie 3', 'Goalie', 'Hugo Ollas', '2021-10-30-Merrimack-Massachusetts')]]\n",
      "(Background on this error at: https://sqlalche.me/e/20/e3q8)\n"
     ]
    },
    {
     "name": "stderr",
     "output_type": "stream",
     "text": [
      "Scraping games:  19%|█▉        | 210/1106 [09:55<44:00,  2.95s/it]"
     ]
    },
    {
     "name": "stdout",
     "output_type": "stream",
     "text": [
      "Error saving to table line_chart: (sqlite3.OperationalError) table line_chart has no column named Team\n",
      "[SQL: INSERT INTO line_chart (\"Team\", \"Line\", \"Position\", \"Player\", \"Game_ID\") VALUES (?, ?, ?, ?, ?)]\n",
      "[parameters: [('Boston College', 1, 'Left Wing', 'Brandon Kruse', '2021-10-30-Boston College-Vermont'), ('Boston College', 1, 'Center', 'Jack McBain', '2021-10-30-Boston College-Vermont'), ('Boston College', 1, 'Right Wing', 'Nikita Nesterenko', '2021-10-30-Boston College-Vermont'), ('Boston College', 2, 'Left Wing', 'Trevor Kuntar', '2021-10-30-Boston College-Vermont'), ('Boston College', 2, 'Center', 'Marc McLaughlin', '2021-10-30-Boston College-Vermont'), ('Boston College', 2, 'Right Wing', 'Colby Ambrosio', '2021-10-30-Boston College-Vermont'), ('Boston College', 3, 'Left Wing', 'Mike Posma', '2021-10-30-Boston College-Vermont'), ('Boston College', 3, 'Center', 'Patrick Giles', '2021-10-30-Boston College-Vermont')  ... displaying 10 of 43 total bound parameter sets ...  ('Vermont', 'Goalie 2', 'Goalie', 'Gabe Carriere', '2021-10-30-Boston College-Vermont'), ('Vermont', 'Goalie 3', 'Goalie', 'Cole Hudson', '2021-10-30-Boston College-Vermont')]]\n",
      "(Background on this error at: https://sqlalche.me/e/20/e3q8)\n"
     ]
    },
    {
     "name": "stderr",
     "output_type": "stream",
     "text": [
      "Scraping games:  19%|█▉        | 211/1106 [09:58<43:20,  2.91s/it]"
     ]
    },
    {
     "name": "stdout",
     "output_type": "stream",
     "text": [
      "Error saving to table line_chart: (sqlite3.OperationalError) table line_chart has no column named Team\n",
      "[SQL: INSERT INTO line_chart (\"Team\", \"Line\", \"Position\", \"Player\", \"Game_ID\") VALUES (?, ?, ?, ?, ?)]\n",
      "[parameters: [('Brown', 1, 'Left Wing', 'Justin Jallen', '2021-10-30-Yale-Brown'), ('Brown', 1, 'Center', 'Tristan Crozier', '2021-10-30-Yale-Brown'), ('Brown', 1, 'Right Wing', 'Bradley Cocca', '2021-10-30-Yale-Brown'), ('Brown', 2, 'Left Wing', 'Jordan Tonelli', '2021-10-30-Yale-Brown'), ('Brown', 2, 'Center', 'Michael Maloney', '2021-10-30-Yale-Brown'), ('Brown', 2, 'Right Wing', 'Matt Sutton', '2021-10-30-Yale-Brown'), ('Brown', 3, 'Left Wing', 'Nathan Plessis', '2021-10-30-Yale-Brown'), ('Brown', 3, 'Center', 'Cole Quisenberry', '2021-10-30-Yale-Brown')  ... displaying 10 of 44 total bound parameter sets ...  ('Yale', 'Goalie 1', 'Goalie', 'Nathan Reid', '2021-10-30-Yale-Brown'), ('Yale', 'Goalie 2', 'Goalie', 'Luke Pearson', '2021-10-30-Yale-Brown')]]\n",
      "(Background on this error at: https://sqlalche.me/e/20/e3q8)\n"
     ]
    },
    {
     "name": "stderr",
     "output_type": "stream",
     "text": [
      "Scraping games:  19%|█▉        | 212/1106 [10:01<42:43,  2.87s/it]"
     ]
    },
    {
     "name": "stdout",
     "output_type": "stream",
     "text": [
      "Error saving to table line_chart: (sqlite3.OperationalError) table line_chart has no column named Team\n",
      "[SQL: INSERT INTO line_chart (\"Team\", \"Line\", \"Position\", \"Player\", \"Game_ID\") VALUES (?, ?, ?, ?, ?)]\n",
      "[parameters: [('Rensselaer', 1, 'Left Wing', 'Ottoville Leppanen', '2021-10-30-Union-Rensselaer'), ('Rensselaer', 1, 'Center', 'Ture Linden', '2021-10-30-Union-Rensselaer'), ('Rensselaer', 1, 'Right Wing', 'Ryan Mahshie', '2021-10-30-Union-Rensselaer'), ('Rensselaer', 2, 'Left Wing', 'Shane Sellar', '2021-10-30-Union-Rensselaer'), ('Rensselaer', 2, 'Center', 'John Beaton', '2021-10-30-Union-Rensselaer'), ('Rensselaer', 2, 'Right Wing', 'Jakub Lacka', '2021-10-30-Union-Rensselaer'), ('Rensselaer', 3, 'Left Wing', 'Justin Addamo', '2021-10-30-Union-Rensselaer'), ('Rensselaer', 3, 'Center', 'Zach Dubinsky', '2021-10-30-Union-Rensselaer')  ... displaying 10 of 45 total bound parameter sets ...  ('Union', 'Goalie 2', 'Goalie', 'Connor Murphy', '2021-10-30-Union-Rensselaer'), ('Union', 'Goalie 3', 'Goalie', 'Joe Sharib', '2021-10-30-Union-Rensselaer')]]\n",
      "(Background on this error at: https://sqlalche.me/e/20/e3q8)\n"
     ]
    },
    {
     "name": "stderr",
     "output_type": "stream",
     "text": [
      "Scraping games:  19%|█▉        | 213/1106 [10:04<42:42,  2.87s/it]"
     ]
    },
    {
     "name": "stdout",
     "output_type": "stream",
     "text": [
      "Error saving to table line_chart: (sqlite3.OperationalError) table line_chart has no column named Team\n",
      "[SQL: INSERT INTO line_chart (\"Team\", \"Line\", \"Position\", \"Player\", \"Game_ID\") VALUES (?, ?, ?, ?, ?)]\n",
      "[parameters: [('Bemidji State', 1, 'Left Wing', 'Jere Vaisanen', '2021-10-30-Bowling Green-Bemidji State'), ('Bemidji State', 1, 'Center', 'Owen Sillinger', '2021-10-30-Bowling Green-Bemidji State'), ('Bemidji State', 1, 'Right Wing', 'Alex Ierullo', '2021-10-30-Bowling Green-Bemidji State'), ('Bemidji State', 2, 'Left Wing', 'Ethan Somoza', '2021-10-30-Bowling Green-Bemidji State'), ('Bemidji State', 2, 'Center', 'Ross Armour', '2021-10-30-Bowling Green-Bemidji State'), ('Bemidji State', 2, 'Right Wing', 'Eric Martin', '2021-10-30-Bowling Green-Bemidji State'), ('Bemidji State', 3, 'Left Wing', 'Lukas Sillinger', '2021-10-30-Bowling Green-Bemidji State'), ('Bemidji State', 3, 'Center', 'Tyler Kirkup', '2021-10-30-Bowling Green-Bemidji State')  ... displaying 10 of 43 total bound parameter sets ...  ('Bowling Green', 'Goalie 1', 'Goalie', 'Zack Rose', '2021-10-30-Bowling Green-Bemidji State'), ('Bowling Green', 'Goalie 2', 'Goalie', 'Christian Stoever', '2021-10-30-Bowling Green-Bemidji State')]]\n",
      "(Background on this error at: https://sqlalche.me/e/20/e3q8)\n"
     ]
    },
    {
     "name": "stderr",
     "output_type": "stream",
     "text": [
      "Scraping games:  19%|█▉        | 214/1106 [10:07<43:00,  2.89s/it]"
     ]
    },
    {
     "name": "stdout",
     "output_type": "stream",
     "text": [
      "Error saving to table line_chart: (sqlite3.OperationalError) table line_chart has no column named Team\n",
      "[SQL: INSERT INTO line_chart (\"Team\", \"Line\", \"Position\", \"Player\", \"Game_ID\") VALUES (?, ?, ?, ?, ?)]\n",
      "[parameters: [('Minnesota State', 1, 'Left Wing', 'Julian Napravnik', '2021-10-30-Northern Michigan-Minnesota State'), ('Minnesota State', 1, 'Center', 'Nathan Smith', '2021-10-30-Northern Michigan-Minnesota State'), ('Minnesota State', 1, 'Right Wing', 'Cade Borchardt', '2021-10-30-Northern Michigan-Minnesota State'), ('Minnesota State', 2, 'Left Wing', 'Reggie Lutz', '2021-10-30-Northern Michigan-Minnesota State'), ('Minnesota State', 2, 'Center', 'David Silye', '2021-10-30-Northern Michigan-Minnesota State'), ('Minnesota State', 2, 'Right Wing', 'Ryan Sandelin', '2021-10-30-Northern Michigan-Minnesota State'), ('Minnesota State', 3, 'Left Wing', 'Sam Morton', '2021-10-30-Northern Michigan-Minnesota State'), ('Minnesota State', 3, 'Center', 'Brendan Furry', '2021-10-30-Northern Michigan-Minnesota State')  ... displaying 10 of 43 total bound parameter sets ...  ('Northern Michigan', 'Goalie 1', 'Goalie', 'Nolan Kent', '2021-10-30-Northern Michigan-Minnesota State'), ('Northern Michigan', 'Goalie 2', 'Goalie', 'Rico DiMatteo', '2021-10-30-Northern Michigan-Minnesota State')]]\n",
      "(Background on this error at: https://sqlalche.me/e/20/e3q8)\n"
     ]
    },
    {
     "name": "stderr",
     "output_type": "stream",
     "text": [
      "Scraping games:  19%|█▉        | 215/1106 [10:10<43:15,  2.91s/it]"
     ]
    },
    {
     "name": "stdout",
     "output_type": "stream",
     "text": [
      "Error saving to table line_chart: (sqlite3.OperationalError) table line_chart has no column named Team\n",
      "[SQL: INSERT INTO line_chart (\"Team\", \"Line\", \"Position\", \"Player\", \"Game_ID\") VALUES (?, ?, ?, ?, ?)]\n",
      "[parameters: [('Mass.-Lowell', 1, 'Left Wing', 'Andre Lee', '2021-11-03-Long Island-Mass.-Lowell'), ('Mass.-Lowell', 1, 'Center', 'Carl Berglund', '2021-11-03-Long Island-Mass.-Lowell'), ('Mass.-Lowell', 1, 'Right Wing', 'Reid Stefanson', '2021-11-03-Long Island-Mass.-Lowell'), ('Mass.-Lowell', 2, 'Left Wing', 'Andranik Armstrong-Kingkade', '2021-11-03-Long Island-Mass.-Lowell'), ('Mass.-Lowell', 2, 'Center', 'Lucas Condotta', '2021-11-03-Long Island-Mass.-Lowell'), ('Mass.-Lowell', 2, 'Right Wing', 'Matt Crasa', '2021-11-03-Long Island-Mass.-Lowell'), ('Mass.-Lowell', 3, 'Left Wing', 'Josh Latta', '2021-11-03-Long Island-Mass.-Lowell'), ('Mass.-Lowell', 3, 'Center', 'Connor Sodergren', '2021-11-03-Long Island-Mass.-Lowell')  ... displaying 10 of 44 total bound parameter sets ...  ('Long Island', 'Goalie 2', 'Goalie', 'Vinnie Purpura', '2021-11-03-Long Island-Mass.-Lowell'), ('Long Island', 'Goalie 3', 'Goalie', 'Brandon Perrone', '2021-11-03-Long Island-Mass.-Lowell')]]\n",
      "(Background on this error at: https://sqlalche.me/e/20/e3q8)\n"
     ]
    },
    {
     "name": "stderr",
     "output_type": "stream",
     "text": [
      "Scraping games:  20%|█▉        | 216/1106 [10:12<42:33,  2.87s/it]"
     ]
    },
    {
     "name": "stdout",
     "output_type": "stream",
     "text": [
      "Error saving to table line_chart: (sqlite3.OperationalError) table line_chart has no column named Team\n",
      "[SQL: INSERT INTO line_chart (\"Team\", \"Line\", \"Position\", \"Player\", \"Game_ID\") VALUES (?, ?, ?, ?, ?)]\n",
      "[parameters: [('Holy Cross', 1, 'Left Wing', 'Lucas Thorne', '2021-11-04-Holy Cross-Notre Dame'), ('Holy Cross', 1, 'Center', 'Jack MacNab', '2021-11-04-Holy Cross-Notre Dame'), ('Holy Cross', 1, 'Right Wing', 'Grayson Constable', '2021-11-04-Holy Cross-Notre Dame'), ('Holy Cross', 2, 'Left Wing', 'Tyler Ghirardosi', '2021-11-04-Holy Cross-Notre Dame'), ('Holy Cross', 2, 'Center', 'Matt Guerra', '2021-11-04-Holy Cross-Notre Dame'), ('Holy Cross', 2, 'Right Wing', 'Jack Ricketts', '2021-11-04-Holy Cross-Notre Dame'), ('Holy Cross', 3, 'Left Wing', 'Alex Peterson', '2021-11-04-Holy Cross-Notre Dame'), ('Holy Cross', 3, 'Center', 'Ryan Leibold', '2021-11-04-Holy Cross-Notre Dame')  ... displaying 10 of 44 total bound parameter sets ...  ('Notre Dame', 'Goalie 2', 'Goalie', 'Matthew Galajda', '2021-11-04-Holy Cross-Notre Dame'), ('Notre Dame', 'Goalie 3', 'Goalie', 'Josh Graziano', '2021-11-04-Holy Cross-Notre Dame')]]\n",
      "(Background on this error at: https://sqlalche.me/e/20/e3q8)\n"
     ]
    },
    {
     "name": "stderr",
     "output_type": "stream",
     "text": [
      "Scraping games:  20%|█▉        | 217/1106 [10:15<43:43,  2.95s/it]"
     ]
    },
    {
     "name": "stdout",
     "output_type": "stream",
     "text": [
      "Error saving to table line_chart: (sqlite3.OperationalError) table line_chart has no column named Team\n",
      "[SQL: INSERT INTO line_chart (\"Team\", \"Line\", \"Position\", \"Player\", \"Game_ID\") VALUES (?, ?, ?, ?, ?)]\n",
      "[parameters: [('Boston University', 1, 'Left Wing', 'Robert Mastrosimone', '2021-11-05-Boston University-Northern Michigan'), ('Boston University', 1, 'Center', 'Wilmer Skoog', '2021-11-05-Boston University-Northern Michigan'), ('Boston University', 1, 'Right Wing', 'Ethan Phillips', '2021-11-05-Boston University-Northern Michigan'), ('Boston University', 2, 'Left Wing', 'Logan Cockerill', '2021-11-05-Boston University-Northern Michigan'), ('Boston University', 2, 'Center', 'Ty Amonte', '2021-11-05-Boston University-Northern Michigan'), ('Boston University', 2, 'Right Wing', 'Brian Carrabes', '2021-11-05-Boston University-Northern Michigan'), ('Boston University', 3, 'Left Wing', 'Jamie Armstrong', '2021-11-05-Boston University-Northern Michigan'), ('Boston University', 3, 'Center', 'Nick Zabaneh', '2021-11-05-Boston University-Northern Michigan')  ... displaying 10 of 40 total bound parameter sets ...  ('Northern Michigan', 1, 'Extra', 'Michael', '2021-11-05-Boston University-Northern Michigan'), ('Northern Michigan', 'Goalie 1', 'Goalie', 'Rico DiMatteo', '2021-11-05-Boston University-Northern Michigan')]]\n",
      "(Background on this error at: https://sqlalche.me/e/20/e3q8)\n"
     ]
    },
    {
     "name": "stderr",
     "output_type": "stream",
     "text": [
      "Scraping games:  20%|█▉        | 218/1106 [10:18<43:18,  2.93s/it]"
     ]
    },
    {
     "name": "stdout",
     "output_type": "stream",
     "text": [
      "Error saving to table line_chart: (sqlite3.OperationalError) table line_chart has no column named Team\n",
      "[SQL: INSERT INTO line_chart (\"Team\", \"Line\", \"Position\", \"Player\", \"Game_ID\") VALUES (?, ?, ?, ?, ?)]\n",
      "[parameters: [('Holy Cross', 1, 'Left Wing', 'Lucas Thorne', '2021-11-05-Holy Cross-Notre Dame'), ('Holy Cross', 1, 'Center', 'Jack MacNab', '2021-11-05-Holy Cross-Notre Dame'), ('Holy Cross', 1, 'Right Wing', 'Grayson Constable', '2021-11-05-Holy Cross-Notre Dame'), ('Holy Cross', 2, 'Left Wing', 'Tyler Ghirardosi', '2021-11-05-Holy Cross-Notre Dame'), ('Holy Cross', 2, 'Center', 'Matt Guerra', '2021-11-05-Holy Cross-Notre Dame'), ('Holy Cross', 2, 'Right Wing', 'Jack Ricketts', '2021-11-05-Holy Cross-Notre Dame'), ('Holy Cross', 3, 'Left Wing', 'Alex Peterson', '2021-11-05-Holy Cross-Notre Dame'), ('Holy Cross', 3, 'Center', 'Ryan Leibold', '2021-11-05-Holy Cross-Notre Dame')  ... displaying 10 of 44 total bound parameter sets ...  ('Notre Dame', 'Goalie 2', 'Goalie', 'Matthew Galajda', '2021-11-05-Holy Cross-Notre Dame'), ('Notre Dame', 'Goalie 3', 'Goalie', 'Josh Graziano', '2021-11-05-Holy Cross-Notre Dame')]]\n",
      "(Background on this error at: https://sqlalche.me/e/20/e3q8)\n"
     ]
    },
    {
     "name": "stderr",
     "output_type": "stream",
     "text": [
      "Scraping games:  20%|█▉        | 219/1106 [10:21<43:41,  2.96s/it]"
     ]
    },
    {
     "name": "stdout",
     "output_type": "stream",
     "text": [
      "Error saving to table line_chart: (sqlite3.OperationalError) table line_chart has no column named Team\n",
      "[SQL: INSERT INTO line_chart (\"Team\", \"Line\", \"Position\", \"Player\", \"Game_ID\") VALUES (?, ?, ?, ?, ?)]\n",
      "[parameters: [('Bentley', 1, 'Left Wing', 'Harrison Scott', '2021-11-05-Canisius-Bentley'), ('Bentley', 1, 'Center', 'Brendan Hamblet', '2021-11-05-Canisius-Bentley'), ('Bentley', 1, 'Right Wing', 'Cooper Connell', '2021-11-05-Canisius-Bentley'), ('Bentley', 2, 'Left Wing', 'Matt Gosiewski', '2021-11-05-Canisius-Bentley'), ('Bentley', 2, 'Center', 'Phil Knies', '2021-11-05-Canisius-Bentley'), ('Bentley', 2, 'Right Wing', 'Collin Rutherford', '2021-11-05-Canisius-Bentley'), ('Bentley', 3, 'Left Wing', 'Brendan Walkom', '2021-11-05-Canisius-Bentley'), ('Bentley', 3, 'Center', 'Joe Winkelmann', '2021-11-05-Canisius-Bentley')  ... displaying 10 of 43 total bound parameter sets ...  ('Canisius', 'Goalie 1', 'Goalie', 'Jacob Barczewski', '2021-11-05-Canisius-Bentley'), ('Canisius', 'Goalie 2', 'Goalie', 'John Hawthorne', '2021-11-05-Canisius-Bentley')]]\n",
      "(Background on this error at: https://sqlalche.me/e/20/e3q8)\n"
     ]
    },
    {
     "name": "stderr",
     "output_type": "stream",
     "text": [
      "Scraping games:  20%|█▉        | 220/1106 [10:24<43:32,  2.95s/it]"
     ]
    },
    {
     "name": "stdout",
     "output_type": "stream",
     "text": [
      "Error saving to table line_chart: (sqlite3.OperationalError) table line_chart has no column named Team\n",
      "[SQL: INSERT INTO line_chart (\"Team\", \"Line\", \"Position\", \"Player\", \"Game_ID\") VALUES (?, ?, ?, ?, ?)]\n",
      "[parameters: [('Mercyhurst', 1, 'Left Wing', 'Pierce Crawford', '2021-11-05-Sacred Heart-Mercyhurst'), ('Mercyhurst', 1, 'Center', 'Steven Ipri', '2021-11-05-Sacred Heart-Mercyhurst'), ('Mercyhurst', 1, 'Right Wing', 'Rylee St. Onge', '2021-11-05-Sacred Heart-Mercyhurst'), ('Mercyhurst', 2, 'Left Wing', 'Austin Heidemann', '2021-11-05-Sacred Heart-Mercyhurst'), ('Mercyhurst', 2, 'Center', 'Carson Briere', '2021-11-05-Sacred Heart-Mercyhurst'), ('Mercyhurst', 2, 'Right Wing', 'Dante Sheriff', '2021-11-05-Sacred Heart-Mercyhurst'), ('Mercyhurst', 3, 'Left Wing', 'Jonathan Bendorf', '2021-11-05-Sacred Heart-Mercyhurst'), ('Mercyhurst', 3, 'Center', 'Gueorgui Feduolov', '2021-11-05-Sacred Heart-Mercyhurst')  ... displaying 10 of 42 total bound parameter sets ...  ('Sacred Heart', 'Goalie 1', 'Goalie', 'Justin Robbins', '2021-11-05-Sacred Heart-Mercyhurst'), ('Sacred Heart', 'Goalie 2', 'Goalie', \"Jack O'Dea\", '2021-11-05-Sacred Heart-Mercyhurst')]]\n",
      "(Background on this error at: https://sqlalche.me/e/20/e3q8)\n"
     ]
    },
    {
     "name": "stderr",
     "output_type": "stream",
     "text": [
      "Scraping games:  20%|█▉        | 221/1106 [10:27<43:11,  2.93s/it]"
     ]
    },
    {
     "name": "stdout",
     "output_type": "stream",
     "text": [
      "Error saving to table line_chart: (sqlite3.OperationalError) table line_chart has no column named Team\n",
      "[SQL: INSERT INTO line_chart (\"Team\", \"Line\", \"Position\", \"Player\", \"Game_ID\") VALUES (?, ?, ?, ?, ?)]\n",
      "[parameters: [('Air Force', 1, 'Left Wing', 'Will Gavin', '2021-11-05-Air Force-Niagara'), ('Air Force', 1, 'Center', 'Clayton Cosentino', '2021-11-05-Air Force-Niagara'), ('Air Force', 1, 'Right Wing', 'Parker Brown', '2021-11-05-Air Force-Niagara'), ('Air Force', 2, 'Left Wing', 'Nate Horn', '2021-11-05-Air Force-Niagara'), ('Air Force', 2, 'Center', 'Andrew DeCarlo', '2021-11-05-Air Force-Niagara'), ('Air Force', 2, 'Right Wing', 'Austin Schwartz', '2021-11-05-Air Force-Niagara'), ('Air Force', 3, 'Left Wing', 'Bennett Norlin', '2021-11-05-Air Force-Niagara'), ('Air Force', 3, 'Center', 'Ty Pochipiniski', '2021-11-05-Air Force-Niagara')  ... displaying 10 of 44 total bound parameter sets ...  ('Niagara', 'Goalie 2', 'Goalie', 'Chad Veltri', '2021-11-05-Air Force-Niagara'), ('Niagara', 'Goalie 3', 'Goalie', 'Jake Sibell', '2021-11-05-Air Force-Niagara')]]\n",
      "(Background on this error at: https://sqlalche.me/e/20/e3q8)\n"
     ]
    },
    {
     "name": "stderr",
     "output_type": "stream",
     "text": [
      "Scraping games:  20%|██        | 223/1106 [10:33<42:48,  2.91s/it]"
     ]
    },
    {
     "name": "stdout",
     "output_type": "stream",
     "text": [
      "Error saving to table line_chart: (sqlite3.OperationalError) table line_chart has no column named Team\n",
      "[SQL: INSERT INTO line_chart (\"Team\", \"Line\", \"Position\", \"Player\", \"Game_ID\") VALUES (?, ?, ?, ?, ?)]\n",
      "[parameters: [('Rensselaer', 1, 'Left Wing', 'Ottoville Leppanen', '2021-11-05-St. Lawrence-Rensselaer'), ('Rensselaer', 1, 'Center', 'Ture Linden', '2021-11-05-St. Lawrence-Rensselaer'), ('Rensselaer', 1, 'Right Wing', 'Ryan Mahshie', '2021-11-05-St. Lawrence-Rensselaer'), ('Rensselaer', 2, 'Left Wing', 'Shane Sellar', '2021-11-05-St. Lawrence-Rensselaer'), ('Rensselaer', 2, 'Center', 'John Beaton', '2021-11-05-St. Lawrence-Rensselaer'), ('Rensselaer', 2, 'Right Wing', 'Jakub Lacka', '2021-11-05-St. Lawrence-Rensselaer'), ('Rensselaer', 3, 'Left Wing', 'Justin Addamo', '2021-11-05-St. Lawrence-Rensselaer'), ('Rensselaer', 3, 'Center', 'Zach Dubinsky', '2021-11-05-St. Lawrence-Rensselaer')  ... displaying 10 of 43 total bound parameter sets ...  ('St. Lawrence', 'Goalie 1', 'Goalie', 'Emil Zetterquist', '2021-11-05-St. Lawrence-Rensselaer'), ('St. Lawrence', 'Goalie 2', 'Goalie', 'Grant Adams', '2021-11-05-St. Lawrence-Rensselaer')]]\n",
      "(Background on this error at: https://sqlalche.me/e/20/e3q8)\n"
     ]
    },
    {
     "name": "stderr",
     "output_type": "stream",
     "text": [
      "Scraping games:  20%|██        | 224/1106 [10:36<42:32,  2.89s/it]"
     ]
    },
    {
     "name": "stdout",
     "output_type": "stream",
     "text": [
      "Error saving to table line_chart: (sqlite3.OperationalError) table line_chart has no column named Team\n",
      "[SQL: INSERT INTO line_chart (\"Team\", \"Line\", \"Position\", \"Player\", \"Game_ID\") VALUES (?, ?, ?, ?, ?)]\n",
      "[parameters: [('Clarkson', 1, 'Left Wing', 'Ayrton Martino', '2021-11-05-Clarkson-Union'), ('Clarkson', 1, 'Center', 'Zach Tsekos', '2021-11-05-Clarkson-Union'), ('Clarkson', 1, 'Right Wing', 'Anthony Romano', '2021-11-05-Clarkson-Union'), ('Clarkson', 2, 'Left Wing', 'Alex Campbell', '2021-11-05-Clarkson-Union'), ('Clarkson', 2, 'Center', 'Mathieu Gosselin', '2021-11-05-Clarkson-Union'), ('Clarkson', 2, 'Right Wing', 'Luke Santerno', '2021-11-05-Clarkson-Union'), ('Clarkson', 3, 'Left Wing', 'Chris Klack', '2021-11-05-Clarkson-Union'), ('Clarkson', 3, 'Center', 'Luke Mobley', '2021-11-05-Clarkson-Union')  ... displaying 10 of 43 total bound parameter sets ...  ('Union', 'Goalie 2', 'Goalie', 'Connor Murphy', '2021-11-05-Clarkson-Union'), ('Union', 'Goalie 3', 'Goalie', 'Joe Sharib', '2021-11-05-Clarkson-Union')]]\n",
      "(Background on this error at: https://sqlalche.me/e/20/e3q8)\n"
     ]
    },
    {
     "name": "stderr",
     "output_type": "stream",
     "text": [
      "Scraping games:  20%|██        | 226/1106 [10:41<41:48,  2.85s/it]"
     ]
    },
    {
     "name": "stdout",
     "output_type": "stream",
     "text": [
      "Error saving to table line_chart: (sqlite3.OperationalError) table line_chart has no column named Team\n",
      "[SQL: INSERT INTO line_chart (\"Team\", \"Line\", \"Position\", \"Player\", \"Game_ID\") VALUES (?, ?, ?, ?, ?)]\n",
      "[parameters: [('Brown', 1, 'Left Wing', 'Justin Jallen', '2021-11-05-Princeton-Brown'), ('Brown', 1, 'Center', 'Tristan Crozier', '2021-11-05-Princeton-Brown'), ('Brown', 1, 'Right Wing', 'Bradley Cocca', '2021-11-05-Princeton-Brown'), ('Brown', 2, 'Left Wing', 'Jordan Tonelli', '2021-11-05-Princeton-Brown'), ('Brown', 2, 'Center', 'Michael Maloney', '2021-11-05-Princeton-Brown'), ('Brown', 2, 'Right Wing', 'Matt Sutton', '2021-11-05-Princeton-Brown'), ('Brown', 3, 'Left Wing', 'Nathan Plessis', '2021-11-05-Princeton-Brown'), ('Brown', 3, 'Center', 'Cole Quisenberry', '2021-11-05-Princeton-Brown')  ... displaying 10 of 44 total bound parameter sets ...  ('Princeton', 'Goalie 2', 'Goalie', 'Aidan Porter', '2021-11-05-Princeton-Brown'), ('Princeton', 'Goalie 3', 'Goalie', 'Ethan Pierson', '2021-11-05-Princeton-Brown')]]\n",
      "(Background on this error at: https://sqlalche.me/e/20/e3q8)\n"
     ]
    },
    {
     "name": "stderr",
     "output_type": "stream",
     "text": [
      "Scraping games:  21%|██        | 227/1106 [10:44<41:27,  2.83s/it]"
     ]
    },
    {
     "name": "stdout",
     "output_type": "stream",
     "text": [
      "Error saving to table line_chart: (sqlite3.OperationalError) table line_chart has no column named Team\n",
      "[SQL: INSERT INTO line_chart (\"Team\", \"Line\", \"Position\", \"Player\", \"Game_ID\") VALUES (?, ?, ?, ?, ?)]\n",
      "[parameters: [('Colgate', 1, 'Left Wing', 'Arnaud Vachon', '2021-11-05-Colgate-Dartmouth'), ('Colgate', 1, 'Center', 'Josh McKechney', '2021-11-05-Colgate-Dartmouth'), ('Colgate', 1, 'Right Wing', 'Griffin Lunn', '2021-11-05-Colgate-Dartmouth'), ('Colgate', 2, 'Left Wing', 'Colton Young', '2021-11-05-Colgate-Dartmouth'), ('Colgate', 2, 'Center', 'Jeff Stewart', '2021-11-05-Colgate-Dartmouth'), ('Colgate', 2, 'Right Wing', 'Ethan Manderville', '2021-11-05-Colgate-Dartmouth'), ('Colgate', 3, 'Left Wing', 'Matt Verboon', '2021-11-05-Colgate-Dartmouth'), ('Colgate', 3, 'Center', 'Alex DiPaolo', '2021-11-05-Colgate-Dartmouth')  ... displaying 10 of 44 total bound parameter sets ...  ('Dartmouth', 'Goalie 2', 'Goalie', 'Clay Stevenson', '2021-11-05-Colgate-Dartmouth'), ('Dartmouth', 'Goalie 3', 'Goalie', 'Troy Burkhart', '2021-11-05-Colgate-Dartmouth')]]\n",
      "(Background on this error at: https://sqlalche.me/e/20/e3q8)\n"
     ]
    },
    {
     "name": "stderr",
     "output_type": "stream",
     "text": [
      "Scraping games:  21%|██        | 228/1106 [10:47<41:29,  2.84s/it]"
     ]
    },
    {
     "name": "stdout",
     "output_type": "stream",
     "text": [
      "Error saving to table line_chart: (sqlite3.OperationalError) table line_chart has no column named Team\n",
      "[SQL: INSERT INTO line_chart (\"Team\", \"Line\", \"Position\", \"Player\", \"Game_ID\") VALUES (?, ?, ?, ?, ?)]\n",
      "[parameters: [('Boston College', 1, 'Left Wing', 'Brandon Kruse', '2021-11-05-Boston College-Merrimack'), ('Boston College', 1, 'Center', 'Jack McBain', '2021-11-05-Boston College-Merrimack'), ('Boston College', 1, 'Right Wing', 'Nikita Nesterenko', '2021-11-05-Boston College-Merrimack'), ('Boston College', 2, 'Left Wing', 'Trevor Kuntar', '2021-11-05-Boston College-Merrimack'), ('Boston College', 2, 'Center', 'Marc McLaughlin', '2021-11-05-Boston College-Merrimack'), ('Boston College', 2, 'Right Wing', 'Colby Ambrosio', '2021-11-05-Boston College-Merrimack'), ('Boston College', 3, 'Left Wing', 'Mike Posma', '2021-11-05-Boston College-Merrimack'), ('Boston College', 3, 'Center', 'Patrick Giles', '2021-11-05-Boston College-Merrimack')  ... displaying 10 of 43 total bound parameter sets ...  ('Merrimack', 'Goalie 2', 'Goalie', 'Zachary Borgiel', '2021-11-05-Boston College-Merrimack'), ('Merrimack', 'Goalie 3', 'Goalie', 'Hugo Ollas', '2021-11-05-Boston College-Merrimack')]]\n",
      "(Background on this error at: https://sqlalche.me/e/20/e3q8)\n"
     ]
    },
    {
     "name": "stderr",
     "output_type": "stream",
     "text": [
      "Scraping games:  21%|██        | 229/1106 [10:50<41:51,  2.86s/it]"
     ]
    },
    {
     "name": "stdout",
     "output_type": "stream",
     "text": [
      "Error saving to table line_chart: (sqlite3.OperationalError) table line_chart has no column named Team\n",
      "[SQL: INSERT INTO line_chart (\"Team\", \"Line\", \"Position\", \"Player\", \"Game_ID\") VALUES (?, ?, ?, ?, ?)]\n",
      "[parameters: [('Massachusetts', 1, 'Left Wing', 'Bobby Trivigno', '2021-11-05-Providence-Massachusetts'), ('Massachusetts', 1, 'Center', 'Eric Faith', '2021-11-05-Providence-Massachusetts'), ('Massachusetts', 1, 'Right Wing', 'Garrett Wait', '2021-11-05-Providence-Massachusetts'), ('Massachusetts', 2, 'Left Wing', 'Cal Kiefiuk', '2021-11-05-Providence-Massachusetts'), ('Massachusetts', 2, 'Center', 'Anthony Del Gaizo', '2021-11-05-Providence-Massachusetts'), ('Massachusetts', 2, 'Right Wing', 'Reed Lebster', '2021-11-05-Providence-Massachusetts'), ('Massachusetts', 3, 'Left Wing', 'Oliver MacDonald', '2021-11-05-Providence-Massachusetts'), ('Massachusetts', 3, 'Center', 'Matt Baker', '2021-11-05-Providence-Massachusetts')  ... displaying 10 of 43 total bound parameter sets ...  ('Providence', 'Goalie 2', 'Goalie', 'Jimmy Scannell', '2021-11-05-Providence-Massachusetts'), ('Providence', 'Goalie 3', 'Goalie', 'Jaxson Stauber', '2021-11-05-Providence-Massachusetts')]]\n",
      "(Background on this error at: https://sqlalche.me/e/20/e3q8)\n"
     ]
    },
    {
     "name": "stderr",
     "output_type": "stream",
     "text": [
      "Scraping games:  21%|██        | 230/1106 [10:53<41:16,  2.83s/it]"
     ]
    },
    {
     "name": "stdout",
     "output_type": "stream",
     "text": [
      "Error saving to table line_chart: (sqlite3.OperationalError) table line_chart has no column named Team\n",
      "[SQL: INSERT INTO line_chart (\"Team\", \"Line\", \"Position\", \"Player\", \"Game_ID\") VALUES (?, ?, ?, ?, ?)]\n",
      "[parameters: [('New Hampshire', 1, 'Left Wing', 'Tyler Ward', '2021-11-05-Northeastern-New Hampshire'), ('New Hampshire', 1, 'Center', 'Filip Engaras', '2021-11-05-Northeastern-New Hampshire'), ('New Hampshire', 1, 'Right Wing', 'Eric MacAdams', '2021-11-05-Northeastern-New Hampshire'), ('New Hampshire', 2, 'Left Wing', 'Liam Devlin', '2021-11-05-Northeastern-New Hampshire'), ('New Hampshire', 2, 'Center', 'Jackson Pierson', '2021-11-05-Northeastern-New Hampshire'), ('New Hampshire', 2, 'Right Wing', 'Chase Stevenson', '2021-11-05-Northeastern-New Hampshire'), ('New Hampshire', 3, 'Left Wing', 'Carsen Richels', '2021-11-05-Northeastern-New Hampshire'), ('New Hampshire', 3, 'Center', 'Harrison Blaisdell', '2021-11-05-Northeastern-New Hampshire')  ... displaying 10 of 44 total bound parameter sets ...  ('Northeastern', 'Goalie 2', 'Goalie', 'Devon Levi', '2021-11-05-Northeastern-New Hampshire'), ('Northeastern', 'Goalie 3', 'Goalie', 'TJ Semptimphelter', '2021-11-05-Northeastern-New Hampshire')]]\n",
      "(Background on this error at: https://sqlalche.me/e/20/e3q8)\n"
     ]
    },
    {
     "name": "stderr",
     "output_type": "stream",
     "text": [
      "Scraping games:  21%|██        | 231/1106 [10:56<42:03,  2.88s/it]"
     ]
    },
    {
     "name": "stdout",
     "output_type": "stream",
     "text": [
      "Error saving to table line_chart: (sqlite3.OperationalError) table line_chart has no column named Team\n",
      "[SQL: INSERT INTO line_chart (\"Team\", \"Line\", \"Position\", \"Player\", \"Game_ID\") VALUES (?, ?, ?, ?, ?)]\n",
      "[parameters: [('Connecticut', 1, 'Left Wing', 'Marc Gatcomb', '2021-11-05-Connecticut-Maine'), ('Connecticut', 1, 'Center', 'Jachym Kondelik', '2021-11-05-Connecticut-Maine'), ('Connecticut', 1, 'Right Wing', 'Jonny Evans', '2021-11-05-Connecticut-Maine'), ('Connecticut', 2, 'Left Wing', 'Vladislav Firstov', '2021-11-05-Connecticut-Maine'), ('Connecticut', 2, 'Center', 'Artem Shlaine', '2021-11-05-Connecticut-Maine'), ('Connecticut', 2, 'Right Wing', 'Nick Capone', '2021-11-05-Connecticut-Maine'), ('Connecticut', 3, 'Left Wing', 'Chase Bradley', '2021-11-05-Connecticut-Maine'), ('Connecticut', 3, 'Center', 'Hudson Schandor', '2021-11-05-Connecticut-Maine')  ... displaying 10 of 40 total bound parameter sets ...  ('Maine', 1, 'Extra', 'Dominic', '2021-11-05-Connecticut-Maine'), ('Maine', 'Goalie 1', 'Goalie', 'Matthew Thiessen', '2021-11-05-Connecticut-Maine')]]\n",
      "(Background on this error at: https://sqlalche.me/e/20/e3q8)\n"
     ]
    },
    {
     "name": "stderr",
     "output_type": "stream",
     "text": [
      "Scraping games:  21%|██        | 232/1106 [10:59<42:24,  2.91s/it]"
     ]
    },
    {
     "name": "stdout",
     "output_type": "stream",
     "text": [
      "Error saving to table line_chart: (sqlite3.OperationalError) table line_chart has no column named Team\n",
      "[SQL: INSERT INTO line_chart (\"Team\", \"Line\", \"Position\", \"Player\", \"Game_ID\") VALUES (?, ?, ?, ?, ?)]\n",
      "[parameters: [('Ohio State', 1, 'Left Wing', 'Tate Singleton', '2021-11-05-Penn State-Ohio State'), ('Ohio State', 1, 'Center', 'Gustaf Westlund', '2021-11-05-Penn State-Ohio State'), ('Ohio State', 1, 'Right Wing', 'Travis Treloar', '2021-11-05-Penn State-Ohio State'), ('Ohio State', 2, 'Left Wing', 'Mark Cheremeta', '2021-11-05-Penn State-Ohio State'), ('Ohio State', 2, 'Center', 'Jake Wise', '2021-11-05-Penn State-Ohio State'), ('Ohio State', 2, 'Right Wing', 'Eric Cooley', '2021-11-05-Penn State-Ohio State'), ('Ohio State', 3, 'Left Wing', 'Cam Thiesing', '2021-11-05-Penn State-Ohio State'), ('Ohio State', 3, 'Center', 'Georgii Merkulov', '2021-11-05-Penn State-Ohio State')  ... displaying 10 of 44 total bound parameter sets ...  ('Penn State', 'Goalie 2', 'Goalie', 'Liam Souliere', '2021-11-05-Penn State-Ohio State'), ('Penn State', 'Goalie 3', 'Goalie', 'Doug Dorr', '2021-11-05-Penn State-Ohio State')]]\n",
      "(Background on this error at: https://sqlalche.me/e/20/e3q8)\n"
     ]
    },
    {
     "name": "stderr",
     "output_type": "stream",
     "text": [
      "Scraping games:  21%|██        | 233/1106 [11:02<42:13,  2.90s/it]"
     ]
    },
    {
     "name": "stdout",
     "output_type": "stream",
     "text": [
      "Error saving to table line_chart: (sqlite3.OperationalError) table line_chart has no column named Team\n",
      "[SQL: INSERT INTO line_chart (\"Team\", \"Line\", \"Position\", \"Player\", \"Game_ID\") VALUES (?, ?, ?, ?, ?)]\n",
      "[parameters: [('Michigan', 1, 'Left Wing', 'Kent Johnson', '2021-11-05-Michigan State-Michigan'), ('Michigan', 1, 'Center', 'Matty Beniers', '2021-11-05-Michigan State-Michigan'), ('Michigan', 1, 'Right Wing', 'Nick Granowicz', '2021-11-05-Michigan State-Michigan'), ('Michigan', 2, 'Left Wing', 'Brendan Brisson', '2021-11-05-Michigan State-Michigan'), ('Michigan', 2, 'Center', 'Thomas Bordeleau', '2021-11-05-Michigan State-Michigan'), ('Michigan', 2, 'Right Wing', 'Mackie Samoskevich', '2021-11-05-Michigan State-Michigan'), ('Michigan', 3, 'Left Wing', 'Michael Pastujov', '2021-11-05-Michigan State-Michigan'), ('Michigan', 3, 'Center', 'Garrett Van Wyhe', '2021-11-05-Michigan State-Michigan')  ... displaying 10 of 44 total bound parameter sets ...  ('Michigan State', 'Goalie 2', 'Goalie', 'Pierce Charleson', '2021-11-05-Michigan State-Michigan'), ('Michigan State', 'Goalie 3', 'Goalie', 'Jon Mor', '2021-11-05-Michigan State-Michigan')]]\n",
      "(Background on this error at: https://sqlalche.me/e/20/e3q8)\n"
     ]
    },
    {
     "name": "stderr",
     "output_type": "stream",
     "text": [
      "Scraping games:  21%|██        | 234/1106 [11:05<42:21,  2.91s/it]"
     ]
    },
    {
     "name": "stdout",
     "output_type": "stream",
     "text": [
      "Error saving to table line_chart: (sqlite3.OperationalError) table line_chart has no column named Team\n",
      "[SQL: INSERT INTO line_chart (\"Team\", \"Line\", \"Position\", \"Player\", \"Game_ID\") VALUES (?, ?, ?, ?, ?)]\n",
      "[parameters: [('Minnesota', 1, 'Left Wing', 'Blake McLaughlin', '2021-11-05-Minnesota-Wisconsin'), ('Minnesota', 1, 'Center', 'Sammy Walker', '2021-11-05-Minnesota-Wisconsin'), ('Minnesota', 1, 'Right Wing', 'Bryce Brodzinski', '2021-11-05-Minnesota-Wisconsin'), ('Minnesota', 2, 'Left Wing', 'Matthew Knies', '2021-11-05-Minnesota-Wisconsin'), ('Minnesota', 2, 'Center', 'Ben Meyers', '2021-11-05-Minnesota-Wisconsin'), ('Minnesota', 2, 'Right Wing', 'Mason Nevers', '2021-11-05-Minnesota-Wisconsin'), ('Minnesota', 3, 'Left Wing', 'Tristan Broz', '2021-11-05-Minnesota-Wisconsin'), ('Minnesota', 3, 'Center', 'Jack Perbix', '2021-11-05-Minnesota-Wisconsin')  ... displaying 10 of 43 total bound parameter sets ...  ('Wisconsin', 'Goalie 2', 'Goalie', 'Cameron Rowe', '2021-11-05-Minnesota-Wisconsin'), ('Wisconsin', 'Goalie 3', 'Goalie', 'Ben Garrity', '2021-11-05-Minnesota-Wisconsin')]]\n",
      "(Background on this error at: https://sqlalche.me/e/20/e3q8)\n"
     ]
    },
    {
     "name": "stderr",
     "output_type": "stream",
     "text": [
      "Scraping games:  21%|██        | 235/1106 [11:07<42:11,  2.91s/it]"
     ]
    },
    {
     "name": "stdout",
     "output_type": "stream",
     "text": [
      "Error saving to table line_chart: (sqlite3.OperationalError) table line_chart has no column named Team\n",
      "[SQL: INSERT INTO line_chart (\"Team\", \"Line\", \"Position\", \"Player\", \"Game_ID\") VALUES (?, ?, ?, ?, ?)]\n",
      "[parameters: [('Ferris State', 1, 'Left Wing', 'Liam MacDougall', '2021-11-05-Minnesota State-Ferris State'), ('Ferris State', 1, 'Center', 'Dallas Tulik', '2021-11-05-Minnesota State-Ferris State'), ('Ferris State', 1, 'Right Wing', 'Justin Michaelian', '2021-11-05-Minnesota State-Ferris State'), ('Ferris State', 2, 'Left Wing', 'Zach Faremouth', '2021-11-05-Minnesota State-Ferris State'), ('Ferris State', 2, 'Center', 'Bradley Marek', '2021-11-05-Minnesota State-Ferris State'), ('Ferris State', 2, 'Right Wing', 'Marshall Moise', '2021-11-05-Minnesota State-Ferris State'), ('Ferris State', 3, 'Left Wing', 'Jacob Dirks', '2021-11-05-Minnesota State-Ferris State'), ('Ferris State', 3, 'Center', 'Brenden MacLaren', '2021-11-05-Minnesota State-Ferris State')  ... displaying 10 of 43 total bound parameter sets ...  ('Minnesota State', 'Goalie 1', 'Goalie', 'Dryden McKay', '2021-11-05-Minnesota State-Ferris State'), ('Minnesota State', 'Goalie 2', 'Goalie', 'Keenan Rancier', '2021-11-05-Minnesota State-Ferris State')]]\n",
      "(Background on this error at: https://sqlalche.me/e/20/e3q8)\n"
     ]
    },
    {
     "name": "stderr",
     "output_type": "stream",
     "text": [
      "Scraping games:  21%|██▏       | 236/1106 [11:11<42:43,  2.95s/it]"
     ]
    },
    {
     "name": "stdout",
     "output_type": "stream",
     "text": [
      "Error saving to table line_chart: (sqlite3.OperationalError) table line_chart has no column named Team\n",
      "[SQL: INSERT INTO line_chart (\"Team\", \"Line\", \"Position\", \"Player\", \"Game_ID\") VALUES (?, ?, ?, ?, ?)]\n",
      "[parameters: [('Lake Superior', 1, 'Left Wing', 'Dawson Tritt', '2021-11-05-Lake Superior-Michigan Tech'), ('Lake Superior', 1, 'Center', 'Harrison Roy', '2021-11-05-Lake Superior-Michigan Tech'), ('Lake Superior', 1, 'Right Wing', 'Josh Nixon', '2021-11-05-Lake Superior-Michigan Tech'), ('Lake Superior', 2, 'Left Wing', 'Miroslav Mucha', '2021-11-05-Lake Superior-Michigan Tech'), ('Lake Superior', 2, 'Center', 'Louis Boudon', '2021-11-05-Lake Superior-Michigan Tech'), ('Lake Superior', 2, 'Right Wing', 'Brandon Puricelli', '2021-11-05-Lake Superior-Michigan Tech'), ('Lake Superior', 3, 'Left Wing', 'Logan Jenuwine', '2021-11-05-Lake Superior-Michigan Tech'), ('Lake Superior', 3, 'Center', 'Dustin Manz', '2021-11-05-Lake Superior-Michigan Tech')  ... displaying 10 of 42 total bound parameter sets ...  ('Michigan Tech', 'Goalie 1', 'Goalie', 'Blake Pietila', '2021-11-05-Lake Superior-Michigan Tech'), ('Michigan Tech', 'Goalie 2', 'Goalie', 'Cayden Bailey', '2021-11-05-Lake Superior-Michigan Tech')]]\n",
      "(Background on this error at: https://sqlalche.me/e/20/e3q8)\n"
     ]
    },
    {
     "name": "stderr",
     "output_type": "stream",
     "text": [
      "Scraping games:  21%|██▏       | 237/1106 [11:13<41:56,  2.90s/it]"
     ]
    },
    {
     "name": "stdout",
     "output_type": "stream",
     "text": [
      "Error saving to table line_chart: (sqlite3.OperationalError) table line_chart has no column named Team\n",
      "[SQL: INSERT INTO line_chart (\"Team\", \"Line\", \"Position\", \"Player\", \"Game_ID\") VALUES (?, ?, ?, ?, ?)]\n",
      "[parameters: [('Bowling Green', 1, 'Left Wing', 'Sam Craggs', '2021-11-05-St. Thomas-Bowling Green'), ('Bowling Green', 1, 'Center', 'Taylor Schneider', '2021-11-05-St. Thomas-Bowling Green'), ('Bowling Green', 1, 'Right Wing', 'Alex Barber', '2021-11-05-St. Thomas-Bowling Green'), ('Bowling Green', 2, 'Left Wing', 'Coale Norris', '2021-11-05-St. Thomas-Bowling Green'), ('Bowling Green', 2, 'Center', 'Austen Swankler', '2021-11-05-St. Thomas-Bowling Green'), ('Bowling Green', 2, 'Right Wing', 'Nathan Burke', '2021-11-05-St. Thomas-Bowling Green'), ('Bowling Green', 3, 'Left Wing', 'Chrystopher Collin', '2021-11-05-St. Thomas-Bowling Green'), ('Bowling Green', 3, 'Center', 'Ethan Scardina', '2021-11-05-St. Thomas-Bowling Green')  ... displaying 10 of 43 total bound parameter sets ...  ('St. Thomas', 'Goalie 1', 'Goalie', 'Peter Thome', '2021-11-05-St. Thomas-Bowling Green'), ('St. Thomas', 'Goalie 2', 'Goalie', 'Jacob Berger', '2021-11-05-St. Thomas-Bowling Green')]]\n",
      "(Background on this error at: https://sqlalche.me/e/20/e3q8)\n"
     ]
    },
    {
     "name": "stderr",
     "output_type": "stream",
     "text": [
      "Scraping games:  22%|██▏       | 238/1106 [11:16<42:43,  2.95s/it]"
     ]
    },
    {
     "name": "stdout",
     "output_type": "stream",
     "text": [
      "Error saving to table line_chart: (sqlite3.OperationalError) table line_chart has no column named Team\n",
      "[SQL: INSERT INTO line_chart (\"Team\", \"Line\", \"Position\", \"Player\", \"Game_ID\") VALUES (?, ?, ?, ?, ?)]\n",
      "[parameters: [('Minnesota-Duluth', 1, 'Left Wing', 'Noah Cates', '2021-11-05-Minnesota-Duluth-Western Michigan'), ('Minnesota-Duluth', 1, 'Center', 'Casey Gilling', '2021-11-05-Minnesota-Duluth-Western Michigan'), ('Minnesota-Duluth', 1, 'Right Wing', 'Tanner Laderoute', '2021-11-05-Minnesota-Duluth-Western Michigan'), ('Minnesota-Duluth', 2, 'Left Wing', 'Kobe Roth', '2021-11-05-Minnesota-Duluth-Western Michigan'), ('Minnesota-Duluth', 2, 'Center', 'Jesse Jacques', '2021-11-05-Minnesota-Duluth-Western Michigan'), ('Minnesota-Duluth', 2, 'Right Wing', 'Koby Bender', '2021-11-05-Minnesota-Duluth-Western Michigan'), ('Minnesota-Duluth', 3, 'Left Wing', 'Quinn Olson', '2021-11-05-Minnesota-Duluth-Western Michigan'), ('Minnesota-Duluth', 3, 'Center', 'Dominic James', '2021-11-05-Minnesota-Duluth-Western Michigan')  ... displaying 10 of 43 total bound parameter sets ...  ('Western Michigan', 'Goalie 2', 'Goalie', 'Alex Aslanidis', '2021-11-05-Minnesota-Duluth-Western Michigan'), ('Western Michigan', 'Goalie 3', 'Goalie', 'Ross Hawryluk', '2021-11-05-Minnesota-Duluth-Western Michigan')]]\n",
      "(Background on this error at: https://sqlalche.me/e/20/e3q8)\n"
     ]
    },
    {
     "name": "stderr",
     "output_type": "stream",
     "text": [
      "Scraping games:  22%|██▏       | 239/1106 [11:19<42:30,  2.94s/it]"
     ]
    },
    {
     "name": "stdout",
     "output_type": "stream",
     "text": [
      "Error saving to table line_chart: (sqlite3.OperationalError) table line_chart has no column named Team\n",
      "[SQL: INSERT INTO line_chart (\"Team\", \"Line\", \"Position\", \"Player\", \"Game_ID\") VALUES (?, ?, ?, ?, ?)]\n",
      "[parameters: [('Denver', 1, 'Left Wing', 'Carter Savoie', '2021-11-05-Denver-North Dakota'), ('Denver', 1, 'Center', 'Cole Guttman', '2021-11-05-Denver-North Dakota'), ('Denver', 1, 'Right Wing', 'Bobby Brink', '2021-11-05-Denver-North Dakota'), ('Denver', 2, 'Left Wing', 'Carter Mazur', '2021-11-05-Denver-North Dakota'), ('Denver', 2, 'Center', 'Massimo Rizzo', '2021-11-05-Denver-North Dakota'), ('Denver', 2, 'Right Wing', 'Cameron Wright', '2021-11-05-Denver-North Dakota'), ('Denver', 3, 'Left Wing', 'McKade Webster', '2021-11-05-Denver-North Dakota'), ('Denver', 3, 'Center', 'Brett Stapley', '2021-11-05-Denver-North Dakota')  ... displaying 10 of 43 total bound parameter sets ...  ('North Dakota', 'Goalie 2', 'Goalie', 'Harrison Feeney', '2021-11-05-Denver-North Dakota'), ('North Dakota', 'Goalie 3', 'Goalie', 'Jakob Hellsten', '2021-11-05-Denver-North Dakota')]]\n",
      "(Background on this error at: https://sqlalche.me/e/20/e3q8)\n"
     ]
    },
    {
     "name": "stderr",
     "output_type": "stream",
     "text": [
      "Scraping games:  22%|██▏       | 240/1106 [11:22<41:54,  2.90s/it]"
     ]
    },
    {
     "name": "stdout",
     "output_type": "stream",
     "text": [
      "Error saving to table line_chart: (sqlite3.OperationalError) table line_chart has no column named Team\n",
      "[SQL: INSERT INTO line_chart (\"Team\", \"Line\", \"Position\", \"Player\", \"Game_ID\") VALUES (?, ?, ?, ?, ?)]\n",
      "[parameters: [('Miami', 1, 'Left Wing', 'PJ Fletcher', '2021-11-05-Miami-Omaha'), ('Miami', 1, 'Center', 'Michael Regush', '2021-11-05-Miami-Omaha'), ('Miami', 1, 'Right Wing', 'Ryan Savage', '2021-11-05-Miami-Omaha'), ('Miami', 2, 'Left Wing', 'Chase Gresock', '2021-11-05-Miami-Omaha'), ('Miami', 2, 'Center', 'Red Savage', '2021-11-05-Miami-Omaha'), ('Miami', 2, 'Right Wing', 'Matt Barry', '2021-11-05-Miami-Omaha'), ('Miami', 3, 'Left Wing', 'Matthew Barbolini', '2021-11-05-Miami-Omaha'), ('Miami', 3, 'Center', 'Monte Graham', '2021-11-05-Miami-Omaha')  ... displaying 10 of 43 total bound parameter sets ...  ('Omaha', 'Goalie 2', 'Goalie', 'Austin Roden', '2021-11-05-Miami-Omaha'), ('Omaha', 'Goalie 3', 'Goalie', 'Jacob Zab', '2021-11-05-Miami-Omaha')]]\n",
      "(Background on this error at: https://sqlalche.me/e/20/e3q8)\n"
     ]
    },
    {
     "name": "stderr",
     "output_type": "stream",
     "text": [
      "Scraping games:  22%|██▏       | 241/1106 [11:25<43:33,  3.02s/it]"
     ]
    },
    {
     "name": "stdout",
     "output_type": "stream",
     "text": [
      "Error saving to table line_chart: (sqlite3.OperationalError) table line_chart has no column named Team\n",
      "[SQL: INSERT INTO line_chart (\"Team\", \"Line\", \"Position\", \"Player\", \"Game_ID\") VALUES (?, ?, ?, ?, ?)]\n",
      "[parameters: [('Colorado College', 1, 'Left Wing', 'Danny Weight', '2021-11-05-St. Cloud State-Colorado College'), ('Colorado College', 1, 'Center', 'Hunter McKown', '2021-11-05-St. Cloud State-Colorado College'), ('Colorado College', 1, 'Right Wing', 'Brian Hawkinson', '2021-11-05-St. Cloud State-Colorado College'), ('Colorado College', 2, 'Left Wing', 'Matthew Gleason', '2021-11-05-St. Cloud State-Colorado College'), ('Colorado College', 2, 'Center', 'Stanley Cooley', '2021-11-05-St. Cloud State-Colorado College'), ('Colorado College', 2, 'Right Wing', 'Jordan Biro', '2021-11-05-St. Cloud State-Colorado College'), ('Colorado College', 3, 'Left Wing', 'Tommy Middleton', '2021-11-05-St. Cloud State-Colorado College'), ('Colorado College', 3, 'Center', 'Jackson Jutting', '2021-11-05-St. Cloud State-Colorado College')  ... displaying 10 of 45 total bound parameter sets ...  ('St. Cloud State', 'Goalie 2', 'Goalie', 'Joey Lamoreaux', '2021-11-05-St. Cloud State-Colorado College'), ('St. Cloud State', 'Goalie 3', 'Goalie', 'Jaxon Castor', '2021-11-05-St. Cloud State-Colorado College')]]\n",
      "(Background on this error at: https://sqlalche.me/e/20/e3q8)\n"
     ]
    },
    {
     "name": "stderr",
     "output_type": "stream",
     "text": [
      "Scraping games:  22%|██▏       | 242/1106 [11:28<42:51,  2.98s/it]"
     ]
    },
    {
     "name": "stdout",
     "output_type": "stream",
     "text": [
      "Error saving to table line_chart: (sqlite3.OperationalError) table line_chart has no column named Team\n",
      "[SQL: INSERT INTO line_chart (\"Team\", \"Line\", \"Position\", \"Player\", \"Game_ID\") VALUES (?, ?, ?, ?, ?)]\n",
      "[parameters: [('Bentley', 1, 'Left Wing', 'Harrison Scott', '2021-11-06-Canisius-Bentley'), ('Bentley', 1, 'Center', 'Brendan Hamblet', '2021-11-06-Canisius-Bentley'), ('Bentley', 1, 'Right Wing', 'Cooper Connell', '2021-11-06-Canisius-Bentley'), ('Bentley', 2, 'Left Wing', 'Matt Gosiewski', '2021-11-06-Canisius-Bentley'), ('Bentley', 2, 'Center', 'Phil Knies', '2021-11-06-Canisius-Bentley'), ('Bentley', 2, 'Right Wing', 'Collin Rutherford', '2021-11-06-Canisius-Bentley'), ('Bentley', 3, 'Left Wing', 'Brendan Walkom', '2021-11-06-Canisius-Bentley'), ('Bentley', 3, 'Center', 'Joe Winkelmann', '2021-11-06-Canisius-Bentley')  ... displaying 10 of 43 total bound parameter sets ...  ('Canisius', 'Goalie 1', 'Goalie', 'Jacob Barczewski', '2021-11-06-Canisius-Bentley'), ('Canisius', 'Goalie 2', 'Goalie', 'John Hawthorne', '2021-11-06-Canisius-Bentley')]]\n",
      "(Background on this error at: https://sqlalche.me/e/20/e3q8)\n"
     ]
    },
    {
     "name": "stderr",
     "output_type": "stream",
     "text": [
      "Scraping games:  22%|██▏       | 243/1106 [11:31<41:51,  2.91s/it]"
     ]
    },
    {
     "name": "stdout",
     "output_type": "stream",
     "text": [
      "Error saving to table line_chart: (sqlite3.OperationalError) table line_chart has no column named Team\n",
      "[SQL: INSERT INTO line_chart (\"Team\", \"Line\", \"Position\", \"Player\", \"Game_ID\") VALUES (?, ?, ?, ?, ?)]\n",
      "[parameters: [('Mercyhurst', 1, 'Left Wing', 'Pierce Crawford', '2021-11-06-Sacred Heart-Mercyhurst'), ('Mercyhurst', 1, 'Center', 'Steven Ipri', '2021-11-06-Sacred Heart-Mercyhurst'), ('Mercyhurst', 1, 'Right Wing', 'Rylee St. Onge', '2021-11-06-Sacred Heart-Mercyhurst'), ('Mercyhurst', 2, 'Left Wing', 'Austin Heidemann', '2021-11-06-Sacred Heart-Mercyhurst'), ('Mercyhurst', 2, 'Center', 'Carson Briere', '2021-11-06-Sacred Heart-Mercyhurst'), ('Mercyhurst', 2, 'Right Wing', 'Dante Sheriff', '2021-11-06-Sacred Heart-Mercyhurst'), ('Mercyhurst', 3, 'Left Wing', 'Jonathan Bendorf', '2021-11-06-Sacred Heart-Mercyhurst'), ('Mercyhurst', 3, 'Center', 'Gueorgui Feduolov', '2021-11-06-Sacred Heart-Mercyhurst')  ... displaying 10 of 42 total bound parameter sets ...  ('Sacred Heart', 'Goalie 1', 'Goalie', 'Justin Robbins', '2021-11-06-Sacred Heart-Mercyhurst'), ('Sacred Heart', 'Goalie 2', 'Goalie', \"Jack O'Dea\", '2021-11-06-Sacred Heart-Mercyhurst')]]\n",
      "(Background on this error at: https://sqlalche.me/e/20/e3q8)\n"
     ]
    },
    {
     "name": "stderr",
     "output_type": "stream",
     "text": [
      "Scraping games:  22%|██▏       | 244/1106 [11:34<41:51,  2.91s/it]"
     ]
    },
    {
     "name": "stdout",
     "output_type": "stream",
     "text": [
      "Error saving to table line_chart: (sqlite3.OperationalError) table line_chart has no column named Team\n",
      "[SQL: INSERT INTO line_chart (\"Team\", \"Line\", \"Position\", \"Player\", \"Game_ID\") VALUES (?, ?, ?, ?, ?)]\n",
      "[parameters: [(\"American Int'l\", 1, 'Left Wing', 'Brian Rigali', \"2021-11-06-RIT-American Int'l\"), (\"American Int'l\", 1, 'Center', 'Julius Janhonen', \"2021-11-06-RIT-American Int'l\"), (\"American Int'l\", 1, 'Right Wing', 'Chris Dodero', \"2021-11-06-RIT-American Int'l\"), (\"American Int'l\", 2, 'Left Wing', 'Luka Maver', \"2021-11-06-RIT-American Int'l\"), (\"American Int'l\", 2, 'Center', 'Elijiah Barriga', \"2021-11-06-RIT-American Int'l\"), (\"American Int'l\", 2, 'Right Wing', 'Justin Cole', \"2021-11-06-RIT-American Int'l\"), (\"American Int'l\", 3, 'Left Wing', 'Chris Theodore', \"2021-11-06-RIT-American Int'l\"), (\"American Int'l\", 3, 'Center', 'Jake Stella', \"2021-11-06-RIT-American Int'l\")  ... displaying 10 of 44 total bound parameter sets ...  ('RIT', 'Goalie 2', 'Goalie', 'Daniel Chenard', \"2021-11-06-RIT-American Int'l\"), ('RIT', 'Goalie 3', 'Goalie', 'Tommy Scarfone', \"2021-11-06-RIT-American Int'l\")]]\n",
      "(Background on this error at: https://sqlalche.me/e/20/e3q8)\n"
     ]
    },
    {
     "name": "stderr",
     "output_type": "stream",
     "text": [
      "Scraping games:  22%|██▏       | 246/1106 [11:40<41:17,  2.88s/it]"
     ]
    },
    {
     "name": "stdout",
     "output_type": "stream",
     "text": [
      "Error saving to table line_chart: (sqlite3.OperationalError) table line_chart has no column named Team\n",
      "[SQL: INSERT INTO line_chart (\"Team\", \"Line\", \"Position\", \"Player\", \"Game_ID\") VALUES (?, ?, ?, ?, ?)]\n",
      "[parameters: [('Brown', 1, 'Left Wing', 'Justin Jallen', '2021-11-06-Quinnipiac-Brown'), ('Brown', 1, 'Center', 'Tristan Crozier', '2021-11-06-Quinnipiac-Brown'), ('Brown', 1, 'Right Wing', 'Jonny Russell', '2021-11-06-Quinnipiac-Brown'), ('Brown', 2, 'Left Wing', 'Jordan Tonelli', '2021-11-06-Quinnipiac-Brown'), ('Brown', 2, 'Center', 'Michael Maloney', '2021-11-06-Quinnipiac-Brown'), ('Brown', 2, 'Right Wing', 'Matt Sutton', '2021-11-06-Quinnipiac-Brown'), ('Brown', 3, 'Left Wing', 'Nathan Plessis', '2021-11-06-Quinnipiac-Brown'), ('Brown', 3, 'Center', 'Cole Quisenberry', '2021-11-06-Quinnipiac-Brown')  ... displaying 10 of 43 total bound parameter sets ...  ('Quinnipiac', 'Goalie 1', 'Goalie', 'Dylan St. Cyr', '2021-11-06-Quinnipiac-Brown'), ('Quinnipiac', 'Goalie 2', 'Goalie', 'Yaniv Perets', '2021-11-06-Quinnipiac-Brown')]]\n",
      "(Background on this error at: https://sqlalche.me/e/20/e3q8)\n"
     ]
    },
    {
     "name": "stderr",
     "output_type": "stream",
     "text": [
      "Scraping games:  22%|██▏       | 248/1106 [11:46<41:38,  2.91s/it]"
     ]
    },
    {
     "name": "stdout",
     "output_type": "stream",
     "text": [
      "Error saving to table line_chart: (sqlite3.OperationalError) table line_chart has no column named Team\n",
      "[SQL: INSERT INTO line_chart (\"Team\", \"Line\", \"Position\", \"Player\", \"Game_ID\") VALUES (?, ?, ?, ?, ?)]\n",
      "[parameters: [('Cornell', 1, 'Left Wing', 'Sullivan Mack', '2021-11-06-Cornell-Dartmouth'), ('Cornell', 1, 'Center', 'Max Andreev', '2021-11-06-Cornell-Dartmouth'), ('Cornell', 1, 'Right Wing', 'Matt Stienburg', '2021-11-06-Cornell-Dartmouth'), ('Cornell', 2, 'Left Wing', 'Ben Berard', '2021-11-06-Cornell-Dartmouth'), ('Cornell', 2, 'Center', 'Brenden Locke', '2021-11-06-Cornell-Dartmouth'), ('Cornell', 2, 'Right Wing', 'Kyler Kovich', '2021-11-06-Cornell-Dartmouth'), ('Cornell', 3, 'Left Wing', 'Ondrej Psenicka', '2021-11-06-Cornell-Dartmouth'), ('Cornell', 3, 'Center', 'Kyle Betts', '2021-11-06-Cornell-Dartmouth')  ... displaying 10 of 44 total bound parameter sets ...  ('Dartmouth', 'Goalie 2', 'Goalie', 'Clay Stevenson', '2021-11-06-Cornell-Dartmouth'), ('Dartmouth', 'Goalie 3', 'Goalie', 'Troy Burkhart', '2021-11-06-Cornell-Dartmouth')]]\n",
      "(Background on this error at: https://sqlalche.me/e/20/e3q8)\n"
     ]
    },
    {
     "name": "stderr",
     "output_type": "stream",
     "text": [
      "Scraping games:  23%|██▎       | 250/1106 [11:51<40:57,  2.87s/it]"
     ]
    },
    {
     "name": "stdout",
     "output_type": "stream",
     "text": [
      "Error saving to table line_chart: (sqlite3.OperationalError) table line_chart has no column named Team\n",
      "[SQL: INSERT INTO line_chart (\"Team\", \"Line\", \"Position\", \"Player\", \"Game_ID\") VALUES (?, ?, ?, ?, ?)]\n",
      "[parameters: [('Clarkson', 1, 'Left Wing', 'Ayrton Martino', '2021-11-06-Clarkson-Rensselaer'), ('Clarkson', 1, 'Center', 'Zach Tsekos', '2021-11-06-Clarkson-Rensselaer'), ('Clarkson', 1, 'Right Wing', 'Anthony Romano', '2021-11-06-Clarkson-Rensselaer'), ('Clarkson', 2, 'Left Wing', 'Alex Campbell', '2021-11-06-Clarkson-Rensselaer'), ('Clarkson', 2, 'Center', 'Mathieu Gosselin', '2021-11-06-Clarkson-Rensselaer'), ('Clarkson', 2, 'Right Wing', 'Luke Santerno', '2021-11-06-Clarkson-Rensselaer'), ('Clarkson', 3, 'Left Wing', 'Chris Klack', '2021-11-06-Clarkson-Rensselaer'), ('Clarkson', 3, 'Center', 'Ryan Richardson', '2021-11-06-Clarkson-Rensselaer')  ... displaying 10 of 45 total bound parameter sets ...  ('Rensselaer', 'Goalie 2', 'Goalie', 'Brett Miller', '2021-11-06-Clarkson-Rensselaer'), ('Rensselaer', 'Goalie 3', 'Goalie', 'Jack Watson', '2021-11-06-Clarkson-Rensselaer')]]\n",
      "(Background on this error at: https://sqlalche.me/e/20/e3q8)\n"
     ]
    },
    {
     "name": "stderr",
     "output_type": "stream",
     "text": [
      "Scraping games:  23%|██▎       | 251/1106 [11:54<41:17,  2.90s/it]"
     ]
    },
    {
     "name": "stdout",
     "output_type": "stream",
     "text": [
      "Error saving to table line_chart: (sqlite3.OperationalError) table line_chart has no column named Team\n",
      "[SQL: INSERT INTO line_chart (\"Team\", \"Line\", \"Position\", \"Player\", \"Game_ID\") VALUES (?, ?, ?, ?, ?)]\n",
      "[parameters: [('St. Lawrence', 1, 'Left Wing', 'Justin Paul', '2021-11-06-St. Lawrence-Union'), ('St. Lawrence', 1, 'Center', 'David Jankowski', '2021-11-06-St. Lawrence-Union'), ('St. Lawrence', 1, 'Right Wing', 'Chris Pappas', '2021-11-06-St. Lawrence-Union'), ('St. Lawrence', 2, 'Left Wing', 'Ashton Fry', '2021-11-06-St. Lawrence-Union'), ('St. Lawrence', 2, 'Center', 'Cameron Buhl', '2021-11-06-St. Lawrence-Union'), ('St. Lawrence', 2, 'Right Wing', 'Kaden Pickering', '2021-11-06-St. Lawrence-Union'), ('St. Lawrence', 3, 'Left Wing', 'Aleksi Peltonen', '2021-11-06-St. Lawrence-Union'), ('St. Lawrence', 3, 'Center', 'Jordan Steinmetz', '2021-11-06-St. Lawrence-Union')  ... displaying 10 of 43 total bound parameter sets ...  ('Union', 'Goalie 2', 'Goalie', 'Connor Murphy', '2021-11-06-St. Lawrence-Union'), ('Union', 'Goalie 3', 'Goalie', 'Joe Sharib', '2021-11-06-St. Lawrence-Union')]]\n",
      "(Background on this error at: https://sqlalche.me/e/20/e3q8)\n"
     ]
    },
    {
     "name": "stderr",
     "output_type": "stream",
     "text": [
      "Scraping games:  23%|██▎       | 252/1106 [11:57<42:13,  2.97s/it]"
     ]
    },
    {
     "name": "stdout",
     "output_type": "stream",
     "text": [
      "Error saving to table line_chart: (sqlite3.OperationalError) table line_chart has no column named Team\n",
      "[SQL: INSERT INTO line_chart (\"Team\", \"Line\", \"Position\", \"Player\", \"Game_ID\") VALUES (?, ?, ?, ?, ?)]\n",
      "[parameters: [('Boston College', 1, 'Left Wing', 'Trevor Kuntar', '2021-11-06-Merrimack-Boston College'), ('Boston College', 1, 'Center', 'Marc McLaughlin', '2021-11-06-Merrimack-Boston College'), ('Boston College', 1, 'Right Wing', 'Colby Ambrosio', '2021-11-06-Merrimack-Boston College'), ('Boston College', 2, 'Left Wing', 'Brandon Kruse', '2021-11-06-Merrimack-Boston College'), ('Boston College', 2, 'Center', 'Jack McBain', '2021-11-06-Merrimack-Boston College'), ('Boston College', 2, 'Right Wing', 'Nikita Nesterenko', '2021-11-06-Merrimack-Boston College'), ('Boston College', 3, 'Left Wing', 'Mike Posma', '2021-11-06-Merrimack-Boston College'), ('Boston College', 3, 'Center', 'Patrick Giles', '2021-11-06-Merrimack-Boston College')  ... displaying 10 of 44 total bound parameter sets ...  ('Merrimack', 'Goalie 2', 'Goalie', 'Zachary Borgiel', '2021-11-06-Merrimack-Boston College'), ('Merrimack', 'Goalie 3', 'Goalie', 'Hugo Ollas', '2021-11-06-Merrimack-Boston College')]]\n",
      "(Background on this error at: https://sqlalche.me/e/20/e3q8)\n"
     ]
    },
    {
     "name": "stderr",
     "output_type": "stream",
     "text": [
      "Scraping games:  23%|██▎       | 253/1106 [12:01<44:04,  3.10s/it]"
     ]
    },
    {
     "name": "stdout",
     "output_type": "stream",
     "text": [
      "Error saving to table line_chart: (sqlite3.OperationalError) table line_chart has no column named Team\n",
      "[SQL: INSERT INTO line_chart (\"Team\", \"Line\", \"Position\", \"Player\", \"Game_ID\") VALUES (?, ?, ?, ?, ?)]\n",
      "[parameters: [('Connecticut', 1, 'Left Wing', 'Marc Gatcomb', '2021-11-06-Connecticut-Maine'), ('Connecticut', 1, 'Center', 'Jachym Kondelik', '2021-11-06-Connecticut-Maine'), ('Connecticut', 1, 'Right Wing', 'Jonny Evans', '2021-11-06-Connecticut-Maine'), ('Connecticut', 2, 'Left Wing', 'Vladislav Firstov', '2021-11-06-Connecticut-Maine'), ('Connecticut', 2, 'Center', 'Artem Shlaine', '2021-11-06-Connecticut-Maine'), ('Connecticut', 2, 'Right Wing', 'Nick Capone', '2021-11-06-Connecticut-Maine'), ('Connecticut', 3, 'Left Wing', 'Chase Bradley', '2021-11-06-Connecticut-Maine'), ('Connecticut', 3, 'Center', 'Hudson Schandor', '2021-11-06-Connecticut-Maine')  ... displaying 10 of 40 total bound parameter sets ...  ('Maine', 1, 'Extra', 'Perry', '2021-11-06-Connecticut-Maine'), ('Maine', 'Goalie 1', 'Goalie', 'Victor Ostman', '2021-11-06-Connecticut-Maine')]]\n",
      "(Background on this error at: https://sqlalche.me/e/20/e3q8)\n"
     ]
    },
    {
     "name": "stderr",
     "output_type": "stream",
     "text": [
      "Scraping games:  23%|██▎       | 254/1106 [12:04<42:54,  3.02s/it]"
     ]
    },
    {
     "name": "stdout",
     "output_type": "stream",
     "text": [
      "Error saving to table line_chart: (sqlite3.OperationalError) table line_chart has no column named Team\n",
      "[SQL: INSERT INTO line_chart (\"Team\", \"Line\", \"Position\", \"Player\", \"Game_ID\") VALUES (?, ?, ?, ?, ?)]\n",
      "[parameters: [('Massachusetts', 1, 'Left Wing', 'Bobby Trivigno', '2021-11-06-Massachusetts-Providence'), ('Massachusetts', 1, 'Center', 'Eric Faith', '2021-11-06-Massachusetts-Providence'), ('Massachusetts', 1, 'Right Wing', 'Garrett Wait', '2021-11-06-Massachusetts-Providence'), ('Massachusetts', 2, 'Left Wing', 'Cal Kiefiuk', '2021-11-06-Massachusetts-Providence'), ('Massachusetts', 2, 'Center', 'Anthony Del Gaizo', '2021-11-06-Massachusetts-Providence'), ('Massachusetts', 2, 'Right Wing', 'Reed Lebster', '2021-11-06-Massachusetts-Providence'), ('Massachusetts', 3, 'Left Wing', 'Oliver MacDonald', '2021-11-06-Massachusetts-Providence'), ('Massachusetts', 3, 'Center', 'Matt Baker', '2021-11-06-Massachusetts-Providence')  ... displaying 10 of 43 total bound parameter sets ...  ('Providence', 'Goalie 2', 'Goalie', 'Jimmy Scannell', '2021-11-06-Massachusetts-Providence'), ('Providence', 'Goalie 3', 'Goalie', 'Jaxson Stauber', '2021-11-06-Massachusetts-Providence')]]\n",
      "(Background on this error at: https://sqlalche.me/e/20/e3q8)\n"
     ]
    },
    {
     "name": "stderr",
     "output_type": "stream",
     "text": [
      "Scraping games:  23%|██▎       | 255/1106 [12:06<41:41,  2.94s/it]"
     ]
    },
    {
     "name": "stdout",
     "output_type": "stream",
     "text": [
      "Error saving to table line_chart: (sqlite3.OperationalError) table line_chart has no column named Team\n",
      "[SQL: INSERT INTO line_chart (\"Team\", \"Line\", \"Position\", \"Player\", \"Game_ID\") VALUES (?, ?, ?, ?, ?)]\n",
      "[parameters: [('New Hampshire', 1, 'Left Wing', 'Liam Devlin', '2021-11-06-New Hampshire-Northeastern'), ('New Hampshire', 1, 'Center', 'Jackson Pierson', '2021-11-06-New Hampshire-Northeastern'), ('New Hampshire', 1, 'Right Wing', 'Robert Cronin', '2021-11-06-New Hampshire-Northeastern'), ('New Hampshire', 2, 'Left Wing', 'Tyler Ward', '2021-11-06-New Hampshire-Northeastern'), ('New Hampshire', 2, 'Center', 'Filip Engaras', '2021-11-06-New Hampshire-Northeastern'), ('New Hampshire', 2, 'Right Wing', 'Eric MacAdams', '2021-11-06-New Hampshire-Northeastern'), ('New Hampshire', 3, 'Left Wing', 'Lucas Herrmann', '2021-11-06-New Hampshire-Northeastern'), ('New Hampshire', 3, 'Center', 'Harrison Blaisdell', '2021-11-06-New Hampshire-Northeastern')  ... displaying 10 of 44 total bound parameter sets ...  ('Northeastern', 'Goalie 2', 'Goalie', 'Devon Levi', '2021-11-06-New Hampshire-Northeastern'), ('Northeastern', 'Goalie 3', 'Goalie', 'TJ Semptimphelter', '2021-11-06-New Hampshire-Northeastern')]]\n",
      "(Background on this error at: https://sqlalche.me/e/20/e3q8)\n"
     ]
    },
    {
     "name": "stderr",
     "output_type": "stream",
     "text": [
      "Scraping games:  23%|██▎       | 256/1106 [12:09<41:36,  2.94s/it]"
     ]
    },
    {
     "name": "stdout",
     "output_type": "stream",
     "text": [
      "Error saving to table line_chart: (sqlite3.OperationalError) table line_chart has no column named Team\n",
      "[SQL: INSERT INTO line_chart (\"Team\", \"Line\", \"Position\", \"Player\", \"Game_ID\") VALUES (?, ?, ?, ?, ?)]\n",
      "[parameters: [('Ohio State', 1, 'Left Wing', 'Tate Singleton', '2021-11-06-Penn State-Ohio State'), ('Ohio State', 1, 'Center', 'Gustaf Westlund', '2021-11-06-Penn State-Ohio State'), ('Ohio State', 1, 'Right Wing', 'Travis Treloar', '2021-11-06-Penn State-Ohio State'), ('Ohio State', 2, 'Left Wing', 'Mark Cheremeta', '2021-11-06-Penn State-Ohio State'), ('Ohio State', 2, 'Center', 'Jake Wise', '2021-11-06-Penn State-Ohio State'), ('Ohio State', 2, 'Right Wing', 'Quinn Preston', '2021-11-06-Penn State-Ohio State'), ('Ohio State', 3, 'Left Wing', 'Cam Thiesing', '2021-11-06-Penn State-Ohio State'), ('Ohio State', 3, 'Center', 'Georgii Merkulov', '2021-11-06-Penn State-Ohio State')  ... displaying 10 of 44 total bound parameter sets ...  ('Penn State', 'Goalie 2', 'Goalie', 'Liam Souliere', '2021-11-06-Penn State-Ohio State'), ('Penn State', 'Goalie 3', 'Goalie', 'Doug Dorr', '2021-11-06-Penn State-Ohio State')]]\n",
      "(Background on this error at: https://sqlalche.me/e/20/e3q8)\n"
     ]
    },
    {
     "name": "stderr",
     "output_type": "stream",
     "text": [
      "Scraping games:  23%|██▎       | 257/1106 [12:12<41:23,  2.93s/it]"
     ]
    },
    {
     "name": "stdout",
     "output_type": "stream",
     "text": [
      "Error saving to table line_chart: (sqlite3.OperationalError) table line_chart has no column named Team\n",
      "[SQL: INSERT INTO line_chart (\"Team\", \"Line\", \"Position\", \"Player\", \"Game_ID\") VALUES (?, ?, ?, ?, ?)]\n",
      "[parameters: [('Michigan', 1, 'Left Wing', 'Kent Johnson', '2021-11-06-Michigan-Michigan State'), ('Michigan', 1, 'Center', 'Matty Beniers', '2021-11-06-Michigan-Michigan State'), ('Michigan', 1, 'Right Wing', 'Nick Granowicz', '2021-11-06-Michigan-Michigan State'), ('Michigan', 2, 'Left Wing', 'Brendan Brisson', '2021-11-06-Michigan-Michigan State'), ('Michigan', 2, 'Center', 'Thomas Bordeleau', '2021-11-06-Michigan-Michigan State'), ('Michigan', 2, 'Right Wing', 'Mackie Samoskevich', '2021-11-06-Michigan-Michigan State'), ('Michigan', 3, 'Left Wing', 'Michael Pastujov', '2021-11-06-Michigan-Michigan State'), ('Michigan', 3, 'Center', 'Garrett Van Wyhe', '2021-11-06-Michigan-Michigan State')  ... displaying 10 of 45 total bound parameter sets ...  ('Michigan State', 'Goalie 2', 'Goalie', 'Pierce Charleson', '2021-11-06-Michigan-Michigan State'), ('Michigan State', 'Goalie 3', 'Goalie', 'Jon Mor', '2021-11-06-Michigan-Michigan State')]]\n",
      "(Background on this error at: https://sqlalche.me/e/20/e3q8)\n"
     ]
    },
    {
     "name": "stderr",
     "output_type": "stream",
     "text": [
      "Scraping games:  23%|██▎       | 258/1106 [12:15<40:29,  2.86s/it]"
     ]
    },
    {
     "name": "stdout",
     "output_type": "stream",
     "text": [
      "Error saving to table line_chart: (sqlite3.OperationalError) table line_chart has no column named Team\n",
      "[SQL: INSERT INTO line_chart (\"Team\", \"Line\", \"Position\", \"Player\", \"Game_ID\") VALUES (?, ?, ?, ?, ?)]\n",
      "[parameters: [('Minnesota', 1, 'Left Wing', 'Blake McLaughlin', '2021-11-06-Minnesota-Wisconsin'), ('Minnesota', 1, 'Center', 'Sammy Walker', '2021-11-06-Minnesota-Wisconsin'), ('Minnesota', 1, 'Right Wing', 'Bryce Brodzinski', '2021-11-06-Minnesota-Wisconsin'), ('Minnesota', 2, 'Left Wing', 'Matthew Knies', '2021-11-06-Minnesota-Wisconsin'), ('Minnesota', 2, 'Center', 'Ben Meyers', '2021-11-06-Minnesota-Wisconsin'), ('Minnesota', 2, 'Right Wing', 'Mason Nevers', '2021-11-06-Minnesota-Wisconsin'), ('Minnesota', 3, 'Left Wing', 'Tristan Broz', '2021-11-06-Minnesota-Wisconsin'), ('Minnesota', 3, 'Center', 'Jack Perbix', '2021-11-06-Minnesota-Wisconsin')  ... displaying 10 of 43 total bound parameter sets ...  ('Wisconsin', 'Goalie 2', 'Goalie', 'Cameron Rowe', '2021-11-06-Minnesota-Wisconsin'), ('Wisconsin', 'Goalie 3', 'Goalie', 'Ben Garrity', '2021-11-06-Minnesota-Wisconsin')]]\n",
      "(Background on this error at: https://sqlalche.me/e/20/e3q8)\n"
     ]
    },
    {
     "name": "stderr",
     "output_type": "stream",
     "text": [
      "Scraping games:  23%|██▎       | 259/1106 [12:18<40:19,  2.86s/it]"
     ]
    },
    {
     "name": "stdout",
     "output_type": "stream",
     "text": [
      "Error saving to table line_chart: (sqlite3.OperationalError) table line_chart has no column named Team\n",
      "[SQL: INSERT INTO line_chart (\"Team\", \"Line\", \"Position\", \"Player\", \"Game_ID\") VALUES (?, ?, ?, ?, ?)]\n",
      "[parameters: [('Ferris State', 1, 'Left Wing', 'Liam MacDougall', '2021-11-06-Minnesota State-Ferris State'), ('Ferris State', 1, 'Center', 'Dallas Tulik', '2021-11-06-Minnesota State-Ferris State'), ('Ferris State', 1, 'Right Wing', 'Justin Michaelian', '2021-11-06-Minnesota State-Ferris State'), ('Ferris State', 2, 'Left Wing', 'Zach Faremouth', '2021-11-06-Minnesota State-Ferris State'), ('Ferris State', 2, 'Center', 'Bradley Marek', '2021-11-06-Minnesota State-Ferris State'), ('Ferris State', 2, 'Right Wing', 'Marshall Moise', '2021-11-06-Minnesota State-Ferris State'), ('Ferris State', 3, 'Left Wing', 'Jacob Dirks', '2021-11-06-Minnesota State-Ferris State'), ('Ferris State', 3, 'Center', 'Brenden MacLaren', '2021-11-06-Minnesota State-Ferris State')  ... displaying 10 of 43 total bound parameter sets ...  ('Minnesota State', 'Goalie 1', 'Goalie', 'Dryden McKay', '2021-11-06-Minnesota State-Ferris State'), ('Minnesota State', 'Goalie 2', 'Goalie', 'Keenan Rancier', '2021-11-06-Minnesota State-Ferris State')]]\n",
      "(Background on this error at: https://sqlalche.me/e/20/e3q8)\n"
     ]
    },
    {
     "name": "stderr",
     "output_type": "stream",
     "text": [
      "Scraping games:  24%|██▎       | 260/1106 [12:21<40:57,  2.91s/it]"
     ]
    },
    {
     "name": "stdout",
     "output_type": "stream",
     "text": [
      "Error saving to table line_chart: (sqlite3.OperationalError) table line_chart has no column named Team\n",
      "[SQL: INSERT INTO line_chart (\"Team\", \"Line\", \"Position\", \"Player\", \"Game_ID\") VALUES (?, ?, ?, ?, ?)]\n",
      "[parameters: [('Lake Superior', 1, 'Left Wing', 'Dawson Tritt', '2021-11-06-Lake Superior-Michigan Tech'), ('Lake Superior', 1, 'Center', 'Harrison Roy', '2021-11-06-Lake Superior-Michigan Tech'), ('Lake Superior', 1, 'Right Wing', 'Josh Nixon', '2021-11-06-Lake Superior-Michigan Tech'), ('Lake Superior', 2, 'Left Wing', 'Miroslav Mucha', '2021-11-06-Lake Superior-Michigan Tech'), ('Lake Superior', 2, 'Center', 'Louis Boudon', '2021-11-06-Lake Superior-Michigan Tech'), ('Lake Superior', 2, 'Right Wing', 'Brandon Puricelli', '2021-11-06-Lake Superior-Michigan Tech'), ('Lake Superior', 3, 'Left Wing', 'Logan Jenuwine', '2021-11-06-Lake Superior-Michigan Tech'), ('Lake Superior', 3, 'Center', 'Dustin Manz', '2021-11-06-Lake Superior-Michigan Tech')  ... displaying 10 of 42 total bound parameter sets ...  ('Michigan Tech', 'Goalie 1', 'Goalie', 'Blake Pietila', '2021-11-06-Lake Superior-Michigan Tech'), ('Michigan Tech', 'Goalie 2', 'Goalie', 'Cayden Bailey', '2021-11-06-Lake Superior-Michigan Tech')]]\n",
      "(Background on this error at: https://sqlalche.me/e/20/e3q8)\n"
     ]
    },
    {
     "name": "stderr",
     "output_type": "stream",
     "text": [
      "Scraping games:  24%|██▎       | 261/1106 [12:23<40:07,  2.85s/it]"
     ]
    },
    {
     "name": "stdout",
     "output_type": "stream",
     "text": [
      "Error saving to table line_chart: (sqlite3.OperationalError) table line_chart has no column named Team\n",
      "[SQL: INSERT INTO line_chart (\"Team\", \"Line\", \"Position\", \"Player\", \"Game_ID\") VALUES (?, ?, ?, ?, ?)]\n",
      "[parameters: [('Bowling Green', 1, 'Left Wing', 'Sam Craggs', '2021-11-06-St. Thomas-Bowling Green'), ('Bowling Green', 1, 'Center', 'Taylor Schneider', '2021-11-06-St. Thomas-Bowling Green'), ('Bowling Green', 1, 'Right Wing', 'Alex Barber', '2021-11-06-St. Thomas-Bowling Green'), ('Bowling Green', 2, 'Left Wing', 'Coale Norris', '2021-11-06-St. Thomas-Bowling Green'), ('Bowling Green', 2, 'Center', 'Austen Swankler', '2021-11-06-St. Thomas-Bowling Green'), ('Bowling Green', 2, 'Right Wing', 'Nathan Burke', '2021-11-06-St. Thomas-Bowling Green'), ('Bowling Green', 3, 'Left Wing', 'Chrystopher Collin', '2021-11-06-St. Thomas-Bowling Green'), ('Bowling Green', 3, 'Center', 'Ethan Scardina', '2021-11-06-St. Thomas-Bowling Green')  ... displaying 10 of 43 total bound parameter sets ...  ('St. Thomas', 'Goalie 1', 'Goalie', 'Peter Thome', '2021-11-06-St. Thomas-Bowling Green'), ('St. Thomas', 'Goalie 2', 'Goalie', 'Jacob Berger', '2021-11-06-St. Thomas-Bowling Green')]]\n",
      "(Background on this error at: https://sqlalche.me/e/20/e3q8)\n"
     ]
    },
    {
     "name": "stderr",
     "output_type": "stream",
     "text": [
      "Scraping games:  24%|██▎       | 262/1106 [12:26<40:12,  2.86s/it]"
     ]
    },
    {
     "name": "stdout",
     "output_type": "stream",
     "text": [
      "Error saving to table line_chart: (sqlite3.OperationalError) table line_chart has no column named Team\n",
      "[SQL: INSERT INTO line_chart (\"Team\", \"Line\", \"Position\", \"Player\", \"Game_ID\") VALUES (?, ?, ?, ?, ?)]\n",
      "[parameters: [('Boston University', 1, 'Left Wing', 'Logan Cockerill', '2021-11-06-Boston University-Northern Michigan'), ('Boston University', 1, 'Center', 'Wilmer Skoog', '2021-11-06-Boston University-Northern Michigan'), ('Boston University', 1, 'Right Wing', 'Robert Mastrosimone', '2021-11-06-Boston University-Northern Michigan'), ('Boston University', 2, 'Left Wing', 'Ethan Phillips', '2021-11-06-Boston University-Northern Michigan'), ('Boston University', 2, 'Center', 'Ty Amonte', '2021-11-06-Boston University-Northern Michigan'), ('Boston University', 2, 'Right Wing', 'Tristan Amonte', '2021-11-06-Boston University-Northern Michigan'), ('Boston University', 3, 'Left Wing', 'Jamie Armstrong', '2021-11-06-Boston University-Northern Michigan'), ('Boston University', 3, 'Center', 'Nick Zabaneh', '2021-11-06-Boston University-Northern Michigan')  ... displaying 10 of 40 total bound parameter sets ...  ('Northern Michigan', 1, 'Extra', 'Michael', '2021-11-06-Boston University-Northern Michigan'), ('Northern Michigan', 'Goalie 1', 'Goalie', 'Rico DiMatteo', '2021-11-06-Boston University-Northern Michigan')]]\n",
      "(Background on this error at: https://sqlalche.me/e/20/e3q8)\n"
     ]
    },
    {
     "name": "stderr",
     "output_type": "stream",
     "text": [
      "Scraping games:  24%|██▍       | 263/1106 [12:29<40:44,  2.90s/it]"
     ]
    },
    {
     "name": "stdout",
     "output_type": "stream",
     "text": [
      "Error saving to table line_chart: (sqlite3.OperationalError) table line_chart has no column named Team\n",
      "[SQL: INSERT INTO line_chart (\"Team\", \"Line\", \"Position\", \"Player\", \"Game_ID\") VALUES (?, ?, ?, ?, ?)]\n",
      "[parameters: [('Denver', 1, 'Left Wing', 'Carter Mazur', '2021-11-06-Denver-North Dakota'), ('Denver', 1, 'Center', 'Cole Guttman', '2021-11-06-Denver-North Dakota'), ('Denver', 1, 'Right Wing', 'Bobby Brink', '2021-11-06-Denver-North Dakota'), ('Denver', 2, 'Left Wing', 'Carter Savoie', '2021-11-06-Denver-North Dakota'), ('Denver', 2, 'Center', 'Massimo Rizzo', '2021-11-06-Denver-North Dakota'), ('Denver', 2, 'Right Wing', 'Cameron Wright', '2021-11-06-Denver-North Dakota'), ('Denver', 3, 'Left Wing', 'Ryan Barrow', '2021-11-06-Denver-North Dakota'), ('Denver', 3, 'Center', 'Brett Stapley', '2021-11-06-Denver-North Dakota')  ... displaying 10 of 43 total bound parameter sets ...  ('North Dakota', 'Goalie 2', 'Goalie', 'Harrison Feeney', '2021-11-06-Denver-North Dakota'), ('North Dakota', 'Goalie 3', 'Goalie', 'Jakob Hellsten', '2021-11-06-Denver-North Dakota')]]\n",
      "(Background on this error at: https://sqlalche.me/e/20/e3q8)\n"
     ]
    },
    {
     "name": "stderr",
     "output_type": "stream",
     "text": [
      "Scraping games:  24%|██▍       | 264/1106 [12:32<40:44,  2.90s/it]"
     ]
    },
    {
     "name": "stdout",
     "output_type": "stream",
     "text": [
      "Error saving to table line_chart: (sqlite3.OperationalError) table line_chart has no column named Team\n",
      "[SQL: INSERT INTO line_chart (\"Team\", \"Line\", \"Position\", \"Player\", \"Game_ID\") VALUES (?, ?, ?, ?, ?)]\n",
      "[parameters: [('Minnesota-Duluth', 1, 'Left Wing', 'Noah Cates', '2021-11-06-Minnesota-Duluth-Western Michigan'), ('Minnesota-Duluth', 1, 'Center', 'Casey Gilling', '2021-11-06-Minnesota-Duluth-Western Michigan'), ('Minnesota-Duluth', 1, 'Right Wing', 'Tanner Laderoute', '2021-11-06-Minnesota-Duluth-Western Michigan'), ('Minnesota-Duluth', 2, 'Left Wing', 'Kobe Roth', '2021-11-06-Minnesota-Duluth-Western Michigan'), ('Minnesota-Duluth', 2, 'Center', 'Jesse Jacques', '2021-11-06-Minnesota-Duluth-Western Michigan'), ('Minnesota-Duluth', 2, 'Right Wing', 'Koby Bender', '2021-11-06-Minnesota-Duluth-Western Michigan'), ('Minnesota-Duluth', 3, 'Left Wing', 'Quinn Olson', '2021-11-06-Minnesota-Duluth-Western Michigan'), ('Minnesota-Duluth', 3, 'Center', 'Dominic James', '2021-11-06-Minnesota-Duluth-Western Michigan')  ... displaying 10 of 43 total bound parameter sets ...  ('Western Michigan', 'Goalie 2', 'Goalie', 'Alex Aslanidis', '2021-11-06-Minnesota-Duluth-Western Michigan'), ('Western Michigan', 'Goalie 3', 'Goalie', 'Ross Hawryluk', '2021-11-06-Minnesota-Duluth-Western Michigan')]]\n",
      "(Background on this error at: https://sqlalche.me/e/20/e3q8)\n"
     ]
    },
    {
     "name": "stderr",
     "output_type": "stream",
     "text": [
      "Scraping games:  24%|██▍       | 265/1106 [12:35<40:13,  2.87s/it]"
     ]
    },
    {
     "name": "stdout",
     "output_type": "stream",
     "text": [
      "Error saving to table line_chart: (sqlite3.OperationalError) table line_chart has no column named Team\n",
      "[SQL: INSERT INTO line_chart (\"Team\", \"Line\", \"Position\", \"Player\", \"Game_ID\") VALUES (?, ?, ?, ?, ?)]\n",
      "[parameters: [('Colorado College', 1, 'Left Wing', 'Danny Weight', '2021-11-06-St. Cloud State-Colorado College'), ('Colorado College', 1, 'Center', 'Hunter McKown', '2021-11-06-St. Cloud State-Colorado College'), ('Colorado College', 1, 'Right Wing', 'Brian Hawkinson', '2021-11-06-St. Cloud State-Colorado College'), ('Colorado College', 2, 'Left Wing', 'Matthew Gleason', '2021-11-06-St. Cloud State-Colorado College'), ('Colorado College', 2, 'Center', 'Stanley Cooley', '2021-11-06-St. Cloud State-Colorado College'), ('Colorado College', 2, 'Right Wing', 'Jordan Biro', '2021-11-06-St. Cloud State-Colorado College'), ('Colorado College', 3, 'Left Wing', 'Tommy Middleton', '2021-11-06-St. Cloud State-Colorado College'), ('Colorado College', 3, 'Center', 'Jackson Jutting', '2021-11-06-St. Cloud State-Colorado College')  ... displaying 10 of 44 total bound parameter sets ...  ('St. Cloud State', 'Goalie 2', 'Goalie', 'Joey Lamoreaux', '2021-11-06-St. Cloud State-Colorado College'), ('St. Cloud State', 'Goalie 3', 'Goalie', 'Jaxon Castor', '2021-11-06-St. Cloud State-Colorado College')]]\n",
      "(Background on this error at: https://sqlalche.me/e/20/e3q8)\n"
     ]
    },
    {
     "name": "stderr",
     "output_type": "stream",
     "text": [
      "Scraping games:  24%|██▍       | 266/1106 [12:38<40:11,  2.87s/it]"
     ]
    },
    {
     "name": "stdout",
     "output_type": "stream",
     "text": [
      "Error saving to table line_chart: (sqlite3.OperationalError) table line_chart has no column named Team\n",
      "[SQL: INSERT INTO line_chart (\"Team\", \"Line\", \"Position\", \"Player\", \"Game_ID\") VALUES (?, ?, ?, ?, ?)]\n",
      "[parameters: [('Miami', 1, 'Left Wing', 'PJ Fletcher', '2021-11-06-Miami-Omaha'), ('Miami', 1, 'Center', 'Michael Regush', '2021-11-06-Miami-Omaha'), ('Miami', 1, 'Right Wing', 'Ryan Savage', '2021-11-06-Miami-Omaha'), ('Miami', 2, 'Left Wing', 'Chase Gresock', '2021-11-06-Miami-Omaha'), ('Miami', 2, 'Center', 'Red Savage', '2021-11-06-Miami-Omaha'), ('Miami', 2, 'Right Wing', 'Matt Barry', '2021-11-06-Miami-Omaha'), ('Miami', 3, 'Left Wing', 'Matthew Barbolini', '2021-11-06-Miami-Omaha'), ('Miami', 3, 'Center', 'Monte Graham', '2021-11-06-Miami-Omaha')  ... displaying 10 of 43 total bound parameter sets ...  ('Omaha', 'Goalie 2', 'Goalie', 'Austin Roden', '2021-11-06-Miami-Omaha'), ('Omaha', 'Goalie 3', 'Goalie', 'Jacob Zab', '2021-11-06-Miami-Omaha')]]\n",
      "(Background on this error at: https://sqlalche.me/e/20/e3q8)\n"
     ]
    },
    {
     "name": "stderr",
     "output_type": "stream",
     "text": [
      "Scraping games:  24%|██▍       | 267/1106 [12:41<39:51,  2.85s/it]"
     ]
    },
    {
     "name": "stdout",
     "output_type": "stream",
     "text": [
      "Error saving to table line_chart: (sqlite3.OperationalError) table line_chart has no column named Team\n",
      "[SQL: INSERT INTO line_chart (\"Team\", \"Line\", \"Position\", \"Player\", \"Game_ID\") VALUES (?, ?, ?, ?, ?)]\n",
      "[parameters: [(\"American Int'l\", 1, 'Left Wing', 'Brian Rigali', \"2021-11-07-RIT-American Int'l\"), (\"American Int'l\", 1, 'Center', 'Julius Janhonen', \"2021-11-07-RIT-American Int'l\"), (\"American Int'l\", 1, 'Right Wing', 'Chris Dodero', \"2021-11-07-RIT-American Int'l\"), (\"American Int'l\", 2, 'Left Wing', 'Luka Maver', \"2021-11-07-RIT-American Int'l\"), (\"American Int'l\", 2, 'Center', 'Elijiah Barriga', \"2021-11-07-RIT-American Int'l\"), (\"American Int'l\", 2, 'Right Wing', 'Justin Cole', \"2021-11-07-RIT-American Int'l\"), (\"American Int'l\", 3, 'Left Wing', 'Chris Theodore', \"2021-11-07-RIT-American Int'l\"), (\"American Int'l\", 3, 'Center', 'Jake Stella', \"2021-11-07-RIT-American Int'l\")  ... displaying 10 of 44 total bound parameter sets ...  ('RIT', 'Goalie 2', 'Goalie', 'Kolby Matthews', \"2021-11-07-RIT-American Int'l\"), ('RIT', 'Goalie 3', 'Goalie', 'Tommy Scarfone', \"2021-11-07-RIT-American Int'l\")]]\n",
      "(Background on this error at: https://sqlalche.me/e/20/e3q8)\n"
     ]
    },
    {
     "name": "stderr",
     "output_type": "stream",
     "text": [
      "Scraping games:  24%|██▍       | 269/1106 [12:46<39:29,  2.83s/it]"
     ]
    },
    {
     "name": "stdout",
     "output_type": "stream",
     "text": [
      "Error saving to table line_chart: (sqlite3.OperationalError) table line_chart has no column named Team\n",
      "[SQL: INSERT INTO line_chart (\"Team\", \"Line\", \"Position\", \"Player\", \"Game_ID\") VALUES (?, ?, ?, ?, ?)]\n",
      "[parameters: [('Ferris State', 1, 'Left Wing', 'Liam MacDougall', '2021-11-11-Ferris State-Michigan State'), ('Ferris State', 1, 'Center', 'Bradley Marek', '2021-11-11-Ferris State-Michigan State'), ('Ferris State', 1, 'Right Wing', 'Marshall Moise', '2021-11-11-Ferris State-Michigan State'), ('Ferris State', 2, 'Left Wing', 'Zach Faremouth', '2021-11-11-Ferris State-Michigan State'), ('Ferris State', 2, 'Center', 'Stepan Pokorny', '2021-11-11-Ferris State-Michigan State'), ('Ferris State', 2, 'Right Wing', 'Justin Michaelian', '2021-11-11-Ferris State-Michigan State'), ('Ferris State', 3, 'Left Wing', 'Ethan Stewart', '2021-11-11-Ferris State-Michigan State'), ('Ferris State', 3, 'Center', 'Austin McCarthy', '2021-11-11-Ferris State-Michigan State')  ... displaying 10 of 43 total bound parameter sets ...  ('Michigan State', 'Goalie 2', 'Goalie', 'Pierce Charleson', '2021-11-11-Ferris State-Michigan State'), ('Michigan State', 'Goalie 3', 'Goalie', 'Jon Mor', '2021-11-11-Ferris State-Michigan State')]]\n",
      "(Background on this error at: https://sqlalche.me/e/20/e3q8)\n"
     ]
    },
    {
     "name": "stderr",
     "output_type": "stream",
     "text": [
      "Scraping games:  24%|██▍       | 270/1106 [12:49<40:19,  2.89s/it]"
     ]
    },
    {
     "name": "stdout",
     "output_type": "stream",
     "text": [
      "Error saving to table line_chart: (sqlite3.OperationalError) table line_chart has no column named Team\n",
      "[SQL: INSERT INTO line_chart (\"Team\", \"Line\", \"Position\", \"Player\", \"Game_ID\") VALUES (?, ?, ?, ?, ?)]\n",
      "[parameters: [('Michigan', 1, 'Left Wing', 'Kent Johnson', '2021-11-11-Michigan-Penn State'), ('Michigan', 1, 'Center', 'Matty Beniers', '2021-11-11-Michigan-Penn State'), ('Michigan', 1, 'Right Wing', 'Nick Granowicz', '2021-11-11-Michigan-Penn State'), ('Michigan', 2, 'Left Wing', 'Garrett Van Wyhe', '2021-11-11-Michigan-Penn State'), ('Michigan', 2, 'Center', 'Johnny Beecher', '2021-11-11-Michigan-Penn State'), ('Michigan', 2, 'Right Wing', 'Mackie Samoskevich', '2021-11-11-Michigan-Penn State'), ('Michigan', 3, 'Left Wing', 'Michael Pastujov', '2021-11-11-Michigan-Penn State'), ('Michigan', 3, 'Center', 'Thomas Bordeleau', '2021-11-11-Michigan-Penn State')  ... displaying 10 of 44 total bound parameter sets ...  ('Penn State', 'Goalie 2', 'Goalie', 'Liam Souliere', '2021-11-11-Michigan-Penn State'), ('Penn State', 'Goalie 3', 'Goalie', 'Doug Dorr', '2021-11-11-Michigan-Penn State')]]\n",
      "(Background on this error at: https://sqlalche.me/e/20/e3q8)\n"
     ]
    },
    {
     "name": "stderr",
     "output_type": "stream",
     "text": [
      "Scraping games:  25%|██▍       | 271/1106 [12:52<40:01,  2.88s/it]"
     ]
    },
    {
     "name": "stdout",
     "output_type": "stream",
     "text": [
      "Error saving to table line_chart: (sqlite3.OperationalError) table line_chart has no column named Team\n",
      "[SQL: INSERT INTO line_chart (\"Team\", \"Line\", \"Position\", \"Player\", \"Game_ID\") VALUES (?, ?, ?, ?, ?)]\n",
      "[parameters: [('Princeton', 1, 'Left Wing', 'Nick Seitz', '2021-11-12-Princeton-Long Island'), ('Princeton', 1, 'Center', 'Adam Robbins', '2021-11-12-Princeton-Long Island'), ('Princeton', 1, 'Right Wing', 'Finn Evans', '2021-11-12-Princeton-Long Island'), ('Princeton', 2, 'Left Wing', 'Mackenzie Merriman', '2021-11-12-Princeton-Long Island'), ('Princeton', 2, 'Center', 'Spencer Kersten', '2021-11-12-Princeton-Long Island'), ('Princeton', 2, 'Right Wing', 'Ian Murphy', '2021-11-12-Princeton-Long Island'), ('Princeton', 3, 'Left Wing', 'Corey Andonovski', '2021-11-12-Princeton-Long Island'), ('Princeton', 3, 'Center', 'Luke Keenan', '2021-11-12-Princeton-Long Island')  ... displaying 10 of 44 total bound parameter sets ...  ('Long Island', 'Goalie 2', 'Goalie', 'Vinnie Purpura', '2021-11-12-Princeton-Long Island'), ('Long Island', 'Goalie 3', 'Goalie', 'Brandon Perrone', '2021-11-12-Princeton-Long Island')]]\n",
      "(Background on this error at: https://sqlalche.me/e/20/e3q8)\n"
     ]
    },
    {
     "name": "stderr",
     "output_type": "stream",
     "text": [
      "Scraping games:  25%|██▍       | 272/1106 [12:55<40:50,  2.94s/it]"
     ]
    },
    {
     "name": "stdout",
     "output_type": "stream",
     "text": [
      "Error saving to table line_chart: (sqlite3.OperationalError) table line_chart has no column named Team\n",
      "[SQL: INSERT INTO line_chart (\"Team\", \"Line\", \"Position\", \"Player\", \"Game_ID\") VALUES (?, ?, ?, ?, ?)]\n",
      "[parameters: [('Quinnipiac', 1, 'Left Wing', 'Oliver Chau', '2021-11-12-Arizona State-Quinnipiac'), ('Quinnipiac', 1, 'Center', 'Wyatt Bongiovanni', '2021-11-12-Arizona State-Quinnipiac'), ('Quinnipiac', 1, 'Right Wing', 'Ethan de Jong', '2021-11-12-Arizona State-Quinnipiac'), ('Quinnipiac', 2, 'Left Wing', 'Michael Lombardi', '2021-11-12-Arizona State-Quinnipiac'), ('Quinnipiac', 2, 'Center', 'Desi Burgart', '2021-11-12-Arizona State-Quinnipiac'), ('Quinnipiac', 2, 'Right Wing', 'Ty Smilanic', '2021-11-12-Arizona State-Quinnipiac'), ('Quinnipiac', 3, 'Left Wing', 'Ethan Leyh', '2021-11-12-Arizona State-Quinnipiac'), ('Quinnipiac', 3, 'Center', 'TJ Friedmann', '2021-11-12-Arizona State-Quinnipiac')  ... displaying 10 of 42 total bound parameter sets ...  ('Arizona State', 'Goalie 1', 'Goalie', 'Ben Kraws', '2021-11-12-Arizona State-Quinnipiac'), ('Arizona State', 'Goalie 2', 'Goalie', 'Cole Brady', '2021-11-12-Arizona State-Quinnipiac')]]\n",
      "(Background on this error at: https://sqlalche.me/e/20/e3q8)\n"
     ]
    },
    {
     "name": "stderr",
     "output_type": "stream",
     "text": [
      "Scraping games:  25%|██▍       | 273/1106 [12:58<39:43,  2.86s/it]"
     ]
    },
    {
     "name": "stdout",
     "output_type": "stream",
     "text": [
      "Error saving to table line_chart: (sqlite3.OperationalError) table line_chart has no column named Team\n",
      "[SQL: INSERT INTO line_chart (\"Team\", \"Line\", \"Position\", \"Player\", \"Game_ID\") VALUES (?, ?, ?, ?, ?)]\n",
      "[parameters: [(\"American Int'l\", 1, 'Left Wing', 'Blake Bennett', \"2021-11-12-American Int'l-Providence\"), (\"American Int'l\", 1, 'Center', 'Brian Rigali', \"2021-11-12-American Int'l-Providence\"), (\"American Int'l\", 1, 'Right Wing', 'Chris Dodero', \"2021-11-12-American Int'l-Providence\"), (\"American Int'l\", 2, 'Left Wing', 'Luka Maver', \"2021-11-12-American Int'l-Providence\"), (\"American Int'l\", 2, 'Center', 'Elijiah Barriga', \"2021-11-12-American Int'l-Providence\"), (\"American Int'l\", 2, 'Right Wing', 'Justin Cole', \"2021-11-12-American Int'l-Providence\"), (\"American Int'l\", 3, 'Left Wing', 'Chris Theodore', \"2021-11-12-American Int'l-Providence\"), (\"American Int'l\", 3, 'Center', 'Jake Stella', \"2021-11-12-American Int'l-Providence\")  ... displaying 10 of 44 total bound parameter sets ...  ('Providence', 'Goalie 2', 'Goalie', 'Jimmy Scannell', \"2021-11-12-American Int'l-Providence\"), ('Providence', 'Goalie 3', 'Goalie', 'Jaxson Stauber', \"2021-11-12-American Int'l-Providence\")]]\n",
      "(Background on this error at: https://sqlalche.me/e/20/e3q8)\n"
     ]
    },
    {
     "name": "stderr",
     "output_type": "stream",
     "text": [
      "Scraping games:  25%|██▍       | 274/1106 [13:01<39:31,  2.85s/it]"
     ]
    },
    {
     "name": "stdout",
     "output_type": "stream",
     "text": [
      "Error saving to table line_chart: (sqlite3.OperationalError) table line_chart has no column named Team\n",
      "[SQL: INSERT INTO line_chart (\"Team\", \"Line\", \"Position\", \"Player\", \"Game_ID\") VALUES (?, ?, ?, ?, ?)]\n",
      "[parameters: [('Army', 1, 'Left Wing', 'Daniel Haider', '2021-11-12-Yale-Army'), ('Army', 1, 'Center', 'Jake Felker', '2021-11-12-Yale-Army'), ('Army', 1, 'Right Wing', 'Ricky Lyle', '2021-11-12-Yale-Army'), ('Army', 2, 'Left Wing', 'Brett Abdelnour', '2021-11-12-Yale-Army'), ('Army', 2, 'Center', 'John Keranen', '2021-11-12-Yale-Army'), ('Army', 2, 'Right Wing', 'Colin Bilek', '2021-11-12-Yale-Army'), ('Army', 3, 'Left Wing', 'Mitch Machlitt', '2021-11-12-Yale-Army'), ('Army', 3, 'Center', 'Eric Butte', '2021-11-12-Yale-Army')  ... displaying 10 of 43 total bound parameter sets ...  ('Yale', 'Goalie 2', 'Goalie', 'Nathan Reid', '2021-11-12-Yale-Army'), ('Yale', 'Goalie 3', 'Goalie', 'Luke Pearson', '2021-11-12-Yale-Army')]]\n",
      "(Background on this error at: https://sqlalche.me/e/20/e3q8)\n"
     ]
    },
    {
     "name": "stderr",
     "output_type": "stream",
     "text": [
      "Scraping games:  25%|██▍       | 275/1106 [13:03<39:10,  2.83s/it]"
     ]
    },
    {
     "name": "stdout",
     "output_type": "stream",
     "text": [
      "Error saving to table line_chart: (sqlite3.OperationalError) table line_chart has no column named Team\n",
      "[SQL: INSERT INTO line_chart (\"Team\", \"Line\", \"Position\", \"Player\", \"Game_ID\") VALUES (?, ?, ?, ?, ?)]\n",
      "[parameters: [('Canisius', 1, 'Left Wing', 'Mitchell Martan', '2021-11-12-RIT-Canisius'), ('Canisius', 1, 'Center', 'Lee Lapid', '2021-11-12-RIT-Canisius'), ('Canisius', 1, 'Right Wing', 'Keaton Mastrodonato', '2021-11-12-RIT-Canisius'), ('Canisius', 2, 'Left Wing', 'Austin Alger', '2021-11-12-RIT-Canisius'), ('Canisius', 2, 'Center', 'Max Kouznetsov', '2021-11-12-RIT-Canisius'), ('Canisius', 2, 'Right Wing', 'Randy Hernandez', '2021-11-12-RIT-Canisius'), ('Canisius', 3, 'Left Wing', 'Alton McDermott', '2021-11-12-RIT-Canisius'), ('Canisius', 3, 'Center', 'Alex Ambrosio', '2021-11-12-RIT-Canisius')  ... displaying 10 of 44 total bound parameter sets ...  ('RIT', 'Goalie 2', 'Goalie', 'Daniel Chenard', '2021-11-12-RIT-Canisius'), ('RIT', 'Goalie 3', 'Goalie', 'Tommy Scarfone', '2021-11-12-RIT-Canisius')]]\n",
      "(Background on this error at: https://sqlalche.me/e/20/e3q8)\n"
     ]
    },
    {
     "name": "stderr",
     "output_type": "stream",
     "text": [
      "Scraping games:  25%|██▍       | 276/1106 [13:06<39:12,  2.83s/it]"
     ]
    },
    {
     "name": "stdout",
     "output_type": "stream",
     "text": [
      "Error saving to table line_chart: (sqlite3.OperationalError) table line_chart has no column named Team\n",
      "[SQL: INSERT INTO line_chart (\"Team\", \"Line\", \"Position\", \"Player\", \"Game_ID\") VALUES (?, ?, ?, ?, ?)]\n",
      "[parameters: [('Holy Cross', 1, 'Left Wing', 'Tyler Ghirardosi', '2021-11-12-Mercyhurst-Holy Cross'), ('Holy Cross', 1, 'Center', 'Daniel Colabufo', '2021-11-12-Mercyhurst-Holy Cross'), ('Holy Cross', 1, 'Right Wing', 'Jack Ricketts', '2021-11-12-Mercyhurst-Holy Cross'), ('Holy Cross', 2, 'Left Wing', 'Lucas Thorne', '2021-11-12-Mercyhurst-Holy Cross'), ('Holy Cross', 2, 'Center', 'Ryan Leibold', '2021-11-12-Mercyhurst-Holy Cross'), ('Holy Cross', 2, 'Right Wing', 'Grayson Constable', '2021-11-12-Mercyhurst-Holy Cross'), ('Holy Cross', 3, 'Left Wing', 'John Gelatt', '2021-11-12-Mercyhurst-Holy Cross'), ('Holy Cross', 3, 'Center', 'Alex Peterson', '2021-11-12-Mercyhurst-Holy Cross')  ... displaying 10 of 43 total bound parameter sets ...  ('Mercyhurst', 'Goalie 1', 'Goalie', 'Hank Johnson', '2021-11-12-Mercyhurst-Holy Cross'), ('Mercyhurst', 'Goalie 2', 'Goalie', 'Kyle McClellan', '2021-11-12-Mercyhurst-Holy Cross')]]\n",
      "(Background on this error at: https://sqlalche.me/e/20/e3q8)\n"
     ]
    },
    {
     "name": "stderr",
     "output_type": "stream",
     "text": [
      "Scraping games:  25%|██▌       | 277/1106 [13:09<39:22,  2.85s/it]"
     ]
    },
    {
     "name": "stdout",
     "output_type": "stream",
     "text": [
      "Error saving to table line_chart: (sqlite3.OperationalError) table line_chart has no column named Team\n",
      "[SQL: INSERT INTO line_chart (\"Team\", \"Line\", \"Position\", \"Player\", \"Game_ID\") VALUES (?, ?, ?, ?, ?)]\n",
      "[parameters: [('Air Force', 1, 'Left Wing', 'Nate Horn', '2021-11-12-Bentley-Air Force'), ('Air Force', 1, 'Center', 'Clayton Cosentino', '2021-11-12-Bentley-Air Force'), ('Air Force', 1, 'Right Wing', 'Willie Reim', '2021-11-12-Bentley-Air Force'), ('Air Force', 2, 'Left Wing', 'Will Gavin', '2021-11-12-Bentley-Air Force'), ('Air Force', 2, 'Center', 'Austin Schwartz', '2021-11-12-Bentley-Air Force'), ('Air Force', 2, 'Right Wing', 'Parker Brown', '2021-11-12-Bentley-Air Force'), ('Air Force', 3, 'Left Wing', 'Bennett Norlin', '2021-11-12-Bentley-Air Force'), ('Air Force', 3, 'Center', 'Jacob Marti', '2021-11-12-Bentley-Air Force')  ... displaying 10 of 44 total bound parameter sets ...  ('Bentley', 'Goalie 2', 'Goalie', 'Jason Grande', '2021-11-12-Bentley-Air Force'), ('Bentley', 'Goalie 3', 'Goalie', 'Nicholas Grabko', '2021-11-12-Bentley-Air Force')]]\n",
      "(Background on this error at: https://sqlalche.me/e/20/e3q8)\n"
     ]
    },
    {
     "name": "stderr",
     "output_type": "stream",
     "text": [
      "Scraping games:  25%|██▌       | 278/1106 [13:12<39:37,  2.87s/it]"
     ]
    },
    {
     "name": "stdout",
     "output_type": "stream",
     "text": [
      "Error saving to table line_chart: (sqlite3.OperationalError) table line_chart has no column named Team\n",
      "[SQL: INSERT INTO line_chart (\"Team\", \"Line\", \"Position\", \"Player\", \"Game_ID\") VALUES (?, ?, ?, ?, ?)]\n",
      "[parameters: [('Clarkson', 1, 'Left Wing', 'Chris Klack', '2021-11-12-Harvard-Clarkson'), ('Clarkson', 1, 'Center', 'Zach Tsekos', '2021-11-12-Harvard-Clarkson'), ('Clarkson', 1, 'Right Wing', 'Jack Jacome', '2021-11-12-Harvard-Clarkson'), ('Clarkson', 2, 'Left Wing', 'Ayrton Martino', '2021-11-12-Harvard-Clarkson'), ('Clarkson', 2, 'Center', 'Luke Mobley', '2021-11-12-Harvard-Clarkson'), ('Clarkson', 2, 'Right Wing', 'Anthony Romano', '2021-11-12-Harvard-Clarkson'), ('Clarkson', 3, 'Left Wing', 'Alex Campbell', '2021-11-12-Harvard-Clarkson'), ('Clarkson', 3, 'Center', 'Mathieu Gosselin', '2021-11-12-Harvard-Clarkson')  ... displaying 10 of 44 total bound parameter sets ...  ('Harvard', 'Goalie 2', 'Goalie', 'Derek Mullahy', '2021-11-12-Harvard-Clarkson'), ('Harvard', 'Goalie 3', 'Goalie', 'Mitchell Gibson', '2021-11-12-Harvard-Clarkson')]]\n",
      "(Background on this error at: https://sqlalche.me/e/20/e3q8)\n"
     ]
    },
    {
     "name": "stderr",
     "output_type": "stream",
     "text": [
      "Scraping games:  25%|██▌       | 279/1106 [13:15<39:39,  2.88s/it]"
     ]
    },
    {
     "name": "stdout",
     "output_type": "stream",
     "text": [
      "Error saving to table line_chart: (sqlite3.OperationalError) table line_chart has no column named Team\n",
      "[SQL: INSERT INTO line_chart (\"Team\", \"Line\", \"Position\", \"Player\", \"Game_ID\") VALUES (?, ?, ?, ?, ?)]\n",
      "[parameters: [('Colgate', 1, 'Left Wing', 'Arnaud Vachon', '2021-11-12-Rensselaer-Colgate'), ('Colgate', 1, 'Center', 'Josh McKechney', '2021-11-12-Rensselaer-Colgate'), ('Colgate', 1, 'Right Wing', 'Alex Young', '2021-11-12-Rensselaer-Colgate'), ('Colgate', 2, 'Left Wing', 'Colton Young', '2021-11-12-Rensselaer-Colgate'), ('Colgate', 2, 'Center', 'Jeff Stewart', '2021-11-12-Rensselaer-Colgate'), ('Colgate', 2, 'Right Wing', 'Ethan Manderville', '2021-11-12-Rensselaer-Colgate'), ('Colgate', 3, 'Left Wing', 'Matt Verboon', '2021-11-12-Rensselaer-Colgate'), ('Colgate', 3, 'Center', 'Alex DiPaolo', '2021-11-12-Rensselaer-Colgate')  ... displaying 10 of 42 total bound parameter sets ...  ('Rensselaer', 'Goalie 1', 'Goalie', 'Linden Marshall', '2021-11-12-Rensselaer-Colgate'), ('Rensselaer', 'Goalie 2', 'Goalie', 'Brett Miller', '2021-11-12-Rensselaer-Colgate')]]\n",
      "(Background on this error at: https://sqlalche.me/e/20/e3q8)\n"
     ]
    },
    {
     "name": "stderr",
     "output_type": "stream",
     "text": [
      "Scraping games:  25%|██▌       | 280/1106 [13:18<39:11,  2.85s/it]"
     ]
    },
    {
     "name": "stdout",
     "output_type": "stream",
     "text": [
      "Error saving to table line_chart: (sqlite3.OperationalError) table line_chart has no column named Team\n",
      "[SQL: INSERT INTO line_chart (\"Team\", \"Line\", \"Position\", \"Player\", \"Game_ID\") VALUES (?, ?, ?, ?, ?)]\n",
      "[parameters: [('Cornell', 1, 'Left Wing', 'Ondrej Psenicka', '2021-11-12-Union-Cornell'), ('Cornell', 1, 'Center', 'Max Andreev', '2021-11-12-Union-Cornell'), ('Cornell', 1, 'Right Wing', 'Matt Stienburg', '2021-11-12-Union-Cornell'), ('Cornell', 2, 'Left Wing', 'Kyle Penney', '2021-11-12-Union-Cornell'), ('Cornell', 2, 'Center', 'Kyle Betts', '2021-11-12-Union-Cornell'), ('Cornell', 2, 'Right Wing', 'Jack Malone', '2021-11-12-Union-Cornell'), ('Cornell', 3, 'Left Wing', 'Ben Berard', '2021-11-12-Union-Cornell'), ('Cornell', 3, 'Center', 'Brenden Locke', '2021-11-12-Union-Cornell')  ... displaying 10 of 43 total bound parameter sets ...  ('Union', 'Goalie 1', 'Goalie', 'Garrett Nieto', '2021-11-12-Union-Cornell'), ('Union', 'Goalie 2', 'Goalie', 'Connor Murphy', '2021-11-12-Union-Cornell')]]\n",
      "(Background on this error at: https://sqlalche.me/e/20/e3q8)\n"
     ]
    },
    {
     "name": "stderr",
     "output_type": "stream",
     "text": [
      "Scraping games:  25%|██▌       | 281/1106 [13:21<39:20,  2.86s/it]"
     ]
    },
    {
     "name": "stdout",
     "output_type": "stream",
     "text": [
      "Error saving to table line_chart: (sqlite3.OperationalError) table line_chart has no column named Team\n",
      "[SQL: INSERT INTO line_chart (\"Team\", \"Line\", \"Position\", \"Player\", \"Game_ID\") VALUES (?, ?, ?, ?, ?)]\n",
      "[parameters: [('Dartmouth', 1, 'Left Wing', 'Mark Gallant', '2021-11-12-Dartmouth-St. Lawrence'), ('Dartmouth', 1, 'Center', 'Sean Chisholm', '2021-11-12-Dartmouth-St. Lawrence'), ('Dartmouth', 1, 'Right Wing', 'Jeff Losurdo', '2021-11-12-Dartmouth-St. Lawrence'), ('Dartmouth', 2, 'Left Wing', 'Matt Hubbarde', '2021-11-12-Dartmouth-St. Lawrence'), ('Dartmouth', 2, 'Center', 'Sam Hesler', '2021-11-12-Dartmouth-St. Lawrence'), ('Dartmouth', 2, 'Right Wing', 'Nate Morgan', '2021-11-12-Dartmouth-St. Lawrence'), ('Dartmouth', 3, 'Left Wing', 'Joey Musa', '2021-11-12-Dartmouth-St. Lawrence'), ('Dartmouth', 3, 'Center', 'Tyler Campbell', '2021-11-12-Dartmouth-St. Lawrence')  ... displaying 10 of 42 total bound parameter sets ...  ('St. Lawrence', 'Goalie 2', 'Goalie', 'Francis Boisvert', '2021-11-12-Dartmouth-St. Lawrence'), ('St. Lawrence', 'Goalie 3', 'Goalie', 'Grant Adams', '2021-11-12-Dartmouth-St. Lawrence')]]\n",
      "(Background on this error at: https://sqlalche.me/e/20/e3q8)\n"
     ]
    },
    {
     "name": "stderr",
     "output_type": "stream",
     "text": [
      "Scraping games:  25%|██▌       | 282/1106 [13:24<40:13,  2.93s/it]"
     ]
    },
    {
     "name": "stdout",
     "output_type": "stream",
     "text": [
      "Error saving to table line_chart: (sqlite3.OperationalError) table line_chart has no column named Team\n",
      "[SQL: INSERT INTO line_chart (\"Team\", \"Line\", \"Position\", \"Player\", \"Game_ID\") VALUES (?, ?, ?, ?, ?)]\n",
      "[parameters: [('New Hampshire', 1, 'Left Wing', 'Liam Devlin', '2021-11-12-Vermont-New Hampshire'), ('New Hampshire', 1, 'Center', 'Jackson Pierson', '2021-11-12-Vermont-New Hampshire'), ('New Hampshire', 1, 'Right Wing', 'Chase Stevenson', '2021-11-12-Vermont-New Hampshire'), ('New Hampshire', 2, 'Left Wing', 'Tyler Ward', '2021-11-12-Vermont-New Hampshire'), ('New Hampshire', 2, 'Center', 'Harrison Blaisdell', '2021-11-12-Vermont-New Hampshire'), ('New Hampshire', 2, 'Right Wing', 'Eric MacAdams', '2021-11-12-Vermont-New Hampshire'), ('New Hampshire', 3, 'Left Wing', 'Will Margel', '2021-11-12-Vermont-New Hampshire'), ('New Hampshire', 3, 'Center', 'Filip Engaras', '2021-11-12-Vermont-New Hampshire')  ... displaying 10 of 45 total bound parameter sets ...  ('Vermont', 'Goalie 2', 'Goalie', 'Gabe Carriere', '2021-11-12-Vermont-New Hampshire'), ('Vermont', 'Goalie 3', 'Goalie', 'Cole Hudson', '2021-11-12-Vermont-New Hampshire')]]\n",
      "(Background on this error at: https://sqlalche.me/e/20/e3q8)\n"
     ]
    },
    {
     "name": "stderr",
     "output_type": "stream",
     "text": [
      "Scraping games:  26%|██▌       | 283/1106 [13:27<39:56,  2.91s/it]"
     ]
    },
    {
     "name": "stdout",
     "output_type": "stream",
     "text": [
      "Error saving to table line_chart: (sqlite3.OperationalError) table line_chart has no column named Team\n",
      "[SQL: INSERT INTO line_chart (\"Team\", \"Line\", \"Position\", \"Player\", \"Game_ID\") VALUES (?, ?, ?, ?, ?)]\n",
      "[parameters: [('Boston College', 1, 'Left Wing', 'Trevor Kuntar', '2021-11-12-Boston College-Connecticut'), ('Boston College', 1, 'Center', 'Marc McLaughlin', '2021-11-12-Boston College-Connecticut'), ('Boston College', 1, 'Right Wing', 'Patrick Giles', '2021-11-12-Boston College-Connecticut'), ('Boston College', 2, 'Left Wing', 'Brandon Kruse', '2021-11-12-Boston College-Connecticut'), ('Boston College', 2, 'Center', 'Jack McBain', '2021-11-12-Boston College-Connecticut'), ('Boston College', 2, 'Right Wing', 'Nikita Nesterenko', '2021-11-12-Boston College-Connecticut'), ('Boston College', 3, 'Left Wing', 'Mike Posma', '2021-11-12-Boston College-Connecticut'), ('Boston College', 3, 'Center', 'Colby Ambrosio', '2021-11-12-Boston College-Connecticut')  ... displaying 10 of 43 total bound parameter sets ...  ('Connecticut', 'Goalie 2', 'Goalie', 'Logan Terness', '2021-11-12-Boston College-Connecticut'), ('Connecticut', 'Goalie 3', 'Goalie', 'Matt Pasquale', '2021-11-12-Boston College-Connecticut')]]\n",
      "(Background on this error at: https://sqlalche.me/e/20/e3q8)\n"
     ]
    },
    {
     "name": "stderr",
     "output_type": "stream",
     "text": [
      "Scraping games:  26%|██▌       | 284/1106 [13:30<39:43,  2.90s/it]"
     ]
    },
    {
     "name": "stdout",
     "output_type": "stream",
     "text": [
      "Error saving to table line_chart: (sqlite3.OperationalError) table line_chart has no column named Team\n",
      "[SQL: INSERT INTO line_chart (\"Team\", \"Line\", \"Position\", \"Player\", \"Game_ID\") VALUES (?, ?, ?, ?, ?)]\n",
      "[parameters: [('Mass.-Lowell', 1, 'Left Wing', 'Andre Lee', '2021-11-12-Northeastern-Mass.-Lowell'), ('Mass.-Lowell', 1, 'Center', 'Carl Berglund', '2021-11-12-Northeastern-Mass.-Lowell'), ('Mass.-Lowell', 1, 'Right Wing', 'Reid Stefanson', '2021-11-12-Northeastern-Mass.-Lowell'), ('Mass.-Lowell', 2, 'Left Wing', 'Zach Kaiser', '2021-11-12-Northeastern-Mass.-Lowell'), ('Mass.-Lowell', 2, 'Center', 'Connor Sodergren', '2021-11-12-Northeastern-Mass.-Lowell'), ('Mass.-Lowell', 2, 'Right Wing', 'Brian Chambers', '2021-11-12-Northeastern-Mass.-Lowell'), ('Mass.-Lowell', 3, 'Left Wing', 'Blake Wells', '2021-11-12-Northeastern-Mass.-Lowell'), ('Mass.-Lowell', 3, 'Center', 'Stefan Owens', '2021-11-12-Northeastern-Mass.-Lowell')  ... displaying 10 of 44 total bound parameter sets ...  ('Northeastern', 'Goalie 2', 'Goalie', 'Devon Levi', '2021-11-12-Northeastern-Mass.-Lowell'), ('Northeastern', 'Goalie 3', 'Goalie', 'TJ Semptimphelter', '2021-11-12-Northeastern-Mass.-Lowell')]]\n",
      "(Background on this error at: https://sqlalche.me/e/20/e3q8)\n"
     ]
    },
    {
     "name": "stderr",
     "output_type": "stream",
     "text": [
      "Scraping games:  26%|██▌       | 285/1106 [13:32<39:15,  2.87s/it]"
     ]
    },
    {
     "name": "stdout",
     "output_type": "stream",
     "text": [
      "Error saving to table line_chart: (sqlite3.OperationalError) table line_chart has no column named Team\n",
      "[SQL: INSERT INTO line_chart (\"Team\", \"Line\", \"Position\", \"Player\", \"Game_ID\") VALUES (?, ?, ?, ?, ?)]\n",
      "[parameters: [('Boston University', 1, 'Left Wing', 'Logan Cockerill', '2021-11-12-Massachusetts-Boston University'), ('Boston University', 1, 'Center', 'Wilmer Skoog', '2021-11-12-Massachusetts-Boston University'), ('Boston University', 1, 'Right Wing', \"Jay O'Brien\", '2021-11-12-Massachusetts-Boston University'), ('Boston University', 2, 'Left Wing', 'Robert Mastrosimone', '2021-11-12-Massachusetts-Boston University'), ('Boston University', 2, 'Center', 'Ty Amonte', '2021-11-12-Massachusetts-Boston University'), ('Boston University', 2, 'Right Wing', 'Tyler Boucher', '2021-11-12-Massachusetts-Boston University'), ('Boston University', 3, 'Left Wing', 'Jamie Armstrong', '2021-11-12-Massachusetts-Boston University'), ('Boston University', 3, 'Center', 'Nick Zabaneh', '2021-11-12-Massachusetts-Boston University')  ... displaying 10 of 42 total bound parameter sets ...  ('Massachusetts', 'Goalie 1', 'Goalie', 'Matt Murray', '2021-11-12-Massachusetts-Boston University'), ('Massachusetts', 'Goalie 2', 'Goalie', 'Luke Pavicich', '2021-11-12-Massachusetts-Boston University')]]\n",
      "(Background on this error at: https://sqlalche.me/e/20/e3q8)\n"
     ]
    },
    {
     "name": "stderr",
     "output_type": "stream",
     "text": [
      "Scraping games:  26%|██▌       | 286/1106 [13:35<39:39,  2.90s/it]"
     ]
    },
    {
     "name": "stdout",
     "output_type": "stream",
     "text": [
      "Error saving to table line_chart: (sqlite3.OperationalError) table line_chart has no column named Team\n",
      "[SQL: INSERT INTO line_chart (\"Team\", \"Line\", \"Position\", \"Player\", \"Game_ID\") VALUES (?, ?, ?, ?, ?)]\n",
      "[parameters: [('Maine', 1, 'Left Wing', 'John Mulera', '2021-11-12-Merrimack-Maine'), ('Maine', 1, 'Center', 'Keenan Suthers', '2021-11-12-Merrimack-Maine'), ('Maine', 1, 'Right Wing', 'Donavan Villeneuve-Houle', '2021-11-12-Merrimack-Maine'), ('Maine', 2, 'Left Wing', 'Matthew Fawcett', '2021-11-12-Merrimack-Maine'), ('Maine', 2, 'Center', 'Lynden Breen', '2021-11-12-Merrimack-Maine'), ('Maine', 2, 'Right Wing', 'Adam Dawe', '2021-11-12-Merrimack-Maine'), ('Maine', 3, 'Left Wing', 'Grant Hebert', '2021-11-12-Merrimack-Maine'), ('Maine', 3, 'Center', 'Nolan Renwick', '2021-11-12-Merrimack-Maine')  ... displaying 10 of 40 total bound parameter sets ...  ('Merrimack', 1, 'Extra', 'Mark', '2021-11-12-Merrimack-Maine'), ('Merrimack', 'Goalie 1', 'Goalie', 'Hugo Ollas', '2021-11-12-Merrimack-Maine')]]\n",
      "(Background on this error at: https://sqlalche.me/e/20/e3q8)\n"
     ]
    },
    {
     "name": "stderr",
     "output_type": "stream",
     "text": [
      "Scraping games:  26%|██▌       | 287/1106 [13:38<39:23,  2.89s/it]"
     ]
    },
    {
     "name": "stdout",
     "output_type": "stream",
     "text": [
      "Error saving to table line_chart: (sqlite3.OperationalError) table line_chart has no column named Team\n",
      "[SQL: INSERT INTO line_chart (\"Team\", \"Line\", \"Position\", \"Player\", \"Game_ID\") VALUES (?, ?, ?, ?, ?)]\n",
      "[parameters: [('Colorado College', 1, 'Left Wing', 'Danny Weight', '2021-11-12-Colorado College-Minnesota-Duluth'), ('Colorado College', 1, 'Center', 'Stanley Cooley', '2021-11-12-Colorado College-Minnesota-Duluth'), ('Colorado College', 1, 'Right Wing', 'Patrick Cozzi', '2021-11-12-Colorado College-Minnesota-Duluth'), ('Colorado College', 2, 'Left Wing', 'Matthew Gleason', '2021-11-12-Colorado College-Minnesota-Duluth'), ('Colorado College', 2, 'Center', 'Jackson Jutting', '2021-11-12-Colorado College-Minnesota-Duluth'), ('Colorado College', 2, 'Right Wing', 'Jordan Biro', '2021-11-12-Colorado College-Minnesota-Duluth'), ('Colorado College', 3, 'Left Wing', 'Tyler Coffey', '2021-11-12-Colorado College-Minnesota-Duluth'), ('Colorado College', 3, 'Center', 'Noah Prokop', '2021-11-12-Colorado College-Minnesota-Duluth')  ... displaying 10 of 44 total bound parameter sets ...  ('Minnesota-Duluth', 'Goalie 2', 'Goalie', 'Ben Patt', '2021-11-12-Colorado College-Minnesota-Duluth'), ('Minnesota-Duluth', 'Goalie 3', 'Goalie', 'Ryan Fanti', '2021-11-12-Colorado College-Minnesota-Duluth')]]\n",
      "(Background on this error at: https://sqlalche.me/e/20/e3q8)\n"
     ]
    },
    {
     "name": "stderr",
     "output_type": "stream",
     "text": [
      "Scraping games:  26%|██▌       | 288/1106 [13:41<39:30,  2.90s/it]"
     ]
    },
    {
     "name": "stdout",
     "output_type": "stream",
     "text": [
      "Error saving to table line_chart: (sqlite3.OperationalError) table line_chart has no column named Team\n",
      "[SQL: INSERT INTO line_chart (\"Team\", \"Line\", \"Position\", \"Player\", \"Game_ID\") VALUES (?, ?, ?, ?, ?)]\n",
      "[parameters: [('Miami', 1, 'Left Wing', 'PJ Fletcher', '2021-11-12-North Dakota-Miami'), ('Miami', 1, 'Center', 'Michael Regush', '2021-11-12-North Dakota-Miami'), ('Miami', 1, 'Right Wing', 'Matt Barry', '2021-11-12-North Dakota-Miami'), ('Miami', 2, 'Left Wing', 'Matthew Barbolini', '2021-11-12-North Dakota-Miami'), ('Miami', 2, 'Center', 'Red Savage', '2021-11-12-North Dakota-Miami'), ('Miami', 2, 'Right Wing', 'Ryan Savage', '2021-11-12-North Dakota-Miami'), ('Miami', 3, 'Left Wing', 'Scott Corbett', '2021-11-12-North Dakota-Miami'), ('Miami', 3, 'Center', 'Monte Graham', '2021-11-12-North Dakota-Miami')  ... displaying 10 of 42 total bound parameter sets ...  ('North Dakota', 'Goalie 1', 'Goalie', 'Zach Driscoll', '2021-11-12-North Dakota-Miami'), ('North Dakota', 'Goalie 2', 'Goalie', 'Jakob Hellsten', '2021-11-12-North Dakota-Miami')]]\n",
      "(Background on this error at: https://sqlalche.me/e/20/e3q8)\n"
     ]
    },
    {
     "name": "stderr",
     "output_type": "stream",
     "text": [
      "Scraping games:  26%|██▌       | 289/1106 [13:44<39:38,  2.91s/it]"
     ]
    },
    {
     "name": "stdout",
     "output_type": "stream",
     "text": [
      "Error saving to table line_chart: (sqlite3.OperationalError) table line_chart has no column named Team\n",
      "[SQL: INSERT INTO line_chart (\"Team\", \"Line\", \"Position\", \"Player\", \"Game_ID\") VALUES (?, ?, ?, ?, ?)]\n",
      "[parameters: [('Omaha', 1, 'Left Wing', 'Tyler Weiss', '2021-11-12-Omaha-St. Cloud State'), ('Omaha', 1, 'Center', 'Ty Mueller', '2021-11-12-Omaha-St. Cloud State'), ('Omaha', 1, 'Right Wing', 'Taylor Ward', '2021-11-12-Omaha-St. Cloud State'), ('Omaha', 2, 'Left Wing', 'Jack Randl', '2021-11-12-Omaha-St. Cloud State'), ('Omaha', 2, 'Center', 'Cameron Berg', '2021-11-12-Omaha-St. Cloud State'), ('Omaha', 2, 'Right Wing', 'Brannon McManus', '2021-11-12-Omaha-St. Cloud State'), ('Omaha', 3, 'Left Wing', 'Kevin Conley', '2021-11-12-Omaha-St. Cloud State'), ('Omaha', 3, 'Center', 'Jimmy Glynn', '2021-11-12-Omaha-St. Cloud State')  ... displaying 10 of 44 total bound parameter sets ...  ('St. Cloud State', 'Goalie 2', 'Goalie', 'Joey Lamoreaux', '2021-11-12-Omaha-St. Cloud State'), ('St. Cloud State', 'Goalie 3', 'Goalie', 'Jaxon Castor', '2021-11-12-Omaha-St. Cloud State')]]\n",
      "(Background on this error at: https://sqlalche.me/e/20/e3q8)\n"
     ]
    },
    {
     "name": "stderr",
     "output_type": "stream",
     "text": [
      "Scraping games:  26%|██▌       | 290/1106 [13:47<39:10,  2.88s/it]"
     ]
    },
    {
     "name": "stdout",
     "output_type": "stream",
     "text": [
      "Error saving to table line_chart: (sqlite3.OperationalError) table line_chart has no column named Team\n",
      "[SQL: INSERT INTO line_chart (\"Team\", \"Line\", \"Position\", \"Player\", \"Game_ID\") VALUES (?, ?, ?, ?, ?)]\n",
      "[parameters: [('Denver', 1, 'Left Wing', 'Carter Savoie', '2021-11-12-Western Michigan-Denver'), ('Denver', 1, 'Center', 'Cole Guttman', '2021-11-12-Western Michigan-Denver'), ('Denver', 1, 'Right Wing', 'Bobby Brink', '2021-11-12-Western Michigan-Denver'), ('Denver', 2, 'Left Wing', 'Carter Mazur', '2021-11-12-Western Michigan-Denver'), ('Denver', 2, 'Center', 'Massimo Rizzo', '2021-11-12-Western Michigan-Denver'), ('Denver', 2, 'Right Wing', 'Cameron Wright', '2021-11-12-Western Michigan-Denver'), ('Denver', 3, 'Left Wing', 'Ryan Barrow', '2021-11-12-Western Michigan-Denver'), ('Denver', 3, 'Center', 'Brett Stapley', '2021-11-12-Western Michigan-Denver')  ... displaying 10 of 43 total bound parameter sets ...  ('Western Michigan', 'Goalie 1', 'Goalie', 'Brandon Bussi', '2021-11-12-Western Michigan-Denver'), ('Western Michigan', 'Goalie 2', 'Goalie', 'Alex Aslanidis', '2021-11-12-Western Michigan-Denver')]]\n",
      "(Background on this error at: https://sqlalche.me/e/20/e3q8)\n"
     ]
    },
    {
     "name": "stderr",
     "output_type": "stream",
     "text": [
      "Scraping games:  26%|██▋       | 291/1106 [13:50<39:14,  2.89s/it]"
     ]
    },
    {
     "name": "stdout",
     "output_type": "stream",
     "text": [
      "Error saving to table line_chart: (sqlite3.OperationalError) table line_chart has no column named Team\n",
      "[SQL: INSERT INTO line_chart (\"Team\", \"Line\", \"Position\", \"Player\", \"Game_ID\") VALUES (?, ?, ?, ?, ?)]\n",
      "[parameters: [('Michigan', 1, 'Left Wing', 'Kent Johnson', '2021-11-12-Michigan-Penn State'), ('Michigan', 1, 'Center', 'Matty Beniers', '2021-11-12-Michigan-Penn State'), ('Michigan', 1, 'Right Wing', 'Brendan Brisson', '2021-11-12-Michigan-Penn State'), ('Michigan', 2, 'Left Wing', 'Garrett Van Wyhe', '2021-11-12-Michigan-Penn State'), ('Michigan', 2, 'Center', 'Johnny Beecher', '2021-11-12-Michigan-Penn State'), ('Michigan', 2, 'Right Wing', 'Mackie Samoskevich', '2021-11-12-Michigan-Penn State'), ('Michigan', 3, 'Left Wing', 'Michael Pastujov', '2021-11-12-Michigan-Penn State'), ('Michigan', 3, 'Center', 'Thomas Bordeleau', '2021-11-12-Michigan-Penn State')  ... displaying 10 of 44 total bound parameter sets ...  ('Penn State', 'Goalie 2', 'Goalie', 'Liam Souliere', '2021-11-12-Michigan-Penn State'), ('Penn State', 'Goalie 3', 'Goalie', 'Doug Dorr', '2021-11-12-Michigan-Penn State')]]\n",
      "(Background on this error at: https://sqlalche.me/e/20/e3q8)\n"
     ]
    },
    {
     "name": "stderr",
     "output_type": "stream",
     "text": [
      "Scraping games:  26%|██▋       | 292/1106 [13:53<39:33,  2.92s/it]"
     ]
    },
    {
     "name": "stdout",
     "output_type": "stream",
     "text": [
      "Error saving to table line_chart: (sqlite3.OperationalError) table line_chart has no column named Team\n",
      "[SQL: INSERT INTO line_chart (\"Team\", \"Line\", \"Position\", \"Player\", \"Game_ID\") VALUES (?, ?, ?, ?, ?)]\n",
      "[parameters: [('Minnesota', 1, 'Left Wing', 'Blake McLaughlin', '2021-11-12-Ohio State-Minnesota'), ('Minnesota', 1, 'Center', 'Sammy Walker', '2021-11-12-Ohio State-Minnesota'), ('Minnesota', 1, 'Right Wing', 'Bryce Brodzinski', '2021-11-12-Ohio State-Minnesota'), ('Minnesota', 2, 'Left Wing', 'Matthew Knies', '2021-11-12-Ohio State-Minnesota'), ('Minnesota', 2, 'Center', 'Ben Meyers', '2021-11-12-Ohio State-Minnesota'), ('Minnesota', 2, 'Right Wing', 'Mason Nevers', '2021-11-12-Ohio State-Minnesota'), ('Minnesota', 3, 'Left Wing', 'Jonny Sorenson', '2021-11-12-Ohio State-Minnesota'), ('Minnesota', 3, 'Center', 'Jack Perbix', '2021-11-12-Ohio State-Minnesota')  ... displaying 10 of 43 total bound parameter sets ...  ('Ohio State', 'Goalie 1', 'Goalie', 'Ryan Snowden', '2021-11-12-Ohio State-Minnesota'), ('Ohio State', 'Goalie 2', 'Goalie', 'Jakub Dobeš', '2021-11-12-Ohio State-Minnesota')]]\n",
      "(Background on this error at: https://sqlalche.me/e/20/e3q8)\n"
     ]
    },
    {
     "name": "stderr",
     "output_type": "stream",
     "text": [
      "Scraping games:  26%|██▋       | 293/1106 [13:56<39:34,  2.92s/it]"
     ]
    },
    {
     "name": "stdout",
     "output_type": "stream",
     "text": [
      "Error saving to table line_chart: (sqlite3.OperationalError) table line_chart has no column named Team\n",
      "[SQL: INSERT INTO line_chart (\"Team\", \"Line\", \"Position\", \"Player\", \"Game_ID\") VALUES (?, ?, ?, ?, ?)]\n",
      "[parameters: [('Notre Dame', 1, 'Left Wing', 'Jesse Lansdell', '2021-11-12-Wisconsin-Notre Dame'), ('Notre Dame', 1, 'Center', 'Solag Bakich', '2021-11-12-Wisconsin-Notre Dame'), ('Notre Dame', 1, 'Right Wing', 'Max Ellis', '2021-11-12-Wisconsin-Notre Dame'), ('Notre Dame', 2, 'Left Wing', 'Landon Slaggert', '2021-11-12-Wisconsin-Notre Dame'), ('Notre Dame', 2, 'Center', 'Graham Slaggert', '2021-11-12-Wisconsin-Notre Dame'), ('Notre Dame', 2, 'Right Wing', 'Trevor Janicke', '2021-11-12-Wisconsin-Notre Dame'), ('Notre Dame', 3, 'Left Wing', 'Grant Silianoff', '2021-11-12-Wisconsin-Notre Dame'), ('Notre Dame', 3, 'Center', 'Cam Burke', '2021-11-12-Wisconsin-Notre Dame')  ... displaying 10 of 44 total bound parameter sets ...  ('Wisconsin', 'Goalie 2', 'Goalie', 'Cameron Rowe', '2021-11-12-Wisconsin-Notre Dame'), ('Wisconsin', 'Goalie 3', 'Goalie', 'Ben Garrity', '2021-11-12-Wisconsin-Notre Dame')]]\n",
      "(Background on this error at: https://sqlalche.me/e/20/e3q8)\n"
     ]
    },
    {
     "name": "stderr",
     "output_type": "stream",
     "text": [
      "Scraping games:  27%|██▋       | 294/1106 [13:59<39:25,  2.91s/it]"
     ]
    },
    {
     "name": "stdout",
     "output_type": "stream",
     "text": [
      "Error saving to table line_chart: (sqlite3.OperationalError) table line_chart has no column named Team\n",
      "[SQL: INSERT INTO line_chart (\"Team\", \"Line\", \"Position\", \"Player\", \"Game_ID\") VALUES (?, ?, ?, ?, ?)]\n",
      "[parameters: [('Bemidji State', 1, 'Left Wing', 'Lukas Sillinger', '2021-11-12-Bemidji State-Lake Superior'), ('Bemidji State', 1, 'Center', 'Owen Sillinger', '2021-11-12-Bemidji State-Lake Superior'), ('Bemidji State', 1, 'Right Wing', 'Alex Ierullo', '2021-11-12-Bemidji State-Lake Superior'), ('Bemidji State', 2, 'Left Wing', 'Ethan Somoza', '2021-11-12-Bemidji State-Lake Superior'), ('Bemidji State', 2, 'Center', 'Ross Armour', '2021-11-12-Bemidji State-Lake Superior'), ('Bemidji State', 2, 'Right Wing', 'Eric Martin', '2021-11-12-Bemidji State-Lake Superior'), ('Bemidji State', 3, 'Left Wing', 'Jakub Lewandowski', '2021-11-12-Bemidji State-Lake Superior'), ('Bemidji State', 3, 'Center', 'Tyler Kirkup', '2021-11-12-Bemidji State-Lake Superior')  ... displaying 10 of 44 total bound parameter sets ...  ('Lake Superior', 'Goalie 2', 'Goalie', 'Ethan Langenegger', '2021-11-12-Bemidji State-Lake Superior'), ('Lake Superior', 'Goalie 3', 'Goalie', 'Easton Hesse', '2021-11-12-Bemidji State-Lake Superior')]]\n",
      "(Background on this error at: https://sqlalche.me/e/20/e3q8)\n"
     ]
    },
    {
     "name": "stderr",
     "output_type": "stream",
     "text": [
      "Scraping games:  27%|██▋       | 295/1106 [14:01<38:49,  2.87s/it]"
     ]
    },
    {
     "name": "stdout",
     "output_type": "stream",
     "text": [
      "Error saving to table line_chart: (sqlite3.OperationalError) table line_chart has no column named Team\n",
      "[SQL: INSERT INTO line_chart (\"Team\", \"Line\", \"Position\", \"Player\", \"Game_ID\") VALUES (?, ?, ?, ?, ?)]\n",
      "[parameters: [('Michigan Tech', 1, 'Left Wing', 'Jake Crespi', '2021-11-12-Northern Michigan-Michigan Tech'), ('Michigan Tech', 1, 'Center', 'Arvid Caderoth', '2021-11-12-Northern Michigan-Michigan Tech'), ('Michigan Tech', 1, 'Right Wing', 'Nick Nardella', '2021-11-12-Northern Michigan-Michigan Tech'), ('Michigan Tech', 2, 'Left Wing', 'Ryland Mosley', '2021-11-12-Northern Michigan-Michigan Tech'), ('Michigan Tech', 2, 'Center', 'Justin Misiak', '2021-11-12-Northern Michigan-Michigan Tech'), ('Michigan Tech', 2, 'Right Wing', 'Parker Saretsky', '2021-11-12-Northern Michigan-Michigan Tech'), ('Michigan Tech', 3, 'Left Wing', 'Tommy Parrottino', '2021-11-12-Northern Michigan-Michigan Tech'), ('Michigan Tech', 3, 'Center', 'Trenton Bliss', '2021-11-12-Northern Michigan-Michigan Tech')  ... displaying 10 of 43 total bound parameter sets ...  ('Northern Michigan', 'Goalie 2', 'Goalie', 'Rico DiMatteo', '2021-11-12-Northern Michigan-Michigan Tech'), ('Northern Michigan', 'Goalie 3', 'Goalie', 'Charlie Glockner', '2021-11-12-Northern Michigan-Michigan Tech')]]\n",
      "(Background on this error at: https://sqlalche.me/e/20/e3q8)\n"
     ]
    },
    {
     "name": "stderr",
     "output_type": "stream",
     "text": [
      "Scraping games:  27%|██▋       | 296/1106 [14:04<39:27,  2.92s/it]"
     ]
    },
    {
     "name": "stdout",
     "output_type": "stream",
     "text": [
      "Error saving to table line_chart: (sqlite3.OperationalError) table line_chart has no column named Team\n",
      "[SQL: INSERT INTO line_chart (\"Team\", \"Line\", \"Position\", \"Player\", \"Game_ID\") VALUES (?, ?, ?, ?, ?)]\n",
      "[parameters: [('Bowling Green', 1, 'Left Wing', 'Sam Craggs', '2021-11-12-Bowling Green-Minnesota State'), ('Bowling Green', 1, 'Center', 'Taylor Schneider', '2021-11-12-Bowling Green-Minnesota State'), ('Bowling Green', 1, 'Right Wing', 'Alex Barber', '2021-11-12-Bowling Green-Minnesota State'), ('Bowling Green', 2, 'Left Wing', 'Chrystopher Collin', '2021-11-12-Bowling Green-Minnesota State'), ('Bowling Green', 2, 'Center', 'Ethan Scardina', '2021-11-12-Bowling Green-Minnesota State'), ('Bowling Green', 2, 'Right Wing', 'Seth Fyten', '2021-11-12-Bowling Green-Minnesota State'), ('Bowling Green', 3, 'Left Wing', 'Coale Norris', '2021-11-12-Bowling Green-Minnesota State'), ('Bowling Green', 3, 'Center', 'Austen Swankler', '2021-11-12-Bowling Green-Minnesota State')  ... displaying 10 of 43 total bound parameter sets ...  ('Minnesota State', 'Goalie 2', 'Goalie', 'Andrew Miller', '2021-11-12-Bowling Green-Minnesota State'), ('Minnesota State', 'Goalie 3', 'Goalie', 'Keenan Rancier', '2021-11-12-Bowling Green-Minnesota State')]]\n",
      "(Background on this error at: https://sqlalche.me/e/20/e3q8)\n"
     ]
    },
    {
     "name": "stderr",
     "output_type": "stream",
     "text": [
      "Scraping games:  27%|██▋       | 297/1106 [14:07<38:50,  2.88s/it]"
     ]
    },
    {
     "name": "stdout",
     "output_type": "stream",
     "text": [
      "Error saving to table line_chart: (sqlite3.OperationalError) table line_chart has no column named Team\n",
      "[SQL: INSERT INTO line_chart (\"Team\", \"Line\", \"Position\", \"Player\", \"Game_ID\") VALUES (?, ?, ?, ?, ?)]\n",
      "[parameters: [('Canisius', 1, 'Left Wing', 'Mitchell Martan', '2021-11-13-RIT-Canisius'), ('Canisius', 1, 'Center', 'Lee Lapid', '2021-11-13-RIT-Canisius'), ('Canisius', 1, 'Right Wing', 'Keaton Mastrodonato', '2021-11-13-RIT-Canisius'), ('Canisius', 2, 'Left Wing', 'Austin Alger', '2021-11-13-RIT-Canisius'), ('Canisius', 2, 'Center', 'Max Kouznetsov', '2021-11-13-RIT-Canisius'), ('Canisius', 2, 'Right Wing', 'Randy Hernandez', '2021-11-13-RIT-Canisius'), ('Canisius', 3, 'Left Wing', 'Alton McDermott', '2021-11-13-RIT-Canisius'), ('Canisius', 3, 'Center', 'Alex Ambrosio', '2021-11-13-RIT-Canisius')  ... displaying 10 of 44 total bound parameter sets ...  ('RIT', 'Goalie 2', 'Goalie', 'Kolby Matthews', '2021-11-13-RIT-Canisius'), ('RIT', 'Goalie 3', 'Goalie', 'Tommy Scarfone', '2021-11-13-RIT-Canisius')]]\n",
      "(Background on this error at: https://sqlalche.me/e/20/e3q8)\n"
     ]
    },
    {
     "name": "stderr",
     "output_type": "stream",
     "text": [
      "Scraping games:  27%|██▋       | 298/1106 [14:10<38:59,  2.90s/it]"
     ]
    },
    {
     "name": "stdout",
     "output_type": "stream",
     "text": [
      "Error saving to table line_chart: (sqlite3.OperationalError) table line_chart has no column named Team\n",
      "[SQL: INSERT INTO line_chart (\"Team\", \"Line\", \"Position\", \"Player\", \"Game_ID\") VALUES (?, ?, ?, ?, ?)]\n",
      "[parameters: [('Holy Cross', 1, 'Left Wing', 'John Gelatt', '2021-11-13-Mercyhurst-Holy Cross'), ('Holy Cross', 1, 'Center', 'Alex Peterson', '2021-11-13-Mercyhurst-Holy Cross'), ('Holy Cross', 1, 'Right Wing', 'Jack Ricketts', '2021-11-13-Mercyhurst-Holy Cross'), ('Holy Cross', 2, 'Left Wing', 'Tyler Ghirardosi', '2021-11-13-Mercyhurst-Holy Cross'), ('Holy Cross', 2, 'Center', 'Ryan Leibold', '2021-11-13-Mercyhurst-Holy Cross'), ('Holy Cross', 2, 'Right Wing', 'Grayson Constable', '2021-11-13-Mercyhurst-Holy Cross'), ('Holy Cross', 3, 'Left Wing', 'Jack MacNab', '2021-11-13-Mercyhurst-Holy Cross'), ('Holy Cross', 3, 'Center', 'Daniel Colabufo', '2021-11-13-Mercyhurst-Holy Cross')  ... displaying 10 of 43 total bound parameter sets ...  ('Mercyhurst', 'Goalie 1', 'Goalie', 'Hank Johnson', '2021-11-13-Mercyhurst-Holy Cross'), ('Mercyhurst', 'Goalie 2', 'Goalie', 'Kyle McClellan', '2021-11-13-Mercyhurst-Holy Cross')]]\n",
      "(Background on this error at: https://sqlalche.me/e/20/e3q8)\n"
     ]
    },
    {
     "name": "stderr",
     "output_type": "stream",
     "text": [
      "Scraping games:  27%|██▋       | 299/1106 [14:13<39:19,  2.92s/it]"
     ]
    },
    {
     "name": "stdout",
     "output_type": "stream",
     "text": [
      "Error saving to table line_chart: (sqlite3.OperationalError) table line_chart has no column named Team\n",
      "[SQL: INSERT INTO line_chart (\"Team\", \"Line\", \"Position\", \"Player\", \"Game_ID\") VALUES (?, ?, ?, ?, ?)]\n",
      "[parameters: [('Air Force', 1, 'Left Wing', 'Nate Horn', '2021-11-13-Bentley-Air Force'), ('Air Force', 1, 'Center', 'Clayton Cosentino', '2021-11-13-Bentley-Air Force'), ('Air Force', 1, 'Right Wing', 'Willie Reim', '2021-11-13-Bentley-Air Force'), ('Air Force', 2, 'Left Wing', 'Will Gavin', '2021-11-13-Bentley-Air Force'), ('Air Force', 2, 'Center', 'Austin Schwartz', '2021-11-13-Bentley-Air Force'), ('Air Force', 2, 'Right Wing', 'Parker Brown', '2021-11-13-Bentley-Air Force'), ('Air Force', 3, 'Left Wing', 'Bennett Norlin', '2021-11-13-Bentley-Air Force'), ('Air Force', 3, 'Center', 'Jacob Marti', '2021-11-13-Bentley-Air Force')  ... displaying 10 of 44 total bound parameter sets ...  ('Bentley', 'Goalie 2', 'Goalie', 'Jason Grande', '2021-11-13-Bentley-Air Force'), ('Bentley', 'Goalie 3', 'Goalie', 'Nicholas Grabko', '2021-11-13-Bentley-Air Force')]]\n",
      "(Background on this error at: https://sqlalche.me/e/20/e3q8)\n"
     ]
    },
    {
     "name": "stderr",
     "output_type": "stream",
     "text": [
      "Scraping games:  27%|██▋       | 300/1106 [14:16<39:22,  2.93s/it]"
     ]
    },
    {
     "name": "stdout",
     "output_type": "stream",
     "text": [
      "Error saving to table line_chart: (sqlite3.OperationalError) table line_chart has no column named Team\n",
      "[SQL: INSERT INTO line_chart (\"Team\", \"Line\", \"Position\", \"Player\", \"Game_ID\") VALUES (?, ?, ?, ?, ?)]\n",
      "[parameters: [('Colgate', 1, 'Left Wing', 'Arnaud Vachon', '2021-11-13-Union-Colgate'), ('Colgate', 1, 'Center', 'Josh McKechney', '2021-11-13-Union-Colgate'), ('Colgate', 1, 'Right Wing', 'Alex Young', '2021-11-13-Union-Colgate'), ('Colgate', 2, 'Left Wing', 'Colton Young', '2021-11-13-Union-Colgate'), ('Colgate', 2, 'Center', 'Jeff Stewart', '2021-11-13-Union-Colgate'), ('Colgate', 2, 'Right Wing', 'Ethan Manderville', '2021-11-13-Union-Colgate'), ('Colgate', 3, 'Left Wing', 'Matt Verboon', '2021-11-13-Union-Colgate'), ('Colgate', 3, 'Center', 'Alex DiPaolo', '2021-11-13-Union-Colgate')  ... displaying 10 of 43 total bound parameter sets ...  ('Union', 'Goalie 1', 'Goalie', 'Garrett Nieto', '2021-11-13-Union-Colgate'), ('Union', 'Goalie 2', 'Goalie', 'Connor Murphy', '2021-11-13-Union-Colgate')]]\n",
      "(Background on this error at: https://sqlalche.me/e/20/e3q8)\n"
     ]
    },
    {
     "name": "stderr",
     "output_type": "stream",
     "text": [
      "Scraping games:  27%|██▋       | 302/1106 [14:22<38:56,  2.91s/it]"
     ]
    },
    {
     "name": "stdout",
     "output_type": "stream",
     "text": [
      "Error saving to table line_chart: (sqlite3.OperationalError) table line_chart has no column named Team\n",
      "[SQL: INSERT INTO line_chart (\"Team\", \"Line\", \"Position\", \"Player\", \"Game_ID\") VALUES (?, ?, ?, ?, ?)]\n",
      "[parameters: [('Clarkson', 1, 'Left Wing', 'Chris Klack', '2021-11-13-Dartmouth-Clarkson'), ('Clarkson', 1, 'Center', 'Zach Tsekos', '2021-11-13-Dartmouth-Clarkson'), ('Clarkson', 1, 'Right Wing', 'Jack Jacome', '2021-11-13-Dartmouth-Clarkson'), ('Clarkson', 2, 'Left Wing', 'Ayrton Martino', '2021-11-13-Dartmouth-Clarkson'), ('Clarkson', 2, 'Center', 'Luke Mobley', '2021-11-13-Dartmouth-Clarkson'), ('Clarkson', 2, 'Right Wing', 'Anthony Romano', '2021-11-13-Dartmouth-Clarkson'), ('Clarkson', 3, 'Left Wing', 'Alex Campbell', '2021-11-13-Dartmouth-Clarkson'), ('Clarkson', 3, 'Center', 'Mathieu Gosselin', '2021-11-13-Dartmouth-Clarkson')  ... displaying 10 of 43 total bound parameter sets ...  ('Dartmouth', 'Goalie 1', 'Goalie', 'Justin Ferguson', '2021-11-13-Dartmouth-Clarkson'), ('Dartmouth', 'Goalie 2', 'Goalie', 'Troy Burkhart', '2021-11-13-Dartmouth-Clarkson')]]\n",
      "(Background on this error at: https://sqlalche.me/e/20/e3q8)\n"
     ]
    },
    {
     "name": "stderr",
     "output_type": "stream",
     "text": [
      "Scraping games:  27%|██▋       | 303/1106 [14:24<37:58,  2.84s/it]"
     ]
    },
    {
     "name": "stdout",
     "output_type": "stream",
     "text": [
      "Error saving to table line_chart: (sqlite3.OperationalError) table line_chart has no column named Team\n",
      "[SQL: INSERT INTO line_chart (\"Team\", \"Line\", \"Position\", \"Player\", \"Game_ID\") VALUES (?, ?, ?, ?, ?)]\n",
      "[parameters: [('Cornell', 1, 'Left Wing', 'Ondrej Psenicka', '2021-11-13-Rensselaer-Cornell'), ('Cornell', 1, 'Center', 'Max Andreev', '2021-11-13-Rensselaer-Cornell'), ('Cornell', 1, 'Right Wing', 'Matt Stienburg', '2021-11-13-Rensselaer-Cornell'), ('Cornell', 2, 'Left Wing', 'Kyle Penney', '2021-11-13-Rensselaer-Cornell'), ('Cornell', 2, 'Center', 'Kyle Betts', '2021-11-13-Rensselaer-Cornell'), ('Cornell', 2, 'Right Wing', 'Jack Malone', '2021-11-13-Rensselaer-Cornell'), ('Cornell', 3, 'Left Wing', 'Ben Berard', '2021-11-13-Rensselaer-Cornell'), ('Cornell', 3, 'Center', 'Brenden Locke', '2021-11-13-Rensselaer-Cornell')  ... displaying 10 of 43 total bound parameter sets ...  ('Rensselaer', 'Goalie 1', 'Goalie', 'Linden Marshall', '2021-11-13-Rensselaer-Cornell'), ('Rensselaer', 'Goalie 2', 'Goalie', 'Brett Miller', '2021-11-13-Rensselaer-Cornell')]]\n",
      "(Background on this error at: https://sqlalche.me/e/20/e3q8)\n"
     ]
    },
    {
     "name": "stderr",
     "output_type": "stream",
     "text": [
      "Scraping games:  27%|██▋       | 304/1106 [14:27<38:39,  2.89s/it]"
     ]
    },
    {
     "name": "stdout",
     "output_type": "stream",
     "text": [
      "Error saving to table line_chart: (sqlite3.OperationalError) table line_chart has no column named Team\n",
      "[SQL: INSERT INTO line_chart (\"Team\", \"Line\", \"Position\", \"Player\", \"Game_ID\") VALUES (?, ?, ?, ?, ?)]\n",
      "[parameters: [('Princeton', 1, 'Left Wing', 'Nick Seitz', '2021-11-13-Long Island-Princeton'), ('Princeton', 1, 'Center', 'Adam Robbins', '2021-11-13-Long Island-Princeton'), ('Princeton', 1, 'Right Wing', 'Finn Evans', '2021-11-13-Long Island-Princeton'), ('Princeton', 2, 'Left Wing', 'Mackenzie Merriman', '2021-11-13-Long Island-Princeton'), ('Princeton', 2, 'Center', 'Spencer Kersten', '2021-11-13-Long Island-Princeton'), ('Princeton', 2, 'Right Wing', 'Ian Murphy', '2021-11-13-Long Island-Princeton'), ('Princeton', 3, 'Left Wing', 'Corey Andonovski', '2021-11-13-Long Island-Princeton'), ('Princeton', 3, 'Center', 'Luke Keenan', '2021-11-13-Long Island-Princeton')  ... displaying 10 of 44 total bound parameter sets ...  ('Long Island', 'Goalie 2', 'Goalie', 'Vinnie Purpura', '2021-11-13-Long Island-Princeton'), ('Long Island', 'Goalie 3', 'Goalie', 'Brandon Perrone', '2021-11-13-Long Island-Princeton')]]\n",
      "(Background on this error at: https://sqlalche.me/e/20/e3q8)\n"
     ]
    },
    {
     "name": "stderr",
     "output_type": "stream",
     "text": [
      "Scraping games:  28%|██▊       | 305/1106 [14:30<38:16,  2.87s/it]"
     ]
    },
    {
     "name": "stdout",
     "output_type": "stream",
     "text": [
      "Error saving to table line_chart: (sqlite3.OperationalError) table line_chart has no column named Team\n",
      "[SQL: INSERT INTO line_chart (\"Team\", \"Line\", \"Position\", \"Player\", \"Game_ID\") VALUES (?, ?, ?, ?, ?)]\n",
      "[parameters: [('Quinnipiac', 1, 'Left Wing', 'Michael Lombardi', '2021-11-13-Arizona State-Quinnipiac'), ('Quinnipiac', 1, 'Center', 'Wyatt Bongiovanni', '2021-11-13-Arizona State-Quinnipiac'), ('Quinnipiac', 1, 'Right Wing', 'Ty Smilanic', '2021-11-13-Arizona State-Quinnipiac'), ('Quinnipiac', 2, 'Left Wing', 'Oliver Chau', '2021-11-13-Arizona State-Quinnipiac'), ('Quinnipiac', 2, 'Center', \"Skyler Brind'Amour\", '2021-11-13-Arizona State-Quinnipiac'), ('Quinnipiac', 2, 'Right Wing', 'Guus van Nes', '2021-11-13-Arizona State-Quinnipiac'), ('Quinnipiac', 3, 'Left Wing', 'Cristophe Tellier', '2021-11-13-Arizona State-Quinnipiac'), ('Quinnipiac', 3, 'Center', 'TJ Friedmann', '2021-11-13-Arizona State-Quinnipiac')  ... displaying 10 of 43 total bound parameter sets ...  ('Arizona State', 'Goalie 1', 'Goalie', 'Ben Kraws', '2021-11-13-Arizona State-Quinnipiac'), ('Arizona State', 'Goalie 2', 'Goalie', 'Cole Brady', '2021-11-13-Arizona State-Quinnipiac')]]\n",
      "(Background on this error at: https://sqlalche.me/e/20/e3q8)\n"
     ]
    },
    {
     "name": "stderr",
     "output_type": "stream",
     "text": [
      "Scraping games:  28%|██▊       | 306/1106 [14:33<38:06,  2.86s/it]"
     ]
    },
    {
     "name": "stdout",
     "output_type": "stream",
     "text": [
      "Error saving to table line_chart: (sqlite3.OperationalError) table line_chart has no column named Team\n",
      "[SQL: INSERT INTO line_chart (\"Team\", \"Line\", \"Position\", \"Player\", \"Game_ID\") VALUES (?, ?, ?, ?, ?)]\n",
      "[parameters: [('Ferris State', 1, 'Left Wing', 'Liam MacDougall', '2021-11-13-Michigan State-Ferris State'), ('Ferris State', 1, 'Center', 'Jake Transit', '2021-11-13-Michigan State-Ferris State'), ('Ferris State', 1, 'Right Wing', 'Justin Michaelian', '2021-11-13-Michigan State-Ferris State'), ('Ferris State', 2, 'Left Wing', 'Ethan Stewart', '2021-11-13-Michigan State-Ferris State'), ('Ferris State', 2, 'Center', 'Stepan Pokorny', '2021-11-13-Michigan State-Ferris State'), ('Ferris State', 2, 'Right Wing', 'Marshall Moise', '2021-11-13-Michigan State-Ferris State'), ('Ferris State', 3, 'Left Wing', 'Zach Faremouth', '2021-11-13-Michigan State-Ferris State'), ('Ferris State', 3, 'Center', 'Bradley Marek', '2021-11-13-Michigan State-Ferris State')  ... displaying 10 of 46 total bound parameter sets ...  ('Michigan State', 'Goalie 2', 'Goalie', 'Pierce Charleson', '2021-11-13-Michigan State-Ferris State'), ('Michigan State', 'Goalie 3', 'Goalie', 'Jon Mor', '2021-11-13-Michigan State-Ferris State')]]\n",
      "(Background on this error at: https://sqlalche.me/e/20/e3q8)\n"
     ]
    },
    {
     "name": "stderr",
     "output_type": "stream",
     "text": [
      "Scraping games:  28%|██▊       | 307/1106 [14:36<38:13,  2.87s/it]"
     ]
    },
    {
     "name": "stdout",
     "output_type": "stream",
     "text": [
      "Error saving to table line_chart: (sqlite3.OperationalError) table line_chart has no column named Team\n",
      "[SQL: INSERT INTO line_chart (\"Team\", \"Line\", \"Position\", \"Player\", \"Game_ID\") VALUES (?, ?, ?, ?, ?)]\n",
      "[parameters: [('Maine', 1, 'Left Wing', 'Ben Poisson', '2021-11-13-Merrimack-Maine'), ('Maine', 1, 'Center', 'Keenan Suthers', '2021-11-13-Merrimack-Maine'), ('Maine', 1, 'Right Wing', 'Donavan Villeneuve-Houle', '2021-11-13-Merrimack-Maine'), ('Maine', 2, 'Left Wing', 'Matthew Fawcett', '2021-11-13-Merrimack-Maine'), ('Maine', 2, 'Center', 'Lynden Breen', '2021-11-13-Merrimack-Maine'), ('Maine', 2, 'Right Wing', 'Adam Dawe', '2021-11-13-Merrimack-Maine'), ('Maine', 3, 'Left Wing', 'Grant Hebert', '2021-11-13-Merrimack-Maine'), ('Maine', 3, 'Center', 'Nolan Renwick', '2021-11-13-Merrimack-Maine')  ... displaying 10 of 40 total bound parameter sets ...  ('Merrimack', 1, 'Extra', 'Jordan', '2021-11-13-Merrimack-Maine'), ('Merrimack', 'Goalie 1', 'Goalie', 'Zachary Borgiel', '2021-11-13-Merrimack-Maine')]]\n",
      "(Background on this error at: https://sqlalche.me/e/20/e3q8)\n"
     ]
    },
    {
     "name": "stderr",
     "output_type": "stream",
     "text": [
      "Scraping games:  28%|██▊       | 308/1106 [14:39<37:49,  2.84s/it]"
     ]
    },
    {
     "name": "stdout",
     "output_type": "stream",
     "text": [
      "Error saving to table line_chart: (sqlite3.OperationalError) table line_chart has no column named Team\n",
      "[SQL: INSERT INTO line_chart (\"Team\", \"Line\", \"Position\", \"Player\", \"Game_ID\") VALUES (?, ?, ?, ?, ?)]\n",
      "[parameters: [('Boston College', 1, 'Left Wing', 'Trevor Kuntar', '2021-11-13-Boston College-Mass.-Lowell'), ('Boston College', 1, 'Center', 'Marc McLaughlin', '2021-11-13-Boston College-Mass.-Lowell'), ('Boston College', 1, 'Right Wing', 'Patrick Giles', '2021-11-13-Boston College-Mass.-Lowell'), ('Boston College', 2, 'Left Wing', 'Brandon Kruse', '2021-11-13-Boston College-Mass.-Lowell'), ('Boston College', 2, 'Center', 'Jack McBain', '2021-11-13-Boston College-Mass.-Lowell'), ('Boston College', 2, 'Right Wing', 'Nikita Nesterenko', '2021-11-13-Boston College-Mass.-Lowell'), ('Boston College', 3, 'Left Wing', 'Mike Posma', '2021-11-13-Boston College-Mass.-Lowell'), ('Boston College', 3, 'Center', 'Colby Ambrosio', '2021-11-13-Boston College-Mass.-Lowell')  ... displaying 10 of 43 total bound parameter sets ...  ('Mass.-Lowell', 'Goalie 2', 'Goalie', 'Henry Welsch', '2021-11-13-Boston College-Mass.-Lowell'), ('Mass.-Lowell', 'Goalie 3', 'Goalie', 'Edvard Nordlund', '2021-11-13-Boston College-Mass.-Lowell')]]\n",
      "(Background on this error at: https://sqlalche.me/e/20/e3q8)\n"
     ]
    },
    {
     "name": "stderr",
     "output_type": "stream",
     "text": [
      "Scraping games:  28%|██▊       | 309/1106 [14:42<37:22,  2.81s/it]"
     ]
    },
    {
     "name": "stdout",
     "output_type": "stream",
     "text": [
      "Error saving to table line_chart: (sqlite3.OperationalError) table line_chart has no column named Team\n",
      "[SQL: INSERT INTO line_chart (\"Team\", \"Line\", \"Position\", \"Player\", \"Game_ID\") VALUES (?, ?, ?, ?, ?)]\n",
      "[parameters: [('New Hampshire', 1, 'Left Wing', 'Liam Devlin', '2021-11-13-Vermont-New Hampshire'), ('New Hampshire', 1, 'Center', 'Jackson Pierson', '2021-11-13-Vermont-New Hampshire'), ('New Hampshire', 1, 'Right Wing', 'Chase Stevenson', '2021-11-13-Vermont-New Hampshire'), ('New Hampshire', 2, 'Left Wing', 'Tyler Ward', '2021-11-13-Vermont-New Hampshire'), ('New Hampshire', 2, 'Center', 'Harrison Blaisdell', '2021-11-13-Vermont-New Hampshire'), ('New Hampshire', 2, 'Right Wing', 'Eric MacAdams', '2021-11-13-Vermont-New Hampshire'), ('New Hampshire', 3, 'Left Wing', 'Will Margel', '2021-11-13-Vermont-New Hampshire'), ('New Hampshire', 3, 'Center', 'Filip Engaras', '2021-11-13-Vermont-New Hampshire')  ... displaying 10 of 44 total bound parameter sets ...  ('Vermont', 'Goalie 2', 'Goalie', 'Gabe Carriere', '2021-11-13-Vermont-New Hampshire'), ('Vermont', 'Goalie 3', 'Goalie', 'Cole Hudson', '2021-11-13-Vermont-New Hampshire')]]\n",
      "(Background on this error at: https://sqlalche.me/e/20/e3q8)\n"
     ]
    },
    {
     "name": "stderr",
     "output_type": "stream",
     "text": [
      "Scraping games:  28%|██▊       | 310/1106 [14:44<37:31,  2.83s/it]"
     ]
    },
    {
     "name": "stdout",
     "output_type": "stream",
     "text": [
      "Error saving to table line_chart: (sqlite3.OperationalError) table line_chart has no column named Team\n",
      "[SQL: INSERT INTO line_chart (\"Team\", \"Line\", \"Position\", \"Player\", \"Game_ID\") VALUES (?, ?, ?, ?, ?)]\n",
      "[parameters: [('Boston University', 1, 'Left Wing', 'Robert Mastrosimone', '2021-11-13-Boston University-Massachusetts'), ('Boston University', 1, 'Center', 'Wilmer Skoog', '2021-11-13-Boston University-Massachusetts'), ('Boston University', 1, 'Right Wing', \"Jay O'Brien\", '2021-11-13-Boston University-Massachusetts'), ('Boston University', 2, 'Left Wing', 'Logan Cockerill', '2021-11-13-Boston University-Massachusetts'), ('Boston University', 2, 'Center', 'Ty Amonte', '2021-11-13-Boston University-Massachusetts'), ('Boston University', 2, 'Right Wing', 'Ethan Phillips', '2021-11-13-Boston University-Massachusetts'), ('Boston University', 3, 'Left Wing', 'Jamie Armstrong', '2021-11-13-Boston University-Massachusetts'), ('Boston University', 3, 'Center', 'Nick Zabaneh', '2021-11-13-Boston University-Massachusetts')  ... displaying 10 of 44 total bound parameter sets ...  ('Massachusetts', 'Goalie 1', 'Goalie', 'Matt Murray', '2021-11-13-Boston University-Massachusetts'), ('Massachusetts', 'Goalie 2', 'Goalie', 'Luke Pavicich', '2021-11-13-Boston University-Massachusetts')]]\n",
      "(Background on this error at: https://sqlalche.me/e/20/e3q8)\n"
     ]
    },
    {
     "name": "stderr",
     "output_type": "stream",
     "text": [
      "Scraping games:  28%|██▊       | 311/1106 [14:47<37:55,  2.86s/it]"
     ]
    },
    {
     "name": "stdout",
     "output_type": "stream",
     "text": [
      "Error saving to table line_chart: (sqlite3.OperationalError) table line_chart has no column named Team\n",
      "[SQL: INSERT INTO line_chart (\"Team\", \"Line\", \"Position\", \"Player\", \"Game_ID\") VALUES (?, ?, ?, ?, ?)]\n",
      "[parameters: [('Connecticut', 1, 'Left Wing', 'Chase Bradley', '2021-11-13-Connecticut-Providence'), ('Connecticut', 1, 'Center', 'Artem Shlaine', '2021-11-13-Connecticut-Providence'), ('Connecticut', 1, 'Right Wing', 'Nick Capone', '2021-11-13-Connecticut-Providence'), ('Connecticut', 2, 'Left Wing', 'Carter Turnbull', '2021-11-13-Connecticut-Providence'), ('Connecticut', 2, 'Center', 'Jachym Kondelik', '2021-11-13-Connecticut-Providence'), ('Connecticut', 2, 'Right Wing', 'Ryan Tverberg', '2021-11-13-Connecticut-Providence'), ('Connecticut', 3, 'Left Wing', 'Vladislav Firstov', '2021-11-13-Connecticut-Providence'), ('Connecticut', 3, 'Center', \"Kevin O'Neil\", '2021-11-13-Connecticut-Providence')  ... displaying 10 of 44 total bound parameter sets ...  ('Providence', 'Goalie 2', 'Goalie', 'Jimmy Scannell', '2021-11-13-Connecticut-Providence'), ('Providence', 'Goalie 3', 'Goalie', 'Jaxson Stauber', '2021-11-13-Connecticut-Providence')]]\n",
      "(Background on this error at: https://sqlalche.me/e/20/e3q8)\n"
     ]
    },
    {
     "name": "stderr",
     "output_type": "stream",
     "text": [
      "Scraping games:  28%|██▊       | 312/1106 [14:50<38:42,  2.93s/it]"
     ]
    },
    {
     "name": "stdout",
     "output_type": "stream",
     "text": [
      "Error saving to table line_chart: (sqlite3.OperationalError) table line_chart has no column named Team\n",
      "[SQL: INSERT INTO line_chart (\"Team\", \"Line\", \"Position\", \"Player\", \"Game_ID\") VALUES (?, ?, ?, ?, ?)]\n",
      "[parameters: [('Miami', 1, 'Left Wing', 'PJ Fletcher', '2021-11-13-North Dakota-Miami'), ('Miami', 1, 'Center', 'Michael Regush', '2021-11-13-North Dakota-Miami'), ('Miami', 1, 'Right Wing', 'Matt Barry', '2021-11-13-North Dakota-Miami'), ('Miami', 2, 'Left Wing', 'Matthew Barbolini', '2021-11-13-North Dakota-Miami'), ('Miami', 2, 'Center', 'Red Savage', '2021-11-13-North Dakota-Miami'), ('Miami', 2, 'Right Wing', 'Ryan Savage', '2021-11-13-North Dakota-Miami'), ('Miami', 3, 'Left Wing', 'Joe Cassetti', '2021-11-13-North Dakota-Miami'), ('Miami', 3, 'Center', 'Thomas Daskas', '2021-11-13-North Dakota-Miami')  ... displaying 10 of 42 total bound parameter sets ...  ('North Dakota', 'Goalie 1', 'Goalie', 'Zach Driscoll', '2021-11-13-North Dakota-Miami'), ('North Dakota', 'Goalie 2', 'Goalie', 'Jakob Hellsten', '2021-11-13-North Dakota-Miami')]]\n",
      "(Background on this error at: https://sqlalche.me/e/20/e3q8)\n"
     ]
    },
    {
     "name": "stderr",
     "output_type": "stream",
     "text": [
      "Scraping games:  28%|██▊       | 313/1106 [14:53<37:44,  2.86s/it]"
     ]
    },
    {
     "name": "stdout",
     "output_type": "stream",
     "text": [
      "Error saving to table line_chart: (sqlite3.OperationalError) table line_chart has no column named Team\n",
      "[SQL: INSERT INTO line_chart (\"Team\", \"Line\", \"Position\", \"Player\", \"Game_ID\") VALUES (?, ?, ?, ?, ?)]\n",
      "[parameters: [('Omaha', 1, 'Left Wing', 'Tyler Weiss', '2021-11-13-Omaha-St. Cloud State'), ('Omaha', 1, 'Center', 'Cameron Berg', '2021-11-13-Omaha-St. Cloud State'), ('Omaha', 1, 'Right Wing', 'Taylor Ward', '2021-11-13-Omaha-St. Cloud State'), ('Omaha', 2, 'Left Wing', 'Jack Randl', '2021-11-13-Omaha-St. Cloud State'), ('Omaha', 2, 'Center', 'Ty Mueller', '2021-11-13-Omaha-St. Cloud State'), ('Omaha', 2, 'Right Wing', 'Brannon McManus', '2021-11-13-Omaha-St. Cloud State'), ('Omaha', 3, 'Left Wing', 'Kevin Conley', '2021-11-13-Omaha-St. Cloud State'), ('Omaha', 3, 'Center', 'Jimmy Glynn', '2021-11-13-Omaha-St. Cloud State')  ... displaying 10 of 43 total bound parameter sets ...  ('St. Cloud State', 'Goalie 2', 'Goalie', 'Joey Lamoreaux', '2021-11-13-Omaha-St. Cloud State'), ('St. Cloud State', 'Goalie 3', 'Goalie', 'Jaxon Castor', '2021-11-13-Omaha-St. Cloud State')]]\n",
      "(Background on this error at: https://sqlalche.me/e/20/e3q8)\n"
     ]
    },
    {
     "name": "stderr",
     "output_type": "stream",
     "text": [
      "Scraping games:  28%|██▊       | 314/1106 [14:56<37:41,  2.86s/it]"
     ]
    },
    {
     "name": "stdout",
     "output_type": "stream",
     "text": [
      "Error saving to table line_chart: (sqlite3.OperationalError) table line_chart has no column named Team\n",
      "[SQL: INSERT INTO line_chart (\"Team\", \"Line\", \"Position\", \"Player\", \"Game_ID\") VALUES (?, ?, ?, ?, ?)]\n",
      "[parameters: [('Denver', 1, 'Left Wing', 'Carter Savoie', '2021-11-13-Western Michigan-Denver'), ('Denver', 1, 'Center', 'Cole Guttman', '2021-11-13-Western Michigan-Denver'), ('Denver', 1, 'Right Wing', 'Bobby Brink', '2021-11-13-Western Michigan-Denver'), ('Denver', 2, 'Left Wing', 'Carter Mazur', '2021-11-13-Western Michigan-Denver'), ('Denver', 2, 'Center', 'Massimo Rizzo', '2021-11-13-Western Michigan-Denver'), ('Denver', 2, 'Right Wing', 'Cameron Wright', '2021-11-13-Western Michigan-Denver'), ('Denver', 3, 'Left Wing', 'Ryan Barrow', '2021-11-13-Western Michigan-Denver'), ('Denver', 3, 'Center', 'Brett Stapley', '2021-11-13-Western Michigan-Denver')  ... displaying 10 of 42 total bound parameter sets ...  ('Western Michigan', 'Goalie 1', 'Goalie', 'Brandon Bussi', '2021-11-13-Western Michigan-Denver'), ('Western Michigan', 'Goalie 2', 'Goalie', 'Alex Aslanidis', '2021-11-13-Western Michigan-Denver')]]\n",
      "(Background on this error at: https://sqlalche.me/e/20/e3q8)\n"
     ]
    },
    {
     "name": "stderr",
     "output_type": "stream",
     "text": [
      "Scraping games:  28%|██▊       | 315/1106 [14:59<37:30,  2.84s/it]"
     ]
    },
    {
     "name": "stdout",
     "output_type": "stream",
     "text": [
      "Error saving to table line_chart: (sqlite3.OperationalError) table line_chart has no column named Team\n",
      "[SQL: INSERT INTO line_chart (\"Team\", \"Line\", \"Position\", \"Player\", \"Game_ID\") VALUES (?, ?, ?, ?, ?)]\n",
      "[parameters: [('Minnesota', 1, 'Left Wing', 'Matthew Knies', '2021-11-13-Ohio State-Minnesota'), ('Minnesota', 1, 'Center', 'Ben Meyers', '2021-11-13-Ohio State-Minnesota'), ('Minnesota', 1, 'Right Wing', 'Aaron Huglen', '2021-11-13-Ohio State-Minnesota'), ('Minnesota', 2, 'Left Wing', 'Tristan Broz', '2021-11-13-Ohio State-Minnesota'), ('Minnesota', 2, 'Center', 'Sammy Walker', '2021-11-13-Ohio State-Minnesota'), ('Minnesota', 2, 'Right Wing', 'Blake McLaughlin', '2021-11-13-Ohio State-Minnesota'), ('Minnesota', 3, 'Left Wing', 'Rhett Pitlick', '2021-11-13-Ohio State-Minnesota'), ('Minnesota', 3, 'Center', 'Jaxon Nelson', '2021-11-13-Ohio State-Minnesota')  ... displaying 10 of 43 total bound parameter sets ...  ('Ohio State', 'Goalie 1', 'Goalie', 'Ryan Snowden', '2021-11-13-Ohio State-Minnesota'), ('Ohio State', 'Goalie 2', 'Goalie', 'Jakub Dobeš', '2021-11-13-Ohio State-Minnesota')]]\n",
      "(Background on this error at: https://sqlalche.me/e/20/e3q8)\n"
     ]
    },
    {
     "name": "stderr",
     "output_type": "stream",
     "text": [
      "Scraping games:  29%|██▊       | 316/1106 [15:02<37:44,  2.87s/it]"
     ]
    },
    {
     "name": "stdout",
     "output_type": "stream",
     "text": [
      "Error saving to table line_chart: (sqlite3.OperationalError) table line_chart has no column named Team\n",
      "[SQL: INSERT INTO line_chart (\"Team\", \"Line\", \"Position\", \"Player\", \"Game_ID\") VALUES (?, ?, ?, ?, ?)]\n",
      "[parameters: [('Notre Dame', 1, 'Left Wing', 'Jesse Lansdell', '2021-11-13-Wisconsin-Notre Dame'), ('Notre Dame', 1, 'Center', 'Solag Bakich', '2021-11-13-Wisconsin-Notre Dame'), ('Notre Dame', 1, 'Right Wing', 'Max Ellis', '2021-11-13-Wisconsin-Notre Dame'), ('Notre Dame', 2, 'Left Wing', 'Landon Slaggert', '2021-11-13-Wisconsin-Notre Dame'), ('Notre Dame', 2, 'Center', 'Graham Slaggert', '2021-11-13-Wisconsin-Notre Dame'), ('Notre Dame', 2, 'Right Wing', 'Trevor Janicke', '2021-11-13-Wisconsin-Notre Dame'), ('Notre Dame', 3, 'Left Wing', 'Grant Silianoff', '2021-11-13-Wisconsin-Notre Dame'), ('Notre Dame', 3, 'Center', 'Cam Burke', '2021-11-13-Wisconsin-Notre Dame')  ... displaying 10 of 44 total bound parameter sets ...  ('Wisconsin', 'Goalie 2', 'Goalie', 'Cameron Rowe', '2021-11-13-Wisconsin-Notre Dame'), ('Wisconsin', 'Goalie 3', 'Goalie', 'Ben Garrity', '2021-11-13-Wisconsin-Notre Dame')]]\n",
      "(Background on this error at: https://sqlalche.me/e/20/e3q8)\n"
     ]
    },
    {
     "name": "stderr",
     "output_type": "stream",
     "text": [
      "Scraping games:  29%|██▊       | 317/1106 [15:04<36:51,  2.80s/it]"
     ]
    },
    {
     "name": "stdout",
     "output_type": "stream",
     "text": [
      "Error saving to table line_chart: (sqlite3.OperationalError) table line_chart has no column named Team\n",
      "[SQL: INSERT INTO line_chart (\"Team\", \"Line\", \"Position\", \"Player\", \"Game_ID\") VALUES (?, ?, ?, ?, ?)]\n",
      "[parameters: [('Bemidji State', 1, 'Left Wing', 'Lukas Sillinger', '2021-11-13-Bemidji State-Lake Superior'), ('Bemidji State', 1, 'Center', 'Owen Sillinger', '2021-11-13-Bemidji State-Lake Superior'), ('Bemidji State', 1, 'Right Wing', 'Alex Ierullo', '2021-11-13-Bemidji State-Lake Superior'), ('Bemidji State', 2, 'Left Wing', 'Ethan Somoza', '2021-11-13-Bemidji State-Lake Superior'), ('Bemidji State', 2, 'Center', 'Ross Armour', '2021-11-13-Bemidji State-Lake Superior'), ('Bemidji State', 2, 'Right Wing', 'Eric Martin', '2021-11-13-Bemidji State-Lake Superior'), ('Bemidji State', 3, 'Left Wing', 'Jakub Lewandowski', '2021-11-13-Bemidji State-Lake Superior'), ('Bemidji State', 3, 'Center', 'Tyler Kirkup', '2021-11-13-Bemidji State-Lake Superior')  ... displaying 10 of 44 total bound parameter sets ...  ('Lake Superior', 'Goalie 2', 'Goalie', 'Ethan Langenegger', '2021-11-13-Bemidji State-Lake Superior'), ('Lake Superior', 'Goalie 3', 'Goalie', 'Easton Hesse', '2021-11-13-Bemidji State-Lake Superior')]]\n",
      "(Background on this error at: https://sqlalche.me/e/20/e3q8)\n"
     ]
    },
    {
     "name": "stderr",
     "output_type": "stream",
     "text": [
      "Scraping games:  29%|██▉       | 318/1106 [15:07<36:39,  2.79s/it]"
     ]
    },
    {
     "name": "stdout",
     "output_type": "stream",
     "text": [
      "Error saving to table line_chart: (sqlite3.OperationalError) table line_chart has no column named Team\n",
      "[SQL: INSERT INTO line_chart (\"Team\", \"Line\", \"Position\", \"Player\", \"Game_ID\") VALUES (?, ?, ?, ?, ?)]\n",
      "[parameters: [('Michigan Tech', 1, 'Left Wing', 'Justin Misiak', '2021-11-13-Michigan Tech-Northern Michigan'), ('Michigan Tech', 1, 'Center', 'Logan Pietila', '2021-11-13-Michigan Tech-Northern Michigan'), ('Michigan Tech', 1, 'Right Wing', 'Tristan Ashbrook', '2021-11-13-Michigan Tech-Northern Michigan'), ('Michigan Tech', 2, 'Left Wing', 'Ryland Mosley', '2021-11-13-Michigan Tech-Northern Michigan'), ('Michigan Tech', 2, 'Center', 'Arvid Caderoth', '2021-11-13-Michigan Tech-Northern Michigan'), ('Michigan Tech', 2, 'Right Wing', 'Nick Nardella', '2021-11-13-Michigan Tech-Northern Michigan'), ('Michigan Tech', 3, 'Left Wing', 'Tommy Parrottino', '2021-11-13-Michigan Tech-Northern Michigan'), ('Michigan Tech', 3, 'Center', 'Trenton Bliss', '2021-11-13-Michigan Tech-Northern Michigan')  ... displaying 10 of 40 total bound parameter sets ...  ('Northern Michigan', 1, 'Extra', 'Colby', '2021-11-13-Michigan Tech-Northern Michigan'), ('Northern Michigan', 'Goalie 1', 'Goalie', 'Rico DiMatteo', '2021-11-13-Michigan Tech-Northern Michigan')]]\n",
      "(Background on this error at: https://sqlalche.me/e/20/e3q8)\n"
     ]
    },
    {
     "name": "stderr",
     "output_type": "stream",
     "text": [
      "Scraping games:  29%|██▉       | 319/1106 [15:10<36:41,  2.80s/it]"
     ]
    },
    {
     "name": "stdout",
     "output_type": "stream",
     "text": [
      "Error saving to table line_chart: (sqlite3.OperationalError) table line_chart has no column named Team\n",
      "[SQL: INSERT INTO line_chart (\"Team\", \"Line\", \"Position\", \"Player\", \"Game_ID\") VALUES (?, ?, ?, ?, ?)]\n",
      "[parameters: [('Bowling Green', 1, 'Left Wing', 'Brayden Krieger', '2021-11-13-Bowling Green-Minnesota State'), ('Bowling Green', 1, 'Center', 'Austen Swankler', '2021-11-13-Bowling Green-Minnesota State'), ('Bowling Green', 1, 'Right Wing', 'Alex Barber', '2021-11-13-Bowling Green-Minnesota State'), ('Bowling Green', 2, 'Left Wing', 'Spencer Schneider', '2021-11-13-Bowling Green-Minnesota State'), ('Bowling Green', 2, 'Center', 'Taylor Schneider', '2021-11-13-Bowling Green-Minnesota State'), ('Bowling Green', 2, 'Right Wing', 'Nathan Burke', '2021-11-13-Bowling Green-Minnesota State'), ('Bowling Green', 3, 'Left Wing', 'Sam Craggs', '2021-11-13-Bowling Green-Minnesota State'), ('Bowling Green', 3, 'Center', 'Ethan Scardina', '2021-11-13-Bowling Green-Minnesota State')  ... displaying 10 of 43 total bound parameter sets ...  ('Minnesota State', 'Goalie 2', 'Goalie', 'Andrew Miller', '2021-11-13-Bowling Green-Minnesota State'), ('Minnesota State', 'Goalie 3', 'Goalie', 'Keenan Rancier', '2021-11-13-Bowling Green-Minnesota State')]]\n",
      "(Background on this error at: https://sqlalche.me/e/20/e3q8)\n"
     ]
    },
    {
     "name": "stderr",
     "output_type": "stream",
     "text": [
      "Scraping games:  29%|██▉       | 321/1106 [15:15<35:50,  2.74s/it]"
     ]
    },
    {
     "name": "stdout",
     "output_type": "stream",
     "text": [
      "Error saving to table line_chart: (sqlite3.OperationalError) table line_chart has no column named Team\n",
      "[SQL: INSERT INTO line_chart (\"Team\", \"Line\", \"Position\", \"Player\", \"Game_ID\") VALUES (?, ?, ?, ?, ?)]\n",
      "[parameters: [('Boston College', 1, 'Left Wing', 'Brandon Kruse', '2021-11-18-Maine-Boston College'), ('Boston College', 1, 'Center', 'Jack McBain', '2021-11-18-Maine-Boston College'), ('Boston College', 1, 'Right Wing', 'Nikita Nesterenko', '2021-11-18-Maine-Boston College'), ('Boston College', 2, 'Left Wing', 'Trevor Kuntar', '2021-11-18-Maine-Boston College'), ('Boston College', 2, 'Center', 'Marc McLaughlin', '2021-11-18-Maine-Boston College'), ('Boston College', 2, 'Right Wing', 'Patrick Giles', '2021-11-18-Maine-Boston College'), ('Boston College', 3, 'Left Wing', 'Mike Posma', '2021-11-18-Maine-Boston College'), ('Boston College', 3, 'Center', 'Colby Ambrosio', '2021-11-18-Maine-Boston College')  ... displaying 10 of 44 total bound parameter sets ...  ('Maine', 'Goalie 2', 'Goalie', 'Connor Androlewicz', '2021-11-18-Maine-Boston College'), ('Maine', 'Goalie 3', 'Goalie', 'Victor Ostman', '2021-11-18-Maine-Boston College')]]\n",
      "(Background on this error at: https://sqlalche.me/e/20/e3q8)\n"
     ]
    },
    {
     "name": "stderr",
     "output_type": "stream",
     "text": [
      "Scraping games:  29%|██▉       | 322/1106 [15:18<35:39,  2.73s/it]"
     ]
    },
    {
     "name": "stdout",
     "output_type": "stream",
     "text": [
      "Error saving to table line_chart: (sqlite3.OperationalError) table line_chart has no column named Team\n",
      "[SQL: INSERT INTO line_chart (\"Team\", \"Line\", \"Position\", \"Player\", \"Game_ID\") VALUES (?, ?, ?, ?, ?)]\n",
      "[parameters: [(\"American Int'l\", 1, 'Left Wing', 'Blake Bennett', \"2021-11-18-Bentley-American Int'l\"), (\"American Int'l\", 1, 'Center', 'Brian Rigali', \"2021-11-18-Bentley-American Int'l\"), (\"American Int'l\", 1, 'Right Wing', 'Chris Dodero', \"2021-11-18-Bentley-American Int'l\"), (\"American Int'l\", 2, 'Left Wing', 'Luka Maver', \"2021-11-18-Bentley-American Int'l\"), (\"American Int'l\", 2, 'Center', 'Elijiah Barriga', \"2021-11-18-Bentley-American Int'l\"), (\"American Int'l\", 2, 'Right Wing', 'Justin Cole', \"2021-11-18-Bentley-American Int'l\"), (\"American Int'l\", 3, 'Left Wing', 'Chris Theodore', \"2021-11-18-Bentley-American Int'l\"), (\"American Int'l\", 3, 'Center', 'Jake Stella', \"2021-11-18-Bentley-American Int'l\")  ... displaying 10 of 44 total bound parameter sets ...  ('Bentley', 'Goalie 2', 'Goalie', 'Fraser Kirk', \"2021-11-18-Bentley-American Int'l\"), ('Bentley', 'Goalie 3', 'Goalie', 'Nicholas Grabko', \"2021-11-18-Bentley-American Int'l\")]]\n",
      "(Background on this error at: https://sqlalche.me/e/20/e3q8)\n"
     ]
    },
    {
     "name": "stderr",
     "output_type": "stream",
     "text": [
      "Scraping games:  29%|██▉       | 323/1106 [15:21<36:15,  2.78s/it]"
     ]
    },
    {
     "name": "stdout",
     "output_type": "stream",
     "text": [
      "Error saving to table line_chart: (sqlite3.OperationalError) table line_chart has no column named Team\n",
      "[SQL: INSERT INTO line_chart (\"Team\", \"Line\", \"Position\", \"Player\", \"Game_ID\") VALUES (?, ?, ?, ?, ?)]\n",
      "[parameters: [('Minnesota State', 1, 'Left Wing', 'Julian Napravnik', '2021-11-18-St. Thomas-Minnesota State'), ('Minnesota State', 1, 'Center', 'Nathan Smith', '2021-11-18-St. Thomas-Minnesota State'), ('Minnesota State', 1, 'Right Wing', 'Cade Borchardt', '2021-11-18-St. Thomas-Minnesota State'), ('Minnesota State', 2, 'Left Wing', 'Sam Morton', '2021-11-18-St. Thomas-Minnesota State'), ('Minnesota State', 2, 'Center', 'Brendan Furry', '2021-11-18-St. Thomas-Minnesota State'), ('Minnesota State', 2, 'Right Wing', 'Ryan Sandelin', '2021-11-18-St. Thomas-Minnesota State'), ('Minnesota State', 3, 'Left Wing', 'Reggie Lutz', '2021-11-18-St. Thomas-Minnesota State'), ('Minnesota State', 3, 'Center', 'David Silye', '2021-11-18-St. Thomas-Minnesota State')  ... displaying 10 of 43 total bound parameter sets ...  ('St. Thomas', 'Goalie 1', 'Goalie', 'Peter Thome', '2021-11-18-St. Thomas-Minnesota State'), ('St. Thomas', 'Goalie 2', 'Goalie', 'Jacob Berger', '2021-11-18-St. Thomas-Minnesota State')]]\n",
      "(Background on this error at: https://sqlalche.me/e/20/e3q8)\n"
     ]
    },
    {
     "name": "stderr",
     "output_type": "stream",
     "text": [
      "Scraping games:  29%|██▉       | 324/1106 [15:24<36:32,  2.80s/it]"
     ]
    },
    {
     "name": "stdout",
     "output_type": "stream",
     "text": [
      "Error saving to table line_chart: (sqlite3.OperationalError) table line_chart has no column named Team\n",
      "[SQL: INSERT INTO line_chart (\"Team\", \"Line\", \"Position\", \"Player\", \"Game_ID\") VALUES (?, ?, ?, ?, ?)]\n",
      "[parameters: [(\"American Int'l\", 1, 'Left Wing', 'Justin Cole', \"2021-11-19-Bentley-American Int'l\"), (\"American Int'l\", 1, 'Center', 'Brian Rigali', \"2021-11-19-Bentley-American Int'l\"), (\"American Int'l\", 1, 'Right Wing', 'Chris Dodero', \"2021-11-19-Bentley-American Int'l\"), (\"American Int'l\", 2, 'Left Wing', 'Luka Maver', \"2021-11-19-Bentley-American Int'l\"), (\"American Int'l\", 2, 'Center', 'Elijiah Barriga', \"2021-11-19-Bentley-American Int'l\"), (\"American Int'l\", 2, 'Right Wing', 'Chris Van Os-Shaw', \"2021-11-19-Bentley-American Int'l\"), (\"American Int'l\", 3, 'Left Wing', 'Chris Theodore', \"2021-11-19-Bentley-American Int'l\"), (\"American Int'l\", 3, 'Center', 'Jake Stella', \"2021-11-19-Bentley-American Int'l\")  ... displaying 10 of 44 total bound parameter sets ...  ('Bentley', 'Goalie 2', 'Goalie', 'Fraser Kirk', \"2021-11-19-Bentley-American Int'l\"), ('Bentley', 'Goalie 3', 'Goalie', 'Nicholas Grabko', \"2021-11-19-Bentley-American Int'l\")]]\n",
      "(Background on this error at: https://sqlalche.me/e/20/e3q8)\n"
     ]
    },
    {
     "name": "stderr",
     "output_type": "stream",
     "text": [
      "Scraping games:  29%|██▉       | 325/1106 [15:26<36:15,  2.79s/it]"
     ]
    },
    {
     "name": "stdout",
     "output_type": "stream",
     "text": [
      "Error saving to table line_chart: (sqlite3.OperationalError) table line_chart has no column named Team\n",
      "[SQL: INSERT INTO line_chart (\"Team\", \"Line\", \"Position\", \"Player\", \"Game_ID\") VALUES (?, ?, ?, ?, ?)]\n",
      "[parameters: [('Army', 1, 'Left Wing', 'Daniel Haider', '2021-11-19-Army-Niagara'), ('Army', 1, 'Center', 'Jake Felker', '2021-11-19-Army-Niagara'), ('Army', 1, 'Right Wing', 'Ricky Lyle', '2021-11-19-Army-Niagara'), ('Army', 2, 'Left Wing', 'Brett Abdelnour', '2021-11-19-Army-Niagara'), ('Army', 2, 'Center', 'John Keranen', '2021-11-19-Army-Niagara'), ('Army', 2, 'Right Wing', 'Colin Bilek', '2021-11-19-Army-Niagara'), ('Army', 3, 'Left Wing', 'Mitch Machlitt', '2021-11-19-Army-Niagara'), ('Army', 3, 'Center', 'Eric Butte', '2021-11-19-Army-Niagara')  ... displaying 10 of 43 total bound parameter sets ...  ('Niagara', 'Goalie 2', 'Goalie', 'Chad Veltri', '2021-11-19-Army-Niagara'), ('Niagara', 'Goalie 3', 'Goalie', 'Jake Sibell', '2021-11-19-Army-Niagara')]]\n",
      "(Background on this error at: https://sqlalche.me/e/20/e3q8)\n"
     ]
    },
    {
     "name": "stderr",
     "output_type": "stream",
     "text": [
      "Scraping games:  29%|██▉       | 326/1106 [15:30<37:54,  2.92s/it]"
     ]
    },
    {
     "name": "stdout",
     "output_type": "stream",
     "text": [
      "Error saving to table line_chart: (sqlite3.OperationalError) table line_chart has no column named Team\n",
      "[SQL: INSERT INTO line_chart (\"Team\", \"Line\", \"Position\", \"Player\", \"Game_ID\") VALUES (?, ?, ?, ?, ?)]\n",
      "[parameters: [('Holy Cross', 1, 'Left Wing', 'Daniel Colabufo', '2021-11-19-Holy Cross-RIT'), ('Holy Cross', 1, 'Center', 'Bobby Young', '2021-11-19-Holy Cross-RIT'), ('Holy Cross', 1, 'Right Wing', 'Anthony Vincent', '2021-11-19-Holy Cross-RIT'), ('Holy Cross', 2, 'Left Wing', 'John Gelatt', '2021-11-19-Holy Cross-RIT'), ('Holy Cross', 2, 'Center', 'Alex Peterson', '2021-11-19-Holy Cross-RIT'), ('Holy Cross', 2, 'Right Wing', 'Alec Cicero', '2021-11-19-Holy Cross-RIT'), ('Holy Cross', 3, 'Left Wing', 'Tyler Ghirardosi', '2021-11-19-Holy Cross-RIT'), ('Holy Cross', 3, 'Center', 'Ryan Leibold', '2021-11-19-Holy Cross-RIT')  ... displaying 10 of 44 total bound parameter sets ...  ('RIT', 'Goalie 2', 'Goalie', 'Kolby Matthews', '2021-11-19-Holy Cross-RIT'), ('RIT', 'Goalie 3', 'Goalie', 'Tommy Scarfone', '2021-11-19-Holy Cross-RIT')]]\n",
      "(Background on this error at: https://sqlalche.me/e/20/e3q8)\n"
     ]
    },
    {
     "name": "stderr",
     "output_type": "stream",
     "text": [
      "Scraping games:  30%|██▉       | 327/1106 [15:32<37:28,  2.89s/it]"
     ]
    },
    {
     "name": "stdout",
     "output_type": "stream",
     "text": [
      "Error saving to table line_chart: (sqlite3.OperationalError) table line_chart has no column named Team\n",
      "[SQL: INSERT INTO line_chart (\"Team\", \"Line\", \"Position\", \"Player\", \"Game_ID\") VALUES (?, ?, ?, ?, ?)]\n",
      "[parameters: [('Canisius', 1, 'Left Wing', 'Mitchell Martan', '2021-11-19-Canisius-Mercyhurst'), ('Canisius', 1, 'Center', 'Lee Lapid', '2021-11-19-Canisius-Mercyhurst'), ('Canisius', 1, 'Right Wing', 'Keaton Mastrodonato', '2021-11-19-Canisius-Mercyhurst'), ('Canisius', 2, 'Left Wing', 'Austin Alger', '2021-11-19-Canisius-Mercyhurst'), ('Canisius', 2, 'Center', 'Max Kouznetsov', '2021-11-19-Canisius-Mercyhurst'), ('Canisius', 2, 'Right Wing', 'Daniel DiGrande', '2021-11-19-Canisius-Mercyhurst'), ('Canisius', 3, 'Left Wing', 'Cooper Haar', '2021-11-19-Canisius-Mercyhurst'), ('Canisius', 3, 'Center', 'Ryan Miotto', '2021-11-19-Canisius-Mercyhurst')  ... displaying 10 of 42 total bound parameter sets ...  ('Mercyhurst', 'Goalie 1', 'Goalie', 'Hank Johnson', '2021-11-19-Canisius-Mercyhurst'), ('Mercyhurst', 'Goalie 2', 'Goalie', 'Kyle McClellan', '2021-11-19-Canisius-Mercyhurst')]]\n",
      "(Background on this error at: https://sqlalche.me/e/20/e3q8)\n"
     ]
    },
    {
     "name": "stderr",
     "output_type": "stream",
     "text": [
      "Scraping games:  30%|██▉       | 328/1106 [15:35<37:41,  2.91s/it]"
     ]
    },
    {
     "name": "stdout",
     "output_type": "stream",
     "text": [
      "Error saving to table line_chart: (sqlite3.OperationalError) table line_chart has no column named Team\n",
      "[SQL: INSERT INTO line_chart (\"Team\", \"Line\", \"Position\", \"Player\", \"Game_ID\") VALUES (?, ?, ?, ?, ?)]\n",
      "[parameters: [('Air Force', 1, 'Left Wing', 'Nate Horn', '2021-11-19-Sacred Heart-Air Force'), ('Air Force', 1, 'Center', 'Clayton Cosentino', '2021-11-19-Sacred Heart-Air Force'), ('Air Force', 1, 'Right Wing', 'Willie Reim', '2021-11-19-Sacred Heart-Air Force'), ('Air Force', 2, 'Left Wing', 'Will Gavin', '2021-11-19-Sacred Heart-Air Force'), ('Air Force', 2, 'Center', 'Austin Schwartz', '2021-11-19-Sacred Heart-Air Force'), ('Air Force', 2, 'Right Wing', 'Parker Brown', '2021-11-19-Sacred Heart-Air Force'), ('Air Force', 3, 'Left Wing', 'Bennett Norlin', '2021-11-19-Sacred Heart-Air Force'), ('Air Force', 3, 'Center', 'Jacob Marti', '2021-11-19-Sacred Heart-Air Force')  ... displaying 10 of 44 total bound parameter sets ...  ('Sacred Heart', 'Goalie 2', 'Goalie', 'Justin Robbins', '2021-11-19-Sacred Heart-Air Force'), ('Sacred Heart', 'Goalie 3', 'Goalie', \"Jack O'Dea\", '2021-11-19-Sacred Heart-Air Force')]]\n",
      "(Background on this error at: https://sqlalche.me/e/20/e3q8)\n"
     ]
    },
    {
     "name": "stderr",
     "output_type": "stream",
     "text": [
      "Scraping games:  30%|██▉       | 329/1106 [15:38<37:02,  2.86s/it]"
     ]
    },
    {
     "name": "stdout",
     "output_type": "stream",
     "text": [
      "Error saving to table line_chart: (sqlite3.OperationalError) table line_chart has no column named Team\n",
      "[SQL: INSERT INTO line_chart (\"Team\", \"Line\", \"Position\", \"Player\", \"Game_ID\") VALUES (?, ?, ?, ?, ?)]\n",
      "[parameters: [('Brown', 1, 'Left Wing', 'Justin Jallen', '2021-11-19-Brown-Cornell'), ('Brown', 1, 'Center', 'Michael Maloney', '2021-11-19-Brown-Cornell'), ('Brown', 1, 'Right Wing', 'Bradley Cocca', '2021-11-19-Brown-Cornell'), ('Brown', 2, 'Left Wing', 'Wyatt Schlaht', '2021-11-19-Brown-Cornell'), ('Brown', 2, 'Center', 'Jake Harris', '2021-11-19-Brown-Cornell'), ('Brown', 2, 'Right Wing', 'Jordan Tonelli', '2021-11-19-Brown-Cornell'), ('Brown', 3, 'Left Wing', 'Nathan Plessis', '2021-11-19-Brown-Cornell'), ('Brown', 3, 'Center', 'Cole Quisenberry', '2021-11-19-Brown-Cornell')  ... displaying 10 of 45 total bound parameter sets ...  ('Cornell', 'Goalie 2', 'Goalie', 'Joe Howe', '2021-11-19-Brown-Cornell'), ('Cornell', 'Goalie 3', 'Goalie', 'Ian Shane', '2021-11-19-Brown-Cornell')]]\n",
      "(Background on this error at: https://sqlalche.me/e/20/e3q8)\n"
     ]
    },
    {
     "name": "stderr",
     "output_type": "stream",
     "text": [
      "Scraping games:  30%|██▉       | 331/1106 [15:44<36:22,  2.82s/it]"
     ]
    },
    {
     "name": "stdout",
     "output_type": "stream",
     "text": [
      "Error saving to table line_chart: (sqlite3.OperationalError) table line_chart has no column named Team\n",
      "[SQL: INSERT INTO line_chart (\"Team\", \"Line\", \"Position\", \"Player\", \"Game_ID\") VALUES (?, ?, ?, ?, ?)]\n",
      "[parameters: [('Clarkson', 1, 'Left Wing', 'Chris Klack', '2021-11-19-Clarkson-Quinnipiac'), ('Clarkson', 1, 'Center', 'Zach Tsekos', '2021-11-19-Clarkson-Quinnipiac'), ('Clarkson', 1, 'Right Wing', 'Jack Jacome', '2021-11-19-Clarkson-Quinnipiac'), ('Clarkson', 2, 'Left Wing', 'Ayrton Martino', '2021-11-19-Clarkson-Quinnipiac'), ('Clarkson', 2, 'Center', 'Luke Mobley', '2021-11-19-Clarkson-Quinnipiac'), ('Clarkson', 2, 'Right Wing', 'Anthony Romano', '2021-11-19-Clarkson-Quinnipiac'), ('Clarkson', 3, 'Left Wing', 'Alex Campbell', '2021-11-19-Clarkson-Quinnipiac'), ('Clarkson', 3, 'Center', 'Mathieu Gosselin', '2021-11-19-Clarkson-Quinnipiac')  ... displaying 10 of 44 total bound parameter sets ...  ('Quinnipiac', 'Goalie 2', 'Goalie', 'Yaniv Perets', '2021-11-19-Clarkson-Quinnipiac'), ('Quinnipiac', 'Goalie 3', 'Goalie', 'Noah Altman', '2021-11-19-Clarkson-Quinnipiac')]]\n",
      "(Background on this error at: https://sqlalche.me/e/20/e3q8)\n"
     ]
    },
    {
     "name": "stderr",
     "output_type": "stream",
     "text": [
      "Scraping games:  30%|███       | 332/1106 [15:47<36:33,  2.83s/it]"
     ]
    },
    {
     "name": "stdout",
     "output_type": "stream",
     "text": [
      "Error saving to table line_chart: (sqlite3.OperationalError) table line_chart has no column named Team\n",
      "[SQL: INSERT INTO line_chart (\"Team\", \"Line\", \"Position\", \"Player\", \"Game_ID\") VALUES (?, ?, ?, ?, ?)]\n",
      "[parameters: [('Colgate', 1, 'Left Wing', 'Arnaud Vachon', '2021-11-19-Yale-Colgate'), ('Colgate', 1, 'Center', 'Josh McKechney', '2021-11-19-Yale-Colgate'), ('Colgate', 1, 'Right Wing', 'Alex Young', '2021-11-19-Yale-Colgate'), ('Colgate', 2, 'Left Wing', 'Colton Young', '2021-11-19-Yale-Colgate'), ('Colgate', 2, 'Center', 'Jeff Stewart', '2021-11-19-Yale-Colgate'), ('Colgate', 2, 'Right Wing', 'Ethan Manderville', '2021-11-19-Yale-Colgate'), ('Colgate', 3, 'Left Wing', 'Matt Verboon', '2021-11-19-Yale-Colgate'), ('Colgate', 3, 'Center', 'Alex DiPaolo', '2021-11-19-Yale-Colgate')  ... displaying 10 of 43 total bound parameter sets ...  ('Yale', 'Goalie 2', 'Goalie', 'Nathan Reid', '2021-11-19-Yale-Colgate'), ('Yale', 'Goalie 3', 'Goalie', 'Luke Pearson', '2021-11-19-Yale-Colgate')]]\n",
      "(Background on this error at: https://sqlalche.me/e/20/e3q8)\n"
     ]
    },
    {
     "name": "stderr",
     "output_type": "stream",
     "text": [
      "Scraping games:  30%|███       | 333/1106 [15:50<37:07,  2.88s/it]"
     ]
    },
    {
     "name": "stdout",
     "output_type": "stream",
     "text": [
      "Error saving to table line_chart: (sqlite3.OperationalError) table line_chart has no column named Team\n",
      "[SQL: INSERT INTO line_chart (\"Team\", \"Line\", \"Position\", \"Player\", \"Game_ID\") VALUES (?, ?, ?, ?, ?)]\n",
      "[parameters: [('Boston College', 1, 'Left Wing', 'Brandon Kruse', '2021-11-19-Maine-Boston College'), ('Boston College', 1, 'Center', 'Jack McBain', '2021-11-19-Maine-Boston College'), ('Boston College', 1, 'Right Wing', 'Nikita Nesterenko', '2021-11-19-Maine-Boston College'), ('Boston College', 2, 'Left Wing', 'Trevor Kuntar', '2021-11-19-Maine-Boston College'), ('Boston College', 2, 'Center', 'Marc McLaughlin', '2021-11-19-Maine-Boston College'), ('Boston College', 2, 'Right Wing', 'Patrick Giles', '2021-11-19-Maine-Boston College'), ('Boston College', 3, 'Left Wing', 'Mike Posma', '2021-11-19-Maine-Boston College'), ('Boston College', 3, 'Center', 'Colby Ambrosio', '2021-11-19-Maine-Boston College')  ... displaying 10 of 46 total bound parameter sets ...  ('Maine', 'Goalie 2', 'Goalie', 'Connor Androlewicz', '2021-11-19-Maine-Boston College'), ('Maine', 'Goalie 3', 'Goalie', 'Victor Ostman', '2021-11-19-Maine-Boston College')]]\n",
      "(Background on this error at: https://sqlalche.me/e/20/e3q8)\n"
     ]
    },
    {
     "name": "stderr",
     "output_type": "stream",
     "text": [
      "Scraping games:  30%|███       | 334/1106 [15:52<36:36,  2.85s/it]"
     ]
    },
    {
     "name": "stdout",
     "output_type": "stream",
     "text": [
      "Error saving to table line_chart: (sqlite3.OperationalError) table line_chart has no column named Team\n",
      "[SQL: INSERT INTO line_chart (\"Team\", \"Line\", \"Position\", \"Player\", \"Game_ID\") VALUES (?, ?, ?, ?, ?)]\n",
      "[parameters: [('Massachusetts', 1, 'Left Wing', 'Bobby Trivigno', '2021-11-19-New Hampshire-Massachusetts'), ('Massachusetts', 1, 'Center', 'Lucas Mercuri', '2021-11-19-New Hampshire-Massachusetts'), ('Massachusetts', 1, 'Right Wing', 'Ryan Lautenbach', '2021-11-19-New Hampshire-Massachusetts'), ('Massachusetts', 2, 'Left Wing', 'Oliver MacDonald', '2021-11-19-New Hampshire-Massachusetts'), ('Massachusetts', 2, 'Center', 'Anthony Del Gaizo', '2021-11-19-New Hampshire-Massachusetts'), ('Massachusetts', 2, 'Right Wing', 'Reed Lebster', '2021-11-19-New Hampshire-Massachusetts'), ('Massachusetts', 3, 'Left Wing', 'Cam Donaldson', '2021-11-19-New Hampshire-Massachusetts'), ('Massachusetts', 3, 'Center', 'Ryan Sullivan', '2021-11-19-New Hampshire-Massachusetts')  ... displaying 10 of 44 total bound parameter sets ...  ('New Hampshire', 'Goalie 2', 'Goalie', 'David Fessenden', '2021-11-19-New Hampshire-Massachusetts'), ('New Hampshire', 'Goalie 3', 'Goalie', 'Jeremy Forman', '2021-11-19-New Hampshire-Massachusetts')]]\n",
      "(Background on this error at: https://sqlalche.me/e/20/e3q8)\n"
     ]
    },
    {
     "name": "stderr",
     "output_type": "stream",
     "text": [
      "Scraping games:  30%|███       | 335/1106 [15:55<36:59,  2.88s/it]"
     ]
    },
    {
     "name": "stdout",
     "output_type": "stream",
     "text": [
      "Error saving to table line_chart: (sqlite3.OperationalError) table line_chart has no column named Team\n",
      "[SQL: INSERT INTO line_chart (\"Team\", \"Line\", \"Position\", \"Player\", \"Game_ID\") VALUES (?, ?, ?, ?, ?)]\n",
      "[parameters: [('Boston University', 1, 'Left Wing', 'Robert Mastrosimone', '2021-11-19-Northeastern-Boston University'), ('Boston University', 1, 'Center', 'Wilmer Skoog', '2021-11-19-Northeastern-Boston University'), ('Boston University', 1, 'Right Wing', \"Jay O'Brien\", '2021-11-19-Northeastern-Boston University'), ('Boston University', 2, 'Left Wing', 'Logan Cockerill', '2021-11-19-Northeastern-Boston University'), ('Boston University', 2, 'Center', 'Ty Amonte', '2021-11-19-Northeastern-Boston University'), ('Boston University', 2, 'Right Wing', 'Ethan Phillips', '2021-11-19-Northeastern-Boston University'), ('Boston University', 3, 'Left Wing', 'Luke Tuch', '2021-11-19-Northeastern-Boston University'), ('Boston University', 3, 'Center', 'Nick Zabaneh', '2021-11-19-Northeastern-Boston University')  ... displaying 10 of 43 total bound parameter sets ...  ('Northeastern', 'Goalie 2', 'Goalie', 'Devon Levi', '2021-11-19-Northeastern-Boston University'), ('Northeastern', 'Goalie 3', 'Goalie', 'TJ Semptimphelter', '2021-11-19-Northeastern-Boston University')]]\n",
      "(Background on this error at: https://sqlalche.me/e/20/e3q8)\n"
     ]
    },
    {
     "name": "stderr",
     "output_type": "stream",
     "text": [
      "Scraping games:  30%|███       | 336/1106 [15:58<37:00,  2.88s/it]"
     ]
    },
    {
     "name": "stdout",
     "output_type": "stream",
     "text": [
      "Error saving to table line_chart: (sqlite3.OperationalError) table line_chart has no column named Team\n",
      "[SQL: INSERT INTO line_chart (\"Team\", \"Line\", \"Position\", \"Player\", \"Game_ID\") VALUES (?, ?, ?, ?, ?)]\n",
      "[parameters: [('Providence', 1, 'Left Wing', 'Cody Monds', '2021-11-19-Providence-Vermont'), ('Providence', 1, 'Center', 'Parker Ford', '2021-11-19-Providence-Vermont'), ('Providence', 1, 'Right Wing', 'Patrick Moynihan', '2021-11-19-Providence-Vermont'), ('Providence', 2, 'Left Wing', 'Nick Poisson', '2021-11-19-Providence-Vermont'), ('Providence', 2, 'Center', 'Kohen Olischefski', '2021-11-19-Providence-Vermont'), ('Providence', 2, 'Right Wing', 'Brett Berard', '2021-11-19-Providence-Vermont'), ('Providence', 3, 'Left Wing', 'Jamie Engelbert', '2021-11-19-Providence-Vermont'), ('Providence', 3, 'Center', 'Chase Yoder', '2021-11-19-Providence-Vermont')  ... displaying 10 of 44 total bound parameter sets ...  ('Vermont', 'Goalie 2', 'Goalie', 'Gabe Carriere', '2021-11-19-Providence-Vermont'), ('Vermont', 'Goalie 3', 'Goalie', 'Cole Hudson', '2021-11-19-Providence-Vermont')]]\n",
      "(Background on this error at: https://sqlalche.me/e/20/e3q8)\n"
     ]
    },
    {
     "name": "stderr",
     "output_type": "stream",
     "text": [
      "Scraping games:  30%|███       | 337/1106 [16:01<37:03,  2.89s/it]"
     ]
    },
    {
     "name": "stdout",
     "output_type": "stream",
     "text": [
      "Error saving to table line_chart: (sqlite3.OperationalError) table line_chart has no column named Team\n",
      "[SQL: INSERT INTO line_chart (\"Team\", \"Line\", \"Position\", \"Player\", \"Game_ID\") VALUES (?, ?, ?, ?, ?)]\n",
      "[parameters: [('Michigan State', 1, 'Left Wing', 'Erik Middendorf', '2021-11-19-Wisconsin-Michigan State'), ('Michigan State', 1, 'Center', 'Josh Nodler', '2021-11-19-Wisconsin-Michigan State'), ('Michigan State', 1, 'Right Wing', 'Griffin Loughran', '2021-11-19-Wisconsin-Michigan State'), ('Michigan State', 2, 'Left Wing', 'Jagger Joshua', '2021-11-19-Wisconsin-Michigan State'), ('Michigan State', 2, 'Center', 'Nicolas Muller', '2021-11-19-Wisconsin-Michigan State'), ('Michigan State', 2, 'Right Wing', 'Tanner Kelly', '2021-11-19-Wisconsin-Michigan State'), ('Michigan State', 3, 'Left Wing', 'Mitchell Lewandowski', '2021-11-19-Wisconsin-Michigan State'), ('Michigan State', 3, 'Center', 'Jesse Tucker', '2021-11-19-Wisconsin-Michigan State')  ... displaying 10 of 44 total bound parameter sets ...  ('Wisconsin', 'Goalie 2', 'Goalie', 'Cameron Rowe', '2021-11-19-Wisconsin-Michigan State'), ('Wisconsin', 'Goalie 3', 'Goalie', 'Ben Garrity', '2021-11-19-Wisconsin-Michigan State')]]\n",
      "(Background on this error at: https://sqlalche.me/e/20/e3q8)\n"
     ]
    },
    {
     "name": "stderr",
     "output_type": "stream",
     "text": [
      "Scraping games:  31%|███       | 338/1106 [16:04<37:47,  2.95s/it]"
     ]
    },
    {
     "name": "stdout",
     "output_type": "stream",
     "text": [
      "Error saving to table line_chart: (sqlite3.OperationalError) table line_chart has no column named Team\n",
      "[SQL: INSERT INTO line_chart (\"Team\", \"Line\", \"Position\", \"Player\", \"Game_ID\") VALUES (?, ?, ?, ?, ?)]\n",
      "[parameters: [('Michigan', 1, 'Left Wing', 'Kent Johnson', '2021-11-19-Notre Dame-Michigan'), ('Michigan', 1, 'Center', 'Matty Beniers', '2021-11-19-Notre Dame-Michigan'), ('Michigan', 1, 'Right Wing', 'Brendan Brisson', '2021-11-19-Notre Dame-Michigan'), ('Michigan', 2, 'Left Wing', 'Michael Pastujov', '2021-11-19-Notre Dame-Michigan'), ('Michigan', 2, 'Center', 'Thomas Bordeleau', '2021-11-19-Notre Dame-Michigan'), ('Michigan', 2, 'Right Wing', 'Nolan Moyle', '2021-11-19-Notre Dame-Michigan'), ('Michigan', 3, 'Left Wing', 'Garrett Van Wyhe', '2021-11-19-Notre Dame-Michigan'), ('Michigan', 3, 'Center', 'Johnny Beecher', '2021-11-19-Notre Dame-Michigan')  ... displaying 10 of 43 total bound parameter sets ...  ('Notre Dame', 'Goalie 1', 'Goalie', 'Ryan Bischel', '2021-11-19-Notre Dame-Michigan'), ('Notre Dame', 'Goalie 2', 'Goalie', 'Josh Graziano', '2021-11-19-Notre Dame-Michigan')]]\n",
      "(Background on this error at: https://sqlalche.me/e/20/e3q8)\n"
     ]
    },
    {
     "name": "stderr",
     "output_type": "stream",
     "text": [
      "Scraping games:  31%|███       | 340/1106 [16:10<36:41,  2.87s/it]"
     ]
    },
    {
     "name": "stdout",
     "output_type": "stream",
     "text": [
      "Error saving to table line_chart: (sqlite3.OperationalError) table line_chart has no column named Team\n",
      "[SQL: INSERT INTO line_chart (\"Team\", \"Line\", \"Position\", \"Player\", \"Game_ID\") VALUES (?, ?, ?, ?, ?)]\n",
      "[parameters: [('Rensselaer', 1, 'Left Wing', 'Justin Addamo', '2021-11-19-Long Island-Rensselaer'), ('Rensselaer', 1, 'Center', 'Zach Dubinsky', '2021-11-19-Long Island-Rensselaer'), ('Rensselaer', 1, 'Right Wing', 'TJ Walsh', '2021-11-19-Long Island-Rensselaer'), ('Rensselaer', 2, 'Left Wing', 'Ottoville Leppanen', '2021-11-19-Long Island-Rensselaer'), ('Rensselaer', 2, 'Center', 'Ture Linden', '2021-11-19-Long Island-Rensselaer'), ('Rensselaer', 2, 'Right Wing', 'Jakob Lee', '2021-11-19-Long Island-Rensselaer'), ('Rensselaer', 3, 'Left Wing', 'Shane Sellar', '2021-11-19-Long Island-Rensselaer'), ('Rensselaer', 3, 'Center', 'John Beaton', '2021-11-19-Long Island-Rensselaer')  ... displaying 10 of 43 total bound parameter sets ...  ('Long Island', 'Goalie 2', 'Goalie', 'Vinnie Purpura', '2021-11-19-Long Island-Rensselaer'), ('Long Island', 'Goalie 3', 'Goalie', 'Brandon Perrone', '2021-11-19-Long Island-Rensselaer')]]\n",
      "(Background on this error at: https://sqlalche.me/e/20/e3q8)\n"
     ]
    },
    {
     "name": "stderr",
     "output_type": "stream",
     "text": [
      "Scraping games:  31%|███       | 341/1106 [16:13<37:36,  2.95s/it]"
     ]
    },
    {
     "name": "stdout",
     "output_type": "stream",
     "text": [
      "Error saving to table line_chart: (sqlite3.OperationalError) table line_chart has no column named Team\n",
      "[SQL: INSERT INTO line_chart (\"Team\", \"Line\", \"Position\", \"Player\", \"Game_ID\") VALUES (?, ?, ?, ?, ?)]\n",
      "[parameters: [('Alaska', 1, 'Left Wing', 'Didrik Henbrant', '2021-11-19-Omaha-Alaska'), ('Alaska', 1, 'Center', 'Jakob Breault', '2021-11-19-Omaha-Alaska'), ('Alaska', 1, 'Right Wing', 'Filip Fornaa Svennson', '2021-11-19-Omaha-Alaska'), ('Alaska', 2, 'Left Wing', 'Chase Dubois', '2021-11-19-Omaha-Alaska'), ('Alaska', 2, 'Center', 'Harrison Israels', '2021-11-19-Omaha-Alaska'), ('Alaska', 2, 'Right Wing', 'Brady Risk', '2021-11-19-Omaha-Alaska'), ('Alaska', 3, 'Left Wing', 'Matt McKim', '2021-11-19-Omaha-Alaska'), ('Alaska', 3, 'Center', 'Eriks Zohovs', '2021-11-19-Omaha-Alaska')  ... displaying 10 of 44 total bound parameter sets ...  ('Omaha', 'Goalie 1', 'Goalie', 'Austin Roden', '2021-11-19-Omaha-Alaska'), ('Omaha', 'Goalie 2', 'Goalie', 'Jacob Zab', '2021-11-19-Omaha-Alaska')]]\n",
      "(Background on this error at: https://sqlalche.me/e/20/e3q8)\n"
     ]
    },
    {
     "name": "stderr",
     "output_type": "stream",
     "text": [
      "Scraping games:  31%|███       | 342/1106 [16:16<37:54,  2.98s/it]"
     ]
    },
    {
     "name": "stdout",
     "output_type": "stream",
     "text": [
      "Error saving to table line_chart: (sqlite3.OperationalError) table line_chart has no column named Team\n",
      "[SQL: INSERT INTO line_chart (\"Team\", \"Line\", \"Position\", \"Player\", \"Game_ID\") VALUES (?, ?, ?, ?, ?)]\n",
      "[parameters: [('St. Cloud State', 1, 'Left Wing', 'Kyler Kupka', '2021-11-19-St. Cloud State-Western Michigan'), ('St. Cloud State', 1, 'Center', 'Kevin Fitzgerald', '2021-11-19-St. Cloud State-Western Michigan'), ('St. Cloud State', 1, 'Right Wing', 'Micah Miller', '2021-11-19-St. Cloud State-Western Michigan'), ('St. Cloud State', 2, 'Left Wing', 'Chase Brand', '2021-11-19-St. Cloud State-Western Michigan'), ('St. Cloud State', 2, 'Center', 'Nolan Walker', '2021-11-19-St. Cloud State-Western Michigan'), ('St. Cloud State', 2, 'Right Wing', 'Easton Brodzinski', '2021-11-19-St. Cloud State-Western Michigan'), ('St. Cloud State', 3, 'Left Wing', 'Veeti Miettinen', '2021-11-19-St. Cloud State-Western Michigan'), ('St. Cloud State', 3, 'Center', 'Jami Krannila', '2021-11-19-St. Cloud State-Western Michigan')  ... displaying 10 of 42 total bound parameter sets ...  ('Western Michigan', 'Goalie 1', 'Goalie', 'Brandon Bussi', '2021-11-19-St. Cloud State-Western Michigan'), ('Western Michigan', 'Goalie 2', 'Goalie', 'Ross Hawryluk', '2021-11-19-St. Cloud State-Western Michigan')]]\n",
      "(Background on this error at: https://sqlalche.me/e/20/e3q8)\n"
     ]
    },
    {
     "name": "stderr",
     "output_type": "stream",
     "text": [
      "Scraping games:  31%|███       | 343/1106 [16:19<37:06,  2.92s/it]"
     ]
    },
    {
     "name": "stdout",
     "output_type": "stream",
     "text": [
      "Error saving to table line_chart: (sqlite3.OperationalError) table line_chart has no column named Team\n",
      "[SQL: INSERT INTO line_chart (\"Team\", \"Line\", \"Position\", \"Player\", \"Game_ID\") VALUES (?, ?, ?, ?, ?)]\n",
      "[parameters: [('Minnesota-Duluth', 1, 'Left Wing', 'Noah Cates', '2021-11-19-Minnesota-Duluth-North Dakota'), ('Minnesota-Duluth', 1, 'Center', 'Casey Gilling', '2021-11-19-Minnesota-Duluth-North Dakota'), ('Minnesota-Duluth', 1, 'Right Wing', 'Tanner Laderoute', '2021-11-19-Minnesota-Duluth-North Dakota'), ('Minnesota-Duluth', 2, 'Left Wing', 'Kobe Roth', '2021-11-19-Minnesota-Duluth-North Dakota'), ('Minnesota-Duluth', 2, 'Center', 'Jesse Jacques', '2021-11-19-Minnesota-Duluth-North Dakota'), ('Minnesota-Duluth', 2, 'Right Wing', 'Koby Bender', '2021-11-19-Minnesota-Duluth-North Dakota'), ('Minnesota-Duluth', 3, 'Left Wing', 'Quinn Olson', '2021-11-19-Minnesota-Duluth-North Dakota'), ('Minnesota-Duluth', 3, 'Center', 'Dominic James', '2021-11-19-Minnesota-Duluth-North Dakota')  ... displaying 10 of 43 total bound parameter sets ...  ('North Dakota', 'Goalie 2', 'Goalie', 'Harrison Feeney', '2021-11-19-Minnesota-Duluth-North Dakota'), ('North Dakota', 'Goalie 3', 'Goalie', 'Jakob Hellsten', '2021-11-19-Minnesota-Duluth-North Dakota')]]\n",
      "(Background on this error at: https://sqlalche.me/e/20/e3q8)\n"
     ]
    },
    {
     "name": "stderr",
     "output_type": "stream",
     "text": [
      "Scraping games:  31%|███       | 344/1106 [16:22<36:35,  2.88s/it]"
     ]
    },
    {
     "name": "stdout",
     "output_type": "stream",
     "text": [
      "Error saving to table line_chart: (sqlite3.OperationalError) table line_chart has no column named Team\n",
      "[SQL: INSERT INTO line_chart (\"Team\", \"Line\", \"Position\", \"Player\", \"Game_ID\") VALUES (?, ?, ?, ?, ?)]\n",
      "[parameters: [('Denver', 1, 'Left Wing', 'Carter Savoie', '2021-11-19-Miami-Denver'), ('Denver', 1, 'Center', 'Cole Guttman', '2021-11-19-Miami-Denver'), ('Denver', 1, 'Right Wing', 'Bobby Brink', '2021-11-19-Miami-Denver'), ('Denver', 2, 'Left Wing', 'Carter Mazur', '2021-11-19-Miami-Denver'), ('Denver', 2, 'Center', 'Massimo Rizzo', '2021-11-19-Miami-Denver'), ('Denver', 2, 'Right Wing', 'Cameron Wright', '2021-11-19-Miami-Denver'), ('Denver', 3, 'Left Wing', 'Ryan Barrow', '2021-11-19-Miami-Denver'), ('Denver', 3, 'Center', 'Brett Stapley', '2021-11-19-Miami-Denver')  ... displaying 10 of 43 total bound parameter sets ...  ('Miami', 'Goalie 1', 'Goalie', 'Ludvig Persson', '2021-11-19-Miami-Denver'), ('Miami', 'Goalie 2', 'Goalie', 'Logan Neaton', '2021-11-19-Miami-Denver')]]\n",
      "(Background on this error at: https://sqlalche.me/e/20/e3q8)\n"
     ]
    },
    {
     "name": "stderr",
     "output_type": "stream",
     "text": [
      "Scraping games:  31%|███       | 345/1106 [16:24<36:36,  2.89s/it]"
     ]
    },
    {
     "name": "stdout",
     "output_type": "stream",
     "text": [
      "Error saving to table line_chart: (sqlite3.OperationalError) table line_chart has no column named Team\n",
      "[SQL: INSERT INTO line_chart (\"Team\", \"Line\", \"Position\", \"Player\", \"Game_ID\") VALUES (?, ?, ?, ?, ?)]\n",
      "[parameters: [('Ferris State', 1, 'Left Wing', 'Liam MacDougall', '2021-11-19-Northern Michigan-Ferris State'), ('Ferris State', 1, 'Center', 'Dallas Tulik', '2021-11-19-Northern Michigan-Ferris State'), ('Ferris State', 1, 'Right Wing', 'Justin Michaelian', '2021-11-19-Northern Michigan-Ferris State'), ('Ferris State', 2, 'Left Wing', 'Ethan Stewart', '2021-11-19-Northern Michigan-Ferris State'), ('Ferris State', 2, 'Center', 'Stepan Pokorny', '2021-11-19-Northern Michigan-Ferris State'), ('Ferris State', 2, 'Right Wing', 'Marshall Moise', '2021-11-19-Northern Michigan-Ferris State'), ('Ferris State', 3, 'Left Wing', 'Mitch Deelstra', '2021-11-19-Northern Michigan-Ferris State'), ('Ferris State', 3, 'Center', 'Bradley Marek', '2021-11-19-Northern Michigan-Ferris State')  ... displaying 10 of 43 total bound parameter sets ...  ('Northern Michigan', 'Goalie 1', 'Goalie', 'Rico DiMatteo', '2021-11-19-Northern Michigan-Ferris State'), ('Northern Michigan', 'Goalie 2', 'Goalie', 'Charlie Glockner', '2021-11-19-Northern Michigan-Ferris State')]]\n",
      "(Background on this error at: https://sqlalche.me/e/20/e3q8)\n"
     ]
    },
    {
     "name": "stderr",
     "output_type": "stream",
     "text": [
      "Scraping games:  31%|███▏      | 346/1106 [16:27<36:35,  2.89s/it]"
     ]
    },
    {
     "name": "stdout",
     "output_type": "stream",
     "text": [
      "Error saving to table line_chart: (sqlite3.OperationalError) table line_chart has no column named Team\n",
      "[SQL: INSERT INTO line_chart (\"Team\", \"Line\", \"Position\", \"Player\", \"Game_ID\") VALUES (?, ?, ?, ?, ?)]\n",
      "[parameters: [('Bowling Green', 1, 'Left Wing', 'Chrystopher Collin', '2021-11-19-Lake Superior-Bowling Green'), ('Bowling Green', 1, 'Center', 'Ethan Scardina', '2021-11-19-Lake Superior-Bowling Green'), ('Bowling Green', 1, 'Right Wing', 'Seth Fyten', '2021-11-19-Lake Superior-Bowling Green'), ('Bowling Green', 2, 'Left Wing', 'Spencer Schneider', '2021-11-19-Lake Superior-Bowling Green'), ('Bowling Green', 2, 'Center', \"Ryan O'Hara\", '2021-11-19-Lake Superior-Bowling Green'), ('Bowling Green', 2, 'Right Wing', 'Brayden Krieger', '2021-11-19-Lake Superior-Bowling Green'), ('Bowling Green', 3, 'Left Wing', 'Sam Craggs', '2021-11-19-Lake Superior-Bowling Green'), ('Bowling Green', 3, 'Center', 'Taylor Schneider', '2021-11-19-Lake Superior-Bowling Green')  ... displaying 10 of 43 total bound parameter sets ...  ('Lake Superior', 'Goalie 1', 'Goalie', 'Ethan Langenegger', '2021-11-19-Lake Superior-Bowling Green'), ('Lake Superior', 'Goalie 2', 'Goalie', 'Easton Hesse', '2021-11-19-Lake Superior-Bowling Green')]]\n",
      "(Background on this error at: https://sqlalche.me/e/20/e3q8)\n"
     ]
    },
    {
     "name": "stderr",
     "output_type": "stream",
     "text": [
      "Scraping games:  31%|███▏      | 347/1106 [16:30<36:32,  2.89s/it]"
     ]
    },
    {
     "name": "stdout",
     "output_type": "stream",
     "text": [
      "Error saving to table line_chart: (sqlite3.OperationalError) table line_chart has no column named Team\n",
      "[SQL: INSERT INTO line_chart (\"Team\", \"Line\", \"Position\", \"Player\", \"Game_ID\") VALUES (?, ?, ?, ?, ?)]\n",
      "[parameters: [('Bemidji State', 1, 'Left Wing', 'Lukas Sillinger', '2021-11-19-Michigan Tech-Bemidji State'), ('Bemidji State', 1, 'Center', 'Owen Sillinger', '2021-11-19-Michigan Tech-Bemidji State'), ('Bemidji State', 1, 'Right Wing', 'Alex Ierullo', '2021-11-19-Michigan Tech-Bemidji State'), ('Bemidji State', 2, 'Left Wing', 'Ethan Somoza', '2021-11-19-Michigan Tech-Bemidji State'), ('Bemidji State', 2, 'Center', 'Ross Armour', '2021-11-19-Michigan Tech-Bemidji State'), ('Bemidji State', 2, 'Right Wing', 'Eric Martin', '2021-11-19-Michigan Tech-Bemidji State'), ('Bemidji State', 3, 'Left Wing', 'Jakub Lewandowski', '2021-11-19-Michigan Tech-Bemidji State'), ('Bemidji State', 3, 'Center', 'Tyler Kirkup', '2021-11-19-Michigan Tech-Bemidji State')  ... displaying 10 of 43 total bound parameter sets ...  ('Michigan Tech', 'Goalie 1', 'Goalie', 'Blake Pietila', '2021-11-19-Michigan Tech-Bemidji State'), ('Michigan Tech', 'Goalie 2', 'Goalie', 'Cayden Bailey', '2021-11-19-Michigan Tech-Bemidji State')]]\n",
      "(Background on this error at: https://sqlalche.me/e/20/e3q8)\n"
     ]
    },
    {
     "name": "stderr",
     "output_type": "stream",
     "text": [
      "Scraping games:  31%|███▏      | 348/1106 [16:33<36:54,  2.92s/it]"
     ]
    },
    {
     "name": "stdout",
     "output_type": "stream",
     "text": [
      "Error saving to table line_chart: (sqlite3.OperationalError) table line_chart has no column named Team\n",
      "[SQL: INSERT INTO line_chart (\"Team\", \"Line\", \"Position\", \"Player\", \"Game_ID\") VALUES (?, ?, ?, ?, ?)]\n",
      "[parameters: [('Connecticut', 1, 'Left Wing', 'Vladislav Firstov', '2021-11-20-Connecticut-Mass.-Lowell'), ('Connecticut', 1, 'Center', 'Jachym Kondelik', '2021-11-20-Connecticut-Mass.-Lowell'), ('Connecticut', 1, 'Right Wing', 'Ryan Tverberg', '2021-11-20-Connecticut-Mass.-Lowell'), ('Connecticut', 2, 'Left Wing', 'Chase Bradley', '2021-11-20-Connecticut-Mass.-Lowell'), ('Connecticut', 2, 'Center', 'Artem Shlaine', '2021-11-20-Connecticut-Mass.-Lowell'), ('Connecticut', 2, 'Right Wing', 'Nick Capone', '2021-11-20-Connecticut-Mass.-Lowell'), ('Connecticut', 3, 'Left Wing', 'Marc Gatcomb', '2021-11-20-Connecticut-Mass.-Lowell'), ('Connecticut', 3, 'Center', 'Hudson Schandor', '2021-11-20-Connecticut-Mass.-Lowell')  ... displaying 10 of 44 total bound parameter sets ...  ('Mass.-Lowell', 'Goalie 2', 'Goalie', 'Henry Welsch', '2021-11-20-Connecticut-Mass.-Lowell'), ('Mass.-Lowell', 'Goalie 3', 'Goalie', 'Edvard Nordlund', '2021-11-20-Connecticut-Mass.-Lowell')]]\n",
      "(Background on this error at: https://sqlalche.me/e/20/e3q8)\n"
     ]
    },
    {
     "name": "stderr",
     "output_type": "stream",
     "text": [
      "Scraping games:  32%|███▏      | 349/1106 [16:36<37:00,  2.93s/it]"
     ]
    },
    {
     "name": "stdout",
     "output_type": "stream",
     "text": [
      "Error saving to table line_chart: (sqlite3.OperationalError) table line_chart has no column named Team\n",
      "[SQL: INSERT INTO line_chart (\"Team\", \"Line\", \"Position\", \"Player\", \"Game_ID\") VALUES (?, ?, ?, ?, ?)]\n",
      "[parameters: [('Boston University', 1, 'Left Wing', 'Robert Mastrosimone', '2021-11-20-Boston University-Northeastern'), ('Boston University', 1, 'Center', 'Wilmer Skoog', '2021-11-20-Boston University-Northeastern'), ('Boston University', 1, 'Right Wing', \"Jay O'Brien\", '2021-11-20-Boston University-Northeastern'), ('Boston University', 2, 'Left Wing', 'Logan Cockerill', '2021-11-20-Boston University-Northeastern'), ('Boston University', 2, 'Center', 'Ty Amonte', '2021-11-20-Boston University-Northeastern'), ('Boston University', 2, 'Right Wing', 'Brian Carrabes', '2021-11-20-Boston University-Northeastern'), ('Boston University', 3, 'Left Wing', 'Luke Tuch', '2021-11-20-Boston University-Northeastern'), ('Boston University', 3, 'Center', 'Nick Zabaneh', '2021-11-20-Boston University-Northeastern')  ... displaying 10 of 43 total bound parameter sets ...  ('Northeastern', 'Goalie 2', 'Goalie', 'Devon Levi', '2021-11-20-Boston University-Northeastern'), ('Northeastern', 'Goalie 3', 'Goalie', 'TJ Semptimphelter', '2021-11-20-Boston University-Northeastern')]]\n",
      "(Background on this error at: https://sqlalche.me/e/20/e3q8)\n"
     ]
    },
    {
     "name": "stderr",
     "output_type": "stream",
     "text": [
      "Scraping games:  32%|███▏      | 350/1106 [16:39<37:15,  2.96s/it]"
     ]
    },
    {
     "name": "stdout",
     "output_type": "stream",
     "text": [
      "Error saving to table line_chart: (sqlite3.OperationalError) table line_chart has no column named Team\n",
      "[SQL: INSERT INTO line_chart (\"Team\", \"Line\", \"Position\", \"Player\", \"Game_ID\") VALUES (?, ?, ?, ?, ?)]\n",
      "[parameters: [('Massachusetts', 1, 'Left Wing', 'Bobby Trivigno', '2021-11-20-Massachusetts-New Hampshire'), ('Massachusetts', 1, 'Center', 'Lucas Mercuri', '2021-11-20-Massachusetts-New Hampshire'), ('Massachusetts', 1, 'Right Wing', 'Ryan Lautenbach', '2021-11-20-Massachusetts-New Hampshire'), ('Massachusetts', 2, 'Left Wing', 'Oliver MacDonald', '2021-11-20-Massachusetts-New Hampshire'), ('Massachusetts', 2, 'Center', 'Anthony Del Gaizo', '2021-11-20-Massachusetts-New Hampshire'), ('Massachusetts', 2, 'Right Wing', 'Reed Lebster', '2021-11-20-Massachusetts-New Hampshire'), ('Massachusetts', 3, 'Left Wing', 'Cam Donaldson', '2021-11-20-Massachusetts-New Hampshire'), ('Massachusetts', 3, 'Center', 'Ryan Sullivan', '2021-11-20-Massachusetts-New Hampshire')  ... displaying 10 of 45 total bound parameter sets ...  ('New Hampshire', 'Goalie 2', 'Goalie', 'David Fessenden', '2021-11-20-Massachusetts-New Hampshire'), ('New Hampshire', 'Goalie 3', 'Goalie', 'Jeremy Forman', '2021-11-20-Massachusetts-New Hampshire')]]\n",
      "(Background on this error at: https://sqlalche.me/e/20/e3q8)\n"
     ]
    },
    {
     "name": "stderr",
     "output_type": "stream",
     "text": [
      "Scraping games:  32%|███▏      | 351/1106 [16:42<37:27,  2.98s/it]"
     ]
    },
    {
     "name": "stdout",
     "output_type": "stream",
     "text": [
      "Error saving to table line_chart: (sqlite3.OperationalError) table line_chart has no column named Team\n",
      "[SQL: INSERT INTO line_chart (\"Team\", \"Line\", \"Position\", \"Player\", \"Game_ID\") VALUES (?, ?, ?, ?, ?)]\n",
      "[parameters: [('Providence', 1, 'Left Wing', 'Cody Monds', '2021-11-20-Providence-Vermont'), ('Providence', 1, 'Center', 'Parker Ford', '2021-11-20-Providence-Vermont'), ('Providence', 1, 'Right Wing', 'Patrick Moynihan', '2021-11-20-Providence-Vermont'), ('Providence', 2, 'Left Wing', 'Nick Poisson', '2021-11-20-Providence-Vermont'), ('Providence', 2, 'Center', 'Kohen Olischefski', '2021-11-20-Providence-Vermont'), ('Providence', 2, 'Right Wing', 'Brett Berard', '2021-11-20-Providence-Vermont'), ('Providence', 3, 'Left Wing', 'Jamie Engelbert', '2021-11-20-Providence-Vermont'), ('Providence', 3, 'Center', 'Chase Yoder', '2021-11-20-Providence-Vermont')  ... displaying 10 of 44 total bound parameter sets ...  ('Vermont', 'Goalie 2', 'Goalie', 'Gabe Carriere', '2021-11-20-Providence-Vermont'), ('Vermont', 'Goalie 3', 'Goalie', 'Cole Hudson', '2021-11-20-Providence-Vermont')]]\n",
      "(Background on this error at: https://sqlalche.me/e/20/e3q8)\n"
     ]
    },
    {
     "name": "stderr",
     "output_type": "stream",
     "text": [
      "Scraping games:  32%|███▏      | 352/1106 [16:45<36:55,  2.94s/it]"
     ]
    },
    {
     "name": "stdout",
     "output_type": "stream",
     "text": [
      "Error saving to table line_chart: (sqlite3.OperationalError) table line_chart has no column named Team\n",
      "[SQL: INSERT INTO line_chart (\"Team\", \"Line\", \"Position\", \"Player\", \"Game_ID\") VALUES (?, ?, ?, ?, ?)]\n",
      "[parameters: [('Army', 1, 'Left Wing', 'Daniel Haider', '2021-11-20-Army-Niagara'), ('Army', 1, 'Center', 'Jake Felker', '2021-11-20-Army-Niagara'), ('Army', 1, 'Right Wing', 'Ricky Lyle', '2021-11-20-Army-Niagara'), ('Army', 2, 'Left Wing', 'Brett Abdelnour', '2021-11-20-Army-Niagara'), ('Army', 2, 'Center', 'John Keranen', '2021-11-20-Army-Niagara'), ('Army', 2, 'Right Wing', 'Colin Bilek', '2021-11-20-Army-Niagara'), ('Army', 3, 'Left Wing', 'Mitch Machlitt', '2021-11-20-Army-Niagara'), ('Army', 3, 'Center', 'Eric Butte', '2021-11-20-Army-Niagara')  ... displaying 10 of 43 total bound parameter sets ...  ('Niagara', 'Goalie 2', 'Goalie', 'Chad Veltri', '2021-11-20-Army-Niagara'), ('Niagara', 'Goalie 3', 'Goalie', 'Jake Sibell', '2021-11-20-Army-Niagara')]]\n",
      "(Background on this error at: https://sqlalche.me/e/20/e3q8)\n"
     ]
    },
    {
     "name": "stderr",
     "output_type": "stream",
     "text": [
      "Scraping games:  32%|███▏      | 353/1106 [16:48<36:42,  2.92s/it]"
     ]
    },
    {
     "name": "stdout",
     "output_type": "stream",
     "text": [
      "Error saving to table line_chart: (sqlite3.OperationalError) table line_chart has no column named Team\n",
      "[SQL: INSERT INTO line_chart (\"Team\", \"Line\", \"Position\", \"Player\", \"Game_ID\") VALUES (?, ?, ?, ?, ?)]\n",
      "[parameters: [('Holy Cross', 1, 'Left Wing', 'John Gelatt', '2021-11-20-Holy Cross-RIT'), ('Holy Cross', 1, 'Center', 'Matt Guerra', '2021-11-20-Holy Cross-RIT'), ('Holy Cross', 1, 'Right Wing', 'Alec Cicero', '2021-11-20-Holy Cross-RIT'), ('Holy Cross', 2, 'Left Wing', 'Lucas Thorne', '2021-11-20-Holy Cross-RIT'), ('Holy Cross', 2, 'Center', 'Ryan Leibold', '2021-11-20-Holy Cross-RIT'), ('Holy Cross', 2, 'Right Wing', 'Grayson Constable', '2021-11-20-Holy Cross-RIT'), ('Holy Cross', 3, 'Left Wing', 'Tyler Ghirardosi', '2021-11-20-Holy Cross-RIT'), ('Holy Cross', 3, 'Center', 'Alex Peterson', '2021-11-20-Holy Cross-RIT')  ... displaying 10 of 44 total bound parameter sets ...  ('RIT', 'Goalie 2', 'Goalie', 'Kolby Matthews', '2021-11-20-Holy Cross-RIT'), ('RIT', 'Goalie 3', 'Goalie', 'Tommy Scarfone', '2021-11-20-Holy Cross-RIT')]]\n",
      "(Background on this error at: https://sqlalche.me/e/20/e3q8)\n"
     ]
    },
    {
     "name": "stderr",
     "output_type": "stream",
     "text": [
      "Scraping games:  32%|███▏      | 354/1106 [16:51<36:21,  2.90s/it]"
     ]
    },
    {
     "name": "stdout",
     "output_type": "stream",
     "text": [
      "Error saving to table line_chart: (sqlite3.OperationalError) table line_chart has no column named Team\n",
      "[SQL: INSERT INTO line_chart (\"Team\", \"Line\", \"Position\", \"Player\", \"Game_ID\") VALUES (?, ?, ?, ?, ?)]\n",
      "[parameters: [('Canisius', 1, 'Left Wing', 'Mitchell Martan', '2021-11-20-Mercyhurst-Canisius'), ('Canisius', 1, 'Center', 'Lee Lapid', '2021-11-20-Mercyhurst-Canisius'), ('Canisius', 1, 'Right Wing', 'Keaton Mastrodonato', '2021-11-20-Mercyhurst-Canisius'), ('Canisius', 2, 'Left Wing', 'Austin Alger', '2021-11-20-Mercyhurst-Canisius'), ('Canisius', 2, 'Center', 'Max Kouznetsov', '2021-11-20-Mercyhurst-Canisius'), ('Canisius', 2, 'Right Wing', 'Daniel DiGrande', '2021-11-20-Mercyhurst-Canisius'), ('Canisius', 3, 'Left Wing', 'Cooper Haar', '2021-11-20-Mercyhurst-Canisius'), ('Canisius', 3, 'Center', 'Ryan Miotto', '2021-11-20-Mercyhurst-Canisius')  ... displaying 10 of 42 total bound parameter sets ...  ('Mercyhurst', 'Goalie 1', 'Goalie', 'Hank Johnson', '2021-11-20-Mercyhurst-Canisius'), ('Mercyhurst', 'Goalie 2', 'Goalie', 'Kyle McClellan', '2021-11-20-Mercyhurst-Canisius')]]\n",
      "(Background on this error at: https://sqlalche.me/e/20/e3q8)\n"
     ]
    },
    {
     "name": "stderr",
     "output_type": "stream",
     "text": [
      "Scraping games:  32%|███▏      | 355/1106 [16:54<36:17,  2.90s/it]"
     ]
    },
    {
     "name": "stdout",
     "output_type": "stream",
     "text": [
      "Error saving to table line_chart: (sqlite3.OperationalError) table line_chart has no column named Team\n",
      "[SQL: INSERT INTO line_chart (\"Team\", \"Line\", \"Position\", \"Player\", \"Game_ID\") VALUES (?, ?, ?, ?, ?)]\n",
      "[parameters: [('Air Force', 1, 'Left Wing', 'Brian Adams', '2021-11-20-Sacred Heart-Air Force'), ('Air Force', 1, 'Center', 'Clayton Cosentino', '2021-11-20-Sacred Heart-Air Force'), ('Air Force', 1, 'Right Wing', 'Willie Reim', '2021-11-20-Sacred Heart-Air Force'), ('Air Force', 2, 'Left Wing', 'Will Gavin', '2021-11-20-Sacred Heart-Air Force'), ('Air Force', 2, 'Center', 'Austin Schwartz', '2021-11-20-Sacred Heart-Air Force'), ('Air Force', 2, 'Right Wing', 'Parker Brown', '2021-11-20-Sacred Heart-Air Force'), ('Air Force', 3, 'Left Wing', 'Bennett Norlin', '2021-11-20-Sacred Heart-Air Force'), ('Air Force', 3, 'Center', 'Jacob Marti', '2021-11-20-Sacred Heart-Air Force')  ... displaying 10 of 44 total bound parameter sets ...  ('Sacred Heart', 'Goalie 2', 'Goalie', 'Justin Robbins', '2021-11-20-Sacred Heart-Air Force'), ('Sacred Heart', 'Goalie 3', 'Goalie', \"Jack O'Dea\", '2021-11-20-Sacred Heart-Air Force')]]\n",
      "(Background on this error at: https://sqlalche.me/e/20/e3q8)\n"
     ]
    },
    {
     "name": "stderr",
     "output_type": "stream",
     "text": [
      "Scraping games:  32%|███▏      | 356/1106 [16:57<36:18,  2.90s/it]"
     ]
    },
    {
     "name": "stdout",
     "output_type": "stream",
     "text": [
      "Error saving to table line_chart: (sqlite3.OperationalError) table line_chart has no column named Team\n",
      "[SQL: INSERT INTO line_chart (\"Team\", \"Line\", \"Position\", \"Player\", \"Game_ID\") VALUES (?, ?, ?, ?, ?)]\n",
      "[parameters: [('Ferris State', 1, 'Left Wing', 'Liam MacDougall', '2021-11-20-Northern Michigan-Ferris State'), ('Ferris State', 1, 'Center', 'Dallas Tulik', '2021-11-20-Northern Michigan-Ferris State'), ('Ferris State', 1, 'Right Wing', 'Justin Michaelian', '2021-11-20-Northern Michigan-Ferris State'), ('Ferris State', 2, 'Left Wing', 'Jake Transit', '2021-11-20-Northern Michigan-Ferris State'), ('Ferris State', 2, 'Center', 'Stepan Pokorny', '2021-11-20-Northern Michigan-Ferris State'), ('Ferris State', 2, 'Right Wing', 'Marshall Moise', '2021-11-20-Northern Michigan-Ferris State'), ('Ferris State', 3, 'Left Wing', 'Mitch Deelstra', '2021-11-20-Northern Michigan-Ferris State'), ('Ferris State', 3, 'Center', 'Bradley Marek', '2021-11-20-Northern Michigan-Ferris State')  ... displaying 10 of 43 total bound parameter sets ...  ('Northern Michigan', 'Goalie 1', 'Goalie', 'Rico DiMatteo', '2021-11-20-Northern Michigan-Ferris State'), ('Northern Michigan', 'Goalie 2', 'Goalie', 'Charlie Glockner', '2021-11-20-Northern Michigan-Ferris State')]]\n",
      "(Background on this error at: https://sqlalche.me/e/20/e3q8)\n"
     ]
    },
    {
     "name": "stderr",
     "output_type": "stream",
     "text": [
      "Scraping games:  32%|███▏      | 357/1106 [17:00<36:13,  2.90s/it]"
     ]
    },
    {
     "name": "stdout",
     "output_type": "stream",
     "text": [
      "Error saving to table line_chart: (sqlite3.OperationalError) table line_chart has no column named Team\n",
      "[SQL: INSERT INTO line_chart (\"Team\", \"Line\", \"Position\", \"Player\", \"Game_ID\") VALUES (?, ?, ?, ?, ?)]\n",
      "[parameters: [('Bemidji State', 1, 'Left Wing', 'Lukas Sillinger', '2021-11-20-Michigan Tech-Bemidji State'), ('Bemidji State', 1, 'Center', 'Owen Sillinger', '2021-11-20-Michigan Tech-Bemidji State'), ('Bemidji State', 1, 'Right Wing', 'Alex Ierullo', '2021-11-20-Michigan Tech-Bemidji State'), ('Bemidji State', 2, 'Left Wing', 'Ethan Somoza', '2021-11-20-Michigan Tech-Bemidji State'), ('Bemidji State', 2, 'Center', 'Tyler Kirkup', '2021-11-20-Michigan Tech-Bemidji State'), ('Bemidji State', 2, 'Right Wing', 'Eric Martin', '2021-11-20-Michigan Tech-Bemidji State'), ('Bemidji State', 3, 'Left Wing', 'Donte Lawson', '2021-11-20-Michigan Tech-Bemidji State'), ('Bemidji State', 3, 'Center', 'Ross Armour', '2021-11-20-Michigan Tech-Bemidji State')  ... displaying 10 of 43 total bound parameter sets ...  ('Michigan Tech', 'Goalie 1', 'Goalie', 'Blake Pietila', '2021-11-20-Michigan Tech-Bemidji State'), ('Michigan Tech', 'Goalie 2', 'Goalie', 'Cayden Bailey', '2021-11-20-Michigan Tech-Bemidji State')]]\n",
      "(Background on this error at: https://sqlalche.me/e/20/e3q8)\n"
     ]
    },
    {
     "name": "stderr",
     "output_type": "stream",
     "text": [
      "Scraping games:  32%|███▏      | 358/1106 [17:02<36:11,  2.90s/it]"
     ]
    },
    {
     "name": "stdout",
     "output_type": "stream",
     "text": [
      "Error saving to table line_chart: (sqlite3.OperationalError) table line_chart has no column named Team\n",
      "[SQL: INSERT INTO line_chart (\"Team\", \"Line\", \"Position\", \"Player\", \"Game_ID\") VALUES (?, ?, ?, ?, ?)]\n",
      "[parameters: [('Bowling Green', 1, 'Left Wing', 'Sam Craggs', '2021-11-20-Lake Superior-Bowling Green'), ('Bowling Green', 1, 'Center', 'Taylor Schneider', '2021-11-20-Lake Superior-Bowling Green'), ('Bowling Green', 1, 'Right Wing', 'Alex Barber', '2021-11-20-Lake Superior-Bowling Green'), ('Bowling Green', 2, 'Left Wing', 'Coale Norris', '2021-11-20-Lake Superior-Bowling Green'), ('Bowling Green', 2, 'Center', 'Austen Swankler', '2021-11-20-Lake Superior-Bowling Green'), ('Bowling Green', 2, 'Right Wing', 'Nathan Burke', '2021-11-20-Lake Superior-Bowling Green'), ('Bowling Green', 3, 'Left Wing', 'Chrystopher Collin', '2021-11-20-Lake Superior-Bowling Green'), ('Bowling Green', 3, 'Center', 'Ethan Scardina', '2021-11-20-Lake Superior-Bowling Green')  ... displaying 10 of 43 total bound parameter sets ...  ('Lake Superior', 'Goalie 1', 'Goalie', 'Ethan Langenegger', '2021-11-20-Lake Superior-Bowling Green'), ('Lake Superior', 'Goalie 2', 'Goalie', 'Easton Hesse', '2021-11-20-Lake Superior-Bowling Green')]]\n",
      "(Background on this error at: https://sqlalche.me/e/20/e3q8)\n"
     ]
    },
    {
     "name": "stderr",
     "output_type": "stream",
     "text": [
      "Scraping games:  32%|███▏      | 359/1106 [17:05<35:18,  2.84s/it]"
     ]
    },
    {
     "name": "stdout",
     "output_type": "stream",
     "text": [
      "Error saving to table line_chart: (sqlite3.OperationalError) table line_chart has no column named Team\n",
      "[SQL: INSERT INTO line_chart (\"Team\", \"Line\", \"Position\", \"Player\", \"Game_ID\") VALUES (?, ?, ?, ?, ?)]\n",
      "[parameters: [('Minnesota State', 1, 'Left Wing', 'Sam Morton', '2021-11-20-Minnesota State-St. Thomas'), ('Minnesota State', 1, 'Center', 'Brendan Furry', '2021-11-20-Minnesota State-St. Thomas'), ('Minnesota State', 1, 'Right Wing', 'Ryan Sandelin', '2021-11-20-Minnesota State-St. Thomas'), ('Minnesota State', 2, 'Left Wing', 'Julian Napravnik', '2021-11-20-Minnesota State-St. Thomas'), ('Minnesota State', 2, 'Center', 'Nathan Smith', '2021-11-20-Minnesota State-St. Thomas'), ('Minnesota State', 2, 'Right Wing', 'Cade Borchardt', '2021-11-20-Minnesota State-St. Thomas'), ('Minnesota State', 3, 'Left Wing', 'Reggie Lutz', '2021-11-20-Minnesota State-St. Thomas'), ('Minnesota State', 3, 'Center', 'David Silye', '2021-11-20-Minnesota State-St. Thomas')  ... displaying 10 of 40 total bound parameter sets ...  ('St. Thomas', 1, 'Extra', 'Ethan', '2021-11-20-Minnesota State-St. Thomas'), ('St. Thomas', 'Goalie 1', 'Goalie', 'Peter Thome', '2021-11-20-Minnesota State-St. Thomas')]]\n",
      "(Background on this error at: https://sqlalche.me/e/20/e3q8)\n"
     ]
    },
    {
     "name": "stderr",
     "output_type": "stream",
     "text": [
      "Scraping games:  33%|███▎      | 360/1106 [17:08<35:46,  2.88s/it]"
     ]
    },
    {
     "name": "stdout",
     "output_type": "stream",
     "text": [
      "Error saving to table line_chart: (sqlite3.OperationalError) table line_chart has no column named Team\n",
      "[SQL: INSERT INTO line_chart (\"Team\", \"Line\", \"Position\", \"Player\", \"Game_ID\") VALUES (?, ?, ?, ?, ?)]\n",
      "[parameters: [('Quinnipiac', 1, 'Left Wing', 'Oliver Chau', '2021-11-20-St. Lawrence-Quinnipiac'), ('Quinnipiac', 1, 'Center', \"Skyler Brind'Amour\", '2021-11-20-St. Lawrence-Quinnipiac'), ('Quinnipiac', 1, 'Right Wing', 'Guus van Nes', '2021-11-20-St. Lawrence-Quinnipiac'), ('Quinnipiac', 2, 'Left Wing', 'Michael Lombardi', '2021-11-20-St. Lawrence-Quinnipiac'), ('Quinnipiac', 2, 'Center', 'Wyatt Bongiovanni', '2021-11-20-St. Lawrence-Quinnipiac'), ('Quinnipiac', 2, 'Right Wing', 'Ty Smilanic', '2021-11-20-St. Lawrence-Quinnipiac'), ('Quinnipiac', 3, 'Left Wing', 'Christophe Fillion', '2021-11-20-St. Lawrence-Quinnipiac'), ('Quinnipiac', 3, 'Center', 'Desi Burgart', '2021-11-20-St. Lawrence-Quinnipiac')  ... displaying 10 of 43 total bound parameter sets ...  ('St. Lawrence', 'Goalie 1', 'Goalie', 'Emil Zetterquist', '2021-11-20-St. Lawrence-Quinnipiac'), ('St. Lawrence', 'Goalie 2', 'Goalie', 'Grant Adams', '2021-11-20-St. Lawrence-Quinnipiac')]]\n",
      "(Background on this error at: https://sqlalche.me/e/20/e3q8)\n"
     ]
    },
    {
     "name": "stderr",
     "output_type": "stream",
     "text": [
      "Scraping games:  33%|███▎      | 361/1106 [17:11<34:58,  2.82s/it]"
     ]
    },
    {
     "name": "stdout",
     "output_type": "stream",
     "text": [
      "Error saving to table line_chart: (sqlite3.OperationalError) table line_chart has no column named Team\n",
      "[SQL: INSERT INTO line_chart (\"Team\", \"Line\", \"Position\", \"Player\", \"Game_ID\") VALUES (?, ?, ?, ?, ?)]\n",
      "[parameters: [('Cornell', 1, 'Left Wing', 'Ondrej Psenicka', '2021-11-20-Yale-Cornell'), ('Cornell', 1, 'Center', 'Max Andreev', '2021-11-20-Yale-Cornell'), ('Cornell', 1, 'Right Wing', 'Matt Stienburg', '2021-11-20-Yale-Cornell'), ('Cornell', 2, 'Left Wing', 'Kyle Penney', '2021-11-20-Yale-Cornell'), ('Cornell', 2, 'Center', 'Kyle Betts', '2021-11-20-Yale-Cornell'), ('Cornell', 2, 'Right Wing', 'Jack Malone', '2021-11-20-Yale-Cornell'), ('Cornell', 3, 'Left Wing', 'Ben Berard', '2021-11-20-Yale-Cornell'), ('Cornell', 3, 'Center', 'Brenden Locke', '2021-11-20-Yale-Cornell')  ... displaying 10 of 41 total bound parameter sets ...  ('Yale', 'Goalie 2', 'Goalie', 'Nathan Reid', '2021-11-20-Yale-Cornell'), ('Yale', 'Goalie 3', 'Goalie', 'Luke Pearson', '2021-11-20-Yale-Cornell')]]\n",
      "(Background on this error at: https://sqlalche.me/e/20/e3q8)\n"
     ]
    },
    {
     "name": "stderr",
     "output_type": "stream",
     "text": [
      "Scraping games:  33%|███▎      | 362/1106 [17:14<35:30,  2.86s/it]"
     ]
    },
    {
     "name": "stdout",
     "output_type": "stream",
     "text": [
      "Error saving to table line_chart: (sqlite3.OperationalError) table line_chart has no column named Team\n",
      "[SQL: INSERT INTO line_chart (\"Team\", \"Line\", \"Position\", \"Player\", \"Game_ID\") VALUES (?, ?, ?, ?, ?)]\n",
      "[parameters: [('Clarkson', 1, 'Left Wing', 'Chris Klack', '2021-11-20-Clarkson-Princeton'), ('Clarkson', 1, 'Center', 'Zach Tsekos', '2021-11-20-Clarkson-Princeton'), ('Clarkson', 1, 'Right Wing', 'Jack Jacome', '2021-11-20-Clarkson-Princeton'), ('Clarkson', 2, 'Left Wing', 'Ayrton Martino', '2021-11-20-Clarkson-Princeton'), ('Clarkson', 2, 'Center', 'Ryan Richardson', '2021-11-20-Clarkson-Princeton'), ('Clarkson', 2, 'Right Wing', 'Anthony Romano', '2021-11-20-Clarkson-Princeton'), ('Clarkson', 3, 'Left Wing', 'Alex Campbell', '2021-11-20-Clarkson-Princeton'), ('Clarkson', 3, 'Center', 'Mathieu Gosselin', '2021-11-20-Clarkson-Princeton')  ... displaying 10 of 44 total bound parameter sets ...  ('Princeton', 'Goalie 2', 'Goalie', 'Aidan Porter', '2021-11-20-Clarkson-Princeton'), ('Princeton', 'Goalie 3', 'Goalie', 'Ethan Pierson', '2021-11-20-Clarkson-Princeton')]]\n",
      "(Background on this error at: https://sqlalche.me/e/20/e3q8)\n"
     ]
    },
    {
     "name": "stderr",
     "output_type": "stream",
     "text": [
      "Scraping games:  33%|███▎      | 363/1106 [17:17<35:11,  2.84s/it]"
     ]
    },
    {
     "name": "stdout",
     "output_type": "stream",
     "text": [
      "Error saving to table line_chart: (sqlite3.OperationalError) table line_chart has no column named Team\n",
      "[SQL: INSERT INTO line_chart (\"Team\", \"Line\", \"Position\", \"Player\", \"Game_ID\") VALUES (?, ?, ?, ?, ?)]\n",
      "[parameters: [('Brown', 1, 'Left Wing', 'Justin Jallen', '2021-11-20-Brown-Colgate'), ('Brown', 1, 'Center', 'Michael Maloney', '2021-11-20-Brown-Colgate'), ('Brown', 1, 'Right Wing', 'Thomas Manty', '2021-11-20-Brown-Colgate'), ('Brown', 2, 'Left Wing', 'Wyatt Schlaht', '2021-11-20-Brown-Colgate'), ('Brown', 2, 'Center', 'Jake Harris', '2021-11-20-Brown-Colgate'), ('Brown', 2, 'Right Wing', 'Jordan Tonelli', '2021-11-20-Brown-Colgate'), ('Brown', 3, 'Left Wing', 'Nathan Plessis', '2021-11-20-Brown-Colgate'), ('Brown', 3, 'Center', 'Cole Quisenberry', '2021-11-20-Brown-Colgate')  ... displaying 10 of 44 total bound parameter sets ...  ('Colgate', 'Goalie 2', 'Goalie', 'Mitch Benson', '2021-11-20-Brown-Colgate'), ('Colgate', 'Goalie 3', 'Goalie', 'Carter Gylander', '2021-11-20-Brown-Colgate')]]\n",
      "(Background on this error at: https://sqlalche.me/e/20/e3q8)\n"
     ]
    },
    {
     "name": "stderr",
     "output_type": "stream",
     "text": [
      "Scraping games:  33%|███▎      | 364/1106 [17:19<35:05,  2.84s/it]"
     ]
    },
    {
     "name": "stdout",
     "output_type": "stream",
     "text": [
      "Error saving to table line_chart: (sqlite3.OperationalError) table line_chart has no column named Team\n",
      "[SQL: INSERT INTO line_chart (\"Team\", \"Line\", \"Position\", \"Player\", \"Game_ID\") VALUES (?, ?, ?, ?, ?)]\n",
      "[parameters: [('Michigan', 1, 'Left Wing', 'Garrett Van Wyhe', '2021-11-20-Notre Dame-Michigan'), ('Michigan', 1, 'Center', 'Johnny Beecher', '2021-11-20-Notre Dame-Michigan'), ('Michigan', 1, 'Right Wing', 'Nick Granowicz', '2021-11-20-Notre Dame-Michigan'), ('Michigan', 2, 'Left Wing', 'Kent Johnson', '2021-11-20-Notre Dame-Michigan'), ('Michigan', 2, 'Center', 'Matty Beniers', '2021-11-20-Notre Dame-Michigan'), ('Michigan', 2, 'Right Wing', 'Brendan Brisson', '2021-11-20-Notre Dame-Michigan'), ('Michigan', 3, 'Left Wing', 'Michael Pastujov', '2021-11-20-Notre Dame-Michigan'), ('Michigan', 3, 'Center', 'Thomas Bordeleau', '2021-11-20-Notre Dame-Michigan')  ... displaying 10 of 44 total bound parameter sets ...  ('Notre Dame', 'Goalie 2', 'Goalie', 'Josh Graziano', '2021-11-20-Notre Dame-Michigan'), ('Notre Dame', 'Goalie 3', 'Goalie', 'Conor Klaers', '2021-11-20-Notre Dame-Michigan')]]\n",
      "(Background on this error at: https://sqlalche.me/e/20/e3q8)\n"
     ]
    },
    {
     "name": "stderr",
     "output_type": "stream",
     "text": [
      "Scraping games:  33%|███▎      | 365/1106 [17:22<35:14,  2.85s/it]"
     ]
    },
    {
     "name": "stdout",
     "output_type": "stream",
     "text": [
      "Error saving to table line_chart: (sqlite3.OperationalError) table line_chart has no column named Team\n",
      "[SQL: INSERT INTO line_chart (\"Team\", \"Line\", \"Position\", \"Player\", \"Game_ID\") VALUES (?, ?, ?, ?, ?)]\n",
      "[parameters: [('Michigan State', 1, 'Left Wing', 'Erik Middendorf', '2021-11-20-Wisconsin-Michigan State'), ('Michigan State', 1, 'Center', 'Josh Nodler', '2021-11-20-Wisconsin-Michigan State'), ('Michigan State', 1, 'Right Wing', 'Griffin Loughran', '2021-11-20-Wisconsin-Michigan State'), ('Michigan State', 2, 'Left Wing', 'Jagger Joshua', '2021-11-20-Wisconsin-Michigan State'), ('Michigan State', 2, 'Center', 'Nicolas Muller', '2021-11-20-Wisconsin-Michigan State'), ('Michigan State', 2, 'Right Wing', 'Tanner Kelly', '2021-11-20-Wisconsin-Michigan State'), ('Michigan State', 3, 'Left Wing', 'Mitchell Lewandowski', '2021-11-20-Wisconsin-Michigan State'), ('Michigan State', 3, 'Center', 'Jesse Tucker', '2021-11-20-Wisconsin-Michigan State')  ... displaying 10 of 46 total bound parameter sets ...  ('Wisconsin', 'Goalie 2', 'Goalie', 'Cameron Rowe', '2021-11-20-Wisconsin-Michigan State'), ('Wisconsin', 'Goalie 3', 'Goalie', 'Ben Garrity', '2021-11-20-Wisconsin-Michigan State')]]\n",
      "(Background on this error at: https://sqlalche.me/e/20/e3q8)\n"
     ]
    },
    {
     "name": "stderr",
     "output_type": "stream",
     "text": [
      "Scraping games:  33%|███▎      | 367/1106 [17:28<34:26,  2.80s/it]"
     ]
    },
    {
     "name": "stdout",
     "output_type": "stream",
     "text": [
      "Error saving to table line_chart: (sqlite3.OperationalError) table line_chart has no column named Team\n",
      "[SQL: INSERT INTO line_chart (\"Team\", \"Line\", \"Position\", \"Player\", \"Game_ID\") VALUES (?, ?, ?, ?, ?)]\n",
      "[parameters: [('St. Cloud State', 1, 'Left Wing', 'Veeti Miettinen', '2021-11-20-St. Cloud State-Western Michigan'), ('St. Cloud State', 1, 'Center', 'Nolan Walker', '2021-11-20-St. Cloud State-Western Michigan'), ('St. Cloud State', 1, 'Right Wing', 'Micah Miller', '2021-11-20-St. Cloud State-Western Michigan'), ('St. Cloud State', 2, 'Left Wing', 'Kyler Kupka', '2021-11-20-St. Cloud State-Western Michigan'), ('St. Cloud State', 2, 'Center', 'Kevin Fitzgerald', '2021-11-20-St. Cloud State-Western Michigan'), ('St. Cloud State', 2, 'Right Wing', 'Chase Brand', '2021-11-20-St. Cloud State-Western Michigan'), ('St. Cloud State', 3, 'Left Wing', 'Joe Molenaar', '2021-11-20-St. Cloud State-Western Michigan'), ('St. Cloud State', 3, 'Center', 'Jami Krannila', '2021-11-20-St. Cloud State-Western Michigan')  ... displaying 10 of 43 total bound parameter sets ...  ('Western Michigan', 'Goalie 2', 'Goalie', 'Alex Aslanidis', '2021-11-20-St. Cloud State-Western Michigan'), ('Western Michigan', 'Goalie 3', 'Goalie', 'Ross Hawryluk', '2021-11-20-St. Cloud State-Western Michigan')]]\n",
      "(Background on this error at: https://sqlalche.me/e/20/e3q8)\n"
     ]
    },
    {
     "name": "stderr",
     "output_type": "stream",
     "text": [
      "Scraping games:  33%|███▎      | 368/1106 [17:31<35:06,  2.85s/it]"
     ]
    },
    {
     "name": "stdout",
     "output_type": "stream",
     "text": [
      "Error saving to table line_chart: (sqlite3.OperationalError) table line_chart has no column named Team\n",
      "[SQL: INSERT INTO line_chart (\"Team\", \"Line\", \"Position\", \"Player\", \"Game_ID\") VALUES (?, ?, ?, ?, ?)]\n",
      "[parameters: [('Minnesota-Duluth', 1, 'Left Wing', 'Noah Cates', '2021-11-20-Minnesota-Duluth-North Dakota'), ('Minnesota-Duluth', 1, 'Center', 'Casey Gilling', '2021-11-20-Minnesota-Duluth-North Dakota'), ('Minnesota-Duluth', 1, 'Right Wing', 'Tanner Laderoute', '2021-11-20-Minnesota-Duluth-North Dakota'), ('Minnesota-Duluth', 2, 'Left Wing', 'Kobe Roth', '2021-11-20-Minnesota-Duluth-North Dakota'), ('Minnesota-Duluth', 2, 'Center', 'Jesse Jacques', '2021-11-20-Minnesota-Duluth-North Dakota'), ('Minnesota-Duluth', 2, 'Right Wing', 'Koby Bender', '2021-11-20-Minnesota-Duluth-North Dakota'), ('Minnesota-Duluth', 3, 'Left Wing', 'Quinn Olson', '2021-11-20-Minnesota-Duluth-North Dakota'), ('Minnesota-Duluth', 3, 'Center', 'Dominic James', '2021-11-20-Minnesota-Duluth-North Dakota')  ... displaying 10 of 43 total bound parameter sets ...  ('North Dakota', 'Goalie 2', 'Goalie', 'Harrison Feeney', '2021-11-20-Minnesota-Duluth-North Dakota'), ('North Dakota', 'Goalie 3', 'Goalie', 'Jakob Hellsten', '2021-11-20-Minnesota-Duluth-North Dakota')]]\n",
      "(Background on this error at: https://sqlalche.me/e/20/e3q8)\n"
     ]
    },
    {
     "name": "stderr",
     "output_type": "stream",
     "text": [
      "Scraping games:  33%|███▎      | 369/1106 [17:34<34:57,  2.85s/it]"
     ]
    },
    {
     "name": "stdout",
     "output_type": "stream",
     "text": [
      "Error saving to table line_chart: (sqlite3.OperationalError) table line_chart has no column named Team\n",
      "[SQL: INSERT INTO line_chart (\"Team\", \"Line\", \"Position\", \"Player\", \"Game_ID\") VALUES (?, ?, ?, ?, ?)]\n",
      "[parameters: [('Denver', 1, 'Left Wing', 'Carter Savoie', '2021-11-20-Miami-Denver'), ('Denver', 1, 'Center', 'Cole Guttman', '2021-11-20-Miami-Denver'), ('Denver', 1, 'Right Wing', 'Bobby Brink', '2021-11-20-Miami-Denver'), ('Denver', 2, 'Left Wing', 'Carter Mazur', '2021-11-20-Miami-Denver'), ('Denver', 2, 'Center', 'Massimo Rizzo', '2021-11-20-Miami-Denver'), ('Denver', 2, 'Right Wing', 'Cameron Wright', '2021-11-20-Miami-Denver'), ('Denver', 3, 'Left Wing', 'Ryan Barrow', '2021-11-20-Miami-Denver'), ('Denver', 3, 'Center', 'Brett Stapley', '2021-11-20-Miami-Denver')  ... displaying 10 of 43 total bound parameter sets ...  ('Miami', 'Goalie 1', 'Goalie', 'Ludvig Persson', '2021-11-20-Miami-Denver'), ('Miami', 'Goalie 2', 'Goalie', 'Logan Neaton', '2021-11-20-Miami-Denver')]]\n",
      "(Background on this error at: https://sqlalche.me/e/20/e3q8)\n"
     ]
    },
    {
     "name": "stderr",
     "output_type": "stream",
     "text": [
      "Scraping games:  33%|███▎      | 370/1106 [17:36<35:08,  2.86s/it]"
     ]
    },
    {
     "name": "stdout",
     "output_type": "stream",
     "text": [
      "Error saving to table line_chart: (sqlite3.OperationalError) table line_chart has no column named Team\n",
      "[SQL: INSERT INTO line_chart (\"Team\", \"Line\", \"Position\", \"Player\", \"Game_ID\") VALUES (?, ?, ?, ?, ?)]\n",
      "[parameters: [('Rensselaer', 1, 'Left Wing', 'Ottoville Leppanen', '2021-11-20-Rensselaer-Long Island'), ('Rensselaer', 1, 'Center', 'Ture Linden', '2021-11-20-Rensselaer-Long Island'), ('Rensselaer', 1, 'Right Wing', 'Jakob Lee', '2021-11-20-Rensselaer-Long Island'), ('Rensselaer', 2, 'Left Wing', 'Justin Addamo', '2021-11-20-Rensselaer-Long Island'), ('Rensselaer', 2, 'Center', 'Zach Dubinsky', '2021-11-20-Rensselaer-Long Island'), ('Rensselaer', 2, 'Right Wing', 'TJ Walsh', '2021-11-20-Rensselaer-Long Island'), ('Rensselaer', 3, 'Left Wing', 'Shane Sellar', '2021-11-20-Rensselaer-Long Island'), ('Rensselaer', 3, 'Center', 'John Beaton', '2021-11-20-Rensselaer-Long Island')  ... displaying 10 of 43 total bound parameter sets ...  ('Long Island', 'Goalie 2', 'Goalie', 'Vinnie Purpura', '2021-11-20-Rensselaer-Long Island'), ('Long Island', 'Goalie 3', 'Goalie', 'Brandon Perrone', '2021-11-20-Rensselaer-Long Island')]]\n",
      "(Background on this error at: https://sqlalche.me/e/20/e3q8)\n"
     ]
    },
    {
     "name": "stderr",
     "output_type": "stream",
     "text": [
      "Scraping games:  34%|███▎      | 371/1106 [17:39<34:55,  2.85s/it]"
     ]
    },
    {
     "name": "stdout",
     "output_type": "stream",
     "text": [
      "Error saving to table line_chart: (sqlite3.OperationalError) table line_chart has no column named Team\n",
      "[SQL: INSERT INTO line_chart (\"Team\", \"Line\", \"Position\", \"Player\", \"Game_ID\") VALUES (?, ?, ?, ?, ?)]\n",
      "[parameters: [('Alaska', 1, 'Left Wing', 'Didrik Henbrant', '2021-11-20-Omaha-Alaska'), ('Alaska', 1, 'Center', 'Payton Matsui', '2021-11-20-Omaha-Alaska'), ('Alaska', 1, 'Right Wing', 'Matt Koethe', '2021-11-20-Omaha-Alaska'), ('Alaska', 2, 'Left Wing', 'Chase Dubois', '2021-11-20-Omaha-Alaska'), ('Alaska', 2, 'Center', 'Brady Risk', '2021-11-20-Omaha-Alaska'), ('Alaska', 2, 'Right Wing', 'Filip Fornaa Svennson', '2021-11-20-Omaha-Alaska'), ('Alaska', 3, 'Left Wing', 'Brayden Nicholetts', '2021-11-20-Omaha-Alaska'), ('Alaska', 3, 'Center', 'Jakob Breault', '2021-11-20-Omaha-Alaska')  ... displaying 10 of 42 total bound parameter sets ...  ('Omaha', 'Goalie 1', 'Goalie', 'Austin Roden', '2021-11-20-Omaha-Alaska'), ('Omaha', 'Goalie 2', 'Goalie', 'Jacob Zab', '2021-11-20-Omaha-Alaska')]]\n",
      "(Background on this error at: https://sqlalche.me/e/20/e3q8)\n"
     ]
    },
    {
     "name": "stderr",
     "output_type": "stream",
     "text": [
      "Scraping games:  34%|███▎      | 372/1106 [17:42<34:33,  2.82s/it]"
     ]
    },
    {
     "name": "stdout",
     "output_type": "stream",
     "text": [
      "Error saving to table line_chart: (sqlite3.OperationalError) table line_chart has no column named Team\n",
      "[SQL: INSERT INTO line_chart (\"Team\", \"Line\", \"Position\", \"Player\", \"Game_ID\") VALUES (?, ?, ?, ?, ?)]\n",
      "[parameters: [('Connecticut', 1, 'Left Wing', \"Kevin O'Neil\", '2021-11-21-Mass.-Lowell-Connecticut'), ('Connecticut', 1, 'Center', 'Jachym Kondelik', '2021-11-21-Mass.-Lowell-Connecticut'), ('Connecticut', 1, 'Right Wing', 'Ryan Tverberg', '2021-11-21-Mass.-Lowell-Connecticut'), ('Connecticut', 2, 'Left Wing', 'Marc Gatcomb', '2021-11-21-Mass.-Lowell-Connecticut'), ('Connecticut', 2, 'Center', 'Hudson Schandor', '2021-11-21-Mass.-Lowell-Connecticut'), ('Connecticut', 2, 'Right Wing', 'Carter Turnbull', '2021-11-21-Mass.-Lowell-Connecticut'), ('Connecticut', 3, 'Left Wing', 'Chase Bradley', '2021-11-21-Mass.-Lowell-Connecticut'), ('Connecticut', 3, 'Center', 'Artem Shlaine', '2021-11-21-Mass.-Lowell-Connecticut')  ... displaying 10 of 44 total bound parameter sets ...  ('Mass.-Lowell', 'Goalie 2', 'Goalie', 'Henry Welsch', '2021-11-21-Mass.-Lowell-Connecticut'), ('Mass.-Lowell', 'Goalie 3', 'Goalie', 'Edvard Nordlund', '2021-11-21-Mass.-Lowell-Connecticut')]]\n",
      "(Background on this error at: https://sqlalche.me/e/20/e3q8)\n"
     ]
    },
    {
     "name": "stderr",
     "output_type": "stream",
     "text": [
      "Scraping games:  34%|███▎      | 373/1106 [17:45<34:38,  2.83s/it]"
     ]
    },
    {
     "name": "stdout",
     "output_type": "stream",
     "text": [
      "Error saving to table line_chart: (sqlite3.OperationalError) table line_chart has no column named Team\n",
      "[SQL: INSERT INTO line_chart (\"Team\", \"Line\", \"Position\", \"Player\", \"Game_ID\") VALUES (?, ?, ?, ?, ?)]\n",
      "[parameters: [('Air Force', 1, 'Left Wing', 'Brian Adams', '2021-11-22-Sacred Heart-Air Force'), ('Air Force', 1, 'Center', 'Austin Schwartz', '2021-11-22-Sacred Heart-Air Force'), ('Air Force', 1, 'Right Wing', 'Willie Reim', '2021-11-22-Sacred Heart-Air Force'), ('Air Force', 2, 'Left Wing', 'Will Gavin', '2021-11-22-Sacred Heart-Air Force'), ('Air Force', 2, 'Center', 'Clayton Cosentino', '2021-11-22-Sacred Heart-Air Force'), ('Air Force', 2, 'Right Wing', 'Parker Brown', '2021-11-22-Sacred Heart-Air Force'), ('Air Force', 3, 'Left Wing', 'Bennett Norlin', '2021-11-22-Sacred Heart-Air Force'), ('Air Force', 3, 'Center', 'Jacob Marti', '2021-11-22-Sacred Heart-Air Force')  ... displaying 10 of 44 total bound parameter sets ...  ('Sacred Heart', 'Goalie 2', 'Goalie', 'Justin Robbins', '2021-11-22-Sacred Heart-Air Force'), ('Sacred Heart', 'Goalie 3', 'Goalie', \"Jack O'Dea\", '2021-11-22-Sacred Heart-Air Force')]]\n",
      "(Background on this error at: https://sqlalche.me/e/20/e3q8)\n"
     ]
    },
    {
     "name": "stderr",
     "output_type": "stream",
     "text": [
      "Scraping games:  34%|███▍      | 375/1106 [17:51<35:04,  2.88s/it]"
     ]
    },
    {
     "name": "stdout",
     "output_type": "stream",
     "text": [
      "Error saving to table line_chart: (sqlite3.OperationalError) table line_chart has no column named Team\n",
      "[SQL: INSERT INTO line_chart (\"Team\", \"Line\", \"Position\", \"Player\", \"Game_ID\") VALUES (?, ?, ?, ?, ?)]\n",
      "[parameters: [('Holy Cross', 1, 'Left Wing', 'Lucas Thorne', '2021-11-23-Merrimack-Holy Cross'), ('Holy Cross', 1, 'Center', 'Ryan Leibold', '2021-11-23-Merrimack-Holy Cross'), ('Holy Cross', 1, 'Right Wing', 'Grayson Constable', '2021-11-23-Merrimack-Holy Cross'), ('Holy Cross', 2, 'Left Wing', 'John Gelatt', '2021-11-23-Merrimack-Holy Cross'), ('Holy Cross', 2, 'Center', 'Matt Guerra', '2021-11-23-Merrimack-Holy Cross'), ('Holy Cross', 2, 'Right Wing', 'Alec Cicero', '2021-11-23-Merrimack-Holy Cross'), ('Holy Cross', 3, 'Left Wing', 'Jack MacNab', '2021-11-23-Merrimack-Holy Cross'), ('Holy Cross', 3, 'Center', 'Alex Peterson', '2021-11-23-Merrimack-Holy Cross')  ... displaying 10 of 43 total bound parameter sets ...  ('Merrimack', 'Goalie 1', 'Goalie', 'Troy Kobryn', '2021-11-23-Merrimack-Holy Cross'), ('Merrimack', 'Goalie 2', 'Goalie', 'Hugo Ollas', '2021-11-23-Merrimack-Holy Cross')]]\n",
      "(Background on this error at: https://sqlalche.me/e/20/e3q8)\n"
     ]
    },
    {
     "name": "stderr",
     "output_type": "stream",
     "text": [
      "Scraping games:  34%|███▍      | 378/1106 [17:58<30:42,  2.53s/it]"
     ]
    },
    {
     "name": "stdout",
     "output_type": "stream",
     "text": [
      "Error saving to table line_chart: (sqlite3.OperationalError) table line_chart has no column named Team\n",
      "[SQL: INSERT INTO line_chart (\"Team\", \"Line\", \"Position\", \"Player\", \"Game_ID\") VALUES (?, ?, ?, ?, ?)]\n",
      "[parameters: [('Air Force', 1, 'Left Wing', 'Brian Adams', '2021-11-23-Sacred Heart-Air Force'), ('Air Force', 1, 'Center', 'Andrew DeCarlo', '2021-11-23-Sacred Heart-Air Force'), ('Air Force', 1, 'Right Wing', 'Willie Reim', '2021-11-23-Sacred Heart-Air Force'), ('Air Force', 2, 'Left Wing', 'Will Gavin', '2021-11-23-Sacred Heart-Air Force'), ('Air Force', 2, 'Center', 'Clayton Cosentino', '2021-11-23-Sacred Heart-Air Force'), ('Air Force', 2, 'Right Wing', 'Austin Schwartz', '2021-11-23-Sacred Heart-Air Force'), ('Air Force', 3, 'Left Wing', 'Bennett Norlin', '2021-11-23-Sacred Heart-Air Force'), ('Air Force', 3, 'Center', 'Jacob Marti', '2021-11-23-Sacred Heart-Air Force')  ... displaying 10 of 44 total bound parameter sets ...  ('Sacred Heart', 'Goalie 2', 'Goalie', 'Justin Robbins', '2021-11-23-Sacred Heart-Air Force'), ('Sacred Heart', 'Goalie 3', 'Goalie', \"Jack O'Dea\", '2021-11-23-Sacred Heart-Air Force')]]\n",
      "(Background on this error at: https://sqlalche.me/e/20/e3q8)\n"
     ]
    },
    {
     "name": "stderr",
     "output_type": "stream",
     "text": [
      "Scraping games:  34%|███▍      | 380/1106 [18:04<33:00,  2.73s/it]"
     ]
    },
    {
     "name": "stdout",
     "output_type": "stream",
     "text": [
      "Error saving to table line_chart: (sqlite3.OperationalError) table line_chart has no column named Team\n",
      "[SQL: INSERT INTO line_chart (\"Team\", \"Line\", \"Position\", \"Player\", \"Game_ID\") VALUES (?, ?, ?, ?, ?)]\n",
      "[parameters: [('Penn State', 1, 'Left Wing', 'Ryan Kirwan', '2021-11-24-Penn State-St. Thomas'), ('Penn State', 1, 'Center', 'Ben Copeland', '2021-11-24-Penn State-St. Thomas'), ('Penn State', 1, 'Right Wing', 'Kevin Wall', '2021-11-24-Penn State-St. Thomas'), ('Penn State', 2, 'Left Wing', 'Connor McMenamin', '2021-11-24-Penn State-St. Thomas'), ('Penn State', 2, 'Center', 'Connor MacEachern', '2021-11-24-Penn State-St. Thomas'), ('Penn State', 2, 'Right Wing', 'Danny Dzhaniyev', '2021-11-24-Penn State-St. Thomas'), ('Penn State', 3, 'Left Wing', 'Tyler Gratton', '2021-11-24-Penn State-St. Thomas'), ('Penn State', 3, 'Center', 'Chase McLane', '2021-11-24-Penn State-St. Thomas')  ... displaying 10 of 40 total bound parameter sets ...  ('St. Thomas', 1, 'Extra', 'Shayne', '2021-11-24-Penn State-St. Thomas'), ('St. Thomas', 'Goalie 1', 'Goalie', 'Jacob Berger', '2021-11-24-Penn State-St. Thomas')]]\n",
      "(Background on this error at: https://sqlalche.me/e/20/e3q8)\n"
     ]
    },
    {
     "name": "stderr",
     "output_type": "stream",
     "text": [
      "Scraping games:  34%|███▍      | 381/1106 [18:06<33:11,  2.75s/it]"
     ]
    },
    {
     "name": "stdout",
     "output_type": "stream",
     "text": [
      "Error saving to table line_chart: (sqlite3.OperationalError) table line_chart has no column named Team\n",
      "[SQL: INSERT INTO line_chart (\"Team\", \"Line\", \"Position\", \"Player\", \"Game_ID\") VALUES (?, ?, ?, ?, ?)]\n",
      "[parameters: [('Bemidji State', 1, 'Left Wing', 'Lukas Sillinger', '2021-11-24-Bemidji State-Arizona State'), ('Bemidji State', 1, 'Center', 'Owen Sillinger', '2021-11-24-Bemidji State-Arizona State'), ('Bemidji State', 1, 'Right Wing', 'Alex Ierullo', '2021-11-24-Bemidji State-Arizona State'), ('Bemidji State', 2, 'Left Wing', 'Ethan Somoza', '2021-11-24-Bemidji State-Arizona State'), ('Bemidji State', 2, 'Center', 'Tyler Kirkup', '2021-11-24-Bemidji State-Arizona State'), ('Bemidji State', 2, 'Right Wing', 'Eric Martin', '2021-11-24-Bemidji State-Arizona State'), ('Bemidji State', 3, 'Left Wing', 'Jakub Lewandowski', '2021-11-24-Bemidji State-Arizona State'), ('Bemidji State', 3, 'Center', 'Ross Armour', '2021-11-24-Bemidji State-Arizona State')  ... displaying 10 of 42 total bound parameter sets ...  ('Arizona State', 'Goalie 1', 'Goalie', 'Ben Kraws', '2021-11-24-Bemidji State-Arizona State'), ('Arizona State', 'Goalie 2', 'Goalie', 'Cole Brady', '2021-11-24-Bemidji State-Arizona State')]]\n",
      "(Background on this error at: https://sqlalche.me/e/20/e3q8)\n"
     ]
    },
    {
     "name": "stderr",
     "output_type": "stream",
     "text": [
      "Scraping games:  35%|███▍      | 382/1106 [18:09<33:28,  2.77s/it]"
     ]
    },
    {
     "name": "stdout",
     "output_type": "stream",
     "text": [
      "Error saving to table line_chart: (sqlite3.OperationalError) table line_chart has no column named Team\n",
      "[SQL: INSERT INTO line_chart (\"Team\", \"Line\", \"Position\", \"Player\", \"Game_ID\") VALUES (?, ?, ?, ?, ?)]\n",
      "[parameters: [(\"American Int'l\", 1, 'Left Wing', 'Luka Maver', \"2021-11-26-American Int'l-Canisius\"), (\"American Int'l\", 1, 'Center', 'Brian Rigali', \"2021-11-26-American Int'l-Canisius\"), (\"American Int'l\", 1, 'Right Wing', 'Chris Dodero', \"2021-11-26-American Int'l-Canisius\"), (\"American Int'l\", 2, 'Left Wing', 'Blake Bennett', \"2021-11-26-American Int'l-Canisius\"), (\"American Int'l\", 2, 'Center', 'Elijiah Barriga', \"2021-11-26-American Int'l-Canisius\"), (\"American Int'l\", 2, 'Right Wing', 'Justin Cole', \"2021-11-26-American Int'l-Canisius\"), (\"American Int'l\", 3, 'Left Wing', 'Chris Theodore', \"2021-11-26-American Int'l-Canisius\"), (\"American Int'l\", 3, 'Center', 'Jake Stella', \"2021-11-26-American Int'l-Canisius\")  ... displaying 10 of 45 total bound parameter sets ...  ('Canisius', 'Goalie 1', 'Goalie', 'Jacob Barczewski', \"2021-11-26-American Int'l-Canisius\"), ('Canisius', 'Goalie 2', 'Goalie', 'John Hawthorne', \"2021-11-26-American Int'l-Canisius\")]]\n",
      "(Background on this error at: https://sqlalche.me/e/20/e3q8)\n"
     ]
    },
    {
     "name": "stderr",
     "output_type": "stream",
     "text": [
      "Scraping games:  35%|███▍      | 383/1106 [18:12<33:38,  2.79s/it]"
     ]
    },
    {
     "name": "stdout",
     "output_type": "stream",
     "text": [
      "Error saving to table line_chart: (sqlite3.OperationalError) table line_chart has no column named Team\n",
      "[SQL: INSERT INTO line_chart (\"Team\", \"Line\", \"Position\", \"Player\", \"Game_ID\") VALUES (?, ?, ?, ?, ?)]\n",
      "[parameters: [('Army', 1, 'Left Wing', 'Ricky Lyle', '2021-11-26-Army-Bentley'), ('Army', 1, 'Center', 'John Keranen', '2021-11-26-Army-Bentley'), ('Army', 1, 'Right Wing', 'Colin Bilek', '2021-11-26-Army-Bentley'), ('Army', 2, 'Left Wing', 'Mitch Machlitt', '2021-11-26-Army-Bentley'), ('Army', 2, 'Center', 'Eric Butte', '2021-11-26-Army-Bentley'), ('Army', 2, 'Right Wing', 'Joey Baez', '2021-11-26-Army-Bentley'), ('Army', 3, 'Left Wing', 'Daniel Haider', '2021-11-26-Army-Bentley'), ('Army', 3, 'Center', 'Jake Felker', '2021-11-26-Army-Bentley')  ... displaying 10 of 44 total bound parameter sets ...  ('Bentley', 'Goalie 2', 'Goalie', 'Jason Grande', '2021-11-26-Army-Bentley'), ('Bentley', 'Goalie 3', 'Goalie', 'Nicholas Grabko', '2021-11-26-Army-Bentley')]]\n",
      "(Background on this error at: https://sqlalche.me/e/20/e3q8)\n"
     ]
    },
    {
     "name": "stderr",
     "output_type": "stream",
     "text": [
      "Scraping games:  35%|███▍      | 384/1106 [18:15<34:33,  2.87s/it]"
     ]
    },
    {
     "name": "stdout",
     "output_type": "stream",
     "text": [
      "Error saving to table line_chart: (sqlite3.OperationalError) table line_chart has no column named Team\n",
      "[SQL: INSERT INTO line_chart (\"Team\", \"Line\", \"Position\", \"Player\", \"Game_ID\") VALUES (?, ?, ?, ?, ?)]\n",
      "[parameters: [('Brown', 1, 'Left Wing', 'Justin Jallen', '2021-11-26-Brown-Holy Cross'), ('Brown', 1, 'Center', 'Michael Maloney', '2021-11-26-Brown-Holy Cross'), ('Brown', 1, 'Right Wing', 'Thomas Manty', '2021-11-26-Brown-Holy Cross'), ('Brown', 2, 'Left Wing', 'Nathan Plessis', '2021-11-26-Brown-Holy Cross'), ('Brown', 2, 'Center', 'Cole Quisenberry', '2021-11-26-Brown-Holy Cross'), ('Brown', 2, 'Right Wing', 'Jonny Russell', '2021-11-26-Brown-Holy Cross'), ('Brown', 3, 'Left Wing', 'Brendan Clark', '2021-11-26-Brown-Holy Cross'), ('Brown', 3, 'Center', 'Jake Harris', '2021-11-26-Brown-Holy Cross')  ... displaying 10 of 43 total bound parameter sets ...  ('Holy Cross', 'Goalie 2', 'Goalie', 'Matt Radomsky', '2021-11-26-Brown-Holy Cross'), ('Holy Cross', 'Goalie 3', 'Goalie', 'Thomas Gale', '2021-11-26-Brown-Holy Cross')]]\n",
      "(Background on this error at: https://sqlalche.me/e/20/e3q8)\n"
     ]
    },
    {
     "name": "stderr",
     "output_type": "stream",
     "text": [
      "Scraping games:  35%|███▍      | 385/1106 [18:18<34:33,  2.88s/it]"
     ]
    },
    {
     "name": "stdout",
     "output_type": "stream",
     "text": [
      "Error saving to table line_chart: (sqlite3.OperationalError) table line_chart has no column named Team\n",
      "[SQL: INSERT INTO line_chart (\"Team\", \"Line\", \"Position\", \"Player\", \"Game_ID\") VALUES (?, ?, ?, ?, ?)]\n",
      "[parameters: [('Dartmouth', 1, 'Left Wing', 'Mark Gallant', '2021-11-26-Dartmouth-Providence'), ('Dartmouth', 1, 'Center', 'Sean Chisholm', '2021-11-26-Dartmouth-Providence'), ('Dartmouth', 1, 'Right Wing', 'Jeff Losurdo', '2021-11-26-Dartmouth-Providence'), ('Dartmouth', 2, 'Left Wing', 'Nick Unruh', '2021-11-26-Dartmouth-Providence'), ('Dartmouth', 2, 'Center', 'Tyler Campbell', '2021-11-26-Dartmouth-Providence'), ('Dartmouth', 2, 'Right Wing', 'Erik Urbank', '2021-11-26-Dartmouth-Providence'), ('Dartmouth', 3, 'Left Wing', 'Matt Hubbarde', '2021-11-26-Dartmouth-Providence'), ('Dartmouth', 3, 'Center', 'Sam Hesler', '2021-11-26-Dartmouth-Providence')  ... displaying 10 of 43 total bound parameter sets ...  ('Providence', 'Goalie 2', 'Goalie', 'Jimmy Scannell', '2021-11-26-Dartmouth-Providence'), ('Providence', 'Goalie 3', 'Goalie', 'Jaxson Stauber', '2021-11-26-Dartmouth-Providence')]]\n",
      "(Background on this error at: https://sqlalche.me/e/20/e3q8)\n"
     ]
    },
    {
     "name": "stderr",
     "output_type": "stream",
     "text": [
      "Scraping games:  35%|███▍      | 386/1106 [18:21<34:15,  2.85s/it]"
     ]
    },
    {
     "name": "stdout",
     "output_type": "stream",
     "text": [
      "Error saving to table line_chart: (sqlite3.OperationalError) table line_chart has no column named Team\n",
      "[SQL: INSERT INTO line_chart (\"Team\", \"Line\", \"Position\", \"Player\", \"Game_ID\") VALUES (?, ?, ?, ?, ?)]\n",
      "[parameters: [('Mercyhurst', 1, 'Left Wing', 'Rylee St. Onge', '2021-11-26-Mercyhurst-Ohio State'), ('Mercyhurst', 1, 'Center', 'Pierce Crawford', '2021-11-26-Mercyhurst-Ohio State'), ('Mercyhurst', 1, 'Right Wing', 'Austin Heidemann', '2021-11-26-Mercyhurst-Ohio State'), ('Mercyhurst', 2, 'Left Wing', 'Jonathan Bendorf', '2021-11-26-Mercyhurst-Ohio State'), ('Mercyhurst', 2, 'Center', 'Gueorgui Feduolov', '2021-11-26-Mercyhurst-Ohio State'), ('Mercyhurst', 2, 'Right Wing', 'Marko Reifenberger', '2021-11-26-Mercyhurst-Ohio State'), ('Mercyhurst', 3, 'Left Wing', 'Paul Maust', '2021-11-26-Mercyhurst-Ohio State'), ('Mercyhurst', 3, 'Center', 'Geoff Kitt', '2021-11-26-Mercyhurst-Ohio State')  ... displaying 10 of 44 total bound parameter sets ...  ('Ohio State', 'Goalie 2', 'Goalie', 'Jakub Dobeš', '2021-11-26-Mercyhurst-Ohio State'), ('Ohio State', 'Goalie 3', 'Goalie', 'Reilly Herbst', '2021-11-26-Mercyhurst-Ohio State')]]\n",
      "(Background on this error at: https://sqlalche.me/e/20/e3q8)\n"
     ]
    },
    {
     "name": "stderr",
     "output_type": "stream",
     "text": [
      "Scraping games:  35%|███▌      | 388/1106 [18:27<34:14,  2.86s/it]"
     ]
    },
    {
     "name": "stdout",
     "output_type": "stream",
     "text": [
      "Error saving to table line_chart: (sqlite3.OperationalError) table line_chart has no column named Team\n",
      "[SQL: INSERT INTO line_chart (\"Team\", \"Line\", \"Position\", \"Player\", \"Game_ID\") VALUES (?, ?, ?, ?, ?)]\n",
      "[parameters: [('Northeastern', 1, 'Left Wing', 'Aidan McDonough', '2021-11-26-Northeastern-Rensselaer'), ('Northeastern', 1, 'Center', 'Justin Hryckowian', '2021-11-26-Northeastern-Rensselaer'), ('Northeastern', 1, 'Right Wing', 'Gunnarwolfe Fontaine', '2021-11-26-Northeastern-Rensselaer'), ('Northeastern', 2, 'Left Wing', 'Jakov Novak', '2021-11-26-Northeastern-Rensselaer'), ('Northeastern', 2, 'Center', 'Jack Hughes', '2021-11-26-Northeastern-Rensselaer'), ('Northeastern', 2, 'Right Wing', 'Matt Choupani', '2021-11-26-Northeastern-Rensselaer'), ('Northeastern', 3, 'Left Wing', 'Ryan St. Louis', '2021-11-26-Northeastern-Rensselaer'), ('Northeastern', 3, 'Center', 'Steven Agriogianis', '2021-11-26-Northeastern-Rensselaer')  ... displaying 10 of 43 total bound parameter sets ...  ('Rensselaer', 'Goalie 1', 'Goalie', 'Linden Marshall', '2021-11-26-Northeastern-Rensselaer'), ('Rensselaer', 'Goalie 2', 'Goalie', 'Brett Miller', '2021-11-26-Northeastern-Rensselaer')]]\n",
      "(Background on this error at: https://sqlalche.me/e/20/e3q8)\n"
     ]
    },
    {
     "name": "stderr",
     "output_type": "stream",
     "text": [
      "Scraping games:  35%|███▌      | 389/1106 [18:30<34:28,  2.89s/it]"
     ]
    },
    {
     "name": "stdout",
     "output_type": "stream",
     "text": [
      "Error saving to table line_chart: (sqlite3.OperationalError) table line_chart has no column named Team\n",
      "[SQL: INSERT INTO line_chart (\"Team\", \"Line\", \"Position\", \"Player\", \"Game_ID\") VALUES (?, ?, ?, ?, ?)]\n",
      "[parameters: [('St. Lawrence', 1, 'Left Wing', 'Justin Paul', '2021-11-26-Western Michigan-St. Lawrence'), ('St. Lawrence', 1, 'Center', 'Cameron Buhl', '2021-11-26-Western Michigan-St. Lawrence'), ('St. Lawrence', 1, 'Right Wing', 'Kaden Pickering', '2021-11-26-Western Michigan-St. Lawrence'), ('St. Lawrence', 2, 'Left Wing', 'Aleksi Peltonen', '2021-11-26-Western Michigan-St. Lawrence'), ('St. Lawrence', 2, 'Center', 'Jordan Steinmetz', '2021-11-26-Western Michigan-St. Lawrence'), ('St. Lawrence', 2, 'Right Wing', 'Ashton Fry', '2021-11-26-Western Michigan-St. Lawrence'), ('St. Lawrence', 3, 'Left Wing', 'Nicholas Trela', '2021-11-26-Western Michigan-St. Lawrence'), ('St. Lawrence', 3, 'Center', 'Max Dorrington', '2021-11-26-Western Michigan-St. Lawrence')  ... displaying 10 of 43 total bound parameter sets ...  ('Western Michigan', 'Goalie 1', 'Goalie', 'Brandon Bussi', '2021-11-26-Western Michigan-St. Lawrence'), ('Western Michigan', 'Goalie 2', 'Goalie', 'Ross Hawryluk', '2021-11-26-Western Michigan-St. Lawrence')]]\n",
      "(Background on this error at: https://sqlalche.me/e/20/e3q8)\n"
     ]
    },
    {
     "name": "stderr",
     "output_type": "stream",
     "text": [
      "Scraping games:  35%|███▌      | 390/1106 [18:32<34:14,  2.87s/it]"
     ]
    },
    {
     "name": "stdout",
     "output_type": "stream",
     "text": [
      "Error saving to table line_chart: (sqlite3.OperationalError) table line_chart has no column named Team\n",
      "[SQL: INSERT INTO line_chart (\"Team\", \"Line\", \"Position\", \"Player\", \"Game_ID\") VALUES (?, ?, ?, ?, ?)]\n",
      "[parameters: [('Princeton', 1, 'Left Wing', 'Corey Andonovski', '2021-11-26-RIT-Princeton'), ('Princeton', 1, 'Center', 'Luke Keenan', '2021-11-26-RIT-Princeton'), ('Princeton', 1, 'Right Wing', 'Spencer Kersten', '2021-11-26-RIT-Princeton'), ('Princeton', 2, 'Left Wing', 'Mackenzie Merriman', '2021-11-26-RIT-Princeton'), ('Princeton', 2, 'Center', 'Alex Konovolov', '2021-11-26-RIT-Princeton'), ('Princeton', 2, 'Right Wing', 'Joe Berg', '2021-11-26-RIT-Princeton'), ('Princeton', 3, 'Left Wing', 'Liam Gorman', '2021-11-26-RIT-Princeton'), ('Princeton', 3, 'Center', \"Christian O'Neill\", '2021-11-26-RIT-Princeton')  ... displaying 10 of 44 total bound parameter sets ...  ('RIT', 'Goalie 2', 'Goalie', 'Kolby Matthews', '2021-11-26-RIT-Princeton'), ('RIT', 'Goalie 3', 'Goalie', 'Tommy Scarfone', '2021-11-26-RIT-Princeton')]]\n",
      "(Background on this error at: https://sqlalche.me/e/20/e3q8)\n"
     ]
    },
    {
     "name": "stderr",
     "output_type": "stream",
     "text": [
      "Scraping games:  35%|███▌      | 391/1106 [18:35<33:46,  2.83s/it]"
     ]
    },
    {
     "name": "stdout",
     "output_type": "stream",
     "text": [
      "Error saving to table line_chart: (sqlite3.OperationalError) table line_chart has no column named Team\n",
      "[SQL: INSERT INTO line_chart (\"Team\", \"Line\", \"Position\", \"Player\", \"Game_ID\") VALUES (?, ?, ?, ?, ?)]\n",
      "[parameters: [('Miami', 1, 'Left Wing', 'Chase Gresock', '2021-11-26-Long Island-Miami'), ('Miami', 1, 'Center', 'Michael Regush', '2021-11-26-Long Island-Miami'), ('Miami', 1, 'Right Wing', 'Matt Barry', '2021-11-26-Long Island-Miami'), ('Miami', 2, 'Left Wing', 'Matthew Barbolini', '2021-11-26-Long Island-Miami'), ('Miami', 2, 'Center', 'Red Savage', '2021-11-26-Long Island-Miami'), ('Miami', 2, 'Right Wing', 'Chase Pletzke', '2021-11-26-Long Island-Miami'), ('Miami', 3, 'Left Wing', 'Scott Corbett', '2021-11-26-Long Island-Miami'), ('Miami', 3, 'Center', 'Monte Graham', '2021-11-26-Long Island-Miami')  ... displaying 10 of 42 total bound parameter sets ...  ('Long Island', 'Goalie 1', 'Goalie', 'Kris Carlson', '2021-11-26-Long Island-Miami'), ('Long Island', 'Goalie 2', 'Goalie', 'Brandon Perrone', '2021-11-26-Long Island-Miami')]]\n",
      "(Background on this error at: https://sqlalche.me/e/20/e3q8)\n"
     ]
    },
    {
     "name": "stderr",
     "output_type": "stream",
     "text": [
      "Scraping games:  35%|███▌      | 392/1106 [18:38<34:04,  2.86s/it]"
     ]
    },
    {
     "name": "stdout",
     "output_type": "stream",
     "text": [
      "Error saving to table line_chart: (sqlite3.OperationalError) table line_chart has no column named Team\n",
      "[SQL: INSERT INTO line_chart (\"Team\", \"Line\", \"Position\", \"Player\", \"Game_ID\") VALUES (?, ?, ?, ?, ?)]\n",
      "[parameters: [('Michigan', 1, 'Left Wing', 'Kent Johnson', '2021-11-26-Niagara-Michigan'), ('Michigan', 1, 'Center', 'Matty Beniers', '2021-11-26-Niagara-Michigan'), ('Michigan', 1, 'Right Wing', 'Brendan Brisson', '2021-11-26-Niagara-Michigan'), ('Michigan', 2, 'Left Wing', 'Michael Pastujov', '2021-11-26-Niagara-Michigan'), ('Michigan', 2, 'Center', 'Thomas Bordeleau', '2021-11-26-Niagara-Michigan'), ('Michigan', 2, 'Right Wing', 'Mackie Samoskevich', '2021-11-26-Niagara-Michigan'), ('Michigan', 3, 'Left Wing', 'Garrett Van Wyhe', '2021-11-26-Niagara-Michigan'), ('Michigan', 3, 'Center', 'Johnny Beecher', '2021-11-26-Niagara-Michigan')  ... displaying 10 of 44 total bound parameter sets ...  ('Niagara', 'Goalie 2', 'Goalie', 'Chad Veltri', '2021-11-26-Niagara-Michigan'), ('Niagara', 'Goalie 3', 'Goalie', 'Jake Sibell', '2021-11-26-Niagara-Michigan')]]\n",
      "(Background on this error at: https://sqlalche.me/e/20/e3q8)\n"
     ]
    },
    {
     "name": "stderr",
     "output_type": "stream",
     "text": [
      "Scraping games:  36%|███▌      | 393/1106 [18:41<34:02,  2.86s/it]"
     ]
    },
    {
     "name": "stdout",
     "output_type": "stream",
     "text": [
      "Error saving to table line_chart: (sqlite3.OperationalError) table line_chart has no column named Team\n",
      "[SQL: INSERT INTO line_chart (\"Team\", \"Line\", \"Position\", \"Player\", \"Game_ID\") VALUES (?, ?, ?, ?, ?)]\n",
      "[parameters: [('Clarkson', 1, 'Left Wing', 'Chris Klack', '2021-11-26-Clarkson-Wisconsin'), ('Clarkson', 1, 'Center', 'Zach Tsekos', '2021-11-26-Clarkson-Wisconsin'), ('Clarkson', 1, 'Right Wing', 'Jack Jacome', '2021-11-26-Clarkson-Wisconsin'), ('Clarkson', 2, 'Left Wing', 'Ayrton Martino', '2021-11-26-Clarkson-Wisconsin'), ('Clarkson', 2, 'Center', 'Ryan Richardson', '2021-11-26-Clarkson-Wisconsin'), ('Clarkson', 2, 'Right Wing', 'Anthony Romano', '2021-11-26-Clarkson-Wisconsin'), ('Clarkson', 3, 'Left Wing', 'Alex Campbell', '2021-11-26-Clarkson-Wisconsin'), ('Clarkson', 3, 'Center', 'Mathieu Gosselin', '2021-11-26-Clarkson-Wisconsin')  ... displaying 10 of 40 total bound parameter sets ...  ('Wisconsin', 1, 'Extra', 'Caden', '2021-11-26-Clarkson-Wisconsin'), ('Wisconsin', 'Goalie 1', 'Goalie', 'Jared Moe', '2021-11-26-Clarkson-Wisconsin')]]\n",
      "(Background on this error at: https://sqlalche.me/e/20/e3q8)\n"
     ]
    },
    {
     "name": "stderr",
     "output_type": "stream",
     "text": [
      "Scraping games:  36%|███▌      | 394/1106 [18:44<33:46,  2.85s/it]"
     ]
    },
    {
     "name": "stdout",
     "output_type": "stream",
     "text": [
      "Error saving to table line_chart: (sqlite3.OperationalError) table line_chart has no column named Team\n",
      "[SQL: INSERT INTO line_chart (\"Team\", \"Line\", \"Position\", \"Player\", \"Game_ID\") VALUES (?, ?, ?, ?, ?)]\n",
      "[parameters: [('Alaska', 1, 'Left Wing', 'Didrik Henbrant', '2021-11-26-Alaska-Minnesota-Duluth'), ('Alaska', 1, 'Center', 'Payton Matsui', '2021-11-26-Alaska-Minnesota-Duluth'), ('Alaska', 1, 'Right Wing', 'Matt Koethe', '2021-11-26-Alaska-Minnesota-Duluth'), ('Alaska', 2, 'Left Wing', 'Anton Rubtsov', '2021-11-26-Alaska-Minnesota-Duluth'), ('Alaska', 2, 'Center', 'Jakob Breault', '2021-11-26-Alaska-Minnesota-Duluth'), ('Alaska', 2, 'Right Wing', 'Filip Fornaa Svennson', '2021-11-26-Alaska-Minnesota-Duluth'), ('Alaska', 3, 'Left Wing', 'Harrison Israels', '2021-11-26-Alaska-Minnesota-Duluth'), ('Alaska', 3, 'Center', 'Eriks Zohovs', '2021-11-26-Alaska-Minnesota-Duluth')  ... displaying 10 of 43 total bound parameter sets ...  ('Minnesota-Duluth', 'Goalie 2', 'Goalie', 'Ryan Fanti', '2021-11-26-Alaska-Minnesota-Duluth'), ('Minnesota-Duluth', 'Goalie 3', 'Goalie', 'Brady Anderson', '2021-11-26-Alaska-Minnesota-Duluth')]]\n",
      "(Background on this error at: https://sqlalche.me/e/20/e3q8)\n"
     ]
    },
    {
     "name": "stderr",
     "output_type": "stream",
     "text": [
      "Scraping games:  36%|███▌      | 395/1106 [18:47<34:30,  2.91s/it]"
     ]
    },
    {
     "name": "stdout",
     "output_type": "stream",
     "text": [
      "Error saving to table line_chart: (sqlite3.OperationalError) table line_chart has no column named Team\n",
      "[SQL: INSERT INTO line_chart (\"Team\", \"Line\", \"Position\", \"Player\", \"Game_ID\") VALUES (?, ?, ?, ?, ?)]\n",
      "[parameters: [('Minnesota', 1, 'Left Wing', 'Grant Cruikshank', '2021-11-26-Minnesota-North Dakota'), ('Minnesota', 1, 'Center', 'Aaron Huglen', '2021-11-26-Minnesota-North Dakota'), ('Minnesota', 1, 'Right Wing', 'Sammy Walker', '2021-11-26-Minnesota-North Dakota'), ('Minnesota', 2, 'Left Wing', 'Matthew Knies', '2021-11-26-Minnesota-North Dakota'), ('Minnesota', 2, 'Center', 'Ben Meyers', '2021-11-26-Minnesota-North Dakota'), ('Minnesota', 2, 'Right Wing', 'Chaz Lucius', '2021-11-26-Minnesota-North Dakota'), ('Minnesota', 3, 'Left Wing', 'Blake McLaughlin', '2021-11-26-Minnesota-North Dakota'), ('Minnesota', 3, 'Center', 'Jaxon Nelson', '2021-11-26-Minnesota-North Dakota')  ... displaying 10 of 44 total bound parameter sets ...  ('North Dakota', 'Goalie 2', 'Goalie', 'Harrison Feeney', '2021-11-26-Minnesota-North Dakota'), ('North Dakota', 'Goalie 3', 'Goalie', 'Jakob Hellsten', '2021-11-26-Minnesota-North Dakota')]]\n",
      "(Background on this error at: https://sqlalche.me/e/20/e3q8)\n"
     ]
    },
    {
     "name": "stderr",
     "output_type": "stream",
     "text": [
      "Scraping games:  36%|███▌      | 396/1106 [18:50<34:52,  2.95s/it]"
     ]
    },
    {
     "name": "stdout",
     "output_type": "stream",
     "text": [
      "Error saving to table line_chart: (sqlite3.OperationalError) table line_chart has no column named Team\n",
      "[SQL: INSERT INTO line_chart (\"Team\", \"Line\", \"Position\", \"Player\", \"Game_ID\") VALUES (?, ?, ?, ?, ?)]\n",
      "[parameters: [('Bemidji State', 1, 'Left Wing', 'Lukas Sillinger', '2021-11-26-Bemidji State-Arizona State'), ('Bemidji State', 1, 'Center', 'Owen Sillinger', '2021-11-26-Bemidji State-Arizona State'), ('Bemidji State', 1, 'Right Wing', 'Alex Ierullo', '2021-11-26-Bemidji State-Arizona State'), ('Bemidji State', 2, 'Left Wing', 'Ethan Somoza', '2021-11-26-Bemidji State-Arizona State'), ('Bemidji State', 2, 'Center', 'Tyler Kirkup', '2021-11-26-Bemidji State-Arizona State'), ('Bemidji State', 2, 'Right Wing', 'Nick Cardelli', '2021-11-26-Bemidji State-Arizona State'), ('Bemidji State', 3, 'Left Wing', 'Donte Lawson', '2021-11-26-Bemidji State-Arizona State'), ('Bemidji State', 3, 'Center', 'Ross Armour', '2021-11-26-Bemidji State-Arizona State')  ... displaying 10 of 42 total bound parameter sets ...  ('Arizona State', 'Goalie 1', 'Goalie', 'Ben Kraws', '2021-11-26-Bemidji State-Arizona State'), ('Arizona State', 'Goalie 2', 'Goalie', 'Cole Brady', '2021-11-26-Bemidji State-Arizona State')]]\n",
      "(Background on this error at: https://sqlalche.me/e/20/e3q8)\n"
     ]
    },
    {
     "name": "stderr",
     "output_type": "stream",
     "text": [
      "Scraping games:  36%|███▌      | 397/1106 [18:53<34:34,  2.93s/it]"
     ]
    },
    {
     "name": "stdout",
     "output_type": "stream",
     "text": [
      "Error saving to table line_chart: (sqlite3.OperationalError) table line_chart has no column named Team\n",
      "[SQL: INSERT INTO line_chart (\"Team\", \"Line\", \"Position\", \"Player\", \"Game_ID\") VALUES (?, ?, ?, ?, ?)]\n",
      "[parameters: [('Bowling Green', 1, 'Left Wing', 'Coale Norris', '2021-11-26-Bowling Green-Northern Michigan'), ('Bowling Green', 1, 'Center', 'Austen Swankler', '2021-11-26-Bowling Green-Northern Michigan'), ('Bowling Green', 1, 'Right Wing', 'Nathan Burke', '2021-11-26-Bowling Green-Northern Michigan'), ('Bowling Green', 2, 'Left Wing', 'Sam Craggs', '2021-11-26-Bowling Green-Northern Michigan'), ('Bowling Green', 2, 'Center', 'Taylor Schneider', '2021-11-26-Bowling Green-Northern Michigan'), ('Bowling Green', 2, 'Right Wing', 'Alex Barber', '2021-11-26-Bowling Green-Northern Michigan'), ('Bowling Green', 3, 'Left Wing', 'Brayden Krieger', '2021-11-26-Bowling Green-Northern Michigan'), ('Bowling Green', 3, 'Center', 'Ethan Scardina', '2021-11-26-Bowling Green-Northern Michigan')  ... displaying 10 of 38 total bound parameter sets ...  ('Northern Michigan', 3, 'Right D', 'Tanner Vescio', '2021-11-26-Bowling Green-Northern Michigan'), ('Northern Michigan', 'Goalie 1', 'Goalie', 'Rico DiMatteo', '2021-11-26-Bowling Green-Northern Michigan')]]\n",
      "(Background on this error at: https://sqlalche.me/e/20/e3q8)\n"
     ]
    },
    {
     "name": "stderr",
     "output_type": "stream",
     "text": [
      "Scraping games:  36%|███▌      | 398/1106 [18:56<34:31,  2.93s/it]"
     ]
    },
    {
     "name": "stdout",
     "output_type": "stream",
     "text": [
      "Error saving to table line_chart: (sqlite3.OperationalError) table line_chart has no column named Team\n",
      "[SQL: INSERT INTO line_chart (\"Team\", \"Line\", \"Position\", \"Player\", \"Game_ID\") VALUES (?, ?, ?, ?, ?)]\n",
      "[parameters: [('Lake Superior', 1, 'Left Wing', 'Miroslav Mucha', '2021-11-26-Minnesota State-Lake Superior'), ('Lake Superior', 1, 'Center', 'Louis Boudon', '2021-11-26-Minnesota State-Lake Superior'), ('Lake Superior', 1, 'Right Wing', 'Brandon Puricelli', '2021-11-26-Minnesota State-Lake Superior'), ('Lake Superior', 2, 'Left Wing', 'Logan Jenuwine', '2021-11-26-Minnesota State-Lake Superior'), ('Lake Superior', 2, 'Center', 'Dustin Manz', '2021-11-26-Minnesota State-Lake Superior'), ('Lake Superior', 2, 'Right Wing', 'Josh Nixon', '2021-11-26-Minnesota State-Lake Superior'), ('Lake Superior', 3, 'Left Wing', 'Dawson Tritt', '2021-11-26-Minnesota State-Lake Superior'), ('Lake Superior', 3, 'Center', 'Timo Bakos', '2021-11-26-Minnesota State-Lake Superior')  ... displaying 10 of 42 total bound parameter sets ...  ('Minnesota State', 'Goalie 1', 'Goalie', 'Andrew Miller', '2021-11-26-Minnesota State-Lake Superior'), ('Minnesota State', 'Goalie 2', 'Goalie', 'Keenan Rancier', '2021-11-26-Minnesota State-Lake Superior')]]\n",
      "(Background on this error at: https://sqlalche.me/e/20/e3q8)\n"
     ]
    },
    {
     "name": "stderr",
     "output_type": "stream",
     "text": [
      "Scraping games:  36%|███▌      | 399/1106 [18:58<33:49,  2.87s/it]"
     ]
    },
    {
     "name": "stdout",
     "output_type": "stream",
     "text": [
      "Error saving to table line_chart: (sqlite3.OperationalError) table line_chart has no column named Team\n",
      "[SQL: INSERT INTO line_chart (\"Team\", \"Line\", \"Position\", \"Player\", \"Game_ID\") VALUES (?, ?, ?, ?, ?)]\n",
      "[parameters: [('Ferris State', 1, 'Left Wing', 'Liam MacDougall', '2021-11-26-Ferris State-Michigan Tech'), ('Ferris State', 1, 'Center', 'Dallas Tulik', '2021-11-26-Ferris State-Michigan Tech'), ('Ferris State', 1, 'Right Wing', 'Justin Michaelian', '2021-11-26-Ferris State-Michigan Tech'), ('Ferris State', 2, 'Left Wing', 'Kaleb Ergang', '2021-11-26-Ferris State-Michigan Tech'), ('Ferris State', 2, 'Center', 'Stepan Pokorny', '2021-11-26-Ferris State-Michigan Tech'), ('Ferris State', 2, 'Right Wing', 'Marshall Moise', '2021-11-26-Ferris State-Michigan Tech'), ('Ferris State', 3, 'Left Wing', 'Antonio Venuto', '2021-11-26-Ferris State-Michigan Tech'), ('Ferris State', 3, 'Center', 'Bradley Marek', '2021-11-26-Ferris State-Michigan Tech')  ... displaying 10 of 42 total bound parameter sets ...  ('Michigan Tech', 'Goalie 1', 'Goalie', 'Blake Pietila', '2021-11-26-Ferris State-Michigan Tech'), ('Michigan Tech', 'Goalie 2', 'Goalie', 'Cayden Bailey', '2021-11-26-Ferris State-Michigan Tech')]]\n",
      "(Background on this error at: https://sqlalche.me/e/20/e3q8)\n"
     ]
    },
    {
     "name": "stderr",
     "output_type": "stream",
     "text": [
      "Scraping games:  36%|███▌      | 400/1106 [19:01<34:06,  2.90s/it]"
     ]
    },
    {
     "name": "stdout",
     "output_type": "stream",
     "text": [
      "Error saving to table line_chart: (sqlite3.OperationalError) table line_chart has no column named Team\n",
      "[SQL: INSERT INTO line_chart (\"Team\", \"Line\", \"Position\", \"Player\", \"Game_ID\") VALUES (?, ?, ?, ?, ?)]\n",
      "[parameters: [(\"American Int'l\", 1, 'Left Wing', 'Chris Theodore', \"2021-11-27-American Int'l-Canisius\"), (\"American Int'l\", 1, 'Center', 'Jake Stella', \"2021-11-27-American Int'l-Canisius\"), (\"American Int'l\", 1, 'Right Wing', 'Justin Young', \"2021-11-27-American Int'l-Canisius\"), (\"American Int'l\", 2, 'Left Wing', 'Chris Dodero', \"2021-11-27-American Int'l-Canisius\"), (\"American Int'l\", 2, 'Center', 'Brian Rigali', \"2021-11-27-American Int'l-Canisius\"), (\"American Int'l\", 2, 'Right Wing', 'Luka Maver', \"2021-11-27-American Int'l-Canisius\"), (\"American Int'l\", 3, 'Left Wing', 'Blake Bennett', \"2021-11-27-American Int'l-Canisius\"), (\"American Int'l\", 3, 'Center', 'Elijiah Barriga', \"2021-11-27-American Int'l-Canisius\")  ... displaying 10 of 43 total bound parameter sets ...  ('Canisius', 'Goalie 1', 'Goalie', 'Jacob Barczewski', \"2021-11-27-American Int'l-Canisius\"), ('Canisius', 'Goalie 2', 'Goalie', 'John Hawthorne', \"2021-11-27-American Int'l-Canisius\")]]\n",
      "(Background on this error at: https://sqlalche.me/e/20/e3q8)\n"
     ]
    },
    {
     "name": "stderr",
     "output_type": "stream",
     "text": [
      "Scraping games:  36%|███▋      | 401/1106 [19:04<33:42,  2.87s/it]"
     ]
    },
    {
     "name": "stdout",
     "output_type": "stream",
     "text": [
      "Error saving to table line_chart: (sqlite3.OperationalError) table line_chart has no column named Team\n",
      "[SQL: INSERT INTO line_chart (\"Team\", \"Line\", \"Position\", \"Player\", \"Game_ID\") VALUES (?, ?, ?, ?, ?)]\n",
      "[parameters: [('Army', 1, 'Left Wing', 'Brett Abdelnour', '2021-11-27-Army-Bentley'), ('Army', 1, 'Center', 'John Keranen', '2021-11-27-Army-Bentley'), ('Army', 1, 'Right Wing', 'Colin Bilek', '2021-11-27-Army-Bentley'), ('Army', 2, 'Left Wing', 'Daniel Haider', '2021-11-27-Army-Bentley'), ('Army', 2, 'Center', 'Jake Felker', '2021-11-27-Army-Bentley'), ('Army', 2, 'Right Wing', 'Ricky Lyle', '2021-11-27-Army-Bentley'), ('Army', 3, 'Left Wing', 'Mitch Machlitt', '2021-11-27-Army-Bentley'), ('Army', 3, 'Center', 'Eric Butte', '2021-11-27-Army-Bentley')  ... displaying 10 of 44 total bound parameter sets ...  ('Bentley', 'Goalie 2', 'Goalie', 'Jason Grande', '2021-11-27-Army-Bentley'), ('Bentley', 'Goalie 3', 'Goalie', 'Nicholas Grabko', '2021-11-27-Army-Bentley')]]\n",
      "(Background on this error at: https://sqlalche.me/e/20/e3q8)\n"
     ]
    },
    {
     "name": "stderr",
     "output_type": "stream",
     "text": [
      "Scraping games:  36%|███▋      | 402/1106 [19:07<33:26,  2.85s/it]"
     ]
    },
    {
     "name": "stdout",
     "output_type": "stream",
     "text": [
      "Error saving to table line_chart: (sqlite3.OperationalError) table line_chart has no column named Team\n",
      "[SQL: INSERT INTO line_chart (\"Team\", \"Line\", \"Position\", \"Player\", \"Game_ID\") VALUES (?, ?, ?, ?, ?)]\n",
      "[parameters: [('Merrimack', 1, 'Left Wing', 'Ben Brar', '2021-11-27-Union-Merrimack'), ('Merrimack', 1, 'Center', 'Mac Welsher', '2021-11-27-Union-Merrimack'), ('Merrimack', 1, 'Right Wing', 'Jake Durflinger', '2021-11-27-Union-Merrimack'), ('Merrimack', 2, 'Left Wing', 'Regan Kimens', '2021-11-27-Union-Merrimack'), ('Merrimack', 2, 'Center', 'Filip Karlsson-Tagtstrom', '2021-11-27-Union-Merrimack'), ('Merrimack', 2, 'Right Wing', 'Jordan Seyfert', '2021-11-27-Union-Merrimack'), ('Merrimack', 3, 'Left Wing', 'Logan Drevitch', '2021-11-27-Union-Merrimack'), ('Merrimack', 3, 'Center', 'Max Newton', '2021-11-27-Union-Merrimack')  ... displaying 10 of 43 total bound parameter sets ...  ('Union', 'Goalie 2', 'Goalie', 'Connor Murphy', '2021-11-27-Union-Merrimack'), ('Union', 'Goalie 3', 'Goalie', 'Joe Sharib', '2021-11-27-Union-Merrimack')]]\n",
      "(Background on this error at: https://sqlalche.me/e/20/e3q8)\n"
     ]
    },
    {
     "name": "stderr",
     "output_type": "stream",
     "text": [
      "Scraping games:  36%|███▋      | 403/1106 [19:10<33:15,  2.84s/it]"
     ]
    },
    {
     "name": "stdout",
     "output_type": "stream",
     "text": [
      "Error saving to table line_chart: (sqlite3.OperationalError) table line_chart has no column named Team\n",
      "[SQL: INSERT INTO line_chart (\"Team\", \"Line\", \"Position\", \"Player\", \"Game_ID\") VALUES (?, ?, ?, ?, ?)]\n",
      "[parameters: [('Colgate', 1, 'Left Wing', 'Arnaud Vachon', '2021-11-27-Colgate-Connecticut'), ('Colgate', 1, 'Center', 'Josh McKechney', '2021-11-27-Colgate-Connecticut'), ('Colgate', 1, 'Right Wing', 'Alex Young', '2021-11-27-Colgate-Connecticut'), ('Colgate', 2, 'Left Wing', 'Colton Young', '2021-11-27-Colgate-Connecticut'), ('Colgate', 2, 'Center', 'Jeff Stewart', '2021-11-27-Colgate-Connecticut'), ('Colgate', 2, 'Right Wing', 'Ethan Manderville', '2021-11-27-Colgate-Connecticut'), ('Colgate', 3, 'Left Wing', 'Matt Verboon', '2021-11-27-Colgate-Connecticut'), ('Colgate', 3, 'Center', 'Alex DiPaolo', '2021-11-27-Colgate-Connecticut')  ... displaying 10 of 44 total bound parameter sets ...  ('Connecticut', 'Goalie 2', 'Goalie', 'Logan Terness', '2021-11-27-Colgate-Connecticut'), ('Connecticut', 'Goalie 3', 'Goalie', 'Matt Pasquale', '2021-11-27-Colgate-Connecticut')]]\n",
      "(Background on this error at: https://sqlalche.me/e/20/e3q8)\n"
     ]
    },
    {
     "name": "stderr",
     "output_type": "stream",
     "text": [
      "Scraping games:  37%|███▋      | 404/1106 [19:12<32:37,  2.79s/it]"
     ]
    },
    {
     "name": "stdout",
     "output_type": "stream",
     "text": [
      "Error saving to table line_chart: (sqlite3.OperationalError) table line_chart has no column named Team\n",
      "[SQL: INSERT INTO line_chart (\"Team\", \"Line\", \"Position\", \"Player\", \"Game_ID\") VALUES (?, ?, ?, ?, ?)]\n",
      "[parameters: [('Mercyhurst', 1, 'Left Wing', 'Rylee St. Onge', '2021-11-27-Mercyhurst-Ohio State'), ('Mercyhurst', 1, 'Center', 'Pierce Crawford', '2021-11-27-Mercyhurst-Ohio State'), ('Mercyhurst', 1, 'Right Wing', 'Austin Heidemann', '2021-11-27-Mercyhurst-Ohio State'), ('Mercyhurst', 2, 'Left Wing', 'Jonathan Bendorf', '2021-11-27-Mercyhurst-Ohio State'), ('Mercyhurst', 2, 'Center', 'Gueorgui Feduolov', '2021-11-27-Mercyhurst-Ohio State'), ('Mercyhurst', 2, 'Right Wing', 'Marko Reifenberger', '2021-11-27-Mercyhurst-Ohio State'), ('Mercyhurst', 3, 'Left Wing', 'Kyler Head', '2021-11-27-Mercyhurst-Ohio State'), ('Mercyhurst', 3, 'Center', 'Steven Ipri', '2021-11-27-Mercyhurst-Ohio State')  ... displaying 10 of 44 total bound parameter sets ...  ('Ohio State', 'Goalie 2', 'Goalie', 'Jakub Dobeš', '2021-11-27-Mercyhurst-Ohio State'), ('Ohio State', 'Goalie 3', 'Goalie', 'Reilly Herbst', '2021-11-27-Mercyhurst-Ohio State')]]\n",
      "(Background on this error at: https://sqlalche.me/e/20/e3q8)\n"
     ]
    },
    {
     "name": "stderr",
     "output_type": "stream",
     "text": [
      "Scraping games:  37%|███▋      | 405/1106 [19:16<33:58,  2.91s/it]"
     ]
    },
    {
     "name": "stdout",
     "output_type": "stream",
     "text": [
      "Error saving to table line_chart: (sqlite3.OperationalError) table line_chart has no column named Team\n",
      "[SQL: INSERT INTO line_chart (\"Team\", \"Line\", \"Position\", \"Player\", \"Game_ID\") VALUES (?, ?, ?, ?, ?)]\n",
      "[parameters: [('Miami', 1, 'Left Wing', 'PJ Fletcher', '2021-11-27-Long Island-Miami'), ('Miami', 1, 'Center', 'Red Savage', '2021-11-27-Long Island-Miami'), ('Miami', 1, 'Right Wing', 'Ryan Savage', '2021-11-27-Long Island-Miami'), ('Miami', 2, 'Left Wing', 'Matthew Barbolini', '2021-11-27-Long Island-Miami'), ('Miami', 2, 'Center', 'Michael Regush', '2021-11-27-Long Island-Miami'), ('Miami', 2, 'Right Wing', 'Matt Barry', '2021-11-27-Long Island-Miami'), ('Miami', 3, 'Left Wing', 'Chase Pletzke', '2021-11-27-Long Island-Miami'), ('Miami', 3, 'Center', 'Monte Graham', '2021-11-27-Long Island-Miami')  ... displaying 10 of 42 total bound parameter sets ...  ('Long Island', 'Goalie 1', 'Goalie', 'Kris Carlson', '2021-11-27-Long Island-Miami'), ('Long Island', 'Goalie 2', 'Goalie', 'Brandon Perrone', '2021-11-27-Long Island-Miami')]]\n",
      "(Background on this error at: https://sqlalche.me/e/20/e3q8)\n"
     ]
    },
    {
     "name": "stderr",
     "output_type": "stream",
     "text": [
      "Scraping games:  37%|███▋      | 406/1106 [19:18<33:33,  2.88s/it]"
     ]
    },
    {
     "name": "stdout",
     "output_type": "stream",
     "text": [
      "Error saving to table line_chart: (sqlite3.OperationalError) table line_chart has no column named Team\n",
      "[SQL: INSERT INTO line_chart (\"Team\", \"Line\", \"Position\", \"Player\", \"Game_ID\") VALUES (?, ?, ?, ?, ?)]\n",
      "[parameters: [('Clarkson', 1, 'Left Wing', 'Chris Klack', '2021-11-27-Clarkson-Wisconsin'), ('Clarkson', 1, 'Center', 'Zach Tsekos', '2021-11-27-Clarkson-Wisconsin'), ('Clarkson', 1, 'Right Wing', 'Jack Jacome', '2021-11-27-Clarkson-Wisconsin'), ('Clarkson', 2, 'Left Wing', 'Ayrton Martino', '2021-11-27-Clarkson-Wisconsin'), ('Clarkson', 2, 'Center', 'Ryan Richardson', '2021-11-27-Clarkson-Wisconsin'), ('Clarkson', 2, 'Right Wing', 'Anthony Romano', '2021-11-27-Clarkson-Wisconsin'), ('Clarkson', 3, 'Left Wing', 'Alex Campbell', '2021-11-27-Clarkson-Wisconsin'), ('Clarkson', 3, 'Center', 'Mathieu Gosselin', '2021-11-27-Clarkson-Wisconsin')  ... displaying 10 of 40 total bound parameter sets ...  ('Wisconsin', 1, 'Extra', 'Zach', '2021-11-27-Clarkson-Wisconsin'), ('Wisconsin', 'Goalie 1', 'Goalie', 'Cameron Rowe', '2021-11-27-Clarkson-Wisconsin')]]\n",
      "(Background on this error at: https://sqlalche.me/e/20/e3q8)\n"
     ]
    },
    {
     "name": "stderr",
     "output_type": "stream",
     "text": [
      "Scraping games:  37%|███▋      | 407/1106 [19:21<33:18,  2.86s/it]"
     ]
    },
    {
     "name": "stdout",
     "output_type": "stream",
     "text": [
      "Error saving to table line_chart: (sqlite3.OperationalError) table line_chart has no column named Team\n",
      "[SQL: INSERT INTO line_chart (\"Team\", \"Line\", \"Position\", \"Player\", \"Game_ID\") VALUES (?, ?, ?, ?, ?)]\n",
      "[parameters: [('Holy Cross', 1, 'Left Wing', 'Lucas Thorne', '2021-11-27-Holy Cross-New Hampshire'), ('Holy Cross', 1, 'Center', 'Ryan Leibold', '2021-11-27-Holy Cross-New Hampshire'), ('Holy Cross', 1, 'Right Wing', 'Jack Ricketts', '2021-11-27-Holy Cross-New Hampshire'), ('Holy Cross', 2, 'Left Wing', 'Tyler Ghirardosi', '2021-11-27-Holy Cross-New Hampshire'), ('Holy Cross', 2, 'Center', 'Alex Peterson', '2021-11-27-Holy Cross-New Hampshire'), ('Holy Cross', 2, 'Right Wing', 'Anthony Vincent', '2021-11-27-Holy Cross-New Hampshire'), ('Holy Cross', 3, 'Left Wing', 'John Gelatt', '2021-11-27-Holy Cross-New Hampshire'), ('Holy Cross', 3, 'Center', 'Bobby Young', '2021-11-27-Holy Cross-New Hampshire')  ... displaying 10 of 44 total bound parameter sets ...  ('New Hampshire', 'Goalie 2', 'Goalie', 'David Fessenden', '2021-11-27-Holy Cross-New Hampshire'), ('New Hampshire', 'Goalie 3', 'Goalie', 'Jeremy Forman', '2021-11-27-Holy Cross-New Hampshire')]]\n",
      "(Background on this error at: https://sqlalche.me/e/20/e3q8)\n"
     ]
    },
    {
     "name": "stderr",
     "output_type": "stream",
     "text": [
      "Scraping games:  37%|███▋      | 408/1106 [19:24<33:45,  2.90s/it]"
     ]
    },
    {
     "name": "stdout",
     "output_type": "stream",
     "text": [
      "Error saving to table line_chart: (sqlite3.OperationalError) table line_chart has no column named Team\n",
      "[SQL: INSERT INTO line_chart (\"Team\", \"Line\", \"Position\", \"Player\", \"Game_ID\") VALUES (?, ?, ?, ?, ?)]\n",
      "[parameters: [('Michigan', 1, 'Left Wing', 'Kent Johnson', '2021-11-27-Niagara-Michigan'), ('Michigan', 1, 'Center', 'Matty Beniers', '2021-11-27-Niagara-Michigan'), ('Michigan', 1, 'Right Wing', 'Brendan Brisson', '2021-11-27-Niagara-Michigan'), ('Michigan', 2, 'Left Wing', 'Michael Pastujov', '2021-11-27-Niagara-Michigan'), ('Michigan', 2, 'Center', 'Thomas Bordeleau', '2021-11-27-Niagara-Michigan'), ('Michigan', 2, 'Right Wing', 'Mackie Samoskevich', '2021-11-27-Niagara-Michigan'), ('Michigan', 3, 'Left Wing', 'Garrett Van Wyhe', '2021-11-27-Niagara-Michigan'), ('Michigan', 3, 'Center', 'Johnny Beecher', '2021-11-27-Niagara-Michigan')  ... displaying 10 of 44 total bound parameter sets ...  ('Niagara', 'Goalie 2', 'Goalie', 'Chad Veltri', '2021-11-27-Niagara-Michigan'), ('Niagara', 'Goalie 3', 'Goalie', 'Jake Sibell', '2021-11-27-Niagara-Michigan')]]\n",
      "(Background on this error at: https://sqlalche.me/e/20/e3q8)\n"
     ]
    },
    {
     "name": "stderr",
     "output_type": "stream",
     "text": [
      "Scraping games:  37%|███▋      | 409/1106 [19:27<33:36,  2.89s/it]"
     ]
    },
    {
     "name": "stdout",
     "output_type": "stream",
     "text": [
      "Error saving to table line_chart: (sqlite3.OperationalError) table line_chart has no column named Team\n",
      "[SQL: INSERT INTO line_chart (\"Team\", \"Line\", \"Position\", \"Player\", \"Game_ID\") VALUES (?, ?, ?, ?, ?)]\n",
      "[parameters: [('St. Lawrence', 1, 'Left Wing', 'Chris Pappas', '2021-11-27-Western Michigan-St. Lawrence'), ('St. Lawrence', 1, 'Center', 'Jordan Steinmetz', '2021-11-27-Western Michigan-St. Lawrence'), ('St. Lawrence', 1, 'Right Wing', 'Kaden Pickering', '2021-11-27-Western Michigan-St. Lawrence'), ('St. Lawrence', 2, 'Left Wing', 'Nicholas Trela', '2021-11-27-Western Michigan-St. Lawrence'), ('St. Lawrence', 2, 'Center', 'Max Dorrington', '2021-11-27-Western Michigan-St. Lawrence'), ('St. Lawrence', 2, 'Right Wing', 'Justin Paul', '2021-11-27-Western Michigan-St. Lawrence'), ('St. Lawrence', 3, 'Left Wing', 'Aleksi Peltonen', '2021-11-27-Western Michigan-St. Lawrence'), ('St. Lawrence', 3, 'Center', 'Cameron Buhl', '2021-11-27-Western Michigan-St. Lawrence')  ... displaying 10 of 43 total bound parameter sets ...  ('Western Michigan', 'Goalie 1', 'Goalie', 'Brandon Bussi', '2021-11-27-Western Michigan-St. Lawrence'), ('Western Michigan', 'Goalie 2', 'Goalie', 'Ross Hawryluk', '2021-11-27-Western Michigan-St. Lawrence')]]\n",
      "(Background on this error at: https://sqlalche.me/e/20/e3q8)\n"
     ]
    },
    {
     "name": "stderr",
     "output_type": "stream",
     "text": [
      "Scraping games:  37%|███▋      | 410/1106 [19:30<34:59,  3.02s/it]"
     ]
    },
    {
     "name": "stdout",
     "output_type": "stream",
     "text": [
      "Error saving to table line_chart: (sqlite3.OperationalError) table line_chart has no column named Team\n",
      "[SQL: INSERT INTO line_chart (\"Team\", \"Line\", \"Position\", \"Player\", \"Game_ID\") VALUES (?, ?, ?, ?, ?)]\n",
      "[parameters: [('Princeton', 1, 'Left Wing', 'Corey Andonovski', '2021-11-27-RIT-Princeton'), ('Princeton', 1, 'Center', 'Luke Keenan', '2021-11-27-RIT-Princeton'), ('Princeton', 1, 'Right Wing', 'Ian Murphy', '2021-11-27-RIT-Princeton'), ('Princeton', 2, 'Left Wing', 'Matt Hayami', '2021-11-27-RIT-Princeton'), ('Princeton', 2, 'Center', 'Alex Konovolov', '2021-11-27-RIT-Princeton'), ('Princeton', 2, 'Right Wing', 'Spencer Kersten', '2021-11-27-RIT-Princeton'), ('Princeton', 3, 'Left Wing', 'Liam Gorman', '2021-11-27-RIT-Princeton'), ('Princeton', 3, 'Center', \"Christian O'Neill\", '2021-11-27-RIT-Princeton')  ... displaying 10 of 46 total bound parameter sets ...  ('RIT', 'Goalie 2', 'Goalie', 'Daniel Chenard', '2021-11-27-RIT-Princeton'), ('RIT', 'Goalie 3', 'Goalie', 'Tommy Scarfone', '2021-11-27-RIT-Princeton')]]\n",
      "(Background on this error at: https://sqlalche.me/e/20/e3q8)\n"
     ]
    },
    {
     "name": "stderr",
     "output_type": "stream",
     "text": [
      "Scraping games:  37%|███▋      | 411/1106 [19:34<35:06,  3.03s/it]"
     ]
    },
    {
     "name": "stdout",
     "output_type": "stream",
     "text": [
      "Error saving to table line_chart: (sqlite3.OperationalError) table line_chart has no column named Team\n",
      "[SQL: INSERT INTO line_chart (\"Team\", \"Line\", \"Position\", \"Player\", \"Game_ID\") VALUES (?, ?, ?, ?, ?)]\n",
      "[parameters: [('Brown', 1, 'Left Wing', 'Wyatt Schlaht', '2021-11-27-Providence-Brown'), ('Brown', 1, 'Center', 'Michael Maloney', '2021-11-27-Providence-Brown'), ('Brown', 1, 'Right Wing', 'Justin Jallen', '2021-11-27-Providence-Brown'), ('Brown', 2, 'Left Wing', 'Nathan Plessis', '2021-11-27-Providence-Brown'), ('Brown', 2, 'Center', 'Cole Quisenberry', '2021-11-27-Providence-Brown'), ('Brown', 2, 'Right Wing', 'Jonny Russell', '2021-11-27-Providence-Brown'), ('Brown', 3, 'Left Wing', 'Brendan Clark', '2021-11-27-Providence-Brown'), ('Brown', 3, 'Center', 'Lynden Grandberg', '2021-11-27-Providence-Brown')  ... displaying 10 of 43 total bound parameter sets ...  ('Providence', 'Goalie 2', 'Goalie', 'Jimmy Scannell', '2021-11-27-Providence-Brown'), ('Providence', 'Goalie 3', 'Goalie', 'Jaxson Stauber', '2021-11-27-Providence-Brown')]]\n",
      "(Background on this error at: https://sqlalche.me/e/20/e3q8)\n"
     ]
    },
    {
     "name": "stderr",
     "output_type": "stream",
     "text": [
      "Scraping games:  37%|███▋      | 412/1106 [19:36<33:44,  2.92s/it]"
     ]
    },
    {
     "name": "stdout",
     "output_type": "stream",
     "text": [
      "Error saving to table line_chart: (sqlite3.OperationalError) table line_chart has no column named Team\n",
      "[SQL: INSERT INTO line_chart (\"Team\", \"Line\", \"Position\", \"Player\", \"Game_ID\") VALUES (?, ?, ?, ?, ?)]\n",
      "[parameters: [('Alaska', 1, 'Left Wing', 'Chase Dubois', '2021-11-27-Alaska-Minnesota-Duluth'), ('Alaska', 1, 'Center', 'Payton Matsui', '2021-11-27-Alaska-Minnesota-Duluth'), ('Alaska', 1, 'Right Wing', 'Brady Risk', '2021-11-27-Alaska-Minnesota-Duluth'), ('Alaska', 2, 'Left Wing', 'Caleb Hite', '2021-11-27-Alaska-Minnesota-Duluth'), ('Alaska', 2, 'Center', 'Eriks Zohovs', '2021-11-27-Alaska-Minnesota-Duluth'), ('Alaska', 2, 'Right Wing', 'Matt Koethe', '2021-11-27-Alaska-Minnesota-Duluth'), ('Alaska', 3, 'Left Wing', 'Anton Rubtsov', '2021-11-27-Alaska-Minnesota-Duluth'), ('Alaska', 3, 'Center', 'Colin Doyle', '2021-11-27-Alaska-Minnesota-Duluth')  ... displaying 10 of 43 total bound parameter sets ...  ('Minnesota-Duluth', 'Goalie 2', 'Goalie', 'Ryan Fanti', '2021-11-27-Alaska-Minnesota-Duluth'), ('Minnesota-Duluth', 'Goalie 3', 'Goalie', 'Brady Anderson', '2021-11-27-Alaska-Minnesota-Duluth')]]\n",
      "(Background on this error at: https://sqlalche.me/e/20/e3q8)\n"
     ]
    },
    {
     "name": "stderr",
     "output_type": "stream",
     "text": [
      "Scraping games:  37%|███▋      | 413/1106 [19:39<33:39,  2.91s/it]"
     ]
    },
    {
     "name": "stdout",
     "output_type": "stream",
     "text": [
      "Error saving to table line_chart: (sqlite3.OperationalError) table line_chart has no column named Team\n",
      "[SQL: INSERT INTO line_chart (\"Team\", \"Line\", \"Position\", \"Player\", \"Game_ID\") VALUES (?, ?, ?, ?, ?)]\n",
      "[parameters: [('Minnesota', 1, 'Left Wing', 'Grant Cruikshank', '2021-11-27-Minnesota-North Dakota'), ('Minnesota', 1, 'Center', 'Aaron Huglen', '2021-11-27-Minnesota-North Dakota'), ('Minnesota', 1, 'Right Wing', 'Sammy Walker', '2021-11-27-Minnesota-North Dakota'), ('Minnesota', 2, 'Left Wing', 'Matthew Knies', '2021-11-27-Minnesota-North Dakota'), ('Minnesota', 2, 'Center', 'Ben Meyers', '2021-11-27-Minnesota-North Dakota'), ('Minnesota', 2, 'Right Wing', 'Chaz Lucius', '2021-11-27-Minnesota-North Dakota'), ('Minnesota', 3, 'Left Wing', 'Blake McLaughlin', '2021-11-27-Minnesota-North Dakota'), ('Minnesota', 3, 'Center', 'Jaxon Nelson', '2021-11-27-Minnesota-North Dakota')  ... displaying 10 of 44 total bound parameter sets ...  ('North Dakota', 'Goalie 2', 'Goalie', 'Harrison Feeney', '2021-11-27-Minnesota-North Dakota'), ('North Dakota', 'Goalie 3', 'Goalie', 'Jakob Hellsten', '2021-11-27-Minnesota-North Dakota')]]\n",
      "(Background on this error at: https://sqlalche.me/e/20/e3q8)\n"
     ]
    },
    {
     "name": "stderr",
     "output_type": "stream",
     "text": [
      "Scraping games:  37%|███▋      | 414/1106 [19:42<33:03,  2.87s/it]"
     ]
    },
    {
     "name": "stdout",
     "output_type": "stream",
     "text": [
      "Error saving to table line_chart: (sqlite3.OperationalError) table line_chart has no column named Team\n",
      "[SQL: INSERT INTO line_chart (\"Team\", \"Line\", \"Position\", \"Player\", \"Game_ID\") VALUES (?, ?, ?, ?, ?)]\n",
      "[parameters: [('Boston University', 1, 'Left Wing', 'Logan Cockerill', '2021-11-27-Boston University-Cornell'), ('Boston University', 1, 'Center', \"Jay O'Brien\", '2021-11-27-Boston University-Cornell'), ('Boston University', 1, 'Right Wing', 'Dylan Peterson', '2021-11-27-Boston University-Cornell'), ('Boston University', 2, 'Left Wing', 'Max Kaufman', '2021-11-27-Boston University-Cornell'), ('Boston University', 2, 'Center', 'Ty Amonte', '2021-11-27-Boston University-Cornell'), ('Boston University', 2, 'Right Wing', 'Brian Carrabes', '2021-11-27-Boston University-Cornell'), ('Boston University', 3, 'Left Wing', 'Luke Tuch', '2021-11-27-Boston University-Cornell'), ('Boston University', 3, 'Center', 'Wilmer Skoog', '2021-11-27-Boston University-Cornell')  ... displaying 10 of 44 total bound parameter sets ...  ('Cornell', 'Goalie 2', 'Goalie', 'Joe Howe', '2021-11-27-Boston University-Cornell'), ('Cornell', 'Goalie 3', 'Goalie', 'Ian Shane', '2021-11-27-Boston University-Cornell')]]\n",
      "(Background on this error at: https://sqlalche.me/e/20/e3q8)\n"
     ]
    },
    {
     "name": "stderr",
     "output_type": "stream",
     "text": [
      "Scraping games:  38%|███▊      | 415/1106 [19:45<32:47,  2.85s/it]"
     ]
    },
    {
     "name": "stdout",
     "output_type": "stream",
     "text": [
      "Error saving to table line_chart: (sqlite3.OperationalError) table line_chart has no column named Team\n",
      "[SQL: INSERT INTO line_chart (\"Team\", \"Line\", \"Position\", \"Player\", \"Game_ID\") VALUES (?, ?, ?, ?, ?)]\n",
      "[parameters: [('Maine', 1, 'Left Wing', 'Ben Poisson', '2021-11-27-Mass.-Lowell-Maine'), ('Maine', 1, 'Center', 'Nolan Renwick', '2021-11-27-Mass.-Lowell-Maine'), ('Maine', 1, 'Right Wing', 'Adam Dawe', '2021-11-27-Mass.-Lowell-Maine'), ('Maine', 2, 'Left Wing', 'John Mulera', '2021-11-27-Mass.-Lowell-Maine'), ('Maine', 2, 'Center', 'Lynden Breen', '2021-11-27-Mass.-Lowell-Maine'), ('Maine', 2, 'Right Wing', 'Donavan Villeneuve-Houle', '2021-11-27-Mass.-Lowell-Maine'), ('Maine', 3, 'Left Wing', 'Keenan Suthers', '2021-11-27-Mass.-Lowell-Maine'), ('Maine', 3, 'Center', 'Grant Hebert', '2021-11-27-Mass.-Lowell-Maine')  ... displaying 10 of 40 total bound parameter sets ...  ('Mass.-Lowell', 1, 'Extra', 'Stefan', '2021-11-27-Mass.-Lowell-Maine'), ('Mass.-Lowell', 'Goalie 1', 'Goalie', 'Owen Savory', '2021-11-27-Mass.-Lowell-Maine')]]\n",
      "(Background on this error at: https://sqlalche.me/e/20/e3q8)\n"
     ]
    },
    {
     "name": "stderr",
     "output_type": "stream",
     "text": [
      "Scraping games:  38%|███▊      | 416/1106 [19:47<31:34,  2.75s/it]"
     ]
    },
    {
     "name": "stdout",
     "output_type": "stream",
     "text": [
      "Error saving to table line_chart: (sqlite3.OperationalError) table line_chart has no column named Team\n",
      "[SQL: INSERT INTO line_chart (\"Team\", \"Line\", \"Position\", \"Player\", \"Game_ID\") VALUES (?, ?, ?, ?, ?)]\n",
      "[parameters: [('Lake Superior', 1, 'Left Wing', 'Miroslav Mucha', '2021-11-27-Minnesota State-Lake Superior'), ('Lake Superior', 1, 'Center', 'Louis Boudon', '2021-11-27-Minnesota State-Lake Superior'), ('Lake Superior', 1, 'Right Wing', 'Brandon Puricelli', '2021-11-27-Minnesota State-Lake Superior'), ('Lake Superior', 2, 'Left Wing', 'Logan Jenuwine', '2021-11-27-Minnesota State-Lake Superior'), ('Lake Superior', 2, 'Center', 'Dustin Manz', '2021-11-27-Minnesota State-Lake Superior'), ('Lake Superior', 2, 'Right Wing', 'Josh Nixon', '2021-11-27-Minnesota State-Lake Superior'), ('Lake Superior', 3, 'Left Wing', 'Dawson Tritt', '2021-11-27-Minnesota State-Lake Superior'), ('Lake Superior', 3, 'Center', 'Timo Bakos', '2021-11-27-Minnesota State-Lake Superior')  ... displaying 10 of 42 total bound parameter sets ...  ('Minnesota State', 'Goalie 1', 'Goalie', 'Dryden McKay', '2021-11-27-Minnesota State-Lake Superior'), ('Minnesota State', 'Goalie 2', 'Goalie', 'Keenan Rancier', '2021-11-27-Minnesota State-Lake Superior')]]\n",
      "(Background on this error at: https://sqlalche.me/e/20/e3q8)\n"
     ]
    },
    {
     "name": "stderr",
     "output_type": "stream",
     "text": [
      "Scraping games:  38%|███▊      | 417/1106 [19:50<31:49,  2.77s/it]"
     ]
    },
    {
     "name": "stdout",
     "output_type": "stream",
     "text": [
      "Error saving to table line_chart: (sqlite3.OperationalError) table line_chart has no column named Team\n",
      "[SQL: INSERT INTO line_chart (\"Team\", \"Line\", \"Position\", \"Player\", \"Game_ID\") VALUES (?, ?, ?, ?, ?)]\n",
      "[parameters: [('Ferris State', 1, 'Left Wing', 'Liam MacDougall', '2021-11-27-Ferris State-Michigan Tech'), ('Ferris State', 1, 'Center', 'Jason Brancheau', '2021-11-27-Ferris State-Michigan Tech'), ('Ferris State', 1, 'Right Wing', 'Justin Michaelian', '2021-11-27-Ferris State-Michigan Tech'), ('Ferris State', 2, 'Left Wing', 'Antonio Venuto', '2021-11-27-Ferris State-Michigan Tech'), ('Ferris State', 2, 'Center', 'Stepan Pokorny', '2021-11-27-Ferris State-Michigan Tech'), ('Ferris State', 2, 'Right Wing', 'Marshall Moise', '2021-11-27-Ferris State-Michigan Tech'), ('Ferris State', 3, 'Left Wing', 'Connor Fedorek', '2021-11-27-Ferris State-Michigan Tech'), ('Ferris State', 3, 'Center', 'Bradley Marek', '2021-11-27-Ferris State-Michigan Tech')  ... displaying 10 of 44 total bound parameter sets ...  ('Michigan Tech', 'Goalie 1', 'Goalie', 'Blake Pietila', '2021-11-27-Ferris State-Michigan Tech'), ('Michigan Tech', 'Goalie 2', 'Goalie', 'Cayden Bailey', '2021-11-27-Ferris State-Michigan Tech')]]\n",
      "(Background on this error at: https://sqlalche.me/e/20/e3q8)\n"
     ]
    },
    {
     "name": "stderr",
     "output_type": "stream",
     "text": [
      "Scraping games:  38%|███▊      | 418/1106 [19:53<32:50,  2.86s/it]"
     ]
    },
    {
     "name": "stdout",
     "output_type": "stream",
     "text": [
      "Error saving to table line_chart: (sqlite3.OperationalError) table line_chart has no column named Team\n",
      "[SQL: INSERT INTO line_chart (\"Team\", \"Line\", \"Position\", \"Player\", \"Game_ID\") VALUES (?, ?, ?, ?, ?)]\n",
      "[parameters: [('Bowling Green', 1, 'Left Wing', 'Coale Norris', '2021-11-27-Bowling Green-Northern Michigan'), ('Bowling Green', 1, 'Center', 'Austen Swankler', '2021-11-27-Bowling Green-Northern Michigan'), ('Bowling Green', 1, 'Right Wing', 'Nathan Burke', '2021-11-27-Bowling Green-Northern Michigan'), ('Bowling Green', 2, 'Left Wing', 'Sam Craggs', '2021-11-27-Bowling Green-Northern Michigan'), ('Bowling Green', 2, 'Center', 'Taylor Schneider', '2021-11-27-Bowling Green-Northern Michigan'), ('Bowling Green', 2, 'Right Wing', 'Alex Barber', '2021-11-27-Bowling Green-Northern Michigan'), ('Bowling Green', 3, 'Left Wing', 'Spencer Schneider', '2021-11-27-Bowling Green-Northern Michigan'), ('Bowling Green', 3, 'Center', 'Ethan Scardina', '2021-11-27-Bowling Green-Northern Michigan')  ... displaying 10 of 40 total bound parameter sets ...  ('Northern Michigan', 1, 'Extra', 'Connor', '2021-11-27-Bowling Green-Northern Michigan'), ('Northern Michigan', 'Goalie 1', 'Goalie', 'Charlie Glockner', '2021-11-27-Bowling Green-Northern Michigan')]]\n",
      "(Background on this error at: https://sqlalche.me/e/20/e3q8)\n"
     ]
    },
    {
     "name": "stderr",
     "output_type": "stream",
     "text": [
      "Scraping games:  38%|███▊      | 420/1106 [19:59<32:31,  2.84s/it]"
     ]
    },
    {
     "name": "stdout",
     "output_type": "stream",
     "text": [
      "Error saving to table line_chart: (sqlite3.OperationalError) table line_chart has no column named Team\n",
      "[SQL: INSERT INTO line_chart (\"Team\", \"Line\", \"Position\", \"Player\", \"Game_ID\") VALUES (?, ?, ?, ?, ?)]\n",
      "[parameters: [('Dartmouth', 1, 'Left Wing', 'Mark Gallant', '2021-11-28-Vermont-Dartmouth'), ('Dartmouth', 1, 'Center', 'Sean Chisholm', '2021-11-28-Vermont-Dartmouth'), ('Dartmouth', 1, 'Right Wing', 'Jeff Losurdo', '2021-11-28-Vermont-Dartmouth'), ('Dartmouth', 2, 'Left Wing', 'Matt Hubbarde', '2021-11-28-Vermont-Dartmouth'), ('Dartmouth', 2, 'Center', 'Sam Hesler', '2021-11-28-Vermont-Dartmouth'), ('Dartmouth', 2, 'Right Wing', 'Trym Lokkeberg', '2021-11-28-Vermont-Dartmouth'), ('Dartmouth', 3, 'Left Wing', 'Nick Unruh', '2021-11-28-Vermont-Dartmouth'), ('Dartmouth', 3, 'Center', 'Tyler Campbell', '2021-11-28-Vermont-Dartmouth')  ... displaying 10 of 43 total bound parameter sets ...  ('Vermont', 'Goalie 2', 'Goalie', 'Gabe Carriere', '2021-11-28-Vermont-Dartmouth'), ('Vermont', 'Goalie 3', 'Goalie', 'Cole Hudson', '2021-11-28-Vermont-Dartmouth')]]\n",
      "(Background on this error at: https://sqlalche.me/e/20/e3q8)\n"
     ]
    },
    {
     "name": "stderr",
     "output_type": "stream",
     "text": [
      "Scraping games:  38%|███▊      | 422/1106 [20:04<32:40,  2.87s/it]"
     ]
    },
    {
     "name": "stdout",
     "output_type": "stream",
     "text": [
      "Error saving to table line_chart: (sqlite3.OperationalError) table line_chart has no column named Team\n",
      "[SQL: INSERT INTO line_chart (\"Team\", \"Line\", \"Position\", \"Player\", \"Game_ID\") VALUES (?, ?, ?, ?, ?)]\n",
      "[parameters: [('Michigan', 1, 'Left Wing', 'Kent Johnson', '2021-12-03-Minnesota-Michigan'), ('Michigan', 1, 'Center', 'Matty Beniers', '2021-12-03-Minnesota-Michigan'), ('Michigan', 1, 'Right Wing', 'Jimmy Lambert', '2021-12-03-Minnesota-Michigan'), ('Michigan', 2, 'Left Wing', 'Michael Pastujov', '2021-12-03-Minnesota-Michigan'), ('Michigan', 2, 'Center', 'Thomas Bordeleau', '2021-12-03-Minnesota-Michigan'), ('Michigan', 2, 'Right Wing', 'Brendan Brisson', '2021-12-03-Minnesota-Michigan'), ('Michigan', 3, 'Left Wing', 'Dylan Duke', '2021-12-03-Minnesota-Michigan'), ('Michigan', 3, 'Center', 'Johnny Beecher', '2021-12-03-Minnesota-Michigan')  ... displaying 10 of 46 total bound parameter sets ...  ('Minnesota', 'Goalie 2', 'Goalie', 'Justen Close', '2021-12-03-Minnesota-Michigan'), ('Minnesota', 'Goalie 3', 'Goalie', 'Brennan Boynton', '2021-12-03-Minnesota-Michigan')]]\n",
      "(Background on this error at: https://sqlalche.me/e/20/e3q8)\n"
     ]
    },
    {
     "name": "stderr",
     "output_type": "stream",
     "text": [
      "Scraping games:  38%|███▊      | 423/1106 [20:07<32:27,  2.85s/it]"
     ]
    },
    {
     "name": "stdout",
     "output_type": "stream",
     "text": [
      "Error saving to table line_chart: (sqlite3.OperationalError) table line_chart has no column named Team\n",
      "[SQL: INSERT INTO line_chart (\"Team\", \"Line\", \"Position\", \"Player\", \"Game_ID\") VALUES (?, ?, ?, ?, ?)]\n",
      "[parameters: [('Michigan State', 1, 'Left Wing', 'Erik Middendorf', '2021-12-03-Michigan State-Penn State'), ('Michigan State', 1, 'Center', 'Josh Nodler', '2021-12-03-Michigan State-Penn State'), ('Michigan State', 1, 'Right Wing', 'Griffin Loughran', '2021-12-03-Michigan State-Penn State'), ('Michigan State', 2, 'Left Wing', 'Jagger Joshua', '2021-12-03-Michigan State-Penn State'), ('Michigan State', 2, 'Center', 'Nicolas Muller', '2021-12-03-Michigan State-Penn State'), ('Michigan State', 2, 'Right Wing', 'Tanner Kelly', '2021-12-03-Michigan State-Penn State'), ('Michigan State', 3, 'Left Wing', 'Mitchell Lewandowski', '2021-12-03-Michigan State-Penn State'), ('Michigan State', 3, 'Center', 'Jesse Tucker', '2021-12-03-Michigan State-Penn State')  ... displaying 10 of 44 total bound parameter sets ...  ('Penn State', 'Goalie 2', 'Goalie', 'Liam Souliere', '2021-12-03-Michigan State-Penn State'), ('Penn State', 'Goalie 3', 'Goalie', 'Doug Dorr', '2021-12-03-Michigan State-Penn State')]]\n",
      "(Background on this error at: https://sqlalche.me/e/20/e3q8)\n"
     ]
    },
    {
     "name": "stderr",
     "output_type": "stream",
     "text": [
      "Scraping games:  38%|███▊      | 424/1106 [20:10<33:13,  2.92s/it]"
     ]
    },
    {
     "name": "stdout",
     "output_type": "stream",
     "text": [
      "Error saving to table line_chart: (sqlite3.OperationalError) table line_chart has no column named Team\n",
      "[SQL: INSERT INTO line_chart (\"Team\", \"Line\", \"Position\", \"Player\", \"Game_ID\") VALUES (?, ?, ?, ?, ?)]\n",
      "[parameters: [('Notre Dame', 1, 'Left Wing', 'Landon Slaggert', '2021-12-03-Ohio State-Notre Dame'), ('Notre Dame', 1, 'Center', 'Graham Slaggert', '2021-12-03-Ohio State-Notre Dame'), ('Notre Dame', 1, 'Right Wing', 'Ryder Rolston', '2021-12-03-Ohio State-Notre Dame'), ('Notre Dame', 2, 'Left Wing', 'Jesse Lansdell', '2021-12-03-Ohio State-Notre Dame'), ('Notre Dame', 2, 'Center', 'Trevor Janicke', '2021-12-03-Ohio State-Notre Dame'), ('Notre Dame', 2, 'Right Wing', 'Max Ellis', '2021-12-03-Ohio State-Notre Dame'), ('Notre Dame', 3, 'Left Wing', 'Grant Silianoff', '2021-12-03-Ohio State-Notre Dame'), ('Notre Dame', 3, 'Center', 'Cam Burke', '2021-12-03-Ohio State-Notre Dame')  ... displaying 10 of 43 total bound parameter sets ...  ('Ohio State', 'Goalie 1', 'Goalie', 'Ryan Snowden', '2021-12-03-Ohio State-Notre Dame'), ('Ohio State', 'Goalie 2', 'Goalie', 'Jakub Dobeš', '2021-12-03-Ohio State-Notre Dame')]]\n",
      "(Background on this error at: https://sqlalche.me/e/20/e3q8)\n"
     ]
    },
    {
     "name": "stderr",
     "output_type": "stream",
     "text": [
      "Scraping games:  38%|███▊      | 425/1106 [20:13<33:41,  2.97s/it]"
     ]
    },
    {
     "name": "stdout",
     "output_type": "stream",
     "text": [
      "Error saving to table line_chart: (sqlite3.OperationalError) table line_chart has no column named Team\n",
      "[SQL: INSERT INTO line_chart (\"Team\", \"Line\", \"Position\", \"Player\", \"Game_ID\") VALUES (?, ?, ?, ?, ?)]\n",
      "[parameters: [('Minnesota-Duluth', 1, 'Left Wing', 'Noah Cates', '2021-12-03-Minnesota-Duluth-Northern Michigan'), ('Minnesota-Duluth', 1, 'Center', 'Casey Gilling', '2021-12-03-Minnesota-Duluth-Northern Michigan'), ('Minnesota-Duluth', 1, 'Right Wing', 'Tanner Laderoute', '2021-12-03-Minnesota-Duluth-Northern Michigan'), ('Minnesota-Duluth', 2, 'Left Wing', 'Kobe Roth', '2021-12-03-Minnesota-Duluth-Northern Michigan'), ('Minnesota-Duluth', 2, 'Center', 'Jesse Jacques', '2021-12-03-Minnesota-Duluth-Northern Michigan'), ('Minnesota-Duluth', 2, 'Right Wing', 'Koby Bender', '2021-12-03-Minnesota-Duluth-Northern Michigan'), ('Minnesota-Duluth', 3, 'Left Wing', 'Quinn Olson', '2021-12-03-Minnesota-Duluth-Northern Michigan'), ('Minnesota-Duluth', 3, 'Center', 'Dominic James', '2021-12-03-Minnesota-Duluth-Northern Michigan')  ... displaying 10 of 40 total bound parameter sets ...  ('Northern Michigan', 1, 'Extra', 'Connor', '2021-12-03-Minnesota-Duluth-Northern Michigan'), ('Northern Michigan', 'Goalie 1', 'Goalie', 'Rico DiMatteo', '2021-12-03-Minnesota-Duluth-Northern Michigan')]]\n",
      "(Background on this error at: https://sqlalche.me/e/20/e3q8)\n"
     ]
    },
    {
     "name": "stderr",
     "output_type": "stream",
     "text": [
      "Scraping games:  39%|███▊      | 426/1106 [20:16<33:33,  2.96s/it]"
     ]
    },
    {
     "name": "stdout",
     "output_type": "stream",
     "text": [
      "Error saving to table line_chart: (sqlite3.OperationalError) table line_chart has no column named Team\n",
      "[SQL: INSERT INTO line_chart (\"Team\", \"Line\", \"Position\", \"Player\", \"Game_ID\") VALUES (?, ?, ?, ?, ?)]\n",
      "[parameters: [('Denver', 1, 'Left Wing', 'Carter Savoie', '2021-12-03-Denver-Arizona State'), ('Denver', 1, 'Center', 'Cole Guttman', '2021-12-03-Denver-Arizona State'), ('Denver', 1, 'Right Wing', 'Bobby Brink', '2021-12-03-Denver-Arizona State'), ('Denver', 2, 'Left Wing', 'Carter Mazur', '2021-12-03-Denver-Arizona State'), ('Denver', 2, 'Center', 'Massimo Rizzo', '2021-12-03-Denver-Arizona State'), ('Denver', 2, 'Right Wing', 'Cameron Wright', '2021-12-03-Denver-Arizona State'), ('Denver', 3, 'Left Wing', 'Ryan Barrow', '2021-12-03-Denver-Arizona State'), ('Denver', 3, 'Center', 'Brett Stapley', '2021-12-03-Denver-Arizona State')  ... displaying 10 of 42 total bound parameter sets ...  ('Arizona State', 'Goalie 1', 'Goalie', 'Ben Kraws', '2021-12-03-Denver-Arizona State'), ('Arizona State', 'Goalie 2', 'Goalie', 'Cole Brady', '2021-12-03-Denver-Arizona State')]]\n",
      "(Background on this error at: https://sqlalche.me/e/20/e3q8)\n"
     ]
    },
    {
     "name": "stderr",
     "output_type": "stream",
     "text": [
      "Scraping games:  39%|███▊      | 427/1106 [20:19<33:19,  2.94s/it]"
     ]
    },
    {
     "name": "stdout",
     "output_type": "stream",
     "text": [
      "Error saving to table line_chart: (sqlite3.OperationalError) table line_chart has no column named Team\n",
      "[SQL: INSERT INTO line_chart (\"Team\", \"Line\", \"Position\", \"Player\", \"Game_ID\") VALUES (?, ?, ?, ?, ?)]\n",
      "[parameters: [('Holy Cross', 1, 'Left Wing', 'Lucas Thorne', '2021-12-03-Niagara-Holy Cross'), ('Holy Cross', 1, 'Center', 'Matt Guerra', '2021-12-03-Niagara-Holy Cross'), ('Holy Cross', 1, 'Right Wing', 'Jack Ricketts', '2021-12-03-Niagara-Holy Cross'), ('Holy Cross', 2, 'Left Wing', 'John Gelatt', '2021-12-03-Niagara-Holy Cross'), ('Holy Cross', 2, 'Center', 'Alex Peterson', '2021-12-03-Niagara-Holy Cross'), ('Holy Cross', 2, 'Right Wing', 'Alec Cicero', '2021-12-03-Niagara-Holy Cross'), ('Holy Cross', 3, 'Left Wing', 'Anthony Vincent', '2021-12-03-Niagara-Holy Cross'), ('Holy Cross', 3, 'Center', 'Bobby Young', '2021-12-03-Niagara-Holy Cross')  ... displaying 10 of 44 total bound parameter sets ...  ('Niagara', 'Goalie 2', 'Goalie', 'Chad Veltri', '2021-12-03-Niagara-Holy Cross'), ('Niagara', 'Goalie 3', 'Goalie', 'Jake Sibell', '2021-12-03-Niagara-Holy Cross')]]\n",
      "(Background on this error at: https://sqlalche.me/e/20/e3q8)\n"
     ]
    },
    {
     "name": "stderr",
     "output_type": "stream",
     "text": [
      "Scraping games:  39%|███▊      | 428/1106 [20:22<33:02,  2.92s/it]"
     ]
    },
    {
     "name": "stdout",
     "output_type": "stream",
     "text": [
      "Error saving to table line_chart: (sqlite3.OperationalError) table line_chart has no column named Team\n",
      "[SQL: INSERT INTO line_chart (\"Team\", \"Line\", \"Position\", \"Player\", \"Game_ID\") VALUES (?, ?, ?, ?, ?)]\n",
      "[parameters: [('Bentley', 1, 'Left Wing', 'Collin Rutherford', '2021-12-03-Mercyhurst-Bentley'), ('Bentley', 1, 'Center', 'Matt Gosiewski', '2021-12-03-Mercyhurst-Bentley'), ('Bentley', 1, 'Right Wing', 'Michael Zuffante', '2021-12-03-Mercyhurst-Bentley'), ('Bentley', 2, 'Left Wing', 'Cooper Connell', '2021-12-03-Mercyhurst-Bentley'), ('Bentley', 2, 'Center', 'Harrison Scott', '2021-12-03-Mercyhurst-Bentley'), ('Bentley', 2, 'Right Wing', 'Eric Linell', '2021-12-03-Mercyhurst-Bentley'), ('Bentley', 3, 'Left Wing', 'Cole Kodsi', '2021-12-03-Mercyhurst-Bentley'), ('Bentley', 3, 'Center', 'Lucas Vanroboys', '2021-12-03-Mercyhurst-Bentley')  ... displaying 10 of 44 total bound parameter sets ...  ('Mercyhurst', 'Goalie 2', 'Goalie', 'Kyle McClellan', '2021-12-03-Mercyhurst-Bentley'), ('Mercyhurst', 'Goalie 3', 'Goalie', 'Matt Lenz', '2021-12-03-Mercyhurst-Bentley')]]\n",
      "(Background on this error at: https://sqlalche.me/e/20/e3q8)\n"
     ]
    },
    {
     "name": "stderr",
     "output_type": "stream",
     "text": [
      "Scraping games:  39%|███▉      | 429/1106 [20:25<32:44,  2.90s/it]"
     ]
    },
    {
     "name": "stdout",
     "output_type": "stream",
     "text": [
      "Error saving to table line_chart: (sqlite3.OperationalError) table line_chart has no column named Team\n",
      "[SQL: INSERT INTO line_chart (\"Team\", \"Line\", \"Position\", \"Player\", \"Game_ID\") VALUES (?, ?, ?, ?, ?)]\n",
      "[parameters: [('Air Force', 1, 'Left Wing', 'Nate Horn', '2021-12-03-Canisius-Air Force'), ('Air Force', 1, 'Center', 'Andrew DeCarlo', '2021-12-03-Canisius-Air Force'), ('Air Force', 1, 'Right Wing', 'Willie Reim', '2021-12-03-Canisius-Air Force'), ('Air Force', 2, 'Left Wing', 'Will Gavin', '2021-12-03-Canisius-Air Force'), ('Air Force', 2, 'Center', 'Clayton Cosentino', '2021-12-03-Canisius-Air Force'), ('Air Force', 2, 'Right Wing', 'Austin Schwartz', '2021-12-03-Canisius-Air Force'), ('Air Force', 3, 'Left Wing', 'Bennett Norlin', '2021-12-03-Canisius-Air Force'), ('Air Force', 3, 'Center', 'Jacob Marti', '2021-12-03-Canisius-Air Force')  ... displaying 10 of 43 total bound parameter sets ...  ('Canisius', 'Goalie 1', 'Goalie', 'Jacob Barczewski', '2021-12-03-Canisius-Air Force'), ('Canisius', 'Goalie 2', 'Goalie', 'John Hawthorne', '2021-12-03-Canisius-Air Force')]]\n",
      "(Background on this error at: https://sqlalche.me/e/20/e3q8)\n"
     ]
    },
    {
     "name": "stderr",
     "output_type": "stream",
     "text": [
      "Scraping games:  39%|███▉      | 430/1106 [20:28<32:04,  2.85s/it]"
     ]
    },
    {
     "name": "stdout",
     "output_type": "stream",
     "text": [
      "Error saving to table line_chart: (sqlite3.OperationalError) table line_chart has no column named Team\n",
      "[SQL: INSERT INTO line_chart (\"Team\", \"Line\", \"Position\", \"Player\", \"Game_ID\") VALUES (?, ?, ?, ?, ?)]\n",
      "[parameters: [('Brown', 1, 'Left Wing', 'Justin Jallen', '2021-12-03-Harvard-Brown'), ('Brown', 1, 'Center', 'Tristan Crozier', '2021-12-03-Harvard-Brown'), ('Brown', 1, 'Right Wing', 'Bradley Cocca', '2021-12-03-Harvard-Brown'), ('Brown', 2, 'Left Wing', 'Wyatt Schlaht', '2021-12-03-Harvard-Brown'), ('Brown', 2, 'Center', 'Michael Maloney', '2021-12-03-Harvard-Brown'), ('Brown', 2, 'Right Wing', 'Jordan Tonelli', '2021-12-03-Harvard-Brown'), ('Brown', 3, 'Left Wing', 'Nathan Plessis', '2021-12-03-Harvard-Brown'), ('Brown', 3, 'Center', 'Cole Quisenberry', '2021-12-03-Harvard-Brown')  ... displaying 10 of 44 total bound parameter sets ...  ('Harvard', 'Goalie 1', 'Goalie', 'Derek Mullahy', '2021-12-03-Harvard-Brown'), ('Harvard', 'Goalie 2', 'Goalie', 'Mitchell Gibson', '2021-12-03-Harvard-Brown')]]\n",
      "(Background on this error at: https://sqlalche.me/e/20/e3q8)\n"
     ]
    },
    {
     "name": "stderr",
     "output_type": "stream",
     "text": [
      "Scraping games:  39%|███▉      | 431/1106 [20:31<32:22,  2.88s/it]"
     ]
    },
    {
     "name": "stdout",
     "output_type": "stream",
     "text": [
      "Error saving to table line_chart: (sqlite3.OperationalError) table line_chart has no column named Team\n",
      "[SQL: INSERT INTO line_chart (\"Team\", \"Line\", \"Position\", \"Player\", \"Game_ID\") VALUES (?, ?, ?, ?, ?)]\n",
      "[parameters: [('Quinnipiac', 1, 'Left Wing', 'Michael Lombardi', '2021-12-03-Quinnipiac-Rensselaer'), ('Quinnipiac', 1, 'Center', 'Wyatt Bongiovanni', '2021-12-03-Quinnipiac-Rensselaer'), ('Quinnipiac', 1, 'Right Wing', 'Ty Smilanic', '2021-12-03-Quinnipiac-Rensselaer'), ('Quinnipiac', 2, 'Left Wing', 'Christophe Fillion', '2021-12-03-Quinnipiac-Rensselaer'), ('Quinnipiac', 2, 'Center', 'Desi Burgart', '2021-12-03-Quinnipiac-Rensselaer'), ('Quinnipiac', 2, 'Right Wing', 'Ethan de Jong', '2021-12-03-Quinnipiac-Rensselaer'), ('Quinnipiac', 3, 'Left Wing', 'Oliver Chau', '2021-12-03-Quinnipiac-Rensselaer'), ('Quinnipiac', 3, 'Center', \"Skyler Brind'Amour\", '2021-12-03-Quinnipiac-Rensselaer')  ... displaying 10 of 44 total bound parameter sets ...  ('Rensselaer', 'Goalie 1', 'Goalie', 'Linden Marshall', '2021-12-03-Quinnipiac-Rensselaer'), ('Rensselaer', 'Goalie 2', 'Goalie', 'Brett Miller', '2021-12-03-Quinnipiac-Rensselaer')]]\n",
      "(Background on this error at: https://sqlalche.me/e/20/e3q8)\n"
     ]
    },
    {
     "name": "stderr",
     "output_type": "stream",
     "text": [
      "Scraping games:  39%|███▉      | 432/1106 [20:34<32:29,  2.89s/it]"
     ]
    },
    {
     "name": "stdout",
     "output_type": "stream",
     "text": [
      "Error saving to table line_chart: (sqlite3.OperationalError) table line_chart has no column named Team\n",
      "[SQL: INSERT INTO line_chart (\"Team\", \"Line\", \"Position\", \"Player\", \"Game_ID\") VALUES (?, ?, ?, ?, ?)]\n",
      "[parameters: [('Princeton', 1, 'Left Wing', 'Corey Andonovski', '2021-12-03-Princeton-Union'), ('Princeton', 1, 'Center', \"Christian O'Neill\", '2021-12-03-Princeton-Union'), ('Princeton', 1, 'Right Wing', 'Ian Murphy', '2021-12-03-Princeton-Union'), ('Princeton', 2, 'Left Wing', 'Liam Gorman', '2021-12-03-Princeton-Union'), ('Princeton', 2, 'Center', 'Luke Keenan', '2021-12-03-Princeton-Union'), ('Princeton', 2, 'Right Wing', 'Spencer Kersten', '2021-12-03-Princeton-Union'), ('Princeton', 3, 'Left Wing', 'Mackenzie Merriman', '2021-12-03-Princeton-Union'), ('Princeton', 3, 'Center', 'Joe Berg', '2021-12-03-Princeton-Union')  ... displaying 10 of 43 total bound parameter sets ...  ('Union', 'Goalie 2', 'Goalie', 'Merek Pipes', '2021-12-03-Princeton-Union'), ('Union', 'Goalie 3', 'Goalie', 'Connor Murphy', '2021-12-03-Princeton-Union')]]\n",
      "(Background on this error at: https://sqlalche.me/e/20/e3q8)\n"
     ]
    },
    {
     "name": "stderr",
     "output_type": "stream",
     "text": [
      "Scraping games:  39%|███▉      | 434/1106 [20:39<32:33,  2.91s/it]"
     ]
    },
    {
     "name": "stdout",
     "output_type": "stream",
     "text": [
      "Error saving to table line_chart: (sqlite3.OperationalError) table line_chart has no column named Team\n",
      "[SQL: INSERT INTO line_chart (\"Team\", \"Line\", \"Position\", \"Player\", \"Game_ID\") VALUES (?, ?, ?, ?, ?)]\n",
      "[parameters: [('Cornell', 1, 'Left Wing', 'Kyler Kovich', '2021-12-03-Cornell-St. Lawrence'), ('Cornell', 1, 'Center', 'Max Andreev', '2021-12-03-Cornell-St. Lawrence'), ('Cornell', 1, 'Right Wing', 'Matt Stienburg', '2021-12-03-Cornell-St. Lawrence'), ('Cornell', 2, 'Left Wing', 'Ben Tupker', '2021-12-03-Cornell-St. Lawrence'), ('Cornell', 2, 'Center', 'Zach Tupker', '2021-12-03-Cornell-St. Lawrence'), ('Cornell', 2, 'Right Wing', 'Liam Motley', '2021-12-03-Cornell-St. Lawrence'), ('Cornell', 3, 'Left Wing', 'Ben Berard', '2021-12-03-Cornell-St. Lawrence'), ('Cornell', 3, 'Center', 'Brenden Locke', '2021-12-03-Cornell-St. Lawrence')  ... displaying 10 of 43 total bound parameter sets ...  ('St. Lawrence', 'Goalie 2', 'Goalie', 'Francis Boisvert', '2021-12-03-Cornell-St. Lawrence'), ('St. Lawrence', 'Goalie 3', 'Goalie', 'Grant Adams', '2021-12-03-Cornell-St. Lawrence')]]\n",
      "(Background on this error at: https://sqlalche.me/e/20/e3q8)\n"
     ]
    },
    {
     "name": "stderr",
     "output_type": "stream",
     "text": [
      "Scraping games:  39%|███▉      | 435/1106 [20:42<32:56,  2.95s/it]"
     ]
    },
    {
     "name": "stdout",
     "output_type": "stream",
     "text": [
      "Error saving to table line_chart: (sqlite3.OperationalError) table line_chart has no column named Team\n",
      "[SQL: INSERT INTO line_chart (\"Team\", \"Line\", \"Position\", \"Player\", \"Game_ID\") VALUES (?, ?, ?, ?, ?)]\n",
      "[parameters: [('Clarkson', 1, 'Left Wing', 'Chris Klack', '2021-12-03-Colgate-Clarkson'), ('Clarkson', 1, 'Center', 'Zach Tsekos', '2021-12-03-Colgate-Clarkson'), ('Clarkson', 1, 'Right Wing', 'Jack Jacome', '2021-12-03-Colgate-Clarkson'), ('Clarkson', 2, 'Left Wing', 'Ayrton Martino', '2021-12-03-Colgate-Clarkson'), ('Clarkson', 2, 'Center', 'Ryan Richardson', '2021-12-03-Colgate-Clarkson'), ('Clarkson', 2, 'Right Wing', 'Anthony Romano', '2021-12-03-Colgate-Clarkson'), ('Clarkson', 3, 'Left Wing', 'Alex Campbell', '2021-12-03-Colgate-Clarkson'), ('Clarkson', 3, 'Center', 'Mathieu Gosselin', '2021-12-03-Colgate-Clarkson')  ... displaying 10 of 43 total bound parameter sets ...  ('Colgate', 'Goalie 1', 'Goalie', 'Andrew Farrier', '2021-12-03-Colgate-Clarkson'), ('Colgate', 'Goalie 2', 'Goalie', 'Carter Gylander', '2021-12-03-Colgate-Clarkson')]]\n",
      "(Background on this error at: https://sqlalche.me/e/20/e3q8)\n"
     ]
    },
    {
     "name": "stderr",
     "output_type": "stream",
     "text": [
      "Scraping games:  39%|███▉      | 436/1106 [20:45<32:17,  2.89s/it]"
     ]
    },
    {
     "name": "stdout",
     "output_type": "stream",
     "text": [
      "Error saving to table line_chart: (sqlite3.OperationalError) table line_chart has no column named Team\n",
      "[SQL: INSERT INTO line_chart (\"Team\", \"Line\", \"Position\", \"Player\", \"Game_ID\") VALUES (?, ?, ?, ?, ?)]\n",
      "[parameters: [('Maine', 1, 'Left Wing', 'Ben Poisson', '2021-12-03-Vermont-Maine'), ('Maine', 1, 'Center', 'Lynden Breen', '2021-12-03-Vermont-Maine'), ('Maine', 1, 'Right Wing', 'Donavan Villeneuve-Houle', '2021-12-03-Vermont-Maine'), ('Maine', 2, 'Left Wing', '', '2021-12-03-Vermont-Maine'), ('Maine', 2, 'Center', 'Nolan Renwick', '2021-12-03-Vermont-Maine'), ('Maine', 2, 'Right Wing', 'John Mulera', '2021-12-03-Vermont-Maine'), ('Maine', 3, 'Left Wing', 'AJ Drobot', '2021-12-03-Vermont-Maine'), ('Maine', 3, 'Center', 'Grant Hebert', '2021-12-03-Vermont-Maine')  ... displaying 10 of 40 total bound parameter sets ...  ('Vermont', 1, 'Extra', 'Timofei', '2021-12-03-Vermont-Maine'), ('Vermont', 'Goalie 1', 'Goalie', 'Gabe Carriere', '2021-12-03-Vermont-Maine')]]\n",
      "(Background on this error at: https://sqlalche.me/e/20/e3q8)\n"
     ]
    },
    {
     "name": "stderr",
     "output_type": "stream",
     "text": [
      "Scraping games:  40%|███▉      | 437/1106 [20:48<31:48,  2.85s/it]"
     ]
    },
    {
     "name": "stdout",
     "output_type": "stream",
     "text": [
      "Error saving to table line_chart: (sqlite3.OperationalError) table line_chart has no column named Team\n",
      "[SQL: INSERT INTO line_chart (\"Team\", \"Line\", \"Position\", \"Player\", \"Game_ID\") VALUES (?, ?, ?, ?, ?)]\n",
      "[parameters: [('Northeastern', 1, 'Left Wing', 'Aidan McDonough', '2021-12-03-Northeastern-Providence'), ('Northeastern', 1, 'Center', 'Matt Demelis', '2021-12-03-Northeastern-Providence'), ('Northeastern', 1, 'Right Wing', 'Matt Choupani', '2021-12-03-Northeastern-Providence'), ('Northeastern', 2, 'Left Wing', 'Jakov Novak', '2021-12-03-Northeastern-Providence'), ('Northeastern', 2, 'Center', 'Jack Hughes', '2021-12-03-Northeastern-Providence'), ('Northeastern', 2, 'Right Wing', 'Gunnarwolfe Fontaine', '2021-12-03-Northeastern-Providence'), ('Northeastern', 3, 'Left Wing', 'Ryan St. Louis', '2021-12-03-Northeastern-Providence'), ('Northeastern', 3, 'Center', 'Steven Agriogianis', '2021-12-03-Northeastern-Providence')  ... displaying 10 of 44 total bound parameter sets ...  ('Providence', 'Goalie 2', 'Goalie', 'Jimmy Scannell', '2021-12-03-Northeastern-Providence'), ('Providence', 'Goalie 3', 'Goalie', 'Jaxson Stauber', '2021-12-03-Northeastern-Providence')]]\n",
      "(Background on this error at: https://sqlalche.me/e/20/e3q8)\n"
     ]
    },
    {
     "name": "stderr",
     "output_type": "stream",
     "text": [
      "Scraping games:  40%|███▉      | 438/1106 [20:51<31:19,  2.81s/it]"
     ]
    },
    {
     "name": "stdout",
     "output_type": "stream",
     "text": [
      "Error saving to table line_chart: (sqlite3.OperationalError) table line_chart has no column named Team\n",
      "[SQL: INSERT INTO line_chart (\"Team\", \"Line\", \"Position\", \"Player\", \"Game_ID\") VALUES (?, ?, ?, ?, ?)]\n",
      "[parameters: [('Mass.-Lowell', 1, 'Left Wing', 'Andre Lee', '2021-12-03-Massachusetts-Mass.-Lowell'), ('Mass.-Lowell', 1, 'Center', 'Carl Berglund', '2021-12-03-Massachusetts-Mass.-Lowell'), ('Mass.-Lowell', 1, 'Right Wing', 'Brian Chambers', '2021-12-03-Massachusetts-Mass.-Lowell'), ('Mass.-Lowell', 2, 'Left Wing', 'Zach Kaiser', '2021-12-03-Massachusetts-Mass.-Lowell'), ('Mass.-Lowell', 2, 'Center', 'Reid Stefanson', '2021-12-03-Massachusetts-Mass.-Lowell'), ('Mass.-Lowell', 2, 'Right Wing', 'Matt Crasa', '2021-12-03-Massachusetts-Mass.-Lowell'), ('Mass.-Lowell', 3, 'Left Wing', 'Andranik Armstrong-Kingkade', '2021-12-03-Massachusetts-Mass.-Lowell'), ('Mass.-Lowell', 3, 'Center', 'Lucas Condotta', '2021-12-03-Massachusetts-Mass.-Lowell')  ... displaying 10 of 44 total bound parameter sets ...  ('Massachusetts', 'Goalie 2', 'Goalie', 'Henry Graham', '2021-12-03-Massachusetts-Mass.-Lowell'), ('Massachusetts', 'Goalie 3', 'Goalie', 'Luke Pavicich', '2021-12-03-Massachusetts-Mass.-Lowell')]]\n",
      "(Background on this error at: https://sqlalche.me/e/20/e3q8)\n"
     ]
    },
    {
     "name": "stderr",
     "output_type": "stream",
     "text": [
      "Scraping games:  40%|███▉      | 439/1106 [20:54<32:05,  2.89s/it]"
     ]
    },
    {
     "name": "stdout",
     "output_type": "stream",
     "text": [
      "Error saving to table line_chart: (sqlite3.OperationalError) table line_chart has no column named Team\n",
      "[SQL: INSERT INTO line_chart (\"Team\", \"Line\", \"Position\", \"Player\", \"Game_ID\") VALUES (?, ?, ?, ?, ?)]\n",
      "[parameters: [('Boston University', 1, 'Left Wing', 'Robert Mastrosimone', '2021-12-03-New Hampshire-Boston University'), ('Boston University', 1, 'Center', 'Wilmer Skoog', '2021-12-03-New Hampshire-Boston University'), ('Boston University', 1, 'Right Wing', 'Matt Brown', '2021-12-03-New Hampshire-Boston University'), ('Boston University', 2, 'Left Wing', 'Luke Tuch', '2021-12-03-New Hampshire-Boston University'), ('Boston University', 2, 'Center', 'Nick Zabaneh', '2021-12-03-New Hampshire-Boston University'), ('Boston University', 2, 'Right Wing', 'Dylan Peterson', '2021-12-03-New Hampshire-Boston University'), ('Boston University', 3, 'Left Wing', 'Logan Cockerill', '2021-12-03-New Hampshire-Boston University'), ('Boston University', 3, 'Center', 'Ty Amonte', '2021-12-03-New Hampshire-Boston University')  ... displaying 10 of 44 total bound parameter sets ...  ('New Hampshire', 'Goalie 2', 'Goalie', 'David Fessenden', '2021-12-03-New Hampshire-Boston University'), ('New Hampshire', 'Goalie 3', 'Goalie', 'Jeremy Forman', '2021-12-03-New Hampshire-Boston University')]]\n",
      "(Background on this error at: https://sqlalche.me/e/20/e3q8)\n"
     ]
    },
    {
     "name": "stderr",
     "output_type": "stream",
     "text": [
      "Scraping games:  40%|███▉      | 440/1106 [20:57<32:29,  2.93s/it]"
     ]
    },
    {
     "name": "stdout",
     "output_type": "stream",
     "text": [
      "Error saving to table line_chart: (sqlite3.OperationalError) table line_chart has no column named Team\n",
      "[SQL: INSERT INTO line_chart (\"Team\", \"Line\", \"Position\", \"Player\", \"Game_ID\") VALUES (?, ?, ?, ?, ?)]\n",
      "[parameters: [('Colorado College', 1, 'Left Wing', 'Matthew Gleason', '2021-12-03-Colorado College-Omaha'), ('Colorado College', 1, 'Center', 'Hunter McKown', '2021-12-03-Colorado College-Omaha'), ('Colorado College', 1, 'Right Wing', 'Brian Hawkinson', '2021-12-03-Colorado College-Omaha'), ('Colorado College', 2, 'Left Wing', 'Danny Weight', '2021-12-03-Colorado College-Omaha'), ('Colorado College', 2, 'Center', 'Logan Will', '2021-12-03-Colorado College-Omaha'), ('Colorado College', 2, 'Right Wing', 'Jordan Biro', '2021-12-03-Colorado College-Omaha'), ('Colorado College', 3, 'Left Wing', 'Tommy Middleton', '2021-12-03-Colorado College-Omaha'), ('Colorado College', 3, 'Center', 'Noah Prokop', '2021-12-03-Colorado College-Omaha')  ... displaying 10 of 43 total bound parameter sets ...  ('Omaha', 'Goalie 2', 'Goalie', 'Austin Roden', '2021-12-03-Colorado College-Omaha'), ('Omaha', 'Goalie 3', 'Goalie', 'Jacob Zab', '2021-12-03-Colorado College-Omaha')]]\n",
      "(Background on this error at: https://sqlalche.me/e/20/e3q8)\n"
     ]
    },
    {
     "name": "stderr",
     "output_type": "stream",
     "text": [
      "Scraping games:  40%|███▉      | 441/1106 [21:00<33:00,  2.98s/it]"
     ]
    },
    {
     "name": "stdout",
     "output_type": "stream",
     "text": [
      "Error saving to table line_chart: (sqlite3.OperationalError) table line_chart has no column named Team\n",
      "[SQL: INSERT INTO line_chart (\"Team\", \"Line\", \"Position\", \"Player\", \"Game_ID\") VALUES (?, ?, ?, ?, ?)]\n",
      "[parameters: [('Miami', 1, 'Left Wing', 'Matthew Barbolini', '2021-12-03-Western Michigan-Miami'), ('Miami', 1, 'Center', 'Michael Regush', '2021-12-03-Western Michigan-Miami'), ('Miami', 1, 'Right Wing', 'Matt Barry', '2021-12-03-Western Michigan-Miami'), ('Miami', 2, 'Left Wing', 'PJ Fletcher', '2021-12-03-Western Michigan-Miami'), ('Miami', 2, 'Center', 'Red Savage', '2021-12-03-Western Michigan-Miami'), ('Miami', 2, 'Right Wing', 'Ryan Savage', '2021-12-03-Western Michigan-Miami'), ('Miami', 3, 'Left Wing', 'Joe Cassetti', '2021-12-03-Western Michigan-Miami'), ('Miami', 3, 'Center', 'Thomas Daskas', '2021-12-03-Western Michigan-Miami')  ... displaying 10 of 42 total bound parameter sets ...  ('Western Michigan', 'Goalie 1', 'Goalie', 'Brandon Bussi', '2021-12-03-Western Michigan-Miami'), ('Western Michigan', 'Goalie 2', 'Goalie', 'Ross Hawryluk', '2021-12-03-Western Michigan-Miami')]]\n",
      "(Background on this error at: https://sqlalche.me/e/20/e3q8)\n"
     ]
    },
    {
     "name": "stderr",
     "output_type": "stream",
     "text": [
      "Scraping games:  40%|███▉      | 442/1106 [21:03<33:01,  2.98s/it]"
     ]
    },
    {
     "name": "stdout",
     "output_type": "stream",
     "text": [
      "Error saving to table line_chart: (sqlite3.OperationalError) table line_chart has no column named Team\n",
      "[SQL: INSERT INTO line_chart (\"Team\", \"Line\", \"Position\", \"Player\", \"Game_ID\") VALUES (?, ?, ?, ?, ?)]\n",
      "[parameters: [('North Dakota', 1, 'Left Wing', 'Riese Gaber', '2021-12-03-North Dakota-St. Cloud State'), ('North Dakota', 1, 'Center', 'Connor Ford', '2021-12-03-North Dakota-St. Cloud State'), ('North Dakota', 1, 'Right Wing', 'Judd Caulfield', '2021-12-03-North Dakota-St. Cloud State'), ('North Dakota', 2, 'Left Wing', 'Gavin Hain', '2021-12-03-North Dakota-St. Cloud State'), ('North Dakota', 2, 'Center', 'Jake Schmaltz', '2021-12-03-North Dakota-St. Cloud State'), ('North Dakota', 2, 'Right Wing', 'Mark Senden', '2021-12-03-North Dakota-St. Cloud State'), ('North Dakota', 3, 'Left Wing', 'Brendan Budy', '2021-12-03-North Dakota-St. Cloud State'), ('North Dakota', 3, 'Center', 'Louis Jamernik', '2021-12-03-North Dakota-St. Cloud State')  ... displaying 10 of 43 total bound parameter sets ...  ('St. Cloud State', 'Goalie 2', 'Goalie', 'Joey Lamoreaux', '2021-12-03-North Dakota-St. Cloud State'), ('St. Cloud State', 'Goalie 3', 'Goalie', 'Jaxon Castor', '2021-12-03-North Dakota-St. Cloud State')]]\n",
      "(Background on this error at: https://sqlalche.me/e/20/e3q8)\n"
     ]
    },
    {
     "name": "stderr",
     "output_type": "stream",
     "text": [
      "Scraping games:  40%|████      | 443/1106 [21:05<31:56,  2.89s/it]"
     ]
    },
    {
     "name": "stdout",
     "output_type": "stream",
     "text": [
      "Error saving to table line_chart: (sqlite3.OperationalError) table line_chart has no column named Team\n",
      "[SQL: INSERT INTO line_chart (\"Team\", \"Line\", \"Position\", \"Player\", \"Game_ID\") VALUES (?, ?, ?, ?, ?)]\n",
      "[parameters: [('Ferris State', 1, 'Left Wing', 'Liam MacDougall', '2021-12-03-Lake Superior-Ferris State'), ('Ferris State', 1, 'Center', 'Stepan Pokorny', '2021-12-03-Lake Superior-Ferris State'), ('Ferris State', 1, 'Right Wing', 'Justin Michaelian', '2021-12-03-Lake Superior-Ferris State'), ('Ferris State', 2, 'Left Wing', 'Marshall Moise', '2021-12-03-Lake Superior-Ferris State'), ('Ferris State', 2, 'Center', 'Bradley Marek', '2021-12-03-Lake Superior-Ferris State'), ('Ferris State', 2, 'Right Wing', 'Nick Nardecchia', '2021-12-03-Lake Superior-Ferris State'), ('Ferris State', 3, 'Left Wing', 'Antonio Venuto', '2021-12-03-Lake Superior-Ferris State'), ('Ferris State', 3, 'Center', 'Jake Transit', '2021-12-03-Lake Superior-Ferris State')  ... displaying 10 of 43 total bound parameter sets ...  ('Lake Superior', 'Goalie 1', 'Goalie', 'Seth Eisele', '2021-12-03-Lake Superior-Ferris State'), ('Lake Superior', 'Goalie 2', 'Goalie', 'Ethan Langenegger', '2021-12-03-Lake Superior-Ferris State')]]\n",
      "(Background on this error at: https://sqlalche.me/e/20/e3q8)\n"
     ]
    },
    {
     "name": "stderr",
     "output_type": "stream",
     "text": [
      "Scraping games:  40%|████      | 444/1106 [21:08<31:34,  2.86s/it]"
     ]
    },
    {
     "name": "stdout",
     "output_type": "stream",
     "text": [
      "Error saving to table line_chart: (sqlite3.OperationalError) table line_chart has no column named Team\n",
      "[SQL: INSERT INTO line_chart (\"Team\", \"Line\", \"Position\", \"Player\", \"Game_ID\") VALUES (?, ?, ?, ?, ?)]\n",
      "[parameters: [('Michigan Tech', 1, 'Left Wing', 'Tommy Parrottino', '2021-12-03-Michigan Tech-Minnesota State'), ('Michigan Tech', 1, 'Center', 'Trenton Bliss', '2021-12-03-Michigan Tech-Minnesota State'), ('Michigan Tech', 1, 'Right Wing', 'Brian Halonen', '2021-12-03-Michigan Tech-Minnesota State'), ('Michigan Tech', 2, 'Left Wing', 'Alec Broetzman', '2021-12-03-Michigan Tech-Minnesota State'), ('Michigan Tech', 2, 'Center', 'Arvid Caderoth', '2021-12-03-Michigan Tech-Minnesota State'), ('Michigan Tech', 2, 'Right Wing', 'Parker Saretsky', '2021-12-03-Michigan Tech-Minnesota State'), ('Michigan Tech', 3, 'Left Wing', 'Justin Misiak', '2021-12-03-Michigan Tech-Minnesota State'), ('Michigan Tech', 3, 'Center', 'Logan Pietila', '2021-12-03-Michigan Tech-Minnesota State')  ... displaying 10 of 44 total bound parameter sets ...  ('Minnesota State', 'Goalie 2', 'Goalie', 'Andrew Miller', '2021-12-03-Michigan Tech-Minnesota State'), ('Minnesota State', 'Goalie 3', 'Goalie', 'Keenan Rancier', '2021-12-03-Michigan Tech-Minnesota State')]]\n",
      "(Background on this error at: https://sqlalche.me/e/20/e3q8)\n"
     ]
    },
    {
     "name": "stderr",
     "output_type": "stream",
     "text": [
      "Scraping games:  40%|████      | 445/1106 [21:11<31:55,  2.90s/it]"
     ]
    },
    {
     "name": "stdout",
     "output_type": "stream",
     "text": [
      "Error saving to table line_chart: (sqlite3.OperationalError) table line_chart has no column named Team\n",
      "[SQL: INSERT INTO line_chart (\"Team\", \"Line\", \"Position\", \"Player\", \"Game_ID\") VALUES (?, ?, ?, ?, ?)]\n",
      "[parameters: [('Bemidji State', 1, 'Left Wing', 'Ethan Somoza', '2021-12-03-Bemidji State-St. Thomas'), ('Bemidji State', 1, 'Center', 'Tyler Kirkup', '2021-12-03-Bemidji State-St. Thomas'), ('Bemidji State', 1, 'Right Wing', 'Nick Cardelli', '2021-12-03-Bemidji State-St. Thomas'), ('Bemidji State', 2, 'Left Wing', 'Alex Ierullo', '2021-12-03-Bemidji State-St. Thomas'), ('Bemidji State', 2, 'Center', 'Owen Sillinger', '2021-12-03-Bemidji State-St. Thomas'), ('Bemidji State', 2, 'Right Wing', 'Eric Martin', '2021-12-03-Bemidji State-St. Thomas'), ('Bemidji State', 3, 'Left Wing', 'Jakub Lewandowski', '2021-12-03-Bemidji State-St. Thomas'), ('Bemidji State', 3, 'Center', 'Ross Armour', '2021-12-03-Bemidji State-St. Thomas')  ... displaying 10 of 40 total bound parameter sets ...  ('St. Thomas', 1, 'Extra', 'Michael', '2021-12-03-Bemidji State-St. Thomas'), ('St. Thomas', 'Goalie 1', 'Goalie', 'Peter Thome', '2021-12-03-Bemidji State-St. Thomas')]]\n",
      "(Background on this error at: https://sqlalche.me/e/20/e3q8)\n"
     ]
    },
    {
     "name": "stderr",
     "output_type": "stream",
     "text": [
      "Scraping games:  40%|████      | 446/1106 [21:14<31:31,  2.87s/it]"
     ]
    },
    {
     "name": "stdout",
     "output_type": "stream",
     "text": [
      "Error saving to table line_chart: (sqlite3.OperationalError) table line_chart has no column named Team\n",
      "[SQL: INSERT INTO line_chart (\"Team\", \"Line\", \"Position\", \"Player\", \"Game_ID\") VALUES (?, ?, ?, ?, ?)]\n",
      "[parameters: [('Michigan State', 1, 'Left Wing', 'Erik Middendorf', '2021-12-04-Michigan State-Penn State'), ('Michigan State', 1, 'Center', 'Josh Nodler', '2021-12-04-Michigan State-Penn State'), ('Michigan State', 1, 'Right Wing', 'Griffin Loughran', '2021-12-04-Michigan State-Penn State'), ('Michigan State', 2, 'Left Wing', 'Jagger Joshua', '2021-12-04-Michigan State-Penn State'), ('Michigan State', 2, 'Center', 'Nicolas Muller', '2021-12-04-Michigan State-Penn State'), ('Michigan State', 2, 'Right Wing', 'Tanner Kelly', '2021-12-04-Michigan State-Penn State'), ('Michigan State', 3, 'Left Wing', 'Mitchell Lewandowski', '2021-12-04-Michigan State-Penn State'), ('Michigan State', 3, 'Center', 'Jesse Tucker', '2021-12-04-Michigan State-Penn State')  ... displaying 10 of 44 total bound parameter sets ...  ('Penn State', 'Goalie 2', 'Goalie', 'Liam Souliere', '2021-12-04-Michigan State-Penn State'), ('Penn State', 'Goalie 3', 'Goalie', 'Doug Dorr', '2021-12-04-Michigan State-Penn State')]]\n",
      "(Background on this error at: https://sqlalche.me/e/20/e3q8)\n"
     ]
    },
    {
     "name": "stderr",
     "output_type": "stream",
     "text": [
      "Scraping games:  40%|████      | 447/1106 [21:17<31:07,  2.83s/it]"
     ]
    },
    {
     "name": "stdout",
     "output_type": "stream",
     "text": [
      "Error saving to table line_chart: (sqlite3.OperationalError) table line_chart has no column named Team\n",
      "[SQL: INSERT INTO line_chart (\"Team\", \"Line\", \"Position\", \"Player\", \"Game_ID\") VALUES (?, ?, ?, ?, ?)]\n",
      "[parameters: [('Notre Dame', 1, 'Left Wing', 'Landon Slaggert', '2021-12-04-Ohio State-Notre Dame'), ('Notre Dame', 1, 'Center', 'Graham Slaggert', '2021-12-04-Ohio State-Notre Dame'), ('Notre Dame', 1, 'Right Wing', 'Trevor Janicke', '2021-12-04-Ohio State-Notre Dame'), ('Notre Dame', 2, 'Left Wing', 'Jesse Lansdell', '2021-12-04-Ohio State-Notre Dame'), ('Notre Dame', 2, 'Center', 'Hunter Strand', '2021-12-04-Ohio State-Notre Dame'), ('Notre Dame', 2, 'Right Wing', 'Max Ellis', '2021-12-04-Ohio State-Notre Dame'), ('Notre Dame', 3, 'Left Wing', 'Grant Silianoff', '2021-12-04-Ohio State-Notre Dame'), ('Notre Dame', 3, 'Center', 'Cam Burke', '2021-12-04-Ohio State-Notre Dame')  ... displaying 10 of 43 total bound parameter sets ...  ('Ohio State', 'Goalie 1', 'Goalie', 'Ryan Snowden', '2021-12-04-Ohio State-Notre Dame'), ('Ohio State', 'Goalie 2', 'Goalie', 'Jakub Dobeš', '2021-12-04-Ohio State-Notre Dame')]]\n",
      "(Background on this error at: https://sqlalche.me/e/20/e3q8)\n"
     ]
    },
    {
     "name": "stderr",
     "output_type": "stream",
     "text": [
      "Scraping games:  41%|████      | 448/1106 [21:20<30:57,  2.82s/it]"
     ]
    },
    {
     "name": "stdout",
     "output_type": "stream",
     "text": [
      "Error saving to table line_chart: (sqlite3.OperationalError) table line_chart has no column named Team\n",
      "[SQL: INSERT INTO line_chart (\"Team\", \"Line\", \"Position\", \"Player\", \"Game_ID\") VALUES (?, ?, ?, ?, ?)]\n",
      "[parameters: [('Michigan', 1, 'Left Wing', 'Michael Pastujov', '2021-12-04-Minnesota-Michigan'), ('Michigan', 1, 'Center', 'Matty Beniers', '2021-12-04-Minnesota-Michigan'), ('Michigan', 1, 'Right Wing', 'Luke Morgan', '2021-12-04-Minnesota-Michigan'), ('Michigan', 2, 'Left Wing', 'Mark Estapa', '2021-12-04-Minnesota-Michigan'), ('Michigan', 2, 'Center', 'Thomas Bordeleau', '2021-12-04-Minnesota-Michigan'), ('Michigan', 2, 'Right Wing', 'Brendan Brisson', '2021-12-04-Minnesota-Michigan'), ('Michigan', 3, 'Left Wing', 'Garrett Van Wyhe', '2021-12-04-Minnesota-Michigan'), ('Michigan', 3, 'Center', 'Jimmy Lambert', '2021-12-04-Minnesota-Michigan')  ... displaying 10 of 44 total bound parameter sets ...  ('Minnesota', 'Goalie 2', 'Goalie', 'Justen Close', '2021-12-04-Minnesota-Michigan'), ('Minnesota', 'Goalie 3', 'Goalie', 'Brennan Boynton', '2021-12-04-Minnesota-Michigan')]]\n",
      "(Background on this error at: https://sqlalche.me/e/20/e3q8)\n"
     ]
    },
    {
     "name": "stderr",
     "output_type": "stream",
     "text": [
      "Scraping games:  41%|████      | 449/1106 [21:23<31:19,  2.86s/it]"
     ]
    },
    {
     "name": "stdout",
     "output_type": "stream",
     "text": [
      "Error saving to table line_chart: (sqlite3.OperationalError) table line_chart has no column named Team\n",
      "[SQL: INSERT INTO line_chart (\"Team\", \"Line\", \"Position\", \"Player\", \"Game_ID\") VALUES (?, ?, ?, ?, ?)]\n",
      "[parameters: [('Bentley', 1, 'Left Wing', 'Danny Pearson', '2021-12-04-Mercyhurst-Bentley'), ('Bentley', 1, 'Center', 'Matt Gosiewski', '2021-12-04-Mercyhurst-Bentley'), ('Bentley', 1, 'Right Wing', 'Collin Rutherford', '2021-12-04-Mercyhurst-Bentley'), ('Bentley', 2, 'Left Wing', 'Kohei Sato', '2021-12-04-Mercyhurst-Bentley'), ('Bentley', 2, 'Center', 'Harrison Scott', '2021-12-04-Mercyhurst-Bentley'), ('Bentley', 2, 'Right Wing', 'Eric Linell', '2021-12-04-Mercyhurst-Bentley'), ('Bentley', 3, 'Left Wing', 'Cole Kodsi', '2021-12-04-Mercyhurst-Bentley'), ('Bentley', 3, 'Center', 'Lucas Vanroboys', '2021-12-04-Mercyhurst-Bentley')  ... displaying 10 of 46 total bound parameter sets ...  ('Mercyhurst', 'Goalie 2', 'Goalie', 'Kyle McClellan', '2021-12-04-Mercyhurst-Bentley'), ('Mercyhurst', 'Goalie 3', 'Goalie', 'Matt Lenz', '2021-12-04-Mercyhurst-Bentley')]]\n",
      "(Background on this error at: https://sqlalche.me/e/20/e3q8)\n"
     ]
    },
    {
     "name": "stderr",
     "output_type": "stream",
     "text": [
      "Scraping games:  41%|████      | 450/1106 [21:25<31:30,  2.88s/it]"
     ]
    },
    {
     "name": "stdout",
     "output_type": "stream",
     "text": [
      "Error saving to table line_chart: (sqlite3.OperationalError) table line_chart has no column named Team\n",
      "[SQL: INSERT INTO line_chart (\"Team\", \"Line\", \"Position\", \"Player\", \"Game_ID\") VALUES (?, ?, ?, ?, ?)]\n",
      "[parameters: [('Air Force', 1, 'Left Wing', 'Nate Horn', '2021-12-04-Canisius-Air Force'), ('Air Force', 1, 'Center', 'Andrew DeCarlo', '2021-12-04-Canisius-Air Force'), ('Air Force', 1, 'Right Wing', 'Willie Reim', '2021-12-04-Canisius-Air Force'), ('Air Force', 2, 'Left Wing', 'Will Gavin', '2021-12-04-Canisius-Air Force'), ('Air Force', 2, 'Center', 'Clayton Cosentino', '2021-12-04-Canisius-Air Force'), ('Air Force', 2, 'Right Wing', 'Parker Brown', '2021-12-04-Canisius-Air Force'), ('Air Force', 3, 'Left Wing', 'Bennett Norlin', '2021-12-04-Canisius-Air Force'), ('Air Force', 3, 'Center', 'Jacob Marti', '2021-12-04-Canisius-Air Force')  ... displaying 10 of 43 total bound parameter sets ...  ('Canisius', 'Goalie 1', 'Goalie', 'Jacob Barczewski', '2021-12-04-Canisius-Air Force'), ('Canisius', 'Goalie 2', 'Goalie', 'John Hawthorne', '2021-12-04-Canisius-Air Force')]]\n",
      "(Background on this error at: https://sqlalche.me/e/20/e3q8)\n"
     ]
    },
    {
     "name": "stderr",
     "output_type": "stream",
     "text": [
      "Scraping games:  41%|████      | 451/1106 [21:28<31:15,  2.86s/it]"
     ]
    },
    {
     "name": "stdout",
     "output_type": "stream",
     "text": [
      "Error saving to table line_chart: (sqlite3.OperationalError) table line_chart has no column named Team\n",
      "[SQL: INSERT INTO line_chart (\"Team\", \"Line\", \"Position\", \"Player\", \"Game_ID\") VALUES (?, ?, ?, ?, ?)]\n",
      "[parameters: [('Holy Cross', 1, 'Left Wing', 'Lucas Thorne', '2021-12-04-Niagara-Holy Cross'), ('Holy Cross', 1, 'Center', 'Matt Guerra', '2021-12-04-Niagara-Holy Cross'), ('Holy Cross', 1, 'Right Wing', 'Jack Ricketts', '2021-12-04-Niagara-Holy Cross'), ('Holy Cross', 2, 'Left Wing', 'John Gelatt', '2021-12-04-Niagara-Holy Cross'), ('Holy Cross', 2, 'Center', 'Bobby Young', '2021-12-04-Niagara-Holy Cross'), ('Holy Cross', 2, 'Right Wing', 'Alec Cicero', '2021-12-04-Niagara-Holy Cross'), ('Holy Cross', 3, 'Left Wing', 'Tyler Ghirardosi', '2021-12-04-Niagara-Holy Cross'), ('Holy Cross', 3, 'Center', 'Jack MacNab', '2021-12-04-Niagara-Holy Cross')  ... displaying 10 of 44 total bound parameter sets ...  ('Niagara', 'Goalie 2', 'Goalie', 'Chad Veltri', '2021-12-04-Niagara-Holy Cross'), ('Niagara', 'Goalie 3', 'Goalie', 'Jake Sibell', '2021-12-04-Niagara-Holy Cross')]]\n",
      "(Background on this error at: https://sqlalche.me/e/20/e3q8)\n"
     ]
    },
    {
     "name": "stderr",
     "output_type": "stream",
     "text": [
      "Scraping games:  41%|████      | 452/1106 [21:31<31:29,  2.89s/it]"
     ]
    },
    {
     "name": "stdout",
     "output_type": "stream",
     "text": [
      "Error saving to table line_chart: (sqlite3.OperationalError) table line_chart has no column named Team\n",
      "[SQL: INSERT INTO line_chart (\"Team\", \"Line\", \"Position\", \"Player\", \"Game_ID\") VALUES (?, ?, ?, ?, ?)]\n",
      "[parameters: [('Miami', 1, 'Left Wing', 'Matthew Barbolini', '2021-12-04-Western Michigan-Miami'), ('Miami', 1, 'Center', 'Matt Barry', '2021-12-04-Western Michigan-Miami'), ('Miami', 1, 'Right Wing', 'Michael Regush', '2021-12-04-Western Michigan-Miami'), ('Miami', 2, 'Left Wing', 'PJ Fletcher', '2021-12-04-Western Michigan-Miami'), ('Miami', 2, 'Center', 'Red Savage', '2021-12-04-Western Michigan-Miami'), ('Miami', 2, 'Right Wing', 'Ryan Savage', '2021-12-04-Western Michigan-Miami'), ('Miami', 3, 'Left Wing', 'Joe Cassetti', '2021-12-04-Western Michigan-Miami'), ('Miami', 3, 'Center', 'Thomas Daskas', '2021-12-04-Western Michigan-Miami')  ... displaying 10 of 42 total bound parameter sets ...  ('Western Michigan', 'Goalie 1', 'Goalie', 'Brandon Bussi', '2021-12-04-Western Michigan-Miami'), ('Western Michigan', 'Goalie 2', 'Goalie', 'Ross Hawryluk', '2021-12-04-Western Michigan-Miami')]]\n",
      "(Background on this error at: https://sqlalche.me/e/20/e3q8)\n"
     ]
    },
    {
     "name": "stderr",
     "output_type": "stream",
     "text": [
      "Scraping games:  41%|████      | 453/1106 [21:34<31:24,  2.89s/it]"
     ]
    },
    {
     "name": "stdout",
     "output_type": "stream",
     "text": [
      "Error saving to table line_chart: (sqlite3.OperationalError) table line_chart has no column named Team\n",
      "[SQL: INSERT INTO line_chart (\"Team\", \"Line\", \"Position\", \"Player\", \"Game_ID\") VALUES (?, ?, ?, ?, ?)]\n",
      "[parameters: [('Colorado College', 1, 'Left Wing', 'Matthew Gleason', '2021-12-04-Colorado College-Omaha'), ('Colorado College', 1, 'Center', 'Hunter McKown', '2021-12-04-Colorado College-Omaha'), ('Colorado College', 1, 'Right Wing', 'Brian Hawkinson', '2021-12-04-Colorado College-Omaha'), ('Colorado College', 2, 'Left Wing', 'Danny Weight', '2021-12-04-Colorado College-Omaha'), ('Colorado College', 2, 'Center', 'Logan Will', '2021-12-04-Colorado College-Omaha'), ('Colorado College', 2, 'Right Wing', 'Jordan Biro', '2021-12-04-Colorado College-Omaha'), ('Colorado College', 3, 'Left Wing', 'Tommy Middleton', '2021-12-04-Colorado College-Omaha'), ('Colorado College', 3, 'Center', 'Noah Prokop', '2021-12-04-Colorado College-Omaha')  ... displaying 10 of 43 total bound parameter sets ...  ('Omaha', 'Goalie 2', 'Goalie', 'Austin Roden', '2021-12-04-Colorado College-Omaha'), ('Omaha', 'Goalie 3', 'Goalie', 'Jacob Zab', '2021-12-04-Colorado College-Omaha')]]\n",
      "(Background on this error at: https://sqlalche.me/e/20/e3q8)\n"
     ]
    },
    {
     "name": "stderr",
     "output_type": "stream",
     "text": [
      "Scraping games:  41%|████      | 454/1106 [21:37<31:36,  2.91s/it]"
     ]
    },
    {
     "name": "stdout",
     "output_type": "stream",
     "text": [
      "Error saving to table line_chart: (sqlite3.OperationalError) table line_chart has no column named Team\n",
      "[SQL: INSERT INTO line_chart (\"Team\", \"Line\", \"Position\", \"Player\", \"Game_ID\") VALUES (?, ?, ?, ?, ?)]\n",
      "[parameters: [('North Dakota', 1, 'Left Wing', 'Matteo Costantini', '2021-12-04-North Dakota-St. Cloud State'), ('North Dakota', 1, 'Center', 'Connor Ford', '2021-12-04-North Dakota-St. Cloud State'), ('North Dakota', 1, 'Right Wing', 'Riese Gaber', '2021-12-04-North Dakota-St. Cloud State'), ('North Dakota', 2, 'Left Wing', 'Gavin Hain', '2021-12-04-North Dakota-St. Cloud State'), ('North Dakota', 2, 'Center', 'Louis Jamernik', '2021-12-04-North Dakota-St. Cloud State'), ('North Dakota', 2, 'Right Wing', 'Mark Senden', '2021-12-04-North Dakota-St. Cloud State'), ('North Dakota', 3, 'Left Wing', 'Brendan Budy', '2021-12-04-North Dakota-St. Cloud State'), ('North Dakota', 3, 'Center', 'Jake Schmaltz', '2021-12-04-North Dakota-St. Cloud State')  ... displaying 10 of 43 total bound parameter sets ...  ('St. Cloud State', 'Goalie 2', 'Goalie', 'Joey Lamoreaux', '2021-12-04-North Dakota-St. Cloud State'), ('St. Cloud State', 'Goalie 3', 'Goalie', 'Jaxon Castor', '2021-12-04-North Dakota-St. Cloud State')]]\n",
      "(Background on this error at: https://sqlalche.me/e/20/e3q8)\n"
     ]
    },
    {
     "name": "stderr",
     "output_type": "stream",
     "text": [
      "Scraping games:  41%|████      | 455/1106 [21:40<31:22,  2.89s/it]"
     ]
    },
    {
     "name": "stdout",
     "output_type": "stream",
     "text": [
      "Error saving to table line_chart: (sqlite3.OperationalError) table line_chart has no column named Team\n",
      "[SQL: INSERT INTO line_chart (\"Team\", \"Line\", \"Position\", \"Player\", \"Game_ID\") VALUES (?, ?, ?, ?, ?)]\n",
      "[parameters: [('Ferris State', 1, 'Left Wing', 'Liam MacDougall', '2021-12-04-Lake Superior-Ferris State'), ('Ferris State', 1, 'Center', 'Stepan Pokorny', '2021-12-04-Lake Superior-Ferris State'), ('Ferris State', 1, 'Right Wing', 'Justin Michaelian', '2021-12-04-Lake Superior-Ferris State'), ('Ferris State', 2, 'Left Wing', 'Marshall Moise', '2021-12-04-Lake Superior-Ferris State'), ('Ferris State', 2, 'Center', 'Bradley Marek', '2021-12-04-Lake Superior-Ferris State'), ('Ferris State', 2, 'Right Wing', 'Nick Nardecchia', '2021-12-04-Lake Superior-Ferris State'), ('Ferris State', 3, 'Left Wing', 'Antonio Venuto', '2021-12-04-Lake Superior-Ferris State'), ('Ferris State', 3, 'Center', 'Jake Transit', '2021-12-04-Lake Superior-Ferris State')  ... displaying 10 of 43 total bound parameter sets ...  ('Lake Superior', 'Goalie 1', 'Goalie', 'Seth Eisele', '2021-12-04-Lake Superior-Ferris State'), ('Lake Superior', 'Goalie 2', 'Goalie', 'Ethan Langenegger', '2021-12-04-Lake Superior-Ferris State')]]\n",
      "(Background on this error at: https://sqlalche.me/e/20/e3q8)\n"
     ]
    },
    {
     "name": "stderr",
     "output_type": "stream",
     "text": [
      "Scraping games:  41%|████      | 456/1106 [21:43<31:10,  2.88s/it]"
     ]
    },
    {
     "name": "stdout",
     "output_type": "stream",
     "text": [
      "Error saving to table line_chart: (sqlite3.OperationalError) table line_chart has no column named Team\n",
      "[SQL: INSERT INTO line_chart (\"Team\", \"Line\", \"Position\", \"Player\", \"Game_ID\") VALUES (?, ?, ?, ?, ?)]\n",
      "[parameters: [('Michigan Tech', 1, 'Left Wing', 'Tommy Parrottino', '2021-12-04-Michigan Tech-Minnesota State'), ('Michigan Tech', 1, 'Center', 'Trenton Bliss', '2021-12-04-Michigan Tech-Minnesota State'), ('Michigan Tech', 1, 'Right Wing', 'Brian Halonen', '2021-12-04-Michigan Tech-Minnesota State'), ('Michigan Tech', 2, 'Left Wing', 'Alec Broetzman', '2021-12-04-Michigan Tech-Minnesota State'), ('Michigan Tech', 2, 'Center', 'Arvid Caderoth', '2021-12-04-Michigan Tech-Minnesota State'), ('Michigan Tech', 2, 'Right Wing', 'Parker Saretsky', '2021-12-04-Michigan Tech-Minnesota State'), ('Michigan Tech', 3, 'Left Wing', 'Justin Misiak', '2021-12-04-Michigan Tech-Minnesota State'), ('Michigan Tech', 3, 'Center', 'Logan Pietila', '2021-12-04-Michigan Tech-Minnesota State')  ... displaying 10 of 43 total bound parameter sets ...  ('Minnesota State', 'Goalie 2', 'Goalie', 'Andrew Miller', '2021-12-04-Michigan Tech-Minnesota State'), ('Minnesota State', 'Goalie 3', 'Goalie', 'Keenan Rancier', '2021-12-04-Michigan Tech-Minnesota State')]]\n",
      "(Background on this error at: https://sqlalche.me/e/20/e3q8)\n"
     ]
    },
    {
     "name": "stderr",
     "output_type": "stream",
     "text": [
      "Scraping games:  41%|████▏     | 457/1106 [21:46<30:45,  2.84s/it]"
     ]
    },
    {
     "name": "stdout",
     "output_type": "stream",
     "text": [
      "Error saving to table line_chart: (sqlite3.OperationalError) table line_chart has no column named Team\n",
      "[SQL: INSERT INTO line_chart (\"Team\", \"Line\", \"Position\", \"Player\", \"Game_ID\") VALUES (?, ?, ?, ?, ?)]\n",
      "[parameters: [('Bemidji State', 1, 'Left Wing', 'Lukas Sillinger', '2021-12-04-Bemidji State-St. Thomas'), ('Bemidji State', 1, 'Center', 'Owen Sillinger', '2021-12-04-Bemidji State-St. Thomas'), ('Bemidji State', 1, 'Right Wing', 'Alex Ierullo', '2021-12-04-Bemidji State-St. Thomas'), ('Bemidji State', 2, 'Left Wing', 'Ethan Somoza', '2021-12-04-Bemidji State-St. Thomas'), ('Bemidji State', 2, 'Center', 'Tyler Kirkup', '2021-12-04-Bemidji State-St. Thomas'), ('Bemidji State', 2, 'Right Wing', 'Austin Jouppi', '2021-12-04-Bemidji State-St. Thomas'), ('Bemidji State', 3, 'Left Wing', 'Eric Martin', '2021-12-04-Bemidji State-St. Thomas'), ('Bemidji State', 3, 'Center', 'Ross Armour', '2021-12-04-Bemidji State-St. Thomas')  ... displaying 10 of 40 total bound parameter sets ...  ('St. Thomas', 1, 'Extra', 'Trevor', '2021-12-04-Bemidji State-St. Thomas'), ('St. Thomas', 'Goalie 1', 'Goalie', 'Peter Thome', '2021-12-04-Bemidji State-St. Thomas')]]\n",
      "(Background on this error at: https://sqlalche.me/e/20/e3q8)\n"
     ]
    },
    {
     "name": "stderr",
     "output_type": "stream",
     "text": [
      "Scraping games:  41%|████▏     | 458/1106 [21:48<30:06,  2.79s/it]"
     ]
    },
    {
     "name": "stdout",
     "output_type": "stream",
     "text": [
      "Error saving to table line_chart: (sqlite3.OperationalError) table line_chart has no column named Team\n",
      "[SQL: INSERT INTO line_chart (\"Team\", \"Line\", \"Position\", \"Player\", \"Game_ID\") VALUES (?, ?, ?, ?, ?)]\n",
      "[parameters: [('Minnesota-Duluth', 1, 'Left Wing', 'Noah Cates', '2021-12-04-Minnesota-Duluth-Northern Michigan'), ('Minnesota-Duluth', 1, 'Center', 'Casey Gilling', '2021-12-04-Minnesota-Duluth-Northern Michigan'), ('Minnesota-Duluth', 1, 'Right Wing', 'Tanner Laderoute', '2021-12-04-Minnesota-Duluth-Northern Michigan'), ('Minnesota-Duluth', 2, 'Left Wing', 'Kobe Roth', '2021-12-04-Minnesota-Duluth-Northern Michigan'), ('Minnesota-Duluth', 2, 'Center', 'Carter Loney', '2021-12-04-Minnesota-Duluth-Northern Michigan'), ('Minnesota-Duluth', 2, 'Right Wing', 'Koby Bender', '2021-12-04-Minnesota-Duluth-Northern Michigan'), ('Minnesota-Duluth', 3, 'Left Wing', 'Quinn Olson', '2021-12-04-Minnesota-Duluth-Northern Michigan'), ('Minnesota-Duluth', 3, 'Center', 'Dominic James', '2021-12-04-Minnesota-Duluth-Northern Michigan')  ... displaying 10 of 40 total bound parameter sets ...  ('Northern Michigan', 1, 'Extra', 'Oscar', '2021-12-04-Minnesota-Duluth-Northern Michigan'), ('Northern Michigan', 'Goalie 1', 'Goalie', 'Rico DiMatteo', '2021-12-04-Minnesota-Duluth-Northern Michigan')]]\n",
      "(Background on this error at: https://sqlalche.me/e/20/e3q8)\n"
     ]
    },
    {
     "name": "stderr",
     "output_type": "stream",
     "text": [
      "Scraping games:  42%|████▏     | 459/1106 [21:51<30:17,  2.81s/it]"
     ]
    },
    {
     "name": "stdout",
     "output_type": "stream",
     "text": [
      "Error saving to table line_chart: (sqlite3.OperationalError) table line_chart has no column named Team\n",
      "[SQL: INSERT INTO line_chart (\"Team\", \"Line\", \"Position\", \"Player\", \"Game_ID\") VALUES (?, ?, ?, ?, ?)]\n",
      "[parameters: [('Denver', 1, 'Left Wing', 'Carter Savoie', '2021-12-04-Denver-Arizona State'), ('Denver', 1, 'Center', 'Cole Guttman', '2021-12-04-Denver-Arizona State'), ('Denver', 1, 'Right Wing', 'Bobby Brink', '2021-12-04-Denver-Arizona State'), ('Denver', 2, 'Left Wing', 'Carter Mazur', '2021-12-04-Denver-Arizona State'), ('Denver', 2, 'Center', 'Massimo Rizzo', '2021-12-04-Denver-Arizona State'), ('Denver', 2, 'Right Wing', 'Cameron Wright', '2021-12-04-Denver-Arizona State'), ('Denver', 3, 'Left Wing', 'Ryan Barrow', '2021-12-04-Denver-Arizona State'), ('Denver', 3, 'Center', 'Brett Stapley', '2021-12-04-Denver-Arizona State')  ... displaying 10 of 42 total bound parameter sets ...  ('Arizona State', 'Goalie 1', 'Goalie', 'Ben Kraws', '2021-12-04-Denver-Arizona State'), ('Arizona State', 'Goalie 2', 'Goalie', 'Cole Brady', '2021-12-04-Denver-Arizona State')]]\n",
      "(Background on this error at: https://sqlalche.me/e/20/e3q8)\n"
     ]
    },
    {
     "name": "stderr",
     "output_type": "stream",
     "text": [
      "Scraping games:  42%|████▏     | 460/1106 [21:54<30:47,  2.86s/it]"
     ]
    },
    {
     "name": "stdout",
     "output_type": "stream",
     "text": [
      "Error saving to table line_chart: (sqlite3.OperationalError) table line_chart has no column named Team\n",
      "[SQL: INSERT INTO line_chart (\"Team\", \"Line\", \"Position\", \"Player\", \"Game_ID\") VALUES (?, ?, ?, ?, ?)]\n",
      "[parameters: [('Quinnipiac', 1, 'Left Wing', 'Michael Lombardi', '2021-12-04-Quinnipiac-Union'), ('Quinnipiac', 1, 'Center', 'Wyatt Bongiovanni', '2021-12-04-Quinnipiac-Union'), ('Quinnipiac', 1, 'Right Wing', 'Ty Smilanic', '2021-12-04-Quinnipiac-Union'), ('Quinnipiac', 2, 'Left Wing', 'Oliver Chau', '2021-12-04-Quinnipiac-Union'), ('Quinnipiac', 2, 'Center', \"Skyler Brind'Amour\", '2021-12-04-Quinnipiac-Union'), ('Quinnipiac', 2, 'Right Wing', 'Guus van Nes', '2021-12-04-Quinnipiac-Union'), ('Quinnipiac', 3, 'Left Wing', 'Christophe Fillion', '2021-12-04-Quinnipiac-Union'), ('Quinnipiac', 3, 'Center', 'Desi Burgart', '2021-12-04-Quinnipiac-Union')  ... displaying 10 of 43 total bound parameter sets ...  ('Union', 'Goalie 2', 'Goalie', 'Merek Pipes', '2021-12-04-Quinnipiac-Union'), ('Union', 'Goalie 3', 'Goalie', 'Connor Murphy', '2021-12-04-Quinnipiac-Union')]]\n",
      "(Background on this error at: https://sqlalche.me/e/20/e3q8)\n"
     ]
    },
    {
     "name": "stderr",
     "output_type": "stream",
     "text": [
      "Scraping games:  42%|████▏     | 462/1106 [22:00<31:07,  2.90s/it]"
     ]
    },
    {
     "name": "stdout",
     "output_type": "stream",
     "text": [
      "Error saving to table line_chart: (sqlite3.OperationalError) table line_chart has no column named Team\n",
      "[SQL: INSERT INTO line_chart (\"Team\", \"Line\", \"Position\", \"Player\", \"Game_ID\") VALUES (?, ?, ?, ?, ?)]\n",
      "[parameters: [('Brown', 1, 'Left Wing', 'Justin Jallen', '2021-12-04-Dartmouth-Brown'), ('Brown', 1, 'Center', 'Tristan Crozier', '2021-12-04-Dartmouth-Brown'), ('Brown', 1, 'Right Wing', 'Bradley Cocca', '2021-12-04-Dartmouth-Brown'), ('Brown', 2, 'Left Wing', 'Wyatt Schlaht', '2021-12-04-Dartmouth-Brown'), ('Brown', 2, 'Center', 'Michael Maloney', '2021-12-04-Dartmouth-Brown'), ('Brown', 2, 'Right Wing', 'Jordan Tonelli', '2021-12-04-Dartmouth-Brown'), ('Brown', 3, 'Left Wing', 'Nathan Plessis', '2021-12-04-Dartmouth-Brown'), ('Brown', 3, 'Center', 'Cole Quisenberry', '2021-12-04-Dartmouth-Brown')  ... displaying 10 of 43 total bound parameter sets ...  ('Dartmouth', 'Goalie 1', 'Goalie', 'Justin Ferguson', '2021-12-04-Dartmouth-Brown'), ('Dartmouth', 'Goalie 2', 'Goalie', 'Clay Stevenson', '2021-12-04-Dartmouth-Brown')]]\n",
      "(Background on this error at: https://sqlalche.me/e/20/e3q8)\n"
     ]
    },
    {
     "name": "stderr",
     "output_type": "stream",
     "text": [
      "Scraping games:  42%|████▏     | 463/1106 [22:03<30:35,  2.85s/it]"
     ]
    },
    {
     "name": "stdout",
     "output_type": "stream",
     "text": [
      "Error saving to table line_chart: (sqlite3.OperationalError) table line_chart has no column named Team\n",
      "[SQL: INSERT INTO line_chart (\"Team\", \"Line\", \"Position\", \"Player\", \"Game_ID\") VALUES (?, ?, ?, ?, ?)]\n",
      "[parameters: [('Princeton', 1, 'Left Wing', 'Corey Andonovski', '2021-12-04-Princeton-Rensselaer'), ('Princeton', 1, 'Center', \"Christian O'Neill\", '2021-12-04-Princeton-Rensselaer'), ('Princeton', 1, 'Right Wing', 'Ian Murphy', '2021-12-04-Princeton-Rensselaer'), ('Princeton', 2, 'Left Wing', 'Liam Gorman', '2021-12-04-Princeton-Rensselaer'), ('Princeton', 2, 'Center', 'Luke Keenan', '2021-12-04-Princeton-Rensselaer'), ('Princeton', 2, 'Right Wing', 'Finn Evans', '2021-12-04-Princeton-Rensselaer'), ('Princeton', 3, 'Left Wing', 'Joe Berg', '2021-12-04-Princeton-Rensselaer'), ('Princeton', 3, 'Center', 'Alex Konovolov', '2021-12-04-Princeton-Rensselaer')  ... displaying 10 of 42 total bound parameter sets ...  ('Rensselaer', 'Goalie 1', 'Goalie', 'Linden Marshall', '2021-12-04-Princeton-Rensselaer'), ('Rensselaer', 'Goalie 2', 'Goalie', 'Brett Miller', '2021-12-04-Princeton-Rensselaer')]]\n",
      "(Background on this error at: https://sqlalche.me/e/20/e3q8)\n"
     ]
    },
    {
     "name": "stderr",
     "output_type": "stream",
     "text": [
      "Scraping games:  42%|████▏     | 464/1106 [22:05<30:21,  2.84s/it]"
     ]
    },
    {
     "name": "stdout",
     "output_type": "stream",
     "text": [
      "Error saving to table line_chart: (sqlite3.OperationalError) table line_chart has no column named Team\n",
      "[SQL: INSERT INTO line_chart (\"Team\", \"Line\", \"Position\", \"Player\", \"Game_ID\") VALUES (?, ?, ?, ?, ?)]\n",
      "[parameters: [('Colgate', 1, 'Left Wing', 'Colton Young', '2021-12-04-Colgate-St. Lawrence'), ('Colgate', 1, 'Center', 'Josh McKechney', '2021-12-04-Colgate-St. Lawrence'), ('Colgate', 1, 'Right Wing', 'Alex Young', '2021-12-04-Colgate-St. Lawrence'), ('Colgate', 2, 'Left Wing', 'Arnaud Vachon', '2021-12-04-Colgate-St. Lawrence'), ('Colgate', 2, 'Center', 'Jeff Stewart', '2021-12-04-Colgate-St. Lawrence'), ('Colgate', 2, 'Right Wing', 'Ethan Manderville', '2021-12-04-Colgate-St. Lawrence'), ('Colgate', 3, 'Left Wing', 'Matt Verboon', '2021-12-04-Colgate-St. Lawrence'), ('Colgate', 3, 'Center', 'Alex DiPaolo', '2021-12-04-Colgate-St. Lawrence')  ... displaying 10 of 43 total bound parameter sets ...  ('St. Lawrence', 'Goalie 2', 'Goalie', 'Francis Boisvert', '2021-12-04-Colgate-St. Lawrence'), ('St. Lawrence', 'Goalie 3', 'Goalie', 'Grant Adams', '2021-12-04-Colgate-St. Lawrence')]]\n",
      "(Background on this error at: https://sqlalche.me/e/20/e3q8)\n"
     ]
    },
    {
     "name": "stderr",
     "output_type": "stream",
     "text": [
      "Scraping games:  42%|████▏     | 465/1106 [22:09<31:32,  2.95s/it]"
     ]
    },
    {
     "name": "stdout",
     "output_type": "stream",
     "text": [
      "Error saving to table line_chart: (sqlite3.OperationalError) table line_chart has no column named Team\n",
      "[SQL: INSERT INTO line_chart (\"Team\", \"Line\", \"Position\", \"Player\", \"Game_ID\") VALUES (?, ?, ?, ?, ?)]\n",
      "[parameters: [('Clarkson', 1, 'Left Wing', 'Chris Klack', '2021-12-04-Cornell-Clarkson'), ('Clarkson', 1, 'Center', 'Zach Tsekos', '2021-12-04-Cornell-Clarkson'), ('Clarkson', 1, 'Right Wing', 'Jack Jacome', '2021-12-04-Cornell-Clarkson'), ('Clarkson', 2, 'Left Wing', 'Ayrton Martino', '2021-12-04-Cornell-Clarkson'), ('Clarkson', 2, 'Center', 'Ryan Richardson', '2021-12-04-Cornell-Clarkson'), ('Clarkson', 2, 'Right Wing', 'Anthony Romano', '2021-12-04-Cornell-Clarkson'), ('Clarkson', 3, 'Left Wing', 'Alex Campbell', '2021-12-04-Cornell-Clarkson'), ('Clarkson', 3, 'Center', 'Mathieu Gosselin', '2021-12-04-Cornell-Clarkson')  ... displaying 10 of 43 total bound parameter sets ...  ('Cornell', 'Goalie 1', 'Goalie', 'Nate McDonald', '2021-12-04-Cornell-Clarkson'), ('Cornell', 'Goalie 2', 'Goalie', 'Joe Howe', '2021-12-04-Cornell-Clarkson')]]\n",
      "(Background on this error at: https://sqlalche.me/e/20/e3q8)\n"
     ]
    },
    {
     "name": "stderr",
     "output_type": "stream",
     "text": [
      "Scraping games:  42%|████▏     | 466/1106 [22:12<31:06,  2.92s/it]"
     ]
    },
    {
     "name": "stdout",
     "output_type": "stream",
     "text": [
      "Error saving to table line_chart: (sqlite3.OperationalError) table line_chart has no column named Team\n",
      "[SQL: INSERT INTO line_chart (\"Team\", \"Line\", \"Position\", \"Player\", \"Game_ID\") VALUES (?, ?, ?, ?, ?)]\n",
      "[parameters: [('Northeastern', 1, 'Left Wing', 'Aidan McDonough', '2021-12-04-Providence-Northeastern'), ('Northeastern', 1, 'Center', 'Matt Demelis', '2021-12-04-Providence-Northeastern'), ('Northeastern', 1, 'Right Wing', 'Matt Choupani', '2021-12-04-Providence-Northeastern'), ('Northeastern', 2, 'Left Wing', 'Jakov Novak', '2021-12-04-Providence-Northeastern'), ('Northeastern', 2, 'Center', 'Jack Hughes', '2021-12-04-Providence-Northeastern'), ('Northeastern', 2, 'Right Wing', 'Gunnarwolfe Fontaine', '2021-12-04-Providence-Northeastern'), ('Northeastern', 3, 'Left Wing', 'Ryan St. Louis', '2021-12-04-Providence-Northeastern'), ('Northeastern', 3, 'Center', 'Michael Outzen', '2021-12-04-Providence-Northeastern')  ... displaying 10 of 44 total bound parameter sets ...  ('Providence', 'Goalie 2', 'Goalie', 'Jimmy Scannell', '2021-12-04-Providence-Northeastern'), ('Providence', 'Goalie 3', 'Goalie', 'Jaxson Stauber', '2021-12-04-Providence-Northeastern')]]\n",
      "(Background on this error at: https://sqlalche.me/e/20/e3q8)\n"
     ]
    },
    {
     "name": "stderr",
     "output_type": "stream",
     "text": [
      "Scraping games:  42%|████▏     | 467/1106 [22:14<30:43,  2.89s/it]"
     ]
    },
    {
     "name": "stdout",
     "output_type": "stream",
     "text": [
      "Error saving to table line_chart: (sqlite3.OperationalError) table line_chart has no column named Team\n",
      "[SQL: INSERT INTO line_chart (\"Team\", \"Line\", \"Position\", \"Player\", \"Game_ID\") VALUES (?, ?, ?, ?, ?)]\n",
      "[parameters: [('Boston University', 1, 'Left Wing', 'Robert Mastrosimone', '2021-12-04-Boston University-New Hampshire'), ('Boston University', 1, 'Center', 'Wilmer Skoog', '2021-12-04-Boston University-New Hampshire'), ('Boston University', 1, 'Right Wing', 'Matt Brown', '2021-12-04-Boston University-New Hampshire'), ('Boston University', 2, 'Left Wing', 'Luke Tuch', '2021-12-04-Boston University-New Hampshire'), ('Boston University', 2, 'Center', 'Nick Zabaneh', '2021-12-04-Boston University-New Hampshire'), ('Boston University', 2, 'Right Wing', 'Dylan Peterson', '2021-12-04-Boston University-New Hampshire'), ('Boston University', 3, 'Left Wing', 'Logan Cockerill', '2021-12-04-Boston University-New Hampshire'), ('Boston University', 3, 'Center', 'Ty Amonte', '2021-12-04-Boston University-New Hampshire')  ... displaying 10 of 44 total bound parameter sets ...  ('New Hampshire', 'Goalie 2', 'Goalie', 'David Fessenden', '2021-12-04-Boston University-New Hampshire'), ('New Hampshire', 'Goalie 3', 'Goalie', 'Jeremy Forman', '2021-12-04-Boston University-New Hampshire')]]\n",
      "(Background on this error at: https://sqlalche.me/e/20/e3q8)\n"
     ]
    },
    {
     "name": "stderr",
     "output_type": "stream",
     "text": [
      "Scraping games:  42%|████▏     | 468/1106 [22:17<30:19,  2.85s/it]"
     ]
    },
    {
     "name": "stdout",
     "output_type": "stream",
     "text": [
      "Error saving to table line_chart: (sqlite3.OperationalError) table line_chart has no column named Team\n",
      "[SQL: INSERT INTO line_chart (\"Team\", \"Line\", \"Position\", \"Player\", \"Game_ID\") VALUES (?, ?, ?, ?, ?)]\n",
      "[parameters: [('Maine', 1, 'Left Wing', 'Ben Poisson', '2021-12-04-Vermont-Maine'), ('Maine', 1, 'Center', 'Lynden Breen', '2021-12-04-Vermont-Maine'), ('Maine', 1, 'Right Wing', 'Donavan Villeneuve-Houle', '2021-12-04-Vermont-Maine'), ('Maine', 2, 'Left Wing', 'Keenan Suthers', '2021-12-04-Vermont-Maine'), ('Maine', 2, 'Center', 'Nolan Renwick', '2021-12-04-Vermont-Maine'), ('Maine', 2, 'Right Wing', 'John Mulera', '2021-12-04-Vermont-Maine'), ('Maine', 3, 'Left Wing', 'AJ Drobot', '2021-12-04-Vermont-Maine'), ('Maine', 3, 'Center', 'Jack Quinlivan', '2021-12-04-Vermont-Maine')  ... displaying 10 of 40 total bound parameter sets ...  ('Vermont', 1, 'Extra', 'Cody', '2021-12-04-Vermont-Maine'), ('Vermont', 'Goalie 1', 'Goalie', 'Gabe Carriere', '2021-12-04-Vermont-Maine')]]\n",
      "(Background on this error at: https://sqlalche.me/e/20/e3q8)\n"
     ]
    },
    {
     "name": "stderr",
     "output_type": "stream",
     "text": [
      "Scraping games:  42%|████▏     | 469/1106 [22:20<30:40,  2.89s/it]"
     ]
    },
    {
     "name": "stdout",
     "output_type": "stream",
     "text": [
      "Error saving to table line_chart: (sqlite3.OperationalError) table line_chart has no column named Team\n",
      "[SQL: INSERT INTO line_chart (\"Team\", \"Line\", \"Position\", \"Player\", \"Game_ID\") VALUES (?, ?, ?, ?, ?)]\n",
      "[parameters: [('Mass.-Lowell', 1, 'Left Wing', 'Andre Lee', '2021-12-04-Mass.-Lowell-Massachusetts'), ('Mass.-Lowell', 1, 'Center', 'Carl Berglund', '2021-12-04-Mass.-Lowell-Massachusetts'), ('Mass.-Lowell', 1, 'Right Wing', 'Brian Chambers', '2021-12-04-Mass.-Lowell-Massachusetts'), ('Mass.-Lowell', 2, 'Left Wing', 'Blake Wells', '2021-12-04-Mass.-Lowell-Massachusetts'), ('Mass.-Lowell', 2, 'Center', 'Connor Sodergren', '2021-12-04-Mass.-Lowell-Massachusetts'), ('Mass.-Lowell', 2, 'Right Wing', 'Matt Allen', '2021-12-04-Mass.-Lowell-Massachusetts'), ('Mass.-Lowell', 3, 'Left Wing', 'Reid Stefanson', '2021-12-04-Mass.-Lowell-Massachusetts'), ('Mass.-Lowell', 3, 'Center', 'Lucas Condotta', '2021-12-04-Mass.-Lowell-Massachusetts')  ... displaying 10 of 44 total bound parameter sets ...  ('Massachusetts', 'Goalie 2', 'Goalie', 'Henry Graham', '2021-12-04-Mass.-Lowell-Massachusetts'), ('Massachusetts', 'Goalie 3', 'Goalie', 'Luke Pavicich', '2021-12-04-Mass.-Lowell-Massachusetts')]]\n",
      "(Background on this error at: https://sqlalche.me/e/20/e3q8)\n"
     ]
    },
    {
     "name": "stderr",
     "output_type": "stream",
     "text": [
      "Scraping games:  48%|████▊     | 528/1106 [25:09<27:08,  2.82s/it]"
     ]
    }
   ],
   "source": [
    "## Run the scrape to get game data using the functions above and infor from games_df\n",
    "\n",
    "## Change the variable name to reuse the old code\n",
    "sampled_games = games_df\n",
    "\n",
    "# Initialize counters & logs\n",
    "error_count = 0\n",
    "error_games = []\n",
    "\n",
    "# Loop over sampled games and fetch data\n",
    "for idx, row in tqdm(sampled_games.iterrows(), total=sampled_games.shape[0], desc=\"Scraping games\"):\n",
    "    retries = 3  # Number of retries\n",
    "    success = False\n",
    "\n",
    "    \n",
    "    while retries > 0 and not success:\n",
    "        try:\n",
    "            box_score_url = base_url + row['Box_Link']\n",
    "            advanced_metrics_url = base_url + row['Metrics_Link']\n",
    "\n",
    "            # create a unique game id\n",
    "            game_id = str(row['Date']) + '-' + str(row['Home_Team']) + '-' + str(row['Away_Team'])\n",
    "            \n",
    "            logging.info(f\"Fetching data for game: {row['Home_Team']} vs {row['Away_Team']}\")\n",
    "            \n",
    "            # Your existing function to fetch and save data\n",
    "            all_dfs = fetch_and_save_data_to_db(box_score_url, advanced_metrics_url)\n",
    "            \n",
    "            # If reached here, the fetching was successful\n",
    "            success = True\n",
    "            \n",
    "            # Adaptive rate limiting\n",
    "            \n",
    "            \n",
    "        except requests.exceptions.RequestException as e:  # Network-related errors\n",
    "            logging.error(f\"Network error for game: {row['Home_Team']} vs {row['Away_Team']}. Error: {e}\")\n",
    "            retries -= 1\n",
    "            time.sleep(5)  # Wait for 5 seconds before retrying\n",
    "        \n",
    "        except Exception as e:  # Other exceptions\n",
    "            logging.error(f\"An error occurred for game: {row['Game_ID']} - {row['Home_Team']} vs {row['Away_Team']}. Error: {e}\")\n",
    "            error_count += 1\n",
    "            error_games.append((row['Home_Team'], row['Away_Team']))\n",
    "            break  # Break the while loop; no retries for these types of errors\n",
    "\n",
    "\n",
    "# Close the logging file\n",
    "logging.shutdown()\n",
    "\n",
    "# Close the database connection\n",
    "# conn.close()\n",
    "\n"
   ]
  },
  {
   "cell_type": "code",
   "execution_count": null,
   "metadata": {},
   "outputs": [
    {
     "name": "stdout",
     "output_type": "stream",
     "text": [
      "Total games: 1106\n",
      "Games With Errors: 25\n",
      "Error games: (\"American Int'l\", 'Boston College')\n",
      "Error games: ('Rensselaer', 'Union')\n",
      "Error games: ('St. Lawrence', 'Clarkson')\n",
      "Error games: ('Bowling Green', 'Michigan')\n",
      "Error games: ('Bemidji State', 'North Dakota')\n",
      "Error games: ('Holy Cross', 'Boston University')\n",
      "Error games: ('Mercyhurst', 'Vermont')\n",
      "Error games: ('Air Force', 'Colorado College')\n",
      "Error games: ('US Under-18', 'Northern Michigan')\n",
      "Error games: ('St. Lawrence', 'RIT')\n",
      "Error games: ('US Under-18', 'Michigan Tech')\n",
      "Error games: ('Assumption', 'Long Island')\n",
      "Error games: ('Post', 'Long Island')\n",
      "Error games: ('Air Force', 'Lindenwood')\n",
      "Error games: ('Dartmouth', 'Massachusetts')\n",
      "Error games: ('US Under-18', 'Cornell')\n",
      "Error games: ('Air Force', 'Lindenwood')\n",
      "Error games: ('US Under-18', 'Mercyhurst')\n",
      "Error games: ('Sacred Heart', 'Yale')\n",
      "Error games: ('Long Island', 'St. Anselm')\n",
      "Error games: ('US Under-18', 'Boston University')\n",
      "Error games: ('US Under-18', 'Merrimack')\n",
      "Error games: ('St. Anselm', 'Long Island')\n",
      "Error games: ('St. Anselm', 'Long Island')\n",
      "Error games: ('US Under-18', 'Providence')\n"
     ]
    }
   ],
   "source": [
    "## Print a summary of the errors\n",
    "print(f\"Total games: {sampled_games.shape[0]}\")\n",
    "print(f\"Games With Errors: {error_count}\")\n",
    "for game in error_games:\n",
    "    print(f\"Error games: {game}\")\n"
   ]
  },
  {
   "cell_type": "markdown",
   "metadata": {},
   "source": [
    "## 11-2 Scrape is working well\n",
    "- wanto to get better werror reporting for each fuynction. list of what failed"
   ]
  },
  {
   "cell_type": "markdown",
   "metadata": {},
   "source": [
    "# The Errors are coming from OT Games!"
   ]
  },
  {
   "cell_type": "markdown",
   "metadata": {},
   "source": [
    "## Fix / Notes\n",
    "\n"
   ]
  },
  {
   "cell_type": "markdown",
   "metadata": {},
   "source": [
    "# DB Cleaning Below Next"
   ]
  },
  {
   "cell_type": "code",
   "execution_count": null,
   "metadata": {},
   "outputs": [],
   "source": []
  },
  {
   "cell_type": "code",
   "execution_count": null,
   "metadata": {},
   "outputs": [
    {
     "ename": "NameError",
     "evalue": "name 'enda' is not defined",
     "output_type": "error",
     "traceback": [
      "\u001b[1;31m---------------------------------------------------------------------------\u001b[0m",
      "\u001b[1;31mNameError\u001b[0m                                 Traceback (most recent call last)",
      "\u001b[1;32mc:\\Users\\Justin\\Desktop\\Project\\college_hockey\\workbook\\Current_season_scrape.ipynb Cell 14\u001b[0m line \u001b[0;36m1\n\u001b[1;32m----> <a href='vscode-notebook-cell:/c%3A/Users/Justin/Desktop/Project/college_hockey/workbook/Current_season_scrape.ipynb#X16sZmlsZQ%3D%3D?line=0'>1</a>\u001b[0m enda;sodfgjas;d\n",
      "\u001b[1;31mNameError\u001b[0m: name 'enda' is not defined"
     ]
    }
   ],
   "source": [
    "enda;sodfgjas;d"
   ]
  },
  {
   "cell_type": "markdown",
   "metadata": {},
   "source": [
    "### Try to visualize advanced metrics here in the notebook"
   ]
  },
  {
   "cell_type": "code",
   "execution_count": null,
   "metadata": {},
   "outputs": [],
   "source": [
    "# combined_sample_data.head(10)\n",
    "\n",
    "# combined_sample_data.info()"
   ]
  }
 ],
 "metadata": {
  "kernelspec": {
   "display_name": "data_viz",
   "language": "python",
   "name": "python3"
  },
  "language_info": {
   "codemirror_mode": {
    "name": "ipython",
    "version": 3
   },
   "file_extension": ".py",
   "mimetype": "text/x-python",
   "name": "python",
   "nbconvert_exporter": "python",
   "pygments_lexer": "ipython3",
   "version": "3.9.18"
  },
  "orig_nbformat": 4
 },
 "nbformat": 4,
 "nbformat_minor": 2
}
