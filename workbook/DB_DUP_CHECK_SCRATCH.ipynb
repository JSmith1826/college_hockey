{
 "cells": [
  {
   "cell_type": "markdown",
   "metadata": {},
   "source": [
    "# Referenced in the DB_CORRECT_AND_TRANSFORM BOOK\n",
    "\n",
    "# After intial exploration of the DB out of this it looks good - reasonable number of games and values"
   ]
  },
  {
   "cell_type": "code",
   "execution_count": 1,
   "metadata": {},
   "outputs": [
    {
     "name": "stdout",
     "output_type": "stream",
     "text": [
      "Duplicates removed from scoring_summary.\n",
      "Duplicates removed from penalty_summary.\n",
      "Duplicates removed from goalie_stats.\n",
      "Duplicates removed from player_stats.\n",
      "Duplicates removed from linescore.\n",
      "Duplicates removed from game_details.\n",
      "Duplicates removed from master_roster.\n",
      "Duplicates removed from player_stats_ytd.\n",
      "Duplicates removed from line_chart.\n",
      "Duplicates removed from advanced_metrics.\n",
      "Done. All duplicates have been removed.\n"
     ]
    }
   ],
   "source": [
    "# Dependencies\n",
    "import os\n",
    "import sys\n",
    "import pandas as pd\n",
    "import sqlite3\n",
    "\n",
    "import sqlite3\n",
    "##################### DESTRUCTIVE - DO NOT RUN WITHOUT BACKUP OF DB FILE #####################\n",
    "# Replace 'your_database.db' with the path to your database file\n",
    "\n",
    "\n",
    "db_path = '../data/db/Combined_DB_v2.db'\n",
    "\n",
    "def remove_duplicates(conn, table_name):\n",
    "    \"\"\"\n",
    "    Remove duplicate rows from a specified table.\n",
    "    \"\"\"\n",
    "    cursor = conn.cursor()\n",
    "    \n",
    "    # Fetching column names for the duplication check\n",
    "    cursor.execute(f\"PRAGMA table_info({table_name})\")\n",
    "    columns = [info[1] for info in cursor.fetchall()]\n",
    "    \n",
    "    # Properly quote column names to handle special characters or reserved keywords\n",
    "    columns_quoted = [f'\"{col}\"' for col in columns]\n",
    "    columns_joined = ', '.join(columns_quoted)\n",
    "    \n",
    "    query = f\"\"\"\n",
    "    DELETE FROM {table_name}\n",
    "    WHERE rowid NOT IN (\n",
    "        SELECT MIN(rowid)\n",
    "        FROM {table_name}\n",
    "        GROUP BY {columns_joined}\n",
    "    )\n",
    "    \"\"\"\n",
    "    try:\n",
    "        cursor.execute(query)\n",
    "        conn.commit()\n",
    "        print(f\"Duplicates removed from {table_name}.\")\n",
    "    except sqlite3.OperationalError as e:\n",
    "        print(f\"Failed to remove duplicates from {table_name}: {e}\")\n",
    "\n",
    "def main(db_path):\n",
    "    # Connect to the SQLite database\n",
    "    conn = sqlite3.connect(db_path)\n",
    "    cursor = conn.cursor()\n",
    "    \n",
    "    # Fetch all table names in the database\n",
    "    cursor.execute(\"SELECT name FROM sqlite_master WHERE type='table';\")\n",
    "    tables = cursor.fetchall()\n",
    "    \n",
    "    for table_name in tables:\n",
    "        remove_duplicates(conn, table_name[0])\n",
    "    \n",
    "    print(\"Done. All duplicates have been removed.\")\n",
    "    conn.close()\n",
    "\n",
    "# Call the main function\n",
    "if __name__ == \"__main__\":\n",
    "    main(db_path)\n"
   ]
  }
 ],
 "metadata": {
  "kernelspec": {
   "display_name": "data_viz",
   "language": "python",
   "name": "python3"
  },
  "language_info": {
   "codemirror_mode": {
    "name": "ipython",
    "version": 3
   },
   "file_extension": ".py",
   "mimetype": "text/x-python",
   "name": "python",
   "nbconvert_exporter": "python",
   "pygments_lexer": "ipython3",
   "version": "3.12.1"
  }
 },
 "nbformat": 4,
 "nbformat_minor": 2
}
