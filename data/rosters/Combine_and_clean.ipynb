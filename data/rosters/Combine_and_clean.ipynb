{
 "cells": [
  {
   "cell_type": "markdown",
   "metadata": {},
   "source": []
  },
  {
   "cell_type": "code",
   "execution_count": 1,
   "metadata": {},
   "outputs": [
    {
     "name": "stdout",
     "output_type": "stream",
     "text": [
      "['roster_data_1902.csv', 'roster_data_1903.csv', 'roster_data_1904.csv', 'roster_data_1905.csv', 'roster_data_1906.csv', 'roster_data_1907.csv', 'roster_data_1908.csv', 'roster_data_1909.csv', 'roster_data_1910.csv', 'roster_data_1911.csv', 'roster_data_1912.csv', 'roster_data_1913.csv', 'roster_data_1914.csv', 'roster_data_1915.csv', 'roster_data_1916.csv', 'roster_data_1917.csv', 'roster_data_1918.csv', 'roster_data_1919.csv', 'roster_data_1920.csv', 'roster_data_1921.csv', 'roster_data_1922.csv', 'roster_data_1923.csv', 'roster_data_1924.csv', 'roster_data_1925.csv', 'roster_data_1926.csv', 'roster_data_1927.csv', 'roster_data_1928.csv', 'roster_data_1929.csv', 'roster_data_1930.csv', 'roster_data_1931.csv', 'roster_data_1932.csv', 'roster_data_1933.csv', 'roster_data_1934.csv', 'roster_data_1935.csv', 'roster_data_1936.csv', 'roster_data_1937.csv', 'roster_data_1938.csv', 'roster_data_1939.csv', 'roster_data_1940.csv', 'roster_data_1941.csv', 'roster_data_1942.csv', 'roster_data_1943.csv', 'roster_data_1944.csv', 'roster_data_1945.csv', 'roster_data_1946.csv', 'roster_data_1947.csv', 'roster_data_1948.csv', 'roster_data_1949.csv', 'roster_data_1950.csv', 'roster_data_1951.csv', 'roster_data_1952.csv', 'roster_data_1953.csv', 'roster_data_1954.csv', 'roster_data_1955.csv', 'roster_data_1956.csv', 'roster_data_1957.csv', 'roster_data_1958.csv', 'roster_data_1959.csv', 'roster_data_1960.csv', 'roster_data_1961.csv', 'roster_data_1962.csv', 'roster_data_1963.csv', 'roster_data_1964.csv', 'roster_data_1965.csv', 'roster_data_1966.csv', 'roster_data_1967.csv', 'roster_data_1968.csv', 'roster_data_1969.csv', 'roster_data_1970.csv', 'roster_data_1971.csv', 'roster_data_1972.csv', 'roster_data_1973.csv', 'roster_data_1974.csv', 'roster_data_1975.csv', 'roster_data_1976.csv', 'roster_data_1977.csv', 'roster_data_1978.csv', 'roster_data_1979.csv', 'roster_data_1980.csv', 'roster_data_1981.csv', 'roster_data_1982.csv', 'roster_data_1983.csv', 'roster_data_1984.csv', 'roster_data_1985.csv', 'roster_data_1986.csv', 'roster_data_1987.csv', 'roster_data_1989.csv', 'roster_data_1990.csv', 'roster_data_1991.csv', 'roster_data_1992.csv', 'roster_data_1993.csv', 'roster_data_1994.csv', 'roster_data_1996.csv', 'roster_data_1997.csv', 'roster_data_1998.csv', 'roster_data_1999.csv', 'roster_data_2000.csv', 'roster_data_2001.csv', 'roster_data_2003.csv', 'roster_data_2004.csv', 'roster_data_2005.csv', 'roster_data_2006.csv', 'roster_data_2007.csv', 'roster_data_2008.csv', 'roster_data_2009.csv', 'roster_data_2010.csv', 'roster_data_2011.csv', 'roster_data_2012.csv', 'roster_data_2013.csv', 'roster_data_2014.csv', 'roster_data_2015.csv', 'roster_data_2016.csv', 'roster_data_2017.csv', 'roster_data_2018.csv', 'roster_data_2019.csv', 'roster_data_2020.csv', 'roster_data_2021.csv', 'roster_data_2022.csv', 'roster_data_2023.csv']\n"
     ]
    }
   ],
   "source": [
    "import pandas as pd\n",
    "import numpy as np\n",
    "\n",
    "# Load the data\n",
    "\n",
    "folder = 'standardized/'\n",
    "\n",
    "# Print folder contents\n",
    "import os\n",
    "print(os.listdir(folder))"
   ]
  },
  {
   "cell_type": "code",
   "execution_count": 2,
   "metadata": {},
   "outputs": [],
   "source": [
    "# combine all of the data into one dataframe\n",
    "\n",
    "# Create a list of all of the files in the folder\n",
    "files = os.listdir(folder)\n",
    "\n",
    "# Create an empty list to hold the dataframes\n",
    "dataframes = []\n",
    "\n",
    "# Loop through the files\n",
    "for file in files:\n",
    "    # Read in the file\n",
    "    df = pd.read_csv(folder + file)\n",
    "    \n",
    "    # Add a column to the dataframe with the name of the file\n",
    "    df['file'] = file\n",
    "    \n",
    "    # Append the dataframe to the list\n",
    "    dataframes.append(df)\n",
    "\n",
    "# Concatenate the dataframes\n",
    "data = pd.concat(dataframes)\n",
    "\n",
    "## Save data\n",
    "data.to_csv('master_roster.csv', index=False)"
   ]
  },
  {
   "cell_type": "code",
   "execution_count": 3,
   "metadata": {},
   "outputs": [
    {
     "name": "stdout",
     "output_type": "stream",
     "text": [
      "<class 'pandas.core.frame.DataFrame'>\n",
      "Index: 81787 entries, 0 to 1756\n",
      "Data columns (total 24 columns):\n",
      " #   Column         Non-Null Count  Dtype  \n",
      "---  ------         --------------  -----  \n",
      " 0   Team           81759 non-null  object \n",
      " 1   Player         80220 non-null  object \n",
      " 2   No             80220 non-null  float64\n",
      " 3   Position       81759 non-null  object \n",
      " 4   Yr             55904 non-null  object \n",
      " 5   Ht             80157 non-null  object \n",
      " 6   Wt             80220 non-null  float64\n",
      " 7   DOB            58096 non-null  object \n",
      " 8   Hometown       73579 non-null  object \n",
      " 9   Height_Inches  81759 non-null  float64\n",
      " 10  Draft_Year     4256 non-null   float64\n",
      " 11  NHL_Team       4256 non-null   object \n",
      " 12  D_Round        4256 non-null   float64\n",
      " 13  Last Team      38740 non-null  object \n",
      " 14  League         34016 non-null  object \n",
      " 15  Season         80096 non-null  float64\n",
      " 16  file           81787 non-null  object \n",
      " 17  Unnamed: 0     0 non-null      float64\n",
      " 18  No.            1539 non-null   float64\n",
      " 19  Name           1539 non-null   object \n",
      " 20  Yr.            1539 non-null   object \n",
      " 21  Ht.            1539 non-null   object \n",
      " 22  Wt.            1539 non-null   float64\n",
      " 23  Team.1         1539 non-null   object \n",
      "dtypes: float64(9), object(15)\n",
      "memory usage: 15.6+ MB\n"
     ]
    }
   ],
   "source": [
    "data.info()\n",
    "\n",
    "# data.describe()"
   ]
  },
  {
   "cell_type": "code",
   "execution_count": 4,
   "metadata": {},
   "outputs": [
    {
     "name": "stdout",
     "output_type": "stream",
     "text": [
      "81787\n",
      "81759\n",
      "80096\n",
      "78557\n"
     ]
    }
   ],
   "source": [
    "## Transform the Player column - contains captain and co-captain information in parentheses\n",
    "### Remove and store in new column called 'captain'\n",
    "#### example of '(C)' and '(A)' in the Player column - remove and the letter in parentheses in new column\n",
    "\n",
    "data['captain'] = data['Player'].str.extract(r'\\((\\w)\\)')\n",
    "data['Player'] = data['Player'].str.replace(r'\\(\\w\\)', '')\n",
    "\n",
    "\n",
    "\n",
    "## Split the 'Player' column into 'First' and 'Last' columns\n",
    "# data[['First', 'Last']] = data['Player'].str.split(' ', 1, expand=True)\n",
    "\n",
    "data.tail(20)\n",
    "\n",
    "# value_counts() for 'captain' column\n",
    "data['captain'].value_counts()\n",
    "\n",
    "pre_filt1 = data.copy()  \n",
    "# Drop any rows with missing values in the 'Team' column\n",
    "data = data.dropna(subset=['Team'])\n",
    "pre_filt2 = data.copy()\n",
    "# Drop Rows with Empty Season\n",
    "data = data.dropna(subset=['Season'])\n",
    "prefilt3 = data.copy()\n",
    "# drop any rows with missing values in the 'Player' column\n",
    "data = data.dropna(subset=['Player'])\n",
    "\n",
    "# Make sure Season, Height_in & No are ints\n",
    "data['Season'] = data['Season'].astype(int)\n",
    "data['No'] = data['No'].astype(int)\n",
    "data['Height_Inches'] = data['Height_Inches'].astype(int)\n",
    "\n",
    "# If D_Round not Nan then convert to int\n",
    "data['D_Round'] = data['D_Round'].fillna(0)\n",
    "data['D_Round'] = data['D_Round'].astype(int)\n",
    "\n",
    "data['Draft_Year'] = data['Draft_Year'].fillna(0)\n",
    "data['Draft_Year'] = data['Draft_Year'].astype(int)\n",
    "\n",
    "\n",
    "\n",
    "\n",
    "\n",
    "# data['D_Round'] = data['D_Round'].astype(str)\n",
    "\n",
    "# Drop any columns that are all NA\n",
    "data = data.dropna(axis=1, how='all')\n",
    "\n",
    "# Print lengths to check filter\n",
    "print(len(pre_filt1))\n",
    "print(len(pre_filt2))\n",
    "print(len(prefilt3))\n",
    "print(len(data))"
   ]
  },
  {
   "cell_type": "code",
   "execution_count": 5,
   "metadata": {},
   "outputs": [
    {
     "name": "stdout",
     "output_type": "stream",
     "text": [
      "<class 'pandas.core.frame.DataFrame'>\n",
      "Index: 78557 entries, 0 to 1756\n",
      "Data columns (total 18 columns):\n",
      " #   Column         Non-Null Count  Dtype  \n",
      "---  ------         --------------  -----  \n",
      " 0   Team           78557 non-null  object \n",
      " 1   Player         78557 non-null  object \n",
      " 2   No             78557 non-null  int32  \n",
      " 3   Position       78557 non-null  object \n",
      " 4   Yr             54241 non-null  object \n",
      " 5   Ht             78494 non-null  object \n",
      " 6   Wt             78557 non-null  float64\n",
      " 7   DOB            54899 non-null  object \n",
      " 8   Hometown       70377 non-null  object \n",
      " 9   Height_Inches  78557 non-null  int32  \n",
      " 10  Draft_Year     78557 non-null  int32  \n",
      " 11  NHL_Team       3871 non-null   object \n",
      " 12  D_Round        78557 non-null  int32  \n",
      " 13  Last Team      37077 non-null  object \n",
      " 14  League         30835 non-null  object \n",
      " 15  Season         78557 non-null  int32  \n",
      " 16  file           78557 non-null  object \n",
      " 17  captain        2011 non-null   object \n",
      "dtypes: float64(1), int32(5), object(12)\n",
      "memory usage: 9.9+ MB\n"
     ]
    }
   ],
   "source": [
    "## Print selecttion of players  \n",
    "\n",
    "data.sample(25)\n",
    "\n",
    "data.info()"
   ]
  },
  {
   "cell_type": "code",
   "execution_count": 6,
   "metadata": {},
   "outputs": [],
   "source": [
    "## Save the cleaned dataframe to a new csv file\n",
    "data.to_csv('all_time_combined_roster.csv', index=False)"
   ]
  }
 ],
 "metadata": {
  "kernelspec": {
   "display_name": "data_viz",
   "language": "python",
   "name": "python3"
  },
  "language_info": {
   "codemirror_mode": {
    "name": "ipython",
    "version": 3
   },
   "file_extension": ".py",
   "mimetype": "text/x-python",
   "name": "python",
   "nbconvert_exporter": "python",
   "pygments_lexer": "ipython3",
   "version": "3.12.1"
  }
 },
 "nbformat": 4,
 "nbformat_minor": 2
}
