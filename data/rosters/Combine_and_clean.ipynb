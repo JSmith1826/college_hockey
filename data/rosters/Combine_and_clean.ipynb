{
 "cells": [
  {
   "cell_type": "markdown",
   "metadata": {},
   "source": []
  },
  {
   "cell_type": "code",
   "execution_count": 7,
   "metadata": {},
   "outputs": [
    {
     "name": "stdout",
     "output_type": "stream",
     "text": [
      "['roster_data_1902.csv', 'roster_data_1903.csv', 'roster_data_1904.csv', 'roster_data_1905.csv', 'roster_data_1906.csv', 'roster_data_1907.csv', 'roster_data_1908.csv', 'roster_data_1909.csv', 'roster_data_1910.csv', 'roster_data_1911.csv', 'roster_data_1912.csv', 'roster_data_1913.csv', 'roster_data_1914.csv', 'roster_data_1915.csv', 'roster_data_1916.csv', 'roster_data_1917.csv', 'roster_data_1918.csv', 'roster_data_1919.csv', 'roster_data_1920.csv', 'roster_data_1921.csv', 'roster_data_1922.csv', 'roster_data_1923.csv', 'roster_data_1924.csv', 'roster_data_1925.csv', 'roster_data_1926.csv', 'roster_data_1927.csv', 'roster_data_1928.csv', 'roster_data_1929.csv', 'roster_data_1930.csv', 'roster_data_1931.csv', 'roster_data_1932.csv', 'roster_data_1933.csv', 'roster_data_1934.csv', 'roster_data_1935.csv', 'roster_data_1936.csv', 'roster_data_1937.csv', 'roster_data_1938.csv', 'roster_data_1939.csv', 'roster_data_1940.csv', 'roster_data_1941.csv', 'roster_data_1942.csv', 'roster_data_1943.csv', 'roster_data_1944.csv', 'roster_data_1945.csv', 'roster_data_1946.csv', 'roster_data_1947.csv', 'roster_data_1948.csv', 'roster_data_1949.csv', 'roster_data_1950.csv', 'roster_data_1951.csv', 'roster_data_1952.csv', 'roster_data_1953.csv', 'roster_data_1954.csv', 'roster_data_1955.csv', 'roster_data_1956.csv', 'roster_data_1957.csv', 'roster_data_1958.csv', 'roster_data_1959.csv', 'roster_data_1960.csv', 'roster_data_1961.csv', 'roster_data_1962.csv', 'roster_data_1963.csv', 'roster_data_1964.csv', 'roster_data_1965.csv', 'roster_data_1966.csv', 'roster_data_1967.csv', 'roster_data_1968.csv', 'roster_data_1969.csv', 'roster_data_1970.csv', 'roster_data_1971.csv', 'roster_data_1972.csv', 'roster_data_1973.csv', 'roster_data_1974.csv', 'roster_data_1975.csv', 'roster_data_1976.csv', 'roster_data_1977.csv', 'roster_data_1978.csv', 'roster_data_1979.csv', 'roster_data_1980.csv', 'roster_data_1981.csv', 'roster_data_1982.csv', 'roster_data_1983.csv', 'roster_data_1984.csv', 'roster_data_1985.csv', 'roster_data_1986.csv', 'roster_data_1987.csv', 'roster_data_1989.csv', 'roster_data_1990.csv', 'roster_data_1991.csv', 'roster_data_1992.csv', 'roster_data_1993.csv', 'roster_data_1994.csv', 'roster_data_1996.csv', 'roster_data_1997.csv', 'roster_data_1998.csv', 'roster_data_1999.csv', 'roster_data_2000.csv', 'roster_data_2001.csv', 'roster_data_2003.csv', 'roster_data_2004.csv', 'roster_data_2005.csv', 'roster_data_2006.csv', 'roster_data_2007.csv', 'roster_data_2008.csv', 'roster_data_2009.csv', 'roster_data_2010.csv', 'roster_data_2011.csv', 'roster_data_2012.csv', 'roster_data_2013.csv', 'roster_data_2014.csv', 'roster_data_2015.csv', 'roster_data_2016.csv', 'roster_data_2017.csv', 'roster_data_2018.csv', 'roster_data_2019.csv', 'roster_data_2020.csv', 'roster_data_2021.csv', 'roster_data_2022.csv', 'roster_data_2023.csv']\n"
     ]
    }
   ],
   "source": [
    "import pandas as pd\n",
    "import numpy as np\n",
    "\n",
    "# Load the data\n",
    "\n",
    "folder = 'standardized/'\n",
    "\n",
    "# Print folder contents\n",
    "import os\n",
    "print(os.listdir(folder))"
   ]
  },
  {
   "cell_type": "code",
   "execution_count": 8,
   "metadata": {},
   "outputs": [],
   "source": [
    "# combine all of the data into one dataframe\n",
    "\n",
    "# Create a list of all of the files in the folder\n",
    "files = os.listdir(folder)\n",
    "\n",
    "# Create an empty list to hold the dataframes\n",
    "dataframes = []\n",
    "\n",
    "# Loop through the files\n",
    "for file in files:\n",
    "    # Read in the file\n",
    "    df = pd.read_csv(folder + file)\n",
    "    \n",
    "    # Add a column to the dataframe with the name of the file\n",
    "    df['file'] = file\n",
    "    \n",
    "    # Append the dataframe to the list\n",
    "    dataframes.append(df)\n",
    "\n",
    "# Concatenate the dataframes\n",
    "data = pd.concat(dataframes)\n",
    "\n",
    "## Save data\n",
    "data.to_csv('master_roster.csv', index=False)"
   ]
  },
  {
   "cell_type": "code",
   "execution_count": 9,
   "metadata": {},
   "outputs": [
    {
     "name": "stdout",
     "output_type": "stream",
     "text": [
      "<class 'pandas.core.frame.DataFrame'>\n",
      "Index: 81787 entries, 0 to 1756\n",
      "Data columns (total 24 columns):\n",
      " #   Column         Non-Null Count  Dtype  \n",
      "---  ------         --------------  -----  \n",
      " 0   Team           81759 non-null  object \n",
      " 1   Player         80220 non-null  object \n",
      " 2   No             80220 non-null  float64\n",
      " 3   Position       81759 non-null  object \n",
      " 4   Yr             55904 non-null  object \n",
      " 5   Ht             80157 non-null  object \n",
      " 6   Wt             80220 non-null  float64\n",
      " 7   DOB            58096 non-null  object \n",
      " 8   Hometown       73579 non-null  object \n",
      " 9   Height_Inches  81759 non-null  float64\n",
      " 10  Draft_Year     4256 non-null   float64\n",
      " 11  NHL_Team       4256 non-null   object \n",
      " 12  D_Round        4256 non-null   float64\n",
      " 13  Last Team      38740 non-null  object \n",
      " 14  League         34016 non-null  object \n",
      " 15  Season         78414 non-null  float64\n",
      " 16  file           81787 non-null  object \n",
      " 17  Unnamed: 0     0 non-null      float64\n",
      " 18  No.            1539 non-null   float64\n",
      " 19  Name           1539 non-null   object \n",
      " 20  Yr.            1539 non-null   object \n",
      " 21  Ht.            1539 non-null   object \n",
      " 22  Wt.            1539 non-null   float64\n",
      " 23  Team.1         1539 non-null   object \n",
      "dtypes: float64(9), object(15)\n",
      "memory usage: 15.6+ MB\n"
     ]
    }
   ],
   "source": [
    "data.info()\n",
    "\n",
    "# data.describe()"
   ]
  }
 ],
 "metadata": {
  "kernelspec": {
   "display_name": "data_viz",
   "language": "python",
   "name": "python3"
  },
  "language_info": {
   "codemirror_mode": {
    "name": "ipython",
    "version": 3
   },
   "file_extension": ".py",
   "mimetype": "text/x-python",
   "name": "python",
   "nbconvert_exporter": "python",
   "pygments_lexer": "ipython3",
   "version": "3.12.1"
  }
 },
 "nbformat": 4,
 "nbformat_minor": 2
}
