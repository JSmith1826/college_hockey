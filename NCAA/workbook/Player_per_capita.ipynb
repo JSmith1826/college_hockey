{
 "cells": [
  {
   "cell_type": "code",
   "execution_count": null,
   "metadata": {},
   "outputs": [],
   "source": []
  },
  {
   "cell_type": "markdown",
   "metadata": {},
   "source": [
    "## Dependencies"
   ]
  },
  {
   "cell_type": "code",
   "execution_count": 147,
   "metadata": {},
   "outputs": [],
   "source": [
    "# Dependencies\n",
    "import pandas as pd\n",
    "import numpy as np\n",
    "import matplotlib.pyplot as plt\n",
    "import seaborn as sns\n",
    "import matplotlib.pyplot as plt\n",
    "import matplotlib.image as mpimg\n",
    "from matplotlib.offsetbox import OffsetImage, AnnotationBbox\n",
    "import matplotlib.image as mpimg\n",
    "import matplotlib.patches as mpatches\n",
    "from matplotlib.lines import Line2D\n",
    "from matplotlib.offsetbox import OffsetImage, AnnotationBbox\n",
    "from matplotlib.legend_handler import HandlerTuple\n",
    "from matplotlib.legend_handler import HandlerBase\n",
    "from scipy.ndimage import rotate\n",
    "import os\n",
    "import seaborn as sns\n",
    "import sqlite3\n",
    "import matplotlib.pyplot as plt\n",
    "import seaborn as sns\n",
    "import pandas as pd\n",
    "import sqlite3  # Assuming SQL connection for database operations\n",
    "import matplotlib.font_manager as font_manager\n",
    "\n",
    "# \n",
    "font_path = 'C:/Windows/Fonts/Exo 2.tff'\n",
    "\n",
    "### DEFINE TEMP FOLDER - MAKE SURE IT IS NOT OVERWRITTEN BELOW\n",
    "TEMP_FOLDER = '../../NCAA/TEMP/'\n",
    "\n",
    "DATA_FOLDER = '../../NCAA/data/'\n",
    "\n"
   ]
  },
  {
   "cell_type": "markdown",
   "metadata": {},
   "source": [
    "## OVERALL - ALL D1 Players"
   ]
  },
  {
   "cell_type": "code",
   "execution_count": 148,
   "metadata": {},
   "outputs": [],
   "source": [
    "# Load roster data\n",
    "roster_df = pd.read_csv(f'{DATA_FOLDER}roster.csv')\n",
    "\n",
    "# roster_df.info()\n",
    "\n"
   ]
  },
  {
   "cell_type": "code",
   "execution_count": 149,
   "metadata": {},
   "outputs": [],
   "source": [
    "### calculate the average age of each team\n",
    "# roster_df.info()\n",
    "\n",
    "\n",
    "tourney_roster = roster_df.copy()\n",
    "full_tourney_roster = tourney_roster.copy()\n",
    " \n",
    "\n",
    "# Calculate the average age for each team\n",
    "# conver the DOB to datetime\n",
    "tourney_roster['DOB'] = pd.to_datetime(tourney_roster['DOB'])\n",
    "# Make new column for age in days\n",
    "tourney_roster['Age'] = (pd.Timestamp.today() - tourney_roster['DOB']).dt.days / 365.25\n",
    "average_age = tourney_roster.groupby('Team')['Age'].mean().reset_index()\n",
    "\n",
    "# sort the teams by average age\n",
    "average_age = average_age.sort_values('Age', ascending=True)\n",
    "\n"
   ]
  },
  {
   "cell_type": "code",
   "execution_count": 150,
   "metadata": {},
   "outputs": [],
   "source": [
    "## State and Province Abbreviation library\n",
    "canada_provinces = {'Ont.':'Ontario', 'B.C.':'British Columbia', 'Alb.':'Alberta', 'Que.':'Quebec', 'Man.':'Manitoba', 'Sask.': 'Saskatchewan', 'MB':'Manitoba', 'Sask':'Saskatchewan', 'N.S.':'Nova Scotia', 'N.B.':'New Brunswick', 'NB.': 'New Brunswick', 'P.E.I.':'Prince Edward Island', 'Newf.':'Newfoundland and Labrador',\n",
    "                    'N.S.':'Nova Scotia', 'N.B.':'New Brunswick', 'NB.': 'New Brunswick', 'P.E.I.':'Prince Edward Island', 'Newf.':'Newfoundland and Labrador', 'YT.':'Yukon', 'N.W.T.':'Northwest Territories',\n",
    "                    'Nun.':'Nunavut', 'NWT.':'Northwest Territories'}\n",
    "\n",
    "us_states = {'Ala.':'Alabama', 'Alaska':'Alaska', 'Ariz.':'Arizona', 'Ark.':'Arkansas', 'Calif.':'California', 'Colo.':'Colorado', 'Conn.':'Connecticut', 'Del.':'Delaware', 'Fla.':'Florida',\n",
    "                'Ga.':'Georgia', 'Hawaii':'Hawaii', 'Idaho':'Idaho', 'Ill.':'Illinois', 'Ind.':'Indiana', 'Iowa':'Iowa', 'Kan.':'Kansas', 'Ky.':'Kentucky', 'La.':'Louisiana', 'Maine':'Maine',\n",
    "                'Md.':'Maryland', 'Mass.':'Massachusetts', 'Mich.':'Michigan', 'Minn.':'Minnesota', 'Miss.':'Mississippi', 'Mo.':'Missouri', 'Mont.':'Montana', 'Neb.':'Nebraska', 'Nev.':'Nevada',\n",
    "                'N.H.':'New Hampshire', 'N.J.':'New Jersey', 'N.M.':'New Mexico', 'N.Y.':'New York', 'N.C.':'North Carolina', 'N.D.':'North Dakota', 'Ohio':'Ohio', 'Okla.':'Oklahoma', 'Ore.':'Oregon',\n",
    "                'Pa.':'Pennsylvania', 'R.I.':'Rhode Island', 'S.C.':'South Carolina', 'S.D.':'South Dakota', 'Tenn.':'Tennessee', 'Tx':'Texas', 'Tex.':'Texas', 'Tex':'Texas', 'Utah':'Utah', 'Vt.':'Vermont', 'Va.':'Virginia',\n",
    "                'Wash.':'Washington', 'W.Va.':'West Virginia', 'Wis.':'Wisconsin', 'Wisc.':'Wisconsin', 'Wyo.':'Wyoming'}\n",
    "             "
   ]
  },
  {
   "cell_type": "code",
   "execution_count": 151,
   "metadata": {},
   "outputs": [
    {
     "name": "stdout",
     "output_type": "stream",
     "text": [
      "<class 'pandas.core.frame.DataFrame'>\n",
      "RangeIndex: 1757 entries, 0 to 1756\n",
      "Data columns (total 10 columns):\n",
      " #   Column         Non-Null Count  Dtype  \n",
      "---  ------         --------------  -----  \n",
      " 0   Team           1757 non-null   object \n",
      " 1   Player         1757 non-null   object \n",
      " 2   No             1757 non-null   float64\n",
      " 3   Position       1757 non-null   object \n",
      " 4   Yr             1757 non-null   object \n",
      " 5   Ht             1756 non-null   object \n",
      " 6   Wt             1757 non-null   float64\n",
      " 7   DOB            1757 non-null   object \n",
      " 8   Hometown       1755 non-null   object \n",
      " 9   Height_Inches  1757 non-null   float64\n",
      "dtypes: float64(3), object(7)\n",
      "memory usage: 137.4+ KB\n"
     ]
    }
   ],
   "source": [
    "full_tourney_roster.head()\n",
    "\n",
    "# Drop columns that are not needed - past the 7th column\n",
    "full_tourney_roster = full_tourney_roster.drop(full_tourney_roster.columns[10:], axis=1)\n",
    "\n",
    "\n",
    "full_tourney_roster.info()"
   ]
  },
  {
   "cell_type": "code",
   "execution_count": 152,
   "metadata": {},
   "outputs": [],
   "source": [
    "#\n",
    "\n",
    "# Split the Hometown column at the comma\n",
    "full_tourney_roster[['Loc1', 'Loc2']] = full_tourney_roster['Hometown'].str.split(', ', expand=True)\n",
    "\n",
    "# If the Loc2 column is is 'Alaska' add a period to the end of the Loc2 column\n",
    "full_tourney_roster['Loc2'] = full_tourney_roster['Loc2'].apply(lambda x: x + '.' if x == 'Alaska' else x)\n",
    "# Same with Ohio, Iowa, Maine\n",
    "full_tourney_roster['Loc2'] = full_tourney_roster['Loc2'].apply(lambda x: x + '.' if x in ['Ohio', 'Iowa', 'Maine', 'Utah', 'Texas'] else x)\n",
    "\n",
    "# Same for canada provinces with NB, NWT and YT\n",
    "full_tourney_roster['Loc2'] = full_tourney_roster['Loc2'].apply(lambda x: x + '.' if x in ['NB', 'NWT', 'YT'] else x)\n",
    "\n",
    "# If Loc2 does not have a . it is a country and should be moved to a new Country Column, Loc2 COlumn should be cleared\n",
    "full_tourney_roster['Country'] = full_tourney_roster['Loc2'].apply(lambda x: x if isinstance(x, str) and '.' not in x else None)\n",
    "\n",
    "# replace Loc2 columns without '.' with an empty string\n",
    "full_tourney_roster['Loc2'] = full_tourney_roster['Loc2'].apply(lambda x: '' if isinstance(x, str) and '.' not in x else x)\n",
    "\n",
    "\n",
    "\n",
    "# Country Value Count\n",
    "full_tourney_roster['Country'].value_counts()\n",
    "\n",
    "# Apply the substitution dictionary to the Loc2 column - add countries to the Country column while doing the substitution\n",
    "def assign_country_and_loc(row):\n",
    "    # Check if the Loc2 value is in the canada_provinces dictionary\n",
    "    if row['Loc2'] in canada_provinces:\n",
    "        # Replace the Loc2 value\n",
    "        row['Loc2'] = canada_provinces[row['Loc2']]\n",
    "        # Assign 'Canada' to the Country column\n",
    "        row['Country'] = 'Canada'\n",
    "    # Check if the Loc2 value is in the us_states dictionary\n",
    "    elif row['Loc2'] in us_states:\n",
    "        # Replace the Loc2 value\n",
    "        row['Loc2'] = us_states[row['Loc2']]\n",
    "        # Assign 'USA' to the Country column\n",
    "        row['Country'] = 'USA'\n",
    "    # If the Loc2 value is not in either dictionary, do not change the Country value\n",
    "    return row\n",
    "\n",
    "# Strip the City, State, and COuntry column of any leading or trailing whitespace\n",
    "full_tourney_roster['Loc1'] = full_tourney_roster['Loc1'].str.strip()\n",
    "full_tourney_roster['Loc2'] = full_tourney_roster['Loc2'].str.strip()\n",
    "\n",
    "\n",
    "# Apply the function to each row\n",
    "full_tourney_roster = full_tourney_roster.apply(assign_country_and_loc, axis=1)\n",
    "\n",
    "\n",
    "\n",
    "# full_tourney_roster.sample(20)\n",
    "\n",
    "full_tourney_roster['Loc2'].value_counts()\n",
    "# full_tourney_roster['Country'].value_counts()\n",
    "location_df = full_tourney_roster[['Team', 'Player', 'Position', 'Loc1', 'Loc2', 'Country']]\n",
    "# Rename Loc1 and Loc2 to City and State/Province\n",
    "location_df = location_df.rename(columns={'Loc1': 'City', 'Loc2': 'State/Province'})\n",
    "# Strip the City, State, and COuntry column of any leading or trailing whitespace\n",
    "location_df['City'] = location_df['City'].str.strip()\n",
    "location_df['State/Province'] = location_df['State/Province'].str.strip()\n",
    "location_df['Country'] = location_df['Country'].str.strip()\n",
    "\n",
    "# If the State/Province is Alaska. set it to Alaska\n",
    "location_df['State/Province'] = location_df['State/Province'].apply(lambda x: 'Alaska' if x == 'Alaska.' else x)\n",
    "# Add USA to the Country column for Alaska\n",
    "location_df['Country'] = location_df.apply(lambda x: 'USA' if x['State/Province'] == 'Alaska' else x['Country'], axis=1)\n",
    "# Same for Iowa and Ohio and Utah and Texas\n",
    "location_df['State/Province'] = location_df['State/Province'].apply(lambda x: 'Texas' if x == 'Texas.' else x)\n",
    "location_df['Country'] = location_df.apply(lambda x: 'USA' if x['State/Province'] == 'Texas' else x['Country'], axis=1)\n",
    "\n",
    "\n",
    "location_df['State/Province'] = location_df['State/Province'].apply(lambda x: 'Utah' if x == 'Utah.' else x)\n",
    "location_df['Country'] = location_df.apply(lambda x: 'USA' if x['State/Province'] == 'Utah' else x['Country'], axis=1)\n",
    "\n",
    "\n",
    "location_df['State/Province'] = location_df['State/Province'].apply(lambda x: 'Idaho' if x == 'Idaho.' else x)\n",
    "location_df['Country'] = location_df.apply(lambda x: 'USA' if x['State/Province'] == 'Idaho' else x['Country'], axis=1)\n",
    "\n",
    "location_df['State/Province'] = location_df['State/Province'].apply(lambda x: 'Iowa' if x == 'Iowa.' else x)\n",
    "location_df['Country'] = location_df.apply(lambda x: 'USA' if x['State/Province'] == 'Iowa' else x['Country'], axis=1)\n",
    "location_df['State/Province'] = location_df['State/Province'].apply(lambda x: 'Ohio' if x == 'Ohio.' else x)\n",
    "location_df['Country'] = location_df.apply(lambda x: 'USA' if x['State/Province'] == 'Ohio' else x['Country'], axis=1)\n",
    "# Same for Maine\n",
    "location_df['State/Province'] = location_df['State/Province'].apply(lambda x: 'Maine' if x == 'Maine.' else x)\n",
    "location_df['Country'] = location_df.apply(lambda x: 'USA' if x['State/Province'] == 'Maine' else x['Country'], axis=1)\n",
    "\n",
    "\n",
    "\n",
    "\n",
    "# location_df.head(20)"
   ]
  },
  {
   "cell_type": "code",
   "execution_count": 153,
   "metadata": {},
   "outputs": [
    {
     "data": {
      "text/html": [
       "<div>\n",
       "<style scoped>\n",
       "    .dataframe tbody tr th:only-of-type {\n",
       "        vertical-align: middle;\n",
       "    }\n",
       "\n",
       "    .dataframe tbody tr th {\n",
       "        vertical-align: top;\n",
       "    }\n",
       "\n",
       "    .dataframe thead th {\n",
       "        text-align: right;\n",
       "    }\n",
       "</style>\n",
       "<table border=\"1\" class=\"dataframe\">\n",
       "  <thead>\n",
       "    <tr style=\"text-align: right;\">\n",
       "      <th></th>\n",
       "      <th>Team</th>\n",
       "      <th>Player</th>\n",
       "      <th>Position</th>\n",
       "      <th>City</th>\n",
       "      <th>State/Province</th>\n",
       "      <th>Country</th>\n",
       "    </tr>\n",
       "  </thead>\n",
       "  <tbody>\n",
       "    <tr>\n",
       "      <th>325</th>\n",
       "      <td>RIT</td>\n",
       "      <td>Simon Isabelle</td>\n",
       "      <td>Forwards</td>\n",
       "      <td>Whitehorse</td>\n",
       "      <td></td>\n",
       "      <td>Yukon</td>\n",
       "    </tr>\n",
       "  </tbody>\n",
       "</table>\n",
       "</div>"
      ],
      "text/plain": [
       "    Team          Player  Position        City State/Province Country\n",
       "325  RIT  Simon Isabelle  Forwards  Whitehorse                  Yukon"
      ]
     },
     "execution_count": 153,
     "metadata": {},
     "output_type": "execute_result"
    }
   ],
   "source": [
    "location_df['State/Province'].value_counts()\n",
    "\n",
    "# Country Value Count\n",
    "location_df['Country'].value_counts()\n",
    "\n",
    "# Show the Tyrone Bronte example\n",
    "location_df[location_df['Player'] == 'Tyrone Bronte']\n",
    "\n",
    "location_df[location_df['Country'] == 'Yukon']\n"
   ]
  },
  {
   "cell_type": "code",
   "execution_count": 154,
   "metadata": {},
   "outputs": [],
   "source": [
    "## HOT FIX for the weird ones\n",
    "# If Country = Tx fix the row - State/Province = Texas, Country = USA\n",
    "location_df.loc[location_df['Country'] == 'Tx', 'State/Province'] = 'Texas'\n",
    "location_df.loc[location_df['Country'] == 'Tx', 'Country'] = 'USA'\n",
    "\n",
    "\n",
    "\n",
    "# Same THing for MB (Manatoba)\n",
    "location_df.loc[location_df['Country'] == 'MB', 'State/Province'] = 'Manitoba'\n",
    "location_df.loc[location_df['Country'] == 'MB', 'Country'] = 'Canada'\n",
    "\n",
    "# Same THing for Yukon \n",
    "location_df.loc[location_df['Country'] == 'Yukon', 'State/Province'] = 'Yukon'\n",
    "location_df.loc[location_df['State/Province'] == 'Yukon', 'Country'] = 'Canada'\n",
    "\n",
    "\n",
    "# IF Country = AUT fix the row - Country = Austria\n",
    "location_df.loc[location_df['Country'] == 'AUT', 'Country'] = 'Austria'\n",
    "\n",
    "# Fix MTech player incorrectly from Austria, Change to Australia (Tyrone Bronte)\n",
    "location_df.loc[location_df['Player'] == 'Tyrone Bronte', 'Country'] = 'Australia'\n",
    "\n",
    "\n",
    "location_df['Country'].value_counts()\n",
    "\n",
    "\n",
    "# Export the location data to a CSV file\n",
    "location_df.to_csv(f'{TEMP_FOLDER}Overall_player_hometown_table.csv', index=False)\n",
    "\n",
    "\n",
    "\n"
   ]
  },
  {
   "cell_type": "code",
   "execution_count": 155,
   "metadata": {},
   "outputs": [
    {
     "data": {
      "text/plain": [
       "(40, 12, 22)"
      ]
     },
     "execution_count": 155,
     "metadata": {},
     "output_type": "execute_result"
    }
   ],
   "source": [
    "# Get a count of the # of US States, Canadian Provinces, and Countries represented in the tournament\n",
    "us_states_count = location_df[location_df['Country'] == 'USA']['State/Province'].nunique()\n",
    "canadian_provinces_count = location_df[location_df['Country'] == 'Canada']['State/Province'].nunique()\n",
    "countries_count = location_df['Country'].nunique()\n",
    "\n",
    "us_states_count, canadian_provinces_count, countries_count"
   ]
  },
  {
   "cell_type": "markdown",
   "metadata": {},
   "source": [
    "## Census Data"
   ]
  },
  {
   "cell_type": "code",
   "execution_count": 156,
   "metadata": {},
   "outputs": [],
   "source": [
    "### Open Census 2023 Estimate Table\n",
    "\n",
    "# Load the Census 2023 Estimate Table from DATA_FOLDER\n",
    "census_df = pd.read_csv(f'{DATA_FOLDER}2023_Census_est.csv')\n",
    "\n",
    "# Rename columns for easier access\n",
    "census_df = census_df.rename(columns={'State or territory': 'State/Province', 'Census population[8][a] July 1, 2023 (est.)': 'Population_2023'})\n",
    "\n",
    "# Display the first few rows of the Census DataFrame\n",
    "# census_df.head()\n"
   ]
  },
  {
   "cell_type": "code",
   "execution_count": 157,
   "metadata": {},
   "outputs": [],
   "source": [
    "location_df\n",
    "\n",
    "state_df = location_df.groupby('State/Province').size().reset_index(name='Num_Players') # OLD\n",
    "# state_df = location_df\n",
    "\n",
    "# state_df"
   ]
  },
  {
   "cell_type": "code",
   "execution_count": 158,
   "metadata": {},
   "outputs": [],
   "source": [
    "import pandas as pd\n",
    "\n",
    "\n",
    "\n",
    "# Load US area data\n",
    "us_area_df = pd.read_csv(f'{DATA_FOLDER}US_area.csv')\n",
    "\n",
    "# Rename Land area km2 to Area_km2\n",
    "us_area_df = us_area_df.rename(columns={'Land area km2': 'Area_km2', 'State / territory': 'State/Province'})\n",
    "\n",
    "## Load Canadian Provinces Population Data\n",
    "canada_pop_df = pd.read_csv(f'{DATA_FOLDER}Canada_2021_Census.csv')\n",
    "\n",
    "# Rename columns for easier access\n",
    "canada_pop_df = canada_pop_df.rename(columns={'Name': 'State/Province', 'Land area (km2)':'Area_km2'})\n",
    "\n",
    "                                     \n",
    "# Display the first few rows of the Canadian Population DataFrame\n",
    "# canada_pop_df.head()\n",
    "\n",
    "# Merge the state_df with the census_df on the 'State/Province' column\n",
    "merged_df = state_df.merge(census_df, left_on='State/Province', right_on='State/Province', how='left')\n",
    "merged_df = merged_df.merge(canada_pop_df, left_on='State/Province', right_on='State/Province', how='left')\n",
    "# Merge Area\n",
    "merged_df = merged_df.merge(us_area_df, left_on='State/Province', right_on='State/Province', how='left')\n",
    "# Combine Area_km2 (USA) and Area_km2 (CAN) columns into a single column\n",
    "merged_df['Area_km2'] = merged_df['Area_km2_x'].fillna(merged_df['Area_km2_y'])\n",
    "# Drop old columns\n",
    "merged_df = merged_df.drop(columns=['Area_km2_x', 'Area_km2_y', 'Total area km2'])\n",
    "\n",
    "# Combine the Population_2023 (USA) and 2021_census (CAN) columns into a single column\n",
    "merged_df['Population'] = merged_df['Population_2023'].fillna(merged_df['2021_census'])\n",
    "\n",
    "# Drop columns that are no longer needed (2-4)\n",
    "merged_df = merged_df.drop(columns=['Population_2023', '2021_census', '2021 census %'])\n",
    "\n",
    "# Drop any rows with missing values in the Population column\n",
    "merged_df = merged_df.dropna(subset=['Population'])\n",
    "# remove all commas from the population column\n",
    "merged_df['Population'] = merged_df['Population'].str.replace(',', '')\n",
    "# Ensure the column is of type int\n",
    "merged_df['Population'] = merged_df['Population'].astype(int)\n",
    "\n",
    "# Calculate the number of players per 100,000 residents\n",
    "merged_df['Players_per_100k'] = (merged_df['Num_Players'] / merged_df['Population']) * 100000\n",
    "\n",
    "# Remove all , from the Area_km2 column then convert to float\n",
    "merged_df['Area_km2'] = merged_df['Area_km2'].str.replace(',', '')\n",
    "merged_df['Area_km2'] = merged_df['Area_km2'].astype(float)\n",
    "\n",
    "# Calculate the number of players per 100 km^2\n",
    "merged_df['Players_per_10k_km2'] = (merged_df['Num_Players'] / merged_df['Area_km2']) * 10000\n",
    "\n",
    "# Save csv for checking\n",
    "merged_df.to_csv(f'{TEMP_FOLDER}Overall_Players_per_capita.csv', index=False)\n",
    "\n",
    "# merged_df\n"
   ]
  },
  {
   "cell_type": "markdown",
   "metadata": {},
   "source": [
    "## END OVERALL"
   ]
  },
  {
   "cell_type": "markdown",
   "metadata": {},
   "source": [
    "## START NCAA "
   ]
  },
  {
   "cell_type": "code",
   "execution_count": 159,
   "metadata": {},
   "outputs": [],
   "source": [
    "# Load roster data\n",
    "roster_df = pd.read_csv(f'{DATA_FOLDER}roster.csv')"
   ]
  },
  {
   "cell_type": "code",
   "execution_count": 160,
   "metadata": {},
   "outputs": [],
   "source": [
    "\n",
    "# Team Color Information\n",
    "            # path to table with hex codes\n",
    "team_color_path = os.path.join(DATA_FOLDER, 'team_color_book.csv')\n",
    "team_colors = pd.read_csv(team_color_path)\n",
    "\n",
    "team_colors\n",
    "\n",
    "# Convert the 'Team' and 'Hex1' columns of team_colors_df into a dictionary\n",
    "team_colors_dict = pd.Series(team_colors.Hex1.values, index=team_colors.Team).to_dict()\n",
    "\n",
    "### calculate the average age of each team\n",
    "# roster_df.info()\n",
    "\n",
    "# filter to only the teams in the tournament (from team_colors_dict)\n",
    "tourney_teams = list(team_colors_dict.keys())\n",
    "\n",
    "tourney_roster = roster_df[roster_df['Team'].isin(tourney_teams)]\n",
    "full_tourney_roster = tourney_roster.copy()\n",
    " \n"
   ]
  },
  {
   "cell_type": "code",
   "execution_count": 161,
   "metadata": {},
   "outputs": [],
   "source": [
    "## State and Province Abbreviation library\n",
    "canada_provinces = {'Ont.':'Ontario', 'B.C.':'British Columbia', 'Alb.':'Alberta', 'Que.':'Quebec', 'Man.':'Manitoba', 'Sask.': 'Saskatchewan', 'MB':'Manitoba', 'Sask':'Saskatchewan', 'N.S.':'Nova Scotia', 'N.B.':'New Brunswick', 'NB.': 'New Brunswick', 'P.E.I.':'Prince Edward Island', 'Newf.':'Newfoundland and Labrador',\n",
    "                    'N.S.':'Nova Scotia', 'N.B.':'New Brunswick', 'NB.': 'New Brunswick', 'P.E.I.':'Prince Edward Island', 'Newf.':'Newfoundland and Labrador', 'YT.':'Yukon', 'N.W.T.':'Northwest Territories',\n",
    "                    'Nun.':'Nunavut', 'NWT.':'Northwest Territories'}\n",
    "\n",
    "us_states = {'Ala.':'Alabama', 'Alaska':'Alaska', 'Ariz.':'Arizona', 'Ark.':'Arkansas', 'Calif.':'California', 'Colo.':'Colorado', 'Conn.':'Connecticut', 'Del.':'Delaware', 'Fla.':'Florida',\n",
    "                'Ga.':'Georgia', 'Hawaii':'Hawaii', 'Idaho':'Idaho', 'Ill.':'Illinois', 'Ind.':'Indiana', 'Iowa':'Iowa', 'Kan.':'Kansas', 'Ky.':'Kentucky', 'La.':'Louisiana', 'Maine':'Maine',\n",
    "                'Md.':'Maryland', 'Mass.':'Massachusetts', 'Mich.':'Michigan', 'Minn.':'Minnesota', 'Miss.':'Mississippi', 'Mo.':'Missouri', 'Mont.':'Montana', 'Neb.':'Nebraska', 'Nev.':'Nevada',\n",
    "                'N.H.':'New Hampshire', 'N.J.':'New Jersey', 'N.M.':'New Mexico', 'N.Y.':'New York', 'N.C.':'North Carolina', 'N.D.':'North Dakota', 'Ohio':'Ohio', 'Okla.':'Oklahoma', 'Ore.':'Oregon',\n",
    "                'Pa.':'Pennsylvania', 'R.I.':'Rhode Island', 'S.C.':'South Carolina', 'S.D.':'South Dakota', 'Tenn.':'Tennessee', 'Tx':'Texas', 'Tex.':'Texas', 'Tex':'Texas', 'Utah':'Utah', 'Vt.':'Vermont', 'Va.':'Virginia',\n",
    "                'Wash.':'Washington', 'W.Va.':'West Virginia', 'Wis.':'Wisconsin', 'Wisc.':'Wisconsin', 'Wyo.':'Wyoming'}\n",
    "             "
   ]
  },
  {
   "cell_type": "code",
   "execution_count": 162,
   "metadata": {},
   "outputs": [
    {
     "name": "stdout",
     "output_type": "stream",
     "text": [
      "<class 'pandas.core.frame.DataFrame'>\n",
      "Index: 438 entries, 112 to 1614\n",
      "Data columns (total 10 columns):\n",
      " #   Column         Non-Null Count  Dtype  \n",
      "---  ------         --------------  -----  \n",
      " 0   Team           438 non-null    object \n",
      " 1   Player         438 non-null    object \n",
      " 2   No             438 non-null    float64\n",
      " 3   Position       438 non-null    object \n",
      " 4   Yr             438 non-null    object \n",
      " 5   Ht             438 non-null    object \n",
      " 6   Wt             438 non-null    float64\n",
      " 7   DOB            438 non-null    object \n",
      " 8   Hometown       438 non-null    object \n",
      " 9   Height_Inches  438 non-null    float64\n",
      "dtypes: float64(3), object(7)\n",
      "memory usage: 37.6+ KB\n"
     ]
    }
   ],
   "source": [
    "full_tourney_roster.head()\n",
    "\n",
    "# Drop columns that are not needed - past the 7th column\n",
    "full_tourney_roster = full_tourney_roster.drop(full_tourney_roster.columns[10:], axis=1)\n",
    "\n",
    "\n",
    "full_tourney_roster.info()"
   ]
  },
  {
   "cell_type": "code",
   "execution_count": 163,
   "metadata": {},
   "outputs": [],
   "source": [
    "#\n",
    "\n",
    "# Split the Hometown column at the comma\n",
    "full_tourney_roster[['Loc1', 'Loc2']] = full_tourney_roster['Hometown'].str.split(', ', expand=True)\n",
    "\n",
    "# If the Loc2 column is is 'Alaska' add a period to the end of the Loc2 column\n",
    "full_tourney_roster['Loc2'] = full_tourney_roster['Loc2'].apply(lambda x: x + '.' if x == 'Alaska' else x)\n",
    "# Same with Ohio, Iowa, Maine\n",
    "full_tourney_roster['Loc2'] = full_tourney_roster['Loc2'].apply(lambda x: x + '.' if x in ['Ohio', 'Iowa', 'Maine', 'Utah', 'Texas'] else x)\n",
    "\n",
    "# Same for canada provinces with NB, NWT and YT\n",
    "full_tourney_roster['Loc2'] = full_tourney_roster['Loc2'].apply(lambda x: x + '.' if x in ['NB', 'NWT', 'YT'] else x)\n",
    "\n",
    "# If Loc2 does not have a . it is a country and should be moved to a new Country Column, Loc2 COlumn should be cleared\n",
    "full_tourney_roster['Country'] = full_tourney_roster['Loc2'].apply(lambda x: x if isinstance(x, str) and '.' not in x else None)\n",
    "\n",
    "# replace Loc2 columns without '.' with an empty string\n",
    "full_tourney_roster['Loc2'] = full_tourney_roster['Loc2'].apply(lambda x: '' if isinstance(x, str) and '.' not in x else x)\n",
    "\n",
    "\n",
    "\n",
    "# Country Value Count\n",
    "full_tourney_roster['Country'].value_counts()\n",
    "\n",
    "# Apply the substitution dictionary to the Loc2 column - add countries to the Country column while doing the substitution\n",
    "def assign_country_and_loc(row):\n",
    "    # Check if the Loc2 value is in the canada_provinces dictionary\n",
    "    if row['Loc2'] in canada_provinces:\n",
    "        # Replace the Loc2 value\n",
    "        row['Loc2'] = canada_provinces[row['Loc2']]\n",
    "        # Assign 'Canada' to the Country column\n",
    "        row['Country'] = 'Canada'\n",
    "    # Check if the Loc2 value is in the us_states dictionary\n",
    "    elif row['Loc2'] in us_states:\n",
    "        # Replace the Loc2 value\n",
    "        row['Loc2'] = us_states[row['Loc2']]\n",
    "        # Assign 'USA' to the Country column\n",
    "        row['Country'] = 'USA'\n",
    "    # If the Loc2 value is not in either dictionary, do not change the Country value\n",
    "    return row\n",
    "\n",
    "# Strip the City, State, and COuntry column of any leading or trailing whitespace\n",
    "full_tourney_roster['Loc1'] = full_tourney_roster['Loc1'].str.strip()\n",
    "full_tourney_roster['Loc2'] = full_tourney_roster['Loc2'].str.strip()\n",
    "\n",
    "\n",
    "# Apply the function to each row\n",
    "full_tourney_roster = full_tourney_roster.apply(assign_country_and_loc, axis=1)\n",
    "\n",
    "\n",
    "\n",
    "# full_tourney_roster.sample(20)\n",
    "\n",
    "full_tourney_roster['Loc2'].value_counts()\n",
    "# full_tourney_roster['Country'].value_counts()\n",
    "location_df = full_tourney_roster[['Team', 'Player', 'Position', 'Loc1', 'Loc2', 'Country']]\n",
    "# Rename Loc1 and Loc2 to City and State/Province\n",
    "location_df = location_df.rename(columns={'Loc1': 'City', 'Loc2': 'State/Province'})\n",
    "# Strip the City, State, and COuntry column of any leading or trailing whitespace\n",
    "location_df['City'] = location_df['City'].str.strip()\n",
    "location_df['State/Province'] = location_df['State/Province'].str.strip()\n",
    "location_df['Country'] = location_df['Country'].str.strip()\n",
    "\n",
    "# If the State/Province is Alaska. set it to Alaska\n",
    "location_df['State/Province'] = location_df['State/Province'].apply(lambda x: 'Alaska' if x == 'Alaska.' else x)\n",
    "# Add USA to the Country column for Alaska\n",
    "location_df['Country'] = location_df.apply(lambda x: 'USA' if x['State/Province'] == 'Alaska' else x['Country'], axis=1)\n",
    "# Same for Iowa and Ohio and Utah and Texas\n",
    "location_df['State/Province'] = location_df['State/Province'].apply(lambda x: 'Texas' if x == 'Texas.' else x)\n",
    "location_df['Country'] = location_df.apply(lambda x: 'USA' if x['State/Province'] == 'Texas' else x['Country'], axis=1)\n",
    "\n",
    "\n",
    "location_df['State/Province'] = location_df['State/Province'].apply(lambda x: 'Utah' if x == 'Utah.' else x)\n",
    "location_df['Country'] = location_df.apply(lambda x: 'USA' if x['State/Province'] == 'Utah' else x['Country'], axis=1)\n",
    "\n",
    "\n",
    "location_df['State/Province'] = location_df['State/Province'].apply(lambda x: 'Idaho' if x == 'Idaho.' else x)\n",
    "location_df['Country'] = location_df.apply(lambda x: 'USA' if x['State/Province'] == 'Idaho' else x['Country'], axis=1)\n",
    "\n",
    "location_df['State/Province'] = location_df['State/Province'].apply(lambda x: 'Iowa' if x == 'Iowa.' else x)\n",
    "location_df['Country'] = location_df.apply(lambda x: 'USA' if x['State/Province'] == 'Iowa' else x['Country'], axis=1)\n",
    "location_df['State/Province'] = location_df['State/Province'].apply(lambda x: 'Ohio' if x == 'Ohio.' else x)\n",
    "location_df['Country'] = location_df.apply(lambda x: 'USA' if x['State/Province'] == 'Ohio' else x['Country'], axis=1)\n",
    "# Same for Maine\n",
    "location_df['State/Province'] = location_df['State/Province'].apply(lambda x: 'Maine' if x == 'Maine.' else x)\n",
    "location_df['Country'] = location_df.apply(lambda x: 'USA' if x['State/Province'] == 'Maine' else x['Country'], axis=1)\n",
    "\n",
    "\n",
    "\n",
    "\n",
    "# location_df.head(20)"
   ]
  },
  {
   "cell_type": "code",
   "execution_count": 164,
   "metadata": {},
   "outputs": [],
   "source": [
    "## HOT FIX for the weird ones\n",
    "# If Country = Tx fix the row - State/Province = Texas, Country = USA\n",
    "location_df.loc[location_df['Country'] == 'Tx', 'State/Province'] = 'Texas'\n",
    "location_df.loc[location_df['Country'] == 'Tx', 'Country'] = 'USA'\n",
    "\n",
    "\n",
    "\n",
    "# Same THing for MB (Manatoba)\n",
    "location_df.loc[location_df['Country'] == 'MB', 'State/Province'] = 'Manitoba'\n",
    "location_df.loc[location_df['Country'] == 'MB', 'Country'] = 'Canada'\n",
    "\n",
    "# Same THing for Yukon \n",
    "location_df.loc[location_df['Country'] == 'Yukon', 'State/Province'] = 'Yukon'\n",
    "location_df.loc[location_df['State/Province'] == 'Yukon', 'Country'] = 'Canada'\n",
    "\n",
    "\n",
    "# IF Country = AUT fix the row - Country = Austria\n",
    "location_df.loc[location_df['Country'] == 'AUT', 'Country'] = 'Austria'\n",
    "\n",
    "# Fix MTech player incorrectly from Austria, Change to Australia (Tyrone Bronte)\n",
    "location_df.loc[location_df['Player'] == 'Tyrone Bronte', 'Country'] = 'Australia'\n",
    "\n",
    "\n",
    "location_df['Country'].value_counts()\n",
    "\n",
    "\n",
    "# Export the location data to a CSV file\n",
    "location_df.to_csv(f'{TEMP_FOLDER}NCAA_player_hometown_table.csv', index=False)\n",
    "\n",
    "\n",
    "\n"
   ]
  },
  {
   "cell_type": "code",
   "execution_count": 165,
   "metadata": {},
   "outputs": [
    {
     "data": {
      "text/plain": [
       "(29, 11, 13)"
      ]
     },
     "execution_count": 165,
     "metadata": {},
     "output_type": "execute_result"
    }
   ],
   "source": [
    "# Get a count of the # of US States, Canadian Provinces, and Countries represented in the tournament\n",
    "us_states_count = location_df[location_df['Country'] == 'USA']['State/Province'].nunique()\n",
    "canadian_provinces_count = location_df[location_df['Country'] == 'Canada']['State/Province'].nunique()\n",
    "countries_count = location_df['Country'].nunique()\n",
    "\n",
    "us_states_count, canadian_provinces_count, countries_count"
   ]
  },
  {
   "cell_type": "code",
   "execution_count": 166,
   "metadata": {},
   "outputs": [
    {
     "data": {
      "text/plain": [
       "(29, 11, 13)"
      ]
     },
     "execution_count": 166,
     "metadata": {},
     "output_type": "execute_result"
    }
   ],
   "source": [
    "# Get a count of the # of US States, Canadian Provinces, and Countries represented in the tournament\n",
    "us_states_count = location_df[location_df['Country'] == 'USA']['State/Province'].nunique()\n",
    "canadian_provinces_count = location_df[location_df['Country'] == 'Canada']['State/Province'].nunique()\n",
    "countries_count = location_df['Country'].nunique()\n",
    "\n",
    "us_states_count, canadian_provinces_count, countries_count"
   ]
  },
  {
   "cell_type": "code",
   "execution_count": 167,
   "metadata": {},
   "outputs": [],
   "source": [
    "location_df\n",
    "\n",
    "state_df = location_df.groupby('State/Province').size().reset_index(name='Num_Players') # OLD\n",
    "# state_df = location_df\n",
    "\n",
    "# state_df"
   ]
  },
  {
   "cell_type": "code",
   "execution_count": 168,
   "metadata": {},
   "outputs": [],
   "source": [
    "import pandas as pd\n",
    "\n",
    "\n",
    "\n",
    "# Load US area data\n",
    "us_area_df = pd.read_csv(f'{DATA_FOLDER}US_area.csv')\n",
    "\n",
    "# Rename Land area km2 to Area_km2\n",
    "us_area_df = us_area_df.rename(columns={'Land area km2': 'Area_km2', 'State / territory': 'State/Province'})\n",
    "\n",
    "## Load Canadian Provinces Population Data\n",
    "canada_pop_df = pd.read_csv(f'{DATA_FOLDER}Canada_2021_Census.csv')\n",
    "\n",
    "# Rename columns for easier access\n",
    "canada_pop_df = canada_pop_df.rename(columns={'Name': 'State/Province', 'Land area (km2)':'Area_km2'})\n",
    "\n",
    "                                     \n",
    "# Display the first few rows of the Canadian Population DataFrame\n",
    "# canada_pop_df.head()\n",
    "\n",
    "# Merge the state_df with the census_df on the 'State/Province' column\n",
    "merged_df = state_df.merge(census_df, left_on='State/Province', right_on='State/Province', how='left')\n",
    "merged_df = merged_df.merge(canada_pop_df, left_on='State/Province', right_on='State/Province', how='left')\n",
    "# Merge Area\n",
    "merged_df = merged_df.merge(us_area_df, left_on='State/Province', right_on='State/Province', how='left')\n",
    "# Combine Area_km2 (USA) and Area_km2 (CAN) columns into a single column\n",
    "merged_df['Area_km2'] = merged_df['Area_km2_x'].fillna(merged_df['Area_km2_y'])\n",
    "# Drop old columns\n",
    "merged_df = merged_df.drop(columns=['Area_km2_x', 'Area_km2_y', 'Total area km2'])\n",
    "\n",
    "# Combine the Population_2023 (USA) and 2021_census (CAN) columns into a single column\n",
    "merged_df['Population'] = merged_df['Population_2023'].fillna(merged_df['2021_census'])\n",
    "\n",
    "# Drop columns that are no longer needed (2-4)\n",
    "merged_df = merged_df.drop(columns=['Population_2023', '2021_census', '2021 census %'])\n",
    "\n",
    "# Drop any rows with missing values in the Population column\n",
    "merged_df = merged_df.dropna(subset=['Population'])\n",
    "# remove all commas from the population column\n",
    "merged_df['Population'] = merged_df['Population'].str.replace(',', '')\n",
    "# Ensure the column is of type int\n",
    "merged_df['Population'] = merged_df['Population'].astype(int)\n",
    "\n",
    "# Calculate the number of players per 100,000 residents\n",
    "merged_df['Players_per_100k'] = (merged_df['Num_Players'] / merged_df['Population']) * 100000\n",
    "\n",
    "# Remove all , from the Area_km2 column then convert to float\n",
    "merged_df['Area_km2'] = merged_df['Area_km2'].str.replace(',', '')\n",
    "merged_df['Area_km2'] = merged_df['Area_km2'].astype(float)\n",
    "\n",
    "# Calculate the number of players per 100 km^2\n",
    "merged_df['Players_per_10k_km2'] = (merged_df['Num_Players'] / merged_df['Area_km2']) * 10000\n",
    "\n",
    "# Save csv for checking\n",
    "merged_df.to_csv(f'{TEMP_FOLDER}NCAA_Players_per_capita.csv', index=False)\n",
    "\n",
    "# merged_df\n"
   ]
  },
  {
   "cell_type": "code",
   "execution_count": null,
   "metadata": {},
   "outputs": [],
   "source": []
  },
  {
   "cell_type": "code",
   "execution_count": null,
   "metadata": {},
   "outputs": [],
   "source": []
  },
  {
   "cell_type": "code",
   "execution_count": null,
   "metadata": {},
   "outputs": [],
   "source": []
  },
  {
   "cell_type": "code",
   "execution_count": null,
   "metadata": {},
   "outputs": [],
   "source": []
  },
  {
   "cell_type": "markdown",
   "metadata": {},
   "source": [
    "## END NCAA "
   ]
  },
  {
   "cell_type": "markdown",
   "metadata": {},
   "source": [
    "## COMBINE TO SINGLE EXCEL BOOK"
   ]
  },
  {
   "cell_type": "code",
   "execution_count": 169,
   "metadata": {},
   "outputs": [],
   "source": [
    "## Combine 4 csv files into one excel file, each csv a different sheet\n",
    "# Load the 4 CSV files\n",
    "directory = '../data/tableau_tables/'\n",
    "\n"
   ]
  },
  {
   "cell_type": "code",
   "execution_count": 171,
   "metadata": {},
   "outputs": [
    {
     "name": "stdout",
     "output_type": "stream",
     "text": [
      "All CSV files have been combined into ../data/tableau_tables/Combined_Book.xlsx\n"
     ]
    }
   ],
   "source": [
    "import pandas as pd\n",
    "import os\n",
    "\n",
    "\n",
    "\n",
    "# The path for the Excel file you want to create\n",
    "excel_file_path = f'{directory}Combined_Book.xlsx'\n",
    "\n",
    "# Create a Pandas Excel writer using XlsxWriter as the engine\n",
    "with pd.ExcelWriter(excel_file_path, engine='xlsxwriter') as writer:\n",
    "    # Iterate over each file in the directory\n",
    "    for filename in os.listdir(TEMP_FOLDER):\n",
    "        if filename.endswith('.csv'):\n",
    "            # Construct the full file path\n",
    "            file_path = os.path.join(TEMP_FOLDER, filename)\n",
    "            \n",
    "            # Read the CSV file into a pandas DataFrame\n",
    "            df = pd.read_csv(file_path)\n",
    "            \n",
    "            # Convert the filename to a valid Excel sheet name\n",
    "            sheet_name = filename.replace('.csv', '')[:31]\n",
    "            \n",
    "            # Write the DataFrame to a new sheet in the Excel file\n",
    "            df.to_excel(writer, sheet_name=sheet_name, index=False)\n",
    "\n",
    "print(f'All CSV files have been combined into {excel_file_path}')\n"
   ]
  }
 ],
 "metadata": {
  "kernelspec": {
   "display_name": "data_viz",
   "language": "python",
   "name": "python3"
  },
  "language_info": {
   "codemirror_mode": {
    "name": "ipython",
    "version": 3
   },
   "file_extension": ".py",
   "mimetype": "text/x-python",
   "name": "python",
   "nbconvert_exporter": "python",
   "pygments_lexer": "ipython3",
   "version": "3.12.1"
  }
 },
 "nbformat": 4,
 "nbformat_minor": 2
}
